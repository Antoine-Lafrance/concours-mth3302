{
 "cells": [
  {
   "cell_type": "markdown",
   "metadata": {},
   "source": [
    "# MTH3302 - Méthodes probabilistes et statistiques pour I.A.\n",
    "#### Polytechnique Montréal\n",
    "### Projet A2024\n",
    "----\n",
    "Équipe T - TODO\n",
    "### Objectif\n",
    "Prédiction de **la consommation en carburant de voitures récentes**.\n",
    "\n",
    "### Données\n",
    "Le jeu de données contient pour presque 400 véhicule, la consommation moyenne en L/100km, l'année de frabrication, le type de véhicule, le nombre de cylindre, cylindree, la transmission et la boite.\n",
    "\n",
    "- `train.csv` est l'ensemble d'entraînement\n",
    "- `test.csv` est l'ensemble de test\n"
   ]
  },
  {
   "cell_type": "markdown",
   "metadata": {},
   "source": [
    "## Chargement des données"
   ]
  },
  {
   "cell_type": "markdown",
   "metadata": {},
   "source": [
    "Importation des librairies utilisées dans le calepin."
   ]
  },
  {
   "cell_type": "markdown",
   "metadata": {},
   "source": [
    "// TODO: à enlever à la fin:\n",
    "\n",
    "Pour importer librairies:\n",
    "using Pkg\n",
    "Pkg.add([\"CSV\", \"DataFrames\", \"Combinatorics\", \"Gadfly\", \"Distributions\"], ...)"
   ]
  },
  {
   "cell_type": "code",
   "execution_count": 102,
   "metadata": {},
   "outputs": [],
   "source": [
    "# import Pkg; Pkg.add(\"Plots\")\n",
    "# import Pkg; Pkg.add(\"DecisionTree\")"
   ]
  },
  {
   "cell_type": "code",
   "execution_count": 103,
   "metadata": {},
   "outputs": [],
   "source": [
    "using CSV, DataFrames, Statistics, Dates, Gadfly, LinearAlgebra, DecisionTree,Random, Base"
   ]
  },
  {
   "cell_type": "code",
   "execution_count": 104,
   "metadata": {},
   "outputs": [
    {
     "data": {
      "text/plain": [
       "standardize_data (generic function with 1 method)"
      ]
     },
     "execution_count": 104,
     "metadata": {},
     "output_type": "execute_result"
    }
   ],
   "source": [
    "function standardize(data)\n",
    "    return (data .- mean(data)) ./ std(data)\n",
    "end\n",
    "\n",
    "function standardize_data(data)\n",
    "    stddata = deepcopy(data)\n",
    "   for col in names(stddata)\n",
    "        if eltype(stddata[!, col]) <: Number && col != \"id\"\n",
    "            stddata[!, col] = standardize(stddata[!, col])\n",
    "        end\n",
    "    end\n",
    "    return stddata\n",
    "end"
   ]
  },
  {
   "cell_type": "code",
   "execution_count": 105,
   "metadata": {},
   "outputs": [
    {
     "data": {
      "text/plain": [
       "encode_data (generic function with 1 method)"
      ]
     },
     "execution_count": 105,
     "metadata": {},
     "output_type": "execute_result"
    }
   ],
   "source": [
    "function encode(data, column)\n",
    "    for c in unique(data[!, column])\n",
    "        data[!, Symbol(c)] = ifelse.(data[!, column] .== c, 1, 0)\n",
    "    end\n",
    "    return data\n",
    "end\n",
    "\n",
    "function encode_data(data)\n",
    "    encoded_data = deepcopy(data)\n",
    "    encoded_data = encode(encoded_data, :general_type)\n",
    "    encoded_data = encode(encoded_data, :transmission)\n",
    "    encoded_data = encode(encoded_data, :boite)\n",
    "    return encoded_data\n",
    "end"
   ]
  },
  {
   "cell_type": "code",
   "execution_count": 106,
   "metadata": {},
   "outputs": [
    {
     "data": {
      "text/plain": [
       "removeRows (generic function with 1 method)"
      ]
     },
     "execution_count": 106,
     "metadata": {},
     "output_type": "execute_result"
    }
   ],
   "source": [
    "function removeRows(data)\n",
    "    return select!(data, Not([:type, :transmission, :boite, :annee]))\n",
    "end"
   ]
  },
  {
   "cell_type": "code",
   "execution_count": 107,
   "metadata": {},
   "outputs": [
    {
     "data": {
      "text/plain": [
       "add_rows (generic function with 1 method)"
      ]
     },
     "execution_count": 107,
     "metadata": {},
     "output_type": "execute_result"
    }
   ],
   "source": [
    "function add_rows(data)\n",
    "    data[!,:volume_gaz] = data[!,:nombre_cylindres] .* data[!,:cylindree]\n",
    "\n",
    "    # https://www.insurancenavy.com/average-car-weight/\n",
    "    # https://www.auto-tests.com/fr/lightest-weight/Wagon/all/\n",
    "    # weight_dict = Dict(\"voiture_moyenne\" => 3300, \"VUS_petit\" => 3500, \"voiture_compacte\" => 2800, \"voiture_deux_places\" => 2800, \"voiture_minicompacte\" => 1500, \"VUS_standard\" => 5000, \"monospace\" => 4500, \"voiture_sous_compacte\" => 2600, \"camionnette_petit\" => 4200, \"break_petit\" => 2640, \"voiture_grande\" => 4400, \"camionnette_standard\" => 4700, \"break_moyen\" => 3300)\n",
    "    # data[!, :weight] = [weight_dict[t] for t in data[!, :type]]\n",
    "\n",
    "    general_type_dict = Dict(\"voiture_moyenne\" => \"voiture\", \"VUS_petit\" => \"VUS\", \"voiture_compacte\" => \"voiture\", \"voiture_deux_places\" => \"voiture\", \"voiture_minicompacte\" => \"voiture\", \"VUS_standard\" => \"VUS\", \"monospace\" => \"camionnette\", \"voiture_sous_compacte\" => \"voiture\", \"camionnette_petit\" => \"camionnette\", \"break_petit\" => \"break\", \"voiture_grande\" => \"voiture\", \"camionnette_standard\" => \"camionnette\", \"break_moyen\" => \"break\")\n",
    "    data[!, :general_type] = [general_type_dict[t] for t in data[!, :type]]\n",
    "    \n",
    "    # display(plot(data, x=:general_type, y=:consommation, color=:type))\n",
    "    # println(combine(groupby(data, :type), nrow => :count))\n",
    "    return data\n",
    "end"
   ]
  },
  {
   "cell_type": "code",
   "execution_count": 108,
   "metadata": {},
   "outputs": [
    {
     "data": {
      "text/plain": [
       "getStandardEncodedData (generic function with 1 method)"
      ]
     },
     "execution_count": 108,
     "metadata": {},
     "output_type": "execute_result"
    }
   ],
   "source": [
    "function getStandardEncodedData(data)\n",
    "    data_copy = deepcopy(data)\n",
    "    standardised_data = add_rows(data_copy)\n",
    "    standardised_data = standardize_data(data_copy)\n",
    "    standardised_data = encode_data(standardised_data)\n",
    "    standardised_data = removeRows(standardised_data)\n",
    "    \n",
    "    print(standardised_data)\n",
    "    return standardised_data\n",
    "end\n",
    "\n",
    "\n"
   ]
  },
  {
   "cell_type": "code",
   "execution_count": 109,
   "metadata": {},
   "outputs": [
    {
     "data": {
      "text/plain": [
       "rmse (generic function with 1 method)"
      ]
     },
     "execution_count": 109,
     "metadata": {},
     "output_type": "execute_result"
    }
   ],
   "source": [
    "function rmse(y, ychap)\n",
    "    return sqrt(mean((ychap .- y).^2))\n",
    "end\n"
   ]
  },
  {
   "cell_type": "code",
   "execution_count": 110,
   "metadata": {},
   "outputs": [
    {
     "data": {
      "text/plain": [
       "rsquared (generic function with 1 method)"
      ]
     },
     "execution_count": 110,
     "metadata": {},
     "output_type": "execute_result"
    }
   ],
   "source": [
    "function rsquared(y, ychap)\n",
    "    ss_total = sum((y .- mean(y)).^2)\n",
    "    ss_res = sum((y .- ychap).^2)\n",
    "    return ss_res / ss_total\n",
    "end\n"
   ]
  },
  {
   "cell_type": "code",
   "execution_count": 111,
   "metadata": {},
   "outputs": [
    {
     "data": {
      "text/plain": [
       "train_test_split (generic function with 3 methods)"
      ]
     },
     "execution_count": 111,
     "metadata": {},
     "output_type": "execute_result"
    }
   ],
   "source": [
    "function train_test_split(data, test_size=0.2, shuffle=true)\n",
    "    n = size(data, 1)\n",
    "    test_size = floor(Int, n * test_size)\n",
    "    \n",
    "    if shuffle\n",
    "        indices = randperm(n)\n",
    "    else\n",
    "        indices = 1:n\n",
    "    end\n",
    "    \n",
    "    test_indices = indices[1:test_size]\n",
    "    train_indices = indices[test_size+1:end]\n",
    "    \n",
    "    train_data = data[train_indices, :]\n",
    "    test_data = data[test_indices, :]\n",
    "    \n",
    "    return train_data, test_data\n",
    "end"
   ]
  },
  {
   "cell_type": "code",
   "execution_count": 112,
   "metadata": {},
   "outputs": [
    {
     "data": {
      "text/plain": [
       "25-element Vector{Float64}:\n",
       " 13.8358823529412\n",
       "  9.80041666666667\n",
       " 11.7605\n",
       " 13.0672222222222\n",
       "  7.3503125\n",
       "  7.58741935483871\n",
       " 11.2004761904762\n",
       " 14.700625\n",
       " 12.3794736842105\n",
       " 10.6913636363636\n",
       "  9.4084\n",
       " 15.6806666666667\n",
       "  8.71148148148148\n",
       "  8.11068965517241\n",
       " 10.2265217391304\n",
       "  7.84033333333333\n",
       "  8.40035714285714\n",
       "  9.04653846153846\n",
       " 16.8007142857143\n",
       "  6.91794117647059\n",
       "  6.35702702702703\n",
       "  4.52326923076923\n",
       "  7.12757575757576\n",
       "  4.90020833333333\n",
       "  6.53361111111111"
      ]
     },
     "execution_count": 112,
     "metadata": {},
     "output_type": "execute_result"
    }
   ],
   "source": [
    "trainData = CSV.read(\"./data/train.csv\", DataFrame)\n",
    "testData = CSV.read(\"./data/test.csv\", DataFrame)\n",
    "trainData.consommation = parse.(Float64,replace.(trainData.consommation, \",\" => \".\"))\n",
    "trainData.cylindree = parse.(Float64,replace.(trainData.cylindree, \",\" => \".\"))\n",
    "testData.cylindree = parse.(Float64,replace.(testData.cylindree, \",\" => \".\"))\n",
    "\n",
    "\n",
    "COMSOMMATION_MEAN = mean(trainData.consommation)\n",
    "COMSOMMATION_STD = std(trainData.consommation)\n",
    "trainData[!, :id] = 1:nrow(trainData)\n",
    "testData[!, :id] = 1:nrow(testData)\n",
    "\n",
    "possibles = unique(trainData.consommation)\n"
   ]
  },
  {
   "cell_type": "code",
   "execution_count": 113,
   "metadata": {},
   "outputs": [
    {
     "data": {
      "text/plain": [
       "evaluate_rmse (generic function with 1 method)"
      ]
     },
     "execution_count": 113,
     "metadata": {},
     "output_type": "execute_result"
    }
   ],
   "source": [
    "function evaluate_rmse(data)\n",
    "    nrange = 1000\n",
    "    n = 0\n",
    "    for i in range(0, 1, length=nrange)\n",
    "        n += regression(data)[1]\n",
    "    end\n",
    "    print(\"average rmse for regression: \", n/nrange, \"\\n\")\n",
    "\n",
    "    # n = 0\n",
    "    # for i in range(0, 1, length=nrange)\n",
    "    #     n += ridge_regression(data, 0.1, 0.05)[1]\n",
    "    # end\n",
    "    # print(\"average rmse for ridge: \", n/nrange, \"\\n\")\n",
    "\n",
    "    # n = 0\n",
    "    # for i in range(0, 1, length=nrange)\n",
    "    #     n += svd_regression(data, 0.05)[1]\n",
    "    # end\n",
    "    # print(\"average rmse for svd: \", n/nrange, \"\\n\")\n",
    "\n",
    "    # nrange = 1000\n",
    "    # n = 0\n",
    "    # for i in range(0, 1, length=nrange)\n",
    "    #     n += polynomial_regression(data,2, 0.05)[1]\n",
    "    # end\n",
    "    # print(\"average rmse for polynomial regression: \", n/nrange, \"\\n\")\n",
    "\n",
    "end\n"
   ]
  },
  {
   "cell_type": "code",
   "execution_count": 114,
   "metadata": {},
   "outputs": [
    {
     "data": {
      "text/plain": [
       "format_file (generic function with 1 method)"
      ]
     },
     "execution_count": 114,
     "metadata": {},
     "output_type": "execute_result"
    }
   ],
   "source": [
    "function remise(prediction)\n",
    "    id = 1:150\n",
    "    df_pred = DataFrame(id=id, consommation=prediction)\n",
    "\n",
    "   format_file(df_pred)\n",
    "end\n",
    "\n",
    "function format_file(predictions)\n",
    "    println(predictions)\n",
    "    current_time = Dates.format(now(), \"yyyy-mm-dd_HH-MM-SS\")\n",
    "    file_name = \"benchmark_\" * current_time * \".csv\"\n",
    "    CSV.write(\"./soumissions_potentielles/\" *file_name, predictions)\n",
    "end"
   ]
  },
  {
   "cell_type": "code",
   "execution_count": 115,
   "metadata": {},
   "outputs": [],
   "source": [
    "# findnearest(A::Vector{Float64},t::Float64) = A[findmin(broadcast(abs,A.-t))[2]]\n",
    "\n",
    "# function findnearest(A::Vector{Float64},t::Float64)\n",
    "#     nearest_value = A[1]\n",
    "#     smallest_diff = abs(A[1] - t)\n",
    "#     for value in A\n",
    "#         diff = abs(value - t)\n",
    "#         if diff < smallest_diff\n",
    "#             smallest_diff = diff\n",
    "#             nearest_value = value\n",
    "#         end\n",
    "#     end\n",
    "#     if smallest_diff > 0.3\n",
    "#         # println(\"Warning: the nearest value is \", nearest_value, \" the value was \", t,\" with a difference of \", smallest_diff)\n",
    "#     end\n",
    "#     return nearest_value\n",
    "    \n",
    "# end\n"
   ]
  },
  {
   "cell_type": "code",
   "execution_count": 116,
   "metadata": {},
   "outputs": [
    {
     "data": {
      "text/plain": [
       "predict_with_dups (generic function with 2 methods)"
      ]
     },
     "execution_count": 116,
     "metadata": {},
     "output_type": "execute_result"
    }
   ],
   "source": [
    "COLUMNS_TO_COMPARE = [\"type\", \"nombre_cylindres\", \"cylindree\", \"transmission\", \"boite\"]\n",
    "\n",
    "function get_unique_data(data)\n",
    "    unique_data = combine(groupby(data, COLUMNS_TO_COMPARE), :consommation => mean, :annee => first)\n",
    "    rename!(unique_data, :consommation_mean => :consommation)\n",
    "    rename!(unique_data, :annee_first => :annee)\n",
    "    return unique_data\n",
    "end\n",
    "\n",
    "function find_pairs(data_train, data_predict)\n",
    "    train_data_without_consommation = select(data_train, Not(:consommation, :annee))\n",
    "    # print(train_data_without_consommation)\n",
    "    predict_data_without_annee = select(data_predict, Not(:annee))\n",
    "    # print(predict_data_without_annee)\n",
    "\n",
    "    common_values = innerjoin(data_train, predict_data_without_annee, on=names(train_data_without_consommation))\n",
    "\n",
    "    println(common_values.id)\n",
    "    # print(common_values)\n",
    "    return common_values\n",
    "end\n",
    "\n",
    "function find_differents(data_train, data_predict)\n",
    "    different_values = antijoin(data_predict, data_train, on=COLUMNS_TO_COMPARE)\n",
    "    return different_values\n",
    "    \n",
    "end\n",
    "\n",
    "function predict_with_dups(data_train, raw_data_train, raw_data_predict)\n",
    "    pairs = find_pairs(raw_data_train, raw_data_predict)\n",
    "    pairs = select(pairs, [:id, :consommation])\n",
    "\n",
    "    # println(first(raw_data_train,1))\n",
    "    # println(first(raw_data_predict,1))\n",
    "\n",
    "    # println(pairs)\n",
    "\n",
    "    different_values = find_differents(raw_data_train, raw_data_predict)\n",
    "    # println(different_values)\n",
    "\n",
    "    beta = regression(data_train, 0.0)[2]\n",
    "\n",
    "    data_predict = getStandardEncodedData(different_values[!, Not(:id)])\n",
    "\n",
    "\n",
    "    data_predict = Matrix(data_predict[:, names(data_train[:, Not(:consommation)])])\n",
    "\n",
    "    model = DecisionTree.RandomForestRegressor()\n",
    "\n",
    "    #= fit!(model, Matrix(data_train[!, Not(:consommation)]), data_train.consommation)\n",
    "    #now preditcy\n",
    "    prediction_differents = DecisionTree.predict(model, data_predict) =#\n",
    "\n",
    "    prediction_differents = data_predict * beta\n",
    " \n",
    "    # print(prediction)\n",
    "\n",
    "\n",
    "    prediction_differents = (prediction_differents .* COMSOMMATION_STD) .+ COMSOMMATION_MEAN\n",
    "\n",
    "    prediction_differents = DataFrame(id=different_values.id, consommation=prediction_differents)\n",
    "\n",
    "    # print(prediction_differents)\n",
    "    # print(pairs)\n",
    "\n",
    "    prediction = vcat(pairs, prediction_differents)\n",
    "    prediction = sort(prediction, :id)\n",
    "    # println(prediction)\n",
    "\n",
    "    # print(prediction)\n",
    "    return prediction\n",
    "end\n",
    "    \n",
    "    "
   ]
  },
  {
   "cell_type": "code",
   "execution_count": 117,
   "metadata": {},
   "outputs": [
    {
     "data": {
      "text/plain": [
       "linear_regression (generic function with 1 method)"
      ]
     },
     "execution_count": 117,
     "metadata": {},
     "output_type": "execute_result"
    }
   ],
   "source": [
    "function linear_regression(data, x_col, y_col)\n",
    "    # Extract x and y data from the DataFrame\n",
    "    x = data[!, x_col]\n",
    "    y = data[!, y_col]\n",
    "    \n",
    "    # Ensure there is enough data for the calculation\n",
    "    n = length(x)\n",
    "    if n == 0\n",
    "        error(\"Cannot compute linear regression with zero elements.\")\n",
    "    end\n",
    "    \n",
    "    # Calculate the mean values\n",
    "    x_mean = mean(x)\n",
    "    y_mean = mean(y)\n",
    "    \n",
    "    # Calculate slope and intercept for linear regression\n",
    "    slope = sum((x .- x_mean) .* (y .- y_mean)) / sum((x .- x_mean).^2)\n",
    "    intercept = y_mean - slope * x_mean\n",
    "    \n",
    "    return slope, intercept\n",
    "end"
   ]
  },
  {
   "cell_type": "code",
   "execution_count": 118,
   "metadata": {},
   "outputs": [
    {
     "data": {
      "text/plain": [
       "get_outliers_ind_regression_lin (generic function with 1 method)"
      ]
     },
     "execution_count": 118,
     "metadata": {},
     "output_type": "execute_result"
    }
   ],
   "source": [
    "\n",
    "function get_outliers_ind_regression_lin(data, x_col, y_col; threshold=2.5)\n",
    "    slope, intercept = linear_regression(data, x_col, y_col)\n",
    "    \n",
    "    x = data[!, x_col]\n",
    "    y = data[!, y_col]\n",
    "    \n",
    "    y_pred = slope .* x .+ intercept\n",
    "    \n",
    "    residuals = abs.(y .- y_pred)\n",
    "    \n",
    "    residuals_std = std(residuals)\n",
    "    \n",
    "    outlier_indices = findall(residuals .> threshold * residuals_std)\n",
    "    \n",
    "\n",
    "    for idx in outlier_indices\n",
    "        # println(\"Outlier detected at row $idx: \", \"x = \", x[idx], \", y = \", y[idx], \", Residual = \", residuals[idx])\n",
    "    end\n",
    "\n",
    "    outliers = data[outlier_indices, :]\n",
    "    \n",
    "    return outlier_indices\n",
    "end\n"
   ]
  },
  {
   "cell_type": "code",
   "execution_count": 119,
   "metadata": {},
   "outputs": [],
   "source": [
    "function get_outliers_regression_lin(data, outliers_indices)\n",
    "    outliers = data[outliers_indices, :]\n",
    "    return outliers\n",
    "end;"
   ]
  },
  {
   "cell_type": "code",
   "execution_count": 120,
   "metadata": {},
   "outputs": [
    {
     "data": {
      "text/plain": [
       "remove_outliers_regression_lin (generic function with 1 method)"
      ]
     },
     "execution_count": 120,
     "metadata": {},
     "output_type": "execute_result"
    }
   ],
   "source": [
    "function remove_outliers_regression_lin(data::DataFrame, x_col::Symbol, y_col::Symbol; threshold=2.5)\n",
    "    outlier_indices = get_outliers_ind_regression_lin(data, x_col, y_col, threshold=threshold)\n",
    "\n",
    "    # println(\"Outlier Indices Identified: \", outlier_indices)\n",
    "\n",
    "    keep_mask = trues(nrow(data))\n",
    "    \n",
    "    if !isempty(outlier_indices)\n",
    "        keep_mask[outlier_indices] .= false\n",
    "    end\n",
    "\n",
    "    cleaned_data = data[keep_mask, :]\n",
    "    \n",
    "    return cleaned_data\n",
    "end"
   ]
  },
  {
   "cell_type": "code",
   "execution_count": 121,
   "metadata": {},
   "outputs": [
    {
     "data": {
      "text/plain": [
       "plot_outliers (generic function with 1 method)"
      ]
     },
     "execution_count": 121,
     "metadata": {},
     "output_type": "execute_result"
    }
   ],
   "source": [
    " function plot_outliers(uniqueD)\n",
    " # Step 2: Find and Display Outliers with Regression\n",
    " outliers_indices = get_outliers_ind_regression_lin(uniqueD, :cylindree, :consommation)\n",
    " outliers_regression = get_outliers_regression_lin(uniqueD, outliers_indices)\n",
    "\n",
    " # Step 3: Plot Original Data, Regression Line, and Outliers\n",
    " slope, intercept = linear_regression(uniqueD, :cylindree, :consommation)\n",
    " regression_line_y = slope .* uniqueD.cylindree .+ intercept\n",
    "\n",
    " layer_original = layer(x=uniqueD.cylindree, y=uniqueD.consommation, color=uniqueD.type, Theme(default_color=\"blue\"))\n",
    " layer_linear_regression = layer(x=uniqueD.cylindree, y=regression_line_y, Geom.line, Theme(default_color=\"green\"))\n",
    " layer_regression_outliers = layer(x=outliers_regression.cylindree, y=outliers_regression.consommation, Geom.point, Theme(default_color=\"red\"))\n",
    "\n",
    " \n",
    " display(plot(layer_regression_outliers, layer_original, layer_linear_regression, Guide.xlabel(\"Cylindree\"), Guide.ylabel(\"Consommation\"), Guide.title(\"Original Data with Outliers\")))\n",
    "\n",
    " # Step 4: Remove Outliers Based on Regression Line\n",
    " cleaned_data = remove_outliers_regression_lin(uniqueD, :cylindree, :consommation, threshold=2.5)\n",
    "\n",
    " # Step 5: Plot Cleaned Data with New Regression Line\n",
    " slope_cleaned, intercept_cleaned = linear_regression(cleaned_data, :cylindree, :consommation)\n",
    " regression_line_y_cleaned = slope_cleaned .* cleaned_data.cylindree .+ intercept_cleaned\n",
    "\n",
    "layer_cleaned = layer(x=cleaned_data.cylindree, y=cleaned_data.consommation, color=cleaned_data.type, Theme(default_color=\"blue\"))\n",
    "layer_linear_regression_cleaned = layer(x=cleaned_data.cylindree, y=regression_line_y_cleaned, Geom.line, Theme(default_color=\"green\"))\n",
    "\n",
    "# Display plot for cleaned data\n",
    "display(plot(layer_cleaned, layer_linear_regression_cleaned, \n",
    "             Guide.xlabel(\"Cylindree\"), Guide.ylabel(\"Consommation\"), Guide.title(\"Cleaned Data with Regression Line\")))\n",
    "\n",
    "end"
   ]
  },
  {
   "cell_type": "code",
   "execution_count": 125,
   "metadata": {},
   "outputs": [
    {
     "data": {
      "text/plain": [
       "regression (generic function with 2 methods)"
      ]
     },
     "execution_count": 125,
     "metadata": {},
     "output_type": "execute_result"
    }
   ],
   "source": [
    "function regression(standardised_data, trainTestSplitPercentage = 0.2)\n",
    "    training_data, test_data = train_test_split(standardised_data, trainTestSplitPercentage)\n",
    "\n",
    "    X_train =  Matrix(training_data[:, Not(:consommation)])\n",
    "    y_train = training_data[:, :consommation]\n",
    "\n",
    "    beta = X_train \\ y_train\n",
    "\n",
    "    rmseval = 0.0\n",
    "    if trainTestSplitPercentage != 0.0\n",
    "        X_test = Matrix(test_data[:, Not(:consommation)])\n",
    "        y_test = test_data[:, :consommation]\n",
    "        ychap =  X_test * beta\n",
    "        ychap = (ychap .* COMSOMMATION_STD) .+ COMSOMMATION_MEAN\n",
    "        y_test = (y_test .* COMSOMMATION_STD) .+ COMSOMMATION_MEAN\n",
    "        rmseval = rmse(y_test, ychap)\n",
    "    end\n",
    "    \n",
    "    return rmseval, beta, training_data, test_data\n",
    "end"
   ]
  },
  {
   "cell_type": "code",
   "execution_count": 123,
   "metadata": {},
   "outputs": [
    {
     "data": {
      "text/plain": [
       "remise_regression (generic function with 1 method)"
      ]
     },
     "execution_count": 123,
     "metadata": {},
     "output_type": "execute_result"
    }
   ],
   "source": [
    "function remise_regression(beta)\n",
    "    test_data = getStandardEncodedData(testData)\n",
    "    X_test = Matrix(test_data[!,Not(:id)])\n",
    "    ychap =  X_test * beta\n",
    "    # ychap = (ychap .* COMSOMMATION_STD) .+ COMSOMMATION_MEAN\n",
    "    remise(ychap)\n",
    "end\n"
   ]
  },
  {
   "cell_type": "code",
   "execution_count": 124,
   "metadata": {},
   "outputs": [
    {
     "name": "stdout",
     "output_type": "stream",
     "text": [
      "\u001b[1m135×15 DataFrame\u001b[0m\n",
      "\u001b[1m Row \u001b[0m│\u001b[1m nombre_cylindres \u001b[0m\u001b[1m cylindree  \u001b[0m\u001b[1m consommation \u001b[0m\u001b[1m volume_gaz \u001b[0m\u001b[1m general_type \u001b[0m\u001b[1m voiture \u001b[0m\u001b[1m VUS   \u001b[0m\u001b[1m camionnette \u001b[0m\u001b[1m break \u001b[0m\u001b[1m integrale \u001b[0m\u001b[1m propulsion \u001b[0m\u001b[1m traction \u001b[0m\u001b[1m 4x4   \u001b[0m\u001b[1m automatique \u001b[0m\u001b[1m manuelle \u001b[0m\n",
      "     │\u001b[90m Float64          \u001b[0m\u001b[90m Float64    \u001b[0m\u001b[90m Float64      \u001b[0m\u001b[90m Float64    \u001b[0m\u001b[90m String       \u001b[0m\u001b[90m Int64   \u001b[0m\u001b[90m Int64 \u001b[0m\u001b[90m Int64       \u001b[0m\u001b[90m Int64 \u001b[0m\u001b[90m Int64     \u001b[0m\u001b[90m Int64      \u001b[0m\u001b[90m Int64    \u001b[0m\u001b[90m Int64 \u001b[0m\u001b[90m Int64       \u001b[0m\u001b[90m Int64    \u001b[0m\n",
      "─────┼─────────────────────────────────────────────────────────────────────────────────────────────────────────────────────────────────────────────────────────────────────────\n",
      "   1 │         1.40186    1.0181       1.14663      1.13288    voiture             1      0            0      0          1           0         0      0            1         0\n",
      "   2 │        -0.811606  -0.799335    -0.170046    -0.758259   VUS                 0      1            0      0          1           0         0      0            1         0\n",
      "   3 │         0.295129   0.185109     0.448869     0.0621625  voiture             1      0            0      0          0           1         0      0            1         0\n",
      "   4 │         1.40186    1.47246      1.17575      1.46661    voiture             1      0            0      0          1           0         0      0            1         0\n",
      "   5 │        -1.36497   -1.17797     -1.37654     -1.0016     voiture             1      0            0      0          0           0         1      0            1         0\n",
      "   6 │        -1.36497   -1.17797     -1.33454     -1.0016     voiture             1      0            0      0          0           0         1      0            0         1\n",
      "   7 │         0.295129   0.563742     0.320596     0.270744   VUS                 0      1            0      0          1           0         0      0            1         0\n",
      "   8 │         0.295129   0.185109     0.586143     0.0621625  camionnette         0      0            1      0          0           0         1      0            1         0\n",
      "   9 │         1.40186    1.47246      1.92401      1.46661    VUS                 0      1            0      0          0           0         0      1            1         0\n",
      "  10 │         0.295129  -0.0420703    0.190856    -0.0629865  voiture             1      0            0      0          0           1         0      0            1         0\n",
      "  11 │         0.295129  -0.0420703    0.00993906  -0.0629865  voiture             1      0            0      0          0           1         0      0            1         0\n",
      "  12 │         0.295129   0.412289     0.320596     0.187312   camionnette         0      0            1      0          0           1         0      0            1         0\n",
      "  13 │        -0.811606  -0.799335    -0.108535    -0.758259   voiture             1      0            0      0          0           1         0      0            0         1\n",
      "  14 │         1.40186    1.47246      1.17575      1.46661    VUS                 0      1            0      0          1           0         0      0            1         0\n",
      "  15 │         0.295129  -0.0420703    0.320596    -0.0629865  voiture             1      0            0      0          1           0         0      0            1         0\n",
      "  16 │        -0.811606  -0.420703    -0.839304    -0.619205   VUS                 0      1            0      0          0           0         1      0            1         0\n",
      "  17 │         0.295129   0.563742     0.860692     0.270744   voiture             1      0            0      0          1           0         0      0            1         0\n",
      "  18 │         3.61534    2.154        2.37296      3.60805    voiture             1      0            0      0          0           1         0      0            1         0\n",
      "  19 │        -0.811606  -0.799335    -0.781234    -0.758259   voiture             1      0            0      0          1           0         0      0            1         0\n",
      "  20 │         1.40186    2.38118      1.92401      2.13407    VUS                 0      1            0      0          0           0         0      1            1         0\n",
      "  21 │         0.295129  -0.0420703   -0.220211    -0.0629865  voiture             1      0            0      0          1           0         0      0            1         0\n",
      "  22 │        -0.811606  -1.10224     -1.09483     -0.869503   break               0      0            0      1          0           0         1      0            1         0\n",
      "  23 │         0.295129   0.336562    -0.12557      0.145595   voiture             1      0            0      0          0           0         1      0            1         0\n",
      "  24 │        -0.811606  -0.496429    -0.0482515   -0.647015   VUS                 0      1            0      0          1           0         0      0            1         0\n",
      "  25 │        -0.811606  -0.799335    -0.549646    -0.758259   VUS                 0      1            0      0          0           0         1      0            1         0\n",
      "  26 │        -0.811606  -0.799335    -0.946208    -0.758259   VUS                 0      1            0      0          0           0         1      0            0         1\n",
      "  27 │        -0.811606  -0.420703    -0.443894    -0.619205   VUS                 0      1            0      0          1           0         0      0            1         0\n",
      "  28 │        -0.811606  -0.799335    -0.742862    -0.758259   voiture             1      0            0      0          1           0         0      0            1         0\n",
      "  29 │        -0.811606  -0.799335    -1.27661     -0.758259   break               0      0            0      1          0           0         1      0            1         0\n",
      "  30 │         3.61534    2.22972      2.37296      3.69148    VUS                 0      1            0      0          1           0         0      0            1         0\n",
      "  31 │        -0.811606  -0.799335    -0.819606    -0.758259   voiture             1      0            0      0          1           0         0      0            0         1\n",
      "  32 │        -0.811606  -0.799335    -1.05944     -0.758259   voiture             1      0            0      0          0           0         1      0            1         0\n",
      "  33 │         1.40186    0.866648     1.52787      1.02164    voiture             1      0            0      0          1           0         0      0            1         0\n",
      "  34 │        -0.811606  -0.799335    -0.867115    -0.758259   voiture             1      0            0      0          0           1         0      0            1         0\n",
      "  35 │         1.40186    1.32101      1.52787      1.35537    VUS                 0      1            0      0          1           0         0      0            1         0\n",
      "  36 │         0.295129   0.488015    -0.12557      0.229028   voiture             1      0            0      0          0           1         0      0            1         0\n",
      "  37 │         1.40186    1.0181       1.11505      1.13288    voiture             1      0            0      0          1           0         0      0            1         0\n",
      "  38 │        -1.36497   -1.32942     -0.962132    -1.04332    VUS                 0      1            0      0          1           0         0      0            1         0\n",
      "  39 │         2.5086     1.62391      1.79196      2.30094    voiture             1      0            0      0          1           0         0      0            1         0\n",
      "  40 │        -0.811606  -0.799335    -0.666118    -0.758259   voiture             1      0            0      0          0           1         0      0            1         0\n",
      "  41 │         1.40186    1.47246      0.986714     1.46661    voiture             1      0            0      0          0           1         0      0            1         0\n",
      "  42 │         0.295129   0.185109     0.577142     0.0621625  voiture             1      0            0      0          1           0         0      0            1         0\n",
      "  43 │        -0.811606  -0.799335    -1.17473     -0.758259   voiture             1      0            0      0          0           0         1      0            1         0\n",
      "  44 │         1.40186    1.47246      1.52787      1.46661    voiture             1      0            0      0          0           1         0      0            0         1\n",
      "  45 │         0.295129  -0.0420703    0.0873729   -0.0629865  break               0      0            0      1          1           0         0      0            1         0\n",
      "  46 │         0.295129   0.185109     0.577142     0.0621625  voiture             1      0            0      0          1           0         0      0            1         0\n",
      "  47 │        -1.36497   -1.17797     -1.416       -1.0016     voiture             1      0            0      0          0           0         1      0            1         0\n",
      "  48 │        -1.36497   -1.17797     -1.33454     -1.0016     voiture             1      0            0      0          0           0         1      0            0         1\n",
      "  49 │        -0.811606  -0.950788    -1.09483     -0.813881   VUS                 0      1            0      0          1           0         0      0            1         0\n",
      "  50 │        -0.811606  -0.496429    -0.392756    -0.647015   VUS                 0      1            0      0          0           0         1      0            1         0\n",
      "  51 │        -0.811606  -1.10224     -1.09188     -0.869503   voiture             1      0            0      0          0           0         1      0            0         1\n",
      "  52 │        -1.36497   -1.17797     -0.962132    -1.0016     voiture             1      0            0      0          0           0         1      0            1         0\n",
      "  53 │        -0.811606  -1.25369     -1.64122     -0.925124   voiture             1      0            0      0          0           0         1      0            1         0\n",
      "  54 │        -0.811606  -1.10224     -1.35889     -0.869503   VUS                 0      1            0      0          1           0         0      0            1         0\n",
      "  55 │         0.295129   0.109383     0.320596     0.0204462  VUS                 0      1            0      0          0           0         0      1            1         0\n",
      "  56 │         1.40186    1.69964      1.17575      1.63348    VUS                 0      1            0      0          0           0         0      1            1         0\n",
      "  57 │        -0.811606  -0.799335    -0.406948    -0.758259   voiture             1      0            0      0          1           0         0      0            1         0\n",
      "  58 │        -0.811606  -0.799335    -0.70449     -0.758259   voiture             1      0            0      0          0           0         1      0            0         1\n",
      "  59 │        -0.811606  -0.420703    -0.666118    -0.619205   VUS                 0      1            0      0          0           0         0      1            1         0\n",
      "  60 │        -0.811606  -0.799335    -0.819606    -0.758259   VUS                 0      1            0      0          0           0         0      1            1         0\n",
      "  61 │         0.295129   0.185109     0.325261     0.0621625  VUS                 0      1            0      0          0           0         1      0            1         0\n",
      "  62 │         0.295129  -0.0420703    0.413885    -0.0629865  VUS                 0      1            0      0          0           0         0      1            1         0\n",
      "  63 │         0.295129  -0.0420703   -0.141186    -0.0629865  voiture             1      0            0      0          0           1         0      0            1         0\n",
      "  64 │        -0.811606  -0.799335    -1.0904      -0.758259   voiture             1      0            0      0          0           0         1      0            1         0\n",
      "  65 │         0.295129   0.336562     0.203984     0.145595   VUS                 0      1            0      0          1           0         0      0            1         0\n",
      "  66 │         0.295129   0.563742     0.320596     0.270744   VUS                 0      1            0      0          1           0         0      0            1         0\n",
      "  67 │        -0.811606  -0.420703    -0.50035     -0.619205   voiture             1      0            0      0          0           1         0      0            1         0\n",
      "  68 │        -0.811606  -0.420703     0.0873729   -0.619205   camionnette         0      0            1      0          0           1         0      0            1         0\n",
      "  69 │         1.40186    2.38118      1.52787      2.13407    VUS                 0      1            0      0          0           1         0      0            1         0\n",
      "  70 │        -0.811606  -0.799335    -0.797679    -0.758259   voiture             1      0            0      0          0           0         1      0            0         1\n",
      "  71 │         0.295129   0.336562    -0.12557      0.145595   voiture             1      0            0      0          0           0         1      0            1         0\n",
      "  72 │         0.295129   0.563742     0.203984     0.270744   voiture             1      0            0      0          0           1         0      0            1         0\n",
      "  73 │        -1.36497   -1.40515     -1.09483     -1.06418    VUS                 0      1            0      0          0           0         1      0            1         0\n",
      "  74 │        -0.811606  -1.10224     -1.44315     -0.869503   VUS                 0      1            0      0          0           0         1      0            1         0\n",
      "  75 │        -0.811606  -0.950788    -1.54519     -0.813881   voiture             1      0            0      0          0           0         1      0            0         1\n",
      "  76 │        -0.258238  -0.420703    -0.12557     -0.445386   voiture             1      0            0      0          1           0         0      0            1         0\n",
      "  77 │         0.295129  -0.0420703   -0.320768    -0.0629865  voiture             1      0            0      0          0           1         0      0            1         0\n",
      "  78 │         0.295129   0.336562     0.0873729    0.145595   camionnette         0      0            1      0          0           0         1      0            1         0\n",
      "  79 │        -0.811606  -0.496429    -0.0898768   -0.647015   VUS                 0      1            0      0          0           0         1      0            0         1\n",
      "  80 │        -0.811606  -0.799335    -1.12247     -0.758259   voiture             1      0            0      0          0           0         1      0            0         1\n",
      "  81 │        -0.811606  -0.950788    -1.33454     -0.813881   VUS                 0      1            0      0          0           0         1      0            1         0\n",
      "  82 │         0.295129  -0.0420703    0.246094    -0.0629865  voiture             1      0            0      0          1           0         0      0            1         0\n",
      "  83 │        -0.811606  -1.10224     -1.21668     -0.869503   voiture             1      0            0      0          0           0         1      0            1         0\n",
      "  84 │        -0.811606  -1.17797     -0.819606    -0.897314   VUS                 0      1            0      0          0           0         1      0            1         0\n",
      "  85 │         1.40186    1.47246      1.17575      1.46661    voiture             1      0            0      0          0           1         0      0            1         0\n",
      "  86 │         1.40186    2.83554      2.88605      2.46781    voiture             1      0            0      0          0           1         0      0            1         0\n",
      "  87 │        -0.811606  -0.420703     0.0873729   -0.619205   VUS                 0      1            0      0          1           0         0      0            1         0\n",
      "  88 │        -0.811606  -0.420703    -1.09483     -0.619205   voiture             1      0            0      0          0           0         1      0            0         1\n",
      "  89 │         1.40186    1.0181       0.860692     1.13288    voiture             1      0            0      0          1           0         0      0            1         0\n",
      "  90 │         0.295129   0.336562     0.0873729    0.145595   camionnette         0      0            1      0          0           0         1      0            1         0\n",
      "  91 │        -0.811606  -0.799335    -0.962132    -0.758259   voiture             1      0            0      0          0           1         0      0            1         0\n",
      "  92 │         1.40186    2.00254      1.52787      1.85597    camionnette         0      0            1      0          0           0         0      1            1         0\n",
      "  93 │         1.40186    1.47246      1.52787      1.46661    voiture             1      0            0      0          0           1         0      0            1         0\n",
      "  94 │         0.295129   0.185109     0.671658     0.0621625  VUS                 0      1            0      0          1           0         0      0            1         0\n",
      "  95 │        -0.811606  -0.799335    -0.78426     -0.758259   voiture             1      0            0      0          0           1         0      0            1         0\n",
      "  96 │         1.40186    2.00254      1.52787      1.85597    camionnette         0      0            1      0          0           1         0      0            1         0\n",
      "  97 │         0.295129   0.563742     0.577142     0.270744   voiture             1      0            0      0          1           0         0      0            1         0\n",
      "  98 │        -0.811606  -0.799335    -0.223169    -0.758259   voiture             1      0            0      0          1           0         0      0            0         1\n",
      "  99 │         0.295129   0.488015     0.0873729    0.229028   voiture             1      0            0      0          0           1         0      0            0         1\n",
      " 100 │         0.295129   0.185109     0.577142     0.0621625  VUS                 0      1            0      0          0           0         0      1            1         0\n",
      " 101 │        -1.36497   -1.40515     -1.21868     -1.06418    break               0      0            0      1          0           0         1      0            1         0\n",
      " 102 │         0.295129  -0.0420703    0.320596    -0.0629865  VUS                 0      1            0      0          1           0         0      0            1         0\n",
      " 103 │         0.295129  -0.0420703   -0.116697    -0.0629865  voiture             1      0            0      0          1           0         0      0            1         0\n",
      " 104 │         0.295129   0.336562    -0.12557      0.145595   VUS                 0      1            0      0          0           0         1      0            1         0\n",
      " 105 │         0.295129   0.185109     0.577142     0.0621625  voiture             1      0            0      0          0           1         0      0            1         0\n",
      " 106 │        -0.811606  -0.420703    -0.320768    -0.619205   voiture             1      0            0      0          1           0         0      0            1         0\n",
      " 107 │        -0.811606  -0.420703    -0.320768    -0.619205   VUS                 0      1            0      0          1           0         0      0            0         1\n",
      " 108 │        -0.811606  -0.799335    -1.33534     -0.758259   voiture             1      0            0      0          0           0         1      0            1         0\n",
      " 109 │         0.295129  -0.0420703    0.491626    -0.0629865  VUS                 0      1            0      0          1           0         0      0            1         0\n",
      " 110 │         0.295129   0.185109     0.577142     0.0621625  voiture             1      0            0      0          0           1         0      0            1         0\n",
      " 111 │         1.40186    2.53263      2.37296      2.24532    VUS                 0      1            0      0          0           0         0      1            1         0\n",
      " 112 │         0.295129  -0.0420703    0.320596    -0.0629865  break               0      0            0      1          1           0         0      0            1         0\n",
      " 113 │        -1.36497   -1.40515     -1.81728     -1.06418    voiture             1      0            0      0          0           0         1      0            0         1\n",
      " 114 │         0.295129   0.185109     0.577142     0.0621625  voiture             1      0            0      0          1           0         0      0            1         0\n",
      " 115 │        -0.811606  -0.950788    -0.962132    -0.813881   VUS                 0      1            0      0          0           0         1      0            0         1\n",
      " 116 │         1.40186    1.0181       0.860692     1.13288    voiture             1      0            0      0          1           0         0      0            1         0\n",
      " 117 │        -0.258238  -0.420703    -0.12557     -0.445386   break               0      0            0      1          1           0         0      0            1         0\n",
      " 118 │         0.295129   0.109383     0.0873729    0.0204462  VUS                 0      1            0      0          1           0         0      0            1         0\n",
      " 119 │         0.295129  -0.0420703    0.577142    -0.0629865  voiture             1      0            0      0          0           1         0      0            0         1\n",
      " 120 │        -0.811606  -0.496429    -0.12557     -0.647015   VUS                 0      1            0      0          0           0         0      1            1         0\n",
      " 121 │         1.40186    1.69964      1.17575      1.63348    VUS                 0      1            0      0          0           1         0      0            1         0\n",
      " 122 │         1.40186    1.0181       0.577142     1.13288    voiture             1      0            0      0          0           1         0      0            1         0\n",
      " 123 │        -0.811606  -0.496429    -0.50035     -0.647015   VUS                 0      1            0      0          0           0         0      1            0         1\n",
      " 124 │         0.295129   0.109383    -0.12557      0.0204462  VUS                 0      1            0      0          0           0         1      0            1         0\n",
      " 125 │        -1.36497   -1.17797     -0.666118    -1.0016     voiture             1      0            0      0          1           0         0      0            1         0\n",
      " 126 │         0.295129   0.412289     0.474032     0.187312   VUS                 0      1            0      0          0           0         1      0            1         0\n",
      " 127 │        -0.811606  -0.799335    -0.666118    -0.758259   voiture             1      0            0      0          1           0         0      0            1         0\n",
      " 128 │        -0.811606  -0.496429    -0.666118    -0.647015   voiture             1      0            0      0          0           0         1      0            1         0\n",
      " 129 │        -0.811606  -1.17797     -0.666118    -0.897314   VUS                 0      1            0      0          1           0         0      0            1         0\n",
      " 130 │         0.295129   0.412289     0.0873729    0.187312   camionnette         0      0            1      0          0           0         1      0            1         0\n",
      " 131 │         0.295129   0.336562     0.577142     0.145595   VUS                 0      1            0      0          1           0         0      0            1         0\n",
      " 132 │        -0.811606  -1.25369     -1.64122     -0.925124   voiture             1      0            0      0          0           0         1      0            0         1\n",
      " 133 │         1.40186    2.38118      2.37296      2.13407    voiture             1      0            0      0          0           1         0      0            1         0\n",
      " 134 │         0.295129  -0.0420703    0.577142    -0.0629865  voiture             1      0            0      0          0           1         0      0            0         1\n",
      " 135 │         0.295129   0.336562    -0.12557      0.145595   voiture             1      0            0      0          1           0         0      0            1         0\u001b[1m150×15 DataFrame\u001b[0m\n",
      "\u001b[1m Row \u001b[0m│\u001b[1m nombre_cylindres \u001b[0m\u001b[1m cylindree   \u001b[0m\u001b[1m id    \u001b[0m\u001b[1m volume_gaz \u001b[0m\u001b[1m general_type \u001b[0m\u001b[1m voiture \u001b[0m\u001b[1m VUS   \u001b[0m\u001b[1m camionnette \u001b[0m\u001b[1m break \u001b[0m\u001b[1m traction \u001b[0m\u001b[1m 4x4   \u001b[0m\u001b[1m propulsion \u001b[0m\u001b[1m integrale \u001b[0m\u001b[1m manuelle \u001b[0m\u001b[1m automatique \u001b[0m\n",
      "     │\u001b[90m Float64          \u001b[0m\u001b[90m Float64     \u001b[0m\u001b[90m Int64 \u001b[0m\u001b[90m Float64    \u001b[0m\u001b[90m String       \u001b[0m\u001b[90m Int64   \u001b[0m\u001b[90m Int64 \u001b[0m\u001b[90m Int64       \u001b[0m\u001b[90m Int64 \u001b[0m\u001b[90m Int64    \u001b[0m\u001b[90m Int64 \u001b[0m\u001b[90m Int64      \u001b[0m\u001b[90m Int64     \u001b[0m\u001b[90m Int64    \u001b[0m\u001b[90m Int64       \u001b[0m\n",
      "─────┼───────────────────────────────────────────────────────────────────────────────────────────────────────────────────────────────────────────────────────────────────\n",
      "   1 │        -0.769722  -0.372358        1  -0.576919   voiture             1      0            0      0         1      0           0          0         1            0\n",
      "   2 │        -0.769722  -0.372358        2  -0.576919   voiture             1      0            0      0         1      0           0          0         0            1\n",
      "   3 │        -0.769722  -0.372358        3  -0.576919   VUS                 0      1            0      0         1      0           0          0         0            1\n",
      "   4 │        -0.769722  -0.739816        4  -0.713017   VUS                 0      1            0      0         0      1           0          0         0            1\n",
      "   5 │         1.45063    2.05287         5   1.90006    voiture             1      0            0      0         0      0           1          0         1            0\n",
      "   6 │         1.45063    1.46493         6   1.46455    voiture             1      0            0      0         0      0           1          0         0            1\n",
      "   7 │         1.45063    1.46493         7   1.46455    voiture             1      0            0      0         0      0           1          0         1            0\n",
      "   8 │        -0.769722  -0.44585         8  -0.604138   VUS                 0      1            0      0         0      1           0          0         0            1\n",
      "   9 │         0.340454   0.362559        9   0.171619   VUS                 0      1            0      0         0      0           0          1         0            1\n",
      "  10 │         2.56081    1.61192        10   2.28114    voiture             1      0            0      0         0      0           0          1         1            0\n",
      "  11 │         2.56081    1.61192        11   2.28114    voiture             1      0            0      0         0      0           0          1         1            0\n",
      "  12 │         3.67098    2.12636        12   3.56046    voiture             1      0            0      0         0      0           1          0         0            1\n",
      "  13 │        -0.769722  -0.739816       13  -0.713017   VUS                 0      1            0      0         1      0           0          0         0            1\n",
      "  14 │        -0.769722  -0.44585        14  -0.604138   VUS                 0      1            0      0         1      0           0          0         1            0\n",
      "  15 │        -0.769722  -0.372358       15  -0.576919   voiture             1      0            0      0         1      0           0          0         1            0\n",
      "  16 │         0.340454  -0.00489945     16  -0.0325274  VUS                 0      1            0      0         0      0           0          1         0            1\n",
      "  17 │         1.45063    1.68541        17   1.62787    camionnette         0      0            1      0         0      0           1          0         0            1\n",
      "  18 │         1.45063    1.68541        18   1.62787    camionnette         0      0            1      0         0      0           1          0         0            1\n",
      "  19 │         1.45063    1.68541        19   1.62787    camionnette         0      0            1      0         0      1           0          0         0            1\n",
      "  20 │         1.45063    1.68541        20   1.62787    camionnette         0      0            1      0         0      1           0          0         0            1\n",
      "  21 │         1.45063    2.34683        21   2.11782    VUS                 0      1            0      0         0      0           1          0         0            1\n",
      "  22 │         1.45063    1.68541        22   1.62787    VUS                 0      1            0      0         0      0           1          0         0            1\n",
      "  23 │         1.45063    1.68541        23   1.62787    VUS                 0      1            0      0         0      0           1          0         0            1\n",
      "  24 │         1.45063    2.34683        24   2.11782    VUS                 0      1            0      0         0      0           1          0         0            1\n",
      "  25 │         1.45063    1.68541        25   1.62787    VUS                 0      1            0      0         0      0           1          0         0            1\n",
      "  26 │         1.45063    2.34683        26   2.11782    VUS                 0      1            0      0         0      1           0          0         0            1\n",
      "  27 │         1.45063    1.68541        27   1.62787    VUS                 0      1            0      0         0      1           0          0         0            1\n",
      "  28 │         1.45063    2.34683        28   2.11782    VUS                 0      1            0      0         0      1           0          0         0            1\n",
      "  29 │         1.45063    1.46493        29   1.46455    voiture             1      0            0      0         0      0           1          0         0            1\n",
      "  30 │         0.340454  -0.00489945     30  -0.0325274  voiture             1      0            0      0         0      0           1          0         0            1\n",
      "  31 │         0.340454   0.215576       31   0.0899607  VUS                 0      1            0      0         0      0           0          1         0            1\n",
      "  32 │        -0.769722  -0.372358       32  -0.576919   VUS                 0      1            0      0         1      0           0          0         0            1\n",
      "  33 │        -0.769722  -0.44585        33  -0.604138   VUS                 0      1            0      0         0      0           0          1         0            1\n",
      "  34 │         0.340454   0.215576       34   0.0899607  VUS                 0      1            0      0         0      0           0          1         0            1\n",
      "  35 │        -0.769722  -0.372358       35  -0.576919   VUS                 0      1            0      0         0      1           0          0         0            1\n",
      "  36 │        -0.769722  -0.8868         36  -0.767456   VUS                 0      1            0      0         1      0           0          0         0            1\n",
      "  37 │         0.340454  -0.00489945     37  -0.0325274  voiture             1      0            0      0         0      0           1          0         0            1\n",
      "  38 │         0.340454  -0.00489945     38  -0.0325274  voiture             1      0            0      0         0      0           1          0         0            1\n",
      "  39 │        -0.769722  -0.739816       39  -0.713017   voiture             1      0            0      0         1      0           0          0         1            0\n",
      "  40 │        -0.769722  -0.44585        40  -0.604138   voiture             1      0            0      0         1      0           0          0         0            1\n",
      "  41 │         1.45063    1.46493        41   1.46455    voiture             1      0            0      0         0      0           1          0         0            1\n",
      "  42 │         0.340454   0.436051       42   0.212449   VUS                 0      1            0      0         0      0           0          1         0            1\n",
      "  43 │        -0.769722  -0.739816       43  -0.713017   VUS                 0      1            0      0         0      0           0          1         0            1\n",
      "  44 │        -0.769722  -0.739816       44  -0.713017   voiture             1      0            0      0         1      0           0          0         0            1\n",
      "  45 │        -0.769722  -0.739816       45  -0.713017   voiture             1      0            0      0         1      0           0          0         1            0\n",
      "  46 │         0.340454   0.215576       46   0.0899607  VUS                 0      1            0      0         1      0           0          0         0            1\n",
      "  47 │        -0.769722  -0.44585        47  -0.604138   VUS                 0      1            0      0         0      0           0          1         0            1\n",
      "  48 │         0.340454   0.436051       48   0.212449   VUS                 0      1            0      0         0      0           0          1         0            1\n",
      "  49 │        -1.32481   -1.32775        49  -1.01243    voiture             1      0            0      0         1      0           0          0         0            1\n",
      "  50 │         2.56081    1.61192        50   2.28114    voiture             1      0            0      0         0      0           0          1         0            1\n",
      "  51 │        -0.769722  -0.372358       51  -0.576919   voiture             1      0            0      0         0      0           0          1         1            0\n",
      "  52 │         0.340454  -0.00489945     52  -0.0325274  voiture             1      0            0      0         0      0           0          1         0            1\n",
      "  53 │        -0.769722  -1.10727        53  -0.849114   voiture             1      0            0      0         1      0           0          0         0            1\n",
      "  54 │         1.45063    1.46493        54   1.46455    voiture             1      0            0      0         0      0           0          1         0            1\n",
      "  55 │         0.340454  -0.00489945     55  -0.0325274  voiture             1      0            0      0         0      0           1          0         0            1\n",
      "  56 │         0.340454  -0.00489945     56  -0.0325274  voiture             1      0            0      0         0      0           1          0         0            1\n",
      "  57 │         0.340454  -0.00489945     57  -0.0325274  voiture             1      0            0      0         0      0           0          1         0            1\n",
      "  58 │         0.340454  -0.00489945     58  -0.0325274  voiture             1      0            0      0         0      0           1          0         1            0\n",
      "  59 │        -0.769722  -0.739816       59  -0.713017   voiture             1      0            0      0         1      0           0          0         1            0\n",
      "  60 │        -0.769722  -1.10727        60  -0.849114   VUS                 0      1            0      0         1      0           0          0         0            1\n",
      "  61 │        -0.769722  -0.739816       61  -0.713017   voiture             1      0            0      0         0      0           0          1         0            1\n",
      "  62 │        -0.769722  -0.739816       62  -0.713017   voiture             1      0            0      0         0      0           0          1         0            1\n",
      "  63 │        -0.769722  -0.739816       63  -0.713017   voiture             1      0            0      0         0      0           0          1         1            0\n",
      "  64 │        -0.769722  -0.739816       64  -0.713017   voiture             1      0            0      0         0      0           0          1         1            0\n",
      "  65 │        -0.769722  -0.739816       65  -0.713017   voiture             1      0            0      0         0      0           0          1         0            1\n",
      "  66 │         0.340454  -0.00489945     66  -0.0325274  voiture             1      0            0      0         0      0           0          1         0            1\n",
      "  67 │         0.340454  -0.00489945     67  -0.0325274  voiture             1      0            0      0         0      0           0          1         0            1\n",
      "  68 │         1.45063    1.02398        68   1.13791    voiture             1      0            0      0         0      0           1          0         0            1\n",
      "  69 │         1.45063    1.02398        69   1.13791    voiture             1      0            0      0         0      0           1          0         1            0\n",
      "  70 │         1.45063    1.02398        70   1.13791    voiture             1      0            0      0         0      0           1          0         0            1\n",
      "  71 │         0.340454  -0.00489945     71  -0.0325274  voiture             1      0            0      0         0      0           0          1         0            1\n",
      "  72 │         0.340454  -0.00489945     72  -0.0325274  voiture             1      0            0      0         0      0           0          1         1            0\n",
      "  73 │         0.340454  -0.00489945     73  -0.0325274  voiture             1      0            0      0         0      0           0          1         0            1\n",
      "  74 │         0.340454  -0.00489945     74  -0.0325274  voiture             1      0            0      0         0      0           1          0         0            1\n",
      "  75 │         0.340454  -0.00489945     75  -0.0325274  voiture             1      0            0      0         0      0           0          1         0            1\n",
      "  76 │         1.45063    1.02398        76   1.13791    voiture             1      0            0      0         0      0           0          1         0            1\n",
      "  77 │         1.45063    2.34683        77   2.11782    voiture             1      0            0      0         0      0           1          0         0            1\n",
      "  78 │         1.45063    2.34683        78   2.11782    voiture             1      0            0      0         0      0           1          0         0            1\n",
      "  79 │        -0.769722  -0.44585        79  -0.604138   VUS                 0      1            0      0         0      0           0          1         0            1\n",
      "  80 │         0.340454   0.215576       80   0.0899607  VUS                 0      1            0      0         0      0           0          1         0            1\n",
      "  81 │         0.340454   0.215576       81   0.0899607  camionnette         0      0            1      0         1      0           0          0         0            1\n",
      "  82 │        -0.769722  -0.739816       82  -0.713017   VUS                 0      1            0      0         1      0           0          0         0            1\n",
      "  83 │        -0.769722  -0.44585        83  -0.604138   VUS                 0      1            0      0         1      0           0          0         0            1\n",
      "  84 │        -0.769722  -0.739816       84  -0.713017   VUS                 0      1            0      0         0      1           0          0         0            1\n",
      "  85 │        -0.769722  -0.739816       85  -0.713017   VUS                 0      1            0      0         0      1           0          0         0            1\n",
      "  86 │        -0.769722  -0.739816       86  -0.713017   voiture             1      0            0      0         0      0           1          0         0            1\n",
      "  87 │        -0.769722  -0.739816       87  -0.713017   VUS                 0      1            0      0         0      0           0          1         0            1\n",
      "  88 │         0.340454   0.362559       88   0.171619   camionnette         0      0            1      0         0      0           0          1         0            1\n",
      "  89 │        -0.769722  -0.739816       89  -0.713017   voiture             1      0            0      0         1      0           0          0         0            1\n",
      "  90 │        -0.769722  -1.03378        90  -0.821895   voiture             1      0            0      0         1      0           0          0         1            0\n",
      "  91 │         0.340454   0.362559       91   0.171619   voiture             1      0            0      0         0      0           0          1         0            1\n",
      "  92 │         1.45063    2.34683        92   2.11782    voiture             1      0            0      0         0      0           1          0         1            0\n",
      "  93 │        -0.769722  -0.739816       93  -0.713017   voiture             1      0            0      0         1      0           0          0         0            1\n",
      "  94 │        -0.769722  -0.739816       94  -0.713017   voiture             1      0            0      0         1      0           0          0         0            1\n",
      "  95 │        -0.769722  -0.739816       95  -0.713017   voiture             1      0            0      0         1      0           0          0         0            1\n",
      "  96 │        -0.769722  -0.8868         96  -0.767456   voiture             1      0            0      0         1      0           0          0         0            1\n",
      "  97 │        -0.769722  -0.8868         97  -0.767456   voiture             1      0            0      0         1      0           0          0         0            1\n",
      "  98 │        -0.769722  -0.739816       98  -0.713017   break               0      0            0      1         1      0           0          0         1            0\n",
      "  99 │         0.340454   0.583034       99   0.294107   VUS                 0      1            0      0         1      0           0          0         0            1\n",
      " 100 │        -0.769722  -0.739816      100  -0.713017   VUS                 0      1            0      0         0      0           0          1         0            1\n",
      " 101 │        -0.769722  -0.739816      101  -0.713017   VUS                 0      1            0      0         0      1           0          0         0            1\n",
      " 102 │         0.340454  -0.00489945    102  -0.0325274  VUS                 0      1            0      0         0      1           0          0         0            1\n",
      " 103 │        -0.769722  -0.739816      103  -0.713017   voiture             1      0            0      0         0      0           1          0         0            1\n",
      " 104 │        -0.769722  -0.739816      104  -0.713017   voiture             1      0            0      0         0      0           1          0         0            1\n",
      " 105 │        -0.769722  -0.739816      105  -0.713017   voiture             1      0            0      0         0      0           1          0         0            1\n",
      " 106 │        -0.769722  -0.739816      106  -0.713017   voiture             1      0            0      0         0      0           0          1         0            1\n",
      " 107 │        -0.769722  -0.739816      107  -0.713017   break               0      0            0      1         0      0           0          1         0            1\n",
      " 108 │        -0.769722  -0.739816      108  -0.713017   VUS                 0      1            0      0         0      0           0          1         0            1\n",
      " 109 │         0.340454  -0.00489945    109  -0.0325274  voiture             1      0            0      0         0      0           0          1         0            1\n",
      " 110 │         0.340454   0.436051      110   0.212449   VUS                 0      1            0      0         0      0           0          1         0            1\n",
      " 111 │        -0.769722  -0.739816      111  -0.713017   voiture             1      0            0      0         0      0           1          0         0            1\n",
      " 112 │        -0.769722  -0.739816      112  -0.713017   break               0      0            0      1         1      0           0          0         1            0\n",
      " 113 │        -0.769722  -1.03378       113  -0.821895   break               0      0            0      1         1      0           0          0         0            1\n",
      " 114 │        -0.769722  -0.739816      114  -0.713017   VUS                 0      1            0      0         1      0           0          0         0            1\n",
      " 115 │        -1.32481   -1.25426       115  -0.992017   VUS                 0      1            0      0         1      0           0          0         0            1\n",
      " 116 │        -0.769722  -0.739816      116  -0.713017   voiture             1      0            0      0         1      0           0          0         1            0\n",
      " 117 │        -0.769722  -0.739816      117  -0.713017   voiture             1      0            0      0         1      0           0          0         0            1\n",
      " 118 │        -0.769722  -0.372358      118  -0.576919   camionnette         0      0            1      0         0      1           0          0         0            1\n",
      " 119 │         0.340454   0.436051      119   0.212449   camionnette         0      0            1      0         0      1           0          0         0            1\n",
      " 120 │        -0.769722  -0.372358      120  -0.576919   voiture             1      0            0      0         0      0           0          1         0            1\n",
      " 121 │        -0.769722  -0.372358      121  -0.576919   voiture             1      0            0      0         0      0           1          0         0            1\n",
      " 122 │         0.340454   0.362559      122   0.171619   VUS                 0      1            0      0         1      0           0          0         0            1\n",
      " 123 │        -0.769722  -1.10727       123  -0.849114   VUS                 0      1            0      0         1      0           0          0         0            1\n",
      " 124 │        -0.769722  -1.10727       124  -0.849114   VUS                 0      1            0      0         0      1           0          0         0            1\n",
      " 125 │        -0.769722  -1.10727       125  -0.849114   VUS                 0      1            0      0         0      1           0          0         0            1\n",
      " 126 │         0.340454   0.362559      126   0.171619   VUS                 0      1            0      0         0      0           0          1         0            1\n",
      " 127 │        -0.769722  -1.03378       127  -0.821895   VUS                 0      1            0      0         0      0           0          1         0            1\n",
      " 128 │        -0.769722  -0.739816      128  -0.713017   VUS                 0      1            0      0         0      0           0          1         0            1\n",
      " 129 │         1.45063    1.02398       129   1.13791    voiture             1      0            0      0         0      0           0          1         0            1\n",
      " 130 │        -0.769722  -0.739816      130  -0.713017   voiture             1      0            0      0         1      0           0          0         1            0\n",
      " 131 │        -1.32481   -1.10727       131  -0.951188   voiture             1      0            0      0         1      0           0          0         0            1\n",
      " 132 │        -0.769722  -0.739816      132  -0.713017   voiture             1      0            0      0         1      0           0          0         1            0\n",
      " 133 │        -0.769722  -1.03378       133  -0.821895   VUS                 0      1            0      0         0      0           0          1         0            1\n",
      " 134 │         1.45063    1.46493       134   1.46455    VUS                 0      1            0      0         0      1           0          0         0            1\n",
      " 135 │        -0.769722  -0.739816      135  -0.713017   VUS                 0      1            0      0         0      0           0          1         0            1\n",
      " 136 │        -0.769722  -0.372358      136  -0.576919   VUS                 0      1            0      0         0      0           0          1         0            1\n",
      " 137 │         0.340454   0.362559      137   0.171619   VUS                 0      1            0      0         0      0           0          1         0            1\n",
      " 138 │        -0.769722  -1.03378       138  -0.821895   VUS                 0      1            0      0         0      0           0          1         0            1\n",
      " 139 │        -0.769722  -1.03378       139  -0.821895   VUS                 0      1            0      0         1      0           0          0         0            1\n",
      " 140 │         0.340454   0.215576      140   0.0899607  voiture             1      0            0      0         0      0           1          0         0            1\n",
      " 141 │         1.45063    1.46493       141   1.46455    voiture             1      0            0      0         0      0           1          0         0            1\n",
      " 142 │        -0.769722  -0.739816      142  -0.713017   VUS                 0      1            0      0         0      0           0          1         0            1\n",
      " 143 │        -0.769722  -0.739816      143  -0.713017   VUS                 0      1            0      0         1      0           0          0         0            1\n",
      " 144 │        -0.769722  -1.03378       144  -0.821895   VUS                 0      1            0      0         0      0           0          1         0            1\n",
      " 145 │        -0.769722  -0.739816      145  -0.713017   voiture             1      0            0      0         0      0           1          0         0            1\n",
      " 146 │        -0.769722  -0.739816      146  -0.713017   voiture             1      0            0      0         0      0           0          1         0            1\n",
      " 147 │         0.340454  -0.00489945    147  -0.0325274  voiture             1      0            0      0         0      0           1          0         1            0\n",
      " 148 │         0.340454  -0.00489945    148  -0.0325274  voiture             1      0            0      0         0      0           1          0         0            1\n",
      " 149 │        -1.32481   -1.10727       149  -0.951188   voiture             1      0            0      0         1      0           0          0         1            0\n",
      " 150 │        -0.769722  -0.739816      150  -0.713017   voiture             1      0            0      0         1      0           0          0         0            1[1, 3, 4, 6, 7, 8, 9, 13, 14, 15, 16, 21, 22, 23, 24, 25, 26, 27, 28, 29, 30, 31, 32, 33, 34, 35, 36, 37, 38, 40, 41, 43, 44, 46, 47, 50, 54, 55, 56, 57, 59, 60, 61, 62, 63, 64, 65, 66, 67, 71, 73, 74, 75, 76, 77, 78, 79, 80, 81, 82, 83, 84, 85, 86, 87, 89, 90, 91, 93, 94, 95, 100, 101, 102, 103, 104, 105, 106, 108, 109, 111, 113, 114, 116, 117, 120, 121, 122, 123, 126, 127, 128, 129, 130, 131, 133, 134, 135, 136, 137, 138, 139, 140, 141, 142, 143, 144, 145, 146, 147, 148, 149, 150]\n"
     ]
    },
    {
     "ename": "LoadError",
     "evalue": "MethodError: no method matching zero(::Type{Any})\n\n\u001b[0mClosest candidates are:\n\u001b[0m  zero(::Type{Union{Missing, T}}) where T\n\u001b[0m\u001b[90m   @\u001b[39m \u001b[90mBase\u001b[39m \u001b[90m\u001b[4mmissing.jl:105\u001b[24m\u001b[39m\n\u001b[0m  zero(\u001b[91m::Type{Union{}}\u001b[39m, Any...)\n\u001b[0m\u001b[90m   @\u001b[39m \u001b[90mBase\u001b[39m \u001b[90m\u001b[4mnumber.jl:310\u001b[24m\u001b[39m\n\u001b[0m  zero(\u001b[91m::Type{Time}\u001b[39m)\n\u001b[0m\u001b[90m   @\u001b[39m \u001b[32mDates\u001b[39m \u001b[90mC:\\Users\\Antoine\\.julia\\juliaup\\julia-1.10.5+0.x64.w64.mingw32\\share\\julia\\stdlib\\v1.10\\Dates\\src\\\u001b[39m\u001b[90m\u001b[4mtypes.jl:440\u001b[24m\u001b[39m\n\u001b[0m  ...\n",
     "output_type": "error",
     "traceback": [
      "MethodError: no method matching zero(::Type{Any})\n\n\u001b[0mClosest candidates are:\n\u001b[0m  zero(::Type{Union{Missing, T}}) where T\n\u001b[0m\u001b[90m   @\u001b[39m \u001b[90mBase\u001b[39m \u001b[90m\u001b[4mmissing.jl:105\u001b[24m\u001b[39m\n\u001b[0m  zero(\u001b[91m::Type{Union{}}\u001b[39m, Any...)\n\u001b[0m\u001b[90m   @\u001b[39m \u001b[90mBase\u001b[39m \u001b[90m\u001b[4mnumber.jl:310\u001b[24m\u001b[39m\n\u001b[0m  zero(\u001b[91m::Type{Time}\u001b[39m)\n\u001b[0m\u001b[90m   @\u001b[39m \u001b[32mDates\u001b[39m \u001b[90mC:\\Users\\Antoine\\.julia\\juliaup\\julia-1.10.5+0.x64.w64.mingw32\\share\\julia\\stdlib\\v1.10\\Dates\\src\\\u001b[39m\u001b[90m\u001b[4mtypes.jl:440\u001b[24m\u001b[39m\n\u001b[0m  ...\n",
      "",
      "Stacktrace:",
      " [1] zero(::Type{Any})",
      "   @ Base .\\missing.jl:106",
      " [2] _qreltype(::Type{Any})",
      "   @ LinearAlgebra C:\\Users\\Antoine\\.julia\\juliaup\\julia-1.10.5+0.x64.w64.mingw32\\share\\julia\\stdlib\\v1.10\\LinearAlgebra\\src\\qr.jl:341",
      " [3] qr(A::Matrix{Any}, arg::ColumnNorm; kwargs::@Kwargs{})",
      "   @ LinearAlgebra C:\\Users\\Antoine\\.julia\\juliaup\\julia-1.10.5+0.x64.w64.mingw32\\share\\julia\\stdlib\\v1.10\\LinearAlgebra\\src\\qr.jl:419",
      " [4] qr(A::Matrix{Any}, arg::ColumnNorm)",
      "   @ LinearAlgebra C:\\Users\\Antoine\\.julia\\juliaup\\julia-1.10.5+0.x64.w64.mingw32\\share\\julia\\stdlib\\v1.10\\LinearAlgebra\\src\\qr.jl:417",
      " [5] \\(A::Matrix{Any}, B::Vector{Float64})",
      "   @ LinearAlgebra C:\\Users\\Antoine\\.julia\\juliaup\\julia-1.10.5+0.x64.w64.mingw32\\share\\julia\\stdlib\\v1.10\\LinearAlgebra\\src\\generic.jl:1126",
      " [6] regression(standardised_data::DataFrame, trainTestSplitPercentage::Float64)",
      "   @ Main .\\In[122]:7",
      " [7] predict_with_dups(data_train::DataFrame, raw_data_train::DataFrame, raw_data_predict::DataFrame)",
      "   @ Main .\\In[116]:41",
      " [8] main()",
      "   @ Main .\\In[124]:20",
      " [9] top-level scope",
      "   @ In[124]:24"
     ]
    }
   ],
   "source": [
    "function main()\n",
    "    # println(find_duplicates(trainData))\n",
    "\n",
    "    # Step 1: Get Unique Data\n",
    "    uniqueD = get_unique_data(trainData)\n",
    "    # println(uniqueD)\n",
    "    uniqueD = remove_outliers_regression_lin(uniqueD, :cylindree, :consommation, threshold=2.5)\n",
    "\n",
    "    unique_standard = getStandardEncodedData(uniqueD)\n",
    "    predictStandard = getStandardEncodedData(testData)\n",
    "    # evaluate_rmse(uniqueD)\n",
    "\n",
    "    # println(uniqueD)\n",
    "    # println(predictStandard)\n",
    "\n",
    "\n",
    "    #format_file(predict_with_dups(unique_standard, uniqueD, testData))\n",
    "\n",
    "\n",
    "    predict_with_dups(unique_standard, uniqueD, testData)\n",
    "    format_file(predict_with_dups(uniqueD, testData))\n",
    " \n",
    "end\n",
    "main()"
   ]
  },
  {
   "cell_type": "code",
   "execution_count": null,
   "metadata": {},
   "outputs": [],
   "source": [
    "# for type in unique(trainData.type)\n",
    "#     println(type)\n",
    "#     data_type = trainData[trainData.type .== type, :]\n",
    "#     println(combine(groupby(data_type, :transmission), :consommation => mean, :volume_gaz => mean, nrow => :nrow))\n",
    "#     println()\n",
    "# end"
   ]
  },
  {
   "cell_type": "code",
   "execution_count": null,
   "metadata": {},
   "outputs": [],
   "source": [
    "# for type in unique(trainData.type)\n",
    "#     println(type)\n",
    "#     data_type = trainData[trainData.type .== type, :]\n",
    "#     display(plot(x=data_type.volume_gaz, y=data_type.consommation))\n",
    "#     println()\n",
    "# end"
   ]
  },
  {
   "cell_type": "markdown",
   "metadata": {},
   "source": [
    "## Exploration des données"
   ]
  }
 ],
 "metadata": {
  "kernelspec": {
   "display_name": "Julia 1.10.5",
   "language": "julia",
   "name": "julia-1.10"
  },
  "language_info": {
   "file_extension": ".jl",
   "mimetype": "application/julia",
   "name": "julia",
   "version": "1.10.5"
  }
 },
 "nbformat": 4,
 "nbformat_minor": 2
}
