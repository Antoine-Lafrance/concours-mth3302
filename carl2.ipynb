{
 "cells": [
  {
   "cell_type": "markdown",
   "metadata": {},
   "source": [
    "# MTH3302 - Méthodes probabilistes et statistiques pour I.A.\n",
    "#### Polytechnique Montréal\n",
    "### Projet A2024\n",
    "----\n",
    "Équipe T - TODO\n",
    "### Objectif\n",
    "Prédiction de **la consommation en carburant de voitures récentes**.\n",
    "\n",
    "### Données\n",
    "Le jeu de données contient pour presque 400 véhicule, la consommation moyenne en L/100km, l'année de frabrication, le type de véhicule, le nombre de cylindre, cylindree, la transmission et la boite.\n",
    "\n",
    "- `train.csv` est l'ensemble d'entraînement\n",
    "- `test.csv` est l'ensemble de test\n"
   ]
  },
  {
   "cell_type": "markdown",
   "metadata": {},
   "source": [
    "## Chargement des données"
   ]
  },
  {
   "cell_type": "markdown",
   "metadata": {},
   "source": [
    "Importation des librairies utilisées dans le calepin."
   ]
  },
  {
   "cell_type": "markdown",
   "metadata": {},
   "source": [
    "// TODO: à enlever à la fin:\n",
    "\n",
    "Pour importer librairies:\n",
    "using Pkg\n",
    "Pkg.add([\"CSV\", \"DataFrames\", \"Combinatorics\", \"Gadfly\", \"Distributions\"], ...)"
   ]
  },
  {
   "cell_type": "code",
   "execution_count": 2655,
   "metadata": {},
   "outputs": [],
   "source": [
    "# import Pkg; Pkg.add(\"Plots\")"
   ]
  },
  {
   "cell_type": "code",
   "execution_count": 2656,
   "metadata": {},
   "outputs": [],
   "source": [
    "# using CSV, DataFrames, Statistics, Dates, Gadfly, LinearAlgebra, Plots"
   ]
  },
  {
   "cell_type": "code",
   "execution_count": 2657,
   "metadata": {},
   "outputs": [
    {
     "data": {
      "text/plain": [
       "standardize_data (generic function with 1 method)"
      ]
     },
     "execution_count": 2657,
     "metadata": {},
     "output_type": "execute_result"
    }
   ],
   "source": [
    "function standardize(data)\n",
    "    return (data .- mean(data)) ./ std(data)\n",
    "end\n",
    "\n",
    "function standardize_data(data)\n",
    "    stddata = deepcopy(data)\n",
    "   for col in names(stddata)\n",
    "        if eltype(stddata[!, col]) <: Number && col != \"id\"\n",
    "            stddata[!, col] = standardize(stddata[!, col])\n",
    "        end\n",
    "    end\n",
    "    return stddata\n",
    "end"
   ]
  },
  {
   "cell_type": "code",
   "execution_count": 2658,
   "metadata": {},
   "outputs": [
    {
     "data": {
      "text/plain": [
       "encode_data (generic function with 1 method)"
      ]
     },
     "execution_count": 2658,
     "metadata": {},
     "output_type": "execute_result"
    }
   ],
   "source": [
    "function encode(data, column)\n",
    "    for c in unique(data[!, column])\n",
    "        data[!, Symbol(c)] = ifelse.(data[!, column] .== c, 1, 0)\n",
    "    end\n",
    "    return data\n",
    "end\n",
    "\n",
    "function encode_data(data)\n",
    "    encoded_data = deepcopy(data)\n",
    "    encoded_data = encode(encoded_data, :general_type)\n",
    "    # encoded_data = encode(encoded_data, :annee)\n",
    "    # encoded_data = encode(encoded_data, :type)\n",
    "    encoded_data = encode(encoded_data, :transmission)\n",
    "    encoded_data = encode(encoded_data, :boite)\n",
    "    return encoded_data\n",
    "end"
   ]
  },
  {
   "cell_type": "code",
   "execution_count": 2659,
   "metadata": {},
   "outputs": [],
   "source": [
    "# faire une méthode pour les outliers\n",
    "\n",
    "# code pas tester:\n",
    "# function remove_outliers(data)\n",
    "#     return data[(abs.(zscore(data)) .< 3) .| isnan.(zscore(data)), :]\n",
    "# end"
   ]
  },
  {
   "cell_type": "code",
   "execution_count": 2660,
   "metadata": {},
   "outputs": [
    {
     "data": {
      "text/plain": [
       "removeRows (generic function with 1 method)"
      ]
     },
     "execution_count": 2660,
     "metadata": {},
     "output_type": "execute_result"
    }
   ],
   "source": [
    "function removeRows(data)\n",
    "    return select!(data, Not([:type, :transmission, :boite, :general_type,]))\n",
    "    # return select!(data, Not([:annee]))\n",
    "end"
   ]
  },
  {
   "cell_type": "code",
   "execution_count": 2661,
   "metadata": {},
   "outputs": [
    {
     "data": {
      "text/plain": [
       "add_rows (generic function with 1 method)"
      ]
     },
     "execution_count": 2661,
     "metadata": {},
     "output_type": "execute_result"
    }
   ],
   "source": [
    "function add_rows(data)\n",
    "    data[!,:volume_gaz] = data[!,:nombre_cylindres] .* data[!,:cylindree]\n",
    "\n",
    "    # https://www.insurancenavy.com/average-car-weight/\n",
    "    # https://www.auto-tests.com/fr/lightest-weight/Wagon/all/\n",
    "    weight_dict = Dict(\"voiture_moyenne\" => 3300, \"VUS_petit\" => 3500, \"voiture_compacte\" => 2800, \"voiture_deux_places\" => 2800, \"voiture_minicompacte\" => 1500, \"VUS_standard\" => 5000, \"monospace\" => 4500, \"voiture_sous_compacte\" => 2600, \"camionnette_petit\" => 4200, \"break_petit\" => 2640, \"voiture_grande\" => 4400, \"camionnette_standard\" => 4700, \"break_moyen\" => 3300)\n",
    "    data[!, :weight] = [weight_dict[t] for t in data[!, :type]]\n",
    "\n",
    "    general_type_dict = Dict(\"voiture_moyenne\" => \"voiture\", \"VUS_petit\" => \"VUS\", \"voiture_compacte\" => \"voiture\", \"voiture_deux_places\" => \"voiture\", \"voiture_minicompacte\" => \"voiture\", \"VUS_standard\" => \"VUS\", \"monospace\" => \"camionnette\", \"voiture_sous_compacte\" => \"voiture\", \"camionnette_petit\" => \"camionnette\", \"break_petit\" => \"break\", \"voiture_grande\" => \"voiture\", \"camionnette_standard\" => \"camionnette\", \"break_moyen\" => \"break\")\n",
    "    data[!, :general_type] = [general_type_dict[t] for t in data[!, :type]]\n",
    "    \n",
    "    # display(plot(data, x=:general_type, y=:consommation, color=:type))\n",
    "    # println(combine(groupby(data, :type), nrow => :count))\n",
    "    return data\n",
    "end"
   ]
  },
  {
   "cell_type": "code",
   "execution_count": 2662,
   "metadata": {},
   "outputs": [
    {
     "data": {
      "text/plain": [
       "getStandardEncodedData (generic function with 1 method)"
      ]
     },
     "execution_count": 2662,
     "metadata": {},
     "output_type": "execute_result"
    }
   ],
   "source": [
    "function getStandardEncodedData(data)\n",
    "    data_copy = deepcopy(data)\n",
    "    standardised_data = add_rows(data_copy)\n",
    "    standardised_data = standardize_data(data_copy)\n",
    "    standardised_data = encode_data(standardised_data)\n",
    "    standardised_data = removeRows(standardised_data)\n",
    "    \n",
    "    # print(standardised_data)\n",
    "    return standardised_data\n",
    "end\n",
    "\n",
    "\n"
   ]
  },
  {
   "cell_type": "code",
   "execution_count": 2663,
   "metadata": {},
   "outputs": [
    {
     "data": {
      "text/plain": [
       "rmse (generic function with 1 method)"
      ]
     },
     "execution_count": 2663,
     "metadata": {},
     "output_type": "execute_result"
    }
   ],
   "source": [
    "function rmse(y, ychap)\n",
    "    return sqrt(mean((ychap .- y).^2))\n",
    "end\n"
   ]
  },
  {
   "cell_type": "code",
   "execution_count": 2664,
   "metadata": {},
   "outputs": [
    {
     "data": {
      "text/plain": [
       "rsquared (generic function with 1 method)"
      ]
     },
     "execution_count": 2664,
     "metadata": {},
     "output_type": "execute_result"
    }
   ],
   "source": [
    "function rsquared(y, ychap)\n",
    "    ss_total = sum((y .- mean(y)).^2)\n",
    "    ss_res = sum((y .- ychap).^2)\n",
    "    return ss_res / ss_total\n",
    "end\n"
   ]
  },
  {
   "cell_type": "code",
   "execution_count": 2665,
   "metadata": {},
   "outputs": [
    {
     "data": {
      "text/plain": [
       "split_data (generic function with 1 method)"
      ]
     },
     "execution_count": 2665,
     "metadata": {},
     "output_type": "execute_result"
    }
   ],
   "source": [
    "function split_data(data,k)\n",
    "    n = size(data, 1)\n",
    "    validation_size = floor(Int, n * k)\n",
    "\n",
    "    validation_indices = rand(1:n, validation_size)  \n",
    "    \n",
    "    validation_data = data[validation_indices, :]\n",
    "    training_data = data[setdiff(1:n, validation_indices), :]\n",
    "    \n",
    "    return training_data, validation_data\n",
    "end"
   ]
  },
  {
   "cell_type": "code",
   "execution_count": 2666,
   "metadata": {},
   "outputs": [
    {
     "data": {
      "text/plain": [
       "regression (generic function with 1 method)"
      ]
     },
     "execution_count": 2666,
     "metadata": {},
     "output_type": "execute_result"
    }
   ],
   "source": [
    "function regression(standardised_data, trainTestSplitPercentage)\n",
    "    training_data, test_data = split_data(standardised_data, trainTestSplitPercentage)\n",
    "    X_train =  Matrix(training_data[:, Not(:consommation, :id)])\n",
    "    y_train = training_data[:, :consommation]\n",
    "\n",
    "    beta = X_train \\ y_train\n",
    "\n",
    "    rmseval = 0.0\n",
    "    if trainTestSplitPercentage != 0.0\n",
    "        X_test = Matrix(test_data[:, Not(:consommation, :id)])\n",
    "        y_test = test_data[:, :consommation]\n",
    "        ychap =  X_test * beta\n",
    "        ychap = (ychap .* COMSOMMATION_STD) .+ COMSOMMATION_MEAN\n",
    "        y_test = (y_test .* COMSOMMATION_STD) .+ COMSOMMATION_MEAN\n",
    "        # print(\"regression\\n\")\n",
    "        # print(\"r2 = \", rsquared(y_test, ychap), \"\\n\")\n",
    "        rmseval = rmse(y_test, ychap)\n",
    "        # print(\"rmse = \", rmseval , \"\\n\\n\")\n",
    "    end\n",
    "    \n",
    "    return rmseval, beta, training_data, test_data\n",
    "end\n"
   ]
  },
  {
   "cell_type": "code",
   "execution_count": 2667,
   "metadata": {},
   "outputs": [
    {
     "data": {
      "text/plain": [
       "ridge_regression (generic function with 1 method)"
      ]
     },
     "execution_count": 2667,
     "metadata": {},
     "output_type": "execute_result"
    }
   ],
   "source": [
    "function ridge_regression(standardised_data, lambda, trainTestSplitPercentage)\n",
    "    training_data, test_data = split_data(standardised_data, trainTestSplitPercentage)\n",
    "    X_train = Matrix(training_data[:, Not([:consommation, :id])])\n",
    "    y_train = training_data[:, :consommation]\n",
    "    beta = (X_train'X_train + lambda*I)\\X_train'y_train\n",
    "\n",
    "    rmseval = 0.0\n",
    "    if trainTestSplitPercentage != 0.0\n",
    "        X_test = Matrix(test_data[:, Not(:consommation, :id)])\n",
    "        y_test = test_data[:, :consommation]\n",
    "        ychap =  X_test * beta\n",
    "        ychap = (ychap .* COMSOMMATION_STD) .+ COMSOMMATION_MEAN\n",
    "        y_test = (y_test .* COMSOMMATION_STD) .+ COMSOMMATION_MEAN\n",
    "        # print(\"ridge: \\n\")\n",
    "        # print(\"r2 = \", rsquared(y_test, ychap), \"\\n\")\n",
    "        rmseval = rmse(y_test, ychap)\n",
    "        # print(\"rmse = \", rmseval , \"\\n\\n\")\n",
    "    end\n",
    "    return rmseval, beta, training_data, test_data\n",
    "end"
   ]
  },
  {
   "cell_type": "code",
   "execution_count": 2668,
   "metadata": {},
   "outputs": [
    {
     "data": {
      "text/plain": [
       "svd_regression (generic function with 1 method)"
      ]
     },
     "execution_count": 2668,
     "metadata": {},
     "output_type": "execute_result"
    }
   ],
   "source": [
    "# pas tester: (aucune idee si ca marche)\n",
    "\n",
    "function svd_regression(standardised_data, trainTestSplitPercentage)\n",
    "    training_data, test_data = split_data(standardised_data, trainTestSplitPercentage)\n",
    "    X_train = Matrix(training_data[:, Not([:consommation, :id])])\n",
    "    y_train = training_data[:, :consommation]\n",
    "    \n",
    "    U, S, V = svd(X_train)\n",
    "\n",
    "    # beta = V * (Diagonal(1 ./ S) * U' * y_train)\n",
    "\n",
    "    beta = V' * Diagonal([s > 1e-10 ? 1/s : 0 for s in S]) * U' * y_train\n",
    "\n",
    "    rmseval = 0.0\n",
    "    if trainTestSplitPercentage != 0.0\n",
    "        X_test = Matrix(test_data[:, Not(:consommation,:id)])\n",
    "        y_test = test_data[:, :consommation]\n",
    "        ychap =  X_test * beta\n",
    "        ychap = (ychap .* COMSOMMATION_STD) .+ COMSOMMATION_MEAN\n",
    "        y_test = (y_test .* COMSOMMATION_STD) .+ COMSOMMATION_MEAN\n",
    "        # print(\"regression\\n\")\n",
    "        # print(\"r2 = \", rsquared(y_test, ychap), \"\\n\")\n",
    "        rmseval = rmse(y_test, ychap)\n",
    "        # print(\"rmse = \", rmseval , \"\\n\\n\")\n",
    "    end\n",
    "    return rmseval,beta, training_data, test_data\n",
    "end"
   ]
  },
  {
   "cell_type": "code",
   "execution_count": 2669,
   "metadata": {},
   "outputs": [
    {
     "data": {
      "text/plain": [
       "1:150"
      ]
     },
     "execution_count": 2669,
     "metadata": {},
     "output_type": "execute_result"
    }
   ],
   "source": [
    "trainData = CSV.read(\"./data/train.csv\", DataFrame)\n",
    "testData = CSV.read(\"./data/test.csv\", DataFrame)\n",
    "trainData.consommation = parse.(Float64,replace.(trainData.consommation, \",\" => \".\"))\n",
    "trainData.cylindree = parse.(Float64,replace.(trainData.cylindree, \",\" => \".\"))\n",
    "testData.cylindree = parse.(Float64,replace.(testData.cylindree, \",\" => \".\"))\n",
    "COMSOMMATION_MEAN = mean(trainData.consommation)\n",
    "COMSOMMATION_STD = std(trainData.consommation)\n",
    "trainData[!, :id] = 1:nrow(trainData)\n",
    "testData[!, :id] = 1:nrow(testData)\n"
   ]
  },
  {
   "cell_type": "code",
   "execution_count": 2670,
   "metadata": {},
   "outputs": [],
   "source": [
    "# trainData[!,:volume_gaz] = trainData[!,:nombre_cylindres] .* trainData[!,:cylindree]\n",
    "# testData[!,:volume_gaz] = testData[!,:nombre_cylindres] .* testData[!,:cylindree]\n",
    "\n",
    "\n"
   ]
  },
  {
   "cell_type": "code",
   "execution_count": 2671,
   "metadata": {},
   "outputs": [
    {
     "data": {
      "text/plain": [
       "evaluate_rmse (generic function with 1 method)"
      ]
     },
     "execution_count": 2671,
     "metadata": {},
     "output_type": "execute_result"
    }
   ],
   "source": [
    "function evaluate_rmse()\n",
    "    data = getStandardEncodedData(trainData)\n",
    "    nrange = 1000\n",
    "    n = 0\n",
    "    for i in range(0, 1, length=nrange)\n",
    "        n += regression(data, 0.05)[1]\n",
    "    end\n",
    "    print(\"average rmse for regression: \", n/nrange, \"\\n\")\n",
    "\n",
    "    n = 0\n",
    "    for i in range(0, 1, length=nrange)\n",
    "        n += ridge_regression(data, 0.1, 0.05)[1]\n",
    "    end\n",
    "    print(\"average rmse for ridge: \", n/nrange, \"\\n\")\n",
    "\n",
    "    n = 0\n",
    "    for i in range(0, 1, length=nrange)\n",
    "        n += svd_regression(data, 0.05)[1]\n",
    "    end\n",
    "    print(\"average rmse for svd: \", n/nrange, \"\\n\")\n",
    "end\n"
   ]
  },
  {
   "cell_type": "code",
   "execution_count": 2672,
   "metadata": {},
   "outputs": [
    {
     "data": {
      "text/plain": [
       "find_mistakes (generic function with 2 methods)"
      ]
     },
     "execution_count": 2672,
     "metadata": {},
     "output_type": "execute_result"
    }
   ],
   "source": [
    "\n",
    "\n",
    "function predict(data, beta)\n",
    "    return (Matrix(data[:, Not(:consommation, :id)]) * beta)\n",
    "end\n",
    "\n",
    "function destandardize(data)\n",
    "    return (data .* COMSOMMATION_STD) .+ COMSOMMATION_MEAN\n",
    "end\n",
    "\n",
    "function predict_and_destandardize(data, beta)\n",
    "    return destandardize(predict(data, beta))\n",
    "end\n",
    "\n",
    "\n",
    "\n",
    "function find_mistakes(data_to_predict, beta, col)\n",
    "    prediction = (Matrix(data_to_predict[:, Not(:consommation, :id)]) * beta)\n",
    "    prediction = (prediction .* COMSOMMATION_STD) .+ COMSOMMATION_MEAN\n",
    "    data_to_predict[!,:consommation] = data_to_predict[!,:consommation] .* COMSOMMATION_STD .+ COMSOMMATION_MEAN\n",
    "\n",
    "    idtrain = 1:size(prediction, 1)\n",
    "\n",
    "    base_data_of_predicted = innerjoin(data_to_predict, trainData, on=:id, makeunique=true)\n",
    "\n",
    "    scatter(idtrain, prediction)\n",
    "    scatter!(idtrain, base_data_of_predicted[!,:consommation])\n",
    "\n",
    "\n",
    "    difference = prediction - base_data_of_predicted[!,:consommation]\n",
    "    base_data_of_predicted[!, :difference] = difference\n",
    "    diff_cutoff = 1\n",
    "    high_diff_rows = base_data_of_predicted[abs.(difference) .> diff_cutoff, :]\n",
    "\n",
    "    grouped_normal = combine(groupby(base_data_of_predicted, col), nrow => :count)\n",
    "\n",
    "    grouped_high_diff = combine(groupby(high_diff_rows, col), nrow => :count)\n",
    "\n",
    "    grouped_high_diff[!, :total_diff] = combine(groupby(high_diff_rows, col), :difference => (x -> sum(abs.(x))) => :total_diff)[:, :total_diff]\n",
    "\n",
    "    max_diff = combine(groupby(high_diff_rows, col), :difference => (x -> maximum(abs.(x))) => :max_diff)\n",
    "\n",
    "    grouped_high_diff = leftjoin(grouped_high_diff, max_diff, on=col)\n",
    "    grouped_high_diff[!, :average_diff] = combine(groupby(high_diff_rows, col), :difference => (x -> mean(abs.(x))) => :average_abs_diff)[:, :average_abs_diff]\n",
    "\n",
    "    grouped_high_diff[!, :rmse] = combine(groupby(high_diff_rows, col), :difference => (x -> sqrt(mean(x.^2))) => :rmse)[:, :rmse]\n",
    "    grouped_normal[!, :rmse] = combine(groupby(base_data_of_predicted, col), :difference => (x -> sqrt(mean(x.^2))) => :rmse)[:, :rmse]\n",
    "\n",
    "    percentage_high_diff = leftjoin(grouped_high_diff, grouped_normal, on=col, makeunique=true)\n",
    "    percentage_high_diff[!, :percentage] = percentage_high_diff[!, :count] ./ percentage_high_diff[!, :count_1] .* 100\n",
    "    percentage_high_diff = sort(percentage_high_diff, :percentage, rev=true)\n",
    "\n",
    "    println(\"Percentage of data by \", col,\" with difference higher than 1: \")\n",
    "    println(percentage_high_diff[:, [col, :percentage, :count, :count_1, :total_diff, :max_diff, :average_diff, :rmse]])\n",
    "\n",
    "    println(grouped_normal[:, [col, :rmse]])\n",
    "end\n",
    "\n",
    "\n"
   ]
  },
  {
   "cell_type": "code",
   "execution_count": 2673,
   "metadata": {},
   "outputs": [],
   "source": [
    "# rmseval, betatrain, traindata, testpredictdata = regression(data, 0.2)\n",
    "# find_mistakes(testpredictdata, betatrain, :annee)"
   ]
  },
  {
   "cell_type": "code",
   "execution_count": 2674,
   "metadata": {},
   "outputs": [
    {
     "data": {
      "text/plain": [
       "remise (generic function with 1 method)"
      ]
     },
     "execution_count": 2674,
     "metadata": {},
     "output_type": "execute_result"
    }
   ],
   "source": [
    "# beta = ridge_regression(data, 10, 0.0)[2]\n",
    "function remise_regression(beta)\n",
    "    test_data = getStandardEncodedData(testData)\n",
    "    X_test = Matrix(test_data[!,Not(:id)])\n",
    "    ychap =  X_test * beta\n",
    "    ychap = (ychap .* COMSOMMATION_STD) .+ COMSOMMATION_MEAN\n",
    "    remise(ychap)\n",
    "end\n",
    "\n",
    "function remise(prediction)\n",
    "    id = 1:150\n",
    "    df_pred = DataFrame(id=id, consommation=prediction)\n",
    "    \n",
    "    # using Dates\n",
    "    # current_time = Dates.format(now(), \"yyyy-mm-dd_HH-MM-SS\")\n",
    "    # file_name = \"benchmark_\" * current_time * \".csv\"\n",
    "    # CSV.write(\"./soumissions_potentielles/\" *file_name, df_pred)\n",
    "end\n"
   ]
  },
  {
   "cell_type": "code",
   "execution_count": 2675,
   "metadata": {},
   "outputs": [
    {
     "name": "stdout",
     "output_type": "stream",
     "text": [
      "average rmse for regression: 0.9301203862591678\n",
      "average rmse for ridge: 0.9382209694561816\n",
      "average rmse for svd: 1.99830504774732\n",
      "Percentage of data by type with difference higher than 1: \n",
      "\u001b[1m11×8 DataFrame\u001b[0m\n",
      "\u001b[1m Row \u001b[0m│\u001b[1m type                  \u001b[0m\u001b[1m percentage \u001b[0m\u001b[1m count \u001b[0m\u001b[1m count_1 \u001b[0m\u001b[1m total_diff \u001b[0m\u001b[1m max_diff \u001b[0m\u001b[1m average_diff \u001b[0m\u001b[1m rmse    \u001b[0m\n",
      "     │\u001b[90m String31              \u001b[0m\u001b[90m Float64    \u001b[0m\u001b[90m Int64 \u001b[0m\u001b[90m Int64?  \u001b[0m\u001b[90m Float64    \u001b[0m\u001b[90m Float64? \u001b[0m\u001b[90m Float64      \u001b[0m\u001b[90m Float64 \u001b[0m\n",
      "─────┼────────────────────────────────────────────────────────────────────────────────────────────────\n",
      "   1 │ voiture_minicompacte     100.0         6        6    23.5044    6.09712       3.91741  4.3165\n",
      "   2 │ monospace                100.0         2        2     4.51381   2.25997       2.2569   2.2569\n",
      "   3 │ break_petit              100.0         1        1     3.51982   3.51982       3.51982  3.51982\n",
      "   4 │ voiture_grande           100.0         2        2     3.25476   2.05807       1.62738  1.68341\n",
      "   5 │ camionnette_standard     100.0         1        1     5.1767    5.1767        5.1767   5.1767\n",
      "   6 │ voiture_sous_compacte     81.8182      9       11    25.8715    6.42636       2.87461  3.20284\n",
      "   7 │ voiture_deux_places       80.0         8       10    33.2598    8.02297       4.15747  4.56784\n",
      "   8 │ VUS_petit                 68.0        17       25    46.1459    5.72726       2.71446  3.08475\n",
      "   9 │ voiture_moyenne           66.6667      4        6     7.85292   2.49346       1.96323  1.98714\n",
      "  10 │ voiture_compacte          66.6667      6        9    10.1814    2.22843       1.69691  1.75855\n",
      "  11 │ VUS_standard              50.0         3        6    10.721     5.3952        3.57366  3.84756\n",
      "\u001b[1m11×2 DataFrame\u001b[0m\n",
      "\u001b[1m Row \u001b[0m│\u001b[1m type                  \u001b[0m\u001b[1m rmse    \u001b[0m\n",
      "     │\u001b[90m String31              \u001b[0m\u001b[90m Float64 \u001b[0m\n",
      "─────┼────────────────────────────────\n",
      "   1 │ voiture_moyenne        1.63797\n",
      "   2 │ VUS_petit              2.56284\n",
      "   3 │ voiture_compacte       1.45503\n",
      "   4 │ voiture_deux_places    4.08755\n",
      "   5 │ voiture_minicompacte   4.3165\n",
      "   6 │ VUS_standard           2.76434\n",
      "   7 │ monospace              2.2569\n",
      "   8 │ voiture_sous_compacte  2.89982\n",
      "   9 │ break_petit            3.51982\n",
      "  10 │ voiture_grande         1.68341\n",
      "  11 │ camionnette_standard   5.1767\n"
     ]
    }
   ],
   "source": [
    "function main()\n",
    "    data = getStandardEncodedData(trainData)\n",
    "    rmseval, betatrain, traindata, testpredictdata = regression(data, 0.2)\n",
    "    evaluate_rmse()\n",
    "    find_mistakes(testpredictdata, betatrain, :type)\n",
    "    # remise_regression(betatrain)\n",
    "end\n",
    "main()"
   ]
  },
  {
   "cell_type": "code",
   "execution_count": 2676,
   "metadata": {},
   "outputs": [],
   "source": [
    "# for type in unique(trainData.type)\n",
    "#     println(type)\n",
    "#     data_type = trainData[trainData.type .== type, :]\n",
    "#     println(combine(groupby(data_type, :transmission), :consommation => mean, :volume_gaz => mean, nrow => :nrow))\n",
    "#     println()\n",
    "# end"
   ]
  },
  {
   "cell_type": "code",
   "execution_count": 2677,
   "metadata": {},
   "outputs": [],
   "source": [
    "# for type in unique(trainData.type)\n",
    "#     println(type)\n",
    "#     data_type = trainData[trainData.type .== type, :]\n",
    "#     display(plot(x=data_type.volume_gaz, y=data_type.consommation))\n",
    "#     println()\n",
    "# end"
   ]
  },
  {
   "cell_type": "markdown",
   "metadata": {},
   "source": [
    "## Exploration des données"
   ]
  }
 ],
 "metadata": {
  "kernelspec": {
   "display_name": "Julia 1.10.5",
   "language": "julia",
   "name": "julia-1.10"
  },
  "language_info": {
   "file_extension": ".jl",
   "mimetype": "application/julia",
   "name": "julia",
   "version": "1.10.5"
  }
 },
 "nbformat": 4,
 "nbformat_minor": 2
}
