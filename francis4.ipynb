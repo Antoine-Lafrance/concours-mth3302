{
 "cells": [
  {
   "cell_type": "markdown",
   "metadata": {},
   "source": [
    "# MTH3302 - Méthodes probabilistes et statistiques pour I.A.\n",
    "#### Polytechnique Montréal\n",
    "### Projet A2024\n",
    "----\n",
    "Équipe T - TODO\n",
    "### Objectif\n",
    "Prédiction de **la consommation en carburant de voitures récentes**.\n",
    "\n",
    "### Données\n",
    "Le jeu de données contient pour presque 400 véhicule, la consommation moyenne en L/100km, l'année de frabrication, le type de véhicule, le nombre de cylindre, cylindree, la transmission et la boite.\n",
    "\n",
    "- `train.csv` est l'ensemble d'entraînement\n",
    "- `test.csv` est l'ensemble de test\n"
   ]
  },
  {
   "cell_type": "markdown",
   "metadata": {},
   "source": [
    "## Chargement des données"
   ]
  },
  {
   "cell_type": "markdown",
   "metadata": {},
   "source": [
    "Importation des librairies utilisées dans le calepin."
   ]
  },
  {
   "cell_type": "markdown",
   "metadata": {},
   "source": [
    "// TODO: à enlever à la fin:\n",
    "\n",
    "Pour importer librairies:\n",
    "using Pkg\n",
    "Pkg.add([\"CSV\", \"DataFrames\", \"Combinatorics\", \"Gadfly\", \"Distributions\"], ...)"
   ]
  },
  {
   "cell_type": "code",
   "execution_count": 1986,
   "metadata": {},
   "outputs": [],
   "source": [
    "# import Pkg; Pkg.add(\"Plots\")\n",
    "# import Pkg; Pkg.add(\"DecisionTree\")"
   ]
  },
  {
   "cell_type": "code",
   "execution_count": 1987,
   "metadata": {},
   "outputs": [],
   "source": [
    "# using CSV, DataFrames, Statistics, Dates, Gadfly, LinearAlgebra, DecisionTree,Random, Base"
   ]
  },
  {
   "cell_type": "code",
   "execution_count": 1988,
   "metadata": {},
   "outputs": [
    {
     "data": {
      "text/plain": [
       "standardize_data (generic function with 1 method)"
      ]
     },
     "execution_count": 1988,
     "metadata": {},
     "output_type": "execute_result"
    }
   ],
   "source": [
    "function standardize(data)\n",
    "    return (data .- mean(data)) ./ std(data)\n",
    "end\n",
    "\n",
    "function standardize_data(data)\n",
    "    stddata = deepcopy(data)\n",
    "   for col in names(stddata)\n",
    "        if eltype(stddata[!, col]) <: Number && col != \"id\"\n",
    "            stddata[!, col] = standardize(stddata[!, col])\n",
    "        end\n",
    "    end\n",
    "    return stddata\n",
    "end"
   ]
  },
  {
   "cell_type": "code",
   "execution_count": 1989,
   "metadata": {},
   "outputs": [
    {
     "data": {
      "text/plain": [
       "encode_data (generic function with 1 method)"
      ]
     },
     "execution_count": 1989,
     "metadata": {},
     "output_type": "execute_result"
    }
   ],
   "source": [
    "function encode(data, column)\n",
    "    for c in unique(data[!, column])\n",
    "        data[!, Symbol(c)] = ifelse.(data[!, column] .== c, 1, 0)\n",
    "    end\n",
    "    return data\n",
    "end\n",
    "\n",
    "function encode_data(data)\n",
    "    encoded_data = deepcopy(data)\n",
    "    encoded_data = encode(encoded_data, :general_type)\n",
    "    encoded_data = encode(encoded_data, :transmission)\n",
    "    encoded_data = encode(encoded_data, :boite)\n",
    "    return encoded_data\n",
    "end"
   ]
  },
  {
   "cell_type": "code",
   "execution_count": 1990,
   "metadata": {},
   "outputs": [
    {
     "data": {
      "text/plain": [
       "removeRows (generic function with 1 method)"
      ]
     },
     "execution_count": 1990,
     "metadata": {},
     "output_type": "execute_result"
    }
   ],
   "source": [
    "function removeRows(data)\n",
    "    return select!(data, Not([:type, :transmission, :boite, :nombre_cylindres, :annee]))\n",
    "end"
   ]
  },
  {
   "cell_type": "code",
   "execution_count": 1991,
   "metadata": {},
   "outputs": [
    {
     "data": {
      "text/plain": [
       "add_rows (generic function with 1 method)"
      ]
     },
     "execution_count": 1991,
     "metadata": {},
     "output_type": "execute_result"
    }
   ],
   "source": [
    "function add_rows(data)\n",
    "    # data[!,:volume_gaz] = data[!,:nombre_cylindres] .* data[!,:cylindree]\n",
    "\n",
    "    # https://www.insurancenavy.com/average-car-weight/\n",
    "    # https://www.auto-tests.com/fr/lightest-weight/Wagon/all/\n",
    "    # weight_dict = Dict(\"voiture_moyenne\" => 3300, \"VUS_petit\" => 3500, \"voiture_compacte\" => 2800, \"voiture_deux_places\" => 2800, \"voiture_minicompacte\" => 1500, \"VUS_standard\" => 5000, \"monospace\" => 4500, \"voiture_sous_compacte\" => 2600, \"camionnette_petit\" => 4200, \"break_petit\" => 2640, \"voiture_grande\" => 4400, \"camionnette_standard\" => 4700, \"break_moyen\" => 3300)\n",
    "    # data[!, :weight] = [weight_dict[t] for t in data[!, :type]]\n",
    "\n",
    "    # general_type_dict = Dict(\"voiture_moyenne\" => \"voiture\", \"VUS_petit\" => \"VUS\", \"voiture_compacte\" => \"voiture\", \"voiture_deux_places\" => \"voiture\", \"voiture_minicompacte\" => \"voiture\", \"VUS_standard\" => \"VUS\", \"monospace\" => \"camionnette\", \"voiture_sous_compacte\" => \"voiture\", \"camionnette_petit\" => \"camionnette\", \"break_petit\" => \"break\", \"voiture_grande\" => \"voiture\", \"camionnette_standard\" => \"camionnette\", \"break_moyen\" => \"break\")\n",
    "    # data[!, :general_type] = [general_type_dict[t] for t in data[!, :type]]\n",
    "    \n",
    "    # display(plot(data, x=:general_type, y=:consommation, color=:type))\n",
    "    # println(combine(groupby(data, :type), nrow => :count))\n",
    "    return data\n",
    "end"
   ]
  },
  {
   "cell_type": "code",
   "execution_count": 1992,
   "metadata": {},
   "outputs": [
    {
     "data": {
      "text/plain": [
       "getStandardEncodedData (generic function with 1 method)"
      ]
     },
     "execution_count": 1992,
     "metadata": {},
     "output_type": "execute_result"
    }
   ],
   "source": [
    "function getStandardEncodedData(data)\n",
    "    data_copy = deepcopy(data)\n",
    "    standardised_data = add_rows(data_copy)\n",
    "    standardised_data = standardize_data(data_copy)\n",
    "    # standardised_data = encode_data(standardised_data)\n",
    "    standardised_data = removeRows(standardised_data)\n",
    "    \n",
    "    print(standardised_data)\n",
    "    return standardised_data\n",
    "end\n",
    "\n",
    "\n"
   ]
  },
  {
   "cell_type": "code",
   "execution_count": 1993,
   "metadata": {},
   "outputs": [
    {
     "data": {
      "text/plain": [
       "rmse (generic function with 1 method)"
      ]
     },
     "execution_count": 1993,
     "metadata": {},
     "output_type": "execute_result"
    }
   ],
   "source": [
    "function rmse(y, ychap)\n",
    "    return sqrt(mean((ychap .- y).^2))\n",
    "end\n"
   ]
  },
  {
   "cell_type": "code",
   "execution_count": 1994,
   "metadata": {},
   "outputs": [
    {
     "data": {
      "text/plain": [
       "rsquared (generic function with 1 method)"
      ]
     },
     "execution_count": 1994,
     "metadata": {},
     "output_type": "execute_result"
    }
   ],
   "source": [
    "function rsquared(y, ychap)\n",
    "    ss_total = sum((y .- mean(y)).^2)\n",
    "    ss_res = sum((y .- ychap).^2)\n",
    "    return ss_res / ss_total\n",
    "end\n"
   ]
  },
  {
   "cell_type": "code",
   "execution_count": 1995,
   "metadata": {},
   "outputs": [
    {
     "data": {
      "text/plain": [
       "train_test_split (generic function with 3 methods)"
      ]
     },
     "execution_count": 1995,
     "metadata": {},
     "output_type": "execute_result"
    }
   ],
   "source": [
    "function train_test_split(data, test_size=0.2, shuffle=true)\n",
    "    n = size(data, 1)\n",
    "    test_size = floor(Int, n * test_size)\n",
    "    \n",
    "    if shuffle\n",
    "        indices = randperm(n)\n",
    "    else\n",
    "        indices = 1:n\n",
    "    end\n",
    "    \n",
    "    test_indices = indices[1:test_size]\n",
    "    train_indices = indices[test_size+1:end]\n",
    "    \n",
    "    train_data = data[train_indices, :]\n",
    "    test_data = data[test_indices, :]\n",
    "    \n",
    "    return train_data, test_data\n",
    "end"
   ]
  },
  {
   "cell_type": "code",
   "execution_count": 1996,
   "metadata": {},
   "outputs": [
    {
     "data": {
      "text/plain": [
       "25-element Vector{Float64}:\n",
       " 13.8358823529412\n",
       "  9.80041666666667\n",
       " 11.7605\n",
       " 13.0672222222222\n",
       "  7.3503125\n",
       "  7.58741935483871\n",
       " 11.2004761904762\n",
       " 14.700625\n",
       " 12.3794736842105\n",
       " 10.6913636363636\n",
       "  9.4084\n",
       " 15.6806666666667\n",
       "  8.71148148148148\n",
       "  8.11068965517241\n",
       " 10.2265217391304\n",
       "  7.84033333333333\n",
       "  8.40035714285714\n",
       "  9.04653846153846\n",
       " 16.8007142857143\n",
       "  6.91794117647059\n",
       "  6.35702702702703\n",
       "  4.52326923076923\n",
       "  7.12757575757576\n",
       "  4.90020833333333\n",
       "  6.53361111111111"
      ]
     },
     "execution_count": 1996,
     "metadata": {},
     "output_type": "execute_result"
    }
   ],
   "source": [
    "trainData = CSV.read(\"./data/train.csv\", DataFrame)\n",
    "testData = CSV.read(\"./data/test.csv\", DataFrame)\n",
    "trainData.consommation = parse.(Float64,replace.(trainData.consommation, \",\" => \".\"))\n",
    "trainData.cylindree = parse.(Float64,replace.(trainData.cylindree, \",\" => \".\"))\n",
    "testData.cylindree = parse.(Float64,replace.(testData.cylindree, \",\" => \".\"))\n",
    "\n",
    "\n",
    "COMSOMMATION_MEAN = mean(trainData.consommation)\n",
    "COMSOMMATION_STD = std(trainData.consommation)\n",
    "trainData[!, :id] = 1:nrow(trainData)\n",
    "testData[!, :id] = 1:nrow(testData)\n",
    "\n",
    "possibles = unique(trainData.consommation)\n"
   ]
  },
  {
   "cell_type": "code",
   "execution_count": 1997,
   "metadata": {},
   "outputs": [
    {
     "data": {
      "text/plain": [
       "evaluate_rmse (generic function with 1 method)"
      ]
     },
     "execution_count": 1997,
     "metadata": {},
     "output_type": "execute_result"
    }
   ],
   "source": [
    "function evaluate_rmse(data)\n",
    "    nrange = 1000\n",
    "    n = 0\n",
    "    for i in range(0, 1, length=nrange)\n",
    "        n += regression(data)[1]\n",
    "    end\n",
    "    print(\"average rmse for regression: \", n/nrange, \"\\n\")\n",
    "\n",
    "    # n = 0\n",
    "    # for i in range(0, 1, length=nrange)\n",
    "    #     n += ridge_regression(data, 0.1, 0.05)[1]\n",
    "    # end\n",
    "    # print(\"average rmse for ridge: \", n/nrange, \"\\n\")\n",
    "\n",
    "    # n = 0\n",
    "    # for i in range(0, 1, length=nrange)\n",
    "    #     n += svd_regression(data, 0.05)[1]\n",
    "    # end\n",
    "    # print(\"average rmse for svd: \", n/nrange, \"\\n\")\n",
    "\n",
    "    # nrange = 1000\n",
    "    # n = 0\n",
    "    # for i in range(0, 1, length=nrange)\n",
    "    #     n += polynomial_regression(data,2, 0.05)[1]\n",
    "    # end\n",
    "    # print(\"average rmse for polynomial regression: \", n/nrange, \"\\n\")\n",
    "\n",
    "end\n"
   ]
  },
  {
   "cell_type": "code",
   "execution_count": 1998,
   "metadata": {},
   "outputs": [
    {
     "data": {
      "text/plain": [
       "format_file (generic function with 1 method)"
      ]
     },
     "execution_count": 1998,
     "metadata": {},
     "output_type": "execute_result"
    }
   ],
   "source": [
    "function remise(prediction)\n",
    "    id = 1:150\n",
    "    df_pred = DataFrame(id=id, consommation=prediction)\n",
    "\n",
    "   format_file(df_pred)\n",
    "end\n",
    "\n",
    "function format_file(predictions)\n",
    "    println(predictions)\n",
    "    current_time = Dates.format(now(), \"yyyy-mm-dd_HH-MM-SS\")\n",
    "    file_name = \"benchmark_\" * current_time * \".csv\"\n",
    "    CSV.write(\"./soumissions_potentielles/\" *file_name, predictions)\n",
    "end"
   ]
  },
  {
   "cell_type": "code",
   "execution_count": 1999,
   "metadata": {},
   "outputs": [],
   "source": [
    "# findnearest(A::Vector{Float64},t::Float64) = A[findmin(broadcast(abs,A.-t))[2]]\n",
    "\n",
    "# function findnearest(A::Vector{Float64},t::Float64)\n",
    "#     nearest_value = A[1]\n",
    "#     smallest_diff = abs(A[1] - t)\n",
    "#     for value in A\n",
    "#         diff = abs(value - t)\n",
    "#         if diff < smallest_diff\n",
    "#             smallest_diff = diff\n",
    "#             nearest_value = value\n",
    "#         end\n",
    "#     end\n",
    "#     if smallest_diff > 0.3\n",
    "#         # println(\"Warning: the nearest value is \", nearest_value, \" the value was \", t,\" with a difference of \", smallest_diff)\n",
    "#     end\n",
    "#     return nearest_value\n",
    "    \n",
    "# end\n"
   ]
  },
  {
   "cell_type": "code",
   "execution_count": 2000,
   "metadata": {},
   "outputs": [
    {
     "data": {
      "text/plain": [
       "predict_with_dups (generic function with 2 methods)"
      ]
     },
     "execution_count": 2000,
     "metadata": {},
     "output_type": "execute_result"
    }
   ],
   "source": [
    "COLUMNS_TO_COMPARE = [\"type\", \"nombre_cylindres\", \"cylindree\", \"transmission\", \"boite\"]\n",
    "\n",
    "function get_unique_data(data)\n",
    "    unique_data = combine(groupby(data, COLUMNS_TO_COMPARE), :consommation => mean, :annee => first)\n",
    "    rename!(unique_data, :consommation_mean => :consommation)\n",
    "    rename!(unique_data, :annee_first => :annee)\n",
    "    return unique_data\n",
    "end\n",
    "\n",
    "function find_pairs(data_train, data_predict)\n",
    "    train_data_without_consommation = select(data_train, Not(:consommation, :annee))\n",
    "    # print(train_data_without_consommation)\n",
    "    predict_data_without_annee = select(data_predict, Not(:annee))\n",
    "    # print(predict_data_without_annee)\n",
    "\n",
    "    common_values = innerjoin(data_train, predict_data_without_annee, on=names(train_data_without_consommation))\n",
    "\n",
    "    println(common_values.id)\n",
    "    # print(common_values)\n",
    "    return common_values\n",
    "end\n",
    "\n",
    "function find_differents(data_train, data_predict)\n",
    "    different_values = antijoin(data_predict, data_train, on=COLUMNS_TO_COMPARE)\n",
    "    return different_values\n",
    "    \n",
    "end\n",
    "\n",
    "function predict_with_dups(data_train, data_predict, raw_data_train, raw_data_predict)\n",
    "    pairs = find_pairs(raw_data_train, raw_data_predict)\n",
    "    pairs = select(pairs, [:id, :consommation])\n",
    "\n",
    "    # println(first(raw_data_train,1))\n",
    "    # println(first(raw_data_predict,1))\n",
    "\n",
    "    # println(pairs)\n",
    "\n",
    "    different_values = find_differents(raw_data_train, raw_data_predict)\n",
    "    # println(different_values)\n",
    "\n",
    "    beta = regression(data_train, 0.0)[2]\n",
    "\n",
    "    data_predict = getStandardEncodedData(different_values[!, Not(:id)])\n",
    "\n",
    "\n",
    "    data_predict = Matrix(data_predict[:, names(data_train[:, Not(:consommation)])])\n",
    "\n",
    "    prediction_differents = data_predict * beta\n",
    "\n",
    "    # print(prediction)\n",
    "\n",
    "\n",
    "    prediction_differents = (prediction_differents .* COMSOMMATION_STD) .+ COMSOMMATION_MEAN\n",
    "\n",
    "    prediction_differents = DataFrame(id=different_values.id, consommation=prediction_differents)\n",
    "\n",
    "    # print(prediction_differents)\n",
    "    # print(pairs)\n",
    "\n",
    "    prediction = vcat(pairs, prediction_differents)\n",
    "    prediction = sort(prediction, :id)\n",
    "    # println(prediction)\n",
    "\n",
    "    # print(prediction)\n",
    "    return prediction\n",
    "end\n",
    "    \n",
    "    "
   ]
  },
  {
   "cell_type": "code",
   "execution_count": 2001,
   "metadata": {},
   "outputs": [
    {
     "data": {
      "text/plain": [
       "linear_regression (generic function with 1 method)"
      ]
     },
     "execution_count": 2001,
     "metadata": {},
     "output_type": "execute_result"
    }
   ],
   "source": [
    "function linear_regression(data, x_col, y_col)\n",
    "    # Extract x and y data from the DataFrame\n",
    "    x = data[!, x_col]\n",
    "    y = data[!, y_col]\n",
    "    \n",
    "    # Ensure there is enough data for the calculation\n",
    "    n = length(x)\n",
    "    if n == 0\n",
    "        error(\"Cannot compute linear regression with zero elements.\")\n",
    "    end\n",
    "    \n",
    "    # Calculate the mean values\n",
    "    x_mean = mean(x)\n",
    "    y_mean = mean(y)\n",
    "    \n",
    "    # Calculate slope and intercept for linear regression\n",
    "    slope = sum((x .- x_mean) .* (y .- y_mean)) / sum((x .- x_mean).^2)\n",
    "    intercept = y_mean - slope * x_mean\n",
    "    \n",
    "    return slope, intercept\n",
    "end"
   ]
  },
  {
   "cell_type": "code",
   "execution_count": 2002,
   "metadata": {},
   "outputs": [
    {
     "data": {
      "text/plain": [
       "get_outliers_ind_regression_lin (generic function with 1 method)"
      ]
     },
     "execution_count": 2002,
     "metadata": {},
     "output_type": "execute_result"
    }
   ],
   "source": [
    "\n",
    "function get_outliers_ind_regression_lin(data, x_col, y_col; threshold=2.5)\n",
    "    slope, intercept = linear_regression(data, x_col, y_col)\n",
    "    \n",
    "    x = data[!, x_col]\n",
    "    y = data[!, y_col]\n",
    "    \n",
    "    y_pred = slope .* x .+ intercept\n",
    "    \n",
    "    residuals = abs.(y .- y_pred)\n",
    "    \n",
    "    residuals_std = std(residuals)\n",
    "    \n",
    "    outlier_indices = findall(residuals .> threshold * residuals_std)\n",
    "    \n",
    "\n",
    "    for idx in outlier_indices\n",
    "        # println(\"Outlier detected at row $idx: \", \"x = \", x[idx], \", y = \", y[idx], \", Residual = \", residuals[idx])\n",
    "    end\n",
    "\n",
    "    outliers = data[outlier_indices, :]\n",
    "    \n",
    "    return outlier_indices\n",
    "end\n"
   ]
  },
  {
   "cell_type": "code",
   "execution_count": 2003,
   "metadata": {},
   "outputs": [],
   "source": [
    "function get_outliers_regression_lin(data, outliers_indices)\n",
    "    outliers = data[outliers_indices, :]\n",
    "    return outliers\n",
    "end;"
   ]
  },
  {
   "cell_type": "code",
   "execution_count": 2004,
   "metadata": {},
   "outputs": [
    {
     "data": {
      "text/plain": [
       "remove_outliers_regression_lin (generic function with 1 method)"
      ]
     },
     "execution_count": 2004,
     "metadata": {},
     "output_type": "execute_result"
    }
   ],
   "source": [
    "function remove_outliers_regression_lin(data::DataFrame, x_col::Symbol, y_col::Symbol; threshold=2.5)\n",
    "    outlier_indices = get_outliers_ind_regression_lin(data, x_col, y_col, threshold=threshold)\n",
    "\n",
    "    # println(\"Outlier Indices Identified: \", outlier_indices)\n",
    "\n",
    "    keep_mask = trues(nrow(data))\n",
    "    \n",
    "    if !isempty(outlier_indices)\n",
    "        keep_mask[outlier_indices] .= false\n",
    "    end\n",
    "\n",
    "    cleaned_data = data[keep_mask, :]\n",
    "    \n",
    "    return cleaned_data\n",
    "end"
   ]
  },
  {
   "cell_type": "code",
   "execution_count": 2005,
   "metadata": {},
   "outputs": [
    {
     "data": {
      "text/plain": [
       "plot_outliers (generic function with 1 method)"
      ]
     },
     "execution_count": 2005,
     "metadata": {},
     "output_type": "execute_result"
    }
   ],
   "source": [
    " function plot_outliers(uniqueD)\n",
    " # Step 2: Find and Display Outliers with Regression\n",
    " outliers_indices = get_outliers_ind_regression_lin(uniqueD, :cylindree, :consommation)\n",
    " outliers_regression = get_outliers_regression_lin(uniqueD, outliers_indices)\n",
    "\n",
    " # Step 3: Plot Original Data, Regression Line, and Outliers\n",
    " slope, intercept = linear_regression(uniqueD, :cylindree, :consommation)\n",
    " regression_line_y = slope .* uniqueD.cylindree .+ intercept\n",
    "\n",
    " layer_original = layer(x=uniqueD.cylindree, y=uniqueD.consommation, color=uniqueD.type, Theme(default_color=\"blue\"))\n",
    " layer_linear_regression = layer(x=uniqueD.cylindree, y=regression_line_y, Geom.line, Theme(default_color=\"green\"))\n",
    " layer_regression_outliers = layer(x=outliers_regression.cylindree, y=outliers_regression.consommation, Geom.point, Theme(default_color=\"red\"))\n",
    "\n",
    " \n",
    " display(plot(layer_regression_outliers, layer_original, layer_linear_regression, Guide.xlabel(\"Cylindree\"), Guide.ylabel(\"Consommation\"), Guide.title(\"Original Data with Outliers\")))\n",
    "\n",
    " # Step 4: Remove Outliers Based on Regression Line\n",
    " cleaned_data = remove_outliers_regression_lin(uniqueD, :cylindree, :consommation, threshold=2.5)\n",
    "\n",
    " # Step 5: Plot Cleaned Data with New Regression Line\n",
    " slope_cleaned, intercept_cleaned = linear_regression(cleaned_data, :cylindree, :consommation)\n",
    " regression_line_y_cleaned = slope_cleaned .* cleaned_data.cylindree .+ intercept_cleaned\n",
    "\n",
    "layer_cleaned = layer(x=cleaned_data.cylindree, y=cleaned_data.consommation, color=cleaned_data.type, Theme(default_color=\"blue\"))\n",
    "layer_linear_regression_cleaned = layer(x=cleaned_data.cylindree, y=regression_line_y_cleaned, Geom.line, Theme(default_color=\"green\"))\n",
    "\n",
    "# Display plot for cleaned data\n",
    "display(plot(layer_cleaned, layer_linear_regression_cleaned, \n",
    "             Guide.xlabel(\"Cylindree\"), Guide.ylabel(\"Consommation\"), Guide.title(\"Cleaned Data with Regression Line\")))\n",
    "\n",
    "end"
   ]
  },
  {
   "cell_type": "code",
   "execution_count": 2006,
   "metadata": {},
   "outputs": [
    {
     "data": {
      "text/plain": [
       "regression (generic function with 2 methods)"
      ]
     },
     "execution_count": 2006,
     "metadata": {},
     "output_type": "execute_result"
    }
   ],
   "source": [
    "function regression(standardised_data, trainTestSplitPercentage = 0.2)\n",
    "    training_data, test_data = train_test_split(standardised_data, trainTestSplitPercentage)\n",
    "\n",
    "    X_train =  Matrix(training_data[:, Not(:consommation)])\n",
    "    y_train = training_data[:, :consommation]\n",
    "\n",
    "    beta = X_train \\ y_train\n",
    "\n",
    "    rmseval = 0.0\n",
    "    if trainTestSplitPercentage != 0.0\n",
    "        X_test = Matrix(test_data[:, Not(:consommation)])\n",
    "        y_test = test_data[:, :consommation]\n",
    "        ychap =  X_test * beta\n",
    "        ychap = (ychap .* COMSOMMATION_STD) .+ COMSOMMATION_MEAN\n",
    "        y_test = (y_test .* COMSOMMATION_STD) .+ COMSOMMATION_MEAN\n",
    "        rmseval = rmse(y_test, ychap)\n",
    "    end\n",
    "    \n",
    "    return rmseval, beta, training_data, test_data\n",
    "end"
   ]
  },
  {
   "cell_type": "code",
   "execution_count": 2007,
   "metadata": {},
   "outputs": [
    {
     "data": {
      "text/plain": [
       "remise_regression (generic function with 1 method)"
      ]
     },
     "execution_count": 2007,
     "metadata": {},
     "output_type": "execute_result"
    }
   ],
   "source": [
    "function remise_regression(beta)\n",
    "    test_data = getStandardEncodedData(testData)\n",
    "    X_test = Matrix(test_data[!,Not(:id)])\n",
    "    ychap =  X_test * beta\n",
    "    # ychap = (ychap .* COMSOMMATION_STD) .+ COMSOMMATION_MEAN\n",
    "    remise(ychap)\n",
    "end\n"
   ]
  },
  {
   "cell_type": "code",
   "execution_count": null,
   "metadata": {},
   "outputs": [
    {
     "name": "stdout",
     "output_type": "stream",
     "text": [
      "\u001b[1m135×2 DataFrame\u001b[0m\n",
      "\u001b[1m Row \u001b[0m│\u001b[1m cylindree  \u001b[0m\u001b[1m consommation \u001b[0m\n",
      "     │\u001b[90m Float64    \u001b[0m\u001b[90m Float64      \u001b[0m\n",
      "─────┼──────────────────────────\n",
      "   1 │  1.0181       1.14663\n",
      "   2 │ -0.799335    -0.170046\n",
      "   3 │  0.185109     0.448869\n",
      "   4 │  1.47246      1.17575\n",
      "   5 │ -1.17797     -1.37654\n",
      "   6 │ -1.17797     -1.33454\n",
      "   7 │  0.563742     0.320596\n",
      "   8 │  0.185109     0.586143\n",
      "   9 │  1.47246      1.92401\n",
      "  10 │ -0.0420703    0.190856\n",
      "  11 │ -0.0420703    0.00993906\n",
      "  12 │  0.412289     0.320596\n",
      "  13 │ -0.799335    -0.108535\n",
      "  14 │  1.47246      1.17575\n",
      "  15 │ -0.0420703    0.320596\n",
      "  16 │ -0.420703    -0.839304\n",
      "  17 │  0.563742     0.860692\n",
      "  18 │  2.154        2.37296\n",
      "  19 │ -0.799335    -0.781234\n",
      "  20 │  2.38118      1.92401\n",
      "  21 │ -0.0420703   -0.220211\n",
      "  22 │ -1.10224     -1.09483\n",
      "  23 │  0.336562    -0.12557\n",
      "  24 │ -0.496429    -0.0482515\n",
      "  25 │ -0.799335    -0.549646\n",
      "  26 │ -0.799335    -0.946208\n",
      "  27 │ -0.420703    -0.443894\n",
      "  28 │ -0.799335    -0.742862\n",
      "  29 │ -0.799335    -1.27661\n",
      "  30 │  2.22972      2.37296\n",
      "  31 │ -0.799335    -0.819606\n",
      "  32 │ -0.799335    -1.05944\n",
      "  33 │  0.866648     1.52787\n",
      "  34 │ -0.799335    -0.867115\n",
      "  35 │  1.32101      1.52787\n",
      "  36 │  0.488015    -0.12557\n",
      "  37 │  1.0181       1.11505\n",
      "  38 │ -1.32942     -0.962132\n",
      "  39 │  1.62391      1.79196\n",
      "  40 │ -0.799335    -0.666118\n",
      "  41 │  1.47246      0.986714\n",
      "  42 │  0.185109     0.577142\n",
      "  43 │ -0.799335    -1.17473\n",
      "  44 │  1.47246      1.52787\n",
      "  45 │ -0.0420703    0.0873729\n",
      "  46 │  0.185109     0.577142\n",
      "  47 │ -1.17797     -1.416\n",
      "  48 │ -1.17797     -1.33454\n",
      "  49 │ -0.950788    -1.09483\n",
      "  50 │ -0.496429    -0.392756\n",
      "  51 │ -1.10224     -1.09188\n",
      "  52 │ -1.17797     -0.962132\n",
      "  53 │ -1.25369     -1.64122\n",
      "  54 │ -1.10224     -1.35889\n",
      "  55 │  0.109383     0.320596\n",
      "  56 │  1.69964      1.17575\n",
      "  57 │ -0.799335    -0.406948\n",
      "  58 │ -0.799335    -0.70449\n",
      "  59 │ -0.420703    -0.666118\n",
      "  60 │ -0.799335    -0.819606\n",
      "  61 │  0.185109     0.325261\n",
      "  62 │ -0.0420703    0.413885\n",
      "  63 │ -0.0420703   -0.141186\n",
      "  64 │ -0.799335    -1.0904\n",
      "  65 │  0.336562     0.203984\n",
      "  66 │  0.563742     0.320596\n",
      "  67 │ -0.420703    -0.50035\n",
      "  68 │ -0.420703     0.0873729\n",
      "  69 │  2.38118      1.52787\n",
      "  70 │ -0.799335    -0.797679\n",
      "  71 │  0.336562    -0.12557\n",
      "  72 │  0.563742     0.203984\n",
      "  73 │ -1.40515     -1.09483\n",
      "  74 │ -1.10224     -1.44315\n",
      "  75 │ -0.950788    -1.54519\n",
      "  76 │ -0.420703    -0.12557\n",
      "  77 │ -0.0420703   -0.320768\n",
      "  78 │  0.336562     0.0873729\n",
      "  79 │ -0.496429    -0.0898768\n",
      "  80 │ -0.799335    -1.12247\n",
      "  81 │ -0.950788    -1.33454\n",
      "  82 │ -0.0420703    0.246094\n",
      "  83 │ -1.10224     -1.21668\n",
      "  84 │ -1.17797     -0.819606\n",
      "  85 │  1.47246      1.17575\n",
      "  86 │  2.83554      2.88605\n",
      "  87 │ -0.420703     0.0873729\n",
      "  88 │ -0.420703    -1.09483\n",
      "  89 │  1.0181       0.860692\n",
      "  90 │  0.336562     0.0873729\n",
      "  91 │ -0.799335    -0.962132\n",
      "  92 │  2.00254      1.52787\n",
      "  93 │  1.47246      1.52787\n",
      "  94 │  0.185109     0.671658\n",
      "  95 │ -0.799335    -0.78426\n",
      "  96 │  2.00254      1.52787\n",
      "  97 │  0.563742     0.577142\n",
      "  98 │ -0.799335    -0.223169\n",
      "  99 │  0.488015     0.0873729\n",
      " 100 │  0.185109     0.577142\n",
      " 101 │ -1.40515     -1.21868\n",
      " 102 │ -0.0420703    0.320596\n",
      " 103 │ -0.0420703   -0.116697\n",
      " 104 │  0.336562    -0.12557\n",
      " 105 │  0.185109     0.577142\n",
      " 106 │ -0.420703    -0.320768\n",
      " 107 │ -0.420703    -0.320768\n",
      " 108 │ -0.799335    -1.33534\n",
      " 109 │ -0.0420703    0.491626\n",
      " 110 │  0.185109     0.577142\n",
      " 111 │  2.53263      2.37296\n",
      " 112 │ -0.0420703    0.320596\n",
      " 113 │ -1.40515     -1.81728\n",
      " 114 │  0.185109     0.577142\n",
      " 115 │ -0.950788    -0.962132\n",
      " 116 │  1.0181       0.860692\n",
      " 117 │ -0.420703    -0.12557\n",
      " 118 │  0.109383     0.0873729\n",
      " 119 │ -0.0420703    0.577142\n",
      " 120 │ -0.496429    -0.12557\n",
      " 121 │  1.69964      1.17575\n",
      " 122 │  1.0181       0.577142\n",
      " 123 │ -0.496429    -0.50035\n",
      " 124 │  0.109383    -0.12557\n",
      " 125 │ -1.17797     -0.666118\n",
      " 126 │  0.412289     0.474032\n",
      " 127 │ -0.799335    -0.666118\n",
      " 128 │ -0.496429    -0.666118\n",
      " 129 │ -1.17797     -0.666118\n",
      " 130 │  0.412289     0.0873729\n",
      " 131 │  0.336562     0.577142\n",
      " 132 │ -1.25369     -1.64122\n",
      " 133 │  2.38118      2.37296\n",
      " 134 │ -0.0420703    0.577142\n",
      " 135 │  0.336562    -0.12557\u001b[1m150×2 DataFrame\u001b[0m\n",
      "\u001b[1m Row \u001b[0m│\u001b[1m cylindree   \u001b[0m\u001b[1m id    \u001b[0m\n",
      "     │\u001b[90m Float64     \u001b[0m\u001b[90m Int64 \u001b[0m\n",
      "─────┼────────────────────\n",
      "   1 │ -0.372358        1\n",
      "   2 │ -0.372358        2\n",
      "   3 │ -0.372358        3\n",
      "   4 │ -0.739816        4\n",
      "   5 │  2.05287         5\n",
      "   6 │  1.46493         6\n",
      "   7 │  1.46493         7\n",
      "   8 │ -0.44585         8\n",
      "   9 │  0.362559        9\n",
      "  10 │  1.61192        10\n",
      "  11 │  1.61192        11\n",
      "  12 │  2.12636        12\n",
      "  13 │ -0.739816       13\n",
      "  14 │ -0.44585        14\n",
      "  15 │ -0.372358       15\n",
      "  16 │ -0.00489945     16\n",
      "  17 │  1.68541        17\n",
      "  18 │  1.68541        18\n",
      "  19 │  1.68541        19\n",
      "  20 │  1.68541        20\n",
      "  21 │  2.34683        21\n",
      "  22 │  1.68541        22\n",
      "  23 │  1.68541        23\n",
      "  24 │  2.34683        24\n",
      "  25 │  1.68541        25\n",
      "  26 │  2.34683        26\n",
      "  27 │  1.68541        27\n",
      "  28 │  2.34683        28\n",
      "  29 │  1.46493        29\n",
      "  30 │ -0.00489945     30\n",
      "  31 │  0.215576       31\n",
      "  32 │ -0.372358       32\n",
      "  33 │ -0.44585        33\n",
      "  34 │  0.215576       34\n",
      "  35 │ -0.372358       35\n",
      "  36 │ -0.8868         36\n",
      "  37 │ -0.00489945     37\n",
      "  38 │ -0.00489945     38\n",
      "  39 │ -0.739816       39\n",
      "  40 │ -0.44585        40\n",
      "  41 │  1.46493        41\n",
      "  42 │  0.436051       42\n",
      "  43 │ -0.739816       43\n",
      "  44 │ -0.739816       44\n",
      "  45 │ -0.739816       45\n",
      "  46 │  0.215576       46\n",
      "  47 │ -0.44585        47\n",
      "  48 │  0.436051       48\n",
      "  49 │ -1.32775        49\n",
      "  50 │  1.61192        50\n",
      "  51 │ -0.372358       51\n",
      "  52 │ -0.00489945     52\n",
      "  53 │ -1.10727        53\n",
      "  54 │  1.46493        54\n",
      "  55 │ -0.00489945     55\n",
      "  56 │ -0.00489945     56\n",
      "  57 │ -0.00489945     57\n",
      "  58 │ -0.00489945     58\n",
      "  59 │ -0.739816       59\n",
      "  60 │ -1.10727        60\n",
      "  61 │ -0.739816       61\n",
      "  62 │ -0.739816       62\n",
      "  63 │ -0.739816       63\n",
      "  64 │ -0.739816       64\n",
      "  65 │ -0.739816       65\n",
      "  66 │ -0.00489945     66\n",
      "  67 │ -0.00489945     67\n",
      "  68 │  1.02398        68\n",
      "  69 │  1.02398        69\n",
      "  70 │  1.02398        70\n",
      "  71 │ -0.00489945     71\n",
      "  72 │ -0.00489945     72\n",
      "  73 │ -0.00489945     73\n",
      "  74 │ -0.00489945     74\n",
      "  75 │ -0.00489945     75\n",
      "  76 │  1.02398        76\n",
      "  77 │  2.34683        77\n",
      "  78 │  2.34683        78\n",
      "  79 │ -0.44585        79\n",
      "  80 │  0.215576       80\n",
      "  81 │  0.215576       81\n",
      "  82 │ -0.739816       82\n",
      "  83 │ -0.44585        83\n",
      "  84 │ -0.739816       84\n",
      "  85 │ -0.739816       85\n",
      "  86 │ -0.739816       86\n",
      "  87 │ -0.739816       87\n",
      "  88 │  0.362559       88\n",
      "  89 │ -0.739816       89\n",
      "  90 │ -1.03378        90\n",
      "  91 │  0.362559       91\n",
      "  92 │  2.34683        92\n",
      "  93 │ -0.739816       93\n",
      "  94 │ -0.739816       94\n",
      "  95 │ -0.739816       95\n",
      "  96 │ -0.8868         96\n",
      "  97 │ -0.8868         97\n",
      "  98 │ -0.739816       98\n",
      "  99 │  0.583034       99\n",
      " 100 │ -0.739816      100\n",
      " 101 │ -0.739816      101\n",
      " 102 │ -0.00489945    102\n",
      " 103 │ -0.739816      103\n",
      " 104 │ -0.739816      104\n",
      " 105 │ -0.739816      105\n",
      " 106 │ -0.739816      106\n",
      " 107 │ -0.739816      107\n",
      " 108 │ -0.739816      108\n",
      " 109 │ -0.00489945    109\n",
      " 110 │  0.436051      110\n",
      " 111 │ -0.739816      111\n",
      " 112 │ -0.739816      112\n",
      " 113 │ -1.03378       113\n",
      " 114 │ -0.739816      114\n",
      " 115 │ -1.25426       115\n",
      " 116 │ -0.739816      116\n",
      " 117 │ -0.739816      117\n",
      " 118 │ -0.372358      118\n",
      " 119 │  0.436051      119\n",
      " 120 │ -0.372358      120\n",
      " 121 │ -0.372358      121\n",
      " 122 │  0.362559      122\n",
      " 123 │ -1.10727       123\n",
      " 124 │ -1.10727       124\n",
      " 125 │ -1.10727       125\n",
      " 126 │  0.362559      126\n",
      " 127 │ -1.03378       127\n",
      " 128 │ -0.739816      128\n",
      " 129 │  1.02398       129\n",
      " 130 │ -0.739816      130\n",
      " 131 │ -1.10727       131\n",
      " 132 │ -0.739816      132\n",
      " 133 │ -1.03378       133\n",
      " 134 │  1.46493       134\n",
      " 135 │ -0.739816      135\n",
      " 136 │ -0.372358      136\n",
      " 137 │  0.362559      137\n",
      " 138 │ -1.03378       138\n",
      " 139 │ -1.03378       139\n",
      " 140 │  0.215576      140\n",
      " 141 │  1.46493       141\n",
      " 142 │ -0.739816      142\n",
      " 143 │ -0.739816      143\n",
      " 144 │ -1.03378       144\n",
      " 145 │ -0.739816      145\n",
      " 146 │ -0.739816      146\n",
      " 147 │ -0.00489945    147\n",
      " 148 │ -0.00489945    148\n",
      " 149 │ -1.10727       149\n",
      " 150 │ -0.739816      150[1, 3, 4, 6, 7, 8, 9, 13, 14, 15, 16, 21, 22, 23, 24, 25, 26, 27, 28, 29, 30, 31, 32, 33, 34, 35, 36, 37, 38, 40, 41, 43, 44, 46, 47, 50, 54, 55, 56, 57, 59, 60, 61, 62, 63, 64, 65, 66, 67, 71, 73, 74, 75, 76, 77, 78, 79, 80, 81, 82, 83, 84, 85, 86, 87, 89, 90, 91, 93, 94, 95, 100, 101, 102, 103, 104, 105, 106, 108, 109, 111, 113, 114, 116, 117, 120, 121, 122, 123, 126, 127, 128, 129, 130, 131, 133, 134, 135, 136, 137, 138, 139, 140, 141, 142, 143, 144, 145, 146, 147, 148, 149, 150]\n",
      "\u001b[1m37×1 DataFrame\u001b[0m\n",
      "\u001b[1m Row \u001b[0m│\u001b[1m cylindree \u001b[0m\n",
      "     │\u001b[90m Float64   \u001b[0m\n",
      "─────┼───────────\n",
      "   1 │ -0.549059\n",
      "   2 │  1.61353\n",
      "   3 │  1.22033\n",
      "   4 │  1.22033\n",
      "   5 │  1.67906\n",
      "   6 │  1.28586\n",
      "   7 │  1.28586\n",
      "   8 │  1.28586\n",
      "   9 │  1.28586\n",
      "  10 │ -0.876724\n",
      "  11 │  0.171802\n",
      "  12 │ -0.876724\n",
      "  13 │  0.171802\n",
      "  14 │ -1.40099\n",
      "  15 │ -0.549059\n",
      "  16 │ -0.221395\n",
      "  17 │ -1.20439\n",
      "  18 │ -0.221395\n",
      "  19 │  0.696065\n",
      "  20 │  0.696065\n",
      "  21 │  0.696065\n",
      "  22 │ -0.221395\n",
      "  23 │  0.10627\n",
      "  24 │  1.87566\n",
      "  25 │ -1.00779\n",
      "  26 │ -1.00779\n",
      "  27 │ -0.876724\n",
      "  28 │  0.302868\n",
      "  29 │ -0.876724\n",
      "  30 │  0.171802\n",
      "  31 │ -0.876724\n",
      "  32 │ -1.33545\n",
      "  33 │ -0.549059\n",
      "  34 │  0.171802\n",
      "  35 │ -1.20439\n",
      "  36 │ -1.20439\n",
      "  37 │ -0.876724\u001b[1m150×2 DataFrame\u001b[0m\n",
      "\u001b[1m Row \u001b[0m│\u001b[1m id    \u001b[0m\u001b[1m consommation \u001b[0m\n",
      "     │\u001b[90m Int64 \u001b[0m\u001b[90m Float64      \u001b[0m\n",
      "─────┼─────────────────────\n",
      "   1 │     1       8.11069\n",
      "   2 │     2       9.25075\n",
      "   3 │     3       8.66848\n",
      "   4 │     4       8.71148\n",
      "   5 │     5      13.6072\n",
      "   6 │     6      13.8359\n",
      "   7 │     7      13.8359\n",
      "   8 │     8      10.2265\n",
      "   9 │     9      10.9459\n",
      "  10 │    10      12.8151\n",
      "  11 │    11      12.8151\n",
      "  12 │    12      13.7392\n",
      "  13 │    13       9.30079\n",
      "  14 │    14      10.3044\n",
      "  15 │    15       8.11069\n",
      "  16 │    16      11.5738\n",
      "  17 │    17      12.9471\n",
      "  18 │    18      12.9471\n",
      "  19 │    19      12.9471\n",
      "  20 │    20      12.9471\n",
      "  21 │    21      13.8359\n",
      "  22 │    22      13.0672\n",
      "  23 │    23      13.0672\n",
      "  24 │    24      13.8359\n",
      "  25 │    25      13.0672\n",
      "  26 │    26      14.7006\n",
      "  27 │    27      13.0672\n",
      "  28 │    28      14.7006\n",
      "  29 │    29      12.6546\n",
      "  30 │    30      10.5223\n",
      "  31 │    31      11.9668\n",
      "  32 │    32       8.66848\n",
      "  33 │    33      10.3953\n",
      "  34 │    34      11.9668\n",
      "  35 │    35       9.04654\n",
      "  36 │    36       7.58742\n",
      "  37 │    37      10.5223\n",
      "  38 │    38      10.5223\n",
      "  39 │    39       8.59068\n",
      "  40 │    40       9.04654\n",
      "  41 │    41      13.0672\n",
      "  42 │    42      10.7029\n",
      "  43 │    43      10.1294\n",
      "  44 │    44       7.58567\n",
      "  45 │    45       8.59068\n",
      "  46 │    46      11.2107\n",
      "  47 │    47      10.3953\n",
      "  48 │    48      10.7029\n",
      "  49 │    49       7.53458\n",
      "  50 │    50      14.4124\n",
      "  51 │    51       9.25075\n",
      "  52 │    52       9.91081\n",
      "  53 │    53       7.93062\n",
      "  54 │    54      13.0672\n",
      "  55 │    55      10.5223\n",
      "  56 │    56      10.5223\n",
      "  57 │    57      11.2005\n",
      "  58 │    58       9.91081\n",
      "  59 │    59       8.96277\n",
      "  60 │    60       8.71148\n",
      "  61 │    61       8.87901\n",
      "  62 │    62       9.61229\n",
      "  63 │    63      10.0135\n",
      "  64 │    64      10.0135\n",
      "  65 │    65       8.79525\n",
      "  66 │    66      11.0378\n",
      "  67 │    67      11.0378\n",
      "  68 │    68      11.759\n",
      "  69 │    69      11.759\n",
      "  70 │    70      11.759\n",
      "  71 │    71      10.2459\n",
      "  72 │    72       9.91081\n",
      "  73 │    73      10.2459\n",
      "  74 │    74      10.1924\n",
      "  75 │    75      10.2459\n",
      "  76 │    76      12.3795\n",
      "  77 │    77      15.6807\n",
      "  78 │    78      15.6807\n",
      "  79 │    79      10.3953\n",
      "  80 │    80      11.9668\n",
      "  81 │    81      11.7801\n",
      "  82 │    82       9.30079\n",
      "  83 │    83       9.64327\n",
      "  84 │    84       8.71148\n",
      "  85 │    85       8.71148\n",
      "  86 │    86       8.78864\n",
      "  87 │    87      10.1294\n",
      "  88 │    88      10.5709\n",
      "  89 │    89       8.12035\n",
      "  90 │    90       8.11713\n",
      "  91 │    91      10.2265\n",
      "  92 │    92      14.1352\n",
      "  93 │    93       8.18793\n",
      "  94 │    94       8.12035\n",
      "  95 │    95       8.12035\n",
      "  96 │    96       8.32666\n",
      "  97 │    97       8.32666\n",
      "  98 │    98       8.59068\n",
      "  99 │    99      10.9669\n",
      " 100 │   100      10.1294\n",
      " 101 │   101       8.71148\n",
      " 102 │   102      11.4041\n",
      " 103 │   103       9.04654\n",
      " 104 │   104       8.78864\n",
      " 105 │   105       8.40036\n",
      " 106 │   106       8.79525\n",
      " 107 │   107       8.59068\n",
      " 108 │   108      10.1294\n",
      " 109 │   109      11.2005\n",
      " 110 │   110      10.7029\n",
      " 111 │   111       8.78864\n",
      " 112 │   112       8.59068\n",
      " 113 │   113       8.11069\n",
      " 114 │   114       9.30079\n",
      " 115 │   115       7.66659\n",
      " 116 │   116       8.75935\n",
      " 117 │   117       7.93627\n",
      " 118 │   118       9.25075\n",
      " 119 │   119      10.7029\n",
      " 120 │   120       9.80042\n",
      " 121 │   121       9.4084\n",
      " 122 │   122      10.2265\n",
      " 123 │   123       8.71148\n",
      " 124 │   124       7.93062\n",
      " 125 │   125       7.93062\n",
      " 126 │   126      10.9459\n",
      " 127 │   127       7.53425\n",
      " 128 │   128      10.1294\n",
      " 129 │   129      12.9347\n",
      " 130 │   130       8.75935\n",
      " 131 │   131       8.40036\n",
      " 132 │   132       8.59068\n",
      " 133 │   133       7.53425\n",
      " 134 │   134      14.7006\n",
      " 135 │   135      10.1294\n",
      " 136 │   136       9.53164\n",
      " 137 │   137      10.9459\n",
      " 138 │   138       7.53425\n",
      " 139 │   139       7.35031\n",
      " 140 │   140      11.7605\n",
      " 141 │   141      12.6546\n",
      " 142 │   142      10.1294\n",
      " 143 │   143       9.30079\n",
      " 144 │   144       7.53425\n",
      " 145 │   145       8.60777\n",
      " 146 │   146       8.87901\n",
      " 147 │   147      11.7605\n",
      " 148 │   148      10.9173\n",
      " 149 │   149       7.58742\n",
      " 150 │   150       7.93627\n"
     ]
    },
    {
     "data": {
      "text/plain": [
       "\"./soumissions_potentielles/benchmark_2024-12-01_15-46-23.csv\""
      ]
     },
     "execution_count": 2008,
     "metadata": {},
     "output_type": "execute_result"
    }
   ],
   "source": [
    "function main()\n",
    "    # println(find_duplicates(trainData))\n",
    "\n",
    "    # Step 1: Get Unique Data\n",
    "    uniqueD = get_unique_data(trainData)\n",
    "    # println(uniqueD)\n",
    "    uniqueD = remove_outliers_regression_lin(uniqueD, :cylindree, :consommation, threshold=2.5)\n",
    "\n",
    "    unique_standard = getStandardEncodedData(uniqueD)\n",
    "    predictStandard = getStandardEncodedData(testData)\n",
    "    # evaluate_rmse(uniqueD)\n",
    "\n",
    "    # println(uniqueD)\n",
    "    # println(predictStandard)\n",
    "\n",
    "\n",
    "    # format_file(predict_with_dups(unique_standard, predictStandard, uniqueD, testData))\n",
    "\n",
    "\n",
    "    predict_with_dups(unique_standard, predictStandard, uniqueD, testData)\n",
    "    # format_file(predict_with_dups(uniqueD, testData))\n",
    " \n",
    "end\n",
    "main()"
   ]
  },
  {
   "cell_type": "code",
   "execution_count": 2009,
   "metadata": {},
   "outputs": [],
   "source": [
    "# for type in unique(trainData.type)\n",
    "#     println(type)\n",
    "#     data_type = trainData[trainData.type .== type, :]\n",
    "#     println(combine(groupby(data_type, :transmission), :consommation => mean, :volume_gaz => mean, nrow => :nrow))\n",
    "#     println()\n",
    "# end"
   ]
  },
  {
   "cell_type": "code",
   "execution_count": 2010,
   "metadata": {},
   "outputs": [],
   "source": [
    "# for type in unique(trainData.type)\n",
    "#     println(type)\n",
    "#     data_type = trainData[trainData.type .== type, :]\n",
    "#     display(plot(x=data_type.volume_gaz, y=data_type.consommation))\n",
    "#     println()\n",
    "# end"
   ]
  },
  {
   "cell_type": "markdown",
   "metadata": {},
   "source": [
    "## Exploration des données"
   ]
  }
 ],
 "metadata": {
  "kernelspec": {
   "display_name": "Julia 1.10.5",
   "language": "julia",
   "name": "julia-1.10"
  },
  "language_info": {
   "file_extension": ".jl",
   "mimetype": "application/julia",
   "name": "julia",
   "version": "1.10.5"
  }
 },
 "nbformat": 4,
 "nbformat_minor": 2
}
