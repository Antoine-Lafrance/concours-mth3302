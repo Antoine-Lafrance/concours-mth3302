{
 "cells": [
  {
   "cell_type": "markdown",
   "metadata": {},
   "source": [
    "# MTH3302 - Méthodes probabilistes et statistiques pour I.A.\n",
    "#### Polytechnique Montréal\n",
    "### Projet A2024\n",
    "----\n",
    "Équipe T - TODO\n",
    "### Objectif\n",
    "Prédiction de **la consommation en carburant de voitures récentes**.\n",
    "\n",
    "### Données\n",
    "Le jeu de données contient pour presque 400 véhicule, la consommation moyenne en L/100km, l'année de frabrication, le type de véhicule, le nombre de cylindre, cylindree, la transmission et la boite.\n",
    "\n",
    "- `train.csv` est l'ensemble d'entraînement\n",
    "- `test.csv` est l'ensemble de test\n"
   ]
  },
  {
   "cell_type": "markdown",
   "metadata": {},
   "source": [
    "## Chargement des données"
   ]
  },
  {
   "cell_type": "markdown",
   "metadata": {},
   "source": [
    "Importation des librairies utilisées dans le calepin."
   ]
  },
  {
   "cell_type": "markdown",
   "metadata": {},
   "source": [
    "// TODO: à enlever à la fin:\n",
    "\n",
    "Pour importer librairies:\n",
    "using Pkg\n",
    "Pkg.add([\"CSV\", \"DataFrames\", \"Combinatorics\", \"Gadfly\", \"Distributions\"], ...)"
   ]
  },
  {
   "cell_type": "code",
   "execution_count": 210,
   "metadata": {},
   "outputs": [],
   "source": [
    "# import Pkg; Pkg.add(\"Plots\")\n",
    "# import Pkg; Pkg.add(\"DecisionTree\")"
   ]
  },
  {
   "cell_type": "code",
   "execution_count": 211,
   "metadata": {},
   "outputs": [],
   "source": [
    "# using CSV, DataFrames, Statistics, Dates, Gadfly, LinearAlgebra, DecisionTree,Random, Base"
   ]
  },
  {
   "cell_type": "code",
   "execution_count": 212,
   "metadata": {},
   "outputs": [
    {
     "data": {
      "text/plain": [
       "standardize_data (generic function with 1 method)"
      ]
     },
     "execution_count": 212,
     "metadata": {},
     "output_type": "execute_result"
    }
   ],
   "source": [
    "function standardize(data)\n",
    "    return (data .- mean(data)) ./ std(data)\n",
    "end\n",
    "\n",
    "function standardize_data(data)\n",
    "    stddata = deepcopy(data)\n",
    "   for col in names(stddata)\n",
    "        if eltype(stddata[!, col]) <: Number && col != \"id\"\n",
    "            stddata[!, col] = standardize(stddata[!, col])\n",
    "        end\n",
    "    end\n",
    "    return stddata\n",
    "end"
   ]
  },
  {
   "cell_type": "code",
   "execution_count": 213,
   "metadata": {},
   "outputs": [
    {
     "data": {
      "text/plain": [
       "encode_data (generic function with 1 method)"
      ]
     },
     "execution_count": 213,
     "metadata": {},
     "output_type": "execute_result"
    }
   ],
   "source": [
    "function encode(data, column)\n",
    "    for c in unique(data[!, column])\n",
    "        data[!, Symbol(c)] = ifelse.(data[!, column] .== c, 1, 0)\n",
    "    end\n",
    "    return data\n",
    "end\n",
    "\n",
    "function encode_data(data)\n",
    "    encoded_data = deepcopy(data)\n",
    "    encoded_data = encode(encoded_data, :general_type)\n",
    "    encoded_data = encode(encoded_data, :transmission)\n",
    "    encoded_data = encode(encoded_data, :boite)\n",
    "    return encoded_data\n",
    "end"
   ]
  },
  {
   "cell_type": "code",
   "execution_count": 214,
   "metadata": {},
   "outputs": [
    {
     "data": {
      "text/plain": [
       "removeRows (generic function with 1 method)"
      ]
     },
     "execution_count": 214,
     "metadata": {},
     "output_type": "execute_result"
    }
   ],
   "source": [
    "function removeRows(data)\n",
    "    return select!(data, Not([:type, :transmission, :boite, :general_type]))\n",
    "end"
   ]
  },
  {
   "cell_type": "code",
   "execution_count": 215,
   "metadata": {},
   "outputs": [
    {
     "data": {
      "text/plain": [
       "add_rows (generic function with 1 method)"
      ]
     },
     "execution_count": 215,
     "metadata": {},
     "output_type": "execute_result"
    }
   ],
   "source": [
    "function add_rows(data)\n",
    "    data[!,:volume_gaz] = data[!,:nombre_cylindres] .* data[!,:cylindree]\n",
    "\n",
    "    # https://www.insurancenavy.com/average-car-weight/\n",
    "    # https://www.auto-tests.com/fr/lightest-weight/Wagon/all/\n",
    "    # weight_dict = Dict(\"voiture_moyenne\" => 3300, \"VUS_petit\" => 3500, \"voiture_compacte\" => 2800, \"voiture_deux_places\" => 2800, \"voiture_minicompacte\" => 1500, \"VUS_standard\" => 5000, \"monospace\" => 4500, \"voiture_sous_compacte\" => 2600, \"camionnette_petit\" => 4200, \"break_petit\" => 2640, \"voiture_grande\" => 4400, \"camionnette_standard\" => 4700, \"break_moyen\" => 3300)\n",
    "    # data[!, :weight] = [weight_dict[t] for t in data[!, :type]]\n",
    "\n",
    "    general_type_dict = Dict(\"voiture_moyenne\" => \"voiture\", \"VUS_petit\" => \"VUS\", \"voiture_compacte\" => \"voiture\", \"voiture_deux_places\" => \"voiture\", \"voiture_minicompacte\" => \"voiture\", \"VUS_standard\" => \"VUS\", \"monospace\" => \"camionnette\", \"voiture_sous_compacte\" => \"voiture\", \"camionnette_petit\" => \"camionnette\", \"break_petit\" => \"break\", \"voiture_grande\" => \"voiture\", \"camionnette_standard\" => \"camionnette\", \"break_moyen\" => \"break\")\n",
    "    data[!, :general_type] = [general_type_dict[t] for t in data[!, :type]]\n",
    "    \n",
    "    # display(plot(data, x=:general_type, y=:consommation, color=:type))\n",
    "    # println(combine(groupby(data, :type), nrow => :count))\n",
    "    return data\n",
    "end"
   ]
  },
  {
   "cell_type": "code",
   "execution_count": 216,
   "metadata": {},
   "outputs": [
    {
     "data": {
      "text/plain": [
       "getStandardEncodedData (generic function with 1 method)"
      ]
     },
     "execution_count": 216,
     "metadata": {},
     "output_type": "execute_result"
    }
   ],
   "source": [
    "function getStandardEncodedData(data)\n",
    "    data_copy = deepcopy(data)\n",
    "    standardised_data = add_rows(data_copy)\n",
    "    standardised_data = standardize_data(data_copy)\n",
    "    standardised_data = encode_data(standardised_data)\n",
    "    standardised_data = removeRows(standardised_data)\n",
    "    \n",
    "    print(standardised_data)\n",
    "    return standardised_data\n",
    "end\n",
    "\n",
    "\n"
   ]
  },
  {
   "cell_type": "code",
   "execution_count": 217,
   "metadata": {},
   "outputs": [
    {
     "data": {
      "text/plain": [
       "rmse (generic function with 1 method)"
      ]
     },
     "execution_count": 217,
     "metadata": {},
     "output_type": "execute_result"
    }
   ],
   "source": [
    "function rmse(y, ychap)\n",
    "    return sqrt(mean((ychap .- y).^2))\n",
    "end\n"
   ]
  },
  {
   "cell_type": "code",
   "execution_count": 218,
   "metadata": {},
   "outputs": [
    {
     "data": {
      "text/plain": [
       "rsquared (generic function with 1 method)"
      ]
     },
     "execution_count": 218,
     "metadata": {},
     "output_type": "execute_result"
    }
   ],
   "source": [
    "function rsquared(y, ychap)\n",
    "    ss_total = sum((y .- mean(y)).^2)\n",
    "    ss_res = sum((y .- ychap).^2)\n",
    "    return ss_res / ss_total\n",
    "end\n"
   ]
  },
  {
   "cell_type": "code",
   "execution_count": 219,
   "metadata": {},
   "outputs": [
    {
     "data": {
      "text/plain": [
       "train_test_split (generic function with 3 methods)"
      ]
     },
     "execution_count": 219,
     "metadata": {},
     "output_type": "execute_result"
    }
   ],
   "source": [
    "function train_test_split(data, test_size=0.2, shuffle=true)\n",
    "    n = size(data, 1)\n",
    "    test_size = floor(Int, n * test_size)\n",
    "    \n",
    "    if shuffle\n",
    "        indices = randperm(n)\n",
    "    else\n",
    "        indices = 1:n\n",
    "    end\n",
    "    \n",
    "    test_indices = indices[1:test_size]\n",
    "    train_indices = indices[test_size+1:end]\n",
    "    \n",
    "    train_data = data[train_indices, :]\n",
    "    test_data = data[test_indices, :]\n",
    "    \n",
    "    return train_data, test_data\n",
    "end"
   ]
  },
  {
   "cell_type": "code",
   "execution_count": 220,
   "metadata": {},
   "outputs": [
    {
     "data": {
      "text/plain": [
       "25-element Vector{Float64}:\n",
       " 13.8358823529412\n",
       "  9.80041666666667\n",
       " 11.7605\n",
       " 13.0672222222222\n",
       "  7.3503125\n",
       "  7.58741935483871\n",
       " 11.2004761904762\n",
       " 14.700625\n",
       " 12.3794736842105\n",
       " 10.6913636363636\n",
       "  9.4084\n",
       " 15.6806666666667\n",
       "  8.71148148148148\n",
       "  8.11068965517241\n",
       " 10.2265217391304\n",
       "  7.84033333333333\n",
       "  8.40035714285714\n",
       "  9.04653846153846\n",
       " 16.8007142857143\n",
       "  6.91794117647059\n",
       "  6.35702702702703\n",
       "  4.52326923076923\n",
       "  7.12757575757576\n",
       "  4.90020833333333\n",
       "  6.53361111111111"
      ]
     },
     "execution_count": 220,
     "metadata": {},
     "output_type": "execute_result"
    }
   ],
   "source": [
    "trainData = CSV.read(\"./data/train.csv\", DataFrame)\n",
    "testData = CSV.read(\"./data/test.csv\", DataFrame)\n",
    "trainData.consommation = parse.(Float64,replace.(trainData.consommation, \",\" => \".\"))\n",
    "trainData.cylindree = parse.(Float64,replace.(trainData.cylindree, \",\" => \".\"))\n",
    "testData.cylindree = parse.(Float64,replace.(testData.cylindree, \",\" => \".\"))\n",
    "\n",
    "\n",
    "COMSOMMATION_MEAN = mean(trainData.consommation)\n",
    "COMSOMMATION_STD = std(trainData.consommation)\n",
    "trainData[!, :id] = 1:nrow(trainData)\n",
    "testData[!, :id] = 1:nrow(testData)\n",
    "\n",
    "possibles = unique(trainData.consommation)\n"
   ]
  },
  {
   "cell_type": "code",
   "execution_count": 221,
   "metadata": {},
   "outputs": [
    {
     "data": {
      "text/plain": [
       "evaluate_rmse (generic function with 1 method)"
      ]
     },
     "execution_count": 221,
     "metadata": {},
     "output_type": "execute_result"
    }
   ],
   "source": [
    "function evaluate_rmse(data)\n",
    "    nrange = 1000\n",
    "    n = 0\n",
    "    for i in range(0, 1, length=nrange)\n",
    "        n += regression(data)[1]\n",
    "    end\n",
    "    print(\"average rmse for regression: \", n/nrange, \"\\n\")\n",
    "\n",
    "    # n = 0\n",
    "    # for i in range(0, 1, length=nrange)\n",
    "    #     n += ridge_regression(data, 0.1, 0.05)[1]\n",
    "    # end\n",
    "    # print(\"average rmse for ridge: \", n/nrange, \"\\n\")\n",
    "\n",
    "    # n = 0\n",
    "    # for i in range(0, 1, length=nrange)\n",
    "    #     n += svd_regression(data, 0.05)[1]\n",
    "    # end\n",
    "    # print(\"average rmse for svd: \", n/nrange, \"\\n\")\n",
    "\n",
    "    # nrange = 1000\n",
    "    # n = 0\n",
    "    # for i in range(0, 1, length=nrange)\n",
    "    #     n += polynomial_regression(data,2, 0.05)[1]\n",
    "    # end\n",
    "    # print(\"average rmse for polynomial regression: \", n/nrange, \"\\n\")\n",
    "\n",
    "end\n"
   ]
  },
  {
   "cell_type": "code",
   "execution_count": 222,
   "metadata": {},
   "outputs": [
    {
     "data": {
      "text/plain": [
       "format_file (generic function with 1 method)"
      ]
     },
     "execution_count": 222,
     "metadata": {},
     "output_type": "execute_result"
    }
   ],
   "source": [
    "function remise(prediction)\n",
    "    id = 1:150\n",
    "    df_pred = DataFrame(id=id, consommation=prediction)\n",
    "\n",
    "   format_file(df_pred)\n",
    "end\n",
    "\n",
    "function format_file(predictions)\n",
    "    println(predictions)\n",
    "    current_time = Dates.format(now(), \"yyyy-mm-dd_HH-MM-SS\")\n",
    "    file_name = \"benchmark_\" * current_time * \".csv\"\n",
    "    CSV.write(\"./soumissions_potentielles/\" *file_name, predictions)\n",
    "end"
   ]
  },
  {
   "cell_type": "code",
   "execution_count": 223,
   "metadata": {},
   "outputs": [],
   "source": [
    "# findnearest(A::Vector{Float64},t::Float64) = A[findmin(broadcast(abs,A.-t))[2]]\n",
    "\n",
    "# function findnearest(A::Vector{Float64},t::Float64)\n",
    "#     nearest_value = A[1]\n",
    "#     smallest_diff = abs(A[1] - t)\n",
    "#     for value in A\n",
    "#         diff = abs(value - t)\n",
    "#         if diff < smallest_diff\n",
    "#             smallest_diff = diff\n",
    "#             nearest_value = value\n",
    "#         end\n",
    "#     end\n",
    "#     if smallest_diff > 0.3\n",
    "#         # println(\"Warning: the nearest value is \", nearest_value, \" the value was \", t,\" with a difference of \", smallest_diff)\n",
    "#     end\n",
    "#     return nearest_value\n",
    "    \n",
    "# end\n"
   ]
  },
  {
   "cell_type": "code",
   "execution_count": 224,
   "metadata": {},
   "outputs": [
    {
     "data": {
      "text/plain": [
       "predict_with_dups (generic function with 1 method)"
      ]
     },
     "execution_count": 224,
     "metadata": {},
     "output_type": "execute_result"
    }
   ],
   "source": [
    "COLUMNS_TO_COMPARE = [\"type\", \"nombre_cylindres\", \"cylindree\", \"transmission\", \"boite\"]\n",
    "\n",
    "function get_unique_data(data)\n",
    "    unique_data = combine(groupby(data, COLUMNS_TO_COMPARE), :consommation => mean, :annee => first)\n",
    "    rename!(unique_data, :consommation_mean => :consommation)\n",
    "    rename!(unique_data, :annee_first => :annee)\n",
    "    return unique_data\n",
    "end\n",
    "\n",
    "function find_pairs(data_train, data_predict)\n",
    "    train_data_without_consommation = select(data_train, Not(:consommation, :annee))\n",
    "    # print(train_data_without_consommation)\n",
    "    predict_data_without_annee = select(data_predict, Not(:annee))\n",
    "    # print(predict_data_without_annee)\n",
    "\n",
    "    common_values = innerjoin(data_train, predict_data_without_annee, on=names(train_data_without_consommation))\n",
    "\n",
    "    println(common_values.id)\n",
    "    # print(common_values)\n",
    "    return common_values\n",
    "end\n",
    "\n",
    "function find_differents(data_train, data_predict)\n",
    "    different_values = antijoin(data_predict, data_train, on=COLUMNS_TO_COMPARE)\n",
    "    return different_values\n",
    "    \n",
    "end\n",
    "\n",
    "function predict_with_dups(data_train, data_predict, raw_data_train, raw_data_predict)\n",
    "    pairs = find_pairs(raw_data_train, raw_data_predict)\n",
    "    pairs = select(pairs, [:id, :consommation])\n",
    "\n",
    "    # println(first(raw_data_train,1))\n",
    "    # println(first(raw_data_predict,1))\n",
    "\n",
    "    # println(pairs)\n",
    "\n",
    "    different_values = find_differents(raw_data_train, raw_data_predict)\n",
    "    # println(different_values)\n",
    "\n",
    "    beta = regression(data_train, 0.0)[2]\n",
    "\n",
    "    println(beta)\n",
    "    data_predict = getStandardEncodedData(different_values[!, Not(:id)])\n",
    "\n",
    "\n",
    "    data_predict = Matrix(data_predict[:, names(data_train[:, Not(:consommation)])])\n",
    "\n",
    "    prediction_differents = data_predict * beta\n",
    "\n",
    "    # print(prediction)\n",
    "\n",
    "\n",
    "    prediction_differents = (prediction_differents .* COMSOMMATION_STD) .+ COMSOMMATION_MEAN\n",
    "\n",
    "    prediction_differents = DataFrame(id=different_values.id, consommation=prediction_differents)\n",
    "\n",
    "    # print(prediction_differents)\n",
    "    # print(pairs)\n",
    "\n",
    "    prediction = vcat(pairs, prediction_differents)\n",
    "    prediction = sort(prediction, :id)\n",
    "    # println(prediction)\n",
    "\n",
    "    # print(prediction)\n",
    "    return prediction\n",
    "end\n",
    "    \n",
    "    "
   ]
  },
  {
   "cell_type": "code",
   "execution_count": 225,
   "metadata": {},
   "outputs": [
    {
     "data": {
      "text/plain": [
       "linear_regression (generic function with 1 method)"
      ]
     },
     "execution_count": 225,
     "metadata": {},
     "output_type": "execute_result"
    }
   ],
   "source": [
    "function linear_regression(data, x_col, y_col)\n",
    "    # Extract x and y data from the DataFrame\n",
    "    x = data[!, x_col]\n",
    "    y = data[!, y_col]\n",
    "    \n",
    "    # Ensure there is enough data for the calculation\n",
    "    n = length(x)\n",
    "    if n == 0\n",
    "        error(\"Cannot compute linear regression with zero elements.\")\n",
    "    end\n",
    "    \n",
    "    # Calculate the mean values\n",
    "    x_mean = mean(x)\n",
    "    y_mean = mean(y)\n",
    "    \n",
    "    # Calculate slope and intercept for linear regression\n",
    "    slope = sum((x .- x_mean) .* (y .- y_mean)) / sum((x .- x_mean).^2)\n",
    "    intercept = y_mean - slope * x_mean\n",
    "    \n",
    "    return slope, intercept\n",
    "end"
   ]
  },
  {
   "cell_type": "code",
   "execution_count": 226,
   "metadata": {},
   "outputs": [
    {
     "data": {
      "text/plain": [
       "get_outliers_ind_regression_lin (generic function with 1 method)"
      ]
     },
     "execution_count": 226,
     "metadata": {},
     "output_type": "execute_result"
    }
   ],
   "source": [
    "\n",
    "function get_outliers_ind_regression_lin(data, x_col, y_col; threshold=2.5)\n",
    "    slope, intercept = linear_regression(data, x_col, y_col)\n",
    "    \n",
    "    x = data[!, x_col]\n",
    "    y = data[!, y_col]\n",
    "    \n",
    "    y_pred = slope .* x .+ intercept\n",
    "    \n",
    "    residuals = abs.(y .- y_pred)\n",
    "    \n",
    "    residuals_std = std(residuals)\n",
    "    \n",
    "    outlier_indices = findall(residuals .> threshold * residuals_std)\n",
    "    \n",
    "\n",
    "    for idx in outlier_indices\n",
    "        # println(\"Outlier detected at row $idx: \", \"x = \", x[idx], \", y = \", y[idx], \", Residual = \", residuals[idx])\n",
    "    end\n",
    "\n",
    "    outliers = data[outlier_indices, :]\n",
    "    \n",
    "    return outlier_indices\n",
    "end\n"
   ]
  },
  {
   "cell_type": "code",
   "execution_count": 227,
   "metadata": {},
   "outputs": [],
   "source": [
    "function get_outliers_regression_lin(data, outliers_indices)\n",
    "    outliers = data[outliers_indices, :]\n",
    "    return outliers\n",
    "end;"
   ]
  },
  {
   "cell_type": "code",
   "execution_count": 228,
   "metadata": {},
   "outputs": [
    {
     "data": {
      "text/plain": [
       "remove_outliers_regression_lin (generic function with 1 method)"
      ]
     },
     "execution_count": 228,
     "metadata": {},
     "output_type": "execute_result"
    }
   ],
   "source": [
    "function remove_outliers_regression_lin(data::DataFrame, x_col::Symbol, y_col::Symbol; threshold=2.5)\n",
    "    outlier_indices = get_outliers_ind_regression_lin(data, x_col, y_col, threshold=threshold)\n",
    "\n",
    "    # println(\"Outlier Indices Identified: \", outlier_indices)\n",
    "\n",
    "    keep_mask = trues(nrow(data))\n",
    "    \n",
    "    if !isempty(outlier_indices)\n",
    "        keep_mask[outlier_indices] .= false\n",
    "    end\n",
    "\n",
    "    cleaned_data = data[keep_mask, :]\n",
    "    \n",
    "    return cleaned_data\n",
    "end"
   ]
  },
  {
   "cell_type": "code",
   "execution_count": 229,
   "metadata": {},
   "outputs": [
    {
     "data": {
      "text/plain": [
       "plot_outliers (generic function with 1 method)"
      ]
     },
     "execution_count": 229,
     "metadata": {},
     "output_type": "execute_result"
    }
   ],
   "source": [
    " function plot_outliers(uniqueD)\n",
    " # Step 2: Find and Display Outliers with Regression\n",
    " outliers_indices = get_outliers_ind_regression_lin(uniqueD, :cylindree, :consommation)\n",
    " outliers_regression = get_outliers_regression_lin(uniqueD, outliers_indices)\n",
    "\n",
    " # Step 3: Plot Original Data, Regression Line, and Outliers\n",
    " slope, intercept = linear_regression(uniqueD, :cylindree, :consommation)\n",
    " regression_line_y = slope .* uniqueD.cylindree .+ intercept\n",
    "\n",
    " layer_original = layer(x=uniqueD.cylindree, y=uniqueD.consommation, color=uniqueD.type, Theme(default_color=\"blue\"))\n",
    " layer_linear_regression = layer(x=uniqueD.cylindree, y=regression_line_y, Geom.line, Theme(default_color=\"green\"))\n",
    " layer_regression_outliers = layer(x=outliers_regression.cylindree, y=outliers_regression.consommation, Geom.point, Theme(default_color=\"red\"))\n",
    "\n",
    " \n",
    " display(plot(layer_regression_outliers, layer_original, layer_linear_regression, Guide.xlabel(\"Cylindree\"), Guide.ylabel(\"Consommation\"), Guide.title(\"Original Data with Outliers\")))\n",
    "\n",
    " # Step 4: Remove Outliers Based on Regression Line\n",
    " cleaned_data = remove_outliers_regression_lin(uniqueD, :cylindree, :consommation, threshold=2.5)\n",
    "\n",
    " # Step 5: Plot Cleaned Data with New Regression Line\n",
    " slope_cleaned, intercept_cleaned = linear_regression(cleaned_data, :cylindree, :consommation)\n",
    " regression_line_y_cleaned = slope_cleaned .* cleaned_data.cylindree .+ intercept_cleaned\n",
    "\n",
    "layer_cleaned = layer(x=cleaned_data.cylindree, y=cleaned_data.consommation, color=cleaned_data.type, Theme(default_color=\"blue\"))\n",
    "layer_linear_regression_cleaned = layer(x=cleaned_data.cylindree, y=regression_line_y_cleaned, Geom.line, Theme(default_color=\"green\"))\n",
    "\n",
    "# Display plot for cleaned data\n",
    "display(plot(layer_cleaned, layer_linear_regression_cleaned, \n",
    "             Guide.xlabel(\"Cylindree\"), Guide.ylabel(\"Consommation\"), Guide.title(\"Cleaned Data with Regression Line\")))\n",
    "\n",
    "end"
   ]
  },
  {
   "cell_type": "code",
   "execution_count": 230,
   "metadata": {},
   "outputs": [
    {
     "data": {
      "text/plain": [
       "regression (generic function with 2 methods)"
      ]
     },
     "execution_count": 230,
     "metadata": {},
     "output_type": "execute_result"
    }
   ],
   "source": [
    "function regression(standardised_data, trainTestSplitPercentage = 0.2)\n",
    "    training_data, test_data = train_test_split(standardised_data, trainTestSplitPercentage)\n",
    "\n",
    "    X_train =  Matrix(training_data[:, Not(:consommation)])\n",
    "    y_train = training_data[:, :consommation]\n",
    "\n",
    "    beta = X_train \\ y_train\n",
    "\n",
    "    rmseval = 0.0\n",
    "    if trainTestSplitPercentage != 0.0\n",
    "        X_test = Matrix(test_data[:, Not(:consommation)])\n",
    "        y_test = test_data[:, :consommation]\n",
    "        ychap =  X_test * beta\n",
    "        ychap = (ychap .* COMSOMMATION_STD) .+ COMSOMMATION_MEAN\n",
    "        y_test = (y_test .* COMSOMMATION_STD) .+ COMSOMMATION_MEAN\n",
    "        rmseval = rmse(y_test, ychap)\n",
    "    end\n",
    "    \n",
    "    return rmseval, beta, training_data, test_data\n",
    "end"
   ]
  },
  {
   "cell_type": "code",
   "execution_count": 231,
   "metadata": {},
   "outputs": [
    {
     "data": {
      "text/plain": [
       "remise_regression (generic function with 1 method)"
      ]
     },
     "execution_count": 231,
     "metadata": {},
     "output_type": "execute_result"
    }
   ],
   "source": [
    "function remise_regression(beta)\n",
    "    test_data = getStandardEncodedData(testData)\n",
    "    X_test = Matrix(test_data[!,Not(:id)])\n",
    "    ychap =  X_test * beta\n",
    "    # ychap = (ychap .* COMSOMMATION_STD) .+ COMSOMMATION_MEAN\n",
    "    remise(ychap)\n",
    "end\n"
   ]
  },
  {
   "cell_type": "code",
   "execution_count": null,
   "metadata": {},
   "outputs": [
    {
     "name": "stdout",
     "output_type": "stream",
     "text": [
      "\u001b[1m135×15 DataFrame\u001b[0m\n",
      "\u001b[1m Row \u001b[0m│\u001b[1m nombre_cylindres \u001b[0m\u001b[1m cylindree  \u001b[0m\u001b[1m consommation \u001b[0m\u001b[1m annee     \u001b[0m\u001b[1m volume_gaz \u001b[0m\u001b[1m voiture \u001b[0m\u001b[1m VUS   \u001b[0m\u001b[1m camionnette \u001b[0m\u001b[1m break \u001b[0m\u001b[1m integrale \u001b[0m\u001b[1m propulsion \u001b[0m\u001b[1m traction \u001b[0m\u001b[1m 4x4   \u001b[0m\u001b[1m automatique \u001b[0m\u001b[1m manuelle \u001b[0m\n",
      "     │\u001b[90m Float64          \u001b[0m\u001b[90m Float64    \u001b[0m\u001b[90m Float64      \u001b[0m\u001b[90m Float64   \u001b[0m\u001b[90m Float64    \u001b[0m\u001b[90m Int64   \u001b[0m\u001b[90m Int64 \u001b[0m\u001b[90m Int64       \u001b[0m\u001b[90m Int64 \u001b[0m\u001b[90m Int64     \u001b[0m\u001b[90m Int64      \u001b[0m\u001b[90m Int64    \u001b[0m\u001b[90m Int64 \u001b[0m\u001b[90m Int64       \u001b[0m\u001b[90m Int64    \u001b[0m\n",
      "─────┼──────────────────────────────────────────────────────────────────────────────────────────────────────────────────────────────────────────────────────────────────────\n",
      "   1 │         1.40186    1.0181       1.14663      1.40703    1.13288          1      0            0      0          1           0         0      0            1         0\n",
      "   2 │        -0.811606  -0.799335    -0.170046     0.447691  -0.758259         0      1            0      0          1           0         0      0            1         0\n",
      "   3 │         0.295129   0.185109     0.448869     0.767471   0.0621625        1      0            0      0          0           1         0      0            1         0\n",
      "   4 │         1.40186    1.47246      1.17575      1.40703    1.46661          1      0            0      0          1           0         0      0            1         0\n",
      "   5 │        -1.36497   -1.17797     -1.37654      1.08725   -1.0016           1      0            0      0          0           0         1      0            1         0\n",
      "   6 │        -1.36497   -1.17797     -1.33454      1.72681   -1.0016           1      0            0      0          0           0         1      0            0         1\n",
      "   7 │         0.295129   0.563742     0.320596     0.447691   0.270744         0      1            0      0          1           0         0      0            1         0\n",
      "   8 │         0.295129   0.185109     0.586143    -0.831426   0.0621625        0      0            1      0          0           0         1      0            1         0\n",
      "   9 │         1.40186    1.47246      1.92401      1.40703    1.46661          0      1            0      0          0           0         0      1            1         0\n",
      "  10 │         0.295129  -0.0420703    0.190856     1.72681   -0.0629865        1      0            0      0          0           1         0      0            1         0\n",
      "  11 │         0.295129  -0.0420703    0.00993906   0.767471  -0.0629865        1      0            0      0          0           1         0      0            1         0\n",
      "  12 │         0.295129   0.412289     0.320596     0.767471   0.187312         0      0            1      0          0           1         0      0            1         0\n",
      "  13 │        -0.811606  -0.799335    -0.108535    -0.191868  -0.758259         1      0            0      0          0           1         0      0            0         1\n",
      "  14 │         1.40186    1.47246      1.17575      0.447691   1.46661          0      1            0      0          1           0         0      0            1         0\n",
      "  15 │         0.295129  -0.0420703    0.320596     0.447691  -0.0629865        1      0            0      0          1           0         0      0            1         0\n",
      "  16 │        -0.811606  -0.420703    -0.839304     0.127912  -0.619205         0      1            0      0          0           0         1      0            1         0\n",
      "  17 │         0.295129   0.563742     0.860692    -1.15121    0.270744         1      0            0      0          1           0         0      0            1         0\n",
      "  18 │         3.61534    2.154        2.37296     -1.47099    3.60805          1      0            0      0          0           1         0      0            1         0\n",
      "  19 │        -0.811606  -0.799335    -0.781234     0.447691  -0.758259         1      0            0      0          1           0         0      0            1         0\n",
      "  20 │         1.40186    2.38118      1.92401     -1.15121    2.13407          0      1            0      0          0           0         0      1            1         0\n",
      "  21 │         0.295129  -0.0420703   -0.220211    -0.831426  -0.0629865        1      0            0      0          1           0         0      0            1         0\n",
      "  22 │        -0.811606  -1.10224     -1.09483      0.447691  -0.869503         0      0            0      1          0           0         1      0            1         0\n",
      "  23 │         0.295129   0.336562    -0.12557      0.127912   0.145595         1      0            0      0          0           0         1      0            1         0\n",
      "  24 │        -0.811606  -0.496429    -0.0482515    0.127912  -0.647015         0      1            0      0          1           0         0      0            1         0\n",
      "  25 │        -0.811606  -0.799335    -0.549646     0.767471  -0.758259         0      1            0      0          0           0         1      0            1         0\n",
      "  26 │        -0.811606  -0.799335    -0.946208    -1.47099   -0.758259         0      1            0      0          0           0         1      0            0         1\n",
      "  27 │        -0.811606  -0.420703    -0.443894    -1.47099   -0.619205         0      1            0      0          1           0         0      0            1         0\n",
      "  28 │        -0.811606  -0.799335    -0.742862     1.72681   -0.758259         1      0            0      0          1           0         0      0            1         0\n",
      "  29 │        -0.811606  -0.799335    -1.27661      0.767471  -0.758259         0      0            0      1          0           0         1      0            1         0\n",
      "  30 │         3.61534    2.22972      2.37296     -0.191868   3.69148          0      1            0      0          1           0         0      0            1         0\n",
      "  31 │        -0.811606  -0.799335    -0.819606    -0.191868  -0.758259         1      0            0      0          1           0         0      0            0         1\n",
      "  32 │        -0.811606  -0.799335    -1.05944      0.767471  -0.758259         1      0            0      0          0           0         1      0            1         0\n",
      "  33 │         1.40186    0.866648     1.52787     -1.47099    1.02164          1      0            0      0          1           0         0      0            1         0\n",
      "  34 │        -0.811606  -0.799335    -0.867115     0.447691  -0.758259         1      0            0      0          0           1         0      0            1         0\n",
      "  35 │         1.40186    1.32101      1.52787     -1.47099    1.35537          0      1            0      0          1           0         0      0            1         0\n",
      "  36 │         0.295129   0.488015    -0.12557     -1.47099    0.229028         1      0            0      0          0           1         0      0            1         0\n",
      "  37 │         1.40186    1.0181       1.11505      1.08725    1.13288          1      0            0      0          1           0         0      0            1         0\n",
      "  38 │        -1.36497   -1.32942     -0.962132     0.767471  -1.04332          0      1            0      0          1           0         0      0            1         0\n",
      "  39 │         2.5086     1.62391      1.79196     -1.47099    2.30094          1      0            0      0          1           0         0      0            1         0\n",
      "  40 │        -0.811606  -0.799335    -0.666118     0.447691  -0.758259         1      0            0      0          0           1         0      0            1         0\n",
      "  41 │         1.40186    1.47246      0.986714    -0.831426   1.46661          1      0            0      0          0           1         0      0            1         0\n",
      "  42 │         0.295129   0.185109     0.577142     0.127912   0.0621625        1      0            0      0          1           0         0      0            1         0\n",
      "  43 │        -0.811606  -0.799335    -1.17473      1.72681   -0.758259         1      0            0      0          0           0         1      0            1         0\n",
      "  44 │         1.40186    1.47246      1.52787     -1.47099    1.46661          1      0            0      0          0           1         0      0            0         1\n",
      "  45 │         0.295129  -0.0420703    0.0873729   -1.15121   -0.0629865        0      0            0      1          1           0         0      0            1         0\n",
      "  46 │         0.295129   0.185109     0.577142     1.08725    0.0621625        1      0            0      0          1           0         0      0            1         0\n",
      "  47 │        -1.36497   -1.17797     -1.416        1.72681   -1.0016           1      0            0      0          0           0         1      0            1         0\n",
      "  48 │        -1.36497   -1.17797     -1.33454      1.08725   -1.0016           1      0            0      0          0           0         1      0            0         1\n",
      "  49 │        -0.811606  -0.950788    -1.09483     -0.831426  -0.813881         0      1            0      0          1           0         0      0            1         0\n",
      "  50 │        -0.811606  -0.496429    -0.392756    -1.47099   -0.647015         0      1            0      0          0           0         1      0            1         0\n",
      "  51 │        -0.811606  -1.10224     -1.09188      0.767471  -0.869503         1      0            0      0          0           0         1      0            0         1\n",
      "  52 │        -1.36497   -1.17797     -0.962132     1.40703   -1.0016           1      0            0      0          0           0         1      0            1         0\n",
      "  53 │        -0.811606  -1.25369     -1.64122      0.127912  -0.925124         1      0            0      0          0           0         1      0            1         0\n",
      "  54 │        -0.811606  -1.10224     -1.35889      1.08725   -0.869503         0      1            0      0          1           0         0      0            1         0\n",
      "  55 │         0.295129   0.109383     0.320596     0.127912   0.0204462        0      1            0      0          0           0         0      1            1         0\n",
      "  56 │         1.40186    1.69964      1.17575     -1.15121    1.63348          0      1            0      0          0           0         0      1            1         0\n",
      "  57 │        -0.811606  -0.799335    -0.406948    -0.191868  -0.758259         1      0            0      0          1           0         0      0            1         0\n",
      "  58 │        -0.811606  -0.799335    -0.70449      1.72681   -0.758259         1      0            0      0          0           0         1      0            0         1\n",
      "  59 │        -0.811606  -0.420703    -0.666118     1.08725   -0.619205         0      1            0      0          0           0         0      1            1         0\n",
      "  60 │        -0.811606  -0.799335    -0.819606    -1.15121   -0.758259         0      1            0      0          0           0         0      1            1         0\n",
      "  61 │         0.295129   0.185109     0.325261    -1.47099    0.0621625        0      1            0      0          0           0         1      0            1         0\n",
      "  62 │         0.295129  -0.0420703    0.413885     1.40703   -0.0629865        0      1            0      0          0           0         0      1            1         0\n",
      "  63 │         0.295129  -0.0420703   -0.141186    -0.191868  -0.0629865        1      0            0      0          0           1         0      0            1         0\n",
      "  64 │        -0.811606  -0.799335    -1.0904      -0.511647  -0.758259         1      0            0      0          0           0         1      0            1         0\n",
      "  65 │         0.295129   0.336562     0.203984    -0.511647   0.145595         0      1            0      0          1           0         0      0            1         0\n",
      "  66 │         0.295129   0.563742     0.320596     0.447691   0.270744         0      1            0      0          1           0         0      0            1         0\n",
      "  67 │        -0.811606  -0.420703    -0.50035      1.40703   -0.619205         1      0            0      0          0           1         0      0            1         0\n",
      "  68 │        -0.811606  -0.420703     0.0873729    0.767471  -0.619205         0      0            1      0          0           1         0      0            1         0\n",
      "  69 │         1.40186    2.38118      1.52787     -1.15121    2.13407          0      1            0      0          0           1         0      0            1         0\n",
      "  70 │        -0.811606  -0.799335    -0.797679     1.08725   -0.758259         1      0            0      0          0           0         1      0            0         1\n",
      "  71 │         0.295129   0.336562    -0.12557     -0.831426   0.145595         1      0            0      0          0           0         1      0            1         0\n",
      "  72 │         0.295129   0.563742     0.203984    -0.191868   0.270744         1      0            0      0          0           1         0      0            1         0\n",
      "  73 │        -1.36497   -1.40515     -1.09483      0.767471  -1.06418          0      1            0      0          0           0         1      0            1         0\n",
      "  74 │        -0.811606  -1.10224     -1.44315      1.08725   -0.869503         0      1            0      0          0           0         1      0            1         0\n",
      "  75 │        -0.811606  -0.950788    -1.54519      0.447691  -0.813881         1      0            0      0          0           0         1      0            0         1\n",
      "  76 │        -0.258238  -0.420703    -0.12557     -1.15121   -0.445386         1      0            0      0          1           0         0      0            1         0\n",
      "  77 │         0.295129  -0.0420703   -0.320768     1.72681   -0.0629865        1      0            0      0          0           1         0      0            1         0\n",
      "  78 │         0.295129   0.336562     0.0873729    1.08725    0.145595         0      0            1      0          0           0         1      0            1         0\n",
      "  79 │        -0.811606  -0.496429    -0.0898768   -1.47099   -0.647015         0      1            0      0          0           0         1      0            0         1\n",
      "  80 │        -0.811606  -0.799335    -1.12247      0.127912  -0.758259         1      0            0      0          0           0         1      0            0         1\n",
      "  81 │        -0.811606  -0.950788    -1.33454     -0.831426  -0.813881         0      1            0      0          0           0         1      0            1         0\n",
      "  82 │         0.295129  -0.0420703    0.246094     1.72681   -0.0629865        1      0            0      0          1           0         0      0            1         0\n",
      "  83 │        -0.811606  -1.10224     -1.21668      0.127912  -0.869503         1      0            0      0          0           0         1      0            1         0\n",
      "  84 │        -0.811606  -1.17797     -0.819606     1.08725   -0.897314         0      1            0      0          0           0         1      0            1         0\n",
      "  85 │         1.40186    1.47246      1.17575     -0.831426   1.46661          1      0            0      0          0           1         0      0            1         0\n",
      "  86 │         1.40186    2.83554      2.88605     -0.831426   2.46781          1      0            0      0          0           1         0      0            1         0\n",
      "  87 │        -0.811606  -0.420703     0.0873729    1.40703   -0.619205         0      1            0      0          1           0         0      0            1         0\n",
      "  88 │        -0.811606  -0.420703    -1.09483     -0.831426  -0.619205         1      0            0      0          0           0         1      0            0         1\n",
      "  89 │         1.40186    1.0181       0.860692    -0.191868   1.13288          1      0            0      0          1           0         0      0            1         0\n",
      "  90 │         0.295129   0.336562     0.0873729    0.127912   0.145595         0      0            1      0          0           0         1      0            1         0\n",
      "  91 │        -0.811606  -0.799335    -0.962132     0.447691  -0.758259         1      0            0      0          0           1         0      0            1         0\n",
      "  92 │         1.40186    2.00254      1.52787      0.127912   1.85597          0      0            1      0          0           0         0      1            1         0\n",
      "  93 │         1.40186    1.47246      1.52787     -1.47099    1.46661          1      0            0      0          0           1         0      0            1         0\n",
      "  94 │         0.295129   0.185109     0.671658    -0.511647   0.0621625        0      1            0      0          1           0         0      0            1         0\n",
      "  95 │        -0.811606  -0.799335    -0.78426     -0.191868  -0.758259         1      0            0      0          0           1         0      0            1         0\n",
      "  96 │         1.40186    2.00254      1.52787      0.127912   1.85597          0      0            1      0          0           1         0      0            1         0\n",
      "  97 │         0.295129   0.563742     0.577142    -0.191868   0.270744         1      0            0      0          1           0         0      0            1         0\n",
      "  98 │        -0.811606  -0.799335    -0.223169    -1.15121   -0.758259         1      0            0      0          1           0         0      0            0         1\n",
      "  99 │         0.295129   0.488015     0.0873729   -1.47099    0.229028         1      0            0      0          0           1         0      0            0         1\n",
      " 100 │         0.295129   0.185109     0.577142    -1.47099    0.0621625        0      1            0      0          0           0         0      1            1         0\n",
      " 101 │        -1.36497   -1.40515     -1.21868      1.72681   -1.06418          0      0            0      1          0           0         1      0            1         0\n",
      " 102 │         0.295129  -0.0420703    0.320596    -0.511647  -0.0629865        0      1            0      0          1           0         0      0            1         0\n",
      " 103 │         0.295129  -0.0420703   -0.116697    -1.15121   -0.0629865        1      0            0      0          1           0         0      0            1         0\n",
      " 104 │         0.295129   0.336562    -0.12557     -0.511647   0.145595         0      1            0      0          0           0         1      0            1         0\n",
      " 105 │         0.295129   0.185109     0.577142    -0.191868   0.0621625        1      0            0      0          0           1         0      0            1         0\n",
      " 106 │        -0.811606  -0.420703    -0.320768     1.40703   -0.619205         1      0            0      0          1           0         0      0            1         0\n",
      " 107 │        -0.811606  -0.420703    -0.320768    -1.47099   -0.619205         0      1            0      0          1           0         0      0            0         1\n",
      " 108 │        -0.811606  -0.799335    -1.33534     -0.511647  -0.758259         1      0            0      0          0           0         1      0            1         0\n",
      " 109 │         0.295129  -0.0420703    0.491626    -1.15121   -0.0629865        0      1            0      0          1           0         0      0            1         0\n",
      " 110 │         0.295129   0.185109     0.577142     1.08725    0.0621625        1      0            0      0          0           1         0      0            1         0\n",
      " 111 │         1.40186    2.53263      2.37296     -1.47099    2.24532          0      1            0      0          0           0         0      1            1         0\n",
      " 112 │         0.295129  -0.0420703    0.320596     0.447691  -0.0629865        0      0            0      1          1           0         0      0            1         0\n",
      " 113 │        -1.36497   -1.40515     -1.81728     -0.511647  -1.06418          1      0            0      0          0           0         1      0            0         1\n",
      " 114 │         0.295129   0.185109     0.577142    -0.191868   0.0621625        1      0            0      0          1           0         0      0            1         0\n",
      " 115 │        -0.811606  -0.950788    -0.962132    -0.831426  -0.813881         0      1            0      0          0           0         1      0            0         1\n",
      " 116 │         1.40186    1.0181       0.860692     0.767471   1.13288          1      0            0      0          1           0         0      0            1         0\n",
      " 117 │        -0.258238  -0.420703    -0.12557     -1.15121   -0.445386         0      0            0      1          1           0         0      0            1         0\n",
      " 118 │         0.295129   0.109383     0.0873729    0.127912   0.0204462        0      1            0      0          1           0         0      0            1         0\n",
      " 119 │         0.295129  -0.0420703    0.577142    -0.191868  -0.0629865        1      0            0      0          0           1         0      0            0         1\n",
      " 120 │        -0.811606  -0.496429    -0.12557     -1.47099   -0.647015         0      1            0      0          0           0         0      1            1         0\n",
      " 121 │         1.40186    1.69964      1.17575     -1.15121    1.63348          0      1            0      0          0           1         0      0            1         0\n",
      " 122 │         1.40186    1.0181       0.577142    -0.191868   1.13288          1      0            0      0          0           1         0      0            1         0\n",
      " 123 │        -0.811606  -0.496429    -0.50035     -1.47099   -0.647015         0      1            0      0          0           0         0      1            0         1\n",
      " 124 │         0.295129   0.109383    -0.12557      0.127912   0.0204462        0      1            0      0          0           0         1      0            1         0\n",
      " 125 │        -1.36497   -1.17797     -0.666118     1.08725   -1.0016           1      0            0      0          1           0         0      0            1         0\n",
      " 126 │         0.295129   0.412289     0.474032    -0.511647   0.187312         0      1            0      0          0           0         1      0            1         0\n",
      " 127 │        -0.811606  -0.799335    -0.666118    -1.15121   -0.758259         1      0            0      0          1           0         0      0            1         0\n",
      " 128 │        -0.811606  -0.496429    -0.666118     0.127912  -0.647015         1      0            0      0          0           0         1      0            1         0\n",
      " 129 │        -0.811606  -1.17797     -0.666118    -0.191868  -0.897314         0      1            0      0          1           0         0      0            1         0\n",
      " 130 │         0.295129   0.412289     0.0873729   -0.511647   0.187312         0      0            1      0          0           0         1      0            1         0\n",
      " 131 │         0.295129   0.336562     0.577142     1.40703    0.145595         0      1            0      0          1           0         0      0            1         0\n",
      " 132 │        -0.811606  -1.25369     -1.64122      0.127912  -0.925124         1      0            0      0          0           0         1      0            0         1\n",
      " 133 │         1.40186    2.38118      2.37296      0.127912   2.13407          1      0            0      0          0           1         0      0            1         0\n",
      " 134 │         0.295129  -0.0420703    0.577142    -0.191868  -0.0629865        1      0            0      0          0           1         0      0            0         1\n",
      " 135 │         0.295129   0.336562    -0.12557      0.127912   0.145595         1      0            0      0          1           0         0      0            1         0\u001b[1m150×15 DataFrame\u001b[0m\n",
      "\u001b[1m Row \u001b[0m│\u001b[1m annee     \u001b[0m\u001b[1m nombre_cylindres \u001b[0m\u001b[1m cylindree   \u001b[0m\u001b[1m id    \u001b[0m\u001b[1m volume_gaz \u001b[0m\u001b[1m voiture \u001b[0m\u001b[1m VUS   \u001b[0m\u001b[1m camionnette \u001b[0m\u001b[1m break \u001b[0m\u001b[1m traction \u001b[0m\u001b[1m 4x4   \u001b[0m\u001b[1m propulsion \u001b[0m\u001b[1m integrale \u001b[0m\u001b[1m manuelle \u001b[0m\u001b[1m automatique \u001b[0m\n",
      "     │\u001b[90m Float64   \u001b[0m\u001b[90m Float64          \u001b[0m\u001b[90m Float64     \u001b[0m\u001b[90m Int64 \u001b[0m\u001b[90m Float64    \u001b[0m\u001b[90m Int64   \u001b[0m\u001b[90m Int64 \u001b[0m\u001b[90m Int64       \u001b[0m\u001b[90m Int64 \u001b[0m\u001b[90m Int64    \u001b[0m\u001b[90m Int64 \u001b[0m\u001b[90m Int64      \u001b[0m\u001b[90m Int64     \u001b[0m\u001b[90m Int64    \u001b[0m\u001b[90m Int64       \u001b[0m\n",
      "─────┼────────────────────────────────────────────────────────────────────────────────────────────────────────────────────────────────────────────────────────────────\n",
      "   1 │ -1.53728          -0.769722  -0.372358        1  -0.576919         1      0            0      0         1      0           0          0         1            0\n",
      "   2 │ -1.53728          -0.769722  -0.372358        2  -0.576919         1      0            0      0         1      0           0          0         0            1\n",
      "   3 │ -1.53728          -0.769722  -0.372358        3  -0.576919         0      1            0      0         1      0           0          0         0            1\n",
      "   4 │ -1.53728          -0.769722  -0.739816        4  -0.713017         0      1            0      0         0      1           0          0         0            1\n",
      "   5 │ -1.53728           1.45063    2.05287         5   1.90006          1      0            0      0         0      0           1          0         1            0\n",
      "   6 │ -1.53728           1.45063    1.46493         6   1.46455          1      0            0      0         0      0           1          0         0            1\n",
      "   7 │ -1.53728           1.45063    1.46493         7   1.46455          1      0            0      0         0      0           1          0         1            0\n",
      "   8 │ -1.53728          -0.769722  -0.44585         8  -0.604138         0      1            0      0         0      1           0          0         0            1\n",
      "   9 │ -1.53728           0.340454   0.362559        9   0.171619         0      1            0      0         0      0           0          1         0            1\n",
      "  10 │ -1.53728           2.56081    1.61192        10   2.28114          1      0            0      0         0      0           0          1         1            0\n",
      "  11 │ -1.53728           2.56081    1.61192        11   2.28114          1      0            0      0         0      0           0          1         1            0\n",
      "  12 │ -1.53728           3.67098    2.12636        12   3.56046          1      0            0      0         0      0           1          0         0            1\n",
      "  13 │ -1.53728          -0.769722  -0.739816       13  -0.713017         0      1            0      0         1      0           0          0         0            1\n",
      "  14 │ -1.53728          -0.769722  -0.44585        14  -0.604138         0      1            0      0         1      0           0          0         1            0\n",
      "  15 │ -1.20114          -0.769722  -0.372358       15  -0.576919         1      0            0      0         1      0           0          0         1            0\n",
      "  16 │ -1.20114           0.340454  -0.00489945     16  -0.0325274        0      1            0      0         0      0           0          1         0            1\n",
      "  17 │ -1.20114           1.45063    1.68541        17   1.62787          0      0            1      0         0      0           1          0         0            1\n",
      "  18 │ -1.20114           1.45063    1.68541        18   1.62787          0      0            1      0         0      0           1          0         0            1\n",
      "  19 │ -1.20114           1.45063    1.68541        19   1.62787          0      0            1      0         0      1           0          0         0            1\n",
      "  20 │ -1.20114           1.45063    1.68541        20   1.62787          0      0            1      0         0      1           0          0         0            1\n",
      "  21 │ -1.20114           1.45063    2.34683        21   2.11782          0      1            0      0         0      0           1          0         0            1\n",
      "  22 │ -1.20114           1.45063    1.68541        22   1.62787          0      1            0      0         0      0           1          0         0            1\n",
      "  23 │ -1.20114           1.45063    1.68541        23   1.62787          0      1            0      0         0      0           1          0         0            1\n",
      "  24 │ -1.20114           1.45063    2.34683        24   2.11782          0      1            0      0         0      0           1          0         0            1\n",
      "  25 │ -1.20114           1.45063    1.68541        25   1.62787          0      1            0      0         0      0           1          0         0            1\n",
      "  26 │ -1.20114           1.45063    2.34683        26   2.11782          0      1            0      0         0      1           0          0         0            1\n",
      "  27 │ -1.20114           1.45063    1.68541        27   1.62787          0      1            0      0         0      1           0          0         0            1\n",
      "  28 │ -1.20114           1.45063    2.34683        28   2.11782          0      1            0      0         0      1           0          0         0            1\n",
      "  29 │ -1.20114           1.45063    1.46493        29   1.46455          1      0            0      0         0      0           1          0         0            1\n",
      "  30 │ -1.20114           0.340454  -0.00489945     30  -0.0325274        1      0            0      0         0      0           1          0         0            1\n",
      "  31 │ -0.865002          0.340454   0.215576       31   0.0899607        0      1            0      0         0      0           0          1         0            1\n",
      "  32 │ -0.865002         -0.769722  -0.372358       32  -0.576919         0      1            0      0         1      0           0          0         0            1\n",
      "  33 │ -0.865002         -0.769722  -0.44585        33  -0.604138         0      1            0      0         0      0           0          1         0            1\n",
      "  34 │ -0.865002          0.340454   0.215576       34   0.0899607        0      1            0      0         0      0           0          1         0            1\n",
      "  35 │ -0.865002         -0.769722  -0.372358       35  -0.576919         0      1            0      0         0      1           0          0         0            1\n",
      "  36 │ -0.865002         -0.769722  -0.8868         36  -0.767456         0      1            0      0         1      0           0          0         0            1\n",
      "  37 │ -0.865002          0.340454  -0.00489945     37  -0.0325274        1      0            0      0         0      0           1          0         0            1\n",
      "  38 │ -0.865002          0.340454  -0.00489945     38  -0.0325274        1      0            0      0         0      0           1          0         0            1\n",
      "  39 │ -0.865002         -0.769722  -0.739816       39  -0.713017         1      0            0      0         1      0           0          0         1            0\n",
      "  40 │ -0.865002         -0.769722  -0.44585        40  -0.604138         1      0            0      0         1      0           0          0         0            1\n",
      "  41 │ -0.865002          1.45063    1.46493        41   1.46455          1      0            0      0         0      0           1          0         0            1\n",
      "  42 │ -0.865002          0.340454   0.436051       42   0.212449         0      1            0      0         0      0           0          1         0            1\n",
      "  43 │ -0.528862         -0.769722  -0.739816       43  -0.713017         0      1            0      0         0      0           0          1         0            1\n",
      "  44 │ -0.528862         -0.769722  -0.739816       44  -0.713017         1      0            0      0         1      0           0          0         0            1\n",
      "  45 │ -0.528862         -0.769722  -0.739816       45  -0.713017         1      0            0      0         1      0           0          0         1            0\n",
      "  46 │ -0.528862          0.340454   0.215576       46   0.0899607        0      1            0      0         1      0           0          0         0            1\n",
      "  47 │ -0.528862         -0.769722  -0.44585        47  -0.604138         0      1            0      0         0      0           0          1         0            1\n",
      "  48 │ -0.528862          0.340454   0.436051       48   0.212449         0      1            0      0         0      0           0          1         0            1\n",
      "  49 │ -0.528862         -1.32481   -1.32775        49  -1.01243          1      0            0      0         1      0           0          0         0            1\n",
      "  50 │ -0.528862          2.56081    1.61192        50   2.28114          1      0            0      0         0      0           0          1         0            1\n",
      "  51 │ -0.528862         -0.769722  -0.372358       51  -0.576919         1      0            0      0         0      0           0          1         1            0\n",
      "  52 │ -0.528862          0.340454  -0.00489945     52  -0.0325274        1      0            0      0         0      0           0          1         0            1\n",
      "  53 │ -0.528862         -0.769722  -1.10727        53  -0.849114         1      0            0      0         1      0           0          0         0            1\n",
      "  54 │ -0.528862          1.45063    1.46493        54   1.46455          1      0            0      0         0      0           0          1         0            1\n",
      "  55 │ -0.528862          0.340454  -0.00489945     55  -0.0325274        1      0            0      0         0      0           1          0         0            1\n",
      "  56 │ -0.528862          0.340454  -0.00489945     56  -0.0325274        1      0            0      0         0      0           1          0         0            1\n",
      "  57 │ -0.528862          0.340454  -0.00489945     57  -0.0325274        1      0            0      0         0      0           0          1         0            1\n",
      "  58 │ -0.528862          0.340454  -0.00489945     58  -0.0325274        1      0            0      0         0      0           1          0         1            0\n",
      "  59 │ -0.528862         -0.769722  -0.739816       59  -0.713017         1      0            0      0         1      0           0          0         1            0\n",
      "  60 │ -0.192721         -0.769722  -1.10727        60  -0.849114         0      1            0      0         1      0           0          0         0            1\n",
      "  61 │ -0.192721         -0.769722  -0.739816       61  -0.713017         1      0            0      0         0      0           0          1         0            1\n",
      "  62 │ -0.192721         -0.769722  -0.739816       62  -0.713017         1      0            0      0         0      0           0          1         0            1\n",
      "  63 │ -0.192721         -0.769722  -0.739816       63  -0.713017         1      0            0      0         0      0           0          1         1            0\n",
      "  64 │ -0.192721         -0.769722  -0.739816       64  -0.713017         1      0            0      0         0      0           0          1         1            0\n",
      "  65 │ -0.192721         -0.769722  -0.739816       65  -0.713017         1      0            0      0         0      0           0          1         0            1\n",
      "  66 │ -0.192721          0.340454  -0.00489945     66  -0.0325274        1      0            0      0         0      0           0          1         0            1\n",
      "  67 │ -0.192721          0.340454  -0.00489945     67  -0.0325274        1      0            0      0         0      0           0          1         0            1\n",
      "  68 │ -0.192721          1.45063    1.02398        68   1.13791          1      0            0      0         0      0           1          0         0            1\n",
      "  69 │ -0.192721          1.45063    1.02398        69   1.13791          1      0            0      0         0      0           1          0         1            0\n",
      "  70 │ -0.192721          1.45063    1.02398        70   1.13791          1      0            0      0         0      0           1          0         0            1\n",
      "  71 │ -0.192721          0.340454  -0.00489945     71  -0.0325274        1      0            0      0         0      0           0          1         0            1\n",
      "  72 │ -0.192721          0.340454  -0.00489945     72  -0.0325274        1      0            0      0         0      0           0          1         1            0\n",
      "  73 │ -0.192721          0.340454  -0.00489945     73  -0.0325274        1      0            0      0         0      0           0          1         0            1\n",
      "  74 │ -0.192721          0.340454  -0.00489945     74  -0.0325274        1      0            0      0         0      0           1          0         0            1\n",
      "  75 │ -0.192721          0.340454  -0.00489945     75  -0.0325274        1      0            0      0         0      0           0          1         0            1\n",
      "  76 │ -0.192721          1.45063    1.02398        76   1.13791          1      0            0      0         0      0           0          1         0            1\n",
      "  77 │  0.14342           1.45063    2.34683        77   2.11782          1      0            0      0         0      0           1          0         0            1\n",
      "  78 │  0.14342           1.45063    2.34683        78   2.11782          1      0            0      0         0      0           1          0         0            1\n",
      "  79 │  0.14342          -0.769722  -0.44585        79  -0.604138         0      1            0      0         0      0           0          1         0            1\n",
      "  80 │  0.14342           0.340454   0.215576       80   0.0899607        0      1            0      0         0      0           0          1         0            1\n",
      "  81 │  0.14342           0.340454   0.215576       81   0.0899607        0      0            1      0         1      0           0          0         0            1\n",
      "  82 │  0.14342          -0.769722  -0.739816       82  -0.713017         0      1            0      0         1      0           0          0         0            1\n",
      "  83 │  0.14342          -0.769722  -0.44585        83  -0.604138         0      1            0      0         1      0           0          0         0            1\n",
      "  84 │  0.14342          -0.769722  -0.739816       84  -0.713017         0      1            0      0         0      1           0          0         0            1\n",
      "  85 │  0.14342          -0.769722  -0.739816       85  -0.713017         0      1            0      0         0      1           0          0         0            1\n",
      "  86 │  0.14342          -0.769722  -0.739816       86  -0.713017         1      0            0      0         0      0           1          0         0            1\n",
      "  87 │  0.14342          -0.769722  -0.739816       87  -0.713017         0      1            0      0         0      0           0          1         0            1\n",
      "  88 │  0.14342           0.340454   0.362559       88   0.171619         0      0            1      0         0      0           0          1         0            1\n",
      "  89 │  0.14342          -0.769722  -0.739816       89  -0.713017         1      0            0      0         1      0           0          0         0            1\n",
      "  90 │  0.14342          -0.769722  -1.03378        90  -0.821895         1      0            0      0         1      0           0          0         1            0\n",
      "  91 │  0.14342           0.340454   0.362559       91   0.171619         1      0            0      0         0      0           0          1         0            1\n",
      "  92 │  0.14342           1.45063    2.34683        92   2.11782          1      0            0      0         0      0           1          0         1            0\n",
      "  93 │  0.14342          -0.769722  -0.739816       93  -0.713017         1      0            0      0         1      0           0          0         0            1\n",
      "  94 │  0.479561         -0.769722  -0.739816       94  -0.713017         1      0            0      0         1      0           0          0         0            1\n",
      "  95 │  0.479561         -0.769722  -0.739816       95  -0.713017         1      0            0      0         1      0           0          0         0            1\n",
      "  96 │  0.479561         -0.769722  -0.8868         96  -0.767456         1      0            0      0         1      0           0          0         0            1\n",
      "  97 │  0.479561         -0.769722  -0.8868         97  -0.767456         1      0            0      0         1      0           0          0         0            1\n",
      "  98 │  0.479561         -0.769722  -0.739816       98  -0.713017         0      0            0      1         1      0           0          0         1            0\n",
      "  99 │  0.479561          0.340454   0.583034       99   0.294107         0      1            0      0         1      0           0          0         0            1\n",
      " 100 │  0.479561         -0.769722  -0.739816      100  -0.713017         0      1            0      0         0      0           0          1         0            1\n",
      " 101 │  0.479561         -0.769722  -0.739816      101  -0.713017         0      1            0      0         0      1           0          0         0            1\n",
      " 102 │  0.479561          0.340454  -0.00489945    102  -0.0325274        0      1            0      0         0      1           0          0         0            1\n",
      " 103 │  0.479561         -0.769722  -0.739816      103  -0.713017         1      0            0      0         0      0           1          0         0            1\n",
      " 104 │  0.479561         -0.769722  -0.739816      104  -0.713017         1      0            0      0         0      0           1          0         0            1\n",
      " 105 │  0.479561         -0.769722  -0.739816      105  -0.713017         1      0            0      0         0      0           1          0         0            1\n",
      " 106 │  0.479561         -0.769722  -0.739816      106  -0.713017         1      0            0      0         0      0           0          1         0            1\n",
      " 107 │  0.479561         -0.769722  -0.739816      107  -0.713017         0      0            0      1         0      0           0          1         0            1\n",
      " 108 │  0.479561         -0.769722  -0.739816      108  -0.713017         0      1            0      0         0      0           0          1         0            1\n",
      " 109 │  0.815702          0.340454  -0.00489945    109  -0.0325274        1      0            0      0         0      0           0          1         0            1\n",
      " 110 │  0.815702          0.340454   0.436051      110   0.212449         0      1            0      0         0      0           0          1         0            1\n",
      " 111 │  0.815702         -0.769722  -0.739816      111  -0.713017         1      0            0      0         0      0           1          0         0            1\n",
      " 112 │  0.815702         -0.769722  -0.739816      112  -0.713017         0      0            0      1         1      0           0          0         1            0\n",
      " 113 │  0.815702         -0.769722  -1.03378       113  -0.821895         0      0            0      1         1      0           0          0         0            1\n",
      " 114 │  0.815702         -0.769722  -0.739816      114  -0.713017         0      1            0      0         1      0           0          0         0            1\n",
      " 115 │  0.815702         -1.32481   -1.25426       115  -0.992017         0      1            0      0         1      0           0          0         0            1\n",
      " 116 │  0.815702         -0.769722  -0.739816      116  -0.713017         1      0            0      0         1      0           0          0         1            0\n",
      " 117 │  0.815702         -0.769722  -0.739816      117  -0.713017         1      0            0      0         1      0           0          0         0            1\n",
      " 118 │  0.815702         -0.769722  -0.372358      118  -0.576919         0      0            1      0         0      1           0          0         0            1\n",
      " 119 │  0.815702          0.340454   0.436051      119   0.212449         0      0            1      0         0      1           0          0         0            1\n",
      " 120 │  1.15184          -0.769722  -0.372358      120  -0.576919         1      0            0      0         0      0           0          1         0            1\n",
      " 121 │  1.15184          -0.769722  -0.372358      121  -0.576919         1      0            0      0         0      0           1          0         0            1\n",
      " 122 │  1.15184           0.340454   0.362559      122   0.171619         0      1            0      0         1      0           0          0         0            1\n",
      " 123 │  1.15184          -0.769722  -1.10727       123  -0.849114         0      1            0      0         1      0           0          0         0            1\n",
      " 124 │  1.15184          -0.769722  -1.10727       124  -0.849114         0      1            0      0         0      1           0          0         0            1\n",
      " 125 │  1.15184          -0.769722  -1.10727       125  -0.849114         0      1            0      0         0      1           0          0         0            1\n",
      " 126 │  1.15184           0.340454   0.362559      126   0.171619         0      1            0      0         0      0           0          1         0            1\n",
      " 127 │  1.15184          -0.769722  -1.03378       127  -0.821895         0      1            0      0         0      0           0          1         0            1\n",
      " 128 │  1.15184          -0.769722  -0.739816      128  -0.713017         0      1            0      0         0      0           0          1         0            1\n",
      " 129 │  1.15184           1.45063    1.02398       129   1.13791          1      0            0      0         0      0           0          1         0            1\n",
      " 130 │  1.15184          -0.769722  -0.739816      130  -0.713017         1      0            0      0         1      0           0          0         1            0\n",
      " 131 │  1.15184          -1.32481   -1.10727       131  -0.951188         1      0            0      0         1      0           0          0         0            1\n",
      " 132 │  1.15184          -0.769722  -0.739816      132  -0.713017         1      0            0      0         1      0           0          0         1            0\n",
      " 133 │  1.15184          -0.769722  -1.03378       133  -0.821895         0      1            0      0         0      0           0          1         0            1\n",
      " 134 │  1.48798           1.45063    1.46493       134   1.46455          0      1            0      0         0      1           0          0         0            1\n",
      " 135 │  1.48798          -0.769722  -0.739816      135  -0.713017         0      1            0      0         0      0           0          1         0            1\n",
      " 136 │  1.48798          -0.769722  -0.372358      136  -0.576919         0      1            0      0         0      0           0          1         0            1\n",
      " 137 │  1.48798           0.340454   0.362559      137   0.171619         0      1            0      0         0      0           0          1         0            1\n",
      " 138 │  1.48798          -0.769722  -1.03378       138  -0.821895         0      1            0      0         0      0           0          1         0            1\n",
      " 139 │  1.48798          -0.769722  -1.03378       139  -0.821895         0      1            0      0         1      0           0          0         0            1\n",
      " 140 │  1.48798           0.340454   0.215576      140   0.0899607        1      0            0      0         0      0           1          0         0            1\n",
      " 141 │  1.82412           1.45063    1.46493       141   1.46455          1      0            0      0         0      0           1          0         0            1\n",
      " 142 │  1.82412          -0.769722  -0.739816      142  -0.713017         0      1            0      0         0      0           0          1         0            1\n",
      " 143 │  1.82412          -0.769722  -0.739816      143  -0.713017         0      1            0      0         1      0           0          0         0            1\n",
      " 144 │  1.82412          -0.769722  -1.03378       144  -0.821895         0      1            0      0         0      0           0          1         0            1\n",
      " 145 │  1.82412          -0.769722  -0.739816      145  -0.713017         1      0            0      0         0      0           1          0         0            1\n",
      " 146 │  1.82412          -0.769722  -0.739816      146  -0.713017         1      0            0      0         0      0           0          1         0            1\n",
      " 147 │  1.82412           0.340454  -0.00489945    147  -0.0325274        1      0            0      0         0      0           1          0         1            0\n",
      " 148 │  1.82412           0.340454  -0.00489945    148  -0.0325274        1      0            0      0         0      0           1          0         0            1\n",
      " 149 │  1.82412          -1.32481   -1.10727       149  -0.951188         1      0            0      0         1      0           0          0         1            0\n",
      " 150 │  1.82412          -0.769722  -0.739816      150  -0.713017         1      0            0      0         1      0           0          0         0            1[1, 3, 4, 6, 7, 8, 9, 13, 14, 15, 16, 21, 22, 23, 24, 25, 26, 27, 28, 29, 30, 31, 32, 33, 34, 35, 36, 37, 38, 40, 41, 43, 44, 46, 47, 50, 54, 55, 56, 57, 59, 60, 61, 62, 63, 64, 65, 66, 67, 71, 73, 74, 75, 76, 77, 78, 79, 80, 81, 82, 83, 84, 85, 86, 87, 89, 90, 91, 93, 94, 95, 100, 101, 102, 103, 104, 105, 106, 108, 109, 111, 113, 114, 116, 117, 120, 121, 122, 123, 126, 127, 128, 129, 130, 131, 133, 134, 135, 136, 137, 138, 139, 140, 141, 142, 143, 144, 145, 146, 147, 148, 149, 150]\n",
      "[0.2060226445883218, 0.7069509310073757, 0.014664500546035582, -0.020896969882163823, -0.06287051602527044, 0.0399953445177604, 0.07731750259039266, 0.022359628564015757, 0.15790920676199302, 0.07745356347975531, -0.24754837930748905, 0.08898756871263896, -0.0025449013664139413, 0.07934686101331231]\n",
      "\u001b[1m37×14 DataFrame\u001b[0m\n",
      "\u001b[1m Row \u001b[0m│\u001b[1m annee      \u001b[0m\u001b[1m nombre_cylindres \u001b[0m\u001b[1m cylindree \u001b[0m\u001b[1m volume_gaz  \u001b[0m\u001b[1m voiture \u001b[0m\u001b[1m camionnette \u001b[0m\u001b[1m VUS   \u001b[0m\u001b[1m break \u001b[0m\u001b[1m traction \u001b[0m\u001b[1m propulsion \u001b[0m\u001b[1m integrale \u001b[0m\u001b[1m 4x4   \u001b[0m\u001b[1m automatique \u001b[0m\u001b[1m manuelle \u001b[0m\n",
      "     │\u001b[90m Float64    \u001b[0m\u001b[90m Float64          \u001b[0m\u001b[90m Float64   \u001b[0m\u001b[90m Float64     \u001b[0m\u001b[90m Int64   \u001b[0m\u001b[90m Int64       \u001b[0m\u001b[90m Int64 \u001b[0m\u001b[90m Int64 \u001b[0m\u001b[90m Int64    \u001b[0m\u001b[90m Int64      \u001b[0m\u001b[90m Int64     \u001b[0m\u001b[90m Int64 \u001b[0m\u001b[90m Int64       \u001b[0m\u001b[90m Int64    \u001b[0m\n",
      "─────┼─────────────────────────────────────────────────────────────────────────────────────────────────────────────────────────────────────────────────────────\n",
      "   1 │ -1.49014          -0.875395   -0.549059  -0.73177           1            0      0      0         1           0          0      0            1         0\n",
      "   2 │ -1.49014           0.924028    1.61353    1.32961           1            0      0      0         0           1          0      0            0         1\n",
      "   3 │ -1.49014           1.82374     1.22033    1.64675           1            0      0      0         0           0          1      0            0         1\n",
      "   4 │ -1.49014           1.82374     1.22033    1.64675           1            0      0      0         0           0          1      0            0         1\n",
      "   5 │ -1.49014           2.72345     1.67906    2.71142           1            0      0      0         0           1          0      0            1         0\n",
      "   6 │ -1.10726           0.924028    1.28586    1.10309           0            1      0      0         0           1          0      0            1         0\n",
      "   7 │ -1.10726           0.924028    1.28586    1.10309           0            1      0      0         0           1          0      0            1         0\n",
      "   8 │ -1.10726           0.924028    1.28586    1.10309           0            1      0      0         0           0          0      1            1         0\n",
      "   9 │ -1.10726           0.924028    1.28586    1.10309           0            1      0      0         0           0          0      1            1         0\n",
      "  10 │ -0.724373         -0.875395   -0.876724  -0.845033          1            0      0      0         1           0          0      0            0         1\n",
      "  11 │ -0.724373          0.0243165   0.171802  -0.0748453         0            0      1      0         0           0          1      0            1         0\n",
      "  12 │ -0.34149          -0.875395   -0.876724  -0.845033          1            0      0      0         1           0          0      0            0         1\n",
      "  13 │ -0.34149           0.0243165   0.171802  -0.0748453         0            0      1      0         0           0          1      0            1         0\n",
      "  14 │ -0.34149          -1.32525    -1.40099   -1.09421           1            0      0      0         1           0          0      0            1         0\n",
      "  15 │ -0.34149          -0.875395   -0.549059  -0.73177           1            0      0      0         0           0          1      0            0         1\n",
      "  16 │ -0.34149           0.0243165  -0.221395  -0.278719          1            0      0      0         0           0          1      0            1         0\n",
      "  17 │ -0.34149          -0.875395   -1.20439   -0.958296          1            0      0      0         1           0          0      0            1         0\n",
      "  18 │ -0.34149           0.0243165  -0.221395  -0.278719          1            0      0      0         0           1          0      0            0         1\n",
      "  19 │  0.0413927         0.924028    0.696065   0.695342          1            0      0      0         0           1          0      0            1         0\n",
      "  20 │  0.0413927         0.924028    0.696065   0.695342          1            0      0      0         0           1          0      0            0         1\n",
      "  21 │  0.0413927         0.924028    0.696065   0.695342          1            0      0      0         0           1          0      0            1         0\n",
      "  22 │  0.0413927         0.0243165  -0.221395  -0.278719          1            0      0      0         0           0          1      0            0         1\n",
      "  23 │  0.424275          0.0243165   0.10627   -0.108824          0            1      0      0         0           0          1      0            1         0\n",
      "  24 │  0.424275          0.924028    1.87566    1.51084           1            0      0      0         0           1          0      0            0         1\n",
      "  25 │  0.807158         -0.875395   -1.00779   -0.890338          1            0      0      0         1           0          0      0            1         0\n",
      "  26 │  0.807158         -0.875395   -1.00779   -0.890338          1            0      0      0         1           0          0      0            1         0\n",
      "  27 │  0.807158         -0.875395   -0.876724  -0.845033          0            0      0      1         1           0          0      0            0         1\n",
      "  28 │  0.807158          0.0243165   0.302868  -0.00688761        0            0      1      0         1           0          0      0            1         0\n",
      "  29 │  0.807158         -0.875395   -0.876724  -0.845033          0            0      0      1         0           0          1      0            1         0\n",
      "  30 │  1.19004           0.0243165   0.171802  -0.0748453         0            0      1      0         0           0          1      0            1         0\n",
      "  31 │  1.19004          -0.875395   -0.876724  -0.845033          0            0      0      1         1           0          0      0            0         1\n",
      "  32 │  1.19004          -1.32525    -1.33545   -1.07722           0            0      1      0         1           0          0      0            1         0\n",
      "  33 │  1.19004          -0.875395   -0.549059  -0.73177           0            1      0      0         0           0          0      1            1         0\n",
      "  34 │  1.19004           0.0243165   0.171802  -0.0748453         0            1      0      0         0           0          0      1            1         0\n",
      "  35 │  1.57292          -0.875395   -1.20439   -0.958296          0            0      1      0         0           0          0      1            1         0\n",
      "  36 │  1.57292          -0.875395   -1.20439   -0.958296          0            0      1      0         0           0          0      1            1         0\n",
      "  37 │  1.57292          -0.875395   -0.876724  -0.845033          1            0      0      0         1           0          0      0            0         1"
     ]
    },
    {
     "data": {
      "text/html": [
       "<div><div style = \"float: left;\"><span>150×2 DataFrame</span></div><div style = \"float: right;\"><span style = \"font-style: italic;\">125 rows omitted</span></div><div style = \"clear: both;\"></div></div><div class = \"data-frame\" style = \"overflow-x: scroll;\"><table class = \"data-frame\" style = \"margin-bottom: 6px;\"><thead><tr class = \"header\"><th class = \"rowNumber\" style = \"font-weight: bold; text-align: right;\">Row</th><th style = \"text-align: left;\">id</th><th style = \"text-align: left;\">consommation</th></tr><tr class = \"subheader headerLastRow\"><th class = \"rowNumber\" style = \"font-weight: bold; text-align: right;\"></th><th title = \"Int64\" style = \"text-align: left;\">Int64</th><th title = \"Float64\" style = \"text-align: left;\">Float64</th></tr></thead><tbody><tr><td class = \"rowNumber\" style = \"font-weight: bold; text-align: right;\">1</td><td style = \"text-align: right;\">1</td><td style = \"text-align: right;\">8.11069</td></tr><tr><td class = \"rowNumber\" style = \"font-weight: bold; text-align: right;\">2</td><td style = \"text-align: right;\">2</td><td style = \"text-align: right;\">8.45662</td></tr><tr><td class = \"rowNumber\" style = \"font-weight: bold; text-align: right;\">3</td><td style = \"text-align: right;\">3</td><td style = \"text-align: right;\">8.66848</td></tr><tr><td class = \"rowNumber\" style = \"font-weight: bold; text-align: right;\">4</td><td style = \"text-align: right;\">4</td><td style = \"text-align: right;\">8.71148</td></tr><tr><td class = \"rowNumber\" style = \"font-weight: bold; text-align: right;\">5</td><td style = \"text-align: right;\">5</td><td style = \"text-align: right;\">13.2997</td></tr><tr><td class = \"rowNumber\" style = \"font-weight: bold; text-align: right;\">6</td><td style = \"text-align: right;\">6</td><td style = \"text-align: right;\">13.8359</td></tr><tr><td class = \"rowNumber\" style = \"font-weight: bold; text-align: right;\">7</td><td style = \"text-align: right;\">7</td><td style = \"text-align: right;\">13.8359</td></tr><tr><td class = \"rowNumber\" style = \"font-weight: bold; text-align: right;\">8</td><td style = \"text-align: right;\">8</td><td style = \"text-align: right;\">10.2265</td></tr><tr><td class = \"rowNumber\" style = \"font-weight: bold; text-align: right;\">9</td><td style = \"text-align: right;\">9</td><td style = \"text-align: right;\">10.9459</td></tr><tr><td class = \"rowNumber\" style = \"font-weight: bold; text-align: right;\">10</td><td style = \"text-align: right;\">10</td><td style = \"text-align: right;\">13.2595</td></tr><tr><td class = \"rowNumber\" style = \"font-weight: bold; text-align: right;\">11</td><td style = \"text-align: right;\">11</td><td style = \"text-align: right;\">13.2595</td></tr><tr><td class = \"rowNumber\" style = \"font-weight: bold; text-align: right;\">12</td><td style = \"text-align: right;\">12</td><td style = \"text-align: right;\">13.9551</td></tr><tr><td class = \"rowNumber\" style = \"font-weight: bold; text-align: right;\">13</td><td style = \"text-align: right;\">13</td><td style = \"text-align: right;\">9.30079</td></tr><tr><td style = \"text-align: right;\">&vellip;</td><td style = \"text-align: right;\">&vellip;</td><td style = \"text-align: right;\">&vellip;</td></tr><tr><td class = \"rowNumber\" style = \"font-weight: bold; text-align: right;\">139</td><td style = \"text-align: right;\">139</td><td style = \"text-align: right;\">7.35031</td></tr><tr><td class = \"rowNumber\" style = \"font-weight: bold; text-align: right;\">140</td><td style = \"text-align: right;\">140</td><td style = \"text-align: right;\">11.7605</td></tr><tr><td class = \"rowNumber\" style = \"font-weight: bold; text-align: right;\">141</td><td style = \"text-align: right;\">141</td><td style = \"text-align: right;\">12.6546</td></tr><tr><td class = \"rowNumber\" style = \"font-weight: bold; text-align: right;\">142</td><td style = \"text-align: right;\">142</td><td style = \"text-align: right;\">10.1294</td></tr><tr><td class = \"rowNumber\" style = \"font-weight: bold; text-align: right;\">143</td><td style = \"text-align: right;\">143</td><td style = \"text-align: right;\">9.30079</td></tr><tr><td class = \"rowNumber\" style = \"font-weight: bold; text-align: right;\">144</td><td style = \"text-align: right;\">144</td><td style = \"text-align: right;\">7.53425</td></tr><tr><td class = \"rowNumber\" style = \"font-weight: bold; text-align: right;\">145</td><td style = \"text-align: right;\">145</td><td style = \"text-align: right;\">8.60777</td></tr><tr><td class = \"rowNumber\" style = \"font-weight: bold; text-align: right;\">146</td><td style = \"text-align: right;\">146</td><td style = \"text-align: right;\">8.87901</td></tr><tr><td class = \"rowNumber\" style = \"font-weight: bold; text-align: right;\">147</td><td style = \"text-align: right;\">147</td><td style = \"text-align: right;\">11.7605</td></tr><tr><td class = \"rowNumber\" style = \"font-weight: bold; text-align: right;\">148</td><td style = \"text-align: right;\">148</td><td style = \"text-align: right;\">10.9173</td></tr><tr><td class = \"rowNumber\" style = \"font-weight: bold; text-align: right;\">149</td><td style = \"text-align: right;\">149</td><td style = \"text-align: right;\">7.58742</td></tr><tr><td class = \"rowNumber\" style = \"font-weight: bold; text-align: right;\">150</td><td style = \"text-align: right;\">150</td><td style = \"text-align: right;\">7.93627</td></tr></tbody></table></div>"
      ],
      "text/latex": [
       "\\begin{tabular}{r|cc}\n",
       "\t& id & consommation\\\\\n",
       "\t\\hline\n",
       "\t& Int64 & Float64\\\\\n",
       "\t\\hline\n",
       "\t1 & 1 & 8.11069 \\\\\n",
       "\t2 & 2 & 8.45662 \\\\\n",
       "\t3 & 3 & 8.66848 \\\\\n",
       "\t4 & 4 & 8.71148 \\\\\n",
       "\t5 & 5 & 13.2997 \\\\\n",
       "\t6 & 6 & 13.8359 \\\\\n",
       "\t7 & 7 & 13.8359 \\\\\n",
       "\t8 & 8 & 10.2265 \\\\\n",
       "\t9 & 9 & 10.9459 \\\\\n",
       "\t10 & 10 & 13.2595 \\\\\n",
       "\t11 & 11 & 13.2595 \\\\\n",
       "\t12 & 12 & 13.9551 \\\\\n",
       "\t13 & 13 & 9.30079 \\\\\n",
       "\t14 & 14 & 10.3044 \\\\\n",
       "\t15 & 15 & 8.11069 \\\\\n",
       "\t16 & 16 & 11.5738 \\\\\n",
       "\t17 & 17 & 12.9509 \\\\\n",
       "\t18 & 18 & 12.9509 \\\\\n",
       "\t19 & 19 & 12.9756 \\\\\n",
       "\t20 & 20 & 12.9756 \\\\\n",
       "\t21 & 21 & 13.8359 \\\\\n",
       "\t22 & 22 & 13.0672 \\\\\n",
       "\t23 & 23 & 13.0672 \\\\\n",
       "\t24 & 24 & 13.8359 \\\\\n",
       "\t25 & 25 & 13.0672 \\\\\n",
       "\t26 & 26 & 14.7006 \\\\\n",
       "\t27 & 27 & 13.0672 \\\\\n",
       "\t28 & 28 & 14.7006 \\\\\n",
       "\t29 & 29 & 12.6546 \\\\\n",
       "\t30 & 30 & 10.5223 \\\\\n",
       "\t$\\dots$ & $\\dots$ & $\\dots$ \\\\\n",
       "\\end{tabular}\n"
      ],
      "text/plain": [
       "\u001b[1m150×2 DataFrame\u001b[0m\n",
       "\u001b[1m Row \u001b[0m│\u001b[1m id    \u001b[0m\u001b[1m consommation \u001b[0m\n",
       "     │\u001b[90m Int64 \u001b[0m\u001b[90m Float64      \u001b[0m\n",
       "─────┼─────────────────────\n",
       "   1 │     1       8.11069\n",
       "   2 │     2       8.45662\n",
       "   3 │     3       8.66848\n",
       "   4 │     4       8.71148\n",
       "   5 │     5      13.2997\n",
       "   6 │     6      13.8359\n",
       "   7 │     7      13.8359\n",
       "   8 │     8      10.2265\n",
       "   9 │     9      10.9459\n",
       "  10 │    10      13.2595\n",
       "  11 │    11      13.2595\n",
       "  ⋮  │   ⋮         ⋮\n",
       " 141 │   141      12.6546\n",
       " 142 │   142      10.1294\n",
       " 143 │   143       9.30079\n",
       " 144 │   144       7.53425\n",
       " 145 │   145       8.60777\n",
       " 146 │   146       8.87901\n",
       " 147 │   147      11.7605\n",
       " 148 │   148      10.9173\n",
       " 149 │   149       7.58742\n",
       " 150 │   150       7.93627\n",
       "\u001b[36m           129 rows omitted\u001b[0m"
      ]
     },
     "execution_count": 232,
     "metadata": {},
     "output_type": "execute_result"
    }
   ],
   "source": [
    "function main()\n",
    "    # println(find_duplicates(trainData))\n",
    "\n",
    "    # Step 1: Get Unique Data\n",
    "    uniqueD = get_unique_data(trainData)\n",
    "    # println(uniqueD)\n",
    "    uniqueD = remove_outliers_regression_lin(uniqueD, :cylindree, :consommation, threshold=2.5)\n",
    "\n",
    "    unique_standard = getStandardEncodedData(uniqueD)\n",
    "    predictStandard = getStandardEncodedData(testData)\n",
    "    # evaluate_rmse(uniqueD)\n",
    "\n",
    "    # println(uniqueD)\n",
    "    # println(predictStandard)\n",
    "\n",
    "\n",
    "    # format_file(predict_with_dups(unique_standard, predictStandard, uniqueD, testData))\n",
    "\n",
    "\n",
    "    predict_with_dups(unique_standard, predictStandard, uniqueD, testData)\n",
    "    # format_file(predict_with_dups(uniqueD, testData))\n",
    " \n",
    "end\n",
    "main()\n"
   ]
  },
  {
   "cell_type": "code",
   "execution_count": 238,
   "metadata": {},
   "outputs": [
    {
     "ename": "LoadError",
     "evalue": "UndefVarError: `topk` not defined",
     "output_type": "error",
     "traceback": [
      "UndefVarError: `topk` not defined",
      "",
      "Stacktrace:",
      " [1] top-level scope",
      "   @ In[238]:2"
     ]
    },
    {
     "name": "stderr",
     "output_type": "stream",
     "text": [
      "WARNING: both LinearAlgebra and Gadfly export \"cross\"; uses of it in module Main must be qualified\n"
     ]
    }
   ],
   "source": [
    "b = [0.2060226445883218, 0.7069509310073757, 0.014664500546035582, -0.020896969882163823, -0.06287051602527044, 0.0399953445177604, 0.07731750259039266, 0.022359628564015757, 0.15790920676199302, 0.07745356347975531, -0.24754837930748905, 0.08898756871263896, -0.0025449013664139413, 0.07934686101331231]\n",
    "\n",
    "\n",
    "Dict(zip(names(trainData[:, Not(:consommation)]), b))"
   ]
  },
  {
   "cell_type": "code",
   "execution_count": 246,
   "metadata": {},
   "outputs": [
    {
     "data": {
      "text/html": [
       "<div><div style = \"float: left;\"><span>2×8 DataFrame</span></div><div style = \"clear: both;\"></div></div><div class = \"data-frame\" style = \"overflow-x: scroll;\"><table class = \"data-frame\" style = \"margin-bottom: 6px;\"><thead><tr class = \"header\"><th class = \"rowNumber\" style = \"font-weight: bold; text-align: right;\">Row</th><th style = \"text-align: left;\">annee</th><th style = \"text-align: left;\">type</th><th style = \"text-align: left;\">nombre_cylindres</th><th style = \"text-align: left;\">cylindree</th><th style = \"text-align: left;\">transmission</th><th style = \"text-align: left;\">boite</th><th style = \"text-align: left;\">consommation</th><th style = \"text-align: left;\">id</th></tr><tr class = \"subheader headerLastRow\"><th class = \"rowNumber\" style = \"font-weight: bold; text-align: right;\"></th><th title = \"Int64\" style = \"text-align: left;\">Int64</th><th title = \"String31\" style = \"text-align: left;\">String31</th><th title = \"Int64\" style = \"text-align: left;\">Int64</th><th title = \"Float64\" style = \"text-align: left;\">Float64</th><th title = \"String15\" style = \"text-align: left;\">String15</th><th title = \"String15\" style = \"text-align: left;\">String15</th><th title = \"Float64\" style = \"text-align: left;\">Float64</th><th title = \"Int64\" style = \"text-align: left;\">Int64</th></tr></thead><tbody><tr><td class = \"rowNumber\" style = \"font-weight: bold; text-align: right;\">1</td><td style = \"text-align: right;\">2014</td><td style = \"text-align: left;\">voiture_minicompacte</td><td style = \"text-align: right;\">12</td><td style = \"text-align: right;\">5.9</td><td style = \"text-align: left;\">propulsion</td><td style = \"text-align: left;\">automatique</td><td style = \"text-align: right;\">15.6807</td><td style = \"text-align: right;\">23</td></tr><tr><td class = \"rowNumber\" style = \"font-weight: bold; text-align: right;\">2</td><td style = \"text-align: right;\">2014</td><td style = \"text-align: left;\">voiture_minicompacte</td><td style = \"text-align: right;\">12</td><td style = \"text-align: right;\">5.9</td><td style = \"text-align: left;\">propulsion</td><td style = \"text-align: left;\">automatique</td><td style = \"text-align: right;\">15.6807</td><td style = \"text-align: right;\">224</td></tr></tbody></table></div>"
      ],
      "text/latex": [
       "\\begin{tabular}{r|ccccccc}\n",
       "\t& annee & type & nombre\\_cylindres & cylindree & transmission & boite & \\\\\n",
       "\t\\hline\n",
       "\t& Int64 & String31 & Int64 & Float64 & String15 & String15 & \\\\\n",
       "\t\\hline\n",
       "\t1 & 2014 & voiture\\_minicompacte & 12 & 5.9 & propulsion & automatique & $\\dots$ \\\\\n",
       "\t2 & 2014 & voiture\\_minicompacte & 12 & 5.9 & propulsion & automatique & $\\dots$ \\\\\n",
       "\\end{tabular}\n"
      ],
      "text/plain": [
       "\u001b[1m2×8 DataFrame\u001b[0m\n",
       "\u001b[1m Row \u001b[0m│\u001b[1m annee \u001b[0m\u001b[1m type                 \u001b[0m\u001b[1m nombre_cylindres \u001b[0m\u001b[1m cylindree \u001b[0m\u001b[1m transmission \u001b[0m\u001b[1m\u001b[0m ⋯\n",
       "     │\u001b[90m Int64 \u001b[0m\u001b[90m String31             \u001b[0m\u001b[90m Int64            \u001b[0m\u001b[90m Float64   \u001b[0m\u001b[90m String15     \u001b[0m\u001b[90m\u001b[0m ⋯\n",
       "─────┼──────────────────────────────────────────────────────────────────────────\n",
       "   1 │  2014  voiture_minicompacte                12        5.9  propulsion    ⋯\n",
       "   2 │  2014  voiture_minicompacte                12        5.9  propulsion\n",
       "\u001b[36m                                                               3 columns omitted\u001b[0m"
      ]
     },
     "execution_count": 246,
     "metadata": {},
     "output_type": "execute_result"
    }
   ],
   "source": [
    "sort(trainData[trainData.cylindree.==5.9, :])"
   ]
  },
  {
   "cell_type": "code",
   "execution_count": 233,
   "metadata": {},
   "outputs": [],
   "source": [
    "# for type in unique(trainData.type)\n",
    "#     println(type)\n",
    "#     data_type = trainData[trainData.type .== type, :]\n",
    "#     println(combine(groupby(data_type, :transmission), :consommation => mean, :volume_gaz => mean, nrow => :nrow))\n",
    "#     println()\n",
    "# end"
   ]
  },
  {
   "cell_type": "code",
   "execution_count": 234,
   "metadata": {},
   "outputs": [],
   "source": [
    "# for type in unique(trainData.type)\n",
    "#     println(type)\n",
    "#     data_type = trainData[trainData.type .== type, :]\n",
    "#     display(plot(x=data_type.volume_gaz, y=data_type.consommation))\n",
    "#     println()\n",
    "# end"
   ]
  },
  {
   "cell_type": "markdown",
   "metadata": {},
   "source": [
    "## Exploration des données"
   ]
  }
 ],
 "metadata": {
  "kernelspec": {
   "display_name": "Julia 1.10.5",
   "language": "julia",
   "name": "julia-1.10"
  },
  "language_info": {
   "file_extension": ".jl",
   "mimetype": "application/julia",
   "name": "julia",
   "version": "1.10.5"
  }
 },
 "nbformat": 4,
 "nbformat_minor": 2
}
