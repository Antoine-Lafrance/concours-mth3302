{
 "cells": [
  {
   "cell_type": "markdown",
   "metadata": {},
   "source": [
    "# MTH3302 - Méthodes probabilistes et statistiques pour I.A.\n",
    "#### Polytechnique Montréal\n",
    "### Projet A2024\n",
    "----\n",
    "Équipe T - TODO\n",
    "### Objectif\n",
    "Prédiction de **la consommation en carburant de voitures récentes**.\n",
    "\n",
    "### Données\n",
    "Le jeu de données contient pour presque 400 véhicule, la consommation moyenne en L/100km, l'année de frabrication, le type de véhicule, le nombre de cylindre, cylindree, la transmission et la boite.\n",
    "\n",
    "- `train.csv` est l'ensemble d'entraînement\n",
    "- `test.csv` est l'ensemble de test\n"
   ]
  },
  {
   "cell_type": "markdown",
   "metadata": {},
   "source": [
    "## Chargement des données"
   ]
  },
  {
   "cell_type": "markdown",
   "metadata": {},
   "source": [
    "Importation des librairies utilisées dans le calepin."
   ]
  },
  {
   "cell_type": "markdown",
   "metadata": {},
   "source": [
    "// TODO: à enlever à la fin:\n",
    "\n",
    "Pour importer librairies:\n",
    "using Pkg\n",
    "Pkg.add([\"CSV\", \"DataFrames\", \"Combinatorics\", \"Gadfly\", \"Distributions\"], ...)"
   ]
  },
  {
   "cell_type": "code",
   "execution_count": 1,
   "metadata": {},
   "outputs": [
    {
     "name": "stderr",
     "output_type": "stream",
     "text": [
      "\u001b[32m\u001b[1m   Resolving\u001b[22m\u001b[39m package versions...\n",
      "\u001b[32m\u001b[1m  No Changes\u001b[22m\u001b[39m to `C:\\Users\\Antoine\\.julia\\environments\\v1.10\\Project.toml`\n",
      "\u001b[32m\u001b[1m  No Changes\u001b[22m\u001b[39m to `C:\\Users\\Antoine\\.julia\\environments\\v1.10\\Manifest.toml`\n"
     ]
    }
   ],
   "source": [
    "# import Pkg; Pkg.add(\"Plots\")\n",
    "import Pkg; Pkg.add(\"DecisionTree\")"
   ]
  },
  {
   "cell_type": "code",
   "execution_count": 2,
   "metadata": {},
   "outputs": [],
   "source": [
    "using CSV, DataFrames, Statistics, Dates, Gadfly, LinearAlgebra, DecisionTree, Random, Plots\n"
   ]
  },
  {
   "cell_type": "code",
   "execution_count": 3,
   "metadata": {},
   "outputs": [
    {
     "data": {
      "text/plain": [
       "add_rows (generic function with 1 method)"
      ]
     },
     "execution_count": 3,
     "metadata": {},
     "output_type": "execute_result"
    }
   ],
   "source": [
    "function add_rows(data)\n",
    "    data[!,:volume_gaz] = data[!,:nombre_cylindres] .* data[!,:cylindree]\n",
    "    return data\n",
    "end"
   ]
  },
  {
   "cell_type": "code",
   "execution_count": 4,
   "metadata": {},
   "outputs": [
    {
     "data": {
      "text/plain": [
       "getStandardEncodedData (generic function with 1 method)"
      ]
     },
     "execution_count": 4,
     "metadata": {},
     "output_type": "execute_result"
    }
   ],
   "source": [
    "function getStandardEncodedData(data)\n",
    "    data_copy = deepcopy(data)\n",
    "    standardised_data = add_rows(data_copy)\n",
    "    return standardised_data\n",
    "end\n",
    "\n",
    "\n"
   ]
  },
  {
   "cell_type": "code",
   "execution_count": 5,
   "metadata": {},
   "outputs": [
    {
     "data": {
      "text/plain": [
       "decisionTree_remise (generic function with 1 method)"
      ]
     },
     "execution_count": 5,
     "metadata": {},
     "output_type": "execute_result"
    }
   ],
   "source": [
    "function decisionTree_remise(X_train ,y_train,  X_test, max_depth)\n",
    "    model = DecisionTreeRegressor(max_depth=max_depth)\n",
    "    fit!(model, X_train, y_train) #peut etre normaliser sur tout les données, pas justr sur les données d'entrainement\n",
    "    ychap =  predict(model, X_test)  \n",
    "    return ychap\n",
    "end"
   ]
  },
  {
   "cell_type": "code",
   "execution_count": 6,
   "metadata": {},
   "outputs": [
    {
     "data": {
      "text/plain": [
       "format_file (generic function with 1 method)"
      ]
     },
     "execution_count": 6,
     "metadata": {},
     "output_type": "execute_result"
    }
   ],
   "source": [
    "function format_file(predictions)\n",
    "    println(predictions)\n",
    "    current_time = Dates.format(now(), \"yyyy-mm-dd_HH-MM-SS\")\n",
    "    file_name = \"benchmark_\" * current_time * \".csv\"\n",
    "    CSV.write(\"./soumissions_potentielles/\" *file_name, predictions)\n",
    "end"
   ]
  },
  {
   "cell_type": "code",
   "execution_count": null,
   "metadata": {},
   "outputs": [
    {
     "ename": "LoadError",
     "evalue": "UndefVarError: `annee` not defined",
     "output_type": "error",
     "traceback": [
      "UndefVarError: `annee` not defined",
      "",
      "Stacktrace:",
      " [1] top-level scope",
      "   @ In[7]:1"
     ]
    },
    {
     "name": "stderr",
     "output_type": "stream",
     "text": [
      "WARNING: both Plots and Gadfly export \"plot\"; uses of it in module Main must be qualified\n"
     ]
    }
   ],
   "source": [
    "COLUMNS_TO_COMPARE = [\"annee\",\"type\", \"nombre_cylindres\", \"cylindree\", \"transmission\", \"boite\"]\n",
    "\n",
    "function get_unique_data(data)\n",
    "    unique_data = combine(groupby(data, COLUMNS_TO_COMPARE), :consommation => mean)\n",
    "    rename!(unique_data, :consommation_mean => :consommation)\n",
    "    return unique_data\n",
    "end\n",
    "\n",
    "function find_pairs(data_train, data_predict)\n",
    "    train_data_without_consommation = select(data_train, Not(:consommation))\n",
    "    predict_with_annee = data_predict\n",
    "\n",
    "    common_values = innerjoin(data_train, predict_with_annee, on=names(train_data_without_consommation))\n",
    "\n",
    "    return common_values\n",
    "end\n",
    "\n",
    "function find_differents(data_train, data_predict)\n",
    "    different_values = antijoin(data_predict, data_train, on=COLUMNS_TO_COMPARE)\n",
    "    return different_values\n",
    "    \n",
    "end\n",
    "\n",
    "function predict_with_dups(data_train, data_predict)\n",
    "    pairs = find_pairs(data_train, data_predict)\n",
    "    pairs = select(pairs, [:id, :consommation])\n",
    "    different_values = find_differents(data_train, data_predict)\n",
    "\n",
    "    trainDataStandard = getStandardEncodedData(data_train)\n",
    "    \n",
    "\n",
    "    # X_train =  Matrix(trainData[:, Not(:consommation)])\n",
    "    # y_train = trainData.consommation\n",
    "\n",
    "    X_test = Matrix(testData)\n",
    "\n",
    "    X_train = Matrix(trainDataStandard[:, Not(:consommation)])\n",
    "    y_train = trainDataStandard.consommation\n",
    "    # println(X_train)\n",
    "    # println(y_train)\n",
    "\n",
    "    predictDataStandard = getStandardEncodedData(different_values)\n",
    "\n",
    "    # X_test = Matrix(predictDataStandard)\n",
    "\n",
    "    res =  decisionTree_remise(X_train ,y_train,  X_test, 5)\n",
    "\n",
    "    # different_values = select(different_values, [:id, :consommation])\n",
    "    # prediction = vcat(pairs, different_values)\n",
    "    # prediction = sort(prediction, :id)\n",
    "\n",
    "    # return prediction\n",
    "end\n",
    "    "
   ]
  },
  {
   "cell_type": "code",
   "execution_count": 8,
   "metadata": {},
   "outputs": [
    {
     "data": {
      "text/plain": [
       "1:150"
      ]
     },
     "execution_count": 8,
     "metadata": {},
     "output_type": "execute_result"
    }
   ],
   "source": [
    "trainData = CSV.read(\"../../data/train.csv\", DataFrame)\n",
    "testData = CSV.read(\"../../data/test.csv\", DataFrame)\n",
    "trainData.consommation = parse.(Float64,replace.(trainData.consommation, \",\" => \".\"))\n",
    "trainData.cylindree = parse.(Float64,replace.(trainData.cylindree, \",\" => \".\"))\n",
    "testData.cylindree = parse.(Float64,replace.(testData.cylindree, \",\" => \".\"))\n",
    "\n",
    "\n",
    "COMSOMMATION_MEAN = mean(trainData.consommation)\n",
    "COMSOMMATION_STD = std(trainData.consommation)\n",
    "trainData[!, :id] = 1:nrow(trainData)\n",
    "testData[!, :id] = 1:nrow(testData)\n",
    "\n",
    "\n"
   ]
  },
  {
   "cell_type": "code",
   "execution_count": 9,
   "metadata": {},
   "outputs": [
    {
     "data": {
      "text/html": [
       "<div><div style = \"float: left;\"><span>145×6 DataFrame</span></div><div style = \"float: right;\"><span style = \"font-style: italic;\">120 rows omitted</span></div><div style = \"clear: both;\"></div></div><div class = \"data-frame\" style = \"overflow-x: scroll;\"><table class = \"data-frame\" style = \"margin-bottom: 6px;\"><thead><tr class = \"header\"><th class = \"rowNumber\" style = \"font-weight: bold; text-align: right;\">Row</th><th style = \"text-align: left;\">type</th><th style = \"text-align: left;\">nombre_cylindres</th><th style = \"text-align: left;\">cylindree</th><th style = \"text-align: left;\">transmission</th><th style = \"text-align: left;\">boite</th><th style = \"text-align: left;\">consommation</th></tr><tr class = \"subheader headerLastRow\"><th class = \"rowNumber\" style = \"font-weight: bold; text-align: right;\"></th><th title = \"String31\" style = \"text-align: left;\">String31</th><th title = \"Int64\" style = \"text-align: left;\">Int64</th><th title = \"Float64\" style = \"text-align: left;\">Float64</th><th title = \"String15\" style = \"text-align: left;\">String15</th><th title = \"String15\" style = \"text-align: left;\">String15</th><th title = \"Float64\" style = \"text-align: left;\">Float64</th></tr></thead><tbody><tr><td class = \"rowNumber\" style = \"font-weight: bold; text-align: right;\">1</td><td style = \"text-align: left;\">voiture_moyenne</td><td style = \"text-align: right;\">8</td><td style = \"text-align: right;\">4.4</td><td style = \"text-align: left;\">integrale</td><td style = \"text-align: left;\">automatique</td><td style = \"text-align: right;\">13.0036</td></tr><tr><td class = \"rowNumber\" style = \"font-weight: bold; text-align: right;\">2</td><td style = \"text-align: left;\">VUS_petit</td><td style = \"text-align: right;\">4</td><td style = \"text-align: right;\">2.0</td><td style = \"text-align: left;\">integrale</td><td style = \"text-align: left;\">automatique</td><td style = \"text-align: right;\">10.1294</td></tr><tr><td class = \"rowNumber\" style = \"font-weight: bold; text-align: right;\">3</td><td style = \"text-align: left;\">voiture_compacte</td><td style = \"text-align: right;\">6</td><td style = \"text-align: right;\">3.3</td><td style = \"text-align: left;\">propulsion</td><td style = \"text-align: left;\">automatique</td><td style = \"text-align: right;\">11.4805</td></tr><tr><td class = \"rowNumber\" style = \"font-weight: bold; text-align: right;\">4</td><td style = \"text-align: left;\">voiture_deux_places</td><td style = \"text-align: right;\">8</td><td style = \"text-align: right;\">5.0</td><td style = \"text-align: left;\">integrale</td><td style = \"text-align: left;\">automatique</td><td style = \"text-align: right;\">13.0672</td></tr><tr><td class = \"rowNumber\" style = \"font-weight: bold; text-align: right;\">5</td><td style = \"text-align: left;\">voiture_minicompacte</td><td style = \"text-align: right;\">3</td><td style = \"text-align: right;\">1.5</td><td style = \"text-align: left;\">traction</td><td style = \"text-align: left;\">automatique</td><td style = \"text-align: right;\">7.49574</td></tr><tr><td class = \"rowNumber\" style = \"font-weight: bold; text-align: right;\">6</td><td style = \"text-align: left;\">voiture_minicompacte</td><td style = \"text-align: right;\">3</td><td style = \"text-align: right;\">1.5</td><td style = \"text-align: left;\">traction</td><td style = \"text-align: left;\">manuelle</td><td style = \"text-align: right;\">7.58742</td></tr><tr><td class = \"rowNumber\" style = \"font-weight: bold; text-align: right;\">7</td><td style = \"text-align: left;\">VUS_standard</td><td style = \"text-align: right;\">6</td><td style = \"text-align: right;\">3.8</td><td style = \"text-align: left;\">integrale</td><td style = \"text-align: left;\">automatique</td><td style = \"text-align: right;\">11.2005</td></tr><tr><td class = \"rowNumber\" style = \"font-weight: bold; text-align: right;\">8</td><td style = \"text-align: left;\">monospace</td><td style = \"text-align: right;\">6</td><td style = \"text-align: right;\">3.3</td><td style = \"text-align: left;\">traction</td><td style = \"text-align: left;\">automatique</td><td style = \"text-align: right;\">11.7801</td></tr><tr><td class = \"rowNumber\" style = \"font-weight: bold; text-align: right;\">9</td><td style = \"text-align: left;\">VUS_standard</td><td style = \"text-align: right;\">8</td><td style = \"text-align: right;\">5.0</td><td style = \"text-align: left;\">4x4</td><td style = \"text-align: left;\">automatique</td><td style = \"text-align: right;\">14.7006</td></tr><tr><td class = \"rowNumber\" style = \"font-weight: bold; text-align: right;\">10</td><td style = \"text-align: left;\">voiture_sous_compacte</td><td style = \"text-align: right;\">6</td><td style = \"text-align: right;\">3.0</td><td style = \"text-align: left;\">propulsion</td><td style = \"text-align: left;\">automatique</td><td style = \"text-align: right;\">10.9173</td></tr><tr><td class = \"rowNumber\" style = \"font-weight: bold; text-align: right;\">11</td><td style = \"text-align: left;\">voiture_deux_places</td><td style = \"text-align: right;\">6</td><td style = \"text-align: right;\">3.0</td><td style = \"text-align: left;\">propulsion</td><td style = \"text-align: left;\">automatique</td><td style = \"text-align: right;\">10.5223</td></tr><tr><td class = \"rowNumber\" style = \"font-weight: bold; text-align: right;\">12</td><td style = \"text-align: left;\">camionnette_petit</td><td style = \"text-align: right;\">6</td><td style = \"text-align: right;\">3.6</td><td style = \"text-align: left;\">propulsion</td><td style = \"text-align: left;\">automatique</td><td style = \"text-align: right;\">11.2005</td></tr><tr><td class = \"rowNumber\" style = \"font-weight: bold; text-align: right;\">13</td><td style = \"text-align: left;\">voiture_compacte</td><td style = \"text-align: right;\">4</td><td style = \"text-align: right;\">2.0</td><td style = \"text-align: left;\">propulsion</td><td style = \"text-align: left;\">manuelle</td><td style = \"text-align: right;\">10.2637</td></tr><tr><td style = \"text-align: right;\">&vellip;</td><td style = \"text-align: right;\">&vellip;</td><td style = \"text-align: right;\">&vellip;</td><td style = \"text-align: right;\">&vellip;</td><td style = \"text-align: right;\">&vellip;</td><td style = \"text-align: right;\">&vellip;</td><td style = \"text-align: right;\">&vellip;</td></tr><tr><td class = \"rowNumber\" style = \"font-weight: bold; text-align: right;\">134</td><td style = \"text-align: left;\">VUS_petit</td><td style = \"text-align: right;\">6</td><td style = \"text-align: right;\">3.6</td><td style = \"text-align: left;\">traction</td><td style = \"text-align: left;\">automatique</td><td style = \"text-align: right;\">11.5354</td></tr><tr><td class = \"rowNumber\" style = \"font-weight: bold; text-align: right;\">135</td><td style = \"text-align: left;\">voiture_deux_places</td><td style = \"text-align: right;\">4</td><td style = \"text-align: right;\">2.0</td><td style = \"text-align: left;\">integrale</td><td style = \"text-align: left;\">automatique</td><td style = \"text-align: right;\">9.04654</td></tr><tr><td class = \"rowNumber\" style = \"font-weight: bold; text-align: right;\">136</td><td style = \"text-align: left;\">voiture_moyenne</td><td style = \"text-align: right;\">4</td><td style = \"text-align: right;\">1.5</td><td style = \"text-align: left;\">traction</td><td style = \"text-align: left;\">automatique</td><td style = \"text-align: right;\">4.52327</td></tr><tr><td class = \"rowNumber\" style = \"font-weight: bold; text-align: right;\">137</td><td style = \"text-align: left;\">voiture_compacte</td><td style = \"text-align: right;\">4</td><td style = \"text-align: right;\">2.4</td><td style = \"text-align: left;\">traction</td><td style = \"text-align: left;\">automatique</td><td style = \"text-align: right;\">9.04654</td></tr><tr><td class = \"rowNumber\" style = \"font-weight: bold; text-align: right;\">138</td><td style = \"text-align: left;\">VUS_petit</td><td style = \"text-align: right;\">4</td><td style = \"text-align: right;\">1.5</td><td style = \"text-align: left;\">integrale</td><td style = \"text-align: left;\">automatique</td><td style = \"text-align: right;\">9.04654</td></tr><tr><td class = \"rowNumber\" style = \"font-weight: bold; text-align: right;\">139</td><td style = \"text-align: left;\">monospace</td><td style = \"text-align: right;\">6</td><td style = \"text-align: right;\">3.6</td><td style = \"text-align: left;\">traction</td><td style = \"text-align: left;\">automatique</td><td style = \"text-align: right;\">10.6914</td></tr><tr><td class = \"rowNumber\" style = \"font-weight: bold; text-align: right;\">140</td><td style = \"text-align: left;\">VUS_standard</td><td style = \"text-align: right;\">6</td><td style = \"text-align: right;\">3.5</td><td style = \"text-align: left;\">integrale</td><td style = \"text-align: left;\">automatique</td><td style = \"text-align: right;\">11.7605</td></tr><tr><td class = \"rowNumber\" style = \"font-weight: bold; text-align: right;\">141</td><td style = \"text-align: left;\">voiture_compacte</td><td style = \"text-align: right;\">4</td><td style = \"text-align: right;\">1.4</td><td style = \"text-align: left;\">traction</td><td style = \"text-align: left;\">manuelle</td><td style = \"text-align: right;\">6.91794</td></tr><tr><td class = \"rowNumber\" style = \"font-weight: bold; text-align: right;\">142</td><td style = \"text-align: left;\">voiture_deux_places</td><td style = \"text-align: right;\">8</td><td style = \"text-align: right;\">6.2</td><td style = \"text-align: left;\">propulsion</td><td style = \"text-align: left;\">automatique</td><td style = \"text-align: right;\">15.6807</td></tr><tr><td class = \"rowNumber\" style = \"font-weight: bold; text-align: right;\">143</td><td style = \"text-align: left;\">voiture_sous_compacte</td><td style = \"text-align: right;\">6</td><td style = \"text-align: right;\">3.0</td><td style = \"text-align: left;\">propulsion</td><td style = \"text-align: left;\">manuelle</td><td style = \"text-align: right;\">11.7605</td></tr><tr><td class = \"rowNumber\" style = \"font-weight: bold; text-align: right;\">144</td><td style = \"text-align: left;\">voiture_compacte</td><td style = \"text-align: right;\">6</td><td style = \"text-align: right;\">3.5</td><td style = \"text-align: left;\">integrale</td><td style = \"text-align: left;\">automatique</td><td style = \"text-align: right;\">10.2265</td></tr><tr><td class = \"rowNumber\" style = \"font-weight: bold; text-align: right;\">145</td><td style = \"text-align: left;\">voiture_moyenne</td><td style = \"text-align: right;\">6</td><td style = \"text-align: right;\">3.5</td><td style = \"text-align: left;\">integrale</td><td style = \"text-align: left;\">automatique</td><td style = \"text-align: right;\">7.84033</td></tr></tbody></table></div>"
      ],
      "text/latex": [
       "\\begin{tabular}{r|cccccc}\n",
       "\t& type & nombre\\_cylindres & cylindree & transmission & boite & consommation\\\\\n",
       "\t\\hline\n",
       "\t& String31 & Int64 & Float64 & String15 & String15 & Float64\\\\\n",
       "\t\\hline\n",
       "\t1 & voiture\\_moyenne & 8 & 4.4 & integrale & automatique & 13.0036 \\\\\n",
       "\t2 & VUS\\_petit & 4 & 2.0 & integrale & automatique & 10.1294 \\\\\n",
       "\t3 & voiture\\_compacte & 6 & 3.3 & propulsion & automatique & 11.4805 \\\\\n",
       "\t4 & voiture\\_deux\\_places & 8 & 5.0 & integrale & automatique & 13.0672 \\\\\n",
       "\t5 & voiture\\_minicompacte & 3 & 1.5 & traction & automatique & 7.49574 \\\\\n",
       "\t6 & voiture\\_minicompacte & 3 & 1.5 & traction & manuelle & 7.58742 \\\\\n",
       "\t7 & VUS\\_standard & 6 & 3.8 & integrale & automatique & 11.2005 \\\\\n",
       "\t8 & monospace & 6 & 3.3 & traction & automatique & 11.7801 \\\\\n",
       "\t9 & VUS\\_standard & 8 & 5.0 & 4x4 & automatique & 14.7006 \\\\\n",
       "\t10 & voiture\\_sous\\_compacte & 6 & 3.0 & propulsion & automatique & 10.9173 \\\\\n",
       "\t11 & voiture\\_deux\\_places & 6 & 3.0 & propulsion & automatique & 10.5223 \\\\\n",
       "\t12 & camionnette\\_petit & 6 & 3.6 & propulsion & automatique & 11.2005 \\\\\n",
       "\t13 & voiture\\_compacte & 4 & 2.0 & propulsion & manuelle & 10.2637 \\\\\n",
       "\t14 & VUS\\_petit & 8 & 5.0 & integrale & automatique & 13.0672 \\\\\n",
       "\t15 & voiture\\_deux\\_places & 6 & 3.0 & integrale & automatique & 11.2005 \\\\\n",
       "\t16 & VUS\\_petit & 4 & 2.5 & traction & automatique & 8.66848 \\\\\n",
       "\t17 & voiture\\_sous\\_compacte & 6 & 3.8 & integrale & automatique & 12.3795 \\\\\n",
       "\t18 & voiture\\_moyenne & 4 & 2.5 & traction & automatique & 7.59532 \\\\\n",
       "\t19 & voiture\\_minicompacte & 12 & 5.9 & propulsion & automatique & 15.6807 \\\\\n",
       "\t20 & voiture\\_moyenne & 4 & 2.0 & integrale & automatique & 8.79525 \\\\\n",
       "\t21 & VUS\\_standard & 8 & 6.2 & 4x4 & automatique & 14.7006 \\\\\n",
       "\t22 & voiture\\_moyenne & 6 & 3.0 & integrale & automatique & 10.0199 \\\\\n",
       "\t23 & break\\_petit & 4 & 1.6 & traction & automatique & 8.11069 \\\\\n",
       "\t24 & voiture\\_compacte & 6 & 3.5 & traction & automatique & 10.2265 \\\\\n",
       "\t25 & VUS\\_petit & 4 & 2.4 & integrale & automatique & 10.3953 \\\\\n",
       "\t26 & VUS\\_petit & 4 & 2.0 & traction & automatique & 9.30079 \\\\\n",
       "\t27 & VUS\\_petit & 4 & 2.0 & traction & manuelle & 8.43512 \\\\\n",
       "\t28 & VUS\\_petit & 4 & 2.5 & integrale & automatique & 9.53164 \\\\\n",
       "\t29 & voiture\\_sous\\_compacte & 4 & 2.0 & integrale & automatique & 8.87901 \\\\\n",
       "\t30 & break\\_petit & 4 & 2.0 & traction & automatique & 7.71388 \\\\\n",
       "\t$\\dots$ & $\\dots$ & $\\dots$ & $\\dots$ & $\\dots$ & $\\dots$ & $\\dots$ \\\\\n",
       "\\end{tabular}\n"
      ],
      "text/plain": [
       "\u001b[1m145×6 DataFrame\u001b[0m\n",
       "\u001b[1m Row \u001b[0m│\u001b[1m type                  \u001b[0m\u001b[1m nombre_cylindres \u001b[0m\u001b[1m cylindree \u001b[0m\u001b[1m transmission \u001b[0m\u001b[1m boite\u001b[0m ⋯\n",
       "     │\u001b[90m String31              \u001b[0m\u001b[90m Int64            \u001b[0m\u001b[90m Float64   \u001b[0m\u001b[90m String15     \u001b[0m\u001b[90m Strin\u001b[0m ⋯\n",
       "─────┼──────────────────────────────────────────────────────────────────────────\n",
       "   1 │ voiture_moyenne                       8        4.4  integrale     autom ⋯\n",
       "   2 │ VUS_petit                             4        2.0  integrale     autom\n",
       "   3 │ voiture_compacte                      6        3.3  propulsion    autom\n",
       "   4 │ voiture_deux_places                   8        5.0  integrale     autom\n",
       "   5 │ voiture_minicompacte                  3        1.5  traction      autom ⋯\n",
       "   6 │ voiture_minicompacte                  3        1.5  traction      manue\n",
       "   7 │ VUS_standard                          6        3.8  integrale     autom\n",
       "   8 │ monospace                             6        3.3  traction      autom\n",
       "   9 │ VUS_standard                          8        5.0  4x4           autom ⋯\n",
       "  10 │ voiture_sous_compacte                 6        3.0  propulsion    autom\n",
       "  11 │ voiture_deux_places                   6        3.0  propulsion    autom\n",
       "  ⋮  │           ⋮                   ⋮              ⋮           ⋮              ⋱\n",
       " 136 │ voiture_moyenne                       4        1.5  traction      autom\n",
       " 137 │ voiture_compacte                      4        2.4  traction      autom ⋯\n",
       " 138 │ VUS_petit                             4        1.5  integrale     autom\n",
       " 139 │ monospace                             6        3.6  traction      autom\n",
       " 140 │ VUS_standard                          6        3.5  integrale     autom\n",
       " 141 │ voiture_compacte                      4        1.4  traction      manue ⋯\n",
       " 142 │ voiture_deux_places                   8        6.2  propulsion    autom\n",
       " 143 │ voiture_sous_compacte                 6        3.0  propulsion    manue\n",
       " 144 │ voiture_compacte                      6        3.5  integrale     autom\n",
       " 145 │ voiture_moyenne                       6        3.5  integrale     autom ⋯\n",
       "\u001b[36m                                                  2 columns and 124 rows omitted\u001b[0m"
      ]
     },
     "execution_count": 9,
     "metadata": {},
     "output_type": "execute_result"
    }
   ],
   "source": [
    "uniqueD = get_unique_data(trainData)"
   ]
  },
  {
   "cell_type": "code",
   "execution_count": 205,
   "metadata": {},
   "outputs": [
    {
     "ename": "LoadError",
     "evalue": "MethodError: no method matching isless(::String31, ::Float64)\n\n\u001b[0mClosest candidates are:\n\u001b[0m  isless(\u001b[91m::Missing\u001b[39m, ::Any)\n\u001b[0m\u001b[90m   @\u001b[39m \u001b[90mBase\u001b[39m \u001b[90m\u001b[4mmissing.jl:87\u001b[24m\u001b[39m\n\u001b[0m  isless(::Any, \u001b[91m::Missing\u001b[39m)\n\u001b[0m\u001b[90m   @\u001b[39m \u001b[90mBase\u001b[39m \u001b[90m\u001b[4mmissing.jl:88\u001b[24m\u001b[39m\n\u001b[0m  isless(\u001b[91m::T\u001b[39m, ::T) where T<:Union{Float16, Float32, Float64}\n\u001b[0m\u001b[90m   @\u001b[39m \u001b[90mBase\u001b[39m \u001b[90m\u001b[4mfloat.jl:548\u001b[24m\u001b[39m\n\u001b[0m  ...\n",
     "output_type": "error",
     "traceback": [
      "MethodError: no method matching isless(::String31, ::Float64)\n\n\u001b[0mClosest candidates are:\n\u001b[0m  isless(\u001b[91m::Missing\u001b[39m, ::Any)\n\u001b[0m\u001b[90m   @\u001b[39m \u001b[90mBase\u001b[39m \u001b[90m\u001b[4mmissing.jl:87\u001b[24m\u001b[39m\n\u001b[0m  isless(::Any, \u001b[91m::Missing\u001b[39m)\n\u001b[0m\u001b[90m   @\u001b[39m \u001b[90mBase\u001b[39m \u001b[90m\u001b[4mmissing.jl:88\u001b[24m\u001b[39m\n\u001b[0m  isless(\u001b[91m::T\u001b[39m, ::T) where T<:Union{Float16, Float32, Float64}\n\u001b[0m\u001b[90m   @\u001b[39m \u001b[90mBase\u001b[39m \u001b[90m\u001b[4mfloat.jl:548\u001b[24m\u001b[39m\n\u001b[0m  ...\n",
      "",
      "Stacktrace:",
      " [1] <(x::String31, y::Float64)",
      "   @ Base .\\operators.jl:352",
      " [2] apply_tree(tree::Node{Any, Float64}, features::Vector{Any})",
      "   @ DecisionTree C:\\Users\\Carl-Éric\\.julia\\packages\\DecisionTree\\0Dw1P\\src\\classification\\main.jl:280",
      " [3] apply_tree(tree::Node{Any, Float64}, features::Matrix{Any})",
      "   @ DecisionTree C:\\Users\\Carl-Éric\\.julia\\packages\\DecisionTree\\0Dw1P\\src\\classification\\main.jl:294",
      " [4] apply_tree(tree::Root{Any, Float64}, features::Matrix{Any})",
      "   @ DecisionTree C:\\Users\\Carl-Éric\\.julia\\packages\\DecisionTree\\0Dw1P\\src\\classification\\main.jl:288",
      " [5] predict(dt::DecisionTreeRegressor, X::Matrix{Any})",
      "   @ DecisionTree C:\\Users\\Carl-Éric\\.julia\\packages\\DecisionTree\\0Dw1P\\src\\scikitlearnAPI.jl:226",
      " [6] decisionTree_remise(X_train::Matrix{Any}, y_train::Vector{Float64}, X_test::Matrix{Any}, max_depth::Int64)",
      "   @ Main .\\In[201]:4",
      " [7] predict_with_dups(data_train::DataFrame, data_predict::DataFrame)",
      "   @ Main .\\In[203]:46",
      " [8] main()",
      "   @ Main .\\In[205]:10",
      " [9] top-level scope",
      "   @ In[205]:23"
     ]
    }
   ],
   "source": [
    "function main()\n",
    "    # println(find_duplicates(trainData))\n",
    "    uniqueD = get_unique_data(trainData)\n",
    "    # find_pairs(uniqueD, testData)\n",
    "\n",
    "    # print(uniqueD)\n",
    "    # print(trainData[!, Not(:id, :annee)])\n",
    "\n",
    "    # println(uniqueD)\n",
    "    predict_with_dups(uniqueD, testData)\n",
    "    # format_file(predict_with_dups(uniqueD, testData))\n",
    "    # uniqueD[!,:volume_gaz] = uniqueD[!,:nombre_cylindres] .* uniqueD[!,:cylindree]\n",
    "    # uniqueD\n",
    "    \n",
    "    # display(plot(x=uniqueD.cylindree, y=uniqueD.consommation, color=uniqueD.type))\n",
    "    # scatter(uniqueD.volume_gaz, uniqueD.consommation, zcolor=uniqueD.type)\n",
    "    # trainDataStandard = getStandardEncodedData(trainData)\n",
    "\n",
    "    # predictDataStandard = getStandardEncodedData(testData)\n",
    "    # evaluate_rmse(trainDataStandard)\n",
    "    # forest_predict(trainDataStandard,predictDataStandard)\n",
    "end\n",
    "main()"
   ]
  },
  {
   "cell_type": "code",
   "execution_count": null,
   "metadata": {},
   "outputs": [],
   "source": [
    "# for type in unique(trainData.type)\n",
    "#     println(type)\n",
    "#     data_type = trainData[trainData.type .== type, :]\n",
    "#     println(combine(groupby(data_type, :transmission), :consommation => mean, :volume_gaz => mean, nrow => :nrow))\n",
    "#     println()\n",
    "# end"
   ]
  },
  {
   "cell_type": "code",
   "execution_count": null,
   "metadata": {},
   "outputs": [],
   "source": [
    "# for type in unique(trainData.type)\n",
    "#     println(type)\n",
    "#     data_type = trainData[trainData.type .== type, :]\n",
    "#     display(plot(x=data_type.volume_gaz, y=data_type.consommation))\n",
    "#     println()\n",
    "# end"
   ]
  },
  {
   "cell_type": "markdown",
   "metadata": {},
   "source": [
    "## Exploration des données"
   ]
  }
 ],
 "metadata": {
  "kernelspec": {
   "display_name": "Julia 1.10.5",
   "language": "julia",
   "name": "julia-1.10"
  },
  "language_info": {
   "file_extension": ".jl",
   "mimetype": "application/julia",
   "name": "julia",
   "version": "1.10.5"
  }
 },
 "nbformat": 4,
 "nbformat_minor": 2
}
