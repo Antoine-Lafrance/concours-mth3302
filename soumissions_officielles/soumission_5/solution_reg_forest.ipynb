{
 "cells": [
  {
   "cell_type": "code",
   "execution_count": 1,
   "metadata": {},
   "outputs": [],
   "source": [
    "using CSV, DataFrames, Statistics, Dates, Plots, LinearAlgebra, DecisionTree"
   ]
  },
  {
   "cell_type": "code",
   "execution_count": 2,
   "metadata": {},
   "outputs": [
    {
     "data": {
      "text/html": [
       "<div><div style = \"float: left;\"><span>5×7 DataFrame</span></div><div style = \"clear: both;\"></div></div><div class = \"data-frame\" style = \"overflow-x: scroll;\"><table class = \"data-frame\" style = \"margin-bottom: 6px;\"><thead><tr class = \"header\"><th class = \"rowNumber\" style = \"font-weight: bold; text-align: right;\">Row</th><th style = \"text-align: left;\">annee</th><th style = \"text-align: left;\">type</th><th style = \"text-align: left;\">nombre_cylindres</th><th style = \"text-align: left;\">cylindree</th><th style = \"text-align: left;\">transmission</th><th style = \"text-align: left;\">boite</th><th style = \"text-align: left;\">consommation</th></tr><tr class = \"subheader headerLastRow\"><th class = \"rowNumber\" style = \"font-weight: bold; text-align: right;\"></th><th title = \"Int64\" style = \"text-align: left;\">Int64</th><th title = \"String31\" style = \"text-align: left;\">String31</th><th title = \"Int64\" style = \"text-align: left;\">Int64</th><th title = \"String3\" style = \"text-align: left;\">String3</th><th title = \"String15\" style = \"text-align: left;\">String15</th><th title = \"String15\" style = \"text-align: left;\">String15</th><th title = \"String31\" style = \"text-align: left;\">String31</th></tr></thead><tbody><tr><td class = \"rowNumber\" style = \"font-weight: bold; text-align: right;\">1</td><td style = \"text-align: right;\">2023</td><td style = \"text-align: left;\">voiture_moyenne</td><td style = \"text-align: right;\">8</td><td style = \"text-align: left;\">4,4</td><td style = \"text-align: left;\">integrale</td><td style = \"text-align: left;\">automatique</td><td style = \"text-align: left;\">13,8358823529412</td></tr><tr><td class = \"rowNumber\" style = \"font-weight: bold; text-align: right;\">2</td><td style = \"text-align: right;\">2020</td><td style = \"text-align: left;\">VUS_petit</td><td style = \"text-align: right;\">4</td><td style = \"text-align: left;\">2</td><td style = \"text-align: left;\">integrale</td><td style = \"text-align: left;\">automatique</td><td style = \"text-align: left;\">9,80041666666667</td></tr><tr><td class = \"rowNumber\" style = \"font-weight: bold; text-align: right;\">3</td><td style = \"text-align: right;\">2021</td><td style = \"text-align: left;\">voiture_compacte</td><td style = \"text-align: right;\">6</td><td style = \"text-align: left;\">3,3</td><td style = \"text-align: left;\">propulsion</td><td style = \"text-align: left;\">automatique</td><td style = \"text-align: left;\">11,7605</td></tr><tr><td class = \"rowNumber\" style = \"font-weight: bold; text-align: right;\">4</td><td style = \"text-align: right;\">2023</td><td style = \"text-align: left;\">voiture_deux_places</td><td style = \"text-align: right;\">8</td><td style = \"text-align: left;\">5</td><td style = \"text-align: left;\">integrale</td><td style = \"text-align: left;\">automatique</td><td style = \"text-align: left;\">13,0672222222222</td></tr><tr><td class = \"rowNumber\" style = \"font-weight: bold; text-align: right;\">5</td><td style = \"text-align: right;\">2022</td><td style = \"text-align: left;\">voiture_moyenne</td><td style = \"text-align: right;\">8</td><td style = \"text-align: left;\">4,4</td><td style = \"text-align: left;\">integrale</td><td style = \"text-align: left;\">automatique</td><td style = \"text-align: left;\">13,8358823529412</td></tr></tbody></table></div>"
      ],
      "text/latex": [
       "\\begin{tabular}{r|ccccccc}\n",
       "\t& annee & type & nombre\\_cylindres & cylindree & transmission & boite & \\\\\n",
       "\t\\hline\n",
       "\t& Int64 & String31 & Int64 & String3 & String15 & String15 & \\\\\n",
       "\t\\hline\n",
       "\t1 & 2023 & voiture\\_moyenne & 8 & 4,4 & integrale & automatique & $\\dots$ \\\\\n",
       "\t2 & 2020 & VUS\\_petit & 4 & 2 & integrale & automatique & $\\dots$ \\\\\n",
       "\t3 & 2021 & voiture\\_compacte & 6 & 3,3 & propulsion & automatique & $\\dots$ \\\\\n",
       "\t4 & 2023 & voiture\\_deux\\_places & 8 & 5 & integrale & automatique & $\\dots$ \\\\\n",
       "\t5 & 2022 & voiture\\_moyenne & 8 & 4,4 & integrale & automatique & $\\dots$ \\\\\n",
       "\\end{tabular}\n"
      ],
      "text/plain": [
       "\u001b[1m5×7 DataFrame\u001b[0m\n",
       "\u001b[1m Row \u001b[0m│\u001b[1m annee \u001b[0m\u001b[1m type                \u001b[0m\u001b[1m nombre_cylindres \u001b[0m\u001b[1m cylindree \u001b[0m\u001b[1m transmission \u001b[0m\u001b[1m \u001b[0m ⋯\n",
       "     │\u001b[90m Int64 \u001b[0m\u001b[90m String31            \u001b[0m\u001b[90m Int64            \u001b[0m\u001b[90m String3   \u001b[0m\u001b[90m String15     \u001b[0m\u001b[90m \u001b[0m ⋯\n",
       "─────┼──────────────────────────────────────────────────────────────────────────\n",
       "   1 │  2023  voiture_moyenne                     8  4,4        integrale      ⋯\n",
       "   2 │  2020  VUS_petit                           4  2          integrale\n",
       "   3 │  2021  voiture_compacte                    6  3,3        propulsion\n",
       "   4 │  2023  voiture_deux_places                 8  5          integrale\n",
       "   5 │  2022  voiture_moyenne                     8  4,4        integrale      ⋯\n",
       "\u001b[36m                                                               2 columns omitted\u001b[0m"
      ]
     },
     "execution_count": 2,
     "metadata": {},
     "output_type": "execute_result"
    }
   ],
   "source": [
    "trainData = CSV.read(\"../../data/train.csv\", DataFrame)\n",
    "testData = CSV.read(\"../../data/test.csv\", DataFrame)\n",
    "first(trainData, 5)"
   ]
  },
  {
   "cell_type": "code",
   "execution_count": 3,
   "metadata": {},
   "outputs": [
    {
     "data": {
      "text/plain": [
       "150-element Vector{Float64}:\n",
       " 2.5\n",
       " 2.5\n",
       " 2.5\n",
       " 2.0\n",
       " 5.8\n",
       " 5.0\n",
       " 5.0\n",
       " 2.4\n",
       " 3.5\n",
       " 5.2\n",
       " 5.2\n",
       " 5.9\n",
       " 2.0\n",
       " ⋮\n",
       " 1.6\n",
       " 3.3\n",
       " 5.0\n",
       " 2.0\n",
       " 2.0\n",
       " 1.6\n",
       " 2.0\n",
       " 2.0\n",
       " 3.0\n",
       " 3.0\n",
       " 1.5\n",
       " 2.0"
      ]
     },
     "execution_count": 3,
     "metadata": {},
     "output_type": "execute_result"
    }
   ],
   "source": [
    "trainData.consommation = parse.(Float64,replace.(trainData.consommation, \",\" => \".\"))\n",
    "trainData.cylindree = parse.(Float64,replace.(trainData.cylindree, \",\" => \".\")) \n",
    "\n",
    "testData.cylindree = parse.(Float64,replace.(testData.cylindree, \",\" => \".\"))"
   ]
  },
  {
   "cell_type": "code",
   "execution_count": 4,
   "metadata": {},
   "outputs": [
    {
     "data": {
      "text/plain": [
       "150-element Vector{Float64}:\n",
       " 10.0\n",
       " 10.0\n",
       " 10.0\n",
       "  8.0\n",
       " 46.4\n",
       " 40.0\n",
       " 40.0\n",
       "  9.6\n",
       " 21.0\n",
       " 52.0\n",
       " 52.0\n",
       " 70.80000000000001\n",
       "  8.0\n",
       "  ⋮\n",
       "  6.4\n",
       " 19.799999999999997\n",
       " 40.0\n",
       "  8.0\n",
       "  8.0\n",
       "  6.4\n",
       "  8.0\n",
       "  8.0\n",
       " 18.0\n",
       " 18.0\n",
       "  4.5\n",
       "  8.0"
      ]
     },
     "execution_count": 4,
     "metadata": {},
     "output_type": "execute_result"
    }
   ],
   "source": [
    "trainData[!,:volume_gaz] = trainData[!,:nombre_cylindres] .* trainData[!,:cylindree]\n",
    "\n",
    "testData[!,:volume_gaz] = testData[!,:nombre_cylindres] .* testData[!,:cylindree]"
   ]
  },
  {
   "cell_type": "code",
   "execution_count": 5,
   "metadata": {},
   "outputs": [
    {
     "data": {
      "text/plain": [
       "norm_cols (generic function with 1 method)"
      ]
     },
     "execution_count": 5,
     "metadata": {},
     "output_type": "execute_result"
    }
   ],
   "source": [
    "function encode(data, column)\n",
    "    for c in unique(data[!, column])\n",
    "        data[!, Symbol(c)] = ifelse.(data[!, column] .== c, 1, 0)\n",
    "    end\n",
    "    return data\n",
    "end\n",
    "\n",
    "\n",
    "function encode_data(data)\n",
    "    encoded_data = deepcopy(data)\n",
    "    encoded_data = encode(encoded_data, :type)\n",
    "    encoded_data = encode(encoded_data, :transmission)\n",
    "    encoded_data = encode(encoded_data, :boite)\n",
    "\n",
    "    encoded_data.cylindree = encoded_data.cylindree .- minimum(encoded_data.cylindree)\n",
    "    encoded_data.volume_gaz = encoded_data.volume_gaz .- minimum(encoded_data.volume_gaz)\n",
    "    encoded_data.annee = encoded_data.annee .-minimum(encoded_data.annee)\n",
    "    #encoded_data = encode(encoded_data, :nombre_cylindres)\n",
    "    return encoded_data\n",
    "end\n",
    "\n",
    "function removeRows(data)\n",
    "    return select!(data, Not([:type, :transmission, :boite]))\n",
    "end\n",
    "\n",
    "function normalize_column(data, column)\n",
    "    data[!, column] = (data[!, column] .- mean(data[!, column])) ./ std(data[!, column])\n",
    "    return data\n",
    "end\n",
    "\n",
    "function norm_cols(data)\n",
    "    normalized_data = deepcopy(data)\n",
    "    normalized_data = normalize_column(normalized_data, :cylindree)\n",
    "    normalized_data = normalize_column(normalized_data, :volume_gaz)\n",
    "    #normalized_data = normalize_column(normalized_data, :annee)\n",
    "    return normalized_data\n",
    "end"
   ]
  },
  {
   "cell_type": "code",
   "execution_count": 6,
   "metadata": {},
   "outputs": [
    {
     "data": {
      "text/plain": [
       "150×23 Matrix{Float64}:\n",
       "  0.0   4.0  1.3   6.4  1.0  0.0  0.0  …  0.0  1.0  0.0  0.0  0.0  1.0  0.0\n",
       "  0.0   4.0  1.3   6.4  1.0  0.0  0.0     0.0  1.0  0.0  0.0  0.0  0.0  1.0\n",
       "  0.0   4.0  1.3   6.4  0.0  1.0  0.0     0.0  1.0  0.0  0.0  0.0  0.0  1.0\n",
       "  0.0   4.0  0.8   4.4  0.0  1.0  0.0     0.0  0.0  1.0  0.0  0.0  0.0  1.0\n",
       "  0.0   8.0  4.6  42.8  0.0  0.0  1.0     0.0  0.0  0.0  1.0  0.0  1.0  0.0\n",
       "  0.0   8.0  3.8  36.4  0.0  0.0  1.0  …  0.0  0.0  0.0  1.0  0.0  0.0  1.0\n",
       "  0.0   8.0  3.8  36.4  0.0  0.0  1.0     0.0  0.0  0.0  1.0  0.0  1.0  0.0\n",
       "  0.0   4.0  1.2   6.0  0.0  1.0  0.0     0.0  0.0  1.0  0.0  0.0  0.0  1.0\n",
       "  0.0   6.0  2.3  17.4  0.0  1.0  0.0     0.0  0.0  0.0  0.0  1.0  0.0  1.0\n",
       "  0.0  10.0  4.0  48.4  0.0  0.0  0.0     0.0  0.0  0.0  0.0  1.0  1.0  0.0\n",
       "  0.0  10.0  4.0  48.4  0.0  0.0  0.0  …  0.0  0.0  0.0  0.0  1.0  1.0  0.0\n",
       "  0.0  12.0  4.7  67.2  0.0  0.0  1.0     0.0  0.0  0.0  1.0  0.0  0.0  1.0\n",
       "  0.0   4.0  0.8   4.4  0.0  1.0  0.0     0.0  1.0  0.0  0.0  0.0  0.0  1.0\n",
       "  ⋮                          ⋮         ⋱                      ⋮         \n",
       "  9.0   4.0  0.4   2.8  0.0  1.0  0.0     0.0  1.0  0.0  0.0  0.0  0.0  1.0\n",
       "  9.0   6.0  2.1  16.2  1.0  0.0  0.0     0.0  0.0  0.0  1.0  0.0  0.0  1.0\n",
       " 10.0   8.0  3.8  36.4  0.0  0.0  0.0  …  0.0  0.0  0.0  1.0  0.0  0.0  1.0\n",
       " 10.0   4.0  0.8   4.4  0.0  1.0  0.0     0.0  0.0  0.0  0.0  1.0  0.0  1.0\n",
       " 10.0   4.0  0.8   4.4  0.0  1.0  0.0     0.0  1.0  0.0  0.0  0.0  0.0  1.0\n",
       " 10.0   4.0  0.4   2.8  0.0  1.0  0.0     0.0  0.0  0.0  0.0  1.0  0.0  1.0\n",
       " 10.0   4.0  0.8   4.4  0.0  0.0  1.0     0.0  0.0  0.0  1.0  0.0  0.0  1.0\n",
       " 10.0   4.0  0.8   4.4  0.0  0.0  1.0  …  0.0  0.0  0.0  0.0  1.0  0.0  1.0\n",
       " 10.0   6.0  1.8  14.4  0.0  0.0  1.0     0.0  0.0  0.0  1.0  0.0  1.0  0.0\n",
       " 10.0   6.0  1.8  14.4  0.0  0.0  1.0     0.0  0.0  0.0  1.0  0.0  0.0  1.0\n",
       " 10.0   3.0  0.3   0.9  0.0  0.0  1.0     0.0  1.0  0.0  0.0  0.0  1.0  0.0\n",
       " 10.0   4.0  0.8   4.4  0.0  0.0  1.0     0.0  1.0  0.0  0.0  0.0  0.0  1.0"
      ]
     },
     "execution_count": 6,
     "metadata": {},
     "output_type": "execute_result"
    }
   ],
   "source": [
    "encoded_train = encode_data(trainData)\n",
    "filtered_train = removeRows(encoded_train)\n",
    "#normed_train = norm_cols(filtered_train)\n",
    "\n",
    "encoded_test = encode_data(testData)\n",
    "filtered_test = removeRows(encoded_test)\n",
    "#normed_test = norm_cols(filtered_test)\n",
    "\n",
    "X_train =  Matrix(filtered_train[:, Not(:consommation)])\n",
    "y_train = filtered_train.consommation\n",
    "X_test = Matrix(filtered_test)"
   ]
  },
  {
   "cell_type": "code",
   "execution_count": 7,
   "metadata": {},
   "outputs": [
    {
     "data": {
      "text/plain": [
       "((396, 23), (396,), (150, 23))"
      ]
     },
     "execution_count": 7,
     "metadata": {},
     "output_type": "execute_result"
    }
   ],
   "source": [
    "size(X_train), size(y_train), size(X_test)"
   ]
  },
  {
   "cell_type": "code",
   "execution_count": 8,
   "metadata": {},
   "outputs": [
    {
     "data": {
      "text/plain": [
       "decisionTree_remise (generic function with 1 method)"
      ]
     },
     "execution_count": 8,
     "metadata": {},
     "output_type": "execute_result"
    }
   ],
   "source": [
    "function decisionTree_remise(X_train ,y_train,  X_test)\n",
    "    model = model = RandomForestRegressor(n_subfeatures=12, n_trees=600,min_samples_leaf=1,min_purity_increase=0.0, max_depth=10, min_samples_split=6)\n",
    "    DecisionTree.fit!(model, X_train, y_train)\n",
    "    ychap = DecisionTree.predict(model, X_test)\n",
    "    return ychap\n",
    "end"
   ]
  },
  {
   "cell_type": "code",
   "execution_count": 9,
   "metadata": {},
   "outputs": [
    {
     "data": {
      "text/plain": [
       "150-element Vector{Float64}:\n",
       "  9.533122427867047\n",
       "  9.924493526723806\n",
       "  9.991116575619897\n",
       "  9.605439347047174\n",
       " 14.091098516407353\n",
       " 14.311009432009193\n",
       " 13.374469020966789\n",
       "  9.955849620169417\n",
       " 11.575024346969261\n",
       " 14.66502807950151\n",
       " 14.66502807950151\n",
       " 15.075799664796541\n",
       " 10.05678183982413\n",
       "  ⋮\n",
       "  8.185991323575495\n",
       " 11.587632364132306\n",
       " 13.386550419418748\n",
       "  9.837515819799773\n",
       " 10.131450100557183\n",
       "  8.161728853577575\n",
       "  8.391881064055928\n",
       "  9.910797731805797\n",
       " 10.782449726117967\n",
       " 11.72780204164973\n",
       "  7.963175746768973\n",
       "  9.754729227014998"
      ]
     },
     "execution_count": 9,
     "metadata": {},
     "output_type": "execute_result"
    }
   ],
   "source": [
    "res = decisionTree_remise(X_train ,y_train,  X_test)\n",
    "testData.consommation = res"
   ]
  },
  {
   "cell_type": "code",
   "execution_count": 10,
   "metadata": {},
   "outputs": [
    {
     "data": {
      "text/plain": [
       "\"benchmark5.csv\""
      ]
     },
     "execution_count": 10,
     "metadata": {},
     "output_type": "execute_result"
    }
   ],
   "source": [
    "id = 1:150\n",
    "\n",
    "df_pred = DataFrame(id=id, consommation=res)\n",
    "\n",
    "CSV.write(\"benchmark5.csv\", df_pred)"
   ]
  },
  {
   "cell_type": "code",
   "execution_count": 11,
   "metadata": {},
   "outputs": [
    {
     "data": {
      "text/html": [
       "<div><div style = \"float: left;\"><span>150×2 DataFrame</span></div><div style = \"float: right;\"><span style = \"font-style: italic;\">125 rows omitted</span></div><div style = \"clear: both;\"></div></div><div class = \"data-frame\" style = \"overflow-x: scroll;\"><table class = \"data-frame\" style = \"margin-bottom: 6px;\"><thead><tr class = \"header\"><th class = \"rowNumber\" style = \"font-weight: bold; text-align: right;\">Row</th><th style = \"text-align: left;\">id</th><th style = \"text-align: left;\">consommation</th></tr><tr class = \"subheader headerLastRow\"><th class = \"rowNumber\" style = \"font-weight: bold; text-align: right;\"></th><th title = \"Int64\" style = \"text-align: left;\">Int64</th><th title = \"Float64\" style = \"text-align: left;\">Float64</th></tr></thead><tbody><tr><td class = \"rowNumber\" style = \"font-weight: bold; text-align: right;\">1</td><td style = \"text-align: right;\">1</td><td style = \"text-align: right;\">8.7731</td></tr><tr><td class = \"rowNumber\" style = \"font-weight: bold; text-align: right;\">2</td><td style = \"text-align: right;\">2</td><td style = \"text-align: right;\">8.07005</td></tr><tr><td class = \"rowNumber\" style = \"font-weight: bold; text-align: right;\">3</td><td style = \"text-align: right;\">3</td><td style = \"text-align: right;\">9.54555</td></tr><tr><td class = \"rowNumber\" style = \"font-weight: bold; text-align: right;\">4</td><td style = \"text-align: right;\">4</td><td style = \"text-align: right;\">9.8891</td></tr><tr><td class = \"rowNumber\" style = \"font-weight: bold; text-align: right;\">5</td><td style = \"text-align: right;\">5</td><td style = \"text-align: right;\">14.683</td></tr><tr><td class = \"rowNumber\" style = \"font-weight: bold; text-align: right;\">6</td><td style = \"text-align: right;\">6</td><td style = \"text-align: right;\">14.683</td></tr><tr><td class = \"rowNumber\" style = \"font-weight: bold; text-align: right;\">7</td><td style = \"text-align: right;\">7</td><td style = \"text-align: right;\">14.683</td></tr><tr><td class = \"rowNumber\" style = \"font-weight: bold; text-align: right;\">8</td><td style = \"text-align: right;\">8</td><td style = \"text-align: right;\">9.8891</td></tr><tr><td class = \"rowNumber\" style = \"font-weight: bold; text-align: right;\">9</td><td style = \"text-align: right;\">9</td><td style = \"text-align: right;\">10.9249</td></tr><tr><td class = \"rowNumber\" style = \"font-weight: bold; text-align: right;\">10</td><td style = \"text-align: right;\">10</td><td style = \"text-align: right;\">15.3451</td></tr><tr><td class = \"rowNumber\" style = \"font-weight: bold; text-align: right;\">11</td><td style = \"text-align: right;\">11</td><td style = \"text-align: right;\">15.3451</td></tr><tr><td class = \"rowNumber\" style = \"font-weight: bold; text-align: right;\">12</td><td style = \"text-align: right;\">12</td><td style = \"text-align: right;\">15.3451</td></tr><tr><td class = \"rowNumber\" style = \"font-weight: bold; text-align: right;\">13</td><td style = \"text-align: right;\">13</td><td style = \"text-align: right;\">8.8407</td></tr><tr><td style = \"text-align: right;\">&vellip;</td><td style = \"text-align: right;\">&vellip;</td><td style = \"text-align: right;\">&vellip;</td></tr><tr><td class = \"rowNumber\" style = \"font-weight: bold; text-align: right;\">139</td><td style = \"text-align: right;\">139</td><td style = \"text-align: right;\">7.84233</td></tr><tr><td class = \"rowNumber\" style = \"font-weight: bold; text-align: right;\">140</td><td style = \"text-align: right;\">140</td><td style = \"text-align: right;\">11.6328</td></tr><tr><td class = \"rowNumber\" style = \"font-weight: bold; text-align: right;\">141</td><td style = \"text-align: right;\">141</td><td style = \"text-align: right;\">12.8975</td></tr><tr><td class = \"rowNumber\" style = \"font-weight: bold; text-align: right;\">142</td><td style = \"text-align: right;\">142</td><td style = \"text-align: right;\">10.6866</td></tr><tr><td class = \"rowNumber\" style = \"font-weight: bold; text-align: right;\">143</td><td style = \"text-align: right;\">143</td><td style = \"text-align: right;\">8.8407</td></tr><tr><td class = \"rowNumber\" style = \"font-weight: bold; text-align: right;\">144</td><td style = \"text-align: right;\">144</td><td style = \"text-align: right;\">7.84233</td></tr><tr><td class = \"rowNumber\" style = \"font-weight: bold; text-align: right;\">145</td><td style = \"text-align: right;\">145</td><td style = \"text-align: right;\">8.07005</td></tr><tr><td class = \"rowNumber\" style = \"font-weight: bold; text-align: right;\">146</td><td style = \"text-align: right;\">146</td><td style = \"text-align: right;\">8.8455</td></tr><tr><td class = \"rowNumber\" style = \"font-weight: bold; text-align: right;\">147</td><td style = \"text-align: right;\">147</td><td style = \"text-align: right;\">12.121</td></tr><tr><td class = \"rowNumber\" style = \"font-weight: bold; text-align: right;\">148</td><td style = \"text-align: right;\">148</td><td style = \"text-align: right;\">10.6205</td></tr><tr><td class = \"rowNumber\" style = \"font-weight: bold; text-align: right;\">149</td><td style = \"text-align: right;\">149</td><td style = \"text-align: right;\">7.64405</td></tr><tr><td class = \"rowNumber\" style = \"font-weight: bold; text-align: right;\">150</td><td style = \"text-align: right;\">150</td><td style = \"text-align: right;\">8.07005</td></tr></tbody></table></div>"
      ],
      "text/latex": [
       "\\begin{tabular}{r|cc}\n",
       "\t& id & consommation\\\\\n",
       "\t\\hline\n",
       "\t& Int64 & Float64\\\\\n",
       "\t\\hline\n",
       "\t1 & 1 & 8.7731 \\\\\n",
       "\t2 & 2 & 8.07005 \\\\\n",
       "\t3 & 3 & 9.54555 \\\\\n",
       "\t4 & 4 & 9.8891 \\\\\n",
       "\t5 & 5 & 14.683 \\\\\n",
       "\t6 & 6 & 14.683 \\\\\n",
       "\t7 & 7 & 14.683 \\\\\n",
       "\t8 & 8 & 9.8891 \\\\\n",
       "\t9 & 9 & 10.9249 \\\\\n",
       "\t10 & 10 & 15.3451 \\\\\n",
       "\t11 & 11 & 15.3451 \\\\\n",
       "\t12 & 12 & 15.3451 \\\\\n",
       "\t13 & 13 & 8.8407 \\\\\n",
       "\t14 & 14 & 9.54555 \\\\\n",
       "\t15 & 15 & 8.7731 \\\\\n",
       "\t16 & 16 & 11.2211 \\\\\n",
       "\t17 & 17 & 13.4636 \\\\\n",
       "\t18 & 18 & 13.4636 \\\\\n",
       "\t19 & 19 & 13.4636 \\\\\n",
       "\t20 & 20 & 13.4636 \\\\\n",
       "\t21 & 21 & 14.1384 \\\\\n",
       "\t22 & 22 & 13.4636 \\\\\n",
       "\t23 & 23 & 13.4636 \\\\\n",
       "\t24 & 24 & 14.1384 \\\\\n",
       "\t25 & 25 & 13.4636 \\\\\n",
       "\t26 & 26 & 14.1384 \\\\\n",
       "\t27 & 27 & 13.4636 \\\\\n",
       "\t28 & 28 & 14.1384 \\\\\n",
       "\t29 & 29 & 12.8975 \\\\\n",
       "\t30 & 30 & 10.6205 \\\\\n",
       "\t$\\dots$ & $\\dots$ & $\\dots$ \\\\\n",
       "\\end{tabular}\n"
      ],
      "text/plain": [
       "\u001b[1m150×2 DataFrame\u001b[0m\n",
       "\u001b[1m Row \u001b[0m│\u001b[1m id    \u001b[0m\u001b[1m consommation \u001b[0m\n",
       "     │\u001b[90m Int64 \u001b[0m\u001b[90m Float64      \u001b[0m\n",
       "─────┼─────────────────────\n",
       "   1 │     1       8.7731\n",
       "   2 │     2       8.07005\n",
       "   3 │     3       9.54555\n",
       "   4 │     4       9.8891\n",
       "   5 │     5      14.683\n",
       "   6 │     6      14.683\n",
       "   7 │     7      14.683\n",
       "   8 │     8       9.8891\n",
       "   9 │     9      10.9249\n",
       "  10 │    10      15.3451\n",
       "  11 │    11      15.3451\n",
       "  ⋮  │   ⋮         ⋮\n",
       " 141 │   141      12.8975\n",
       " 142 │   142      10.6866\n",
       " 143 │   143       8.8407\n",
       " 144 │   144       7.84233\n",
       " 145 │   145       8.07005\n",
       " 146 │   146       8.8455\n",
       " 147 │   147      12.121\n",
       " 148 │   148      10.6205\n",
       " 149 │   149       7.64405\n",
       " 150 │   150       8.07005\n",
       "\u001b[36m           129 rows omitted\u001b[0m"
      ]
     },
     "execution_count": 11,
     "metadata": {},
     "output_type": "execute_result"
    },
    {
     "name": "stderr",
     "output_type": "stream",
     "text": [
      "WARNING: both LinearAlgebra and Plots export \"rotate!\"; uses of it in module Main must be qualified\n"
     ]
    }
   ],
   "source": [
    "benchmark = CSV.read(\"../soumission_2/benchmark1.csv\", DataFrame)"
   ]
  },
  {
   "cell_type": "code",
   "execution_count": 12,
   "metadata": {},
   "outputs": [
    {
     "name": "stdout",
     "output_type": "stream",
     "text": [
      "[8.773101155974718, 8.070047540540804, 9.545548529167164, 9.889100280579937, 14.682977190876372, 14.682977190876372, 14.682977190876372, 9.889100280579937, 10.924893508841617, 15.345064163165286, 15.345064163165286, 15.345064163165286, 8.840702060295868, 9.545548529167164, 8.773101155974718, 11.221135830353218, 13.463562602124174, 13.463562602124174, 13.463562602124174, 13.463562602124174, 14.138433915671541, 13.463562602124174, 13.463562602124174, 14.138433915671541, 13.463562602124174, 14.138433915671541, 13.463562602124174, 14.138433915671541, 12.897491767520393, 10.620542993264337, 11.632846725905672, 9.545548529167164, 9.889100280579937, 11.632846725905672, 9.889100280579937, 7.842333308965198, 10.620542993264337, 10.620542993264337, 8.773101155974718, 9.545548529167164, 12.897491767520393, 10.924893508841617, 9.889100280579937, 8.070047540540804, 8.773101155974718, 11.632846725905672, 9.889100280579937, 10.924893508841617, 7.4361978718638, 15.345064163165286, 9.889100280579937, 10.620542993264337, 7.6592878817823005, 12.897491767520393, 10.620542993264337, 10.620542993264337, 10.620542993264337, 12.121046960836416, 8.773101155974718, 8.370014954925871, 8.845504273504272, 9.889100280579937, 9.889100280579937, 9.889100280579937, 9.004656339031337, 10.620542993264337, 10.620542993264337, 12.897491767520393, 12.897491767520393, 12.897491767520393, 10.620542993264337, 12.121046960836416, 10.620542993264337, 10.620542993264337, 10.620542993264337, 12.897491767520393, 14.138433915671541, 14.138433915671541, 9.889100280579937, 11.632846725905672, 11.632846725905672, 8.840702060295868, 9.545548529167164, 9.889100280579937, 9.889100280579937, 8.840702060295868, 9.889100280579937, 10.924893508841617, 8.840702060295868, 7.6592878817823005, 10.924893508841617, 14.138433915671541, 8.070047540540804, 8.840702060295868, 8.840702060295868, 6.170890923492215, 6.170890923492215, 8.840702060295868, 10.924893508841617, 9.889100280579937, 9.889100280579937, 11.221135830353218, 8.840702060295868, 8.840702060295868, 8.070047540540804, 9.004656339031337, 9.889100280579937, 9.889100280579937, 10.620542993264337, 10.924893508841617, 8.840702060295868, 8.840702060295868, 7.842333308965198, 8.840702060295868, 8.370014954925871, 8.773101155974718, 8.070047540540804, 9.889100280579937, 10.924893508841617, 9.004656339031337, 8.070047540540804, 10.924893508841617, 8.370014954925871, 8.370014954925871, 8.370014954925871, 10.924893508841617, 7.842333308965198, 9.889100280579937, 12.897491767520393, 8.773101155974718, 7.644047072551106, 8.773101155974718, 7.842333308965198, 13.463562602124174, 10.686605970839567, 10.686605970839567, 10.924893508841617, 7.842333308965198, 7.842333308965198, 11.632846725905672, 12.897491767520393, 10.686605970839567, 8.840702060295868, 7.842333308965198, 8.070047540540804, 8.845504273504272, 12.121046960836416, 10.620542993264337, 7.644047072551106, 8.070047540540804]\n",
      "[9.533122427867047, 9.924493526723806, 9.991116575619897, 9.605439347047174, 14.091098516407353, 14.311009432009193, 13.374469020966789, 9.955849620169417, 11.575024346969261, 14.66502807950151, 14.66502807950151, 15.075799664796541, 10.05678183982413, 10.1102258237918, 9.724834278216395, 12.094377169530926, 13.686056645100734, 13.686056645100734, 13.814152634200303, 13.814152634200303, 13.985904047308146, 13.736951101064523, 13.736951101064523, 13.985904047308146, 13.736951101064523, 14.12552258618277, 13.86783545896908, 14.12552258618277, 13.658519694601516, 12.066077996418288, 12.047223565751773, 10.359168954485845, 9.794242385787626, 12.047223565751773, 9.88507683218367, 8.368471532008972, 12.13891821013191, 12.13891821013191, 9.288298296930867, 10.486729162876891, 13.574473181270537, 11.694450757869864, 9.734441859799988, 9.56919033345315, 9.265353485109305, 12.165434683519631, 9.790716040704117, 11.72091727646841, 8.367311089281683, 14.323913055330996, 9.670456716414424, 12.055367451130518, 8.23668201634327, 13.834987112367292, 12.128034089326704, 12.128034089326704, 12.36597960216329, 10.69814641785613, 9.82794639572963, 8.391774720010966, 9.87714212637568, 9.766357082983076, 9.318211276629969, 9.318211276629969, 9.418939521888587, 11.997439672136792, 11.997439672136792, 13.026570722397302, 12.24729098870228, 13.026570722397302, 12.123628676943405, 10.936897507215656, 12.123628676943405, 11.915447403230864, 12.123628676943405, 13.61702200697418, 13.758217579159652, 13.758217579159652, 9.789131811578299, 11.961672114786547, 12.056194803249065, 9.8613924632671, 10.216771599650306, 9.675056939785001, 9.675056939785001, 8.590745128246075, 9.678999346767354, 11.63873627174571, 9.78267858909684, 8.182802913738248, 11.621691568744842, 14.150141784483216, 9.86273295778528, 9.748271866986828, 9.748271866986828, 8.036981066260557, 8.036981066260557, 9.355613661390684, 11.975042672000757, 9.703736980299448, 9.694684802777127, 12.113772318469156, 8.477644836870773, 8.442482237772625, 8.032330598994008, 9.460756640812233, 9.827883602383114, 9.703736980299448, 12.258228283452919, 11.78414475995012, 8.617441869268504, 9.360325014052616, 8.269638550278287, 9.796774495714933, 8.443739857095528, 9.538225937954822, 9.965057158496778, 10.256954121950901, 11.738531334915018, 9.790878383155615, 8.210229391719736, 11.765617840677608, 8.234842210629731, 8.12386229634519, 8.12386229634519, 11.729019671533349, 8.104870025350552, 9.81457879085837, 13.403007510489958, 9.658992244064278, 8.193668991457132, 8.990257040169508, 8.104870025350552, 13.791404369507172, 10.058930575474415, 9.918811533553052, 11.734607890334871, 8.195386168882429, 8.185991323575495, 11.587632364132306, 13.386550419418748, 9.837515819799773, 10.131450100557183, 8.161728853577575, 8.391881064055928, 9.910797731805797, 10.782449726117967, 11.72780204164973, 7.963175746768973, 9.754729227014998]\n"
     ]
    }
   ],
   "source": [
    "println(benchmark.consommation)\n",
    "println(res)"
   ]
  }
 ],
 "metadata": {
  "kernelspec": {
   "display_name": "Julia 1.10.5",
   "language": "julia",
   "name": "julia-1.10"
  },
  "language_info": {
   "file_extension": ".jl",
   "mimetype": "application/julia",
   "name": "julia",
   "version": "1.10.5"
  }
 },
 "nbformat": 4,
 "nbformat_minor": 2
}
