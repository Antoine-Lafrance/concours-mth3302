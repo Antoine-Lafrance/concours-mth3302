{
 "cells": [
  {
   "cell_type": "code",
   "execution_count": 16,
   "metadata": {},
   "outputs": [],
   "source": [
    "using CSV, DataFrames, Statistics, Dates, Plots, LinearAlgebra, DecisionTree"
   ]
  },
  {
   "cell_type": "code",
   "execution_count": 18,
   "metadata": {},
   "outputs": [
    {
     "name": "stderr",
     "output_type": "stream",
     "text": [
      "\u001b[32m\u001b[1m   Resolving\u001b[22m\u001b[39m package versions...\n",
      "\u001b[32m\u001b[1m  No Changes\u001b[22m\u001b[39m to `C:\\Users\\Antoine\\.julia\\environments\\v1.10\\Project.toml`\n",
      "\u001b[32m\u001b[1m  No Changes\u001b[22m\u001b[39m to `C:\\Users\\Antoine\\.julia\\environments\\v1.10\\Manifest.toml`\n"
     ]
    }
   ],
   "source": [
    "using Pkg\n",
    "Pkg.add(\"Plots\")"
   ]
  },
  {
   "cell_type": "code",
   "execution_count": 3,
   "metadata": {},
   "outputs": [
    {
     "data": {
      "text/html": [
       "<div><div style = \"float: left;\"><span>5×7 DataFrame</span></div><div style = \"clear: both;\"></div></div><div class = \"data-frame\" style = \"overflow-x: scroll;\"><table class = \"data-frame\" style = \"margin-bottom: 6px;\"><thead><tr class = \"header\"><th class = \"rowNumber\" style = \"font-weight: bold; text-align: right;\">Row</th><th style = \"text-align: left;\">annee</th><th style = \"text-align: left;\">type</th><th style = \"text-align: left;\">nombre_cylindres</th><th style = \"text-align: left;\">cylindree</th><th style = \"text-align: left;\">transmission</th><th style = \"text-align: left;\">boite</th><th style = \"text-align: left;\">consommation</th></tr><tr class = \"subheader headerLastRow\"><th class = \"rowNumber\" style = \"font-weight: bold; text-align: right;\"></th><th title = \"Int64\" style = \"text-align: left;\">Int64</th><th title = \"String31\" style = \"text-align: left;\">String31</th><th title = \"Int64\" style = \"text-align: left;\">Int64</th><th title = \"String3\" style = \"text-align: left;\">String3</th><th title = \"String15\" style = \"text-align: left;\">String15</th><th title = \"String15\" style = \"text-align: left;\">String15</th><th title = \"String31\" style = \"text-align: left;\">String31</th></tr></thead><tbody><tr><td class = \"rowNumber\" style = \"font-weight: bold; text-align: right;\">1</td><td style = \"text-align: right;\">2023</td><td style = \"text-align: left;\">voiture_moyenne</td><td style = \"text-align: right;\">8</td><td style = \"text-align: left;\">4,4</td><td style = \"text-align: left;\">integrale</td><td style = \"text-align: left;\">automatique</td><td style = \"text-align: left;\">13,8358823529412</td></tr><tr><td class = \"rowNumber\" style = \"font-weight: bold; text-align: right;\">2</td><td style = \"text-align: right;\">2020</td><td style = \"text-align: left;\">VUS_petit</td><td style = \"text-align: right;\">4</td><td style = \"text-align: left;\">2</td><td style = \"text-align: left;\">integrale</td><td style = \"text-align: left;\">automatique</td><td style = \"text-align: left;\">9,80041666666667</td></tr><tr><td class = \"rowNumber\" style = \"font-weight: bold; text-align: right;\">3</td><td style = \"text-align: right;\">2021</td><td style = \"text-align: left;\">voiture_compacte</td><td style = \"text-align: right;\">6</td><td style = \"text-align: left;\">3,3</td><td style = \"text-align: left;\">propulsion</td><td style = \"text-align: left;\">automatique</td><td style = \"text-align: left;\">11,7605</td></tr><tr><td class = \"rowNumber\" style = \"font-weight: bold; text-align: right;\">4</td><td style = \"text-align: right;\">2023</td><td style = \"text-align: left;\">voiture_deux_places</td><td style = \"text-align: right;\">8</td><td style = \"text-align: left;\">5</td><td style = \"text-align: left;\">integrale</td><td style = \"text-align: left;\">automatique</td><td style = \"text-align: left;\">13,0672222222222</td></tr><tr><td class = \"rowNumber\" style = \"font-weight: bold; text-align: right;\">5</td><td style = \"text-align: right;\">2022</td><td style = \"text-align: left;\">voiture_moyenne</td><td style = \"text-align: right;\">8</td><td style = \"text-align: left;\">4,4</td><td style = \"text-align: left;\">integrale</td><td style = \"text-align: left;\">automatique</td><td style = \"text-align: left;\">13,8358823529412</td></tr></tbody></table></div>"
      ],
      "text/latex": [
       "\\begin{tabular}{r|ccccccc}\n",
       "\t& annee & type & nombre\\_cylindres & cylindree & transmission & boite & \\\\\n",
       "\t\\hline\n",
       "\t& Int64 & String31 & Int64 & String3 & String15 & String15 & \\\\\n",
       "\t\\hline\n",
       "\t1 & 2023 & voiture\\_moyenne & 8 & 4,4 & integrale & automatique & $\\dots$ \\\\\n",
       "\t2 & 2020 & VUS\\_petit & 4 & 2 & integrale & automatique & $\\dots$ \\\\\n",
       "\t3 & 2021 & voiture\\_compacte & 6 & 3,3 & propulsion & automatique & $\\dots$ \\\\\n",
       "\t4 & 2023 & voiture\\_deux\\_places & 8 & 5 & integrale & automatique & $\\dots$ \\\\\n",
       "\t5 & 2022 & voiture\\_moyenne & 8 & 4,4 & integrale & automatique & $\\dots$ \\\\\n",
       "\\end{tabular}\n"
      ],
      "text/plain": [
       "\u001b[1m5×7 DataFrame\u001b[0m\n",
       "\u001b[1m Row \u001b[0m│\u001b[1m annee \u001b[0m\u001b[1m type                \u001b[0m\u001b[1m nombre_cylindres \u001b[0m\u001b[1m cylindree \u001b[0m\u001b[1m transmission \u001b[0m\u001b[1m \u001b[0m ⋯\n",
       "     │\u001b[90m Int64 \u001b[0m\u001b[90m String31            \u001b[0m\u001b[90m Int64            \u001b[0m\u001b[90m String3   \u001b[0m\u001b[90m String15     \u001b[0m\u001b[90m \u001b[0m ⋯\n",
       "─────┼──────────────────────────────────────────────────────────────────────────\n",
       "   1 │  2023  voiture_moyenne                     8  4,4        integrale      ⋯\n",
       "   2 │  2020  VUS_petit                           4  2          integrale\n",
       "   3 │  2021  voiture_compacte                    6  3,3        propulsion\n",
       "   4 │  2023  voiture_deux_places                 8  5          integrale\n",
       "   5 │  2022  voiture_moyenne                     8  4,4        integrale      ⋯\n",
       "\u001b[36m                                                               2 columns omitted\u001b[0m"
      ]
     },
     "execution_count": 3,
     "metadata": {},
     "output_type": "execute_result"
    }
   ],
   "source": [
    "trainData = CSV.read(\"./data/train.csv\", DataFrame)\n",
    "testData = CSV.read(\"./data/test.csv\", DataFrame)\n",
    "first(trainData, 5)"
   ]
  },
  {
   "cell_type": "code",
   "execution_count": 4,
   "metadata": {},
   "outputs": [
    {
     "data": {
      "text/plain": [
       "150-element Vector{Float64}:\n",
       " 2.5\n",
       " 2.5\n",
       " 2.5\n",
       " 2.0\n",
       " 5.8\n",
       " 5.0\n",
       " 5.0\n",
       " 2.4\n",
       " 3.5\n",
       " 5.2\n",
       " 5.2\n",
       " 5.9\n",
       " 2.0\n",
       " ⋮\n",
       " 1.6\n",
       " 3.3\n",
       " 5.0\n",
       " 2.0\n",
       " 2.0\n",
       " 1.6\n",
       " 2.0\n",
       " 2.0\n",
       " 3.0\n",
       " 3.0\n",
       " 1.5\n",
       " 2.0"
      ]
     },
     "execution_count": 4,
     "metadata": {},
     "output_type": "execute_result"
    }
   ],
   "source": [
    "trainData.consommation = parse.(Float64,replace.(trainData.consommation, \",\" => \".\"))\n",
    "trainData.cylindree = parse.(Float64,replace.(trainData.cylindree, \",\" => \".\")) \n",
    "\n",
    "testData.cylindree = parse.(Float64,replace.(testData.cylindree, \",\" => \".\"))"
   ]
  },
  {
   "cell_type": "code",
   "execution_count": 5,
   "metadata": {},
   "outputs": [
    {
     "data": {
      "text/plain": [
       "150-element Vector{Float64}:\n",
       " 10.0\n",
       " 10.0\n",
       " 10.0\n",
       "  8.0\n",
       " 46.4\n",
       " 40.0\n",
       " 40.0\n",
       "  9.6\n",
       " 21.0\n",
       " 52.0\n",
       " 52.0\n",
       " 70.80000000000001\n",
       "  8.0\n",
       "  ⋮\n",
       "  6.4\n",
       " 19.799999999999997\n",
       " 40.0\n",
       "  8.0\n",
       "  8.0\n",
       "  6.4\n",
       "  8.0\n",
       "  8.0\n",
       " 18.0\n",
       " 18.0\n",
       "  4.5\n",
       "  8.0"
      ]
     },
     "execution_count": 5,
     "metadata": {},
     "output_type": "execute_result"
    }
   ],
   "source": [
    "trainData[!,:volume_gaz] = trainData[!,:nombre_cylindres] .* trainData[!,:cylindree]\n",
    "\n",
    "testData[!,:volume_gaz] = testData[!,:nombre_cylindres] .* testData[!,:cylindree]"
   ]
  },
  {
   "cell_type": "code",
   "execution_count": 6,
   "metadata": {},
   "outputs": [
    {
     "data": {
      "text/plain": [
       "150×7 Matrix{Any}:\n",
       " 2014  \"voiture_moyenne\"        …  \"manuelle\"     10.0\n",
       " 2014  \"voiture_moyenne\"           \"automatique\"  10.0\n",
       " 2014  \"VUS_petit\"                 \"automatique\"  10.0\n",
       " 2014  \"VUS_petit\"                 \"automatique\"   8.0\n",
       " 2014  \"voiture_sous_compacte\"     \"manuelle\"     46.4\n",
       " 2014  \"voiture_sous_compacte\"  …  \"automatique\"  40.0\n",
       " 2014  \"voiture_sous_compacte\"     \"manuelle\"     40.0\n",
       " 2014  \"VUS_petit\"                 \"automatique\"   9.6\n",
       " 2014  \"VUS_petit\"                 \"automatique\"  21.0\n",
       " 2014  \"voiture_deux_places\"       \"manuelle\"     52.0\n",
       " 2014  \"voiture_deux_places\"    …  \"manuelle\"     52.0\n",
       " 2014  \"voiture_sous_compacte\"     \"automatique\"  70.8\n",
       " 2014  \"VUS_petit\"                 \"automatique\"   8.0\n",
       "    ⋮                                     ⋱  ⋮                        \n",
       " 2023  \"VUS_petit\"                 \"automatique\"   6.4\n",
       " 2023  \"voiture_moyenne\"           \"automatique\"  19.8\n",
       " 2024  \"voiture_deux_places\"    …  \"automatique\"  40.0\n",
       " 2024  \"VUS_petit\"                 \"automatique\"   8.0\n",
       " 2024  \"VUS_petit\"                 \"automatique\"   8.0\n",
       " 2024  \"VUS_petit\"                 \"automatique\"   6.4\n",
       " 2024  \"voiture_sous_compacte\"     \"automatique\"   8.0\n",
       " 2024  \"voiture_sous_compacte\"  …  \"automatique\"   8.0\n",
       " 2024  \"voiture_sous_compacte\"     \"manuelle\"     18.0\n",
       " 2024  \"voiture_sous_compacte\"     \"automatique\"  18.0\n",
       " 2024  \"voiture_sous_compacte\"     \"manuelle\"      4.5\n",
       " 2024  \"voiture_sous_compacte\"     \"automatique\"   8.0"
      ]
     },
     "execution_count": 6,
     "metadata": {},
     "output_type": "execute_result"
    }
   ],
   "source": [
    "X_train =  Matrix(trainData[:, Not(:consommation)])\n",
    "y_train = trainData.consommation\n",
    "X_test = Matrix(testData)"
   ]
  },
  {
   "cell_type": "code",
   "execution_count": 7,
   "metadata": {},
   "outputs": [
    {
     "data": {
      "text/plain": [
       "decisionTree_remise (generic function with 1 method)"
      ]
     },
     "execution_count": 7,
     "metadata": {},
     "output_type": "execute_result"
    }
   ],
   "source": [
    "function decisionTree_remise(X_train ,y_train,  X_test, max_depth)\n",
    "    model = DecisionTreeRegressor(max_depth=max_depth)\n",
    "    fit!(model, X_train, y_train) #peut etre normaliser sur tout les données, pas justr sur les données d'entrainement\n",
    "    ychap =  predict(model, X_test)  \n",
    "    return ychap\n",
    "end"
   ]
  },
  {
   "cell_type": "code",
   "execution_count": 9,
   "metadata": {},
   "outputs": [
    {
     "data": {
      "text/plain": [
       "150-element Vector{Float64}:\n",
       "  8.773101155974718\n",
       "  8.070047540540804\n",
       "  9.545548529167164\n",
       "  9.889100280579937\n",
       " 14.682977190876372\n",
       " 14.682977190876372\n",
       " 14.682977190876372\n",
       "  9.889100280579937\n",
       " 10.924893508841617\n",
       " 15.345064163165286\n",
       " 15.345064163165286\n",
       " 15.345064163165286\n",
       "  8.840702060295868\n",
       "  ⋮\n",
       "  7.842333308965198\n",
       " 11.632846725905672\n",
       " 12.897491767520393\n",
       " 10.686605970839567\n",
       "  8.840702060295868\n",
       "  7.842333308965198\n",
       "  8.070047540540804\n",
       "  8.845504273504272\n",
       " 12.121046960836416\n",
       " 10.620542993264337\n",
       "  7.644047072551106\n",
       "  8.070047540540804"
      ]
     },
     "execution_count": 9,
     "metadata": {},
     "output_type": "execute_result"
    }
   ],
   "source": [
    "res = decisionTree_remise(X_train ,y_train,  X_test, 5)\n",
    "testData.consommation = res"
   ]
  },
  {
   "cell_type": "code",
   "execution_count": 21,
   "metadata": {},
   "outputs": [
    {
     "data": {
      "text/plain": [
       "\"benchmark1.csv\""
      ]
     },
     "execution_count": 21,
     "metadata": {},
     "output_type": "execute_result"
    }
   ],
   "source": [
    "id = 1:150\n",
    "\n",
    "df_pred = DataFrame(id=id, consommation=res)\n",
    "\n",
    "CSV.write(\"benchmark1.csv\", df_pred)"
   ]
  }
 ],
 "metadata": {
  "kernelspec": {
   "display_name": "Julia 1.10.5",
   "language": "julia",
   "name": "julia-1.10"
  },
  "language_info": {
   "file_extension": ".jl",
   "mimetype": "application/julia",
   "name": "julia",
   "version": "1.10.5"
  }
 },
 "nbformat": 4,
 "nbformat_minor": 2
}
