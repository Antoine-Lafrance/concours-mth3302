{
 "cells": [
  {
   "cell_type": "markdown",
   "metadata": {},
   "source": [
    "# MTH3302 - Méthodes probabilistes et statistiques pour I.A.\n",
    "#### Polytechnique Montréal\n",
    "### Projet A2024\n",
    "----\n",
    "Équipe T - TODO\n",
    "### Objectif\n",
    "Prédiction de **la consommation en carburant de voitures récentes**.\n",
    "\n",
    "### Données\n",
    "Le jeu de données contient pour presque 400 véhicule, la consommation moyenne en L/100km, l'année de frabrication, le type de véhicule, le nombre de cylindre, cylindree, la transmission et la boite.\n",
    "\n",
    "- `train.csv` est l'ensemble d'entraînement\n",
    "- `test.csv` est l'ensemble de test\n"
   ]
  },
  {
   "cell_type": "markdown",
   "metadata": {},
   "source": [
    "## Chargement des données"
   ]
  },
  {
   "cell_type": "markdown",
   "metadata": {},
   "source": [
    "Importation des librairies utilisées dans le calepin."
   ]
  },
  {
   "cell_type": "markdown",
   "metadata": {},
   "source": [
    "// TODO: à enlever à la fin:\n",
    "\n",
    "Pour importer librairies:\n",
    "using Pkg\n",
    "Pkg.add([\"CSV\", \"DataFrames\", \"Combinatorics\", \"Gadfly\", \"Distributions\"], ...)"
   ]
  },
  {
   "cell_type": "code",
   "execution_count": 197,
   "metadata": {},
   "outputs": [
    {
     "name": "stderr",
     "output_type": "stream",
     "text": [
      "\u001b[32m\u001b[1m   Resolving\u001b[22m\u001b[39m package versions...\n",
      "\u001b[32m\u001b[1m  No Changes\u001b[22m\u001b[39m to `C:\\Users\\Carl-Éric\\.julia\\environments\\v1.10\\Project.toml`\n",
      "\u001b[32m\u001b[1m  No Changes\u001b[22m\u001b[39m to `C:\\Users\\Carl-Éric\\.julia\\environments\\v1.10\\Manifest.toml`\n"
     ]
    }
   ],
   "source": [
    "# import Pkg; Pkg.add(\"Plots\")\n",
    "import Pkg; Pkg.add(\"DecisionTree\")"
   ]
  },
  {
   "cell_type": "code",
   "execution_count": 198,
   "metadata": {},
   "outputs": [],
   "source": [
    "using CSV, DataFrames, Statistics, Dates, Gadfly, LinearAlgebra, DecisionTree, Random, Plots\n"
   ]
  },
  {
   "cell_type": "code",
   "execution_count": 199,
   "metadata": {},
   "outputs": [
    {
     "data": {
      "text/plain": [
       "add_rows (generic function with 1 method)"
      ]
     },
     "execution_count": 199,
     "metadata": {},
     "output_type": "execute_result"
    }
   ],
   "source": [
    "function add_rows(data)\n",
    "    data[!,:volume_gaz] = data[!,:nombre_cylindres] .* data[!,:cylindree]\n",
    "    return data\n",
    "end"
   ]
  },
  {
   "cell_type": "code",
   "execution_count": 200,
   "metadata": {},
   "outputs": [
    {
     "data": {
      "text/plain": [
       "getStandardEncodedData (generic function with 1 method)"
      ]
     },
     "execution_count": 200,
     "metadata": {},
     "output_type": "execute_result"
    }
   ],
   "source": [
    "function getStandardEncodedData(data)\n",
    "    data_copy = deepcopy(data)\n",
    "    standardised_data = add_rows(data_copy)\n",
    "    return standardised_data\n",
    "end\n",
    "\n",
    "\n"
   ]
  },
  {
   "cell_type": "code",
   "execution_count": 201,
   "metadata": {},
   "outputs": [
    {
     "data": {
      "text/plain": [
       "decisionTree_remise (generic function with 1 method)"
      ]
     },
     "execution_count": 201,
     "metadata": {},
     "output_type": "execute_result"
    }
   ],
   "source": [
    "function decisionTree_remise(X_train ,y_train,  X_test, max_depth)\n",
    "    model = DecisionTreeRegressor(max_depth=max_depth)\n",
    "    fit!(model, X_train, y_train) #peut etre normaliser sur tout les données, pas justr sur les données d'entrainement\n",
    "    ychap =  predict(model, X_test)  \n",
    "    return ychap\n",
    "end"
   ]
  },
  {
   "cell_type": "code",
   "execution_count": 202,
   "metadata": {},
   "outputs": [
    {
     "data": {
      "text/plain": [
       "format_file (generic function with 1 method)"
      ]
     },
     "execution_count": 202,
     "metadata": {},
     "output_type": "execute_result"
    }
   ],
   "source": [
    "function format_file(predictions)\n",
    "    println(predictions)\n",
    "    current_time = Dates.format(now(), \"yyyy-mm-dd_HH-MM-SS\")\n",
    "    file_name = \"benchmark_\" * current_time * \".csv\"\n",
    "    CSV.write(\"./soumissions_potentielles/\" *file_name, predictions)\n",
    "end"
   ]
  },
  {
   "cell_type": "code",
   "execution_count": 203,
   "metadata": {},
   "outputs": [
    {
     "data": {
      "text/plain": [
       "predict_with_dups (generic function with 1 method)"
      ]
     },
     "execution_count": 203,
     "metadata": {},
     "output_type": "execute_result"
    }
   ],
   "source": [
    "COLUMNS_TO_COMPARE = [\"type\", \"nombre_cylindres\", \"cylindree\", \"transmission\", \"boite\"]\n",
    "\n",
    "function get_unique_data(data)\n",
    "    unique_data = combine(groupby(data, COLUMNS_TO_COMPARE), :consommation => mean)\n",
    "    rename!(unique_data, :consommation_mean => :consommation)\n",
    "    return unique_data\n",
    "end\n",
    "\n",
    "function find_pairs(data_train, data_predict)\n",
    "    train_data_without_consommation = select(data_train, Not(:consommation))\n",
    "    predict_data_without_annee = select(data_predict, Not(:annee))\n",
    "\n",
    "    common_values = innerjoin(data_train, predict_data_without_annee, on=names(train_data_without_consommation))\n",
    "\n",
    "    return common_values\n",
    "end\n",
    "\n",
    "function find_differents(data_train, data_predict)\n",
    "    different_values = antijoin(data_predict, data_train, on=COLUMNS_TO_COMPARE)\n",
    "    return different_values\n",
    "    \n",
    "end\n",
    "\n",
    "function predict_with_dups(data_train, data_predict)\n",
    "    pairs = find_pairs(data_train, data_predict)\n",
    "    pairs = select(pairs, [:id, :consommation])\n",
    "    different_values = find_differents(data_train, data_predict)\n",
    "\n",
    "    trainDataStandard = getStandardEncodedData(data_train)\n",
    "    \n",
    "\n",
    "    # X_train =  Matrix(trainData[:, Not(:consommation)])\n",
    "    # y_train = trainData.consommation\n",
    "\n",
    "    X_test = Matrix(testData)\n",
    "\n",
    "    X_train = Matrix(trainDataStandard[:, Not(:consommation)])\n",
    "    y_train = trainDataStandard.consommation\n",
    "    # println(X_train)\n",
    "    # println(y_train)\n",
    "\n",
    "    predictDataStandard = getStandardEncodedData(different_values)\n",
    "\n",
    "    # X_test = Matrix(predictDataStandard)\n",
    "\n",
    "    res =  decisionTree_remise(X_train ,y_train,  X_test, 5)\n",
    "\n",
    "    # different_values = select(different_values, [:id, :consommation])\n",
    "    # prediction = vcat(pairs, different_values)\n",
    "    # prediction = sort(prediction, :id)\n",
    "\n",
    "    # return prediction\n",
    "end\n",
    "    "
   ]
  },
  {
   "cell_type": "code",
   "execution_count": 204,
   "metadata": {},
   "outputs": [
    {
     "data": {
      "text/plain": [
       "1:150"
      ]
     },
     "execution_count": 204,
     "metadata": {},
     "output_type": "execute_result"
    }
   ],
   "source": [
    "trainData = CSV.read(\"../../data/train.csv\", DataFrame)\n",
    "testData = CSV.read(\"../../data/test.csv\", DataFrame)\n",
    "trainData.consommation = parse.(Float64,replace.(trainData.consommation, \",\" => \".\"))\n",
    "trainData.cylindree = parse.(Float64,replace.(trainData.cylindree, \",\" => \".\"))\n",
    "testData.cylindree = parse.(Float64,replace.(testData.cylindree, \",\" => \".\"))\n",
    "\n",
    "\n",
    "COMSOMMATION_MEAN = mean(trainData.consommation)\n",
    "COMSOMMATION_STD = std(trainData.consommation)\n",
    "trainData[!, :id] = 1:nrow(trainData)\n",
    "testData[!, :id] = 1:nrow(testData)\n",
    "\n",
    "\n"
   ]
  },
  {
   "cell_type": "code",
   "execution_count": 205,
   "metadata": {},
   "outputs": [
    {
     "ename": "LoadError",
     "evalue": "MethodError: no method matching isless(::String31, ::Float64)\n\n\u001b[0mClosest candidates are:\n\u001b[0m  isless(\u001b[91m::Missing\u001b[39m, ::Any)\n\u001b[0m\u001b[90m   @\u001b[39m \u001b[90mBase\u001b[39m \u001b[90m\u001b[4mmissing.jl:87\u001b[24m\u001b[39m\n\u001b[0m  isless(::Any, \u001b[91m::Missing\u001b[39m)\n\u001b[0m\u001b[90m   @\u001b[39m \u001b[90mBase\u001b[39m \u001b[90m\u001b[4mmissing.jl:88\u001b[24m\u001b[39m\n\u001b[0m  isless(\u001b[91m::T\u001b[39m, ::T) where T<:Union{Float16, Float32, Float64}\n\u001b[0m\u001b[90m   @\u001b[39m \u001b[90mBase\u001b[39m \u001b[90m\u001b[4mfloat.jl:548\u001b[24m\u001b[39m\n\u001b[0m  ...\n",
     "output_type": "error",
     "traceback": [
      "MethodError: no method matching isless(::String31, ::Float64)\n\n\u001b[0mClosest candidates are:\n\u001b[0m  isless(\u001b[91m::Missing\u001b[39m, ::Any)\n\u001b[0m\u001b[90m   @\u001b[39m \u001b[90mBase\u001b[39m \u001b[90m\u001b[4mmissing.jl:87\u001b[24m\u001b[39m\n\u001b[0m  isless(::Any, \u001b[91m::Missing\u001b[39m)\n\u001b[0m\u001b[90m   @\u001b[39m \u001b[90mBase\u001b[39m \u001b[90m\u001b[4mmissing.jl:88\u001b[24m\u001b[39m\n\u001b[0m  isless(\u001b[91m::T\u001b[39m, ::T) where T<:Union{Float16, Float32, Float64}\n\u001b[0m\u001b[90m   @\u001b[39m \u001b[90mBase\u001b[39m \u001b[90m\u001b[4mfloat.jl:548\u001b[24m\u001b[39m\n\u001b[0m  ...\n",
      "",
      "Stacktrace:",
      " [1] <(x::String31, y::Float64)",
      "   @ Base .\\operators.jl:352",
      " [2] apply_tree(tree::Node{Any, Float64}, features::Vector{Any})",
      "   @ DecisionTree C:\\Users\\Carl-Éric\\.julia\\packages\\DecisionTree\\0Dw1P\\src\\classification\\main.jl:280",
      " [3] apply_tree(tree::Node{Any, Float64}, features::Matrix{Any})",
      "   @ DecisionTree C:\\Users\\Carl-Éric\\.julia\\packages\\DecisionTree\\0Dw1P\\src\\classification\\main.jl:294",
      " [4] apply_tree(tree::Root{Any, Float64}, features::Matrix{Any})",
      "   @ DecisionTree C:\\Users\\Carl-Éric\\.julia\\packages\\DecisionTree\\0Dw1P\\src\\classification\\main.jl:288",
      " [5] predict(dt::DecisionTreeRegressor, X::Matrix{Any})",
      "   @ DecisionTree C:\\Users\\Carl-Éric\\.julia\\packages\\DecisionTree\\0Dw1P\\src\\scikitlearnAPI.jl:226",
      " [6] decisionTree_remise(X_train::Matrix{Any}, y_train::Vector{Float64}, X_test::Matrix{Any}, max_depth::Int64)",
      "   @ Main .\\In[201]:4",
      " [7] predict_with_dups(data_train::DataFrame, data_predict::DataFrame)",
      "   @ Main .\\In[203]:46",
      " [8] main()",
      "   @ Main .\\In[205]:10",
      " [9] top-level scope",
      "   @ In[205]:23"
     ]
    }
   ],
   "source": [
    "function main()\n",
    "    # println(find_duplicates(trainData))\n",
    "    uniqueD = get_unique_data(trainData)\n",
    "    # find_pairs(uniqueD, testData)\n",
    "\n",
    "    # print(uniqueD)\n",
    "    # print(trainData[!, Not(:id, :annee)])\n",
    "\n",
    "    # println(uniqueD)\n",
    "    predict_with_dups(uniqueD, testData)\n",
    "    # format_file(predict_with_dups(uniqueD, testData))\n",
    "    # uniqueD[!,:volume_gaz] = uniqueD[!,:nombre_cylindres] .* uniqueD[!,:cylindree]\n",
    "    # uniqueD\n",
    "    \n",
    "    # display(plot(x=uniqueD.cylindree, y=uniqueD.consommation, color=uniqueD.type))\n",
    "    # scatter(uniqueD.volume_gaz, uniqueD.consommation, zcolor=uniqueD.type)\n",
    "    # trainDataStandard = getStandardEncodedData(trainData)\n",
    "\n",
    "    # predictDataStandard = getStandardEncodedData(testData)\n",
    "    # evaluate_rmse(trainDataStandard)\n",
    "    # forest_predict(trainDataStandard,predictDataStandard)\n",
    "end\n",
    "main()"
   ]
  },
  {
   "cell_type": "code",
   "execution_count": null,
   "metadata": {},
   "outputs": [],
   "source": [
    "# for type in unique(trainData.type)\n",
    "#     println(type)\n",
    "#     data_type = trainData[trainData.type .== type, :]\n",
    "#     println(combine(groupby(data_type, :transmission), :consommation => mean, :volume_gaz => mean, nrow => :nrow))\n",
    "#     println()\n",
    "# end"
   ]
  },
  {
   "cell_type": "code",
   "execution_count": null,
   "metadata": {},
   "outputs": [],
   "source": [
    "# for type in unique(trainData.type)\n",
    "#     println(type)\n",
    "#     data_type = trainData[trainData.type .== type, :]\n",
    "#     display(plot(x=data_type.volume_gaz, y=data_type.consommation))\n",
    "#     println()\n",
    "# end"
   ]
  },
  {
   "cell_type": "markdown",
   "metadata": {},
   "source": [
    "## Exploration des données"
   ]
  }
 ],
 "metadata": {
  "kernelspec": {
   "display_name": "Julia 1.10.5",
   "language": "julia",
   "name": "julia-1.10"
  },
  "language_info": {
   "file_extension": ".jl",
   "mimetype": "application/julia",
   "name": "julia",
   "version": "1.10.5"
  }
 },
 "nbformat": 4,
 "nbformat_minor": 2
}
