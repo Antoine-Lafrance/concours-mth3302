{
 "cells": [
  {
   "cell_type": "markdown",
   "metadata": {},
   "source": [
    "# MTH3302 - Méthodes probabilistes et statistiques pour I.A.\n",
    "#### Polytechnique Montréal\n",
    "### Projet A2024\n",
    "----\n",
    "Équipe T - TODO\n",
    "### Objectif\n",
    "Prédiction de **la consommation en carburant de voitures récentes**.\n",
    "\n",
    "### Données\n",
    "Le jeu de données contient pour presque 400 véhicule, la consommation moyenne en L/100km, l'année de frabrication, le type de véhicule, le nombre de cylindre, cylindree, la transmission et la boite.\n",
    "\n",
    "- `train.csv` est l'ensemble d'entraînement\n",
    "- `test.csv` est l'ensemble de test\n"
   ]
  },
  {
   "cell_type": "markdown",
   "metadata": {},
   "source": [
    "## Chargement des données"
   ]
  },
  {
   "cell_type": "markdown",
   "metadata": {},
   "source": [
    "Importation des librairies utilisées dans le calepin."
   ]
  },
  {
   "cell_type": "markdown",
   "metadata": {},
   "source": [
    "// TODO: à enlever à la fin:\n",
    "\n",
    "Pour importer librairies:\n",
    "using Pkg\n",
    "Pkg.add([\"CSV\", \"DataFrames\", \"Combinatorics\", \"Gadfly\", \"Distributions\"], ...)"
   ]
  },
  {
   "cell_type": "code",
   "execution_count": 6244,
   "metadata": {},
   "outputs": [],
   "source": [
    "#= import Pkg; Pkg.add(\"Plots\")\n",
    "import Pkg; Pkg.add(\"DecisionTree\") =#"
   ]
  },
  {
   "cell_type": "code",
   "execution_count": 6245,
   "metadata": {},
   "outputs": [],
   "source": [
    "using CSV, DataFrames, Statistics, Dates, Gadfly, LinearAlgebra, DecisionTree,Random, Plots"
   ]
  },
  {
   "cell_type": "code",
   "execution_count": 6246,
   "metadata": {},
   "outputs": [
    {
     "data": {
      "text/plain": [
       "standardize_data (generic function with 1 method)"
      ]
     },
     "execution_count": 6246,
     "metadata": {},
     "output_type": "execute_result"
    }
   ],
   "source": [
    "function standardize(data)\n",
    "    return (data .- mean(data)) ./ std(data)\n",
    "end\n",
    "\n",
    "function standardize_data(data)\n",
    "    stddata = deepcopy(data)\n",
    "   for col in names(stddata)\n",
    "        if eltype(stddata[!, col]) <: Number && col != \"id\"\n",
    "            stddata[!, col] = standardize(stddata[!, col])\n",
    "        end\n",
    "    end\n",
    "    return stddata\n",
    "end"
   ]
  },
  {
   "cell_type": "code",
   "execution_count": 6247,
   "metadata": {},
   "outputs": [
    {
     "data": {
      "text/plain": [
       "encode_data (generic function with 1 method)"
      ]
     },
     "execution_count": 6247,
     "metadata": {},
     "output_type": "execute_result"
    }
   ],
   "source": [
    "function encode(data, column)\n",
    "    for c in unique(data[!, column])\n",
    "        data[!, Symbol(c)] = ifelse.(data[!, column] .== c, 1, 0)\n",
    "    end\n",
    "    return data\n",
    "end\n",
    "\n",
    "function encode_data(data)\n",
    "    encoded_data = deepcopy(data)\n",
    "    encoded_data = encode(encoded_data, :general_type)\n",
    "    encoded_data = encode(encoded_data, :transmission)\n",
    "    encoded_data = encode(encoded_data, :boite)\n",
    "    return encoded_data\n",
    "end"
   ]
  },
  {
   "cell_type": "code",
   "execution_count": 6248,
   "metadata": {},
   "outputs": [
    {
     "data": {
      "text/plain": [
       "removeRows (generic function with 1 method)"
      ]
     },
     "execution_count": 6248,
     "metadata": {},
     "output_type": "execute_result"
    }
   ],
   "source": [
    "function removeRows(data)\n",
    "    return select!(data, Not([:type, :transmission, :boite, :general_type]))\n",
    "end"
   ]
  },
  {
   "cell_type": "code",
   "execution_count": 6249,
   "metadata": {},
   "outputs": [
    {
     "data": {
      "image/png": "[encoded data removed]",
      "image/svg+xml": [
       "<?xml version=\"1.0\" encoding=\"utf-8\"?>\n",
       "<svg xmlns=\"http://www.w3.org/2000/svg\" xmlns:xlink=\"http://www.w3.org/1999/xlink\" width=\"600\" height=\"400\" viewBox=\"0 0 2400 1600\">\n",
       "<defs>\n",
       "  <clipPath id=\"clip010\">\n",
       "    <rect x=\"0\" y=\"0\" width=\"2400\" height=\"1600\"/>\n",
       "  </clipPath>\n",
       "</defs>\n",
       "<path clip-path=\"url(#clip010)\" d=\"M0 1600 L2400 1600 L2400 0 L0 0  Z\" fill=\"#ffffff\" fill-rule=\"evenodd\" fill-opacity=\"1\"/>\n",
       "<defs>\n",
       "  <clipPath id=\"clip011\">\n",
       "    <rect x=\"480\" y=\"0\" width=\"1681\" height=\"1600\"/>\n",
       "  </clipPath>\n",
       "</defs>\n",
       "<path clip-path=\"url(#clip010)\" d=\"M139.446 1486.45 L2352.76 1486.45 L2352.76 47.2441 L139.446 47.2441  Z\" fill=\"#ffffff\" fill-rule=\"evenodd\" fill-opacity=\"1\"/>\n",
       "<defs>\n",
       "  <clipPath id=\"clip012\">\n",
       "    <rect x=\"139\" y=\"47\" width=\"2214\" height=\"1440\"/>\n",
       "  </clipPath>\n",
       "</defs>\n",
       "<polyline clip-path=\"url(#clip012)\" style=\"stroke:#000000; stroke-linecap:round; stroke-linejoin:round; stroke-width:2; stroke-opacity:0.1; fill:none\" points=\"202.086,1486.45 202.086,47.2441 \"/>\n",
       "<polyline clip-path=\"url(#clip012)\" style=\"stroke:#000000; stroke-linecap:round; stroke-linejoin:round; stroke-width:2; stroke-opacity:0.1; fill:none\" points=\"550.091,1486.45 550.091,47.2441 \"/>\n",
       "<polyline clip-path=\"url(#clip012)\" style=\"stroke:#000000; stroke-linecap:round; stroke-linejoin:round; stroke-width:2; stroke-opacity:0.1; fill:none\" points=\"898.096,1486.45 898.096,47.2441 \"/>\n",
       "<polyline clip-path=\"url(#clip012)\" style=\"stroke:#000000; stroke-linecap:round; stroke-linejoin:round; stroke-width:2; stroke-opacity:0.1; fill:none\" points=\"1246.1,1486.45 1246.1,47.2441 \"/>\n",
       "<polyline clip-path=\"url(#clip012)\" style=\"stroke:#000000; stroke-linecap:round; stroke-linejoin:round; stroke-width:2; stroke-opacity:0.1; fill:none\" points=\"1594.11,1486.45 1594.11,47.2441 \"/>\n",
       "<polyline clip-path=\"url(#clip012)\" style=\"stroke:#000000; stroke-linecap:round; stroke-linejoin:round; stroke-width:2; stroke-opacity:0.1; fill:none\" points=\"1942.11,1486.45 1942.11,47.2441 \"/>\n",
       "<polyline clip-path=\"url(#clip012)\" style=\"stroke:#000000; stroke-linecap:round; stroke-linejoin:round; stroke-width:2; stroke-opacity:0.1; fill:none\" points=\"2290.12,1486.45 2290.12,47.2441 \"/>\n",
       "<polyline clip-path=\"url(#clip012)\" style=\"stroke:#000000; stroke-linecap:round; stroke-linejoin:round; stroke-width:2; stroke-opacity:0.1; fill:none\" points=\"139.446,1455.24 2352.76,1455.24 \"/>\n",
       "<polyline clip-path=\"url(#clip012)\" style=\"stroke:#000000; stroke-linecap:round; stroke-linejoin:round; stroke-width:2; stroke-opacity:0.1; fill:none\" points=\"139.446,1250.58 2352.76,1250.58 \"/>\n",
       "<polyline clip-path=\"url(#clip012)\" style=\"stroke:#000000; stroke-linecap:round; stroke-linejoin:round; stroke-width:2; stroke-opacity:0.1; fill:none\" points=\"139.446,1045.92 2352.76,1045.92 \"/>\n",
       "<polyline clip-path=\"url(#clip012)\" style=\"stroke:#000000; stroke-linecap:round; stroke-linejoin:round; stroke-width:2; stroke-opacity:0.1; fill:none\" points=\"139.446,841.261 2352.76,841.261 \"/>\n",
       "<polyline clip-path=\"url(#clip012)\" style=\"stroke:#000000; stroke-linecap:round; stroke-linejoin:round; stroke-width:2; stroke-opacity:0.1; fill:none\" points=\"139.446,636.601 2352.76,636.601 \"/>\n",
       "<polyline clip-path=\"url(#clip012)\" style=\"stroke:#000000; stroke-linecap:round; stroke-linejoin:round; stroke-width:2; stroke-opacity:0.1; fill:none\" points=\"139.446,431.941 2352.76,431.941 \"/>\n",
       "<polyline clip-path=\"url(#clip012)\" style=\"stroke:#000000; stroke-linecap:round; stroke-linejoin:round; stroke-width:2; stroke-opacity:0.1; fill:none\" points=\"139.446,227.281 2352.76,227.281 \"/>\n",
       "<polyline clip-path=\"url(#clip010)\" style=\"stroke:#000000; stroke-linecap:round; stroke-linejoin:round; stroke-width:4; stroke-opacity:1; fill:none\" points=\"139.446,1486.45 2352.76,1486.45 \"/>\n",
       "<polyline clip-path=\"url(#clip010)\" style=\"stroke:#000000; stroke-linecap:round; stroke-linejoin:round; stroke-width:4; stroke-opacity:1; fill:none\" points=\"202.086,1486.45 202.086,1467.55 \"/>\n",
       "<polyline clip-path=\"url(#clip010)\" style=\"stroke:#000000; stroke-linecap:round; stroke-linejoin:round; stroke-width:4; stroke-opacity:1; fill:none\" points=\"550.091,1486.45 550.091,1467.55 \"/>\n",
       "<polyline clip-path=\"url(#clip010)\" style=\"stroke:#000000; stroke-linecap:round; stroke-linejoin:round; stroke-width:4; stroke-opacity:1; fill:none\" points=\"898.096,1486.45 898.096,1467.55 \"/>\n",
       "<polyline clip-path=\"url(#clip010)\" style=\"stroke:#000000; stroke-linecap:round; stroke-linejoin:round; stroke-width:4; stroke-opacity:1; fill:none\" points=\"1246.1,1486.45 1246.1,1467.55 \"/>\n",
       "<polyline clip-path=\"url(#clip010)\" style=\"stroke:#000000; stroke-linecap:round; stroke-linejoin:round; stroke-width:4; stroke-opacity:1; fill:none\" points=\"1594.11,1486.45 1594.11,1467.55 \"/>\n",
       "<polyline clip-path=\"url(#clip010)\" style=\"stroke:#000000; stroke-linecap:round; stroke-linejoin:round; stroke-width:4; stroke-opacity:1; fill:none\" points=\"1942.11,1486.45 1942.11,1467.55 \"/>\n",
       "<polyline clip-path=\"url(#clip010)\" style=\"stroke:#000000; stroke-linecap:round; stroke-linejoin:round; stroke-width:4; stroke-opacity:1; fill:none\" points=\"2290.12,1486.45 2290.12,1467.55 \"/>\n",
       "<path clip-path=\"url(#clip010)\" d=\"M205.096 1518.36 L193.29 1536.81 L205.096 1536.81 L205.096 1518.36 M203.869 1514.29 L209.748 1514.29 L209.748 1536.81 L214.679 1536.81 L214.679 1540.7 L209.748 1540.7 L209.748 1548.85 L205.096 1548.85 L205.096 1540.7 L189.494 1540.7 L189.494 1536.19 L203.869 1514.29 Z\" fill=\"#000000\" fill-rule=\"nonzero\" fill-opacity=\"1\" /><path clip-path=\"url(#clip010)\" d=\"M540.369 1514.29 L558.725 1514.29 L558.725 1518.22 L544.651 1518.22 L544.651 1526.7 Q545.67 1526.35 546.688 1526.19 Q547.707 1526 548.725 1526 Q554.512 1526 557.892 1529.17 Q561.272 1532.34 561.272 1537.76 Q561.272 1543.34 557.799 1546.44 Q554.327 1549.52 548.008 1549.52 Q545.832 1549.52 543.563 1549.15 Q541.318 1548.78 538.911 1548.04 L538.911 1543.34 Q540.994 1544.47 543.216 1545.03 Q545.438 1545.58 547.915 1545.58 Q551.92 1545.58 554.258 1543.48 Q556.596 1541.37 556.596 1537.76 Q556.596 1534.15 554.258 1532.04 Q551.92 1529.94 547.915 1529.94 Q546.04 1529.94 544.165 1530.35 Q542.313 1530.77 540.369 1531.65 L540.369 1514.29 Z\" fill=\"#000000\" fill-rule=\"nonzero\" fill-opacity=\"1\" /><path clip-path=\"url(#clip010)\" d=\"M898.501 1529.7 Q895.353 1529.7 893.501 1531.86 Q891.672 1534.01 891.672 1537.76 Q891.672 1541.49 893.501 1543.66 Q895.353 1545.82 898.501 1545.82 Q901.649 1545.82 903.478 1543.66 Q905.33 1541.49 905.33 1537.76 Q905.33 1534.01 903.478 1531.86 Q901.649 1529.7 898.501 1529.7 M907.783 1515.05 L907.783 1519.31 Q906.024 1518.48 904.219 1518.04 Q902.436 1517.6 900.677 1517.6 Q896.047 1517.6 893.594 1520.72 Q891.163 1523.85 890.816 1530.17 Q892.182 1528.15 894.242 1527.09 Q896.302 1526 898.779 1526 Q903.987 1526 906.996 1529.17 Q910.029 1532.32 910.029 1537.76 Q910.029 1543.08 906.881 1546.3 Q903.732 1549.52 898.501 1549.52 Q892.506 1549.52 889.334 1544.94 Q886.163 1540.33 886.163 1531.6 Q886.163 1523.41 890.052 1518.55 Q893.941 1513.66 900.492 1513.66 Q902.251 1513.66 904.033 1514.01 Q905.839 1514.36 907.783 1515.05 Z\" fill=\"#000000\" fill-rule=\"nonzero\" fill-opacity=\"1\" /><path clip-path=\"url(#clip010)\" d=\"M1234.99 1514.29 L1257.21 1514.29 L1257.21 1516.28 L1244.67 1548.85 L1239.78 1548.85 L1251.59 1518.22 L1234.99 1518.22 L1234.99 1514.29 Z\" fill=\"#000000\" fill-rule=\"nonzero\" fill-opacity=\"1\" /><path clip-path=\"url(#clip010)\" d=\"M1594.11 1532.44 Q1590.77 1532.44 1588.85 1534.22 Q1586.95 1536 1586.95 1539.13 Q1586.95 1542.25 1588.85 1544.03 Q1590.77 1545.82 1594.11 1545.82 Q1597.44 1545.82 1599.36 1544.03 Q1601.28 1542.23 1601.28 1539.13 Q1601.28 1536 1599.36 1534.22 Q1597.46 1532.44 1594.11 1532.44 M1589.43 1530.45 Q1586.42 1529.7 1584.73 1527.64 Q1583.06 1525.58 1583.06 1522.62 Q1583.06 1518.48 1586 1516.07 Q1588.97 1513.66 1594.11 1513.66 Q1599.27 1513.66 1602.21 1516.07 Q1605.15 1518.48 1605.15 1522.62 Q1605.15 1525.58 1603.46 1527.64 Q1601.79 1529.7 1598.8 1530.45 Q1602.18 1531.23 1604.06 1533.52 Q1605.96 1535.82 1605.96 1539.13 Q1605.96 1544.15 1602.88 1546.83 Q1599.82 1549.52 1594.11 1549.52 Q1588.39 1549.52 1585.31 1546.83 Q1582.25 1544.15 1582.25 1539.13 Q1582.25 1535.82 1584.15 1533.52 Q1586.05 1531.23 1589.43 1530.45 M1587.72 1523.06 Q1587.72 1525.75 1589.38 1527.25 Q1591.07 1528.76 1594.11 1528.76 Q1597.11 1528.76 1598.8 1527.25 Q1600.52 1525.75 1600.52 1523.06 Q1600.52 1520.38 1598.8 1518.87 Q1597.11 1517.37 1594.11 1517.37 Q1591.07 1517.37 1589.38 1518.87 Q1587.72 1520.38 1587.72 1523.06 Z\" fill=\"#000000\" fill-rule=\"nonzero\" fill-opacity=\"1\" /><path clip-path=\"url(#clip010)\" d=\"M1932.41 1548.13 L1932.41 1543.87 Q1934.17 1544.7 1935.98 1545.14 Q1937.78 1545.58 1939.52 1545.58 Q1944.15 1545.58 1946.58 1542.48 Q1949.03 1539.36 1949.38 1533.01 Q1948.04 1535.01 1945.98 1536.07 Q1943.92 1537.13 1941.42 1537.13 Q1936.23 1537.13 1933.2 1534.01 Q1930.19 1530.86 1930.19 1525.42 Q1930.19 1520.1 1933.34 1516.88 Q1936.49 1513.66 1941.72 1513.66 Q1947.71 1513.66 1950.86 1518.27 Q1954.03 1522.85 1954.03 1531.6 Q1954.03 1539.77 1950.14 1544.66 Q1946.28 1549.52 1939.73 1549.52 Q1937.97 1549.52 1936.16 1549.17 Q1934.36 1548.82 1932.41 1548.13 M1941.72 1533.48 Q1944.86 1533.48 1946.69 1531.32 Q1948.55 1529.17 1948.55 1525.42 Q1948.55 1521.7 1946.69 1519.54 Q1944.86 1517.37 1941.72 1517.37 Q1938.57 1517.37 1936.72 1519.54 Q1934.89 1521.7 1934.89 1525.42 Q1934.89 1529.17 1936.72 1531.32 Q1938.57 1533.48 1941.72 1533.48 Z\" fill=\"#000000\" fill-rule=\"nonzero\" fill-opacity=\"1\" /><path clip-path=\"url(#clip010)\" d=\"M2264.8 1544.91 L2272.44 1544.91 L2272.44 1518.55 L2264.13 1520.21 L2264.13 1515.95 L2272.4 1514.29 L2277.07 1514.29 L2277.07 1544.91 L2284.71 1544.91 L2284.71 1548.85 L2264.8 1548.85 L2264.8 1544.91 Z\" fill=\"#000000\" fill-rule=\"nonzero\" fill-opacity=\"1\" /><path clip-path=\"url(#clip010)\" d=\"M2304.15 1517.37 Q2300.54 1517.37 2298.71 1520.93 Q2296.91 1524.47 2296.91 1531.6 Q2296.91 1538.71 2298.71 1542.27 Q2300.54 1545.82 2304.15 1545.82 Q2307.79 1545.82 2309.59 1542.27 Q2311.42 1538.71 2311.42 1531.6 Q2311.42 1524.47 2309.59 1520.93 Q2307.79 1517.37 2304.15 1517.37 M2304.15 1513.66 Q2309.96 1513.66 2313.02 1518.27 Q2316.1 1522.85 2316.1 1531.6 Q2316.1 1540.33 2313.02 1544.94 Q2309.96 1549.52 2304.15 1549.52 Q2298.34 1549.52 2295.27 1544.94 Q2292.21 1540.33 2292.21 1531.6 Q2292.21 1522.85 2295.27 1518.27 Q2298.34 1513.66 2304.15 1513.66 Z\" fill=\"#000000\" fill-rule=\"nonzero\" fill-opacity=\"1\" /><polyline clip-path=\"url(#clip010)\" style=\"stroke:#000000; stroke-linecap:round; stroke-linejoin:round; stroke-width:4; stroke-opacity:1; fill:none\" points=\"139.446,1486.45 139.446,47.2441 \"/>\n",
       "<polyline clip-path=\"url(#clip010)\" style=\"stroke:#000000; stroke-linecap:round; stroke-linejoin:round; stroke-width:4; stroke-opacity:1; fill:none\" points=\"139.446,1455.24 158.343,1455.24 \"/>\n",
       "<polyline clip-path=\"url(#clip010)\" style=\"stroke:#000000; stroke-linecap:round; stroke-linejoin:round; stroke-width:4; stroke-opacity:1; fill:none\" points=\"139.446,1250.58 158.343,1250.58 \"/>\n",
       "<polyline clip-path=\"url(#clip010)\" style=\"stroke:#000000; stroke-linecap:round; stroke-linejoin:round; stroke-width:4; stroke-opacity:1; fill:none\" points=\"139.446,1045.92 158.343,1045.92 \"/>\n",
       "<polyline clip-path=\"url(#clip010)\" style=\"stroke:#000000; stroke-linecap:round; stroke-linejoin:round; stroke-width:4; stroke-opacity:1; fill:none\" points=\"139.446,841.261 158.343,841.261 \"/>\n",
       "<polyline clip-path=\"url(#clip010)\" style=\"stroke:#000000; stroke-linecap:round; stroke-linejoin:round; stroke-width:4; stroke-opacity:1; fill:none\" points=\"139.446,636.601 158.343,636.601 \"/>\n",
       "<polyline clip-path=\"url(#clip010)\" style=\"stroke:#000000; stroke-linecap:round; stroke-linejoin:round; stroke-width:4; stroke-opacity:1; fill:none\" points=\"139.446,431.941 158.343,431.941 \"/>\n",
       "<polyline clip-path=\"url(#clip010)\" style=\"stroke:#000000; stroke-linecap:round; stroke-linejoin:round; stroke-width:4; stroke-opacity:1; fill:none\" points=\"139.446,227.281 158.343,227.281 \"/>\n",
       "<path clip-path=\"url(#clip010)\" d=\"M81.8253 1471.8 L81.8253 1467.54 Q83.5845 1468.38 85.3901 1468.82 Q87.1956 1469.26 88.9317 1469.26 Q93.5613 1469.26 95.9919 1466.15 Q98.4456 1463.03 98.7928 1456.69 Q97.4502 1458.68 95.39 1459.74 Q93.3299 1460.81 90.8299 1460.81 Q85.6447 1460.81 82.6123 1457.68 Q79.6031 1454.53 79.6031 1449.09 Q79.6031 1443.77 82.7512 1440.55 Q85.8993 1437.34 91.1308 1437.34 Q97.1261 1437.34 100.274 1441.94 Q103.446 1446.53 103.446 1455.27 Q103.446 1463.45 99.5567 1468.33 Q95.691 1473.19 89.1401 1473.19 Q87.3808 1473.19 85.5753 1472.84 Q83.7697 1472.5 81.8253 1471.8 M91.1308 1457.15 Q94.2789 1457.15 96.1076 1455 Q97.9595 1452.84 97.9595 1449.09 Q97.9595 1445.37 96.1076 1443.21 Q94.2789 1441.04 91.1308 1441.04 Q87.9827 1441.04 86.1308 1443.21 Q84.3021 1445.37 84.3021 1449.09 Q84.3021 1452.84 86.1308 1455 Q87.9827 1457.15 91.1308 1457.15 Z\" fill=\"#000000\" fill-rule=\"nonzero\" fill-opacity=\"1\" /><path clip-path=\"url(#clip010)\" d=\"M52.1495 1263.93 L59.7884 1263.93 L59.7884 1237.56 L51.4782 1239.23 L51.4782 1234.97 L59.7421 1233.3 L64.418 1233.3 L64.418 1263.93 L72.0568 1263.93 L72.0568 1267.86 L52.1495 1267.86 L52.1495 1263.93 Z\" fill=\"#000000\" fill-rule=\"nonzero\" fill-opacity=\"1\" /><path clip-path=\"url(#clip010)\" d=\"M91.5012 1236.38 Q87.8901 1236.38 86.0614 1239.94 Q84.2558 1243.49 84.2558 1250.62 Q84.2558 1257.72 86.0614 1261.29 Q87.8901 1264.83 91.5012 1264.83 Q95.1354 1264.83 96.941 1261.29 Q98.7696 1257.72 98.7696 1250.62 Q98.7696 1243.49 96.941 1239.94 Q95.1354 1236.38 91.5012 1236.38 M91.5012 1232.68 Q97.3113 1232.68 100.367 1237.28 Q103.446 1241.87 103.446 1250.62 Q103.446 1259.34 100.367 1263.95 Q97.3113 1268.53 91.5012 1268.53 Q85.691 1268.53 82.6123 1263.95 Q79.5568 1259.34 79.5568 1250.62 Q79.5568 1241.87 82.6123 1237.28 Q85.691 1232.68 91.5012 1232.68 Z\" fill=\"#000000\" fill-rule=\"nonzero\" fill-opacity=\"1\" /><path clip-path=\"url(#clip010)\" d=\"M53.3764 1059.27 L61.0152 1059.27 L61.0152 1032.9 L52.7051 1034.57 L52.7051 1030.31 L60.9689 1028.64 L65.6448 1028.64 L65.6448 1059.27 L73.2837 1059.27 L73.2837 1063.2 L53.3764 1063.2 L53.3764 1059.27 Z\" fill=\"#000000\" fill-rule=\"nonzero\" fill-opacity=\"1\" /><path clip-path=\"url(#clip010)\" d=\"M83.5382 1059.27 L91.1771 1059.27 L91.1771 1032.9 L82.867 1034.57 L82.867 1030.31 L91.1308 1028.64 L95.8067 1028.64 L95.8067 1059.27 L103.446 1059.27 L103.446 1063.2 L83.5382 1063.2 L83.5382 1059.27 Z\" fill=\"#000000\" fill-rule=\"nonzero\" fill-opacity=\"1\" /><path clip-path=\"url(#clip010)\" d=\"M53.7467 854.606 L61.3856 854.606 L61.3856 828.24 L53.0754 829.907 L53.0754 825.647 L61.3393 823.981 L66.0152 823.981 L66.0152 854.606 L73.654 854.606 L73.654 858.541 L53.7467 858.541 L53.7467 854.606 Z\" fill=\"#000000\" fill-rule=\"nonzero\" fill-opacity=\"1\" /><path clip-path=\"url(#clip010)\" d=\"M87.1262 854.606 L103.446 854.606 L103.446 858.541 L81.5012 858.541 L81.5012 854.606 Q84.1632 851.851 88.7466 847.221 Q93.353 842.569 94.5336 841.226 Q96.7789 838.703 97.6585 836.967 Q98.5613 835.208 98.5613 833.518 Q98.5613 830.763 96.6169 829.027 Q94.6956 827.291 91.5938 827.291 Q89.3947 827.291 86.941 828.055 Q84.5105 828.819 81.7327 830.37 L81.7327 825.647 Q84.5568 824.513 87.0105 823.935 Q89.4641 823.356 91.5012 823.356 Q96.8715 823.356 100.066 826.041 Q103.26 828.726 103.26 833.217 Q103.26 835.346 102.45 837.268 Q101.663 839.166 99.5567 841.758 Q98.978 842.43 95.8761 845.647 Q92.7743 848.842 87.1262 854.606 Z\" fill=\"#000000\" fill-rule=\"nonzero\" fill-opacity=\"1\" /><path clip-path=\"url(#clip010)\" d=\"M52.7977 649.946 L60.4365 649.946 L60.4365 623.58 L52.1264 625.247 L52.1264 620.988 L60.3902 619.321 L65.0661 619.321 L65.0661 649.946 L72.705 649.946 L72.705 653.881 L52.7977 653.881 L52.7977 649.946 Z\" fill=\"#000000\" fill-rule=\"nonzero\" fill-opacity=\"1\" /><path clip-path=\"url(#clip010)\" d=\"M96.316 635.247 Q99.6724 635.964 101.547 638.233 Q103.446 640.501 103.446 643.835 Q103.446 648.95 99.927 651.751 Q96.4085 654.552 89.9271 654.552 Q87.7512 654.552 85.4364 654.112 Q83.1447 653.696 80.691 652.839 L80.691 648.325 Q82.6355 649.46 84.9503 650.038 Q87.2651 650.617 89.7882 650.617 Q94.1863 650.617 96.478 648.881 Q98.7928 647.145 98.7928 643.835 Q98.7928 640.779 96.64 639.066 Q94.5104 637.33 90.691 637.33 L86.6632 637.33 L86.6632 633.488 L90.8762 633.488 Q94.3252 633.488 96.1539 632.122 Q97.9826 630.733 97.9826 628.14 Q97.9826 625.478 96.0845 624.066 Q94.2095 622.631 90.691 622.631 Q88.7697 622.631 86.5706 623.048 Q84.3716 623.465 81.7327 624.344 L81.7327 620.177 Q84.3947 619.437 86.7095 619.066 Q89.0475 618.696 91.1077 618.696 Q96.4317 618.696 99.5335 621.127 Q102.635 623.534 102.635 627.654 Q102.635 630.525 100.992 632.515 Q99.3483 634.483 96.316 635.247 Z\" fill=\"#000000\" fill-rule=\"nonzero\" fill-opacity=\"1\" /><path clip-path=\"url(#clip010)\" d=\"M51.6634 445.286 L59.3023 445.286 L59.3023 418.92 L50.9921 420.587 L50.9921 416.328 L59.256 414.661 L63.9319 414.661 L63.9319 445.286 L71.5707 445.286 L71.5707 449.221 L51.6634 449.221 L51.6634 445.286 Z\" fill=\"#000000\" fill-rule=\"nonzero\" fill-opacity=\"1\" /><path clip-path=\"url(#clip010)\" d=\"M93.8623 418.735 L82.0568 437.184 L93.8623 437.184 L93.8623 418.735 M92.6354 414.661 L98.515 414.661 L98.515 437.184 L103.446 437.184 L103.446 441.073 L98.515 441.073 L98.515 449.221 L93.8623 449.221 L93.8623 441.073 L78.2605 441.073 L78.2605 436.559 L92.6354 414.661 Z\" fill=\"#000000\" fill-rule=\"nonzero\" fill-opacity=\"1\" /><path clip-path=\"url(#clip010)\" d=\"M53.1449 240.626 L60.7837 240.626 L60.7837 214.261 L52.4736 215.927 L52.4736 211.668 L60.7374 210.001 L65.4133 210.001 L65.4133 240.626 L73.0522 240.626 L73.0522 244.561 L53.1449 244.561 L53.1449 240.626 Z\" fill=\"#000000\" fill-rule=\"nonzero\" fill-opacity=\"1\" /><path clip-path=\"url(#clip010)\" d=\"M82.5429 210.001 L100.899 210.001 L100.899 213.937 L86.8253 213.937 L86.8253 222.409 Q87.8438 222.062 88.8623 221.899 Q89.8808 221.714 90.8993 221.714 Q96.6863 221.714 100.066 224.886 Q103.446 228.057 103.446 233.473 Q103.446 239.052 99.9733 242.154 Q96.5011 245.233 90.1817 245.233 Q88.0058 245.233 85.7373 244.862 Q83.492 244.492 81.0846 243.751 L81.0846 239.052 Q83.1679 240.186 85.3901 240.742 Q87.6123 241.298 90.0891 241.298 Q94.0937 241.298 96.4317 239.191 Q98.7696 237.085 98.7696 233.473 Q98.7696 229.862 96.4317 227.756 Q94.0937 225.649 90.0891 225.649 Q88.2141 225.649 86.3392 226.066 Q84.4873 226.483 82.5429 227.362 L82.5429 210.001 Z\" fill=\"#000000\" fill-rule=\"nonzero\" fill-opacity=\"1\" /><circle clip-path=\"url(#clip012)\" cx=\"1594.11\" cy=\"622.843\" r=\"14.4\" fill=\"#009af9\" fill-rule=\"evenodd\" fill-opacity=\"1\" stroke=\"#000000\" stroke-opacity=\"1\" stroke-width=\"3.2\"/>\n",
       "<circle clip-path=\"url(#clip012)\" cx=\"898.096\" cy=\"1109.09\" r=\"14.4\" fill=\"#009af9\" fill-rule=\"evenodd\" fill-opacity=\"1\" stroke=\"#000000\" stroke-opacity=\"1\" stroke-width=\"3.2\"/>\n",
       "<circle clip-path=\"url(#clip012)\" cx=\"898.096\" cy=\"1004.89\" r=\"14.4\" fill=\"#009af9\" fill-rule=\"evenodd\" fill-opacity=\"1\" stroke=\"#000000\" stroke-opacity=\"1\" stroke-width=\"3.2\"/>\n",
       "<circle clip-path=\"url(#clip012)\" cx=\"898.096\" cy=\"1109.09\" r=\"14.4\" fill=\"#009af9\" fill-rule=\"evenodd\" fill-opacity=\"1\" stroke=\"#000000\" stroke-opacity=\"1\" stroke-width=\"3.2\"/>\n",
       "<circle clip-path=\"url(#clip012)\" cx=\"898.096\" cy=\"1204.22\" r=\"14.4\" fill=\"#009af9\" fill-rule=\"evenodd\" fill-opacity=\"1\" stroke=\"#000000\" stroke-opacity=\"1\" stroke-width=\"3.2\"/>\n",
       "<circle clip-path=\"url(#clip012)\" cx=\"1594.11\" cy=\"465.529\" r=\"14.4\" fill=\"#009af9\" fill-rule=\"evenodd\" fill-opacity=\"1\" stroke=\"#000000\" stroke-opacity=\"1\" stroke-width=\"3.2\"/>\n",
       "<circle clip-path=\"url(#clip012)\" cx=\"2290.12\" cy=\"288.551\" r=\"14.4\" fill=\"#009af9\" fill-rule=\"evenodd\" fill-opacity=\"1\" stroke=\"#000000\" stroke-opacity=\"1\" stroke-width=\"3.2\"/>\n",
       "<circle clip-path=\"url(#clip012)\" cx=\"202.086\" cy=\"1445.72\" r=\"14.4\" fill=\"#009af9\" fill-rule=\"evenodd\" fill-opacity=\"1\" stroke=\"#000000\" stroke-opacity=\"1\" stroke-width=\"3.2\"/>\n",
       "<circle clip-path=\"url(#clip012)\" cx=\"1594.11\" cy=\"622.843\" r=\"14.4\" fill=\"#009af9\" fill-rule=\"evenodd\" fill-opacity=\"1\" stroke=\"#000000\" stroke-opacity=\"1\" stroke-width=\"3.2\"/>\n",
       "<circle clip-path=\"url(#clip012)\" cx=\"898.096\" cy=\"763.598\" r=\"14.4\" fill=\"#009af9\" fill-rule=\"evenodd\" fill-opacity=\"1\" stroke=\"#000000\" stroke-opacity=\"1\" stroke-width=\"3.2\"/>\n",
       "<circle clip-path=\"url(#clip012)\" cx=\"1594.11\" cy=\"763.598\" r=\"14.4\" fill=\"#009af9\" fill-rule=\"evenodd\" fill-opacity=\"1\" stroke=\"#000000\" stroke-opacity=\"1\" stroke-width=\"3.2\"/>\n",
       "<circle clip-path=\"url(#clip012)\" cx=\"1594.11\" cy=\"763.598\" r=\"14.4\" fill=\"#009af9\" fill-rule=\"evenodd\" fill-opacity=\"1\" stroke=\"#000000\" stroke-opacity=\"1\" stroke-width=\"3.2\"/>\n",
       "<circle clip-path=\"url(#clip012)\" cx=\"1594.11\" cy=\"622.843\" r=\"14.4\" fill=\"#009af9\" fill-rule=\"evenodd\" fill-opacity=\"1\" stroke=\"#000000\" stroke-opacity=\"1\" stroke-width=\"3.2\"/>\n",
       "<circle clip-path=\"url(#clip012)\" cx=\"1594.11\" cy=\"465.529\" r=\"14.4\" fill=\"#009af9\" fill-rule=\"evenodd\" fill-opacity=\"1\" stroke=\"#000000\" stroke-opacity=\"1\" stroke-width=\"3.2\"/>\n",
       "<circle clip-path=\"url(#clip012)\" cx=\"898.096\" cy=\"1109.09\" r=\"14.4\" fill=\"#009af9\" fill-rule=\"evenodd\" fill-opacity=\"1\" stroke=\"#000000\" stroke-opacity=\"1\" stroke-width=\"3.2\"/>\n",
       "<circle clip-path=\"url(#clip012)\" cx=\"2290.12\" cy=\"288.551\" r=\"14.4\" fill=\"#009af9\" fill-rule=\"evenodd\" fill-opacity=\"1\" stroke=\"#000000\" stroke-opacity=\"1\" stroke-width=\"3.2\"/>\n",
       "<circle clip-path=\"url(#clip012)\" cx=\"898.096\" cy=\"1004.89\" r=\"14.4\" fill=\"#009af9\" fill-rule=\"evenodd\" fill-opacity=\"1\" stroke=\"#000000\" stroke-opacity=\"1\" stroke-width=\"3.2\"/>\n",
       "<circle clip-path=\"url(#clip012)\" cx=\"1594.11\" cy=\"465.529\" r=\"14.4\" fill=\"#009af9\" fill-rule=\"evenodd\" fill-opacity=\"1\" stroke=\"#000000\" stroke-opacity=\"1\" stroke-width=\"3.2\"/>\n",
       "<circle clip-path=\"url(#clip012)\" cx=\"2290.12\" cy=\"465.529\" r=\"14.4\" fill=\"#009af9\" fill-rule=\"evenodd\" fill-opacity=\"1\" stroke=\"#000000\" stroke-opacity=\"1\" stroke-width=\"3.2\"/>\n",
       "<circle clip-path=\"url(#clip012)\" cx=\"1594.11\" cy=\"622.843\" r=\"14.4\" fill=\"#009af9\" fill-rule=\"evenodd\" fill-opacity=\"1\" stroke=\"#000000\" stroke-opacity=\"1\" stroke-width=\"3.2\"/>\n",
       "<circle clip-path=\"url(#clip012)\" cx=\"898.096\" cy=\"1004.89\" r=\"14.4\" fill=\"#009af9\" fill-rule=\"evenodd\" fill-opacity=\"1\" stroke=\"#000000\" stroke-opacity=\"1\" stroke-width=\"3.2\"/>\n",
       "<circle clip-path=\"url(#clip012)\" cx=\"898.096\" cy=\"1204.22\" r=\"14.4\" fill=\"#009af9\" fill-rule=\"evenodd\" fill-opacity=\"1\" stroke=\"#000000\" stroke-opacity=\"1\" stroke-width=\"3.2\"/>\n",
       "<circle clip-path=\"url(#clip012)\" cx=\"1594.11\" cy=\"622.843\" r=\"14.4\" fill=\"#009af9\" fill-rule=\"evenodd\" fill-opacity=\"1\" stroke=\"#000000\" stroke-opacity=\"1\" stroke-width=\"3.2\"/>\n",
       "<circle clip-path=\"url(#clip012)\" cx=\"898.096\" cy=\"622.843\" r=\"14.4\" fill=\"#009af9\" fill-rule=\"evenodd\" fill-opacity=\"1\" stroke=\"#000000\" stroke-opacity=\"1\" stroke-width=\"3.2\"/>\n",
       "<circle clip-path=\"url(#clip012)\" cx=\"1594.11\" cy=\"763.598\" r=\"14.4\" fill=\"#009af9\" fill-rule=\"evenodd\" fill-opacity=\"1\" stroke=\"#000000\" stroke-opacity=\"1\" stroke-width=\"3.2\"/>\n",
       "<circle clip-path=\"url(#clip012)\" cx=\"898.096\" cy=\"1004.89\" r=\"14.4\" fill=\"#009af9\" fill-rule=\"evenodd\" fill-opacity=\"1\" stroke=\"#000000\" stroke-opacity=\"1\" stroke-width=\"3.2\"/>\n",
       "<circle clip-path=\"url(#clip012)\" cx=\"1594.11\" cy=\"622.843\" r=\"14.4\" fill=\"#009af9\" fill-rule=\"evenodd\" fill-opacity=\"1\" stroke=\"#000000\" stroke-opacity=\"1\" stroke-width=\"3.2\"/>\n",
       "<circle clip-path=\"url(#clip012)\" cx=\"1594.11\" cy=\"622.843\" r=\"14.4\" fill=\"#009af9\" fill-rule=\"evenodd\" fill-opacity=\"1\" stroke=\"#000000\" stroke-opacity=\"1\" stroke-width=\"3.2\"/>\n",
       "<circle clip-path=\"url(#clip012)\" cx=\"898.096\" cy=\"1204.22\" r=\"14.4\" fill=\"#009af9\" fill-rule=\"evenodd\" fill-opacity=\"1\" stroke=\"#000000\" stroke-opacity=\"1\" stroke-width=\"3.2\"/>\n",
       "<circle clip-path=\"url(#clip012)\" cx=\"202.086\" cy=\"1445.72\" r=\"14.4\" fill=\"#009af9\" fill-rule=\"evenodd\" fill-opacity=\"1\" stroke=\"#000000\" stroke-opacity=\"1\" stroke-width=\"3.2\"/>\n",
       "<circle clip-path=\"url(#clip012)\" cx=\"898.096\" cy=\"1204.22\" r=\"14.4\" fill=\"#009af9\" fill-rule=\"evenodd\" fill-opacity=\"1\" stroke=\"#000000\" stroke-opacity=\"1\" stroke-width=\"3.2\"/>\n",
       "<circle clip-path=\"url(#clip012)\" cx=\"898.096\" cy=\"1109.09\" r=\"14.4\" fill=\"#009af9\" fill-rule=\"evenodd\" fill-opacity=\"1\" stroke=\"#000000\" stroke-opacity=\"1\" stroke-width=\"3.2\"/>\n",
       "<circle clip-path=\"url(#clip012)\" cx=\"1594.11\" cy=\"622.843\" r=\"14.4\" fill=\"#009af9\" fill-rule=\"evenodd\" fill-opacity=\"1\" stroke=\"#000000\" stroke-opacity=\"1\" stroke-width=\"3.2\"/>\n",
       "<circle clip-path=\"url(#clip012)\" cx=\"1594.11\" cy=\"622.843\" r=\"14.4\" fill=\"#009af9\" fill-rule=\"evenodd\" fill-opacity=\"1\" stroke=\"#000000\" stroke-opacity=\"1\" stroke-width=\"3.2\"/>\n",
       "<circle clip-path=\"url(#clip012)\" cx=\"898.096\" cy=\"1109.09\" r=\"14.4\" fill=\"#009af9\" fill-rule=\"evenodd\" fill-opacity=\"1\" stroke=\"#000000\" stroke-opacity=\"1\" stroke-width=\"3.2\"/>\n",
       "<circle clip-path=\"url(#clip012)\" cx=\"898.096\" cy=\"622.843\" r=\"14.4\" fill=\"#009af9\" fill-rule=\"evenodd\" fill-opacity=\"1\" stroke=\"#000000\" stroke-opacity=\"1\" stroke-width=\"3.2\"/>\n",
       "<circle clip-path=\"url(#clip012)\" cx=\"1594.11\" cy=\"622.843\" r=\"14.4\" fill=\"#009af9\" fill-rule=\"evenodd\" fill-opacity=\"1\" stroke=\"#000000\" stroke-opacity=\"1\" stroke-width=\"3.2\"/>\n",
       "<circle clip-path=\"url(#clip012)\" cx=\"1594.11\" cy=\"622.843\" r=\"14.4\" fill=\"#009af9\" fill-rule=\"evenodd\" fill-opacity=\"1\" stroke=\"#000000\" stroke-opacity=\"1\" stroke-width=\"3.2\"/>\n",
       "<circle clip-path=\"url(#clip012)\" cx=\"898.096\" cy=\"1109.09\" r=\"14.4\" fill=\"#009af9\" fill-rule=\"evenodd\" fill-opacity=\"1\" stroke=\"#000000\" stroke-opacity=\"1\" stroke-width=\"3.2\"/>\n",
       "<circle clip-path=\"url(#clip012)\" cx=\"1594.11\" cy=\"622.843\" r=\"14.4\" fill=\"#009af9\" fill-rule=\"evenodd\" fill-opacity=\"1\" stroke=\"#000000\" stroke-opacity=\"1\" stroke-width=\"3.2\"/>\n",
       "<circle clip-path=\"url(#clip012)\" cx=\"1594.11\" cy=\"622.843\" r=\"14.4\" fill=\"#009af9\" fill-rule=\"evenodd\" fill-opacity=\"1\" stroke=\"#000000\" stroke-opacity=\"1\" stroke-width=\"3.2\"/>\n",
       "<circle clip-path=\"url(#clip012)\" cx=\"1594.11\" cy=\"622.843\" r=\"14.4\" fill=\"#009af9\" fill-rule=\"evenodd\" fill-opacity=\"1\" stroke=\"#000000\" stroke-opacity=\"1\" stroke-width=\"3.2\"/>\n",
       "<circle clip-path=\"url(#clip012)\" cx=\"898.096\" cy=\"1004.89\" r=\"14.4\" fill=\"#009af9\" fill-rule=\"evenodd\" fill-opacity=\"1\" stroke=\"#000000\" stroke-opacity=\"1\" stroke-width=\"3.2\"/>\n",
       "<circle clip-path=\"url(#clip012)\" cx=\"202.086\" cy=\"1445.72\" r=\"14.4\" fill=\"#009af9\" fill-rule=\"evenodd\" fill-opacity=\"1\" stroke=\"#000000\" stroke-opacity=\"1\" stroke-width=\"3.2\"/>\n",
       "<circle clip-path=\"url(#clip012)\" cx=\"898.096\" cy=\"1004.89\" r=\"14.4\" fill=\"#009af9\" fill-rule=\"evenodd\" fill-opacity=\"1\" stroke=\"#000000\" stroke-opacity=\"1\" stroke-width=\"3.2\"/>\n",
       "<circle clip-path=\"url(#clip012)\" cx=\"898.096\" cy=\"1109.09\" r=\"14.4\" fill=\"#009af9\" fill-rule=\"evenodd\" fill-opacity=\"1\" stroke=\"#000000\" stroke-opacity=\"1\" stroke-width=\"3.2\"/>\n",
       "<circle clip-path=\"url(#clip012)\" cx=\"1594.11\" cy=\"87.9763\" r=\"14.4\" fill=\"#009af9\" fill-rule=\"evenodd\" fill-opacity=\"1\" stroke=\"#000000\" stroke-opacity=\"1\" stroke-width=\"3.2\"/>\n",
       "<circle clip-path=\"url(#clip012)\" cx=\"1594.11\" cy=\"763.598\" r=\"14.4\" fill=\"#009af9\" fill-rule=\"evenodd\" fill-opacity=\"1\" stroke=\"#000000\" stroke-opacity=\"1\" stroke-width=\"3.2\"/>\n",
       "<circle clip-path=\"url(#clip012)\" cx=\"1594.11\" cy=\"622.843\" r=\"14.4\" fill=\"#009af9\" fill-rule=\"evenodd\" fill-opacity=\"1\" stroke=\"#000000\" stroke-opacity=\"1\" stroke-width=\"3.2\"/>\n",
       "<path clip-path=\"url(#clip010)\" d=\"M213.223 198.898 L486.984 198.898 L486.984 95.2176 L213.223 95.2176  Z\" fill=\"#ffffff\" fill-rule=\"evenodd\" fill-opacity=\"1\"/>\n",
       "<polyline clip-path=\"url(#clip010)\" style=\"stroke:#000000; stroke-linecap:round; stroke-linejoin:round; stroke-width:4; stroke-opacity:1; fill:none\" points=\"213.223,198.898 486.984,198.898 486.984,95.2176 213.223,95.2176 213.223,198.898 \"/>\n",
       "<circle clip-path=\"url(#clip010)\" cx=\"311.592\" cy=\"147.058\" r=\"20.48\" fill=\"#009af9\" fill-rule=\"evenodd\" fill-opacity=\"1\" stroke=\"#000000\" stroke-opacity=\"1\" stroke-width=\"4.55111\"/>\n",
       "<path clip-path=\"url(#clip010)\" d=\"M423.804 166.745 Q421.998 171.375 420.285 172.787 Q418.572 174.199 415.702 174.199 L412.299 174.199 L412.299 170.634 L414.799 170.634 Q416.558 170.634 417.531 169.8 Q418.503 168.967 419.683 165.865 L420.447 163.921 L409.961 138.412 L414.475 138.412 L422.577 158.689 L430.679 138.412 L435.193 138.412 L423.804 166.745 Z\" fill=\"#000000\" fill-rule=\"nonzero\" fill-opacity=\"1\" /><path clip-path=\"url(#clip010)\" d=\"M442.484 160.402 L450.123 160.402 L450.123 134.037 L441.813 135.703 L441.813 131.444 L450.077 129.778 L454.753 129.778 L454.753 160.402 L462.392 160.402 L462.392 164.338 L442.484 164.338 L442.484 160.402 Z\" fill=\"#000000\" fill-rule=\"nonzero\" fill-opacity=\"1\" /></svg>\n"
      ],
      "text/html": [
       "<?xml version=\"1.0\" encoding=\"utf-8\"?>\n",
       "<svg xmlns=\"http://www.w3.org/2000/svg\" xmlns:xlink=\"http://www.w3.org/1999/xlink\" width=\"600\" height=\"400\" viewBox=\"0 0 2400 1600\">\n",
       "<defs>\n",
       "  <clipPath id=\"clip060\">\n",
       "    <rect x=\"0\" y=\"0\" width=\"2400\" height=\"1600\"/>\n",
       "  </clipPath>\n",
       "</defs>\n",
       "<path clip-path=\"url(#clip060)\" d=\"M0 1600 L2400 1600 L2400 0 L0 0  Z\" fill=\"#ffffff\" fill-rule=\"evenodd\" fill-opacity=\"1\"/>\n",
       "<defs>\n",
       "  <clipPath id=\"clip061\">\n",
       "    <rect x=\"480\" y=\"0\" width=\"1681\" height=\"1600\"/>\n",
       "  </clipPath>\n",
       "</defs>\n",
       "<path clip-path=\"url(#clip060)\" d=\"M139.446 1486.45 L2352.76 1486.45 L2352.76 47.2441 L139.446 47.2441  Z\" fill=\"#ffffff\" fill-rule=\"evenodd\" fill-opacity=\"1\"/>\n",
       "<defs>\n",
       "  <clipPath id=\"clip062\">\n",
       "    <rect x=\"139\" y=\"47\" width=\"2214\" height=\"1440\"/>\n",
       "  </clipPath>\n",
       "</defs>\n",
       "<polyline clip-path=\"url(#clip062)\" style=\"stroke:#000000; stroke-linecap:round; stroke-linejoin:round; stroke-width:2; stroke-opacity:0.1; fill:none\" points=\"202.086,1486.45 202.086,47.2441 \"/>\n",
       "<polyline clip-path=\"url(#clip062)\" style=\"stroke:#000000; stroke-linecap:round; stroke-linejoin:round; stroke-width:2; stroke-opacity:0.1; fill:none\" points=\"550.091,1486.45 550.091,47.2441 \"/>\n",
       "<polyline clip-path=\"url(#clip062)\" style=\"stroke:#000000; stroke-linecap:round; stroke-linejoin:round; stroke-width:2; stroke-opacity:0.1; fill:none\" points=\"898.096,1486.45 898.096,47.2441 \"/>\n",
       "<polyline clip-path=\"url(#clip062)\" style=\"stroke:#000000; stroke-linecap:round; stroke-linejoin:round; stroke-width:2; stroke-opacity:0.1; fill:none\" points=\"1246.1,1486.45 1246.1,47.2441 \"/>\n",
       "<polyline clip-path=\"url(#clip062)\" style=\"stroke:#000000; stroke-linecap:round; stroke-linejoin:round; stroke-width:2; stroke-opacity:0.1; fill:none\" points=\"1594.11,1486.45 1594.11,47.2441 \"/>\n",
       "<polyline clip-path=\"url(#clip062)\" style=\"stroke:#000000; stroke-linecap:round; stroke-linejoin:round; stroke-width:2; stroke-opacity:0.1; fill:none\" points=\"1942.11,1486.45 1942.11,47.2441 \"/>\n",
       "<polyline clip-path=\"url(#clip062)\" style=\"stroke:#000000; stroke-linecap:round; stroke-linejoin:round; stroke-width:2; stroke-opacity:0.1; fill:none\" points=\"2290.12,1486.45 2290.12,47.2441 \"/>\n",
       "<polyline clip-path=\"url(#clip062)\" style=\"stroke:#000000; stroke-linecap:round; stroke-linejoin:round; stroke-width:2; stroke-opacity:0.1; fill:none\" points=\"139.446,1455.24 2352.76,1455.24 \"/>\n",
       "<polyline clip-path=\"url(#clip062)\" style=\"stroke:#000000; stroke-linecap:round; stroke-linejoin:round; stroke-width:2; stroke-opacity:0.1; fill:none\" points=\"139.446,1250.58 2352.76,1250.58 \"/>\n",
       "<polyline clip-path=\"url(#clip062)\" style=\"stroke:#000000; stroke-linecap:round; stroke-linejoin:round; stroke-width:2; stroke-opacity:0.1; fill:none\" points=\"139.446,1045.92 2352.76,1045.92 \"/>\n",
       "<polyline clip-path=\"url(#clip062)\" style=\"stroke:#000000; stroke-linecap:round; stroke-linejoin:round; stroke-width:2; stroke-opacity:0.1; fill:none\" points=\"139.446,841.261 2352.76,841.261 \"/>\n",
       "<polyline clip-path=\"url(#clip062)\" style=\"stroke:#000000; stroke-linecap:round; stroke-linejoin:round; stroke-width:2; stroke-opacity:0.1; fill:none\" points=\"139.446,636.601 2352.76,636.601 \"/>\n",
       "<polyline clip-path=\"url(#clip062)\" style=\"stroke:#000000; stroke-linecap:round; stroke-linejoin:round; stroke-width:2; stroke-opacity:0.1; fill:none\" points=\"139.446,431.941 2352.76,431.941 \"/>\n",
       "<polyline clip-path=\"url(#clip062)\" style=\"stroke:#000000; stroke-linecap:round; stroke-linejoin:round; stroke-width:2; stroke-opacity:0.1; fill:none\" points=\"139.446,227.281 2352.76,227.281 \"/>\n",
       "<polyline clip-path=\"url(#clip060)\" style=\"stroke:#000000; stroke-linecap:round; stroke-linejoin:round; stroke-width:4; stroke-opacity:1; fill:none\" points=\"139.446,1486.45 2352.76,1486.45 \"/>\n",
       "<polyline clip-path=\"url(#clip060)\" style=\"stroke:#000000; stroke-linecap:round; stroke-linejoin:round; stroke-width:4; stroke-opacity:1; fill:none\" points=\"202.086,1486.45 202.086,1467.55 \"/>\n",
       "<polyline clip-path=\"url(#clip060)\" style=\"stroke:#000000; stroke-linecap:round; stroke-linejoin:round; stroke-width:4; stroke-opacity:1; fill:none\" points=\"550.091,1486.45 550.091,1467.55 \"/>\n",
       "<polyline clip-path=\"url(#clip060)\" style=\"stroke:#000000; stroke-linecap:round; stroke-linejoin:round; stroke-width:4; stroke-opacity:1; fill:none\" points=\"898.096,1486.45 898.096,1467.55 \"/>\n",
       "<polyline clip-path=\"url(#clip060)\" style=\"stroke:#000000; stroke-linecap:round; stroke-linejoin:round; stroke-width:4; stroke-opacity:1; fill:none\" points=\"1246.1,1486.45 1246.1,1467.55 \"/>\n",
       "<polyline clip-path=\"url(#clip060)\" style=\"stroke:#000000; stroke-linecap:round; stroke-linejoin:round; stroke-width:4; stroke-opacity:1; fill:none\" points=\"1594.11,1486.45 1594.11,1467.55 \"/>\n",
       "<polyline clip-path=\"url(#clip060)\" style=\"stroke:#000000; stroke-linecap:round; stroke-linejoin:round; stroke-width:4; stroke-opacity:1; fill:none\" points=\"1942.11,1486.45 1942.11,1467.55 \"/>\n",
       "<polyline clip-path=\"url(#clip060)\" style=\"stroke:#000000; stroke-linecap:round; stroke-linejoin:round; stroke-width:4; stroke-opacity:1; fill:none\" points=\"2290.12,1486.45 2290.12,1467.55 \"/>\n",
       "<path clip-path=\"url(#clip060)\" d=\"M205.096 1518.36 L193.29 1536.81 L205.096 1536.81 L205.096 1518.36 M203.869 1514.29 L209.748 1514.29 L209.748 1536.81 L214.679 1536.81 L214.679 1540.7 L209.748 1540.7 L209.748 1548.85 L205.096 1548.85 L205.096 1540.7 L189.494 1540.7 L189.494 1536.19 L203.869 1514.29 Z\" fill=\"#000000\" fill-rule=\"nonzero\" fill-opacity=\"1\" /><path clip-path=\"url(#clip060)\" d=\"M540.369 1514.29 L558.725 1514.29 L558.725 1518.22 L544.651 1518.22 L544.651 1526.7 Q545.67 1526.35 546.688 1526.19 Q547.707 1526 548.725 1526 Q554.512 1526 557.892 1529.17 Q561.272 1532.34 561.272 1537.76 Q561.272 1543.34 557.799 1546.44 Q554.327 1549.52 548.008 1549.52 Q545.832 1549.52 543.563 1549.15 Q541.318 1548.78 538.911 1548.04 L538.911 1543.34 Q540.994 1544.47 543.216 1545.03 Q545.438 1545.58 547.915 1545.58 Q551.92 1545.58 554.258 1543.48 Q556.596 1541.37 556.596 1537.76 Q556.596 1534.15 554.258 1532.04 Q551.92 1529.94 547.915 1529.94 Q546.04 1529.94 544.165 1530.35 Q542.313 1530.77 540.369 1531.65 L540.369 1514.29 Z\" fill=\"#000000\" fill-rule=\"nonzero\" fill-opacity=\"1\" /><path clip-path=\"url(#clip060)\" d=\"M898.501 1529.7 Q895.353 1529.7 893.501 1531.86 Q891.672 1534.01 891.672 1537.76 Q891.672 1541.49 893.501 1543.66 Q895.353 1545.82 898.501 1545.82 Q901.649 1545.82 903.478 1543.66 Q905.33 1541.49 905.33 1537.76 Q905.33 1534.01 903.478 1531.86 Q901.649 1529.7 898.501 1529.7 M907.783 1515.05 L907.783 1519.31 Q906.024 1518.48 904.219 1518.04 Q902.436 1517.6 900.677 1517.6 Q896.047 1517.6 893.594 1520.72 Q891.163 1523.85 890.816 1530.17 Q892.182 1528.15 894.242 1527.09 Q896.302 1526 898.779 1526 Q903.987 1526 906.996 1529.17 Q910.029 1532.32 910.029 1537.76 Q910.029 1543.08 906.881 1546.3 Q903.732 1549.52 898.501 1549.52 Q892.506 1549.52 889.334 1544.94 Q886.163 1540.33 886.163 1531.6 Q886.163 1523.41 890.052 1518.55 Q893.941 1513.66 900.492 1513.66 Q902.251 1513.66 904.033 1514.01 Q905.839 1514.36 907.783 1515.05 Z\" fill=\"#000000\" fill-rule=\"nonzero\" fill-opacity=\"1\" /><path clip-path=\"url(#clip060)\" d=\"M1234.99 1514.29 L1257.21 1514.29 L1257.21 1516.28 L1244.67 1548.85 L1239.78 1548.85 L1251.59 1518.22 L1234.99 1518.22 L1234.99 1514.29 Z\" fill=\"#000000\" fill-rule=\"nonzero\" fill-opacity=\"1\" /><path clip-path=\"url(#clip060)\" d=\"M1594.11 1532.44 Q1590.77 1532.44 1588.85 1534.22 Q1586.95 1536 1586.95 1539.13 Q1586.95 1542.25 1588.85 1544.03 Q1590.77 1545.82 1594.11 1545.82 Q1597.44 1545.82 1599.36 1544.03 Q1601.28 1542.23 1601.28 1539.13 Q1601.28 1536 1599.36 1534.22 Q1597.46 1532.44 1594.11 1532.44 M1589.43 1530.45 Q1586.42 1529.7 1584.73 1527.64 Q1583.06 1525.58 1583.06 1522.62 Q1583.06 1518.48 1586 1516.07 Q1588.97 1513.66 1594.11 1513.66 Q1599.27 1513.66 1602.21 1516.07 Q1605.15 1518.48 1605.15 1522.62 Q1605.15 1525.58 1603.46 1527.64 Q1601.79 1529.7 1598.8 1530.45 Q1602.18 1531.23 1604.06 1533.52 Q1605.96 1535.82 1605.96 1539.13 Q1605.96 1544.15 1602.88 1546.83 Q1599.82 1549.52 1594.11 1549.52 Q1588.39 1549.52 1585.31 1546.83 Q1582.25 1544.15 1582.25 1539.13 Q1582.25 1535.82 1584.15 1533.52 Q1586.05 1531.23 1589.43 1530.45 M1587.72 1523.06 Q1587.72 1525.75 1589.38 1527.25 Q1591.07 1528.76 1594.11 1528.76 Q1597.11 1528.76 1598.8 1527.25 Q1600.52 1525.75 1600.52 1523.06 Q1600.52 1520.38 1598.8 1518.87 Q1597.11 1517.37 1594.11 1517.37 Q1591.07 1517.37 1589.38 1518.87 Q1587.72 1520.38 1587.72 1523.06 Z\" fill=\"#000000\" fill-rule=\"nonzero\" fill-opacity=\"1\" /><path clip-path=\"url(#clip060)\" d=\"M1932.41 1548.13 L1932.41 1543.87 Q1934.17 1544.7 1935.98 1545.14 Q1937.78 1545.58 1939.52 1545.58 Q1944.15 1545.58 1946.58 1542.48 Q1949.03 1539.36 1949.38 1533.01 Q1948.04 1535.01 1945.98 1536.07 Q1943.92 1537.13 1941.42 1537.13 Q1936.23 1537.13 1933.2 1534.01 Q1930.19 1530.86 1930.19 1525.42 Q1930.19 1520.1 1933.34 1516.88 Q1936.49 1513.66 1941.72 1513.66 Q1947.71 1513.66 1950.86 1518.27 Q1954.03 1522.85 1954.03 1531.6 Q1954.03 1539.77 1950.14 1544.66 Q1946.28 1549.52 1939.73 1549.52 Q1937.97 1549.52 1936.16 1549.17 Q1934.36 1548.82 1932.41 1548.13 M1941.72 1533.48 Q1944.86 1533.48 1946.69 1531.32 Q1948.55 1529.17 1948.55 1525.42 Q1948.55 1521.7 1946.69 1519.54 Q1944.86 1517.37 1941.72 1517.37 Q1938.57 1517.37 1936.72 1519.54 Q1934.89 1521.7 1934.89 1525.42 Q1934.89 1529.17 1936.72 1531.32 Q1938.57 1533.48 1941.72 1533.48 Z\" fill=\"#000000\" fill-rule=\"nonzero\" fill-opacity=\"1\" /><path clip-path=\"url(#clip060)\" d=\"M2264.8 1544.91 L2272.44 1544.91 L2272.44 1518.55 L2264.13 1520.21 L2264.13 1515.95 L2272.4 1514.29 L2277.07 1514.29 L2277.07 1544.91 L2284.71 1544.91 L2284.71 1548.85 L2264.8 1548.85 L2264.8 1544.91 Z\" fill=\"#000000\" fill-rule=\"nonzero\" fill-opacity=\"1\" /><path clip-path=\"url(#clip060)\" d=\"M2304.15 1517.37 Q2300.54 1517.37 2298.71 1520.93 Q2296.91 1524.47 2296.91 1531.6 Q2296.91 1538.71 2298.71 1542.27 Q2300.54 1545.82 2304.15 1545.82 Q2307.79 1545.82 2309.59 1542.27 Q2311.42 1538.71 2311.42 1531.6 Q2311.42 1524.47 2309.59 1520.93 Q2307.79 1517.37 2304.15 1517.37 M2304.15 1513.66 Q2309.96 1513.66 2313.02 1518.27 Q2316.1 1522.85 2316.1 1531.6 Q2316.1 1540.33 2313.02 1544.94 Q2309.96 1549.52 2304.15 1549.52 Q2298.34 1549.52 2295.27 1544.94 Q2292.21 1540.33 2292.21 1531.6 Q2292.21 1522.85 2295.27 1518.27 Q2298.34 1513.66 2304.15 1513.66 Z\" fill=\"#000000\" fill-rule=\"nonzero\" fill-opacity=\"1\" /><polyline clip-path=\"url(#clip060)\" style=\"stroke:#000000; stroke-linecap:round; stroke-linejoin:round; stroke-width:4; stroke-opacity:1; fill:none\" points=\"139.446,1486.45 139.446,47.2441 \"/>\n",
       "<polyline clip-path=\"url(#clip060)\" style=\"stroke:#000000; stroke-linecap:round; stroke-linejoin:round; stroke-width:4; stroke-opacity:1; fill:none\" points=\"139.446,1455.24 158.343,1455.24 \"/>\n",
       "<polyline clip-path=\"url(#clip060)\" style=\"stroke:#000000; stroke-linecap:round; stroke-linejoin:round; stroke-width:4; stroke-opacity:1; fill:none\" points=\"139.446,1250.58 158.343,1250.58 \"/>\n",
       "<polyline clip-path=\"url(#clip060)\" style=\"stroke:#000000; stroke-linecap:round; stroke-linejoin:round; stroke-width:4; stroke-opacity:1; fill:none\" points=\"139.446,1045.92 158.343,1045.92 \"/>\n",
       "<polyline clip-path=\"url(#clip060)\" style=\"stroke:#000000; stroke-linecap:round; stroke-linejoin:round; stroke-width:4; stroke-opacity:1; fill:none\" points=\"139.446,841.261 158.343,841.261 \"/>\n",
       "<polyline clip-path=\"url(#clip060)\" style=\"stroke:#000000; stroke-linecap:round; stroke-linejoin:round; stroke-width:4; stroke-opacity:1; fill:none\" points=\"139.446,636.601 158.343,636.601 \"/>\n",
       "<polyline clip-path=\"url(#clip060)\" style=\"stroke:#000000; stroke-linecap:round; stroke-linejoin:round; stroke-width:4; stroke-opacity:1; fill:none\" points=\"139.446,431.941 158.343,431.941 \"/>\n",
       "<polyline clip-path=\"url(#clip060)\" style=\"stroke:#000000; stroke-linecap:round; stroke-linejoin:round; stroke-width:4; stroke-opacity:1; fill:none\" points=\"139.446,227.281 158.343,227.281 \"/>\n",
       "<path clip-path=\"url(#clip060)\" d=\"M81.8253 1471.8 L81.8253 1467.54 Q83.5845 1468.38 85.3901 1468.82 Q87.1956 1469.26 88.9317 1469.26 Q93.5613 1469.26 95.9919 1466.15 Q98.4456 1463.03 98.7928 1456.69 Q97.4502 1458.68 95.39 1459.74 Q93.3299 1460.81 90.8299 1460.81 Q85.6447 1460.81 82.6123 1457.68 Q79.6031 1454.53 79.6031 1449.09 Q79.6031 1443.77 82.7512 1440.55 Q85.8993 1437.34 91.1308 1437.34 Q97.1261 1437.34 100.274 1441.94 Q103.446 1446.53 103.446 1455.27 Q103.446 1463.45 99.5567 1468.33 Q95.691 1473.19 89.1401 1473.19 Q87.3808 1473.19 85.5753 1472.84 Q83.7697 1472.5 81.8253 1471.8 M91.1308 1457.15 Q94.2789 1457.15 96.1076 1455 Q97.9595 1452.84 97.9595 1449.09 Q97.9595 1445.37 96.1076 1443.21 Q94.2789 1441.04 91.1308 1441.04 Q87.9827 1441.04 86.1308 1443.21 Q84.3021 1445.37 84.3021 1449.09 Q84.3021 1452.84 86.1308 1455 Q87.9827 1457.15 91.1308 1457.15 Z\" fill=\"#000000\" fill-rule=\"nonzero\" fill-opacity=\"1\" /><path clip-path=\"url(#clip060)\" d=\"M52.1495 1263.93 L59.7884 1263.93 L59.7884 1237.56 L51.4782 1239.23 L51.4782 1234.97 L59.7421 1233.3 L64.418 1233.3 L64.418 1263.93 L72.0568 1263.93 L72.0568 1267.86 L52.1495 1267.86 L52.1495 1263.93 Z\" fill=\"#000000\" fill-rule=\"nonzero\" fill-opacity=\"1\" /><path clip-path=\"url(#clip060)\" d=\"M91.5012 1236.38 Q87.8901 1236.38 86.0614 1239.94 Q84.2558 1243.49 84.2558 1250.62 Q84.2558 1257.72 86.0614 1261.29 Q87.8901 1264.83 91.5012 1264.83 Q95.1354 1264.83 96.941 1261.29 Q98.7696 1257.72 98.7696 1250.62 Q98.7696 1243.49 96.941 1239.94 Q95.1354 1236.38 91.5012 1236.38 M91.5012 1232.68 Q97.3113 1232.68 100.367 1237.28 Q103.446 1241.87 103.446 1250.62 Q103.446 1259.34 100.367 1263.95 Q97.3113 1268.53 91.5012 1268.53 Q85.691 1268.53 82.6123 1263.95 Q79.5568 1259.34 79.5568 1250.62 Q79.5568 1241.87 82.6123 1237.28 Q85.691 1232.68 91.5012 1232.68 Z\" fill=\"#000000\" fill-rule=\"nonzero\" fill-opacity=\"1\" /><path clip-path=\"url(#clip060)\" d=\"M53.3764 1059.27 L61.0152 1059.27 L61.0152 1032.9 L52.7051 1034.57 L52.7051 1030.31 L60.9689 1028.64 L65.6448 1028.64 L65.6448 1059.27 L73.2837 1059.27 L73.2837 1063.2 L53.3764 1063.2 L53.3764 1059.27 Z\" fill=\"#000000\" fill-rule=\"nonzero\" fill-opacity=\"1\" /><path clip-path=\"url(#clip060)\" d=\"M83.5382 1059.27 L91.1771 1059.27 L91.1771 1032.9 L82.867 1034.57 L82.867 1030.31 L91.1308 1028.64 L95.8067 1028.64 L95.8067 1059.27 L103.446 1059.27 L103.446 1063.2 L83.5382 1063.2 L83.5382 1059.27 Z\" fill=\"#000000\" fill-rule=\"nonzero\" fill-opacity=\"1\" /><path clip-path=\"url(#clip060)\" d=\"M53.7467 854.606 L61.3856 854.606 L61.3856 828.24 L53.0754 829.907 L53.0754 825.647 L61.3393 823.981 L66.0152 823.981 L66.0152 854.606 L73.654 854.606 L73.654 858.541 L53.7467 858.541 L53.7467 854.606 Z\" fill=\"#000000\" fill-rule=\"nonzero\" fill-opacity=\"1\" /><path clip-path=\"url(#clip060)\" d=\"M87.1262 854.606 L103.446 854.606 L103.446 858.541 L81.5012 858.541 L81.5012 854.606 Q84.1632 851.851 88.7466 847.221 Q93.353 842.569 94.5336 841.226 Q96.7789 838.703 97.6585 836.967 Q98.5613 835.208 98.5613 833.518 Q98.5613 830.763 96.6169 829.027 Q94.6956 827.291 91.5938 827.291 Q89.3947 827.291 86.941 828.055 Q84.5105 828.819 81.7327 830.37 L81.7327 825.647 Q84.5568 824.513 87.0105 823.935 Q89.4641 823.356 91.5012 823.356 Q96.8715 823.356 100.066 826.041 Q103.26 828.726 103.26 833.217 Q103.26 835.346 102.45 837.268 Q101.663 839.166 99.5567 841.758 Q98.978 842.43 95.8761 845.647 Q92.7743 848.842 87.1262 854.606 Z\" fill=\"#000000\" fill-rule=\"nonzero\" fill-opacity=\"1\" /><path clip-path=\"url(#clip060)\" d=\"M52.7977 649.946 L60.4365 649.946 L60.4365 623.58 L52.1264 625.247 L52.1264 620.988 L60.3902 619.321 L65.0661 619.321 L65.0661 649.946 L72.705 649.946 L72.705 653.881 L52.7977 653.881 L52.7977 649.946 Z\" fill=\"#000000\" fill-rule=\"nonzero\" fill-opacity=\"1\" /><path clip-path=\"url(#clip060)\" d=\"M96.316 635.247 Q99.6724 635.964 101.547 638.233 Q103.446 640.501 103.446 643.835 Q103.446 648.95 99.927 651.751 Q96.4085 654.552 89.9271 654.552 Q87.7512 654.552 85.4364 654.112 Q83.1447 653.696 80.691 652.839 L80.691 648.325 Q82.6355 649.46 84.9503 650.038 Q87.2651 650.617 89.7882 650.617 Q94.1863 650.617 96.478 648.881 Q98.7928 647.145 98.7928 643.835 Q98.7928 640.779 96.64 639.066 Q94.5104 637.33 90.691 637.33 L86.6632 637.33 L86.6632 633.488 L90.8762 633.488 Q94.3252 633.488 96.1539 632.122 Q97.9826 630.733 97.9826 628.14 Q97.9826 625.478 96.0845 624.066 Q94.2095 622.631 90.691 622.631 Q88.7697 622.631 86.5706 623.048 Q84.3716 623.465 81.7327 624.344 L81.7327 620.177 Q84.3947 619.437 86.7095 619.066 Q89.0475 618.696 91.1077 618.696 Q96.4317 618.696 99.5335 621.127 Q102.635 623.534 102.635 627.654 Q102.635 630.525 100.992 632.515 Q99.3483 634.483 96.316 635.247 Z\" fill=\"#000000\" fill-rule=\"nonzero\" fill-opacity=\"1\" /><path clip-path=\"url(#clip060)\" d=\"M51.6634 445.286 L59.3023 445.286 L59.3023 418.92 L50.9921 420.587 L50.9921 416.328 L59.256 414.661 L63.9319 414.661 L63.9319 445.286 L71.5707 445.286 L71.5707 449.221 L51.6634 449.221 L51.6634 445.286 Z\" fill=\"#000000\" fill-rule=\"nonzero\" fill-opacity=\"1\" /><path clip-path=\"url(#clip060)\" d=\"M93.8623 418.735 L82.0568 437.184 L93.8623 437.184 L93.8623 418.735 M92.6354 414.661 L98.515 414.661 L98.515 437.184 L103.446 437.184 L103.446 441.073 L98.515 441.073 L98.515 449.221 L93.8623 449.221 L93.8623 441.073 L78.2605 441.073 L78.2605 436.559 L92.6354 414.661 Z\" fill=\"#000000\" fill-rule=\"nonzero\" fill-opacity=\"1\" /><path clip-path=\"url(#clip060)\" d=\"M53.1449 240.626 L60.7837 240.626 L60.7837 214.261 L52.4736 215.927 L52.4736 211.668 L60.7374 210.001 L65.4133 210.001 L65.4133 240.626 L73.0522 240.626 L73.0522 244.561 L53.1449 244.561 L53.1449 240.626 Z\" fill=\"#000000\" fill-rule=\"nonzero\" fill-opacity=\"1\" /><path clip-path=\"url(#clip060)\" d=\"M82.5429 210.001 L100.899 210.001 L100.899 213.937 L86.8253 213.937 L86.8253 222.409 Q87.8438 222.062 88.8623 221.899 Q89.8808 221.714 90.8993 221.714 Q96.6863 221.714 100.066 224.886 Q103.446 228.057 103.446 233.473 Q103.446 239.052 99.9733 242.154 Q96.5011 245.233 90.1817 245.233 Q88.0058 245.233 85.7373 244.862 Q83.492 244.492 81.0846 243.751 L81.0846 239.052 Q83.1679 240.186 85.3901 240.742 Q87.6123 241.298 90.0891 241.298 Q94.0937 241.298 96.4317 239.191 Q98.7696 237.085 98.7696 233.473 Q98.7696 229.862 96.4317 227.756 Q94.0937 225.649 90.0891 225.649 Q88.2141 225.649 86.3392 226.066 Q84.4873 226.483 82.5429 227.362 L82.5429 210.001 Z\" fill=\"#000000\" fill-rule=\"nonzero\" fill-opacity=\"1\" /><circle clip-path=\"url(#clip062)\" cx=\"1594.11\" cy=\"622.843\" r=\"14.4\" fill=\"#009af9\" fill-rule=\"evenodd\" fill-opacity=\"1\" stroke=\"#000000\" stroke-opacity=\"1\" stroke-width=\"3.2\"/>\n",
       "<circle clip-path=\"url(#clip062)\" cx=\"898.096\" cy=\"1109.09\" r=\"14.4\" fill=\"#009af9\" fill-rule=\"evenodd\" fill-opacity=\"1\" stroke=\"#000000\" stroke-opacity=\"1\" stroke-width=\"3.2\"/>\n",
       "<circle clip-path=\"url(#clip062)\" cx=\"898.096\" cy=\"1004.89\" r=\"14.4\" fill=\"#009af9\" fill-rule=\"evenodd\" fill-opacity=\"1\" stroke=\"#000000\" stroke-opacity=\"1\" stroke-width=\"3.2\"/>\n",
       "<circle clip-path=\"url(#clip062)\" cx=\"898.096\" cy=\"1109.09\" r=\"14.4\" fill=\"#009af9\" fill-rule=\"evenodd\" fill-opacity=\"1\" stroke=\"#000000\" stroke-opacity=\"1\" stroke-width=\"3.2\"/>\n",
       "<circle clip-path=\"url(#clip062)\" cx=\"898.096\" cy=\"1204.22\" r=\"14.4\" fill=\"#009af9\" fill-rule=\"evenodd\" fill-opacity=\"1\" stroke=\"#000000\" stroke-opacity=\"1\" stroke-width=\"3.2\"/>\n",
       "<circle clip-path=\"url(#clip062)\" cx=\"1594.11\" cy=\"465.529\" r=\"14.4\" fill=\"#009af9\" fill-rule=\"evenodd\" fill-opacity=\"1\" stroke=\"#000000\" stroke-opacity=\"1\" stroke-width=\"3.2\"/>\n",
       "<circle clip-path=\"url(#clip062)\" cx=\"2290.12\" cy=\"288.551\" r=\"14.4\" fill=\"#009af9\" fill-rule=\"evenodd\" fill-opacity=\"1\" stroke=\"#000000\" stroke-opacity=\"1\" stroke-width=\"3.2\"/>\n",
       "<circle clip-path=\"url(#clip062)\" cx=\"202.086\" cy=\"1445.72\" r=\"14.4\" fill=\"#009af9\" fill-rule=\"evenodd\" fill-opacity=\"1\" stroke=\"#000000\" stroke-opacity=\"1\" stroke-width=\"3.2\"/>\n",
       "<circle clip-path=\"url(#clip062)\" cx=\"1594.11\" cy=\"622.843\" r=\"14.4\" fill=\"#009af9\" fill-rule=\"evenodd\" fill-opacity=\"1\" stroke=\"#000000\" stroke-opacity=\"1\" stroke-width=\"3.2\"/>\n",
       "<circle clip-path=\"url(#clip062)\" cx=\"898.096\" cy=\"763.598\" r=\"14.4\" fill=\"#009af9\" fill-rule=\"evenodd\" fill-opacity=\"1\" stroke=\"#000000\" stroke-opacity=\"1\" stroke-width=\"3.2\"/>\n",
       "<circle clip-path=\"url(#clip062)\" cx=\"1594.11\" cy=\"763.598\" r=\"14.4\" fill=\"#009af9\" fill-rule=\"evenodd\" fill-opacity=\"1\" stroke=\"#000000\" stroke-opacity=\"1\" stroke-width=\"3.2\"/>\n",
       "<circle clip-path=\"url(#clip062)\" cx=\"1594.11\" cy=\"763.598\" r=\"14.4\" fill=\"#009af9\" fill-rule=\"evenodd\" fill-opacity=\"1\" stroke=\"#000000\" stroke-opacity=\"1\" stroke-width=\"3.2\"/>\n",
       "<circle clip-path=\"url(#clip062)\" cx=\"1594.11\" cy=\"622.843\" r=\"14.4\" fill=\"#009af9\" fill-rule=\"evenodd\" fill-opacity=\"1\" stroke=\"#000000\" stroke-opacity=\"1\" stroke-width=\"3.2\"/>\n",
       "<circle clip-path=\"url(#clip062)\" cx=\"1594.11\" cy=\"465.529\" r=\"14.4\" fill=\"#009af9\" fill-rule=\"evenodd\" fill-opacity=\"1\" stroke=\"#000000\" stroke-opacity=\"1\" stroke-width=\"3.2\"/>\n",
       "<circle clip-path=\"url(#clip062)\" cx=\"898.096\" cy=\"1109.09\" r=\"14.4\" fill=\"#009af9\" fill-rule=\"evenodd\" fill-opacity=\"1\" stroke=\"#000000\" stroke-opacity=\"1\" stroke-width=\"3.2\"/>\n",
       "<circle clip-path=\"url(#clip062)\" cx=\"2290.12\" cy=\"288.551\" r=\"14.4\" fill=\"#009af9\" fill-rule=\"evenodd\" fill-opacity=\"1\" stroke=\"#000000\" stroke-opacity=\"1\" stroke-width=\"3.2\"/>\n",
       "<circle clip-path=\"url(#clip062)\" cx=\"898.096\" cy=\"1004.89\" r=\"14.4\" fill=\"#009af9\" fill-rule=\"evenodd\" fill-opacity=\"1\" stroke=\"#000000\" stroke-opacity=\"1\" stroke-width=\"3.2\"/>\n",
       "<circle clip-path=\"url(#clip062)\" cx=\"1594.11\" cy=\"465.529\" r=\"14.4\" fill=\"#009af9\" fill-rule=\"evenodd\" fill-opacity=\"1\" stroke=\"#000000\" stroke-opacity=\"1\" stroke-width=\"3.2\"/>\n",
       "<circle clip-path=\"url(#clip062)\" cx=\"2290.12\" cy=\"465.529\" r=\"14.4\" fill=\"#009af9\" fill-rule=\"evenodd\" fill-opacity=\"1\" stroke=\"#000000\" stroke-opacity=\"1\" stroke-width=\"3.2\"/>\n",
       "<circle clip-path=\"url(#clip062)\" cx=\"1594.11\" cy=\"622.843\" r=\"14.4\" fill=\"#009af9\" fill-rule=\"evenodd\" fill-opacity=\"1\" stroke=\"#000000\" stroke-opacity=\"1\" stroke-width=\"3.2\"/>\n",
       "<circle clip-path=\"url(#clip062)\" cx=\"898.096\" cy=\"1004.89\" r=\"14.4\" fill=\"#009af9\" fill-rule=\"evenodd\" fill-opacity=\"1\" stroke=\"#000000\" stroke-opacity=\"1\" stroke-width=\"3.2\"/>\n",
       "<circle clip-path=\"url(#clip062)\" cx=\"898.096\" cy=\"1204.22\" r=\"14.4\" fill=\"#009af9\" fill-rule=\"evenodd\" fill-opacity=\"1\" stroke=\"#000000\" stroke-opacity=\"1\" stroke-width=\"3.2\"/>\n",
       "<circle clip-path=\"url(#clip062)\" cx=\"1594.11\" cy=\"622.843\" r=\"14.4\" fill=\"#009af9\" fill-rule=\"evenodd\" fill-opacity=\"1\" stroke=\"#000000\" stroke-opacity=\"1\" stroke-width=\"3.2\"/>\n",
       "<circle clip-path=\"url(#clip062)\" cx=\"898.096\" cy=\"622.843\" r=\"14.4\" fill=\"#009af9\" fill-rule=\"evenodd\" fill-opacity=\"1\" stroke=\"#000000\" stroke-opacity=\"1\" stroke-width=\"3.2\"/>\n",
       "<circle clip-path=\"url(#clip062)\" cx=\"1594.11\" cy=\"763.598\" r=\"14.4\" fill=\"#009af9\" fill-rule=\"evenodd\" fill-opacity=\"1\" stroke=\"#000000\" stroke-opacity=\"1\" stroke-width=\"3.2\"/>\n",
       "<circle clip-path=\"url(#clip062)\" cx=\"898.096\" cy=\"1004.89\" r=\"14.4\" fill=\"#009af9\" fill-rule=\"evenodd\" fill-opacity=\"1\" stroke=\"#000000\" stroke-opacity=\"1\" stroke-width=\"3.2\"/>\n",
       "<circle clip-path=\"url(#clip062)\" cx=\"1594.11\" cy=\"622.843\" r=\"14.4\" fill=\"#009af9\" fill-rule=\"evenodd\" fill-opacity=\"1\" stroke=\"#000000\" stroke-opacity=\"1\" stroke-width=\"3.2\"/>\n",
       "<circle clip-path=\"url(#clip062)\" cx=\"1594.11\" cy=\"622.843\" r=\"14.4\" fill=\"#009af9\" fill-rule=\"evenodd\" fill-opacity=\"1\" stroke=\"#000000\" stroke-opacity=\"1\" stroke-width=\"3.2\"/>\n",
       "<circle clip-path=\"url(#clip062)\" cx=\"898.096\" cy=\"1204.22\" r=\"14.4\" fill=\"#009af9\" fill-rule=\"evenodd\" fill-opacity=\"1\" stroke=\"#000000\" stroke-opacity=\"1\" stroke-width=\"3.2\"/>\n",
       "<circle clip-path=\"url(#clip062)\" cx=\"202.086\" cy=\"1445.72\" r=\"14.4\" fill=\"#009af9\" fill-rule=\"evenodd\" fill-opacity=\"1\" stroke=\"#000000\" stroke-opacity=\"1\" stroke-width=\"3.2\"/>\n",
       "<circle clip-path=\"url(#clip062)\" cx=\"898.096\" cy=\"1204.22\" r=\"14.4\" fill=\"#009af9\" fill-rule=\"evenodd\" fill-opacity=\"1\" stroke=\"#000000\" stroke-opacity=\"1\" stroke-width=\"3.2\"/>\n",
       "<circle clip-path=\"url(#clip062)\" cx=\"898.096\" cy=\"1109.09\" r=\"14.4\" fill=\"#009af9\" fill-rule=\"evenodd\" fill-opacity=\"1\" stroke=\"#000000\" stroke-opacity=\"1\" stroke-width=\"3.2\"/>\n",
       "<circle clip-path=\"url(#clip062)\" cx=\"1594.11\" cy=\"622.843\" r=\"14.4\" fill=\"#009af9\" fill-rule=\"evenodd\" fill-opacity=\"1\" stroke=\"#000000\" stroke-opacity=\"1\" stroke-width=\"3.2\"/>\n",
       "<circle clip-path=\"url(#clip062)\" cx=\"1594.11\" cy=\"622.843\" r=\"14.4\" fill=\"#009af9\" fill-rule=\"evenodd\" fill-opacity=\"1\" stroke=\"#000000\" stroke-opacity=\"1\" stroke-width=\"3.2\"/>\n",
       "<circle clip-path=\"url(#clip062)\" cx=\"898.096\" cy=\"1109.09\" r=\"14.4\" fill=\"#009af9\" fill-rule=\"evenodd\" fill-opacity=\"1\" stroke=\"#000000\" stroke-opacity=\"1\" stroke-width=\"3.2\"/>\n",
       "<circle clip-path=\"url(#clip062)\" cx=\"898.096\" cy=\"622.843\" r=\"14.4\" fill=\"#009af9\" fill-rule=\"evenodd\" fill-opacity=\"1\" stroke=\"#000000\" stroke-opacity=\"1\" stroke-width=\"3.2\"/>\n",
       "<circle clip-path=\"url(#clip062)\" cx=\"1594.11\" cy=\"622.843\" r=\"14.4\" fill=\"#009af9\" fill-rule=\"evenodd\" fill-opacity=\"1\" stroke=\"#000000\" stroke-opacity=\"1\" stroke-width=\"3.2\"/>\n",
       "<circle clip-path=\"url(#clip062)\" cx=\"1594.11\" cy=\"622.843\" r=\"14.4\" fill=\"#009af9\" fill-rule=\"evenodd\" fill-opacity=\"1\" stroke=\"#000000\" stroke-opacity=\"1\" stroke-width=\"3.2\"/>\n",
       "<circle clip-path=\"url(#clip062)\" cx=\"898.096\" cy=\"1109.09\" r=\"14.4\" fill=\"#009af9\" fill-rule=\"evenodd\" fill-opacity=\"1\" stroke=\"#000000\" stroke-opacity=\"1\" stroke-width=\"3.2\"/>\n",
       "<circle clip-path=\"url(#clip062)\" cx=\"1594.11\" cy=\"622.843\" r=\"14.4\" fill=\"#009af9\" fill-rule=\"evenodd\" fill-opacity=\"1\" stroke=\"#000000\" stroke-opacity=\"1\" stroke-width=\"3.2\"/>\n",
       "<circle clip-path=\"url(#clip062)\" cx=\"1594.11\" cy=\"622.843\" r=\"14.4\" fill=\"#009af9\" fill-rule=\"evenodd\" fill-opacity=\"1\" stroke=\"#000000\" stroke-opacity=\"1\" stroke-width=\"3.2\"/>\n",
       "<circle clip-path=\"url(#clip062)\" cx=\"1594.11\" cy=\"622.843\" r=\"14.4\" fill=\"#009af9\" fill-rule=\"evenodd\" fill-opacity=\"1\" stroke=\"#000000\" stroke-opacity=\"1\" stroke-width=\"3.2\"/>\n",
       "<circle clip-path=\"url(#clip062)\" cx=\"898.096\" cy=\"1004.89\" r=\"14.4\" fill=\"#009af9\" fill-rule=\"evenodd\" fill-opacity=\"1\" stroke=\"#000000\" stroke-opacity=\"1\" stroke-width=\"3.2\"/>\n",
       "<circle clip-path=\"url(#clip062)\" cx=\"202.086\" cy=\"1445.72\" r=\"14.4\" fill=\"#009af9\" fill-rule=\"evenodd\" fill-opacity=\"1\" stroke=\"#000000\" stroke-opacity=\"1\" stroke-width=\"3.2\"/>\n",
       "<circle clip-path=\"url(#clip062)\" cx=\"898.096\" cy=\"1004.89\" r=\"14.4\" fill=\"#009af9\" fill-rule=\"evenodd\" fill-opacity=\"1\" stroke=\"#000000\" stroke-opacity=\"1\" stroke-width=\"3.2\"/>\n",
       "<circle clip-path=\"url(#clip062)\" cx=\"898.096\" cy=\"1109.09\" r=\"14.4\" fill=\"#009af9\" fill-rule=\"evenodd\" fill-opacity=\"1\" stroke=\"#000000\" stroke-opacity=\"1\" stroke-width=\"3.2\"/>\n",
       "<circle clip-path=\"url(#clip062)\" cx=\"1594.11\" cy=\"87.9763\" r=\"14.4\" fill=\"#009af9\" fill-rule=\"evenodd\" fill-opacity=\"1\" stroke=\"#000000\" stroke-opacity=\"1\" stroke-width=\"3.2\"/>\n",
       "<circle clip-path=\"url(#clip062)\" cx=\"1594.11\" cy=\"763.598\" r=\"14.4\" fill=\"#009af9\" fill-rule=\"evenodd\" fill-opacity=\"1\" stroke=\"#000000\" stroke-opacity=\"1\" stroke-width=\"3.2\"/>\n",
       "<circle clip-path=\"url(#clip062)\" cx=\"1594.11\" cy=\"622.843\" r=\"14.4\" fill=\"#009af9\" fill-rule=\"evenodd\" fill-opacity=\"1\" stroke=\"#000000\" stroke-opacity=\"1\" stroke-width=\"3.2\"/>\n",
       "<path clip-path=\"url(#clip060)\" d=\"M213.223 198.898 L486.984 198.898 L486.984 95.2176 L213.223 95.2176  Z\" fill=\"#ffffff\" fill-rule=\"evenodd\" fill-opacity=\"1\"/>\n",
       "<polyline clip-path=\"url(#clip060)\" style=\"stroke:#000000; stroke-linecap:round; stroke-linejoin:round; stroke-width:4; stroke-opacity:1; fill:none\" points=\"213.223,198.898 486.984,198.898 486.984,95.2176 213.223,95.2176 213.223,198.898 \"/>\n",
       "<circle clip-path=\"url(#clip060)\" cx=\"311.592\" cy=\"147.058\" r=\"20.48\" fill=\"#009af9\" fill-rule=\"evenodd\" fill-opacity=\"1\" stroke=\"#000000\" stroke-opacity=\"1\" stroke-width=\"4.55111\"/>\n",
       "<path clip-path=\"url(#clip060)\" d=\"M423.804 166.745 Q421.998 171.375 420.285 172.787 Q418.572 174.199 415.702 174.199 L412.299 174.199 L412.299 170.634 L414.799 170.634 Q416.558 170.634 417.531 169.8 Q418.503 168.967 419.683 165.865 L420.447 163.921 L409.961 138.412 L414.475 138.412 L422.577 158.689 L430.679 138.412 L435.193 138.412 L423.804 166.745 Z\" fill=\"#000000\" fill-rule=\"nonzero\" fill-opacity=\"1\" /><path clip-path=\"url(#clip060)\" d=\"M442.484 160.402 L450.123 160.402 L450.123 134.037 L441.813 135.703 L441.813 131.444 L450.077 129.778 L454.753 129.778 L454.753 160.402 L462.392 160.402 L462.392 164.338 L442.484 164.338 L442.484 160.402 Z\" fill=\"#000000\" fill-rule=\"nonzero\" fill-opacity=\"1\" /></svg>\n"
      ]
     },
     "execution_count": 6249,
     "metadata": {},
     "output_type": "execute_result"
    }
   ],
   "source": [
    "d = trainData[trainData.type .== \"voiture_deux_places\", :]\n",
    "\n",
    "scatter(d.nombre_cylindres, d.consommation)"
   ]
  },
  {
   "cell_type": "code",
   "execution_count": 6250,
   "metadata": {},
   "outputs": [
    {
     "data": {
      "text/plain": [
       "add_general_type (generic function with 1 method)"
      ]
     },
     "execution_count": 6250,
     "metadata": {},
     "output_type": "execute_result"
    }
   ],
   "source": [
    "function add_general_type(data :: DataFrame)\n",
    "    data = deepcopy(data)\n",
    "    general_type_dict = Dict(\"voiture_moyenne\" => \"voiture\", \"VUS_petit\" => \"VUS\", \"voiture_compacte\" => \"voiture\", \"voiture_deux_places\" => \"voiture\", \"voiture_minicompacte\" => \"voiture\", \"VUS_standard\" => \"VUS\", \"monospace\" => \"camionnette\", \"voiture_sous_compacte\" => \"voiture\", \"camionnette_petit\" => \"camionnette\", \"break_petit\" => \"break\", \"voiture_grande\" => \"voiture\", \"camionnette_standard\" => \"camionnette\", \"break_moyen\" => \"break\", \"voiture_sport\" => \"voiture_sport\")\n",
    "    \n",
    "    data[!,:volume_gaz] = data[!,:nombre_cylindres] .* data[!,:cylindree]\n",
    "\n",
    "    data.type = ifelse.(data.type .== \"voiture_deux_places\"   .&& data.boite.==\"manuelle\" .&& data.cylindree .>= 4 , \"voiture_sport\" , data.type)\n",
    "\n",
    "    #= println(sum(data.type .== \"voiture_deux_places\" .&& data.volume_gaz .> 45 .&& data.transmission .== \"integrale\" )) =#\n",
    "\n",
    "    data.general_type = [general_type_dict[t] for t in data.type]\n",
    "    return data\n",
    "end\n",
    "\n"
   ]
  },
  {
   "cell_type": "code",
   "execution_count": 6251,
   "metadata": {},
   "outputs": [],
   "source": [
    "# sort(d[d.general_type .== \"voiture_sport\", :], :consommation, rev=true)"
   ]
  },
  {
   "cell_type": "code",
   "execution_count": 6252,
   "metadata": {},
   "outputs": [
    {
     "name": "stdout",
     "output_type": "stream",
     "text": [
      "14.954196152145075\n"
     ]
    },
    {
     "data": {
      "text/html": [
       "<div><div style = \"float: left;\"><span>4×11 DataFrame</span></div><div style = \"clear: both;\"></div></div><div class = \"data-frame\" style = \"overflow-x: scroll;\"><table class = \"data-frame\" style = \"margin-bottom: 6px;\"><thead><tr class = \"header\"><th class = \"rowNumber\" style = \"font-weight: bold; text-align: right;\">Row</th><th style = \"text-align: left;\">annee</th><th style = \"text-align: left;\">type</th><th style = \"text-align: left;\">nombre_cylindres</th><th style = \"text-align: left;\">cylindree</th><th style = \"text-align: left;\">transmission</th><th style = \"text-align: left;\">boite</th><th style = \"text-align: left;\">consommation</th><th style = \"text-align: left;\">id</th><th style = \"text-align: left;\">volume_gaz</th><th style = \"text-align: left;\">weight</th><th style = \"text-align: left;\">general_type</th></tr><tr class = \"subheader headerLastRow\"><th class = \"rowNumber\" style = \"font-weight: bold; text-align: right;\"></th><th title = \"Int64\" style = \"text-align: left;\">Int64</th><th title = \"AbstractString\" style = \"text-align: left;\">Abstract…</th><th title = \"Int64\" style = \"text-align: left;\">Int64</th><th title = \"Float64\" style = \"text-align: left;\">Float64</th><th title = \"String15\" style = \"text-align: left;\">String15</th><th title = \"String15\" style = \"text-align: left;\">String15</th><th title = \"Float64\" style = \"text-align: left;\">Float64</th><th title = \"Int64\" style = \"text-align: left;\">Int64</th><th title = \"Float64\" style = \"text-align: left;\">Float64</th><th title = \"Int64\" style = \"text-align: left;\">Int64</th><th title = \"String\" style = \"text-align: left;\">String</th></tr></thead><tbody><tr><td class = \"rowNumber\" style = \"font-weight: bold; text-align: right;\">1</td><td style = \"text-align: right;\">2014</td><td style = \"text-align: left;\">voiture_sport</td><td style = \"text-align: right;\">8</td><td style = \"text-align: right;\">4.2</td><td style = \"text-align: left;\">integrale</td><td style = \"text-align: left;\">manuelle</td><td style = \"text-align: right;\">16.8007</td><td style = \"text-align: right;\">64</td><td style = \"text-align: right;\">33.6</td><td style = \"text-align: right;\">2800</td><td style = \"text-align: left;\">voiture_sport</td></tr><tr><td class = \"rowNumber\" style = \"font-weight: bold; text-align: right;\">2</td><td style = \"text-align: right;\">2014</td><td style = \"text-align: left;\">voiture_sport</td><td style = \"text-align: right;\">8</td><td style = \"text-align: right;\">4.2</td><td style = \"text-align: left;\">integrale</td><td style = \"text-align: left;\">manuelle</td><td style = \"text-align: right;\">16.8007</td><td style = \"text-align: right;\">358</td><td style = \"text-align: right;\">33.6</td><td style = \"text-align: right;\">2800</td><td style = \"text-align: left;\">voiture_sport</td></tr><tr><td class = \"rowNumber\" style = \"font-weight: bold; text-align: right;\">3</td><td style = \"text-align: right;\">2019</td><td style = \"text-align: left;\">voiture_sport</td><td style = \"text-align: right;\">8</td><td style = \"text-align: right;\">6.2</td><td style = \"text-align: left;\">propulsion</td><td style = \"text-align: left;\">manuelle</td><td style = \"text-align: right;\">13.8359</td><td style = \"text-align: right;\">135</td><td style = \"text-align: right;\">49.6</td><td style = \"text-align: right;\">2800</td><td style = \"text-align: left;\">voiture_sport</td></tr><tr><td class = \"rowNumber\" style = \"font-weight: bold; text-align: right;\">4</td><td style = \"text-align: right;\">2019</td><td style = \"text-align: left;\">voiture_sport</td><td style = \"text-align: right;\">8</td><td style = \"text-align: right;\">6.2</td><td style = \"text-align: left;\">propulsion</td><td style = \"text-align: left;\">manuelle</td><td style = \"text-align: right;\">12.3795</td><td style = \"text-align: right;\">93</td><td style = \"text-align: right;\">49.6</td><td style = \"text-align: right;\">2800</td><td style = \"text-align: left;\">voiture_sport</td></tr></tbody></table></div>"
      ],
      "text/latex": [
       "\\begin{tabular}{r|cccccccc}\n",
       "\t& annee & type & nombre\\_cylindres & cylindree & transmission & boite & consommation & \\\\\n",
       "\t\\hline\n",
       "\t& Int64 & Abstract… & Int64 & Float64 & String15 & String15 & Float64 & \\\\\n",
       "\t\\hline\n",
       "\t1 & 2014 & voiture\\_sport & 8 & 4.2 & integrale & manuelle & 16.8007 & $\\dots$ \\\\\n",
       "\t2 & 2014 & voiture\\_sport & 8 & 4.2 & integrale & manuelle & 16.8007 & $\\dots$ \\\\\n",
       "\t3 & 2019 & voiture\\_sport & 8 & 6.2 & propulsion & manuelle & 13.8359 & $\\dots$ \\\\\n",
       "\t4 & 2019 & voiture\\_sport & 8 & 6.2 & propulsion & manuelle & 12.3795 & $\\dots$ \\\\\n",
       "\\end{tabular}\n"
      ],
      "text/plain": [
       "\u001b[1m4×11 DataFrame\u001b[0m\n",
       "\u001b[1m Row \u001b[0m│\u001b[1m annee \u001b[0m\u001b[1m type          \u001b[0m\u001b[1m nombre_cylindres \u001b[0m\u001b[1m cylindree \u001b[0m\u001b[1m transmission \u001b[0m\u001b[1m boite \u001b[0m ⋯\n",
       "     │\u001b[90m Int64 \u001b[0m\u001b[90m Abstract…     \u001b[0m\u001b[90m Int64            \u001b[0m\u001b[90m Float64   \u001b[0m\u001b[90m String15     \u001b[0m\u001b[90m String\u001b[0m ⋯\n",
       "─────┼──────────────────────────────────────────────────────────────────────────\n",
       "   1 │  2014  voiture_sport                 8        4.2  integrale     manuel ⋯\n",
       "   2 │  2014  voiture_sport                 8        4.2  integrale     manuel\n",
       "   3 │  2019  voiture_sport                 8        6.2  propulsion    manuel\n",
       "   4 │  2019  voiture_sport                 8        6.2  propulsion    manuel\n",
       "\u001b[36m                                                               6 columns omitted\u001b[0m"
      ]
     },
     "execution_count": 6252,
     "metadata": {},
     "output_type": "execute_result"
    }
   ],
   "source": [
    "d= add_general_type(trainData)\n",
    "println(mean(d[d.general_type .== \"voiture_sport\", :].consommation))\n",
    "sort(d[d.general_type .== \"voiture_sport\", :], :consommation, rev=true)"
   ]
  },
  {
   "cell_type": "code",
   "execution_count": 6253,
   "metadata": {},
   "outputs": [],
   "source": [
    "# add_general_type(testData)[testData.general_type .== \"voiture_sport\", :]"
   ]
  },
  {
   "cell_type": "code",
   "execution_count": 6254,
   "metadata": {},
   "outputs": [
    {
     "data": {
      "text/plain": [
       "add_rows (generic function with 1 method)"
      ]
     },
     "execution_count": 6254,
     "metadata": {},
     "output_type": "execute_result"
    }
   ],
   "source": [
    "function add_rows(data)\n",
    "    data[!,:volume_gaz] = data[!,:nombre_cylindres] .* data[!,:cylindree]\n",
    "\n",
    "    # https://www.insurancenavy.com/average-car-weight/\n",
    "    # https://www.auto-tests.com/fr/lightest-weight/Wagon/all/\n",
    "    weight_dict = Dict(\"voiture_moyenne\" => 3300, \"VUS_petit\" => 3500, \"voiture_compacte\" => 2800, \"voiture_deux_places\" => 2800, \"voiture_minicompacte\" => 1500, \"VUS_standard\" => 5000, \"monospace\" => 4500, \"voiture_sous_compacte\" => 2600, \"camionnette_petit\" => 4200, \"break_petit\" => 2640, \"voiture_grande\" => 4400, \"camionnette_standard\" => 4700, \"break_moyen\" => 3300)\n",
    "    data[!, :weight] = [weight_dict[t] for t in data[!, :type]]\n",
    "\n",
    "    data = add_general_type(data)\n",
    "    \n",
    "    # display(plot(data, x=:general_type, y=:consommation, color=:type))\n",
    "    # println(combine(groupby(data, :type), nrow => :count))\n",
    "    return data\n",
    "end"
   ]
  },
  {
   "cell_type": "code",
   "execution_count": 6255,
   "metadata": {},
   "outputs": [
    {
     "data": {
      "text/plain": [
       "getStandardEncodedData (generic function with 1 method)"
      ]
     },
     "execution_count": 6255,
     "metadata": {},
     "output_type": "execute_result"
    }
   ],
   "source": [
    "function getStandardEncodedData(data)\n",
    "    data_copy = deepcopy(data)\n",
    "    standardised_data = add_rows(data_copy)\n",
    "    standardised_data = standardize_data(data_copy)\n",
    "    # standardised_data = encode_data(standardised_data)\n",
    "    standardised_data = removeRows(standardised_data)\n",
    "    return standardised_data\n",
    "end\n",
    "\n",
    "    \n",
    "\n"
   ]
  },
  {
   "cell_type": "code",
   "execution_count": 6256,
   "metadata": {},
   "outputs": [
    {
     "data": {
      "text/plain": [
       "rmse (generic function with 1 method)"
      ]
     },
     "execution_count": 6256,
     "metadata": {},
     "output_type": "execute_result"
    }
   ],
   "source": [
    "function rmse(y, ychap)\n",
    "    return sqrt(mean((ychap .- y).^2))\n",
    "end\n"
   ]
  },
  {
   "cell_type": "code",
   "execution_count": 6257,
   "metadata": {},
   "outputs": [
    {
     "data": {
      "text/plain": [
       "rsquared (generic function with 1 method)"
      ]
     },
     "execution_count": 6257,
     "metadata": {},
     "output_type": "execute_result"
    }
   ],
   "source": [
    "function rsquared(y, ychap)\n",
    "    ss_total = sum((y .- mean(y)).^2)\n",
    "    ss_res = sum((y .- ychap).^2)\n",
    "    return ss_res / ss_total\n",
    "end\n"
   ]
  },
  {
   "cell_type": "code",
   "execution_count": 6258,
   "metadata": {},
   "outputs": [
    {
     "data": {
      "text/plain": [
       "train_test_split (generic function with 3 methods)"
      ]
     },
     "execution_count": 6258,
     "metadata": {},
     "output_type": "execute_result"
    }
   ],
   "source": [
    "function train_test_split(data, test_size=0.2, shuffle=true)\n",
    "    n = size(data, 1)\n",
    "    test_size = floor(Int, n * test_size)\n",
    "    \n",
    "    if shuffle\n",
    "        indices = randperm(n)\n",
    "    else\n",
    "        indices = 1:n\n",
    "    end\n",
    "    \n",
    "    test_indices = indices[1:test_size]\n",
    "    train_indices = indices[test_size+1:end]\n",
    "    \n",
    "    train_data = data[train_indices, :]\n",
    "    test_data = data[test_indices, :]\n",
    "    \n",
    "    return train_data, test_data\n",
    "end"
   ]
  },
  {
   "cell_type": "code",
   "execution_count": 6259,
   "metadata": {},
   "outputs": [
    {
     "data": {
      "text/plain": [
       "1:150"
      ]
     },
     "execution_count": 6259,
     "metadata": {},
     "output_type": "execute_result"
    }
   ],
   "source": [
    "trainData = CSV.read(\"../../data/train.csv\", DataFrame)\n",
    "testData = CSV.read(\"../../data/test.csv\", DataFrame)\n",
    "trainData.consommation = parse.(Float64,replace.(trainData.consommation, \",\" => \".\"))\n",
    "trainData.cylindree = parse.(Float64,replace.(trainData.cylindree, \",\" => \".\"))\n",
    "testData.cylindree = parse.(Float64,replace.(testData.cylindree, \",\" => \".\"))\n",
    "\n",
    "\n",
    "COMSOMMATION_MEAN = mean(trainData.consommation)\n",
    "COMSOMMATION_STD = std(trainData.consommation)\n",
    "trainData[!, :id] = 1:nrow(trainData)\n",
    "testData[!, :id] = 1:nrow(testData)\n",
    "# trainData[!, :nrow] .= 1\n",
    "# testData[!, :nrow] .= 1\n",
    "\n"
   ]
  },
  {
   "cell_type": "code",
   "execution_count": 6260,
   "metadata": {},
   "outputs": [
    {
     "data": {
      "text/plain": [
       "evaluate_rmse (generic function with 1 method)"
      ]
     },
     "execution_count": 6260,
     "metadata": {},
     "output_type": "execute_result"
    }
   ],
   "source": [
    "function evaluate_rmse(data)\n",
    "    nrange = 1000\n",
    "    n = 0\n",
    "    for i in range(0, 1, length=nrange)\n",
    "        n += regression(data)[1]\n",
    "    end\n",
    "    print(\"average rmse for regression: \", n/nrange, \"\\n\")\n",
    "end\n"
   ]
  },
  {
   "cell_type": "code",
   "execution_count": 6261,
   "metadata": {},
   "outputs": [
    {
     "data": {
      "text/plain": [
       "format_file (generic function with 1 method)"
      ]
     },
     "execution_count": 6261,
     "metadata": {},
     "output_type": "execute_result"
    }
   ],
   "source": [
    "function remise(prediction)\n",
    "    id = 1:150\n",
    "    df_pred = DataFrame(id=id, consommation=prediction)\n",
    "\n",
    "   format_file(df_pred)\n",
    "end\n",
    "\n",
    "function format_file(predictions,i)\n",
    "    #println(predictions)\n",
    "    current_time = Dates.format(now(), \"yyyy-mm-dd_HH-MM-SS\")\n",
    "    file_name = \"benchmark_$i.csv\"\n",
    "    CSV.write(\"./\" *file_name, predictions)\n",
    "end"
   ]
  },
  {
   "cell_type": "code",
   "execution_count": 6262,
   "metadata": {},
   "outputs": [],
   "source": [
    "# findnearest(A::Vector{Float64},t::Float64) = A[findmin(broadcast(abs,A.-t))[2]]\n",
    "\n",
    "# function findnearest(A::Vector{Float64},t::Float64)\n",
    "#     nearest_value = A[1]\n",
    "#     smallest_diff = abs(A[1] - t)\n",
    "#     for value in A\n",
    "#         diff = abs(value - t)\n",
    "#         if diff < smallest_diff\n",
    "#             smallest_diff = diff\n",
    "#             nearest_value = value\n",
    "#         end\n",
    "#     end\n",
    "#     if smallest_diff > 0.3\n",
    "#         # println(\"Warning: the nearest value is \", nearest_value, \" the value was \", t,\" with a difference of \", smallest_diff)\n",
    "#     end\n",
    "#     return nearest_value\n",
    "    \n",
    "# end\n"
   ]
  },
  {
   "cell_type": "code",
   "execution_count": 6263,
   "metadata": {},
   "outputs": [],
   "source": [
    "# getStandardEncodedData(trainData)"
   ]
  },
  {
   "cell_type": "code",
   "execution_count": 6264,
   "metadata": {},
   "outputs": [
    {
     "data": {
      "text/plain": [
       "predict_with_dups (generic function with 1 method)"
      ]
     },
     "execution_count": 6264,
     "metadata": {},
     "output_type": "execute_result"
    }
   ],
   "source": [
    "function get_unique_data(data, columns_to_compare)\n",
    "\n",
    "    # group_sizes = combine(groupby(data, columns_to_compare), nrow => :count)\n",
    "    # small_groups = filter(row -> row.count < 3, group_sizes)\n",
    "\n",
    "    # for row in eachrow(small_groups)\n",
    "    #     group = filter(all([data[!, col] .== row[col] for col in columns_to_compare]), data)\n",
    "    #     if nrow(group) < 3\n",
    "    #         adjacent_values = filter(all([data[!, col] .!= row[col] for col in columns_to_compare]), data)\n",
    "    #         group.consommation .= mean(adjacent_values.consommation)\n",
    "    #     end\n",
    "    # end\n",
    "\n",
    "    \n",
    "    # data[!, :consommation] .= data[!, :consommation] .* data[!, :nrow]\n",
    "    unique_data = combine(groupby(data, columns_to_compare), :consommation => mean)\n",
    "    rename!(unique_data, :consommation_mean => :consommation)\n",
    "#=     unique_data = add_rows(unique_data)\n",
    " =#    return unique_data\n",
    "end\n",
    "\n",
    "function find_pairs(data_train, data_predict, columns_to_compare)\n",
    "    train_data_without_consommation = select(data_train, Not(:consommation))\n",
    "    # print(train_data_without_consommation)\n",
    "    predict_data_without_annee = select(data_predict, Not(:annee))\n",
    "    # print(predict_data_without_annee)\n",
    "\n",
    "    #println(names(train_data_without_consommation))\n",
    "\n",
    "    common_values = innerjoin(data_train, data_predict, on=columns_to_compare)\n",
    "\n",
    "    #println(common_values.id)\n",
    "    # print(common_values)\n",
    "    return common_values\n",
    "end\n",
    "\n",
    "function find_differents(data_train, data_predict)\n",
    "    different_values = antijoin(data_predict, data_train, on=COLUMNS_TO_COMPARE)\n",
    "    return different_values\n",
    "    \n",
    "end\n",
    "\n",
    "function predict_with_dups(data_train, data_predict, raw_data_train, raw_data_predict)\n",
    "    pairs = find_pairs(raw_data_train, raw_data_predict)\n",
    "    pairs = select(pairs, [:id, :consommation])\n",
    "\n",
    "    different_values = find_differents(raw_data_train, raw_data_predict)\n",
    "    # println(different_values)\n",
    "\n",
    "    beta = regression(data_train, 0.0)[2]\n",
    "\n",
    "    data_predict = getStandardEncodedData(different_values[!, Not(:id)])\n",
    "\n",
    "\n",
    "    data_predict = Matrix(data_predict[:, names(data_train[:, Not(:consommation)])])\n",
    "    println(data_predict)\n",
    "\n",
    "    prediction_differents = data_predict * beta\n",
    "\n",
    "\n",
    "    prediction_differents = (prediction_differents .* COMSOMMATION_STD) .+ COMSOMMATION_MEAN\n",
    "\n",
    "    prediction_differents = DataFrame(id=different_values.id, consommation=prediction_differents)\n",
    "\n",
    "    # print(prediction_differents)\n",
    "    # print(pairs)\n",
    "\n",
    "    prediction = vcat(pairs, prediction_differents)\n",
    "    prediction = sort(prediction, :id)\n",
    "    # println(prediction)\n",
    "\n",
    "    # print(prediction)\n",
    "    return prediction\n",
    "end\n",
    "    \n",
    "    "
   ]
  },
  {
   "cell_type": "code",
   "execution_count": 6265,
   "metadata": {},
   "outputs": [
    {
     "data": {
      "text/plain": [
       "linear_regression (generic function with 1 method)"
      ]
     },
     "execution_count": 6265,
     "metadata": {},
     "output_type": "execute_result"
    }
   ],
   "source": [
    "function linear_regression(data, x_col, y_col)\n",
    "    # Extract x and y data from the DataFrame\n",
    "    x = data[!, x_col]\n",
    "    y = data[!, y_col]\n",
    "    \n",
    "    # Ensure there is enough data for the calculation\n",
    "    n = length(x)\n",
    "    if n == 0\n",
    "        error(\"Cannot compute linear regression with zero elements.\")\n",
    "    end\n",
    "    \n",
    "    # Calculate the mean values\n",
    "    x_mean = mean(x)\n",
    "    y_mean = mean(y)\n",
    "    \n",
    "    # Calculate slope and intercept for linear regression\n",
    "    slope = sum((x .- x_mean) .* (y .- y_mean)) / sum((x .- x_mean).^2)\n",
    "    intercept = y_mean - slope * x_mean\n",
    "    \n",
    "    return slope, intercept\n",
    "end"
   ]
  },
  {
   "cell_type": "code",
   "execution_count": 6266,
   "metadata": {},
   "outputs": [
    {
     "data": {
      "text/plain": [
       "get_outliers_ind_regression_lin (generic function with 1 method)"
      ]
     },
     "execution_count": 6266,
     "metadata": {},
     "output_type": "execute_result"
    }
   ],
   "source": [
    "\n",
    "function get_outliers_ind_regression_lin(data, x_col, y_col; threshold=2.5)\n",
    "    slope, intercept = linear_regression(data, x_col, y_col)\n",
    "    \n",
    "    x = data[!, x_col]\n",
    "    y = data[!, y_col]\n",
    "    \n",
    "    y_pred = slope .* x .+ intercept\n",
    "    \n",
    "    residuals = abs.(y .- y_pred)\n",
    "    \n",
    "    residuals_std = std(residuals)\n",
    "    \n",
    "    outlier_indices = findall(residuals .> threshold * residuals_std)\n",
    "    \n",
    "\n",
    "    for idx in outlier_indices\n",
    "        # println(\"Outlier detected at row $idx: \", \"x = \", x[idx], \", y = \", y[idx], \", Residual = \", residuals[idx])\n",
    "    end\n",
    "\n",
    "    outliers = data[outlier_indices, :]\n",
    "    \n",
    "    return outlier_indices\n",
    "end\n"
   ]
  },
  {
   "cell_type": "code",
   "execution_count": 6267,
   "metadata": {},
   "outputs": [],
   "source": [
    "function get_outliers_regression_lin(data, outliers_indices)\n",
    "    outliers = data[outliers_indices, :]\n",
    "    return outliers\n",
    "end;"
   ]
  },
  {
   "cell_type": "code",
   "execution_count": 6268,
   "metadata": {},
   "outputs": [
    {
     "data": {
      "text/plain": [
       "remove_outliers_regression_lin (generic function with 1 method)"
      ]
     },
     "execution_count": 6268,
     "metadata": {},
     "output_type": "execute_result"
    }
   ],
   "source": [
    "function remove_outliers_regression_lin(data::DataFrame, x_col::Symbol, y_col::Symbol; threshold=2.5)\n",
    "    outlier_indices = get_outliers_ind_regression_lin(data, x_col, y_col, threshold=threshold)\n",
    "\n",
    "    # println(\"Outlier Indices Identified: \", outlier_indices)\n",
    "\n",
    "    keep_mask = trues(nrow(data))\n",
    "    \n",
    "    if !isempty(outlier_indices)\n",
    "        keep_mask[outlier_indices] .= false\n",
    "    end\n",
    "\n",
    "    cleaned_data = data[keep_mask, :]\n",
    "    \n",
    "    return cleaned_data\n",
    "end"
   ]
  },
  {
   "cell_type": "code",
   "execution_count": 6269,
   "metadata": {},
   "outputs": [
    {
     "data": {
      "text/plain": [
       "plot_outliers (generic function with 1 method)"
      ]
     },
     "execution_count": 6269,
     "metadata": {},
     "output_type": "execute_result"
    }
   ],
   "source": [
    " function plot_outliers(uniqueD)\n",
    " # Step 2: Find and Display Outliers with Regression\n",
    " outliers_indices = get_outliers_ind_regression_lin(uniqueD, :cylindree, :consommation)\n",
    " outliers_regression = get_outliers_regression_lin(uniqueD, outliers_indices)\n",
    "\n",
    " # Step 3: Plot Original Data, Regression Line, and Outliers\n",
    " slope, intercept = linear_regression(uniqueD, :cylindree, :consommation)\n",
    " regression_line_y = slope .* uniqueD.cylindree .+ intercept\n",
    "\n",
    " layer_original = layer(x=uniqueD.cylindree, y=uniqueD.consommation, color=uniqueD.type, Theme(default_color=\"blue\"))\n",
    " layer_linear_regression = layer(x=uniqueD.cylindree, y=regression_line_y, Geom.line, Theme(default_color=\"green\"))\n",
    " layer_regression_outliers = layer(x=outliers_regression.cylindree, y=outliers_regression.consommation, Geom.point, Theme(default_color=\"red\"))\n",
    "\n",
    " \n",
    " display(plot(layer_regression_outliers, layer_original, layer_linear_regression, Guide.xlabel(\"Cylindree\"), Guide.ylabel(\"Consommation\"), Guide.title(\"Original Data with Outliers\")))\n",
    "\n",
    " # Step 4: Remove Outliers Based on Regression Line\n",
    " cleaned_data = remove_outliers_regression_lin(uniqueD, :cylindree, :consommation, threshold=2.5)\n",
    "\n",
    " # Step 5: Plot Cleaned Data with New Regression Line\n",
    " slope_cleaned, intercept_cleaned = linear_regression(cleaned_data, :cylindree, :consommation)\n",
    " regression_line_y_cleaned = slope_cleaned .* cleaned_data.cylindree .+ intercept_cleaned\n",
    "\n",
    "layer_cleaned = layer(x=cleaned_data.cylindree, y=cleaned_data.consommation, color=cleaned_data.type, Theme(default_color=\"blue\"))\n",
    "layer_linear_regression_cleaned = layer(x=cleaned_data.cylindree, y=regression_line_y_cleaned, Geom.line, Theme(default_color=\"green\"))\n",
    "\n",
    "# Display plot for cleaned data\n",
    "display(plot(layer_cleaned, layer_linear_regression_cleaned, \n",
    "             Guide.xlabel(\"Cylindree\"), Guide.ylabel(\"Consommation\"), Guide.title(\"Cleaned Data with Regression Line\")))\n",
    "\n",
    "end"
   ]
  },
  {
   "cell_type": "code",
   "execution_count": 6270,
   "metadata": {},
   "outputs": [
    {
     "data": {
      "text/plain": [
       "regression (generic function with 2 methods)"
      ]
     },
     "execution_count": 6270,
     "metadata": {},
     "output_type": "execute_result"
    }
   ],
   "source": [
    "function regression(standardised_data, trainTestSplitPercentage = 0.2)\n",
    "    training_data, test_data = train_test_split(standardised_data, trainTestSplitPercentage)\n",
    "\n",
    "    X_train =  Matrix(training_data[:, Not(:consommation)])\n",
    "    y_train = training_data[:, :consommation]\n",
    "\n",
    "    beta = X_train \\ y_train\n",
    "\n",
    "    rmseval = 0.0\n",
    "    if trainTestSplitPercentage != 0.0\n",
    "        X_test = Matrix(test_data[:, Not(:consommation)])\n",
    "        y_test = test_data[:, :consommation]\n",
    "        ychap =  X_test * beta\n",
    "        ychap = (ychap .* COMSOMMATION_STD) .+ COMSOMMATION_MEAN\n",
    "        y_test = (y_test .* COMSOMMATION_STD) .+ COMSOMMATION_MEAN\n",
    "        rmseval = rmse(y_test, ychap)\n",
    "    end\n",
    "    \n",
    "    return rmseval, beta, training_data, test_data\n",
    "end"
   ]
  },
  {
   "cell_type": "code",
   "execution_count": 6271,
   "metadata": {},
   "outputs": [
    {
     "data": {
      "text/plain": [
       "remise_regression (generic function with 1 method)"
      ]
     },
     "execution_count": 6271,
     "metadata": {},
     "output_type": "execute_result"
    }
   ],
   "source": [
    "function remise_regression(beta)\n",
    "    test_data = getStandardEncodedData(testData)\n",
    "    X_test = Matrix(test_data[!,Not(:id)])\n",
    "    ychap =  X_test * beta\n",
    "    # ychap = (ychap .* COMSOMMATION_STD) .+ COMSOMMATION_MEAN\n",
    "    remise(ychap)\n",
    "end\n"
   ]
  },
  {
   "cell_type": "code",
   "execution_count": 6272,
   "metadata": {},
   "outputs": [
    {
     "data": {
      "text/html": [
       "<div><div style = \"float: left;\"><span>396×22 DataFrame</span></div><div style = \"float: right;\"><span style = \"font-style: italic;\">371 rows omitted</span></div><div style = \"clear: both;\"></div></div><div class = \"data-frame\" style = \"overflow-x: scroll;\"><table class = \"data-frame\" style = \"margin-bottom: 6px;\"><thead><tr class = \"header\"><th class = \"rowNumber\" style = \"font-weight: bold; text-align: right;\">Row</th><th style = \"text-align: left;\">annee</th><th style = \"text-align: left;\">type</th><th style = \"text-align: left;\">nombre_cylindres</th><th style = \"text-align: left;\">cylindree</th><th style = \"text-align: left;\">transmission</th><th style = \"text-align: left;\">boite</th><th style = \"text-align: left;\">consommation</th><th style = \"text-align: left;\">id</th><th style = \"text-align: left;\">volume_gaz</th><th style = \"text-align: left;\">weight</th><th style = \"text-align: left;\">general_type</th><th style = \"text-align: left;\">voiture</th><th style = \"text-align: left;\">VUS</th><th style = \"text-align: left;\">camionnette</th><th style = \"text-align: left;\">break</th><th style = \"text-align: left;\">voiture_sport</th><th style = \"text-align: left;\">integrale</th><th style = \"text-align: left;\">propulsion</th><th style = \"text-align: left;\">traction</th><th style = \"text-align: left;\">4x4</th><th style = \"text-align: left;\">automatique</th><th style = \"text-align: left;\">manuelle</th></tr><tr class = \"subheader headerLastRow\"><th class = \"rowNumber\" style = \"font-weight: bold; text-align: right;\"></th><th title = \"Int64\" style = \"text-align: left;\">Int64</th><th title = \"AbstractString\" style = \"text-align: left;\">Abstract…</th><th title = \"Int64\" style = \"text-align: left;\">Int64</th><th title = \"Float64\" style = \"text-align: left;\">Float64</th><th title = \"String15\" style = \"text-align: left;\">String15</th><th title = \"String15\" style = \"text-align: left;\">String15</th><th title = \"Float64\" style = \"text-align: left;\">Float64</th><th title = \"Int64\" style = \"text-align: left;\">Int64</th><th title = \"Float64\" style = \"text-align: left;\">Float64</th><th title = \"Int64\" style = \"text-align: left;\">Int64</th><th title = \"String\" style = \"text-align: left;\">String</th><th title = \"Int64\" style = \"text-align: left;\">Int64</th><th title = \"Int64\" style = \"text-align: left;\">Int64</th><th title = \"Int64\" style = \"text-align: left;\">Int64</th><th title = \"Int64\" style = \"text-align: left;\">Int64</th><th title = \"Int64\" style = \"text-align: left;\">Int64</th><th title = \"Int64\" style = \"text-align: left;\">Int64</th><th title = \"Int64\" style = \"text-align: left;\">Int64</th><th title = \"Int64\" style = \"text-align: left;\">Int64</th><th title = \"Int64\" style = \"text-align: left;\">Int64</th><th title = \"Int64\" style = \"text-align: left;\">Int64</th><th title = \"Int64\" style = \"text-align: left;\">Int64</th></tr></thead><tbody><tr><td class = \"rowNumber\" style = \"font-weight: bold; text-align: right;\">1</td><td style = \"text-align: right;\">2023</td><td style = \"text-align: left;\">voiture_moyenne</td><td style = \"text-align: right;\">8</td><td style = \"text-align: right;\">4.4</td><td style = \"text-align: left;\">integrale</td><td style = \"text-align: left;\">automatique</td><td style = \"text-align: right;\">13.8359</td><td style = \"text-align: right;\">1</td><td style = \"text-align: right;\">35.2</td><td style = \"text-align: right;\">3300</td><td style = \"text-align: left;\">voiture</td><td style = \"text-align: right;\">1</td><td style = \"text-align: right;\">0</td><td style = \"text-align: right;\">0</td><td style = \"text-align: right;\">0</td><td style = \"text-align: right;\">0</td><td style = \"text-align: right;\">1</td><td style = \"text-align: right;\">0</td><td style = \"text-align: right;\">0</td><td style = \"text-align: right;\">0</td><td style = \"text-align: right;\">1</td><td style = \"text-align: right;\">0</td></tr><tr><td class = \"rowNumber\" style = \"font-weight: bold; text-align: right;\">2</td><td style = \"text-align: right;\">2020</td><td style = \"text-align: left;\">VUS_petit</td><td style = \"text-align: right;\">4</td><td style = \"text-align: right;\">2.0</td><td style = \"text-align: left;\">integrale</td><td style = \"text-align: left;\">automatique</td><td style = \"text-align: right;\">9.80042</td><td style = \"text-align: right;\">2</td><td style = \"text-align: right;\">8.0</td><td style = \"text-align: right;\">3500</td><td style = \"text-align: left;\">VUS</td><td style = \"text-align: right;\">0</td><td style = \"text-align: right;\">1</td><td style = \"text-align: right;\">0</td><td style = \"text-align: right;\">0</td><td style = \"text-align: right;\">0</td><td style = \"text-align: right;\">1</td><td style = \"text-align: right;\">0</td><td style = \"text-align: right;\">0</td><td style = \"text-align: right;\">0</td><td style = \"text-align: right;\">1</td><td style = \"text-align: right;\">0</td></tr><tr><td class = \"rowNumber\" style = \"font-weight: bold; text-align: right;\">3</td><td style = \"text-align: right;\">2021</td><td style = \"text-align: left;\">voiture_compacte</td><td style = \"text-align: right;\">6</td><td style = \"text-align: right;\">3.3</td><td style = \"text-align: left;\">propulsion</td><td style = \"text-align: left;\">automatique</td><td style = \"text-align: right;\">11.7605</td><td style = \"text-align: right;\">3</td><td style = \"text-align: right;\">19.8</td><td style = \"text-align: right;\">2800</td><td style = \"text-align: left;\">voiture</td><td style = \"text-align: right;\">1</td><td style = \"text-align: right;\">0</td><td style = \"text-align: right;\">0</td><td style = \"text-align: right;\">0</td><td style = \"text-align: right;\">0</td><td style = \"text-align: right;\">0</td><td style = \"text-align: right;\">1</td><td style = \"text-align: right;\">0</td><td style = \"text-align: right;\">0</td><td style = \"text-align: right;\">1</td><td style = \"text-align: right;\">0</td></tr><tr><td class = \"rowNumber\" style = \"font-weight: bold; text-align: right;\">4</td><td style = \"text-align: right;\">2023</td><td style = \"text-align: left;\">voiture_deux_places</td><td style = \"text-align: right;\">8</td><td style = \"text-align: right;\">5.0</td><td style = \"text-align: left;\">integrale</td><td style = \"text-align: left;\">automatique</td><td style = \"text-align: right;\">13.0672</td><td style = \"text-align: right;\">4</td><td style = \"text-align: right;\">40.0</td><td style = \"text-align: right;\">2800</td><td style = \"text-align: left;\">voiture</td><td style = \"text-align: right;\">1</td><td style = \"text-align: right;\">0</td><td style = \"text-align: right;\">0</td><td style = \"text-align: right;\">0</td><td style = \"text-align: right;\">0</td><td style = \"text-align: right;\">1</td><td style = \"text-align: right;\">0</td><td style = \"text-align: right;\">0</td><td style = \"text-align: right;\">0</td><td style = \"text-align: right;\">1</td><td style = \"text-align: right;\">0</td></tr><tr><td class = \"rowNumber\" style = \"font-weight: bold; text-align: right;\">5</td><td style = \"text-align: right;\">2022</td><td style = \"text-align: left;\">voiture_moyenne</td><td style = \"text-align: right;\">8</td><td style = \"text-align: right;\">4.4</td><td style = \"text-align: left;\">integrale</td><td style = \"text-align: left;\">automatique</td><td style = \"text-align: right;\">13.8359</td><td style = \"text-align: right;\">5</td><td style = \"text-align: right;\">35.2</td><td style = \"text-align: right;\">3300</td><td style = \"text-align: left;\">voiture</td><td style = \"text-align: right;\">1</td><td style = \"text-align: right;\">0</td><td style = \"text-align: right;\">0</td><td style = \"text-align: right;\">0</td><td style = \"text-align: right;\">0</td><td style = \"text-align: right;\">1</td><td style = \"text-align: right;\">0</td><td style = \"text-align: right;\">0</td><td style = \"text-align: right;\">0</td><td style = \"text-align: right;\">1</td><td style = \"text-align: right;\">0</td></tr><tr><td class = \"rowNumber\" style = \"font-weight: bold; text-align: right;\">6</td><td style = \"text-align: right;\">2022</td><td style = \"text-align: left;\">voiture_moyenne</td><td style = \"text-align: right;\">8</td><td style = \"text-align: right;\">4.4</td><td style = \"text-align: left;\">integrale</td><td style = \"text-align: left;\">automatique</td><td style = \"text-align: right;\">13.8359</td><td style = \"text-align: right;\">6</td><td style = \"text-align: right;\">35.2</td><td style = \"text-align: right;\">3300</td><td style = \"text-align: left;\">voiture</td><td style = \"text-align: right;\">1</td><td style = \"text-align: right;\">0</td><td style = \"text-align: right;\">0</td><td style = \"text-align: right;\">0</td><td style = \"text-align: right;\">0</td><td style = \"text-align: right;\">1</td><td style = \"text-align: right;\">0</td><td style = \"text-align: right;\">0</td><td style = \"text-align: right;\">0</td><td style = \"text-align: right;\">1</td><td style = \"text-align: right;\">0</td></tr><tr><td class = \"rowNumber\" style = \"font-weight: bold; text-align: right;\">7</td><td style = \"text-align: right;\">2022</td><td style = \"text-align: left;\">voiture_minicompacte</td><td style = \"text-align: right;\">3</td><td style = \"text-align: right;\">1.5</td><td style = \"text-align: left;\">traction</td><td style = \"text-align: left;\">automatique</td><td style = \"text-align: right;\">7.35031</td><td style = \"text-align: right;\">7</td><td style = \"text-align: right;\">4.5</td><td style = \"text-align: right;\">1500</td><td style = \"text-align: left;\">voiture</td><td style = \"text-align: right;\">1</td><td style = \"text-align: right;\">0</td><td style = \"text-align: right;\">0</td><td style = \"text-align: right;\">0</td><td style = \"text-align: right;\">0</td><td style = \"text-align: right;\">0</td><td style = \"text-align: right;\">0</td><td style = \"text-align: right;\">1</td><td style = \"text-align: right;\">0</td><td style = \"text-align: right;\">1</td><td style = \"text-align: right;\">0</td></tr><tr><td class = \"rowNumber\" style = \"font-weight: bold; text-align: right;\">8</td><td style = \"text-align: right;\">2024</td><td style = \"text-align: left;\">voiture_minicompacte</td><td style = \"text-align: right;\">3</td><td style = \"text-align: right;\">1.5</td><td style = \"text-align: left;\">traction</td><td style = \"text-align: left;\">manuelle</td><td style = \"text-align: right;\">7.58742</td><td style = \"text-align: right;\">8</td><td style = \"text-align: right;\">4.5</td><td style = \"text-align: right;\">1500</td><td style = \"text-align: left;\">voiture</td><td style = \"text-align: right;\">1</td><td style = \"text-align: right;\">0</td><td style = \"text-align: right;\">0</td><td style = \"text-align: right;\">0</td><td style = \"text-align: right;\">0</td><td style = \"text-align: right;\">0</td><td style = \"text-align: right;\">0</td><td style = \"text-align: right;\">1</td><td style = \"text-align: right;\">0</td><td style = \"text-align: right;\">0</td><td style = \"text-align: right;\">1</td></tr><tr><td class = \"rowNumber\" style = \"font-weight: bold; text-align: right;\">9</td><td style = \"text-align: right;\">2020</td><td style = \"text-align: left;\">VUS_standard</td><td style = \"text-align: right;\">6</td><td style = \"text-align: right;\">3.8</td><td style = \"text-align: left;\">integrale</td><td style = \"text-align: left;\">automatique</td><td style = \"text-align: right;\">11.2005</td><td style = \"text-align: right;\">9</td><td style = \"text-align: right;\">22.8</td><td style = \"text-align: right;\">5000</td><td style = \"text-align: left;\">VUS</td><td style = \"text-align: right;\">0</td><td style = \"text-align: right;\">1</td><td style = \"text-align: right;\">0</td><td style = \"text-align: right;\">0</td><td style = \"text-align: right;\">0</td><td style = \"text-align: right;\">1</td><td style = \"text-align: right;\">0</td><td style = \"text-align: right;\">0</td><td style = \"text-align: right;\">0</td><td style = \"text-align: right;\">1</td><td style = \"text-align: right;\">0</td></tr><tr><td class = \"rowNumber\" style = \"font-weight: bold; text-align: right;\">10</td><td style = \"text-align: right;\">2019</td><td style = \"text-align: left;\">voiture_compacte</td><td style = \"text-align: right;\">6</td><td style = \"text-align: right;\">3.3</td><td style = \"text-align: left;\">propulsion</td><td style = \"text-align: left;\">automatique</td><td style = \"text-align: right;\">11.7605</td><td style = \"text-align: right;\">10</td><td style = \"text-align: right;\">19.8</td><td style = \"text-align: right;\">2800</td><td style = \"text-align: left;\">voiture</td><td style = \"text-align: right;\">1</td><td style = \"text-align: right;\">0</td><td style = \"text-align: right;\">0</td><td style = \"text-align: right;\">0</td><td style = \"text-align: right;\">0</td><td style = \"text-align: right;\">0</td><td style = \"text-align: right;\">1</td><td style = \"text-align: right;\">0</td><td style = \"text-align: right;\">0</td><td style = \"text-align: right;\">1</td><td style = \"text-align: right;\">0</td></tr><tr><td class = \"rowNumber\" style = \"font-weight: bold; text-align: right;\">11</td><td style = \"text-align: right;\">2016</td><td style = \"text-align: left;\">monospace</td><td style = \"text-align: right;\">6</td><td style = \"text-align: right;\">3.3</td><td style = \"text-align: left;\">traction</td><td style = \"text-align: left;\">automatique</td><td style = \"text-align: right;\">11.7605</td><td style = \"text-align: right;\">11</td><td style = \"text-align: right;\">19.8</td><td style = \"text-align: right;\">4500</td><td style = \"text-align: left;\">camionnette</td><td style = \"text-align: right;\">0</td><td style = \"text-align: right;\">0</td><td style = \"text-align: right;\">1</td><td style = \"text-align: right;\">0</td><td style = \"text-align: right;\">0</td><td style = \"text-align: right;\">0</td><td style = \"text-align: right;\">0</td><td style = \"text-align: right;\">1</td><td style = \"text-align: right;\">0</td><td style = \"text-align: right;\">1</td><td style = \"text-align: right;\">0</td></tr><tr><td class = \"rowNumber\" style = \"font-weight: bold; text-align: right;\">12</td><td style = \"text-align: right;\">2023</td><td style = \"text-align: left;\">VUS_standard</td><td style = \"text-align: right;\">8</td><td style = \"text-align: right;\">5.0</td><td style = \"text-align: left;\">4x4</td><td style = \"text-align: left;\">automatique</td><td style = \"text-align: right;\">14.7006</td><td style = \"text-align: right;\">12</td><td style = \"text-align: right;\">40.0</td><td style = \"text-align: right;\">5000</td><td style = \"text-align: left;\">VUS</td><td style = \"text-align: right;\">0</td><td style = \"text-align: right;\">1</td><td style = \"text-align: right;\">0</td><td style = \"text-align: right;\">0</td><td style = \"text-align: right;\">0</td><td style = \"text-align: right;\">0</td><td style = \"text-align: right;\">0</td><td style = \"text-align: right;\">0</td><td style = \"text-align: right;\">1</td><td style = \"text-align: right;\">1</td><td style = \"text-align: right;\">0</td></tr><tr><td class = \"rowNumber\" style = \"font-weight: bold; text-align: right;\">13</td><td style = \"text-align: right;\">2024</td><td style = \"text-align: left;\">voiture_moyenne</td><td style = \"text-align: right;\">8</td><td style = \"text-align: right;\">4.4</td><td style = \"text-align: left;\">integrale</td><td style = \"text-align: left;\">automatique</td><td style = \"text-align: right;\">12.3795</td><td style = \"text-align: right;\">13</td><td style = \"text-align: right;\">35.2</td><td style = \"text-align: right;\">3300</td><td style = \"text-align: left;\">voiture</td><td style = \"text-align: right;\">1</td><td style = \"text-align: right;\">0</td><td style = \"text-align: right;\">0</td><td style = \"text-align: right;\">0</td><td style = \"text-align: right;\">0</td><td style = \"text-align: right;\">1</td><td style = \"text-align: right;\">0</td><td style = \"text-align: right;\">0</td><td style = \"text-align: right;\">0</td><td style = \"text-align: right;\">1</td><td style = \"text-align: right;\">0</td></tr><tr><td style = \"text-align: right;\">&vellip;</td><td style = \"text-align: right;\">&vellip;</td><td style = \"text-align: right;\">&vellip;</td><td style = \"text-align: right;\">&vellip;</td><td style = \"text-align: right;\">&vellip;</td><td style = \"text-align: right;\">&vellip;</td><td style = \"text-align: right;\">&vellip;</td><td style = \"text-align: right;\">&vellip;</td><td style = \"text-align: right;\">&vellip;</td><td style = \"text-align: right;\">&vellip;</td><td style = \"text-align: right;\">&vellip;</td><td style = \"text-align: right;\">&vellip;</td><td style = \"text-align: right;\">&vellip;</td><td style = \"text-align: right;\">&vellip;</td><td style = \"text-align: right;\">&vellip;</td><td style = \"text-align: right;\">&vellip;</td><td style = \"text-align: right;\">&vellip;</td><td style = \"text-align: right;\">&vellip;</td><td style = \"text-align: right;\">&vellip;</td><td style = \"text-align: right;\">&vellip;</td><td style = \"text-align: right;\">&vellip;</td><td style = \"text-align: right;\">&vellip;</td><td style = \"text-align: right;\">&vellip;</td></tr><tr><td class = \"rowNumber\" style = \"font-weight: bold; text-align: right;\">385</td><td style = \"text-align: right;\">2018</td><td style = \"text-align: left;\">voiture_sous_compacte</td><td style = \"text-align: right;\">4</td><td style = \"text-align: right;\">2.0</td><td style = \"text-align: left;\">propulsion</td><td style = \"text-align: left;\">automatique</td><td style = \"text-align: right;\">8.71148</td><td style = \"text-align: right;\">385</td><td style = \"text-align: right;\">8.0</td><td style = \"text-align: right;\">2600</td><td style = \"text-align: left;\">voiture</td><td style = \"text-align: right;\">1</td><td style = \"text-align: right;\">0</td><td style = \"text-align: right;\">0</td><td style = \"text-align: right;\">0</td><td style = \"text-align: right;\">0</td><td style = \"text-align: right;\">0</td><td style = \"text-align: right;\">1</td><td style = \"text-align: right;\">0</td><td style = \"text-align: right;\">0</td><td style = \"text-align: right;\">1</td><td style = \"text-align: right;\">0</td></tr><tr><td class = \"rowNumber\" style = \"font-weight: bold; text-align: right;\">386</td><td style = \"text-align: right;\">2014</td><td style = \"text-align: left;\">voiture_sous_compacte</td><td style = \"text-align: right;\">6</td><td style = \"text-align: right;\">3.7</td><td style = \"text-align: left;\">propulsion</td><td style = \"text-align: left;\">automatique</td><td style = \"text-align: right;\">10.2265</td><td style = \"text-align: right;\">386</td><td style = \"text-align: right;\">22.2</td><td style = \"text-align: right;\">2600</td><td style = \"text-align: left;\">voiture</td><td style = \"text-align: right;\">1</td><td style = \"text-align: right;\">0</td><td style = \"text-align: right;\">0</td><td style = \"text-align: right;\">0</td><td style = \"text-align: right;\">0</td><td style = \"text-align: right;\">0</td><td style = \"text-align: right;\">1</td><td style = \"text-align: right;\">0</td><td style = \"text-align: right;\">0</td><td style = \"text-align: right;\">1</td><td style = \"text-align: right;\">0</td></tr><tr><td class = \"rowNumber\" style = \"font-weight: bold; text-align: right;\">387</td><td style = \"text-align: right;\">2014</td><td style = \"text-align: left;\">voiture_sous_compacte</td><td style = \"text-align: right;\">6</td><td style = \"text-align: right;\">3.8</td><td style = \"text-align: left;\">integrale</td><td style = \"text-align: left;\">automatique</td><td style = \"text-align: right;\">12.3795</td><td style = \"text-align: right;\">387</td><td style = \"text-align: right;\">22.8</td><td style = \"text-align: right;\">2600</td><td style = \"text-align: left;\">voiture</td><td style = \"text-align: right;\">1</td><td style = \"text-align: right;\">0</td><td style = \"text-align: right;\">0</td><td style = \"text-align: right;\">0</td><td style = \"text-align: right;\">0</td><td style = \"text-align: right;\">1</td><td style = \"text-align: right;\">0</td><td style = \"text-align: right;\">0</td><td style = \"text-align: right;\">0</td><td style = \"text-align: right;\">1</td><td style = \"text-align: right;\">0</td></tr><tr><td class = \"rowNumber\" style = \"font-weight: bold; text-align: right;\">388</td><td style = \"text-align: right;\">2014</td><td style = \"text-align: left;\">VUS_petit</td><td style = \"text-align: right;\">4</td><td style = \"text-align: right;\">2.4</td><td style = \"text-align: left;\">traction</td><td style = \"text-align: left;\">automatique</td><td style = \"text-align: right;\">9.80042</td><td style = \"text-align: right;\">388</td><td style = \"text-align: right;\">9.6</td><td style = \"text-align: right;\">3500</td><td style = \"text-align: left;\">VUS</td><td style = \"text-align: right;\">0</td><td style = \"text-align: right;\">1</td><td style = \"text-align: right;\">0</td><td style = \"text-align: right;\">0</td><td style = \"text-align: right;\">0</td><td style = \"text-align: right;\">0</td><td style = \"text-align: right;\">0</td><td style = \"text-align: right;\">1</td><td style = \"text-align: right;\">0</td><td style = \"text-align: right;\">1</td><td style = \"text-align: right;\">0</td></tr><tr><td class = \"rowNumber\" style = \"font-weight: bold; text-align: right;\">389</td><td style = \"text-align: right;\">2016</td><td style = \"text-align: left;\">voiture_moyenne</td><td style = \"text-align: right;\">6</td><td style = \"text-align: right;\">3.5</td><td style = \"text-align: left;\">integrale</td><td style = \"text-align: left;\">automatique</td><td style = \"text-align: right;\">7.84033</td><td style = \"text-align: right;\">389</td><td style = \"text-align: right;\">21.0</td><td style = \"text-align: right;\">3300</td><td style = \"text-align: left;\">voiture</td><td style = \"text-align: right;\">1</td><td style = \"text-align: right;\">0</td><td style = \"text-align: right;\">0</td><td style = \"text-align: right;\">0</td><td style = \"text-align: right;\">0</td><td style = \"text-align: right;\">1</td><td style = \"text-align: right;\">0</td><td style = \"text-align: right;\">0</td><td style = \"text-align: right;\">0</td><td style = \"text-align: right;\">1</td><td style = \"text-align: right;\">0</td></tr><tr><td class = \"rowNumber\" style = \"font-weight: bold; text-align: right;\">390</td><td style = \"text-align: right;\">2024</td><td style = \"text-align: left;\">voiture_compacte</td><td style = \"text-align: right;\">4</td><td style = \"text-align: right;\">2.0</td><td style = \"text-align: left;\">integrale</td><td style = \"text-align: left;\">automatique</td><td style = \"text-align: right;\">8.71148</td><td style = \"text-align: right;\">390</td><td style = \"text-align: right;\">8.0</td><td style = \"text-align: right;\">2800</td><td style = \"text-align: left;\">voiture</td><td style = \"text-align: right;\">1</td><td style = \"text-align: right;\">0</td><td style = \"text-align: right;\">0</td><td style = \"text-align: right;\">0</td><td style = \"text-align: right;\">0</td><td style = \"text-align: right;\">1</td><td style = \"text-align: right;\">0</td><td style = \"text-align: right;\">0</td><td style = \"text-align: right;\">0</td><td style = \"text-align: right;\">1</td><td style = \"text-align: right;\">0</td></tr><tr><td class = \"rowNumber\" style = \"font-weight: bold; text-align: right;\">391</td><td style = \"text-align: right;\">2022</td><td style = \"text-align: left;\">VUS_petit</td><td style = \"text-align: right;\">4</td><td style = \"text-align: right;\">2.0</td><td style = \"text-align: left;\">traction</td><td style = \"text-align: left;\">automatique</td><td style = \"text-align: right;\">10.2265</td><td style = \"text-align: right;\">391</td><td style = \"text-align: right;\">8.0</td><td style = \"text-align: right;\">3500</td><td style = \"text-align: left;\">VUS</td><td style = \"text-align: right;\">0</td><td style = \"text-align: right;\">1</td><td style = \"text-align: right;\">0</td><td style = \"text-align: right;\">0</td><td style = \"text-align: right;\">0</td><td style = \"text-align: right;\">0</td><td style = \"text-align: right;\">0</td><td style = \"text-align: right;\">1</td><td style = \"text-align: right;\">0</td><td style = \"text-align: right;\">1</td><td style = \"text-align: right;\">0</td></tr><tr><td class = \"rowNumber\" style = \"font-weight: bold; text-align: right;\">392</td><td style = \"text-align: right;\">2021</td><td style = \"text-align: left;\">voiture_grande</td><td style = \"text-align: right;\">8</td><td style = \"text-align: right;\">4.4</td><td style = \"text-align: left;\">integrale</td><td style = \"text-align: left;\">automatique</td><td style = \"text-align: right;\">12.3795</td><td style = \"text-align: right;\">392</td><td style = \"text-align: right;\">35.2</td><td style = \"text-align: right;\">4400</td><td style = \"text-align: left;\">voiture</td><td style = \"text-align: right;\">1</td><td style = \"text-align: right;\">0</td><td style = \"text-align: right;\">0</td><td style = \"text-align: right;\">0</td><td style = \"text-align: right;\">0</td><td style = \"text-align: right;\">1</td><td style = \"text-align: right;\">0</td><td style = \"text-align: right;\">0</td><td style = \"text-align: right;\">0</td><td style = \"text-align: right;\">1</td><td style = \"text-align: right;\">0</td></tr><tr><td class = \"rowNumber\" style = \"font-weight: bold; text-align: right;\">393</td><td style = \"text-align: right;\">2023</td><td style = \"text-align: left;\">voiture_compacte</td><td style = \"text-align: right;\">6</td><td style = \"text-align: right;\">3.3</td><td style = \"text-align: left;\">propulsion</td><td style = \"text-align: left;\">automatique</td><td style = \"text-align: right;\">11.2005</td><td style = \"text-align: right;\">393</td><td style = \"text-align: right;\">19.8</td><td style = \"text-align: right;\">2800</td><td style = \"text-align: left;\">voiture</td><td style = \"text-align: right;\">1</td><td style = \"text-align: right;\">0</td><td style = \"text-align: right;\">0</td><td style = \"text-align: right;\">0</td><td style = \"text-align: right;\">0</td><td style = \"text-align: right;\">0</td><td style = \"text-align: right;\">1</td><td style = \"text-align: right;\">0</td><td style = \"text-align: right;\">0</td><td style = \"text-align: right;\">1</td><td style = \"text-align: right;\">0</td></tr><tr><td class = \"rowNumber\" style = \"font-weight: bold; text-align: right;\">394</td><td style = \"text-align: right;\">2019</td><td style = \"text-align: left;\">voiture_minicompacte</td><td style = \"text-align: right;\">3</td><td style = \"text-align: right;\">1.5</td><td style = \"text-align: left;\">traction</td><td style = \"text-align: left;\">automatique</td><td style = \"text-align: right;\">7.84033</td><td style = \"text-align: right;\">394</td><td style = \"text-align: right;\">4.5</td><td style = \"text-align: right;\">1500</td><td style = \"text-align: left;\">voiture</td><td style = \"text-align: right;\">1</td><td style = \"text-align: right;\">0</td><td style = \"text-align: right;\">0</td><td style = \"text-align: right;\">0</td><td style = \"text-align: right;\">0</td><td style = \"text-align: right;\">0</td><td style = \"text-align: right;\">0</td><td style = \"text-align: right;\">1</td><td style = \"text-align: right;\">0</td><td style = \"text-align: right;\">1</td><td style = \"text-align: right;\">0</td></tr><tr><td class = \"rowNumber\" style = \"font-weight: bold; text-align: right;\">395</td><td style = \"text-align: right;\">2022</td><td style = \"text-align: left;\">voiture_compacte</td><td style = \"text-align: right;\">6</td><td style = \"text-align: right;\">3.3</td><td style = \"text-align: left;\">propulsion</td><td style = \"text-align: left;\">automatique</td><td style = \"text-align: right;\">11.2005</td><td style = \"text-align: right;\">395</td><td style = \"text-align: right;\">19.8</td><td style = \"text-align: right;\">2800</td><td style = \"text-align: left;\">voiture</td><td style = \"text-align: right;\">1</td><td style = \"text-align: right;\">0</td><td style = \"text-align: right;\">0</td><td style = \"text-align: right;\">0</td><td style = \"text-align: right;\">0</td><td style = \"text-align: right;\">0</td><td style = \"text-align: right;\">1</td><td style = \"text-align: right;\">0</td><td style = \"text-align: right;\">0</td><td style = \"text-align: right;\">1</td><td style = \"text-align: right;\">0</td></tr><tr><td class = \"rowNumber\" style = \"font-weight: bold; text-align: right;\">396</td><td style = \"text-align: right;\">2017</td><td style = \"text-align: left;\">VUS_petit</td><td style = \"text-align: right;\">4</td><td style = \"text-align: right;\">2.4</td><td style = \"text-align: left;\">traction</td><td style = \"text-align: left;\">automatique</td><td style = \"text-align: right;\">9.04654</td><td style = \"text-align: right;\">396</td><td style = \"text-align: right;\">9.6</td><td style = \"text-align: right;\">3500</td><td style = \"text-align: left;\">VUS</td><td style = \"text-align: right;\">0</td><td style = \"text-align: right;\">1</td><td style = \"text-align: right;\">0</td><td style = \"text-align: right;\">0</td><td style = \"text-align: right;\">0</td><td style = \"text-align: right;\">0</td><td style = \"text-align: right;\">0</td><td style = \"text-align: right;\">1</td><td style = \"text-align: right;\">0</td><td style = \"text-align: right;\">1</td><td style = \"text-align: right;\">0</td></tr></tbody></table></div>"
      ],
      "text/latex": [
       "\\begin{tabular}{r|ccccccc}\n",
       "\t& annee & type & nombre\\_cylindres & cylindree & transmission & boite & \\\\\n",
       "\t\\hline\n",
       "\t& Int64 & Abstract… & Int64 & Float64 & String15 & String15 & \\\\\n",
       "\t\\hline\n",
       "\t1 & 2023 & voiture\\_moyenne & 8 & 4.4 & integrale & automatique & $\\dots$ \\\\\n",
       "\t2 & 2020 & VUS\\_petit & 4 & 2.0 & integrale & automatique & $\\dots$ \\\\\n",
       "\t3 & 2021 & voiture\\_compacte & 6 & 3.3 & propulsion & automatique & $\\dots$ \\\\\n",
       "\t4 & 2023 & voiture\\_deux\\_places & 8 & 5.0 & integrale & automatique & $\\dots$ \\\\\n",
       "\t5 & 2022 & voiture\\_moyenne & 8 & 4.4 & integrale & automatique & $\\dots$ \\\\\n",
       "\t6 & 2022 & voiture\\_moyenne & 8 & 4.4 & integrale & automatique & $\\dots$ \\\\\n",
       "\t7 & 2022 & voiture\\_minicompacte & 3 & 1.5 & traction & automatique & $\\dots$ \\\\\n",
       "\t8 & 2024 & voiture\\_minicompacte & 3 & 1.5 & traction & manuelle & $\\dots$ \\\\\n",
       "\t9 & 2020 & VUS\\_standard & 6 & 3.8 & integrale & automatique & $\\dots$ \\\\\n",
       "\t10 & 2019 & voiture\\_compacte & 6 & 3.3 & propulsion & automatique & $\\dots$ \\\\\n",
       "\t11 & 2016 & monospace & 6 & 3.3 & traction & automatique & $\\dots$ \\\\\n",
       "\t12 & 2023 & VUS\\_standard & 8 & 5.0 & 4x4 & automatique & $\\dots$ \\\\\n",
       "\t13 & 2024 & voiture\\_moyenne & 8 & 4.4 & integrale & automatique & $\\dots$ \\\\\n",
       "\t14 & 2024 & voiture\\_sous\\_compacte & 6 & 3.0 & propulsion & automatique & $\\dots$ \\\\\n",
       "\t15 & 2021 & voiture\\_deux\\_places & 6 & 3.0 & propulsion & automatique & $\\dots$ \\\\\n",
       "\t16 & 2021 & camionnette\\_petit & 6 & 3.6 & propulsion & automatique & $\\dots$ \\\\\n",
       "\t17 & 2018 & voiture\\_compacte & 4 & 2.0 & propulsion & manuelle & $\\dots$ \\\\\n",
       "\t18 & 2020 & VUS\\_petit & 8 & 5.0 & integrale & automatique & $\\dots$ \\\\\n",
       "\t19 & 2020 & voiture\\_deux\\_places & 6 & 3.0 & integrale & automatique & $\\dots$ \\\\\n",
       "\t20 & 2019 & VUS\\_petit & 4 & 2.5 & traction & automatique & $\\dots$ \\\\\n",
       "\t21 & 2015 & voiture\\_sous\\_compacte & 6 & 3.8 & integrale & automatique & $\\dots$ \\\\\n",
       "\t22 & 2016 & voiture\\_moyenne & 4 & 2.5 & traction & automatique & $\\dots$ \\\\\n",
       "\t23 & 2014 & voiture\\_minicompacte & 12 & 5.9 & propulsion & automatique & $\\dots$ \\\\\n",
       "\t24 & 2020 & voiture\\_moyenne & 4 & 2.0 & integrale & automatique & $\\dots$ \\\\\n",
       "\t25 & 2015 & VUS\\_standard & 8 & 6.2 & 4x4 & automatique & $\\dots$ \\\\\n",
       "\t26 & 2016 & voiture\\_moyenne & 6 & 3.0 & integrale & automatique & $\\dots$ \\\\\n",
       "\t27 & 2020 & break\\_petit & 4 & 1.6 & traction & automatique & $\\dots$ \\\\\n",
       "\t28 & 2019 & voiture\\_compacte & 6 & 3.5 & traction & automatique & $\\dots$ \\\\\n",
       "\t29 & 2019 & VUS\\_petit & 4 & 2.4 & integrale & automatique & $\\dots$ \\\\\n",
       "\t30 & 2020 & voiture\\_deux\\_places & 6 & 3.0 & propulsion & automatique & $\\dots$ \\\\\n",
       "\t$\\dots$ & $\\dots$ & $\\dots$ & $\\dots$ & $\\dots$ & $\\dots$ & $\\dots$ &  \\\\\n",
       "\\end{tabular}\n"
      ],
      "text/plain": [
       "\u001b[1m396×22 DataFrame\u001b[0m\n",
       "\u001b[1m Row \u001b[0m│\u001b[1m annee \u001b[0m\u001b[1m type                  \u001b[0m\u001b[1m nombre_cylindres \u001b[0m\u001b[1m cylindree \u001b[0m\u001b[1m transmission\u001b[0m ⋯\n",
       "     │\u001b[90m Int64 \u001b[0m\u001b[90m Abstract…             \u001b[0m\u001b[90m Int64            \u001b[0m\u001b[90m Float64   \u001b[0m\u001b[90m String15    \u001b[0m ⋯\n",
       "─────┼──────────────────────────────────────────────────────────────────────────\n",
       "   1 │  2023  voiture_moyenne                       8        4.4  integrale    ⋯\n",
       "   2 │  2020  VUS_petit                             4        2.0  integrale\n",
       "   3 │  2021  voiture_compacte                      6        3.3  propulsion\n",
       "   4 │  2023  voiture_deux_places                   8        5.0  integrale\n",
       "   5 │  2022  voiture_moyenne                       8        4.4  integrale    ⋯\n",
       "   6 │  2022  voiture_moyenne                       8        4.4  integrale\n",
       "   7 │  2022  voiture_minicompacte                  3        1.5  traction\n",
       "   8 │  2024  voiture_minicompacte                  3        1.5  traction\n",
       "   9 │  2020  VUS_standard                          6        3.8  integrale    ⋯\n",
       "  10 │  2019  voiture_compacte                      6        3.3  propulsion\n",
       "  11 │  2016  monospace                             6        3.3  traction\n",
       "  ⋮  │   ⋮              ⋮                   ⋮              ⋮           ⋮       ⋱\n",
       " 387 │  2014  voiture_sous_compacte                 6        3.8  integrale\n",
       " 388 │  2014  VUS_petit                             4        2.4  traction     ⋯\n",
       " 389 │  2016  voiture_moyenne                       6        3.5  integrale\n",
       " 390 │  2024  voiture_compacte                      4        2.0  integrale\n",
       " 391 │  2022  VUS_petit                             4        2.0  traction\n",
       " 392 │  2021  voiture_grande                        8        4.4  integrale    ⋯\n",
       " 393 │  2023  voiture_compacte                      6        3.3  propulsion\n",
       " 394 │  2019  voiture_minicompacte                  3        1.5  traction\n",
       " 395 │  2022  voiture_compacte                      6        3.3  propulsion\n",
       " 396 │  2017  VUS_petit                             4        2.4  traction     ⋯\n",
       "\u001b[36m                                                 17 columns and 375 rows omitted\u001b[0m"
      ]
     },
     "execution_count": 6272,
     "metadata": {},
     "output_type": "execute_result"
    }
   ],
   "source": [
    "d= add_rows(trainData)\n",
    "d = encode_data(d)"
   ]
  },
  {
   "cell_type": "code",
   "execution_count": 6273,
   "metadata": {},
   "outputs": [
    {
     "data": {
      "text/html": [
       "<div><div style = \"float: left;\"><span>396×18 DataFrame</span></div><div style = \"float: right;\"><span style = \"font-style: italic;\">371 rows omitted</span></div><div style = \"clear: both;\"></div></div><div class = \"data-frame\" style = \"overflow-x: scroll;\"><table class = \"data-frame\" style = \"margin-bottom: 6px;\"><thead><tr class = \"header\"><th class = \"rowNumber\" style = \"font-weight: bold; text-align: right;\">Row</th><th style = \"text-align: left;\">annee</th><th style = \"text-align: left;\">nombre_cylindres</th><th style = \"text-align: left;\">cylindree</th><th style = \"text-align: left;\">consommation</th><th style = \"text-align: left;\">id</th><th style = \"text-align: left;\">volume_gaz</th><th style = \"text-align: left;\">weight</th><th style = \"text-align: left;\">voiture</th><th style = \"text-align: left;\">VUS</th><th style = \"text-align: left;\">camionnette</th><th style = \"text-align: left;\">break</th><th style = \"text-align: left;\">voiture_sport</th><th style = \"text-align: left;\">integrale</th><th style = \"text-align: left;\">propulsion</th><th style = \"text-align: left;\">traction</th><th style = \"text-align: left;\">4x4</th><th style = \"text-align: left;\">automatique</th><th style = \"text-align: left;\">manuelle</th></tr><tr class = \"subheader headerLastRow\"><th class = \"rowNumber\" style = \"font-weight: bold; text-align: right;\"></th><th title = \"Int64\" style = \"text-align: left;\">Int64</th><th title = \"Int64\" style = \"text-align: left;\">Int64</th><th title = \"Float64\" style = \"text-align: left;\">Float64</th><th title = \"Float64\" style = \"text-align: left;\">Float64</th><th title = \"Int64\" style = \"text-align: left;\">Int64</th><th title = \"Float64\" style = \"text-align: left;\">Float64</th><th title = \"Int64\" style = \"text-align: left;\">Int64</th><th title = \"Int64\" style = \"text-align: left;\">Int64</th><th title = \"Int64\" style = \"text-align: left;\">Int64</th><th title = \"Int64\" style = \"text-align: left;\">Int64</th><th title = \"Int64\" style = \"text-align: left;\">Int64</th><th title = \"Int64\" style = \"text-align: left;\">Int64</th><th title = \"Int64\" style = \"text-align: left;\">Int64</th><th title = \"Int64\" style = \"text-align: left;\">Int64</th><th title = \"Int64\" style = \"text-align: left;\">Int64</th><th title = \"Int64\" style = \"text-align: left;\">Int64</th><th title = \"Int64\" style = \"text-align: left;\">Int64</th><th title = \"Int64\" style = \"text-align: left;\">Int64</th></tr></thead><tbody><tr><td class = \"rowNumber\" style = \"font-weight: bold; text-align: right;\">1</td><td style = \"text-align: right;\">2023</td><td style = \"text-align: right;\">8</td><td style = \"text-align: right;\">4.4</td><td style = \"text-align: right;\">13.8359</td><td style = \"text-align: right;\">1</td><td style = \"text-align: right;\">35.2</td><td style = \"text-align: right;\">3300</td><td style = \"text-align: right;\">1</td><td style = \"text-align: right;\">0</td><td style = \"text-align: right;\">0</td><td style = \"text-align: right;\">0</td><td style = \"text-align: right;\">0</td><td style = \"text-align: right;\">1</td><td style = \"text-align: right;\">0</td><td style = \"text-align: right;\">0</td><td style = \"text-align: right;\">0</td><td style = \"text-align: right;\">1</td><td style = \"text-align: right;\">0</td></tr><tr><td class = \"rowNumber\" style = \"font-weight: bold; text-align: right;\">2</td><td style = \"text-align: right;\">2020</td><td style = \"text-align: right;\">4</td><td style = \"text-align: right;\">2.0</td><td style = \"text-align: right;\">9.80042</td><td style = \"text-align: right;\">2</td><td style = \"text-align: right;\">8.0</td><td style = \"text-align: right;\">3500</td><td style = \"text-align: right;\">0</td><td style = \"text-align: right;\">1</td><td style = \"text-align: right;\">0</td><td style = \"text-align: right;\">0</td><td style = \"text-align: right;\">0</td><td style = \"text-align: right;\">1</td><td style = \"text-align: right;\">0</td><td style = \"text-align: right;\">0</td><td style = \"text-align: right;\">0</td><td style = \"text-align: right;\">1</td><td style = \"text-align: right;\">0</td></tr><tr><td class = \"rowNumber\" style = \"font-weight: bold; text-align: right;\">3</td><td style = \"text-align: right;\">2021</td><td style = \"text-align: right;\">6</td><td style = \"text-align: right;\">3.3</td><td style = \"text-align: right;\">11.7605</td><td style = \"text-align: right;\">3</td><td style = \"text-align: right;\">19.8</td><td style = \"text-align: right;\">2800</td><td style = \"text-align: right;\">1</td><td style = \"text-align: right;\">0</td><td style = \"text-align: right;\">0</td><td style = \"text-align: right;\">0</td><td style = \"text-align: right;\">0</td><td style = \"text-align: right;\">0</td><td style = \"text-align: right;\">1</td><td style = \"text-align: right;\">0</td><td style = \"text-align: right;\">0</td><td style = \"text-align: right;\">1</td><td style = \"text-align: right;\">0</td></tr><tr><td class = \"rowNumber\" style = \"font-weight: bold; text-align: right;\">4</td><td style = \"text-align: right;\">2023</td><td style = \"text-align: right;\">8</td><td style = \"text-align: right;\">5.0</td><td style = \"text-align: right;\">13.0672</td><td style = \"text-align: right;\">4</td><td style = \"text-align: right;\">40.0</td><td style = \"text-align: right;\">2800</td><td style = \"text-align: right;\">1</td><td style = \"text-align: right;\">0</td><td style = \"text-align: right;\">0</td><td style = \"text-align: right;\">0</td><td style = \"text-align: right;\">0</td><td style = \"text-align: right;\">1</td><td style = \"text-align: right;\">0</td><td style = \"text-align: right;\">0</td><td style = \"text-align: right;\">0</td><td style = \"text-align: right;\">1</td><td style = \"text-align: right;\">0</td></tr><tr><td class = \"rowNumber\" style = \"font-weight: bold; text-align: right;\">5</td><td style = \"text-align: right;\">2022</td><td style = \"text-align: right;\">8</td><td style = \"text-align: right;\">4.4</td><td style = \"text-align: right;\">13.8359</td><td style = \"text-align: right;\">5</td><td style = \"text-align: right;\">35.2</td><td style = \"text-align: right;\">3300</td><td style = \"text-align: right;\">1</td><td style = \"text-align: right;\">0</td><td style = \"text-align: right;\">0</td><td style = \"text-align: right;\">0</td><td style = \"text-align: right;\">0</td><td style = \"text-align: right;\">1</td><td style = \"text-align: right;\">0</td><td style = \"text-align: right;\">0</td><td style = \"text-align: right;\">0</td><td style = \"text-align: right;\">1</td><td style = \"text-align: right;\">0</td></tr><tr><td class = \"rowNumber\" style = \"font-weight: bold; text-align: right;\">6</td><td style = \"text-align: right;\">2022</td><td style = \"text-align: right;\">8</td><td style = \"text-align: right;\">4.4</td><td style = \"text-align: right;\">13.8359</td><td style = \"text-align: right;\">6</td><td style = \"text-align: right;\">35.2</td><td style = \"text-align: right;\">3300</td><td style = \"text-align: right;\">1</td><td style = \"text-align: right;\">0</td><td style = \"text-align: right;\">0</td><td style = \"text-align: right;\">0</td><td style = \"text-align: right;\">0</td><td style = \"text-align: right;\">1</td><td style = \"text-align: right;\">0</td><td style = \"text-align: right;\">0</td><td style = \"text-align: right;\">0</td><td style = \"text-align: right;\">1</td><td style = \"text-align: right;\">0</td></tr><tr><td class = \"rowNumber\" style = \"font-weight: bold; text-align: right;\">7</td><td style = \"text-align: right;\">2022</td><td style = \"text-align: right;\">3</td><td style = \"text-align: right;\">1.5</td><td style = \"text-align: right;\">7.35031</td><td style = \"text-align: right;\">7</td><td style = \"text-align: right;\">4.5</td><td style = \"text-align: right;\">1500</td><td style = \"text-align: right;\">1</td><td style = \"text-align: right;\">0</td><td style = \"text-align: right;\">0</td><td style = \"text-align: right;\">0</td><td style = \"text-align: right;\">0</td><td style = \"text-align: right;\">0</td><td style = \"text-align: right;\">0</td><td style = \"text-align: right;\">1</td><td style = \"text-align: right;\">0</td><td style = \"text-align: right;\">1</td><td style = \"text-align: right;\">0</td></tr><tr><td class = \"rowNumber\" style = \"font-weight: bold; text-align: right;\">8</td><td style = \"text-align: right;\">2024</td><td style = \"text-align: right;\">3</td><td style = \"text-align: right;\">1.5</td><td style = \"text-align: right;\">7.58742</td><td style = \"text-align: right;\">8</td><td style = \"text-align: right;\">4.5</td><td style = \"text-align: right;\">1500</td><td style = \"text-align: right;\">1</td><td style = \"text-align: right;\">0</td><td style = \"text-align: right;\">0</td><td style = \"text-align: right;\">0</td><td style = \"text-align: right;\">0</td><td style = \"text-align: right;\">0</td><td style = \"text-align: right;\">0</td><td style = \"text-align: right;\">1</td><td style = \"text-align: right;\">0</td><td style = \"text-align: right;\">0</td><td style = \"text-align: right;\">1</td></tr><tr><td class = \"rowNumber\" style = \"font-weight: bold; text-align: right;\">9</td><td style = \"text-align: right;\">2020</td><td style = \"text-align: right;\">6</td><td style = \"text-align: right;\">3.8</td><td style = \"text-align: right;\">11.2005</td><td style = \"text-align: right;\">9</td><td style = \"text-align: right;\">22.8</td><td style = \"text-align: right;\">5000</td><td style = \"text-align: right;\">0</td><td style = \"text-align: right;\">1</td><td style = \"text-align: right;\">0</td><td style = \"text-align: right;\">0</td><td style = \"text-align: right;\">0</td><td style = \"text-align: right;\">1</td><td style = \"text-align: right;\">0</td><td style = \"text-align: right;\">0</td><td style = \"text-align: right;\">0</td><td style = \"text-align: right;\">1</td><td style = \"text-align: right;\">0</td></tr><tr><td class = \"rowNumber\" style = \"font-weight: bold; text-align: right;\">10</td><td style = \"text-align: right;\">2019</td><td style = \"text-align: right;\">6</td><td style = \"text-align: right;\">3.3</td><td style = \"text-align: right;\">11.7605</td><td style = \"text-align: right;\">10</td><td style = \"text-align: right;\">19.8</td><td style = \"text-align: right;\">2800</td><td style = \"text-align: right;\">1</td><td style = \"text-align: right;\">0</td><td style = \"text-align: right;\">0</td><td style = \"text-align: right;\">0</td><td style = \"text-align: right;\">0</td><td style = \"text-align: right;\">0</td><td style = \"text-align: right;\">1</td><td style = \"text-align: right;\">0</td><td style = \"text-align: right;\">0</td><td style = \"text-align: right;\">1</td><td style = \"text-align: right;\">0</td></tr><tr><td class = \"rowNumber\" style = \"font-weight: bold; text-align: right;\">11</td><td style = \"text-align: right;\">2016</td><td style = \"text-align: right;\">6</td><td style = \"text-align: right;\">3.3</td><td style = \"text-align: right;\">11.7605</td><td style = \"text-align: right;\">11</td><td style = \"text-align: right;\">19.8</td><td style = \"text-align: right;\">4500</td><td style = \"text-align: right;\">0</td><td style = \"text-align: right;\">0</td><td style = \"text-align: right;\">1</td><td style = \"text-align: right;\">0</td><td style = \"text-align: right;\">0</td><td style = \"text-align: right;\">0</td><td style = \"text-align: right;\">0</td><td style = \"text-align: right;\">1</td><td style = \"text-align: right;\">0</td><td style = \"text-align: right;\">1</td><td style = \"text-align: right;\">0</td></tr><tr><td class = \"rowNumber\" style = \"font-weight: bold; text-align: right;\">12</td><td style = \"text-align: right;\">2023</td><td style = \"text-align: right;\">8</td><td style = \"text-align: right;\">5.0</td><td style = \"text-align: right;\">14.7006</td><td style = \"text-align: right;\">12</td><td style = \"text-align: right;\">40.0</td><td style = \"text-align: right;\">5000</td><td style = \"text-align: right;\">0</td><td style = \"text-align: right;\">1</td><td style = \"text-align: right;\">0</td><td style = \"text-align: right;\">0</td><td style = \"text-align: right;\">0</td><td style = \"text-align: right;\">0</td><td style = \"text-align: right;\">0</td><td style = \"text-align: right;\">0</td><td style = \"text-align: right;\">1</td><td style = \"text-align: right;\">1</td><td style = \"text-align: right;\">0</td></tr><tr><td class = \"rowNumber\" style = \"font-weight: bold; text-align: right;\">13</td><td style = \"text-align: right;\">2024</td><td style = \"text-align: right;\">8</td><td style = \"text-align: right;\">4.4</td><td style = \"text-align: right;\">12.3795</td><td style = \"text-align: right;\">13</td><td style = \"text-align: right;\">35.2</td><td style = \"text-align: right;\">3300</td><td style = \"text-align: right;\">1</td><td style = \"text-align: right;\">0</td><td style = \"text-align: right;\">0</td><td style = \"text-align: right;\">0</td><td style = \"text-align: right;\">0</td><td style = \"text-align: right;\">1</td><td style = \"text-align: right;\">0</td><td style = \"text-align: right;\">0</td><td style = \"text-align: right;\">0</td><td style = \"text-align: right;\">1</td><td style = \"text-align: right;\">0</td></tr><tr><td style = \"text-align: right;\">&vellip;</td><td style = \"text-align: right;\">&vellip;</td><td style = \"text-align: right;\">&vellip;</td><td style = \"text-align: right;\">&vellip;</td><td style = \"text-align: right;\">&vellip;</td><td style = \"text-align: right;\">&vellip;</td><td style = \"text-align: right;\">&vellip;</td><td style = \"text-align: right;\">&vellip;</td><td style = \"text-align: right;\">&vellip;</td><td style = \"text-align: right;\">&vellip;</td><td style = \"text-align: right;\">&vellip;</td><td style = \"text-align: right;\">&vellip;</td><td style = \"text-align: right;\">&vellip;</td><td style = \"text-align: right;\">&vellip;</td><td style = \"text-align: right;\">&vellip;</td><td style = \"text-align: right;\">&vellip;</td><td style = \"text-align: right;\">&vellip;</td><td style = \"text-align: right;\">&vellip;</td><td style = \"text-align: right;\">&vellip;</td></tr><tr><td class = \"rowNumber\" style = \"font-weight: bold; text-align: right;\">385</td><td style = \"text-align: right;\">2018</td><td style = \"text-align: right;\">4</td><td style = \"text-align: right;\">2.0</td><td style = \"text-align: right;\">8.71148</td><td style = \"text-align: right;\">385</td><td style = \"text-align: right;\">8.0</td><td style = \"text-align: right;\">2600</td><td style = \"text-align: right;\">1</td><td style = \"text-align: right;\">0</td><td style = \"text-align: right;\">0</td><td style = \"text-align: right;\">0</td><td style = \"text-align: right;\">0</td><td style = \"text-align: right;\">0</td><td style = \"text-align: right;\">1</td><td style = \"text-align: right;\">0</td><td style = \"text-align: right;\">0</td><td style = \"text-align: right;\">1</td><td style = \"text-align: right;\">0</td></tr><tr><td class = \"rowNumber\" style = \"font-weight: bold; text-align: right;\">386</td><td style = \"text-align: right;\">2014</td><td style = \"text-align: right;\">6</td><td style = \"text-align: right;\">3.7</td><td style = \"text-align: right;\">10.2265</td><td style = \"text-align: right;\">386</td><td style = \"text-align: right;\">22.2</td><td style = \"text-align: right;\">2600</td><td style = \"text-align: right;\">1</td><td style = \"text-align: right;\">0</td><td style = \"text-align: right;\">0</td><td style = \"text-align: right;\">0</td><td style = \"text-align: right;\">0</td><td style = \"text-align: right;\">0</td><td style = \"text-align: right;\">1</td><td style = \"text-align: right;\">0</td><td style = \"text-align: right;\">0</td><td style = \"text-align: right;\">1</td><td style = \"text-align: right;\">0</td></tr><tr><td class = \"rowNumber\" style = \"font-weight: bold; text-align: right;\">387</td><td style = \"text-align: right;\">2014</td><td style = \"text-align: right;\">6</td><td style = \"text-align: right;\">3.8</td><td style = \"text-align: right;\">12.3795</td><td style = \"text-align: right;\">387</td><td style = \"text-align: right;\">22.8</td><td style = \"text-align: right;\">2600</td><td style = \"text-align: right;\">1</td><td style = \"text-align: right;\">0</td><td style = \"text-align: right;\">0</td><td style = \"text-align: right;\">0</td><td style = \"text-align: right;\">0</td><td style = \"text-align: right;\">1</td><td style = \"text-align: right;\">0</td><td style = \"text-align: right;\">0</td><td style = \"text-align: right;\">0</td><td style = \"text-align: right;\">1</td><td style = \"text-align: right;\">0</td></tr><tr><td class = \"rowNumber\" style = \"font-weight: bold; text-align: right;\">388</td><td style = \"text-align: right;\">2014</td><td style = \"text-align: right;\">4</td><td style = \"text-align: right;\">2.4</td><td style = \"text-align: right;\">9.80042</td><td style = \"text-align: right;\">388</td><td style = \"text-align: right;\">9.6</td><td style = \"text-align: right;\">3500</td><td style = \"text-align: right;\">0</td><td style = \"text-align: right;\">1</td><td style = \"text-align: right;\">0</td><td style = \"text-align: right;\">0</td><td style = \"text-align: right;\">0</td><td style = \"text-align: right;\">0</td><td style = \"text-align: right;\">0</td><td style = \"text-align: right;\">1</td><td style = \"text-align: right;\">0</td><td style = \"text-align: right;\">1</td><td style = \"text-align: right;\">0</td></tr><tr><td class = \"rowNumber\" style = \"font-weight: bold; text-align: right;\">389</td><td style = \"text-align: right;\">2016</td><td style = \"text-align: right;\">6</td><td style = \"text-align: right;\">3.5</td><td style = \"text-align: right;\">7.84033</td><td style = \"text-align: right;\">389</td><td style = \"text-align: right;\">21.0</td><td style = \"text-align: right;\">3300</td><td style = \"text-align: right;\">1</td><td style = \"text-align: right;\">0</td><td style = \"text-align: right;\">0</td><td style = \"text-align: right;\">0</td><td style = \"text-align: right;\">0</td><td style = \"text-align: right;\">1</td><td style = \"text-align: right;\">0</td><td style = \"text-align: right;\">0</td><td style = \"text-align: right;\">0</td><td style = \"text-align: right;\">1</td><td style = \"text-align: right;\">0</td></tr><tr><td class = \"rowNumber\" style = \"font-weight: bold; text-align: right;\">390</td><td style = \"text-align: right;\">2024</td><td style = \"text-align: right;\">4</td><td style = \"text-align: right;\">2.0</td><td style = \"text-align: right;\">8.71148</td><td style = \"text-align: right;\">390</td><td style = \"text-align: right;\">8.0</td><td style = \"text-align: right;\">2800</td><td style = \"text-align: right;\">1</td><td style = \"text-align: right;\">0</td><td style = \"text-align: right;\">0</td><td style = \"text-align: right;\">0</td><td style = \"text-align: right;\">0</td><td style = \"text-align: right;\">1</td><td style = \"text-align: right;\">0</td><td style = \"text-align: right;\">0</td><td style = \"text-align: right;\">0</td><td style = \"text-align: right;\">1</td><td style = \"text-align: right;\">0</td></tr><tr><td class = \"rowNumber\" style = \"font-weight: bold; text-align: right;\">391</td><td style = \"text-align: right;\">2022</td><td style = \"text-align: right;\">4</td><td style = \"text-align: right;\">2.0</td><td style = \"text-align: right;\">10.2265</td><td style = \"text-align: right;\">391</td><td style = \"text-align: right;\">8.0</td><td style = \"text-align: right;\">3500</td><td style = \"text-align: right;\">0</td><td style = \"text-align: right;\">1</td><td style = \"text-align: right;\">0</td><td style = \"text-align: right;\">0</td><td style = \"text-align: right;\">0</td><td style = \"text-align: right;\">0</td><td style = \"text-align: right;\">0</td><td style = \"text-align: right;\">1</td><td style = \"text-align: right;\">0</td><td style = \"text-align: right;\">1</td><td style = \"text-align: right;\">0</td></tr><tr><td class = \"rowNumber\" style = \"font-weight: bold; text-align: right;\">392</td><td style = \"text-align: right;\">2021</td><td style = \"text-align: right;\">8</td><td style = \"text-align: right;\">4.4</td><td style = \"text-align: right;\">12.3795</td><td style = \"text-align: right;\">392</td><td style = \"text-align: right;\">35.2</td><td style = \"text-align: right;\">4400</td><td style = \"text-align: right;\">1</td><td style = \"text-align: right;\">0</td><td style = \"text-align: right;\">0</td><td style = \"text-align: right;\">0</td><td style = \"text-align: right;\">0</td><td style = \"text-align: right;\">1</td><td style = \"text-align: right;\">0</td><td style = \"text-align: right;\">0</td><td style = \"text-align: right;\">0</td><td style = \"text-align: right;\">1</td><td style = \"text-align: right;\">0</td></tr><tr><td class = \"rowNumber\" style = \"font-weight: bold; text-align: right;\">393</td><td style = \"text-align: right;\">2023</td><td style = \"text-align: right;\">6</td><td style = \"text-align: right;\">3.3</td><td style = \"text-align: right;\">11.2005</td><td style = \"text-align: right;\">393</td><td style = \"text-align: right;\">19.8</td><td style = \"text-align: right;\">2800</td><td style = \"text-align: right;\">1</td><td style = \"text-align: right;\">0</td><td style = \"text-align: right;\">0</td><td style = \"text-align: right;\">0</td><td style = \"text-align: right;\">0</td><td style = \"text-align: right;\">0</td><td style = \"text-align: right;\">1</td><td style = \"text-align: right;\">0</td><td style = \"text-align: right;\">0</td><td style = \"text-align: right;\">1</td><td style = \"text-align: right;\">0</td></tr><tr><td class = \"rowNumber\" style = \"font-weight: bold; text-align: right;\">394</td><td style = \"text-align: right;\">2019</td><td style = \"text-align: right;\">3</td><td style = \"text-align: right;\">1.5</td><td style = \"text-align: right;\">7.84033</td><td style = \"text-align: right;\">394</td><td style = \"text-align: right;\">4.5</td><td style = \"text-align: right;\">1500</td><td style = \"text-align: right;\">1</td><td style = \"text-align: right;\">0</td><td style = \"text-align: right;\">0</td><td style = \"text-align: right;\">0</td><td style = \"text-align: right;\">0</td><td style = \"text-align: right;\">0</td><td style = \"text-align: right;\">0</td><td style = \"text-align: right;\">1</td><td style = \"text-align: right;\">0</td><td style = \"text-align: right;\">1</td><td style = \"text-align: right;\">0</td></tr><tr><td class = \"rowNumber\" style = \"font-weight: bold; text-align: right;\">395</td><td style = \"text-align: right;\">2022</td><td style = \"text-align: right;\">6</td><td style = \"text-align: right;\">3.3</td><td style = \"text-align: right;\">11.2005</td><td style = \"text-align: right;\">395</td><td style = \"text-align: right;\">19.8</td><td style = \"text-align: right;\">2800</td><td style = \"text-align: right;\">1</td><td style = \"text-align: right;\">0</td><td style = \"text-align: right;\">0</td><td style = \"text-align: right;\">0</td><td style = \"text-align: right;\">0</td><td style = \"text-align: right;\">0</td><td style = \"text-align: right;\">1</td><td style = \"text-align: right;\">0</td><td style = \"text-align: right;\">0</td><td style = \"text-align: right;\">1</td><td style = \"text-align: right;\">0</td></tr><tr><td class = \"rowNumber\" style = \"font-weight: bold; text-align: right;\">396</td><td style = \"text-align: right;\">2017</td><td style = \"text-align: right;\">4</td><td style = \"text-align: right;\">2.4</td><td style = \"text-align: right;\">9.04654</td><td style = \"text-align: right;\">396</td><td style = \"text-align: right;\">9.6</td><td style = \"text-align: right;\">3500</td><td style = \"text-align: right;\">0</td><td style = \"text-align: right;\">1</td><td style = \"text-align: right;\">0</td><td style = \"text-align: right;\">0</td><td style = \"text-align: right;\">0</td><td style = \"text-align: right;\">0</td><td style = \"text-align: right;\">0</td><td style = \"text-align: right;\">1</td><td style = \"text-align: right;\">0</td><td style = \"text-align: right;\">1</td><td style = \"text-align: right;\">0</td></tr></tbody></table></div>"
      ],
      "text/latex": [
       "\\begin{tabular}{r|ccccccccc}\n",
       "\t& annee & nombre\\_cylindres & cylindree & consommation & id & volume\\_gaz & weight & voiture & \\\\\n",
       "\t\\hline\n",
       "\t& Int64 & Int64 & Float64 & Float64 & Int64 & Float64 & Int64 & Int64 & \\\\\n",
       "\t\\hline\n",
       "\t1 & 2023 & 8 & 4.4 & 13.8359 & 1 & 35.2 & 3300 & 1 & $\\dots$ \\\\\n",
       "\t2 & 2020 & 4 & 2.0 & 9.80042 & 2 & 8.0 & 3500 & 0 & $\\dots$ \\\\\n",
       "\t3 & 2021 & 6 & 3.3 & 11.7605 & 3 & 19.8 & 2800 & 1 & $\\dots$ \\\\\n",
       "\t4 & 2023 & 8 & 5.0 & 13.0672 & 4 & 40.0 & 2800 & 1 & $\\dots$ \\\\\n",
       "\t5 & 2022 & 8 & 4.4 & 13.8359 & 5 & 35.2 & 3300 & 1 & $\\dots$ \\\\\n",
       "\t6 & 2022 & 8 & 4.4 & 13.8359 & 6 & 35.2 & 3300 & 1 & $\\dots$ \\\\\n",
       "\t7 & 2022 & 3 & 1.5 & 7.35031 & 7 & 4.5 & 1500 & 1 & $\\dots$ \\\\\n",
       "\t8 & 2024 & 3 & 1.5 & 7.58742 & 8 & 4.5 & 1500 & 1 & $\\dots$ \\\\\n",
       "\t9 & 2020 & 6 & 3.8 & 11.2005 & 9 & 22.8 & 5000 & 0 & $\\dots$ \\\\\n",
       "\t10 & 2019 & 6 & 3.3 & 11.7605 & 10 & 19.8 & 2800 & 1 & $\\dots$ \\\\\n",
       "\t11 & 2016 & 6 & 3.3 & 11.7605 & 11 & 19.8 & 4500 & 0 & $\\dots$ \\\\\n",
       "\t12 & 2023 & 8 & 5.0 & 14.7006 & 12 & 40.0 & 5000 & 0 & $\\dots$ \\\\\n",
       "\t13 & 2024 & 8 & 4.4 & 12.3795 & 13 & 35.2 & 3300 & 1 & $\\dots$ \\\\\n",
       "\t14 & 2024 & 6 & 3.0 & 9.80042 & 14 & 18.0 & 2600 & 1 & $\\dots$ \\\\\n",
       "\t15 & 2021 & 6 & 3.0 & 10.6914 & 15 & 18.0 & 2800 & 1 & $\\dots$ \\\\\n",
       "\t16 & 2021 & 6 & 3.6 & 11.2005 & 16 & 21.6 & 4200 & 0 & $\\dots$ \\\\\n",
       "\t17 & 2018 & 4 & 2.0 & 9.4084 & 17 & 8.0 & 2800 & 1 & $\\dots$ \\\\\n",
       "\t18 & 2020 & 8 & 5.0 & 13.0672 & 18 & 40.0 & 3500 & 0 & $\\dots$ \\\\\n",
       "\t19 & 2020 & 6 & 3.0 & 11.2005 & 19 & 18.0 & 2800 & 1 & $\\dots$ \\\\\n",
       "\t20 & 2019 & 4 & 2.5 & 9.4084 & 20 & 10.0 & 3500 & 0 & $\\dots$ \\\\\n",
       "\t21 & 2015 & 6 & 3.8 & 12.3795 & 21 & 22.8 & 2600 & 1 & $\\dots$ \\\\\n",
       "\t22 & 2016 & 4 & 2.5 & 7.35031 & 22 & 10.0 & 3300 & 1 & $\\dots$ \\\\\n",
       "\t23 & 2014 & 12 & 5.9 & 15.6807 & 23 & 70.8 & 1500 & 1 & $\\dots$ \\\\\n",
       "\t24 & 2020 & 4 & 2.0 & 8.71148 & 24 & 8.0 & 3300 & 1 & $\\dots$ \\\\\n",
       "\t25 & 2015 & 8 & 6.2 & 14.7006 & 25 & 49.6 & 5000 & 0 & $\\dots$ \\\\\n",
       "\t26 & 2016 & 6 & 3.0 & 9.80042 & 26 & 18.0 & 3300 & 1 & $\\dots$ \\\\\n",
       "\t27 & 2020 & 4 & 1.6 & 8.11069 & 27 & 6.4 & 2640 & 0 & $\\dots$ \\\\\n",
       "\t28 & 2019 & 6 & 3.5 & 10.2265 & 28 & 21.0 & 2800 & 1 & $\\dots$ \\\\\n",
       "\t29 & 2019 & 4 & 2.4 & 9.80042 & 29 & 9.6 & 3500 & 0 & $\\dots$ \\\\\n",
       "\t30 & 2020 & 6 & 3.0 & 10.6914 & 30 & 18.0 & 2800 & 1 & $\\dots$ \\\\\n",
       "\t$\\dots$ & $\\dots$ & $\\dots$ & $\\dots$ & $\\dots$ & $\\dots$ & $\\dots$ & $\\dots$ & $\\dots$ &  \\\\\n",
       "\\end{tabular}\n"
      ],
      "text/plain": [
       "\u001b[1m396×18 DataFrame\u001b[0m\n",
       "\u001b[1m Row \u001b[0m│\u001b[1m annee \u001b[0m\u001b[1m nombre_cylindres \u001b[0m\u001b[1m cylindree \u001b[0m\u001b[1m consommation \u001b[0m\u001b[1m id    \u001b[0m\u001b[1m volume_gaz \u001b[0m\u001b[1m we\u001b[0m ⋯\n",
       "     │\u001b[90m Int64 \u001b[0m\u001b[90m Int64            \u001b[0m\u001b[90m Float64   \u001b[0m\u001b[90m Float64      \u001b[0m\u001b[90m Int64 \u001b[0m\u001b[90m Float64    \u001b[0m\u001b[90m In\u001b[0m ⋯\n",
       "─────┼──────────────────────────────────────────────────────────────────────────\n",
       "   1 │  2023                 8        4.4      13.8359       1        35.2     ⋯\n",
       "   2 │  2020                 4        2.0       9.80042      2         8.0\n",
       "   3 │  2021                 6        3.3      11.7605       3        19.8\n",
       "   4 │  2023                 8        5.0      13.0672       4        40.0\n",
       "   5 │  2022                 8        4.4      13.8359       5        35.2     ⋯\n",
       "   6 │  2022                 8        4.4      13.8359       6        35.2\n",
       "   7 │  2022                 3        1.5       7.35031      7         4.5\n",
       "   8 │  2024                 3        1.5       7.58742      8         4.5\n",
       "   9 │  2020                 6        3.8      11.2005       9        22.8     ⋯\n",
       "  10 │  2019                 6        3.3      11.7605      10        19.8\n",
       "  11 │  2016                 6        3.3      11.7605      11        19.8\n",
       "  ⋮  │   ⋮           ⋮              ⋮           ⋮          ⋮        ⋮          ⋱\n",
       " 387 │  2014                 6        3.8      12.3795     387        22.8\n",
       " 388 │  2014                 4        2.4       9.80042    388         9.6     ⋯\n",
       " 389 │  2016                 6        3.5       7.84033    389        21.0\n",
       " 390 │  2024                 4        2.0       8.71148    390         8.0\n",
       " 391 │  2022                 4        2.0      10.2265     391         8.0\n",
       " 392 │  2021                 8        4.4      12.3795     392        35.2     ⋯\n",
       " 393 │  2023                 6        3.3      11.2005     393        19.8\n",
       " 394 │  2019                 3        1.5       7.84033    394         4.5\n",
       " 395 │  2022                 6        3.3      11.2005     395        19.8\n",
       " 396 │  2017                 4        2.4       9.04654    396         9.6     ⋯\n",
       "\u001b[36m                                                 12 columns and 375 rows omitted\u001b[0m"
      ]
     },
     "execution_count": 6273,
     "metadata": {},
     "output_type": "execute_result"
    }
   ],
   "source": [
    "d = removeRows(d)"
   ]
  },
  {
   "cell_type": "code",
   "execution_count": 6274,
   "metadata": {},
   "outputs": [
    {
     "data": {
      "text/html": [
       "<div><div style = \"float: left;\"><span>8×2 DataFrame</span></div><div style = \"clear: both;\"></div></div><div class = \"data-frame\" style = \"overflow-x: scroll;\"><table class = \"data-frame\" style = \"margin-bottom: 6px;\"><thead><tr class = \"header\"><th class = \"rowNumber\" style = \"font-weight: bold; text-align: right;\">Row</th><th style = \"text-align: left;\">colType</th><th style = \"text-align: left;\">abs_maximum</th></tr><tr class = \"subheader headerLastRow\"><th class = \"rowNumber\" style = \"font-weight: bold; text-align: right;\"></th><th title = \"String\" style = \"text-align: left;\">String</th><th title = \"Float64\" style = \"text-align: left;\">Float64</th></tr></thead><tbody><tr><td class = \"rowNumber\" style = \"font-weight: bold; text-align: right;\">1</td><td style = \"text-align: left;\">cylindree</td><td style = \"text-align: right;\">1.0133</td></tr><tr><td class = \"rowNumber\" style = \"font-weight: bold; text-align: right;\">2</td><td style = \"text-align: left;\">nombre_cylindres</td><td style = \"text-align: right;\">0.996866</td></tr><tr><td class = \"rowNumber\" style = \"font-weight: bold; text-align: right;\">3</td><td style = \"text-align: left;\">transmission</td><td style = \"text-align: right;\">0.329464</td></tr><tr><td class = \"rowNumber\" style = \"font-weight: bold; text-align: right;\">4</td><td style = \"text-align: left;\">volume_gaz</td><td style = \"text-align: right;\">0.30483</td></tr><tr><td class = \"rowNumber\" style = \"font-weight: bold; text-align: right;\">5</td><td style = \"text-align: left;\">general_type</td><td style = \"text-align: right;\">0.187735</td></tr><tr><td class = \"rowNumber\" style = \"font-weight: bold; text-align: right;\">6</td><td style = \"text-align: left;\">boite</td><td style = \"text-align: right;\">0.0878455</td></tr><tr><td class = \"rowNumber\" style = \"font-weight: bold; text-align: right;\">7</td><td style = \"text-align: left;\">weight</td><td style = \"text-align: right;\">0.0497366</td></tr><tr><td class = \"rowNumber\" style = \"font-weight: bold; text-align: right;\">8</td><td style = \"text-align: left;\">annee</td><td style = \"text-align: right;\">0.00390767</td></tr></tbody></table></div>"
      ],
      "text/latex": [
       "\\begin{tabular}{r|cc}\n",
       "\t& colType & abs\\_maximum\\\\\n",
       "\t\\hline\n",
       "\t& String & Float64\\\\\n",
       "\t\\hline\n",
       "\t1 & cylindree & 1.0133 \\\\\n",
       "\t2 & nombre\\_cylindres & 0.996866 \\\\\n",
       "\t3 & transmission & 0.329464 \\\\\n",
       "\t4 & volume\\_gaz & 0.30483 \\\\\n",
       "\t5 & general\\_type & 0.187735 \\\\\n",
       "\t6 & boite & 0.0878455 \\\\\n",
       "\t7 & weight & 0.0497366 \\\\\n",
       "\t8 & annee & 0.00390767 \\\\\n",
       "\\end{tabular}\n"
      ],
      "text/plain": [
       "\u001b[1m8×2 DataFrame\u001b[0m\n",
       "\u001b[1m Row \u001b[0m│\u001b[1m colType          \u001b[0m\u001b[1m abs_maximum \u001b[0m\n",
       "     │\u001b[90m String           \u001b[0m\u001b[90m Float64     \u001b[0m\n",
       "─────┼───────────────────────────────\n",
       "   1 │ cylindree          1.0133\n",
       "   2 │ nombre_cylindres   0.996866\n",
       "   3 │ transmission       0.329464\n",
       "   4 │ volume_gaz         0.30483\n",
       "   5 │ general_type       0.187735\n",
       "   6 │ boite              0.0878455\n",
       "   7 │ weight             0.0497366\n",
       "   8 │ annee              0.00390767"
      ]
     },
     "execution_count": 6274,
     "metadata": {},
     "output_type": "execute_result"
    }
   ],
   "source": [
    "using LinearAlgebra\n",
    "\n",
    "function fit_ridge_regression(X::DataFrame, y::Vector, lambda::Float64)\n",
    "    X = mapcols(x -> (x.-mean(x))/std(x), X)\n",
    "    X = Matrix(X)\n",
    "    beta = (X'X + lambda * I) \\ (X'y)\n",
    "    return beta\n",
    "end\n",
    "\n",
    "# Example usage\n",
    "lambda = 0.3\n",
    "\n",
    "beta = fit_ridge_regression(d[:, Not(:consommation, :id)], d.consommation, lambda)\n",
    "betas = DataFrame(colnames=names(d[:, Not(:consommation, :id)]), beta=beta, abs=abs.(beta))\n",
    "\n",
    "colToIndex = Dict(\"cylindree\" => \"cylindree\", \"nombre_cylindres\" => \"nombre_cylindres\", \"volume_gaz\" => \"volume_gaz\", \"weight\" => \"weight\", \"voiture\" => \"general_type\", \"VUS\" => \"general_type\", \"voiture_sport\" => \"general_type\", \"camionnette\" => \"general_type\", \"break\" => \"general_type\", \"manuelle\" => \"boite\", \"automatique\" => \"boite\", \"integrale\" => \"transmission\", \"traction\" => \"transmission\", \"propulsion\" => \"transmission\", \"4x4\" => \"transmission\", \"annee\" => \"annee\")\n",
    "\n",
    "betas.colType = [colToIndex[c] for c in betas.colnames]\n",
    "\n",
    "combined_betas = combine(groupby(betas, :colType), :abs => maximum)\n",
    "\n",
    "#= filtered_betas = filter(row -> row.colType in, combined_betas)\n",
    " =#\n",
    "sort(combined_betas, :abs_maximum, rev=true)"
   ]
  },
  {
   "cell_type": "code",
   "execution_count": 6275,
   "metadata": {},
   "outputs": [
    {
     "name": "stdout",
     "output_type": "stream",
     "text": [
      "[1, 2, 3, 4, 6, 7, 8, 9, 13, 14, 15, 16, 21, 22, 23, 24, 25, 26, 27, 28, 29, 30, 31, 32, 33, 34, 35, 36, 37, 38, 40, 41, 43, 44, 46, 47, 50, 51, 53, 54, 55, 56, 57, 58, 59, 60, 61, 62, 63, 64, 65, 66, 67, 71, 73, 74, 75, 76, 77, 78, 79, 80, 81, 82, 83, 84, 85, 86, 87, 89, 90, 91, 92, 93, 94, 95, 96, 97, 100, 101, 102, 103, 104, 105, 106, 108, 109, 111, 114, 116, 117, 120, 121, 122, 123, 126, 127, 128, 129, 130, 131, 133, 134, 135, 136, 137, 138, 139, 140, 141, 142, 143, 144, 145, 146, 147, 148, 149, 150]"
     ]
    },
    {
     "data": {
      "text/plain": [
       "(\u001b[1m150×2 DataFrame\u001b[0m\n",
       "\u001b[1m Row \u001b[0m│\u001b[1m id    \u001b[0m\u001b[1m consommation \u001b[0m\n",
       "     │\u001b[90m Int64 \u001b[0m\u001b[90m Float64      \u001b[0m\n",
       "─────┼─────────────────────\n",
       "   1 │     1       8.11069\n",
       "   2 │     2       7.59532\n",
       "   3 │     3       8.66848\n",
       "   4 │     4       8.71148\n",
       "   5 │     5      14.7583\n",
       "   6 │     6      13.8359\n",
       "   7 │     7      13.8359\n",
       "   8 │     8      10.2265\n",
       "   9 │     9      10.9459\n",
       "  10 │    10      14.4124\n",
       "  11 │    11      14.4124\n",
       "  ⋮  │   ⋮         ⋮\n",
       " 141 │   141      12.6546\n",
       " 142 │   142      10.1294\n",
       " 143 │   143       9.30079\n",
       " 144 │   144       7.53425\n",
       " 145 │   145       8.60777\n",
       " 146 │   146       8.87901\n",
       " 147 │   147      11.7605\n",
       " 148 │   148      10.9173\n",
       " 149 │   149       7.58742\n",
       " 150 │   150       7.93627\n",
       "\u001b[36m           129 rows omitted\u001b[0m, \u001b[1m15×2 DataFrame\u001b[0m\n",
       "\u001b[1m Row \u001b[0m│\u001b[1m id    \u001b[0m\u001b[1m consommation \u001b[0m\n",
       "     │\u001b[90m Int64 \u001b[0m\u001b[90m Float64      \u001b[0m\n",
       "─────┼─────────────────────\n",
       "   1 │   119      11.2005\n",
       "   2 │    39       8.29229\n",
       "   3 │    45       8.29229\n",
       "   4 │   132       8.29229\n",
       "   5 │    68      12.9347\n",
       "   6 │    69      12.9347\n",
       "   7 │    70      12.9347\n",
       "   8 │   115       8.40036\n",
       "   9 │    72      10.4716\n",
       "  10 │    99      11.2005\n",
       "  11 │   118      10.6914\n",
       "  12 │   124       8.87901\n",
       "  13 │   125       8.87901\n",
       "  14 │    49       6.53361\n",
       "  15 │    48      11.5354)"
      ]
     },
     "execution_count": 6275,
     "metadata": {},
     "output_type": "execute_result"
    }
   ],
   "source": [
    "COLUMNS_TO_COMPARE_1 = [\"type\", \"nombre_cylindres\", \"cylindree\", \"transmission\", \"boite\"]\n",
    "# COLUMNS_TO_COMPARE_2 = [\"nombre_cylindres\", \"cylindree\", \"transmission\", \"type\" ]\n",
    "COLUMNS_TO_COMPARE_3 = [\"nombre_cylindres\", \"cylindree\", \"type\" ]\n",
    "COLUMNS_TO_COMPARE_4 = [\"nombre_cylindres\", \"cylindree\"]\n",
    "COLUMNS_TO_COMPARE_5 = [\"cylindree\"]\n",
    "\n",
    "trainData.type = ifelse.(trainData.type .== \"break_petit\", \"break_moyen\", trainData.type)\n",
    "testData.type = ifelse.(testData.type .== \"break_moyen\", \"break\", testData.type)\n",
    "\n",
    "trainData.type = ifelse.(trainData.type .== \"voiture_deux_places\" .&& trainData.nombre_cylindres .>= 8 .&& trainData.boite .== \"manuelle\" .&& trainData.transmission .== \"integrale\", \"voiture_sport\", trainData.type)\n",
    "testData.type = ifelse.(testData.type .== \"voiture_deux_places\" .&& testData.nombre_cylindres .>= 8 .&& testData.boite .== \"manuelle\" .&& testData.transmission .== \"integrale\", \"voiture_sport\", testData.type)\n",
    "\n",
    "function main(trainData, testData)\n",
    "    uniqueD = get_unique_data(trainData, COLUMNS_TO_COMPARE_1)\n",
    "    pairs = find_pairs(uniqueD, testData, COLUMNS_TO_COMPARE_1)\n",
    "    print(pairs.id)\n",
    "    pairs = select(pairs, [:id, :consommation])\n",
    "    testData = filter(row -> !(row.id in pairs.id), testData)\n",
    "    # println(\"pairs_1\")\n",
    "    # println(pairs)\n",
    "\n",
    "\n",
    "    uniqueD = get_unique_data(trainData, COLUMNS_TO_COMPARE_3)\n",
    "    pairs_2 = find_pairs(uniqueD, testData, COLUMNS_TO_COMPARE_3)\n",
    "    pairs_2 = select(pairs_2, [:id, :consommation])\n",
    "    # println(\"pairs_2\")\n",
    "    # println(pairs_2)\n",
    "    pairs = vcat(pairs, pairs_2)\n",
    "    testData = filter(row -> !(row.id in pairs.id), testData)\n",
    "\n",
    "\n",
    "\n",
    "\n",
    "\n",
    "    uniqueD = get_unique_data(trainData, COLUMNS_TO_COMPARE_4)\n",
    "    pairs_3 = find_pairs(uniqueD, testData, COLUMNS_TO_COMPARE_4)\n",
    "    pairs_3 = select(pairs_3, [:id, :consommation])\n",
    "    pairs = vcat(pairs, pairs_3)\n",
    "    testData = filter(row -> !(row.id in pairs.id), testData)\n",
    "\n",
    "\n",
    "    # uniqueD = get_unique_data(trainData, COLUMNS_TO_COMPARE_5)\n",
    "    # pairs_4 = find_pairs(uniqueD, testData, COLUMNS_TO_COMPARE_5)\n",
    "    # pairs_4 = select(pairs_4, [:id, :consommation])\n",
    "    # pairs = vcat(pairs, pairs_4)\n",
    "    # testData = filter(row -> !(row.id in pairs.id), testData)\n",
    "\n",
    "    average= (15.6806666666667 + 13.8358823529412)/2 \n",
    "    pairs_5 = DataFrame(id=5, consommation=average)\n",
    "    pairs = vcat(pairs, pairs_5)\n",
    "    testData = filter(row -> !(row.id in pairs.id), testData) \n",
    "    # print(testData)\n",
    "\n",
    "    # vcat(pairs_1, pairs_2, pairs_3, pairs_4, pairs_5)\n",
    "\n",
    "    # println(pairs_2.id)\n",
    "\n",
    "    sort!(pairs, :id)\n",
    "\n",
    "    # format_file(pairs,20)\n",
    "\n",
    "    return pairs, pairs_2\n",
    "\n",
    "end\n",
    "out, pairs_2 = main(trainData, testData)"
   ]
  },
  {
   "cell_type": "code",
   "execution_count": 6276,
   "metadata": {},
   "outputs": [
    {
     "data": {
      "text/plain": [
       "tree_regression (generic function with 3 methods)"
      ]
     },
     "execution_count": 6276,
     "metadata": {},
     "output_type": "execute_result"
    }
   ],
   "source": [
    "function tree_regression(training_data, test_data, out)\n",
    "   \n",
    "    common_ids = [1, 2, 3, 4, 6, 7, 8, 9, 13, 14, 15, 16, 21, 22, 23, 24, 25, 26, 27, 28, 29, 30, 31, 32, 33, 34, 35, 36, 37, 38, 40, 41, 43, 44, 46, 47, 50, 51, 53, 54, 55, 56, 57, 58, 59, 60, 61, 62, 63, 64, 65, 66, 67, 71, 73, 74, 75, 76, 77, 78, 79, 80, 81, 82, 83, 84, 85, 86, 87, 89, 90, 91, 92, 93, 94, 95, 96, 97, 100, 101, 102, 103, 104, 105, 106, 108, 109, 111, 113, 114, 116, 117, 120, 121, 122, 123, 126, 127, 128, 129, 130, 131, 133, 134, 135, 136, 137, 138, 139, 140, 141, 142, 143, 144, 145, 146, 147, 148, 149, 150]\n",
    "\n",
    "    y_train = training_data.consommation\n",
    "    common_columns = intersect(names(training_data), names(test_data))\n",
    "    training_data = training_data[:, common_columns]\n",
    "    test_data = test_data[:, common_columns]\n",
    "\n",
    "    out = filter(row -> (row.id in common_ids), out)\n",
    "\n",
    "\n",
    "    X_train = Matrix(training_data[:, Not(:annee, :id)])\n",
    "\n",
    "    X_test = Matrix(test_data[:, Not(:annee, :id)])\n",
    "    # y_test = test_data.consommation\n",
    "\n",
    "    \n",
    "\n",
    "    \n",
    "    model = RandomForestRegressor(n_subfeatures=5, n_trees=1000,min_samples_leaf=1,min_purity_increase=0.0, max_depth=5, min_samples_split=6)\n",
    "    # model = DecisionTreeRegressor(max_depth=5)\n",
    "    fit!(model, X_train, y_train)\n",
    "    ychap =  predict(model, X_test)  \n",
    "\n",
    "\n",
    "\n",
    "    prediction = DataFrame(id=1:150, consommation=ychap)\n",
    "\n",
    "\n",
    "    prediction = filter(row -> !(row.id in common_ids), prediction)\n",
    "\n",
    "    # print(out)\n",
    "\n",
    "\n",
    "    prediction = vcat(prediction, out)\n",
    "\n",
    "\n",
    "    sort!(prediction, :id)\n",
    "\n",
    "\n",
    "\n",
    "\n",
    "    # println(prediction)\n",
    "\n",
    "\n",
    "    return prediction\n",
    "\n",
    "\n",
    "\n",
    "\n",
    "\n",
    "\n",
    "\n",
    "\n",
    "\n",
    "    \n",
    "end"
   ]
  },
  {
   "cell_type": "code",
   "execution_count": 6277,
   "metadata": {},
   "outputs": [
    {
     "name": "stdout",
     "output_type": "stream",
     "text": [
      "\u001b[1mDataFrameRow\u001b[0m\n",
      "\u001b[1m Row \u001b[0m│\u001b[1m id    \u001b[0m\u001b[1m consommation \u001b[0m\n",
      "     │\u001b[90m Int64 \u001b[0m\u001b[90m Float64      \u001b[0m\n",
      "─────┼─────────────────────\n",
      "  72 │    72       12.1355\n",
      "\u001b[1mDataFrameRow\u001b[0m\n",
      "\u001b[1m Row \u001b[0m│\u001b[1m id    \u001b[0m\u001b[1m consommation \u001b[0m\n",
      "     │\u001b[90m Int64 \u001b[0m\u001b[90m Float64      \u001b[0m\n",
      "─────┼─────────────────────\n",
      "  72 │    72       10.4716\n",
      "\u001b[1mDataFrameRow\u001b[0m\n",
      "\u001b[1m Row \u001b[0m│\u001b[1m id    \u001b[0m\u001b[1m consommation \u001b[0m\n",
      "     │\u001b[90m Int64 \u001b[0m\u001b[90m Float64      \u001b[0m\n",
      "─────┼─────────────────────\n",
      "  72 │    72       11.3036\n"
     ]
    }
   ],
   "source": [
    "ptree = tree_regression(trainData, testData, out)\n",
    "\n",
    "idcheck = 72\n",
    "println(ptree[idcheck,:])\n",
    "println(out[idcheck,:])\n",
    "\n",
    "\n",
    "average_data = (out.consommation .+ ptree.consommation) ./ 2\n",
    "\n",
    "average_data = DataFrame(id=1:150, consommation=average_data)\n",
    "\n",
    "format_file(average_data, 25)\n",
    "\n",
    "# average_data = ptree\n",
    "\n",
    "println(average_data[idcheck,:])\n",
    "\n"
   ]
  },
  {
   "cell_type": "code",
   "execution_count": 6278,
   "metadata": {},
   "outputs": [],
   "source": [
    "# t = trainData[trainData.type .== \"VUS_petit\" .&& trainData.nombre_cylindres .==4 .&& trainData.cylindree .== 1.5,:]\n",
    "# # 124 et 125\n",
    "# println(mean(t.consommation))"
   ]
  },
  {
   "cell_type": "code",
   "execution_count": 6279,
   "metadata": {},
   "outputs": [],
   "source": [
    "# t = trainData[trainData.type .== \"camionnette_petit\" .&& trainData.nombre_cylindres .==4 .&& trainData.cylindree .== 2.5,:]\n",
    "# 118\n",
    "# println(mean(t.consommation))"
   ]
  },
  {
   "cell_type": "code",
   "execution_count": 6280,
   "metadata": {},
   "outputs": [
    {
     "data": {
      "text/html": [
       "<div><div style = \"float: left;\"><span>11×10 DataFrame</span></div><div style = \"clear: both;\"></div></div><div class = \"data-frame\" style = \"overflow-x: scroll;\"><table class = \"data-frame\" style = \"margin-bottom: 6px;\"><thead><tr class = \"header\"><th class = \"rowNumber\" style = \"font-weight: bold; text-align: right;\">Row</th><th style = \"text-align: left;\">annee</th><th style = \"text-align: left;\">type</th><th style = \"text-align: left;\">nombre_cylindres</th><th style = \"text-align: left;\">cylindree</th><th style = \"text-align: left;\">transmission</th><th style = \"text-align: left;\">boite</th><th style = \"text-align: left;\">consommation</th><th style = \"text-align: left;\">id</th><th style = \"text-align: left;\">volume_gaz</th><th style = \"text-align: left;\">weight</th></tr><tr class = \"subheader headerLastRow\"><th class = \"rowNumber\" style = \"font-weight: bold; text-align: right;\"></th><th title = \"Int64\" style = \"text-align: left;\">Int64</th><th title = \"AbstractString\" style = \"text-align: left;\">Abstract…</th><th title = \"Int64\" style = \"text-align: left;\">Int64</th><th title = \"Float64\" style = \"text-align: left;\">Float64</th><th title = \"String15\" style = \"text-align: left;\">String15</th><th title = \"String15\" style = \"text-align: left;\">String15</th><th title = \"Float64\" style = \"text-align: left;\">Float64</th><th title = \"Int64\" style = \"text-align: left;\">Int64</th><th title = \"Float64\" style = \"text-align: left;\">Float64</th><th title = \"Int64\" style = \"text-align: left;\">Int64</th></tr></thead><tbody><tr><td class = \"rowNumber\" style = \"font-weight: bold; text-align: right;\">1</td><td style = \"text-align: right;\">2014</td><td style = \"text-align: left;\">voiture_sous_compacte</td><td style = \"text-align: right;\">8</td><td style = \"text-align: right;\">5.0</td><td style = \"text-align: left;\">propulsion</td><td style = \"text-align: left;\">manuelle</td><td style = \"text-align: right;\">13.8359</td><td style = \"text-align: right;\">57</td><td style = \"text-align: right;\">40.0</td><td style = \"text-align: right;\">2600</td></tr><tr><td class = \"rowNumber\" style = \"font-weight: bold; text-align: right;\">2</td><td style = \"text-align: right;\">2014</td><td style = \"text-align: left;\">voiture_sport</td><td style = \"text-align: right;\">8</td><td style = \"text-align: right;\">4.2</td><td style = \"text-align: left;\">integrale</td><td style = \"text-align: left;\">manuelle</td><td style = \"text-align: right;\">16.8007</td><td style = \"text-align: right;\">64</td><td style = \"text-align: right;\">33.6</td><td style = \"text-align: right;\">2800</td></tr><tr><td class = \"rowNumber\" style = \"font-weight: bold; text-align: right;\">3</td><td style = \"text-align: right;\">2017</td><td style = \"text-align: left;\">voiture_deux_places</td><td style = \"text-align: right;\">6</td><td style = \"text-align: right;\">3.0</td><td style = \"text-align: left;\">propulsion</td><td style = \"text-align: left;\">manuelle</td><td style = \"text-align: right;\">12.3795</td><td style = \"text-align: right;\">82</td><td style = \"text-align: right;\">18.0</td><td style = \"text-align: right;\">2800</td></tr><tr><td class = \"rowNumber\" style = \"font-weight: bold; text-align: right;\">4</td><td style = \"text-align: right;\">2019</td><td style = \"text-align: left;\">voiture_deux_places</td><td style = \"text-align: right;\">8</td><td style = \"text-align: right;\">6.2</td><td style = \"text-align: left;\">propulsion</td><td style = \"text-align: left;\">manuelle</td><td style = \"text-align: right;\">12.3795</td><td style = \"text-align: right;\">93</td><td style = \"text-align: right;\">49.6</td><td style = \"text-align: right;\">2800</td></tr><tr><td class = \"rowNumber\" style = \"font-weight: bold; text-align: right;\">5</td><td style = \"text-align: right;\">2019</td><td style = \"text-align: left;\">voiture_deux_places</td><td style = \"text-align: right;\">8</td><td style = \"text-align: right;\">6.2</td><td style = \"text-align: left;\">propulsion</td><td style = \"text-align: left;\">manuelle</td><td style = \"text-align: right;\">13.8359</td><td style = \"text-align: right;\">135</td><td style = \"text-align: right;\">49.6</td><td style = \"text-align: right;\">2800</td></tr><tr><td class = \"rowNumber\" style = \"font-weight: bold; text-align: right;\">6</td><td style = \"text-align: right;\">2017</td><td style = \"text-align: left;\">voiture_deux_places</td><td style = \"text-align: right;\">6</td><td style = \"text-align: right;\">3.0</td><td style = \"text-align: left;\">propulsion</td><td style = \"text-align: left;\">manuelle</td><td style = \"text-align: right;\">13.0672</td><td style = \"text-align: right;\">190</td><td style = \"text-align: right;\">18.0</td><td style = \"text-align: right;\">2800</td></tr><tr><td class = \"rowNumber\" style = \"font-weight: bold; text-align: right;\">7</td><td style = \"text-align: right;\">2014</td><td style = \"text-align: left;\">voiture_sous_compacte</td><td style = \"text-align: right;\">6</td><td style = \"text-align: right;\">3.7</td><td style = \"text-align: left;\">propulsion</td><td style = \"text-align: left;\">manuelle</td><td style = \"text-align: right;\">10.6914</td><td style = \"text-align: right;\">193</td><td style = \"text-align: right;\">22.2</td><td style = \"text-align: right;\">2600</td></tr><tr><td class = \"rowNumber\" style = \"font-weight: bold; text-align: right;\">8</td><td style = \"text-align: right;\">2018</td><td style = \"text-align: left;\">voiture_compacte</td><td style = \"text-align: right;\">6</td><td style = \"text-align: right;\">3.0</td><td style = \"text-align: left;\">propulsion</td><td style = \"text-align: left;\">manuelle</td><td style = \"text-align: right;\">11.7605</td><td style = \"text-align: right;\">281</td><td style = \"text-align: right;\">18.0</td><td style = \"text-align: right;\">2800</td></tr><tr><td class = \"rowNumber\" style = \"font-weight: bold; text-align: right;\">9</td><td style = \"text-align: right;\">2017</td><td style = \"text-align: left;\">voiture_deux_places</td><td style = \"text-align: right;\">6</td><td style = \"text-align: right;\">3.0</td><td style = \"text-align: left;\">propulsion</td><td style = \"text-align: left;\">manuelle</td><td style = \"text-align: right;\">13.0672</td><td style = \"text-align: right;\">294</td><td style = \"text-align: right;\">18.0</td><td style = \"text-align: right;\">2800</td></tr><tr><td class = \"rowNumber\" style = \"font-weight: bold; text-align: right;\">10</td><td style = \"text-align: right;\">2014</td><td style = \"text-align: left;\">voiture_sport</td><td style = \"text-align: right;\">8</td><td style = \"text-align: right;\">4.2</td><td style = \"text-align: left;\">integrale</td><td style = \"text-align: left;\">manuelle</td><td style = \"text-align: right;\">16.8007</td><td style = \"text-align: right;\">358</td><td style = \"text-align: right;\">33.6</td><td style = \"text-align: right;\">2800</td></tr><tr><td class = \"rowNumber\" style = \"font-weight: bold; text-align: right;\">11</td><td style = \"text-align: right;\">2018</td><td style = \"text-align: left;\">voiture_sous_compacte</td><td style = \"text-align: right;\">6</td><td style = \"text-align: right;\">3.0</td><td style = \"text-align: left;\">propulsion</td><td style = \"text-align: left;\">manuelle</td><td style = \"text-align: right;\">11.7605</td><td style = \"text-align: right;\">377</td><td style = \"text-align: right;\">18.0</td><td style = \"text-align: right;\">2600</td></tr></tbody></table></div>"
      ],
      "text/latex": [
       "\\begin{tabular}{r|ccccccc}\n",
       "\t& annee & type & nombre\\_cylindres & cylindree & transmission & boite & \\\\\n",
       "\t\\hline\n",
       "\t& Int64 & Abstract… & Int64 & Float64 & String15 & String15 & \\\\\n",
       "\t\\hline\n",
       "\t1 & 2014 & voiture\\_sous\\_compacte & 8 & 5.0 & propulsion & manuelle & $\\dots$ \\\\\n",
       "\t2 & 2014 & voiture\\_sport & 8 & 4.2 & integrale & manuelle & $\\dots$ \\\\\n",
       "\t3 & 2017 & voiture\\_deux\\_places & 6 & 3.0 & propulsion & manuelle & $\\dots$ \\\\\n",
       "\t4 & 2019 & voiture\\_deux\\_places & 8 & 6.2 & propulsion & manuelle & $\\dots$ \\\\\n",
       "\t5 & 2019 & voiture\\_deux\\_places & 8 & 6.2 & propulsion & manuelle & $\\dots$ \\\\\n",
       "\t6 & 2017 & voiture\\_deux\\_places & 6 & 3.0 & propulsion & manuelle & $\\dots$ \\\\\n",
       "\t7 & 2014 & voiture\\_sous\\_compacte & 6 & 3.7 & propulsion & manuelle & $\\dots$ \\\\\n",
       "\t8 & 2018 & voiture\\_compacte & 6 & 3.0 & propulsion & manuelle & $\\dots$ \\\\\n",
       "\t9 & 2017 & voiture\\_deux\\_places & 6 & 3.0 & propulsion & manuelle & $\\dots$ \\\\\n",
       "\t10 & 2014 & voiture\\_sport & 8 & 4.2 & integrale & manuelle & $\\dots$ \\\\\n",
       "\t11 & 2018 & voiture\\_sous\\_compacte & 6 & 3.0 & propulsion & manuelle & $\\dots$ \\\\\n",
       "\\end{tabular}\n"
      ],
      "text/plain": [
       "\u001b[1m11×10 DataFrame\u001b[0m\n",
       "\u001b[1m Row \u001b[0m│\u001b[1m annee \u001b[0m\u001b[1m type                  \u001b[0m\u001b[1m nombre_cylindres \u001b[0m\u001b[1m cylindree \u001b[0m\u001b[1m transmission\u001b[0m ⋯\n",
       "     │\u001b[90m Int64 \u001b[0m\u001b[90m Abstract…             \u001b[0m\u001b[90m Int64            \u001b[0m\u001b[90m Float64   \u001b[0m\u001b[90m String15    \u001b[0m ⋯\n",
       "─────┼──────────────────────────────────────────────────────────────────────────\n",
       "   1 │  2014  voiture_sous_compacte                 8        5.0  propulsion   ⋯\n",
       "   2 │  2014  voiture_sport                         8        4.2  integrale\n",
       "   3 │  2017  voiture_deux_places                   6        3.0  propulsion\n",
       "   4 │  2019  voiture_deux_places                   8        6.2  propulsion\n",
       "   5 │  2019  voiture_deux_places                   8        6.2  propulsion   ⋯\n",
       "   6 │  2017  voiture_deux_places                   6        3.0  propulsion\n",
       "   7 │  2014  voiture_sous_compacte                 6        3.7  propulsion\n",
       "   8 │  2018  voiture_compacte                      6        3.0  propulsion\n",
       "   9 │  2017  voiture_deux_places                   6        3.0  propulsion   ⋯\n",
       "  10 │  2014  voiture_sport                         8        4.2  integrale\n",
       "  11 │  2018  voiture_sous_compacte                 6        3.0  propulsion\n",
       "\u001b[36m                                                               5 columns omitted\u001b[0m"
      ]
     },
     "execution_count": 6280,
     "metadata": {},
     "output_type": "execute_result"
    }
   ],
   "source": [
    "t = trainData[ trainData.nombre_cylindres .>= 6 .&& trainData.boite .==\"manuelle\",:]\n",
    "# 10, 11\n",
    "# println(mean(t.consommation))"
   ]
  },
  {
   "cell_type": "code",
   "execution_count": 6281,
   "metadata": {},
   "outputs": [],
   "source": [
    "# t = trainData[trainData.type .== \"voiture_moyenne\" .&& trainData.nombre_cylindres .==4 .&& trainData.cylindree .== 2.0,:]\n",
    "# # 39, 45\n",
    "# println(mean(t.consommation))"
   ]
  },
  {
   "cell_type": "code",
   "execution_count": 6282,
   "metadata": {},
   "outputs": [
    {
     "data": {
      "text/html": [
       "<div><div style = \"float: left;\"><span>6×10 DataFrame</span></div><div style = \"clear: both;\"></div></div><div class = \"data-frame\" style = \"overflow-x: scroll;\"><table class = \"data-frame\" style = \"margin-bottom: 6px;\"><thead><tr class = \"header\"><th class = \"rowNumber\" style = \"font-weight: bold; text-align: right;\">Row</th><th style = \"text-align: left;\">annee</th><th style = \"text-align: left;\">type</th><th style = \"text-align: left;\">nombre_cylindres</th><th style = \"text-align: left;\">cylindree</th><th style = \"text-align: left;\">transmission</th><th style = \"text-align: left;\">boite</th><th style = \"text-align: left;\">consommation</th><th style = \"text-align: left;\">id</th><th style = \"text-align: left;\">volume_gaz</th><th style = \"text-align: left;\">weight</th></tr><tr class = \"subheader headerLastRow\"><th class = \"rowNumber\" style = \"font-weight: bold; text-align: right;\"></th><th title = \"Int64\" style = \"text-align: left;\">Int64</th><th title = \"AbstractString\" style = \"text-align: left;\">Abstract…</th><th title = \"Int64\" style = \"text-align: left;\">Int64</th><th title = \"Float64\" style = \"text-align: left;\">Float64</th><th title = \"String15\" style = \"text-align: left;\">String15</th><th title = \"String15\" style = \"text-align: left;\">String15</th><th title = \"Float64\" style = \"text-align: left;\">Float64</th><th title = \"Int64\" style = \"text-align: left;\">Int64</th><th title = \"Float64\" style = \"text-align: left;\">Float64</th><th title = \"Int64\" style = \"text-align: left;\">Int64</th></tr></thead><tbody><tr><td class = \"rowNumber\" style = \"font-weight: bold; text-align: right;\">1</td><td style = \"text-align: right;\">2018</td><td style = \"text-align: left;\">voiture_compacte</td><td style = \"text-align: right;\">6</td><td style = \"text-align: right;\">3.0</td><td style = \"text-align: left;\">propulsion</td><td style = \"text-align: left;\">automatique</td><td style = \"text-align: right;\">11.7605</td><td style = \"text-align: right;\">103</td><td style = \"text-align: right;\">18.0</td><td style = \"text-align: right;\">2800</td></tr><tr><td class = \"rowNumber\" style = \"font-weight: bold; text-align: right;\">2</td><td style = \"text-align: right;\">2015</td><td style = \"text-align: left;\">voiture_compacte</td><td style = \"text-align: right;\">6</td><td style = \"text-align: right;\">3.0</td><td style = \"text-align: left;\">integrale</td><td style = \"text-align: left;\">automatique</td><td style = \"text-align: right;\">10.6914</td><td style = \"text-align: right;\">207</td><td style = \"text-align: right;\">18.0</td><td style = \"text-align: right;\">2800</td></tr><tr><td class = \"rowNumber\" style = \"font-weight: bold; text-align: right;\">3</td><td style = \"text-align: right;\">2018</td><td style = \"text-align: left;\">voiture_compacte</td><td style = \"text-align: right;\">6</td><td style = \"text-align: right;\">3.0</td><td style = \"text-align: left;\">propulsion</td><td style = \"text-align: left;\">manuelle</td><td style = \"text-align: right;\">11.7605</td><td style = \"text-align: right;\">281</td><td style = \"text-align: right;\">18.0</td><td style = \"text-align: right;\">2800</td></tr><tr><td class = \"rowNumber\" style = \"font-weight: bold; text-align: right;\">4</td><td style = \"text-align: right;\">2018</td><td style = \"text-align: left;\">voiture_compacte</td><td style = \"text-align: right;\">6</td><td style = \"text-align: right;\">3.0</td><td style = \"text-align: left;\">integrale</td><td style = \"text-align: left;\">automatique</td><td style = \"text-align: right;\">9.80042</td><td style = \"text-align: right;\">291</td><td style = \"text-align: right;\">18.0</td><td style = \"text-align: right;\">2800</td></tr><tr><td class = \"rowNumber\" style = \"font-weight: bold; text-align: right;\">5</td><td style = \"text-align: right;\">2018</td><td style = \"text-align: left;\">voiture_compacte</td><td style = \"text-align: right;\">6</td><td style = \"text-align: right;\">3.0</td><td style = \"text-align: left;\">propulsion</td><td style = \"text-align: left;\">automatique</td><td style = \"text-align: right;\">9.4084</td><td style = \"text-align: right;\">293</td><td style = \"text-align: right;\">18.0</td><td style = \"text-align: right;\">2800</td></tr><tr><td class = \"rowNumber\" style = \"font-weight: bold; text-align: right;\">6</td><td style = \"text-align: right;\">2018</td><td style = \"text-align: left;\">voiture_compacte</td><td style = \"text-align: right;\">6</td><td style = \"text-align: right;\">3.0</td><td style = \"text-align: left;\">propulsion</td><td style = \"text-align: left;\">automatique</td><td style = \"text-align: right;\">9.4084</td><td style = \"text-align: right;\">384</td><td style = \"text-align: right;\">18.0</td><td style = \"text-align: right;\">2800</td></tr></tbody></table></div>"
      ],
      "text/latex": [
       "\\begin{tabular}{r|ccccccc}\n",
       "\t& annee & type & nombre\\_cylindres & cylindree & transmission & boite & \\\\\n",
       "\t\\hline\n",
       "\t& Int64 & Abstract… & Int64 & Float64 & String15 & String15 & \\\\\n",
       "\t\\hline\n",
       "\t1 & 2018 & voiture\\_compacte & 6 & 3.0 & propulsion & automatique & $\\dots$ \\\\\n",
       "\t2 & 2015 & voiture\\_compacte & 6 & 3.0 & integrale & automatique & $\\dots$ \\\\\n",
       "\t3 & 2018 & voiture\\_compacte & 6 & 3.0 & propulsion & manuelle & $\\dots$ \\\\\n",
       "\t4 & 2018 & voiture\\_compacte & 6 & 3.0 & integrale & automatique & $\\dots$ \\\\\n",
       "\t5 & 2018 & voiture\\_compacte & 6 & 3.0 & propulsion & automatique & $\\dots$ \\\\\n",
       "\t6 & 2018 & voiture\\_compacte & 6 & 3.0 & propulsion & automatique & $\\dots$ \\\\\n",
       "\\end{tabular}\n"
      ],
      "text/plain": [
       "\u001b[1m6×10 DataFrame\u001b[0m\n",
       "\u001b[1m Row \u001b[0m│\u001b[1m annee \u001b[0m\u001b[1m type             \u001b[0m\u001b[1m nombre_cylindres \u001b[0m\u001b[1m cylindree \u001b[0m\u001b[1m transmission \u001b[0m\u001b[1m boi\u001b[0m ⋯\n",
       "     │\u001b[90m Int64 \u001b[0m\u001b[90m Abstract…        \u001b[0m\u001b[90m Int64            \u001b[0m\u001b[90m Float64   \u001b[0m\u001b[90m String15     \u001b[0m\u001b[90m Str\u001b[0m ⋯\n",
       "─────┼──────────────────────────────────────────────────────────────────────────\n",
       "   1 │  2018  voiture_compacte                 6        3.0  propulsion    aut ⋯\n",
       "   2 │  2015  voiture_compacte                 6        3.0  integrale     aut\n",
       "   3 │  2018  voiture_compacte                 6        3.0  propulsion    man\n",
       "   4 │  2018  voiture_compacte                 6        3.0  integrale     aut\n",
       "   5 │  2018  voiture_compacte                 6        3.0  propulsion    aut ⋯\n",
       "   6 │  2018  voiture_compacte                 6        3.0  propulsion    aut\n",
       "\u001b[36m                                                               5 columns omitted\u001b[0m"
      ]
     },
     "execution_count": 6282,
     "metadata": {},
     "output_type": "execute_result"
    }
   ],
   "source": [
    "t = trainData[trainData.type .== \"voiture_compacte\" .&& trainData.nombre_cylindres .==6 .&& trainData.cylindree .== 3.0,:]\n",
    "# t = trainData[trainData.type .== \"voiture_compacte\" .|| trainData.type .== \"break_moyen\" ,:]\n",
    "# 39, 45\n",
    "# println(mean(t.consommation))"
   ]
  },
  {
   "cell_type": "code",
   "execution_count": 6283,
   "metadata": {},
   "outputs": [
    {
     "data": {
      "text/html": [
       "<div><div style = \"float: left;\"><span>DataFrameRow (2 columns)</span></div><div style = \"clear: both;\"></div></div><div class = \"data-frame\" style = \"overflow-x: scroll;\"><table class = \"data-frame\" style = \"margin-bottom: 6px;\"><thead><tr class = \"header\"><th class = \"rowLabel\" style = \"font-weight: bold; text-align: right;\">Row</th><th style = \"text-align: left;\">id</th><th style = \"text-align: left;\">consommation</th></tr><tr class = \"subheader headerLastRow\"><th class = \"rowLabel\" style = \"font-weight: bold; text-align: right;\"></th><th title = \"Int64\" style = \"text-align: left;\">Int64</th><th title = \"Float64\" style = \"text-align: left;\">Float64</th></tr></thead><tbody><tr><td class = \"rowLabel\" style = \"font-weight: bold; text-align: right;\">112</td><td style = \"text-align: right;\">112</td><td style = \"text-align: right;\">8.84955</td></tr></tbody></table></div>"
      ],
      "text/latex": [
       "\\begin{tabular}{r|cc}\n",
       "\t& id & consommation\\\\\n",
       "\t\\hline\n",
       "\t& Int64 & Float64\\\\\n",
       "\t\\hline\n",
       "\t112 & 112 & 8.84955 \\\\\n",
       "\\end{tabular}\n"
      ],
      "text/plain": [
       "\u001b[1mDataFrameRow\u001b[0m\n",
       "\u001b[1m Row \u001b[0m│\u001b[1m id    \u001b[0m\u001b[1m consommation \u001b[0m\n",
       "     │\u001b[90m Int64 \u001b[0m\u001b[90m Float64      \u001b[0m\n",
       "─────┼─────────────────────\n",
       " 112 │   112       8.84955"
      ]
     },
     "execution_count": 6283,
     "metadata": {},
     "output_type": "execute_result"
    }
   ],
   "source": [
    "average_data[112,:]"
   ]
  },
  {
   "cell_type": "code",
   "execution_count": 6284,
   "metadata": {},
   "outputs": [
    {
     "data": {
      "text/html": [
       "<div><div style = \"float: left;\"><span>DataFrameRow (7 columns)</span></div><div style = \"clear: both;\"></div></div><div class = \"data-frame\" style = \"overflow-x: scroll;\"><table class = \"data-frame\" style = \"margin-bottom: 6px;\"><thead><tr class = \"header\"><th class = \"rowLabel\" style = \"font-weight: bold; text-align: right;\">Row</th><th style = \"text-align: left;\">annee</th><th style = \"text-align: left;\">type</th><th style = \"text-align: left;\">nombre_cylindres</th><th style = \"text-align: left;\">cylindree</th><th style = \"text-align: left;\">transmission</th><th style = \"text-align: left;\">boite</th><th style = \"text-align: left;\">id</th></tr><tr class = \"subheader headerLastRow\"><th class = \"rowLabel\" style = \"font-weight: bold; text-align: right;\"></th><th title = \"Int64\" style = \"text-align: left;\">Int64</th><th title = \"AbstractString\" style = \"text-align: left;\">Abstract…</th><th title = \"Int64\" style = \"text-align: left;\">Int64</th><th title = \"Float64\" style = \"text-align: left;\">Float64</th><th title = \"String15\" style = \"text-align: left;\">String15</th><th title = \"String15\" style = \"text-align: left;\">String15</th><th title = \"Int64\" style = \"text-align: left;\">Int64</th></tr></thead><tbody><tr><td class = \"rowLabel\" style = \"font-weight: bold; text-align: right;\">98</td><td style = \"text-align: right;\">2020</td><td style = \"text-align: left;\">break_petit</td><td style = \"text-align: right;\">4</td><td style = \"text-align: right;\">2.0</td><td style = \"text-align: left;\">traction</td><td style = \"text-align: left;\">manuelle</td><td style = \"text-align: right;\">98</td></tr></tbody></table></div>"
      ],
      "text/latex": [
       "\\begin{tabular}{r|ccccccc}\n",
       "\t& annee & type & nombre\\_cylindres & cylindree & transmission & boite & id\\\\\n",
       "\t\\hline\n",
       "\t& Int64 & Abstract… & Int64 & Float64 & String15 & String15 & Int64\\\\\n",
       "\t\\hline\n",
       "\t98 & 2020 & break\\_petit & 4 & 2.0 & traction & manuelle & 98 \\\\\n",
       "\\end{tabular}\n"
      ],
      "text/plain": [
       "\u001b[1mDataFrameRow\u001b[0m\n",
       "\u001b[1m Row \u001b[0m│\u001b[1m annee \u001b[0m\u001b[1m type        \u001b[0m\u001b[1m nombre_cylindres \u001b[0m\u001b[1m cylindree \u001b[0m\u001b[1m transmission \u001b[0m\u001b[1m boite   \u001b[0m ⋯\n",
       "     │\u001b[90m Int64 \u001b[0m\u001b[90m Abstract…   \u001b[0m\u001b[90m Int64            \u001b[0m\u001b[90m Float64   \u001b[0m\u001b[90m String15     \u001b[0m\u001b[90m String15\u001b[0m ⋯\n",
       "─────┼──────────────────────────────────────────────────────────────────────────\n",
       "  98 │  2020  break_petit                 4        2.0  traction      manuelle ⋯\n",
       "\u001b[36m                                                                1 column omitted\u001b[0m"
      ]
     },
     "execution_count": 6284,
     "metadata": {},
     "output_type": "execute_result"
    }
   ],
   "source": [
    "testData[98, :]\n",
    "# testData[testData.type .== \"break_petit\" .|| testData.type .== \"break_moyen\" , :]"
   ]
  },
  {
   "cell_type": "code",
   "execution_count": 6285,
   "metadata": {},
   "outputs": [
    {
     "data": {
      "text/html": [
       "<div><div style = \"float: left;\"><span>DataFrameRow (2 columns)</span></div><div style = \"clear: both;\"></div></div><div class = \"data-frame\" style = \"overflow-x: scroll;\"><table class = \"data-frame\" style = \"margin-bottom: 6px;\"><thead><tr class = \"header\"><th class = \"rowLabel\" style = \"font-weight: bold; text-align: right;\">Row</th><th style = \"text-align: left;\">id</th><th style = \"text-align: left;\">consommation</th></tr><tr class = \"subheader headerLastRow\"><th class = \"rowLabel\" style = \"font-weight: bold; text-align: right;\"></th><th title = \"Int64\" style = \"text-align: left;\">Int64</th><th title = \"Float64\" style = \"text-align: left;\">Float64</th></tr></thead><tbody><tr><td class = \"rowLabel\" style = \"font-weight: bold; text-align: right;\">45</td><td style = \"text-align: right;\">45</td><td style = \"text-align: right;\">8.7731</td></tr></tbody></table></div>"
      ],
      "text/latex": [
       "\\begin{tabular}{r|cc}\n",
       "\t& id & consommation\\\\\n",
       "\t\\hline\n",
       "\t& Int64 & Float64\\\\\n",
       "\t\\hline\n",
       "\t45 & 45 & 8.7731 \\\\\n",
       "\\end{tabular}\n"
      ],
      "text/plain": [
       "\u001b[1mDataFrameRow\u001b[0m\n",
       "\u001b[1m Row \u001b[0m│\u001b[1m id    \u001b[0m\u001b[1m consommation \u001b[0m\n",
       "     │\u001b[90m Int64 \u001b[0m\u001b[90m Float64      \u001b[0m\n",
       "─────┼─────────────────────\n",
       "  45 │    45        8.7731"
      ]
     },
     "execution_count": 6285,
     "metadata": {},
     "output_type": "execute_result"
    }
   ],
   "source": [
    "data_13 = CSV.read(\"./benchmark13.csv\", DataFrame)\n",
    "\n",
    "data_13[45,:]"
   ]
  },
  {
   "cell_type": "code",
   "execution_count": 6286,
   "metadata": {},
   "outputs": [
    {
     "name": "stdout",
     "output_type": "stream",
     "text": [
      "[39, 45, 132, 72, 49]\n",
      "0.019173783002451324\n",
      "\u001b[1m7×2 DataFrame\u001b[0m\n",
      "\u001b[1m Row \u001b[0m│\u001b[1m id    \u001b[0m\u001b[1m diff      \u001b[0m\n",
      "     │\u001b[90m Int64 \u001b[0m\u001b[90m Float64   \u001b[0m\n",
      "─────┼──────────────────\n",
      "   1 │     5  -0.433348\n",
      "   2 │    39  -0.386248\n",
      "   3 │    45  -0.386248\n",
      "   4 │    49  -0.500115\n",
      "   5 │    72  -0.817476\n",
      "   6 │   107   0.738532\n",
      "   7 │   132  -0.386248\n"
     ]
    }
   ],
   "source": [
    "sort(data_13, :id)\n",
    "\n",
    "difference = average_data.consommation - data_13.consommation\n",
    "\n",
    "diff_df = DataFrame(id=average_data.id, diff=difference)\n",
    "\n",
    "filtered_diff_df = filter(row -> abs(row.diff) > 0.3, diff_df)\n",
    "\n",
    "common_ids = intersect(pairs_2.id, filtered_diff_df.id)\n",
    "\n",
    "println(common_ids)\n",
    "\n",
    "total_diff = sum(abs.(diff_df.diff).^2)/150\n",
    "\n",
    "println(total_diff)\n",
    "\n",
    "println(filtered_diff_df)\n"
   ]
  },
  {
   "cell_type": "code",
   "execution_count": 6287,
   "metadata": {},
   "outputs": [
    {
     "data": {
      "image/png": "[encoded data removed]",
      "image/svg+xml": [
       "<?xml version=\"1.0\" encoding=\"utf-8\"?>\n",
       "<svg xmlns=\"http://www.w3.org/2000/svg\" xmlns:xlink=\"http://www.w3.org/1999/xlink\" width=\"600\" height=\"400\" viewBox=\"0 0 2400 1600\">\n",
       "<defs>\n",
       "  <clipPath id=\"clip100\">\n",
       "    <rect x=\"0\" y=\"0\" width=\"2400\" height=\"1600\"/>\n",
       "  </clipPath>\n",
       "</defs>\n",
       "<path clip-path=\"url(#clip100)\" d=\"M0 1600 L2400 1600 L2400 0 L0 0  Z\" fill=\"#ffffff\" fill-rule=\"evenodd\" fill-opacity=\"1\"/>\n",
       "<defs>\n",
       "  <clipPath id=\"clip101\">\n",
       "    <rect x=\"480\" y=\"0\" width=\"1681\" height=\"1600\"/>\n",
       "  </clipPath>\n",
       "</defs>\n",
       "<path clip-path=\"url(#clip100)\" d=\"M184.191 1486.45 L2352.76 1486.45 L2352.76 47.2441 L184.191 47.2441  Z\" fill=\"#ffffff\" fill-rule=\"evenodd\" fill-opacity=\"1\"/>\n",
       "<defs>\n",
       "  <clipPath id=\"clip102\">\n",
       "    <rect x=\"184\" y=\"47\" width=\"2170\" height=\"1440\"/>\n",
       "  </clipPath>\n",
       "</defs>\n",
       "<polyline clip-path=\"url(#clip102)\" style=\"stroke:#000000; stroke-linecap:round; stroke-linejoin:round; stroke-width:2; stroke-opacity:0.1; fill:none\" points=\"231.835,1486.45 231.835,47.2441 \"/>\n",
       "<polyline clip-path=\"url(#clip102)\" style=\"stroke:#000000; stroke-linecap:round; stroke-linejoin:round; stroke-width:2; stroke-opacity:0.1; fill:none\" points=\"918.35,1486.45 918.35,47.2441 \"/>\n",
       "<polyline clip-path=\"url(#clip102)\" style=\"stroke:#000000; stroke-linecap:round; stroke-linejoin:round; stroke-width:2; stroke-opacity:0.1; fill:none\" points=\"1604.87,1486.45 1604.87,47.2441 \"/>\n",
       "<polyline clip-path=\"url(#clip102)\" style=\"stroke:#000000; stroke-linecap:round; stroke-linejoin:round; stroke-width:2; stroke-opacity:0.1; fill:none\" points=\"2291.38,1486.45 2291.38,47.2441 \"/>\n",
       "<polyline clip-path=\"url(#clip102)\" style=\"stroke:#000000; stroke-linecap:round; stroke-linejoin:round; stroke-width:2; stroke-opacity:0.1; fill:none\" points=\"184.191,1387.7 2352.76,1387.7 \"/>\n",
       "<polyline clip-path=\"url(#clip102)\" style=\"stroke:#000000; stroke-linecap:round; stroke-linejoin:round; stroke-width:2; stroke-opacity:0.1; fill:none\" points=\"184.191,1083.48 2352.76,1083.48 \"/>\n",
       "<polyline clip-path=\"url(#clip102)\" style=\"stroke:#000000; stroke-linecap:round; stroke-linejoin:round; stroke-width:2; stroke-opacity:0.1; fill:none\" points=\"184.191,779.254 2352.76,779.254 \"/>\n",
       "<polyline clip-path=\"url(#clip102)\" style=\"stroke:#000000; stroke-linecap:round; stroke-linejoin:round; stroke-width:2; stroke-opacity:0.1; fill:none\" points=\"184.191,475.03 2352.76,475.03 \"/>\n",
       "<polyline clip-path=\"url(#clip102)\" style=\"stroke:#000000; stroke-linecap:round; stroke-linejoin:round; stroke-width:2; stroke-opacity:0.1; fill:none\" points=\"184.191,170.806 2352.76,170.806 \"/>\n",
       "<polyline clip-path=\"url(#clip100)\" style=\"stroke:#000000; stroke-linecap:round; stroke-linejoin:round; stroke-width:4; stroke-opacity:1; fill:none\" points=\"184.191,1486.45 2352.76,1486.45 \"/>\n",
       "<polyline clip-path=\"url(#clip100)\" style=\"stroke:#000000; stroke-linecap:round; stroke-linejoin:round; stroke-width:4; stroke-opacity:1; fill:none\" points=\"231.835,1486.45 231.835,1467.55 \"/>\n",
       "<polyline clip-path=\"url(#clip100)\" style=\"stroke:#000000; stroke-linecap:round; stroke-linejoin:round; stroke-width:4; stroke-opacity:1; fill:none\" points=\"918.35,1486.45 918.35,1467.55 \"/>\n",
       "<polyline clip-path=\"url(#clip100)\" style=\"stroke:#000000; stroke-linecap:round; stroke-linejoin:round; stroke-width:4; stroke-opacity:1; fill:none\" points=\"1604.87,1486.45 1604.87,1467.55 \"/>\n",
       "<polyline clip-path=\"url(#clip100)\" style=\"stroke:#000000; stroke-linecap:round; stroke-linejoin:round; stroke-width:4; stroke-opacity:1; fill:none\" points=\"2291.38,1486.45 2291.38,1467.55 \"/>\n",
       "<path clip-path=\"url(#clip100)\" d=\"M231.835 1517.37 Q228.224 1517.37 226.395 1520.93 Q224.59 1524.47 224.59 1531.6 Q224.59 1538.71 226.395 1542.27 Q228.224 1545.82 231.835 1545.82 Q235.469 1545.82 237.275 1542.27 Q239.103 1538.71 239.103 1531.6 Q239.103 1524.47 237.275 1520.93 Q235.469 1517.37 231.835 1517.37 M231.835 1513.66 Q237.645 1513.66 240.701 1518.27 Q243.779 1522.85 243.779 1531.6 Q243.779 1540.33 240.701 1544.94 Q237.645 1549.52 231.835 1549.52 Q226.025 1549.52 222.946 1544.94 Q219.89 1540.33 219.89 1531.6 Q219.89 1522.85 222.946 1518.27 Q226.025 1513.66 231.835 1513.66 Z\" fill=\"#000000\" fill-rule=\"nonzero\" fill-opacity=\"1\" /><path clip-path=\"url(#clip100)\" d=\"M893.05 1514.29 L911.406 1514.29 L911.406 1518.22 L897.332 1518.22 L897.332 1526.7 Q898.35 1526.35 899.369 1526.19 Q900.388 1526 901.406 1526 Q907.193 1526 910.573 1529.17 Q913.952 1532.34 913.952 1537.76 Q913.952 1543.34 910.48 1546.44 Q907.008 1549.52 900.688 1549.52 Q898.513 1549.52 896.244 1549.15 Q893.999 1548.78 891.591 1548.04 L891.591 1543.34 Q893.675 1544.47 895.897 1545.03 Q898.119 1545.58 900.596 1545.58 Q904.6 1545.58 906.938 1543.48 Q909.276 1541.37 909.276 1537.76 Q909.276 1534.15 906.938 1532.04 Q904.6 1529.94 900.596 1529.94 Q898.721 1529.94 896.846 1530.35 Q894.994 1530.77 893.05 1531.65 L893.05 1514.29 Z\" fill=\"#000000\" fill-rule=\"nonzero\" fill-opacity=\"1\" /><path clip-path=\"url(#clip100)\" d=\"M933.165 1517.37 Q929.554 1517.37 927.725 1520.93 Q925.92 1524.47 925.92 1531.6 Q925.92 1538.71 927.725 1542.27 Q929.554 1545.82 933.165 1545.82 Q936.799 1545.82 938.605 1542.27 Q940.434 1538.71 940.434 1531.6 Q940.434 1524.47 938.605 1520.93 Q936.799 1517.37 933.165 1517.37 M933.165 1513.66 Q938.975 1513.66 942.031 1518.27 Q945.109 1522.85 945.109 1531.6 Q945.109 1540.33 942.031 1544.94 Q938.975 1549.52 933.165 1549.52 Q927.355 1549.52 924.276 1544.94 Q921.221 1540.33 921.221 1531.6 Q921.221 1522.85 924.276 1518.27 Q927.355 1513.66 933.165 1513.66 Z\" fill=\"#000000\" fill-rule=\"nonzero\" fill-opacity=\"1\" /><path clip-path=\"url(#clip100)\" d=\"M1564.47 1544.91 L1572.11 1544.91 L1572.11 1518.55 L1563.8 1520.21 L1563.8 1515.95 L1572.07 1514.29 L1576.74 1514.29 L1576.74 1544.91 L1584.38 1544.91 L1584.38 1548.85 L1564.47 1548.85 L1564.47 1544.91 Z\" fill=\"#000000\" fill-rule=\"nonzero\" fill-opacity=\"1\" /><path clip-path=\"url(#clip100)\" d=\"M1603.82 1517.37 Q1600.21 1517.37 1598.38 1520.93 Q1596.58 1524.47 1596.58 1531.6 Q1596.58 1538.71 1598.38 1542.27 Q1600.21 1545.82 1603.82 1545.82 Q1607.46 1545.82 1609.26 1542.27 Q1611.09 1538.71 1611.09 1531.6 Q1611.09 1524.47 1609.26 1520.93 Q1607.46 1517.37 1603.82 1517.37 M1603.82 1513.66 Q1609.63 1513.66 1612.69 1518.27 Q1615.77 1522.85 1615.77 1531.6 Q1615.77 1540.33 1612.69 1544.94 Q1609.63 1549.52 1603.82 1549.52 Q1598.01 1549.52 1594.94 1544.94 Q1591.88 1540.33 1591.88 1531.6 Q1591.88 1522.85 1594.94 1518.27 Q1598.01 1513.66 1603.82 1513.66 Z\" fill=\"#000000\" fill-rule=\"nonzero\" fill-opacity=\"1\" /><path clip-path=\"url(#clip100)\" d=\"M1633.99 1517.37 Q1630.38 1517.37 1628.55 1520.93 Q1626.74 1524.47 1626.74 1531.6 Q1626.74 1538.71 1628.55 1542.27 Q1630.38 1545.82 1633.99 1545.82 Q1637.62 1545.82 1639.43 1542.27 Q1641.25 1538.71 1641.25 1531.6 Q1641.25 1524.47 1639.43 1520.93 Q1637.62 1517.37 1633.99 1517.37 M1633.99 1513.66 Q1639.8 1513.66 1642.85 1518.27 Q1645.93 1522.85 1645.93 1531.6 Q1645.93 1540.33 1642.85 1544.94 Q1639.8 1549.52 1633.99 1549.52 Q1628.18 1549.52 1625.1 1544.94 Q1622.04 1540.33 1622.04 1531.6 Q1622.04 1522.85 1625.1 1518.27 Q1628.18 1513.66 1633.99 1513.66 Z\" fill=\"#000000\" fill-rule=\"nonzero\" fill-opacity=\"1\" /><path clip-path=\"url(#clip100)\" d=\"M2250.99 1544.91 L2258.63 1544.91 L2258.63 1518.55 L2250.32 1520.21 L2250.32 1515.95 L2258.58 1514.29 L2263.26 1514.29 L2263.26 1544.91 L2270.9 1544.91 L2270.9 1548.85 L2250.99 1548.85 L2250.99 1544.91 Z\" fill=\"#000000\" fill-rule=\"nonzero\" fill-opacity=\"1\" /><path clip-path=\"url(#clip100)\" d=\"M2280.39 1514.29 L2298.74 1514.29 L2298.74 1518.22 L2284.67 1518.22 L2284.67 1526.7 Q2285.69 1526.35 2286.71 1526.19 Q2287.72 1526 2288.74 1526 Q2294.53 1526 2297.91 1529.17 Q2301.29 1532.34 2301.29 1537.76 Q2301.29 1543.34 2297.82 1546.44 Q2294.34 1549.52 2288.02 1549.52 Q2285.85 1549.52 2283.58 1549.15 Q2281.34 1548.78 2278.93 1548.04 L2278.93 1543.34 Q2281.01 1544.47 2283.23 1545.03 Q2285.46 1545.58 2287.93 1545.58 Q2291.94 1545.58 2294.27 1543.48 Q2296.61 1541.37 2296.61 1537.76 Q2296.61 1534.15 2294.27 1532.04 Q2291.94 1529.94 2287.93 1529.94 Q2286.06 1529.94 2284.18 1530.35 Q2282.33 1530.77 2280.39 1531.65 L2280.39 1514.29 Z\" fill=\"#000000\" fill-rule=\"nonzero\" fill-opacity=\"1\" /><path clip-path=\"url(#clip100)\" d=\"M2320.5 1517.37 Q2316.89 1517.37 2315.06 1520.93 Q2313.26 1524.47 2313.26 1531.6 Q2313.26 1538.71 2315.06 1542.27 Q2316.89 1545.82 2320.5 1545.82 Q2324.14 1545.82 2325.94 1542.27 Q2327.77 1538.71 2327.77 1531.6 Q2327.77 1524.47 2325.94 1520.93 Q2324.14 1517.37 2320.5 1517.37 M2320.5 1513.66 Q2326.31 1513.66 2329.37 1518.27 Q2332.45 1522.85 2332.45 1531.6 Q2332.45 1540.33 2329.37 1544.94 Q2326.31 1549.52 2320.5 1549.52 Q2314.69 1549.52 2311.61 1544.94 Q2308.56 1540.33 2308.56 1531.6 Q2308.56 1522.85 2311.61 1518.27 Q2314.69 1513.66 2320.5 1513.66 Z\" fill=\"#000000\" fill-rule=\"nonzero\" fill-opacity=\"1\" /><polyline clip-path=\"url(#clip100)\" style=\"stroke:#000000; stroke-linecap:round; stroke-linejoin:round; stroke-width:4; stroke-opacity:1; fill:none\" points=\"184.191,1486.45 184.191,47.2441 \"/>\n",
       "<polyline clip-path=\"url(#clip100)\" style=\"stroke:#000000; stroke-linecap:round; stroke-linejoin:round; stroke-width:4; stroke-opacity:1; fill:none\" points=\"184.191,1387.7 203.088,1387.7 \"/>\n",
       "<polyline clip-path=\"url(#clip100)\" style=\"stroke:#000000; stroke-linecap:round; stroke-linejoin:round; stroke-width:4; stroke-opacity:1; fill:none\" points=\"184.191,1083.48 203.088,1083.48 \"/>\n",
       "<polyline clip-path=\"url(#clip100)\" style=\"stroke:#000000; stroke-linecap:round; stroke-linejoin:round; stroke-width:4; stroke-opacity:1; fill:none\" points=\"184.191,779.254 203.088,779.254 \"/>\n",
       "<polyline clip-path=\"url(#clip100)\" style=\"stroke:#000000; stroke-linecap:round; stroke-linejoin:round; stroke-width:4; stroke-opacity:1; fill:none\" points=\"184.191,475.03 203.088,475.03 \"/>\n",
       "<polyline clip-path=\"url(#clip100)\" style=\"stroke:#000000; stroke-linecap:round; stroke-linejoin:round; stroke-width:4; stroke-opacity:1; fill:none\" points=\"184.191,170.806 203.088,170.806 \"/>\n",
       "<path clip-path=\"url(#clip100)\" d=\"M81.0614 1370.42 L99.4178 1370.42 L99.4178 1374.36 L85.3438 1374.36 L85.3438 1382.83 Q86.3623 1382.48 87.3808 1382.32 Q88.3993 1382.14 89.4178 1382.14 Q95.2049 1382.14 98.5845 1385.31 Q101.964 1388.48 101.964 1393.89 Q101.964 1399.47 98.4919 1402.58 Q95.0197 1405.65 88.7003 1405.65 Q86.5243 1405.65 84.2558 1405.28 Q82.0105 1404.91 79.6031 1404.17 L79.6031 1399.47 Q81.6864 1400.61 83.9086 1401.16 Q86.1308 1401.72 88.6077 1401.72 Q92.6123 1401.72 94.9502 1399.61 Q97.2882 1397.51 97.2882 1393.89 Q97.2882 1390.28 94.9502 1388.18 Q92.6123 1386.07 88.6077 1386.07 Q86.7327 1386.07 84.8577 1386.49 Q83.0058 1386.9 81.0614 1387.78 L81.0614 1370.42 Z\" fill=\"#000000\" fill-rule=\"nonzero\" fill-opacity=\"1\" /><path clip-path=\"url(#clip100)\" d=\"M111.177 1399.1 L116.061 1399.1 L116.061 1404.98 L111.177 1404.98 L111.177 1399.1 Z\" fill=\"#000000\" fill-rule=\"nonzero\" fill-opacity=\"1\" /><path clip-path=\"url(#clip100)\" d=\"M136.246 1373.5 Q132.635 1373.5 130.807 1377.07 Q129.001 1380.61 129.001 1387.74 Q129.001 1394.84 130.807 1398.41 Q132.635 1401.95 136.246 1401.95 Q139.881 1401.95 141.686 1398.41 Q143.515 1394.84 143.515 1387.74 Q143.515 1380.61 141.686 1377.07 Q139.881 1373.5 136.246 1373.5 M136.246 1369.8 Q142.056 1369.8 145.112 1374.4 Q148.191 1378.99 148.191 1387.74 Q148.191 1396.46 145.112 1401.07 Q142.056 1405.65 136.246 1405.65 Q130.436 1405.65 127.357 1401.07 Q124.302 1396.46 124.302 1387.74 Q124.302 1378.99 127.357 1374.4 Q130.436 1369.8 136.246 1369.8 Z\" fill=\"#000000\" fill-rule=\"nonzero\" fill-opacity=\"1\" /><path clip-path=\"url(#clip100)\" d=\"M80.8299 1066.2 L103.052 1066.2 L103.052 1068.19 L90.5058 1100.76 L85.6216 1100.76 L97.4271 1070.13 L80.8299 1070.13 L80.8299 1066.2 Z\" fill=\"#000000\" fill-rule=\"nonzero\" fill-opacity=\"1\" /><path clip-path=\"url(#clip100)\" d=\"M112.172 1094.88 L117.057 1094.88 L117.057 1100.76 L112.172 1100.76 L112.172 1094.88 Z\" fill=\"#000000\" fill-rule=\"nonzero\" fill-opacity=\"1\" /><path clip-path=\"url(#clip100)\" d=\"M127.288 1066.2 L145.644 1066.2 L145.644 1070.13 L131.57 1070.13 L131.57 1078.61 Q132.589 1078.26 133.607 1078.1 Q134.626 1077.91 135.644 1077.91 Q141.431 1077.91 144.811 1081.08 Q148.191 1084.25 148.191 1089.67 Q148.191 1095.25 144.718 1098.35 Q141.246 1101.43 134.927 1101.43 Q132.751 1101.43 130.482 1101.06 Q128.237 1100.69 125.83 1099.95 L125.83 1095.25 Q127.913 1096.38 130.135 1096.94 Q132.357 1097.49 134.834 1097.49 Q138.839 1097.49 141.177 1095.39 Q143.515 1093.28 143.515 1089.67 Q143.515 1086.06 141.177 1083.95 Q138.839 1081.85 134.834 1081.85 Q132.959 1081.85 131.084 1082.26 Q129.232 1082.68 127.288 1083.56 L127.288 1066.2 Z\" fill=\"#000000\" fill-rule=\"nonzero\" fill-opacity=\"1\" /><path clip-path=\"url(#clip100)\" d=\"M51.6634 792.599 L59.3023 792.599 L59.3023 766.234 L50.9921 767.9 L50.9921 763.641 L59.256 761.974 L63.9319 761.974 L63.9319 792.599 L71.5707 792.599 L71.5707 796.534 L51.6634 796.534 L51.6634 792.599 Z\" fill=\"#000000\" fill-rule=\"nonzero\" fill-opacity=\"1\" /><path clip-path=\"url(#clip100)\" d=\"M91.0151 765.053 Q87.404 765.053 85.5753 768.618 Q83.7697 772.16 83.7697 779.289 Q83.7697 786.396 85.5753 789.96 Q87.404 793.502 91.0151 793.502 Q94.6493 793.502 96.4548 789.96 Q98.2835 786.396 98.2835 779.289 Q98.2835 772.16 96.4548 768.618 Q94.6493 765.053 91.0151 765.053 M91.0151 761.349 Q96.8252 761.349 99.8808 765.956 Q102.959 770.539 102.959 779.289 Q102.959 788.016 99.8808 792.622 Q96.8252 797.206 91.0151 797.206 Q85.2049 797.206 82.1262 792.622 Q79.0707 788.016 79.0707 779.289 Q79.0707 770.539 82.1262 765.956 Q85.2049 761.349 91.0151 761.349 Z\" fill=\"#000000\" fill-rule=\"nonzero\" fill-opacity=\"1\" /><path clip-path=\"url(#clip100)\" d=\"M111.177 790.655 L116.061 790.655 L116.061 796.534 L111.177 796.534 L111.177 790.655 Z\" fill=\"#000000\" fill-rule=\"nonzero\" fill-opacity=\"1\" /><path clip-path=\"url(#clip100)\" d=\"M136.246 765.053 Q132.635 765.053 130.807 768.618 Q129.001 772.16 129.001 779.289 Q129.001 786.396 130.807 789.96 Q132.635 793.502 136.246 793.502 Q139.881 793.502 141.686 789.96 Q143.515 786.396 143.515 779.289 Q143.515 772.16 141.686 768.618 Q139.881 765.053 136.246 765.053 M136.246 761.349 Q142.056 761.349 145.112 765.956 Q148.191 770.539 148.191 779.289 Q148.191 788.016 145.112 792.622 Q142.056 797.206 136.246 797.206 Q130.436 797.206 127.357 792.622 Q124.302 788.016 124.302 779.289 Q124.302 770.539 127.357 765.956 Q130.436 761.349 136.246 761.349 Z\" fill=\"#000000\" fill-rule=\"nonzero\" fill-opacity=\"1\" /><path clip-path=\"url(#clip100)\" d=\"M52.6588 488.375 L60.2976 488.375 L60.2976 462.01 L51.9875 463.676 L51.9875 459.417 L60.2513 457.75 L64.9272 457.75 L64.9272 488.375 L72.5661 488.375 L72.5661 492.31 L52.6588 492.31 L52.6588 488.375 Z\" fill=\"#000000\" fill-rule=\"nonzero\" fill-opacity=\"1\" /><path clip-path=\"url(#clip100)\" d=\"M86.0382 488.375 L102.358 488.375 L102.358 492.31 L80.4133 492.31 L80.4133 488.375 Q83.0753 485.621 87.6586 480.991 Q92.2651 476.338 93.4456 474.996 Q95.691 472.473 96.5706 470.736 Q97.4734 468.977 97.4734 467.287 Q97.4734 464.533 95.5289 462.797 Q93.6076 461.061 90.5058 461.061 Q88.3067 461.061 85.8531 461.824 Q83.4225 462.588 80.6447 464.139 L80.6447 459.417 Q83.4688 458.283 85.9225 457.704 Q88.3762 457.125 90.4132 457.125 Q95.7836 457.125 98.978 459.811 Q102.172 462.496 102.172 466.986 Q102.172 469.116 101.362 471.037 Q100.575 472.935 98.4687 475.528 Q97.89 476.199 94.7882 479.417 Q91.6864 482.611 86.0382 488.375 Z\" fill=\"#000000\" fill-rule=\"nonzero\" fill-opacity=\"1\" /><path clip-path=\"url(#clip100)\" d=\"M112.172 486.431 L117.057 486.431 L117.057 492.31 L112.172 492.31 L112.172 486.431 Z\" fill=\"#000000\" fill-rule=\"nonzero\" fill-opacity=\"1\" /><path clip-path=\"url(#clip100)\" d=\"M127.288 457.75 L145.644 457.75 L145.644 461.686 L131.57 461.686 L131.57 470.158 Q132.589 469.811 133.607 469.648 Q134.626 469.463 135.644 469.463 Q141.431 469.463 144.811 472.635 Q148.191 475.806 148.191 481.222 Q148.191 486.801 144.718 489.903 Q141.246 492.982 134.927 492.982 Q132.751 492.982 130.482 492.611 Q128.237 492.241 125.83 491.5 L125.83 486.801 Q127.913 487.935 130.135 488.491 Q132.357 489.047 134.834 489.047 Q138.839 489.047 141.177 486.94 Q143.515 484.834 143.515 481.222 Q143.515 477.611 141.177 475.505 Q138.839 473.398 134.834 473.398 Q132.959 473.398 131.084 473.815 Q129.232 474.232 127.288 475.111 L127.288 457.75 Z\" fill=\"#000000\" fill-rule=\"nonzero\" fill-opacity=\"1\" /><path clip-path=\"url(#clip100)\" d=\"M51.6634 184.151 L59.3023 184.151 L59.3023 157.786 L50.9921 159.452 L50.9921 155.193 L59.256 153.526 L63.9319 153.526 L63.9319 184.151 L71.5707 184.151 L71.5707 188.086 L51.6634 188.086 L51.6634 184.151 Z\" fill=\"#000000\" fill-rule=\"nonzero\" fill-opacity=\"1\" /><path clip-path=\"url(#clip100)\" d=\"M81.0614 153.526 L99.4178 153.526 L99.4178 157.462 L85.3438 157.462 L85.3438 165.934 Q86.3623 165.586 87.3808 165.424 Q88.3993 165.239 89.4178 165.239 Q95.2049 165.239 98.5845 168.411 Q101.964 171.582 101.964 176.998 Q101.964 182.577 98.4919 185.679 Q95.0197 188.758 88.7003 188.758 Q86.5243 188.758 84.2558 188.387 Q82.0105 188.017 79.6031 187.276 L79.6031 182.577 Q81.6864 183.711 83.9086 184.267 Q86.1308 184.822 88.6077 184.822 Q92.6123 184.822 94.9502 182.716 Q97.2882 180.61 97.2882 176.998 Q97.2882 173.387 94.9502 171.281 Q92.6123 169.174 88.6077 169.174 Q86.7327 169.174 84.8577 169.591 Q83.0058 170.008 81.0614 170.887 L81.0614 153.526 Z\" fill=\"#000000\" fill-rule=\"nonzero\" fill-opacity=\"1\" /><path clip-path=\"url(#clip100)\" d=\"M111.177 182.207 L116.061 182.207 L116.061 188.086 L111.177 188.086 L111.177 182.207 Z\" fill=\"#000000\" fill-rule=\"nonzero\" fill-opacity=\"1\" /><path clip-path=\"url(#clip100)\" d=\"M136.246 156.605 Q132.635 156.605 130.807 160.17 Q129.001 163.711 129.001 170.841 Q129.001 177.948 130.807 181.512 Q132.635 185.054 136.246 185.054 Q139.881 185.054 141.686 181.512 Q143.515 177.948 143.515 170.841 Q143.515 163.711 141.686 160.17 Q139.881 156.605 136.246 156.605 M136.246 152.901 Q142.056 152.901 145.112 157.508 Q148.191 162.091 148.191 170.841 Q148.191 179.568 145.112 184.174 Q142.056 188.758 136.246 188.758 Q130.436 188.758 127.357 184.174 Q124.302 179.568 124.302 170.841 Q124.302 162.091 127.357 157.508 Q130.436 152.901 136.246 152.901 Z\" fill=\"#000000\" fill-rule=\"nonzero\" fill-opacity=\"1\" /><circle clip-path=\"url(#clip102)\" cx=\"245.565\" cy=\"1445.72\" r=\"14.4\" fill=\"#0000ff\" fill-rule=\"evenodd\" fill-opacity=\"1\" stroke=\"#000000\" stroke-opacity=\"1\" stroke-width=\"3.2\"/>\n",
       "<circle clip-path=\"url(#clip102)\" cx=\"259.295\" cy=\"1445.72\" r=\"14.4\" fill=\"#0000ff\" fill-rule=\"evenodd\" fill-opacity=\"1\" stroke=\"#000000\" stroke-opacity=\"1\" stroke-width=\"3.2\"/>\n",
       "<circle clip-path=\"url(#clip102)\" cx=\"273.026\" cy=\"1399.85\" r=\"14.4\" fill=\"#0000ff\" fill-rule=\"evenodd\" fill-opacity=\"1\" stroke=\"#000000\" stroke-opacity=\"1\" stroke-width=\"3.2\"/>\n",
       "<circle clip-path=\"url(#clip102)\" cx=\"286.756\" cy=\"1101.69\" r=\"14.4\" fill=\"#0000ff\" fill-rule=\"evenodd\" fill-opacity=\"1\" stroke=\"#000000\" stroke-opacity=\"1\" stroke-width=\"3.2\"/>\n",
       "<circle clip-path=\"url(#clip102)\" cx=\"300.486\" cy=\"1091.24\" r=\"14.4\" fill=\"#0000ff\" fill-rule=\"evenodd\" fill-opacity=\"1\" stroke=\"#000000\" stroke-opacity=\"1\" stroke-width=\"3.2\"/>\n",
       "<circle clip-path=\"url(#clip102)\" cx=\"314.217\" cy=\"1079.31\" r=\"14.4\" fill=\"#0000ff\" fill-rule=\"evenodd\" fill-opacity=\"1\" stroke=\"#000000\" stroke-opacity=\"1\" stroke-width=\"3.2\"/>\n",
       "<circle clip-path=\"url(#clip102)\" cx=\"327.947\" cy=\"1079.31\" r=\"14.4\" fill=\"#0000ff\" fill-rule=\"evenodd\" fill-opacity=\"1\" stroke=\"#000000\" stroke-opacity=\"1\" stroke-width=\"3.2\"/>\n",
       "<circle clip-path=\"url(#clip102)\" cx=\"341.677\" cy=\"1079.31\" r=\"14.4\" fill=\"#0000ff\" fill-rule=\"evenodd\" fill-opacity=\"1\" stroke=\"#000000\" stroke-opacity=\"1\" stroke-width=\"3.2\"/>\n",
       "<circle clip-path=\"url(#clip102)\" cx=\"355.408\" cy=\"1079.31\" r=\"14.4\" fill=\"#0000ff\" fill-rule=\"evenodd\" fill-opacity=\"1\" stroke=\"#000000\" stroke-opacity=\"1\" stroke-width=\"3.2\"/>\n",
       "<circle clip-path=\"url(#clip102)\" cx=\"369.138\" cy=\"1073.05\" r=\"14.4\" fill=\"#0000ff\" fill-rule=\"evenodd\" fill-opacity=\"1\" stroke=\"#000000\" stroke-opacity=\"1\" stroke-width=\"3.2\"/>\n",
       "<circle clip-path=\"url(#clip102)\" cx=\"382.868\" cy=\"1072.84\" r=\"14.4\" fill=\"#0000ff\" fill-rule=\"evenodd\" fill-opacity=\"1\" stroke=\"#000000\" stroke-opacity=\"1\" stroke-width=\"3.2\"/>\n",
       "<circle clip-path=\"url(#clip102)\" cx=\"396.599\" cy=\"1072.84\" r=\"14.4\" fill=\"#0000ff\" fill-rule=\"evenodd\" fill-opacity=\"1\" stroke=\"#000000\" stroke-opacity=\"1\" stroke-width=\"3.2\"/>\n",
       "<circle clip-path=\"url(#clip102)\" cx=\"410.329\" cy=\"1071.88\" r=\"14.4\" fill=\"#0000ff\" fill-rule=\"evenodd\" fill-opacity=\"1\" stroke=\"#000000\" stroke-opacity=\"1\" stroke-width=\"3.2\"/>\n",
       "<circle clip-path=\"url(#clip102)\" cx=\"424.059\" cy=\"1030.39\" r=\"14.4\" fill=\"#0000ff\" fill-rule=\"evenodd\" fill-opacity=\"1\" stroke=\"#000000\" stroke-opacity=\"1\" stroke-width=\"3.2\"/>\n",
       "<circle clip-path=\"url(#clip102)\" cx=\"437.79\" cy=\"1030.39\" r=\"14.4\" fill=\"#0000ff\" fill-rule=\"evenodd\" fill-opacity=\"1\" stroke=\"#000000\" stroke-opacity=\"1\" stroke-width=\"3.2\"/>\n",
       "<circle clip-path=\"url(#clip102)\" cx=\"451.52\" cy=\"1009.16\" r=\"14.4\" fill=\"#0000ff\" fill-rule=\"evenodd\" fill-opacity=\"1\" stroke=\"#000000\" stroke-opacity=\"1\" stroke-width=\"3.2\"/>\n",
       "<circle clip-path=\"url(#clip102)\" cx=\"465.25\" cy=\"1009.16\" r=\"14.4\" fill=\"#0000ff\" fill-rule=\"evenodd\" fill-opacity=\"1\" stroke=\"#000000\" stroke-opacity=\"1\" stroke-width=\"3.2\"/>\n",
       "<circle clip-path=\"url(#clip102)\" cx=\"478.98\" cy=\"1009.16\" r=\"14.4\" fill=\"#0000ff\" fill-rule=\"evenodd\" fill-opacity=\"1\" stroke=\"#000000\" stroke-opacity=\"1\" stroke-width=\"3.2\"/>\n",
       "<circle clip-path=\"url(#clip102)\" cx=\"492.711\" cy=\"1008.38\" r=\"14.4\" fill=\"#0000ff\" fill-rule=\"evenodd\" fill-opacity=\"1\" stroke=\"#000000\" stroke-opacity=\"1\" stroke-width=\"3.2\"/>\n",
       "<circle clip-path=\"url(#clip102)\" cx=\"506.441\" cy=\"1007.99\" r=\"14.4\" fill=\"#0000ff\" fill-rule=\"evenodd\" fill-opacity=\"1\" stroke=\"#000000\" stroke-opacity=\"1\" stroke-width=\"3.2\"/>\n",
       "<circle clip-path=\"url(#clip102)\" cx=\"520.171\" cy=\"1007.99\" r=\"14.4\" fill=\"#0000ff\" fill-rule=\"evenodd\" fill-opacity=\"1\" stroke=\"#000000\" stroke-opacity=\"1\" stroke-width=\"3.2\"/>\n",
       "<circle clip-path=\"url(#clip102)\" cx=\"533.902\" cy=\"1007.99\" r=\"14.4\" fill=\"#0000ff\" fill-rule=\"evenodd\" fill-opacity=\"1\" stroke=\"#000000\" stroke-opacity=\"1\" stroke-width=\"3.2\"/>\n",
       "<circle clip-path=\"url(#clip102)\" cx=\"547.632\" cy=\"999.764\" r=\"14.4\" fill=\"#0000ff\" fill-rule=\"evenodd\" fill-opacity=\"1\" stroke=\"#000000\" stroke-opacity=\"1\" stroke-width=\"3.2\"/>\n",
       "<circle clip-path=\"url(#clip102)\" cx=\"561.362\" cy=\"973.914\" r=\"14.4\" fill=\"#0000ff\" fill-rule=\"evenodd\" fill-opacity=\"1\" stroke=\"#000000\" stroke-opacity=\"1\" stroke-width=\"3.2\"/>\n",
       "<circle clip-path=\"url(#clip102)\" cx=\"575.093\" cy=\"973.914\" r=\"14.4\" fill=\"#0000ff\" fill-rule=\"evenodd\" fill-opacity=\"1\" stroke=\"#000000\" stroke-opacity=\"1\" stroke-width=\"3.2\"/>\n",
       "<circle clip-path=\"url(#clip102)\" cx=\"588.823\" cy=\"973.914\" r=\"14.4\" fill=\"#0000ff\" fill-rule=\"evenodd\" fill-opacity=\"1\" stroke=\"#000000\" stroke-opacity=\"1\" stroke-width=\"3.2\"/>\n",
       "<circle clip-path=\"url(#clip102)\" cx=\"602.553\" cy=\"948.674\" r=\"14.4\" fill=\"#0000ff\" fill-rule=\"evenodd\" fill-opacity=\"1\" stroke=\"#000000\" stroke-opacity=\"1\" stroke-width=\"3.2\"/>\n",
       "<circle clip-path=\"url(#clip102)\" cx=\"616.284\" cy=\"941.286\" r=\"14.4\" fill=\"#0000ff\" fill-rule=\"evenodd\" fill-opacity=\"1\" stroke=\"#000000\" stroke-opacity=\"1\" stroke-width=\"3.2\"/>\n",
       "<circle clip-path=\"url(#clip102)\" cx=\"630.014\" cy=\"941.286\" r=\"14.4\" fill=\"#0000ff\" fill-rule=\"evenodd\" fill-opacity=\"1\" stroke=\"#000000\" stroke-opacity=\"1\" stroke-width=\"3.2\"/>\n",
       "<circle clip-path=\"url(#clip102)\" cx=\"643.744\" cy=\"936.054\" r=\"14.4\" fill=\"#0000ff\" fill-rule=\"evenodd\" fill-opacity=\"1\" stroke=\"#000000\" stroke-opacity=\"1\" stroke-width=\"3.2\"/>\n",
       "<circle clip-path=\"url(#clip102)\" cx=\"657.474\" cy=\"936.054\" r=\"14.4\" fill=\"#0000ff\" fill-rule=\"evenodd\" fill-opacity=\"1\" stroke=\"#000000\" stroke-opacity=\"1\" stroke-width=\"3.2\"/>\n",
       "<circle clip-path=\"url(#clip102)\" cx=\"671.205\" cy=\"936.054\" r=\"14.4\" fill=\"#0000ff\" fill-rule=\"evenodd\" fill-opacity=\"1\" stroke=\"#000000\" stroke-opacity=\"1\" stroke-width=\"3.2\"/>\n",
       "<circle clip-path=\"url(#clip102)\" cx=\"684.935\" cy=\"936.054\" r=\"14.4\" fill=\"#0000ff\" fill-rule=\"evenodd\" fill-opacity=\"1\" stroke=\"#000000\" stroke-opacity=\"1\" stroke-width=\"3.2\"/>\n",
       "<circle clip-path=\"url(#clip102)\" cx=\"698.665\" cy=\"936.054\" r=\"14.4\" fill=\"#0000ff\" fill-rule=\"evenodd\" fill-opacity=\"1\" stroke=\"#000000\" stroke-opacity=\"1\" stroke-width=\"3.2\"/>\n",
       "<circle clip-path=\"url(#clip102)\" cx=\"712.396\" cy=\"936.054\" r=\"14.4\" fill=\"#0000ff\" fill-rule=\"evenodd\" fill-opacity=\"1\" stroke=\"#000000\" stroke-opacity=\"1\" stroke-width=\"3.2\"/>\n",
       "<circle clip-path=\"url(#clip102)\" cx=\"726.126\" cy=\"930.229\" r=\"14.4\" fill=\"#0000ff\" fill-rule=\"evenodd\" fill-opacity=\"1\" stroke=\"#000000\" stroke-opacity=\"1\" stroke-width=\"3.2\"/>\n",
       "<circle clip-path=\"url(#clip102)\" cx=\"739.856\" cy=\"930.229\" r=\"14.4\" fill=\"#0000ff\" fill-rule=\"evenodd\" fill-opacity=\"1\" stroke=\"#000000\" stroke-opacity=\"1\" stroke-width=\"3.2\"/>\n",
       "<circle clip-path=\"url(#clip102)\" cx=\"753.587\" cy=\"928.555\" r=\"14.4\" fill=\"#0000ff\" fill-rule=\"evenodd\" fill-opacity=\"1\" stroke=\"#000000\" stroke-opacity=\"1\" stroke-width=\"3.2\"/>\n",
       "<circle clip-path=\"url(#clip102)\" cx=\"767.317\" cy=\"928.555\" r=\"14.4\" fill=\"#0000ff\" fill-rule=\"evenodd\" fill-opacity=\"1\" stroke=\"#000000\" stroke-opacity=\"1\" stroke-width=\"3.2\"/>\n",
       "<circle clip-path=\"url(#clip102)\" cx=\"781.047\" cy=\"928.555\" r=\"14.4\" fill=\"#0000ff\" fill-rule=\"evenodd\" fill-opacity=\"1\" stroke=\"#000000\" stroke-opacity=\"1\" stroke-width=\"3.2\"/>\n",
       "<circle clip-path=\"url(#clip102)\" cx=\"794.778\" cy=\"926.664\" r=\"14.4\" fill=\"#0000ff\" fill-rule=\"evenodd\" fill-opacity=\"1\" stroke=\"#000000\" stroke-opacity=\"1\" stroke-width=\"3.2\"/>\n",
       "<circle clip-path=\"url(#clip102)\" cx=\"808.508\" cy=\"926.664\" r=\"14.4\" fill=\"#0000ff\" fill-rule=\"evenodd\" fill-opacity=\"1\" stroke=\"#000000\" stroke-opacity=\"1\" stroke-width=\"3.2\"/>\n",
       "<circle clip-path=\"url(#clip102)\" cx=\"822.238\" cy=\"926.664\" r=\"14.4\" fill=\"#0000ff\" fill-rule=\"evenodd\" fill-opacity=\"1\" stroke=\"#000000\" stroke-opacity=\"1\" stroke-width=\"3.2\"/>\n",
       "<circle clip-path=\"url(#clip102)\" cx=\"835.969\" cy=\"925.861\" r=\"14.4\" fill=\"#0000ff\" fill-rule=\"evenodd\" fill-opacity=\"1\" stroke=\"#000000\" stroke-opacity=\"1\" stroke-width=\"3.2\"/>\n",
       "<circle clip-path=\"url(#clip102)\" cx=\"849.699\" cy=\"925.861\" r=\"14.4\" fill=\"#0000ff\" fill-rule=\"evenodd\" fill-opacity=\"1\" stroke=\"#000000\" stroke-opacity=\"1\" stroke-width=\"3.2\"/>\n",
       "<circle clip-path=\"url(#clip102)\" cx=\"863.429\" cy=\"920.329\" r=\"14.4\" fill=\"#0000ff\" fill-rule=\"evenodd\" fill-opacity=\"1\" stroke=\"#000000\" stroke-opacity=\"1\" stroke-width=\"3.2\"/>\n",
       "<circle clip-path=\"url(#clip102)\" cx=\"877.159\" cy=\"920.329\" r=\"14.4\" fill=\"#0000ff\" fill-rule=\"evenodd\" fill-opacity=\"1\" stroke=\"#000000\" stroke-opacity=\"1\" stroke-width=\"3.2\"/>\n",
       "<circle clip-path=\"url(#clip102)\" cx=\"890.89\" cy=\"915.667\" r=\"14.4\" fill=\"#0000ff\" fill-rule=\"evenodd\" fill-opacity=\"1\" stroke=\"#000000\" stroke-opacity=\"1\" stroke-width=\"3.2\"/>\n",
       "<circle clip-path=\"url(#clip102)\" cx=\"904.62\" cy=\"915.667\" r=\"14.4\" fill=\"#0000ff\" fill-rule=\"evenodd\" fill-opacity=\"1\" stroke=\"#000000\" stroke-opacity=\"1\" stroke-width=\"3.2\"/>\n",
       "<circle clip-path=\"url(#clip102)\" cx=\"918.35\" cy=\"915.667\" r=\"14.4\" fill=\"#0000ff\" fill-rule=\"evenodd\" fill-opacity=\"1\" stroke=\"#000000\" stroke-opacity=\"1\" stroke-width=\"3.2\"/>\n",
       "<circle clip-path=\"url(#clip102)\" cx=\"932.081\" cy=\"915.667\" r=\"14.4\" fill=\"#0000ff\" fill-rule=\"evenodd\" fill-opacity=\"1\" stroke=\"#000000\" stroke-opacity=\"1\" stroke-width=\"3.2\"/>\n",
       "<circle clip-path=\"url(#clip102)\" cx=\"945.811\" cy=\"905.474\" r=\"14.4\" fill=\"#0000ff\" fill-rule=\"evenodd\" fill-opacity=\"1\" stroke=\"#000000\" stroke-opacity=\"1\" stroke-width=\"3.2\"/>\n",
       "<circle clip-path=\"url(#clip102)\" cx=\"959.541\" cy=\"895.281\" r=\"14.4\" fill=\"#0000ff\" fill-rule=\"evenodd\" fill-opacity=\"1\" stroke=\"#000000\" stroke-opacity=\"1\" stroke-width=\"3.2\"/>\n",
       "<circle clip-path=\"url(#clip102)\" cx=\"973.272\" cy=\"895.281\" r=\"14.4\" fill=\"#0000ff\" fill-rule=\"evenodd\" fill-opacity=\"1\" stroke=\"#000000\" stroke-opacity=\"1\" stroke-width=\"3.2\"/>\n",
       "<circle clip-path=\"url(#clip102)\" cx=\"987.002\" cy=\"895.281\" r=\"14.4\" fill=\"#0000ff\" fill-rule=\"evenodd\" fill-opacity=\"1\" stroke=\"#000000\" stroke-opacity=\"1\" stroke-width=\"3.2\"/>\n",
       "<circle clip-path=\"url(#clip102)\" cx=\"1000.73\" cy=\"889.182\" r=\"14.4\" fill=\"#0000ff\" fill-rule=\"evenodd\" fill-opacity=\"1\" stroke=\"#000000\" stroke-opacity=\"1\" stroke-width=\"3.2\"/>\n",
       "<circle clip-path=\"url(#clip102)\" cx=\"1014.46\" cy=\"864.341\" r=\"14.4\" fill=\"#0000ff\" fill-rule=\"evenodd\" fill-opacity=\"1\" stroke=\"#000000\" stroke-opacity=\"1\" stroke-width=\"3.2\"/>\n",
       "<circle clip-path=\"url(#clip102)\" cx=\"1028.19\" cy=\"864.341\" r=\"14.4\" fill=\"#0000ff\" fill-rule=\"evenodd\" fill-opacity=\"1\" stroke=\"#000000\" stroke-opacity=\"1\" stroke-width=\"3.2\"/>\n",
       "<circle clip-path=\"url(#clip102)\" cx=\"1041.92\" cy=\"864.341\" r=\"14.4\" fill=\"#0000ff\" fill-rule=\"evenodd\" fill-opacity=\"1\" stroke=\"#000000\" stroke-opacity=\"1\" stroke-width=\"3.2\"/>\n",
       "<circle clip-path=\"url(#clip102)\" cx=\"1055.65\" cy=\"864.341\" r=\"14.4\" fill=\"#0000ff\" fill-rule=\"evenodd\" fill-opacity=\"1\" stroke=\"#000000\" stroke-opacity=\"1\" stroke-width=\"3.2\"/>\n",
       "<circle clip-path=\"url(#clip102)\" cx=\"1069.38\" cy=\"851.246\" r=\"14.4\" fill=\"#0000ff\" fill-rule=\"evenodd\" fill-opacity=\"1\" stroke=\"#000000\" stroke-opacity=\"1\" stroke-width=\"3.2\"/>\n",
       "<circle clip-path=\"url(#clip102)\" cx=\"1083.11\" cy=\"836.249\" r=\"14.4\" fill=\"#0000ff\" fill-rule=\"evenodd\" fill-opacity=\"1\" stroke=\"#000000\" stroke-opacity=\"1\" stroke-width=\"3.2\"/>\n",
       "<circle clip-path=\"url(#clip102)\" cx=\"1096.84\" cy=\"826.435\" r=\"14.4\" fill=\"#0000ff\" fill-rule=\"evenodd\" fill-opacity=\"1\" stroke=\"#000000\" stroke-opacity=\"1\" stroke-width=\"3.2\"/>\n",
       "<circle clip-path=\"url(#clip102)\" cx=\"1110.57\" cy=\"822.665\" r=\"14.4\" fill=\"#0000ff\" fill-rule=\"evenodd\" fill-opacity=\"1\" stroke=\"#000000\" stroke-opacity=\"1\" stroke-width=\"3.2\"/>\n",
       "<circle clip-path=\"url(#clip102)\" cx=\"1124.31\" cy=\"803.542\" r=\"14.4\" fill=\"#0000ff\" fill-rule=\"evenodd\" fill-opacity=\"1\" stroke=\"#000000\" stroke-opacity=\"1\" stroke-width=\"3.2\"/>\n",
       "<circle clip-path=\"url(#clip102)\" cx=\"1138.04\" cy=\"777.615\" r=\"14.4\" fill=\"#0000ff\" fill-rule=\"evenodd\" fill-opacity=\"1\" stroke=\"#000000\" stroke-opacity=\"1\" stroke-width=\"3.2\"/>\n",
       "<circle clip-path=\"url(#clip102)\" cx=\"1151.77\" cy=\"777.615\" r=\"14.4\" fill=\"#0000ff\" fill-rule=\"evenodd\" fill-opacity=\"1\" stroke=\"#000000\" stroke-opacity=\"1\" stroke-width=\"3.2\"/>\n",
       "<circle clip-path=\"url(#clip102)\" cx=\"1165.5\" cy=\"763.504\" r=\"14.4\" fill=\"#0000ff\" fill-rule=\"evenodd\" fill-opacity=\"1\" stroke=\"#000000\" stroke-opacity=\"1\" stroke-width=\"3.2\"/>\n",
       "<circle clip-path=\"url(#clip102)\" cx=\"1179.23\" cy=\"763.504\" r=\"14.4\" fill=\"#0000ff\" fill-rule=\"evenodd\" fill-opacity=\"1\" stroke=\"#000000\" stroke-opacity=\"1\" stroke-width=\"3.2\"/>\n",
       "<circle clip-path=\"url(#clip102)\" cx=\"1192.96\" cy=\"763.504\" r=\"14.4\" fill=\"#0000ff\" fill-rule=\"evenodd\" fill-opacity=\"1\" stroke=\"#000000\" stroke-opacity=\"1\" stroke-width=\"3.2\"/>\n",
       "<circle clip-path=\"url(#clip102)\" cx=\"1206.69\" cy=\"763.504\" r=\"14.4\" fill=\"#0000ff\" fill-rule=\"evenodd\" fill-opacity=\"1\" stroke=\"#000000\" stroke-opacity=\"1\" stroke-width=\"3.2\"/>\n",
       "<circle clip-path=\"url(#clip102)\" cx=\"1220.42\" cy=\"763.504\" r=\"14.4\" fill=\"#0000ff\" fill-rule=\"evenodd\" fill-opacity=\"1\" stroke=\"#000000\" stroke-opacity=\"1\" stroke-width=\"3.2\"/>\n",
       "<circle clip-path=\"url(#clip102)\" cx=\"1234.15\" cy=\"763.504\" r=\"14.4\" fill=\"#0000ff\" fill-rule=\"evenodd\" fill-opacity=\"1\" stroke=\"#000000\" stroke-opacity=\"1\" stroke-width=\"3.2\"/>\n",
       "<circle clip-path=\"url(#clip102)\" cx=\"1247.88\" cy=\"763.504\" r=\"14.4\" fill=\"#0000ff\" fill-rule=\"evenodd\" fill-opacity=\"1\" stroke=\"#000000\" stroke-opacity=\"1\" stroke-width=\"3.2\"/>\n",
       "<circle clip-path=\"url(#clip102)\" cx=\"1261.61\" cy=\"755.837\" r=\"14.4\" fill=\"#0000ff\" fill-rule=\"evenodd\" fill-opacity=\"1\" stroke=\"#000000\" stroke-opacity=\"1\" stroke-width=\"3.2\"/>\n",
       "<circle clip-path=\"url(#clip102)\" cx=\"1275.34\" cy=\"751.689\" r=\"14.4\" fill=\"#0000ff\" fill-rule=\"evenodd\" fill-opacity=\"1\" stroke=\"#000000\" stroke-opacity=\"1\" stroke-width=\"3.2\"/>\n",
       "<circle clip-path=\"url(#clip102)\" cx=\"1289.07\" cy=\"751.689\" r=\"14.4\" fill=\"#0000ff\" fill-rule=\"evenodd\" fill-opacity=\"1\" stroke=\"#000000\" stroke-opacity=\"1\" stroke-width=\"3.2\"/>\n",
       "<circle clip-path=\"url(#clip102)\" cx=\"1302.8\" cy=\"751.689\" r=\"14.4\" fill=\"#0000ff\" fill-rule=\"evenodd\" fill-opacity=\"1\" stroke=\"#000000\" stroke-opacity=\"1\" stroke-width=\"3.2\"/>\n",
       "<circle clip-path=\"url(#clip102)\" cx=\"1316.53\" cy=\"749.332\" r=\"14.4\" fill=\"#0000ff\" fill-rule=\"evenodd\" fill-opacity=\"1\" stroke=\"#000000\" stroke-opacity=\"1\" stroke-width=\"3.2\"/>\n",
       "<circle clip-path=\"url(#clip102)\" cx=\"1330.26\" cy=\"749.332\" r=\"14.4\" fill=\"#0000ff\" fill-rule=\"evenodd\" fill-opacity=\"1\" stroke=\"#000000\" stroke-opacity=\"1\" stroke-width=\"3.2\"/>\n",
       "<circle clip-path=\"url(#clip102)\" cx=\"1343.99\" cy=\"749.332\" r=\"14.4\" fill=\"#0000ff\" fill-rule=\"evenodd\" fill-opacity=\"1\" stroke=\"#000000\" stroke-opacity=\"1\" stroke-width=\"3.2\"/>\n",
       "<circle clip-path=\"url(#clip102)\" cx=\"1357.72\" cy=\"742.207\" r=\"14.4\" fill=\"#0000ff\" fill-rule=\"evenodd\" fill-opacity=\"1\" stroke=\"#000000\" stroke-opacity=\"1\" stroke-width=\"3.2\"/>\n",
       "<circle clip-path=\"url(#clip102)\" cx=\"1371.45\" cy=\"731.15\" r=\"14.4\" fill=\"#0000ff\" fill-rule=\"evenodd\" fill-opacity=\"1\" stroke=\"#000000\" stroke-opacity=\"1\" stroke-width=\"3.2\"/>\n",
       "<circle clip-path=\"url(#clip102)\" cx=\"1385.18\" cy=\"731.15\" r=\"14.4\" fill=\"#0000ff\" fill-rule=\"evenodd\" fill-opacity=\"1\" stroke=\"#000000\" stroke-opacity=\"1\" stroke-width=\"3.2\"/>\n",
       "<circle clip-path=\"url(#clip102)\" cx=\"1398.91\" cy=\"731.15\" r=\"14.4\" fill=\"#0000ff\" fill-rule=\"evenodd\" fill-opacity=\"1\" stroke=\"#000000\" stroke-opacity=\"1\" stroke-width=\"3.2\"/>\n",
       "<circle clip-path=\"url(#clip102)\" cx=\"1412.64\" cy=\"718.625\" r=\"14.4\" fill=\"#0000ff\" fill-rule=\"evenodd\" fill-opacity=\"1\" stroke=\"#000000\" stroke-opacity=\"1\" stroke-width=\"3.2\"/>\n",
       "<circle clip-path=\"url(#clip102)\" cx=\"1426.37\" cy=\"715.692\" r=\"14.4\" fill=\"#0000ff\" fill-rule=\"evenodd\" fill-opacity=\"1\" stroke=\"#000000\" stroke-opacity=\"1\" stroke-width=\"3.2\"/>\n",
       "<circle clip-path=\"url(#clip102)\" cx=\"1440.1\" cy=\"715.692\" r=\"14.4\" fill=\"#0000ff\" fill-rule=\"evenodd\" fill-opacity=\"1\" stroke=\"#000000\" stroke-opacity=\"1\" stroke-width=\"3.2\"/>\n",
       "<circle clip-path=\"url(#clip102)\" cx=\"1453.83\" cy=\"715.692\" r=\"14.4\" fill=\"#0000ff\" fill-rule=\"evenodd\" fill-opacity=\"1\" stroke=\"#000000\" stroke-opacity=\"1\" stroke-width=\"3.2\"/>\n",
       "<circle clip-path=\"url(#clip102)\" cx=\"1467.56\" cy=\"715.692\" r=\"14.4\" fill=\"#0000ff\" fill-rule=\"evenodd\" fill-opacity=\"1\" stroke=\"#000000\" stroke-opacity=\"1\" stroke-width=\"3.2\"/>\n",
       "<circle clip-path=\"url(#clip102)\" cx=\"1481.29\" cy=\"715.692\" r=\"14.4\" fill=\"#0000ff\" fill-rule=\"evenodd\" fill-opacity=\"1\" stroke=\"#000000\" stroke-opacity=\"1\" stroke-width=\"3.2\"/>\n",
       "<circle clip-path=\"url(#clip102)\" cx=\"1495.02\" cy=\"695.123\" r=\"14.4\" fill=\"#0000ff\" fill-rule=\"evenodd\" fill-opacity=\"1\" stroke=\"#000000\" stroke-opacity=\"1\" stroke-width=\"3.2\"/>\n",
       "<circle clip-path=\"url(#clip102)\" cx=\"1508.75\" cy=\"667.633\" r=\"14.4\" fill=\"#0000ff\" fill-rule=\"evenodd\" fill-opacity=\"1\" stroke=\"#000000\" stroke-opacity=\"1\" stroke-width=\"3.2\"/>\n",
       "<circle clip-path=\"url(#clip102)\" cx=\"1522.48\" cy=\"664.146\" r=\"14.4\" fill=\"#0000ff\" fill-rule=\"evenodd\" fill-opacity=\"1\" stroke=\"#000000\" stroke-opacity=\"1\" stroke-width=\"3.2\"/>\n",
       "<circle clip-path=\"url(#clip102)\" cx=\"1536.21\" cy=\"664.146\" r=\"14.4\" fill=\"#0000ff\" fill-rule=\"evenodd\" fill-opacity=\"1\" stroke=\"#000000\" stroke-opacity=\"1\" stroke-width=\"3.2\"/>\n",
       "<circle clip-path=\"url(#clip102)\" cx=\"1549.94\" cy=\"664.146\" r=\"14.4\" fill=\"#0000ff\" fill-rule=\"evenodd\" fill-opacity=\"1\" stroke=\"#000000\" stroke-opacity=\"1\" stroke-width=\"3.2\"/>\n",
       "<circle clip-path=\"url(#clip102)\" cx=\"1563.67\" cy=\"658.812\" r=\"14.4\" fill=\"#0000ff\" fill-rule=\"evenodd\" fill-opacity=\"1\" stroke=\"#000000\" stroke-opacity=\"1\" stroke-width=\"3.2\"/>\n",
       "<circle clip-path=\"url(#clip102)\" cx=\"1577.41\" cy=\"652.96\" r=\"14.4\" fill=\"#0000ff\" fill-rule=\"evenodd\" fill-opacity=\"1\" stroke=\"#000000\" stroke-opacity=\"1\" stroke-width=\"3.2\"/>\n",
       "<circle clip-path=\"url(#clip102)\" cx=\"1591.14\" cy=\"652.96\" r=\"14.4\" fill=\"#0000ff\" fill-rule=\"evenodd\" fill-opacity=\"1\" stroke=\"#000000\" stroke-opacity=\"1\" stroke-width=\"3.2\"/>\n",
       "<circle clip-path=\"url(#clip102)\" cx=\"1604.87\" cy=\"640.234\" r=\"14.4\" fill=\"#0000ff\" fill-rule=\"evenodd\" fill-opacity=\"1\" stroke=\"#000000\" stroke-opacity=\"1\" stroke-width=\"3.2\"/>\n",
       "<circle clip-path=\"url(#clip102)\" cx=\"1618.6\" cy=\"640.234\" r=\"14.4\" fill=\"#0000ff\" fill-rule=\"evenodd\" fill-opacity=\"1\" stroke=\"#000000\" stroke-opacity=\"1\" stroke-width=\"3.2\"/>\n",
       "<circle clip-path=\"url(#clip102)\" cx=\"1632.33\" cy=\"633.169\" r=\"14.4\" fill=\"#0000ff\" fill-rule=\"evenodd\" fill-opacity=\"1\" stroke=\"#000000\" stroke-opacity=\"1\" stroke-width=\"3.2\"/>\n",
       "<circle clip-path=\"url(#clip102)\" cx=\"1646.06\" cy=\"633.169\" r=\"14.4\" fill=\"#0000ff\" fill-rule=\"evenodd\" fill-opacity=\"1\" stroke=\"#000000\" stroke-opacity=\"1\" stroke-width=\"3.2\"/>\n",
       "<circle clip-path=\"url(#clip102)\" cx=\"1659.79\" cy=\"633.169\" r=\"14.4\" fill=\"#0000ff\" fill-rule=\"evenodd\" fill-opacity=\"1\" stroke=\"#000000\" stroke-opacity=\"1\" stroke-width=\"3.2\"/>\n",
       "<circle clip-path=\"url(#clip102)\" cx=\"1673.52\" cy=\"633.169\" r=\"14.4\" fill=\"#0000ff\" fill-rule=\"evenodd\" fill-opacity=\"1\" stroke=\"#000000\" stroke-opacity=\"1\" stroke-width=\"3.2\"/>\n",
       "<circle clip-path=\"url(#clip102)\" cx=\"1687.25\" cy=\"631.93\" r=\"14.4\" fill=\"#0000ff\" fill-rule=\"evenodd\" fill-opacity=\"1\" stroke=\"#000000\" stroke-opacity=\"1\" stroke-width=\"3.2\"/>\n",
       "<circle clip-path=\"url(#clip102)\" cx=\"1700.98\" cy=\"608.387\" r=\"14.4\" fill=\"#0000ff\" fill-rule=\"evenodd\" fill-opacity=\"1\" stroke=\"#000000\" stroke-opacity=\"1\" stroke-width=\"3.2\"/>\n",
       "<circle clip-path=\"url(#clip102)\" cx=\"1714.71\" cy=\"592.41\" r=\"14.4\" fill=\"#0000ff\" fill-rule=\"evenodd\" fill-opacity=\"1\" stroke=\"#000000\" stroke-opacity=\"1\" stroke-width=\"3.2\"/>\n",
       "<circle clip-path=\"url(#clip102)\" cx=\"1728.44\" cy=\"587.736\" r=\"14.4\" fill=\"#0000ff\" fill-rule=\"evenodd\" fill-opacity=\"1\" stroke=\"#000000\" stroke-opacity=\"1\" stroke-width=\"3.2\"/>\n",
       "<circle clip-path=\"url(#clip102)\" cx=\"1742.17\" cy=\"565.02\" r=\"14.4\" fill=\"#0000ff\" fill-rule=\"evenodd\" fill-opacity=\"1\" stroke=\"#000000\" stroke-opacity=\"1\" stroke-width=\"3.2\"/>\n",
       "<circle clip-path=\"url(#clip102)\" cx=\"1755.9\" cy=\"565.02\" r=\"14.4\" fill=\"#0000ff\" fill-rule=\"evenodd\" fill-opacity=\"1\" stroke=\"#000000\" stroke-opacity=\"1\" stroke-width=\"3.2\"/>\n",
       "<circle clip-path=\"url(#clip102)\" cx=\"1769.63\" cy=\"562.629\" r=\"14.4\" fill=\"#0000ff\" fill-rule=\"evenodd\" fill-opacity=\"1\" stroke=\"#000000\" stroke-opacity=\"1\" stroke-width=\"3.2\"/>\n",
       "<circle clip-path=\"url(#clip102)\" cx=\"1783.36\" cy=\"539.912\" r=\"14.4\" fill=\"#0000ff\" fill-rule=\"evenodd\" fill-opacity=\"1\" stroke=\"#000000\" stroke-opacity=\"1\" stroke-width=\"3.2\"/>\n",
       "<circle clip-path=\"url(#clip102)\" cx=\"1797.09\" cy=\"539.912\" r=\"14.4\" fill=\"#0000ff\" fill-rule=\"evenodd\" fill-opacity=\"1\" stroke=\"#000000\" stroke-opacity=\"1\" stroke-width=\"3.2\"/>\n",
       "<circle clip-path=\"url(#clip102)\" cx=\"1810.82\" cy=\"539.912\" r=\"14.4\" fill=\"#0000ff\" fill-rule=\"evenodd\" fill-opacity=\"1\" stroke=\"#000000\" stroke-opacity=\"1\" stroke-width=\"3.2\"/>\n",
       "<circle clip-path=\"url(#clip102)\" cx=\"1824.55\" cy=\"521.145\" r=\"14.4\" fill=\"#0000ff\" fill-rule=\"evenodd\" fill-opacity=\"1\" stroke=\"#000000\" stroke-opacity=\"1\" stroke-width=\"3.2\"/>\n",
       "<circle clip-path=\"url(#clip102)\" cx=\"1838.28\" cy=\"489.697\" r=\"14.4\" fill=\"#0000ff\" fill-rule=\"evenodd\" fill-opacity=\"1\" stroke=\"#000000\" stroke-opacity=\"1\" stroke-width=\"3.2\"/>\n",
       "<circle clip-path=\"url(#clip102)\" cx=\"1852.01\" cy=\"489.697\" r=\"14.4\" fill=\"#0000ff\" fill-rule=\"evenodd\" fill-opacity=\"1\" stroke=\"#000000\" stroke-opacity=\"1\" stroke-width=\"3.2\"/>\n",
       "<circle clip-path=\"url(#clip102)\" cx=\"1865.74\" cy=\"456.22\" r=\"14.4\" fill=\"#0000ff\" fill-rule=\"evenodd\" fill-opacity=\"1\" stroke=\"#000000\" stroke-opacity=\"1\" stroke-width=\"3.2\"/>\n",
       "<circle clip-path=\"url(#clip102)\" cx=\"1879.47\" cy=\"456.22\" r=\"14.4\" fill=\"#0000ff\" fill-rule=\"evenodd\" fill-opacity=\"1\" stroke=\"#000000\" stroke-opacity=\"1\" stroke-width=\"3.2\"/>\n",
       "<circle clip-path=\"url(#clip102)\" cx=\"1893.2\" cy=\"433.903\" r=\"14.4\" fill=\"#0000ff\" fill-rule=\"evenodd\" fill-opacity=\"1\" stroke=\"#000000\" stroke-opacity=\"1\" stroke-width=\"3.2\"/>\n",
       "<circle clip-path=\"url(#clip102)\" cx=\"1906.93\" cy=\"422.128\" r=\"14.4\" fill=\"#0000ff\" fill-rule=\"evenodd\" fill-opacity=\"1\" stroke=\"#000000\" stroke-opacity=\"1\" stroke-width=\"3.2\"/>\n",
       "<circle clip-path=\"url(#clip102)\" cx=\"1920.66\" cy=\"422.128\" r=\"14.4\" fill=\"#0000ff\" fill-rule=\"evenodd\" fill-opacity=\"1\" stroke=\"#000000\" stroke-opacity=\"1\" stroke-width=\"3.2\"/>\n",
       "<circle clip-path=\"url(#clip102)\" cx=\"1934.39\" cy=\"422.128\" r=\"14.4\" fill=\"#0000ff\" fill-rule=\"evenodd\" fill-opacity=\"1\" stroke=\"#000000\" stroke-opacity=\"1\" stroke-width=\"3.2\"/>\n",
       "<circle clip-path=\"url(#clip102)\" cx=\"1948.12\" cy=\"422.128\" r=\"14.4\" fill=\"#0000ff\" fill-rule=\"evenodd\" fill-opacity=\"1\" stroke=\"#000000\" stroke-opacity=\"1\" stroke-width=\"3.2\"/>\n",
       "<circle clip-path=\"url(#clip102)\" cx=\"1961.85\" cy=\"406.005\" r=\"14.4\" fill=\"#0000ff\" fill-rule=\"evenodd\" fill-opacity=\"1\" stroke=\"#000000\" stroke-opacity=\"1\" stroke-width=\"3.2\"/>\n",
       "<circle clip-path=\"url(#clip102)\" cx=\"1975.58\" cy=\"406.005\" r=\"14.4\" fill=\"#0000ff\" fill-rule=\"evenodd\" fill-opacity=\"1\" stroke=\"#000000\" stroke-opacity=\"1\" stroke-width=\"3.2\"/>\n",
       "<circle clip-path=\"url(#clip102)\" cx=\"1989.31\" cy=\"406.005\" r=\"14.4\" fill=\"#0000ff\" fill-rule=\"evenodd\" fill-opacity=\"1\" stroke=\"#000000\" stroke-opacity=\"1\" stroke-width=\"3.2\"/>\n",
       "<circle clip-path=\"url(#clip102)\" cx=\"2003.04\" cy=\"406.005\" r=\"14.4\" fill=\"#0000ff\" fill-rule=\"evenodd\" fill-opacity=\"1\" stroke=\"#000000\" stroke-opacity=\"1\" stroke-width=\"3.2\"/>\n",
       "<circle clip-path=\"url(#clip102)\" cx=\"2016.78\" cy=\"406.005\" r=\"14.4\" fill=\"#0000ff\" fill-rule=\"evenodd\" fill-opacity=\"1\" stroke=\"#000000\" stroke-opacity=\"1\" stroke-width=\"3.2\"/>\n",
       "<circle clip-path=\"url(#clip102)\" cx=\"2030.51\" cy=\"406.005\" r=\"14.4\" fill=\"#0000ff\" fill-rule=\"evenodd\" fill-opacity=\"1\" stroke=\"#000000\" stroke-opacity=\"1\" stroke-width=\"3.2\"/>\n",
       "<circle clip-path=\"url(#clip102)\" cx=\"2044.24\" cy=\"406.005\" r=\"14.4\" fill=\"#0000ff\" fill-rule=\"evenodd\" fill-opacity=\"1\" stroke=\"#000000\" stroke-opacity=\"1\" stroke-width=\"3.2\"/>\n",
       "<circle clip-path=\"url(#clip102)\" cx=\"2057.97\" cy=\"406.005\" r=\"14.4\" fill=\"#0000ff\" fill-rule=\"evenodd\" fill-opacity=\"1\" stroke=\"#000000\" stroke-opacity=\"1\" stroke-width=\"3.2\"/>\n",
       "<circle clip-path=\"url(#clip102)\" cx=\"2071.7\" cy=\"406.005\" r=\"14.4\" fill=\"#0000ff\" fill-rule=\"evenodd\" fill-opacity=\"1\" stroke=\"#000000\" stroke-opacity=\"1\" stroke-width=\"3.2\"/>\n",
       "<circle clip-path=\"url(#clip102)\" cx=\"2085.43\" cy=\"406.005\" r=\"14.4\" fill=\"#0000ff\" fill-rule=\"evenodd\" fill-opacity=\"1\" stroke=\"#000000\" stroke-opacity=\"1\" stroke-width=\"3.2\"/>\n",
       "<circle clip-path=\"url(#clip102)\" cx=\"2099.16\" cy=\"401.082\" r=\"14.4\" fill=\"#0000ff\" fill-rule=\"evenodd\" fill-opacity=\"1\" stroke=\"#000000\" stroke-opacity=\"1\" stroke-width=\"3.2\"/>\n",
       "<circle clip-path=\"url(#clip102)\" cx=\"2112.89\" cy=\"312.467\" r=\"14.4\" fill=\"#0000ff\" fill-rule=\"evenodd\" fill-opacity=\"1\" stroke=\"#000000\" stroke-opacity=\"1\" stroke-width=\"3.2\"/>\n",
       "<circle clip-path=\"url(#clip102)\" cx=\"2126.62\" cy=\"312.467\" r=\"14.4\" fill=\"#0000ff\" fill-rule=\"evenodd\" fill-opacity=\"1\" stroke=\"#000000\" stroke-opacity=\"1\" stroke-width=\"3.2\"/>\n",
       "<circle clip-path=\"url(#clip102)\" cx=\"2140.35\" cy=\"312.467\" r=\"14.4\" fill=\"#0000ff\" fill-rule=\"evenodd\" fill-opacity=\"1\" stroke=\"#000000\" stroke-opacity=\"1\" stroke-width=\"3.2\"/>\n",
       "<circle clip-path=\"url(#clip102)\" cx=\"2154.08\" cy=\"312.467\" r=\"14.4\" fill=\"#0000ff\" fill-rule=\"evenodd\" fill-opacity=\"1\" stroke=\"#000000\" stroke-opacity=\"1\" stroke-width=\"3.2\"/>\n",
       "<circle clip-path=\"url(#clip102)\" cx=\"2167.81\" cy=\"242.314\" r=\"14.4\" fill=\"#0000ff\" fill-rule=\"evenodd\" fill-opacity=\"1\" stroke=\"#000000\" stroke-opacity=\"1\" stroke-width=\"3.2\"/>\n",
       "<circle clip-path=\"url(#clip102)\" cx=\"2181.54\" cy=\"207.237\" r=\"14.4\" fill=\"#0000ff\" fill-rule=\"evenodd\" fill-opacity=\"1\" stroke=\"#000000\" stroke-opacity=\"1\" stroke-width=\"3.2\"/>\n",
       "<circle clip-path=\"url(#clip102)\" cx=\"2195.27\" cy=\"207.237\" r=\"14.4\" fill=\"#0000ff\" fill-rule=\"evenodd\" fill-opacity=\"1\" stroke=\"#000000\" stroke-opacity=\"1\" stroke-width=\"3.2\"/>\n",
       "<circle clip-path=\"url(#clip102)\" cx=\"2209\" cy=\"207.237\" r=\"14.4\" fill=\"#0000ff\" fill-rule=\"evenodd\" fill-opacity=\"1\" stroke=\"#000000\" stroke-opacity=\"1\" stroke-width=\"3.2\"/>\n",
       "<circle clip-path=\"url(#clip102)\" cx=\"2222.73\" cy=\"200.222\" r=\"14.4\" fill=\"#0000ff\" fill-rule=\"evenodd\" fill-opacity=\"1\" stroke=\"#000000\" stroke-opacity=\"1\" stroke-width=\"3.2\"/>\n",
       "<circle clip-path=\"url(#clip102)\" cx=\"2236.46\" cy=\"128.816\" r=\"14.4\" fill=\"#0000ff\" fill-rule=\"evenodd\" fill-opacity=\"1\" stroke=\"#000000\" stroke-opacity=\"1\" stroke-width=\"3.2\"/>\n",
       "<circle clip-path=\"url(#clip102)\" cx=\"2250.19\" cy=\"128.816\" r=\"14.4\" fill=\"#0000ff\" fill-rule=\"evenodd\" fill-opacity=\"1\" stroke=\"#000000\" stroke-opacity=\"1\" stroke-width=\"3.2\"/>\n",
       "<circle clip-path=\"url(#clip102)\" cx=\"2263.92\" cy=\"87.9763\" r=\"14.4\" fill=\"#0000ff\" fill-rule=\"evenodd\" fill-opacity=\"1\" stroke=\"#000000\" stroke-opacity=\"1\" stroke-width=\"3.2\"/>\n",
       "<circle clip-path=\"url(#clip102)\" cx=\"2277.65\" cy=\"87.9763\" r=\"14.4\" fill=\"#0000ff\" fill-rule=\"evenodd\" fill-opacity=\"1\" stroke=\"#000000\" stroke-opacity=\"1\" stroke-width=\"3.2\"/>\n",
       "<circle clip-path=\"url(#clip102)\" cx=\"2291.38\" cy=\"87.9763\" r=\"14.4\" fill=\"#0000ff\" fill-rule=\"evenodd\" fill-opacity=\"1\" stroke=\"#000000\" stroke-opacity=\"1\" stroke-width=\"3.2\"/>\n",
       "<circle clip-path=\"url(#clip102)\" cx=\"245.565\" cy=\"1445.72\" r=\"14.4\" fill=\"#008000\" fill-rule=\"evenodd\" fill-opacity=\"1\" stroke=\"#000000\" stroke-opacity=\"1\" stroke-width=\"3.2\"/>\n",
       "<circle clip-path=\"url(#clip102)\" cx=\"259.295\" cy=\"1445.72\" r=\"14.4\" fill=\"#008000\" fill-rule=\"evenodd\" fill-opacity=\"1\" stroke=\"#000000\" stroke-opacity=\"1\" stroke-width=\"3.2\"/>\n",
       "<circle clip-path=\"url(#clip102)\" cx=\"273.026\" cy=\"1399.85\" r=\"14.4\" fill=\"#008000\" fill-rule=\"evenodd\" fill-opacity=\"1\" stroke=\"#000000\" stroke-opacity=\"1\" stroke-width=\"3.2\"/>\n",
       "<circle clip-path=\"url(#clip102)\" cx=\"286.756\" cy=\"1101.69\" r=\"14.4\" fill=\"#008000\" fill-rule=\"evenodd\" fill-opacity=\"1\" stroke=\"#000000\" stroke-opacity=\"1\" stroke-width=\"3.2\"/>\n",
       "<circle clip-path=\"url(#clip102)\" cx=\"300.486\" cy=\"1152.1\" r=\"14.4\" fill=\"#008000\" fill-rule=\"evenodd\" fill-opacity=\"1\" stroke=\"#000000\" stroke-opacity=\"1\" stroke-width=\"3.2\"/>\n",
       "<circle clip-path=\"url(#clip102)\" cx=\"314.217\" cy=\"1079.31\" r=\"14.4\" fill=\"#008000\" fill-rule=\"evenodd\" fill-opacity=\"1\" stroke=\"#000000\" stroke-opacity=\"1\" stroke-width=\"3.2\"/>\n",
       "<circle clip-path=\"url(#clip102)\" cx=\"327.947\" cy=\"1079.31\" r=\"14.4\" fill=\"#008000\" fill-rule=\"evenodd\" fill-opacity=\"1\" stroke=\"#000000\" stroke-opacity=\"1\" stroke-width=\"3.2\"/>\n",
       "<circle clip-path=\"url(#clip102)\" cx=\"341.677\" cy=\"1079.31\" r=\"14.4\" fill=\"#008000\" fill-rule=\"evenodd\" fill-opacity=\"1\" stroke=\"#000000\" stroke-opacity=\"1\" stroke-width=\"3.2\"/>\n",
       "<circle clip-path=\"url(#clip102)\" cx=\"355.408\" cy=\"1079.31\" r=\"14.4\" fill=\"#008000\" fill-rule=\"evenodd\" fill-opacity=\"1\" stroke=\"#000000\" stroke-opacity=\"1\" stroke-width=\"3.2\"/>\n",
       "<circle clip-path=\"url(#clip102)\" cx=\"369.138\" cy=\"1073.05\" r=\"14.4\" fill=\"#008000\" fill-rule=\"evenodd\" fill-opacity=\"1\" stroke=\"#000000\" stroke-opacity=\"1\" stroke-width=\"3.2\"/>\n",
       "<circle clip-path=\"url(#clip102)\" cx=\"382.868\" cy=\"1072.84\" r=\"14.4\" fill=\"#008000\" fill-rule=\"evenodd\" fill-opacity=\"1\" stroke=\"#000000\" stroke-opacity=\"1\" stroke-width=\"3.2\"/>\n",
       "<circle clip-path=\"url(#clip102)\" cx=\"396.599\" cy=\"1072.84\" r=\"14.4\" fill=\"#008000\" fill-rule=\"evenodd\" fill-opacity=\"1\" stroke=\"#000000\" stroke-opacity=\"1\" stroke-width=\"3.2\"/>\n",
       "<circle clip-path=\"url(#clip102)\" cx=\"410.329\" cy=\"1071.88\" r=\"14.4\" fill=\"#008000\" fill-rule=\"evenodd\" fill-opacity=\"1\" stroke=\"#000000\" stroke-opacity=\"1\" stroke-width=\"3.2\"/>\n",
       "<circle clip-path=\"url(#clip102)\" cx=\"424.059\" cy=\"1030.39\" r=\"14.4\" fill=\"#008000\" fill-rule=\"evenodd\" fill-opacity=\"1\" stroke=\"#000000\" stroke-opacity=\"1\" stroke-width=\"3.2\"/>\n",
       "<circle clip-path=\"url(#clip102)\" cx=\"437.79\" cy=\"1030.39\" r=\"14.4\" fill=\"#008000\" fill-rule=\"evenodd\" fill-opacity=\"1\" stroke=\"#000000\" stroke-opacity=\"1\" stroke-width=\"3.2\"/>\n",
       "<circle clip-path=\"url(#clip102)\" cx=\"451.52\" cy=\"1009.16\" r=\"14.4\" fill=\"#008000\" fill-rule=\"evenodd\" fill-opacity=\"1\" stroke=\"#000000\" stroke-opacity=\"1\" stroke-width=\"3.2\"/>\n",
       "<circle clip-path=\"url(#clip102)\" cx=\"465.25\" cy=\"1009.16\" r=\"14.4\" fill=\"#008000\" fill-rule=\"evenodd\" fill-opacity=\"1\" stroke=\"#000000\" stroke-opacity=\"1\" stroke-width=\"3.2\"/>\n",
       "<circle clip-path=\"url(#clip102)\" cx=\"478.98\" cy=\"1041.89\" r=\"14.4\" fill=\"#008000\" fill-rule=\"evenodd\" fill-opacity=\"1\" stroke=\"#000000\" stroke-opacity=\"1\" stroke-width=\"3.2\"/>\n",
       "<circle clip-path=\"url(#clip102)\" cx=\"492.711\" cy=\"1008.38\" r=\"14.4\" fill=\"#008000\" fill-rule=\"evenodd\" fill-opacity=\"1\" stroke=\"#000000\" stroke-opacity=\"1\" stroke-width=\"3.2\"/>\n",
       "<circle clip-path=\"url(#clip102)\" cx=\"506.441\" cy=\"1007.99\" r=\"14.4\" fill=\"#008000\" fill-rule=\"evenodd\" fill-opacity=\"1\" stroke=\"#000000\" stroke-opacity=\"1\" stroke-width=\"3.2\"/>\n",
       "<circle clip-path=\"url(#clip102)\" cx=\"520.171\" cy=\"1007.99\" r=\"14.4\" fill=\"#008000\" fill-rule=\"evenodd\" fill-opacity=\"1\" stroke=\"#000000\" stroke-opacity=\"1\" stroke-width=\"3.2\"/>\n",
       "<circle clip-path=\"url(#clip102)\" cx=\"533.902\" cy=\"1007.99\" r=\"14.4\" fill=\"#008000\" fill-rule=\"evenodd\" fill-opacity=\"1\" stroke=\"#000000\" stroke-opacity=\"1\" stroke-width=\"3.2\"/>\n",
       "<circle clip-path=\"url(#clip102)\" cx=\"547.632\" cy=\"999.764\" r=\"14.4\" fill=\"#008000\" fill-rule=\"evenodd\" fill-opacity=\"1\" stroke=\"#000000\" stroke-opacity=\"1\" stroke-width=\"3.2\"/>\n",
       "<circle clip-path=\"url(#clip102)\" cx=\"561.362\" cy=\"973.914\" r=\"14.4\" fill=\"#008000\" fill-rule=\"evenodd\" fill-opacity=\"1\" stroke=\"#000000\" stroke-opacity=\"1\" stroke-width=\"3.2\"/>\n",
       "<circle clip-path=\"url(#clip102)\" cx=\"575.093\" cy=\"995.918\" r=\"14.4\" fill=\"#008000\" fill-rule=\"evenodd\" fill-opacity=\"1\" stroke=\"#000000\" stroke-opacity=\"1\" stroke-width=\"3.2\"/>\n",
       "<circle clip-path=\"url(#clip102)\" cx=\"588.823\" cy=\"973.914\" r=\"14.4\" fill=\"#008000\" fill-rule=\"evenodd\" fill-opacity=\"1\" stroke=\"#000000\" stroke-opacity=\"1\" stroke-width=\"3.2\"/>\n",
       "<circle clip-path=\"url(#clip102)\" cx=\"602.553\" cy=\"948.674\" r=\"14.4\" fill=\"#008000\" fill-rule=\"evenodd\" fill-opacity=\"1\" stroke=\"#000000\" stroke-opacity=\"1\" stroke-width=\"3.2\"/>\n",
       "<circle clip-path=\"url(#clip102)\" cx=\"616.284\" cy=\"941.286\" r=\"14.4\" fill=\"#008000\" fill-rule=\"evenodd\" fill-opacity=\"1\" stroke=\"#000000\" stroke-opacity=\"1\" stroke-width=\"3.2\"/>\n",
       "<circle clip-path=\"url(#clip102)\" cx=\"630.014\" cy=\"941.286\" r=\"14.4\" fill=\"#008000\" fill-rule=\"evenodd\" fill-opacity=\"1\" stroke=\"#000000\" stroke-opacity=\"1\" stroke-width=\"3.2\"/>\n",
       "<circle clip-path=\"url(#clip102)\" cx=\"643.744\" cy=\"936.054\" r=\"14.4\" fill=\"#008000\" fill-rule=\"evenodd\" fill-opacity=\"1\" stroke=\"#000000\" stroke-opacity=\"1\" stroke-width=\"3.2\"/>\n",
       "<circle clip-path=\"url(#clip102)\" cx=\"657.474\" cy=\"936.054\" r=\"14.4\" fill=\"#008000\" fill-rule=\"evenodd\" fill-opacity=\"1\" stroke=\"#000000\" stroke-opacity=\"1\" stroke-width=\"3.2\"/>\n",
       "<circle clip-path=\"url(#clip102)\" cx=\"671.205\" cy=\"936.054\" r=\"14.4\" fill=\"#008000\" fill-rule=\"evenodd\" fill-opacity=\"1\" stroke=\"#000000\" stroke-opacity=\"1\" stroke-width=\"3.2\"/>\n",
       "<circle clip-path=\"url(#clip102)\" cx=\"684.935\" cy=\"936.054\" r=\"14.4\" fill=\"#008000\" fill-rule=\"evenodd\" fill-opacity=\"1\" stroke=\"#000000\" stroke-opacity=\"1\" stroke-width=\"3.2\"/>\n",
       "<circle clip-path=\"url(#clip102)\" cx=\"698.665\" cy=\"936.054\" r=\"14.4\" fill=\"#008000\" fill-rule=\"evenodd\" fill-opacity=\"1\" stroke=\"#000000\" stroke-opacity=\"1\" stroke-width=\"3.2\"/>\n",
       "<circle clip-path=\"url(#clip102)\" cx=\"712.396\" cy=\"936.054\" r=\"14.4\" fill=\"#008000\" fill-rule=\"evenodd\" fill-opacity=\"1\" stroke=\"#000000\" stroke-opacity=\"1\" stroke-width=\"3.2\"/>\n",
       "<circle clip-path=\"url(#clip102)\" cx=\"726.126\" cy=\"930.229\" r=\"14.4\" fill=\"#008000\" fill-rule=\"evenodd\" fill-opacity=\"1\" stroke=\"#000000\" stroke-opacity=\"1\" stroke-width=\"3.2\"/>\n",
       "<circle clip-path=\"url(#clip102)\" cx=\"739.856\" cy=\"930.229\" r=\"14.4\" fill=\"#008000\" fill-rule=\"evenodd\" fill-opacity=\"1\" stroke=\"#000000\" stroke-opacity=\"1\" stroke-width=\"3.2\"/>\n",
       "<circle clip-path=\"url(#clip102)\" cx=\"753.587\" cy=\"975.558\" r=\"14.4\" fill=\"#008000\" fill-rule=\"evenodd\" fill-opacity=\"1\" stroke=\"#000000\" stroke-opacity=\"1\" stroke-width=\"3.2\"/>\n",
       "<circle clip-path=\"url(#clip102)\" cx=\"767.317\" cy=\"975.558\" r=\"14.4\" fill=\"#008000\" fill-rule=\"evenodd\" fill-opacity=\"1\" stroke=\"#000000\" stroke-opacity=\"1\" stroke-width=\"3.2\"/>\n",
       "<circle clip-path=\"url(#clip102)\" cx=\"781.047\" cy=\"975.558\" r=\"14.4\" fill=\"#008000\" fill-rule=\"evenodd\" fill-opacity=\"1\" stroke=\"#000000\" stroke-opacity=\"1\" stroke-width=\"3.2\"/>\n",
       "<circle clip-path=\"url(#clip102)\" cx=\"794.778\" cy=\"926.664\" r=\"14.4\" fill=\"#008000\" fill-rule=\"evenodd\" fill-opacity=\"1\" stroke=\"#000000\" stroke-opacity=\"1\" stroke-width=\"3.2\"/>\n",
       "<circle clip-path=\"url(#clip102)\" cx=\"808.508\" cy=\"926.664\" r=\"14.4\" fill=\"#008000\" fill-rule=\"evenodd\" fill-opacity=\"1\" stroke=\"#000000\" stroke-opacity=\"1\" stroke-width=\"3.2\"/>\n",
       "<circle clip-path=\"url(#clip102)\" cx=\"822.238\" cy=\"926.664\" r=\"14.4\" fill=\"#008000\" fill-rule=\"evenodd\" fill-opacity=\"1\" stroke=\"#000000\" stroke-opacity=\"1\" stroke-width=\"3.2\"/>\n",
       "<circle clip-path=\"url(#clip102)\" cx=\"835.969\" cy=\"925.861\" r=\"14.4\" fill=\"#008000\" fill-rule=\"evenodd\" fill-opacity=\"1\" stroke=\"#000000\" stroke-opacity=\"1\" stroke-width=\"3.2\"/>\n",
       "<circle clip-path=\"url(#clip102)\" cx=\"849.699\" cy=\"925.861\" r=\"14.4\" fill=\"#008000\" fill-rule=\"evenodd\" fill-opacity=\"1\" stroke=\"#000000\" stroke-opacity=\"1\" stroke-width=\"3.2\"/>\n",
       "<circle clip-path=\"url(#clip102)\" cx=\"863.429\" cy=\"919.252\" r=\"14.4\" fill=\"#008000\" fill-rule=\"evenodd\" fill-opacity=\"1\" stroke=\"#000000\" stroke-opacity=\"1\" stroke-width=\"3.2\"/>\n",
       "<circle clip-path=\"url(#clip102)\" cx=\"877.159\" cy=\"919.252\" r=\"14.4\" fill=\"#008000\" fill-rule=\"evenodd\" fill-opacity=\"1\" stroke=\"#000000\" stroke-opacity=\"1\" stroke-width=\"3.2\"/>\n",
       "<circle clip-path=\"url(#clip102)\" cx=\"890.89\" cy=\"915.667\" r=\"14.4\" fill=\"#008000\" fill-rule=\"evenodd\" fill-opacity=\"1\" stroke=\"#000000\" stroke-opacity=\"1\" stroke-width=\"3.2\"/>\n",
       "<circle clip-path=\"url(#clip102)\" cx=\"904.62\" cy=\"947.686\" r=\"14.4\" fill=\"#008000\" fill-rule=\"evenodd\" fill-opacity=\"1\" stroke=\"#000000\" stroke-opacity=\"1\" stroke-width=\"3.2\"/>\n",
       "<circle clip-path=\"url(#clip102)\" cx=\"918.35\" cy=\"947.686\" r=\"14.4\" fill=\"#008000\" fill-rule=\"evenodd\" fill-opacity=\"1\" stroke=\"#000000\" stroke-opacity=\"1\" stroke-width=\"3.2\"/>\n",
       "<circle clip-path=\"url(#clip102)\" cx=\"932.081\" cy=\"915.667\" r=\"14.4\" fill=\"#008000\" fill-rule=\"evenodd\" fill-opacity=\"1\" stroke=\"#000000\" stroke-opacity=\"1\" stroke-width=\"3.2\"/>\n",
       "<circle clip-path=\"url(#clip102)\" cx=\"945.811\" cy=\"905.474\" r=\"14.4\" fill=\"#008000\" fill-rule=\"evenodd\" fill-opacity=\"1\" stroke=\"#000000\" stroke-opacity=\"1\" stroke-width=\"3.2\"/>\n",
       "<circle clip-path=\"url(#clip102)\" cx=\"959.541\" cy=\"895.281\" r=\"14.4\" fill=\"#008000\" fill-rule=\"evenodd\" fill-opacity=\"1\" stroke=\"#000000\" stroke-opacity=\"1\" stroke-width=\"3.2\"/>\n",
       "<circle clip-path=\"url(#clip102)\" cx=\"973.272\" cy=\"895.281\" r=\"14.4\" fill=\"#008000\" fill-rule=\"evenodd\" fill-opacity=\"1\" stroke=\"#000000\" stroke-opacity=\"1\" stroke-width=\"3.2\"/>\n",
       "<circle clip-path=\"url(#clip102)\" cx=\"987.002\" cy=\"895.281\" r=\"14.4\" fill=\"#008000\" fill-rule=\"evenodd\" fill-opacity=\"1\" stroke=\"#000000\" stroke-opacity=\"1\" stroke-width=\"3.2\"/>\n",
       "<circle clip-path=\"url(#clip102)\" cx=\"1000.73\" cy=\"799.31\" r=\"14.4\" fill=\"#008000\" fill-rule=\"evenodd\" fill-opacity=\"1\" stroke=\"#000000\" stroke-opacity=\"1\" stroke-width=\"3.2\"/>\n",
       "<circle clip-path=\"url(#clip102)\" cx=\"1014.46\" cy=\"864.341\" r=\"14.4\" fill=\"#008000\" fill-rule=\"evenodd\" fill-opacity=\"1\" stroke=\"#000000\" stroke-opacity=\"1\" stroke-width=\"3.2\"/>\n",
       "<circle clip-path=\"url(#clip102)\" cx=\"1028.19\" cy=\"864.341\" r=\"14.4\" fill=\"#008000\" fill-rule=\"evenodd\" fill-opacity=\"1\" stroke=\"#000000\" stroke-opacity=\"1\" stroke-width=\"3.2\"/>\n",
       "<circle clip-path=\"url(#clip102)\" cx=\"1041.92\" cy=\"864.341\" r=\"14.4\" fill=\"#008000\" fill-rule=\"evenodd\" fill-opacity=\"1\" stroke=\"#000000\" stroke-opacity=\"1\" stroke-width=\"3.2\"/>\n",
       "<circle clip-path=\"url(#clip102)\" cx=\"1055.65\" cy=\"864.341\" r=\"14.4\" fill=\"#008000\" fill-rule=\"evenodd\" fill-opacity=\"1\" stroke=\"#000000\" stroke-opacity=\"1\" stroke-width=\"3.2\"/>\n",
       "<circle clip-path=\"url(#clip102)\" cx=\"1069.38\" cy=\"851.246\" r=\"14.4\" fill=\"#008000\" fill-rule=\"evenodd\" fill-opacity=\"1\" stroke=\"#000000\" stroke-opacity=\"1\" stroke-width=\"3.2\"/>\n",
       "<circle clip-path=\"url(#clip102)\" cx=\"1083.11\" cy=\"836.249\" r=\"14.4\" fill=\"#008000\" fill-rule=\"evenodd\" fill-opacity=\"1\" stroke=\"#000000\" stroke-opacity=\"1\" stroke-width=\"3.2\"/>\n",
       "<circle clip-path=\"url(#clip102)\" cx=\"1096.84\" cy=\"826.435\" r=\"14.4\" fill=\"#008000\" fill-rule=\"evenodd\" fill-opacity=\"1\" stroke=\"#000000\" stroke-opacity=\"1\" stroke-width=\"3.2\"/>\n",
       "<circle clip-path=\"url(#clip102)\" cx=\"1110.57\" cy=\"822.665\" r=\"14.4\" fill=\"#008000\" fill-rule=\"evenodd\" fill-opacity=\"1\" stroke=\"#000000\" stroke-opacity=\"1\" stroke-width=\"3.2\"/>\n",
       "<circle clip-path=\"url(#clip102)\" cx=\"1124.31\" cy=\"803.542\" r=\"14.4\" fill=\"#008000\" fill-rule=\"evenodd\" fill-opacity=\"1\" stroke=\"#000000\" stroke-opacity=\"1\" stroke-width=\"3.2\"/>\n",
       "<circle clip-path=\"url(#clip102)\" cx=\"1138.04\" cy=\"777.615\" r=\"14.4\" fill=\"#008000\" fill-rule=\"evenodd\" fill-opacity=\"1\" stroke=\"#000000\" stroke-opacity=\"1\" stroke-width=\"3.2\"/>\n",
       "<circle clip-path=\"url(#clip102)\" cx=\"1151.77\" cy=\"777.615\" r=\"14.4\" fill=\"#008000\" fill-rule=\"evenodd\" fill-opacity=\"1\" stroke=\"#000000\" stroke-opacity=\"1\" stroke-width=\"3.2\"/>\n",
       "<circle clip-path=\"url(#clip102)\" cx=\"1165.5\" cy=\"763.504\" r=\"14.4\" fill=\"#008000\" fill-rule=\"evenodd\" fill-opacity=\"1\" stroke=\"#000000\" stroke-opacity=\"1\" stroke-width=\"3.2\"/>\n",
       "<circle clip-path=\"url(#clip102)\" cx=\"1179.23\" cy=\"763.504\" r=\"14.4\" fill=\"#008000\" fill-rule=\"evenodd\" fill-opacity=\"1\" stroke=\"#000000\" stroke-opacity=\"1\" stroke-width=\"3.2\"/>\n",
       "<circle clip-path=\"url(#clip102)\" cx=\"1192.96\" cy=\"763.504\" r=\"14.4\" fill=\"#008000\" fill-rule=\"evenodd\" fill-opacity=\"1\" stroke=\"#000000\" stroke-opacity=\"1\" stroke-width=\"3.2\"/>\n",
       "<circle clip-path=\"url(#clip102)\" cx=\"1206.69\" cy=\"763.504\" r=\"14.4\" fill=\"#008000\" fill-rule=\"evenodd\" fill-opacity=\"1\" stroke=\"#000000\" stroke-opacity=\"1\" stroke-width=\"3.2\"/>\n",
       "<circle clip-path=\"url(#clip102)\" cx=\"1220.42\" cy=\"763.504\" r=\"14.4\" fill=\"#008000\" fill-rule=\"evenodd\" fill-opacity=\"1\" stroke=\"#000000\" stroke-opacity=\"1\" stroke-width=\"3.2\"/>\n",
       "<circle clip-path=\"url(#clip102)\" cx=\"1234.15\" cy=\"763.504\" r=\"14.4\" fill=\"#008000\" fill-rule=\"evenodd\" fill-opacity=\"1\" stroke=\"#000000\" stroke-opacity=\"1\" stroke-width=\"3.2\"/>\n",
       "<circle clip-path=\"url(#clip102)\" cx=\"1247.88\" cy=\"763.504\" r=\"14.4\" fill=\"#008000\" fill-rule=\"evenodd\" fill-opacity=\"1\" stroke=\"#000000\" stroke-opacity=\"1\" stroke-width=\"3.2\"/>\n",
       "<circle clip-path=\"url(#clip102)\" cx=\"1261.61\" cy=\"755.837\" r=\"14.4\" fill=\"#008000\" fill-rule=\"evenodd\" fill-opacity=\"1\" stroke=\"#000000\" stroke-opacity=\"1\" stroke-width=\"3.2\"/>\n",
       "<circle clip-path=\"url(#clip102)\" cx=\"1275.34\" cy=\"751.689\" r=\"14.4\" fill=\"#008000\" fill-rule=\"evenodd\" fill-opacity=\"1\" stroke=\"#000000\" stroke-opacity=\"1\" stroke-width=\"3.2\"/>\n",
       "<circle clip-path=\"url(#clip102)\" cx=\"1289.07\" cy=\"751.689\" r=\"14.4\" fill=\"#008000\" fill-rule=\"evenodd\" fill-opacity=\"1\" stroke=\"#000000\" stroke-opacity=\"1\" stroke-width=\"3.2\"/>\n",
       "<circle clip-path=\"url(#clip102)\" cx=\"1302.8\" cy=\"751.689\" r=\"14.4\" fill=\"#008000\" fill-rule=\"evenodd\" fill-opacity=\"1\" stroke=\"#000000\" stroke-opacity=\"1\" stroke-width=\"3.2\"/>\n",
       "<circle clip-path=\"url(#clip102)\" cx=\"1316.53\" cy=\"749.332\" r=\"14.4\" fill=\"#008000\" fill-rule=\"evenodd\" fill-opacity=\"1\" stroke=\"#000000\" stroke-opacity=\"1\" stroke-width=\"3.2\"/>\n",
       "<circle clip-path=\"url(#clip102)\" cx=\"1330.26\" cy=\"749.332\" r=\"14.4\" fill=\"#008000\" fill-rule=\"evenodd\" fill-opacity=\"1\" stroke=\"#000000\" stroke-opacity=\"1\" stroke-width=\"3.2\"/>\n",
       "<circle clip-path=\"url(#clip102)\" cx=\"1343.99\" cy=\"749.332\" r=\"14.4\" fill=\"#008000\" fill-rule=\"evenodd\" fill-opacity=\"1\" stroke=\"#000000\" stroke-opacity=\"1\" stroke-width=\"3.2\"/>\n",
       "<circle clip-path=\"url(#clip102)\" cx=\"1357.72\" cy=\"742.207\" r=\"14.4\" fill=\"#008000\" fill-rule=\"evenodd\" fill-opacity=\"1\" stroke=\"#000000\" stroke-opacity=\"1\" stroke-width=\"3.2\"/>\n",
       "<circle clip-path=\"url(#clip102)\" cx=\"1371.45\" cy=\"731.15\" r=\"14.4\" fill=\"#008000\" fill-rule=\"evenodd\" fill-opacity=\"1\" stroke=\"#000000\" stroke-opacity=\"1\" stroke-width=\"3.2\"/>\n",
       "<circle clip-path=\"url(#clip102)\" cx=\"1385.18\" cy=\"731.15\" r=\"14.4\" fill=\"#008000\" fill-rule=\"evenodd\" fill-opacity=\"1\" stroke=\"#000000\" stroke-opacity=\"1\" stroke-width=\"3.2\"/>\n",
       "<circle clip-path=\"url(#clip102)\" cx=\"1398.91\" cy=\"731.15\" r=\"14.4\" fill=\"#008000\" fill-rule=\"evenodd\" fill-opacity=\"1\" stroke=\"#000000\" stroke-opacity=\"1\" stroke-width=\"3.2\"/>\n",
       "<circle clip-path=\"url(#clip102)\" cx=\"1412.64\" cy=\"685.751\" r=\"14.4\" fill=\"#008000\" fill-rule=\"evenodd\" fill-opacity=\"1\" stroke=\"#000000\" stroke-opacity=\"1\" stroke-width=\"3.2\"/>\n",
       "<circle clip-path=\"url(#clip102)\" cx=\"1426.37\" cy=\"715.692\" r=\"14.4\" fill=\"#008000\" fill-rule=\"evenodd\" fill-opacity=\"1\" stroke=\"#000000\" stroke-opacity=\"1\" stroke-width=\"3.2\"/>\n",
       "<circle clip-path=\"url(#clip102)\" cx=\"1440.1\" cy=\"715.692\" r=\"14.4\" fill=\"#008000\" fill-rule=\"evenodd\" fill-opacity=\"1\" stroke=\"#000000\" stroke-opacity=\"1\" stroke-width=\"3.2\"/>\n",
       "<circle clip-path=\"url(#clip102)\" cx=\"1453.83\" cy=\"715.692\" r=\"14.4\" fill=\"#008000\" fill-rule=\"evenodd\" fill-opacity=\"1\" stroke=\"#000000\" stroke-opacity=\"1\" stroke-width=\"3.2\"/>\n",
       "<circle clip-path=\"url(#clip102)\" cx=\"1467.56\" cy=\"715.692\" r=\"14.4\" fill=\"#008000\" fill-rule=\"evenodd\" fill-opacity=\"1\" stroke=\"#000000\" stroke-opacity=\"1\" stroke-width=\"3.2\"/>\n",
       "<circle clip-path=\"url(#clip102)\" cx=\"1481.29\" cy=\"715.692\" r=\"14.4\" fill=\"#008000\" fill-rule=\"evenodd\" fill-opacity=\"1\" stroke=\"#000000\" stroke-opacity=\"1\" stroke-width=\"3.2\"/>\n",
       "<circle clip-path=\"url(#clip102)\" cx=\"1495.02\" cy=\"719.116\" r=\"14.4\" fill=\"#008000\" fill-rule=\"evenodd\" fill-opacity=\"1\" stroke=\"#000000\" stroke-opacity=\"1\" stroke-width=\"3.2\"/>\n",
       "<circle clip-path=\"url(#clip102)\" cx=\"1508.75\" cy=\"667.633\" r=\"14.4\" fill=\"#008000\" fill-rule=\"evenodd\" fill-opacity=\"1\" stroke=\"#000000\" stroke-opacity=\"1\" stroke-width=\"3.2\"/>\n",
       "<circle clip-path=\"url(#clip102)\" cx=\"1522.48\" cy=\"664.146\" r=\"14.4\" fill=\"#008000\" fill-rule=\"evenodd\" fill-opacity=\"1\" stroke=\"#000000\" stroke-opacity=\"1\" stroke-width=\"3.2\"/>\n",
       "<circle clip-path=\"url(#clip102)\" cx=\"1536.21\" cy=\"664.146\" r=\"14.4\" fill=\"#008000\" fill-rule=\"evenodd\" fill-opacity=\"1\" stroke=\"#000000\" stroke-opacity=\"1\" stroke-width=\"3.2\"/>\n",
       "<circle clip-path=\"url(#clip102)\" cx=\"1549.94\" cy=\"664.146\" r=\"14.4\" fill=\"#008000\" fill-rule=\"evenodd\" fill-opacity=\"1\" stroke=\"#000000\" stroke-opacity=\"1\" stroke-width=\"3.2\"/>\n",
       "<circle clip-path=\"url(#clip102)\" cx=\"1563.67\" cy=\"674.815\" r=\"14.4\" fill=\"#008000\" fill-rule=\"evenodd\" fill-opacity=\"1\" stroke=\"#000000\" stroke-opacity=\"1\" stroke-width=\"3.2\"/>\n",
       "<circle clip-path=\"url(#clip102)\" cx=\"1577.41\" cy=\"652.96\" r=\"14.4\" fill=\"#008000\" fill-rule=\"evenodd\" fill-opacity=\"1\" stroke=\"#000000\" stroke-opacity=\"1\" stroke-width=\"3.2\"/>\n",
       "<circle clip-path=\"url(#clip102)\" cx=\"1591.14\" cy=\"652.96\" r=\"14.4\" fill=\"#008000\" fill-rule=\"evenodd\" fill-opacity=\"1\" stroke=\"#000000\" stroke-opacity=\"1\" stroke-width=\"3.2\"/>\n",
       "<circle clip-path=\"url(#clip102)\" cx=\"1604.87\" cy=\"628.846\" r=\"14.4\" fill=\"#008000\" fill-rule=\"evenodd\" fill-opacity=\"1\" stroke=\"#000000\" stroke-opacity=\"1\" stroke-width=\"3.2\"/>\n",
       "<circle clip-path=\"url(#clip102)\" cx=\"1618.6\" cy=\"628.846\" r=\"14.4\" fill=\"#008000\" fill-rule=\"evenodd\" fill-opacity=\"1\" stroke=\"#000000\" stroke-opacity=\"1\" stroke-width=\"3.2\"/>\n",
       "<circle clip-path=\"url(#clip102)\" cx=\"1632.33\" cy=\"633.169\" r=\"14.4\" fill=\"#008000\" fill-rule=\"evenodd\" fill-opacity=\"1\" stroke=\"#000000\" stroke-opacity=\"1\" stroke-width=\"3.2\"/>\n",
       "<circle clip-path=\"url(#clip102)\" cx=\"1646.06\" cy=\"630.216\" r=\"14.4\" fill=\"#008000\" fill-rule=\"evenodd\" fill-opacity=\"1\" stroke=\"#000000\" stroke-opacity=\"1\" stroke-width=\"3.2\"/>\n",
       "<circle clip-path=\"url(#clip102)\" cx=\"1659.79\" cy=\"633.169\" r=\"14.4\" fill=\"#008000\" fill-rule=\"evenodd\" fill-opacity=\"1\" stroke=\"#000000\" stroke-opacity=\"1\" stroke-width=\"3.2\"/>\n",
       "<circle clip-path=\"url(#clip102)\" cx=\"1673.52\" cy=\"634.307\" r=\"14.4\" fill=\"#008000\" fill-rule=\"evenodd\" fill-opacity=\"1\" stroke=\"#000000\" stroke-opacity=\"1\" stroke-width=\"3.2\"/>\n",
       "<circle clip-path=\"url(#clip102)\" cx=\"1687.25\" cy=\"631.93\" r=\"14.4\" fill=\"#008000\" fill-rule=\"evenodd\" fill-opacity=\"1\" stroke=\"#000000\" stroke-opacity=\"1\" stroke-width=\"3.2\"/>\n",
       "<circle clip-path=\"url(#clip102)\" cx=\"1700.98\" cy=\"608.387\" r=\"14.4\" fill=\"#008000\" fill-rule=\"evenodd\" fill-opacity=\"1\" stroke=\"#000000\" stroke-opacity=\"1\" stroke-width=\"3.2\"/>\n",
       "<circle clip-path=\"url(#clip102)\" cx=\"1714.71\" cy=\"610.12\" r=\"14.4\" fill=\"#008000\" fill-rule=\"evenodd\" fill-opacity=\"1\" stroke=\"#000000\" stroke-opacity=\"1\" stroke-width=\"3.2\"/>\n",
       "<circle clip-path=\"url(#clip102)\" cx=\"1728.44\" cy=\"587.736\" r=\"14.4\" fill=\"#008000\" fill-rule=\"evenodd\" fill-opacity=\"1\" stroke=\"#000000\" stroke-opacity=\"1\" stroke-width=\"3.2\"/>\n",
       "<circle clip-path=\"url(#clip102)\" cx=\"1742.17\" cy=\"565.02\" r=\"14.4\" fill=\"#008000\" fill-rule=\"evenodd\" fill-opacity=\"1\" stroke=\"#000000\" stroke-opacity=\"1\" stroke-width=\"3.2\"/>\n",
       "<circle clip-path=\"url(#clip102)\" cx=\"1755.9\" cy=\"565.02\" r=\"14.4\" fill=\"#008000\" fill-rule=\"evenodd\" fill-opacity=\"1\" stroke=\"#000000\" stroke-opacity=\"1\" stroke-width=\"3.2\"/>\n",
       "<circle clip-path=\"url(#clip102)\" cx=\"1769.63\" cy=\"562.629\" r=\"14.4\" fill=\"#008000\" fill-rule=\"evenodd\" fill-opacity=\"1\" stroke=\"#000000\" stroke-opacity=\"1\" stroke-width=\"3.2\"/>\n",
       "<circle clip-path=\"url(#clip102)\" cx=\"1783.36\" cy=\"539.912\" r=\"14.4\" fill=\"#008000\" fill-rule=\"evenodd\" fill-opacity=\"1\" stroke=\"#000000\" stroke-opacity=\"1\" stroke-width=\"3.2\"/>\n",
       "<circle clip-path=\"url(#clip102)\" cx=\"1797.09\" cy=\"539.912\" r=\"14.4\" fill=\"#008000\" fill-rule=\"evenodd\" fill-opacity=\"1\" stroke=\"#000000\" stroke-opacity=\"1\" stroke-width=\"3.2\"/>\n",
       "<circle clip-path=\"url(#clip102)\" cx=\"1810.82\" cy=\"539.912\" r=\"14.4\" fill=\"#008000\" fill-rule=\"evenodd\" fill-opacity=\"1\" stroke=\"#000000\" stroke-opacity=\"1\" stroke-width=\"3.2\"/>\n",
       "<circle clip-path=\"url(#clip102)\" cx=\"1824.55\" cy=\"620.623\" r=\"14.4\" fill=\"#008000\" fill-rule=\"evenodd\" fill-opacity=\"1\" stroke=\"#000000\" stroke-opacity=\"1\" stroke-width=\"3.2\"/>\n",
       "<circle clip-path=\"url(#clip102)\" cx=\"1838.28\" cy=\"489.697\" r=\"14.4\" fill=\"#008000\" fill-rule=\"evenodd\" fill-opacity=\"1\" stroke=\"#000000\" stroke-opacity=\"1\" stroke-width=\"3.2\"/>\n",
       "<circle clip-path=\"url(#clip102)\" cx=\"1852.01\" cy=\"489.697\" r=\"14.4\" fill=\"#008000\" fill-rule=\"evenodd\" fill-opacity=\"1\" stroke=\"#000000\" stroke-opacity=\"1\" stroke-width=\"3.2\"/>\n",
       "<circle clip-path=\"url(#clip102)\" cx=\"1865.74\" cy=\"456.22\" r=\"14.4\" fill=\"#008000\" fill-rule=\"evenodd\" fill-opacity=\"1\" stroke=\"#000000\" stroke-opacity=\"1\" stroke-width=\"3.2\"/>\n",
       "<circle clip-path=\"url(#clip102)\" cx=\"1879.47\" cy=\"456.22\" r=\"14.4\" fill=\"#008000\" fill-rule=\"evenodd\" fill-opacity=\"1\" stroke=\"#000000\" stroke-opacity=\"1\" stroke-width=\"3.2\"/>\n",
       "<circle clip-path=\"url(#clip102)\" cx=\"1893.2\" cy=\"433.903\" r=\"14.4\" fill=\"#008000\" fill-rule=\"evenodd\" fill-opacity=\"1\" stroke=\"#000000\" stroke-opacity=\"1\" stroke-width=\"3.2\"/>\n",
       "<circle clip-path=\"url(#clip102)\" cx=\"1906.93\" cy=\"419.976\" r=\"14.4\" fill=\"#008000\" fill-rule=\"evenodd\" fill-opacity=\"1\" stroke=\"#000000\" stroke-opacity=\"1\" stroke-width=\"3.2\"/>\n",
       "<circle clip-path=\"url(#clip102)\" cx=\"1920.66\" cy=\"393.256\" r=\"14.4\" fill=\"#008000\" fill-rule=\"evenodd\" fill-opacity=\"1\" stroke=\"#000000\" stroke-opacity=\"1\" stroke-width=\"3.2\"/>\n",
       "<circle clip-path=\"url(#clip102)\" cx=\"1934.39\" cy=\"419.976\" r=\"14.4\" fill=\"#008000\" fill-rule=\"evenodd\" fill-opacity=\"1\" stroke=\"#000000\" stroke-opacity=\"1\" stroke-width=\"3.2\"/>\n",
       "<circle clip-path=\"url(#clip102)\" cx=\"1948.12\" cy=\"422.128\" r=\"14.4\" fill=\"#008000\" fill-rule=\"evenodd\" fill-opacity=\"1\" stroke=\"#000000\" stroke-opacity=\"1\" stroke-width=\"3.2\"/>\n",
       "<circle clip-path=\"url(#clip102)\" cx=\"1961.85\" cy=\"386.451\" r=\"14.4\" fill=\"#008000\" fill-rule=\"evenodd\" fill-opacity=\"1\" stroke=\"#000000\" stroke-opacity=\"1\" stroke-width=\"3.2\"/>\n",
       "<circle clip-path=\"url(#clip102)\" cx=\"1975.58\" cy=\"386.451\" r=\"14.4\" fill=\"#008000\" fill-rule=\"evenodd\" fill-opacity=\"1\" stroke=\"#000000\" stroke-opacity=\"1\" stroke-width=\"3.2\"/>\n",
       "<circle clip-path=\"url(#clip102)\" cx=\"1989.31\" cy=\"380.495\" r=\"14.4\" fill=\"#008000\" fill-rule=\"evenodd\" fill-opacity=\"1\" stroke=\"#000000\" stroke-opacity=\"1\" stroke-width=\"3.2\"/>\n",
       "<circle clip-path=\"url(#clip102)\" cx=\"2003.04\" cy=\"380.495\" r=\"14.4\" fill=\"#008000\" fill-rule=\"evenodd\" fill-opacity=\"1\" stroke=\"#000000\" stroke-opacity=\"1\" stroke-width=\"3.2\"/>\n",
       "<circle clip-path=\"url(#clip102)\" cx=\"2016.78\" cy=\"406.005\" r=\"14.4\" fill=\"#008000\" fill-rule=\"evenodd\" fill-opacity=\"1\" stroke=\"#000000\" stroke-opacity=\"1\" stroke-width=\"3.2\"/>\n",
       "<circle clip-path=\"url(#clip102)\" cx=\"2030.51\" cy=\"406.005\" r=\"14.4\" fill=\"#008000\" fill-rule=\"evenodd\" fill-opacity=\"1\" stroke=\"#000000\" stroke-opacity=\"1\" stroke-width=\"3.2\"/>\n",
       "<circle clip-path=\"url(#clip102)\" cx=\"2044.24\" cy=\"406.005\" r=\"14.4\" fill=\"#008000\" fill-rule=\"evenodd\" fill-opacity=\"1\" stroke=\"#000000\" stroke-opacity=\"1\" stroke-width=\"3.2\"/>\n",
       "<circle clip-path=\"url(#clip102)\" cx=\"2057.97\" cy=\"406.005\" r=\"14.4\" fill=\"#008000\" fill-rule=\"evenodd\" fill-opacity=\"1\" stroke=\"#000000\" stroke-opacity=\"1\" stroke-width=\"3.2\"/>\n",
       "<circle clip-path=\"url(#clip102)\" cx=\"2071.7\" cy=\"406.005\" r=\"14.4\" fill=\"#008000\" fill-rule=\"evenodd\" fill-opacity=\"1\" stroke=\"#000000\" stroke-opacity=\"1\" stroke-width=\"3.2\"/>\n",
       "<circle clip-path=\"url(#clip102)\" cx=\"2085.43\" cy=\"406.005\" r=\"14.4\" fill=\"#008000\" fill-rule=\"evenodd\" fill-opacity=\"1\" stroke=\"#000000\" stroke-opacity=\"1\" stroke-width=\"3.2\"/>\n",
       "<circle clip-path=\"url(#clip102)\" cx=\"2099.16\" cy=\"401.082\" r=\"14.4\" fill=\"#008000\" fill-rule=\"evenodd\" fill-opacity=\"1\" stroke=\"#000000\" stroke-opacity=\"1\" stroke-width=\"3.2\"/>\n",
       "<circle clip-path=\"url(#clip102)\" cx=\"2112.89\" cy=\"312.467\" r=\"14.4\" fill=\"#008000\" fill-rule=\"evenodd\" fill-opacity=\"1\" stroke=\"#000000\" stroke-opacity=\"1\" stroke-width=\"3.2\"/>\n",
       "<circle clip-path=\"url(#clip102)\" cx=\"2126.62\" cy=\"312.467\" r=\"14.4\" fill=\"#008000\" fill-rule=\"evenodd\" fill-opacity=\"1\" stroke=\"#000000\" stroke-opacity=\"1\" stroke-width=\"3.2\"/>\n",
       "<circle clip-path=\"url(#clip102)\" cx=\"2140.35\" cy=\"312.467\" r=\"14.4\" fill=\"#008000\" fill-rule=\"evenodd\" fill-opacity=\"1\" stroke=\"#000000\" stroke-opacity=\"1\" stroke-width=\"3.2\"/>\n",
       "<circle clip-path=\"url(#clip102)\" cx=\"2154.08\" cy=\"312.467\" r=\"14.4\" fill=\"#008000\" fill-rule=\"evenodd\" fill-opacity=\"1\" stroke=\"#000000\" stroke-opacity=\"1\" stroke-width=\"3.2\"/>\n",
       "<circle clip-path=\"url(#clip102)\" cx=\"2167.81\" cy=\"242.314\" r=\"14.4\" fill=\"#008000\" fill-rule=\"evenodd\" fill-opacity=\"1\" stroke=\"#000000\" stroke-opacity=\"1\" stroke-width=\"3.2\"/>\n",
       "<circle clip-path=\"url(#clip102)\" cx=\"2181.54\" cy=\"207.237\" r=\"14.4\" fill=\"#008000\" fill-rule=\"evenodd\" fill-opacity=\"1\" stroke=\"#000000\" stroke-opacity=\"1\" stroke-width=\"3.2\"/>\n",
       "<circle clip-path=\"url(#clip102)\" cx=\"2195.27\" cy=\"207.237\" r=\"14.4\" fill=\"#008000\" fill-rule=\"evenodd\" fill-opacity=\"1\" stroke=\"#000000\" stroke-opacity=\"1\" stroke-width=\"3.2\"/>\n",
       "<circle clip-path=\"url(#clip102)\" cx=\"2209\" cy=\"207.237\" r=\"14.4\" fill=\"#008000\" fill-rule=\"evenodd\" fill-opacity=\"1\" stroke=\"#000000\" stroke-opacity=\"1\" stroke-width=\"3.2\"/>\n",
       "<circle clip-path=\"url(#clip102)\" cx=\"2222.73\" cy=\"252.956\" r=\"14.4\" fill=\"#008000\" fill-rule=\"evenodd\" fill-opacity=\"1\" stroke=\"#000000\" stroke-opacity=\"1\" stroke-width=\"3.2\"/>\n",
       "<circle clip-path=\"url(#clip102)\" cx=\"2236.46\" cy=\"162.404\" r=\"14.4\" fill=\"#008000\" fill-rule=\"evenodd\" fill-opacity=\"1\" stroke=\"#000000\" stroke-opacity=\"1\" stroke-width=\"3.2\"/>\n",
       "<circle clip-path=\"url(#clip102)\" cx=\"2250.19\" cy=\"162.404\" r=\"14.4\" fill=\"#008000\" fill-rule=\"evenodd\" fill-opacity=\"1\" stroke=\"#000000\" stroke-opacity=\"1\" stroke-width=\"3.2\"/>\n",
       "<circle clip-path=\"url(#clip102)\" cx=\"2263.92\" cy=\"103.341\" r=\"14.4\" fill=\"#008000\" fill-rule=\"evenodd\" fill-opacity=\"1\" stroke=\"#000000\" stroke-opacity=\"1\" stroke-width=\"3.2\"/>\n",
       "<circle clip-path=\"url(#clip102)\" cx=\"2277.65\" cy=\"87.9763\" r=\"14.4\" fill=\"#008000\" fill-rule=\"evenodd\" fill-opacity=\"1\" stroke=\"#000000\" stroke-opacity=\"1\" stroke-width=\"3.2\"/>\n",
       "<circle clip-path=\"url(#clip102)\" cx=\"2291.38\" cy=\"87.9763\" r=\"14.4\" fill=\"#008000\" fill-rule=\"evenodd\" fill-opacity=\"1\" stroke=\"#000000\" stroke-opacity=\"1\" stroke-width=\"3.2\"/>\n",
       "<path clip-path=\"url(#clip100)\" d=\"M256.476 250.738 L935.39 250.738 L935.39 95.2176 L256.476 95.2176  Z\" fill=\"#ffffff\" fill-rule=\"evenodd\" fill-opacity=\"1\"/>\n",
       "<polyline clip-path=\"url(#clip100)\" style=\"stroke:#000000; stroke-linecap:round; stroke-linejoin:round; stroke-width:4; stroke-opacity:1; fill:none\" points=\"256.476,250.738 935.39,250.738 935.39,95.2176 256.476,95.2176 256.476,250.738 \"/>\n",
       "<circle clip-path=\"url(#clip100)\" cx=\"352.857\" cy=\"147.058\" r=\"20.48\" fill=\"#0000ff\" fill-rule=\"evenodd\" fill-opacity=\"1\" stroke=\"#000000\" stroke-opacity=\"1\" stroke-width=\"4.55111\"/>\n",
       "<path clip-path=\"url(#clip100)\" d=\"M468.011 151.398 Q468.011 146.699 466.066 144.037 Q464.145 141.352 460.765 141.352 Q457.386 141.352 455.441 144.037 Q453.52 146.699 453.52 151.398 Q453.52 156.097 455.441 158.782 Q457.386 161.444 460.765 161.444 Q464.145 161.444 466.066 158.782 Q468.011 156.097 468.011 151.398 M453.52 142.347 Q454.863 140.032 456.9 138.921 Q458.96 137.787 461.807 137.787 Q466.529 137.787 469.469 141.537 Q472.432 145.287 472.432 151.398 Q472.432 157.509 469.469 161.259 Q466.529 165.009 461.807 165.009 Q458.96 165.009 456.9 163.898 Q454.863 162.763 453.52 160.449 L453.52 164.338 L449.238 164.338 L449.238 128.319 L453.52 128.319 L453.52 142.347 Z\" fill=\"#000000\" fill-rule=\"nonzero\" fill-opacity=\"1\" /><path clip-path=\"url(#clip100)\" d=\"M501.668 150.31 L501.668 152.393 L482.085 152.393 Q482.362 156.791 484.723 159.106 Q487.108 161.398 491.344 161.398 Q493.797 161.398 496.089 160.796 Q498.404 160.194 500.672 158.99 L500.672 163.018 Q498.381 163.99 495.973 164.5 Q493.566 165.009 491.089 165.009 Q484.885 165.009 481.251 161.398 Q477.64 157.787 477.64 151.629 Q477.64 145.264 481.066 141.537 Q484.515 137.787 490.348 137.787 Q495.58 137.787 498.612 141.166 Q501.668 144.523 501.668 150.31 M497.409 149.06 Q497.362 145.565 495.441 143.481 Q493.543 141.398 490.395 141.398 Q486.83 141.398 484.677 143.412 Q482.548 145.426 482.223 149.083 L497.409 149.06 Z\" fill=\"#000000\" fill-rule=\"nonzero\" fill-opacity=\"1\" /><path clip-path=\"url(#clip100)\" d=\"M530.209 148.689 L530.209 164.338 L525.95 164.338 L525.95 148.828 Q525.95 145.148 524.515 143.319 Q523.08 141.49 520.209 141.49 Q516.76 141.49 514.77 143.69 Q512.779 145.889 512.779 149.685 L512.779 164.338 L508.496 164.338 L508.496 138.412 L512.779 138.412 L512.779 142.44 Q514.307 140.102 516.367 138.944 Q518.45 137.787 521.158 137.787 Q525.626 137.787 527.918 140.565 Q530.209 143.319 530.209 148.689 Z\" fill=\"#000000\" fill-rule=\"nonzero\" fill-opacity=\"1\" /><path clip-path=\"url(#clip100)\" d=\"M557.362 139.407 L557.362 143.389 Q555.556 142.393 553.728 141.907 Q551.922 141.398 550.07 141.398 Q545.927 141.398 543.635 144.037 Q541.344 146.652 541.344 151.398 Q541.344 156.143 543.635 158.782 Q545.927 161.398 550.07 161.398 Q551.922 161.398 553.728 160.912 Q555.556 160.402 557.362 159.407 L557.362 163.342 Q555.58 164.176 553.658 164.592 Q551.76 165.009 549.607 165.009 Q543.751 165.009 540.302 161.328 Q536.853 157.648 536.853 151.398 Q536.853 145.055 540.325 141.421 Q543.82 137.787 549.885 137.787 Q551.853 137.787 553.728 138.203 Q555.603 138.597 557.362 139.407 Z\" fill=\"#000000\" fill-rule=\"nonzero\" fill-opacity=\"1\" /><path clip-path=\"url(#clip100)\" d=\"M586.32 148.689 L586.32 164.338 L582.061 164.338 L582.061 148.828 Q582.061 145.148 580.626 143.319 Q579.191 141.49 576.32 141.49 Q572.871 141.49 570.88 143.69 Q568.89 145.889 568.89 149.685 L568.89 164.338 L564.607 164.338 L564.607 128.319 L568.89 128.319 L568.89 142.44 Q570.417 140.102 572.478 138.944 Q574.561 137.787 577.269 137.787 Q581.737 137.787 584.028 140.565 Q586.32 143.319 586.32 148.689 Z\" fill=\"#000000\" fill-rule=\"nonzero\" fill-opacity=\"1\" /><path clip-path=\"url(#clip100)\" d=\"M615.001 143.389 Q616.598 140.518 618.82 139.153 Q621.042 137.787 624.051 137.787 Q628.102 137.787 630.301 140.634 Q632.5 143.458 632.5 148.689 L632.5 164.338 L628.218 164.338 L628.218 148.828 Q628.218 145.102 626.899 143.296 Q625.579 141.49 622.871 141.49 Q619.561 141.49 617.639 143.69 Q615.718 145.889 615.718 149.685 L615.718 164.338 L611.436 164.338 L611.436 148.828 Q611.436 145.078 610.116 143.296 Q608.797 141.49 606.042 141.49 Q602.778 141.49 600.857 143.713 Q598.936 145.912 598.936 149.685 L598.936 164.338 L594.653 164.338 L594.653 138.412 L598.936 138.412 L598.936 142.44 Q600.394 140.055 602.431 138.921 Q604.468 137.787 607.269 137.787 Q610.093 137.787 612.061 139.222 Q614.051 140.657 615.001 143.389 Z\" fill=\"#000000\" fill-rule=\"nonzero\" fill-opacity=\"1\" /><path clip-path=\"url(#clip100)\" d=\"M652.778 151.305 Q647.616 151.305 645.625 152.486 Q643.635 153.666 643.635 156.514 Q643.635 158.782 645.116 160.125 Q646.621 161.444 649.19 161.444 Q652.732 161.444 654.861 158.944 Q657.014 156.421 657.014 152.254 L657.014 151.305 L652.778 151.305 M661.273 149.546 L661.273 164.338 L657.014 164.338 L657.014 160.402 Q655.556 162.763 653.38 163.898 Q651.204 165.009 648.056 165.009 Q644.074 165.009 641.713 162.787 Q639.375 160.541 639.375 156.791 Q639.375 152.416 642.292 150.194 Q645.232 147.972 651.042 147.972 L657.014 147.972 L657.014 147.555 Q657.014 144.615 655.07 143.018 Q653.148 141.398 649.653 141.398 Q647.431 141.398 645.324 141.93 Q643.218 142.463 641.274 143.527 L641.274 139.592 Q643.611 138.69 645.811 138.25 Q648.01 137.787 650.093 137.787 Q655.718 137.787 658.496 140.703 Q661.273 143.62 661.273 149.546 Z\" fill=\"#000000\" fill-rule=\"nonzero\" fill-opacity=\"1\" /><path clip-path=\"url(#clip100)\" d=\"M685.07 142.393 Q684.352 141.977 683.496 141.791 Q682.662 141.583 681.644 141.583 Q678.033 141.583 676.088 143.944 Q674.167 146.282 674.167 150.68 L674.167 164.338 L669.885 164.338 L669.885 138.412 L674.167 138.412 L674.167 142.44 Q675.509 140.078 677.662 138.944 Q679.815 137.787 682.894 137.787 Q683.334 137.787 683.866 137.856 Q684.398 137.903 685.046 138.018 L685.07 142.393 Z\" fill=\"#000000\" fill-rule=\"nonzero\" fill-opacity=\"1\" /><path clip-path=\"url(#clip100)\" d=\"M689.375 128.319 L693.658 128.319 L693.658 149.592 L706.366 138.412 L711.806 138.412 L698.056 150.541 L712.384 164.338 L706.829 164.338 L693.658 151.676 L693.658 164.338 L689.375 164.338 L689.375 128.319 Z\" fill=\"#000000\" fill-rule=\"nonzero\" fill-opacity=\"1\" /><path clip-path=\"url(#clip100)\" d=\"M731.481 129.778 L753.704 129.778 L753.704 131.768 L741.157 164.338 L736.273 164.338 L748.079 133.713 L731.481 133.713 L731.481 129.778 Z\" fill=\"#000000\" fill-rule=\"nonzero\" fill-opacity=\"1\" /><path clip-path=\"url(#clip100)\" d=\"M787.523 128.366 Q784.421 133.69 782.916 138.898 Q781.412 144.106 781.412 149.453 Q781.412 154.801 782.916 160.055 Q784.444 165.287 787.523 170.588 L783.819 170.588 Q780.347 165.148 778.611 159.893 Q776.898 154.639 776.898 149.453 Q776.898 144.291 778.611 139.06 Q780.324 133.828 783.819 128.366 L787.523 128.366 Z\" fill=\"#000000\" fill-rule=\"nonzero\" fill-opacity=\"1\" /><path clip-path=\"url(#clip100)\" d=\"M806.388 132.856 Q802.777 132.856 800.949 136.421 Q799.143 139.963 799.143 147.092 Q799.143 154.199 800.949 157.764 Q802.777 161.305 806.388 161.305 Q810.023 161.305 811.828 157.764 Q813.657 154.199 813.657 147.092 Q813.657 139.963 811.828 136.421 Q810.023 132.856 806.388 132.856 M806.388 129.153 Q812.199 129.153 815.254 133.759 Q818.333 138.342 818.333 147.092 Q818.333 155.819 815.254 160.426 Q812.199 165.009 806.388 165.009 Q800.578 165.009 797.5 160.426 Q794.444 155.819 794.444 147.092 Q794.444 138.342 797.5 133.759 Q800.578 129.153 806.388 129.153 Z\" fill=\"#000000\" fill-rule=\"nonzero\" fill-opacity=\"1\" /><path clip-path=\"url(#clip100)\" d=\"M826.55 158.458 L831.435 158.458 L831.435 164.338 L826.55 164.338 L826.55 158.458 Z\" fill=\"#000000\" fill-rule=\"nonzero\" fill-opacity=\"1\" /><path clip-path=\"url(#clip100)\" d=\"M851.62 147.926 Q848.286 147.926 846.365 149.708 Q844.467 151.49 844.467 154.615 Q844.467 157.74 846.365 159.523 Q848.286 161.305 851.62 161.305 Q854.953 161.305 856.874 159.523 Q858.796 157.717 858.796 154.615 Q858.796 151.49 856.874 149.708 Q854.976 147.926 851.62 147.926 M846.944 145.935 Q843.934 145.194 842.245 143.134 Q840.578 141.074 840.578 138.111 Q840.578 133.967 843.518 131.56 Q846.481 129.153 851.62 129.153 Q856.782 129.153 859.721 131.56 Q862.661 133.967 862.661 138.111 Q862.661 141.074 860.971 143.134 Q859.305 145.194 856.319 145.935 Q859.698 146.722 861.573 149.014 Q863.471 151.305 863.471 154.615 Q863.471 159.639 860.393 162.324 Q857.337 165.009 851.62 165.009 Q845.902 165.009 842.823 162.324 Q839.768 159.639 839.768 154.615 Q839.768 151.305 841.666 149.014 Q843.564 146.722 846.944 145.935 M845.231 138.551 Q845.231 141.236 846.897 142.74 Q848.587 144.245 851.62 144.245 Q854.629 144.245 856.319 142.74 Q858.032 141.236 858.032 138.551 Q858.032 135.865 856.319 134.361 Q854.629 132.856 851.62 132.856 Q848.587 132.856 846.897 134.361 Q845.231 135.865 845.231 138.551 Z\" fill=\"#000000\" fill-rule=\"nonzero\" fill-opacity=\"1\" /><path clip-path=\"url(#clip100)\" d=\"M884.629 133.852 L872.823 152.301 L884.629 152.301 L884.629 133.852 M883.402 129.778 L889.281 129.778 L889.281 152.301 L894.212 152.301 L894.212 156.189 L889.281 156.189 L889.281 164.338 L884.629 164.338 L884.629 156.189 L869.027 156.189 L869.027 151.676 L883.402 129.778 Z\" fill=\"#000000\" fill-rule=\"nonzero\" fill-opacity=\"1\" /><path clip-path=\"url(#clip100)\" d=\"M900.67 128.366 L904.374 128.366 Q907.846 133.828 909.559 139.06 Q911.295 144.291 911.295 149.453 Q911.295 154.639 909.559 159.893 Q907.846 165.148 904.374 170.588 L900.67 170.588 Q903.749 165.287 905.254 160.055 Q906.781 154.801 906.781 149.453 Q906.781 144.106 905.254 138.898 Q903.749 133.69 900.67 128.366 Z\" fill=\"#000000\" fill-rule=\"nonzero\" fill-opacity=\"1\" /><circle clip-path=\"url(#clip100)\" cx=\"352.857\" cy=\"198.898\" r=\"20.48\" fill=\"#008000\" fill-rule=\"evenodd\" fill-opacity=\"1\" stroke=\"#000000\" stroke-opacity=\"1\" stroke-width=\"4.55111\"/>\n",
       "<path clip-path=\"url(#clip100)\" d=\"M470.95 200.529 L470.95 216.178 L466.691 216.178 L466.691 200.668 Q466.691 196.988 465.256 195.159 Q463.821 193.33 460.95 193.33 Q457.501 193.33 455.511 195.53 Q453.52 197.729 453.52 201.525 L453.52 216.178 L449.238 216.178 L449.238 190.252 L453.52 190.252 L453.52 194.28 Q455.048 191.942 457.108 190.784 Q459.191 189.627 461.9 189.627 Q466.367 189.627 468.659 192.405 Q470.95 195.159 470.95 200.529 Z\" fill=\"#000000\" fill-rule=\"nonzero\" fill-opacity=\"1\" /><path clip-path=\"url(#clip100)\" d=\"M501.622 202.15 L501.622 204.233 L482.038 204.233 Q482.316 208.631 484.677 210.946 Q487.061 213.238 491.298 213.238 Q493.751 213.238 496.043 212.636 Q498.358 212.034 500.626 210.83 L500.626 214.858 Q498.334 215.83 495.927 216.34 Q493.52 216.849 491.043 216.849 Q484.839 216.849 481.205 213.238 Q477.594 209.627 477.594 203.469 Q477.594 197.104 481.02 193.377 Q484.469 189.627 490.302 189.627 Q495.534 189.627 498.566 193.006 Q501.622 196.363 501.622 202.15 M497.362 200.9 Q497.316 197.405 495.395 195.321 Q493.497 193.238 490.348 193.238 Q486.784 193.238 484.631 195.252 Q482.501 197.266 482.177 200.923 L497.362 200.9 Z\" fill=\"#000000\" fill-rule=\"nonzero\" fill-opacity=\"1\" /><path clip-path=\"url(#clip100)\" d=\"M506.135 190.252 L510.395 190.252 L515.719 210.483 L521.02 190.252 L526.043 190.252 L531.367 210.483 L536.668 190.252 L540.927 190.252 L534.144 216.178 L529.121 216.178 L523.543 194.928 L517.941 216.178 L512.918 216.178 L506.135 190.252 Z\" fill=\"#000000\" fill-rule=\"nonzero\" fill-opacity=\"1\" /><path clip-path=\"url(#clip100)\" d=\"M572.501 193.238 Q569.075 193.238 567.084 195.923 Q565.093 198.585 565.093 203.238 Q565.093 207.891 567.061 210.576 Q569.052 213.238 572.501 213.238 Q575.904 213.238 577.894 210.553 Q579.885 207.867 579.885 203.238 Q579.885 198.631 577.894 195.946 Q575.904 193.238 572.501 193.238 M572.501 189.627 Q578.056 189.627 581.228 193.238 Q584.399 196.849 584.399 203.238 Q584.399 209.604 581.228 213.238 Q578.056 216.849 572.501 216.849 Q566.922 216.849 563.751 213.238 Q560.603 209.604 560.603 203.238 Q560.603 196.849 563.751 193.238 Q566.922 189.627 572.501 189.627 Z\" fill=\"#000000\" fill-rule=\"nonzero\" fill-opacity=\"1\" /><path clip-path=\"url(#clip100)\" d=\"M613.01 200.529 L613.01 216.178 L608.751 216.178 L608.751 200.668 Q608.751 196.988 607.315 195.159 Q605.88 193.33 603.01 193.33 Q599.561 193.33 597.57 195.53 Q595.579 197.729 595.579 201.525 L595.579 216.178 L591.297 216.178 L591.297 190.252 L595.579 190.252 L595.579 194.28 Q597.107 191.942 599.167 190.784 Q601.251 189.627 603.959 189.627 Q608.427 189.627 610.718 192.405 Q613.01 195.159 613.01 200.529 Z\" fill=\"#000000\" fill-rule=\"nonzero\" fill-opacity=\"1\" /><path clip-path=\"url(#clip100)\" d=\"M643.681 202.15 L643.681 204.233 L624.098 204.233 Q624.375 208.631 626.737 210.946 Q629.121 213.238 633.357 213.238 Q635.811 213.238 638.102 212.636 Q640.417 212.034 642.686 210.83 L642.686 214.858 Q640.394 215.83 637.987 216.34 Q635.579 216.849 633.102 216.849 Q626.899 216.849 623.264 213.238 Q619.653 209.627 619.653 203.469 Q619.653 197.104 623.079 193.377 Q626.528 189.627 632.362 189.627 Q637.593 189.627 640.625 193.006 Q643.681 196.363 643.681 202.15 M639.422 200.9 Q639.375 197.405 637.454 195.321 Q635.556 193.238 632.408 193.238 Q628.843 193.238 626.69 195.252 Q624.561 197.266 624.237 200.923 L639.422 200.9 Z\" fill=\"#000000\" fill-rule=\"nonzero\" fill-opacity=\"1\" /><path clip-path=\"url(#clip100)\" d=\"M675.972 180.206 Q672.871 185.53 671.366 190.738 Q669.861 195.946 669.861 201.293 Q669.861 206.641 671.366 211.895 Q672.894 217.127 675.972 222.428 L672.269 222.428 Q668.797 216.988 667.06 211.733 Q665.347 206.479 665.347 201.293 Q665.347 196.131 667.06 190.9 Q668.773 185.668 672.269 180.206 L675.972 180.206 Z\" fill=\"#000000\" fill-rule=\"nonzero\" fill-opacity=\"1\" /><path clip-path=\"url(#clip100)\" d=\"M688.82 210.298 L693.519 210.298 L693.519 216.178 L688.82 216.178 L688.82 210.298 M693.38 206.895 L688.958 206.895 L688.958 203.33 Q688.958 200.992 689.607 199.488 Q690.255 197.983 692.338 195.992 L694.421 193.932 Q695.741 192.705 696.32 191.618 Q696.921 190.53 696.921 189.395 Q696.921 187.335 695.394 186.062 Q693.889 184.789 691.389 184.789 Q689.56 184.789 687.477 185.599 Q685.417 186.409 683.171 187.96 L683.171 183.608 Q685.347 182.289 687.57 181.641 Q689.815 180.993 692.199 180.993 Q696.458 180.993 699.028 183.238 Q701.62 185.483 701.62 189.164 Q701.62 190.923 700.787 192.52 Q699.954 194.094 697.87 196.085 L695.833 198.076 Q694.745 199.164 694.283 199.789 Q693.843 200.391 693.658 200.969 Q693.519 201.455 693.449 202.15 Q693.38 202.844 693.38 204.048 L693.38 206.895 Z\" fill=\"#000000\" fill-rule=\"nonzero\" fill-opacity=\"1\" /><path clip-path=\"url(#clip100)\" d=\"M708.727 180.206 L712.431 180.206 Q715.903 185.668 717.616 190.9 Q719.352 196.131 719.352 201.293 Q719.352 206.479 717.616 211.733 Q715.903 216.988 712.431 222.428 L708.727 222.428 Q711.806 217.127 713.31 211.895 Q714.838 206.641 714.838 201.293 Q714.838 195.946 713.31 190.738 Q711.806 185.53 708.727 180.206 Z\" fill=\"#000000\" fill-rule=\"nonzero\" fill-opacity=\"1\" /></svg>\n"
      ],
      "text/html": [
       "<?xml version=\"1.0\" encoding=\"utf-8\"?>\n",
       "<svg xmlns=\"http://www.w3.org/2000/svg\" xmlns:xlink=\"http://www.w3.org/1999/xlink\" width=\"600\" height=\"400\" viewBox=\"0 0 2400 1600\">\n",
       "<defs>\n",
       "  <clipPath id=\"clip150\">\n",
       "    <rect x=\"0\" y=\"0\" width=\"2400\" height=\"1600\"/>\n",
       "  </clipPath>\n",
       "</defs>\n",
       "<path clip-path=\"url(#clip150)\" d=\"M0 1600 L2400 1600 L2400 0 L0 0  Z\" fill=\"#ffffff\" fill-rule=\"evenodd\" fill-opacity=\"1\"/>\n",
       "<defs>\n",
       "  <clipPath id=\"clip151\">\n",
       "    <rect x=\"480\" y=\"0\" width=\"1681\" height=\"1600\"/>\n",
       "  </clipPath>\n",
       "</defs>\n",
       "<path clip-path=\"url(#clip150)\" d=\"M184.191 1486.45 L2352.76 1486.45 L2352.76 47.2441 L184.191 47.2441  Z\" fill=\"#ffffff\" fill-rule=\"evenodd\" fill-opacity=\"1\"/>\n",
       "<defs>\n",
       "  <clipPath id=\"clip152\">\n",
       "    <rect x=\"184\" y=\"47\" width=\"2170\" height=\"1440\"/>\n",
       "  </clipPath>\n",
       "</defs>\n",
       "<polyline clip-path=\"url(#clip152)\" style=\"stroke:#000000; stroke-linecap:round; stroke-linejoin:round; stroke-width:2; stroke-opacity:0.1; fill:none\" points=\"231.835,1486.45 231.835,47.2441 \"/>\n",
       "<polyline clip-path=\"url(#clip152)\" style=\"stroke:#000000; stroke-linecap:round; stroke-linejoin:round; stroke-width:2; stroke-opacity:0.1; fill:none\" points=\"918.35,1486.45 918.35,47.2441 \"/>\n",
       "<polyline clip-path=\"url(#clip152)\" style=\"stroke:#000000; stroke-linecap:round; stroke-linejoin:round; stroke-width:2; stroke-opacity:0.1; fill:none\" points=\"1604.87,1486.45 1604.87,47.2441 \"/>\n",
       "<polyline clip-path=\"url(#clip152)\" style=\"stroke:#000000; stroke-linecap:round; stroke-linejoin:round; stroke-width:2; stroke-opacity:0.1; fill:none\" points=\"2291.38,1486.45 2291.38,47.2441 \"/>\n",
       "<polyline clip-path=\"url(#clip152)\" style=\"stroke:#000000; stroke-linecap:round; stroke-linejoin:round; stroke-width:2; stroke-opacity:0.1; fill:none\" points=\"184.191,1387.7 2352.76,1387.7 \"/>\n",
       "<polyline clip-path=\"url(#clip152)\" style=\"stroke:#000000; stroke-linecap:round; stroke-linejoin:round; stroke-width:2; stroke-opacity:0.1; fill:none\" points=\"184.191,1083.48 2352.76,1083.48 \"/>\n",
       "<polyline clip-path=\"url(#clip152)\" style=\"stroke:#000000; stroke-linecap:round; stroke-linejoin:round; stroke-width:2; stroke-opacity:0.1; fill:none\" points=\"184.191,779.254 2352.76,779.254 \"/>\n",
       "<polyline clip-path=\"url(#clip152)\" style=\"stroke:#000000; stroke-linecap:round; stroke-linejoin:round; stroke-width:2; stroke-opacity:0.1; fill:none\" points=\"184.191,475.03 2352.76,475.03 \"/>\n",
       "<polyline clip-path=\"url(#clip152)\" style=\"stroke:#000000; stroke-linecap:round; stroke-linejoin:round; stroke-width:2; stroke-opacity:0.1; fill:none\" points=\"184.191,170.806 2352.76,170.806 \"/>\n",
       "<polyline clip-path=\"url(#clip150)\" style=\"stroke:#000000; stroke-linecap:round; stroke-linejoin:round; stroke-width:4; stroke-opacity:1; fill:none\" points=\"184.191,1486.45 2352.76,1486.45 \"/>\n",
       "<polyline clip-path=\"url(#clip150)\" style=\"stroke:#000000; stroke-linecap:round; stroke-linejoin:round; stroke-width:4; stroke-opacity:1; fill:none\" points=\"231.835,1486.45 231.835,1467.55 \"/>\n",
       "<polyline clip-path=\"url(#clip150)\" style=\"stroke:#000000; stroke-linecap:round; stroke-linejoin:round; stroke-width:4; stroke-opacity:1; fill:none\" points=\"918.35,1486.45 918.35,1467.55 \"/>\n",
       "<polyline clip-path=\"url(#clip150)\" style=\"stroke:#000000; stroke-linecap:round; stroke-linejoin:round; stroke-width:4; stroke-opacity:1; fill:none\" points=\"1604.87,1486.45 1604.87,1467.55 \"/>\n",
       "<polyline clip-path=\"url(#clip150)\" style=\"stroke:#000000; stroke-linecap:round; stroke-linejoin:round; stroke-width:4; stroke-opacity:1; fill:none\" points=\"2291.38,1486.45 2291.38,1467.55 \"/>\n",
       "<path clip-path=\"url(#clip150)\" d=\"M231.835 1517.37 Q228.224 1517.37 226.395 1520.93 Q224.59 1524.47 224.59 1531.6 Q224.59 1538.71 226.395 1542.27 Q228.224 1545.82 231.835 1545.82 Q235.469 1545.82 237.275 1542.27 Q239.103 1538.71 239.103 1531.6 Q239.103 1524.47 237.275 1520.93 Q235.469 1517.37 231.835 1517.37 M231.835 1513.66 Q237.645 1513.66 240.701 1518.27 Q243.779 1522.85 243.779 1531.6 Q243.779 1540.33 240.701 1544.94 Q237.645 1549.52 231.835 1549.52 Q226.025 1549.52 222.946 1544.94 Q219.89 1540.33 219.89 1531.6 Q219.89 1522.85 222.946 1518.27 Q226.025 1513.66 231.835 1513.66 Z\" fill=\"#000000\" fill-rule=\"nonzero\" fill-opacity=\"1\" /><path clip-path=\"url(#clip150)\" d=\"M893.05 1514.29 L911.406 1514.29 L911.406 1518.22 L897.332 1518.22 L897.332 1526.7 Q898.35 1526.35 899.369 1526.19 Q900.388 1526 901.406 1526 Q907.193 1526 910.573 1529.17 Q913.952 1532.34 913.952 1537.76 Q913.952 1543.34 910.48 1546.44 Q907.008 1549.52 900.688 1549.52 Q898.513 1549.52 896.244 1549.15 Q893.999 1548.78 891.591 1548.04 L891.591 1543.34 Q893.675 1544.47 895.897 1545.03 Q898.119 1545.58 900.596 1545.58 Q904.6 1545.58 906.938 1543.48 Q909.276 1541.37 909.276 1537.76 Q909.276 1534.15 906.938 1532.04 Q904.6 1529.94 900.596 1529.94 Q898.721 1529.94 896.846 1530.35 Q894.994 1530.77 893.05 1531.65 L893.05 1514.29 Z\" fill=\"#000000\" fill-rule=\"nonzero\" fill-opacity=\"1\" /><path clip-path=\"url(#clip150)\" d=\"M933.165 1517.37 Q929.554 1517.37 927.725 1520.93 Q925.92 1524.47 925.92 1531.6 Q925.92 1538.71 927.725 1542.27 Q929.554 1545.82 933.165 1545.82 Q936.799 1545.82 938.605 1542.27 Q940.434 1538.71 940.434 1531.6 Q940.434 1524.47 938.605 1520.93 Q936.799 1517.37 933.165 1517.37 M933.165 1513.66 Q938.975 1513.66 942.031 1518.27 Q945.109 1522.85 945.109 1531.6 Q945.109 1540.33 942.031 1544.94 Q938.975 1549.52 933.165 1549.52 Q927.355 1549.52 924.276 1544.94 Q921.221 1540.33 921.221 1531.6 Q921.221 1522.85 924.276 1518.27 Q927.355 1513.66 933.165 1513.66 Z\" fill=\"#000000\" fill-rule=\"nonzero\" fill-opacity=\"1\" /><path clip-path=\"url(#clip150)\" d=\"M1564.47 1544.91 L1572.11 1544.91 L1572.11 1518.55 L1563.8 1520.21 L1563.8 1515.95 L1572.07 1514.29 L1576.74 1514.29 L1576.74 1544.91 L1584.38 1544.91 L1584.38 1548.85 L1564.47 1548.85 L1564.47 1544.91 Z\" fill=\"#000000\" fill-rule=\"nonzero\" fill-opacity=\"1\" /><path clip-path=\"url(#clip150)\" d=\"M1603.82 1517.37 Q1600.21 1517.37 1598.38 1520.93 Q1596.58 1524.47 1596.58 1531.6 Q1596.58 1538.71 1598.38 1542.27 Q1600.21 1545.82 1603.82 1545.82 Q1607.46 1545.82 1609.26 1542.27 Q1611.09 1538.71 1611.09 1531.6 Q1611.09 1524.47 1609.26 1520.93 Q1607.46 1517.37 1603.82 1517.37 M1603.82 1513.66 Q1609.63 1513.66 1612.69 1518.27 Q1615.77 1522.85 1615.77 1531.6 Q1615.77 1540.33 1612.69 1544.94 Q1609.63 1549.52 1603.82 1549.52 Q1598.01 1549.52 1594.94 1544.94 Q1591.88 1540.33 1591.88 1531.6 Q1591.88 1522.85 1594.94 1518.27 Q1598.01 1513.66 1603.82 1513.66 Z\" fill=\"#000000\" fill-rule=\"nonzero\" fill-opacity=\"1\" /><path clip-path=\"url(#clip150)\" d=\"M1633.99 1517.37 Q1630.38 1517.37 1628.55 1520.93 Q1626.74 1524.47 1626.74 1531.6 Q1626.74 1538.71 1628.55 1542.27 Q1630.38 1545.82 1633.99 1545.82 Q1637.62 1545.82 1639.43 1542.27 Q1641.25 1538.71 1641.25 1531.6 Q1641.25 1524.47 1639.43 1520.93 Q1637.62 1517.37 1633.99 1517.37 M1633.99 1513.66 Q1639.8 1513.66 1642.85 1518.27 Q1645.93 1522.85 1645.93 1531.6 Q1645.93 1540.33 1642.85 1544.94 Q1639.8 1549.52 1633.99 1549.52 Q1628.18 1549.52 1625.1 1544.94 Q1622.04 1540.33 1622.04 1531.6 Q1622.04 1522.85 1625.1 1518.27 Q1628.18 1513.66 1633.99 1513.66 Z\" fill=\"#000000\" fill-rule=\"nonzero\" fill-opacity=\"1\" /><path clip-path=\"url(#clip150)\" d=\"M2250.99 1544.91 L2258.63 1544.91 L2258.63 1518.55 L2250.32 1520.21 L2250.32 1515.95 L2258.58 1514.29 L2263.26 1514.29 L2263.26 1544.91 L2270.9 1544.91 L2270.9 1548.85 L2250.99 1548.85 L2250.99 1544.91 Z\" fill=\"#000000\" fill-rule=\"nonzero\" fill-opacity=\"1\" /><path clip-path=\"url(#clip150)\" d=\"M2280.39 1514.29 L2298.74 1514.29 L2298.74 1518.22 L2284.67 1518.22 L2284.67 1526.7 Q2285.69 1526.35 2286.71 1526.19 Q2287.72 1526 2288.74 1526 Q2294.53 1526 2297.91 1529.17 Q2301.29 1532.34 2301.29 1537.76 Q2301.29 1543.34 2297.82 1546.44 Q2294.34 1549.52 2288.02 1549.52 Q2285.85 1549.52 2283.58 1549.15 Q2281.34 1548.78 2278.93 1548.04 L2278.93 1543.34 Q2281.01 1544.47 2283.23 1545.03 Q2285.46 1545.58 2287.93 1545.58 Q2291.94 1545.58 2294.27 1543.48 Q2296.61 1541.37 2296.61 1537.76 Q2296.61 1534.15 2294.27 1532.04 Q2291.94 1529.94 2287.93 1529.94 Q2286.06 1529.94 2284.18 1530.35 Q2282.33 1530.77 2280.39 1531.65 L2280.39 1514.29 Z\" fill=\"#000000\" fill-rule=\"nonzero\" fill-opacity=\"1\" /><path clip-path=\"url(#clip150)\" d=\"M2320.5 1517.37 Q2316.89 1517.37 2315.06 1520.93 Q2313.26 1524.47 2313.26 1531.6 Q2313.26 1538.71 2315.06 1542.27 Q2316.89 1545.82 2320.5 1545.82 Q2324.14 1545.82 2325.94 1542.27 Q2327.77 1538.71 2327.77 1531.6 Q2327.77 1524.47 2325.94 1520.93 Q2324.14 1517.37 2320.5 1517.37 M2320.5 1513.66 Q2326.31 1513.66 2329.37 1518.27 Q2332.45 1522.85 2332.45 1531.6 Q2332.45 1540.33 2329.37 1544.94 Q2326.31 1549.52 2320.5 1549.52 Q2314.69 1549.52 2311.61 1544.94 Q2308.56 1540.33 2308.56 1531.6 Q2308.56 1522.85 2311.61 1518.27 Q2314.69 1513.66 2320.5 1513.66 Z\" fill=\"#000000\" fill-rule=\"nonzero\" fill-opacity=\"1\" /><polyline clip-path=\"url(#clip150)\" style=\"stroke:#000000; stroke-linecap:round; stroke-linejoin:round; stroke-width:4; stroke-opacity:1; fill:none\" points=\"184.191,1486.45 184.191,47.2441 \"/>\n",
       "<polyline clip-path=\"url(#clip150)\" style=\"stroke:#000000; stroke-linecap:round; stroke-linejoin:round; stroke-width:4; stroke-opacity:1; fill:none\" points=\"184.191,1387.7 203.088,1387.7 \"/>\n",
       "<polyline clip-path=\"url(#clip150)\" style=\"stroke:#000000; stroke-linecap:round; stroke-linejoin:round; stroke-width:4; stroke-opacity:1; fill:none\" points=\"184.191,1083.48 203.088,1083.48 \"/>\n",
       "<polyline clip-path=\"url(#clip150)\" style=\"stroke:#000000; stroke-linecap:round; stroke-linejoin:round; stroke-width:4; stroke-opacity:1; fill:none\" points=\"184.191,779.254 203.088,779.254 \"/>\n",
       "<polyline clip-path=\"url(#clip150)\" style=\"stroke:#000000; stroke-linecap:round; stroke-linejoin:round; stroke-width:4; stroke-opacity:1; fill:none\" points=\"184.191,475.03 203.088,475.03 \"/>\n",
       "<polyline clip-path=\"url(#clip150)\" style=\"stroke:#000000; stroke-linecap:round; stroke-linejoin:round; stroke-width:4; stroke-opacity:1; fill:none\" points=\"184.191,170.806 203.088,170.806 \"/>\n",
       "<path clip-path=\"url(#clip150)\" d=\"M81.0614 1370.42 L99.4178 1370.42 L99.4178 1374.36 L85.3438 1374.36 L85.3438 1382.83 Q86.3623 1382.48 87.3808 1382.32 Q88.3993 1382.14 89.4178 1382.14 Q95.2049 1382.14 98.5845 1385.31 Q101.964 1388.48 101.964 1393.89 Q101.964 1399.47 98.4919 1402.58 Q95.0197 1405.65 88.7003 1405.65 Q86.5243 1405.65 84.2558 1405.28 Q82.0105 1404.91 79.6031 1404.17 L79.6031 1399.47 Q81.6864 1400.61 83.9086 1401.16 Q86.1308 1401.72 88.6077 1401.72 Q92.6123 1401.72 94.9502 1399.61 Q97.2882 1397.51 97.2882 1393.89 Q97.2882 1390.28 94.9502 1388.18 Q92.6123 1386.07 88.6077 1386.07 Q86.7327 1386.07 84.8577 1386.49 Q83.0058 1386.9 81.0614 1387.78 L81.0614 1370.42 Z\" fill=\"#000000\" fill-rule=\"nonzero\" fill-opacity=\"1\" /><path clip-path=\"url(#clip150)\" d=\"M111.177 1399.1 L116.061 1399.1 L116.061 1404.98 L111.177 1404.98 L111.177 1399.1 Z\" fill=\"#000000\" fill-rule=\"nonzero\" fill-opacity=\"1\" /><path clip-path=\"url(#clip150)\" d=\"M136.246 1373.5 Q132.635 1373.5 130.807 1377.07 Q129.001 1380.61 129.001 1387.74 Q129.001 1394.84 130.807 1398.41 Q132.635 1401.95 136.246 1401.95 Q139.881 1401.95 141.686 1398.41 Q143.515 1394.84 143.515 1387.74 Q143.515 1380.61 141.686 1377.07 Q139.881 1373.5 136.246 1373.5 M136.246 1369.8 Q142.056 1369.8 145.112 1374.4 Q148.191 1378.99 148.191 1387.74 Q148.191 1396.46 145.112 1401.07 Q142.056 1405.65 136.246 1405.65 Q130.436 1405.65 127.357 1401.07 Q124.302 1396.46 124.302 1387.74 Q124.302 1378.99 127.357 1374.4 Q130.436 1369.8 136.246 1369.8 Z\" fill=\"#000000\" fill-rule=\"nonzero\" fill-opacity=\"1\" /><path clip-path=\"url(#clip150)\" d=\"M80.8299 1066.2 L103.052 1066.2 L103.052 1068.19 L90.5058 1100.76 L85.6216 1100.76 L97.4271 1070.13 L80.8299 1070.13 L80.8299 1066.2 Z\" fill=\"#000000\" fill-rule=\"nonzero\" fill-opacity=\"1\" /><path clip-path=\"url(#clip150)\" d=\"M112.172 1094.88 L117.057 1094.88 L117.057 1100.76 L112.172 1100.76 L112.172 1094.88 Z\" fill=\"#000000\" fill-rule=\"nonzero\" fill-opacity=\"1\" /><path clip-path=\"url(#clip150)\" d=\"M127.288 1066.2 L145.644 1066.2 L145.644 1070.13 L131.57 1070.13 L131.57 1078.61 Q132.589 1078.26 133.607 1078.1 Q134.626 1077.91 135.644 1077.91 Q141.431 1077.91 144.811 1081.08 Q148.191 1084.25 148.191 1089.67 Q148.191 1095.25 144.718 1098.35 Q141.246 1101.43 134.927 1101.43 Q132.751 1101.43 130.482 1101.06 Q128.237 1100.69 125.83 1099.95 L125.83 1095.25 Q127.913 1096.38 130.135 1096.94 Q132.357 1097.49 134.834 1097.49 Q138.839 1097.49 141.177 1095.39 Q143.515 1093.28 143.515 1089.67 Q143.515 1086.06 141.177 1083.95 Q138.839 1081.85 134.834 1081.85 Q132.959 1081.85 131.084 1082.26 Q129.232 1082.68 127.288 1083.56 L127.288 1066.2 Z\" fill=\"#000000\" fill-rule=\"nonzero\" fill-opacity=\"1\" /><path clip-path=\"url(#clip150)\" d=\"M51.6634 792.599 L59.3023 792.599 L59.3023 766.234 L50.9921 767.9 L50.9921 763.641 L59.256 761.974 L63.9319 761.974 L63.9319 792.599 L71.5707 792.599 L71.5707 796.534 L51.6634 796.534 L51.6634 792.599 Z\" fill=\"#000000\" fill-rule=\"nonzero\" fill-opacity=\"1\" /><path clip-path=\"url(#clip150)\" d=\"M91.0151 765.053 Q87.404 765.053 85.5753 768.618 Q83.7697 772.16 83.7697 779.289 Q83.7697 786.396 85.5753 789.96 Q87.404 793.502 91.0151 793.502 Q94.6493 793.502 96.4548 789.96 Q98.2835 786.396 98.2835 779.289 Q98.2835 772.16 96.4548 768.618 Q94.6493 765.053 91.0151 765.053 M91.0151 761.349 Q96.8252 761.349 99.8808 765.956 Q102.959 770.539 102.959 779.289 Q102.959 788.016 99.8808 792.622 Q96.8252 797.206 91.0151 797.206 Q85.2049 797.206 82.1262 792.622 Q79.0707 788.016 79.0707 779.289 Q79.0707 770.539 82.1262 765.956 Q85.2049 761.349 91.0151 761.349 Z\" fill=\"#000000\" fill-rule=\"nonzero\" fill-opacity=\"1\" /><path clip-path=\"url(#clip150)\" d=\"M111.177 790.655 L116.061 790.655 L116.061 796.534 L111.177 796.534 L111.177 790.655 Z\" fill=\"#000000\" fill-rule=\"nonzero\" fill-opacity=\"1\" /><path clip-path=\"url(#clip150)\" d=\"M136.246 765.053 Q132.635 765.053 130.807 768.618 Q129.001 772.16 129.001 779.289 Q129.001 786.396 130.807 789.96 Q132.635 793.502 136.246 793.502 Q139.881 793.502 141.686 789.96 Q143.515 786.396 143.515 779.289 Q143.515 772.16 141.686 768.618 Q139.881 765.053 136.246 765.053 M136.246 761.349 Q142.056 761.349 145.112 765.956 Q148.191 770.539 148.191 779.289 Q148.191 788.016 145.112 792.622 Q142.056 797.206 136.246 797.206 Q130.436 797.206 127.357 792.622 Q124.302 788.016 124.302 779.289 Q124.302 770.539 127.357 765.956 Q130.436 761.349 136.246 761.349 Z\" fill=\"#000000\" fill-rule=\"nonzero\" fill-opacity=\"1\" /><path clip-path=\"url(#clip150)\" d=\"M52.6588 488.375 L60.2976 488.375 L60.2976 462.01 L51.9875 463.676 L51.9875 459.417 L60.2513 457.75 L64.9272 457.75 L64.9272 488.375 L72.5661 488.375 L72.5661 492.31 L52.6588 492.31 L52.6588 488.375 Z\" fill=\"#000000\" fill-rule=\"nonzero\" fill-opacity=\"1\" /><path clip-path=\"url(#clip150)\" d=\"M86.0382 488.375 L102.358 488.375 L102.358 492.31 L80.4133 492.31 L80.4133 488.375 Q83.0753 485.621 87.6586 480.991 Q92.2651 476.338 93.4456 474.996 Q95.691 472.473 96.5706 470.736 Q97.4734 468.977 97.4734 467.287 Q97.4734 464.533 95.5289 462.797 Q93.6076 461.061 90.5058 461.061 Q88.3067 461.061 85.8531 461.824 Q83.4225 462.588 80.6447 464.139 L80.6447 459.417 Q83.4688 458.283 85.9225 457.704 Q88.3762 457.125 90.4132 457.125 Q95.7836 457.125 98.978 459.811 Q102.172 462.496 102.172 466.986 Q102.172 469.116 101.362 471.037 Q100.575 472.935 98.4687 475.528 Q97.89 476.199 94.7882 479.417 Q91.6864 482.611 86.0382 488.375 Z\" fill=\"#000000\" fill-rule=\"nonzero\" fill-opacity=\"1\" /><path clip-path=\"url(#clip150)\" d=\"M112.172 486.431 L117.057 486.431 L117.057 492.31 L112.172 492.31 L112.172 486.431 Z\" fill=\"#000000\" fill-rule=\"nonzero\" fill-opacity=\"1\" /><path clip-path=\"url(#clip150)\" d=\"M127.288 457.75 L145.644 457.75 L145.644 461.686 L131.57 461.686 L131.57 470.158 Q132.589 469.811 133.607 469.648 Q134.626 469.463 135.644 469.463 Q141.431 469.463 144.811 472.635 Q148.191 475.806 148.191 481.222 Q148.191 486.801 144.718 489.903 Q141.246 492.982 134.927 492.982 Q132.751 492.982 130.482 492.611 Q128.237 492.241 125.83 491.5 L125.83 486.801 Q127.913 487.935 130.135 488.491 Q132.357 489.047 134.834 489.047 Q138.839 489.047 141.177 486.94 Q143.515 484.834 143.515 481.222 Q143.515 477.611 141.177 475.505 Q138.839 473.398 134.834 473.398 Q132.959 473.398 131.084 473.815 Q129.232 474.232 127.288 475.111 L127.288 457.75 Z\" fill=\"#000000\" fill-rule=\"nonzero\" fill-opacity=\"1\" /><path clip-path=\"url(#clip150)\" d=\"M51.6634 184.151 L59.3023 184.151 L59.3023 157.786 L50.9921 159.452 L50.9921 155.193 L59.256 153.526 L63.9319 153.526 L63.9319 184.151 L71.5707 184.151 L71.5707 188.086 L51.6634 188.086 L51.6634 184.151 Z\" fill=\"#000000\" fill-rule=\"nonzero\" fill-opacity=\"1\" /><path clip-path=\"url(#clip150)\" d=\"M81.0614 153.526 L99.4178 153.526 L99.4178 157.462 L85.3438 157.462 L85.3438 165.934 Q86.3623 165.586 87.3808 165.424 Q88.3993 165.239 89.4178 165.239 Q95.2049 165.239 98.5845 168.411 Q101.964 171.582 101.964 176.998 Q101.964 182.577 98.4919 185.679 Q95.0197 188.758 88.7003 188.758 Q86.5243 188.758 84.2558 188.387 Q82.0105 188.017 79.6031 187.276 L79.6031 182.577 Q81.6864 183.711 83.9086 184.267 Q86.1308 184.822 88.6077 184.822 Q92.6123 184.822 94.9502 182.716 Q97.2882 180.61 97.2882 176.998 Q97.2882 173.387 94.9502 171.281 Q92.6123 169.174 88.6077 169.174 Q86.7327 169.174 84.8577 169.591 Q83.0058 170.008 81.0614 170.887 L81.0614 153.526 Z\" fill=\"#000000\" fill-rule=\"nonzero\" fill-opacity=\"1\" /><path clip-path=\"url(#clip150)\" d=\"M111.177 182.207 L116.061 182.207 L116.061 188.086 L111.177 188.086 L111.177 182.207 Z\" fill=\"#000000\" fill-rule=\"nonzero\" fill-opacity=\"1\" /><path clip-path=\"url(#clip150)\" d=\"M136.246 156.605 Q132.635 156.605 130.807 160.17 Q129.001 163.711 129.001 170.841 Q129.001 177.948 130.807 181.512 Q132.635 185.054 136.246 185.054 Q139.881 185.054 141.686 181.512 Q143.515 177.948 143.515 170.841 Q143.515 163.711 141.686 160.17 Q139.881 156.605 136.246 156.605 M136.246 152.901 Q142.056 152.901 145.112 157.508 Q148.191 162.091 148.191 170.841 Q148.191 179.568 145.112 184.174 Q142.056 188.758 136.246 188.758 Q130.436 188.758 127.357 184.174 Q124.302 179.568 124.302 170.841 Q124.302 162.091 127.357 157.508 Q130.436 152.901 136.246 152.901 Z\" fill=\"#000000\" fill-rule=\"nonzero\" fill-opacity=\"1\" /><circle clip-path=\"url(#clip152)\" cx=\"245.565\" cy=\"1445.72\" r=\"14.4\" fill=\"#0000ff\" fill-rule=\"evenodd\" fill-opacity=\"1\" stroke=\"#000000\" stroke-opacity=\"1\" stroke-width=\"3.2\"/>\n",
       "<circle clip-path=\"url(#clip152)\" cx=\"259.295\" cy=\"1445.72\" r=\"14.4\" fill=\"#0000ff\" fill-rule=\"evenodd\" fill-opacity=\"1\" stroke=\"#000000\" stroke-opacity=\"1\" stroke-width=\"3.2\"/>\n",
       "<circle clip-path=\"url(#clip152)\" cx=\"273.026\" cy=\"1399.85\" r=\"14.4\" fill=\"#0000ff\" fill-rule=\"evenodd\" fill-opacity=\"1\" stroke=\"#000000\" stroke-opacity=\"1\" stroke-width=\"3.2\"/>\n",
       "<circle clip-path=\"url(#clip152)\" cx=\"286.756\" cy=\"1101.69\" r=\"14.4\" fill=\"#0000ff\" fill-rule=\"evenodd\" fill-opacity=\"1\" stroke=\"#000000\" stroke-opacity=\"1\" stroke-width=\"3.2\"/>\n",
       "<circle clip-path=\"url(#clip152)\" cx=\"300.486\" cy=\"1091.24\" r=\"14.4\" fill=\"#0000ff\" fill-rule=\"evenodd\" fill-opacity=\"1\" stroke=\"#000000\" stroke-opacity=\"1\" stroke-width=\"3.2\"/>\n",
       "<circle clip-path=\"url(#clip152)\" cx=\"314.217\" cy=\"1079.31\" r=\"14.4\" fill=\"#0000ff\" fill-rule=\"evenodd\" fill-opacity=\"1\" stroke=\"#000000\" stroke-opacity=\"1\" stroke-width=\"3.2\"/>\n",
       "<circle clip-path=\"url(#clip152)\" cx=\"327.947\" cy=\"1079.31\" r=\"14.4\" fill=\"#0000ff\" fill-rule=\"evenodd\" fill-opacity=\"1\" stroke=\"#000000\" stroke-opacity=\"1\" stroke-width=\"3.2\"/>\n",
       "<circle clip-path=\"url(#clip152)\" cx=\"341.677\" cy=\"1079.31\" r=\"14.4\" fill=\"#0000ff\" fill-rule=\"evenodd\" fill-opacity=\"1\" stroke=\"#000000\" stroke-opacity=\"1\" stroke-width=\"3.2\"/>\n",
       "<circle clip-path=\"url(#clip152)\" cx=\"355.408\" cy=\"1079.31\" r=\"14.4\" fill=\"#0000ff\" fill-rule=\"evenodd\" fill-opacity=\"1\" stroke=\"#000000\" stroke-opacity=\"1\" stroke-width=\"3.2\"/>\n",
       "<circle clip-path=\"url(#clip152)\" cx=\"369.138\" cy=\"1073.05\" r=\"14.4\" fill=\"#0000ff\" fill-rule=\"evenodd\" fill-opacity=\"1\" stroke=\"#000000\" stroke-opacity=\"1\" stroke-width=\"3.2\"/>\n",
       "<circle clip-path=\"url(#clip152)\" cx=\"382.868\" cy=\"1072.84\" r=\"14.4\" fill=\"#0000ff\" fill-rule=\"evenodd\" fill-opacity=\"1\" stroke=\"#000000\" stroke-opacity=\"1\" stroke-width=\"3.2\"/>\n",
       "<circle clip-path=\"url(#clip152)\" cx=\"396.599\" cy=\"1072.84\" r=\"14.4\" fill=\"#0000ff\" fill-rule=\"evenodd\" fill-opacity=\"1\" stroke=\"#000000\" stroke-opacity=\"1\" stroke-width=\"3.2\"/>\n",
       "<circle clip-path=\"url(#clip152)\" cx=\"410.329\" cy=\"1071.88\" r=\"14.4\" fill=\"#0000ff\" fill-rule=\"evenodd\" fill-opacity=\"1\" stroke=\"#000000\" stroke-opacity=\"1\" stroke-width=\"3.2\"/>\n",
       "<circle clip-path=\"url(#clip152)\" cx=\"424.059\" cy=\"1030.39\" r=\"14.4\" fill=\"#0000ff\" fill-rule=\"evenodd\" fill-opacity=\"1\" stroke=\"#000000\" stroke-opacity=\"1\" stroke-width=\"3.2\"/>\n",
       "<circle clip-path=\"url(#clip152)\" cx=\"437.79\" cy=\"1030.39\" r=\"14.4\" fill=\"#0000ff\" fill-rule=\"evenodd\" fill-opacity=\"1\" stroke=\"#000000\" stroke-opacity=\"1\" stroke-width=\"3.2\"/>\n",
       "<circle clip-path=\"url(#clip152)\" cx=\"451.52\" cy=\"1009.16\" r=\"14.4\" fill=\"#0000ff\" fill-rule=\"evenodd\" fill-opacity=\"1\" stroke=\"#000000\" stroke-opacity=\"1\" stroke-width=\"3.2\"/>\n",
       "<circle clip-path=\"url(#clip152)\" cx=\"465.25\" cy=\"1009.16\" r=\"14.4\" fill=\"#0000ff\" fill-rule=\"evenodd\" fill-opacity=\"1\" stroke=\"#000000\" stroke-opacity=\"1\" stroke-width=\"3.2\"/>\n",
       "<circle clip-path=\"url(#clip152)\" cx=\"478.98\" cy=\"1009.16\" r=\"14.4\" fill=\"#0000ff\" fill-rule=\"evenodd\" fill-opacity=\"1\" stroke=\"#000000\" stroke-opacity=\"1\" stroke-width=\"3.2\"/>\n",
       "<circle clip-path=\"url(#clip152)\" cx=\"492.711\" cy=\"1008.38\" r=\"14.4\" fill=\"#0000ff\" fill-rule=\"evenodd\" fill-opacity=\"1\" stroke=\"#000000\" stroke-opacity=\"1\" stroke-width=\"3.2\"/>\n",
       "<circle clip-path=\"url(#clip152)\" cx=\"506.441\" cy=\"1007.99\" r=\"14.4\" fill=\"#0000ff\" fill-rule=\"evenodd\" fill-opacity=\"1\" stroke=\"#000000\" stroke-opacity=\"1\" stroke-width=\"3.2\"/>\n",
       "<circle clip-path=\"url(#clip152)\" cx=\"520.171\" cy=\"1007.99\" r=\"14.4\" fill=\"#0000ff\" fill-rule=\"evenodd\" fill-opacity=\"1\" stroke=\"#000000\" stroke-opacity=\"1\" stroke-width=\"3.2\"/>\n",
       "<circle clip-path=\"url(#clip152)\" cx=\"533.902\" cy=\"1007.99\" r=\"14.4\" fill=\"#0000ff\" fill-rule=\"evenodd\" fill-opacity=\"1\" stroke=\"#000000\" stroke-opacity=\"1\" stroke-width=\"3.2\"/>\n",
       "<circle clip-path=\"url(#clip152)\" cx=\"547.632\" cy=\"999.764\" r=\"14.4\" fill=\"#0000ff\" fill-rule=\"evenodd\" fill-opacity=\"1\" stroke=\"#000000\" stroke-opacity=\"1\" stroke-width=\"3.2\"/>\n",
       "<circle clip-path=\"url(#clip152)\" cx=\"561.362\" cy=\"973.914\" r=\"14.4\" fill=\"#0000ff\" fill-rule=\"evenodd\" fill-opacity=\"1\" stroke=\"#000000\" stroke-opacity=\"1\" stroke-width=\"3.2\"/>\n",
       "<circle clip-path=\"url(#clip152)\" cx=\"575.093\" cy=\"973.914\" r=\"14.4\" fill=\"#0000ff\" fill-rule=\"evenodd\" fill-opacity=\"1\" stroke=\"#000000\" stroke-opacity=\"1\" stroke-width=\"3.2\"/>\n",
       "<circle clip-path=\"url(#clip152)\" cx=\"588.823\" cy=\"973.914\" r=\"14.4\" fill=\"#0000ff\" fill-rule=\"evenodd\" fill-opacity=\"1\" stroke=\"#000000\" stroke-opacity=\"1\" stroke-width=\"3.2\"/>\n",
       "<circle clip-path=\"url(#clip152)\" cx=\"602.553\" cy=\"948.674\" r=\"14.4\" fill=\"#0000ff\" fill-rule=\"evenodd\" fill-opacity=\"1\" stroke=\"#000000\" stroke-opacity=\"1\" stroke-width=\"3.2\"/>\n",
       "<circle clip-path=\"url(#clip152)\" cx=\"616.284\" cy=\"941.286\" r=\"14.4\" fill=\"#0000ff\" fill-rule=\"evenodd\" fill-opacity=\"1\" stroke=\"#000000\" stroke-opacity=\"1\" stroke-width=\"3.2\"/>\n",
       "<circle clip-path=\"url(#clip152)\" cx=\"630.014\" cy=\"941.286\" r=\"14.4\" fill=\"#0000ff\" fill-rule=\"evenodd\" fill-opacity=\"1\" stroke=\"#000000\" stroke-opacity=\"1\" stroke-width=\"3.2\"/>\n",
       "<circle clip-path=\"url(#clip152)\" cx=\"643.744\" cy=\"936.054\" r=\"14.4\" fill=\"#0000ff\" fill-rule=\"evenodd\" fill-opacity=\"1\" stroke=\"#000000\" stroke-opacity=\"1\" stroke-width=\"3.2\"/>\n",
       "<circle clip-path=\"url(#clip152)\" cx=\"657.474\" cy=\"936.054\" r=\"14.4\" fill=\"#0000ff\" fill-rule=\"evenodd\" fill-opacity=\"1\" stroke=\"#000000\" stroke-opacity=\"1\" stroke-width=\"3.2\"/>\n",
       "<circle clip-path=\"url(#clip152)\" cx=\"671.205\" cy=\"936.054\" r=\"14.4\" fill=\"#0000ff\" fill-rule=\"evenodd\" fill-opacity=\"1\" stroke=\"#000000\" stroke-opacity=\"1\" stroke-width=\"3.2\"/>\n",
       "<circle clip-path=\"url(#clip152)\" cx=\"684.935\" cy=\"936.054\" r=\"14.4\" fill=\"#0000ff\" fill-rule=\"evenodd\" fill-opacity=\"1\" stroke=\"#000000\" stroke-opacity=\"1\" stroke-width=\"3.2\"/>\n",
       "<circle clip-path=\"url(#clip152)\" cx=\"698.665\" cy=\"936.054\" r=\"14.4\" fill=\"#0000ff\" fill-rule=\"evenodd\" fill-opacity=\"1\" stroke=\"#000000\" stroke-opacity=\"1\" stroke-width=\"3.2\"/>\n",
       "<circle clip-path=\"url(#clip152)\" cx=\"712.396\" cy=\"936.054\" r=\"14.4\" fill=\"#0000ff\" fill-rule=\"evenodd\" fill-opacity=\"1\" stroke=\"#000000\" stroke-opacity=\"1\" stroke-width=\"3.2\"/>\n",
       "<circle clip-path=\"url(#clip152)\" cx=\"726.126\" cy=\"930.229\" r=\"14.4\" fill=\"#0000ff\" fill-rule=\"evenodd\" fill-opacity=\"1\" stroke=\"#000000\" stroke-opacity=\"1\" stroke-width=\"3.2\"/>\n",
       "<circle clip-path=\"url(#clip152)\" cx=\"739.856\" cy=\"930.229\" r=\"14.4\" fill=\"#0000ff\" fill-rule=\"evenodd\" fill-opacity=\"1\" stroke=\"#000000\" stroke-opacity=\"1\" stroke-width=\"3.2\"/>\n",
       "<circle clip-path=\"url(#clip152)\" cx=\"753.587\" cy=\"928.555\" r=\"14.4\" fill=\"#0000ff\" fill-rule=\"evenodd\" fill-opacity=\"1\" stroke=\"#000000\" stroke-opacity=\"1\" stroke-width=\"3.2\"/>\n",
       "<circle clip-path=\"url(#clip152)\" cx=\"767.317\" cy=\"928.555\" r=\"14.4\" fill=\"#0000ff\" fill-rule=\"evenodd\" fill-opacity=\"1\" stroke=\"#000000\" stroke-opacity=\"1\" stroke-width=\"3.2\"/>\n",
       "<circle clip-path=\"url(#clip152)\" cx=\"781.047\" cy=\"928.555\" r=\"14.4\" fill=\"#0000ff\" fill-rule=\"evenodd\" fill-opacity=\"1\" stroke=\"#000000\" stroke-opacity=\"1\" stroke-width=\"3.2\"/>\n",
       "<circle clip-path=\"url(#clip152)\" cx=\"794.778\" cy=\"926.664\" r=\"14.4\" fill=\"#0000ff\" fill-rule=\"evenodd\" fill-opacity=\"1\" stroke=\"#000000\" stroke-opacity=\"1\" stroke-width=\"3.2\"/>\n",
       "<circle clip-path=\"url(#clip152)\" cx=\"808.508\" cy=\"926.664\" r=\"14.4\" fill=\"#0000ff\" fill-rule=\"evenodd\" fill-opacity=\"1\" stroke=\"#000000\" stroke-opacity=\"1\" stroke-width=\"3.2\"/>\n",
       "<circle clip-path=\"url(#clip152)\" cx=\"822.238\" cy=\"926.664\" r=\"14.4\" fill=\"#0000ff\" fill-rule=\"evenodd\" fill-opacity=\"1\" stroke=\"#000000\" stroke-opacity=\"1\" stroke-width=\"3.2\"/>\n",
       "<circle clip-path=\"url(#clip152)\" cx=\"835.969\" cy=\"925.861\" r=\"14.4\" fill=\"#0000ff\" fill-rule=\"evenodd\" fill-opacity=\"1\" stroke=\"#000000\" stroke-opacity=\"1\" stroke-width=\"3.2\"/>\n",
       "<circle clip-path=\"url(#clip152)\" cx=\"849.699\" cy=\"925.861\" r=\"14.4\" fill=\"#0000ff\" fill-rule=\"evenodd\" fill-opacity=\"1\" stroke=\"#000000\" stroke-opacity=\"1\" stroke-width=\"3.2\"/>\n",
       "<circle clip-path=\"url(#clip152)\" cx=\"863.429\" cy=\"920.329\" r=\"14.4\" fill=\"#0000ff\" fill-rule=\"evenodd\" fill-opacity=\"1\" stroke=\"#000000\" stroke-opacity=\"1\" stroke-width=\"3.2\"/>\n",
       "<circle clip-path=\"url(#clip152)\" cx=\"877.159\" cy=\"920.329\" r=\"14.4\" fill=\"#0000ff\" fill-rule=\"evenodd\" fill-opacity=\"1\" stroke=\"#000000\" stroke-opacity=\"1\" stroke-width=\"3.2\"/>\n",
       "<circle clip-path=\"url(#clip152)\" cx=\"890.89\" cy=\"915.667\" r=\"14.4\" fill=\"#0000ff\" fill-rule=\"evenodd\" fill-opacity=\"1\" stroke=\"#000000\" stroke-opacity=\"1\" stroke-width=\"3.2\"/>\n",
       "<circle clip-path=\"url(#clip152)\" cx=\"904.62\" cy=\"915.667\" r=\"14.4\" fill=\"#0000ff\" fill-rule=\"evenodd\" fill-opacity=\"1\" stroke=\"#000000\" stroke-opacity=\"1\" stroke-width=\"3.2\"/>\n",
       "<circle clip-path=\"url(#clip152)\" cx=\"918.35\" cy=\"915.667\" r=\"14.4\" fill=\"#0000ff\" fill-rule=\"evenodd\" fill-opacity=\"1\" stroke=\"#000000\" stroke-opacity=\"1\" stroke-width=\"3.2\"/>\n",
       "<circle clip-path=\"url(#clip152)\" cx=\"932.081\" cy=\"915.667\" r=\"14.4\" fill=\"#0000ff\" fill-rule=\"evenodd\" fill-opacity=\"1\" stroke=\"#000000\" stroke-opacity=\"1\" stroke-width=\"3.2\"/>\n",
       "<circle clip-path=\"url(#clip152)\" cx=\"945.811\" cy=\"905.474\" r=\"14.4\" fill=\"#0000ff\" fill-rule=\"evenodd\" fill-opacity=\"1\" stroke=\"#000000\" stroke-opacity=\"1\" stroke-width=\"3.2\"/>\n",
       "<circle clip-path=\"url(#clip152)\" cx=\"959.541\" cy=\"895.281\" r=\"14.4\" fill=\"#0000ff\" fill-rule=\"evenodd\" fill-opacity=\"1\" stroke=\"#000000\" stroke-opacity=\"1\" stroke-width=\"3.2\"/>\n",
       "<circle clip-path=\"url(#clip152)\" cx=\"973.272\" cy=\"895.281\" r=\"14.4\" fill=\"#0000ff\" fill-rule=\"evenodd\" fill-opacity=\"1\" stroke=\"#000000\" stroke-opacity=\"1\" stroke-width=\"3.2\"/>\n",
       "<circle clip-path=\"url(#clip152)\" cx=\"987.002\" cy=\"895.281\" r=\"14.4\" fill=\"#0000ff\" fill-rule=\"evenodd\" fill-opacity=\"1\" stroke=\"#000000\" stroke-opacity=\"1\" stroke-width=\"3.2\"/>\n",
       "<circle clip-path=\"url(#clip152)\" cx=\"1000.73\" cy=\"889.182\" r=\"14.4\" fill=\"#0000ff\" fill-rule=\"evenodd\" fill-opacity=\"1\" stroke=\"#000000\" stroke-opacity=\"1\" stroke-width=\"3.2\"/>\n",
       "<circle clip-path=\"url(#clip152)\" cx=\"1014.46\" cy=\"864.341\" r=\"14.4\" fill=\"#0000ff\" fill-rule=\"evenodd\" fill-opacity=\"1\" stroke=\"#000000\" stroke-opacity=\"1\" stroke-width=\"3.2\"/>\n",
       "<circle clip-path=\"url(#clip152)\" cx=\"1028.19\" cy=\"864.341\" r=\"14.4\" fill=\"#0000ff\" fill-rule=\"evenodd\" fill-opacity=\"1\" stroke=\"#000000\" stroke-opacity=\"1\" stroke-width=\"3.2\"/>\n",
       "<circle clip-path=\"url(#clip152)\" cx=\"1041.92\" cy=\"864.341\" r=\"14.4\" fill=\"#0000ff\" fill-rule=\"evenodd\" fill-opacity=\"1\" stroke=\"#000000\" stroke-opacity=\"1\" stroke-width=\"3.2\"/>\n",
       "<circle clip-path=\"url(#clip152)\" cx=\"1055.65\" cy=\"864.341\" r=\"14.4\" fill=\"#0000ff\" fill-rule=\"evenodd\" fill-opacity=\"1\" stroke=\"#000000\" stroke-opacity=\"1\" stroke-width=\"3.2\"/>\n",
       "<circle clip-path=\"url(#clip152)\" cx=\"1069.38\" cy=\"851.246\" r=\"14.4\" fill=\"#0000ff\" fill-rule=\"evenodd\" fill-opacity=\"1\" stroke=\"#000000\" stroke-opacity=\"1\" stroke-width=\"3.2\"/>\n",
       "<circle clip-path=\"url(#clip152)\" cx=\"1083.11\" cy=\"836.249\" r=\"14.4\" fill=\"#0000ff\" fill-rule=\"evenodd\" fill-opacity=\"1\" stroke=\"#000000\" stroke-opacity=\"1\" stroke-width=\"3.2\"/>\n",
       "<circle clip-path=\"url(#clip152)\" cx=\"1096.84\" cy=\"826.435\" r=\"14.4\" fill=\"#0000ff\" fill-rule=\"evenodd\" fill-opacity=\"1\" stroke=\"#000000\" stroke-opacity=\"1\" stroke-width=\"3.2\"/>\n",
       "<circle clip-path=\"url(#clip152)\" cx=\"1110.57\" cy=\"822.665\" r=\"14.4\" fill=\"#0000ff\" fill-rule=\"evenodd\" fill-opacity=\"1\" stroke=\"#000000\" stroke-opacity=\"1\" stroke-width=\"3.2\"/>\n",
       "<circle clip-path=\"url(#clip152)\" cx=\"1124.31\" cy=\"803.542\" r=\"14.4\" fill=\"#0000ff\" fill-rule=\"evenodd\" fill-opacity=\"1\" stroke=\"#000000\" stroke-opacity=\"1\" stroke-width=\"3.2\"/>\n",
       "<circle clip-path=\"url(#clip152)\" cx=\"1138.04\" cy=\"777.615\" r=\"14.4\" fill=\"#0000ff\" fill-rule=\"evenodd\" fill-opacity=\"1\" stroke=\"#000000\" stroke-opacity=\"1\" stroke-width=\"3.2\"/>\n",
       "<circle clip-path=\"url(#clip152)\" cx=\"1151.77\" cy=\"777.615\" r=\"14.4\" fill=\"#0000ff\" fill-rule=\"evenodd\" fill-opacity=\"1\" stroke=\"#000000\" stroke-opacity=\"1\" stroke-width=\"3.2\"/>\n",
       "<circle clip-path=\"url(#clip152)\" cx=\"1165.5\" cy=\"763.504\" r=\"14.4\" fill=\"#0000ff\" fill-rule=\"evenodd\" fill-opacity=\"1\" stroke=\"#000000\" stroke-opacity=\"1\" stroke-width=\"3.2\"/>\n",
       "<circle clip-path=\"url(#clip152)\" cx=\"1179.23\" cy=\"763.504\" r=\"14.4\" fill=\"#0000ff\" fill-rule=\"evenodd\" fill-opacity=\"1\" stroke=\"#000000\" stroke-opacity=\"1\" stroke-width=\"3.2\"/>\n",
       "<circle clip-path=\"url(#clip152)\" cx=\"1192.96\" cy=\"763.504\" r=\"14.4\" fill=\"#0000ff\" fill-rule=\"evenodd\" fill-opacity=\"1\" stroke=\"#000000\" stroke-opacity=\"1\" stroke-width=\"3.2\"/>\n",
       "<circle clip-path=\"url(#clip152)\" cx=\"1206.69\" cy=\"763.504\" r=\"14.4\" fill=\"#0000ff\" fill-rule=\"evenodd\" fill-opacity=\"1\" stroke=\"#000000\" stroke-opacity=\"1\" stroke-width=\"3.2\"/>\n",
       "<circle clip-path=\"url(#clip152)\" cx=\"1220.42\" cy=\"763.504\" r=\"14.4\" fill=\"#0000ff\" fill-rule=\"evenodd\" fill-opacity=\"1\" stroke=\"#000000\" stroke-opacity=\"1\" stroke-width=\"3.2\"/>\n",
       "<circle clip-path=\"url(#clip152)\" cx=\"1234.15\" cy=\"763.504\" r=\"14.4\" fill=\"#0000ff\" fill-rule=\"evenodd\" fill-opacity=\"1\" stroke=\"#000000\" stroke-opacity=\"1\" stroke-width=\"3.2\"/>\n",
       "<circle clip-path=\"url(#clip152)\" cx=\"1247.88\" cy=\"763.504\" r=\"14.4\" fill=\"#0000ff\" fill-rule=\"evenodd\" fill-opacity=\"1\" stroke=\"#000000\" stroke-opacity=\"1\" stroke-width=\"3.2\"/>\n",
       "<circle clip-path=\"url(#clip152)\" cx=\"1261.61\" cy=\"755.837\" r=\"14.4\" fill=\"#0000ff\" fill-rule=\"evenodd\" fill-opacity=\"1\" stroke=\"#000000\" stroke-opacity=\"1\" stroke-width=\"3.2\"/>\n",
       "<circle clip-path=\"url(#clip152)\" cx=\"1275.34\" cy=\"751.689\" r=\"14.4\" fill=\"#0000ff\" fill-rule=\"evenodd\" fill-opacity=\"1\" stroke=\"#000000\" stroke-opacity=\"1\" stroke-width=\"3.2\"/>\n",
       "<circle clip-path=\"url(#clip152)\" cx=\"1289.07\" cy=\"751.689\" r=\"14.4\" fill=\"#0000ff\" fill-rule=\"evenodd\" fill-opacity=\"1\" stroke=\"#000000\" stroke-opacity=\"1\" stroke-width=\"3.2\"/>\n",
       "<circle clip-path=\"url(#clip152)\" cx=\"1302.8\" cy=\"751.689\" r=\"14.4\" fill=\"#0000ff\" fill-rule=\"evenodd\" fill-opacity=\"1\" stroke=\"#000000\" stroke-opacity=\"1\" stroke-width=\"3.2\"/>\n",
       "<circle clip-path=\"url(#clip152)\" cx=\"1316.53\" cy=\"749.332\" r=\"14.4\" fill=\"#0000ff\" fill-rule=\"evenodd\" fill-opacity=\"1\" stroke=\"#000000\" stroke-opacity=\"1\" stroke-width=\"3.2\"/>\n",
       "<circle clip-path=\"url(#clip152)\" cx=\"1330.26\" cy=\"749.332\" r=\"14.4\" fill=\"#0000ff\" fill-rule=\"evenodd\" fill-opacity=\"1\" stroke=\"#000000\" stroke-opacity=\"1\" stroke-width=\"3.2\"/>\n",
       "<circle clip-path=\"url(#clip152)\" cx=\"1343.99\" cy=\"749.332\" r=\"14.4\" fill=\"#0000ff\" fill-rule=\"evenodd\" fill-opacity=\"1\" stroke=\"#000000\" stroke-opacity=\"1\" stroke-width=\"3.2\"/>\n",
       "<circle clip-path=\"url(#clip152)\" cx=\"1357.72\" cy=\"742.207\" r=\"14.4\" fill=\"#0000ff\" fill-rule=\"evenodd\" fill-opacity=\"1\" stroke=\"#000000\" stroke-opacity=\"1\" stroke-width=\"3.2\"/>\n",
       "<circle clip-path=\"url(#clip152)\" cx=\"1371.45\" cy=\"731.15\" r=\"14.4\" fill=\"#0000ff\" fill-rule=\"evenodd\" fill-opacity=\"1\" stroke=\"#000000\" stroke-opacity=\"1\" stroke-width=\"3.2\"/>\n",
       "<circle clip-path=\"url(#clip152)\" cx=\"1385.18\" cy=\"731.15\" r=\"14.4\" fill=\"#0000ff\" fill-rule=\"evenodd\" fill-opacity=\"1\" stroke=\"#000000\" stroke-opacity=\"1\" stroke-width=\"3.2\"/>\n",
       "<circle clip-path=\"url(#clip152)\" cx=\"1398.91\" cy=\"731.15\" r=\"14.4\" fill=\"#0000ff\" fill-rule=\"evenodd\" fill-opacity=\"1\" stroke=\"#000000\" stroke-opacity=\"1\" stroke-width=\"3.2\"/>\n",
       "<circle clip-path=\"url(#clip152)\" cx=\"1412.64\" cy=\"718.625\" r=\"14.4\" fill=\"#0000ff\" fill-rule=\"evenodd\" fill-opacity=\"1\" stroke=\"#000000\" stroke-opacity=\"1\" stroke-width=\"3.2\"/>\n",
       "<circle clip-path=\"url(#clip152)\" cx=\"1426.37\" cy=\"715.692\" r=\"14.4\" fill=\"#0000ff\" fill-rule=\"evenodd\" fill-opacity=\"1\" stroke=\"#000000\" stroke-opacity=\"1\" stroke-width=\"3.2\"/>\n",
       "<circle clip-path=\"url(#clip152)\" cx=\"1440.1\" cy=\"715.692\" r=\"14.4\" fill=\"#0000ff\" fill-rule=\"evenodd\" fill-opacity=\"1\" stroke=\"#000000\" stroke-opacity=\"1\" stroke-width=\"3.2\"/>\n",
       "<circle clip-path=\"url(#clip152)\" cx=\"1453.83\" cy=\"715.692\" r=\"14.4\" fill=\"#0000ff\" fill-rule=\"evenodd\" fill-opacity=\"1\" stroke=\"#000000\" stroke-opacity=\"1\" stroke-width=\"3.2\"/>\n",
       "<circle clip-path=\"url(#clip152)\" cx=\"1467.56\" cy=\"715.692\" r=\"14.4\" fill=\"#0000ff\" fill-rule=\"evenodd\" fill-opacity=\"1\" stroke=\"#000000\" stroke-opacity=\"1\" stroke-width=\"3.2\"/>\n",
       "<circle clip-path=\"url(#clip152)\" cx=\"1481.29\" cy=\"715.692\" r=\"14.4\" fill=\"#0000ff\" fill-rule=\"evenodd\" fill-opacity=\"1\" stroke=\"#000000\" stroke-opacity=\"1\" stroke-width=\"3.2\"/>\n",
       "<circle clip-path=\"url(#clip152)\" cx=\"1495.02\" cy=\"695.123\" r=\"14.4\" fill=\"#0000ff\" fill-rule=\"evenodd\" fill-opacity=\"1\" stroke=\"#000000\" stroke-opacity=\"1\" stroke-width=\"3.2\"/>\n",
       "<circle clip-path=\"url(#clip152)\" cx=\"1508.75\" cy=\"667.633\" r=\"14.4\" fill=\"#0000ff\" fill-rule=\"evenodd\" fill-opacity=\"1\" stroke=\"#000000\" stroke-opacity=\"1\" stroke-width=\"3.2\"/>\n",
       "<circle clip-path=\"url(#clip152)\" cx=\"1522.48\" cy=\"664.146\" r=\"14.4\" fill=\"#0000ff\" fill-rule=\"evenodd\" fill-opacity=\"1\" stroke=\"#000000\" stroke-opacity=\"1\" stroke-width=\"3.2\"/>\n",
       "<circle clip-path=\"url(#clip152)\" cx=\"1536.21\" cy=\"664.146\" r=\"14.4\" fill=\"#0000ff\" fill-rule=\"evenodd\" fill-opacity=\"1\" stroke=\"#000000\" stroke-opacity=\"1\" stroke-width=\"3.2\"/>\n",
       "<circle clip-path=\"url(#clip152)\" cx=\"1549.94\" cy=\"664.146\" r=\"14.4\" fill=\"#0000ff\" fill-rule=\"evenodd\" fill-opacity=\"1\" stroke=\"#000000\" stroke-opacity=\"1\" stroke-width=\"3.2\"/>\n",
       "<circle clip-path=\"url(#clip152)\" cx=\"1563.67\" cy=\"658.812\" r=\"14.4\" fill=\"#0000ff\" fill-rule=\"evenodd\" fill-opacity=\"1\" stroke=\"#000000\" stroke-opacity=\"1\" stroke-width=\"3.2\"/>\n",
       "<circle clip-path=\"url(#clip152)\" cx=\"1577.41\" cy=\"652.96\" r=\"14.4\" fill=\"#0000ff\" fill-rule=\"evenodd\" fill-opacity=\"1\" stroke=\"#000000\" stroke-opacity=\"1\" stroke-width=\"3.2\"/>\n",
       "<circle clip-path=\"url(#clip152)\" cx=\"1591.14\" cy=\"652.96\" r=\"14.4\" fill=\"#0000ff\" fill-rule=\"evenodd\" fill-opacity=\"1\" stroke=\"#000000\" stroke-opacity=\"1\" stroke-width=\"3.2\"/>\n",
       "<circle clip-path=\"url(#clip152)\" cx=\"1604.87\" cy=\"640.234\" r=\"14.4\" fill=\"#0000ff\" fill-rule=\"evenodd\" fill-opacity=\"1\" stroke=\"#000000\" stroke-opacity=\"1\" stroke-width=\"3.2\"/>\n",
       "<circle clip-path=\"url(#clip152)\" cx=\"1618.6\" cy=\"640.234\" r=\"14.4\" fill=\"#0000ff\" fill-rule=\"evenodd\" fill-opacity=\"1\" stroke=\"#000000\" stroke-opacity=\"1\" stroke-width=\"3.2\"/>\n",
       "<circle clip-path=\"url(#clip152)\" cx=\"1632.33\" cy=\"633.169\" r=\"14.4\" fill=\"#0000ff\" fill-rule=\"evenodd\" fill-opacity=\"1\" stroke=\"#000000\" stroke-opacity=\"1\" stroke-width=\"3.2\"/>\n",
       "<circle clip-path=\"url(#clip152)\" cx=\"1646.06\" cy=\"633.169\" r=\"14.4\" fill=\"#0000ff\" fill-rule=\"evenodd\" fill-opacity=\"1\" stroke=\"#000000\" stroke-opacity=\"1\" stroke-width=\"3.2\"/>\n",
       "<circle clip-path=\"url(#clip152)\" cx=\"1659.79\" cy=\"633.169\" r=\"14.4\" fill=\"#0000ff\" fill-rule=\"evenodd\" fill-opacity=\"1\" stroke=\"#000000\" stroke-opacity=\"1\" stroke-width=\"3.2\"/>\n",
       "<circle clip-path=\"url(#clip152)\" cx=\"1673.52\" cy=\"633.169\" r=\"14.4\" fill=\"#0000ff\" fill-rule=\"evenodd\" fill-opacity=\"1\" stroke=\"#000000\" stroke-opacity=\"1\" stroke-width=\"3.2\"/>\n",
       "<circle clip-path=\"url(#clip152)\" cx=\"1687.25\" cy=\"631.93\" r=\"14.4\" fill=\"#0000ff\" fill-rule=\"evenodd\" fill-opacity=\"1\" stroke=\"#000000\" stroke-opacity=\"1\" stroke-width=\"3.2\"/>\n",
       "<circle clip-path=\"url(#clip152)\" cx=\"1700.98\" cy=\"608.387\" r=\"14.4\" fill=\"#0000ff\" fill-rule=\"evenodd\" fill-opacity=\"1\" stroke=\"#000000\" stroke-opacity=\"1\" stroke-width=\"3.2\"/>\n",
       "<circle clip-path=\"url(#clip152)\" cx=\"1714.71\" cy=\"592.41\" r=\"14.4\" fill=\"#0000ff\" fill-rule=\"evenodd\" fill-opacity=\"1\" stroke=\"#000000\" stroke-opacity=\"1\" stroke-width=\"3.2\"/>\n",
       "<circle clip-path=\"url(#clip152)\" cx=\"1728.44\" cy=\"587.736\" r=\"14.4\" fill=\"#0000ff\" fill-rule=\"evenodd\" fill-opacity=\"1\" stroke=\"#000000\" stroke-opacity=\"1\" stroke-width=\"3.2\"/>\n",
       "<circle clip-path=\"url(#clip152)\" cx=\"1742.17\" cy=\"565.02\" r=\"14.4\" fill=\"#0000ff\" fill-rule=\"evenodd\" fill-opacity=\"1\" stroke=\"#000000\" stroke-opacity=\"1\" stroke-width=\"3.2\"/>\n",
       "<circle clip-path=\"url(#clip152)\" cx=\"1755.9\" cy=\"565.02\" r=\"14.4\" fill=\"#0000ff\" fill-rule=\"evenodd\" fill-opacity=\"1\" stroke=\"#000000\" stroke-opacity=\"1\" stroke-width=\"3.2\"/>\n",
       "<circle clip-path=\"url(#clip152)\" cx=\"1769.63\" cy=\"562.629\" r=\"14.4\" fill=\"#0000ff\" fill-rule=\"evenodd\" fill-opacity=\"1\" stroke=\"#000000\" stroke-opacity=\"1\" stroke-width=\"3.2\"/>\n",
       "<circle clip-path=\"url(#clip152)\" cx=\"1783.36\" cy=\"539.912\" r=\"14.4\" fill=\"#0000ff\" fill-rule=\"evenodd\" fill-opacity=\"1\" stroke=\"#000000\" stroke-opacity=\"1\" stroke-width=\"3.2\"/>\n",
       "<circle clip-path=\"url(#clip152)\" cx=\"1797.09\" cy=\"539.912\" r=\"14.4\" fill=\"#0000ff\" fill-rule=\"evenodd\" fill-opacity=\"1\" stroke=\"#000000\" stroke-opacity=\"1\" stroke-width=\"3.2\"/>\n",
       "<circle clip-path=\"url(#clip152)\" cx=\"1810.82\" cy=\"539.912\" r=\"14.4\" fill=\"#0000ff\" fill-rule=\"evenodd\" fill-opacity=\"1\" stroke=\"#000000\" stroke-opacity=\"1\" stroke-width=\"3.2\"/>\n",
       "<circle clip-path=\"url(#clip152)\" cx=\"1824.55\" cy=\"521.145\" r=\"14.4\" fill=\"#0000ff\" fill-rule=\"evenodd\" fill-opacity=\"1\" stroke=\"#000000\" stroke-opacity=\"1\" stroke-width=\"3.2\"/>\n",
       "<circle clip-path=\"url(#clip152)\" cx=\"1838.28\" cy=\"489.697\" r=\"14.4\" fill=\"#0000ff\" fill-rule=\"evenodd\" fill-opacity=\"1\" stroke=\"#000000\" stroke-opacity=\"1\" stroke-width=\"3.2\"/>\n",
       "<circle clip-path=\"url(#clip152)\" cx=\"1852.01\" cy=\"489.697\" r=\"14.4\" fill=\"#0000ff\" fill-rule=\"evenodd\" fill-opacity=\"1\" stroke=\"#000000\" stroke-opacity=\"1\" stroke-width=\"3.2\"/>\n",
       "<circle clip-path=\"url(#clip152)\" cx=\"1865.74\" cy=\"456.22\" r=\"14.4\" fill=\"#0000ff\" fill-rule=\"evenodd\" fill-opacity=\"1\" stroke=\"#000000\" stroke-opacity=\"1\" stroke-width=\"3.2\"/>\n",
       "<circle clip-path=\"url(#clip152)\" cx=\"1879.47\" cy=\"456.22\" r=\"14.4\" fill=\"#0000ff\" fill-rule=\"evenodd\" fill-opacity=\"1\" stroke=\"#000000\" stroke-opacity=\"1\" stroke-width=\"3.2\"/>\n",
       "<circle clip-path=\"url(#clip152)\" cx=\"1893.2\" cy=\"433.903\" r=\"14.4\" fill=\"#0000ff\" fill-rule=\"evenodd\" fill-opacity=\"1\" stroke=\"#000000\" stroke-opacity=\"1\" stroke-width=\"3.2\"/>\n",
       "<circle clip-path=\"url(#clip152)\" cx=\"1906.93\" cy=\"422.128\" r=\"14.4\" fill=\"#0000ff\" fill-rule=\"evenodd\" fill-opacity=\"1\" stroke=\"#000000\" stroke-opacity=\"1\" stroke-width=\"3.2\"/>\n",
       "<circle clip-path=\"url(#clip152)\" cx=\"1920.66\" cy=\"422.128\" r=\"14.4\" fill=\"#0000ff\" fill-rule=\"evenodd\" fill-opacity=\"1\" stroke=\"#000000\" stroke-opacity=\"1\" stroke-width=\"3.2\"/>\n",
       "<circle clip-path=\"url(#clip152)\" cx=\"1934.39\" cy=\"422.128\" r=\"14.4\" fill=\"#0000ff\" fill-rule=\"evenodd\" fill-opacity=\"1\" stroke=\"#000000\" stroke-opacity=\"1\" stroke-width=\"3.2\"/>\n",
       "<circle clip-path=\"url(#clip152)\" cx=\"1948.12\" cy=\"422.128\" r=\"14.4\" fill=\"#0000ff\" fill-rule=\"evenodd\" fill-opacity=\"1\" stroke=\"#000000\" stroke-opacity=\"1\" stroke-width=\"3.2\"/>\n",
       "<circle clip-path=\"url(#clip152)\" cx=\"1961.85\" cy=\"406.005\" r=\"14.4\" fill=\"#0000ff\" fill-rule=\"evenodd\" fill-opacity=\"1\" stroke=\"#000000\" stroke-opacity=\"1\" stroke-width=\"3.2\"/>\n",
       "<circle clip-path=\"url(#clip152)\" cx=\"1975.58\" cy=\"406.005\" r=\"14.4\" fill=\"#0000ff\" fill-rule=\"evenodd\" fill-opacity=\"1\" stroke=\"#000000\" stroke-opacity=\"1\" stroke-width=\"3.2\"/>\n",
       "<circle clip-path=\"url(#clip152)\" cx=\"1989.31\" cy=\"406.005\" r=\"14.4\" fill=\"#0000ff\" fill-rule=\"evenodd\" fill-opacity=\"1\" stroke=\"#000000\" stroke-opacity=\"1\" stroke-width=\"3.2\"/>\n",
       "<circle clip-path=\"url(#clip152)\" cx=\"2003.04\" cy=\"406.005\" r=\"14.4\" fill=\"#0000ff\" fill-rule=\"evenodd\" fill-opacity=\"1\" stroke=\"#000000\" stroke-opacity=\"1\" stroke-width=\"3.2\"/>\n",
       "<circle clip-path=\"url(#clip152)\" cx=\"2016.78\" cy=\"406.005\" r=\"14.4\" fill=\"#0000ff\" fill-rule=\"evenodd\" fill-opacity=\"1\" stroke=\"#000000\" stroke-opacity=\"1\" stroke-width=\"3.2\"/>\n",
       "<circle clip-path=\"url(#clip152)\" cx=\"2030.51\" cy=\"406.005\" r=\"14.4\" fill=\"#0000ff\" fill-rule=\"evenodd\" fill-opacity=\"1\" stroke=\"#000000\" stroke-opacity=\"1\" stroke-width=\"3.2\"/>\n",
       "<circle clip-path=\"url(#clip152)\" cx=\"2044.24\" cy=\"406.005\" r=\"14.4\" fill=\"#0000ff\" fill-rule=\"evenodd\" fill-opacity=\"1\" stroke=\"#000000\" stroke-opacity=\"1\" stroke-width=\"3.2\"/>\n",
       "<circle clip-path=\"url(#clip152)\" cx=\"2057.97\" cy=\"406.005\" r=\"14.4\" fill=\"#0000ff\" fill-rule=\"evenodd\" fill-opacity=\"1\" stroke=\"#000000\" stroke-opacity=\"1\" stroke-width=\"3.2\"/>\n",
       "<circle clip-path=\"url(#clip152)\" cx=\"2071.7\" cy=\"406.005\" r=\"14.4\" fill=\"#0000ff\" fill-rule=\"evenodd\" fill-opacity=\"1\" stroke=\"#000000\" stroke-opacity=\"1\" stroke-width=\"3.2\"/>\n",
       "<circle clip-path=\"url(#clip152)\" cx=\"2085.43\" cy=\"406.005\" r=\"14.4\" fill=\"#0000ff\" fill-rule=\"evenodd\" fill-opacity=\"1\" stroke=\"#000000\" stroke-opacity=\"1\" stroke-width=\"3.2\"/>\n",
       "<circle clip-path=\"url(#clip152)\" cx=\"2099.16\" cy=\"401.082\" r=\"14.4\" fill=\"#0000ff\" fill-rule=\"evenodd\" fill-opacity=\"1\" stroke=\"#000000\" stroke-opacity=\"1\" stroke-width=\"3.2\"/>\n",
       "<circle clip-path=\"url(#clip152)\" cx=\"2112.89\" cy=\"312.467\" r=\"14.4\" fill=\"#0000ff\" fill-rule=\"evenodd\" fill-opacity=\"1\" stroke=\"#000000\" stroke-opacity=\"1\" stroke-width=\"3.2\"/>\n",
       "<circle clip-path=\"url(#clip152)\" cx=\"2126.62\" cy=\"312.467\" r=\"14.4\" fill=\"#0000ff\" fill-rule=\"evenodd\" fill-opacity=\"1\" stroke=\"#000000\" stroke-opacity=\"1\" stroke-width=\"3.2\"/>\n",
       "<circle clip-path=\"url(#clip152)\" cx=\"2140.35\" cy=\"312.467\" r=\"14.4\" fill=\"#0000ff\" fill-rule=\"evenodd\" fill-opacity=\"1\" stroke=\"#000000\" stroke-opacity=\"1\" stroke-width=\"3.2\"/>\n",
       "<circle clip-path=\"url(#clip152)\" cx=\"2154.08\" cy=\"312.467\" r=\"14.4\" fill=\"#0000ff\" fill-rule=\"evenodd\" fill-opacity=\"1\" stroke=\"#000000\" stroke-opacity=\"1\" stroke-width=\"3.2\"/>\n",
       "<circle clip-path=\"url(#clip152)\" cx=\"2167.81\" cy=\"242.314\" r=\"14.4\" fill=\"#0000ff\" fill-rule=\"evenodd\" fill-opacity=\"1\" stroke=\"#000000\" stroke-opacity=\"1\" stroke-width=\"3.2\"/>\n",
       "<circle clip-path=\"url(#clip152)\" cx=\"2181.54\" cy=\"207.237\" r=\"14.4\" fill=\"#0000ff\" fill-rule=\"evenodd\" fill-opacity=\"1\" stroke=\"#000000\" stroke-opacity=\"1\" stroke-width=\"3.2\"/>\n",
       "<circle clip-path=\"url(#clip152)\" cx=\"2195.27\" cy=\"207.237\" r=\"14.4\" fill=\"#0000ff\" fill-rule=\"evenodd\" fill-opacity=\"1\" stroke=\"#000000\" stroke-opacity=\"1\" stroke-width=\"3.2\"/>\n",
       "<circle clip-path=\"url(#clip152)\" cx=\"2209\" cy=\"207.237\" r=\"14.4\" fill=\"#0000ff\" fill-rule=\"evenodd\" fill-opacity=\"1\" stroke=\"#000000\" stroke-opacity=\"1\" stroke-width=\"3.2\"/>\n",
       "<circle clip-path=\"url(#clip152)\" cx=\"2222.73\" cy=\"200.222\" r=\"14.4\" fill=\"#0000ff\" fill-rule=\"evenodd\" fill-opacity=\"1\" stroke=\"#000000\" stroke-opacity=\"1\" stroke-width=\"3.2\"/>\n",
       "<circle clip-path=\"url(#clip152)\" cx=\"2236.46\" cy=\"128.816\" r=\"14.4\" fill=\"#0000ff\" fill-rule=\"evenodd\" fill-opacity=\"1\" stroke=\"#000000\" stroke-opacity=\"1\" stroke-width=\"3.2\"/>\n",
       "<circle clip-path=\"url(#clip152)\" cx=\"2250.19\" cy=\"128.816\" r=\"14.4\" fill=\"#0000ff\" fill-rule=\"evenodd\" fill-opacity=\"1\" stroke=\"#000000\" stroke-opacity=\"1\" stroke-width=\"3.2\"/>\n",
       "<circle clip-path=\"url(#clip152)\" cx=\"2263.92\" cy=\"87.9763\" r=\"14.4\" fill=\"#0000ff\" fill-rule=\"evenodd\" fill-opacity=\"1\" stroke=\"#000000\" stroke-opacity=\"1\" stroke-width=\"3.2\"/>\n",
       "<circle clip-path=\"url(#clip152)\" cx=\"2277.65\" cy=\"87.9763\" r=\"14.4\" fill=\"#0000ff\" fill-rule=\"evenodd\" fill-opacity=\"1\" stroke=\"#000000\" stroke-opacity=\"1\" stroke-width=\"3.2\"/>\n",
       "<circle clip-path=\"url(#clip152)\" cx=\"2291.38\" cy=\"87.9763\" r=\"14.4\" fill=\"#0000ff\" fill-rule=\"evenodd\" fill-opacity=\"1\" stroke=\"#000000\" stroke-opacity=\"1\" stroke-width=\"3.2\"/>\n",
       "<circle clip-path=\"url(#clip152)\" cx=\"245.565\" cy=\"1445.72\" r=\"14.4\" fill=\"#008000\" fill-rule=\"evenodd\" fill-opacity=\"1\" stroke=\"#000000\" stroke-opacity=\"1\" stroke-width=\"3.2\"/>\n",
       "<circle clip-path=\"url(#clip152)\" cx=\"259.295\" cy=\"1445.72\" r=\"14.4\" fill=\"#008000\" fill-rule=\"evenodd\" fill-opacity=\"1\" stroke=\"#000000\" stroke-opacity=\"1\" stroke-width=\"3.2\"/>\n",
       "<circle clip-path=\"url(#clip152)\" cx=\"273.026\" cy=\"1399.85\" r=\"14.4\" fill=\"#008000\" fill-rule=\"evenodd\" fill-opacity=\"1\" stroke=\"#000000\" stroke-opacity=\"1\" stroke-width=\"3.2\"/>\n",
       "<circle clip-path=\"url(#clip152)\" cx=\"286.756\" cy=\"1101.69\" r=\"14.4\" fill=\"#008000\" fill-rule=\"evenodd\" fill-opacity=\"1\" stroke=\"#000000\" stroke-opacity=\"1\" stroke-width=\"3.2\"/>\n",
       "<circle clip-path=\"url(#clip152)\" cx=\"300.486\" cy=\"1152.1\" r=\"14.4\" fill=\"#008000\" fill-rule=\"evenodd\" fill-opacity=\"1\" stroke=\"#000000\" stroke-opacity=\"1\" stroke-width=\"3.2\"/>\n",
       "<circle clip-path=\"url(#clip152)\" cx=\"314.217\" cy=\"1079.31\" r=\"14.4\" fill=\"#008000\" fill-rule=\"evenodd\" fill-opacity=\"1\" stroke=\"#000000\" stroke-opacity=\"1\" stroke-width=\"3.2\"/>\n",
       "<circle clip-path=\"url(#clip152)\" cx=\"327.947\" cy=\"1079.31\" r=\"14.4\" fill=\"#008000\" fill-rule=\"evenodd\" fill-opacity=\"1\" stroke=\"#000000\" stroke-opacity=\"1\" stroke-width=\"3.2\"/>\n",
       "<circle clip-path=\"url(#clip152)\" cx=\"341.677\" cy=\"1079.31\" r=\"14.4\" fill=\"#008000\" fill-rule=\"evenodd\" fill-opacity=\"1\" stroke=\"#000000\" stroke-opacity=\"1\" stroke-width=\"3.2\"/>\n",
       "<circle clip-path=\"url(#clip152)\" cx=\"355.408\" cy=\"1079.31\" r=\"14.4\" fill=\"#008000\" fill-rule=\"evenodd\" fill-opacity=\"1\" stroke=\"#000000\" stroke-opacity=\"1\" stroke-width=\"3.2\"/>\n",
       "<circle clip-path=\"url(#clip152)\" cx=\"369.138\" cy=\"1073.05\" r=\"14.4\" fill=\"#008000\" fill-rule=\"evenodd\" fill-opacity=\"1\" stroke=\"#000000\" stroke-opacity=\"1\" stroke-width=\"3.2\"/>\n",
       "<circle clip-path=\"url(#clip152)\" cx=\"382.868\" cy=\"1072.84\" r=\"14.4\" fill=\"#008000\" fill-rule=\"evenodd\" fill-opacity=\"1\" stroke=\"#000000\" stroke-opacity=\"1\" stroke-width=\"3.2\"/>\n",
       "<circle clip-path=\"url(#clip152)\" cx=\"396.599\" cy=\"1072.84\" r=\"14.4\" fill=\"#008000\" fill-rule=\"evenodd\" fill-opacity=\"1\" stroke=\"#000000\" stroke-opacity=\"1\" stroke-width=\"3.2\"/>\n",
       "<circle clip-path=\"url(#clip152)\" cx=\"410.329\" cy=\"1071.88\" r=\"14.4\" fill=\"#008000\" fill-rule=\"evenodd\" fill-opacity=\"1\" stroke=\"#000000\" stroke-opacity=\"1\" stroke-width=\"3.2\"/>\n",
       "<circle clip-path=\"url(#clip152)\" cx=\"424.059\" cy=\"1030.39\" r=\"14.4\" fill=\"#008000\" fill-rule=\"evenodd\" fill-opacity=\"1\" stroke=\"#000000\" stroke-opacity=\"1\" stroke-width=\"3.2\"/>\n",
       "<circle clip-path=\"url(#clip152)\" cx=\"437.79\" cy=\"1030.39\" r=\"14.4\" fill=\"#008000\" fill-rule=\"evenodd\" fill-opacity=\"1\" stroke=\"#000000\" stroke-opacity=\"1\" stroke-width=\"3.2\"/>\n",
       "<circle clip-path=\"url(#clip152)\" cx=\"451.52\" cy=\"1009.16\" r=\"14.4\" fill=\"#008000\" fill-rule=\"evenodd\" fill-opacity=\"1\" stroke=\"#000000\" stroke-opacity=\"1\" stroke-width=\"3.2\"/>\n",
       "<circle clip-path=\"url(#clip152)\" cx=\"465.25\" cy=\"1009.16\" r=\"14.4\" fill=\"#008000\" fill-rule=\"evenodd\" fill-opacity=\"1\" stroke=\"#000000\" stroke-opacity=\"1\" stroke-width=\"3.2\"/>\n",
       "<circle clip-path=\"url(#clip152)\" cx=\"478.98\" cy=\"1041.89\" r=\"14.4\" fill=\"#008000\" fill-rule=\"evenodd\" fill-opacity=\"1\" stroke=\"#000000\" stroke-opacity=\"1\" stroke-width=\"3.2\"/>\n",
       "<circle clip-path=\"url(#clip152)\" cx=\"492.711\" cy=\"1008.38\" r=\"14.4\" fill=\"#008000\" fill-rule=\"evenodd\" fill-opacity=\"1\" stroke=\"#000000\" stroke-opacity=\"1\" stroke-width=\"3.2\"/>\n",
       "<circle clip-path=\"url(#clip152)\" cx=\"506.441\" cy=\"1007.99\" r=\"14.4\" fill=\"#008000\" fill-rule=\"evenodd\" fill-opacity=\"1\" stroke=\"#000000\" stroke-opacity=\"1\" stroke-width=\"3.2\"/>\n",
       "<circle clip-path=\"url(#clip152)\" cx=\"520.171\" cy=\"1007.99\" r=\"14.4\" fill=\"#008000\" fill-rule=\"evenodd\" fill-opacity=\"1\" stroke=\"#000000\" stroke-opacity=\"1\" stroke-width=\"3.2\"/>\n",
       "<circle clip-path=\"url(#clip152)\" cx=\"533.902\" cy=\"1007.99\" r=\"14.4\" fill=\"#008000\" fill-rule=\"evenodd\" fill-opacity=\"1\" stroke=\"#000000\" stroke-opacity=\"1\" stroke-width=\"3.2\"/>\n",
       "<circle clip-path=\"url(#clip152)\" cx=\"547.632\" cy=\"999.764\" r=\"14.4\" fill=\"#008000\" fill-rule=\"evenodd\" fill-opacity=\"1\" stroke=\"#000000\" stroke-opacity=\"1\" stroke-width=\"3.2\"/>\n",
       "<circle clip-path=\"url(#clip152)\" cx=\"561.362\" cy=\"973.914\" r=\"14.4\" fill=\"#008000\" fill-rule=\"evenodd\" fill-opacity=\"1\" stroke=\"#000000\" stroke-opacity=\"1\" stroke-width=\"3.2\"/>\n",
       "<circle clip-path=\"url(#clip152)\" cx=\"575.093\" cy=\"995.918\" r=\"14.4\" fill=\"#008000\" fill-rule=\"evenodd\" fill-opacity=\"1\" stroke=\"#000000\" stroke-opacity=\"1\" stroke-width=\"3.2\"/>\n",
       "<circle clip-path=\"url(#clip152)\" cx=\"588.823\" cy=\"973.914\" r=\"14.4\" fill=\"#008000\" fill-rule=\"evenodd\" fill-opacity=\"1\" stroke=\"#000000\" stroke-opacity=\"1\" stroke-width=\"3.2\"/>\n",
       "<circle clip-path=\"url(#clip152)\" cx=\"602.553\" cy=\"948.674\" r=\"14.4\" fill=\"#008000\" fill-rule=\"evenodd\" fill-opacity=\"1\" stroke=\"#000000\" stroke-opacity=\"1\" stroke-width=\"3.2\"/>\n",
       "<circle clip-path=\"url(#clip152)\" cx=\"616.284\" cy=\"941.286\" r=\"14.4\" fill=\"#008000\" fill-rule=\"evenodd\" fill-opacity=\"1\" stroke=\"#000000\" stroke-opacity=\"1\" stroke-width=\"3.2\"/>\n",
       "<circle clip-path=\"url(#clip152)\" cx=\"630.014\" cy=\"941.286\" r=\"14.4\" fill=\"#008000\" fill-rule=\"evenodd\" fill-opacity=\"1\" stroke=\"#000000\" stroke-opacity=\"1\" stroke-width=\"3.2\"/>\n",
       "<circle clip-path=\"url(#clip152)\" cx=\"643.744\" cy=\"936.054\" r=\"14.4\" fill=\"#008000\" fill-rule=\"evenodd\" fill-opacity=\"1\" stroke=\"#000000\" stroke-opacity=\"1\" stroke-width=\"3.2\"/>\n",
       "<circle clip-path=\"url(#clip152)\" cx=\"657.474\" cy=\"936.054\" r=\"14.4\" fill=\"#008000\" fill-rule=\"evenodd\" fill-opacity=\"1\" stroke=\"#000000\" stroke-opacity=\"1\" stroke-width=\"3.2\"/>\n",
       "<circle clip-path=\"url(#clip152)\" cx=\"671.205\" cy=\"936.054\" r=\"14.4\" fill=\"#008000\" fill-rule=\"evenodd\" fill-opacity=\"1\" stroke=\"#000000\" stroke-opacity=\"1\" stroke-width=\"3.2\"/>\n",
       "<circle clip-path=\"url(#clip152)\" cx=\"684.935\" cy=\"936.054\" r=\"14.4\" fill=\"#008000\" fill-rule=\"evenodd\" fill-opacity=\"1\" stroke=\"#000000\" stroke-opacity=\"1\" stroke-width=\"3.2\"/>\n",
       "<circle clip-path=\"url(#clip152)\" cx=\"698.665\" cy=\"936.054\" r=\"14.4\" fill=\"#008000\" fill-rule=\"evenodd\" fill-opacity=\"1\" stroke=\"#000000\" stroke-opacity=\"1\" stroke-width=\"3.2\"/>\n",
       "<circle clip-path=\"url(#clip152)\" cx=\"712.396\" cy=\"936.054\" r=\"14.4\" fill=\"#008000\" fill-rule=\"evenodd\" fill-opacity=\"1\" stroke=\"#000000\" stroke-opacity=\"1\" stroke-width=\"3.2\"/>\n",
       "<circle clip-path=\"url(#clip152)\" cx=\"726.126\" cy=\"930.229\" r=\"14.4\" fill=\"#008000\" fill-rule=\"evenodd\" fill-opacity=\"1\" stroke=\"#000000\" stroke-opacity=\"1\" stroke-width=\"3.2\"/>\n",
       "<circle clip-path=\"url(#clip152)\" cx=\"739.856\" cy=\"930.229\" r=\"14.4\" fill=\"#008000\" fill-rule=\"evenodd\" fill-opacity=\"1\" stroke=\"#000000\" stroke-opacity=\"1\" stroke-width=\"3.2\"/>\n",
       "<circle clip-path=\"url(#clip152)\" cx=\"753.587\" cy=\"975.558\" r=\"14.4\" fill=\"#008000\" fill-rule=\"evenodd\" fill-opacity=\"1\" stroke=\"#000000\" stroke-opacity=\"1\" stroke-width=\"3.2\"/>\n",
       "<circle clip-path=\"url(#clip152)\" cx=\"767.317\" cy=\"975.558\" r=\"14.4\" fill=\"#008000\" fill-rule=\"evenodd\" fill-opacity=\"1\" stroke=\"#000000\" stroke-opacity=\"1\" stroke-width=\"3.2\"/>\n",
       "<circle clip-path=\"url(#clip152)\" cx=\"781.047\" cy=\"975.558\" r=\"14.4\" fill=\"#008000\" fill-rule=\"evenodd\" fill-opacity=\"1\" stroke=\"#000000\" stroke-opacity=\"1\" stroke-width=\"3.2\"/>\n",
       "<circle clip-path=\"url(#clip152)\" cx=\"794.778\" cy=\"926.664\" r=\"14.4\" fill=\"#008000\" fill-rule=\"evenodd\" fill-opacity=\"1\" stroke=\"#000000\" stroke-opacity=\"1\" stroke-width=\"3.2\"/>\n",
       "<circle clip-path=\"url(#clip152)\" cx=\"808.508\" cy=\"926.664\" r=\"14.4\" fill=\"#008000\" fill-rule=\"evenodd\" fill-opacity=\"1\" stroke=\"#000000\" stroke-opacity=\"1\" stroke-width=\"3.2\"/>\n",
       "<circle clip-path=\"url(#clip152)\" cx=\"822.238\" cy=\"926.664\" r=\"14.4\" fill=\"#008000\" fill-rule=\"evenodd\" fill-opacity=\"1\" stroke=\"#000000\" stroke-opacity=\"1\" stroke-width=\"3.2\"/>\n",
       "<circle clip-path=\"url(#clip152)\" cx=\"835.969\" cy=\"925.861\" r=\"14.4\" fill=\"#008000\" fill-rule=\"evenodd\" fill-opacity=\"1\" stroke=\"#000000\" stroke-opacity=\"1\" stroke-width=\"3.2\"/>\n",
       "<circle clip-path=\"url(#clip152)\" cx=\"849.699\" cy=\"925.861\" r=\"14.4\" fill=\"#008000\" fill-rule=\"evenodd\" fill-opacity=\"1\" stroke=\"#000000\" stroke-opacity=\"1\" stroke-width=\"3.2\"/>\n",
       "<circle clip-path=\"url(#clip152)\" cx=\"863.429\" cy=\"919.252\" r=\"14.4\" fill=\"#008000\" fill-rule=\"evenodd\" fill-opacity=\"1\" stroke=\"#000000\" stroke-opacity=\"1\" stroke-width=\"3.2\"/>\n",
       "<circle clip-path=\"url(#clip152)\" cx=\"877.159\" cy=\"919.252\" r=\"14.4\" fill=\"#008000\" fill-rule=\"evenodd\" fill-opacity=\"1\" stroke=\"#000000\" stroke-opacity=\"1\" stroke-width=\"3.2\"/>\n",
       "<circle clip-path=\"url(#clip152)\" cx=\"890.89\" cy=\"915.667\" r=\"14.4\" fill=\"#008000\" fill-rule=\"evenodd\" fill-opacity=\"1\" stroke=\"#000000\" stroke-opacity=\"1\" stroke-width=\"3.2\"/>\n",
       "<circle clip-path=\"url(#clip152)\" cx=\"904.62\" cy=\"947.686\" r=\"14.4\" fill=\"#008000\" fill-rule=\"evenodd\" fill-opacity=\"1\" stroke=\"#000000\" stroke-opacity=\"1\" stroke-width=\"3.2\"/>\n",
       "<circle clip-path=\"url(#clip152)\" cx=\"918.35\" cy=\"947.686\" r=\"14.4\" fill=\"#008000\" fill-rule=\"evenodd\" fill-opacity=\"1\" stroke=\"#000000\" stroke-opacity=\"1\" stroke-width=\"3.2\"/>\n",
       "<circle clip-path=\"url(#clip152)\" cx=\"932.081\" cy=\"915.667\" r=\"14.4\" fill=\"#008000\" fill-rule=\"evenodd\" fill-opacity=\"1\" stroke=\"#000000\" stroke-opacity=\"1\" stroke-width=\"3.2\"/>\n",
       "<circle clip-path=\"url(#clip152)\" cx=\"945.811\" cy=\"905.474\" r=\"14.4\" fill=\"#008000\" fill-rule=\"evenodd\" fill-opacity=\"1\" stroke=\"#000000\" stroke-opacity=\"1\" stroke-width=\"3.2\"/>\n",
       "<circle clip-path=\"url(#clip152)\" cx=\"959.541\" cy=\"895.281\" r=\"14.4\" fill=\"#008000\" fill-rule=\"evenodd\" fill-opacity=\"1\" stroke=\"#000000\" stroke-opacity=\"1\" stroke-width=\"3.2\"/>\n",
       "<circle clip-path=\"url(#clip152)\" cx=\"973.272\" cy=\"895.281\" r=\"14.4\" fill=\"#008000\" fill-rule=\"evenodd\" fill-opacity=\"1\" stroke=\"#000000\" stroke-opacity=\"1\" stroke-width=\"3.2\"/>\n",
       "<circle clip-path=\"url(#clip152)\" cx=\"987.002\" cy=\"895.281\" r=\"14.4\" fill=\"#008000\" fill-rule=\"evenodd\" fill-opacity=\"1\" stroke=\"#000000\" stroke-opacity=\"1\" stroke-width=\"3.2\"/>\n",
       "<circle clip-path=\"url(#clip152)\" cx=\"1000.73\" cy=\"799.31\" r=\"14.4\" fill=\"#008000\" fill-rule=\"evenodd\" fill-opacity=\"1\" stroke=\"#000000\" stroke-opacity=\"1\" stroke-width=\"3.2\"/>\n",
       "<circle clip-path=\"url(#clip152)\" cx=\"1014.46\" cy=\"864.341\" r=\"14.4\" fill=\"#008000\" fill-rule=\"evenodd\" fill-opacity=\"1\" stroke=\"#000000\" stroke-opacity=\"1\" stroke-width=\"3.2\"/>\n",
       "<circle clip-path=\"url(#clip152)\" cx=\"1028.19\" cy=\"864.341\" r=\"14.4\" fill=\"#008000\" fill-rule=\"evenodd\" fill-opacity=\"1\" stroke=\"#000000\" stroke-opacity=\"1\" stroke-width=\"3.2\"/>\n",
       "<circle clip-path=\"url(#clip152)\" cx=\"1041.92\" cy=\"864.341\" r=\"14.4\" fill=\"#008000\" fill-rule=\"evenodd\" fill-opacity=\"1\" stroke=\"#000000\" stroke-opacity=\"1\" stroke-width=\"3.2\"/>\n",
       "<circle clip-path=\"url(#clip152)\" cx=\"1055.65\" cy=\"864.341\" r=\"14.4\" fill=\"#008000\" fill-rule=\"evenodd\" fill-opacity=\"1\" stroke=\"#000000\" stroke-opacity=\"1\" stroke-width=\"3.2\"/>\n",
       "<circle clip-path=\"url(#clip152)\" cx=\"1069.38\" cy=\"851.246\" r=\"14.4\" fill=\"#008000\" fill-rule=\"evenodd\" fill-opacity=\"1\" stroke=\"#000000\" stroke-opacity=\"1\" stroke-width=\"3.2\"/>\n",
       "<circle clip-path=\"url(#clip152)\" cx=\"1083.11\" cy=\"836.249\" r=\"14.4\" fill=\"#008000\" fill-rule=\"evenodd\" fill-opacity=\"1\" stroke=\"#000000\" stroke-opacity=\"1\" stroke-width=\"3.2\"/>\n",
       "<circle clip-path=\"url(#clip152)\" cx=\"1096.84\" cy=\"826.435\" r=\"14.4\" fill=\"#008000\" fill-rule=\"evenodd\" fill-opacity=\"1\" stroke=\"#000000\" stroke-opacity=\"1\" stroke-width=\"3.2\"/>\n",
       "<circle clip-path=\"url(#clip152)\" cx=\"1110.57\" cy=\"822.665\" r=\"14.4\" fill=\"#008000\" fill-rule=\"evenodd\" fill-opacity=\"1\" stroke=\"#000000\" stroke-opacity=\"1\" stroke-width=\"3.2\"/>\n",
       "<circle clip-path=\"url(#clip152)\" cx=\"1124.31\" cy=\"803.542\" r=\"14.4\" fill=\"#008000\" fill-rule=\"evenodd\" fill-opacity=\"1\" stroke=\"#000000\" stroke-opacity=\"1\" stroke-width=\"3.2\"/>\n",
       "<circle clip-path=\"url(#clip152)\" cx=\"1138.04\" cy=\"777.615\" r=\"14.4\" fill=\"#008000\" fill-rule=\"evenodd\" fill-opacity=\"1\" stroke=\"#000000\" stroke-opacity=\"1\" stroke-width=\"3.2\"/>\n",
       "<circle clip-path=\"url(#clip152)\" cx=\"1151.77\" cy=\"777.615\" r=\"14.4\" fill=\"#008000\" fill-rule=\"evenodd\" fill-opacity=\"1\" stroke=\"#000000\" stroke-opacity=\"1\" stroke-width=\"3.2\"/>\n",
       "<circle clip-path=\"url(#clip152)\" cx=\"1165.5\" cy=\"763.504\" r=\"14.4\" fill=\"#008000\" fill-rule=\"evenodd\" fill-opacity=\"1\" stroke=\"#000000\" stroke-opacity=\"1\" stroke-width=\"3.2\"/>\n",
       "<circle clip-path=\"url(#clip152)\" cx=\"1179.23\" cy=\"763.504\" r=\"14.4\" fill=\"#008000\" fill-rule=\"evenodd\" fill-opacity=\"1\" stroke=\"#000000\" stroke-opacity=\"1\" stroke-width=\"3.2\"/>\n",
       "<circle clip-path=\"url(#clip152)\" cx=\"1192.96\" cy=\"763.504\" r=\"14.4\" fill=\"#008000\" fill-rule=\"evenodd\" fill-opacity=\"1\" stroke=\"#000000\" stroke-opacity=\"1\" stroke-width=\"3.2\"/>\n",
       "<circle clip-path=\"url(#clip152)\" cx=\"1206.69\" cy=\"763.504\" r=\"14.4\" fill=\"#008000\" fill-rule=\"evenodd\" fill-opacity=\"1\" stroke=\"#000000\" stroke-opacity=\"1\" stroke-width=\"3.2\"/>\n",
       "<circle clip-path=\"url(#clip152)\" cx=\"1220.42\" cy=\"763.504\" r=\"14.4\" fill=\"#008000\" fill-rule=\"evenodd\" fill-opacity=\"1\" stroke=\"#000000\" stroke-opacity=\"1\" stroke-width=\"3.2\"/>\n",
       "<circle clip-path=\"url(#clip152)\" cx=\"1234.15\" cy=\"763.504\" r=\"14.4\" fill=\"#008000\" fill-rule=\"evenodd\" fill-opacity=\"1\" stroke=\"#000000\" stroke-opacity=\"1\" stroke-width=\"3.2\"/>\n",
       "<circle clip-path=\"url(#clip152)\" cx=\"1247.88\" cy=\"763.504\" r=\"14.4\" fill=\"#008000\" fill-rule=\"evenodd\" fill-opacity=\"1\" stroke=\"#000000\" stroke-opacity=\"1\" stroke-width=\"3.2\"/>\n",
       "<circle clip-path=\"url(#clip152)\" cx=\"1261.61\" cy=\"755.837\" r=\"14.4\" fill=\"#008000\" fill-rule=\"evenodd\" fill-opacity=\"1\" stroke=\"#000000\" stroke-opacity=\"1\" stroke-width=\"3.2\"/>\n",
       "<circle clip-path=\"url(#clip152)\" cx=\"1275.34\" cy=\"751.689\" r=\"14.4\" fill=\"#008000\" fill-rule=\"evenodd\" fill-opacity=\"1\" stroke=\"#000000\" stroke-opacity=\"1\" stroke-width=\"3.2\"/>\n",
       "<circle clip-path=\"url(#clip152)\" cx=\"1289.07\" cy=\"751.689\" r=\"14.4\" fill=\"#008000\" fill-rule=\"evenodd\" fill-opacity=\"1\" stroke=\"#000000\" stroke-opacity=\"1\" stroke-width=\"3.2\"/>\n",
       "<circle clip-path=\"url(#clip152)\" cx=\"1302.8\" cy=\"751.689\" r=\"14.4\" fill=\"#008000\" fill-rule=\"evenodd\" fill-opacity=\"1\" stroke=\"#000000\" stroke-opacity=\"1\" stroke-width=\"3.2\"/>\n",
       "<circle clip-path=\"url(#clip152)\" cx=\"1316.53\" cy=\"749.332\" r=\"14.4\" fill=\"#008000\" fill-rule=\"evenodd\" fill-opacity=\"1\" stroke=\"#000000\" stroke-opacity=\"1\" stroke-width=\"3.2\"/>\n",
       "<circle clip-path=\"url(#clip152)\" cx=\"1330.26\" cy=\"749.332\" r=\"14.4\" fill=\"#008000\" fill-rule=\"evenodd\" fill-opacity=\"1\" stroke=\"#000000\" stroke-opacity=\"1\" stroke-width=\"3.2\"/>\n",
       "<circle clip-path=\"url(#clip152)\" cx=\"1343.99\" cy=\"749.332\" r=\"14.4\" fill=\"#008000\" fill-rule=\"evenodd\" fill-opacity=\"1\" stroke=\"#000000\" stroke-opacity=\"1\" stroke-width=\"3.2\"/>\n",
       "<circle clip-path=\"url(#clip152)\" cx=\"1357.72\" cy=\"742.207\" r=\"14.4\" fill=\"#008000\" fill-rule=\"evenodd\" fill-opacity=\"1\" stroke=\"#000000\" stroke-opacity=\"1\" stroke-width=\"3.2\"/>\n",
       "<circle clip-path=\"url(#clip152)\" cx=\"1371.45\" cy=\"731.15\" r=\"14.4\" fill=\"#008000\" fill-rule=\"evenodd\" fill-opacity=\"1\" stroke=\"#000000\" stroke-opacity=\"1\" stroke-width=\"3.2\"/>\n",
       "<circle clip-path=\"url(#clip152)\" cx=\"1385.18\" cy=\"731.15\" r=\"14.4\" fill=\"#008000\" fill-rule=\"evenodd\" fill-opacity=\"1\" stroke=\"#000000\" stroke-opacity=\"1\" stroke-width=\"3.2\"/>\n",
       "<circle clip-path=\"url(#clip152)\" cx=\"1398.91\" cy=\"731.15\" r=\"14.4\" fill=\"#008000\" fill-rule=\"evenodd\" fill-opacity=\"1\" stroke=\"#000000\" stroke-opacity=\"1\" stroke-width=\"3.2\"/>\n",
       "<circle clip-path=\"url(#clip152)\" cx=\"1412.64\" cy=\"685.751\" r=\"14.4\" fill=\"#008000\" fill-rule=\"evenodd\" fill-opacity=\"1\" stroke=\"#000000\" stroke-opacity=\"1\" stroke-width=\"3.2\"/>\n",
       "<circle clip-path=\"url(#clip152)\" cx=\"1426.37\" cy=\"715.692\" r=\"14.4\" fill=\"#008000\" fill-rule=\"evenodd\" fill-opacity=\"1\" stroke=\"#000000\" stroke-opacity=\"1\" stroke-width=\"3.2\"/>\n",
       "<circle clip-path=\"url(#clip152)\" cx=\"1440.1\" cy=\"715.692\" r=\"14.4\" fill=\"#008000\" fill-rule=\"evenodd\" fill-opacity=\"1\" stroke=\"#000000\" stroke-opacity=\"1\" stroke-width=\"3.2\"/>\n",
       "<circle clip-path=\"url(#clip152)\" cx=\"1453.83\" cy=\"715.692\" r=\"14.4\" fill=\"#008000\" fill-rule=\"evenodd\" fill-opacity=\"1\" stroke=\"#000000\" stroke-opacity=\"1\" stroke-width=\"3.2\"/>\n",
       "<circle clip-path=\"url(#clip152)\" cx=\"1467.56\" cy=\"715.692\" r=\"14.4\" fill=\"#008000\" fill-rule=\"evenodd\" fill-opacity=\"1\" stroke=\"#000000\" stroke-opacity=\"1\" stroke-width=\"3.2\"/>\n",
       "<circle clip-path=\"url(#clip152)\" cx=\"1481.29\" cy=\"715.692\" r=\"14.4\" fill=\"#008000\" fill-rule=\"evenodd\" fill-opacity=\"1\" stroke=\"#000000\" stroke-opacity=\"1\" stroke-width=\"3.2\"/>\n",
       "<circle clip-path=\"url(#clip152)\" cx=\"1495.02\" cy=\"719.116\" r=\"14.4\" fill=\"#008000\" fill-rule=\"evenodd\" fill-opacity=\"1\" stroke=\"#000000\" stroke-opacity=\"1\" stroke-width=\"3.2\"/>\n",
       "<circle clip-path=\"url(#clip152)\" cx=\"1508.75\" cy=\"667.633\" r=\"14.4\" fill=\"#008000\" fill-rule=\"evenodd\" fill-opacity=\"1\" stroke=\"#000000\" stroke-opacity=\"1\" stroke-width=\"3.2\"/>\n",
       "<circle clip-path=\"url(#clip152)\" cx=\"1522.48\" cy=\"664.146\" r=\"14.4\" fill=\"#008000\" fill-rule=\"evenodd\" fill-opacity=\"1\" stroke=\"#000000\" stroke-opacity=\"1\" stroke-width=\"3.2\"/>\n",
       "<circle clip-path=\"url(#clip152)\" cx=\"1536.21\" cy=\"664.146\" r=\"14.4\" fill=\"#008000\" fill-rule=\"evenodd\" fill-opacity=\"1\" stroke=\"#000000\" stroke-opacity=\"1\" stroke-width=\"3.2\"/>\n",
       "<circle clip-path=\"url(#clip152)\" cx=\"1549.94\" cy=\"664.146\" r=\"14.4\" fill=\"#008000\" fill-rule=\"evenodd\" fill-opacity=\"1\" stroke=\"#000000\" stroke-opacity=\"1\" stroke-width=\"3.2\"/>\n",
       "<circle clip-path=\"url(#clip152)\" cx=\"1563.67\" cy=\"674.815\" r=\"14.4\" fill=\"#008000\" fill-rule=\"evenodd\" fill-opacity=\"1\" stroke=\"#000000\" stroke-opacity=\"1\" stroke-width=\"3.2\"/>\n",
       "<circle clip-path=\"url(#clip152)\" cx=\"1577.41\" cy=\"652.96\" r=\"14.4\" fill=\"#008000\" fill-rule=\"evenodd\" fill-opacity=\"1\" stroke=\"#000000\" stroke-opacity=\"1\" stroke-width=\"3.2\"/>\n",
       "<circle clip-path=\"url(#clip152)\" cx=\"1591.14\" cy=\"652.96\" r=\"14.4\" fill=\"#008000\" fill-rule=\"evenodd\" fill-opacity=\"1\" stroke=\"#000000\" stroke-opacity=\"1\" stroke-width=\"3.2\"/>\n",
       "<circle clip-path=\"url(#clip152)\" cx=\"1604.87\" cy=\"628.846\" r=\"14.4\" fill=\"#008000\" fill-rule=\"evenodd\" fill-opacity=\"1\" stroke=\"#000000\" stroke-opacity=\"1\" stroke-width=\"3.2\"/>\n",
       "<circle clip-path=\"url(#clip152)\" cx=\"1618.6\" cy=\"628.846\" r=\"14.4\" fill=\"#008000\" fill-rule=\"evenodd\" fill-opacity=\"1\" stroke=\"#000000\" stroke-opacity=\"1\" stroke-width=\"3.2\"/>\n",
       "<circle clip-path=\"url(#clip152)\" cx=\"1632.33\" cy=\"633.169\" r=\"14.4\" fill=\"#008000\" fill-rule=\"evenodd\" fill-opacity=\"1\" stroke=\"#000000\" stroke-opacity=\"1\" stroke-width=\"3.2\"/>\n",
       "<circle clip-path=\"url(#clip152)\" cx=\"1646.06\" cy=\"630.216\" r=\"14.4\" fill=\"#008000\" fill-rule=\"evenodd\" fill-opacity=\"1\" stroke=\"#000000\" stroke-opacity=\"1\" stroke-width=\"3.2\"/>\n",
       "<circle clip-path=\"url(#clip152)\" cx=\"1659.79\" cy=\"633.169\" r=\"14.4\" fill=\"#008000\" fill-rule=\"evenodd\" fill-opacity=\"1\" stroke=\"#000000\" stroke-opacity=\"1\" stroke-width=\"3.2\"/>\n",
       "<circle clip-path=\"url(#clip152)\" cx=\"1673.52\" cy=\"634.307\" r=\"14.4\" fill=\"#008000\" fill-rule=\"evenodd\" fill-opacity=\"1\" stroke=\"#000000\" stroke-opacity=\"1\" stroke-width=\"3.2\"/>\n",
       "<circle clip-path=\"url(#clip152)\" cx=\"1687.25\" cy=\"631.93\" r=\"14.4\" fill=\"#008000\" fill-rule=\"evenodd\" fill-opacity=\"1\" stroke=\"#000000\" stroke-opacity=\"1\" stroke-width=\"3.2\"/>\n",
       "<circle clip-path=\"url(#clip152)\" cx=\"1700.98\" cy=\"608.387\" r=\"14.4\" fill=\"#008000\" fill-rule=\"evenodd\" fill-opacity=\"1\" stroke=\"#000000\" stroke-opacity=\"1\" stroke-width=\"3.2\"/>\n",
       "<circle clip-path=\"url(#clip152)\" cx=\"1714.71\" cy=\"610.12\" r=\"14.4\" fill=\"#008000\" fill-rule=\"evenodd\" fill-opacity=\"1\" stroke=\"#000000\" stroke-opacity=\"1\" stroke-width=\"3.2\"/>\n",
       "<circle clip-path=\"url(#clip152)\" cx=\"1728.44\" cy=\"587.736\" r=\"14.4\" fill=\"#008000\" fill-rule=\"evenodd\" fill-opacity=\"1\" stroke=\"#000000\" stroke-opacity=\"1\" stroke-width=\"3.2\"/>\n",
       "<circle clip-path=\"url(#clip152)\" cx=\"1742.17\" cy=\"565.02\" r=\"14.4\" fill=\"#008000\" fill-rule=\"evenodd\" fill-opacity=\"1\" stroke=\"#000000\" stroke-opacity=\"1\" stroke-width=\"3.2\"/>\n",
       "<circle clip-path=\"url(#clip152)\" cx=\"1755.9\" cy=\"565.02\" r=\"14.4\" fill=\"#008000\" fill-rule=\"evenodd\" fill-opacity=\"1\" stroke=\"#000000\" stroke-opacity=\"1\" stroke-width=\"3.2\"/>\n",
       "<circle clip-path=\"url(#clip152)\" cx=\"1769.63\" cy=\"562.629\" r=\"14.4\" fill=\"#008000\" fill-rule=\"evenodd\" fill-opacity=\"1\" stroke=\"#000000\" stroke-opacity=\"1\" stroke-width=\"3.2\"/>\n",
       "<circle clip-path=\"url(#clip152)\" cx=\"1783.36\" cy=\"539.912\" r=\"14.4\" fill=\"#008000\" fill-rule=\"evenodd\" fill-opacity=\"1\" stroke=\"#000000\" stroke-opacity=\"1\" stroke-width=\"3.2\"/>\n",
       "<circle clip-path=\"url(#clip152)\" cx=\"1797.09\" cy=\"539.912\" r=\"14.4\" fill=\"#008000\" fill-rule=\"evenodd\" fill-opacity=\"1\" stroke=\"#000000\" stroke-opacity=\"1\" stroke-width=\"3.2\"/>\n",
       "<circle clip-path=\"url(#clip152)\" cx=\"1810.82\" cy=\"539.912\" r=\"14.4\" fill=\"#008000\" fill-rule=\"evenodd\" fill-opacity=\"1\" stroke=\"#000000\" stroke-opacity=\"1\" stroke-width=\"3.2\"/>\n",
       "<circle clip-path=\"url(#clip152)\" cx=\"1824.55\" cy=\"620.623\" r=\"14.4\" fill=\"#008000\" fill-rule=\"evenodd\" fill-opacity=\"1\" stroke=\"#000000\" stroke-opacity=\"1\" stroke-width=\"3.2\"/>\n",
       "<circle clip-path=\"url(#clip152)\" cx=\"1838.28\" cy=\"489.697\" r=\"14.4\" fill=\"#008000\" fill-rule=\"evenodd\" fill-opacity=\"1\" stroke=\"#000000\" stroke-opacity=\"1\" stroke-width=\"3.2\"/>\n",
       "<circle clip-path=\"url(#clip152)\" cx=\"1852.01\" cy=\"489.697\" r=\"14.4\" fill=\"#008000\" fill-rule=\"evenodd\" fill-opacity=\"1\" stroke=\"#000000\" stroke-opacity=\"1\" stroke-width=\"3.2\"/>\n",
       "<circle clip-path=\"url(#clip152)\" cx=\"1865.74\" cy=\"456.22\" r=\"14.4\" fill=\"#008000\" fill-rule=\"evenodd\" fill-opacity=\"1\" stroke=\"#000000\" stroke-opacity=\"1\" stroke-width=\"3.2\"/>\n",
       "<circle clip-path=\"url(#clip152)\" cx=\"1879.47\" cy=\"456.22\" r=\"14.4\" fill=\"#008000\" fill-rule=\"evenodd\" fill-opacity=\"1\" stroke=\"#000000\" stroke-opacity=\"1\" stroke-width=\"3.2\"/>\n",
       "<circle clip-path=\"url(#clip152)\" cx=\"1893.2\" cy=\"433.903\" r=\"14.4\" fill=\"#008000\" fill-rule=\"evenodd\" fill-opacity=\"1\" stroke=\"#000000\" stroke-opacity=\"1\" stroke-width=\"3.2\"/>\n",
       "<circle clip-path=\"url(#clip152)\" cx=\"1906.93\" cy=\"419.976\" r=\"14.4\" fill=\"#008000\" fill-rule=\"evenodd\" fill-opacity=\"1\" stroke=\"#000000\" stroke-opacity=\"1\" stroke-width=\"3.2\"/>\n",
       "<circle clip-path=\"url(#clip152)\" cx=\"1920.66\" cy=\"393.256\" r=\"14.4\" fill=\"#008000\" fill-rule=\"evenodd\" fill-opacity=\"1\" stroke=\"#000000\" stroke-opacity=\"1\" stroke-width=\"3.2\"/>\n",
       "<circle clip-path=\"url(#clip152)\" cx=\"1934.39\" cy=\"419.976\" r=\"14.4\" fill=\"#008000\" fill-rule=\"evenodd\" fill-opacity=\"1\" stroke=\"#000000\" stroke-opacity=\"1\" stroke-width=\"3.2\"/>\n",
       "<circle clip-path=\"url(#clip152)\" cx=\"1948.12\" cy=\"422.128\" r=\"14.4\" fill=\"#008000\" fill-rule=\"evenodd\" fill-opacity=\"1\" stroke=\"#000000\" stroke-opacity=\"1\" stroke-width=\"3.2\"/>\n",
       "<circle clip-path=\"url(#clip152)\" cx=\"1961.85\" cy=\"386.451\" r=\"14.4\" fill=\"#008000\" fill-rule=\"evenodd\" fill-opacity=\"1\" stroke=\"#000000\" stroke-opacity=\"1\" stroke-width=\"3.2\"/>\n",
       "<circle clip-path=\"url(#clip152)\" cx=\"1975.58\" cy=\"386.451\" r=\"14.4\" fill=\"#008000\" fill-rule=\"evenodd\" fill-opacity=\"1\" stroke=\"#000000\" stroke-opacity=\"1\" stroke-width=\"3.2\"/>\n",
       "<circle clip-path=\"url(#clip152)\" cx=\"1989.31\" cy=\"380.495\" r=\"14.4\" fill=\"#008000\" fill-rule=\"evenodd\" fill-opacity=\"1\" stroke=\"#000000\" stroke-opacity=\"1\" stroke-width=\"3.2\"/>\n",
       "<circle clip-path=\"url(#clip152)\" cx=\"2003.04\" cy=\"380.495\" r=\"14.4\" fill=\"#008000\" fill-rule=\"evenodd\" fill-opacity=\"1\" stroke=\"#000000\" stroke-opacity=\"1\" stroke-width=\"3.2\"/>\n",
       "<circle clip-path=\"url(#clip152)\" cx=\"2016.78\" cy=\"406.005\" r=\"14.4\" fill=\"#008000\" fill-rule=\"evenodd\" fill-opacity=\"1\" stroke=\"#000000\" stroke-opacity=\"1\" stroke-width=\"3.2\"/>\n",
       "<circle clip-path=\"url(#clip152)\" cx=\"2030.51\" cy=\"406.005\" r=\"14.4\" fill=\"#008000\" fill-rule=\"evenodd\" fill-opacity=\"1\" stroke=\"#000000\" stroke-opacity=\"1\" stroke-width=\"3.2\"/>\n",
       "<circle clip-path=\"url(#clip152)\" cx=\"2044.24\" cy=\"406.005\" r=\"14.4\" fill=\"#008000\" fill-rule=\"evenodd\" fill-opacity=\"1\" stroke=\"#000000\" stroke-opacity=\"1\" stroke-width=\"3.2\"/>\n",
       "<circle clip-path=\"url(#clip152)\" cx=\"2057.97\" cy=\"406.005\" r=\"14.4\" fill=\"#008000\" fill-rule=\"evenodd\" fill-opacity=\"1\" stroke=\"#000000\" stroke-opacity=\"1\" stroke-width=\"3.2\"/>\n",
       "<circle clip-path=\"url(#clip152)\" cx=\"2071.7\" cy=\"406.005\" r=\"14.4\" fill=\"#008000\" fill-rule=\"evenodd\" fill-opacity=\"1\" stroke=\"#000000\" stroke-opacity=\"1\" stroke-width=\"3.2\"/>\n",
       "<circle clip-path=\"url(#clip152)\" cx=\"2085.43\" cy=\"406.005\" r=\"14.4\" fill=\"#008000\" fill-rule=\"evenodd\" fill-opacity=\"1\" stroke=\"#000000\" stroke-opacity=\"1\" stroke-width=\"3.2\"/>\n",
       "<circle clip-path=\"url(#clip152)\" cx=\"2099.16\" cy=\"401.082\" r=\"14.4\" fill=\"#008000\" fill-rule=\"evenodd\" fill-opacity=\"1\" stroke=\"#000000\" stroke-opacity=\"1\" stroke-width=\"3.2\"/>\n",
       "<circle clip-path=\"url(#clip152)\" cx=\"2112.89\" cy=\"312.467\" r=\"14.4\" fill=\"#008000\" fill-rule=\"evenodd\" fill-opacity=\"1\" stroke=\"#000000\" stroke-opacity=\"1\" stroke-width=\"3.2\"/>\n",
       "<circle clip-path=\"url(#clip152)\" cx=\"2126.62\" cy=\"312.467\" r=\"14.4\" fill=\"#008000\" fill-rule=\"evenodd\" fill-opacity=\"1\" stroke=\"#000000\" stroke-opacity=\"1\" stroke-width=\"3.2\"/>\n",
       "<circle clip-path=\"url(#clip152)\" cx=\"2140.35\" cy=\"312.467\" r=\"14.4\" fill=\"#008000\" fill-rule=\"evenodd\" fill-opacity=\"1\" stroke=\"#000000\" stroke-opacity=\"1\" stroke-width=\"3.2\"/>\n",
       "<circle clip-path=\"url(#clip152)\" cx=\"2154.08\" cy=\"312.467\" r=\"14.4\" fill=\"#008000\" fill-rule=\"evenodd\" fill-opacity=\"1\" stroke=\"#000000\" stroke-opacity=\"1\" stroke-width=\"3.2\"/>\n",
       "<circle clip-path=\"url(#clip152)\" cx=\"2167.81\" cy=\"242.314\" r=\"14.4\" fill=\"#008000\" fill-rule=\"evenodd\" fill-opacity=\"1\" stroke=\"#000000\" stroke-opacity=\"1\" stroke-width=\"3.2\"/>\n",
       "<circle clip-path=\"url(#clip152)\" cx=\"2181.54\" cy=\"207.237\" r=\"14.4\" fill=\"#008000\" fill-rule=\"evenodd\" fill-opacity=\"1\" stroke=\"#000000\" stroke-opacity=\"1\" stroke-width=\"3.2\"/>\n",
       "<circle clip-path=\"url(#clip152)\" cx=\"2195.27\" cy=\"207.237\" r=\"14.4\" fill=\"#008000\" fill-rule=\"evenodd\" fill-opacity=\"1\" stroke=\"#000000\" stroke-opacity=\"1\" stroke-width=\"3.2\"/>\n",
       "<circle clip-path=\"url(#clip152)\" cx=\"2209\" cy=\"207.237\" r=\"14.4\" fill=\"#008000\" fill-rule=\"evenodd\" fill-opacity=\"1\" stroke=\"#000000\" stroke-opacity=\"1\" stroke-width=\"3.2\"/>\n",
       "<circle clip-path=\"url(#clip152)\" cx=\"2222.73\" cy=\"252.956\" r=\"14.4\" fill=\"#008000\" fill-rule=\"evenodd\" fill-opacity=\"1\" stroke=\"#000000\" stroke-opacity=\"1\" stroke-width=\"3.2\"/>\n",
       "<circle clip-path=\"url(#clip152)\" cx=\"2236.46\" cy=\"162.404\" r=\"14.4\" fill=\"#008000\" fill-rule=\"evenodd\" fill-opacity=\"1\" stroke=\"#000000\" stroke-opacity=\"1\" stroke-width=\"3.2\"/>\n",
       "<circle clip-path=\"url(#clip152)\" cx=\"2250.19\" cy=\"162.404\" r=\"14.4\" fill=\"#008000\" fill-rule=\"evenodd\" fill-opacity=\"1\" stroke=\"#000000\" stroke-opacity=\"1\" stroke-width=\"3.2\"/>\n",
       "<circle clip-path=\"url(#clip152)\" cx=\"2263.92\" cy=\"103.341\" r=\"14.4\" fill=\"#008000\" fill-rule=\"evenodd\" fill-opacity=\"1\" stroke=\"#000000\" stroke-opacity=\"1\" stroke-width=\"3.2\"/>\n",
       "<circle clip-path=\"url(#clip152)\" cx=\"2277.65\" cy=\"87.9763\" r=\"14.4\" fill=\"#008000\" fill-rule=\"evenodd\" fill-opacity=\"1\" stroke=\"#000000\" stroke-opacity=\"1\" stroke-width=\"3.2\"/>\n",
       "<circle clip-path=\"url(#clip152)\" cx=\"2291.38\" cy=\"87.9763\" r=\"14.4\" fill=\"#008000\" fill-rule=\"evenodd\" fill-opacity=\"1\" stroke=\"#000000\" stroke-opacity=\"1\" stroke-width=\"3.2\"/>\n",
       "<path clip-path=\"url(#clip150)\" d=\"M256.476 250.738 L935.39 250.738 L935.39 95.2176 L256.476 95.2176  Z\" fill=\"#ffffff\" fill-rule=\"evenodd\" fill-opacity=\"1\"/>\n",
       "<polyline clip-path=\"url(#clip150)\" style=\"stroke:#000000; stroke-linecap:round; stroke-linejoin:round; stroke-width:4; stroke-opacity:1; fill:none\" points=\"256.476,250.738 935.39,250.738 935.39,95.2176 256.476,95.2176 256.476,250.738 \"/>\n",
       "<circle clip-path=\"url(#clip150)\" cx=\"352.857\" cy=\"147.058\" r=\"20.48\" fill=\"#0000ff\" fill-rule=\"evenodd\" fill-opacity=\"1\" stroke=\"#000000\" stroke-opacity=\"1\" stroke-width=\"4.55111\"/>\n",
       "<path clip-path=\"url(#clip150)\" d=\"M468.011 151.398 Q468.011 146.699 466.066 144.037 Q464.145 141.352 460.765 141.352 Q457.386 141.352 455.441 144.037 Q453.52 146.699 453.52 151.398 Q453.52 156.097 455.441 158.782 Q457.386 161.444 460.765 161.444 Q464.145 161.444 466.066 158.782 Q468.011 156.097 468.011 151.398 M453.52 142.347 Q454.863 140.032 456.9 138.921 Q458.96 137.787 461.807 137.787 Q466.529 137.787 469.469 141.537 Q472.432 145.287 472.432 151.398 Q472.432 157.509 469.469 161.259 Q466.529 165.009 461.807 165.009 Q458.96 165.009 456.9 163.898 Q454.863 162.763 453.52 160.449 L453.52 164.338 L449.238 164.338 L449.238 128.319 L453.52 128.319 L453.52 142.347 Z\" fill=\"#000000\" fill-rule=\"nonzero\" fill-opacity=\"1\" /><path clip-path=\"url(#clip150)\" d=\"M501.668 150.31 L501.668 152.393 L482.085 152.393 Q482.362 156.791 484.723 159.106 Q487.108 161.398 491.344 161.398 Q493.797 161.398 496.089 160.796 Q498.404 160.194 500.672 158.99 L500.672 163.018 Q498.381 163.99 495.973 164.5 Q493.566 165.009 491.089 165.009 Q484.885 165.009 481.251 161.398 Q477.64 157.787 477.64 151.629 Q477.64 145.264 481.066 141.537 Q484.515 137.787 490.348 137.787 Q495.58 137.787 498.612 141.166 Q501.668 144.523 501.668 150.31 M497.409 149.06 Q497.362 145.565 495.441 143.481 Q493.543 141.398 490.395 141.398 Q486.83 141.398 484.677 143.412 Q482.548 145.426 482.223 149.083 L497.409 149.06 Z\" fill=\"#000000\" fill-rule=\"nonzero\" fill-opacity=\"1\" /><path clip-path=\"url(#clip150)\" d=\"M530.209 148.689 L530.209 164.338 L525.95 164.338 L525.95 148.828 Q525.95 145.148 524.515 143.319 Q523.08 141.49 520.209 141.49 Q516.76 141.49 514.77 143.69 Q512.779 145.889 512.779 149.685 L512.779 164.338 L508.496 164.338 L508.496 138.412 L512.779 138.412 L512.779 142.44 Q514.307 140.102 516.367 138.944 Q518.45 137.787 521.158 137.787 Q525.626 137.787 527.918 140.565 Q530.209 143.319 530.209 148.689 Z\" fill=\"#000000\" fill-rule=\"nonzero\" fill-opacity=\"1\" /><path clip-path=\"url(#clip150)\" d=\"M557.362 139.407 L557.362 143.389 Q555.556 142.393 553.728 141.907 Q551.922 141.398 550.07 141.398 Q545.927 141.398 543.635 144.037 Q541.344 146.652 541.344 151.398 Q541.344 156.143 543.635 158.782 Q545.927 161.398 550.07 161.398 Q551.922 161.398 553.728 160.912 Q555.556 160.402 557.362 159.407 L557.362 163.342 Q555.58 164.176 553.658 164.592 Q551.76 165.009 549.607 165.009 Q543.751 165.009 540.302 161.328 Q536.853 157.648 536.853 151.398 Q536.853 145.055 540.325 141.421 Q543.82 137.787 549.885 137.787 Q551.853 137.787 553.728 138.203 Q555.603 138.597 557.362 139.407 Z\" fill=\"#000000\" fill-rule=\"nonzero\" fill-opacity=\"1\" /><path clip-path=\"url(#clip150)\" d=\"M586.32 148.689 L586.32 164.338 L582.061 164.338 L582.061 148.828 Q582.061 145.148 580.626 143.319 Q579.191 141.49 576.32 141.49 Q572.871 141.49 570.88 143.69 Q568.89 145.889 568.89 149.685 L568.89 164.338 L564.607 164.338 L564.607 128.319 L568.89 128.319 L568.89 142.44 Q570.417 140.102 572.478 138.944 Q574.561 137.787 577.269 137.787 Q581.737 137.787 584.028 140.565 Q586.32 143.319 586.32 148.689 Z\" fill=\"#000000\" fill-rule=\"nonzero\" fill-opacity=\"1\" /><path clip-path=\"url(#clip150)\" d=\"M615.001 143.389 Q616.598 140.518 618.82 139.153 Q621.042 137.787 624.051 137.787 Q628.102 137.787 630.301 140.634 Q632.5 143.458 632.5 148.689 L632.5 164.338 L628.218 164.338 L628.218 148.828 Q628.218 145.102 626.899 143.296 Q625.579 141.49 622.871 141.49 Q619.561 141.49 617.639 143.69 Q615.718 145.889 615.718 149.685 L615.718 164.338 L611.436 164.338 L611.436 148.828 Q611.436 145.078 610.116 143.296 Q608.797 141.49 606.042 141.49 Q602.778 141.49 600.857 143.713 Q598.936 145.912 598.936 149.685 L598.936 164.338 L594.653 164.338 L594.653 138.412 L598.936 138.412 L598.936 142.44 Q600.394 140.055 602.431 138.921 Q604.468 137.787 607.269 137.787 Q610.093 137.787 612.061 139.222 Q614.051 140.657 615.001 143.389 Z\" fill=\"#000000\" fill-rule=\"nonzero\" fill-opacity=\"1\" /><path clip-path=\"url(#clip150)\" d=\"M652.778 151.305 Q647.616 151.305 645.625 152.486 Q643.635 153.666 643.635 156.514 Q643.635 158.782 645.116 160.125 Q646.621 161.444 649.19 161.444 Q652.732 161.444 654.861 158.944 Q657.014 156.421 657.014 152.254 L657.014 151.305 L652.778 151.305 M661.273 149.546 L661.273 164.338 L657.014 164.338 L657.014 160.402 Q655.556 162.763 653.38 163.898 Q651.204 165.009 648.056 165.009 Q644.074 165.009 641.713 162.787 Q639.375 160.541 639.375 156.791 Q639.375 152.416 642.292 150.194 Q645.232 147.972 651.042 147.972 L657.014 147.972 L657.014 147.555 Q657.014 144.615 655.07 143.018 Q653.148 141.398 649.653 141.398 Q647.431 141.398 645.324 141.93 Q643.218 142.463 641.274 143.527 L641.274 139.592 Q643.611 138.69 645.811 138.25 Q648.01 137.787 650.093 137.787 Q655.718 137.787 658.496 140.703 Q661.273 143.62 661.273 149.546 Z\" fill=\"#000000\" fill-rule=\"nonzero\" fill-opacity=\"1\" /><path clip-path=\"url(#clip150)\" d=\"M685.07 142.393 Q684.352 141.977 683.496 141.791 Q682.662 141.583 681.644 141.583 Q678.033 141.583 676.088 143.944 Q674.167 146.282 674.167 150.68 L674.167 164.338 L669.885 164.338 L669.885 138.412 L674.167 138.412 L674.167 142.44 Q675.509 140.078 677.662 138.944 Q679.815 137.787 682.894 137.787 Q683.334 137.787 683.866 137.856 Q684.398 137.903 685.046 138.018 L685.07 142.393 Z\" fill=\"#000000\" fill-rule=\"nonzero\" fill-opacity=\"1\" /><path clip-path=\"url(#clip150)\" d=\"M689.375 128.319 L693.658 128.319 L693.658 149.592 L706.366 138.412 L711.806 138.412 L698.056 150.541 L712.384 164.338 L706.829 164.338 L693.658 151.676 L693.658 164.338 L689.375 164.338 L689.375 128.319 Z\" fill=\"#000000\" fill-rule=\"nonzero\" fill-opacity=\"1\" /><path clip-path=\"url(#clip150)\" d=\"M731.481 129.778 L753.704 129.778 L753.704 131.768 L741.157 164.338 L736.273 164.338 L748.079 133.713 L731.481 133.713 L731.481 129.778 Z\" fill=\"#000000\" fill-rule=\"nonzero\" fill-opacity=\"1\" /><path clip-path=\"url(#clip150)\" d=\"M787.523 128.366 Q784.421 133.69 782.916 138.898 Q781.412 144.106 781.412 149.453 Q781.412 154.801 782.916 160.055 Q784.444 165.287 787.523 170.588 L783.819 170.588 Q780.347 165.148 778.611 159.893 Q776.898 154.639 776.898 149.453 Q776.898 144.291 778.611 139.06 Q780.324 133.828 783.819 128.366 L787.523 128.366 Z\" fill=\"#000000\" fill-rule=\"nonzero\" fill-opacity=\"1\" /><path clip-path=\"url(#clip150)\" d=\"M806.388 132.856 Q802.777 132.856 800.949 136.421 Q799.143 139.963 799.143 147.092 Q799.143 154.199 800.949 157.764 Q802.777 161.305 806.388 161.305 Q810.023 161.305 811.828 157.764 Q813.657 154.199 813.657 147.092 Q813.657 139.963 811.828 136.421 Q810.023 132.856 806.388 132.856 M806.388 129.153 Q812.199 129.153 815.254 133.759 Q818.333 138.342 818.333 147.092 Q818.333 155.819 815.254 160.426 Q812.199 165.009 806.388 165.009 Q800.578 165.009 797.5 160.426 Q794.444 155.819 794.444 147.092 Q794.444 138.342 797.5 133.759 Q800.578 129.153 806.388 129.153 Z\" fill=\"#000000\" fill-rule=\"nonzero\" fill-opacity=\"1\" /><path clip-path=\"url(#clip150)\" d=\"M826.55 158.458 L831.435 158.458 L831.435 164.338 L826.55 164.338 L826.55 158.458 Z\" fill=\"#000000\" fill-rule=\"nonzero\" fill-opacity=\"1\" /><path clip-path=\"url(#clip150)\" d=\"M851.62 147.926 Q848.286 147.926 846.365 149.708 Q844.467 151.49 844.467 154.615 Q844.467 157.74 846.365 159.523 Q848.286 161.305 851.62 161.305 Q854.953 161.305 856.874 159.523 Q858.796 157.717 858.796 154.615 Q858.796 151.49 856.874 149.708 Q854.976 147.926 851.62 147.926 M846.944 145.935 Q843.934 145.194 842.245 143.134 Q840.578 141.074 840.578 138.111 Q840.578 133.967 843.518 131.56 Q846.481 129.153 851.62 129.153 Q856.782 129.153 859.721 131.56 Q862.661 133.967 862.661 138.111 Q862.661 141.074 860.971 143.134 Q859.305 145.194 856.319 145.935 Q859.698 146.722 861.573 149.014 Q863.471 151.305 863.471 154.615 Q863.471 159.639 860.393 162.324 Q857.337 165.009 851.62 165.009 Q845.902 165.009 842.823 162.324 Q839.768 159.639 839.768 154.615 Q839.768 151.305 841.666 149.014 Q843.564 146.722 846.944 145.935 M845.231 138.551 Q845.231 141.236 846.897 142.74 Q848.587 144.245 851.62 144.245 Q854.629 144.245 856.319 142.74 Q858.032 141.236 858.032 138.551 Q858.032 135.865 856.319 134.361 Q854.629 132.856 851.62 132.856 Q848.587 132.856 846.897 134.361 Q845.231 135.865 845.231 138.551 Z\" fill=\"#000000\" fill-rule=\"nonzero\" fill-opacity=\"1\" /><path clip-path=\"url(#clip150)\" d=\"M884.629 133.852 L872.823 152.301 L884.629 152.301 L884.629 133.852 M883.402 129.778 L889.281 129.778 L889.281 152.301 L894.212 152.301 L894.212 156.189 L889.281 156.189 L889.281 164.338 L884.629 164.338 L884.629 156.189 L869.027 156.189 L869.027 151.676 L883.402 129.778 Z\" fill=\"#000000\" fill-rule=\"nonzero\" fill-opacity=\"1\" /><path clip-path=\"url(#clip150)\" d=\"M900.67 128.366 L904.374 128.366 Q907.846 133.828 909.559 139.06 Q911.295 144.291 911.295 149.453 Q911.295 154.639 909.559 159.893 Q907.846 165.148 904.374 170.588 L900.67 170.588 Q903.749 165.287 905.254 160.055 Q906.781 154.801 906.781 149.453 Q906.781 144.106 905.254 138.898 Q903.749 133.69 900.67 128.366 Z\" fill=\"#000000\" fill-rule=\"nonzero\" fill-opacity=\"1\" /><circle clip-path=\"url(#clip150)\" cx=\"352.857\" cy=\"198.898\" r=\"20.48\" fill=\"#008000\" fill-rule=\"evenodd\" fill-opacity=\"1\" stroke=\"#000000\" stroke-opacity=\"1\" stroke-width=\"4.55111\"/>\n",
       "<path clip-path=\"url(#clip150)\" d=\"M470.95 200.529 L470.95 216.178 L466.691 216.178 L466.691 200.668 Q466.691 196.988 465.256 195.159 Q463.821 193.33 460.95 193.33 Q457.501 193.33 455.511 195.53 Q453.52 197.729 453.52 201.525 L453.52 216.178 L449.238 216.178 L449.238 190.252 L453.52 190.252 L453.52 194.28 Q455.048 191.942 457.108 190.784 Q459.191 189.627 461.9 189.627 Q466.367 189.627 468.659 192.405 Q470.95 195.159 470.95 200.529 Z\" fill=\"#000000\" fill-rule=\"nonzero\" fill-opacity=\"1\" /><path clip-path=\"url(#clip150)\" d=\"M501.622 202.15 L501.622 204.233 L482.038 204.233 Q482.316 208.631 484.677 210.946 Q487.061 213.238 491.298 213.238 Q493.751 213.238 496.043 212.636 Q498.358 212.034 500.626 210.83 L500.626 214.858 Q498.334 215.83 495.927 216.34 Q493.52 216.849 491.043 216.849 Q484.839 216.849 481.205 213.238 Q477.594 209.627 477.594 203.469 Q477.594 197.104 481.02 193.377 Q484.469 189.627 490.302 189.627 Q495.534 189.627 498.566 193.006 Q501.622 196.363 501.622 202.15 M497.362 200.9 Q497.316 197.405 495.395 195.321 Q493.497 193.238 490.348 193.238 Q486.784 193.238 484.631 195.252 Q482.501 197.266 482.177 200.923 L497.362 200.9 Z\" fill=\"#000000\" fill-rule=\"nonzero\" fill-opacity=\"1\" /><path clip-path=\"url(#clip150)\" d=\"M506.135 190.252 L510.395 190.252 L515.719 210.483 L521.02 190.252 L526.043 190.252 L531.367 210.483 L536.668 190.252 L540.927 190.252 L534.144 216.178 L529.121 216.178 L523.543 194.928 L517.941 216.178 L512.918 216.178 L506.135 190.252 Z\" fill=\"#000000\" fill-rule=\"nonzero\" fill-opacity=\"1\" /><path clip-path=\"url(#clip150)\" d=\"M572.501 193.238 Q569.075 193.238 567.084 195.923 Q565.093 198.585 565.093 203.238 Q565.093 207.891 567.061 210.576 Q569.052 213.238 572.501 213.238 Q575.904 213.238 577.894 210.553 Q579.885 207.867 579.885 203.238 Q579.885 198.631 577.894 195.946 Q575.904 193.238 572.501 193.238 M572.501 189.627 Q578.056 189.627 581.228 193.238 Q584.399 196.849 584.399 203.238 Q584.399 209.604 581.228 213.238 Q578.056 216.849 572.501 216.849 Q566.922 216.849 563.751 213.238 Q560.603 209.604 560.603 203.238 Q560.603 196.849 563.751 193.238 Q566.922 189.627 572.501 189.627 Z\" fill=\"#000000\" fill-rule=\"nonzero\" fill-opacity=\"1\" /><path clip-path=\"url(#clip150)\" d=\"M613.01 200.529 L613.01 216.178 L608.751 216.178 L608.751 200.668 Q608.751 196.988 607.315 195.159 Q605.88 193.33 603.01 193.33 Q599.561 193.33 597.57 195.53 Q595.579 197.729 595.579 201.525 L595.579 216.178 L591.297 216.178 L591.297 190.252 L595.579 190.252 L595.579 194.28 Q597.107 191.942 599.167 190.784 Q601.251 189.627 603.959 189.627 Q608.427 189.627 610.718 192.405 Q613.01 195.159 613.01 200.529 Z\" fill=\"#000000\" fill-rule=\"nonzero\" fill-opacity=\"1\" /><path clip-path=\"url(#clip150)\" d=\"M643.681 202.15 L643.681 204.233 L624.098 204.233 Q624.375 208.631 626.737 210.946 Q629.121 213.238 633.357 213.238 Q635.811 213.238 638.102 212.636 Q640.417 212.034 642.686 210.83 L642.686 214.858 Q640.394 215.83 637.987 216.34 Q635.579 216.849 633.102 216.849 Q626.899 216.849 623.264 213.238 Q619.653 209.627 619.653 203.469 Q619.653 197.104 623.079 193.377 Q626.528 189.627 632.362 189.627 Q637.593 189.627 640.625 193.006 Q643.681 196.363 643.681 202.15 M639.422 200.9 Q639.375 197.405 637.454 195.321 Q635.556 193.238 632.408 193.238 Q628.843 193.238 626.69 195.252 Q624.561 197.266 624.237 200.923 L639.422 200.9 Z\" fill=\"#000000\" fill-rule=\"nonzero\" fill-opacity=\"1\" /><path clip-path=\"url(#clip150)\" d=\"M675.972 180.206 Q672.871 185.53 671.366 190.738 Q669.861 195.946 669.861 201.293 Q669.861 206.641 671.366 211.895 Q672.894 217.127 675.972 222.428 L672.269 222.428 Q668.797 216.988 667.06 211.733 Q665.347 206.479 665.347 201.293 Q665.347 196.131 667.06 190.9 Q668.773 185.668 672.269 180.206 L675.972 180.206 Z\" fill=\"#000000\" fill-rule=\"nonzero\" fill-opacity=\"1\" /><path clip-path=\"url(#clip150)\" d=\"M688.82 210.298 L693.519 210.298 L693.519 216.178 L688.82 216.178 L688.82 210.298 M693.38 206.895 L688.958 206.895 L688.958 203.33 Q688.958 200.992 689.607 199.488 Q690.255 197.983 692.338 195.992 L694.421 193.932 Q695.741 192.705 696.32 191.618 Q696.921 190.53 696.921 189.395 Q696.921 187.335 695.394 186.062 Q693.889 184.789 691.389 184.789 Q689.56 184.789 687.477 185.599 Q685.417 186.409 683.171 187.96 L683.171 183.608 Q685.347 182.289 687.57 181.641 Q689.815 180.993 692.199 180.993 Q696.458 180.993 699.028 183.238 Q701.62 185.483 701.62 189.164 Q701.62 190.923 700.787 192.52 Q699.954 194.094 697.87 196.085 L695.833 198.076 Q694.745 199.164 694.283 199.789 Q693.843 200.391 693.658 200.969 Q693.519 201.455 693.449 202.15 Q693.38 202.844 693.38 204.048 L693.38 206.895 Z\" fill=\"#000000\" fill-rule=\"nonzero\" fill-opacity=\"1\" /><path clip-path=\"url(#clip150)\" d=\"M708.727 180.206 L712.431 180.206 Q715.903 185.668 717.616 190.9 Q719.352 196.131 719.352 201.293 Q719.352 206.479 717.616 211.733 Q715.903 216.988 712.431 222.428 L708.727 222.428 Q711.806 217.127 713.31 211.895 Q714.838 206.641 714.838 201.293 Q714.838 195.946 713.31 190.738 Q711.806 185.53 708.727 180.206 Z\" fill=\"#000000\" fill-rule=\"nonzero\" fill-opacity=\"1\" /></svg>\n"
      ]
     },
     "execution_count": 6287,
     "metadata": {},
     "output_type": "execute_result"
    }
   ],
   "source": [
    "common_ids = 1:150\n",
    "data_1_common = filter(row -> row.id in common_ids, data_13)\n",
    "data_2_common = filter(row -> row.id in common_ids, average_data)\n",
    "\n",
    "\n",
    "data_1_sorted = sort(data_13, :consommation)\n",
    "data_2_sorted = [average_data.consommation[i] for i in data_1_sorted.id]\n",
    "#= data_3_sorted = [data_3.consommation[i] for i in data_1_sorted.id]\n",
    " =#\n",
    "colors1 = [(i in common_ids ? :blue : :blue) for i in data_1_sorted.id]\n",
    "colors2 = [(i in common_ids ? :green : :green) for i in data_1_sorted.id]\n",
    "#= colors3 = [(i in common_ids ? :black : :white) for i in data_1_sorted.id]\n",
    " =#\n",
    "\n",
    "scatter(1:150, data_1_sorted.consommation, c=colors1, label=\"benchmark 7 (0.84)\")\n",
    "scatter!(1:150, data_2_sorted, c=colors2, label= \"new one (?)\")"
   ]
  },
  {
   "cell_type": "code",
   "execution_count": 6288,
   "metadata": {},
   "outputs": [
    {
     "data": {
      "text/html": [
       "<div><div style = \"float: left;\"><span>11×6 DataFrame</span></div><div style = \"clear: both;\"></div></div><div class = \"data-frame\" style = \"overflow-x: scroll;\"><table class = \"data-frame\" style = \"margin-bottom: 6px;\"><thead><tr class = \"header\"><th class = \"rowNumber\" style = \"font-weight: bold; text-align: right;\">Row</th><th style = \"text-align: left;\">type</th><th style = \"text-align: left;\">nombre_cylindres</th><th style = \"text-align: left;\">cylindree</th><th style = \"text-align: left;\">transmission</th><th style = \"text-align: left;\">boite</th><th style = \"text-align: left;\">consommation</th></tr><tr class = \"subheader headerLastRow\"><th class = \"rowNumber\" style = \"font-weight: bold; text-align: right;\"></th><th title = \"AbstractString\" style = \"text-align: left;\">Abstract…</th><th title = \"Int64\" style = \"text-align: left;\">Int64</th><th title = \"Float64\" style = \"text-align: left;\">Float64</th><th title = \"String15\" style = \"text-align: left;\">String15</th><th title = \"String15\" style = \"text-align: left;\">String15</th><th title = \"Float64\" style = \"text-align: left;\">Float64</th></tr></thead><tbody><tr><td class = \"rowNumber\" style = \"font-weight: bold; text-align: right;\">1</td><td style = \"text-align: left;\">voiture_deux_places</td><td style = \"text-align: right;\">8</td><td style = \"text-align: right;\">5.0</td><td style = \"text-align: left;\">integrale</td><td style = \"text-align: left;\">automatique</td><td style = \"text-align: right;\">13.0672</td></tr><tr><td class = \"rowNumber\" style = \"font-weight: bold; text-align: right;\">2</td><td style = \"text-align: left;\">voiture_deux_places</td><td style = \"text-align: right;\">6</td><td style = \"text-align: right;\">3.0</td><td style = \"text-align: left;\">propulsion</td><td style = \"text-align: left;\">automatique</td><td style = \"text-align: right;\">10.5223</td></tr><tr><td class = \"rowNumber\" style = \"font-weight: bold; text-align: right;\">3</td><td style = \"text-align: left;\">voiture_deux_places</td><td style = \"text-align: right;\">6</td><td style = \"text-align: right;\">3.0</td><td style = \"text-align: left;\">integrale</td><td style = \"text-align: left;\">automatique</td><td style = \"text-align: right;\">11.2005</td></tr><tr><td class = \"rowNumber\" style = \"font-weight: bold; text-align: right;\">4</td><td style = \"text-align: left;\">voiture_deux_places</td><td style = \"text-align: right;\">8</td><td style = \"text-align: right;\">4.2</td><td style = \"text-align: left;\">integrale</td><td style = \"text-align: left;\">automatique</td><td style = \"text-align: right;\">13.8359</td></tr><tr><td class = \"rowNumber\" style = \"font-weight: bold; text-align: right;\">5</td><td style = \"text-align: left;\">voiture_deux_places</td><td style = \"text-align: right;\">10</td><td style = \"text-align: right;\">5.2</td><td style = \"text-align: left;\">integrale</td><td style = \"text-align: left;\">automatique</td><td style = \"text-align: right;\">14.4124</td></tr><tr><td class = \"rowNumber\" style = \"font-weight: bold; text-align: right;\">6</td><td style = \"text-align: left;\">voiture_deux_places</td><td style = \"text-align: right;\">4</td><td style = \"text-align: right;\">2.0</td><td style = \"text-align: left;\">propulsion</td><td style = \"text-align: left;\">automatique</td><td style = \"text-align: right;\">9.04654</td></tr><tr><td class = \"rowNumber\" style = \"font-weight: bold; text-align: right;\">7</td><td style = \"text-align: left;\">voiture_deux_places</td><td style = \"text-align: right;\">8</td><td style = \"text-align: right;\">5.0</td><td style = \"text-align: left;\">propulsion</td><td style = \"text-align: left;\">automatique</td><td style = \"text-align: right;\">12.6546</td></tr><tr><td class = \"rowNumber\" style = \"font-weight: bold; text-align: right;\">8</td><td style = \"text-align: left;\">voiture_deux_places</td><td style = \"text-align: right;\">6</td><td style = \"text-align: right;\">3.0</td><td style = \"text-align: left;\">propulsion</td><td style = \"text-align: left;\">manuelle</td><td style = \"text-align: right;\">12.838</td></tr><tr><td class = \"rowNumber\" style = \"font-weight: bold; text-align: right;\">9</td><td style = \"text-align: left;\">voiture_deux_places</td><td style = \"text-align: right;\">8</td><td style = \"text-align: right;\">6.2</td><td style = \"text-align: left;\">propulsion</td><td style = \"text-align: left;\">manuelle</td><td style = \"text-align: right;\">13.1077</td></tr><tr><td class = \"rowNumber\" style = \"font-weight: bold; text-align: right;\">10</td><td style = \"text-align: left;\">voiture_deux_places</td><td style = \"text-align: right;\">4</td><td style = \"text-align: right;\">2.0</td><td style = \"text-align: left;\">integrale</td><td style = \"text-align: left;\">automatique</td><td style = \"text-align: right;\">9.04654</td></tr><tr><td class = \"rowNumber\" style = \"font-weight: bold; text-align: right;\">11</td><td style = \"text-align: left;\">voiture_deux_places</td><td style = \"text-align: right;\">8</td><td style = \"text-align: right;\">6.2</td><td style = \"text-align: left;\">propulsion</td><td style = \"text-align: left;\">automatique</td><td style = \"text-align: right;\">15.6807</td></tr></tbody></table></div>"
      ],
      "text/latex": [
       "\\begin{tabular}{r|cccccc}\n",
       "\t& type & nombre\\_cylindres & cylindree & transmission & boite & consommation\\\\\n",
       "\t\\hline\n",
       "\t& Abstract… & Int64 & Float64 & String15 & String15 & Float64\\\\\n",
       "\t\\hline\n",
       "\t1 & voiture\\_deux\\_places & 8 & 5.0 & integrale & automatique & 13.0672 \\\\\n",
       "\t2 & voiture\\_deux\\_places & 6 & 3.0 & propulsion & automatique & 10.5223 \\\\\n",
       "\t3 & voiture\\_deux\\_places & 6 & 3.0 & integrale & automatique & 11.2005 \\\\\n",
       "\t4 & voiture\\_deux\\_places & 8 & 4.2 & integrale & automatique & 13.8359 \\\\\n",
       "\t5 & voiture\\_deux\\_places & 10 & 5.2 & integrale & automatique & 14.4124 \\\\\n",
       "\t6 & voiture\\_deux\\_places & 4 & 2.0 & propulsion & automatique & 9.04654 \\\\\n",
       "\t7 & voiture\\_deux\\_places & 8 & 5.0 & propulsion & automatique & 12.6546 \\\\\n",
       "\t8 & voiture\\_deux\\_places & 6 & 3.0 & propulsion & manuelle & 12.838 \\\\\n",
       "\t9 & voiture\\_deux\\_places & 8 & 6.2 & propulsion & manuelle & 13.1077 \\\\\n",
       "\t10 & voiture\\_deux\\_places & 4 & 2.0 & integrale & automatique & 9.04654 \\\\\n",
       "\t11 & voiture\\_deux\\_places & 8 & 6.2 & propulsion & automatique & 15.6807 \\\\\n",
       "\\end{tabular}\n"
      ],
      "text/plain": [
       "\u001b[1m11×6 DataFrame\u001b[0m\n",
       "\u001b[1m Row \u001b[0m│\u001b[1m type                \u001b[0m\u001b[1m nombre_cylindres \u001b[0m\u001b[1m cylindree \u001b[0m\u001b[1m transmission \u001b[0m\u001b[1m boite  \u001b[0m ⋯\n",
       "     │\u001b[90m Abstract…           \u001b[0m\u001b[90m Int64            \u001b[0m\u001b[90m Float64   \u001b[0m\u001b[90m String15     \u001b[0m\u001b[90m String1\u001b[0m ⋯\n",
       "─────┼──────────────────────────────────────────────────────────────────────────\n",
       "   1 │ voiture_deux_places                 8        5.0  integrale     automat ⋯\n",
       "   2 │ voiture_deux_places                 6        3.0  propulsion    automat\n",
       "   3 │ voiture_deux_places                 6        3.0  integrale     automat\n",
       "   4 │ voiture_deux_places                 8        4.2  integrale     automat\n",
       "   5 │ voiture_deux_places                10        5.2  integrale     automat ⋯\n",
       "   6 │ voiture_deux_places                 4        2.0  propulsion    automat\n",
       "   7 │ voiture_deux_places                 8        5.0  propulsion    automat\n",
       "   8 │ voiture_deux_places                 6        3.0  propulsion    manuell\n",
       "   9 │ voiture_deux_places                 8        6.2  propulsion    manuell ⋯\n",
       "  10 │ voiture_deux_places                 4        2.0  integrale     automat\n",
       "  11 │ voiture_deux_places                 8        6.2  propulsion    automat\n",
       "\u001b[36m                                                               2 columns omitted\u001b[0m"
      ]
     },
     "execution_count": 6288,
     "metadata": {},
     "output_type": "execute_result"
    }
   ],
   "source": [
    "uniqueD = get_unique_data(trainData, COLUMNS_TO_COMPARE_1)\n",
    "uniqueD[ uniqueD.type .== \"voiture_deux_places\", : ]\n",
    "\n",
    "#sort(trainData, :consommation, rev=true)\n",
    "\n",
    "#essayer, plutot que d'enlever une colonne automatiquement, essayer de réduire le nb d'états possibles, ex : integrale => propulsion "
   ]
  },
  {
   "cell_type": "code",
   "execution_count": 6289,
   "metadata": {},
   "outputs": [
    {
     "data": {
      "text/plain": [
       "9-element Vector{Int64}:\n",
       "  10\n",
       "  11\n",
       "  39\n",
       "  45\n",
       "  49\n",
       "  72\n",
       "  98\n",
       " 112\n",
       " 132"
      ]
     },
     "execution_count": 6289,
     "metadata": {},
     "output_type": "execute_result"
    }
   ],
   "source": [
    "differentIds = [10\n",
    "11\n",
    "39\n",
    "45\n",
    "49\n",
    "72\n",
    "98\n",
    "112\n",
    "132]"
   ]
  },
  {
   "cell_type": "code",
   "execution_count": 6290,
   "metadata": {},
   "outputs": [
    {
     "data": {
      "text/html": [
       "<div><div style = \"float: left;\"><span>4×2 DataFrame</span></div><div style = \"clear: both;\"></div></div><div class = \"data-frame\" style = \"overflow-x: scroll;\"><table class = \"data-frame\" style = \"margin-bottom: 6px;\"><thead><tr class = \"header\"><th class = \"rowNumber\" style = \"font-weight: bold; text-align: right;\">Row</th><th style = \"text-align: left;\">id</th><th style = \"text-align: left;\">consommation</th></tr><tr class = \"subheader headerLastRow\"><th class = \"rowNumber\" style = \"font-weight: bold; text-align: right;\"></th><th title = \"Int64\" style = \"text-align: left;\">Int64</th><th title = \"Float64\" style = \"text-align: left;\">Float64</th></tr></thead><tbody><tr><td class = \"rowNumber\" style = \"font-weight: bold; text-align: right;\">1</td><td style = \"text-align: right;\">57</td><td style = \"text-align: right;\">11.2005</td></tr><tr><td class = \"rowNumber\" style = \"font-weight: bold; text-align: right;\">2</td><td style = \"text-align: right;\">99</td><td style = \"text-align: right;\">11.2005</td></tr><tr><td class = \"rowNumber\" style = \"font-weight: bold; text-align: right;\">3</td><td style = \"text-align: right;\">109</td><td style = \"text-align: right;\">11.2005</td></tr><tr><td class = \"rowNumber\" style = \"font-weight: bold; text-align: right;\">4</td><td style = \"text-align: right;\">119</td><td style = \"text-align: right;\">11.2005</td></tr></tbody></table></div>"
      ],
      "text/latex": [
       "\\begin{tabular}{r|cc}\n",
       "\t& id & consommation\\\\\n",
       "\t\\hline\n",
       "\t& Int64 & Float64\\\\\n",
       "\t\\hline\n",
       "\t1 & 57 & 11.2005 \\\\\n",
       "\t2 & 99 & 11.2005 \\\\\n",
       "\t3 & 109 & 11.2005 \\\\\n",
       "\t4 & 119 & 11.2005 \\\\\n",
       "\\end{tabular}\n"
      ],
      "text/plain": [
       "\u001b[1m4×2 DataFrame\u001b[0m\n",
       "\u001b[1m Row \u001b[0m│\u001b[1m id    \u001b[0m\u001b[1m consommation \u001b[0m\n",
       "     │\u001b[90m Int64 \u001b[0m\u001b[90m Float64      \u001b[0m\n",
       "─────┼─────────────────────\n",
       "   1 │    57       11.2005\n",
       "   2 │    99       11.2005\n",
       "   3 │   109       11.2005\n",
       "   4 │   119       11.2005"
      ]
     },
     "execution_count": 6290,
     "metadata": {},
     "output_type": "execute_result"
    }
   ],
   "source": [
    "idProblematiques = [57\t\n",
    "99\t\n",
    "109\t\n",
    "119]\n",
    "\n",
    "testData[idProblematiques, :]\n",
    "out[idProblematiques, :]"
   ]
  }
 ],
 "metadata": {
  "kernelspec": {
   "display_name": "Julia 1.10.5",
   "language": "julia",
   "name": "julia-1.10"
  },
  "language_info": {
   "file_extension": ".jl",
   "mimetype": "application/julia",
   "name": "julia",
   "version": "1.10.5"
  }
 },
 "nbformat": 4,
 "nbformat_minor": 2
}
