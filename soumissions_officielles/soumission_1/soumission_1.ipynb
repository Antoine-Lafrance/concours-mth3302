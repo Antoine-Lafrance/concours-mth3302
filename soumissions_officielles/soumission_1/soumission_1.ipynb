{
 "cells": [
  {
   "cell_type": "markdown",
   "metadata": {},
   "source": [
    "# MTH3302 - Méthodes probabilistes et statistiques pour I.A.\n",
    "#### Polytechnique Montréal\n",
    "### Projet A2024\n",
    "----\n",
    "Équipe T - TODO\n",
    "### Objectif\n",
    "Prédiction de **la consommation en carburant de voitures récentes**.\n",
    "\n",
    "### Données\n",
    "Le jeu de données contient pour presque 400 véhicule, la consommation moyenne en L/100km, l'année de frabrication, le type de véhicule, le nombre de cylindre, cylindree, la transmission et la boite.\n",
    "\n",
    "- `train.csv` est l'ensemble d'entraînement\n",
    "- `test.csv` est l'ensemble de test\n"
   ]
  },
  {
   "cell_type": "markdown",
   "metadata": {},
   "source": [
    "## Chargement des données"
   ]
  },
  {
   "cell_type": "markdown",
   "metadata": {},
   "source": [
    "Importation des librairies utilisées dans le calepin."
   ]
  },
  {
   "cell_type": "markdown",
   "metadata": {},
   "source": [
    "// TODO: à enlever à la fin:\n",
    "\n",
    "Pour importer librairies:\n",
    "using Pkg\n",
    "Pkg.add([\"CSV\", \"DataFrames\", \"Combinatorics\", \"Gadfly\", \"Distributions\"], ...)"
   ]
  },
  {
   "cell_type": "code",
   "execution_count": 894,
   "metadata": {},
   "outputs": [],
   "source": [
    "# using CSV, DataFrames, Statistics, Dates, Gadfly, LinearAlgebra"
   ]
  },
  {
   "cell_type": "code",
   "execution_count": 895,
   "metadata": {},
   "outputs": [
    {
     "data": {
      "text/plain": [
       "standardize_data (generic function with 1 method)"
      ]
     },
     "execution_count": 895,
     "metadata": {},
     "output_type": "execute_result"
    }
   ],
   "source": [
    "function standardize(data)\n",
    "    return (data .- mean(data)) ./ std(data)\n",
    "end\n",
    "\n",
    "function standardize_data(data)\n",
    "    stddata = deepcopy(data)\n",
    "   for col in names(stddata)\n",
    "        if eltype(stddata[!, col]) <: Number\n",
    "            stddata[!, col] = standardize(stddata[!, col])\n",
    "        end\n",
    "    end\n",
    "    return stddata\n",
    "end"
   ]
  },
  {
   "cell_type": "code",
   "execution_count": 896,
   "metadata": {},
   "outputs": [
    {
     "data": {
      "text/plain": [
       "encode_data (generic function with 2 methods)"
      ]
     },
     "execution_count": 896,
     "metadata": {},
     "output_type": "execute_result"
    }
   ],
   "source": [
    "function encode(data, column)\n",
    "    for c in unique(data[!, column])\n",
    "        data[!, Symbol(c)] = ifelse.(data[!, column] .== c, 1, 0)\n",
    "    end\n",
    "    return data\n",
    "end\n",
    "\n",
    "function encode_data(data)\n",
    "    encoded_data = deepcopy(data)\n",
    "    encoded_data = encode(encoded_data, :type)\n",
    "    encoded_data = encode(encoded_data, :transmission)\n",
    "    encoded_data = encode(encoded_data, :boite)\n",
    "    return encoded_data\n",
    "end"
   ]
  },
  {
   "cell_type": "code",
   "execution_count": 897,
   "metadata": {},
   "outputs": [],
   "source": [
    "# faire une méthode pour les outliers\n",
    "\n",
    "# code pas tester:\n",
    "# function remove_outliers(data)\n",
    "#     return data[(abs.(zscore(data)) .< 3) .| isnan.(zscore(data)), :]\n",
    "# end"
   ]
  },
  {
   "cell_type": "code",
   "execution_count": 898,
   "metadata": {},
   "outputs": [
    {
     "data": {
      "text/plain": [
       "removeRows (generic function with 1 method)"
      ]
     },
     "execution_count": 898,
     "metadata": {},
     "output_type": "execute_result"
    }
   ],
   "source": [
    "function removeRows(data)\n",
    "    return select!(data, Not([:type, :transmission, :boite]))\n",
    "    # return select!(data, Not([:annee]))\n",
    "end"
   ]
  },
  {
   "cell_type": "code",
   "execution_count": 899,
   "metadata": {},
   "outputs": [
    {
     "data": {
      "text/plain": [
       "getStandardEncodedData (generic function with 1 method)"
      ]
     },
     "execution_count": 899,
     "metadata": {},
     "output_type": "execute_result"
    }
   ],
   "source": [
    "function getStandardEncodedData(data)\n",
    "    data_copy = deepcopy(data)\n",
    "    standardised_data = standardize_data(data_copy)\n",
    "    standardised_data = encode_data(standardised_data,)\n",
    "    standardised_data = removeRows(standardised_data)\n",
    "    \n",
    "    return standardised_data\n",
    "end\n",
    "\n",
    "\n"
   ]
  },
  {
   "cell_type": "code",
   "execution_count": 900,
   "metadata": {},
   "outputs": [
    {
     "data": {
      "text/plain": [
       "rmse (generic function with 1 method)"
      ]
     },
     "execution_count": 900,
     "metadata": {},
     "output_type": "execute_result"
    }
   ],
   "source": [
    "function rmse(y, ychap)\n",
    "    return sqrt(mean((ychap .- y).^2))\n",
    "end\n"
   ]
  },
  {
   "cell_type": "code",
   "execution_count": 901,
   "metadata": {},
   "outputs": [
    {
     "data": {
      "text/plain": [
       "rsquared (generic function with 1 method)"
      ]
     },
     "execution_count": 901,
     "metadata": {},
     "output_type": "execute_result"
    }
   ],
   "source": [
    "function rsquared(y, ychap)\n",
    "    ss_total = sum((y .- mean(y)).^2)\n",
    "    ss_res = sum((y .- ychap).^2)\n",
    "    return ss_res / ss_total\n",
    "end\n"
   ]
  },
  {
   "cell_type": "code",
   "execution_count": 902,
   "metadata": {},
   "outputs": [
    {
     "data": {
      "text/plain": [
       "split_data (generic function with 1 method)"
      ]
     },
     "execution_count": 902,
     "metadata": {},
     "output_type": "execute_result"
    }
   ],
   "source": [
    "function split_data(data,k)\n",
    "    n = size(data, 1)\n",
    "    validation_size = floor(Int, n * k)\n",
    "\n",
    "    validation_indices = rand(1:n, validation_size)  \n",
    "    \n",
    "    validation_data = data[validation_indices, :]\n",
    "    training_data = data[setdiff(1:n, validation_indices), :]\n",
    "    \n",
    "    return training_data, validation_data\n",
    "end"
   ]
  },
  {
   "cell_type": "code",
   "execution_count": 903,
   "metadata": {},
   "outputs": [
    {
     "data": {
      "text/plain": [
       "regression (generic function with 3 methods)"
      ]
     },
     "execution_count": 903,
     "metadata": {},
     "output_type": "execute_result"
    }
   ],
   "source": [
    "function regression(standardised_data, trainTestSplitPercentage)\n",
    "    training_data, test_data = split_data(standardised_data, trainTestSplitPercentage)\n",
    "    X_train =  Matrix(training_data[:, Not(:consommation)])\n",
    "    y_train = training_data[:, :consommation]\n",
    "\n",
    "    beta = X_train \\ y_train\n",
    "\n",
    "    rmseval = 0.0\n",
    "    if trainTestSplitPercentage != 0.0\n",
    "        X_test = Matrix(test_data[:, Not(:consommation)])\n",
    "        y_test = test_data[:, :consommation]\n",
    "        ychap =  X_test * beta\n",
    "        ychap = (ychap .* COMSOMMATION_STD) .+ COMSOMMATION_MEAN\n",
    "        y_test = (y_test .* COMSOMMATION_STD) .+ COMSOMMATION_MEAN\n",
    "        # print(\"regression\\n\")\n",
    "        # print(\"r2 = \", rsquared(y_test, ychap), \"\\n\")\n",
    "        rmseval = rmse(y_test, ychap)\n",
    "        # print(\"rmse = \", rmseval , \"\\n\\n\")\n",
    "    end\n",
    "    \n",
    "    return rmseval, beta\n",
    "end\n"
   ]
  },
  {
   "cell_type": "code",
   "execution_count": 904,
   "metadata": {},
   "outputs": [
    {
     "data": {
      "text/plain": [
       "ridge_regression (generic function with 2 methods)"
      ]
     },
     "execution_count": 904,
     "metadata": {},
     "output_type": "execute_result"
    }
   ],
   "source": [
    "function ridge_regression(standardised_data, lambda, trainTestSplitPercentage)\n",
    "    training_data, test_data = split_data(standardised_data, trainTestSplitPercentage)\n",
    "    X_train = Matrix(training_data[:, Not([:consommation])])\n",
    "    y_train = training_data[:, :consommation]\n",
    "    beta = (X_train'X_train + lambda*I)\\X_train'y_train\n",
    "\n",
    "    rmseval = 0.0\n",
    "    if trainTestSplitPercentage != 0.0\n",
    "        X_test = Matrix(test_data[:, Not(:consommation)])\n",
    "        y_test = test_data[:, :consommation]\n",
    "        ychap =  X_test * beta\n",
    "        ychap = (ychap .* COMSOMMATION_STD) .+ COMSOMMATION_MEAN\n",
    "        y_test = (y_test .* COMSOMMATION_STD) .+ COMSOMMATION_MEAN\n",
    "        # print(\"ridge: \\n\")\n",
    "        # print(\"r2 = \", rsquared(y_test, ychap), \"\\n\")\n",
    "        rmseval = rmse(y_test, ychap)\n",
    "        # print(\"rmse = \", rmseval , \"\\n\\n\")\n",
    "    end\n",
    "    return rmseval, beta\n",
    "end"
   ]
  },
  {
   "cell_type": "code",
   "execution_count": 905,
   "metadata": {},
   "outputs": [
    {
     "data": {
      "text/plain": [
       "svd_regression (generic function with 2 methods)"
      ]
     },
     "execution_count": 905,
     "metadata": {},
     "output_type": "execute_result"
    }
   ],
   "source": [
    "# pas tester: (aucune idee si ca marche)\n",
    "\n",
    "function svd_regression(standardised_data, trainTestSplitPercentage)\n",
    "    training_data, test_data = split_data(standardised_data, trainTestSplitPercentage)\n",
    "    X_train = Matrix(training_data[:, Not([:consommation])])\n",
    "    y_train = training_data[:, :consommation]\n",
    "    \n",
    "    U, S, V = svd(X_train)\n",
    "\n",
    "    # beta = V * (Diagonal(1 ./ S) * U' * y_train)\n",
    "\n",
    "    beta = V' * Diagonal([s > 1e-10 ? 1/s : 0 for s in S]) * U' * y_train\n",
    "\n",
    "    rmseval = 0.0\n",
    "    if trainTestSplitPercentage != 0.0\n",
    "        X_test = Matrix(test_data[:, Not(:consommation)])\n",
    "        y_test = test_data[:, :consommation]\n",
    "        ychap =  X_test * beta\n",
    "        ychap = (ychap .* COMSOMMATION_STD) .+ COMSOMMATION_MEAN\n",
    "        y_test = (y_test .* COMSOMMATION_STD) .+ COMSOMMATION_MEAN\n",
    "        # print(\"regression\\n\")\n",
    "        # print(\"r2 = \", rsquared(y_test, ychap), \"\\n\")\n",
    "        rmseval = rmse(y_test, ychap)\n",
    "        # print(\"rmse = \", rmseval , \"\\n\\n\")\n",
    "    end\n",
    "    return rmseval,beta\n",
    "end"
   ]
  },
  {
   "cell_type": "code",
   "execution_count": 906,
   "metadata": {},
   "outputs": [
    {
     "data": {
      "text/html": [
       "<div><div style = \"float: left;\"><span>1×6 DataFrame</span></div><div style = \"clear: both;\"></div></div><div class = \"data-frame\" style = \"overflow-x: scroll;\"><table class = \"data-frame\" style = \"margin-bottom: 6px;\"><thead><tr class = \"header\"><th class = \"rowNumber\" style = \"font-weight: bold; text-align: right;\">Row</th><th style = \"text-align: left;\">annee</th><th style = \"text-align: left;\">type</th><th style = \"text-align: left;\">nombre_cylindres</th><th style = \"text-align: left;\">cylindree</th><th style = \"text-align: left;\">transmission</th><th style = \"text-align: left;\">boite</th></tr><tr class = \"subheader headerLastRow\"><th class = \"rowNumber\" style = \"font-weight: bold; text-align: right;\"></th><th title = \"Int64\" style = \"text-align: left;\">Int64</th><th title = \"String31\" style = \"text-align: left;\">String31</th><th title = \"Int64\" style = \"text-align: left;\">Int64</th><th title = \"String3\" style = \"text-align: left;\">String3</th><th title = \"String15\" style = \"text-align: left;\">String15</th><th title = \"String15\" style = \"text-align: left;\">String15</th></tr></thead><tbody><tr><td class = \"rowNumber\" style = \"font-weight: bold; text-align: right;\">1</td><td style = \"text-align: right;\">2014</td><td style = \"text-align: left;\">voiture_moyenne</td><td style = \"text-align: right;\">4</td><td style = \"text-align: left;\">2,5</td><td style = \"text-align: left;\">traction</td><td style = \"text-align: left;\">manuelle</td></tr></tbody></table></div>"
      ],
      "text/latex": [
       "\\begin{tabular}{r|cccccc}\n",
       "\t& annee & type & nombre\\_cylindres & cylindree & transmission & boite\\\\\n",
       "\t\\hline\n",
       "\t& Int64 & String31 & Int64 & String3 & String15 & String15\\\\\n",
       "\t\\hline\n",
       "\t1 & 2014 & voiture\\_moyenne & 4 & 2,5 & traction & manuelle \\\\\n",
       "\\end{tabular}\n"
      ],
      "text/plain": [
       "\u001b[1m1×6 DataFrame\u001b[0m\n",
       "\u001b[1m Row \u001b[0m│\u001b[1m annee \u001b[0m\u001b[1m type            \u001b[0m\u001b[1m nombre_cylindres \u001b[0m\u001b[1m cylindree \u001b[0m\u001b[1m transmission \u001b[0m\u001b[1m boit\u001b[0m ⋯\n",
       "     │\u001b[90m Int64 \u001b[0m\u001b[90m String31        \u001b[0m\u001b[90m Int64            \u001b[0m\u001b[90m String3   \u001b[0m\u001b[90m String15     \u001b[0m\u001b[90m Stri\u001b[0m ⋯\n",
       "─────┼──────────────────────────────────────────────────────────────────────────\n",
       "   1 │  2014  voiture_moyenne                 4  2,5        traction      manu ⋯\n",
       "\u001b[36m                                                                1 column omitted\u001b[0m"
      ]
     },
     "execution_count": 906,
     "metadata": {},
     "output_type": "execute_result"
    }
   ],
   "source": [
    "trainData = CSV.read(\"./data/train.csv\", DataFrame)\n",
    "testData = CSV.read(\"./data/test.csv\", DataFrame)\n",
    "first(testData, 1)"
   ]
  },
  {
   "cell_type": "code",
   "execution_count": 907,
   "metadata": {},
   "outputs": [
    {
     "data": {
      "text/plain": [
       "150-element Vector{Float64}:\n",
       " 2.5\n",
       " 2.5\n",
       " 2.5\n",
       " 2.0\n",
       " 5.8\n",
       " 5.0\n",
       " 5.0\n",
       " 2.4\n",
       " 3.5\n",
       " 5.2\n",
       " 5.2\n",
       " 5.9\n",
       " 2.0\n",
       " ⋮\n",
       " 1.6\n",
       " 3.3\n",
       " 5.0\n",
       " 2.0\n",
       " 2.0\n",
       " 1.6\n",
       " 2.0\n",
       " 2.0\n",
       " 3.0\n",
       " 3.0\n",
       " 1.5\n",
       " 2.0"
      ]
     },
     "execution_count": 907,
     "metadata": {},
     "output_type": "execute_result"
    }
   ],
   "source": [
    "trainData.consommation = parse.(Float64,replace.(trainData.consommation, \",\" => \".\"))\n",
    "trainData.cylindree = parse.(Float64,replace.(trainData.cylindree, \",\" => \".\"))\n",
    "testData.cylindree = parse.(Float64,replace.(testData.cylindree, \",\" => \".\"))\n"
   ]
  },
  {
   "cell_type": "code",
   "execution_count": 908,
   "metadata": {},
   "outputs": [
    {
     "data": {
      "text/plain": [
       "2.139763088813657"
      ]
     },
     "execution_count": 908,
     "metadata": {},
     "output_type": "execute_result"
    }
   ],
   "source": [
    "# trainData[!,:volume_gaz] = trainData[!,:nombre_cylindres] .* trainData[!,:cylindree]\n",
    "# testData[!,:volume_gaz] = testData[!,:nombre_cylindres] .* testData[!,:cylindree]\n",
    "first(trainData, 1)\n",
    "COMSOMMATION_MEAN = mean(trainData.consommation)\n",
    "COMSOMMATION_STD = std(trainData.consommation)\n"
   ]
  },
  {
   "cell_type": "code",
   "execution_count": 909,
   "metadata": {},
   "outputs": [
    {
     "name": "stdout",
     "output_type": "stream",
     "text": [
      "average rmse for regression: 0.9245877785596989\n",
      "average rmse for ridge: 0.9308869111347702\n",
      "average rmse for svd: 3.0504435799490306\n"
     ]
    }
   ],
   "source": [
    "data = getStandardEncodedData(trainData)\n",
    "nrange = 1000\n",
    "n = 0\n",
    "for i in range(0, 1, length=nrange)\n",
    "    n += regression(data, 0.05)[1]\n",
    "end\n",
    "print(\"average rmse for regression: \", n/nrange, \"\\n\")\n",
    "\n",
    "n = 0\n",
    "for i in range(0, 1, length=nrange)\n",
    "    n += ridge_regression(data, 0.1, 0.05)[1]\n",
    "end\n",
    "print(\"average rmse for ridge: \", n/nrange, \"\\n\")\n",
    "\n",
    "n = 0\n",
    "for i in range(0, 1, length=nrange)\n",
    "    n += svd_regression(data, 0.05)[1]\n",
    "end\n",
    "print(\"average rmse for svd: \", n/nrange, \"\\n\")\n"
   ]
  },
  {
   "cell_type": "code",
   "execution_count": 916,
   "metadata": {},
   "outputs": [
    {
     "data": {
      "text/plain": [
       "\"./soumissions_potentielles/benchmark_2024-11-25_20-08-08.csv\""
      ]
     },
     "execution_count": 916,
     "metadata": {},
     "output_type": "execute_result"
    }
   ],
   "source": [
    "test_data = getStandardEncodedData(testData)\n",
    "beta = ridge_regression(data, 10, 0.0)[2]\n",
    "X_test = Matrix(test_data)\n",
    "ychap =  X_test * beta\n",
    "\n",
    "ychap = (ychap .* COMSOMMATION_STD) .+ COMSOMMATION_MEAN\n",
    "# # print(ychap)\n",
    "id = 1:150\n",
    "df_pred = DataFrame(id=id, consommation=ychap)\n",
    "\n",
    "using Dates\n",
    "current_time = Dates.format(now(), \"yyyy-mm-dd_HH-MM-SS\")\n",
    "file_name = \"benchmark_\" * current_time * \".csv\"\n",
    "CSV.write(\"./soumissions_potentielles/\" *file_name, df_pred)"
   ]
  },
  {
   "cell_type": "code",
   "execution_count": 911,
   "metadata": {},
   "outputs": [],
   "source": [
    "# for type in unique(trainData.type)\n",
    "#     println(type)\n",
    "#     data_type = trainData[trainData.type .== type, :]\n",
    "#     println(combine(groupby(data_type, :transmission), :consommation => mean, :volume_gaz => mean, nrow => :nrow))\n",
    "#     println()\n",
    "# end"
   ]
  },
  {
   "cell_type": "code",
   "execution_count": 912,
   "metadata": {},
   "outputs": [],
   "source": [
    "# for type in unique(trainData.type)\n",
    "#     println(type)\n",
    "#     data_type = trainData[trainData.type .== type, :]\n",
    "#     display(plot(x=data_type.volume_gaz, y=data_type.consommation))\n",
    "#     println()\n",
    "# end"
   ]
  },
  {
   "cell_type": "markdown",
   "metadata": {},
   "source": [
    "## Exploration des données"
   ]
  }
 ],
 "metadata": {
  "kernelspec": {
   "display_name": "Julia 1.10.5",
   "language": "julia",
   "name": "julia-1.10"
  },
  "language_info": {
   "file_extension": ".jl",
   "mimetype": "application/julia",
   "name": "julia",
   "version": "1.10.5"
  }
 },
 "nbformat": 4,
 "nbformat_minor": 2
}
