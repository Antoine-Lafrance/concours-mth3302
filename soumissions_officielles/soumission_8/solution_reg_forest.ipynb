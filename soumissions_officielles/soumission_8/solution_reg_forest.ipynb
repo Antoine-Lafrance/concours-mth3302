{
 "cells": [
  {
   "cell_type": "code",
   "execution_count": 126,
   "metadata": {},
   "outputs": [],
   "source": [
    "using CSV, DataFrames, Statistics, Dates, Plots, LinearAlgebra, DecisionTree"
   ]
  },
  {
   "cell_type": "code",
   "execution_count": 127,
   "metadata": {},
   "outputs": [
    {
     "data": {
      "text/html": [
       "<div><div style = \"float: left;\"><span>5×6 DataFrame</span></div><div style = \"clear: both;\"></div></div><div class = \"data-frame\" style = \"overflow-x: scroll;\"><table class = \"data-frame\" style = \"margin-bottom: 6px;\"><thead><tr class = \"header\"><th class = \"rowNumber\" style = \"font-weight: bold; text-align: right;\">Row</th><th style = \"text-align: left;\">annee</th><th style = \"text-align: left;\">type</th><th style = \"text-align: left;\">nombre_cylindres</th><th style = \"text-align: left;\">cylindree</th><th style = \"text-align: left;\">transmission</th><th style = \"text-align: left;\">boite</th></tr><tr class = \"subheader headerLastRow\"><th class = \"rowNumber\" style = \"font-weight: bold; text-align: right;\"></th><th title = \"Int64\" style = \"text-align: left;\">Int64</th><th title = \"String31\" style = \"text-align: left;\">String31</th><th title = \"Int64\" style = \"text-align: left;\">Int64</th><th title = \"String3\" style = \"text-align: left;\">String3</th><th title = \"String15\" style = \"text-align: left;\">String15</th><th title = \"String15\" style = \"text-align: left;\">String15</th></tr></thead><tbody><tr><td class = \"rowNumber\" style = \"font-weight: bold; text-align: right;\">1</td><td style = \"text-align: right;\">2014</td><td style = \"text-align: left;\">voiture_moyenne</td><td style = \"text-align: right;\">4</td><td style = \"text-align: left;\">2,5</td><td style = \"text-align: left;\">traction</td><td style = \"text-align: left;\">manuelle</td></tr><tr><td class = \"rowNumber\" style = \"font-weight: bold; text-align: right;\">2</td><td style = \"text-align: right;\">2014</td><td style = \"text-align: left;\">voiture_moyenne</td><td style = \"text-align: right;\">4</td><td style = \"text-align: left;\">2,5</td><td style = \"text-align: left;\">traction</td><td style = \"text-align: left;\">automatique</td></tr><tr><td class = \"rowNumber\" style = \"font-weight: bold; text-align: right;\">3</td><td style = \"text-align: right;\">2014</td><td style = \"text-align: left;\">VUS_petit</td><td style = \"text-align: right;\">4</td><td style = \"text-align: left;\">2,5</td><td style = \"text-align: left;\">traction</td><td style = \"text-align: left;\">automatique</td></tr><tr><td class = \"rowNumber\" style = \"font-weight: bold; text-align: right;\">4</td><td style = \"text-align: right;\">2014</td><td style = \"text-align: left;\">VUS_petit</td><td style = \"text-align: right;\">4</td><td style = \"text-align: left;\">2</td><td style = \"text-align: left;\">4x4</td><td style = \"text-align: left;\">automatique</td></tr><tr><td class = \"rowNumber\" style = \"font-weight: bold; text-align: right;\">5</td><td style = \"text-align: right;\">2014</td><td style = \"text-align: left;\">voiture_sous_compacte</td><td style = \"text-align: right;\">8</td><td style = \"text-align: left;\">5,8</td><td style = \"text-align: left;\">propulsion</td><td style = \"text-align: left;\">manuelle</td></tr></tbody></table></div>"
      ],
      "text/latex": [
       "\\begin{tabular}{r|cccccc}\n",
       "\t& annee & type & nombre\\_cylindres & cylindree & transmission & boite\\\\\n",
       "\t\\hline\n",
       "\t& Int64 & String31 & Int64 & String3 & String15 & String15\\\\\n",
       "\t\\hline\n",
       "\t1 & 2014 & voiture\\_moyenne & 4 & 2,5 & traction & manuelle \\\\\n",
       "\t2 & 2014 & voiture\\_moyenne & 4 & 2,5 & traction & automatique \\\\\n",
       "\t3 & 2014 & VUS\\_petit & 4 & 2,5 & traction & automatique \\\\\n",
       "\t4 & 2014 & VUS\\_petit & 4 & 2 & 4x4 & automatique \\\\\n",
       "\t5 & 2014 & voiture\\_sous\\_compacte & 8 & 5,8 & propulsion & manuelle \\\\\n",
       "\\end{tabular}\n"
      ],
      "text/plain": [
       "\u001b[1m5×6 DataFrame\u001b[0m\n",
       "\u001b[1m Row \u001b[0m│\u001b[1m annee \u001b[0m\u001b[1m type                  \u001b[0m\u001b[1m nombre_cylindres \u001b[0m\u001b[1m cylindree \u001b[0m\u001b[1m transmission\u001b[0m ⋯\n",
       "     │\u001b[90m Int64 \u001b[0m\u001b[90m String31              \u001b[0m\u001b[90m Int64            \u001b[0m\u001b[90m String3   \u001b[0m\u001b[90m String15    \u001b[0m ⋯\n",
       "─────┼──────────────────────────────────────────────────────────────────────────\n",
       "   1 │  2014  voiture_moyenne                       4  2,5        traction     ⋯\n",
       "   2 │  2014  voiture_moyenne                       4  2,5        traction\n",
       "   3 │  2014  VUS_petit                             4  2,5        traction\n",
       "   4 │  2014  VUS_petit                             4  2          4x4\n",
       "   5 │  2014  voiture_sous_compacte                 8  5,8        propulsion   ⋯\n",
       "\u001b[36m                                                                1 column omitted\u001b[0m"
      ]
     },
     "execution_count": 127,
     "metadata": {},
     "output_type": "execute_result"
    }
   ],
   "source": [
    "trainData = CSV.read(\"../../data/train.csv\", DataFrame)\n",
    "testData = CSV.read(\"../../data/test.csv\", DataFrame)\n",
    "#first(trainData, 5)\n",
    "first(testData, 5)\n"
   ]
  },
  {
   "cell_type": "code",
   "execution_count": 128,
   "metadata": {},
   "outputs": [
    {
     "data": {
      "text/html": [
       "<div><div style = \"float: left;\"><span>150×1 DataFrame</span></div><div style = \"float: right;\"><span style = \"font-style: italic;\">125 rows omitted</span></div><div style = \"clear: both;\"></div></div><div class = \"data-frame\" style = \"overflow-x: scroll;\"><table class = \"data-frame\" style = \"margin-bottom: 6px;\"><thead><tr class = \"header\"><th class = \"rowNumber\" style = \"font-weight: bold; text-align: right;\">Row</th><th style = \"text-align: left;\">ID</th></tr><tr class = \"subheader headerLastRow\"><th class = \"rowNumber\" style = \"font-weight: bold; text-align: right;\"></th><th title = \"Int64\" style = \"text-align: left;\">Int64</th></tr></thead><tbody><tr><td class = \"rowNumber\" style = \"font-weight: bold; text-align: right;\">1</td><td style = \"text-align: right;\">1</td></tr><tr><td class = \"rowNumber\" style = \"font-weight: bold; text-align: right;\">2</td><td style = \"text-align: right;\">2</td></tr><tr><td class = \"rowNumber\" style = \"font-weight: bold; text-align: right;\">3</td><td style = \"text-align: right;\">3</td></tr><tr><td class = \"rowNumber\" style = \"font-weight: bold; text-align: right;\">4</td><td style = \"text-align: right;\">4</td></tr><tr><td class = \"rowNumber\" style = \"font-weight: bold; text-align: right;\">5</td><td style = \"text-align: right;\">5</td></tr><tr><td class = \"rowNumber\" style = \"font-weight: bold; text-align: right;\">6</td><td style = \"text-align: right;\">6</td></tr><tr><td class = \"rowNumber\" style = \"font-weight: bold; text-align: right;\">7</td><td style = \"text-align: right;\">7</td></tr><tr><td class = \"rowNumber\" style = \"font-weight: bold; text-align: right;\">8</td><td style = \"text-align: right;\">8</td></tr><tr><td class = \"rowNumber\" style = \"font-weight: bold; text-align: right;\">9</td><td style = \"text-align: right;\">9</td></tr><tr><td class = \"rowNumber\" style = \"font-weight: bold; text-align: right;\">10</td><td style = \"text-align: right;\">10</td></tr><tr><td class = \"rowNumber\" style = \"font-weight: bold; text-align: right;\">11</td><td style = \"text-align: right;\">11</td></tr><tr><td class = \"rowNumber\" style = \"font-weight: bold; text-align: right;\">12</td><td style = \"text-align: right;\">12</td></tr><tr><td class = \"rowNumber\" style = \"font-weight: bold; text-align: right;\">13</td><td style = \"text-align: right;\">13</td></tr><tr><td style = \"text-align: right;\">&vellip;</td><td style = \"text-align: right;\">&vellip;</td></tr><tr><td class = \"rowNumber\" style = \"font-weight: bold; text-align: right;\">139</td><td style = \"text-align: right;\">139</td></tr><tr><td class = \"rowNumber\" style = \"font-weight: bold; text-align: right;\">140</td><td style = \"text-align: right;\">140</td></tr><tr><td class = \"rowNumber\" style = \"font-weight: bold; text-align: right;\">141</td><td style = \"text-align: right;\">141</td></tr><tr><td class = \"rowNumber\" style = \"font-weight: bold; text-align: right;\">142</td><td style = \"text-align: right;\">142</td></tr><tr><td class = \"rowNumber\" style = \"font-weight: bold; text-align: right;\">143</td><td style = \"text-align: right;\">143</td></tr><tr><td class = \"rowNumber\" style = \"font-weight: bold; text-align: right;\">144</td><td style = \"text-align: right;\">144</td></tr><tr><td class = \"rowNumber\" style = \"font-weight: bold; text-align: right;\">145</td><td style = \"text-align: right;\">145</td></tr><tr><td class = \"rowNumber\" style = \"font-weight: bold; text-align: right;\">146</td><td style = \"text-align: right;\">146</td></tr><tr><td class = \"rowNumber\" style = \"font-weight: bold; text-align: right;\">147</td><td style = \"text-align: right;\">147</td></tr><tr><td class = \"rowNumber\" style = \"font-weight: bold; text-align: right;\">148</td><td style = \"text-align: right;\">148</td></tr><tr><td class = \"rowNumber\" style = \"font-weight: bold; text-align: right;\">149</td><td style = \"text-align: right;\">149</td></tr><tr><td class = \"rowNumber\" style = \"font-weight: bold; text-align: right;\">150</td><td style = \"text-align: right;\">150</td></tr></tbody></table></div>"
      ],
      "text/latex": [
       "\\begin{tabular}{r|c}\n",
       "\t& ID\\\\\n",
       "\t\\hline\n",
       "\t& Int64\\\\\n",
       "\t\\hline\n",
       "\t1 & 1 \\\\\n",
       "\t2 & 2 \\\\\n",
       "\t3 & 3 \\\\\n",
       "\t4 & 4 \\\\\n",
       "\t5 & 5 \\\\\n",
       "\t6 & 6 \\\\\n",
       "\t7 & 7 \\\\\n",
       "\t8 & 8 \\\\\n",
       "\t9 & 9 \\\\\n",
       "\t10 & 10 \\\\\n",
       "\t11 & 11 \\\\\n",
       "\t12 & 12 \\\\\n",
       "\t13 & 13 \\\\\n",
       "\t14 & 14 \\\\\n",
       "\t15 & 15 \\\\\n",
       "\t16 & 16 \\\\\n",
       "\t17 & 17 \\\\\n",
       "\t18 & 18 \\\\\n",
       "\t19 & 19 \\\\\n",
       "\t20 & 20 \\\\\n",
       "\t21 & 21 \\\\\n",
       "\t22 & 22 \\\\\n",
       "\t23 & 23 \\\\\n",
       "\t24 & 24 \\\\\n",
       "\t25 & 25 \\\\\n",
       "\t26 & 26 \\\\\n",
       "\t27 & 27 \\\\\n",
       "\t28 & 28 \\\\\n",
       "\t29 & 29 \\\\\n",
       "\t30 & 30 \\\\\n",
       "\t$\\dots$ & $\\dots$ \\\\\n",
       "\\end{tabular}\n"
      ],
      "text/plain": [
       "\u001b[1m150×1 DataFrame\u001b[0m\n",
       "\u001b[1m Row \u001b[0m│\u001b[1m ID    \u001b[0m\n",
       "     │\u001b[90m Int64 \u001b[0m\n",
       "─────┼───────\n",
       "   1 │     1\n",
       "   2 │     2\n",
       "   3 │     3\n",
       "   4 │     4\n",
       "   5 │     5\n",
       "   6 │     6\n",
       "   7 │     7\n",
       "   8 │     8\n",
       "   9 │     9\n",
       "  10 │    10\n",
       "  11 │    11\n",
       "  ⋮  │   ⋮\n",
       " 141 │   141\n",
       " 142 │   142\n",
       " 143 │   143\n",
       " 144 │   144\n",
       " 145 │   145\n",
       " 146 │   146\n",
       " 147 │   147\n",
       " 148 │   148\n",
       " 149 │   149\n",
       " 150 │   150\n",
       "\u001b[36m129 rows omitted\u001b[0m"
      ]
     },
     "execution_count": 128,
     "metadata": {},
     "output_type": "execute_result"
    }
   ],
   "source": [
    "IDS = DataFrame([1:150], [:ID])"
   ]
  },
  {
   "cell_type": "code",
   "execution_count": 129,
   "metadata": {},
   "outputs": [
    {
     "data": {
      "text/html": [
       "<div><div style = \"float: left;\"><span>150×7 DataFrame</span></div><div style = \"float: right;\"><span style = \"font-style: italic;\">125 rows omitted</span></div><div style = \"clear: both;\"></div></div><div class = \"data-frame\" style = \"overflow-x: scroll;\"><table class = \"data-frame\" style = \"margin-bottom: 6px;\"><thead><tr class = \"header\"><th class = \"rowNumber\" style = \"font-weight: bold; text-align: right;\">Row</th><th style = \"text-align: left;\">ID</th><th style = \"text-align: left;\">annee</th><th style = \"text-align: left;\">type</th><th style = \"text-align: left;\">nombre_cylindres</th><th style = \"text-align: left;\">cylindree</th><th style = \"text-align: left;\">transmission</th><th style = \"text-align: left;\">boite</th></tr><tr class = \"subheader headerLastRow\"><th class = \"rowNumber\" style = \"font-weight: bold; text-align: right;\"></th><th title = \"Int64\" style = \"text-align: left;\">Int64</th><th title = \"Int64\" style = \"text-align: left;\">Int64</th><th title = \"String31\" style = \"text-align: left;\">String31</th><th title = \"Int64\" style = \"text-align: left;\">Int64</th><th title = \"String3\" style = \"text-align: left;\">String3</th><th title = \"String15\" style = \"text-align: left;\">String15</th><th title = \"String15\" style = \"text-align: left;\">String15</th></tr></thead><tbody><tr><td class = \"rowNumber\" style = \"font-weight: bold; text-align: right;\">1</td><td style = \"text-align: right;\">1</td><td style = \"text-align: right;\">2014</td><td style = \"text-align: left;\">voiture_moyenne</td><td style = \"text-align: right;\">4</td><td style = \"text-align: left;\">2,5</td><td style = \"text-align: left;\">traction</td><td style = \"text-align: left;\">manuelle</td></tr><tr><td class = \"rowNumber\" style = \"font-weight: bold; text-align: right;\">2</td><td style = \"text-align: right;\">2</td><td style = \"text-align: right;\">2014</td><td style = \"text-align: left;\">voiture_moyenne</td><td style = \"text-align: right;\">4</td><td style = \"text-align: left;\">2,5</td><td style = \"text-align: left;\">traction</td><td style = \"text-align: left;\">automatique</td></tr><tr><td class = \"rowNumber\" style = \"font-weight: bold; text-align: right;\">3</td><td style = \"text-align: right;\">3</td><td style = \"text-align: right;\">2014</td><td style = \"text-align: left;\">VUS_petit</td><td style = \"text-align: right;\">4</td><td style = \"text-align: left;\">2,5</td><td style = \"text-align: left;\">traction</td><td style = \"text-align: left;\">automatique</td></tr><tr><td class = \"rowNumber\" style = \"font-weight: bold; text-align: right;\">4</td><td style = \"text-align: right;\">4</td><td style = \"text-align: right;\">2014</td><td style = \"text-align: left;\">VUS_petit</td><td style = \"text-align: right;\">4</td><td style = \"text-align: left;\">2</td><td style = \"text-align: left;\">4x4</td><td style = \"text-align: left;\">automatique</td></tr><tr><td class = \"rowNumber\" style = \"font-weight: bold; text-align: right;\">5</td><td style = \"text-align: right;\">5</td><td style = \"text-align: right;\">2014</td><td style = \"text-align: left;\">voiture_sous_compacte</td><td style = \"text-align: right;\">8</td><td style = \"text-align: left;\">5,8</td><td style = \"text-align: left;\">propulsion</td><td style = \"text-align: left;\">manuelle</td></tr><tr><td class = \"rowNumber\" style = \"font-weight: bold; text-align: right;\">6</td><td style = \"text-align: right;\">6</td><td style = \"text-align: right;\">2014</td><td style = \"text-align: left;\">voiture_sous_compacte</td><td style = \"text-align: right;\">8</td><td style = \"text-align: left;\">5</td><td style = \"text-align: left;\">propulsion</td><td style = \"text-align: left;\">automatique</td></tr><tr><td class = \"rowNumber\" style = \"font-weight: bold; text-align: right;\">7</td><td style = \"text-align: right;\">7</td><td style = \"text-align: right;\">2014</td><td style = \"text-align: left;\">voiture_sous_compacte</td><td style = \"text-align: right;\">8</td><td style = \"text-align: left;\">5</td><td style = \"text-align: left;\">propulsion</td><td style = \"text-align: left;\">manuelle</td></tr><tr><td class = \"rowNumber\" style = \"font-weight: bold; text-align: right;\">8</td><td style = \"text-align: right;\">8</td><td style = \"text-align: right;\">2014</td><td style = \"text-align: left;\">VUS_petit</td><td style = \"text-align: right;\">4</td><td style = \"text-align: left;\">2,4</td><td style = \"text-align: left;\">4x4</td><td style = \"text-align: left;\">automatique</td></tr><tr><td class = \"rowNumber\" style = \"font-weight: bold; text-align: right;\">9</td><td style = \"text-align: right;\">9</td><td style = \"text-align: right;\">2014</td><td style = \"text-align: left;\">VUS_petit</td><td style = \"text-align: right;\">6</td><td style = \"text-align: left;\">3,5</td><td style = \"text-align: left;\">integrale</td><td style = \"text-align: left;\">automatique</td></tr><tr><td class = \"rowNumber\" style = \"font-weight: bold; text-align: right;\">10</td><td style = \"text-align: right;\">10</td><td style = \"text-align: right;\">2014</td><td style = \"text-align: left;\">voiture_deux_places</td><td style = \"text-align: right;\">10</td><td style = \"text-align: left;\">5,2</td><td style = \"text-align: left;\">integrale</td><td style = \"text-align: left;\">manuelle</td></tr><tr><td class = \"rowNumber\" style = \"font-weight: bold; text-align: right;\">11</td><td style = \"text-align: right;\">11</td><td style = \"text-align: right;\">2014</td><td style = \"text-align: left;\">voiture_deux_places</td><td style = \"text-align: right;\">10</td><td style = \"text-align: left;\">5,2</td><td style = \"text-align: left;\">integrale</td><td style = \"text-align: left;\">manuelle</td></tr><tr><td class = \"rowNumber\" style = \"font-weight: bold; text-align: right;\">12</td><td style = \"text-align: right;\">12</td><td style = \"text-align: right;\">2014</td><td style = \"text-align: left;\">voiture_sous_compacte</td><td style = \"text-align: right;\">12</td><td style = \"text-align: left;\">5,9</td><td style = \"text-align: left;\">propulsion</td><td style = \"text-align: left;\">automatique</td></tr><tr><td class = \"rowNumber\" style = \"font-weight: bold; text-align: right;\">13</td><td style = \"text-align: right;\">13</td><td style = \"text-align: right;\">2014</td><td style = \"text-align: left;\">VUS_petit</td><td style = \"text-align: right;\">4</td><td style = \"text-align: left;\">2</td><td style = \"text-align: left;\">traction</td><td style = \"text-align: left;\">automatique</td></tr><tr><td style = \"text-align: right;\">&vellip;</td><td style = \"text-align: right;\">&vellip;</td><td style = \"text-align: right;\">&vellip;</td><td style = \"text-align: right;\">&vellip;</td><td style = \"text-align: right;\">&vellip;</td><td style = \"text-align: right;\">&vellip;</td><td style = \"text-align: right;\">&vellip;</td><td style = \"text-align: right;\">&vellip;</td></tr><tr><td class = \"rowNumber\" style = \"font-weight: bold; text-align: right;\">139</td><td style = \"text-align: right;\">139</td><td style = \"text-align: right;\">2023</td><td style = \"text-align: left;\">VUS_petit</td><td style = \"text-align: right;\">4</td><td style = \"text-align: left;\">1,6</td><td style = \"text-align: left;\">traction</td><td style = \"text-align: left;\">automatique</td></tr><tr><td class = \"rowNumber\" style = \"font-weight: bold; text-align: right;\">140</td><td style = \"text-align: right;\">140</td><td style = \"text-align: right;\">2023</td><td style = \"text-align: left;\">voiture_moyenne</td><td style = \"text-align: right;\">6</td><td style = \"text-align: left;\">3,3</td><td style = \"text-align: left;\">propulsion</td><td style = \"text-align: left;\">automatique</td></tr><tr><td class = \"rowNumber\" style = \"font-weight: bold; text-align: right;\">141</td><td style = \"text-align: right;\">141</td><td style = \"text-align: right;\">2024</td><td style = \"text-align: left;\">voiture_deux_places</td><td style = \"text-align: right;\">8</td><td style = \"text-align: left;\">5</td><td style = \"text-align: left;\">propulsion</td><td style = \"text-align: left;\">automatique</td></tr><tr><td class = \"rowNumber\" style = \"font-weight: bold; text-align: right;\">142</td><td style = \"text-align: right;\">142</td><td style = \"text-align: right;\">2024</td><td style = \"text-align: left;\">VUS_petit</td><td style = \"text-align: right;\">4</td><td style = \"text-align: left;\">2</td><td style = \"text-align: left;\">integrale</td><td style = \"text-align: left;\">automatique</td></tr><tr><td class = \"rowNumber\" style = \"font-weight: bold; text-align: right;\">143</td><td style = \"text-align: right;\">143</td><td style = \"text-align: right;\">2024</td><td style = \"text-align: left;\">VUS_petit</td><td style = \"text-align: right;\">4</td><td style = \"text-align: left;\">2</td><td style = \"text-align: left;\">traction</td><td style = \"text-align: left;\">automatique</td></tr><tr><td class = \"rowNumber\" style = \"font-weight: bold; text-align: right;\">144</td><td style = \"text-align: right;\">144</td><td style = \"text-align: right;\">2024</td><td style = \"text-align: left;\">VUS_petit</td><td style = \"text-align: right;\">4</td><td style = \"text-align: left;\">1,6</td><td style = \"text-align: left;\">integrale</td><td style = \"text-align: left;\">automatique</td></tr><tr><td class = \"rowNumber\" style = \"font-weight: bold; text-align: right;\">145</td><td style = \"text-align: right;\">145</td><td style = \"text-align: right;\">2024</td><td style = \"text-align: left;\">voiture_sous_compacte</td><td style = \"text-align: right;\">4</td><td style = \"text-align: left;\">2</td><td style = \"text-align: left;\">propulsion</td><td style = \"text-align: left;\">automatique</td></tr><tr><td class = \"rowNumber\" style = \"font-weight: bold; text-align: right;\">146</td><td style = \"text-align: right;\">146</td><td style = \"text-align: right;\">2024</td><td style = \"text-align: left;\">voiture_sous_compacte</td><td style = \"text-align: right;\">4</td><td style = \"text-align: left;\">2</td><td style = \"text-align: left;\">integrale</td><td style = \"text-align: left;\">automatique</td></tr><tr><td class = \"rowNumber\" style = \"font-weight: bold; text-align: right;\">147</td><td style = \"text-align: right;\">147</td><td style = \"text-align: right;\">2024</td><td style = \"text-align: left;\">voiture_sous_compacte</td><td style = \"text-align: right;\">6</td><td style = \"text-align: left;\">3</td><td style = \"text-align: left;\">propulsion</td><td style = \"text-align: left;\">manuelle</td></tr><tr><td class = \"rowNumber\" style = \"font-weight: bold; text-align: right;\">148</td><td style = \"text-align: right;\">148</td><td style = \"text-align: right;\">2024</td><td style = \"text-align: left;\">voiture_sous_compacte</td><td style = \"text-align: right;\">6</td><td style = \"text-align: left;\">3</td><td style = \"text-align: left;\">propulsion</td><td style = \"text-align: left;\">automatique</td></tr><tr><td class = \"rowNumber\" style = \"font-weight: bold; text-align: right;\">149</td><td style = \"text-align: right;\">149</td><td style = \"text-align: right;\">2024</td><td style = \"text-align: left;\">voiture_sous_compacte</td><td style = \"text-align: right;\">3</td><td style = \"text-align: left;\">1,5</td><td style = \"text-align: left;\">traction</td><td style = \"text-align: left;\">manuelle</td></tr><tr><td class = \"rowNumber\" style = \"font-weight: bold; text-align: right;\">150</td><td style = \"text-align: right;\">150</td><td style = \"text-align: right;\">2024</td><td style = \"text-align: left;\">voiture_sous_compacte</td><td style = \"text-align: right;\">4</td><td style = \"text-align: left;\">2</td><td style = \"text-align: left;\">traction</td><td style = \"text-align: left;\">automatique</td></tr></tbody></table></div>"
      ],
      "text/latex": [
       "\\begin{tabular}{r|ccccccc}\n",
       "\t& ID & annee & type & nombre\\_cylindres & cylindree & transmission & \\\\\n",
       "\t\\hline\n",
       "\t& Int64 & Int64 & String31 & Int64 & String3 & String15 & \\\\\n",
       "\t\\hline\n",
       "\t1 & 1 & 2014 & voiture\\_moyenne & 4 & 2,5 & traction & $\\dots$ \\\\\n",
       "\t2 & 2 & 2014 & voiture\\_moyenne & 4 & 2,5 & traction & $\\dots$ \\\\\n",
       "\t3 & 3 & 2014 & VUS\\_petit & 4 & 2,5 & traction & $\\dots$ \\\\\n",
       "\t4 & 4 & 2014 & VUS\\_petit & 4 & 2 & 4x4 & $\\dots$ \\\\\n",
       "\t5 & 5 & 2014 & voiture\\_sous\\_compacte & 8 & 5,8 & propulsion & $\\dots$ \\\\\n",
       "\t6 & 6 & 2014 & voiture\\_sous\\_compacte & 8 & 5 & propulsion & $\\dots$ \\\\\n",
       "\t7 & 7 & 2014 & voiture\\_sous\\_compacte & 8 & 5 & propulsion & $\\dots$ \\\\\n",
       "\t8 & 8 & 2014 & VUS\\_petit & 4 & 2,4 & 4x4 & $\\dots$ \\\\\n",
       "\t9 & 9 & 2014 & VUS\\_petit & 6 & 3,5 & integrale & $\\dots$ \\\\\n",
       "\t10 & 10 & 2014 & voiture\\_deux\\_places & 10 & 5,2 & integrale & $\\dots$ \\\\\n",
       "\t11 & 11 & 2014 & voiture\\_deux\\_places & 10 & 5,2 & integrale & $\\dots$ \\\\\n",
       "\t12 & 12 & 2014 & voiture\\_sous\\_compacte & 12 & 5,9 & propulsion & $\\dots$ \\\\\n",
       "\t13 & 13 & 2014 & VUS\\_petit & 4 & 2 & traction & $\\dots$ \\\\\n",
       "\t14 & 14 & 2014 & VUS\\_petit & 4 & 2,4 & traction & $\\dots$ \\\\\n",
       "\t15 & 15 & 2015 & voiture\\_moyenne & 4 & 2,5 & traction & $\\dots$ \\\\\n",
       "\t16 & 16 & 2015 & VUS\\_petit & 6 & 3 & integrale & $\\dots$ \\\\\n",
       "\t17 & 17 & 2015 & camionnette\\_standard & 8 & 5,3 & propulsion & $\\dots$ \\\\\n",
       "\t18 & 18 & 2015 & camionnette\\_standard & 8 & 5,3 & propulsion & $\\dots$ \\\\\n",
       "\t19 & 19 & 2015 & camionnette\\_standard & 8 & 5,3 & 4x4 & $\\dots$ \\\\\n",
       "\t20 & 20 & 2015 & camionnette\\_standard & 8 & 5,3 & 4x4 & $\\dots$ \\\\\n",
       "\t21 & 21 & 2015 & VUS\\_standard & 8 & 6,2 & propulsion & $\\dots$ \\\\\n",
       "\t22 & 22 & 2015 & VUS\\_standard & 8 & 5,3 & propulsion & $\\dots$ \\\\\n",
       "\t23 & 23 & 2015 & VUS\\_standard & 8 & 5,3 & propulsion & $\\dots$ \\\\\n",
       "\t24 & 24 & 2015 & VUS\\_standard & 8 & 6,2 & propulsion & $\\dots$ \\\\\n",
       "\t25 & 25 & 2015 & VUS\\_standard & 8 & 5,3 & propulsion & $\\dots$ \\\\\n",
       "\t26 & 26 & 2015 & VUS\\_standard & 8 & 6,2 & 4x4 & $\\dots$ \\\\\n",
       "\t27 & 27 & 2015 & VUS\\_standard & 8 & 5,3 & 4x4 & $\\dots$ \\\\\n",
       "\t28 & 28 & 2015 & VUS\\_standard & 8 & 6,2 & 4x4 & $\\dots$ \\\\\n",
       "\t29 & 29 & 2015 & voiture\\_deux\\_places & 8 & 5 & propulsion & $\\dots$ \\\\\n",
       "\t30 & 30 & 2015 & voiture\\_deux\\_places & 6 & 3 & propulsion & $\\dots$ \\\\\n",
       "\t$\\dots$ & $\\dots$ & $\\dots$ & $\\dots$ & $\\dots$ & $\\dots$ & $\\dots$ &  \\\\\n",
       "\\end{tabular}\n"
      ],
      "text/plain": [
       "\u001b[1m150×7 DataFrame\u001b[0m\n",
       "\u001b[1m Row \u001b[0m│\u001b[1m ID    \u001b[0m\u001b[1m annee \u001b[0m\u001b[1m type                  \u001b[0m\u001b[1m nombre_cylindres \u001b[0m\u001b[1m cylindree \u001b[0m\u001b[1m trans\u001b[0m ⋯\n",
       "     │\u001b[90m Int64 \u001b[0m\u001b[90m Int64 \u001b[0m\u001b[90m String31              \u001b[0m\u001b[90m Int64            \u001b[0m\u001b[90m String3   \u001b[0m\u001b[90m Strin\u001b[0m ⋯\n",
       "─────┼──────────────────────────────────────────────────────────────────────────\n",
       "   1 │     1   2014  voiture_moyenne                       4  2,5        tract ⋯\n",
       "   2 │     2   2014  voiture_moyenne                       4  2,5        tract\n",
       "   3 │     3   2014  VUS_petit                             4  2,5        tract\n",
       "   4 │     4   2014  VUS_petit                             4  2          4x4\n",
       "   5 │     5   2014  voiture_sous_compacte                 8  5,8        propu ⋯\n",
       "   6 │     6   2014  voiture_sous_compacte                 8  5          propu\n",
       "   7 │     7   2014  voiture_sous_compacte                 8  5          propu\n",
       "   8 │     8   2014  VUS_petit                             4  2,4        4x4\n",
       "   9 │     9   2014  VUS_petit                             6  3,5        integ ⋯\n",
       "  10 │    10   2014  voiture_deux_places                  10  5,2        integ\n",
       "  11 │    11   2014  voiture_deux_places                  10  5,2        integ\n",
       "  ⋮  │   ⋮      ⋮              ⋮                   ⋮              ⋮            ⋱\n",
       " 141 │   141   2024  voiture_deux_places                   8  5          propu\n",
       " 142 │   142   2024  VUS_petit                             4  2          integ ⋯\n",
       " 143 │   143   2024  VUS_petit                             4  2          tract\n",
       " 144 │   144   2024  VUS_petit                             4  1,6        integ\n",
       " 145 │   145   2024  voiture_sous_compacte                 4  2          propu\n",
       " 146 │   146   2024  voiture_sous_compacte                 4  2          integ ⋯\n",
       " 147 │   147   2024  voiture_sous_compacte                 6  3          propu\n",
       " 148 │   148   2024  voiture_sous_compacte                 6  3          propu\n",
       " 149 │   149   2024  voiture_sous_compacte                 3  1,5        tract\n",
       " 150 │   150   2024  voiture_sous_compacte                 4  2          tract ⋯\n",
       "\u001b[36m                                                  2 columns and 129 rows omitted\u001b[0m"
      ]
     },
     "execution_count": 129,
     "metadata": {},
     "output_type": "execute_result"
    }
   ],
   "source": [
    "testData = hcat(IDS, testData)"
   ]
  },
  {
   "cell_type": "code",
   "execution_count": 130,
   "metadata": {},
   "outputs": [
    {
     "data": {
      "text/plain": [
       "150-element Vector{Float64}:\n",
       " 2.5\n",
       " 2.5\n",
       " 2.5\n",
       " 2.0\n",
       " 5.8\n",
       " 5.0\n",
       " 5.0\n",
       " 2.4\n",
       " 3.5\n",
       " 5.2\n",
       " 5.2\n",
       " 5.9\n",
       " 2.0\n",
       " ⋮\n",
       " 1.6\n",
       " 3.3\n",
       " 5.0\n",
       " 2.0\n",
       " 2.0\n",
       " 1.6\n",
       " 2.0\n",
       " 2.0\n",
       " 3.0\n",
       " 3.0\n",
       " 1.5\n",
       " 2.0"
      ]
     },
     "execution_count": 130,
     "metadata": {},
     "output_type": "execute_result"
    }
   ],
   "source": [
    "trainData.consommation = parse.(Float64,replace.(trainData.consommation, \",\" => \".\"))\n",
    "trainData.cylindree = parse.(Float64,replace.(trainData.cylindree, \",\" => \".\")) \n",
    "\n",
    "testData.cylindree = parse.(Float64,replace.(testData.cylindree, \",\" => \".\"))"
   ]
  },
  {
   "cell_type": "code",
   "execution_count": 131,
   "metadata": {},
   "outputs": [
    {
     "data": {
      "text/plain": [
       "150-element Vector{Float64}:\n",
       " 10.0\n",
       " 10.0\n",
       " 10.0\n",
       "  8.0\n",
       " 46.4\n",
       " 40.0\n",
       " 40.0\n",
       "  9.6\n",
       " 21.0\n",
       " 52.0\n",
       " 52.0\n",
       " 70.80000000000001\n",
       "  8.0\n",
       "  ⋮\n",
       "  6.4\n",
       " 19.799999999999997\n",
       " 40.0\n",
       "  8.0\n",
       "  8.0\n",
       "  6.4\n",
       "  8.0\n",
       "  8.0\n",
       " 18.0\n",
       " 18.0\n",
       "  4.5\n",
       "  8.0"
      ]
     },
     "execution_count": 131,
     "metadata": {},
     "output_type": "execute_result"
    }
   ],
   "source": [
    "trainData[!,:volume_gaz] = trainData[!,:nombre_cylindres] .* trainData[!,:cylindree]\n",
    "\n",
    "testData[!,:volume_gaz] = testData[!,:nombre_cylindres] .* testData[!,:cylindree]"
   ]
  },
  {
   "cell_type": "code",
   "execution_count": 132,
   "metadata": {},
   "outputs": [
    {
     "data": {
      "text/plain": [
       "norm_cols (generic function with 1 method)"
      ]
     },
     "execution_count": 132,
     "metadata": {},
     "output_type": "execute_result"
    }
   ],
   "source": [
    "function encode(data, column)\n",
    "    for c in unique(data[!, column])\n",
    "        data[!, Symbol(c)] = ifelse.(data[!, column] .== c, 1, 0)\n",
    "    end\n",
    "    return data\n",
    "end\n",
    "\n",
    "\n",
    "function encode_data(data)\n",
    "    encoded_data = deepcopy(data)\n",
    "    encoded_data = encode(encoded_data, :type)\n",
    "    encoded_data = encode(encoded_data, :transmission)\n",
    "    encoded_data = encode(encoded_data, :boite)\n",
    "\n",
    "    encoded_data.cylindree = encoded_data.cylindree .- minimum(encoded_data.cylindree)\n",
    "    encoded_data.volume_gaz = encoded_data.volume_gaz .- minimum(encoded_data.volume_gaz)\n",
    "    encoded_data.annee = encoded_data.annee .-minimum(encoded_data.annee)\n",
    "    #encoded_data = encode(encoded_data, :nombre_cylindres)\n",
    "    return encoded_data\n",
    "end\n",
    "\n",
    "function removeRows(data)\n",
    "    return select!(data, Not([:type, :transmission, :boite]))\n",
    "end\n",
    "\n",
    "function normalize_column(data, column)\n",
    "    data[!, column] = (data[!, column] .- mean(data[!, column])) ./ std(data[!, column])\n",
    "    return data\n",
    "end\n",
    "\n",
    "function norm_cols(data)\n",
    "    normalized_data = deepcopy(data)\n",
    "    normalized_data = normalize_column(normalized_data, :cylindree)\n",
    "    normalized_data = normalize_column(normalized_data, :volume_gaz)\n",
    "    #normalized_data = normalize_column(normalized_data, :annee)\n",
    "    return normalized_data\n",
    "end"
   ]
  },
  {
   "cell_type": "code",
   "execution_count": 133,
   "metadata": {},
   "outputs": [
    {
     "data": {
      "text/html": [
       "<div><div style = \"float: left;\"><span>145×7 DataFrame</span></div><div style = \"float: right;\"><span style = \"font-style: italic;\">120 rows omitted</span></div><div style = \"clear: both;\"></div></div><div class = \"data-frame\" style = \"overflow-x: scroll;\"><table class = \"data-frame\" style = \"margin-bottom: 6px;\"><thead><tr class = \"header\"><th class = \"rowNumber\" style = \"font-weight: bold; text-align: right;\">Row</th><th style = \"text-align: left;\">cylindree</th><th style = \"text-align: left;\">volume_gaz</th><th style = \"text-align: left;\">type</th><th style = \"text-align: left;\">transmission</th><th style = \"text-align: left;\">boite</th><th style = \"text-align: left;\">nombre_cylindres</th><th style = \"text-align: left;\">consommation</th></tr><tr class = \"subheader headerLastRow\"><th class = \"rowNumber\" style = \"font-weight: bold; text-align: right;\"></th><th title = \"Float64\" style = \"text-align: left;\">Float64</th><th title = \"Float64\" style = \"text-align: left;\">Float64</th><th title = \"String31\" style = \"text-align: left;\">String31</th><th title = \"String15\" style = \"text-align: left;\">String15</th><th title = \"String15\" style = \"text-align: left;\">String15</th><th title = \"Int64\" style = \"text-align: left;\">Int64</th><th title = \"Float64\" style = \"text-align: left;\">Float64</th></tr></thead><tbody><tr><td class = \"rowNumber\" style = \"font-weight: bold; text-align: right;\">1</td><td style = \"text-align: right;\">4.4</td><td style = \"text-align: right;\">35.2</td><td style = \"text-align: left;\">voiture_moyenne</td><td style = \"text-align: left;\">integrale</td><td style = \"text-align: left;\">automatique</td><td style = \"text-align: right;\">8</td><td style = \"text-align: right;\">13.0036</td></tr><tr><td class = \"rowNumber\" style = \"font-weight: bold; text-align: right;\">2</td><td style = \"text-align: right;\">2.0</td><td style = \"text-align: right;\">8.0</td><td style = \"text-align: left;\">VUS_petit</td><td style = \"text-align: left;\">integrale</td><td style = \"text-align: left;\">automatique</td><td style = \"text-align: right;\">4</td><td style = \"text-align: right;\">10.1294</td></tr><tr><td class = \"rowNumber\" style = \"font-weight: bold; text-align: right;\">3</td><td style = \"text-align: right;\">3.3</td><td style = \"text-align: right;\">19.8</td><td style = \"text-align: left;\">voiture_compacte</td><td style = \"text-align: left;\">propulsion</td><td style = \"text-align: left;\">automatique</td><td style = \"text-align: right;\">6</td><td style = \"text-align: right;\">11.4805</td></tr><tr><td class = \"rowNumber\" style = \"font-weight: bold; text-align: right;\">4</td><td style = \"text-align: right;\">5.0</td><td style = \"text-align: right;\">40.0</td><td style = \"text-align: left;\">voiture_deux_places</td><td style = \"text-align: left;\">integrale</td><td style = \"text-align: left;\">automatique</td><td style = \"text-align: right;\">8</td><td style = \"text-align: right;\">13.0672</td></tr><tr><td class = \"rowNumber\" style = \"font-weight: bold; text-align: right;\">5</td><td style = \"text-align: right;\">1.5</td><td style = \"text-align: right;\">4.5</td><td style = \"text-align: left;\">voiture_minicompacte</td><td style = \"text-align: left;\">traction</td><td style = \"text-align: left;\">automatique</td><td style = \"text-align: right;\">3</td><td style = \"text-align: right;\">7.49574</td></tr><tr><td class = \"rowNumber\" style = \"font-weight: bold; text-align: right;\">6</td><td style = \"text-align: right;\">1.5</td><td style = \"text-align: right;\">4.5</td><td style = \"text-align: left;\">voiture_minicompacte</td><td style = \"text-align: left;\">traction</td><td style = \"text-align: left;\">manuelle</td><td style = \"text-align: right;\">3</td><td style = \"text-align: right;\">7.58742</td></tr><tr><td class = \"rowNumber\" style = \"font-weight: bold; text-align: right;\">7</td><td style = \"text-align: right;\">3.8</td><td style = \"text-align: right;\">22.8</td><td style = \"text-align: left;\">VUS_standard</td><td style = \"text-align: left;\">integrale</td><td style = \"text-align: left;\">automatique</td><td style = \"text-align: right;\">6</td><td style = \"text-align: right;\">11.2005</td></tr><tr><td class = \"rowNumber\" style = \"font-weight: bold; text-align: right;\">8</td><td style = \"text-align: right;\">3.3</td><td style = \"text-align: right;\">19.8</td><td style = \"text-align: left;\">monospace</td><td style = \"text-align: left;\">traction</td><td style = \"text-align: left;\">automatique</td><td style = \"text-align: right;\">6</td><td style = \"text-align: right;\">11.7801</td></tr><tr><td class = \"rowNumber\" style = \"font-weight: bold; text-align: right;\">9</td><td style = \"text-align: right;\">5.0</td><td style = \"text-align: right;\">40.0</td><td style = \"text-align: left;\">VUS_standard</td><td style = \"text-align: left;\">4x4</td><td style = \"text-align: left;\">automatique</td><td style = \"text-align: right;\">8</td><td style = \"text-align: right;\">14.7006</td></tr><tr><td class = \"rowNumber\" style = \"font-weight: bold; text-align: right;\">10</td><td style = \"text-align: right;\">3.0</td><td style = \"text-align: right;\">18.0</td><td style = \"text-align: left;\">voiture_sous_compacte</td><td style = \"text-align: left;\">propulsion</td><td style = \"text-align: left;\">automatique</td><td style = \"text-align: right;\">6</td><td style = \"text-align: right;\">10.9173</td></tr><tr><td class = \"rowNumber\" style = \"font-weight: bold; text-align: right;\">11</td><td style = \"text-align: right;\">3.0</td><td style = \"text-align: right;\">18.0</td><td style = \"text-align: left;\">voiture_deux_places</td><td style = \"text-align: left;\">propulsion</td><td style = \"text-align: left;\">automatique</td><td style = \"text-align: right;\">6</td><td style = \"text-align: right;\">10.5223</td></tr><tr><td class = \"rowNumber\" style = \"font-weight: bold; text-align: right;\">12</td><td style = \"text-align: right;\">3.6</td><td style = \"text-align: right;\">21.6</td><td style = \"text-align: left;\">camionnette_petit</td><td style = \"text-align: left;\">propulsion</td><td style = \"text-align: left;\">automatique</td><td style = \"text-align: right;\">6</td><td style = \"text-align: right;\">11.2005</td></tr><tr><td class = \"rowNumber\" style = \"font-weight: bold; text-align: right;\">13</td><td style = \"text-align: right;\">2.0</td><td style = \"text-align: right;\">8.0</td><td style = \"text-align: left;\">voiture_compacte</td><td style = \"text-align: left;\">propulsion</td><td style = \"text-align: left;\">manuelle</td><td style = \"text-align: right;\">4</td><td style = \"text-align: right;\">10.2637</td></tr><tr><td style = \"text-align: right;\">&vellip;</td><td style = \"text-align: right;\">&vellip;</td><td style = \"text-align: right;\">&vellip;</td><td style = \"text-align: right;\">&vellip;</td><td style = \"text-align: right;\">&vellip;</td><td style = \"text-align: right;\">&vellip;</td><td style = \"text-align: right;\">&vellip;</td><td style = \"text-align: right;\">&vellip;</td></tr><tr><td class = \"rowNumber\" style = \"font-weight: bold; text-align: right;\">134</td><td style = \"text-align: right;\">3.6</td><td style = \"text-align: right;\">21.6</td><td style = \"text-align: left;\">VUS_petit</td><td style = \"text-align: left;\">traction</td><td style = \"text-align: left;\">automatique</td><td style = \"text-align: right;\">6</td><td style = \"text-align: right;\">11.5354</td></tr><tr><td class = \"rowNumber\" style = \"font-weight: bold; text-align: right;\">135</td><td style = \"text-align: right;\">2.0</td><td style = \"text-align: right;\">8.0</td><td style = \"text-align: left;\">voiture_deux_places</td><td style = \"text-align: left;\">integrale</td><td style = \"text-align: left;\">automatique</td><td style = \"text-align: right;\">4</td><td style = \"text-align: right;\">9.04654</td></tr><tr><td class = \"rowNumber\" style = \"font-weight: bold; text-align: right;\">136</td><td style = \"text-align: right;\">1.5</td><td style = \"text-align: right;\">6.0</td><td style = \"text-align: left;\">voiture_moyenne</td><td style = \"text-align: left;\">traction</td><td style = \"text-align: left;\">automatique</td><td style = \"text-align: right;\">4</td><td style = \"text-align: right;\">4.52327</td></tr><tr><td class = \"rowNumber\" style = \"font-weight: bold; text-align: right;\">137</td><td style = \"text-align: right;\">2.4</td><td style = \"text-align: right;\">9.6</td><td style = \"text-align: left;\">voiture_compacte</td><td style = \"text-align: left;\">traction</td><td style = \"text-align: left;\">automatique</td><td style = \"text-align: right;\">4</td><td style = \"text-align: right;\">9.04654</td></tr><tr><td class = \"rowNumber\" style = \"font-weight: bold; text-align: right;\">138</td><td style = \"text-align: right;\">1.5</td><td style = \"text-align: right;\">6.0</td><td style = \"text-align: left;\">VUS_petit</td><td style = \"text-align: left;\">integrale</td><td style = \"text-align: left;\">automatique</td><td style = \"text-align: right;\">4</td><td style = \"text-align: right;\">9.04654</td></tr><tr><td class = \"rowNumber\" style = \"font-weight: bold; text-align: right;\">139</td><td style = \"text-align: right;\">3.6</td><td style = \"text-align: right;\">21.6</td><td style = \"text-align: left;\">monospace</td><td style = \"text-align: left;\">traction</td><td style = \"text-align: left;\">automatique</td><td style = \"text-align: right;\">6</td><td style = \"text-align: right;\">10.6914</td></tr><tr><td class = \"rowNumber\" style = \"font-weight: bold; text-align: right;\">140</td><td style = \"text-align: right;\">3.5</td><td style = \"text-align: right;\">21.0</td><td style = \"text-align: left;\">VUS_standard</td><td style = \"text-align: left;\">integrale</td><td style = \"text-align: left;\">automatique</td><td style = \"text-align: right;\">6</td><td style = \"text-align: right;\">11.7605</td></tr><tr><td class = \"rowNumber\" style = \"font-weight: bold; text-align: right;\">141</td><td style = \"text-align: right;\">1.4</td><td style = \"text-align: right;\">5.6</td><td style = \"text-align: left;\">voiture_compacte</td><td style = \"text-align: left;\">traction</td><td style = \"text-align: left;\">manuelle</td><td style = \"text-align: right;\">4</td><td style = \"text-align: right;\">6.91794</td></tr><tr><td class = \"rowNumber\" style = \"font-weight: bold; text-align: right;\">142</td><td style = \"text-align: right;\">6.2</td><td style = \"text-align: right;\">49.6</td><td style = \"text-align: left;\">voiture_deux_places</td><td style = \"text-align: left;\">propulsion</td><td style = \"text-align: left;\">automatique</td><td style = \"text-align: right;\">8</td><td style = \"text-align: right;\">15.6807</td></tr><tr><td class = \"rowNumber\" style = \"font-weight: bold; text-align: right;\">143</td><td style = \"text-align: right;\">3.0</td><td style = \"text-align: right;\">18.0</td><td style = \"text-align: left;\">voiture_sous_compacte</td><td style = \"text-align: left;\">propulsion</td><td style = \"text-align: left;\">manuelle</td><td style = \"text-align: right;\">6</td><td style = \"text-align: right;\">11.7605</td></tr><tr><td class = \"rowNumber\" style = \"font-weight: bold; text-align: right;\">144</td><td style = \"text-align: right;\">3.5</td><td style = \"text-align: right;\">21.0</td><td style = \"text-align: left;\">voiture_compacte</td><td style = \"text-align: left;\">integrale</td><td style = \"text-align: left;\">automatique</td><td style = \"text-align: right;\">6</td><td style = \"text-align: right;\">10.2265</td></tr><tr><td class = \"rowNumber\" style = \"font-weight: bold; text-align: right;\">145</td><td style = \"text-align: right;\">3.5</td><td style = \"text-align: right;\">21.0</td><td style = \"text-align: left;\">voiture_moyenne</td><td style = \"text-align: left;\">integrale</td><td style = \"text-align: left;\">automatique</td><td style = \"text-align: right;\">6</td><td style = \"text-align: right;\">7.84033</td></tr></tbody></table></div>"
      ],
      "text/latex": [
       "\\begin{tabular}{r|ccccccc}\n",
       "\t& cylindree & volume\\_gaz & type & transmission & boite & nombre\\_cylindres & \\\\\n",
       "\t\\hline\n",
       "\t& Float64 & Float64 & String31 & String15 & String15 & Int64 & \\\\\n",
       "\t\\hline\n",
       "\t1 & 4.4 & 35.2 & voiture\\_moyenne & integrale & automatique & 8 & $\\dots$ \\\\\n",
       "\t2 & 2.0 & 8.0 & VUS\\_petit & integrale & automatique & 4 & $\\dots$ \\\\\n",
       "\t3 & 3.3 & 19.8 & voiture\\_compacte & propulsion & automatique & 6 & $\\dots$ \\\\\n",
       "\t4 & 5.0 & 40.0 & voiture\\_deux\\_places & integrale & automatique & 8 & $\\dots$ \\\\\n",
       "\t5 & 1.5 & 4.5 & voiture\\_minicompacte & traction & automatique & 3 & $\\dots$ \\\\\n",
       "\t6 & 1.5 & 4.5 & voiture\\_minicompacte & traction & manuelle & 3 & $\\dots$ \\\\\n",
       "\t7 & 3.8 & 22.8 & VUS\\_standard & integrale & automatique & 6 & $\\dots$ \\\\\n",
       "\t8 & 3.3 & 19.8 & monospace & traction & automatique & 6 & $\\dots$ \\\\\n",
       "\t9 & 5.0 & 40.0 & VUS\\_standard & 4x4 & automatique & 8 & $\\dots$ \\\\\n",
       "\t10 & 3.0 & 18.0 & voiture\\_sous\\_compacte & propulsion & automatique & 6 & $\\dots$ \\\\\n",
       "\t11 & 3.0 & 18.0 & voiture\\_deux\\_places & propulsion & automatique & 6 & $\\dots$ \\\\\n",
       "\t12 & 3.6 & 21.6 & camionnette\\_petit & propulsion & automatique & 6 & $\\dots$ \\\\\n",
       "\t13 & 2.0 & 8.0 & voiture\\_compacte & propulsion & manuelle & 4 & $\\dots$ \\\\\n",
       "\t14 & 5.0 & 40.0 & VUS\\_petit & integrale & automatique & 8 & $\\dots$ \\\\\n",
       "\t15 & 3.0 & 18.0 & voiture\\_deux\\_places & integrale & automatique & 6 & $\\dots$ \\\\\n",
       "\t16 & 2.5 & 10.0 & VUS\\_petit & traction & automatique & 4 & $\\dots$ \\\\\n",
       "\t17 & 3.8 & 22.8 & voiture\\_sous\\_compacte & integrale & automatique & 6 & $\\dots$ \\\\\n",
       "\t18 & 2.5 & 10.0 & voiture\\_moyenne & traction & automatique & 4 & $\\dots$ \\\\\n",
       "\t19 & 5.9 & 70.8 & voiture\\_minicompacte & propulsion & automatique & 12 & $\\dots$ \\\\\n",
       "\t20 & 2.0 & 8.0 & voiture\\_moyenne & integrale & automatique & 4 & $\\dots$ \\\\\n",
       "\t21 & 6.2 & 49.6 & VUS\\_standard & 4x4 & automatique & 8 & $\\dots$ \\\\\n",
       "\t22 & 3.0 & 18.0 & voiture\\_moyenne & integrale & automatique & 6 & $\\dots$ \\\\\n",
       "\t23 & 1.6 & 6.4 & break\\_petit & traction & automatique & 4 & $\\dots$ \\\\\n",
       "\t24 & 3.5 & 21.0 & voiture\\_compacte & traction & automatique & 6 & $\\dots$ \\\\\n",
       "\t25 & 2.4 & 9.6 & VUS\\_petit & integrale & automatique & 4 & $\\dots$ \\\\\n",
       "\t26 & 2.0 & 8.0 & VUS\\_petit & traction & automatique & 4 & $\\dots$ \\\\\n",
       "\t27 & 2.0 & 8.0 & VUS\\_petit & traction & manuelle & 4 & $\\dots$ \\\\\n",
       "\t28 & 2.5 & 10.0 & VUS\\_petit & integrale & automatique & 4 & $\\dots$ \\\\\n",
       "\t29 & 2.0 & 8.0 & voiture\\_sous\\_compacte & integrale & automatique & 4 & $\\dots$ \\\\\n",
       "\t30 & 2.0 & 8.0 & break\\_petit & traction & automatique & 4 & $\\dots$ \\\\\n",
       "\t$\\dots$ & $\\dots$ & $\\dots$ & $\\dots$ & $\\dots$ & $\\dots$ & $\\dots$ &  \\\\\n",
       "\\end{tabular}\n"
      ],
      "text/plain": [
       "\u001b[1m145×7 DataFrame\u001b[0m\n",
       "\u001b[1m Row \u001b[0m│\u001b[1m cylindree \u001b[0m\u001b[1m volume_gaz \u001b[0m\u001b[1m type                  \u001b[0m\u001b[1m transmission \u001b[0m\u001b[1m boite      \u001b[0m ⋯\n",
       "     │\u001b[90m Float64   \u001b[0m\u001b[90m Float64    \u001b[0m\u001b[90m String31              \u001b[0m\u001b[90m String15     \u001b[0m\u001b[90m String15   \u001b[0m ⋯\n",
       "─────┼──────────────────────────────────────────────────────────────────────────\n",
       "   1 │       4.4        35.2  voiture_moyenne        integrale     automatique ⋯\n",
       "   2 │       2.0         8.0  VUS_petit              integrale     automatique\n",
       "   3 │       3.3        19.8  voiture_compacte       propulsion    automatique\n",
       "   4 │       5.0        40.0  voiture_deux_places    integrale     automatique\n",
       "   5 │       1.5         4.5  voiture_minicompacte   traction      automatique ⋯\n",
       "   6 │       1.5         4.5  voiture_minicompacte   traction      manuelle\n",
       "   7 │       3.8        22.8  VUS_standard           integrale     automatique\n",
       "   8 │       3.3        19.8  monospace              traction      automatique\n",
       "   9 │       5.0        40.0  VUS_standard           4x4           automatique ⋯\n",
       "  10 │       3.0        18.0  voiture_sous_compacte  propulsion    automatique\n",
       "  11 │       3.0        18.0  voiture_deux_places    propulsion    automatique\n",
       "  ⋮  │     ⋮          ⋮                 ⋮                 ⋮             ⋮      ⋱\n",
       " 136 │       1.5         6.0  voiture_moyenne        traction      automatique\n",
       " 137 │       2.4         9.6  voiture_compacte       traction      automatique ⋯\n",
       " 138 │       1.5         6.0  VUS_petit              integrale     automatique\n",
       " 139 │       3.6        21.6  monospace              traction      automatique\n",
       " 140 │       3.5        21.0  VUS_standard           integrale     automatique\n",
       " 141 │       1.4         5.6  voiture_compacte       traction      manuelle    ⋯\n",
       " 142 │       6.2        49.6  voiture_deux_places    propulsion    automatique\n",
       " 143 │       3.0        18.0  voiture_sous_compacte  propulsion    manuelle\n",
       " 144 │       3.5        21.0  voiture_compacte       integrale     automatique\n",
       " 145 │       3.5        21.0  voiture_moyenne        integrale     automatique ⋯\n",
       "\u001b[36m                                                  2 columns and 124 rows omitted\u001b[0m"
      ]
     },
     "execution_count": 133,
     "metadata": {},
     "output_type": "execute_result"
    }
   ],
   "source": [
    "uniqueD = combine(x -> mean(x.consommation), groupby(trainData[:, Not(:annee)], [  :cylindree, :volume_gaz, :type, :transmission, :boite, :nombre_cylindres]))\n",
    "rename!(uniqueD, :x1 => :consommation)"
   ]
  },
  {
   "cell_type": "code",
   "execution_count": 134,
   "metadata": {},
   "outputs": [
    {
     "data": {
      "text/html": [
       "<div><div style = \"float: left;\"><span>150×8 DataFrame</span></div><div style = \"float: right;\"><span style = \"font-style: italic;\">125 rows omitted</span></div><div style = \"clear: both;\"></div></div><div class = \"data-frame\" style = \"overflow-x: scroll;\"><table class = \"data-frame\" style = \"margin-bottom: 6px;\"><thead><tr class = \"header\"><th class = \"rowNumber\" style = \"font-weight: bold; text-align: right;\">Row</th><th style = \"text-align: left;\">ID</th><th style = \"text-align: left;\">annee</th><th style = \"text-align: left;\">type</th><th style = \"text-align: left;\">nombre_cylindres</th><th style = \"text-align: left;\">cylindree</th><th style = \"text-align: left;\">transmission</th><th style = \"text-align: left;\">boite</th><th style = \"text-align: left;\">volume_gaz</th></tr><tr class = \"subheader headerLastRow\"><th class = \"rowNumber\" style = \"font-weight: bold; text-align: right;\"></th><th title = \"Int64\" style = \"text-align: left;\">Int64</th><th title = \"Int64\" style = \"text-align: left;\">Int64</th><th title = \"String31\" style = \"text-align: left;\">String31</th><th title = \"Int64\" style = \"text-align: left;\">Int64</th><th title = \"Float64\" style = \"text-align: left;\">Float64</th><th title = \"String15\" style = \"text-align: left;\">String15</th><th title = \"String15\" style = \"text-align: left;\">String15</th><th title = \"Float64\" style = \"text-align: left;\">Float64</th></tr></thead><tbody><tr><td class = \"rowNumber\" style = \"font-weight: bold; text-align: right;\">1</td><td style = \"text-align: right;\">1</td><td style = \"text-align: right;\">2014</td><td style = \"text-align: left;\">voiture_moyenne</td><td style = \"text-align: right;\">4</td><td style = \"text-align: right;\">2.5</td><td style = \"text-align: left;\">traction</td><td style = \"text-align: left;\">manuelle</td><td style = \"text-align: right;\">10.0</td></tr><tr><td class = \"rowNumber\" style = \"font-weight: bold; text-align: right;\">2</td><td style = \"text-align: right;\">2</td><td style = \"text-align: right;\">2014</td><td style = \"text-align: left;\">voiture_moyenne</td><td style = \"text-align: right;\">4</td><td style = \"text-align: right;\">2.5</td><td style = \"text-align: left;\">traction</td><td style = \"text-align: left;\">automatique</td><td style = \"text-align: right;\">10.0</td></tr><tr><td class = \"rowNumber\" style = \"font-weight: bold; text-align: right;\">3</td><td style = \"text-align: right;\">3</td><td style = \"text-align: right;\">2014</td><td style = \"text-align: left;\">VUS_petit</td><td style = \"text-align: right;\">4</td><td style = \"text-align: right;\">2.5</td><td style = \"text-align: left;\">traction</td><td style = \"text-align: left;\">automatique</td><td style = \"text-align: right;\">10.0</td></tr><tr><td class = \"rowNumber\" style = \"font-weight: bold; text-align: right;\">4</td><td style = \"text-align: right;\">4</td><td style = \"text-align: right;\">2014</td><td style = \"text-align: left;\">VUS_petit</td><td style = \"text-align: right;\">4</td><td style = \"text-align: right;\">2.0</td><td style = \"text-align: left;\">4x4</td><td style = \"text-align: left;\">automatique</td><td style = \"text-align: right;\">8.0</td></tr><tr><td class = \"rowNumber\" style = \"font-weight: bold; text-align: right;\">5</td><td style = \"text-align: right;\">5</td><td style = \"text-align: right;\">2014</td><td style = \"text-align: left;\">voiture_sous_compacte</td><td style = \"text-align: right;\">8</td><td style = \"text-align: right;\">5.8</td><td style = \"text-align: left;\">propulsion</td><td style = \"text-align: left;\">manuelle</td><td style = \"text-align: right;\">46.4</td></tr><tr><td class = \"rowNumber\" style = \"font-weight: bold; text-align: right;\">6</td><td style = \"text-align: right;\">6</td><td style = \"text-align: right;\">2014</td><td style = \"text-align: left;\">voiture_sous_compacte</td><td style = \"text-align: right;\">8</td><td style = \"text-align: right;\">5.0</td><td style = \"text-align: left;\">propulsion</td><td style = \"text-align: left;\">automatique</td><td style = \"text-align: right;\">40.0</td></tr><tr><td class = \"rowNumber\" style = \"font-weight: bold; text-align: right;\">7</td><td style = \"text-align: right;\">7</td><td style = \"text-align: right;\">2014</td><td style = \"text-align: left;\">voiture_sous_compacte</td><td style = \"text-align: right;\">8</td><td style = \"text-align: right;\">5.0</td><td style = \"text-align: left;\">propulsion</td><td style = \"text-align: left;\">manuelle</td><td style = \"text-align: right;\">40.0</td></tr><tr><td class = \"rowNumber\" style = \"font-weight: bold; text-align: right;\">8</td><td style = \"text-align: right;\">8</td><td style = \"text-align: right;\">2014</td><td style = \"text-align: left;\">VUS_petit</td><td style = \"text-align: right;\">4</td><td style = \"text-align: right;\">2.4</td><td style = \"text-align: left;\">4x4</td><td style = \"text-align: left;\">automatique</td><td style = \"text-align: right;\">9.6</td></tr><tr><td class = \"rowNumber\" style = \"font-weight: bold; text-align: right;\">9</td><td style = \"text-align: right;\">9</td><td style = \"text-align: right;\">2014</td><td style = \"text-align: left;\">VUS_petit</td><td style = \"text-align: right;\">6</td><td style = \"text-align: right;\">3.5</td><td style = \"text-align: left;\">integrale</td><td style = \"text-align: left;\">automatique</td><td style = \"text-align: right;\">21.0</td></tr><tr><td class = \"rowNumber\" style = \"font-weight: bold; text-align: right;\">10</td><td style = \"text-align: right;\">10</td><td style = \"text-align: right;\">2014</td><td style = \"text-align: left;\">voiture_deux_places</td><td style = \"text-align: right;\">10</td><td style = \"text-align: right;\">5.2</td><td style = \"text-align: left;\">integrale</td><td style = \"text-align: left;\">manuelle</td><td style = \"text-align: right;\">52.0</td></tr><tr><td class = \"rowNumber\" style = \"font-weight: bold; text-align: right;\">11</td><td style = \"text-align: right;\">11</td><td style = \"text-align: right;\">2014</td><td style = \"text-align: left;\">voiture_deux_places</td><td style = \"text-align: right;\">10</td><td style = \"text-align: right;\">5.2</td><td style = \"text-align: left;\">integrale</td><td style = \"text-align: left;\">manuelle</td><td style = \"text-align: right;\">52.0</td></tr><tr><td class = \"rowNumber\" style = \"font-weight: bold; text-align: right;\">12</td><td style = \"text-align: right;\">12</td><td style = \"text-align: right;\">2014</td><td style = \"text-align: left;\">voiture_sous_compacte</td><td style = \"text-align: right;\">12</td><td style = \"text-align: right;\">5.9</td><td style = \"text-align: left;\">propulsion</td><td style = \"text-align: left;\">automatique</td><td style = \"text-align: right;\">70.8</td></tr><tr><td class = \"rowNumber\" style = \"font-weight: bold; text-align: right;\">13</td><td style = \"text-align: right;\">13</td><td style = \"text-align: right;\">2014</td><td style = \"text-align: left;\">VUS_petit</td><td style = \"text-align: right;\">4</td><td style = \"text-align: right;\">2.0</td><td style = \"text-align: left;\">traction</td><td style = \"text-align: left;\">automatique</td><td style = \"text-align: right;\">8.0</td></tr><tr><td style = \"text-align: right;\">&vellip;</td><td style = \"text-align: right;\">&vellip;</td><td style = \"text-align: right;\">&vellip;</td><td style = \"text-align: right;\">&vellip;</td><td style = \"text-align: right;\">&vellip;</td><td style = \"text-align: right;\">&vellip;</td><td style = \"text-align: right;\">&vellip;</td><td style = \"text-align: right;\">&vellip;</td><td style = \"text-align: right;\">&vellip;</td></tr><tr><td class = \"rowNumber\" style = \"font-weight: bold; text-align: right;\">139</td><td style = \"text-align: right;\">139</td><td style = \"text-align: right;\">2023</td><td style = \"text-align: left;\">VUS_petit</td><td style = \"text-align: right;\">4</td><td style = \"text-align: right;\">1.6</td><td style = \"text-align: left;\">traction</td><td style = \"text-align: left;\">automatique</td><td style = \"text-align: right;\">6.4</td></tr><tr><td class = \"rowNumber\" style = \"font-weight: bold; text-align: right;\">140</td><td style = \"text-align: right;\">140</td><td style = \"text-align: right;\">2023</td><td style = \"text-align: left;\">voiture_moyenne</td><td style = \"text-align: right;\">6</td><td style = \"text-align: right;\">3.3</td><td style = \"text-align: left;\">propulsion</td><td style = \"text-align: left;\">automatique</td><td style = \"text-align: right;\">19.8</td></tr><tr><td class = \"rowNumber\" style = \"font-weight: bold; text-align: right;\">141</td><td style = \"text-align: right;\">141</td><td style = \"text-align: right;\">2024</td><td style = \"text-align: left;\">voiture_deux_places</td><td style = \"text-align: right;\">8</td><td style = \"text-align: right;\">5.0</td><td style = \"text-align: left;\">propulsion</td><td style = \"text-align: left;\">automatique</td><td style = \"text-align: right;\">40.0</td></tr><tr><td class = \"rowNumber\" style = \"font-weight: bold; text-align: right;\">142</td><td style = \"text-align: right;\">142</td><td style = \"text-align: right;\">2024</td><td style = \"text-align: left;\">VUS_petit</td><td style = \"text-align: right;\">4</td><td style = \"text-align: right;\">2.0</td><td style = \"text-align: left;\">integrale</td><td style = \"text-align: left;\">automatique</td><td style = \"text-align: right;\">8.0</td></tr><tr><td class = \"rowNumber\" style = \"font-weight: bold; text-align: right;\">143</td><td style = \"text-align: right;\">143</td><td style = \"text-align: right;\">2024</td><td style = \"text-align: left;\">VUS_petit</td><td style = \"text-align: right;\">4</td><td style = \"text-align: right;\">2.0</td><td style = \"text-align: left;\">traction</td><td style = \"text-align: left;\">automatique</td><td style = \"text-align: right;\">8.0</td></tr><tr><td class = \"rowNumber\" style = \"font-weight: bold; text-align: right;\">144</td><td style = \"text-align: right;\">144</td><td style = \"text-align: right;\">2024</td><td style = \"text-align: left;\">VUS_petit</td><td style = \"text-align: right;\">4</td><td style = \"text-align: right;\">1.6</td><td style = \"text-align: left;\">integrale</td><td style = \"text-align: left;\">automatique</td><td style = \"text-align: right;\">6.4</td></tr><tr><td class = \"rowNumber\" style = \"font-weight: bold; text-align: right;\">145</td><td style = \"text-align: right;\">145</td><td style = \"text-align: right;\">2024</td><td style = \"text-align: left;\">voiture_sous_compacte</td><td style = \"text-align: right;\">4</td><td style = \"text-align: right;\">2.0</td><td style = \"text-align: left;\">propulsion</td><td style = \"text-align: left;\">automatique</td><td style = \"text-align: right;\">8.0</td></tr><tr><td class = \"rowNumber\" style = \"font-weight: bold; text-align: right;\">146</td><td style = \"text-align: right;\">146</td><td style = \"text-align: right;\">2024</td><td style = \"text-align: left;\">voiture_sous_compacte</td><td style = \"text-align: right;\">4</td><td style = \"text-align: right;\">2.0</td><td style = \"text-align: left;\">integrale</td><td style = \"text-align: left;\">automatique</td><td style = \"text-align: right;\">8.0</td></tr><tr><td class = \"rowNumber\" style = \"font-weight: bold; text-align: right;\">147</td><td style = \"text-align: right;\">147</td><td style = \"text-align: right;\">2024</td><td style = \"text-align: left;\">voiture_sous_compacte</td><td style = \"text-align: right;\">6</td><td style = \"text-align: right;\">3.0</td><td style = \"text-align: left;\">propulsion</td><td style = \"text-align: left;\">manuelle</td><td style = \"text-align: right;\">18.0</td></tr><tr><td class = \"rowNumber\" style = \"font-weight: bold; text-align: right;\">148</td><td style = \"text-align: right;\">148</td><td style = \"text-align: right;\">2024</td><td style = \"text-align: left;\">voiture_sous_compacte</td><td style = \"text-align: right;\">6</td><td style = \"text-align: right;\">3.0</td><td style = \"text-align: left;\">propulsion</td><td style = \"text-align: left;\">automatique</td><td style = \"text-align: right;\">18.0</td></tr><tr><td class = \"rowNumber\" style = \"font-weight: bold; text-align: right;\">149</td><td style = \"text-align: right;\">149</td><td style = \"text-align: right;\">2024</td><td style = \"text-align: left;\">voiture_sous_compacte</td><td style = \"text-align: right;\">3</td><td style = \"text-align: right;\">1.5</td><td style = \"text-align: left;\">traction</td><td style = \"text-align: left;\">manuelle</td><td style = \"text-align: right;\">4.5</td></tr><tr><td class = \"rowNumber\" style = \"font-weight: bold; text-align: right;\">150</td><td style = \"text-align: right;\">150</td><td style = \"text-align: right;\">2024</td><td style = \"text-align: left;\">voiture_sous_compacte</td><td style = \"text-align: right;\">4</td><td style = \"text-align: right;\">2.0</td><td style = \"text-align: left;\">traction</td><td style = \"text-align: left;\">automatique</td><td style = \"text-align: right;\">8.0</td></tr></tbody></table></div>"
      ],
      "text/latex": [
       "\\begin{tabular}{r|ccccccc}\n",
       "\t& ID & annee & type & nombre\\_cylindres & cylindree & transmission & \\\\\n",
       "\t\\hline\n",
       "\t& Int64 & Int64 & String31 & Int64 & Float64 & String15 & \\\\\n",
       "\t\\hline\n",
       "\t1 & 1 & 2014 & voiture\\_moyenne & 4 & 2.5 & traction & $\\dots$ \\\\\n",
       "\t2 & 2 & 2014 & voiture\\_moyenne & 4 & 2.5 & traction & $\\dots$ \\\\\n",
       "\t3 & 3 & 2014 & VUS\\_petit & 4 & 2.5 & traction & $\\dots$ \\\\\n",
       "\t4 & 4 & 2014 & VUS\\_petit & 4 & 2.0 & 4x4 & $\\dots$ \\\\\n",
       "\t5 & 5 & 2014 & voiture\\_sous\\_compacte & 8 & 5.8 & propulsion & $\\dots$ \\\\\n",
       "\t6 & 6 & 2014 & voiture\\_sous\\_compacte & 8 & 5.0 & propulsion & $\\dots$ \\\\\n",
       "\t7 & 7 & 2014 & voiture\\_sous\\_compacte & 8 & 5.0 & propulsion & $\\dots$ \\\\\n",
       "\t8 & 8 & 2014 & VUS\\_petit & 4 & 2.4 & 4x4 & $\\dots$ \\\\\n",
       "\t9 & 9 & 2014 & VUS\\_petit & 6 & 3.5 & integrale & $\\dots$ \\\\\n",
       "\t10 & 10 & 2014 & voiture\\_deux\\_places & 10 & 5.2 & integrale & $\\dots$ \\\\\n",
       "\t11 & 11 & 2014 & voiture\\_deux\\_places & 10 & 5.2 & integrale & $\\dots$ \\\\\n",
       "\t12 & 12 & 2014 & voiture\\_sous\\_compacte & 12 & 5.9 & propulsion & $\\dots$ \\\\\n",
       "\t13 & 13 & 2014 & VUS\\_petit & 4 & 2.0 & traction & $\\dots$ \\\\\n",
       "\t14 & 14 & 2014 & VUS\\_petit & 4 & 2.4 & traction & $\\dots$ \\\\\n",
       "\t15 & 15 & 2015 & voiture\\_moyenne & 4 & 2.5 & traction & $\\dots$ \\\\\n",
       "\t16 & 16 & 2015 & VUS\\_petit & 6 & 3.0 & integrale & $\\dots$ \\\\\n",
       "\t17 & 17 & 2015 & camionnette\\_standard & 8 & 5.3 & propulsion & $\\dots$ \\\\\n",
       "\t18 & 18 & 2015 & camionnette\\_standard & 8 & 5.3 & propulsion & $\\dots$ \\\\\n",
       "\t19 & 19 & 2015 & camionnette\\_standard & 8 & 5.3 & 4x4 & $\\dots$ \\\\\n",
       "\t20 & 20 & 2015 & camionnette\\_standard & 8 & 5.3 & 4x4 & $\\dots$ \\\\\n",
       "\t21 & 21 & 2015 & VUS\\_standard & 8 & 6.2 & propulsion & $\\dots$ \\\\\n",
       "\t22 & 22 & 2015 & VUS\\_standard & 8 & 5.3 & propulsion & $\\dots$ \\\\\n",
       "\t23 & 23 & 2015 & VUS\\_standard & 8 & 5.3 & propulsion & $\\dots$ \\\\\n",
       "\t24 & 24 & 2015 & VUS\\_standard & 8 & 6.2 & propulsion & $\\dots$ \\\\\n",
       "\t25 & 25 & 2015 & VUS\\_standard & 8 & 5.3 & propulsion & $\\dots$ \\\\\n",
       "\t26 & 26 & 2015 & VUS\\_standard & 8 & 6.2 & 4x4 & $\\dots$ \\\\\n",
       "\t27 & 27 & 2015 & VUS\\_standard & 8 & 5.3 & 4x4 & $\\dots$ \\\\\n",
       "\t28 & 28 & 2015 & VUS\\_standard & 8 & 6.2 & 4x4 & $\\dots$ \\\\\n",
       "\t29 & 29 & 2015 & voiture\\_deux\\_places & 8 & 5.0 & propulsion & $\\dots$ \\\\\n",
       "\t30 & 30 & 2015 & voiture\\_deux\\_places & 6 & 3.0 & propulsion & $\\dots$ \\\\\n",
       "\t$\\dots$ & $\\dots$ & $\\dots$ & $\\dots$ & $\\dots$ & $\\dots$ & $\\dots$ &  \\\\\n",
       "\\end{tabular}\n"
      ],
      "text/plain": [
       "\u001b[1m150×8 DataFrame\u001b[0m\n",
       "\u001b[1m Row \u001b[0m│\u001b[1m ID    \u001b[0m\u001b[1m annee \u001b[0m\u001b[1m type                  \u001b[0m\u001b[1m nombre_cylindres \u001b[0m\u001b[1m cylindree \u001b[0m\u001b[1m trans\u001b[0m ⋯\n",
       "     │\u001b[90m Int64 \u001b[0m\u001b[90m Int64 \u001b[0m\u001b[90m String31              \u001b[0m\u001b[90m Int64            \u001b[0m\u001b[90m Float64   \u001b[0m\u001b[90m Strin\u001b[0m ⋯\n",
       "─────┼──────────────────────────────────────────────────────────────────────────\n",
       "   1 │     1   2014  voiture_moyenne                       4        2.5  tract ⋯\n",
       "   2 │     2   2014  voiture_moyenne                       4        2.5  tract\n",
       "   3 │     3   2014  VUS_petit                             4        2.5  tract\n",
       "   4 │     4   2014  VUS_petit                             4        2.0  4x4\n",
       "   5 │     5   2014  voiture_sous_compacte                 8        5.8  propu ⋯\n",
       "   6 │     6   2014  voiture_sous_compacte                 8        5.0  propu\n",
       "   7 │     7   2014  voiture_sous_compacte                 8        5.0  propu\n",
       "   8 │     8   2014  VUS_petit                             4        2.4  4x4\n",
       "   9 │     9   2014  VUS_petit                             6        3.5  integ ⋯\n",
       "  10 │    10   2014  voiture_deux_places                  10        5.2  integ\n",
       "  11 │    11   2014  voiture_deux_places                  10        5.2  integ\n",
       "  ⋮  │   ⋮      ⋮              ⋮                   ⋮              ⋮            ⋱\n",
       " 141 │   141   2024  voiture_deux_places                   8        5.0  propu\n",
       " 142 │   142   2024  VUS_petit                             4        2.0  integ ⋯\n",
       " 143 │   143   2024  VUS_petit                             4        2.0  tract\n",
       " 144 │   144   2024  VUS_petit                             4        1.6  integ\n",
       " 145 │   145   2024  voiture_sous_compacte                 4        2.0  propu\n",
       " 146 │   146   2024  voiture_sous_compacte                 4        2.0  integ ⋯\n",
       " 147 │   147   2024  voiture_sous_compacte                 6        3.0  propu\n",
       " 148 │   148   2024  voiture_sous_compacte                 6        3.0  propu\n",
       " 149 │   149   2024  voiture_sous_compacte                 3        1.5  tract\n",
       " 150 │   150   2024  voiture_sous_compacte                 4        2.0  tract ⋯\n",
       "\u001b[36m                                                  3 columns and 129 rows omitted\u001b[0m"
      ]
     },
     "execution_count": 134,
     "metadata": {},
     "output_type": "execute_result"
    }
   ],
   "source": [
    "testData"
   ]
  },
  {
   "cell_type": "code",
   "execution_count": 135,
   "metadata": {},
   "outputs": [
    {
     "data": {
      "text/html": [
       "<div><div style = \"float: left;\"><span>150×9 DataFrame</span></div><div style = \"float: right;\"><span style = \"font-style: italic;\">125 rows omitted</span></div><div style = \"clear: both;\"></div></div><div class = \"data-frame\" style = \"overflow-x: scroll;\"><table class = \"data-frame\" style = \"margin-bottom: 6px;\"><thead><tr class = \"header\"><th class = \"rowNumber\" style = \"font-weight: bold; text-align: right;\">Row</th><th style = \"text-align: left;\">ID</th><th style = \"text-align: left;\">annee</th><th style = \"text-align: left;\">type</th><th style = \"text-align: left;\">nombre_cylindres</th><th style = \"text-align: left;\">cylindree</th><th style = \"text-align: left;\">transmission</th><th style = \"text-align: left;\">boite</th><th style = \"text-align: left;\">volume_gaz</th><th style = \"text-align: left;\">consommation</th></tr><tr class = \"subheader headerLastRow\"><th class = \"rowNumber\" style = \"font-weight: bold; text-align: right;\"></th><th title = \"Int64\" style = \"text-align: left;\">Int64</th><th title = \"Int64\" style = \"text-align: left;\">Int64</th><th title = \"String31\" style = \"text-align: left;\">String31</th><th title = \"Int64\" style = \"text-align: left;\">Int64</th><th title = \"Float64\" style = \"text-align: left;\">Float64</th><th title = \"String15\" style = \"text-align: left;\">String15</th><th title = \"String15\" style = \"text-align: left;\">String15</th><th title = \"Float64\" style = \"text-align: left;\">Float64</th><th title = \"Union{Missing, Float64}\" style = \"text-align: left;\">Float64?</th></tr></thead><tbody><tr><td class = \"rowNumber\" style = \"font-weight: bold; text-align: right;\">1</td><td style = \"text-align: right;\">1</td><td style = \"text-align: right;\">2014</td><td style = \"text-align: left;\">voiture_moyenne</td><td style = \"text-align: right;\">4</td><td style = \"text-align: right;\">2.5</td><td style = \"text-align: left;\">traction</td><td style = \"text-align: left;\">manuelle</td><td style = \"text-align: right;\">10.0</td><td style = \"text-align: right;\">8.11069</td></tr><tr><td class = \"rowNumber\" style = \"font-weight: bold; text-align: right;\">2</td><td style = \"text-align: right;\">2</td><td style = \"text-align: right;\">2014</td><td style = \"text-align: left;\">voiture_moyenne</td><td style = \"text-align: right;\">4</td><td style = \"text-align: right;\">2.5</td><td style = \"text-align: left;\">traction</td><td style = \"text-align: left;\">automatique</td><td style = \"text-align: right;\">10.0</td><td style = \"text-align: right;\">7.59532</td></tr><tr><td class = \"rowNumber\" style = \"font-weight: bold; text-align: right;\">3</td><td style = \"text-align: right;\">3</td><td style = \"text-align: right;\">2014</td><td style = \"text-align: left;\">VUS_petit</td><td style = \"text-align: right;\">4</td><td style = \"text-align: right;\">2.5</td><td style = \"text-align: left;\">traction</td><td style = \"text-align: left;\">automatique</td><td style = \"text-align: right;\">10.0</td><td style = \"text-align: right;\">8.66848</td></tr><tr><td class = \"rowNumber\" style = \"font-weight: bold; text-align: right;\">4</td><td style = \"text-align: right;\">4</td><td style = \"text-align: right;\">2014</td><td style = \"text-align: left;\">VUS_petit</td><td style = \"text-align: right;\">4</td><td style = \"text-align: right;\">2.0</td><td style = \"text-align: left;\">4x4</td><td style = \"text-align: left;\">automatique</td><td style = \"text-align: right;\">8.0</td><td style = \"text-align: right;\">8.71148</td></tr><tr><td class = \"rowNumber\" style = \"font-weight: bold; text-align: right;\">5</td><td style = \"text-align: right;\">6</td><td style = \"text-align: right;\">2014</td><td style = \"text-align: left;\">voiture_sous_compacte</td><td style = \"text-align: right;\">8</td><td style = \"text-align: right;\">5.0</td><td style = \"text-align: left;\">propulsion</td><td style = \"text-align: left;\">automatique</td><td style = \"text-align: right;\">40.0</td><td style = \"text-align: right;\">13.8359</td></tr><tr><td class = \"rowNumber\" style = \"font-weight: bold; text-align: right;\">6</td><td style = \"text-align: right;\">7</td><td style = \"text-align: right;\">2014</td><td style = \"text-align: left;\">voiture_sous_compacte</td><td style = \"text-align: right;\">8</td><td style = \"text-align: right;\">5.0</td><td style = \"text-align: left;\">propulsion</td><td style = \"text-align: left;\">manuelle</td><td style = \"text-align: right;\">40.0</td><td style = \"text-align: right;\">13.8359</td></tr><tr><td class = \"rowNumber\" style = \"font-weight: bold; text-align: right;\">7</td><td style = \"text-align: right;\">8</td><td style = \"text-align: right;\">2014</td><td style = \"text-align: left;\">VUS_petit</td><td style = \"text-align: right;\">4</td><td style = \"text-align: right;\">2.4</td><td style = \"text-align: left;\">4x4</td><td style = \"text-align: left;\">automatique</td><td style = \"text-align: right;\">9.6</td><td style = \"text-align: right;\">10.2265</td></tr><tr><td class = \"rowNumber\" style = \"font-weight: bold; text-align: right;\">8</td><td style = \"text-align: right;\">9</td><td style = \"text-align: right;\">2014</td><td style = \"text-align: left;\">VUS_petit</td><td style = \"text-align: right;\">6</td><td style = \"text-align: right;\">3.5</td><td style = \"text-align: left;\">integrale</td><td style = \"text-align: left;\">automatique</td><td style = \"text-align: right;\">21.0</td><td style = \"text-align: right;\">10.9459</td></tr><tr><td class = \"rowNumber\" style = \"font-weight: bold; text-align: right;\">9</td><td style = \"text-align: right;\">13</td><td style = \"text-align: right;\">2014</td><td style = \"text-align: left;\">VUS_petit</td><td style = \"text-align: right;\">4</td><td style = \"text-align: right;\">2.0</td><td style = \"text-align: left;\">traction</td><td style = \"text-align: left;\">automatique</td><td style = \"text-align: right;\">8.0</td><td style = \"text-align: right;\">9.30079</td></tr><tr><td class = \"rowNumber\" style = \"font-weight: bold; text-align: right;\">10</td><td style = \"text-align: right;\">14</td><td style = \"text-align: right;\">2014</td><td style = \"text-align: left;\">VUS_petit</td><td style = \"text-align: right;\">4</td><td style = \"text-align: right;\">2.4</td><td style = \"text-align: left;\">traction</td><td style = \"text-align: left;\">manuelle</td><td style = \"text-align: right;\">9.6</td><td style = \"text-align: right;\">10.3044</td></tr><tr><td class = \"rowNumber\" style = \"font-weight: bold; text-align: right;\">11</td><td style = \"text-align: right;\">15</td><td style = \"text-align: right;\">2015</td><td style = \"text-align: left;\">voiture_moyenne</td><td style = \"text-align: right;\">4</td><td style = \"text-align: right;\">2.5</td><td style = \"text-align: left;\">traction</td><td style = \"text-align: left;\">manuelle</td><td style = \"text-align: right;\">10.0</td><td style = \"text-align: right;\">8.11069</td></tr><tr><td class = \"rowNumber\" style = \"font-weight: bold; text-align: right;\">12</td><td style = \"text-align: right;\">16</td><td style = \"text-align: right;\">2015</td><td style = \"text-align: left;\">VUS_petit</td><td style = \"text-align: right;\">6</td><td style = \"text-align: right;\">3.0</td><td style = \"text-align: left;\">integrale</td><td style = \"text-align: left;\">automatique</td><td style = \"text-align: right;\">18.0</td><td style = \"text-align: right;\">11.5738</td></tr><tr><td class = \"rowNumber\" style = \"font-weight: bold; text-align: right;\">13</td><td style = \"text-align: right;\">21</td><td style = \"text-align: right;\">2015</td><td style = \"text-align: left;\">VUS_standard</td><td style = \"text-align: right;\">8</td><td style = \"text-align: right;\">6.2</td><td style = \"text-align: left;\">propulsion</td><td style = \"text-align: left;\">automatique</td><td style = \"text-align: right;\">49.6</td><td style = \"text-align: right;\">13.8359</td></tr><tr><td style = \"text-align: right;\">&vellip;</td><td style = \"text-align: right;\">&vellip;</td><td style = \"text-align: right;\">&vellip;</td><td style = \"text-align: right;\">&vellip;</td><td style = \"text-align: right;\">&vellip;</td><td style = \"text-align: right;\">&vellip;</td><td style = \"text-align: right;\">&vellip;</td><td style = \"text-align: right;\">&vellip;</td><td style = \"text-align: right;\">&vellip;</td><td style = \"text-align: right;\">&vellip;</td></tr><tr><td class = \"rowNumber\" style = \"font-weight: bold; text-align: right;\">139</td><td style = \"text-align: right;\">88</td><td style = \"text-align: right;\">2019</td><td style = \"text-align: left;\">camionnette_standard</td><td style = \"text-align: right;\">6</td><td style = \"text-align: right;\">3.5</td><td style = \"text-align: left;\">integrale</td><td style = \"text-align: left;\">automatique</td><td style = \"text-align: right;\">21.0</td><td style = \"font-style: italic; text-align: right;\">missing</td></tr><tr><td class = \"rowNumber\" style = \"font-weight: bold; text-align: right;\">140</td><td style = \"text-align: right;\">98</td><td style = \"text-align: right;\">2020</td><td style = \"text-align: left;\">break_petit</td><td style = \"text-align: right;\">4</td><td style = \"text-align: right;\">2.0</td><td style = \"text-align: left;\">traction</td><td style = \"text-align: left;\">manuelle</td><td style = \"text-align: right;\">8.0</td><td style = \"font-style: italic; text-align: right;\">missing</td></tr><tr><td class = \"rowNumber\" style = \"font-weight: bold; text-align: right;\">141</td><td style = \"text-align: right;\">99</td><td style = \"text-align: right;\">2020</td><td style = \"text-align: left;\">VUS_petit</td><td style = \"text-align: right;\">6</td><td style = \"text-align: right;\">3.8</td><td style = \"text-align: left;\">traction</td><td style = \"text-align: left;\">automatique</td><td style = \"text-align: right;\">22.8</td><td style = \"font-style: italic; text-align: right;\">missing</td></tr><tr><td class = \"rowNumber\" style = \"font-weight: bold; text-align: right;\">142</td><td style = \"text-align: right;\">107</td><td style = \"text-align: right;\">2020</td><td style = \"text-align: left;\">break_moyen</td><td style = \"text-align: right;\">4</td><td style = \"text-align: right;\">2.0</td><td style = \"text-align: left;\">integrale</td><td style = \"text-align: left;\">automatique</td><td style = \"text-align: right;\">8.0</td><td style = \"font-style: italic; text-align: right;\">missing</td></tr><tr><td class = \"rowNumber\" style = \"font-weight: bold; text-align: right;\">143</td><td style = \"text-align: right;\">110</td><td style = \"text-align: right;\">2021</td><td style = \"text-align: left;\">VUS_standard</td><td style = \"text-align: right;\">6</td><td style = \"text-align: right;\">3.6</td><td style = \"text-align: left;\">integrale</td><td style = \"text-align: left;\">automatique</td><td style = \"text-align: right;\">21.6</td><td style = \"font-style: italic; text-align: right;\">missing</td></tr><tr><td class = \"rowNumber\" style = \"font-weight: bold; text-align: right;\">144</td><td style = \"text-align: right;\">112</td><td style = \"text-align: right;\">2021</td><td style = \"text-align: left;\">break_petit</td><td style = \"text-align: right;\">4</td><td style = \"text-align: right;\">2.0</td><td style = \"text-align: left;\">traction</td><td style = \"text-align: left;\">manuelle</td><td style = \"text-align: right;\">8.0</td><td style = \"font-style: italic; text-align: right;\">missing</td></tr><tr><td class = \"rowNumber\" style = \"font-weight: bold; text-align: right;\">145</td><td style = \"text-align: right;\">115</td><td style = \"text-align: right;\">2021</td><td style = \"text-align: left;\">VUS_petit</td><td style = \"text-align: right;\">3</td><td style = \"text-align: right;\">1.3</td><td style = \"text-align: left;\">traction</td><td style = \"text-align: left;\">automatique</td><td style = \"text-align: right;\">3.9</td><td style = \"font-style: italic; text-align: right;\">missing</td></tr><tr><td class = \"rowNumber\" style = \"font-weight: bold; text-align: right;\">146</td><td style = \"text-align: right;\">118</td><td style = \"text-align: right;\">2021</td><td style = \"text-align: left;\">camionnette_petit</td><td style = \"text-align: right;\">4</td><td style = \"text-align: right;\">2.5</td><td style = \"text-align: left;\">4x4</td><td style = \"text-align: left;\">automatique</td><td style = \"text-align: right;\">10.0</td><td style = \"font-style: italic; text-align: right;\">missing</td></tr><tr><td class = \"rowNumber\" style = \"font-weight: bold; text-align: right;\">147</td><td style = \"text-align: right;\">119</td><td style = \"text-align: right;\">2021</td><td style = \"text-align: left;\">camionnette_petit</td><td style = \"text-align: right;\">6</td><td style = \"text-align: right;\">3.6</td><td style = \"text-align: left;\">4x4</td><td style = \"text-align: left;\">automatique</td><td style = \"text-align: right;\">21.6</td><td style = \"font-style: italic; text-align: right;\">missing</td></tr><tr><td class = \"rowNumber\" style = \"font-weight: bold; text-align: right;\">148</td><td style = \"text-align: right;\">124</td><td style = \"text-align: right;\">2022</td><td style = \"text-align: left;\">VUS_petit</td><td style = \"text-align: right;\">4</td><td style = \"text-align: right;\">1.5</td><td style = \"text-align: left;\">4x4</td><td style = \"text-align: left;\">automatique</td><td style = \"text-align: right;\">6.0</td><td style = \"font-style: italic; text-align: right;\">missing</td></tr><tr><td class = \"rowNumber\" style = \"font-weight: bold; text-align: right;\">149</td><td style = \"text-align: right;\">125</td><td style = \"text-align: right;\">2022</td><td style = \"text-align: left;\">VUS_petit</td><td style = \"text-align: right;\">4</td><td style = \"text-align: right;\">1.5</td><td style = \"text-align: left;\">4x4</td><td style = \"text-align: left;\">automatique</td><td style = \"text-align: right;\">6.0</td><td style = \"font-style: italic; text-align: right;\">missing</td></tr><tr><td class = \"rowNumber\" style = \"font-weight: bold; text-align: right;\">150</td><td style = \"text-align: right;\">132</td><td style = \"text-align: right;\">2022</td><td style = \"text-align: left;\">voiture_moyenne</td><td style = \"text-align: right;\">4</td><td style = \"text-align: right;\">2.0</td><td style = \"text-align: left;\">traction</td><td style = \"text-align: left;\">manuelle</td><td style = \"text-align: right;\">8.0</td><td style = \"font-style: italic; text-align: right;\">missing</td></tr></tbody></table></div>"
      ],
      "text/latex": [
       "\\begin{tabular}{r|ccccccc}\n",
       "\t& ID & annee & type & nombre\\_cylindres & cylindree & transmission & \\\\\n",
       "\t\\hline\n",
       "\t& Int64 & Int64 & String31 & Int64 & Float64 & String15 & \\\\\n",
       "\t\\hline\n",
       "\t1 & 1 & 2014 & voiture\\_moyenne & 4 & 2.5 & traction & $\\dots$ \\\\\n",
       "\t2 & 2 & 2014 & voiture\\_moyenne & 4 & 2.5 & traction & $\\dots$ \\\\\n",
       "\t3 & 3 & 2014 & VUS\\_petit & 4 & 2.5 & traction & $\\dots$ \\\\\n",
       "\t4 & 4 & 2014 & VUS\\_petit & 4 & 2.0 & 4x4 & $\\dots$ \\\\\n",
       "\t5 & 6 & 2014 & voiture\\_sous\\_compacte & 8 & 5.0 & propulsion & $\\dots$ \\\\\n",
       "\t6 & 7 & 2014 & voiture\\_sous\\_compacte & 8 & 5.0 & propulsion & $\\dots$ \\\\\n",
       "\t7 & 8 & 2014 & VUS\\_petit & 4 & 2.4 & 4x4 & $\\dots$ \\\\\n",
       "\t8 & 9 & 2014 & VUS\\_petit & 6 & 3.5 & integrale & $\\dots$ \\\\\n",
       "\t9 & 13 & 2014 & VUS\\_petit & 4 & 2.0 & traction & $\\dots$ \\\\\n",
       "\t10 & 14 & 2014 & VUS\\_petit & 4 & 2.4 & traction & $\\dots$ \\\\\n",
       "\t11 & 15 & 2015 & voiture\\_moyenne & 4 & 2.5 & traction & $\\dots$ \\\\\n",
       "\t12 & 16 & 2015 & VUS\\_petit & 6 & 3.0 & integrale & $\\dots$ \\\\\n",
       "\t13 & 21 & 2015 & VUS\\_standard & 8 & 6.2 & propulsion & $\\dots$ \\\\\n",
       "\t14 & 22 & 2015 & VUS\\_standard & 8 & 5.3 & propulsion & $\\dots$ \\\\\n",
       "\t15 & 23 & 2015 & VUS\\_standard & 8 & 5.3 & propulsion & $\\dots$ \\\\\n",
       "\t16 & 24 & 2015 & VUS\\_standard & 8 & 6.2 & propulsion & $\\dots$ \\\\\n",
       "\t17 & 25 & 2015 & VUS\\_standard & 8 & 5.3 & propulsion & $\\dots$ \\\\\n",
       "\t18 & 26 & 2015 & VUS\\_standard & 8 & 6.2 & 4x4 & $\\dots$ \\\\\n",
       "\t19 & 27 & 2015 & VUS\\_standard & 8 & 5.3 & 4x4 & $\\dots$ \\\\\n",
       "\t20 & 28 & 2015 & VUS\\_standard & 8 & 6.2 & 4x4 & $\\dots$ \\\\\n",
       "\t21 & 29 & 2015 & voiture\\_deux\\_places & 8 & 5.0 & propulsion & $\\dots$ \\\\\n",
       "\t22 & 30 & 2015 & voiture\\_deux\\_places & 6 & 3.0 & propulsion & $\\dots$ \\\\\n",
       "\t23 & 31 & 2016 & VUS\\_petit & 6 & 3.3 & integrale & $\\dots$ \\\\\n",
       "\t24 & 32 & 2016 & VUS\\_petit & 4 & 2.5 & traction & $\\dots$ \\\\\n",
       "\t25 & 33 & 2016 & VUS\\_petit & 4 & 2.4 & integrale & $\\dots$ \\\\\n",
       "\t26 & 34 & 2016 & VUS\\_petit & 6 & 3.3 & integrale & $\\dots$ \\\\\n",
       "\t27 & 35 & 2016 & VUS\\_petit & 4 & 2.5 & 4x4 & $\\dots$ \\\\\n",
       "\t28 & 36 & 2016 & VUS\\_petit & 4 & 1.8 & traction & $\\dots$ \\\\\n",
       "\t29 & 37 & 2016 & voiture\\_deux\\_places & 6 & 3.0 & propulsion & $\\dots$ \\\\\n",
       "\t30 & 38 & 2016 & voiture\\_deux\\_places & 6 & 3.0 & propulsion & $\\dots$ \\\\\n",
       "\t$\\dots$ & $\\dots$ & $\\dots$ & $\\dots$ & $\\dots$ & $\\dots$ & $\\dots$ &  \\\\\n",
       "\\end{tabular}\n"
      ],
      "text/plain": [
       "\u001b[1m150×9 DataFrame\u001b[0m\n",
       "\u001b[1m Row \u001b[0m│\u001b[1m ID    \u001b[0m\u001b[1m annee \u001b[0m\u001b[1m type                  \u001b[0m\u001b[1m nombre_cylindres \u001b[0m\u001b[1m cylindree \u001b[0m\u001b[1m trans\u001b[0m ⋯\n",
       "     │\u001b[90m Int64 \u001b[0m\u001b[90m Int64 \u001b[0m\u001b[90m String31              \u001b[0m\u001b[90m Int64            \u001b[0m\u001b[90m Float64   \u001b[0m\u001b[90m Strin\u001b[0m ⋯\n",
       "─────┼──────────────────────────────────────────────────────────────────────────\n",
       "   1 │     1   2014  voiture_moyenne                       4        2.5  tract ⋯\n",
       "   2 │     2   2014  voiture_moyenne                       4        2.5  tract\n",
       "   3 │     3   2014  VUS_petit                             4        2.5  tract\n",
       "   4 │     4   2014  VUS_petit                             4        2.0  4x4\n",
       "   5 │     6   2014  voiture_sous_compacte                 8        5.0  propu ⋯\n",
       "   6 │     7   2014  voiture_sous_compacte                 8        5.0  propu\n",
       "   7 │     8   2014  VUS_petit                             4        2.4  4x4\n",
       "   8 │     9   2014  VUS_petit                             6        3.5  integ\n",
       "   9 │    13   2014  VUS_petit                             4        2.0  tract ⋯\n",
       "  10 │    14   2014  VUS_petit                             4        2.4  tract\n",
       "  11 │    15   2015  voiture_moyenne                       4        2.5  tract\n",
       "  ⋮  │   ⋮      ⋮              ⋮                   ⋮              ⋮            ⋱\n",
       " 141 │    99   2020  VUS_petit                             6        3.8  tract\n",
       " 142 │   107   2020  break_moyen                           4        2.0  integ ⋯\n",
       " 143 │   110   2021  VUS_standard                          6        3.6  integ\n",
       " 144 │   112   2021  break_petit                           4        2.0  tract\n",
       " 145 │   115   2021  VUS_petit                             3        1.3  tract\n",
       " 146 │   118   2021  camionnette_petit                     4        2.5  4x4   ⋯\n",
       " 147 │   119   2021  camionnette_petit                     6        3.6  4x4\n",
       " 148 │   124   2022  VUS_petit                             4        1.5  4x4\n",
       " 149 │   125   2022  VUS_petit                             4        1.5  4x4\n",
       " 150 │   132   2022  voiture_moyenne                       4        2.0  tract ⋯\n",
       "\u001b[36m                                                  4 columns and 129 rows omitted\u001b[0m"
      ]
     },
     "execution_count": 135,
     "metadata": {},
     "output_type": "execute_result"
    }
   ],
   "source": [
    "testData = DataFrames.leftjoin(testData,uniqueD, on = [:type,\t:nombre_cylindres, :cylindree,\t:transmission,\t:boite,\t:volume_gaz])"
   ]
  },
  {
   "cell_type": "code",
   "execution_count": 136,
   "metadata": {},
   "outputs": [
    {
     "data": {
      "text/html": [
       "<div><div style = \"float: left;\"><span>30×9 DataFrame</span></div><div style = \"float: right;\"><span style = \"font-style: italic;\">5 rows omitted</span></div><div style = \"clear: both;\"></div></div><div class = \"data-frame\" style = \"overflow-x: scroll;\"><table class = \"data-frame\" style = \"margin-bottom: 6px;\"><thead><tr class = \"header\"><th class = \"rowNumber\" style = \"font-weight: bold; text-align: right;\">Row</th><th style = \"text-align: left;\">ID</th><th style = \"text-align: left;\">annee</th><th style = \"text-align: left;\">type</th><th style = \"text-align: left;\">nombre_cylindres</th><th style = \"text-align: left;\">cylindree</th><th style = \"text-align: left;\">transmission</th><th style = \"text-align: left;\">boite</th><th style = \"text-align: left;\">volume_gaz</th><th style = \"text-align: left;\">consommation</th></tr><tr class = \"subheader headerLastRow\"><th class = \"rowNumber\" style = \"font-weight: bold; text-align: right;\"></th><th title = \"Int64\" style = \"text-align: left;\">Int64</th><th title = \"Int64\" style = \"text-align: left;\">Int64</th><th title = \"String31\" style = \"text-align: left;\">String31</th><th title = \"Int64\" style = \"text-align: left;\">Int64</th><th title = \"Float64\" style = \"text-align: left;\">Float64</th><th title = \"String15\" style = \"text-align: left;\">String15</th><th title = \"String15\" style = \"text-align: left;\">String15</th><th title = \"Float64\" style = \"text-align: left;\">Float64</th><th title = \"Union{Missing, Float64}\" style = \"text-align: left;\">Float64?</th></tr></thead><tbody><tr><td class = \"rowNumber\" style = \"font-weight: bold; text-align: right;\">1</td><td style = \"text-align: right;\">5</td><td style = \"text-align: right;\">2014</td><td style = \"text-align: left;\">voiture_sous_compacte</td><td style = \"text-align: right;\">8</td><td style = \"text-align: right;\">5.8</td><td style = \"text-align: left;\">propulsion</td><td style = \"text-align: left;\">manuelle</td><td style = \"text-align: right;\">46.4</td><td style = \"font-style: italic; text-align: right;\">missing</td></tr><tr><td class = \"rowNumber\" style = \"font-weight: bold; text-align: right;\">2</td><td style = \"text-align: right;\">10</td><td style = \"text-align: right;\">2014</td><td style = \"text-align: left;\">voiture_deux_places</td><td style = \"text-align: right;\">10</td><td style = \"text-align: right;\">5.2</td><td style = \"text-align: left;\">integrale</td><td style = \"text-align: left;\">manuelle</td><td style = \"text-align: right;\">52.0</td><td style = \"font-style: italic; text-align: right;\">missing</td></tr><tr><td class = \"rowNumber\" style = \"font-weight: bold; text-align: right;\">3</td><td style = \"text-align: right;\">11</td><td style = \"text-align: right;\">2014</td><td style = \"text-align: left;\">voiture_deux_places</td><td style = \"text-align: right;\">10</td><td style = \"text-align: right;\">5.2</td><td style = \"text-align: left;\">integrale</td><td style = \"text-align: left;\">manuelle</td><td style = \"text-align: right;\">52.0</td><td style = \"font-style: italic; text-align: right;\">missing</td></tr><tr><td class = \"rowNumber\" style = \"font-weight: bold; text-align: right;\">4</td><td style = \"text-align: right;\">12</td><td style = \"text-align: right;\">2014</td><td style = \"text-align: left;\">voiture_sous_compacte</td><td style = \"text-align: right;\">12</td><td style = \"text-align: right;\">5.9</td><td style = \"text-align: left;\">propulsion</td><td style = \"text-align: left;\">automatique</td><td style = \"text-align: right;\">70.8</td><td style = \"font-style: italic; text-align: right;\">missing</td></tr><tr><td class = \"rowNumber\" style = \"font-weight: bold; text-align: right;\">5</td><td style = \"text-align: right;\">17</td><td style = \"text-align: right;\">2015</td><td style = \"text-align: left;\">camionnette_standard</td><td style = \"text-align: right;\">8</td><td style = \"text-align: right;\">5.3</td><td style = \"text-align: left;\">propulsion</td><td style = \"text-align: left;\">automatique</td><td style = \"text-align: right;\">42.4</td><td style = \"font-style: italic; text-align: right;\">missing</td></tr><tr><td class = \"rowNumber\" style = \"font-weight: bold; text-align: right;\">6</td><td style = \"text-align: right;\">18</td><td style = \"text-align: right;\">2015</td><td style = \"text-align: left;\">camionnette_standard</td><td style = \"text-align: right;\">8</td><td style = \"text-align: right;\">5.3</td><td style = \"text-align: left;\">propulsion</td><td style = \"text-align: left;\">automatique</td><td style = \"text-align: right;\">42.4</td><td style = \"font-style: italic; text-align: right;\">missing</td></tr><tr><td class = \"rowNumber\" style = \"font-weight: bold; text-align: right;\">7</td><td style = \"text-align: right;\">19</td><td style = \"text-align: right;\">2015</td><td style = \"text-align: left;\">camionnette_standard</td><td style = \"text-align: right;\">8</td><td style = \"text-align: right;\">5.3</td><td style = \"text-align: left;\">4x4</td><td style = \"text-align: left;\">automatique</td><td style = \"text-align: right;\">42.4</td><td style = \"font-style: italic; text-align: right;\">missing</td></tr><tr><td class = \"rowNumber\" style = \"font-weight: bold; text-align: right;\">8</td><td style = \"text-align: right;\">20</td><td style = \"text-align: right;\">2015</td><td style = \"text-align: left;\">camionnette_standard</td><td style = \"text-align: right;\">8</td><td style = \"text-align: right;\">5.3</td><td style = \"text-align: left;\">4x4</td><td style = \"text-align: left;\">automatique</td><td style = \"text-align: right;\">42.4</td><td style = \"font-style: italic; text-align: right;\">missing</td></tr><tr><td class = \"rowNumber\" style = \"font-weight: bold; text-align: right;\">9</td><td style = \"text-align: right;\">39</td><td style = \"text-align: right;\">2016</td><td style = \"text-align: left;\">voiture_moyenne</td><td style = \"text-align: right;\">4</td><td style = \"text-align: right;\">2.0</td><td style = \"text-align: left;\">traction</td><td style = \"text-align: left;\">manuelle</td><td style = \"text-align: right;\">8.0</td><td style = \"font-style: italic; text-align: right;\">missing</td></tr><tr><td class = \"rowNumber\" style = \"font-weight: bold; text-align: right;\">10</td><td style = \"text-align: right;\">42</td><td style = \"text-align: right;\">2016</td><td style = \"text-align: left;\">VUS_standard</td><td style = \"text-align: right;\">6</td><td style = \"text-align: right;\">3.6</td><td style = \"text-align: left;\">integrale</td><td style = \"text-align: left;\">automatique</td><td style = \"text-align: right;\">21.6</td><td style = \"font-style: italic; text-align: right;\">missing</td></tr><tr><td class = \"rowNumber\" style = \"font-weight: bold; text-align: right;\">11</td><td style = \"text-align: right;\">45</td><td style = \"text-align: right;\">2017</td><td style = \"text-align: left;\">voiture_moyenne</td><td style = \"text-align: right;\">4</td><td style = \"text-align: right;\">2.0</td><td style = \"text-align: left;\">traction</td><td style = \"text-align: left;\">manuelle</td><td style = \"text-align: right;\">8.0</td><td style = \"font-style: italic; text-align: right;\">missing</td></tr><tr><td class = \"rowNumber\" style = \"font-weight: bold; text-align: right;\">12</td><td style = \"text-align: right;\">48</td><td style = \"text-align: right;\">2017</td><td style = \"text-align: left;\">VUS_petit</td><td style = \"text-align: right;\">6</td><td style = \"text-align: right;\">3.6</td><td style = \"text-align: left;\">integrale</td><td style = \"text-align: left;\">automatique</td><td style = \"text-align: right;\">21.6</td><td style = \"font-style: italic; text-align: right;\">missing</td></tr><tr><td class = \"rowNumber\" style = \"font-weight: bold; text-align: right;\">13</td><td style = \"text-align: right;\">49</td><td style = \"text-align: right;\">2017</td><td style = \"text-align: left;\">voiture_compacte</td><td style = \"text-align: right;\">3</td><td style = \"text-align: right;\">1.2</td><td style = \"text-align: left;\">traction</td><td style = \"text-align: left;\">automatique</td><td style = \"text-align: right;\">3.6</td><td style = \"font-style: italic; text-align: right;\">missing</td></tr><tr><td style = \"text-align: right;\">&vellip;</td><td style = \"text-align: right;\">&vellip;</td><td style = \"text-align: right;\">&vellip;</td><td style = \"text-align: right;\">&vellip;</td><td style = \"text-align: right;\">&vellip;</td><td style = \"text-align: right;\">&vellip;</td><td style = \"text-align: right;\">&vellip;</td><td style = \"text-align: right;\">&vellip;</td><td style = \"text-align: right;\">&vellip;</td><td style = \"text-align: right;\">&vellip;</td></tr><tr><td class = \"rowNumber\" style = \"font-weight: bold; text-align: right;\">19</td><td style = \"text-align: right;\">88</td><td style = \"text-align: right;\">2019</td><td style = \"text-align: left;\">camionnette_standard</td><td style = \"text-align: right;\">6</td><td style = \"text-align: right;\">3.5</td><td style = \"text-align: left;\">integrale</td><td style = \"text-align: left;\">automatique</td><td style = \"text-align: right;\">21.0</td><td style = \"font-style: italic; text-align: right;\">missing</td></tr><tr><td class = \"rowNumber\" style = \"font-weight: bold; text-align: right;\">20</td><td style = \"text-align: right;\">98</td><td style = \"text-align: right;\">2020</td><td style = \"text-align: left;\">break_petit</td><td style = \"text-align: right;\">4</td><td style = \"text-align: right;\">2.0</td><td style = \"text-align: left;\">traction</td><td style = \"text-align: left;\">manuelle</td><td style = \"text-align: right;\">8.0</td><td style = \"font-style: italic; text-align: right;\">missing</td></tr><tr><td class = \"rowNumber\" style = \"font-weight: bold; text-align: right;\">21</td><td style = \"text-align: right;\">99</td><td style = \"text-align: right;\">2020</td><td style = \"text-align: left;\">VUS_petit</td><td style = \"text-align: right;\">6</td><td style = \"text-align: right;\">3.8</td><td style = \"text-align: left;\">traction</td><td style = \"text-align: left;\">automatique</td><td style = \"text-align: right;\">22.8</td><td style = \"font-style: italic; text-align: right;\">missing</td></tr><tr><td class = \"rowNumber\" style = \"font-weight: bold; text-align: right;\">22</td><td style = \"text-align: right;\">107</td><td style = \"text-align: right;\">2020</td><td style = \"text-align: left;\">break_moyen</td><td style = \"text-align: right;\">4</td><td style = \"text-align: right;\">2.0</td><td style = \"text-align: left;\">integrale</td><td style = \"text-align: left;\">automatique</td><td style = \"text-align: right;\">8.0</td><td style = \"font-style: italic; text-align: right;\">missing</td></tr><tr><td class = \"rowNumber\" style = \"font-weight: bold; text-align: right;\">23</td><td style = \"text-align: right;\">110</td><td style = \"text-align: right;\">2021</td><td style = \"text-align: left;\">VUS_standard</td><td style = \"text-align: right;\">6</td><td style = \"text-align: right;\">3.6</td><td style = \"text-align: left;\">integrale</td><td style = \"text-align: left;\">automatique</td><td style = \"text-align: right;\">21.6</td><td style = \"font-style: italic; text-align: right;\">missing</td></tr><tr><td class = \"rowNumber\" style = \"font-weight: bold; text-align: right;\">24</td><td style = \"text-align: right;\">112</td><td style = \"text-align: right;\">2021</td><td style = \"text-align: left;\">break_petit</td><td style = \"text-align: right;\">4</td><td style = \"text-align: right;\">2.0</td><td style = \"text-align: left;\">traction</td><td style = \"text-align: left;\">manuelle</td><td style = \"text-align: right;\">8.0</td><td style = \"font-style: italic; text-align: right;\">missing</td></tr><tr><td class = \"rowNumber\" style = \"font-weight: bold; text-align: right;\">25</td><td style = \"text-align: right;\">115</td><td style = \"text-align: right;\">2021</td><td style = \"text-align: left;\">VUS_petit</td><td style = \"text-align: right;\">3</td><td style = \"text-align: right;\">1.3</td><td style = \"text-align: left;\">traction</td><td style = \"text-align: left;\">automatique</td><td style = \"text-align: right;\">3.9</td><td style = \"font-style: italic; text-align: right;\">missing</td></tr><tr><td class = \"rowNumber\" style = \"font-weight: bold; text-align: right;\">26</td><td style = \"text-align: right;\">118</td><td style = \"text-align: right;\">2021</td><td style = \"text-align: left;\">camionnette_petit</td><td style = \"text-align: right;\">4</td><td style = \"text-align: right;\">2.5</td><td style = \"text-align: left;\">4x4</td><td style = \"text-align: left;\">automatique</td><td style = \"text-align: right;\">10.0</td><td style = \"font-style: italic; text-align: right;\">missing</td></tr><tr><td class = \"rowNumber\" style = \"font-weight: bold; text-align: right;\">27</td><td style = \"text-align: right;\">119</td><td style = \"text-align: right;\">2021</td><td style = \"text-align: left;\">camionnette_petit</td><td style = \"text-align: right;\">6</td><td style = \"text-align: right;\">3.6</td><td style = \"text-align: left;\">4x4</td><td style = \"text-align: left;\">automatique</td><td style = \"text-align: right;\">21.6</td><td style = \"font-style: italic; text-align: right;\">missing</td></tr><tr><td class = \"rowNumber\" style = \"font-weight: bold; text-align: right;\">28</td><td style = \"text-align: right;\">124</td><td style = \"text-align: right;\">2022</td><td style = \"text-align: left;\">VUS_petit</td><td style = \"text-align: right;\">4</td><td style = \"text-align: right;\">1.5</td><td style = \"text-align: left;\">4x4</td><td style = \"text-align: left;\">automatique</td><td style = \"text-align: right;\">6.0</td><td style = \"font-style: italic; text-align: right;\">missing</td></tr><tr><td class = \"rowNumber\" style = \"font-weight: bold; text-align: right;\">29</td><td style = \"text-align: right;\">125</td><td style = \"text-align: right;\">2022</td><td style = \"text-align: left;\">VUS_petit</td><td style = \"text-align: right;\">4</td><td style = \"text-align: right;\">1.5</td><td style = \"text-align: left;\">4x4</td><td style = \"text-align: left;\">automatique</td><td style = \"text-align: right;\">6.0</td><td style = \"font-style: italic; text-align: right;\">missing</td></tr><tr><td class = \"rowNumber\" style = \"font-weight: bold; text-align: right;\">30</td><td style = \"text-align: right;\">132</td><td style = \"text-align: right;\">2022</td><td style = \"text-align: left;\">voiture_moyenne</td><td style = \"text-align: right;\">4</td><td style = \"text-align: right;\">2.0</td><td style = \"text-align: left;\">traction</td><td style = \"text-align: left;\">manuelle</td><td style = \"text-align: right;\">8.0</td><td style = \"font-style: italic; text-align: right;\">missing</td></tr></tbody></table></div>"
      ],
      "text/latex": [
       "\\begin{tabular}{r|ccccccc}\n",
       "\t& ID & annee & type & nombre\\_cylindres & cylindree & transmission & \\\\\n",
       "\t\\hline\n",
       "\t& Int64 & Int64 & String31 & Int64 & Float64 & String15 & \\\\\n",
       "\t\\hline\n",
       "\t1 & 5 & 2014 & voiture\\_sous\\_compacte & 8 & 5.8 & propulsion & $\\dots$ \\\\\n",
       "\t2 & 10 & 2014 & voiture\\_deux\\_places & 10 & 5.2 & integrale & $\\dots$ \\\\\n",
       "\t3 & 11 & 2014 & voiture\\_deux\\_places & 10 & 5.2 & integrale & $\\dots$ \\\\\n",
       "\t4 & 12 & 2014 & voiture\\_sous\\_compacte & 12 & 5.9 & propulsion & $\\dots$ \\\\\n",
       "\t5 & 17 & 2015 & camionnette\\_standard & 8 & 5.3 & propulsion & $\\dots$ \\\\\n",
       "\t6 & 18 & 2015 & camionnette\\_standard & 8 & 5.3 & propulsion & $\\dots$ \\\\\n",
       "\t7 & 19 & 2015 & camionnette\\_standard & 8 & 5.3 & 4x4 & $\\dots$ \\\\\n",
       "\t8 & 20 & 2015 & camionnette\\_standard & 8 & 5.3 & 4x4 & $\\dots$ \\\\\n",
       "\t9 & 39 & 2016 & voiture\\_moyenne & 4 & 2.0 & traction & $\\dots$ \\\\\n",
       "\t10 & 42 & 2016 & VUS\\_standard & 6 & 3.6 & integrale & $\\dots$ \\\\\n",
       "\t11 & 45 & 2017 & voiture\\_moyenne & 4 & 2.0 & traction & $\\dots$ \\\\\n",
       "\t12 & 48 & 2017 & VUS\\_petit & 6 & 3.6 & integrale & $\\dots$ \\\\\n",
       "\t13 & 49 & 2017 & voiture\\_compacte & 3 & 1.2 & traction & $\\dots$ \\\\\n",
       "\t14 & 52 & 2017 & voiture\\_grande & 6 & 3.0 & integrale & $\\dots$ \\\\\n",
       "\t15 & 68 & 2018 & voiture\\_sous\\_compacte & 8 & 4.4 & propulsion & $\\dots$ \\\\\n",
       "\t16 & 69 & 2018 & voiture\\_sous\\_compacte & 8 & 4.4 & propulsion & $\\dots$ \\\\\n",
       "\t17 & 70 & 2018 & voiture\\_sous\\_compacte & 8 & 4.4 & propulsion & $\\dots$ \\\\\n",
       "\t18 & 72 & 2018 & voiture\\_compacte & 6 & 3.0 & integrale & $\\dots$ \\\\\n",
       "\t19 & 88 & 2019 & camionnette\\_standard & 6 & 3.5 & integrale & $\\dots$ \\\\\n",
       "\t20 & 98 & 2020 & break\\_petit & 4 & 2.0 & traction & $\\dots$ \\\\\n",
       "\t21 & 99 & 2020 & VUS\\_petit & 6 & 3.8 & traction & $\\dots$ \\\\\n",
       "\t22 & 107 & 2020 & break\\_moyen & 4 & 2.0 & integrale & $\\dots$ \\\\\n",
       "\t23 & 110 & 2021 & VUS\\_standard & 6 & 3.6 & integrale & $\\dots$ \\\\\n",
       "\t24 & 112 & 2021 & break\\_petit & 4 & 2.0 & traction & $\\dots$ \\\\\n",
       "\t25 & 115 & 2021 & VUS\\_petit & 3 & 1.3 & traction & $\\dots$ \\\\\n",
       "\t26 & 118 & 2021 & camionnette\\_petit & 4 & 2.5 & 4x4 & $\\dots$ \\\\\n",
       "\t27 & 119 & 2021 & camionnette\\_petit & 6 & 3.6 & 4x4 & $\\dots$ \\\\\n",
       "\t28 & 124 & 2022 & VUS\\_petit & 4 & 1.5 & 4x4 & $\\dots$ \\\\\n",
       "\t29 & 125 & 2022 & VUS\\_petit & 4 & 1.5 & 4x4 & $\\dots$ \\\\\n",
       "\t30 & 132 & 2022 & voiture\\_moyenne & 4 & 2.0 & traction & $\\dots$ \\\\\n",
       "\\end{tabular}\n"
      ],
      "text/plain": [
       "\u001b[1m30×9 DataFrame\u001b[0m\n",
       "\u001b[1m Row \u001b[0m│\u001b[1m ID    \u001b[0m\u001b[1m annee \u001b[0m\u001b[1m type                  \u001b[0m\u001b[1m nombre_cylindres \u001b[0m\u001b[1m cylindree \u001b[0m\u001b[1m trans\u001b[0m ⋯\n",
       "     │\u001b[90m Int64 \u001b[0m\u001b[90m Int64 \u001b[0m\u001b[90m String31              \u001b[0m\u001b[90m Int64            \u001b[0m\u001b[90m Float64   \u001b[0m\u001b[90m Strin\u001b[0m ⋯\n",
       "─────┼──────────────────────────────────────────────────────────────────────────\n",
       "   1 │     5   2014  voiture_sous_compacte                 8        5.8  propu ⋯\n",
       "   2 │    10   2014  voiture_deux_places                  10        5.2  integ\n",
       "   3 │    11   2014  voiture_deux_places                  10        5.2  integ\n",
       "   4 │    12   2014  voiture_sous_compacte                12        5.9  propu\n",
       "   5 │    17   2015  camionnette_standard                  8        5.3  propu ⋯\n",
       "   6 │    18   2015  camionnette_standard                  8        5.3  propu\n",
       "   7 │    19   2015  camionnette_standard                  8        5.3  4x4\n",
       "   8 │    20   2015  camionnette_standard                  8        5.3  4x4\n",
       "   9 │    39   2016  voiture_moyenne                       4        2.0  tract ⋯\n",
       "  10 │    42   2016  VUS_standard                          6        3.6  integ\n",
       "  11 │    45   2017  voiture_moyenne                       4        2.0  tract\n",
       "  ⋮  │   ⋮      ⋮              ⋮                   ⋮              ⋮            ⋱\n",
       "  21 │    99   2020  VUS_petit                             6        3.8  tract\n",
       "  22 │   107   2020  break_moyen                           4        2.0  integ ⋯\n",
       "  23 │   110   2021  VUS_standard                          6        3.6  integ\n",
       "  24 │   112   2021  break_petit                           4        2.0  tract\n",
       "  25 │   115   2021  VUS_petit                             3        1.3  tract\n",
       "  26 │   118   2021  camionnette_petit                     4        2.5  4x4   ⋯\n",
       "  27 │   119   2021  camionnette_petit                     6        3.6  4x4\n",
       "  28 │   124   2022  VUS_petit                             4        1.5  4x4\n",
       "  29 │   125   2022  VUS_petit                             4        1.5  4x4\n",
       "  30 │   132   2022  voiture_moyenne                       4        2.0  tract ⋯\n",
       "\u001b[36m                                                    4 columns and 9 rows omitted\u001b[0m"
      ]
     },
     "execution_count": 136,
     "metadata": {},
     "output_type": "execute_result"
    }
   ],
   "source": [
    "missingRows = testData[ismissing.(testData[!,:consommation]), :]"
   ]
  },
  {
   "cell_type": "code",
   "execution_count": 137,
   "metadata": {},
   "outputs": [
    {
     "data": {
      "text/plain": [
       "30×21 Matrix{Float64}:\n",
       " 0.0   8.0  4.6  42.8  1.0  0.0  0.0  …  0.0  1.0  0.0  0.0  0.0  1.0  0.0\n",
       " 0.0  10.0  4.0  48.4  0.0  1.0  0.0     0.0  0.0  1.0  0.0  0.0  1.0  0.0\n",
       " 0.0  10.0  4.0  48.4  0.0  1.0  0.0     0.0  0.0  1.0  0.0  0.0  1.0  0.0\n",
       " 0.0  12.0  4.7  67.2  1.0  0.0  0.0     0.0  1.0  0.0  0.0  0.0  0.0  1.0\n",
       " 1.0   8.0  4.1  38.8  0.0  0.0  1.0     0.0  1.0  0.0  0.0  0.0  0.0  1.0\n",
       " 1.0   8.0  4.1  38.8  0.0  0.0  1.0  …  0.0  1.0  0.0  0.0  0.0  0.0  1.0\n",
       " 1.0   8.0  4.1  38.8  0.0  0.0  1.0     0.0  0.0  0.0  1.0  0.0  0.0  1.0\n",
       " 1.0   8.0  4.1  38.8  0.0  0.0  1.0     0.0  0.0  0.0  1.0  0.0  0.0  1.0\n",
       " 2.0   4.0  0.8   4.4  0.0  0.0  0.0     0.0  0.0  0.0  0.0  1.0  1.0  0.0\n",
       " 2.0   6.0  2.4  18.0  0.0  0.0  0.0     0.0  0.0  1.0  0.0  0.0  0.0  1.0\n",
       " 3.0   4.0  0.8   4.4  0.0  0.0  0.0  …  0.0  0.0  0.0  0.0  1.0  1.0  0.0\n",
       " 3.0   6.0  2.4  18.0  0.0  0.0  0.0     0.0  0.0  1.0  0.0  0.0  0.0  1.0\n",
       " 3.0   3.0  0.0   0.0  0.0  0.0  0.0     0.0  0.0  0.0  0.0  1.0  0.0  1.0\n",
       " ⋮                          ⋮         ⋱       ⋮                        ⋮\n",
       " 5.0   6.0  2.3  17.4  0.0  0.0  1.0     0.0  0.0  1.0  0.0  0.0  0.0  1.0\n",
       " 6.0   4.0  0.8   4.4  0.0  0.0  0.0     0.0  0.0  0.0  0.0  1.0  1.0  0.0\n",
       " 6.0   6.0  2.6  19.2  0.0  0.0  0.0  …  0.0  0.0  0.0  0.0  1.0  0.0  1.0\n",
       " 6.0   4.0  0.8   4.4  0.0  0.0  0.0     0.0  0.0  1.0  0.0  0.0  0.0  1.0\n",
       " 7.0   6.0  2.4  18.0  0.0  0.0  0.0     0.0  0.0  1.0  0.0  0.0  0.0  1.0\n",
       " 7.0   4.0  0.8   4.4  0.0  0.0  0.0     0.0  0.0  0.0  0.0  1.0  1.0  0.0\n",
       " 7.0   3.0  0.1   0.3  0.0  0.0  0.0     0.0  0.0  0.0  0.0  1.0  0.0  1.0\n",
       " 7.0   4.0  1.3   6.4  0.0  0.0  0.0  …  1.0  0.0  0.0  1.0  0.0  0.0  1.0\n",
       " 7.0   6.0  2.4  18.0  0.0  0.0  0.0     1.0  0.0  0.0  1.0  0.0  0.0  1.0\n",
       " 8.0   4.0  0.3   2.4  0.0  0.0  0.0     0.0  0.0  0.0  1.0  0.0  0.0  1.0\n",
       " 8.0   4.0  0.3   2.4  0.0  0.0  0.0     0.0  0.0  0.0  1.0  0.0  0.0  1.0\n",
       " 8.0   4.0  0.8   4.4  0.0  0.0  0.0     0.0  0.0  0.0  0.0  1.0  1.0  0.0"
      ]
     },
     "execution_count": 137,
     "metadata": {},
     "output_type": "execute_result"
    }
   ],
   "source": [
    "encoded_train = encode_data(trainData)\n",
    "filtered_train = removeRows(encoded_train)\n",
    "#normed_train = norm_cols(filtered_train)\n",
    "\n",
    "encoded_test = encode_data(missingRows)\n",
    "filtered_test = removeRows(encoded_test)\n",
    "#normed_test = norm_cols(filtered_test)\n",
    "\n",
    "X_train =  Matrix(filtered_train[:, Not(:consommation)])\n",
    "y_train = filtered_train.consommation\n",
    "X_test = Matrix(filtered_test[:, Not([:ID, :consommation])])"
   ]
  },
  {
   "cell_type": "code",
   "execution_count": null,
   "metadata": {},
   "outputs": [
    {
     "data": {
      "text/plain": [
       "decisionTree_remise (generic function with 1 method)"
      ]
     },
     "execution_count": 141,
     "metadata": {},
     "output_type": "execute_result"
    }
   ],
   "source": [
    "function decisionTree_remise(X_train ,y_train,  X_test)\n",
    "    model = RandomForestRegressor(n_subfeatures=6, n_trees=100,min_samples_leaf=1,min_purity_increase=0.0, max_depth=10, min_samples_split=2)\n",
    "    DecisionTree.fit!(model, X_train, y_train)\n",
    "    ychap = DecisionTree.predict(model, X_test)\n",
    "    return ychap\n",
    "end"
   ]
  },
  {
   "cell_type": "code",
   "execution_count": 142,
   "metadata": {},
   "outputs": [
    {
     "data": {
      "text/html": [
       "<div><div style = \"float: left;\"><span>30×9 DataFrame</span></div><div style = \"float: right;\"><span style = \"font-style: italic;\">5 rows omitted</span></div><div style = \"clear: both;\"></div></div><div class = \"data-frame\" style = \"overflow-x: scroll;\"><table class = \"data-frame\" style = \"margin-bottom: 6px;\"><thead><tr class = \"header\"><th class = \"rowNumber\" style = \"font-weight: bold; text-align: right;\">Row</th><th style = \"text-align: left;\">ID</th><th style = \"text-align: left;\">annee</th><th style = \"text-align: left;\">type</th><th style = \"text-align: left;\">nombre_cylindres</th><th style = \"text-align: left;\">cylindree</th><th style = \"text-align: left;\">transmission</th><th style = \"text-align: left;\">boite</th><th style = \"text-align: left;\">volume_gaz</th><th style = \"text-align: left;\">consommation</th></tr><tr class = \"subheader headerLastRow\"><th class = \"rowNumber\" style = \"font-weight: bold; text-align: right;\"></th><th title = \"Int64\" style = \"text-align: left;\">Int64</th><th title = \"Int64\" style = \"text-align: left;\">Int64</th><th title = \"String31\" style = \"text-align: left;\">String31</th><th title = \"Int64\" style = \"text-align: left;\">Int64</th><th title = \"Float64\" style = \"text-align: left;\">Float64</th><th title = \"String15\" style = \"text-align: left;\">String15</th><th title = \"String15\" style = \"text-align: left;\">String15</th><th title = \"Float64\" style = \"text-align: left;\">Float64</th><th title = \"Union{Missing, Float64}\" style = \"text-align: left;\">Float64?</th></tr></thead><tbody><tr><td class = \"rowNumber\" style = \"font-weight: bold; text-align: right;\">1</td><td style = \"text-align: right;\">5</td><td style = \"text-align: right;\">2014</td><td style = \"text-align: left;\">voiture_sous_compacte</td><td style = \"text-align: right;\">8</td><td style = \"text-align: right;\">5.8</td><td style = \"text-align: left;\">propulsion</td><td style = \"text-align: left;\">manuelle</td><td style = \"text-align: right;\">46.4</td><td style = \"font-style: italic; text-align: right;\">missing</td></tr><tr><td class = \"rowNumber\" style = \"font-weight: bold; text-align: right;\">2</td><td style = \"text-align: right;\">10</td><td style = \"text-align: right;\">2014</td><td style = \"text-align: left;\">voiture_deux_places</td><td style = \"text-align: right;\">10</td><td style = \"text-align: right;\">5.2</td><td style = \"text-align: left;\">integrale</td><td style = \"text-align: left;\">manuelle</td><td style = \"text-align: right;\">52.0</td><td style = \"font-style: italic; text-align: right;\">missing</td></tr><tr><td class = \"rowNumber\" style = \"font-weight: bold; text-align: right;\">3</td><td style = \"text-align: right;\">11</td><td style = \"text-align: right;\">2014</td><td style = \"text-align: left;\">voiture_deux_places</td><td style = \"text-align: right;\">10</td><td style = \"text-align: right;\">5.2</td><td style = \"text-align: left;\">integrale</td><td style = \"text-align: left;\">manuelle</td><td style = \"text-align: right;\">52.0</td><td style = \"font-style: italic; text-align: right;\">missing</td></tr><tr><td class = \"rowNumber\" style = \"font-weight: bold; text-align: right;\">4</td><td style = \"text-align: right;\">12</td><td style = \"text-align: right;\">2014</td><td style = \"text-align: left;\">voiture_sous_compacte</td><td style = \"text-align: right;\">12</td><td style = \"text-align: right;\">5.9</td><td style = \"text-align: left;\">propulsion</td><td style = \"text-align: left;\">automatique</td><td style = \"text-align: right;\">70.8</td><td style = \"font-style: italic; text-align: right;\">missing</td></tr><tr><td class = \"rowNumber\" style = \"font-weight: bold; text-align: right;\">5</td><td style = \"text-align: right;\">17</td><td style = \"text-align: right;\">2015</td><td style = \"text-align: left;\">camionnette_standard</td><td style = \"text-align: right;\">8</td><td style = \"text-align: right;\">5.3</td><td style = \"text-align: left;\">propulsion</td><td style = \"text-align: left;\">automatique</td><td style = \"text-align: right;\">42.4</td><td style = \"font-style: italic; text-align: right;\">missing</td></tr><tr><td class = \"rowNumber\" style = \"font-weight: bold; text-align: right;\">6</td><td style = \"text-align: right;\">18</td><td style = \"text-align: right;\">2015</td><td style = \"text-align: left;\">camionnette_standard</td><td style = \"text-align: right;\">8</td><td style = \"text-align: right;\">5.3</td><td style = \"text-align: left;\">propulsion</td><td style = \"text-align: left;\">automatique</td><td style = \"text-align: right;\">42.4</td><td style = \"font-style: italic; text-align: right;\">missing</td></tr><tr><td class = \"rowNumber\" style = \"font-weight: bold; text-align: right;\">7</td><td style = \"text-align: right;\">19</td><td style = \"text-align: right;\">2015</td><td style = \"text-align: left;\">camionnette_standard</td><td style = \"text-align: right;\">8</td><td style = \"text-align: right;\">5.3</td><td style = \"text-align: left;\">4x4</td><td style = \"text-align: left;\">automatique</td><td style = \"text-align: right;\">42.4</td><td style = \"font-style: italic; text-align: right;\">missing</td></tr><tr><td class = \"rowNumber\" style = \"font-weight: bold; text-align: right;\">8</td><td style = \"text-align: right;\">20</td><td style = \"text-align: right;\">2015</td><td style = \"text-align: left;\">camionnette_standard</td><td style = \"text-align: right;\">8</td><td style = \"text-align: right;\">5.3</td><td style = \"text-align: left;\">4x4</td><td style = \"text-align: left;\">automatique</td><td style = \"text-align: right;\">42.4</td><td style = \"font-style: italic; text-align: right;\">missing</td></tr><tr><td class = \"rowNumber\" style = \"font-weight: bold; text-align: right;\">9</td><td style = \"text-align: right;\">39</td><td style = \"text-align: right;\">2016</td><td style = \"text-align: left;\">voiture_moyenne</td><td style = \"text-align: right;\">4</td><td style = \"text-align: right;\">2.0</td><td style = \"text-align: left;\">traction</td><td style = \"text-align: left;\">manuelle</td><td style = \"text-align: right;\">8.0</td><td style = \"font-style: italic; text-align: right;\">missing</td></tr><tr><td class = \"rowNumber\" style = \"font-weight: bold; text-align: right;\">10</td><td style = \"text-align: right;\">42</td><td style = \"text-align: right;\">2016</td><td style = \"text-align: left;\">VUS_standard</td><td style = \"text-align: right;\">6</td><td style = \"text-align: right;\">3.6</td><td style = \"text-align: left;\">integrale</td><td style = \"text-align: left;\">automatique</td><td style = \"text-align: right;\">21.6</td><td style = \"font-style: italic; text-align: right;\">missing</td></tr><tr><td class = \"rowNumber\" style = \"font-weight: bold; text-align: right;\">11</td><td style = \"text-align: right;\">45</td><td style = \"text-align: right;\">2017</td><td style = \"text-align: left;\">voiture_moyenne</td><td style = \"text-align: right;\">4</td><td style = \"text-align: right;\">2.0</td><td style = \"text-align: left;\">traction</td><td style = \"text-align: left;\">manuelle</td><td style = \"text-align: right;\">8.0</td><td style = \"font-style: italic; text-align: right;\">missing</td></tr><tr><td class = \"rowNumber\" style = \"font-weight: bold; text-align: right;\">12</td><td style = \"text-align: right;\">48</td><td style = \"text-align: right;\">2017</td><td style = \"text-align: left;\">VUS_petit</td><td style = \"text-align: right;\">6</td><td style = \"text-align: right;\">3.6</td><td style = \"text-align: left;\">integrale</td><td style = \"text-align: left;\">automatique</td><td style = \"text-align: right;\">21.6</td><td style = \"font-style: italic; text-align: right;\">missing</td></tr><tr><td class = \"rowNumber\" style = \"font-weight: bold; text-align: right;\">13</td><td style = \"text-align: right;\">49</td><td style = \"text-align: right;\">2017</td><td style = \"text-align: left;\">voiture_compacte</td><td style = \"text-align: right;\">3</td><td style = \"text-align: right;\">1.2</td><td style = \"text-align: left;\">traction</td><td style = \"text-align: left;\">automatique</td><td style = \"text-align: right;\">3.6</td><td style = \"font-style: italic; text-align: right;\">missing</td></tr><tr><td style = \"text-align: right;\">&vellip;</td><td style = \"text-align: right;\">&vellip;</td><td style = \"text-align: right;\">&vellip;</td><td style = \"text-align: right;\">&vellip;</td><td style = \"text-align: right;\">&vellip;</td><td style = \"text-align: right;\">&vellip;</td><td style = \"text-align: right;\">&vellip;</td><td style = \"text-align: right;\">&vellip;</td><td style = \"text-align: right;\">&vellip;</td><td style = \"text-align: right;\">&vellip;</td></tr><tr><td class = \"rowNumber\" style = \"font-weight: bold; text-align: right;\">19</td><td style = \"text-align: right;\">88</td><td style = \"text-align: right;\">2019</td><td style = \"text-align: left;\">camionnette_standard</td><td style = \"text-align: right;\">6</td><td style = \"text-align: right;\">3.5</td><td style = \"text-align: left;\">integrale</td><td style = \"text-align: left;\">automatique</td><td style = \"text-align: right;\">21.0</td><td style = \"font-style: italic; text-align: right;\">missing</td></tr><tr><td class = \"rowNumber\" style = \"font-weight: bold; text-align: right;\">20</td><td style = \"text-align: right;\">98</td><td style = \"text-align: right;\">2020</td><td style = \"text-align: left;\">break_petit</td><td style = \"text-align: right;\">4</td><td style = \"text-align: right;\">2.0</td><td style = \"text-align: left;\">traction</td><td style = \"text-align: left;\">manuelle</td><td style = \"text-align: right;\">8.0</td><td style = \"font-style: italic; text-align: right;\">missing</td></tr><tr><td class = \"rowNumber\" style = \"font-weight: bold; text-align: right;\">21</td><td style = \"text-align: right;\">99</td><td style = \"text-align: right;\">2020</td><td style = \"text-align: left;\">VUS_petit</td><td style = \"text-align: right;\">6</td><td style = \"text-align: right;\">3.8</td><td style = \"text-align: left;\">traction</td><td style = \"text-align: left;\">automatique</td><td style = \"text-align: right;\">22.8</td><td style = \"font-style: italic; text-align: right;\">missing</td></tr><tr><td class = \"rowNumber\" style = \"font-weight: bold; text-align: right;\">22</td><td style = \"text-align: right;\">107</td><td style = \"text-align: right;\">2020</td><td style = \"text-align: left;\">break_moyen</td><td style = \"text-align: right;\">4</td><td style = \"text-align: right;\">2.0</td><td style = \"text-align: left;\">integrale</td><td style = \"text-align: left;\">automatique</td><td style = \"text-align: right;\">8.0</td><td style = \"font-style: italic; text-align: right;\">missing</td></tr><tr><td class = \"rowNumber\" style = \"font-weight: bold; text-align: right;\">23</td><td style = \"text-align: right;\">110</td><td style = \"text-align: right;\">2021</td><td style = \"text-align: left;\">VUS_standard</td><td style = \"text-align: right;\">6</td><td style = \"text-align: right;\">3.6</td><td style = \"text-align: left;\">integrale</td><td style = \"text-align: left;\">automatique</td><td style = \"text-align: right;\">21.6</td><td style = \"font-style: italic; text-align: right;\">missing</td></tr><tr><td class = \"rowNumber\" style = \"font-weight: bold; text-align: right;\">24</td><td style = \"text-align: right;\">112</td><td style = \"text-align: right;\">2021</td><td style = \"text-align: left;\">break_petit</td><td style = \"text-align: right;\">4</td><td style = \"text-align: right;\">2.0</td><td style = \"text-align: left;\">traction</td><td style = \"text-align: left;\">manuelle</td><td style = \"text-align: right;\">8.0</td><td style = \"font-style: italic; text-align: right;\">missing</td></tr><tr><td class = \"rowNumber\" style = \"font-weight: bold; text-align: right;\">25</td><td style = \"text-align: right;\">115</td><td style = \"text-align: right;\">2021</td><td style = \"text-align: left;\">VUS_petit</td><td style = \"text-align: right;\">3</td><td style = \"text-align: right;\">1.3</td><td style = \"text-align: left;\">traction</td><td style = \"text-align: left;\">automatique</td><td style = \"text-align: right;\">3.9</td><td style = \"font-style: italic; text-align: right;\">missing</td></tr><tr><td class = \"rowNumber\" style = \"font-weight: bold; text-align: right;\">26</td><td style = \"text-align: right;\">118</td><td style = \"text-align: right;\">2021</td><td style = \"text-align: left;\">camionnette_petit</td><td style = \"text-align: right;\">4</td><td style = \"text-align: right;\">2.5</td><td style = \"text-align: left;\">4x4</td><td style = \"text-align: left;\">automatique</td><td style = \"text-align: right;\">10.0</td><td style = \"font-style: italic; text-align: right;\">missing</td></tr><tr><td class = \"rowNumber\" style = \"font-weight: bold; text-align: right;\">27</td><td style = \"text-align: right;\">119</td><td style = \"text-align: right;\">2021</td><td style = \"text-align: left;\">camionnette_petit</td><td style = \"text-align: right;\">6</td><td style = \"text-align: right;\">3.6</td><td style = \"text-align: left;\">4x4</td><td style = \"text-align: left;\">automatique</td><td style = \"text-align: right;\">21.6</td><td style = \"font-style: italic; text-align: right;\">missing</td></tr><tr><td class = \"rowNumber\" style = \"font-weight: bold; text-align: right;\">28</td><td style = \"text-align: right;\">124</td><td style = \"text-align: right;\">2022</td><td style = \"text-align: left;\">VUS_petit</td><td style = \"text-align: right;\">4</td><td style = \"text-align: right;\">1.5</td><td style = \"text-align: left;\">4x4</td><td style = \"text-align: left;\">automatique</td><td style = \"text-align: right;\">6.0</td><td style = \"font-style: italic; text-align: right;\">missing</td></tr><tr><td class = \"rowNumber\" style = \"font-weight: bold; text-align: right;\">29</td><td style = \"text-align: right;\">125</td><td style = \"text-align: right;\">2022</td><td style = \"text-align: left;\">VUS_petit</td><td style = \"text-align: right;\">4</td><td style = \"text-align: right;\">1.5</td><td style = \"text-align: left;\">4x4</td><td style = \"text-align: left;\">automatique</td><td style = \"text-align: right;\">6.0</td><td style = \"font-style: italic; text-align: right;\">missing</td></tr><tr><td class = \"rowNumber\" style = \"font-weight: bold; text-align: right;\">30</td><td style = \"text-align: right;\">132</td><td style = \"text-align: right;\">2022</td><td style = \"text-align: left;\">voiture_moyenne</td><td style = \"text-align: right;\">4</td><td style = \"text-align: right;\">2.0</td><td style = \"text-align: left;\">traction</td><td style = \"text-align: left;\">manuelle</td><td style = \"text-align: right;\">8.0</td><td style = \"font-style: italic; text-align: right;\">missing</td></tr></tbody></table></div>"
      ],
      "text/latex": [
       "\\begin{tabular}{r|ccccccc}\n",
       "\t& ID & annee & type & nombre\\_cylindres & cylindree & transmission & \\\\\n",
       "\t\\hline\n",
       "\t& Int64 & Int64 & String31 & Int64 & Float64 & String15 & \\\\\n",
       "\t\\hline\n",
       "\t1 & 5 & 2014 & voiture\\_sous\\_compacte & 8 & 5.8 & propulsion & $\\dots$ \\\\\n",
       "\t2 & 10 & 2014 & voiture\\_deux\\_places & 10 & 5.2 & integrale & $\\dots$ \\\\\n",
       "\t3 & 11 & 2014 & voiture\\_deux\\_places & 10 & 5.2 & integrale & $\\dots$ \\\\\n",
       "\t4 & 12 & 2014 & voiture\\_sous\\_compacte & 12 & 5.9 & propulsion & $\\dots$ \\\\\n",
       "\t5 & 17 & 2015 & camionnette\\_standard & 8 & 5.3 & propulsion & $\\dots$ \\\\\n",
       "\t6 & 18 & 2015 & camionnette\\_standard & 8 & 5.3 & propulsion & $\\dots$ \\\\\n",
       "\t7 & 19 & 2015 & camionnette\\_standard & 8 & 5.3 & 4x4 & $\\dots$ \\\\\n",
       "\t8 & 20 & 2015 & camionnette\\_standard & 8 & 5.3 & 4x4 & $\\dots$ \\\\\n",
       "\t9 & 39 & 2016 & voiture\\_moyenne & 4 & 2.0 & traction & $\\dots$ \\\\\n",
       "\t10 & 42 & 2016 & VUS\\_standard & 6 & 3.6 & integrale & $\\dots$ \\\\\n",
       "\t11 & 45 & 2017 & voiture\\_moyenne & 4 & 2.0 & traction & $\\dots$ \\\\\n",
       "\t12 & 48 & 2017 & VUS\\_petit & 6 & 3.6 & integrale & $\\dots$ \\\\\n",
       "\t13 & 49 & 2017 & voiture\\_compacte & 3 & 1.2 & traction & $\\dots$ \\\\\n",
       "\t14 & 52 & 2017 & voiture\\_grande & 6 & 3.0 & integrale & $\\dots$ \\\\\n",
       "\t15 & 68 & 2018 & voiture\\_sous\\_compacte & 8 & 4.4 & propulsion & $\\dots$ \\\\\n",
       "\t16 & 69 & 2018 & voiture\\_sous\\_compacte & 8 & 4.4 & propulsion & $\\dots$ \\\\\n",
       "\t17 & 70 & 2018 & voiture\\_sous\\_compacte & 8 & 4.4 & propulsion & $\\dots$ \\\\\n",
       "\t18 & 72 & 2018 & voiture\\_compacte & 6 & 3.0 & integrale & $\\dots$ \\\\\n",
       "\t19 & 88 & 2019 & camionnette\\_standard & 6 & 3.5 & integrale & $\\dots$ \\\\\n",
       "\t20 & 98 & 2020 & break\\_petit & 4 & 2.0 & traction & $\\dots$ \\\\\n",
       "\t21 & 99 & 2020 & VUS\\_petit & 6 & 3.8 & traction & $\\dots$ \\\\\n",
       "\t22 & 107 & 2020 & break\\_moyen & 4 & 2.0 & integrale & $\\dots$ \\\\\n",
       "\t23 & 110 & 2021 & VUS\\_standard & 6 & 3.6 & integrale & $\\dots$ \\\\\n",
       "\t24 & 112 & 2021 & break\\_petit & 4 & 2.0 & traction & $\\dots$ \\\\\n",
       "\t25 & 115 & 2021 & VUS\\_petit & 3 & 1.3 & traction & $\\dots$ \\\\\n",
       "\t26 & 118 & 2021 & camionnette\\_petit & 4 & 2.5 & 4x4 & $\\dots$ \\\\\n",
       "\t27 & 119 & 2021 & camionnette\\_petit & 6 & 3.6 & 4x4 & $\\dots$ \\\\\n",
       "\t28 & 124 & 2022 & VUS\\_petit & 4 & 1.5 & 4x4 & $\\dots$ \\\\\n",
       "\t29 & 125 & 2022 & VUS\\_petit & 4 & 1.5 & 4x4 & $\\dots$ \\\\\n",
       "\t30 & 132 & 2022 & voiture\\_moyenne & 4 & 2.0 & traction & $\\dots$ \\\\\n",
       "\\end{tabular}\n"
      ],
      "text/plain": [
       "\u001b[1m30×9 DataFrame\u001b[0m\n",
       "\u001b[1m Row \u001b[0m│\u001b[1m ID    \u001b[0m\u001b[1m annee \u001b[0m\u001b[1m type                  \u001b[0m\u001b[1m nombre_cylindres \u001b[0m\u001b[1m cylindree \u001b[0m\u001b[1m trans\u001b[0m ⋯\n",
       "     │\u001b[90m Int64 \u001b[0m\u001b[90m Int64 \u001b[0m\u001b[90m String31              \u001b[0m\u001b[90m Int64            \u001b[0m\u001b[90m Float64   \u001b[0m\u001b[90m Strin\u001b[0m ⋯\n",
       "─────┼──────────────────────────────────────────────────────────────────────────\n",
       "   1 │     5   2014  voiture_sous_compacte                 8        5.8  propu ⋯\n",
       "   2 │    10   2014  voiture_deux_places                  10        5.2  integ\n",
       "   3 │    11   2014  voiture_deux_places                  10        5.2  integ\n",
       "   4 │    12   2014  voiture_sous_compacte                12        5.9  propu\n",
       "   5 │    17   2015  camionnette_standard                  8        5.3  propu ⋯\n",
       "   6 │    18   2015  camionnette_standard                  8        5.3  propu\n",
       "   7 │    19   2015  camionnette_standard                  8        5.3  4x4\n",
       "   8 │    20   2015  camionnette_standard                  8        5.3  4x4\n",
       "   9 │    39   2016  voiture_moyenne                       4        2.0  tract ⋯\n",
       "  10 │    42   2016  VUS_standard                          6        3.6  integ\n",
       "  11 │    45   2017  voiture_moyenne                       4        2.0  tract\n",
       "  ⋮  │   ⋮      ⋮              ⋮                   ⋮              ⋮            ⋱\n",
       "  21 │    99   2020  VUS_petit                             6        3.8  tract\n",
       "  22 │   107   2020  break_moyen                           4        2.0  integ ⋯\n",
       "  23 │   110   2021  VUS_standard                          6        3.6  integ\n",
       "  24 │   112   2021  break_petit                           4        2.0  tract\n",
       "  25 │   115   2021  VUS_petit                             3        1.3  tract\n",
       "  26 │   118   2021  camionnette_petit                     4        2.5  4x4   ⋯\n",
       "  27 │   119   2021  camionnette_petit                     6        3.6  4x4\n",
       "  28 │   124   2022  VUS_petit                             4        1.5  4x4\n",
       "  29 │   125   2022  VUS_petit                             4        1.5  4x4\n",
       "  30 │   132   2022  voiture_moyenne                       4        2.0  tract ⋯\n",
       "\u001b[36m                                                    4 columns and 9 rows omitted\u001b[0m"
      ]
     },
     "execution_count": 142,
     "metadata": {},
     "output_type": "execute_result"
    }
   ],
   "source": [
    "missingRows"
   ]
  },
  {
   "cell_type": "code",
   "execution_count": 143,
   "metadata": {},
   "outputs": [
    {
     "ename": "LoadError",
     "evalue": "BoundsError: attempt to access 21-element view(::Matrix{Float64}, 1, :) with eltype Float64 at index [23]",
     "output_type": "error",
     "traceback": [
      "BoundsError: attempt to access 21-element view(::Matrix{Float64}, 1, :) with eltype Float64 at index [23]",
      "",
      "Stacktrace:",
      "  [1] throw_boundserror(A::SubArray{Float64, 1, Matrix{Float64}, Tuple{Int64, Base.Slice{Base.OneTo{Int64}}}, true}, I::Tuple{Int64})",
      "    @ Base .\\abstractarray.jl:737",
      "  [2] checkbounds",
      "    @ .\\abstractarray.jl:702 [inlined]",
      "  [3] getindex",
      "    @ .\\subarray.jl:316 [inlined]",
      "  [4] apply_tree(tree::Node{Float64, Float64}, features::SubArray{Float64, 1, Matrix{Float64}, Tuple{Int64, Base.Slice{Base.OneTo{Int64}}}, true})",
      "    @ DecisionTree C:\\Users\\Antoine\\.julia\\packages\\DecisionTree\\0Dw1P\\src\\classification\\main.jl:280",
      "  [5] apply_tree(tree::Node{Float64, Float64}, features::SubArray{Float64, 1, Matrix{Float64}, Tuple{Int64, Base.Slice{Base.OneTo{Int64}}}, true})",
      "    @ DecisionTree C:\\Users\\Antoine\\.julia\\packages\\DecisionTree\\0Dw1P\\src\\classification\\main.jl:281",
      "  [6] apply_tree(tree::Node{Float64, Float64}, features::SubArray{Float64, 1, Matrix{Float64}, Tuple{Int64, Base.Slice{Base.OneTo{Int64}}}, true})",
      "    @ DecisionTree C:\\Users\\Antoine\\.julia\\packages\\DecisionTree\\0Dw1P\\src\\classification\\main.jl:283",
      "  [7] apply_tree",
      "    @ C:\\Users\\Antoine\\.julia\\packages\\DecisionTree\\0Dw1P\\src\\classification\\main.jl:283 [inlined]",
      "  [8] apply_forest(forest::Ensemble{Float64, Float64}, features::SubArray{Float64, 1, Matrix{Float64}, Tuple{Int64, Base.Slice{Base.OneTo{Int64}}}, true})",
      "    @ DecisionTree C:\\Users\\Antoine\\.julia\\packages\\DecisionTree\\0Dw1P\\src\\classification\\main.jl:615",
      "  [9] apply_forest(forest::Ensemble{Float64, Float64}, features::Matrix{Float64}; use_multithreading::Bool)",
      "    @ DecisionTree C:\\Users\\Antoine\\.julia\\packages\\DecisionTree\\0Dw1P\\src\\classification\\main.jl:645",
      " [10] apply_forest(forest::Ensemble{Float64, Float64}, features::Matrix{Float64})",
      "    @ DecisionTree C:\\Users\\Antoine\\.julia\\packages\\DecisionTree\\0Dw1P\\src\\classification\\main.jl:634",
      " [11] predict(rf::RandomForestRegressor, X::Matrix{Float64})",
      "    @ DecisionTree C:\\Users\\Antoine\\.julia\\packages\\DecisionTree\\0Dw1P\\src\\scikitlearnAPI.jl:466",
      " [12] decisionTree_remise(X_train::Matrix{Float64}, y_train::Vector{Float64}, X_test::Matrix{Float64})",
      "    @ Main .\\In[141]:4",
      " [13] top-level scope",
      "    @ In[143]:1"
     ]
    }
   ],
   "source": [
    "res = decisionTree_remise(X_train ,y_train,  X_test)\n",
    "missingRows.consommation = res"
   ]
  },
  {
   "cell_type": "code",
   "execution_count": 88,
   "metadata": {},
   "outputs": [
    {
     "data": {
      "text/html": [
       "<div><div style = \"float: left;\"><span>150×9 DataFrame</span></div><div style = \"float: right;\"><span style = \"font-style: italic;\">125 rows omitted</span></div><div style = \"clear: both;\"></div></div><div class = \"data-frame\" style = \"overflow-x: scroll;\"><table class = \"data-frame\" style = \"margin-bottom: 6px;\"><thead><tr class = \"header\"><th class = \"rowNumber\" style = \"font-weight: bold; text-align: right;\">Row</th><th style = \"text-align: left;\">ID</th><th style = \"text-align: left;\">annee</th><th style = \"text-align: left;\">type</th><th style = \"text-align: left;\">nombre_cylindres</th><th style = \"text-align: left;\">cylindree</th><th style = \"text-align: left;\">transmission</th><th style = \"text-align: left;\">boite</th><th style = \"text-align: left;\">volume_gaz</th><th style = \"text-align: left;\">consommation</th></tr><tr class = \"subheader headerLastRow\"><th class = \"rowNumber\" style = \"font-weight: bold; text-align: right;\"></th><th title = \"Int64\" style = \"text-align: left;\">Int64</th><th title = \"Int64\" style = \"text-align: left;\">Int64</th><th title = \"String31\" style = \"text-align: left;\">String31</th><th title = \"Int64\" style = \"text-align: left;\">Int64</th><th title = \"Float64\" style = \"text-align: left;\">Float64</th><th title = \"String15\" style = \"text-align: left;\">String15</th><th title = \"String15\" style = \"text-align: left;\">String15</th><th title = \"Float64\" style = \"text-align: left;\">Float64</th><th title = \"Union{Missing, Float64}\" style = \"text-align: left;\">Float64?</th></tr></thead><tbody><tr><td class = \"rowNumber\" style = \"font-weight: bold; text-align: right;\">1</td><td style = \"text-align: right;\">100</td><td style = \"text-align: right;\">2020</td><td style = \"text-align: left;\">VUS_petit</td><td style = \"text-align: right;\">4</td><td style = \"text-align: right;\">2.0</td><td style = \"text-align: left;\">integrale</td><td style = \"text-align: left;\">automatique</td><td style = \"text-align: right;\">8.0</td><td style = \"text-align: right;\">10.0909</td></tr><tr><td class = \"rowNumber\" style = \"font-weight: bold; text-align: right;\">2</td><td style = \"text-align: right;\">108</td><td style = \"text-align: right;\">2020</td><td style = \"text-align: left;\">VUS_petit</td><td style = \"text-align: right;\">4</td><td style = \"text-align: right;\">2.0</td><td style = \"text-align: left;\">integrale</td><td style = \"text-align: left;\">automatique</td><td style = \"text-align: right;\">8.0</td><td style = \"text-align: right;\">10.0909</td></tr><tr><td class = \"rowNumber\" style = \"font-weight: bold; text-align: right;\">3</td><td style = \"text-align: right;\">134</td><td style = \"text-align: right;\">2023</td><td style = \"text-align: left;\">VUS_standard</td><td style = \"text-align: right;\">8</td><td style = \"text-align: right;\">5.0</td><td style = \"text-align: left;\">4x4</td><td style = \"text-align: left;\">automatique</td><td style = \"text-align: right;\">40.0</td><td style = \"text-align: right;\">14.7006</td></tr><tr><td class = \"rowNumber\" style = \"font-weight: bold; text-align: right;\">4</td><td style = \"text-align: right;\">148</td><td style = \"text-align: right;\">2024</td><td style = \"text-align: left;\">voiture_sous_compacte</td><td style = \"text-align: right;\">6</td><td style = \"text-align: right;\">3.0</td><td style = \"text-align: left;\">propulsion</td><td style = \"text-align: left;\">automatique</td><td style = \"text-align: right;\">18.0</td><td style = \"text-align: right;\">11.0899</td></tr><tr><td class = \"rowNumber\" style = \"font-weight: bold; text-align: right;\">5</td><td style = \"text-align: right;\">106</td><td style = \"text-align: right;\">2020</td><td style = \"text-align: left;\">voiture_moyenne</td><td style = \"text-align: right;\">4</td><td style = \"text-align: right;\">2.0</td><td style = \"text-align: left;\">integrale</td><td style = \"text-align: left;\">automatique</td><td style = \"text-align: right;\">8.0</td><td style = \"text-align: right;\">8.71148</td></tr><tr><td class = \"rowNumber\" style = \"font-weight: bold; text-align: right;\">6</td><td style = \"text-align: right;\">26</td><td style = \"text-align: right;\">2015</td><td style = \"text-align: left;\">VUS_standard</td><td style = \"text-align: right;\">8</td><td style = \"text-align: right;\">6.2</td><td style = \"text-align: left;\">4x4</td><td style = \"text-align: left;\">automatique</td><td style = \"text-align: right;\">49.6</td><td style = \"text-align: right;\">14.7006</td></tr><tr><td class = \"rowNumber\" style = \"font-weight: bold; text-align: right;\">7</td><td style = \"text-align: right;\">28</td><td style = \"text-align: right;\">2015</td><td style = \"text-align: left;\">VUS_standard</td><td style = \"text-align: right;\">8</td><td style = \"text-align: right;\">6.2</td><td style = \"text-align: left;\">4x4</td><td style = \"text-align: left;\">automatique</td><td style = \"text-align: right;\">49.6</td><td style = \"text-align: right;\">14.7006</td></tr><tr><td class = \"rowNumber\" style = \"font-weight: bold; text-align: right;\">8</td><td style = \"text-align: right;\">79</td><td style = \"text-align: right;\">2019</td><td style = \"text-align: left;\">VUS_petit</td><td style = \"text-align: right;\">4</td><td style = \"text-align: right;\">2.4</td><td style = \"text-align: left;\">integrale</td><td style = \"text-align: left;\">automatique</td><td style = \"text-align: right;\">9.6</td><td style = \"text-align: right;\">9.80042</td></tr><tr><td class = \"rowNumber\" style = \"font-weight: bold; text-align: right;\">9</td><td style = \"text-align: right;\">114</td><td style = \"text-align: right;\">2021</td><td style = \"text-align: left;\">VUS_petit</td><td style = \"text-align: right;\">4</td><td style = \"text-align: right;\">2.0</td><td style = \"text-align: left;\">traction</td><td style = \"text-align: left;\">automatique</td><td style = \"text-align: right;\">8.0</td><td style = \"text-align: right;\">7.58742</td></tr><tr><td class = \"rowNumber\" style = \"font-weight: bold; text-align: right;\">10</td><td style = \"text-align: right;\">146</td><td style = \"text-align: right;\">2024</td><td style = \"text-align: left;\">voiture_sous_compacte</td><td style = \"text-align: right;\">4</td><td style = \"text-align: right;\">2.0</td><td style = \"text-align: left;\">integrale</td><td style = \"text-align: left;\">automatique</td><td style = \"text-align: right;\">8.0</td><td style = \"text-align: right;\">8.71148</td></tr><tr><td class = \"rowNumber\" style = \"font-weight: bold; text-align: right;\">11</td><td style = \"text-align: right;\">61</td><td style = \"text-align: right;\">2018</td><td style = \"text-align: left;\">voiture_sous_compacte</td><td style = \"text-align: right;\">4</td><td style = \"text-align: right;\">2.0</td><td style = \"text-align: left;\">integrale</td><td style = \"text-align: left;\">automatique</td><td style = \"text-align: right;\">8.0</td><td style = \"text-align: right;\">8.87901</td></tr><tr><td class = \"rowNumber\" style = \"font-weight: bold; text-align: right;\">12</td><td style = \"text-align: right;\">43</td><td style = \"text-align: right;\">2017</td><td style = \"text-align: left;\">VUS_petit</td><td style = \"text-align: right;\">4</td><td style = \"text-align: right;\">2.0</td><td style = \"text-align: left;\">integrale</td><td style = \"text-align: left;\">automatique</td><td style = \"text-align: right;\">8.0</td><td style = \"text-align: right;\">11.2005</td></tr><tr><td class = \"rowNumber\" style = \"font-weight: bold; text-align: right;\">13</td><td style = \"text-align: right;\">129</td><td style = \"text-align: right;\">2022</td><td style = \"text-align: left;\">voiture_sous_compacte</td><td style = \"text-align: right;\">8</td><td style = \"text-align: right;\">4.4</td><td style = \"text-align: left;\">integrale</td><td style = \"text-align: left;\">automatique</td><td style = \"text-align: right;\">35.2</td><td style = \"text-align: right;\">12.6586</td></tr><tr><td style = \"text-align: right;\">&vellip;</td><td style = \"text-align: right;\">&vellip;</td><td style = \"text-align: right;\">&vellip;</td><td style = \"text-align: right;\">&vellip;</td><td style = \"text-align: right;\">&vellip;</td><td style = \"text-align: right;\">&vellip;</td><td style = \"text-align: right;\">&vellip;</td><td style = \"text-align: right;\">&vellip;</td><td style = \"text-align: right;\">&vellip;</td><td style = \"text-align: right;\">&vellip;</td></tr><tr><td class = \"rowNumber\" style = \"font-weight: bold; text-align: right;\">139</td><td style = \"text-align: right;\">122</td><td style = \"text-align: right;\">2022</td><td style = \"text-align: left;\">VUS_petit</td><td style = \"text-align: right;\">6</td><td style = \"text-align: right;\">3.5</td><td style = \"text-align: left;\">traction</td><td style = \"text-align: left;\">automatique</td><td style = \"text-align: right;\">21.0</td><td style = \"font-style: italic; text-align: right;\">missing</td></tr><tr><td class = \"rowNumber\" style = \"font-weight: bold; text-align: right;\">140</td><td style = \"text-align: right;\">124</td><td style = \"text-align: right;\">2022</td><td style = \"text-align: left;\">VUS_petit</td><td style = \"text-align: right;\">4</td><td style = \"text-align: right;\">1.5</td><td style = \"text-align: left;\">4x4</td><td style = \"text-align: left;\">automatique</td><td style = \"text-align: right;\">6.0</td><td style = \"font-style: italic; text-align: right;\">missing</td></tr><tr><td class = \"rowNumber\" style = \"font-weight: bold; text-align: right;\">141</td><td style = \"text-align: right;\">125</td><td style = \"text-align: right;\">2022</td><td style = \"text-align: left;\">VUS_petit</td><td style = \"text-align: right;\">4</td><td style = \"text-align: right;\">1.5</td><td style = \"text-align: left;\">4x4</td><td style = \"text-align: left;\">automatique</td><td style = \"text-align: right;\">6.0</td><td style = \"font-style: italic; text-align: right;\">missing</td></tr><tr><td class = \"rowNumber\" style = \"font-weight: bold; text-align: right;\">142</td><td style = \"text-align: right;\">131</td><td style = \"text-align: right;\">2022</td><td style = \"text-align: left;\">voiture_moyenne</td><td style = \"text-align: right;\">3</td><td style = \"text-align: right;\">1.5</td><td style = \"text-align: left;\">traction</td><td style = \"text-align: left;\">automatique</td><td style = \"text-align: right;\">4.5</td><td style = \"font-style: italic; text-align: right;\">missing</td></tr><tr><td class = \"rowNumber\" style = \"font-weight: bold; text-align: right;\">143</td><td style = \"text-align: right;\">132</td><td style = \"text-align: right;\">2022</td><td style = \"text-align: left;\">voiture_moyenne</td><td style = \"text-align: right;\">4</td><td style = \"text-align: right;\">2.0</td><td style = \"text-align: left;\">traction</td><td style = \"text-align: left;\">manuelle</td><td style = \"text-align: right;\">8.0</td><td style = \"font-style: italic; text-align: right;\">missing</td></tr><tr><td class = \"rowNumber\" style = \"font-weight: bold; text-align: right;\">144</td><td style = \"text-align: right;\">137</td><td style = \"text-align: right;\">2023</td><td style = \"text-align: left;\">VUS_petit</td><td style = \"text-align: right;\">6</td><td style = \"text-align: right;\">3.5</td><td style = \"text-align: left;\">integrale</td><td style = \"text-align: left;\">automatique</td><td style = \"text-align: right;\">21.0</td><td style = \"font-style: italic; text-align: right;\">missing</td></tr><tr><td class = \"rowNumber\" style = \"font-weight: bold; text-align: right;\">145</td><td style = \"text-align: right;\">138</td><td style = \"text-align: right;\">2023</td><td style = \"text-align: left;\">VUS_petit</td><td style = \"text-align: right;\">4</td><td style = \"text-align: right;\">1.6</td><td style = \"text-align: left;\">integrale</td><td style = \"text-align: left;\">automatique</td><td style = \"text-align: right;\">6.4</td><td style = \"font-style: italic; text-align: right;\">missing</td></tr><tr><td class = \"rowNumber\" style = \"font-weight: bold; text-align: right;\">146</td><td style = \"text-align: right;\">139</td><td style = \"text-align: right;\">2023</td><td style = \"text-align: left;\">VUS_petit</td><td style = \"text-align: right;\">4</td><td style = \"text-align: right;\">1.6</td><td style = \"text-align: left;\">traction</td><td style = \"text-align: left;\">automatique</td><td style = \"text-align: right;\">6.4</td><td style = \"font-style: italic; text-align: right;\">missing</td></tr><tr><td class = \"rowNumber\" style = \"font-weight: bold; text-align: right;\">147</td><td style = \"text-align: right;\">140</td><td style = \"text-align: right;\">2023</td><td style = \"text-align: left;\">voiture_moyenne</td><td style = \"text-align: right;\">6</td><td style = \"text-align: right;\">3.3</td><td style = \"text-align: left;\">propulsion</td><td style = \"text-align: left;\">automatique</td><td style = \"text-align: right;\">19.8</td><td style = \"font-style: italic; text-align: right;\">missing</td></tr><tr><td class = \"rowNumber\" style = \"font-weight: bold; text-align: right;\">148</td><td style = \"text-align: right;\">143</td><td style = \"text-align: right;\">2024</td><td style = \"text-align: left;\">VUS_petit</td><td style = \"text-align: right;\">4</td><td style = \"text-align: right;\">2.0</td><td style = \"text-align: left;\">traction</td><td style = \"text-align: left;\">automatique</td><td style = \"text-align: right;\">8.0</td><td style = \"font-style: italic; text-align: right;\">missing</td></tr><tr><td class = \"rowNumber\" style = \"font-weight: bold; text-align: right;\">149</td><td style = \"text-align: right;\">144</td><td style = \"text-align: right;\">2024</td><td style = \"text-align: left;\">VUS_petit</td><td style = \"text-align: right;\">4</td><td style = \"text-align: right;\">1.6</td><td style = \"text-align: left;\">integrale</td><td style = \"text-align: left;\">automatique</td><td style = \"text-align: right;\">6.4</td><td style = \"font-style: italic; text-align: right;\">missing</td></tr><tr><td class = \"rowNumber\" style = \"font-weight: bold; text-align: right;\">150</td><td style = \"text-align: right;\">147</td><td style = \"text-align: right;\">2024</td><td style = \"text-align: left;\">voiture_sous_compacte</td><td style = \"text-align: right;\">6</td><td style = \"text-align: right;\">3.0</td><td style = \"text-align: left;\">propulsion</td><td style = \"text-align: left;\">manuelle</td><td style = \"text-align: right;\">18.0</td><td style = \"font-style: italic; text-align: right;\">missing</td></tr></tbody></table></div>"
      ],
      "text/latex": [
       "\\begin{tabular}{r|ccccccc}\n",
       "\t& ID & annee & type & nombre\\_cylindres & cylindree & transmission & \\\\\n",
       "\t\\hline\n",
       "\t& Int64 & Int64 & String31 & Int64 & Float64 & String15 & \\\\\n",
       "\t\\hline\n",
       "\t1 & 100 & 2020 & VUS\\_petit & 4 & 2.0 & integrale & $\\dots$ \\\\\n",
       "\t2 & 108 & 2020 & VUS\\_petit & 4 & 2.0 & integrale & $\\dots$ \\\\\n",
       "\t3 & 134 & 2023 & VUS\\_standard & 8 & 5.0 & 4x4 & $\\dots$ \\\\\n",
       "\t4 & 148 & 2024 & voiture\\_sous\\_compacte & 6 & 3.0 & propulsion & $\\dots$ \\\\\n",
       "\t5 & 106 & 2020 & voiture\\_moyenne & 4 & 2.0 & integrale & $\\dots$ \\\\\n",
       "\t6 & 26 & 2015 & VUS\\_standard & 8 & 6.2 & 4x4 & $\\dots$ \\\\\n",
       "\t7 & 28 & 2015 & VUS\\_standard & 8 & 6.2 & 4x4 & $\\dots$ \\\\\n",
       "\t8 & 79 & 2019 & VUS\\_petit & 4 & 2.4 & integrale & $\\dots$ \\\\\n",
       "\t9 & 114 & 2021 & VUS\\_petit & 4 & 2.0 & traction & $\\dots$ \\\\\n",
       "\t10 & 146 & 2024 & voiture\\_sous\\_compacte & 4 & 2.0 & integrale & $\\dots$ \\\\\n",
       "\t11 & 61 & 2018 & voiture\\_sous\\_compacte & 4 & 2.0 & integrale & $\\dots$ \\\\\n",
       "\t12 & 43 & 2017 & VUS\\_petit & 4 & 2.0 & integrale & $\\dots$ \\\\\n",
       "\t13 & 129 & 2022 & voiture\\_sous\\_compacte & 8 & 4.4 & integrale & $\\dots$ \\\\\n",
       "\t14 & 103 & 2020 & voiture\\_deux\\_places & 4 & 2.0 & propulsion & $\\dots$ \\\\\n",
       "\t15 & 150 & 2024 & voiture\\_sous\\_compacte & 4 & 2.0 & traction & $\\dots$ \\\\\n",
       "\t16 & 7 & 2014 & voiture\\_sous\\_compacte & 8 & 5.0 & propulsion & $\\dots$ \\\\\n",
       "\t17 & 87 & 2019 & VUS\\_petit & 4 & 2.0 & integrale & $\\dots$ \\\\\n",
       "\t18 & 13 & 2014 & VUS\\_petit & 4 & 2.0 & traction & $\\dots$ \\\\\n",
       "\t19 & 58 & 2017 & voiture\\_deux\\_places & 6 & 3.0 & propulsion & $\\dots$ \\\\\n",
       "\t20 & 127 & 2022 & VUS\\_petit & 4 & 1.6 & integrale & $\\dots$ \\\\\n",
       "\t21 & 133 & 2022 & VUS\\_petit & 4 & 1.6 & integrale & $\\dots$ \\\\\n",
       "\t22 & 145 & 2024 & voiture\\_sous\\_compacte & 4 & 2.0 & propulsion & $\\dots$ \\\\\n",
       "\t23 & 27 & 2015 & VUS\\_standard & 8 & 5.3 & 4x4 & $\\dots$ \\\\\n",
       "\t24 & 62 & 2018 & voiture\\_compacte & 4 & 2.0 & integrale & $\\dots$ \\\\\n",
       "\t25 & 92 & 2019 & voiture\\_deux\\_places & 8 & 6.2 & propulsion & $\\dots$ \\\\\n",
       "\t26 & 74 & 2018 & voiture\\_compacte & 6 & 3.0 & propulsion & $\\dots$ \\\\\n",
       "\t27 & 21 & 2015 & VUS\\_standard & 8 & 6.2 & propulsion & $\\dots$ \\\\\n",
       "\t28 & 24 & 2015 & VUS\\_standard & 8 & 6.2 & propulsion & $\\dots$ \\\\\n",
       "\t29 & 130 & 2022 & voiture\\_sous\\_compacte & 4 & 2.0 & traction & $\\dots$ \\\\\n",
       "\t30 & 96 & 2020 & voiture\\_compacte & 4 & 1.8 & traction & $\\dots$ \\\\\n",
       "\t$\\dots$ & $\\dots$ & $\\dots$ & $\\dots$ & $\\dots$ & $\\dots$ & $\\dots$ &  \\\\\n",
       "\\end{tabular}\n"
      ],
      "text/plain": [
       "\u001b[1m150×9 DataFrame\u001b[0m\n",
       "\u001b[1m Row \u001b[0m│\u001b[1m ID    \u001b[0m\u001b[1m annee \u001b[0m\u001b[1m type                  \u001b[0m\u001b[1m nombre_cylindres \u001b[0m\u001b[1m cylindree \u001b[0m\u001b[1m trans\u001b[0m ⋯\n",
       "     │\u001b[90m Int64 \u001b[0m\u001b[90m Int64 \u001b[0m\u001b[90m String31              \u001b[0m\u001b[90m Int64            \u001b[0m\u001b[90m Float64   \u001b[0m\u001b[90m Strin\u001b[0m ⋯\n",
       "─────┼──────────────────────────────────────────────────────────────────────────\n",
       "   1 │   100   2020  VUS_petit                             4        2.0  integ ⋯\n",
       "   2 │   108   2020  VUS_petit                             4        2.0  integ\n",
       "   3 │   134   2023  VUS_standard                          8        5.0  4x4\n",
       "   4 │   148   2024  voiture_sous_compacte                 6        3.0  propu\n",
       "   5 │   106   2020  voiture_moyenne                       4        2.0  integ ⋯\n",
       "   6 │    26   2015  VUS_standard                          8        6.2  4x4\n",
       "   7 │    28   2015  VUS_standard                          8        6.2  4x4\n",
       "   8 │    79   2019  VUS_petit                             4        2.4  integ\n",
       "   9 │   114   2021  VUS_petit                             4        2.0  tract ⋯\n",
       "  10 │   146   2024  voiture_sous_compacte                 4        2.0  integ\n",
       "  11 │    61   2018  voiture_sous_compacte                 4        2.0  integ\n",
       "  ⋮  │   ⋮      ⋮              ⋮                   ⋮              ⋮            ⋱\n",
       " 141 │   125   2022  VUS_petit                             4        1.5  4x4\n",
       " 142 │   131   2022  voiture_moyenne                       3        1.5  tract ⋯\n",
       " 143 │   132   2022  voiture_moyenne                       4        2.0  tract\n",
       " 144 │   137   2023  VUS_petit                             6        3.5  integ\n",
       " 145 │   138   2023  VUS_petit                             4        1.6  integ\n",
       " 146 │   139   2023  VUS_petit                             4        1.6  tract ⋯\n",
       " 147 │   140   2023  voiture_moyenne                       6        3.3  propu\n",
       " 148 │   143   2024  VUS_petit                             4        2.0  tract\n",
       " 149 │   144   2024  VUS_petit                             4        1.6  integ\n",
       " 150 │   147   2024  voiture_sous_compacte                 6        3.0  propu ⋯\n",
       "\u001b[36m                                                  4 columns and 129 rows omitted\u001b[0m"
      ]
     },
     "execution_count": 88,
     "metadata": {},
     "output_type": "execute_result"
    }
   ],
   "source": [
    "testData"
   ]
  },
  {
   "cell_type": "code",
   "execution_count": 89,
   "metadata": {},
   "outputs": [
    {
     "data": {
      "text/html": [
       "<div><div style = \"float: left;\"><span>150×10 DataFrame</span></div><div style = \"float: right;\"><span style = \"font-style: italic;\">125 rows omitted</span></div><div style = \"clear: both;\"></div></div><div class = \"data-frame\" style = \"overflow-x: scroll;\"><table class = \"data-frame\" style = \"margin-bottom: 6px;\"><thead><tr class = \"header\"><th class = \"rowNumber\" style = \"font-weight: bold; text-align: right;\">Row</th><th style = \"text-align: left;\">ID</th><th style = \"text-align: left;\">annee</th><th style = \"text-align: left;\">type</th><th style = \"text-align: left;\">nombre_cylindres</th><th style = \"text-align: left;\">cylindree</th><th style = \"text-align: left;\">transmission</th><th style = \"text-align: left;\">boite</th><th style = \"text-align: left;\">volume_gaz</th><th style = \"text-align: left;\">consommation</th><th style = \"text-align: left;\">consommation_1</th></tr><tr class = \"subheader headerLastRow\"><th class = \"rowNumber\" style = \"font-weight: bold; text-align: right;\"></th><th title = \"Int64\" style = \"text-align: left;\">Int64</th><th title = \"Int64\" style = \"text-align: left;\">Int64</th><th title = \"String31\" style = \"text-align: left;\">String31</th><th title = \"Int64\" style = \"text-align: left;\">Int64</th><th title = \"Float64\" style = \"text-align: left;\">Float64</th><th title = \"String15\" style = \"text-align: left;\">String15</th><th title = \"String15\" style = \"text-align: left;\">String15</th><th title = \"Float64\" style = \"text-align: left;\">Float64</th><th title = \"Union{Missing, Float64}\" style = \"text-align: left;\">Float64?</th><th title = \"Union{Missing, Float64}\" style = \"text-align: left;\">Float64?</th></tr></thead><tbody><tr><td class = \"rowNumber\" style = \"font-weight: bold; text-align: right;\">1</td><td style = \"text-align: right;\">1</td><td style = \"text-align: right;\">2014</td><td style = \"text-align: left;\">voiture_moyenne</td><td style = \"text-align: right;\">4</td><td style = \"text-align: right;\">2.5</td><td style = \"text-align: left;\">traction</td><td style = \"text-align: left;\">manuelle</td><td style = \"text-align: right;\">10.0</td><td style = \"font-style: italic; text-align: right;\">missing</td><td style = \"text-align: right;\">10.6103</td></tr><tr><td class = \"rowNumber\" style = \"font-weight: bold; text-align: right;\">2</td><td style = \"text-align: right;\">2</td><td style = \"text-align: right;\">2014</td><td style = \"text-align: left;\">voiture_moyenne</td><td style = \"text-align: right;\">4</td><td style = \"text-align: right;\">2.5</td><td style = \"text-align: left;\">traction</td><td style = \"text-align: left;\">automatique</td><td style = \"text-align: right;\">10.0</td><td style = \"font-style: italic; text-align: right;\">missing</td><td style = \"text-align: right;\">10.9905</td></tr><tr><td class = \"rowNumber\" style = \"font-weight: bold; text-align: right;\">3</td><td style = \"text-align: right;\">3</td><td style = \"text-align: right;\">2014</td><td style = \"text-align: left;\">VUS_petit</td><td style = \"text-align: right;\">4</td><td style = \"text-align: right;\">2.5</td><td style = \"text-align: left;\">traction</td><td style = \"text-align: left;\">automatique</td><td style = \"text-align: right;\">10.0</td><td style = \"font-style: italic; text-align: right;\">missing</td><td style = \"text-align: right;\">11.3021</td></tr><tr><td class = \"rowNumber\" style = \"font-weight: bold; text-align: right;\">4</td><td style = \"text-align: right;\">4</td><td style = \"text-align: right;\">2014</td><td style = \"text-align: left;\">VUS_petit</td><td style = \"text-align: right;\">4</td><td style = \"text-align: right;\">2.0</td><td style = \"text-align: left;\">4x4</td><td style = \"text-align: left;\">automatique</td><td style = \"text-align: right;\">8.0</td><td style = \"font-style: italic; text-align: right;\">missing</td><td style = \"text-align: right;\">10.1966</td></tr><tr><td class = \"rowNumber\" style = \"font-weight: bold; text-align: right;\">5</td><td style = \"text-align: right;\">5</td><td style = \"text-align: right;\">2014</td><td style = \"text-align: left;\">voiture_sous_compacte</td><td style = \"text-align: right;\">8</td><td style = \"text-align: right;\">5.8</td><td style = \"text-align: left;\">propulsion</td><td style = \"text-align: left;\">manuelle</td><td style = \"text-align: right;\">46.4</td><td style = \"font-style: italic; text-align: right;\">missing</td><td style = \"text-align: right;\">11.2641</td></tr><tr><td class = \"rowNumber\" style = \"font-weight: bold; text-align: right;\">6</td><td style = \"text-align: right;\">9</td><td style = \"text-align: right;\">2014</td><td style = \"text-align: left;\">VUS_petit</td><td style = \"text-align: right;\">6</td><td style = \"text-align: right;\">3.5</td><td style = \"text-align: left;\">integrale</td><td style = \"text-align: left;\">automatique</td><td style = \"text-align: right;\">21.0</td><td style = \"font-style: italic; text-align: right;\">missing</td><td style = \"text-align: right;\">12.1507</td></tr><tr><td class = \"rowNumber\" style = \"font-weight: bold; text-align: right;\">7</td><td style = \"text-align: right;\">10</td><td style = \"text-align: right;\">2014</td><td style = \"text-align: left;\">voiture_deux_places</td><td style = \"text-align: right;\">10</td><td style = \"text-align: right;\">5.2</td><td style = \"text-align: left;\">integrale</td><td style = \"text-align: left;\">manuelle</td><td style = \"text-align: right;\">52.0</td><td style = \"font-style: italic; text-align: right;\">missing</td><td style = \"text-align: right;\">12.2741</td></tr><tr><td class = \"rowNumber\" style = \"font-weight: bold; text-align: right;\">8</td><td style = \"text-align: right;\">11</td><td style = \"text-align: right;\">2014</td><td style = \"text-align: left;\">voiture_deux_places</td><td style = \"text-align: right;\">10</td><td style = \"text-align: right;\">5.2</td><td style = \"text-align: left;\">integrale</td><td style = \"text-align: left;\">manuelle</td><td style = \"text-align: right;\">52.0</td><td style = \"font-style: italic; text-align: right;\">missing</td><td style = \"text-align: right;\">12.2741</td></tr><tr><td class = \"rowNumber\" style = \"font-weight: bold; text-align: right;\">9</td><td style = \"text-align: right;\">12</td><td style = \"text-align: right;\">2014</td><td style = \"text-align: left;\">voiture_sous_compacte</td><td style = \"text-align: right;\">12</td><td style = \"text-align: right;\">5.9</td><td style = \"text-align: left;\">propulsion</td><td style = \"text-align: left;\">automatique</td><td style = \"text-align: right;\">70.8</td><td style = \"font-style: italic; text-align: right;\">missing</td><td style = \"text-align: right;\">11.3674</td></tr><tr><td class = \"rowNumber\" style = \"font-weight: bold; text-align: right;\">10</td><td style = \"text-align: right;\">15</td><td style = \"text-align: right;\">2015</td><td style = \"text-align: left;\">voiture_moyenne</td><td style = \"text-align: right;\">4</td><td style = \"text-align: right;\">2.5</td><td style = \"text-align: left;\">traction</td><td style = \"text-align: left;\">manuelle</td><td style = \"text-align: right;\">10.0</td><td style = \"font-style: italic; text-align: right;\">missing</td><td style = \"text-align: right;\">10.6134</td></tr><tr><td class = \"rowNumber\" style = \"font-weight: bold; text-align: right;\">11</td><td style = \"text-align: right;\">17</td><td style = \"text-align: right;\">2015</td><td style = \"text-align: left;\">camionnette_standard</td><td style = \"text-align: right;\">8</td><td style = \"text-align: right;\">5.3</td><td style = \"text-align: left;\">propulsion</td><td style = \"text-align: left;\">automatique</td><td style = \"text-align: right;\">42.4</td><td style = \"font-style: italic; text-align: right;\">missing</td><td style = \"text-align: right;\">11.3889</td></tr><tr><td class = \"rowNumber\" style = \"font-weight: bold; text-align: right;\">12</td><td style = \"text-align: right;\">18</td><td style = \"text-align: right;\">2015</td><td style = \"text-align: left;\">camionnette_standard</td><td style = \"text-align: right;\">8</td><td style = \"text-align: right;\">5.3</td><td style = \"text-align: left;\">propulsion</td><td style = \"text-align: left;\">automatique</td><td style = \"text-align: right;\">42.4</td><td style = \"font-style: italic; text-align: right;\">missing</td><td style = \"text-align: right;\">11.3889</td></tr><tr><td class = \"rowNumber\" style = \"font-weight: bold; text-align: right;\">13</td><td style = \"text-align: right;\">19</td><td style = \"text-align: right;\">2015</td><td style = \"text-align: left;\">camionnette_standard</td><td style = \"text-align: right;\">8</td><td style = \"text-align: right;\">5.3</td><td style = \"text-align: left;\">4x4</td><td style = \"text-align: left;\">automatique</td><td style = \"text-align: right;\">42.4</td><td style = \"font-style: italic; text-align: right;\">missing</td><td style = \"text-align: right;\">12.3883</td></tr><tr><td style = \"text-align: right;\">&vellip;</td><td style = \"text-align: right;\">&vellip;</td><td style = \"text-align: right;\">&vellip;</td><td style = \"text-align: right;\">&vellip;</td><td style = \"text-align: right;\">&vellip;</td><td style = \"text-align: right;\">&vellip;</td><td style = \"text-align: right;\">&vellip;</td><td style = \"text-align: right;\">&vellip;</td><td style = \"text-align: right;\">&vellip;</td><td style = \"text-align: right;\">&vellip;</td><td style = \"text-align: right;\">&vellip;</td></tr><tr><td class = \"rowNumber\" style = \"font-weight: bold; text-align: right;\">139</td><td style = \"text-align: right;\">23</td><td style = \"text-align: right;\">2015</td><td style = \"text-align: left;\">VUS_standard</td><td style = \"text-align: right;\">8</td><td style = \"text-align: right;\">5.3</td><td style = \"text-align: left;\">propulsion</td><td style = \"text-align: left;\">automatique</td><td style = \"text-align: right;\">42.4</td><td style = \"text-align: right;\">13.0672</td><td style = \"font-style: italic; text-align: right;\">missing</td></tr><tr><td class = \"rowNumber\" style = \"font-weight: bold; text-align: right;\">140</td><td style = \"text-align: right;\">25</td><td style = \"text-align: right;\">2015</td><td style = \"text-align: left;\">VUS_standard</td><td style = \"text-align: right;\">8</td><td style = \"text-align: right;\">5.3</td><td style = \"text-align: left;\">propulsion</td><td style = \"text-align: left;\">automatique</td><td style = \"text-align: right;\">42.4</td><td style = \"text-align: right;\">13.0672</td><td style = \"font-style: italic; text-align: right;\">missing</td></tr><tr><td class = \"rowNumber\" style = \"font-weight: bold; text-align: right;\">141</td><td style = \"text-align: right;\">71</td><td style = \"text-align: right;\">2018</td><td style = \"text-align: left;\">voiture_compacte</td><td style = \"text-align: right;\">6</td><td style = \"text-align: right;\">3.0</td><td style = \"text-align: left;\">integrale</td><td style = \"text-align: left;\">automatique</td><td style = \"text-align: right;\">18.0</td><td style = \"text-align: right;\">9.80042</td><td style = \"font-style: italic; text-align: right;\">missing</td></tr><tr><td class = \"rowNumber\" style = \"font-weight: bold; text-align: right;\">142</td><td style = \"text-align: right;\">73</td><td style = \"text-align: right;\">2018</td><td style = \"text-align: left;\">voiture_compacte</td><td style = \"text-align: right;\">6</td><td style = \"text-align: right;\">3.0</td><td style = \"text-align: left;\">integrale</td><td style = \"text-align: left;\">automatique</td><td style = \"text-align: right;\">18.0</td><td style = \"text-align: right;\">9.80042</td><td style = \"font-style: italic; text-align: right;\">missing</td></tr><tr><td class = \"rowNumber\" style = \"font-weight: bold; text-align: right;\">143</td><td style = \"text-align: right;\">75</td><td style = \"text-align: right;\">2018</td><td style = \"text-align: left;\">voiture_compacte</td><td style = \"text-align: right;\">6</td><td style = \"text-align: right;\">3.0</td><td style = \"text-align: left;\">integrale</td><td style = \"text-align: left;\">automatique</td><td style = \"text-align: right;\">18.0</td><td style = \"text-align: right;\">9.80042</td><td style = \"font-style: italic; text-align: right;\">missing</td></tr><tr><td class = \"rowNumber\" style = \"font-weight: bold; text-align: right;\">144</td><td style = \"text-align: right;\">82</td><td style = \"text-align: right;\">2019</td><td style = \"text-align: left;\">VUS_petit</td><td style = \"text-align: right;\">4</td><td style = \"text-align: right;\">2.0</td><td style = \"text-align: left;\">traction</td><td style = \"text-align: left;\">automatique</td><td style = \"text-align: right;\">8.0</td><td style = \"text-align: right;\">8.71148</td><td style = \"font-style: italic; text-align: right;\">missing</td></tr><tr><td class = \"rowNumber\" style = \"font-weight: bold; text-align: right;\">145</td><td style = \"text-align: right;\">37</td><td style = \"text-align: right;\">2016</td><td style = \"text-align: left;\">voiture_deux_places</td><td style = \"text-align: right;\">6</td><td style = \"text-align: right;\">3.0</td><td style = \"text-align: left;\">propulsion</td><td style = \"text-align: left;\">automatique</td><td style = \"text-align: right;\">18.0</td><td style = \"text-align: right;\">10.6914</td><td style = \"font-style: italic; text-align: right;\">missing</td></tr><tr><td class = \"rowNumber\" style = \"font-weight: bold; text-align: right;\">146</td><td style = \"text-align: right;\">38</td><td style = \"text-align: right;\">2016</td><td style = \"text-align: left;\">voiture_deux_places</td><td style = \"text-align: right;\">6</td><td style = \"text-align: right;\">3.0</td><td style = \"text-align: left;\">propulsion</td><td style = \"text-align: left;\">automatique</td><td style = \"text-align: right;\">18.0</td><td style = \"text-align: right;\">10.6914</td><td style = \"font-style: italic; text-align: right;\">missing</td></tr><tr><td class = \"rowNumber\" style = \"font-weight: bold; text-align: right;\">147</td><td style = \"text-align: right;\">83</td><td style = \"text-align: right;\">2019</td><td style = \"text-align: left;\">VUS_petit</td><td style = \"text-align: right;\">4</td><td style = \"text-align: right;\">2.4</td><td style = \"text-align: left;\">traction</td><td style = \"text-align: left;\">automatique</td><td style = \"text-align: right;\">9.6</td><td style = \"text-align: right;\">9.4084</td><td style = \"font-style: italic; text-align: right;\">missing</td></tr><tr><td class = \"rowNumber\" style = \"font-weight: bold; text-align: right;\">148</td><td style = \"text-align: right;\">77</td><td style = \"text-align: right;\">2019</td><td style = \"text-align: left;\">voiture_deux_places</td><td style = \"text-align: right;\">8</td><td style = \"text-align: right;\">6.2</td><td style = \"text-align: left;\">propulsion</td><td style = \"text-align: left;\">automatique</td><td style = \"text-align: right;\">49.6</td><td style = \"text-align: right;\">15.6807</td><td style = \"font-style: italic; text-align: right;\">missing</td></tr><tr><td class = \"rowNumber\" style = \"font-weight: bold; text-align: right;\">149</td><td style = \"text-align: right;\">78</td><td style = \"text-align: right;\">2019</td><td style = \"text-align: left;\">voiture_deux_places</td><td style = \"text-align: right;\">8</td><td style = \"text-align: right;\">6.2</td><td style = \"text-align: left;\">propulsion</td><td style = \"text-align: left;\">automatique</td><td style = \"text-align: right;\">49.6</td><td style = \"text-align: right;\">15.6807</td><td style = \"font-style: italic; text-align: right;\">missing</td></tr><tr><td class = \"rowNumber\" style = \"font-weight: bold; text-align: right;\">150</td><td style = \"text-align: right;\">91</td><td style = \"text-align: right;\">2019</td><td style = \"text-align: left;\">voiture_compacte</td><td style = \"text-align: right;\">6</td><td style = \"text-align: right;\">3.5</td><td style = \"text-align: left;\">integrale</td><td style = \"text-align: left;\">automatique</td><td style = \"text-align: right;\">21.0</td><td style = \"text-align: right;\">10.2265</td><td style = \"font-style: italic; text-align: right;\">missing</td></tr></tbody></table></div>"
      ],
      "text/latex": [
       "\\begin{tabular}{r|ccccccc}\n",
       "\t& ID & annee & type & nombre\\_cylindres & cylindree & transmission & \\\\\n",
       "\t\\hline\n",
       "\t& Int64 & Int64 & String31 & Int64 & Float64 & String15 & \\\\\n",
       "\t\\hline\n",
       "\t1 & 1 & 2014 & voiture\\_moyenne & 4 & 2.5 & traction & $\\dots$ \\\\\n",
       "\t2 & 2 & 2014 & voiture\\_moyenne & 4 & 2.5 & traction & $\\dots$ \\\\\n",
       "\t3 & 3 & 2014 & VUS\\_petit & 4 & 2.5 & traction & $\\dots$ \\\\\n",
       "\t4 & 4 & 2014 & VUS\\_petit & 4 & 2.0 & 4x4 & $\\dots$ \\\\\n",
       "\t5 & 5 & 2014 & voiture\\_sous\\_compacte & 8 & 5.8 & propulsion & $\\dots$ \\\\\n",
       "\t6 & 9 & 2014 & VUS\\_petit & 6 & 3.5 & integrale & $\\dots$ \\\\\n",
       "\t7 & 10 & 2014 & voiture\\_deux\\_places & 10 & 5.2 & integrale & $\\dots$ \\\\\n",
       "\t8 & 11 & 2014 & voiture\\_deux\\_places & 10 & 5.2 & integrale & $\\dots$ \\\\\n",
       "\t9 & 12 & 2014 & voiture\\_sous\\_compacte & 12 & 5.9 & propulsion & $\\dots$ \\\\\n",
       "\t10 & 15 & 2015 & voiture\\_moyenne & 4 & 2.5 & traction & $\\dots$ \\\\\n",
       "\t11 & 17 & 2015 & camionnette\\_standard & 8 & 5.3 & propulsion & $\\dots$ \\\\\n",
       "\t12 & 18 & 2015 & camionnette\\_standard & 8 & 5.3 & propulsion & $\\dots$ \\\\\n",
       "\t13 & 19 & 2015 & camionnette\\_standard & 8 & 5.3 & 4x4 & $\\dots$ \\\\\n",
       "\t14 & 20 & 2015 & camionnette\\_standard & 8 & 5.3 & 4x4 & $\\dots$ \\\\\n",
       "\t15 & 31 & 2016 & VUS\\_petit & 6 & 3.3 & integrale & $\\dots$ \\\\\n",
       "\t16 & 32 & 2016 & VUS\\_petit & 4 & 2.5 & traction & $\\dots$ \\\\\n",
       "\t17 & 33 & 2016 & VUS\\_petit & 4 & 2.4 & integrale & $\\dots$ \\\\\n",
       "\t18 & 34 & 2016 & VUS\\_petit & 6 & 3.3 & integrale & $\\dots$ \\\\\n",
       "\t19 & 35 & 2016 & VUS\\_petit & 4 & 2.5 & 4x4 & $\\dots$ \\\\\n",
       "\t20 & 39 & 2016 & voiture\\_moyenne & 4 & 2.0 & traction & $\\dots$ \\\\\n",
       "\t21 & 40 & 2016 & voiture\\_compacte & 4 & 2.4 & traction & $\\dots$ \\\\\n",
       "\t22 & 42 & 2016 & VUS\\_standard & 6 & 3.6 & integrale & $\\dots$ \\\\\n",
       "\t23 & 45 & 2017 & voiture\\_moyenne & 4 & 2.0 & traction & $\\dots$ \\\\\n",
       "\t24 & 48 & 2017 & VUS\\_petit & 6 & 3.6 & integrale & $\\dots$ \\\\\n",
       "\t25 & 49 & 2017 & voiture\\_compacte & 3 & 1.2 & traction & $\\dots$ \\\\\n",
       "\t26 & 51 & 2017 & voiture\\_compacte & 4 & 2.5 & integrale & $\\dots$ \\\\\n",
       "\t27 & 52 & 2017 & voiture\\_grande & 6 & 3.0 & integrale & $\\dots$ \\\\\n",
       "\t28 & 53 & 2017 & voiture\\_compacte & 4 & 1.5 & traction & $\\dots$ \\\\\n",
       "\t29 & 59 & 2017 & voiture\\_minicompacte & 4 & 2.0 & traction & $\\dots$ \\\\\n",
       "\t30 & 60 & 2018 & VUS\\_petit & 4 & 1.5 & traction & $\\dots$ \\\\\n",
       "\t$\\dots$ & $\\dots$ & $\\dots$ & $\\dots$ & $\\dots$ & $\\dots$ & $\\dots$ &  \\\\\n",
       "\\end{tabular}\n"
      ],
      "text/plain": [
       "\u001b[1m150×10 DataFrame\u001b[0m\n",
       "\u001b[1m Row \u001b[0m│\u001b[1m ID    \u001b[0m\u001b[1m annee \u001b[0m\u001b[1m type                  \u001b[0m\u001b[1m nombre_cylindres \u001b[0m\u001b[1m cylindree \u001b[0m\u001b[1m trans\u001b[0m ⋯\n",
       "     │\u001b[90m Int64 \u001b[0m\u001b[90m Int64 \u001b[0m\u001b[90m String31              \u001b[0m\u001b[90m Int64            \u001b[0m\u001b[90m Float64   \u001b[0m\u001b[90m Strin\u001b[0m ⋯\n",
       "─────┼──────────────────────────────────────────────────────────────────────────\n",
       "   1 │     1   2014  voiture_moyenne                       4        2.5  tract ⋯\n",
       "   2 │     2   2014  voiture_moyenne                       4        2.5  tract\n",
       "   3 │     3   2014  VUS_petit                             4        2.5  tract\n",
       "   4 │     4   2014  VUS_petit                             4        2.0  4x4\n",
       "   5 │     5   2014  voiture_sous_compacte                 8        5.8  propu ⋯\n",
       "   6 │     9   2014  VUS_petit                             6        3.5  integ\n",
       "   7 │    10   2014  voiture_deux_places                  10        5.2  integ\n",
       "   8 │    11   2014  voiture_deux_places                  10        5.2  integ\n",
       "   9 │    12   2014  voiture_sous_compacte                12        5.9  propu ⋯\n",
       "  10 │    15   2015  voiture_moyenne                       4        2.5  tract\n",
       "  11 │    17   2015  camionnette_standard                  8        5.3  propu\n",
       "  ⋮  │   ⋮      ⋮              ⋮                   ⋮              ⋮            ⋱\n",
       " 141 │    71   2018  voiture_compacte                      6        3.0  integ\n",
       " 142 │    73   2018  voiture_compacte                      6        3.0  integ ⋯\n",
       " 143 │    75   2018  voiture_compacte                      6        3.0  integ\n",
       " 144 │    82   2019  VUS_petit                             4        2.0  tract\n",
       " 145 │    37   2016  voiture_deux_places                   6        3.0  propu\n",
       " 146 │    38   2016  voiture_deux_places                   6        3.0  propu ⋯\n",
       " 147 │    83   2019  VUS_petit                             4        2.4  tract\n",
       " 148 │    77   2019  voiture_deux_places                   8        6.2  propu\n",
       " 149 │    78   2019  voiture_deux_places                   8        6.2  propu\n",
       " 150 │    91   2019  voiture_compacte                      6        3.5  integ ⋯\n",
       "\u001b[36m                                                  5 columns and 129 rows omitted\u001b[0m"
      ]
     },
     "execution_count": 89,
     "metadata": {},
     "output_type": "execute_result"
    }
   ],
   "source": [
    "testData = DataFrames.leftjoin(testData,missingRows, on = [:ID, :annee,\t:type,\t:nombre_cylindres,\t:cylindree,\t:transmission,\t:boite,\t:volume_gaz], makeunique=true)"
   ]
  },
  {
   "cell_type": "code",
   "execution_count": 90,
   "metadata": {},
   "outputs": [
    {
     "data": {
      "text/plain": [
       "150-element Vector{Float64}:\n",
       " 10.610252355777856\n",
       " 10.99051678018392\n",
       " 11.302085025304883\n",
       " 10.196587037268237\n",
       " 11.264128699513444\n",
       " 12.150737778895031\n",
       " 12.274101521802768\n",
       " 12.274101521802768\n",
       " 11.367433559545022\n",
       " 10.613431892020554\n",
       " 11.388912241202272\n",
       " 11.388912241202272\n",
       " 12.38826192445991\n",
       "  ⋮\n",
       " 13.0672222222222\n",
       " 13.0672222222222\n",
       "  9.80041666666667\n",
       "  9.80041666666667\n",
       "  9.80041666666667\n",
       "  8.71148148148148\n",
       " 10.6913636363636\n",
       " 10.6913636363636\n",
       "  9.4084\n",
       " 15.6806666666667\n",
       " 15.6806666666667\n",
       " 10.2265217391304"
      ]
     },
     "execution_count": 90,
     "metadata": {},
     "output_type": "execute_result"
    }
   ],
   "source": [
    "testData.consommation = ifelse.(ismissing.(testData.consommation), testData.consommation_1, testData.consommation)"
   ]
  },
  {
   "cell_type": "code",
   "execution_count": 91,
   "metadata": {},
   "outputs": [
    {
     "data": {
      "text/html": [
       "<div><div style = \"float: left;\"><span>150×10 DataFrame</span></div><div style = \"float: right;\"><span style = \"font-style: italic;\">125 rows omitted</span></div><div style = \"clear: both;\"></div></div><div class = \"data-frame\" style = \"overflow-x: scroll;\"><table class = \"data-frame\" style = \"margin-bottom: 6px;\"><thead><tr class = \"header\"><th class = \"rowNumber\" style = \"font-weight: bold; text-align: right;\">Row</th><th style = \"text-align: left;\">ID</th><th style = \"text-align: left;\">annee</th><th style = \"text-align: left;\">type</th><th style = \"text-align: left;\">nombre_cylindres</th><th style = \"text-align: left;\">cylindree</th><th style = \"text-align: left;\">transmission</th><th style = \"text-align: left;\">boite</th><th style = \"text-align: left;\">volume_gaz</th><th style = \"text-align: left;\">consommation</th><th style = \"text-align: left;\">consommation_1</th></tr><tr class = \"subheader headerLastRow\"><th class = \"rowNumber\" style = \"font-weight: bold; text-align: right;\"></th><th title = \"Int64\" style = \"text-align: left;\">Int64</th><th title = \"Int64\" style = \"text-align: left;\">Int64</th><th title = \"String31\" style = \"text-align: left;\">String31</th><th title = \"Int64\" style = \"text-align: left;\">Int64</th><th title = \"Float64\" style = \"text-align: left;\">Float64</th><th title = \"String15\" style = \"text-align: left;\">String15</th><th title = \"String15\" style = \"text-align: left;\">String15</th><th title = \"Float64\" style = \"text-align: left;\">Float64</th><th title = \"Float64\" style = \"text-align: left;\">Float64</th><th title = \"Union{Missing, Float64}\" style = \"text-align: left;\">Float64?</th></tr></thead><tbody><tr><td class = \"rowNumber\" style = \"font-weight: bold; text-align: right;\">1</td><td style = \"text-align: right;\">1</td><td style = \"text-align: right;\">2014</td><td style = \"text-align: left;\">voiture_moyenne</td><td style = \"text-align: right;\">4</td><td style = \"text-align: right;\">2.5</td><td style = \"text-align: left;\">traction</td><td style = \"text-align: left;\">manuelle</td><td style = \"text-align: right;\">10.0</td><td style = \"text-align: right;\">10.6103</td><td style = \"text-align: right;\">10.6103</td></tr><tr><td class = \"rowNumber\" style = \"font-weight: bold; text-align: right;\">2</td><td style = \"text-align: right;\">2</td><td style = \"text-align: right;\">2014</td><td style = \"text-align: left;\">voiture_moyenne</td><td style = \"text-align: right;\">4</td><td style = \"text-align: right;\">2.5</td><td style = \"text-align: left;\">traction</td><td style = \"text-align: left;\">automatique</td><td style = \"text-align: right;\">10.0</td><td style = \"text-align: right;\">10.9905</td><td style = \"text-align: right;\">10.9905</td></tr><tr><td class = \"rowNumber\" style = \"font-weight: bold; text-align: right;\">3</td><td style = \"text-align: right;\">3</td><td style = \"text-align: right;\">2014</td><td style = \"text-align: left;\">VUS_petit</td><td style = \"text-align: right;\">4</td><td style = \"text-align: right;\">2.5</td><td style = \"text-align: left;\">traction</td><td style = \"text-align: left;\">automatique</td><td style = \"text-align: right;\">10.0</td><td style = \"text-align: right;\">11.3021</td><td style = \"text-align: right;\">11.3021</td></tr><tr><td class = \"rowNumber\" style = \"font-weight: bold; text-align: right;\">4</td><td style = \"text-align: right;\">4</td><td style = \"text-align: right;\">2014</td><td style = \"text-align: left;\">VUS_petit</td><td style = \"text-align: right;\">4</td><td style = \"text-align: right;\">2.0</td><td style = \"text-align: left;\">4x4</td><td style = \"text-align: left;\">automatique</td><td style = \"text-align: right;\">8.0</td><td style = \"text-align: right;\">10.1966</td><td style = \"text-align: right;\">10.1966</td></tr><tr><td class = \"rowNumber\" style = \"font-weight: bold; text-align: right;\">5</td><td style = \"text-align: right;\">5</td><td style = \"text-align: right;\">2014</td><td style = \"text-align: left;\">voiture_sous_compacte</td><td style = \"text-align: right;\">8</td><td style = \"text-align: right;\">5.8</td><td style = \"text-align: left;\">propulsion</td><td style = \"text-align: left;\">manuelle</td><td style = \"text-align: right;\">46.4</td><td style = \"text-align: right;\">11.2641</td><td style = \"text-align: right;\">11.2641</td></tr><tr><td class = \"rowNumber\" style = \"font-weight: bold; text-align: right;\">6</td><td style = \"text-align: right;\">6</td><td style = \"text-align: right;\">2014</td><td style = \"text-align: left;\">voiture_sous_compacte</td><td style = \"text-align: right;\">8</td><td style = \"text-align: right;\">5.0</td><td style = \"text-align: left;\">propulsion</td><td style = \"text-align: left;\">automatique</td><td style = \"text-align: right;\">40.0</td><td style = \"text-align: right;\">13.8359</td><td style = \"font-style: italic; text-align: right;\">missing</td></tr><tr><td class = \"rowNumber\" style = \"font-weight: bold; text-align: right;\">7</td><td style = \"text-align: right;\">7</td><td style = \"text-align: right;\">2014</td><td style = \"text-align: left;\">voiture_sous_compacte</td><td style = \"text-align: right;\">8</td><td style = \"text-align: right;\">5.0</td><td style = \"text-align: left;\">propulsion</td><td style = \"text-align: left;\">manuelle</td><td style = \"text-align: right;\">40.0</td><td style = \"text-align: right;\">13.8359</td><td style = \"font-style: italic; text-align: right;\">missing</td></tr><tr><td class = \"rowNumber\" style = \"font-weight: bold; text-align: right;\">8</td><td style = \"text-align: right;\">8</td><td style = \"text-align: right;\">2014</td><td style = \"text-align: left;\">VUS_petit</td><td style = \"text-align: right;\">4</td><td style = \"text-align: right;\">2.4</td><td style = \"text-align: left;\">4x4</td><td style = \"text-align: left;\">automatique</td><td style = \"text-align: right;\">9.6</td><td style = \"text-align: right;\">10.2265</td><td style = \"font-style: italic; text-align: right;\">missing</td></tr><tr><td class = \"rowNumber\" style = \"font-weight: bold; text-align: right;\">9</td><td style = \"text-align: right;\">9</td><td style = \"text-align: right;\">2014</td><td style = \"text-align: left;\">VUS_petit</td><td style = \"text-align: right;\">6</td><td style = \"text-align: right;\">3.5</td><td style = \"text-align: left;\">integrale</td><td style = \"text-align: left;\">automatique</td><td style = \"text-align: right;\">21.0</td><td style = \"text-align: right;\">12.1507</td><td style = \"text-align: right;\">12.1507</td></tr><tr><td class = \"rowNumber\" style = \"font-weight: bold; text-align: right;\">10</td><td style = \"text-align: right;\">10</td><td style = \"text-align: right;\">2014</td><td style = \"text-align: left;\">voiture_deux_places</td><td style = \"text-align: right;\">10</td><td style = \"text-align: right;\">5.2</td><td style = \"text-align: left;\">integrale</td><td style = \"text-align: left;\">manuelle</td><td style = \"text-align: right;\">52.0</td><td style = \"text-align: right;\">12.2741</td><td style = \"text-align: right;\">12.2741</td></tr><tr><td class = \"rowNumber\" style = \"font-weight: bold; text-align: right;\">11</td><td style = \"text-align: right;\">11</td><td style = \"text-align: right;\">2014</td><td style = \"text-align: left;\">voiture_deux_places</td><td style = \"text-align: right;\">10</td><td style = \"text-align: right;\">5.2</td><td style = \"text-align: left;\">integrale</td><td style = \"text-align: left;\">manuelle</td><td style = \"text-align: right;\">52.0</td><td style = \"text-align: right;\">12.2741</td><td style = \"text-align: right;\">12.2741</td></tr><tr><td class = \"rowNumber\" style = \"font-weight: bold; text-align: right;\">12</td><td style = \"text-align: right;\">12</td><td style = \"text-align: right;\">2014</td><td style = \"text-align: left;\">voiture_sous_compacte</td><td style = \"text-align: right;\">12</td><td style = \"text-align: right;\">5.9</td><td style = \"text-align: left;\">propulsion</td><td style = \"text-align: left;\">automatique</td><td style = \"text-align: right;\">70.8</td><td style = \"text-align: right;\">11.3674</td><td style = \"text-align: right;\">11.3674</td></tr><tr><td class = \"rowNumber\" style = \"font-weight: bold; text-align: right;\">13</td><td style = \"text-align: right;\">13</td><td style = \"text-align: right;\">2014</td><td style = \"text-align: left;\">VUS_petit</td><td style = \"text-align: right;\">4</td><td style = \"text-align: right;\">2.0</td><td style = \"text-align: left;\">traction</td><td style = \"text-align: left;\">automatique</td><td style = \"text-align: right;\">8.0</td><td style = \"text-align: right;\">9.10039</td><td style = \"font-style: italic; text-align: right;\">missing</td></tr><tr><td style = \"text-align: right;\">&vellip;</td><td style = \"text-align: right;\">&vellip;</td><td style = \"text-align: right;\">&vellip;</td><td style = \"text-align: right;\">&vellip;</td><td style = \"text-align: right;\">&vellip;</td><td style = \"text-align: right;\">&vellip;</td><td style = \"text-align: right;\">&vellip;</td><td style = \"text-align: right;\">&vellip;</td><td style = \"text-align: right;\">&vellip;</td><td style = \"text-align: right;\">&vellip;</td><td style = \"text-align: right;\">&vellip;</td></tr><tr><td class = \"rowNumber\" style = \"font-weight: bold; text-align: right;\">139</td><td style = \"text-align: right;\">139</td><td style = \"text-align: right;\">2023</td><td style = \"text-align: left;\">VUS_petit</td><td style = \"text-align: right;\">4</td><td style = \"text-align: right;\">1.6</td><td style = \"text-align: left;\">traction</td><td style = \"text-align: left;\">automatique</td><td style = \"text-align: right;\">6.4</td><td style = \"text-align: right;\">10.3159</td><td style = \"text-align: right;\">10.3159</td></tr><tr><td class = \"rowNumber\" style = \"font-weight: bold; text-align: right;\">140</td><td style = \"text-align: right;\">140</td><td style = \"text-align: right;\">2023</td><td style = \"text-align: left;\">voiture_moyenne</td><td style = \"text-align: right;\">6</td><td style = \"text-align: right;\">3.3</td><td style = \"text-align: left;\">propulsion</td><td style = \"text-align: left;\">automatique</td><td style = \"text-align: right;\">19.8</td><td style = \"text-align: right;\">10.6913</td><td style = \"text-align: right;\">10.6913</td></tr><tr><td class = \"rowNumber\" style = \"font-weight: bold; text-align: right;\">141</td><td style = \"text-align: right;\">141</td><td style = \"text-align: right;\">2024</td><td style = \"text-align: left;\">voiture_deux_places</td><td style = \"text-align: right;\">8</td><td style = \"text-align: right;\">5.0</td><td style = \"text-align: left;\">propulsion</td><td style = \"text-align: left;\">automatique</td><td style = \"text-align: right;\">40.0</td><td style = \"text-align: right;\">12.3795</td><td style = \"font-style: italic; text-align: right;\">missing</td></tr><tr><td class = \"rowNumber\" style = \"font-weight: bold; text-align: right;\">142</td><td style = \"text-align: right;\">142</td><td style = \"text-align: right;\">2024</td><td style = \"text-align: left;\">VUS_petit</td><td style = \"text-align: right;\">4</td><td style = \"text-align: right;\">2.0</td><td style = \"text-align: left;\">integrale</td><td style = \"text-align: left;\">automatique</td><td style = \"text-align: right;\">8.0</td><td style = \"text-align: right;\">10.0326</td><td style = \"font-style: italic; text-align: right;\">missing</td></tr><tr><td class = \"rowNumber\" style = \"font-weight: bold; text-align: right;\">143</td><td style = \"text-align: right;\">143</td><td style = \"text-align: right;\">2024</td><td style = \"text-align: left;\">VUS_petit</td><td style = \"text-align: right;\">4</td><td style = \"text-align: right;\">2.0</td><td style = \"text-align: left;\">traction</td><td style = \"text-align: left;\">automatique</td><td style = \"text-align: right;\">8.0</td><td style = \"text-align: right;\">10.2219</td><td style = \"text-align: right;\">10.2219</td></tr><tr><td class = \"rowNumber\" style = \"font-weight: bold; text-align: right;\">144</td><td style = \"text-align: right;\">144</td><td style = \"text-align: right;\">2024</td><td style = \"text-align: left;\">VUS_petit</td><td style = \"text-align: right;\">4</td><td style = \"text-align: right;\">1.6</td><td style = \"text-align: left;\">integrale</td><td style = \"text-align: left;\">automatique</td><td style = \"text-align: right;\">6.4</td><td style = \"text-align: right;\">10.1959</td><td style = \"text-align: right;\">10.1959</td></tr><tr><td class = \"rowNumber\" style = \"font-weight: bold; text-align: right;\">145</td><td style = \"text-align: right;\">145</td><td style = \"text-align: right;\">2024</td><td style = \"text-align: left;\">voiture_sous_compacte</td><td style = \"text-align: right;\">4</td><td style = \"text-align: right;\">2.0</td><td style = \"text-align: left;\">propulsion</td><td style = \"text-align: left;\">automatique</td><td style = \"text-align: right;\">8.0</td><td style = \"text-align: right;\">8.40036</td><td style = \"font-style: italic; text-align: right;\">missing</td></tr><tr><td class = \"rowNumber\" style = \"font-weight: bold; text-align: right;\">146</td><td style = \"text-align: right;\">146</td><td style = \"text-align: right;\">2024</td><td style = \"text-align: left;\">voiture_sous_compacte</td><td style = \"text-align: right;\">4</td><td style = \"text-align: right;\">2.0</td><td style = \"text-align: left;\">integrale</td><td style = \"text-align: left;\">automatique</td><td style = \"text-align: right;\">8.0</td><td style = \"text-align: right;\">8.71148</td><td style = \"font-style: italic; text-align: right;\">missing</td></tr><tr><td class = \"rowNumber\" style = \"font-weight: bold; text-align: right;\">147</td><td style = \"text-align: right;\">147</td><td style = \"text-align: right;\">2024</td><td style = \"text-align: left;\">voiture_sous_compacte</td><td style = \"text-align: right;\">6</td><td style = \"text-align: right;\">3.0</td><td style = \"text-align: left;\">propulsion</td><td style = \"text-align: left;\">manuelle</td><td style = \"text-align: right;\">18.0</td><td style = \"text-align: right;\">10.3593</td><td style = \"text-align: right;\">10.3593</td></tr><tr><td class = \"rowNumber\" style = \"font-weight: bold; text-align: right;\">148</td><td style = \"text-align: right;\">148</td><td style = \"text-align: right;\">2024</td><td style = \"text-align: left;\">voiture_sous_compacte</td><td style = \"text-align: right;\">6</td><td style = \"text-align: right;\">3.0</td><td style = \"text-align: left;\">propulsion</td><td style = \"text-align: left;\">automatique</td><td style = \"text-align: right;\">18.0</td><td style = \"text-align: right;\">11.0899</td><td style = \"font-style: italic; text-align: right;\">missing</td></tr><tr><td class = \"rowNumber\" style = \"font-weight: bold; text-align: right;\">149</td><td style = \"text-align: right;\">149</td><td style = \"text-align: right;\">2024</td><td style = \"text-align: left;\">voiture_sous_compacte</td><td style = \"text-align: right;\">3</td><td style = \"text-align: right;\">1.5</td><td style = \"text-align: left;\">traction</td><td style = \"text-align: left;\">manuelle</td><td style = \"text-align: right;\">4.5</td><td style = \"text-align: right;\">7.58742</td><td style = \"font-style: italic; text-align: right;\">missing</td></tr><tr><td class = \"rowNumber\" style = \"font-weight: bold; text-align: right;\">150</td><td style = \"text-align: right;\">150</td><td style = \"text-align: right;\">2024</td><td style = \"text-align: left;\">voiture_sous_compacte</td><td style = \"text-align: right;\">4</td><td style = \"text-align: right;\">2.0</td><td style = \"text-align: left;\">traction</td><td style = \"text-align: left;\">automatique</td><td style = \"text-align: right;\">8.0</td><td style = \"text-align: right;\">7.84905</td><td style = \"font-style: italic; text-align: right;\">missing</td></tr></tbody></table></div>"
      ],
      "text/latex": [
       "\\begin{tabular}{r|ccccccc}\n",
       "\t& ID & annee & type & nombre\\_cylindres & cylindree & transmission & \\\\\n",
       "\t\\hline\n",
       "\t& Int64 & Int64 & String31 & Int64 & Float64 & String15 & \\\\\n",
       "\t\\hline\n",
       "\t1 & 1 & 2014 & voiture\\_moyenne & 4 & 2.5 & traction & $\\dots$ \\\\\n",
       "\t2 & 2 & 2014 & voiture\\_moyenne & 4 & 2.5 & traction & $\\dots$ \\\\\n",
       "\t3 & 3 & 2014 & VUS\\_petit & 4 & 2.5 & traction & $\\dots$ \\\\\n",
       "\t4 & 4 & 2014 & VUS\\_petit & 4 & 2.0 & 4x4 & $\\dots$ \\\\\n",
       "\t5 & 5 & 2014 & voiture\\_sous\\_compacte & 8 & 5.8 & propulsion & $\\dots$ \\\\\n",
       "\t6 & 6 & 2014 & voiture\\_sous\\_compacte & 8 & 5.0 & propulsion & $\\dots$ \\\\\n",
       "\t7 & 7 & 2014 & voiture\\_sous\\_compacte & 8 & 5.0 & propulsion & $\\dots$ \\\\\n",
       "\t8 & 8 & 2014 & VUS\\_petit & 4 & 2.4 & 4x4 & $\\dots$ \\\\\n",
       "\t9 & 9 & 2014 & VUS\\_petit & 6 & 3.5 & integrale & $\\dots$ \\\\\n",
       "\t10 & 10 & 2014 & voiture\\_deux\\_places & 10 & 5.2 & integrale & $\\dots$ \\\\\n",
       "\t11 & 11 & 2014 & voiture\\_deux\\_places & 10 & 5.2 & integrale & $\\dots$ \\\\\n",
       "\t12 & 12 & 2014 & voiture\\_sous\\_compacte & 12 & 5.9 & propulsion & $\\dots$ \\\\\n",
       "\t13 & 13 & 2014 & VUS\\_petit & 4 & 2.0 & traction & $\\dots$ \\\\\n",
       "\t14 & 14 & 2014 & VUS\\_petit & 4 & 2.4 & traction & $\\dots$ \\\\\n",
       "\t15 & 15 & 2015 & voiture\\_moyenne & 4 & 2.5 & traction & $\\dots$ \\\\\n",
       "\t16 & 16 & 2015 & VUS\\_petit & 6 & 3.0 & integrale & $\\dots$ \\\\\n",
       "\t17 & 17 & 2015 & camionnette\\_standard & 8 & 5.3 & propulsion & $\\dots$ \\\\\n",
       "\t18 & 18 & 2015 & camionnette\\_standard & 8 & 5.3 & propulsion & $\\dots$ \\\\\n",
       "\t19 & 19 & 2015 & camionnette\\_standard & 8 & 5.3 & 4x4 & $\\dots$ \\\\\n",
       "\t20 & 20 & 2015 & camionnette\\_standard & 8 & 5.3 & 4x4 & $\\dots$ \\\\\n",
       "\t21 & 21 & 2015 & VUS\\_standard & 8 & 6.2 & propulsion & $\\dots$ \\\\\n",
       "\t22 & 22 & 2015 & VUS\\_standard & 8 & 5.3 & propulsion & $\\dots$ \\\\\n",
       "\t23 & 23 & 2015 & VUS\\_standard & 8 & 5.3 & propulsion & $\\dots$ \\\\\n",
       "\t24 & 24 & 2015 & VUS\\_standard & 8 & 6.2 & propulsion & $\\dots$ \\\\\n",
       "\t25 & 25 & 2015 & VUS\\_standard & 8 & 5.3 & propulsion & $\\dots$ \\\\\n",
       "\t26 & 26 & 2015 & VUS\\_standard & 8 & 6.2 & 4x4 & $\\dots$ \\\\\n",
       "\t27 & 27 & 2015 & VUS\\_standard & 8 & 5.3 & 4x4 & $\\dots$ \\\\\n",
       "\t28 & 28 & 2015 & VUS\\_standard & 8 & 6.2 & 4x4 & $\\dots$ \\\\\n",
       "\t29 & 29 & 2015 & voiture\\_deux\\_places & 8 & 5.0 & propulsion & $\\dots$ \\\\\n",
       "\t30 & 30 & 2015 & voiture\\_deux\\_places & 6 & 3.0 & propulsion & $\\dots$ \\\\\n",
       "\t$\\dots$ & $\\dots$ & $\\dots$ & $\\dots$ & $\\dots$ & $\\dots$ & $\\dots$ &  \\\\\n",
       "\\end{tabular}\n"
      ],
      "text/plain": [
       "\u001b[1m150×10 DataFrame\u001b[0m\n",
       "\u001b[1m Row \u001b[0m│\u001b[1m ID    \u001b[0m\u001b[1m annee \u001b[0m\u001b[1m type                  \u001b[0m\u001b[1m nombre_cylindres \u001b[0m\u001b[1m cylindree \u001b[0m\u001b[1m trans\u001b[0m ⋯\n",
       "     │\u001b[90m Int64 \u001b[0m\u001b[90m Int64 \u001b[0m\u001b[90m String31              \u001b[0m\u001b[90m Int64            \u001b[0m\u001b[90m Float64   \u001b[0m\u001b[90m Strin\u001b[0m ⋯\n",
       "─────┼──────────────────────────────────────────────────────────────────────────\n",
       "   1 │     1   2014  voiture_moyenne                       4        2.5  tract ⋯\n",
       "   2 │     2   2014  voiture_moyenne                       4        2.5  tract\n",
       "   3 │     3   2014  VUS_petit                             4        2.5  tract\n",
       "   4 │     4   2014  VUS_petit                             4        2.0  4x4\n",
       "   5 │     5   2014  voiture_sous_compacte                 8        5.8  propu ⋯\n",
       "   6 │     6   2014  voiture_sous_compacte                 8        5.0  propu\n",
       "   7 │     7   2014  voiture_sous_compacte                 8        5.0  propu\n",
       "   8 │     8   2014  VUS_petit                             4        2.4  4x4\n",
       "   9 │     9   2014  VUS_petit                             6        3.5  integ ⋯\n",
       "  10 │    10   2014  voiture_deux_places                  10        5.2  integ\n",
       "  11 │    11   2014  voiture_deux_places                  10        5.2  integ\n",
       "  ⋮  │   ⋮      ⋮              ⋮                   ⋮              ⋮            ⋱\n",
       " 141 │   141   2024  voiture_deux_places                   8        5.0  propu\n",
       " 142 │   142   2024  VUS_petit                             4        2.0  integ ⋯\n",
       " 143 │   143   2024  VUS_petit                             4        2.0  tract\n",
       " 144 │   144   2024  VUS_petit                             4        1.6  integ\n",
       " 145 │   145   2024  voiture_sous_compacte                 4        2.0  propu\n",
       " 146 │   146   2024  voiture_sous_compacte                 4        2.0  integ ⋯\n",
       " 147 │   147   2024  voiture_sous_compacte                 6        3.0  propu\n",
       " 148 │   148   2024  voiture_sous_compacte                 6        3.0  propu\n",
       " 149 │   149   2024  voiture_sous_compacte                 3        1.5  tract\n",
       " 150 │   150   2024  voiture_sous_compacte                 4        2.0  tract ⋯\n",
       "\u001b[36m                                                  5 columns and 129 rows omitted\u001b[0m"
      ]
     },
     "execution_count": 91,
     "metadata": {},
     "output_type": "execute_result"
    }
   ],
   "source": [
    "sort(testData, :ID)"
   ]
  },
  {
   "cell_type": "code",
   "execution_count": 100,
   "metadata": {},
   "outputs": [
    {
     "data": {
      "text/plain": [
       "\"benchmark8.csv\""
      ]
     },
     "execution_count": 100,
     "metadata": {},
     "output_type": "execute_result"
    }
   ],
   "source": [
    "df_pred = sort(testData[:, [:ID, :consommation]], :ID)\n",
    "rename!(df_pred, :ID => :id)\n",
    "CSV.write(\"benchmark8.csv\", df_pred)"
   ]
  },
  {
   "cell_type": "code",
   "execution_count": 93,
   "metadata": {},
   "outputs": [
    {
     "data": {
      "text/html": [
       "<div><div style = \"float: left;\"><span>150×2 DataFrame</span></div><div style = \"float: right;\"><span style = \"font-style: italic;\">125 rows omitted</span></div><div style = \"clear: both;\"></div></div><div class = \"data-frame\" style = \"overflow-x: scroll;\"><table class = \"data-frame\" style = \"margin-bottom: 6px;\"><thead><tr class = \"header\"><th class = \"rowNumber\" style = \"font-weight: bold; text-align: right;\">Row</th><th style = \"text-align: left;\">id</th><th style = \"text-align: left;\">consommation</th></tr><tr class = \"subheader headerLastRow\"><th class = \"rowNumber\" style = \"font-weight: bold; text-align: right;\"></th><th title = \"Int64\" style = \"text-align: left;\">Int64</th><th title = \"Float64\" style = \"text-align: left;\">Float64</th></tr></thead><tbody><tr><td class = \"rowNumber\" style = \"font-weight: bold; text-align: right;\">1</td><td style = \"text-align: right;\">1</td><td style = \"text-align: right;\">8.7731</td></tr><tr><td class = \"rowNumber\" style = \"font-weight: bold; text-align: right;\">2</td><td style = \"text-align: right;\">2</td><td style = \"text-align: right;\">8.07005</td></tr><tr><td class = \"rowNumber\" style = \"font-weight: bold; text-align: right;\">3</td><td style = \"text-align: right;\">3</td><td style = \"text-align: right;\">9.54555</td></tr><tr><td class = \"rowNumber\" style = \"font-weight: bold; text-align: right;\">4</td><td style = \"text-align: right;\">4</td><td style = \"text-align: right;\">9.8891</td></tr><tr><td class = \"rowNumber\" style = \"font-weight: bold; text-align: right;\">5</td><td style = \"text-align: right;\">5</td><td style = \"text-align: right;\">14.683</td></tr><tr><td class = \"rowNumber\" style = \"font-weight: bold; text-align: right;\">6</td><td style = \"text-align: right;\">6</td><td style = \"text-align: right;\">14.683</td></tr><tr><td class = \"rowNumber\" style = \"font-weight: bold; text-align: right;\">7</td><td style = \"text-align: right;\">7</td><td style = \"text-align: right;\">14.683</td></tr><tr><td class = \"rowNumber\" style = \"font-weight: bold; text-align: right;\">8</td><td style = \"text-align: right;\">8</td><td style = \"text-align: right;\">9.8891</td></tr><tr><td class = \"rowNumber\" style = \"font-weight: bold; text-align: right;\">9</td><td style = \"text-align: right;\">9</td><td style = \"text-align: right;\">10.9249</td></tr><tr><td class = \"rowNumber\" style = \"font-weight: bold; text-align: right;\">10</td><td style = \"text-align: right;\">10</td><td style = \"text-align: right;\">15.3451</td></tr><tr><td class = \"rowNumber\" style = \"font-weight: bold; text-align: right;\">11</td><td style = \"text-align: right;\">11</td><td style = \"text-align: right;\">15.3451</td></tr><tr><td class = \"rowNumber\" style = \"font-weight: bold; text-align: right;\">12</td><td style = \"text-align: right;\">12</td><td style = \"text-align: right;\">15.3451</td></tr><tr><td class = \"rowNumber\" style = \"font-weight: bold; text-align: right;\">13</td><td style = \"text-align: right;\">13</td><td style = \"text-align: right;\">8.8407</td></tr><tr><td style = \"text-align: right;\">&vellip;</td><td style = \"text-align: right;\">&vellip;</td><td style = \"text-align: right;\">&vellip;</td></tr><tr><td class = \"rowNumber\" style = \"font-weight: bold; text-align: right;\">139</td><td style = \"text-align: right;\">139</td><td style = \"text-align: right;\">7.84233</td></tr><tr><td class = \"rowNumber\" style = \"font-weight: bold; text-align: right;\">140</td><td style = \"text-align: right;\">140</td><td style = \"text-align: right;\">11.6328</td></tr><tr><td class = \"rowNumber\" style = \"font-weight: bold; text-align: right;\">141</td><td style = \"text-align: right;\">141</td><td style = \"text-align: right;\">12.8975</td></tr><tr><td class = \"rowNumber\" style = \"font-weight: bold; text-align: right;\">142</td><td style = \"text-align: right;\">142</td><td style = \"text-align: right;\">10.6866</td></tr><tr><td class = \"rowNumber\" style = \"font-weight: bold; text-align: right;\">143</td><td style = \"text-align: right;\">143</td><td style = \"text-align: right;\">8.8407</td></tr><tr><td class = \"rowNumber\" style = \"font-weight: bold; text-align: right;\">144</td><td style = \"text-align: right;\">144</td><td style = \"text-align: right;\">7.84233</td></tr><tr><td class = \"rowNumber\" style = \"font-weight: bold; text-align: right;\">145</td><td style = \"text-align: right;\">145</td><td style = \"text-align: right;\">8.07005</td></tr><tr><td class = \"rowNumber\" style = \"font-weight: bold; text-align: right;\">146</td><td style = \"text-align: right;\">146</td><td style = \"text-align: right;\">8.8455</td></tr><tr><td class = \"rowNumber\" style = \"font-weight: bold; text-align: right;\">147</td><td style = \"text-align: right;\">147</td><td style = \"text-align: right;\">12.121</td></tr><tr><td class = \"rowNumber\" style = \"font-weight: bold; text-align: right;\">148</td><td style = \"text-align: right;\">148</td><td style = \"text-align: right;\">10.6205</td></tr><tr><td class = \"rowNumber\" style = \"font-weight: bold; text-align: right;\">149</td><td style = \"text-align: right;\">149</td><td style = \"text-align: right;\">7.64405</td></tr><tr><td class = \"rowNumber\" style = \"font-weight: bold; text-align: right;\">150</td><td style = \"text-align: right;\">150</td><td style = \"text-align: right;\">8.07005</td></tr></tbody></table></div>"
      ],
      "text/latex": [
       "\\begin{tabular}{r|cc}\n",
       "\t& id & consommation\\\\\n",
       "\t\\hline\n",
       "\t& Int64 & Float64\\\\\n",
       "\t\\hline\n",
       "\t1 & 1 & 8.7731 \\\\\n",
       "\t2 & 2 & 8.07005 \\\\\n",
       "\t3 & 3 & 9.54555 \\\\\n",
       "\t4 & 4 & 9.8891 \\\\\n",
       "\t5 & 5 & 14.683 \\\\\n",
       "\t6 & 6 & 14.683 \\\\\n",
       "\t7 & 7 & 14.683 \\\\\n",
       "\t8 & 8 & 9.8891 \\\\\n",
       "\t9 & 9 & 10.9249 \\\\\n",
       "\t10 & 10 & 15.3451 \\\\\n",
       "\t11 & 11 & 15.3451 \\\\\n",
       "\t12 & 12 & 15.3451 \\\\\n",
       "\t13 & 13 & 8.8407 \\\\\n",
       "\t14 & 14 & 9.54555 \\\\\n",
       "\t15 & 15 & 8.7731 \\\\\n",
       "\t16 & 16 & 11.2211 \\\\\n",
       "\t17 & 17 & 13.4636 \\\\\n",
       "\t18 & 18 & 13.4636 \\\\\n",
       "\t19 & 19 & 13.4636 \\\\\n",
       "\t20 & 20 & 13.4636 \\\\\n",
       "\t21 & 21 & 14.1384 \\\\\n",
       "\t22 & 22 & 13.4636 \\\\\n",
       "\t23 & 23 & 13.4636 \\\\\n",
       "\t24 & 24 & 14.1384 \\\\\n",
       "\t25 & 25 & 13.4636 \\\\\n",
       "\t26 & 26 & 14.1384 \\\\\n",
       "\t27 & 27 & 13.4636 \\\\\n",
       "\t28 & 28 & 14.1384 \\\\\n",
       "\t29 & 29 & 12.8975 \\\\\n",
       "\t30 & 30 & 10.6205 \\\\\n",
       "\t$\\dots$ & $\\dots$ & $\\dots$ \\\\\n",
       "\\end{tabular}\n"
      ],
      "text/plain": [
       "\u001b[1m150×2 DataFrame\u001b[0m\n",
       "\u001b[1m Row \u001b[0m│\u001b[1m id    \u001b[0m\u001b[1m consommation \u001b[0m\n",
       "     │\u001b[90m Int64 \u001b[0m\u001b[90m Float64      \u001b[0m\n",
       "─────┼─────────────────────\n",
       "   1 │     1       8.7731\n",
       "   2 │     2       8.07005\n",
       "   3 │     3       9.54555\n",
       "   4 │     4       9.8891\n",
       "   5 │     5      14.683\n",
       "   6 │     6      14.683\n",
       "   7 │     7      14.683\n",
       "   8 │     8       9.8891\n",
       "   9 │     9      10.9249\n",
       "  10 │    10      15.3451\n",
       "  11 │    11      15.3451\n",
       "  ⋮  │   ⋮         ⋮\n",
       " 141 │   141      12.8975\n",
       " 142 │   142      10.6866\n",
       " 143 │   143       8.8407\n",
       " 144 │   144       7.84233\n",
       " 145 │   145       8.07005\n",
       " 146 │   146       8.8455\n",
       " 147 │   147      12.121\n",
       " 148 │   148      10.6205\n",
       " 149 │   149       7.64405\n",
       " 150 │   150       8.07005\n",
       "\u001b[36m           129 rows omitted\u001b[0m"
      ]
     },
     "execution_count": 93,
     "metadata": {},
     "output_type": "execute_result"
    }
   ],
   "source": [
    "benchmark = CSV.read(\"../soumission_2/benchmark1.csv\", DataFrame)"
   ]
  },
  {
   "cell_type": "code",
   "execution_count": 99,
   "metadata": {},
   "outputs": [
    {
     "name": "stdout",
     "output_type": "stream",
     "text": [
      "[8.773101155974718, 8.070047540540804, 9.545548529167164, 9.889100280579937, 14.682977190876372, 14.682977190876372, 14.682977190876372, 9.889100280579937, 10.924893508841617, 15.345064163165286, 15.345064163165286, 15.345064163165286, 8.840702060295868, 9.545548529167164, 8.773101155974718, 11.221135830353218, 13.463562602124174, 13.463562602124174, 13.463562602124174, 13.463562602124174, 14.138433915671541, 13.463562602124174, 13.463562602124174, 14.138433915671541, 13.463562602124174, 14.138433915671541, 13.463562602124174, 14.138433915671541, 12.897491767520393, 10.620542993264337, 11.632846725905672, 9.545548529167164, 9.889100280579937, 11.632846725905672, 9.889100280579937, 7.842333308965198, 10.620542993264337, 10.620542993264337, 8.773101155974718, 9.545548529167164, 12.897491767520393, 10.924893508841617, 9.889100280579937, 8.070047540540804, 8.773101155974718, 11.632846725905672, 9.889100280579937, 10.924893508841617, 7.4361978718638, 15.345064163165286, 9.889100280579937, 10.620542993264337, 7.6592878817823005, 12.897491767520393, 10.620542993264337, 10.620542993264337, 10.620542993264337, 12.121046960836416, 8.773101155974718, 8.370014954925871, 8.845504273504272, 9.889100280579937, 9.889100280579937, 9.889100280579937, 9.004656339031337, 10.620542993264337, 10.620542993264337, 12.897491767520393, 12.897491767520393, 12.897491767520393, 10.620542993264337, 12.121046960836416, 10.620542993264337, 10.620542993264337, 10.620542993264337, 12.897491767520393, 14.138433915671541, 14.138433915671541, 9.889100280579937, 11.632846725905672, 11.632846725905672, 8.840702060295868, 9.545548529167164, 9.889100280579937, 9.889100280579937, 8.840702060295868, 9.889100280579937, 10.924893508841617, 8.840702060295868, 7.6592878817823005, 10.924893508841617, 14.138433915671541, 8.070047540540804, 8.840702060295868, 8.840702060295868, 6.170890923492215, 6.170890923492215, 8.840702060295868, 10.924893508841617, 9.889100280579937, 9.889100280579937, 11.221135830353218, 8.840702060295868, 8.840702060295868, 8.070047540540804, 9.004656339031337, 9.889100280579937, 9.889100280579937, 10.620542993264337, 10.924893508841617, 8.840702060295868, 8.840702060295868, 7.842333308965198, 8.840702060295868, 8.370014954925871, 8.773101155974718, 8.070047540540804, 9.889100280579937, 10.924893508841617, 9.004656339031337, 8.070047540540804, 10.924893508841617, 8.370014954925871, 8.370014954925871, 8.370014954925871, 10.924893508841617, 7.842333308965198, 9.889100280579937, 12.897491767520393, 8.773101155974718, 7.644047072551106, 8.773101155974718, 7.842333308965198, 13.463562602124174, 10.686605970839567, 10.686605970839567, 10.924893508841617, 7.842333308965198, 7.842333308965198, 11.632846725905672, 12.897491767520393, 10.686605970839567, 8.840702060295868, 7.842333308965198, 8.070047540540804, 8.845504273504272, 12.121046960836416, 10.620542993264337, 7.644047072551106, 8.070047540540804]\n"
     ]
    },
    {
     "data": {
      "text/plain": [
       "1.3473363784095678"
      ]
     },
     "execution_count": 99,
     "metadata": {},
     "output_type": "execute_result"
    }
   ],
   "source": [
    "println(benchmark.consommation)\n",
    "#rmse\n",
    "sqrt(mean((benchmark.consommation .- df_pred.consommation).^2))"
   ]
  }
 ],
 "metadata": {
  "kernelspec": {
   "display_name": "Julia 1.10.5",
   "language": "julia",
   "name": "julia-1.10"
  },
  "language_info": {
   "file_extension": ".jl",
   "mimetype": "application/julia",
   "name": "julia",
   "version": "1.10.5"
  }
 },
 "nbformat": 4,
 "nbformat_minor": 2
}
