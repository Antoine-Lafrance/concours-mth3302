{
 "cells": [
  {
   "cell_type": "code",
   "execution_count": 4,
   "metadata": {},
   "outputs": [],
   "source": [
    "using CSV, DataFrames, Statistics, Dates, Plots, LinearAlgebra, DecisionTree, Random"
   ]
  },
  {
   "cell_type": "code",
   "execution_count": 5,
   "metadata": {},
   "outputs": [
    {
     "data": {
      "text/html": [
       "<div><div style = \"float: left;\"><span>5×7 DataFrame</span></div><div style = \"clear: both;\"></div></div><div class = \"data-frame\" style = \"overflow-x: scroll;\"><table class = \"data-frame\" style = \"margin-bottom: 6px;\"><thead><tr class = \"header\"><th class = \"rowNumber\" style = \"font-weight: bold; text-align: right;\">Row</th><th style = \"text-align: left;\">annee</th><th style = \"text-align: left;\">type</th><th style = \"text-align: left;\">nombre_cylindres</th><th style = \"text-align: left;\">cylindree</th><th style = \"text-align: left;\">transmission</th><th style = \"text-align: left;\">boite</th><th style = \"text-align: left;\">consommation</th></tr><tr class = \"subheader headerLastRow\"><th class = \"rowNumber\" style = \"font-weight: bold; text-align: right;\"></th><th title = \"Int64\" style = \"text-align: left;\">Int64</th><th title = \"String31\" style = \"text-align: left;\">String31</th><th title = \"Int64\" style = \"text-align: left;\">Int64</th><th title = \"String3\" style = \"text-align: left;\">String3</th><th title = \"String15\" style = \"text-align: left;\">String15</th><th title = \"String15\" style = \"text-align: left;\">String15</th><th title = \"String31\" style = \"text-align: left;\">String31</th></tr></thead><tbody><tr><td class = \"rowNumber\" style = \"font-weight: bold; text-align: right;\">1</td><td style = \"text-align: right;\">2023</td><td style = \"text-align: left;\">voiture_moyenne</td><td style = \"text-align: right;\">8</td><td style = \"text-align: left;\">4,4</td><td style = \"text-align: left;\">integrale</td><td style = \"text-align: left;\">automatique</td><td style = \"text-align: left;\">13,8358823529412</td></tr><tr><td class = \"rowNumber\" style = \"font-weight: bold; text-align: right;\">2</td><td style = \"text-align: right;\">2020</td><td style = \"text-align: left;\">VUS_petit</td><td style = \"text-align: right;\">4</td><td style = \"text-align: left;\">2</td><td style = \"text-align: left;\">integrale</td><td style = \"text-align: left;\">automatique</td><td style = \"text-align: left;\">9,80041666666667</td></tr><tr><td class = \"rowNumber\" style = \"font-weight: bold; text-align: right;\">3</td><td style = \"text-align: right;\">2021</td><td style = \"text-align: left;\">voiture_compacte</td><td style = \"text-align: right;\">6</td><td style = \"text-align: left;\">3,3</td><td style = \"text-align: left;\">propulsion</td><td style = \"text-align: left;\">automatique</td><td style = \"text-align: left;\">11,7605</td></tr><tr><td class = \"rowNumber\" style = \"font-weight: bold; text-align: right;\">4</td><td style = \"text-align: right;\">2023</td><td style = \"text-align: left;\">voiture_deux_places</td><td style = \"text-align: right;\">8</td><td style = \"text-align: left;\">5</td><td style = \"text-align: left;\">integrale</td><td style = \"text-align: left;\">automatique</td><td style = \"text-align: left;\">13,0672222222222</td></tr><tr><td class = \"rowNumber\" style = \"font-weight: bold; text-align: right;\">5</td><td style = \"text-align: right;\">2022</td><td style = \"text-align: left;\">voiture_moyenne</td><td style = \"text-align: right;\">8</td><td style = \"text-align: left;\">4,4</td><td style = \"text-align: left;\">integrale</td><td style = \"text-align: left;\">automatique</td><td style = \"text-align: left;\">13,8358823529412</td></tr></tbody></table></div>"
      ],
      "text/latex": [
       "\\begin{tabular}{r|ccccccc}\n",
       "\t& annee & type & nombre\\_cylindres & cylindree & transmission & boite & \\\\\n",
       "\t\\hline\n",
       "\t& Int64 & String31 & Int64 & String3 & String15 & String15 & \\\\\n",
       "\t\\hline\n",
       "\t1 & 2023 & voiture\\_moyenne & 8 & 4,4 & integrale & automatique & $\\dots$ \\\\\n",
       "\t2 & 2020 & VUS\\_petit & 4 & 2 & integrale & automatique & $\\dots$ \\\\\n",
       "\t3 & 2021 & voiture\\_compacte & 6 & 3,3 & propulsion & automatique & $\\dots$ \\\\\n",
       "\t4 & 2023 & voiture\\_deux\\_places & 8 & 5 & integrale & automatique & $\\dots$ \\\\\n",
       "\t5 & 2022 & voiture\\_moyenne & 8 & 4,4 & integrale & automatique & $\\dots$ \\\\\n",
       "\\end{tabular}\n"
      ],
      "text/plain": [
       "\u001b[1m5×7 DataFrame\u001b[0m\n",
       "\u001b[1m Row \u001b[0m│\u001b[1m annee \u001b[0m\u001b[1m type                \u001b[0m\u001b[1m nombre_cylindres \u001b[0m\u001b[1m cylindree \u001b[0m\u001b[1m transmission \u001b[0m\u001b[1m \u001b[0m ⋯\n",
       "     │\u001b[90m Int64 \u001b[0m\u001b[90m String31            \u001b[0m\u001b[90m Int64            \u001b[0m\u001b[90m String3   \u001b[0m\u001b[90m String15     \u001b[0m\u001b[90m \u001b[0m ⋯\n",
       "─────┼──────────────────────────────────────────────────────────────────────────\n",
       "   1 │  2023  voiture_moyenne                     8  4,4        integrale      ⋯\n",
       "   2 │  2020  VUS_petit                           4  2          integrale\n",
       "   3 │  2021  voiture_compacte                    6  3,3        propulsion\n",
       "   4 │  2023  voiture_deux_places                 8  5          integrale\n",
       "   5 │  2022  voiture_moyenne                     8  4,4        integrale      ⋯\n",
       "\u001b[36m                                                               2 columns omitted\u001b[0m"
      ]
     },
     "execution_count": 5,
     "metadata": {},
     "output_type": "execute_result"
    }
   ],
   "source": [
    "trainData = CSV.read(\"./data/train.csv\", DataFrame)\n",
    "testData = CSV.read(\"./data/test.csv\", DataFrame)\n",
    "first(trainData, 5)"
   ]
  },
  {
   "cell_type": "code",
   "execution_count": 6,
   "metadata": {},
   "outputs": [
    {
     "data": {
      "text/plain": [
       "150-element Vector{Float64}:\n",
       " 2.5\n",
       " 2.5\n",
       " 2.5\n",
       " 2.0\n",
       " 5.8\n",
       " 5.0\n",
       " 5.0\n",
       " 2.4\n",
       " 3.5\n",
       " 5.2\n",
       " 5.2\n",
       " 5.9\n",
       " 2.0\n",
       " ⋮\n",
       " 1.6\n",
       " 3.3\n",
       " 5.0\n",
       " 2.0\n",
       " 2.0\n",
       " 1.6\n",
       " 2.0\n",
       " 2.0\n",
       " 3.0\n",
       " 3.0\n",
       " 1.5\n",
       " 2.0"
      ]
     },
     "execution_count": 6,
     "metadata": {},
     "output_type": "execute_result"
    }
   ],
   "source": [
    "trainData.consommation = parse.(Float64,replace.(trainData.consommation, \",\" => \".\"))\n",
    "trainData.cylindree = parse.(Float64,replace.(trainData.cylindree, \",\" => \".\")) \n",
    "\n",
    "testData.cylindree = parse.(Float64,replace.(testData.cylindree, \",\" => \".\"))"
   ]
  },
  {
   "cell_type": "code",
   "execution_count": 80,
   "metadata": {},
   "outputs": [
    {
     "data": {
      "text/plain": [
       "25-element Vector{Float64}:\n",
       " 13.8358823529412\n",
       "  9.80041666666667\n",
       " 11.7605\n",
       " 13.0672222222222\n",
       "  7.3503125\n",
       "  7.58741935483871\n",
       " 11.2004761904762\n",
       " 14.700625\n",
       " 12.3794736842105\n",
       " 10.6913636363636\n",
       "  9.4084\n",
       " 15.6806666666667\n",
       "  8.71148148148148\n",
       "  8.11068965517241\n",
       " 10.2265217391304\n",
       "  7.84033333333333\n",
       "  8.40035714285714\n",
       "  9.04653846153846\n",
       " 16.8007142857143\n",
       "  6.91794117647059\n",
       "  6.35702702702703\n",
       "  4.52326923076923\n",
       "  7.12757575757576\n",
       "  4.90020833333333\n",
       "  6.53361111111111"
      ]
     },
     "execution_count": 80,
     "metadata": {},
     "output_type": "execute_result"
    }
   ],
   "source": [
    "possibles = unique(trainData.consommation)"
   ]
  },
  {
   "cell_type": "code",
   "execution_count": 88,
   "metadata": {},
   "outputs": [
    {
     "data": {
      "text/plain": [
       "findnearest (generic function with 2 methods)"
      ]
     },
     "execution_count": 88,
     "metadata": {},
     "output_type": "execute_result"
    }
   ],
   "source": [
    "findnearest(A::Vector{Float64},t::Float64) = A[findmin(broadcast(abs,A.-t))[2]]"
   ]
  },
  {
   "cell_type": "code",
   "execution_count": 89,
   "metadata": {},
   "outputs": [
    {
     "data": {
      "text/plain": [
       "150-element Vector{Float64}:\n",
       " 10.0\n",
       " 10.0\n",
       " 10.0\n",
       "  8.0\n",
       " 46.4\n",
       " 40.0\n",
       " 40.0\n",
       "  9.6\n",
       " 21.0\n",
       " 52.0\n",
       " 52.0\n",
       " 70.80000000000001\n",
       "  8.0\n",
       "  ⋮\n",
       "  6.4\n",
       " 19.799999999999997\n",
       " 40.0\n",
       "  8.0\n",
       "  8.0\n",
       "  6.4\n",
       "  8.0\n",
       "  8.0\n",
       " 18.0\n",
       " 18.0\n",
       "  4.5\n",
       "  8.0"
      ]
     },
     "execution_count": 89,
     "metadata": {},
     "output_type": "execute_result"
    }
   ],
   "source": [
    "trainData[!,:volume_gaz] = trainData[!,:nombre_cylindres] .* trainData[!,:cylindree]\n",
    "\n",
    "testData[!,:volume_gaz] = testData[!,:nombre_cylindres] .* testData[!,:cylindree]"
   ]
  },
  {
   "cell_type": "code",
   "execution_count": 90,
   "metadata": {},
   "outputs": [
    {
     "data": {
      "text/plain": [
       "train_test_split (generic function with 3 methods)"
      ]
     },
     "execution_count": 90,
     "metadata": {},
     "output_type": "execute_result"
    }
   ],
   "source": [
    "function split_data(data,k)\n",
    "    n = size(data, 1)\n",
    "    validation_size = floor(Int, n * k)\n",
    "\n",
    "    validation_indices = rand(1:n, validation_size)  \n",
    "    \n",
    "    validation_data = data[validation_indices, :]\n",
    "    training_data = data[setdiff(1:n, validation_indices), :]\n",
    "    \n",
    "    return training_data, validation_data\n",
    "end\n",
    "\n",
    "\n",
    "\n",
    "function train_test_split(data, test_size=0.2, shuffle=true)\n",
    "    n = size(data, 1)\n",
    "    test_size = floor(Int, n * test_size)\n",
    "    \n",
    "    if shuffle\n",
    "        indices = randperm(n)\n",
    "    else\n",
    "        indices = 1:n\n",
    "    end\n",
    "    \n",
    "    test_indices = indices[1:test_size]\n",
    "    train_indices = indices[test_size+1:end]\n",
    "    \n",
    "    train_data = data[train_indices, :]\n",
    "    test_data = data[test_indices, :]\n",
    "    \n",
    "    return train_data, test_data\n",
    "end"
   ]
  },
  {
   "cell_type": "code",
   "execution_count": null,
   "metadata": {},
   "outputs": [
    {
     "data": {
      "text/plain": [
       "norm_cols (generic function with 1 method)"
      ]
     },
     "execution_count": 76,
     "metadata": {},
     "output_type": "execute_result"
    }
   ],
   "source": [
    "function encode(data, column)\n",
    "    for c in unique(data[!, column])\n",
    "        data[!, Symbol(c)] = ifelse.(data[!, column] .== c, 1, 0)\n",
    "    end\n",
    "    return data\n",
    "end\n",
    "\n",
    "\n",
    "function encode_data(data)\n",
    "    encoded_data = deepcopy(data)\n",
    "    encoded_data = encode(encoded_data, :type)\n",
    "    encoded_data = encode(encoded_data, :transmission)\n",
    "    encoded_data = encode(encoded_data, :boite)\n",
    "    encoded_data = encode(encoded_data, :nombre_cylindres)\n",
    "\n",
    "    return encoded_data\n",
    "end\n",
    "\n",
    "function removeRows(data)\n",
    "    return select!(data, Not([:type, :transmission, :boite, :nombre_cylindres]))\n",
    "end\n",
    "\n",
    "function normalize_column(data, column)\n",
    "    data[!, column] = (data[!, column] .- mean(data[!, column])) ./ std(data[!, column])\n",
    "    return data\n",
    "end\n",
    "\n",
    "function norm_cols(data)\n",
    "    normalized_data = deepcopy(data)\n",
    "    normalized_data = normalize_column(normalized_data, :cylindree)\n",
    "    normalized_data = normalize_column(normalized_data, :volume_gaz)\n",
    "    return normalized_data\n",
    "end"
   ]
  },
  {
   "cell_type": "code",
   "execution_count": 144,
   "metadata": {},
   "outputs": [
    {
     "data": {
      "text/plain": [
       "((79, 29), (317, 29), (79,), (317,))"
      ]
     },
     "execution_count": 144,
     "metadata": {},
     "output_type": "execute_result"
    }
   ],
   "source": [
    "encoded_train = encode_data(trainData)\n",
    "encoded_train = removeRows(encoded_train)\n",
    "\n",
    "#encoded_train.cylindree = encoded_train.cylindree .- minimum(encoded_train.cylindree)\n",
    "#encoded_train.volume_gaz = encoded_train.volume_gaz .- minimum(encoded_train.volume_gaz)\n",
    "#encoded_train.annee = encoded_train.annee .-minimum(encoded_train.annee)\n",
    "\n",
    "\n",
    "train, test= train_test_split(encoded_train)\n",
    "\n",
    "\n",
    "#= encoded_train =#\n",
    "\n",
    "X_train =  Matrix(train[:, Not(:consommation)])\n",
    "y_train = train.consommation\n",
    "X_test = Matrix(test[:, Not(:consommation)])\n",
    "y_test = test.consommation\n",
    "\n",
    "size(X_test),size(X_train),size(y_test),size(y_train)"
   ]
  },
  {
   "cell_type": "code",
   "execution_count": 141,
   "metadata": {},
   "outputs": [
    {
     "data": {
      "text/html": [
       "<div><div style = \"float: left;\"><span>396×30 DataFrame</span></div><div style = \"float: right;\"><span style = \"font-style: italic;\">371 rows omitted</span></div><div style = \"clear: both;\"></div></div><div class = \"data-frame\" style = \"overflow-x: scroll;\"><table class = \"data-frame\" style = \"margin-bottom: 6px;\"><thead><tr class = \"header\"><th class = \"rowNumber\" style = \"font-weight: bold; text-align: right;\">Row</th><th style = \"text-align: left;\">annee</th><th style = \"text-align: left;\">cylindree</th><th style = \"text-align: left;\">consommation</th><th style = \"text-align: left;\">volume_gaz</th><th style = \"text-align: left;\">voiture_moyenne</th><th style = \"text-align: left;\">VUS_petit</th><th style = \"text-align: left;\">voiture_compacte</th><th style = \"text-align: left;\">voiture_deux_places</th><th style = \"text-align: left;\">voiture_minicompacte</th><th style = \"text-align: left;\">VUS_standard</th><th style = \"text-align: left;\">monospace</th><th style = \"text-align: left;\">voiture_sous_compacte</th><th style = \"text-align: left;\">camionnette_petit</th><th style = \"text-align: left;\">break_petit</th><th style = \"text-align: left;\">voiture_grande</th><th style = \"text-align: left;\">camionnette_standard</th><th style = \"text-align: left;\">break_moyen</th><th style = \"text-align: left;\">integrale</th><th style = \"text-align: left;\">propulsion</th><th style = \"text-align: left;\">traction</th><th style = \"text-align: left;\">4x4</th><th style = \"text-align: left;\">automatique</th><th style = \"text-align: left;\">manuelle</th><th style = \"text-align: left;\">8</th><th style = \"text-align: left;\">4</th><th style = \"text-align: left;\">6</th><th style = \"text-align: left;\">3</th><th style = \"text-align: left;\">12</th><th style = \"text-align: left;\">10</th><th style = \"text-align: left;\">5</th></tr><tr class = \"subheader headerLastRow\"><th class = \"rowNumber\" style = \"font-weight: bold; text-align: right;\"></th><th title = \"Int64\" style = \"text-align: left;\">Int64</th><th title = \"Float64\" style = \"text-align: left;\">Float64</th><th title = \"Float64\" style = \"text-align: left;\">Float64</th><th title = \"Float64\" style = \"text-align: left;\">Float64</th><th title = \"Int64\" style = \"text-align: left;\">Int64</th><th title = \"Int64\" style = \"text-align: left;\">Int64</th><th title = \"Int64\" style = \"text-align: left;\">Int64</th><th title = \"Int64\" style = \"text-align: left;\">Int64</th><th title = \"Int64\" style = \"text-align: left;\">Int64</th><th title = \"Int64\" style = \"text-align: left;\">Int64</th><th title = \"Int64\" style = \"text-align: left;\">Int64</th><th title = \"Int64\" style = \"text-align: left;\">Int64</th><th title = \"Int64\" style = \"text-align: left;\">Int64</th><th title = \"Int64\" style = \"text-align: left;\">Int64</th><th title = \"Int64\" style = \"text-align: left;\">Int64</th><th title = \"Int64\" style = \"text-align: left;\">Int64</th><th title = \"Int64\" style = \"text-align: left;\">Int64</th><th title = \"Int64\" style = \"text-align: left;\">Int64</th><th title = \"Int64\" style = \"text-align: left;\">Int64</th><th title = \"Int64\" style = \"text-align: left;\">Int64</th><th title = \"Int64\" style = \"text-align: left;\">Int64</th><th title = \"Int64\" style = \"text-align: left;\">Int64</th><th title = \"Int64\" style = \"text-align: left;\">Int64</th><th title = \"Int64\" style = \"text-align: left;\">Int64</th><th title = \"Int64\" style = \"text-align: left;\">Int64</th><th title = \"Int64\" style = \"text-align: left;\">Int64</th><th title = \"Int64\" style = \"text-align: left;\">Int64</th><th title = \"Int64\" style = \"text-align: left;\">Int64</th><th title = \"Int64\" style = \"text-align: left;\">Int64</th><th title = \"Int64\" style = \"text-align: left;\">Int64</th></tr></thead><tbody><tr><td class = \"rowNumber\" style = \"font-weight: bold; text-align: right;\">1</td><td style = \"text-align: right;\">2023</td><td style = \"text-align: right;\">3.2</td><td style = \"text-align: right;\">13.8359</td><td style = \"text-align: right;\">31.6</td><td style = \"text-align: right;\">1</td><td style = \"text-align: right;\">0</td><td style = \"text-align: right;\">0</td><td style = \"text-align: right;\">0</td><td style = \"text-align: right;\">0</td><td style = \"text-align: right;\">0</td><td style = \"text-align: right;\">0</td><td style = \"text-align: right;\">0</td><td style = \"text-align: right;\">0</td><td style = \"text-align: right;\">0</td><td style = \"text-align: right;\">0</td><td style = \"text-align: right;\">0</td><td style = \"text-align: right;\">0</td><td style = \"text-align: right;\">1</td><td style = \"text-align: right;\">0</td><td style = \"text-align: right;\">0</td><td style = \"text-align: right;\">0</td><td style = \"text-align: right;\">1</td><td style = \"text-align: right;\">0</td><td style = \"text-align: right;\">1</td><td style = \"text-align: right;\">0</td><td style = \"text-align: right;\">0</td><td style = \"text-align: right;\">0</td><td style = \"text-align: right;\">0</td><td style = \"text-align: right;\">0</td><td style = \"text-align: right;\">0</td></tr><tr><td class = \"rowNumber\" style = \"font-weight: bold; text-align: right;\">2</td><td style = \"text-align: right;\">2020</td><td style = \"text-align: right;\">0.8</td><td style = \"text-align: right;\">9.80042</td><td style = \"text-align: right;\">4.4</td><td style = \"text-align: right;\">0</td><td style = \"text-align: right;\">1</td><td style = \"text-align: right;\">0</td><td style = \"text-align: right;\">0</td><td style = \"text-align: right;\">0</td><td style = \"text-align: right;\">0</td><td style = \"text-align: right;\">0</td><td style = \"text-align: right;\">0</td><td style = \"text-align: right;\">0</td><td style = \"text-align: right;\">0</td><td style = \"text-align: right;\">0</td><td style = \"text-align: right;\">0</td><td style = \"text-align: right;\">0</td><td style = \"text-align: right;\">1</td><td style = \"text-align: right;\">0</td><td style = \"text-align: right;\">0</td><td style = \"text-align: right;\">0</td><td style = \"text-align: right;\">1</td><td style = \"text-align: right;\">0</td><td style = \"text-align: right;\">0</td><td style = \"text-align: right;\">1</td><td style = \"text-align: right;\">0</td><td style = \"text-align: right;\">0</td><td style = \"text-align: right;\">0</td><td style = \"text-align: right;\">0</td><td style = \"text-align: right;\">0</td></tr><tr><td class = \"rowNumber\" style = \"font-weight: bold; text-align: right;\">3</td><td style = \"text-align: right;\">2021</td><td style = \"text-align: right;\">2.1</td><td style = \"text-align: right;\">11.7605</td><td style = \"text-align: right;\">16.2</td><td style = \"text-align: right;\">0</td><td style = \"text-align: right;\">0</td><td style = \"text-align: right;\">1</td><td style = \"text-align: right;\">0</td><td style = \"text-align: right;\">0</td><td style = \"text-align: right;\">0</td><td style = \"text-align: right;\">0</td><td style = \"text-align: right;\">0</td><td style = \"text-align: right;\">0</td><td style = \"text-align: right;\">0</td><td style = \"text-align: right;\">0</td><td style = \"text-align: right;\">0</td><td style = \"text-align: right;\">0</td><td style = \"text-align: right;\">0</td><td style = \"text-align: right;\">1</td><td style = \"text-align: right;\">0</td><td style = \"text-align: right;\">0</td><td style = \"text-align: right;\">1</td><td style = \"text-align: right;\">0</td><td style = \"text-align: right;\">0</td><td style = \"text-align: right;\">0</td><td style = \"text-align: right;\">1</td><td style = \"text-align: right;\">0</td><td style = \"text-align: right;\">0</td><td style = \"text-align: right;\">0</td><td style = \"text-align: right;\">0</td></tr><tr><td class = \"rowNumber\" style = \"font-weight: bold; text-align: right;\">4</td><td style = \"text-align: right;\">2023</td><td style = \"text-align: right;\">3.8</td><td style = \"text-align: right;\">13.0672</td><td style = \"text-align: right;\">36.4</td><td style = \"text-align: right;\">0</td><td style = \"text-align: right;\">0</td><td style = \"text-align: right;\">0</td><td style = \"text-align: right;\">1</td><td style = \"text-align: right;\">0</td><td style = \"text-align: right;\">0</td><td style = \"text-align: right;\">0</td><td style = \"text-align: right;\">0</td><td style = \"text-align: right;\">0</td><td style = \"text-align: right;\">0</td><td style = \"text-align: right;\">0</td><td style = \"text-align: right;\">0</td><td style = \"text-align: right;\">0</td><td style = \"text-align: right;\">1</td><td style = \"text-align: right;\">0</td><td style = \"text-align: right;\">0</td><td style = \"text-align: right;\">0</td><td style = \"text-align: right;\">1</td><td style = \"text-align: right;\">0</td><td style = \"text-align: right;\">1</td><td style = \"text-align: right;\">0</td><td style = \"text-align: right;\">0</td><td style = \"text-align: right;\">0</td><td style = \"text-align: right;\">0</td><td style = \"text-align: right;\">0</td><td style = \"text-align: right;\">0</td></tr><tr><td class = \"rowNumber\" style = \"font-weight: bold; text-align: right;\">5</td><td style = \"text-align: right;\">2022</td><td style = \"text-align: right;\">3.2</td><td style = \"text-align: right;\">13.8359</td><td style = \"text-align: right;\">31.6</td><td style = \"text-align: right;\">1</td><td style = \"text-align: right;\">0</td><td style = \"text-align: right;\">0</td><td style = \"text-align: right;\">0</td><td style = \"text-align: right;\">0</td><td style = \"text-align: right;\">0</td><td style = \"text-align: right;\">0</td><td style = \"text-align: right;\">0</td><td style = \"text-align: right;\">0</td><td style = \"text-align: right;\">0</td><td style = \"text-align: right;\">0</td><td style = \"text-align: right;\">0</td><td style = \"text-align: right;\">0</td><td style = \"text-align: right;\">1</td><td style = \"text-align: right;\">0</td><td style = \"text-align: right;\">0</td><td style = \"text-align: right;\">0</td><td style = \"text-align: right;\">1</td><td style = \"text-align: right;\">0</td><td style = \"text-align: right;\">1</td><td style = \"text-align: right;\">0</td><td style = \"text-align: right;\">0</td><td style = \"text-align: right;\">0</td><td style = \"text-align: right;\">0</td><td style = \"text-align: right;\">0</td><td style = \"text-align: right;\">0</td></tr><tr><td class = \"rowNumber\" style = \"font-weight: bold; text-align: right;\">6</td><td style = \"text-align: right;\">2022</td><td style = \"text-align: right;\">3.2</td><td style = \"text-align: right;\">13.8359</td><td style = \"text-align: right;\">31.6</td><td style = \"text-align: right;\">1</td><td style = \"text-align: right;\">0</td><td style = \"text-align: right;\">0</td><td style = \"text-align: right;\">0</td><td style = \"text-align: right;\">0</td><td style = \"text-align: right;\">0</td><td style = \"text-align: right;\">0</td><td style = \"text-align: right;\">0</td><td style = \"text-align: right;\">0</td><td style = \"text-align: right;\">0</td><td style = \"text-align: right;\">0</td><td style = \"text-align: right;\">0</td><td style = \"text-align: right;\">0</td><td style = \"text-align: right;\">1</td><td style = \"text-align: right;\">0</td><td style = \"text-align: right;\">0</td><td style = \"text-align: right;\">0</td><td style = \"text-align: right;\">1</td><td style = \"text-align: right;\">0</td><td style = \"text-align: right;\">1</td><td style = \"text-align: right;\">0</td><td style = \"text-align: right;\">0</td><td style = \"text-align: right;\">0</td><td style = \"text-align: right;\">0</td><td style = \"text-align: right;\">0</td><td style = \"text-align: right;\">0</td></tr><tr><td class = \"rowNumber\" style = \"font-weight: bold; text-align: right;\">7</td><td style = \"text-align: right;\">2022</td><td style = \"text-align: right;\">0.3</td><td style = \"text-align: right;\">7.35031</td><td style = \"text-align: right;\">0.9</td><td style = \"text-align: right;\">0</td><td style = \"text-align: right;\">0</td><td style = \"text-align: right;\">0</td><td style = \"text-align: right;\">0</td><td style = \"text-align: right;\">1</td><td style = \"text-align: right;\">0</td><td style = \"text-align: right;\">0</td><td style = \"text-align: right;\">0</td><td style = \"text-align: right;\">0</td><td style = \"text-align: right;\">0</td><td style = \"text-align: right;\">0</td><td style = \"text-align: right;\">0</td><td style = \"text-align: right;\">0</td><td style = \"text-align: right;\">0</td><td style = \"text-align: right;\">0</td><td style = \"text-align: right;\">1</td><td style = \"text-align: right;\">0</td><td style = \"text-align: right;\">1</td><td style = \"text-align: right;\">0</td><td style = \"text-align: right;\">0</td><td style = \"text-align: right;\">0</td><td style = \"text-align: right;\">0</td><td style = \"text-align: right;\">1</td><td style = \"text-align: right;\">0</td><td style = \"text-align: right;\">0</td><td style = \"text-align: right;\">0</td></tr><tr><td class = \"rowNumber\" style = \"font-weight: bold; text-align: right;\">8</td><td style = \"text-align: right;\">2024</td><td style = \"text-align: right;\">0.3</td><td style = \"text-align: right;\">7.58742</td><td style = \"text-align: right;\">0.9</td><td style = \"text-align: right;\">0</td><td style = \"text-align: right;\">0</td><td style = \"text-align: right;\">0</td><td style = \"text-align: right;\">0</td><td style = \"text-align: right;\">1</td><td style = \"text-align: right;\">0</td><td style = \"text-align: right;\">0</td><td style = \"text-align: right;\">0</td><td style = \"text-align: right;\">0</td><td style = \"text-align: right;\">0</td><td style = \"text-align: right;\">0</td><td style = \"text-align: right;\">0</td><td style = \"text-align: right;\">0</td><td style = \"text-align: right;\">0</td><td style = \"text-align: right;\">0</td><td style = \"text-align: right;\">1</td><td style = \"text-align: right;\">0</td><td style = \"text-align: right;\">0</td><td style = \"text-align: right;\">1</td><td style = \"text-align: right;\">0</td><td style = \"text-align: right;\">0</td><td style = \"text-align: right;\">0</td><td style = \"text-align: right;\">1</td><td style = \"text-align: right;\">0</td><td style = \"text-align: right;\">0</td><td style = \"text-align: right;\">0</td></tr><tr><td class = \"rowNumber\" style = \"font-weight: bold; text-align: right;\">9</td><td style = \"text-align: right;\">2020</td><td style = \"text-align: right;\">2.6</td><td style = \"text-align: right;\">11.2005</td><td style = \"text-align: right;\">19.2</td><td style = \"text-align: right;\">0</td><td style = \"text-align: right;\">0</td><td style = \"text-align: right;\">0</td><td style = \"text-align: right;\">0</td><td style = \"text-align: right;\">0</td><td style = \"text-align: right;\">1</td><td style = \"text-align: right;\">0</td><td style = \"text-align: right;\">0</td><td style = \"text-align: right;\">0</td><td style = \"text-align: right;\">0</td><td style = \"text-align: right;\">0</td><td style = \"text-align: right;\">0</td><td style = \"text-align: right;\">0</td><td style = \"text-align: right;\">1</td><td style = \"text-align: right;\">0</td><td style = \"text-align: right;\">0</td><td style = \"text-align: right;\">0</td><td style = \"text-align: right;\">1</td><td style = \"text-align: right;\">0</td><td style = \"text-align: right;\">0</td><td style = \"text-align: right;\">0</td><td style = \"text-align: right;\">1</td><td style = \"text-align: right;\">0</td><td style = \"text-align: right;\">0</td><td style = \"text-align: right;\">0</td><td style = \"text-align: right;\">0</td></tr><tr><td class = \"rowNumber\" style = \"font-weight: bold; text-align: right;\">10</td><td style = \"text-align: right;\">2019</td><td style = \"text-align: right;\">2.1</td><td style = \"text-align: right;\">11.7605</td><td style = \"text-align: right;\">16.2</td><td style = \"text-align: right;\">0</td><td style = \"text-align: right;\">0</td><td style = \"text-align: right;\">1</td><td style = \"text-align: right;\">0</td><td style = \"text-align: right;\">0</td><td style = \"text-align: right;\">0</td><td style = \"text-align: right;\">0</td><td style = \"text-align: right;\">0</td><td style = \"text-align: right;\">0</td><td style = \"text-align: right;\">0</td><td style = \"text-align: right;\">0</td><td style = \"text-align: right;\">0</td><td style = \"text-align: right;\">0</td><td style = \"text-align: right;\">0</td><td style = \"text-align: right;\">1</td><td style = \"text-align: right;\">0</td><td style = \"text-align: right;\">0</td><td style = \"text-align: right;\">1</td><td style = \"text-align: right;\">0</td><td style = \"text-align: right;\">0</td><td style = \"text-align: right;\">0</td><td style = \"text-align: right;\">1</td><td style = \"text-align: right;\">0</td><td style = \"text-align: right;\">0</td><td style = \"text-align: right;\">0</td><td style = \"text-align: right;\">0</td></tr><tr><td class = \"rowNumber\" style = \"font-weight: bold; text-align: right;\">11</td><td style = \"text-align: right;\">2016</td><td style = \"text-align: right;\">2.1</td><td style = \"text-align: right;\">11.7605</td><td style = \"text-align: right;\">16.2</td><td style = \"text-align: right;\">0</td><td style = \"text-align: right;\">0</td><td style = \"text-align: right;\">0</td><td style = \"text-align: right;\">0</td><td style = \"text-align: right;\">0</td><td style = \"text-align: right;\">0</td><td style = \"text-align: right;\">1</td><td style = \"text-align: right;\">0</td><td style = \"text-align: right;\">0</td><td style = \"text-align: right;\">0</td><td style = \"text-align: right;\">0</td><td style = \"text-align: right;\">0</td><td style = \"text-align: right;\">0</td><td style = \"text-align: right;\">0</td><td style = \"text-align: right;\">0</td><td style = \"text-align: right;\">1</td><td style = \"text-align: right;\">0</td><td style = \"text-align: right;\">1</td><td style = \"text-align: right;\">0</td><td style = \"text-align: right;\">0</td><td style = \"text-align: right;\">0</td><td style = \"text-align: right;\">1</td><td style = \"text-align: right;\">0</td><td style = \"text-align: right;\">0</td><td style = \"text-align: right;\">0</td><td style = \"text-align: right;\">0</td></tr><tr><td class = \"rowNumber\" style = \"font-weight: bold; text-align: right;\">12</td><td style = \"text-align: right;\">2023</td><td style = \"text-align: right;\">3.8</td><td style = \"text-align: right;\">14.7006</td><td style = \"text-align: right;\">36.4</td><td style = \"text-align: right;\">0</td><td style = \"text-align: right;\">0</td><td style = \"text-align: right;\">0</td><td style = \"text-align: right;\">0</td><td style = \"text-align: right;\">0</td><td style = \"text-align: right;\">1</td><td style = \"text-align: right;\">0</td><td style = \"text-align: right;\">0</td><td style = \"text-align: right;\">0</td><td style = \"text-align: right;\">0</td><td style = \"text-align: right;\">0</td><td style = \"text-align: right;\">0</td><td style = \"text-align: right;\">0</td><td style = \"text-align: right;\">0</td><td style = \"text-align: right;\">0</td><td style = \"text-align: right;\">0</td><td style = \"text-align: right;\">1</td><td style = \"text-align: right;\">1</td><td style = \"text-align: right;\">0</td><td style = \"text-align: right;\">1</td><td style = \"text-align: right;\">0</td><td style = \"text-align: right;\">0</td><td style = \"text-align: right;\">0</td><td style = \"text-align: right;\">0</td><td style = \"text-align: right;\">0</td><td style = \"text-align: right;\">0</td></tr><tr><td class = \"rowNumber\" style = \"font-weight: bold; text-align: right;\">13</td><td style = \"text-align: right;\">2024</td><td style = \"text-align: right;\">3.2</td><td style = \"text-align: right;\">12.3795</td><td style = \"text-align: right;\">31.6</td><td style = \"text-align: right;\">1</td><td style = \"text-align: right;\">0</td><td style = \"text-align: right;\">0</td><td style = \"text-align: right;\">0</td><td style = \"text-align: right;\">0</td><td style = \"text-align: right;\">0</td><td style = \"text-align: right;\">0</td><td style = \"text-align: right;\">0</td><td style = \"text-align: right;\">0</td><td style = \"text-align: right;\">0</td><td style = \"text-align: right;\">0</td><td style = \"text-align: right;\">0</td><td style = \"text-align: right;\">0</td><td style = \"text-align: right;\">1</td><td style = \"text-align: right;\">0</td><td style = \"text-align: right;\">0</td><td style = \"text-align: right;\">0</td><td style = \"text-align: right;\">1</td><td style = \"text-align: right;\">0</td><td style = \"text-align: right;\">1</td><td style = \"text-align: right;\">0</td><td style = \"text-align: right;\">0</td><td style = \"text-align: right;\">0</td><td style = \"text-align: right;\">0</td><td style = \"text-align: right;\">0</td><td style = \"text-align: right;\">0</td></tr><tr><td style = \"text-align: right;\">&vellip;</td><td style = \"text-align: right;\">&vellip;</td><td style = \"text-align: right;\">&vellip;</td><td style = \"text-align: right;\">&vellip;</td><td style = \"text-align: right;\">&vellip;</td><td style = \"text-align: right;\">&vellip;</td><td style = \"text-align: right;\">&vellip;</td><td style = \"text-align: right;\">&vellip;</td><td style = \"text-align: right;\">&vellip;</td><td style = \"text-align: right;\">&vellip;</td><td style = \"text-align: right;\">&vellip;</td><td style = \"text-align: right;\">&vellip;</td><td style = \"text-align: right;\">&vellip;</td><td style = \"text-align: right;\">&vellip;</td><td style = \"text-align: right;\">&vellip;</td><td style = \"text-align: right;\">&vellip;</td><td style = \"text-align: right;\">&vellip;</td><td style = \"text-align: right;\">&vellip;</td><td style = \"text-align: right;\">&vellip;</td><td style = \"text-align: right;\">&vellip;</td><td style = \"text-align: right;\">&vellip;</td><td style = \"text-align: right;\">&vellip;</td><td style = \"text-align: right;\">&vellip;</td><td style = \"text-align: right;\">&vellip;</td><td style = \"text-align: right;\">&vellip;</td><td style = \"text-align: right;\">&vellip;</td><td style = \"text-align: right;\">&vellip;</td><td style = \"text-align: right;\">&vellip;</td><td style = \"text-align: right;\">&vellip;</td><td style = \"text-align: right;\">&vellip;</td><td style = \"text-align: right;\">&vellip;</td></tr><tr><td class = \"rowNumber\" style = \"font-weight: bold; text-align: right;\">385</td><td style = \"text-align: right;\">2018</td><td style = \"text-align: right;\">0.8</td><td style = \"text-align: right;\">8.71148</td><td style = \"text-align: right;\">4.4</td><td style = \"text-align: right;\">0</td><td style = \"text-align: right;\">0</td><td style = \"text-align: right;\">0</td><td style = \"text-align: right;\">0</td><td style = \"text-align: right;\">0</td><td style = \"text-align: right;\">0</td><td style = \"text-align: right;\">0</td><td style = \"text-align: right;\">1</td><td style = \"text-align: right;\">0</td><td style = \"text-align: right;\">0</td><td style = \"text-align: right;\">0</td><td style = \"text-align: right;\">0</td><td style = \"text-align: right;\">0</td><td style = \"text-align: right;\">0</td><td style = \"text-align: right;\">1</td><td style = \"text-align: right;\">0</td><td style = \"text-align: right;\">0</td><td style = \"text-align: right;\">1</td><td style = \"text-align: right;\">0</td><td style = \"text-align: right;\">0</td><td style = \"text-align: right;\">1</td><td style = \"text-align: right;\">0</td><td style = \"text-align: right;\">0</td><td style = \"text-align: right;\">0</td><td style = \"text-align: right;\">0</td><td style = \"text-align: right;\">0</td></tr><tr><td class = \"rowNumber\" style = \"font-weight: bold; text-align: right;\">386</td><td style = \"text-align: right;\">2014</td><td style = \"text-align: right;\">2.5</td><td style = \"text-align: right;\">10.2265</td><td style = \"text-align: right;\">18.6</td><td style = \"text-align: right;\">0</td><td style = \"text-align: right;\">0</td><td style = \"text-align: right;\">0</td><td style = \"text-align: right;\">0</td><td style = \"text-align: right;\">0</td><td style = \"text-align: right;\">0</td><td style = \"text-align: right;\">0</td><td style = \"text-align: right;\">1</td><td style = \"text-align: right;\">0</td><td style = \"text-align: right;\">0</td><td style = \"text-align: right;\">0</td><td style = \"text-align: right;\">0</td><td style = \"text-align: right;\">0</td><td style = \"text-align: right;\">0</td><td style = \"text-align: right;\">1</td><td style = \"text-align: right;\">0</td><td style = \"text-align: right;\">0</td><td style = \"text-align: right;\">1</td><td style = \"text-align: right;\">0</td><td style = \"text-align: right;\">0</td><td style = \"text-align: right;\">0</td><td style = \"text-align: right;\">1</td><td style = \"text-align: right;\">0</td><td style = \"text-align: right;\">0</td><td style = \"text-align: right;\">0</td><td style = \"text-align: right;\">0</td></tr><tr><td class = \"rowNumber\" style = \"font-weight: bold; text-align: right;\">387</td><td style = \"text-align: right;\">2014</td><td style = \"text-align: right;\">2.6</td><td style = \"text-align: right;\">12.3795</td><td style = \"text-align: right;\">19.2</td><td style = \"text-align: right;\">0</td><td style = \"text-align: right;\">0</td><td style = \"text-align: right;\">0</td><td style = \"text-align: right;\">0</td><td style = \"text-align: right;\">0</td><td style = \"text-align: right;\">0</td><td style = \"text-align: right;\">0</td><td style = \"text-align: right;\">1</td><td style = \"text-align: right;\">0</td><td style = \"text-align: right;\">0</td><td style = \"text-align: right;\">0</td><td style = \"text-align: right;\">0</td><td style = \"text-align: right;\">0</td><td style = \"text-align: right;\">1</td><td style = \"text-align: right;\">0</td><td style = \"text-align: right;\">0</td><td style = \"text-align: right;\">0</td><td style = \"text-align: right;\">1</td><td style = \"text-align: right;\">0</td><td style = \"text-align: right;\">0</td><td style = \"text-align: right;\">0</td><td style = \"text-align: right;\">1</td><td style = \"text-align: right;\">0</td><td style = \"text-align: right;\">0</td><td style = \"text-align: right;\">0</td><td style = \"text-align: right;\">0</td></tr><tr><td class = \"rowNumber\" style = \"font-weight: bold; text-align: right;\">388</td><td style = \"text-align: right;\">2014</td><td style = \"text-align: right;\">1.2</td><td style = \"text-align: right;\">9.80042</td><td style = \"text-align: right;\">6.0</td><td style = \"text-align: right;\">0</td><td style = \"text-align: right;\">1</td><td style = \"text-align: right;\">0</td><td style = \"text-align: right;\">0</td><td style = \"text-align: right;\">0</td><td style = \"text-align: right;\">0</td><td style = \"text-align: right;\">0</td><td style = \"text-align: right;\">0</td><td style = \"text-align: right;\">0</td><td style = \"text-align: right;\">0</td><td style = \"text-align: right;\">0</td><td style = \"text-align: right;\">0</td><td style = \"text-align: right;\">0</td><td style = \"text-align: right;\">0</td><td style = \"text-align: right;\">0</td><td style = \"text-align: right;\">1</td><td style = \"text-align: right;\">0</td><td style = \"text-align: right;\">1</td><td style = \"text-align: right;\">0</td><td style = \"text-align: right;\">0</td><td style = \"text-align: right;\">1</td><td style = \"text-align: right;\">0</td><td style = \"text-align: right;\">0</td><td style = \"text-align: right;\">0</td><td style = \"text-align: right;\">0</td><td style = \"text-align: right;\">0</td></tr><tr><td class = \"rowNumber\" style = \"font-weight: bold; text-align: right;\">389</td><td style = \"text-align: right;\">2016</td><td style = \"text-align: right;\">2.3</td><td style = \"text-align: right;\">7.84033</td><td style = \"text-align: right;\">17.4</td><td style = \"text-align: right;\">1</td><td style = \"text-align: right;\">0</td><td style = \"text-align: right;\">0</td><td style = \"text-align: right;\">0</td><td style = \"text-align: right;\">0</td><td style = \"text-align: right;\">0</td><td style = \"text-align: right;\">0</td><td style = \"text-align: right;\">0</td><td style = \"text-align: right;\">0</td><td style = \"text-align: right;\">0</td><td style = \"text-align: right;\">0</td><td style = \"text-align: right;\">0</td><td style = \"text-align: right;\">0</td><td style = \"text-align: right;\">1</td><td style = \"text-align: right;\">0</td><td style = \"text-align: right;\">0</td><td style = \"text-align: right;\">0</td><td style = \"text-align: right;\">1</td><td style = \"text-align: right;\">0</td><td style = \"text-align: right;\">0</td><td style = \"text-align: right;\">0</td><td style = \"text-align: right;\">1</td><td style = \"text-align: right;\">0</td><td style = \"text-align: right;\">0</td><td style = \"text-align: right;\">0</td><td style = \"text-align: right;\">0</td></tr><tr><td class = \"rowNumber\" style = \"font-weight: bold; text-align: right;\">390</td><td style = \"text-align: right;\">2024</td><td style = \"text-align: right;\">0.8</td><td style = \"text-align: right;\">8.71148</td><td style = \"text-align: right;\">4.4</td><td style = \"text-align: right;\">0</td><td style = \"text-align: right;\">0</td><td style = \"text-align: right;\">1</td><td style = \"text-align: right;\">0</td><td style = \"text-align: right;\">0</td><td style = \"text-align: right;\">0</td><td style = \"text-align: right;\">0</td><td style = \"text-align: right;\">0</td><td style = \"text-align: right;\">0</td><td style = \"text-align: right;\">0</td><td style = \"text-align: right;\">0</td><td style = \"text-align: right;\">0</td><td style = \"text-align: right;\">0</td><td style = \"text-align: right;\">1</td><td style = \"text-align: right;\">0</td><td style = \"text-align: right;\">0</td><td style = \"text-align: right;\">0</td><td style = \"text-align: right;\">1</td><td style = \"text-align: right;\">0</td><td style = \"text-align: right;\">0</td><td style = \"text-align: right;\">1</td><td style = \"text-align: right;\">0</td><td style = \"text-align: right;\">0</td><td style = \"text-align: right;\">0</td><td style = \"text-align: right;\">0</td><td style = \"text-align: right;\">0</td></tr><tr><td class = \"rowNumber\" style = \"font-weight: bold; text-align: right;\">391</td><td style = \"text-align: right;\">2022</td><td style = \"text-align: right;\">0.8</td><td style = \"text-align: right;\">10.2265</td><td style = \"text-align: right;\">4.4</td><td style = \"text-align: right;\">0</td><td style = \"text-align: right;\">1</td><td style = \"text-align: right;\">0</td><td style = \"text-align: right;\">0</td><td style = \"text-align: right;\">0</td><td style = \"text-align: right;\">0</td><td style = \"text-align: right;\">0</td><td style = \"text-align: right;\">0</td><td style = \"text-align: right;\">0</td><td style = \"text-align: right;\">0</td><td style = \"text-align: right;\">0</td><td style = \"text-align: right;\">0</td><td style = \"text-align: right;\">0</td><td style = \"text-align: right;\">0</td><td style = \"text-align: right;\">0</td><td style = \"text-align: right;\">1</td><td style = \"text-align: right;\">0</td><td style = \"text-align: right;\">1</td><td style = \"text-align: right;\">0</td><td style = \"text-align: right;\">0</td><td style = \"text-align: right;\">1</td><td style = \"text-align: right;\">0</td><td style = \"text-align: right;\">0</td><td style = \"text-align: right;\">0</td><td style = \"text-align: right;\">0</td><td style = \"text-align: right;\">0</td></tr><tr><td class = \"rowNumber\" style = \"font-weight: bold; text-align: right;\">392</td><td style = \"text-align: right;\">2021</td><td style = \"text-align: right;\">3.2</td><td style = \"text-align: right;\">12.3795</td><td style = \"text-align: right;\">31.6</td><td style = \"text-align: right;\">0</td><td style = \"text-align: right;\">0</td><td style = \"text-align: right;\">0</td><td style = \"text-align: right;\">0</td><td style = \"text-align: right;\">0</td><td style = \"text-align: right;\">0</td><td style = \"text-align: right;\">0</td><td style = \"text-align: right;\">0</td><td style = \"text-align: right;\">0</td><td style = \"text-align: right;\">0</td><td style = \"text-align: right;\">1</td><td style = \"text-align: right;\">0</td><td style = \"text-align: right;\">0</td><td style = \"text-align: right;\">1</td><td style = \"text-align: right;\">0</td><td style = \"text-align: right;\">0</td><td style = \"text-align: right;\">0</td><td style = \"text-align: right;\">1</td><td style = \"text-align: right;\">0</td><td style = \"text-align: right;\">1</td><td style = \"text-align: right;\">0</td><td style = \"text-align: right;\">0</td><td style = \"text-align: right;\">0</td><td style = \"text-align: right;\">0</td><td style = \"text-align: right;\">0</td><td style = \"text-align: right;\">0</td></tr><tr><td class = \"rowNumber\" style = \"font-weight: bold; text-align: right;\">393</td><td style = \"text-align: right;\">2023</td><td style = \"text-align: right;\">2.1</td><td style = \"text-align: right;\">11.2005</td><td style = \"text-align: right;\">16.2</td><td style = \"text-align: right;\">0</td><td style = \"text-align: right;\">0</td><td style = \"text-align: right;\">1</td><td style = \"text-align: right;\">0</td><td style = \"text-align: right;\">0</td><td style = \"text-align: right;\">0</td><td style = \"text-align: right;\">0</td><td style = \"text-align: right;\">0</td><td style = \"text-align: right;\">0</td><td style = \"text-align: right;\">0</td><td style = \"text-align: right;\">0</td><td style = \"text-align: right;\">0</td><td style = \"text-align: right;\">0</td><td style = \"text-align: right;\">0</td><td style = \"text-align: right;\">1</td><td style = \"text-align: right;\">0</td><td style = \"text-align: right;\">0</td><td style = \"text-align: right;\">1</td><td style = \"text-align: right;\">0</td><td style = \"text-align: right;\">0</td><td style = \"text-align: right;\">0</td><td style = \"text-align: right;\">1</td><td style = \"text-align: right;\">0</td><td style = \"text-align: right;\">0</td><td style = \"text-align: right;\">0</td><td style = \"text-align: right;\">0</td></tr><tr><td class = \"rowNumber\" style = \"font-weight: bold; text-align: right;\">394</td><td style = \"text-align: right;\">2019</td><td style = \"text-align: right;\">0.3</td><td style = \"text-align: right;\">7.84033</td><td style = \"text-align: right;\">0.9</td><td style = \"text-align: right;\">0</td><td style = \"text-align: right;\">0</td><td style = \"text-align: right;\">0</td><td style = \"text-align: right;\">0</td><td style = \"text-align: right;\">1</td><td style = \"text-align: right;\">0</td><td style = \"text-align: right;\">0</td><td style = \"text-align: right;\">0</td><td style = \"text-align: right;\">0</td><td style = \"text-align: right;\">0</td><td style = \"text-align: right;\">0</td><td style = \"text-align: right;\">0</td><td style = \"text-align: right;\">0</td><td style = \"text-align: right;\">0</td><td style = \"text-align: right;\">0</td><td style = \"text-align: right;\">1</td><td style = \"text-align: right;\">0</td><td style = \"text-align: right;\">1</td><td style = \"text-align: right;\">0</td><td style = \"text-align: right;\">0</td><td style = \"text-align: right;\">0</td><td style = \"text-align: right;\">0</td><td style = \"text-align: right;\">1</td><td style = \"text-align: right;\">0</td><td style = \"text-align: right;\">0</td><td style = \"text-align: right;\">0</td></tr><tr><td class = \"rowNumber\" style = \"font-weight: bold; text-align: right;\">395</td><td style = \"text-align: right;\">2022</td><td style = \"text-align: right;\">2.1</td><td style = \"text-align: right;\">11.2005</td><td style = \"text-align: right;\">16.2</td><td style = \"text-align: right;\">0</td><td style = \"text-align: right;\">0</td><td style = \"text-align: right;\">1</td><td style = \"text-align: right;\">0</td><td style = \"text-align: right;\">0</td><td style = \"text-align: right;\">0</td><td style = \"text-align: right;\">0</td><td style = \"text-align: right;\">0</td><td style = \"text-align: right;\">0</td><td style = \"text-align: right;\">0</td><td style = \"text-align: right;\">0</td><td style = \"text-align: right;\">0</td><td style = \"text-align: right;\">0</td><td style = \"text-align: right;\">0</td><td style = \"text-align: right;\">1</td><td style = \"text-align: right;\">0</td><td style = \"text-align: right;\">0</td><td style = \"text-align: right;\">1</td><td style = \"text-align: right;\">0</td><td style = \"text-align: right;\">0</td><td style = \"text-align: right;\">0</td><td style = \"text-align: right;\">1</td><td style = \"text-align: right;\">0</td><td style = \"text-align: right;\">0</td><td style = \"text-align: right;\">0</td><td style = \"text-align: right;\">0</td></tr><tr><td class = \"rowNumber\" style = \"font-weight: bold; text-align: right;\">396</td><td style = \"text-align: right;\">2017</td><td style = \"text-align: right;\">1.2</td><td style = \"text-align: right;\">9.04654</td><td style = \"text-align: right;\">6.0</td><td style = \"text-align: right;\">0</td><td style = \"text-align: right;\">1</td><td style = \"text-align: right;\">0</td><td style = \"text-align: right;\">0</td><td style = \"text-align: right;\">0</td><td style = \"text-align: right;\">0</td><td style = \"text-align: right;\">0</td><td style = \"text-align: right;\">0</td><td style = \"text-align: right;\">0</td><td style = \"text-align: right;\">0</td><td style = \"text-align: right;\">0</td><td style = \"text-align: right;\">0</td><td style = \"text-align: right;\">0</td><td style = \"text-align: right;\">0</td><td style = \"text-align: right;\">0</td><td style = \"text-align: right;\">1</td><td style = \"text-align: right;\">0</td><td style = \"text-align: right;\">1</td><td style = \"text-align: right;\">0</td><td style = \"text-align: right;\">0</td><td style = \"text-align: right;\">1</td><td style = \"text-align: right;\">0</td><td style = \"text-align: right;\">0</td><td style = \"text-align: right;\">0</td><td style = \"text-align: right;\">0</td><td style = \"text-align: right;\">0</td></tr></tbody></table></div>"
      ],
      "text/latex": [
       "\\begin{tabular}{r|cccccccc}\n",
       "\t& annee & cylindree & consommation & volume\\_gaz & voiture\\_moyenne & VUS\\_petit & voiture\\_compacte & \\\\\n",
       "\t\\hline\n",
       "\t& Int64 & Float64 & Float64 & Float64 & Int64 & Int64 & Int64 & \\\\\n",
       "\t\\hline\n",
       "\t1 & 2023 & 3.2 & 13.8359 & 31.6 & 1 & 0 & 0 & $\\dots$ \\\\\n",
       "\t2 & 2020 & 0.8 & 9.80042 & 4.4 & 0 & 1 & 0 & $\\dots$ \\\\\n",
       "\t3 & 2021 & 2.1 & 11.7605 & 16.2 & 0 & 0 & 1 & $\\dots$ \\\\\n",
       "\t4 & 2023 & 3.8 & 13.0672 & 36.4 & 0 & 0 & 0 & $\\dots$ \\\\\n",
       "\t5 & 2022 & 3.2 & 13.8359 & 31.6 & 1 & 0 & 0 & $\\dots$ \\\\\n",
       "\t6 & 2022 & 3.2 & 13.8359 & 31.6 & 1 & 0 & 0 & $\\dots$ \\\\\n",
       "\t7 & 2022 & 0.3 & 7.35031 & 0.9 & 0 & 0 & 0 & $\\dots$ \\\\\n",
       "\t8 & 2024 & 0.3 & 7.58742 & 0.9 & 0 & 0 & 0 & $\\dots$ \\\\\n",
       "\t9 & 2020 & 2.6 & 11.2005 & 19.2 & 0 & 0 & 0 & $\\dots$ \\\\\n",
       "\t10 & 2019 & 2.1 & 11.7605 & 16.2 & 0 & 0 & 1 & $\\dots$ \\\\\n",
       "\t11 & 2016 & 2.1 & 11.7605 & 16.2 & 0 & 0 & 0 & $\\dots$ \\\\\n",
       "\t12 & 2023 & 3.8 & 14.7006 & 36.4 & 0 & 0 & 0 & $\\dots$ \\\\\n",
       "\t13 & 2024 & 3.2 & 12.3795 & 31.6 & 1 & 0 & 0 & $\\dots$ \\\\\n",
       "\t14 & 2024 & 1.8 & 9.80042 & 14.4 & 0 & 0 & 0 & $\\dots$ \\\\\n",
       "\t15 & 2021 & 1.8 & 10.6914 & 14.4 & 0 & 0 & 0 & $\\dots$ \\\\\n",
       "\t16 & 2021 & 2.4 & 11.2005 & 18.0 & 0 & 0 & 0 & $\\dots$ \\\\\n",
       "\t17 & 2018 & 0.8 & 9.4084 & 4.4 & 0 & 0 & 1 & $\\dots$ \\\\\n",
       "\t18 & 2020 & 3.8 & 13.0672 & 36.4 & 0 & 1 & 0 & $\\dots$ \\\\\n",
       "\t19 & 2020 & 1.8 & 11.2005 & 14.4 & 0 & 0 & 0 & $\\dots$ \\\\\n",
       "\t20 & 2019 & 1.3 & 9.4084 & 6.4 & 0 & 1 & 0 & $\\dots$ \\\\\n",
       "\t21 & 2015 & 2.6 & 12.3795 & 19.2 & 0 & 0 & 0 & $\\dots$ \\\\\n",
       "\t22 & 2016 & 1.3 & 7.35031 & 6.4 & 1 & 0 & 0 & $\\dots$ \\\\\n",
       "\t23 & 2014 & 4.7 & 15.6807 & 67.2 & 0 & 0 & 0 & $\\dots$ \\\\\n",
       "\t24 & 2020 & 0.8 & 8.71148 & 4.4 & 1 & 0 & 0 & $\\dots$ \\\\\n",
       "\t25 & 2015 & 5.0 & 14.7006 & 46.0 & 0 & 0 & 0 & $\\dots$ \\\\\n",
       "\t26 & 2016 & 1.8 & 9.80042 & 14.4 & 1 & 0 & 0 & $\\dots$ \\\\\n",
       "\t27 & 2020 & 0.4 & 8.11069 & 2.8 & 0 & 0 & 0 & $\\dots$ \\\\\n",
       "\t28 & 2019 & 2.3 & 10.2265 & 17.4 & 0 & 0 & 1 & $\\dots$ \\\\\n",
       "\t29 & 2019 & 1.2 & 9.80042 & 6.0 & 0 & 1 & 0 & $\\dots$ \\\\\n",
       "\t30 & 2020 & 1.8 & 10.6914 & 14.4 & 0 & 0 & 0 & $\\dots$ \\\\\n",
       "\t$\\dots$ & $\\dots$ & $\\dots$ & $\\dots$ & $\\dots$ & $\\dots$ & $\\dots$ & $\\dots$ &  \\\\\n",
       "\\end{tabular}\n"
      ],
      "text/plain": [
       "\u001b[1m396×30 DataFrame\u001b[0m\n",
       "\u001b[1m Row \u001b[0m│\u001b[1m annee \u001b[0m\u001b[1m cylindree \u001b[0m\u001b[1m consommation \u001b[0m\u001b[1m volume_gaz \u001b[0m\u001b[1m voiture_moyenne \u001b[0m\u001b[1m VUS_petit \u001b[0m\u001b[1m\u001b[0m ⋯\n",
       "     │\u001b[90m Int64 \u001b[0m\u001b[90m Float64   \u001b[0m\u001b[90m Float64      \u001b[0m\u001b[90m Float64    \u001b[0m\u001b[90m Int64           \u001b[0m\u001b[90m Int64     \u001b[0m\u001b[90m\u001b[0m ⋯\n",
       "─────┼──────────────────────────────────────────────────────────────────────────\n",
       "   1 │  2023        3.2      13.8359         31.6                1          0  ⋯\n",
       "   2 │  2020        0.8       9.80042         4.4                0          1\n",
       "   3 │  2021        2.1      11.7605         16.2                0          0\n",
       "   4 │  2023        3.8      13.0672         36.4                0          0\n",
       "   5 │  2022        3.2      13.8359         31.6                1          0  ⋯\n",
       "   6 │  2022        3.2      13.8359         31.6                1          0\n",
       "   7 │  2022        0.3       7.35031         0.9                0          0\n",
       "   8 │  2024        0.3       7.58742         0.9                0          0\n",
       "   9 │  2020        2.6      11.2005         19.2                0          0  ⋯\n",
       "  10 │  2019        2.1      11.7605         16.2                0          0\n",
       "  11 │  2016        2.1      11.7605         16.2                0          0\n",
       "  ⋮  │   ⋮        ⋮           ⋮            ⋮              ⋮             ⋮      ⋱\n",
       " 387 │  2014        2.6      12.3795         19.2                0          0\n",
       " 388 │  2014        1.2       9.80042         6.0                0          1  ⋯\n",
       " 389 │  2016        2.3       7.84033        17.4                1          0\n",
       " 390 │  2024        0.8       8.71148         4.4                0          0\n",
       " 391 │  2022        0.8      10.2265          4.4                0          1\n",
       " 392 │  2021        3.2      12.3795         31.6                0          0  ⋯\n",
       " 393 │  2023        2.1      11.2005         16.2                0          0\n",
       " 394 │  2019        0.3       7.84033         0.9                0          0\n",
       " 395 │  2022        2.1      11.2005         16.2                0          0\n",
       " 396 │  2017        1.2       9.04654         6.0                0          1  ⋯\n",
       "\u001b[36m                                                 24 columns and 375 rows omitted\u001b[0m"
      ]
     },
     "execution_count": 141,
     "metadata": {},
     "output_type": "execute_result"
    }
   ],
   "source": [
    "encoded_train"
   ]
  },
  {
   "cell_type": "code",
   "execution_count": 3,
   "metadata": {},
   "outputs": [
    {
     "ename": "LoadError",
     "evalue": "UndefVarError: `train_test_split` not defined",
     "output_type": "error",
     "traceback": [
      "UndefVarError: `train_test_split` not defined",
      "",
      "Stacktrace:",
      " [1] top-level scope",
      "   @ In[3]:1"
     ]
    }
   ],
   "source": [
    "    train, test= train_test_split(encoded_train)\n",
    "\n",
    "    X_train =  Matrix(train[:, Not(:consommation)])\n",
    "    y_train = train.consommation\n",
    "    X_test = Matrix(test[:, Not(:consommation)])\n",
    "    y_test = test.consommation\n",
    "\n",
    "\n",
    "    model = RandomForestRegressor(n_subfeatures=12, n_trees=1000,min_samples_leaf=1,min_purity_increase=0.0, max_depth=10, min_samples_split=6)\n",
    "    DecisionTree.fit!(model, X_train, y_train)\n",
    "    y_pred = DecisionTree.predict(model, X_test)\n",
    "    #println(y_pred)\n",
    "    y_pred_adjusted = map(x -> findnearest(possibles,x),y_pred)\n",
    "    println(y_pred_adjusted)\n",
    "    println(y_pred)\n",
    "    println(test.consommation)\n",
    "    sqrt(mean((y_pred_adjusted - test.consommation).^2))\n"
   ]
  },
  {
   "cell_type": "code",
   "execution_count": 2,
   "metadata": {},
   "outputs": [
    {
     "ename": "LoadError",
     "evalue": "UndefVarError: `train_test_split` not defined",
     "output_type": "error",
     "traceback": [
      "UndefVarError: `train_test_split` not defined",
      "",
      "Stacktrace:",
      " [1] top-level scope",
      "   @ .\\In[2]:3"
     ]
    }
   ],
   "source": [
    "n = 0\n",
    "for i in 1:100\n",
    "    train, test= train_test_split(encoded_train)\n",
    "\n",
    "    X_train =  Matrix(train[:, Not(:consommation)])\n",
    "    y_train = train.consommation\n",
    "    X_test = Matrix(test[:, Not(:consommation)])\n",
    "    y_test = test.consommation\n",
    "\n",
    "\n",
    "    model = RandomForestRegressor(n_subfeatures=23, n_trees=100,min_samples_leaf=2,min_purity_increase=0.0, max_depth=10, min_samples_split=6,partial_sampling=0.7)\n",
    "\n",
    "    DecisionTree.fit!(model, X_train, y_train)\n",
    "    y_pred = DecisionTree.predict(model, X_test)\n",
    "    #println(y_pred)\n",
    "    #y_pred_adjusted = map(x -> findnearest(possibles,x),y_pred)\n",
    "    n += sqrt(mean((y_pred #= y_pred_adjusted =# - test.consommation).^2))\n",
    "end\n",
    "println(n/100)"
   ]
  },
  {
   "cell_type": "code",
   "execution_count": 105,
   "metadata": {},
   "outputs": [
    {
     "name": "stdout",
     "output_type": "stream",
     "text": [
      "[7.973639589310716, 7.953110297911062, 10.170543036241767, 12.872409612300913, 10.0277118627438, 10.137304061234333, 13.33143643165217, 11.740898612927271, 11.357740184236619, 10.931690733884684, 8.858893079026853, 11.135459199385968, 10.638507053693628, 11.050155137413082, 12.872409612300913, 7.631137800097925, 8.102868212161418, 9.554486548846537, 10.028006762385225, 11.58474599573623, 10.273184421481496, 9.886162494262877, 7.4919492513726915, 8.15093472469588, 9.31588692246878, 13.083156300307687, 13.054463682166752, 11.453208931635112, 9.061998191212165, 13.01996285674086, 7.479806404498584, 10.379267448402802, 10.684923330019002, 10.89133213309198, 14.18057444256545, 9.531364604555966, 10.3711002600789, 10.813633778895841, 9.620434593894275, 11.318770761611878, 9.944927906469976, 10.963805949960195, 10.684923330019002, 11.271634246566421, 11.041698405917426, 11.370574294863433, 11.453754239686413, 9.723783026550409, 8.956006614236996, 13.01996285674086, 10.297757461445542, 11.321463157186626, 11.370574294863433, 13.36355249034743, 11.039722568366308, 8.78394471491164, 7.565685188117896, 9.156811256513995, 12.725139368293531, 13.006881825020464, 10.653492683286355, 10.756873168559876, 12.048430277103524, 10.799354791740832, 13.36355249034743, 11.118640421431337, 10.030139968409069, 11.231576494221704, 10.65982903739801, 10.234908776346778, 7.093077722927052, 11.200977945036628, 7.938154767940276, 10.030139968409069, 10.684923330019002, 14.18057444256545, 10.978074784764202, 10.078205038063198, 10.819869324550558]\n",
      "[7.84033333333333, 7.84033333333333, 10.2265217391304, 13.0672222222222, 10.2265217391304, 10.2265217391304, 13.0672222222222, 11.7605, 11.2004761904762, 10.6913636363636, 8.71148148148148, 11.2004761904762, 10.6913636363636, 11.2004761904762, 13.0672222222222, 7.58741935483871, 8.11068965517241, 9.4084, 10.2265217391304, 11.7605, 10.2265217391304, 9.80041666666667, 7.58741935483871, 8.11068965517241, 9.4084, 13.0672222222222, 13.0672222222222, 11.2004761904762, 9.04653846153846, 13.0672222222222, 7.58741935483871, 10.2265217391304, 10.6913636363636, 10.6913636363636, 13.8358823529412, 9.4084, 10.2265217391304, 10.6913636363636, 9.80041666666667, 11.2004761904762, 9.80041666666667, 11.2004761904762, 10.6913636363636, 11.2004761904762, 11.2004761904762, 11.2004761904762, 11.2004761904762, 9.80041666666667, 9.04653846153846, 13.0672222222222, 10.2265217391304, 11.2004761904762, 11.2004761904762, 13.0672222222222, 11.2004761904762, 8.71148148148148, 7.58741935483871, 9.04653846153846, 13.0672222222222, 13.0672222222222, 10.6913636363636, 10.6913636363636, 11.7605, 10.6913636363636, 13.0672222222222, 11.2004761904762, 10.2265217391304, 11.2004761904762, 10.6913636363636, 10.2265217391304, 7.12757575757576, 11.2004761904762, 7.84033333333333, 10.2265217391304, 10.6913636363636, 13.8358823529412, 11.2004761904762, 10.2265217391304, 10.6913636363636]\n",
      "[7.58741935483871, 7.84033333333333, 9.80041666666667, 13.8358823529412, 10.2265217391304, 10.2265217391304, 13.0672222222222, 11.7605, 11.7605, 13.0672222222222, 8.40035714285714, 10.6913636363636, 10.2265217391304, 9.80041666666667, 12.3794736842105, 8.40035714285714, 7.58741935483871, 9.80041666666667, 10.2265217391304, 11.2004761904762, 8.11068965517241, 10.6913636363636, 8.11068965517241, 7.84033333333333, 8.40035714285714, 13.0672222222222, 14.700625, 11.7605, 8.40035714285714, 13.0672222222222, 4.52326923076923, 10.2265217391304, 10.2265217391304, 10.6913636363636, 14.700625, 9.4084, 10.2265217391304, 9.80041666666667, 9.80041666666667, 11.2004761904762, 9.80041666666667, 11.2004761904762, 10.6913636363636, 11.7605, 11.2004761904762, 11.7605, 11.7605, 8.40035714285714, 7.58741935483871, 13.0672222222222, 9.80041666666667, 11.2004761904762, 10.6913636363636, 13.0672222222222, 11.7605, 9.4084, 7.58741935483871, 8.71148148148148, 12.3794736842105, 13.0672222222222, 10.6913636363636, 9.4084, 13.0672222222222, 12.3794736842105, 13.0672222222222, 11.2004761904762, 9.80041666666667, 9.80041666666667, 10.6913636363636, 11.2004761904762, 7.84033333333333, 11.7605, 8.11068965517241, 10.2265217391304, 10.6913636363636, 14.700625, 10.2265217391304, 9.80041666666667, 10.2265217391304]\n"
     ]
    }
   ],
   "source": [
    "println(y_pred)\n",
    "println(y_pred_adjusted)\n",
    "println(test.consommation)"
   ]
  },
  {
   "cell_type": "code",
   "execution_count": 92,
   "metadata": {},
   "outputs": [
    {
     "data": {
      "text/plain": [
       "25-element Vector{Float64}:\n",
       " 13.8358823529412\n",
       "  9.80041666666667\n",
       " 11.7605\n",
       " 13.0672222222222\n",
       "  7.3503125\n",
       "  7.58741935483871\n",
       " 11.2004761904762\n",
       " 14.700625\n",
       " 12.3794736842105\n",
       " 10.6913636363636\n",
       "  9.4084\n",
       " 15.6806666666667\n",
       "  8.71148148148148\n",
       "  8.11068965517241\n",
       " 10.2265217391304\n",
       "  7.84033333333333\n",
       "  8.40035714285714\n",
       "  9.04653846153846\n",
       " 16.8007142857143\n",
       "  6.91794117647059\n",
       "  6.35702702702703\n",
       "  4.52326923076923\n",
       "  7.12757575757576\n",
       "  4.90020833333333\n",
       "  6.53361111111111"
      ]
     },
     "execution_count": 92,
     "metadata": {},
     "output_type": "execute_result"
    }
   ],
   "source": [
    "possibles"
   ]
  },
  {
   "cell_type": "code",
   "execution_count": 77,
   "metadata": {},
   "outputs": [
    {
     "name": "stdout",
     "output_type": "stream",
     "text": [
      "6.6312315702629485\n"
     ]
    }
   ],
   "source": [
    "n = 0\n",
    "for i in 1:100\n",
    "    train, test= train_test_split(encoded_train)\n",
    "\n",
    "    X_train =  Matrix(train[:, Not(:consommation)])\n",
    "    y_train = train.consommation\n",
    "    X_test = Matrix(test[:, Not(:consommation)])\n",
    "    y_test = test.consommation\n",
    "\n",
    "\n",
    "    model = RandomForestRegressor(n_subfeatures=12, n_trees=600,min_samples_leaf=1,min_purity_increase=0.0, max_depth=10, min_samples_split=6)\n",
    "    DecisionTree.fit!(model, X_train, y_train)\n",
    "    y_pred = DecisionTree.predict(model, X_test)\n",
    "    #println(y_pred)\n",
    "    y_pred_adjusted = map(x -> findnearest(possibles,x),y_pred)\n",
    "    n += sqrt(mean((y_pred_adjusted - test.consommation).^2))\n",
    "end\n",
    "println(n/100)"
   ]
  },
  {
   "cell_type": "code",
   "execution_count": 128,
   "metadata": {},
   "outputs": [
    {
     "data": {
      "text/plain": [
       "79×23 Matrix{Float64}:\n",
       "  6.0  8.0  3.8  36.4  0.0  1.0  0.0  …  0.0  1.0  0.0  0.0  0.0  1.0  0.0\n",
       "  7.0  4.0  1.3   6.4  0.0  0.0  0.0     0.0  0.0  1.0  0.0  0.0  1.0  0.0\n",
       "  3.0  4.0  0.8   4.4  0.0  1.0  0.0     0.0  0.0  0.0  1.0  0.0  1.0  0.0\n",
       "  2.0  4.0  1.3   6.4  1.0  0.0  0.0     0.0  0.0  0.0  1.0  0.0  0.0  1.0\n",
       "  9.0  4.0  1.3   6.4  0.0  0.0  0.0     0.0  1.0  0.0  0.0  0.0  1.0  0.0\n",
       "  6.0  4.0  0.8   4.4  0.0  1.0  0.0  …  0.0  1.0  0.0  0.0  0.0  1.0  0.0\n",
       "  7.0  4.0  0.4   2.8  0.0  0.0  1.0     0.0  0.0  0.0  1.0  0.0  0.0  1.0\n",
       "  0.0  4.0  1.2   6.0  0.0  1.0  0.0     0.0  0.0  0.0  0.0  1.0  1.0  0.0\n",
       "  0.0  6.0  2.1  16.2  0.0  1.0  0.0     0.0  0.0  0.0  1.0  0.0  1.0  0.0\n",
       "  9.0  4.0  1.3   6.4  0.0  1.0  0.0     0.0  1.0  0.0  0.0  0.0  1.0  0.0\n",
       "  9.0  8.0  3.8  36.4  0.0  0.0  0.0  …  0.0  0.0  1.0  0.0  0.0  1.0  0.0\n",
       "  9.0  3.0  0.3   0.9  0.0  0.0  0.0     0.0  0.0  0.0  1.0  0.0  0.0  1.0\n",
       "  8.0  4.0  0.8   4.4  0.0  0.0  0.0     0.0  0.0  0.0  1.0  0.0  0.0  1.0\n",
       "  ⋮                         ⋮         ⋱                      ⋮         \n",
       "  7.0  8.0  3.8  36.4  0.0  0.0  0.0     0.0  1.0  0.0  0.0  0.0  1.0  0.0\n",
       " 10.0  4.0  0.8   4.4  0.0  0.0  0.0     0.0  0.0  0.0  1.0  0.0  1.0  0.0\n",
       "  5.0  6.0  2.3  17.4  0.0  0.0  0.0     0.0  0.0  0.0  1.0  0.0  1.0  0.0\n",
       "  4.0  4.0  0.8   4.4  0.0  0.0  1.0  …  0.0  0.0  1.0  0.0  0.0  0.0  1.0\n",
       "  8.0  6.0  2.3  17.4  0.0  0.0  0.0     0.0  0.0  0.0  1.0  0.0  1.0  0.0\n",
       "  5.0  8.0  4.5  42.0  0.0  0.0  0.0     0.0  0.0  0.0  0.0  1.0  1.0  0.0\n",
       "  5.0  4.0  0.8   4.4  0.0  0.0  1.0     0.0  0.0  1.0  0.0  0.0  0.0  1.0\n",
       "  4.0  4.0  0.8   4.4  0.0  0.0  0.0     0.0  0.0  1.0  0.0  0.0  1.0  0.0\n",
       "  4.0  6.0  1.8  14.4  0.0  0.0  0.0  …  0.0  0.0  1.0  0.0  0.0  1.0  0.0\n",
       "  2.0  4.0  0.6   3.6  0.0  1.0  0.0     0.0  1.0  0.0  0.0  0.0  1.0  0.0\n",
       "  9.0  8.0  3.2  31.6  0.0  0.0  0.0     0.0  1.0  0.0  0.0  0.0  1.0  0.0\n",
       "  4.0  6.0  1.8  14.4  0.0  0.0  1.0     0.0  0.0  1.0  0.0  0.0  1.0  0.0"
      ]
     },
     "execution_count": 128,
     "metadata": {},
     "output_type": "execute_result"
    }
   ],
   "source": [
    "X_test"
   ]
  },
  {
   "cell_type": "code",
   "execution_count": 117,
   "metadata": {},
   "outputs": [
    {
     "data": {
      "text/plain": [
       "1.2"
      ]
     },
     "execution_count": 117,
     "metadata": {},
     "output_type": "execute_result"
    }
   ],
   "source": [
    "minimum(trainData.cylindree)"
   ]
  },
  {
   "cell_type": "code",
   "execution_count": null,
   "metadata": {},
   "outputs": [],
   "source": [
    "\n",
    "res = []\n",
    "for i in 1:20\n",
    "    n = 0\n",
    "    for i in 1:10\n",
    "        model = RandomForestRegressor(n_trees=i)\n",
    "    DecisionTree.fit!(model, X_train, y_train)\n",
    "    y_pred = DecisionTree.predict(model, X_test)\n",
    "    n += sqrt(mean((y_pred - y_test).^2))\n",
    "    end\n",
    "    push!(res,n/10)\n",
    "end\n",
    "\n",
    "\n",
    "\n",
    "# display the grid\n",
    "plot(1:20, res, label=\"RandomForestRegressor\", xlabel=\"n_trees\", ylabel=\"RMSE\", title=\"RandomForestRegressor RMSE vs n_trees\")"
   ]
  },
  {
   "cell_type": "code",
   "execution_count": null,
   "metadata": {},
   "outputs": [],
   "source": [
    "\n",
    "res = []\n",
    "for i in 1:23\n",
    "    n = 0\n",
    "    for j in 1:10\n",
    "        model = RandomForestRegressor(n_subfeatures=i)\n",
    "    DecisionTree.fit!(model, X_train, y_train)\n",
    "    y_pred = DecisionTree.predict(model, X_test)\n",
    "    n += sqrt(mean((y_pred - test.consommation).^2))\n",
    "    end\n",
    "    push!(res,n/10)\n",
    "end\n",
    "\n",
    "\n",
    "\n",
    "# display the grid\n",
    "plot(1:23, res, label=\"RandomForestRegressor\", xlabel=\"n_subfeatures\", ylabel=\"RMSE\", title=\"RandomForestRegressor RMSE vs n_trees\")"
   ]
  },
  {
   "cell_type": "code",
   "execution_count": null,
   "metadata": {},
   "outputs": [],
   "source": [
    "res = []\n",
    "for i in 1:23\n",
    "    n = 0\n",
    "    for j in 1:10\n",
    "        model = RandomForestRegressor(min_samples_leaf=i)\n",
    "    DecisionTree.fit!(model, X_train, y_train)\n",
    "    y_pred = DecisionTree.predict(model, X_test)\n",
    "    n += sqrt(mean((y_pred - test.consommation).^2))\n",
    "    end\n",
    "    push!(res,n/10)\n",
    "end\n",
    "\n",
    "\n",
    "\n",
    "# display the grid\n",
    "plot(1:23, res, label=\"RandomForestRegressor\", xlabel=\"min_samples_leaf\", ylabel=\"RMSE\", title=\"RandomForestRegressor RMSE vs n_trees\")"
   ]
  },
  {
   "cell_type": "code",
   "execution_count": null,
   "metadata": {},
   "outputs": [],
   "source": [
    "res = []\n",
    "for i in 1:23\n",
    "    n = 0\n",
    "    for j in 1:10\n",
    "        model = RandomForestRegressor(min_purity_increase=i)\n",
    "    DecisionTree.fit!(model, X_train, y_train)\n",
    "    y_pred = DecisionTree.predict(model, X_test)\n",
    "    n += sqrt(mean((y_pred - test.consommation).^2))\n",
    "    end\n",
    "    push!(res,n/10)\n",
    "end\n",
    "\n",
    "\n",
    "\n",
    "# display the grid\n",
    "plot(1:23, res, label=\"RandomForestRegressor\", xlabel=\"min_samples_leaf\", ylabel=\"RMSE\", title=\"RandomForestRegressor RMSE vs n_trees\")"
   ]
  },
  {
   "cell_type": "code",
   "execution_count": null,
   "metadata": {},
   "outputs": [],
   "source": [
    "res = []\n",
    "for i in 2:23\n",
    "    n = 0\n",
    "    for j in 1:10\n",
    "        model = RandomForestRegressor(min_samples_split=i)\n",
    "    DecisionTree.fit!(model, X_train, y_train)\n",
    "    y_pred = DecisionTree.predict(model, X_test)\n",
    "    n += sqrt(mean((y_pred - test.consommation).^2))\n",
    "    end\n",
    "    push!(res,n/10)\n",
    "end\n",
    "\n",
    "\n",
    "\n",
    "# display the grid\n",
    "plot(2:23, res, label=\"RandomForestRegressor\", xlabel=\"min_samples_leaf\", ylabel=\"RMSE\", title=\"RandomForestRegressor RMSE vs n_trees\")"
   ]
  },
  {
   "cell_type": "code",
   "execution_count": 119,
   "metadata": {},
   "outputs": [
    {
     "data": {
      "text/latex": [
       "\\begin{verbatim}\n",
       "RandomForestRegressor(; n_subfeatures::Int=-1,\n",
       "                      n_trees::Int=10,\n",
       "                      partial_sampling::Float=0.7,\n",
       "                      max_depth::Int=-1,\n",
       "                      min_samples_leaf::Int=5,\n",
       "                      rng=Random.GLOBAL_RNG,\n",
       "                      impurity_importance::Bool=true)\n",
       "\\end{verbatim}\n",
       "Random forest regression. See \\href{https://github.com/bensadeghi/DecisionTree.jl}{DecisionTree.jl's documentation}\n",
       "\n",
       "Hyperparameters:\n",
       "\n",
       "\\begin{itemize}\n",
       "\\item \\texttt{n\\_subfeatures}: number of features to consider at random per split (default: -1, sqrt(\\# features))\n",
       "\n",
       "\n",
       "\\item \\texttt{n\\_trees}: number of trees to train (default: 10)\n",
       "\n",
       "\n",
       "\\item \\texttt{partial\\_sampling}: fraction of samples to train each tree on (default: 0.7)\n",
       "\n",
       "\n",
       "\\item \\texttt{max\\_depth}: maximum depth of the decision trees (default: no maximum)\n",
       "\n",
       "\n",
       "\\item \\texttt{min\\_samples\\_leaf}: the minimum number of samples each leaf needs to have (default: 5)\n",
       "\n",
       "\n",
       "\\item \\texttt{min\\_samples\\_split}: the minimum number of samples in needed for a split\n",
       "\n",
       "\n",
       "\\item \\texttt{min\\_purity\\_increase}: minimum purity needed for a split\n",
       "\n",
       "\n",
       "\\item \\texttt{rng}: the random number generator to use. Can be an \\texttt{Int}, which will be used to seed and create a new random number generator. Multi-threaded forests must be seeded with an \\texttt{Int}\n",
       "\n",
       "\n",
       "\\item \\texttt{impurity\\_importance}: whether to calculate feature importances using \\texttt{Mean Decrease in Impurity (MDI)}. See \\href{@ref}{\\texttt{DecisionTree.impurity\\_importance}}.\n",
       "\n",
       "\\end{itemize}\n",
       "Implements \\texttt{fit!}, \\texttt{predict}, \\texttt{get\\_classes}\n",
       "\n"
      ],
      "text/markdown": [
       "```\n",
       "RandomForestRegressor(; n_subfeatures::Int=-1,\n",
       "                      n_trees::Int=10,\n",
       "                      partial_sampling::Float=0.7,\n",
       "                      max_depth::Int=-1,\n",
       "                      min_samples_leaf::Int=5,\n",
       "                      rng=Random.GLOBAL_RNG,\n",
       "                      impurity_importance::Bool=true)\n",
       "```\n",
       "\n",
       "Random forest regression. See [DecisionTree.jl's documentation](https://github.com/bensadeghi/DecisionTree.jl)\n",
       "\n",
       "Hyperparameters:\n",
       "\n",
       "  * `n_subfeatures`: number of features to consider at random per split (default: -1, sqrt(# features))\n",
       "  * `n_trees`: number of trees to train (default: 10)\n",
       "  * `partial_sampling`: fraction of samples to train each tree on (default: 0.7)\n",
       "  * `max_depth`: maximum depth of the decision trees (default: no maximum)\n",
       "  * `min_samples_leaf`: the minimum number of samples each leaf needs to have (default: 5)\n",
       "  * `min_samples_split`: the minimum number of samples in needed for a split\n",
       "  * `min_purity_increase`: minimum purity needed for a split\n",
       "  * `rng`: the random number generator to use. Can be an `Int`, which will be used to seed and create a new random number generator. Multi-threaded forests must be seeded with an `Int`\n",
       "  * `impurity_importance`: whether to calculate feature importances using `Mean Decrease in Impurity (MDI)`. See [`DecisionTree.impurity_importance`](@ref).\n",
       "\n",
       "Implements `fit!`, `predict`, `get_classes`\n"
      ],
      "text/plain": [
       "\u001b[36m  RandomForestRegressor(; n_subfeatures::Int=-1,\u001b[39m\n",
       "\u001b[36m                        n_trees::Int=10,\u001b[39m\n",
       "\u001b[36m                        partial_sampling::Float=0.7,\u001b[39m\n",
       "\u001b[36m                        max_depth::Int=-1,\u001b[39m\n",
       "\u001b[36m                        min_samples_leaf::Int=5,\u001b[39m\n",
       "\u001b[36m                        rng=Random.GLOBAL_RNG,\u001b[39m\n",
       "\u001b[36m                        impurity_importance::Bool=true)\u001b[39m\n",
       "\n",
       "  Random forest regression. See DecisionTree.jl's documentation\n",
       "  (https://github.com/bensadeghi/DecisionTree.jl)\n",
       "\n",
       "  Hyperparameters:\n",
       "\n",
       "    •  \u001b[36mn_subfeatures\u001b[39m: number of features to consider at random per split\n",
       "       (default: -1, sqrt(# features))\n",
       "\n",
       "    •  \u001b[36mn_trees\u001b[39m: number of trees to train (default: 10)\n",
       "\n",
       "    •  \u001b[36mpartial_sampling\u001b[39m: fraction of samples to train each tree on\n",
       "       (default: 0.7)\n",
       "\n",
       "    •  \u001b[36mmax_depth\u001b[39m: maximum depth of the decision trees (default: no\n",
       "       maximum)\n",
       "\n",
       "    •  \u001b[36mmin_samples_leaf\u001b[39m: the minimum number of samples each leaf needs to\n",
       "       have (default: 5)\n",
       "\n",
       "    •  \u001b[36mmin_samples_split\u001b[39m: the minimum number of samples in needed for a\n",
       "       split\n",
       "\n",
       "    •  \u001b[36mmin_purity_increase\u001b[39m: minimum purity needed for a split\n",
       "\n",
       "    •  \u001b[36mrng\u001b[39m: the random number generator to use. Can be an \u001b[36mInt\u001b[39m, which will\n",
       "       be used to seed and create a new random number generator.\n",
       "       Multi-threaded forests must be seeded with an \u001b[36mInt\u001b[39m\n",
       "\n",
       "    •  \u001b[36mimpurity_importance\u001b[39m: whether to calculate feature importances\n",
       "       using \u001b[36mMean Decrease in Impurity (MDI)\u001b[39m. See\n",
       "       \u001b[36mDecisionTree.impurity_importance\u001b[39m.\n",
       "\n",
       "  Implements \u001b[36mfit!\u001b[39m, \u001b[36mpredict\u001b[39m, \u001b[36mget_classes\u001b[39m"
      ]
     },
     "execution_count": 119,
     "metadata": {},
     "output_type": "execute_result"
    }
   ],
   "source": [
    "@doc RandomForestRegressor"
   ]
  },
  {
   "cell_type": "code",
   "execution_count": 488,
   "metadata": {},
   "outputs": [
    {
     "data": {
      "text/latex": [
       "\\begin{verbatim}\n",
       "DecisionTreeRegressor(; pruning_purity_threshold=0.0,\n",
       "                      max_depth::Int-1,\n",
       "                      min_samples_leaf::Int=5,\n",
       "                      min_samples_split::Int=2,\n",
       "                      min_purity_increase::Float=0.0,\n",
       "                      n_subfeatures::Int=0,\n",
       "                      rng=Random.GLOBAL_RNG,\n",
       "                      impurity_importance::Bool=true)\n",
       "\\end{verbatim}\n",
       "Decision tree regression. See \\href{https://github.com/bensadeghi/DecisionTree.jl}{DecisionTree.jl's documentation}\n",
       "\n",
       "Hyperparameters:\n",
       "\n",
       "\\begin{itemize}\n",
       "\\item \\texttt{pruning\\_purity\\_threshold}: (post-pruning) merge leaves having \\texttt{>=thresh} combined purity (default: no pruning). This accuracy-based method may not be appropriate for regression tree.\n",
       "\n",
       "\n",
       "\\item \\texttt{max\\_depth}: maximum depth of the decision tree (default: no maximum)\n",
       "\n",
       "\n",
       "\\item \\texttt{min\\_samples\\_leaf}: the minimum number of samples each leaf needs to have (default: 5)\n",
       "\n",
       "\n",
       "\\item \\texttt{min\\_samples\\_split}: the minimum number of samples in needed for a split (default: 2)\n",
       "\n",
       "\n",
       "\\item \\texttt{min\\_purity\\_increase}: minimum purity needed for a split (default: 0.0)\n",
       "\n",
       "\n",
       "\\item \\texttt{n\\_subfeatures}: number of features to select at random (default: keep all)\n",
       "\n",
       "\n",
       "\\item \\texttt{rng}: the random number generator to use. Can be an \\texttt{Int}, which will be used to seed and create a new random number generator.\n",
       "\n",
       "\n",
       "\\item \\texttt{impurity\\_importance}: whether to calculate feature importances using \\texttt{Mean Decrease in Impurity (MDI)}. See \\href{@ref}{\\texttt{DecisionTree.impurity\\_importance}}\n",
       "\n",
       "\\end{itemize}\n",
       "Implements \\texttt{fit!}, \\texttt{predict}, \\texttt{get\\_classes}\n",
       "\n"
      ],
      "text/markdown": [
       "```\n",
       "DecisionTreeRegressor(; pruning_purity_threshold=0.0,\n",
       "                      max_depth::Int-1,\n",
       "                      min_samples_leaf::Int=5,\n",
       "                      min_samples_split::Int=2,\n",
       "                      min_purity_increase::Float=0.0,\n",
       "                      n_subfeatures::Int=0,\n",
       "                      rng=Random.GLOBAL_RNG,\n",
       "                      impurity_importance::Bool=true)\n",
       "```\n",
       "\n",
       "Decision tree regression. See [DecisionTree.jl's documentation](https://github.com/bensadeghi/DecisionTree.jl)\n",
       "\n",
       "Hyperparameters:\n",
       "\n",
       "  * `pruning_purity_threshold`: (post-pruning) merge leaves having `>=thresh` combined purity (default: no pruning). This accuracy-based method may not be appropriate for regression tree.\n",
       "  * `max_depth`: maximum depth of the decision tree (default: no maximum)\n",
       "  * `min_samples_leaf`: the minimum number of samples each leaf needs to have (default: 5)\n",
       "  * `min_samples_split`: the minimum number of samples in needed for a split (default: 2)\n",
       "  * `min_purity_increase`: minimum purity needed for a split (default: 0.0)\n",
       "  * `n_subfeatures`: number of features to select at random (default: keep all)\n",
       "  * `rng`: the random number generator to use. Can be an `Int`, which will be used to seed and create a new random number generator.\n",
       "  * `impurity_importance`: whether to calculate feature importances using `Mean Decrease in Impurity (MDI)`. See [`DecisionTree.impurity_importance`](@ref)\n",
       "\n",
       "Implements `fit!`, `predict`, `get_classes`\n"
      ],
      "text/plain": [
       "\u001b[36m  DecisionTreeRegressor(; pruning_purity_threshold=0.0,\u001b[39m\n",
       "\u001b[36m                        max_depth::Int-1,\u001b[39m\n",
       "\u001b[36m                        min_samples_leaf::Int=5,\u001b[39m\n",
       "\u001b[36m                        min_samples_split::Int=2,\u001b[39m\n",
       "\u001b[36m                        min_purity_increase::Float=0.0,\u001b[39m\n",
       "\u001b[36m                        n_subfeatures::Int=0,\u001b[39m\n",
       "\u001b[36m                        rng=Random.GLOBAL_RNG,\u001b[39m\n",
       "\u001b[36m                        impurity_importance::Bool=true)\u001b[39m\n",
       "\n",
       "  Decision tree regression. See DecisionTree.jl's documentation\n",
       "  (https://github.com/bensadeghi/DecisionTree.jl)\n",
       "\n",
       "  Hyperparameters:\n",
       "\n",
       "    •  \u001b[36mpruning_purity_threshold\u001b[39m: (post-pruning) merge leaves having\n",
       "       \u001b[36m>=thresh\u001b[39m combined purity (default: no pruning). This\n",
       "       accuracy-based method may not be appropriate for regression tree.\n",
       "\n",
       "    •  \u001b[36mmax_depth\u001b[39m: maximum depth of the decision tree (default: no\n",
       "       maximum)\n",
       "\n",
       "    •  \u001b[36mmin_samples_leaf\u001b[39m: the minimum number of samples each leaf needs to\n",
       "       have (default: 5)\n",
       "\n",
       "    •  \u001b[36mmin_samples_split\u001b[39m: the minimum number of samples in needed for a\n",
       "       split (default: 2)\n",
       "\n",
       "    •  \u001b[36mmin_purity_increase\u001b[39m: minimum purity needed for a split (default:\n",
       "       0.0)\n",
       "\n",
       "    •  \u001b[36mn_subfeatures\u001b[39m: number of features to select at random (default:\n",
       "       keep all)\n",
       "\n",
       "    •  \u001b[36mrng\u001b[39m: the random number generator to use. Can be an \u001b[36mInt\u001b[39m, which will\n",
       "       be used to seed and create a new random number generator.\n",
       "\n",
       "    •  \u001b[36mimpurity_importance\u001b[39m: whether to calculate feature importances\n",
       "       using \u001b[36mMean Decrease in Impurity (MDI)\u001b[39m. See\n",
       "       \u001b[36mDecisionTree.impurity_importance\u001b[39m\n",
       "\n",
       "  Implements \u001b[36mfit!\u001b[39m, \u001b[36mpredict\u001b[39m, \u001b[36mget_classes\u001b[39m"
      ]
     },
     "execution_count": 488,
     "metadata": {},
     "output_type": "execute_result"
    }
   ],
   "source": [
    "@doc DecisionTreeRegressor"
   ]
  },
  {
   "cell_type": "code",
   "execution_count": null,
   "metadata": {},
   "outputs": [
    {
     "data": {
      "text/plain": [
       "1.1704408817014724"
      ]
     },
     "execution_count": 515,
     "metadata": {},
     "output_type": "execute_result"
    }
   ],
   "source": [
    "model = DecisionTreeRegressor(n_subfeatures=12, min_samples_leaf=1,min_purity_increase=0.0, max_depth=10, min_samples_split=6,)\n",
    "DecisionTree.fit!(model, X_train, y_train)\n",
    "y_pred = DecisionTree.predict(model, X_test)\n",
    "sqrt(mean((y_pred - test.consommation).^2))"
   ]
  },
  {
   "cell_type": "code",
   "execution_count": 456,
   "metadata": {},
   "outputs": [
    {
     "data": {
      "text/plain": [
       "79-element Vector{Float64}:\n",
       "  1.2240951129805515\n",
       "  0.17625130984704987\n",
       "  1.479696235370256\n",
       " -0.2607463003952433\n",
       "  1.5211869207713695\n",
       " -1.3097410769834612\n",
       " -1.376475788529015\n",
       " -1.3608160998913268\n",
       "  0.6165740389681241\n",
       " -1.2787160338849795\n",
       "  1.4209770672951387\n",
       "  1.7941338351390625\n",
       "  0.3887079431074021\n",
       "  ⋮\n",
       "  0.37544214897858164\n",
       " -1.5136770521451326\n",
       " -1.079500521944099\n",
       "  1.174229577971678\n",
       " -1.0333093095750074\n",
       " -0.01294650848269291\n",
       " -1.2879443398905748\n",
       " -1.4793632637667964\n",
       "  1.2431097360103887\n",
       " -1.304503701086083\n",
       " -0.8312720241469432\n",
       " -1.2995868865253335"
      ]
     },
     "execution_count": 456,
     "metadata": {},
     "output_type": "execute_result"
    }
   ],
   "source": [
    "y_pred"
   ]
  },
  {
   "cell_type": "code",
   "execution_count": 21,
   "metadata": {},
   "outputs": [
    {
     "data": {
      "text/plain": [
       "\"benchmark1.csv\""
      ]
     },
     "execution_count": 21,
     "metadata": {},
     "output_type": "execute_result"
    }
   ],
   "source": [
    "id = 1:150\n",
    "\n",
    "df_pred = DataFrame(id=id, consommation=res)\n",
    "\n",
    "CSV.write(\"benchmark1.csv\", df_pred)"
   ]
  }
 ],
 "metadata": {
  "kernelspec": {
   "display_name": "Julia 1.10.5",
   "language": "julia",
   "name": "julia-1.10"
  },
  "language_info": {
   "file_extension": ".jl",
   "mimetype": "application/julia",
   "name": "julia",
   "version": "1.10.5"
  }
 },
 "nbformat": 4,
 "nbformat_minor": 2
}
