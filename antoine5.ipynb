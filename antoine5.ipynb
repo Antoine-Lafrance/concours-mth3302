{
 "cells": [
  {
   "cell_type": "code",
   "execution_count": 35,
   "metadata": {},
   "outputs": [],
   "source": [
    "using CSV, DataFrames, Statistics, Dates, Plots, LinearAlgebra, DecisionTree, Random"
   ]
  },
  {
   "cell_type": "code",
   "execution_count": 126,
   "metadata": {},
   "outputs": [
    {
     "data": {
      "text/html": [
       "<div><div style = \"float: left;\"><span>5×7 DataFrame</span></div><div style = \"clear: both;\"></div></div><div class = \"data-frame\" style = \"overflow-x: scroll;\"><table class = \"data-frame\" style = \"margin-bottom: 6px;\"><thead><tr class = \"header\"><th class = \"rowNumber\" style = \"font-weight: bold; text-align: right;\">Row</th><th style = \"text-align: left;\">annee</th><th style = \"text-align: left;\">type</th><th style = \"text-align: left;\">nombre_cylindres</th><th style = \"text-align: left;\">cylindree</th><th style = \"text-align: left;\">transmission</th><th style = \"text-align: left;\">boite</th><th style = \"text-align: left;\">consommation</th></tr><tr class = \"subheader headerLastRow\"><th class = \"rowNumber\" style = \"font-weight: bold; text-align: right;\"></th><th title = \"Int64\" style = \"text-align: left;\">Int64</th><th title = \"String31\" style = \"text-align: left;\">String31</th><th title = \"Int64\" style = \"text-align: left;\">Int64</th><th title = \"String3\" style = \"text-align: left;\">String3</th><th title = \"String15\" style = \"text-align: left;\">String15</th><th title = \"String15\" style = \"text-align: left;\">String15</th><th title = \"String31\" style = \"text-align: left;\">String31</th></tr></thead><tbody><tr><td class = \"rowNumber\" style = \"font-weight: bold; text-align: right;\">1</td><td style = \"text-align: right;\">2023</td><td style = \"text-align: left;\">voiture_moyenne</td><td style = \"text-align: right;\">8</td><td style = \"text-align: left;\">4,4</td><td style = \"text-align: left;\">integrale</td><td style = \"text-align: left;\">automatique</td><td style = \"text-align: left;\">13,8358823529412</td></tr><tr><td class = \"rowNumber\" style = \"font-weight: bold; text-align: right;\">2</td><td style = \"text-align: right;\">2020</td><td style = \"text-align: left;\">VUS_petit</td><td style = \"text-align: right;\">4</td><td style = \"text-align: left;\">2</td><td style = \"text-align: left;\">integrale</td><td style = \"text-align: left;\">automatique</td><td style = \"text-align: left;\">9,80041666666667</td></tr><tr><td class = \"rowNumber\" style = \"font-weight: bold; text-align: right;\">3</td><td style = \"text-align: right;\">2021</td><td style = \"text-align: left;\">voiture_compacte</td><td style = \"text-align: right;\">6</td><td style = \"text-align: left;\">3,3</td><td style = \"text-align: left;\">propulsion</td><td style = \"text-align: left;\">automatique</td><td style = \"text-align: left;\">11,7605</td></tr><tr><td class = \"rowNumber\" style = \"font-weight: bold; text-align: right;\">4</td><td style = \"text-align: right;\">2023</td><td style = \"text-align: left;\">voiture_deux_places</td><td style = \"text-align: right;\">8</td><td style = \"text-align: left;\">5</td><td style = \"text-align: left;\">integrale</td><td style = \"text-align: left;\">automatique</td><td style = \"text-align: left;\">13,0672222222222</td></tr><tr><td class = \"rowNumber\" style = \"font-weight: bold; text-align: right;\">5</td><td style = \"text-align: right;\">2022</td><td style = \"text-align: left;\">voiture_moyenne</td><td style = \"text-align: right;\">8</td><td style = \"text-align: left;\">4,4</td><td style = \"text-align: left;\">integrale</td><td style = \"text-align: left;\">automatique</td><td style = \"text-align: left;\">13,8358823529412</td></tr></tbody></table></div>"
      ],
      "text/latex": [
       "\\begin{tabular}{r|ccccccc}\n",
       "\t& annee & type & nombre\\_cylindres & cylindree & transmission & boite & \\\\\n",
       "\t\\hline\n",
       "\t& Int64 & String31 & Int64 & String3 & String15 & String15 & \\\\\n",
       "\t\\hline\n",
       "\t1 & 2023 & voiture\\_moyenne & 8 & 4,4 & integrale & automatique & $\\dots$ \\\\\n",
       "\t2 & 2020 & VUS\\_petit & 4 & 2 & integrale & automatique & $\\dots$ \\\\\n",
       "\t3 & 2021 & voiture\\_compacte & 6 & 3,3 & propulsion & automatique & $\\dots$ \\\\\n",
       "\t4 & 2023 & voiture\\_deux\\_places & 8 & 5 & integrale & automatique & $\\dots$ \\\\\n",
       "\t5 & 2022 & voiture\\_moyenne & 8 & 4,4 & integrale & automatique & $\\dots$ \\\\\n",
       "\\end{tabular}\n"
      ],
      "text/plain": [
       "\u001b[1m5×7 DataFrame\u001b[0m\n",
       "\u001b[1m Row \u001b[0m│\u001b[1m annee \u001b[0m\u001b[1m type                \u001b[0m\u001b[1m nombre_cylindres \u001b[0m\u001b[1m cylindree \u001b[0m\u001b[1m transmission \u001b[0m\u001b[1m \u001b[0m ⋯\n",
       "     │\u001b[90m Int64 \u001b[0m\u001b[90m String31            \u001b[0m\u001b[90m Int64            \u001b[0m\u001b[90m String3   \u001b[0m\u001b[90m String15     \u001b[0m\u001b[90m \u001b[0m ⋯\n",
       "─────┼──────────────────────────────────────────────────────────────────────────\n",
       "   1 │  2023  voiture_moyenne                     8  4,4        integrale      ⋯\n",
       "   2 │  2020  VUS_petit                           4  2          integrale\n",
       "   3 │  2021  voiture_compacte                    6  3,3        propulsion\n",
       "   4 │  2023  voiture_deux_places                 8  5          integrale\n",
       "   5 │  2022  voiture_moyenne                     8  4,4        integrale      ⋯\n",
       "\u001b[36m                                                               2 columns omitted\u001b[0m"
      ]
     },
     "execution_count": 126,
     "metadata": {},
     "output_type": "execute_result"
    }
   ],
   "source": [
    "trainData = CSV.read(\"./data/train.csv\", DataFrame)\n",
    "testData = CSV.read(\"./data/test.csv\", DataFrame)\n",
    "first(trainData, 5)"
   ]
  },
  {
   "cell_type": "code",
   "execution_count": 127,
   "metadata": {},
   "outputs": [
    {
     "data": {
      "text/plain": [
       "150-element Vector{Float64}:\n",
       " 2.5\n",
       " 2.5\n",
       " 2.5\n",
       " 2.0\n",
       " 5.8\n",
       " 5.0\n",
       " 5.0\n",
       " 2.4\n",
       " 3.5\n",
       " 5.2\n",
       " 5.2\n",
       " 5.9\n",
       " 2.0\n",
       " ⋮\n",
       " 1.6\n",
       " 3.3\n",
       " 5.0\n",
       " 2.0\n",
       " 2.0\n",
       " 1.6\n",
       " 2.0\n",
       " 2.0\n",
       " 3.0\n",
       " 3.0\n",
       " 1.5\n",
       " 2.0"
      ]
     },
     "execution_count": 127,
     "metadata": {},
     "output_type": "execute_result"
    }
   ],
   "source": [
    "trainData.consommation = parse.(Float64,replace.(trainData.consommation, \",\" => \".\"))\n",
    "trainData.cylindree = parse.(Float64,replace.(trainData.cylindree, \",\" => \".\")) \n",
    "\n",
    "testData.cylindree = parse.(Float64,replace.(testData.cylindree, \",\" => \".\"))"
   ]
  },
  {
   "cell_type": "code",
   "execution_count": 128,
   "metadata": {},
   "outputs": [
    {
     "data": {
      "text/plain": [
       "25-element Vector{Float64}:\n",
       "  4.52326923076923\n",
       "  4.90020833333333\n",
       "  6.35702702702703\n",
       "  6.53361111111111\n",
       "  6.91794117647059\n",
       "  7.12757575757576\n",
       "  7.3503125\n",
       "  7.58741935483871\n",
       "  7.84033333333333\n",
       "  8.11068965517241\n",
       "  8.40035714285714\n",
       "  8.71148148148148\n",
       "  9.04653846153846\n",
       "  9.4084\n",
       "  9.80041666666667\n",
       " 10.2265217391304\n",
       " 10.6913636363636\n",
       " 11.2004761904762\n",
       " 11.7605\n",
       " 12.3794736842105\n",
       " 13.0672222222222\n",
       " 13.8358823529412\n",
       " 14.700625\n",
       " 15.6806666666667\n",
       " 16.8007142857143"
      ]
     },
     "execution_count": 128,
     "metadata": {},
     "output_type": "execute_result"
    }
   ],
   "source": [
    "possibles = sort(unique(trainData.consommation))"
   ]
  },
  {
   "cell_type": "code",
   "execution_count": null,
   "metadata": {},
   "outputs": [
    {
     "data": {
      "text/plain": [
       "findnearest (generic function with 1 method)"
      ]
     },
     "execution_count": 129,
     "metadata": {},
     "output_type": "execute_result"
    }
   ],
   "source": [
    "#= findnearest(A::Vector{Float64},t::Float64) = A[findmin(broadcast(abs,A.-t))[2]] =#"
   ]
  },
  {
   "cell_type": "code",
   "execution_count": 130,
   "metadata": {},
   "outputs": [
    {
     "data": {
      "text/plain": [
       "150-element Vector{Float64}:\n",
       " 10.0\n",
       " 10.0\n",
       " 10.0\n",
       "  8.0\n",
       " 46.4\n",
       " 40.0\n",
       " 40.0\n",
       "  9.6\n",
       " 21.0\n",
       " 52.0\n",
       " 52.0\n",
       " 70.80000000000001\n",
       "  8.0\n",
       "  ⋮\n",
       "  6.4\n",
       " 19.799999999999997\n",
       " 40.0\n",
       "  8.0\n",
       "  8.0\n",
       "  6.4\n",
       "  8.0\n",
       "  8.0\n",
       " 18.0\n",
       " 18.0\n",
       "  4.5\n",
       "  8.0"
      ]
     },
     "execution_count": 130,
     "metadata": {},
     "output_type": "execute_result"
    }
   ],
   "source": [
    "trainData[!,:volume_gaz] = trainData[!,:nombre_cylindres] .* trainData[!,:cylindree]\n",
    "\n",
    "testData[!,:volume_gaz] = testData[!,:nombre_cylindres] .* testData[!,:cylindree]"
   ]
  },
  {
   "cell_type": "code",
   "execution_count": 131,
   "metadata": {},
   "outputs": [
    {
     "data": {
      "text/plain": [
       "train_test_split (generic function with 3 methods)"
      ]
     },
     "execution_count": 131,
     "metadata": {},
     "output_type": "execute_result"
    }
   ],
   "source": [
    "function train_test_split(data, test_size=0.2, shuffle=true)\n",
    "    n = size(data, 1)\n",
    "    test_size = floor(Int, n * test_size)\n",
    "    \n",
    "    if shuffle\n",
    "        indices = randperm(n)\n",
    "    else\n",
    "        indices = 1:n\n",
    "    end\n",
    "    \n",
    "    test_indices = indices[1:test_size]\n",
    "    train_indices = indices[test_size+1:end]\n",
    "    \n",
    "    train_data = data[train_indices, :]\n",
    "    test_data = data[test_indices, :]\n",
    "    \n",
    "    return train_data, test_data\n",
    "end"
   ]
  },
  {
   "cell_type": "code",
   "execution_count": 41,
   "metadata": {},
   "outputs": [
    {
     "data": {
      "text/plain": [
       "norm_cols (generic function with 1 method)"
      ]
     },
     "execution_count": 41,
     "metadata": {},
     "output_type": "execute_result"
    }
   ],
   "source": [
    "function encode(data, column)\n",
    "    for c in unique(data[!, column])\n",
    "        data[!, Symbol(c)] = ifelse.(data[!, column] .== c, 1, 0)\n",
    "    end\n",
    "    return data\n",
    "end\n",
    "\n",
    "function encode_class(data)\n",
    "    return map(x -> findfirst(y -> y==x, possibles) , data.consommation)\n",
    "end\n",
    "\n",
    "function decode_class(data)\n",
    "    return map(x -> possibles[x], data)\n",
    "end\n",
    "\n",
    "function encode_data(data)\n",
    "    encoded_data = deepcopy(data)\n",
    "    encoded_data = encode(encoded_data, :type)\n",
    "    encoded_data = encode(encoded_data, :transmission)\n",
    "    encoded_data = encode(encoded_data, :boite)\n",
    "    encoded_data = encode(encoded_data, :nombre_cylindres)\n",
    "\n",
    "    return encoded_data\n",
    "end\n",
    "\n",
    "function removeRows(data)\n",
    "    return select!(data, Not([:type, :transmission, :boite, :nombre_cylindres]))\n",
    "end\n",
    "\n",
    "function normalize_column(data, column)\n",
    "    data[!, column] = (data[!, column] .- mean(data[!, column])) ./ std(data[!, column])\n",
    "    return data\n",
    "end\n",
    "\n",
    "function norm_cols(data)\n",
    "    normalized_data = deepcopy(data)\n",
    "    normalized_data = normalize_column(normalized_data, :cylindree)\n",
    "    normalized_data = normalize_column(normalized_data, :volume_gaz)\n",
    "    return normalized_data\n",
    "end"
   ]
  },
  {
   "cell_type": "markdown",
   "metadata": {},
   "source": [
    "chose à faire:\n",
    "\n",
    "1. retirer les dupliqués dans le train set par moyenne\n",
    "2. assigner la valeur du train set pour les dupliqués du train et test set\n",
    "3. seulement train sur les données uniques"
   ]
  },
  {
   "cell_type": "code",
   "execution_count": 132,
   "metadata": {},
   "outputs": [
    {
     "data": {
      "text/html": [
       "<div><div style = \"float: left;\"><span>278×8 DataFrame</span></div><div style = \"float: right;\"><span style = \"font-style: italic;\">253 rows omitted</span></div><div style = \"clear: both;\"></div></div><div class = \"data-frame\" style = \"overflow-x: scroll;\"><table class = \"data-frame\" style = \"margin-bottom: 6px;\"><thead><tr class = \"header\"><th class = \"rowNumber\" style = \"font-weight: bold; text-align: right;\">Row</th><th style = \"text-align: left;\">annee</th><th style = \"text-align: left;\">cylindree</th><th style = \"text-align: left;\">volume_gaz</th><th style = \"text-align: left;\">type</th><th style = \"text-align: left;\">transmission</th><th style = \"text-align: left;\">boite</th><th style = \"text-align: left;\">nombre_cylindres</th><th style = \"text-align: left;\">consommation</th></tr><tr class = \"subheader headerLastRow\"><th class = \"rowNumber\" style = \"font-weight: bold; text-align: right;\"></th><th title = \"Int64\" style = \"text-align: left;\">Int64</th><th title = \"Float64\" style = \"text-align: left;\">Float64</th><th title = \"Float64\" style = \"text-align: left;\">Float64</th><th title = \"String31\" style = \"text-align: left;\">String31</th><th title = \"String15\" style = \"text-align: left;\">String15</th><th title = \"String15\" style = \"text-align: left;\">String15</th><th title = \"Int64\" style = \"text-align: left;\">Int64</th><th title = \"Float64\" style = \"text-align: left;\">Float64</th></tr></thead><tbody><tr><td class = \"rowNumber\" style = \"font-weight: bold; text-align: right;\">1</td><td style = \"text-align: right;\">2023</td><td style = \"text-align: right;\">4.4</td><td style = \"text-align: right;\">35.2</td><td style = \"text-align: left;\">voiture_moyenne</td><td style = \"text-align: left;\">integrale</td><td style = \"text-align: left;\">automatique</td><td style = \"text-align: right;\">8</td><td style = \"text-align: right;\">12.8649</td></tr><tr><td class = \"rowNumber\" style = \"font-weight: bold; text-align: right;\">2</td><td style = \"text-align: right;\">2020</td><td style = \"text-align: right;\">2.0</td><td style = \"text-align: right;\">8.0</td><td style = \"text-align: left;\">VUS_petit</td><td style = \"text-align: left;\">integrale</td><td style = \"text-align: left;\">automatique</td><td style = \"text-align: right;\">4</td><td style = \"text-align: right;\">10.0909</td></tr><tr><td class = \"rowNumber\" style = \"font-weight: bold; text-align: right;\">3</td><td style = \"text-align: right;\">2021</td><td style = \"text-align: right;\">3.3</td><td style = \"text-align: right;\">19.8</td><td style = \"text-align: left;\">voiture_compacte</td><td style = \"text-align: left;\">propulsion</td><td style = \"text-align: left;\">automatique</td><td style = \"text-align: right;\">6</td><td style = \"text-align: right;\">11.7605</td></tr><tr><td class = \"rowNumber\" style = \"font-weight: bold; text-align: right;\">4</td><td style = \"text-align: right;\">2023</td><td style = \"text-align: right;\">5.0</td><td style = \"text-align: right;\">40.0</td><td style = \"text-align: left;\">voiture_deux_places</td><td style = \"text-align: left;\">integrale</td><td style = \"text-align: left;\">automatique</td><td style = \"text-align: right;\">8</td><td style = \"text-align: right;\">13.0672</td></tr><tr><td class = \"rowNumber\" style = \"font-weight: bold; text-align: right;\">5</td><td style = \"text-align: right;\">2022</td><td style = \"text-align: right;\">4.4</td><td style = \"text-align: right;\">35.2</td><td style = \"text-align: left;\">voiture_moyenne</td><td style = \"text-align: left;\">integrale</td><td style = \"text-align: left;\">automatique</td><td style = \"text-align: right;\">8</td><td style = \"text-align: right;\">13.8359</td></tr><tr><td class = \"rowNumber\" style = \"font-weight: bold; text-align: right;\">6</td><td style = \"text-align: right;\">2022</td><td style = \"text-align: right;\">1.5</td><td style = \"text-align: right;\">4.5</td><td style = \"text-align: left;\">voiture_minicompacte</td><td style = \"text-align: left;\">traction</td><td style = \"text-align: left;\">automatique</td><td style = \"text-align: right;\">3</td><td style = \"text-align: right;\">7.35031</td></tr><tr><td class = \"rowNumber\" style = \"font-weight: bold; text-align: right;\">7</td><td style = \"text-align: right;\">2024</td><td style = \"text-align: right;\">1.5</td><td style = \"text-align: right;\">4.5</td><td style = \"text-align: left;\">voiture_minicompacte</td><td style = \"text-align: left;\">traction</td><td style = \"text-align: left;\">manuelle</td><td style = \"text-align: right;\">3</td><td style = \"text-align: right;\">7.58742</td></tr><tr><td class = \"rowNumber\" style = \"font-weight: bold; text-align: right;\">8</td><td style = \"text-align: right;\">2020</td><td style = \"text-align: right;\">3.8</td><td style = \"text-align: right;\">22.8</td><td style = \"text-align: left;\">VUS_standard</td><td style = \"text-align: left;\">integrale</td><td style = \"text-align: left;\">automatique</td><td style = \"text-align: right;\">6</td><td style = \"text-align: right;\">11.2005</td></tr><tr><td class = \"rowNumber\" style = \"font-weight: bold; text-align: right;\">9</td><td style = \"text-align: right;\">2019</td><td style = \"text-align: right;\">3.3</td><td style = \"text-align: right;\">19.8</td><td style = \"text-align: left;\">voiture_compacte</td><td style = \"text-align: left;\">propulsion</td><td style = \"text-align: left;\">automatique</td><td style = \"text-align: right;\">6</td><td style = \"text-align: right;\">11.7605</td></tr><tr><td class = \"rowNumber\" style = \"font-weight: bold; text-align: right;\">10</td><td style = \"text-align: right;\">2016</td><td style = \"text-align: right;\">3.3</td><td style = \"text-align: right;\">19.8</td><td style = \"text-align: left;\">monospace</td><td style = \"text-align: left;\">traction</td><td style = \"text-align: left;\">automatique</td><td style = \"text-align: right;\">6</td><td style = \"text-align: right;\">11.7801</td></tr><tr><td class = \"rowNumber\" style = \"font-weight: bold; text-align: right;\">11</td><td style = \"text-align: right;\">2023</td><td style = \"text-align: right;\">5.0</td><td style = \"text-align: right;\">40.0</td><td style = \"text-align: left;\">VUS_standard</td><td style = \"text-align: left;\">4x4</td><td style = \"text-align: left;\">automatique</td><td style = \"text-align: right;\">8</td><td style = \"text-align: right;\">14.7006</td></tr><tr><td class = \"rowNumber\" style = \"font-weight: bold; text-align: right;\">12</td><td style = \"text-align: right;\">2024</td><td style = \"text-align: right;\">4.4</td><td style = \"text-align: right;\">35.2</td><td style = \"text-align: left;\">voiture_moyenne</td><td style = \"text-align: left;\">integrale</td><td style = \"text-align: left;\">automatique</td><td style = \"text-align: right;\">8</td><td style = \"text-align: right;\">12.3795</td></tr><tr><td class = \"rowNumber\" style = \"font-weight: bold; text-align: right;\">13</td><td style = \"text-align: right;\">2024</td><td style = \"text-align: right;\">3.0</td><td style = \"text-align: right;\">18.0</td><td style = \"text-align: left;\">voiture_sous_compacte</td><td style = \"text-align: left;\">propulsion</td><td style = \"text-align: left;\">automatique</td><td style = \"text-align: right;\">6</td><td style = \"text-align: right;\">11.0899</td></tr><tr><td style = \"text-align: right;\">&vellip;</td><td style = \"text-align: right;\">&vellip;</td><td style = \"text-align: right;\">&vellip;</td><td style = \"text-align: right;\">&vellip;</td><td style = \"text-align: right;\">&vellip;</td><td style = \"text-align: right;\">&vellip;</td><td style = \"text-align: right;\">&vellip;</td><td style = \"text-align: right;\">&vellip;</td><td style = \"text-align: right;\">&vellip;</td></tr><tr><td class = \"rowNumber\" style = \"font-weight: bold; text-align: right;\">267</td><td style = \"text-align: right;\">2016</td><td style = \"text-align: right;\">2.0</td><td style = \"text-align: right;\">8.0</td><td style = \"text-align: left;\">VUS_petit</td><td style = \"text-align: left;\">traction</td><td style = \"text-align: left;\">automatique</td><td style = \"text-align: right;\">4</td><td style = \"text-align: right;\">10.2265</td></tr><tr><td class = \"rowNumber\" style = \"font-weight: bold; text-align: right;\">268</td><td style = \"text-align: right;\">2018</td><td style = \"text-align: right;\">3.0</td><td style = \"text-align: right;\">18.0</td><td style = \"text-align: left;\">voiture_sous_compacte</td><td style = \"text-align: left;\">propulsion</td><td style = \"text-align: left;\">manuelle</td><td style = \"text-align: right;\">6</td><td style = \"text-align: right;\">11.7605</td></tr><tr><td class = \"rowNumber\" style = \"font-weight: bold; text-align: right;\">269</td><td style = \"text-align: right;\">2019</td><td style = \"text-align: right;\">3.5</td><td style = \"text-align: right;\">21.0</td><td style = \"text-align: left;\">voiture_compacte</td><td style = \"text-align: left;\">integrale</td><td style = \"text-align: left;\">automatique</td><td style = \"text-align: right;\">6</td><td style = \"text-align: right;\">10.2265</td></tr><tr><td class = \"rowNumber\" style = \"font-weight: bold; text-align: right;\">270</td><td style = \"text-align: right;\">2019</td><td style = \"text-align: right;\">2.0</td><td style = \"text-align: right;\">8.0</td><td style = \"text-align: left;\">voiture_minicompacte</td><td style = \"text-align: left;\">traction</td><td style = \"text-align: left;\">manuelle</td><td style = \"text-align: right;\">4</td><td style = \"text-align: right;\">9.04654</td></tr><tr><td class = \"rowNumber\" style = \"font-weight: bold; text-align: right;\">271</td><td style = \"text-align: right;\">2021</td><td style = \"text-align: right;\">3.3</td><td style = \"text-align: right;\">19.8</td><td style = \"text-align: left;\">voiture_compacte</td><td style = \"text-align: left;\">integrale</td><td style = \"text-align: left;\">automatique</td><td style = \"text-align: right;\">6</td><td style = \"text-align: right;\">11.7605</td></tr><tr><td class = \"rowNumber\" style = \"font-weight: bold; text-align: right;\">272</td><td style = \"text-align: right;\">2018</td><td style = \"text-align: right;\">2.0</td><td style = \"text-align: right;\">8.0</td><td style = \"text-align: left;\">voiture_sous_compacte</td><td style = \"text-align: left;\">propulsion</td><td style = \"text-align: left;\">automatique</td><td style = \"text-align: right;\">4</td><td style = \"text-align: right;\">8.71148</td></tr><tr><td class = \"rowNumber\" style = \"font-weight: bold; text-align: right;\">273</td><td style = \"text-align: right;\">2014</td><td style = \"text-align: right;\">3.8</td><td style = \"text-align: right;\">22.8</td><td style = \"text-align: left;\">voiture_sous_compacte</td><td style = \"text-align: left;\">integrale</td><td style = \"text-align: left;\">automatique</td><td style = \"text-align: right;\">6</td><td style = \"text-align: right;\">12.3795</td></tr><tr><td class = \"rowNumber\" style = \"font-weight: bold; text-align: right;\">274</td><td style = \"text-align: right;\">2016</td><td style = \"text-align: right;\">3.5</td><td style = \"text-align: right;\">21.0</td><td style = \"text-align: left;\">voiture_moyenne</td><td style = \"text-align: left;\">integrale</td><td style = \"text-align: left;\">automatique</td><td style = \"text-align: right;\">6</td><td style = \"text-align: right;\">7.84033</td></tr><tr><td class = \"rowNumber\" style = \"font-weight: bold; text-align: right;\">275</td><td style = \"text-align: right;\">2024</td><td style = \"text-align: right;\">2.0</td><td style = \"text-align: right;\">8.0</td><td style = \"text-align: left;\">voiture_compacte</td><td style = \"text-align: left;\">integrale</td><td style = \"text-align: left;\">automatique</td><td style = \"text-align: right;\">4</td><td style = \"text-align: right;\">8.71148</td></tr><tr><td class = \"rowNumber\" style = \"font-weight: bold; text-align: right;\">276</td><td style = \"text-align: right;\">2023</td><td style = \"text-align: right;\">3.3</td><td style = \"text-align: right;\">19.8</td><td style = \"text-align: left;\">voiture_compacte</td><td style = \"text-align: left;\">propulsion</td><td style = \"text-align: left;\">automatique</td><td style = \"text-align: right;\">6</td><td style = \"text-align: right;\">11.2005</td></tr><tr><td class = \"rowNumber\" style = \"font-weight: bold; text-align: right;\">277</td><td style = \"text-align: right;\">2019</td><td style = \"text-align: right;\">1.5</td><td style = \"text-align: right;\">4.5</td><td style = \"text-align: left;\">voiture_minicompacte</td><td style = \"text-align: left;\">traction</td><td style = \"text-align: left;\">automatique</td><td style = \"text-align: right;\">3</td><td style = \"text-align: right;\">7.84033</td></tr><tr><td class = \"rowNumber\" style = \"font-weight: bold; text-align: right;\">278</td><td style = \"text-align: right;\">2022</td><td style = \"text-align: right;\">3.3</td><td style = \"text-align: right;\">19.8</td><td style = \"text-align: left;\">voiture_compacte</td><td style = \"text-align: left;\">propulsion</td><td style = \"text-align: left;\">automatique</td><td style = \"text-align: right;\">6</td><td style = \"text-align: right;\">11.2005</td></tr></tbody></table></div>"
      ],
      "text/latex": [
       "\\begin{tabular}{r|ccccccc}\n",
       "\t& annee & cylindree & volume\\_gaz & type & transmission & boite & \\\\\n",
       "\t\\hline\n",
       "\t& Int64 & Float64 & Float64 & String31 & String15 & String15 & \\\\\n",
       "\t\\hline\n",
       "\t1 & 2023 & 4.4 & 35.2 & voiture\\_moyenne & integrale & automatique & $\\dots$ \\\\\n",
       "\t2 & 2020 & 2.0 & 8.0 & VUS\\_petit & integrale & automatique & $\\dots$ \\\\\n",
       "\t3 & 2021 & 3.3 & 19.8 & voiture\\_compacte & propulsion & automatique & $\\dots$ \\\\\n",
       "\t4 & 2023 & 5.0 & 40.0 & voiture\\_deux\\_places & integrale & automatique & $\\dots$ \\\\\n",
       "\t5 & 2022 & 4.4 & 35.2 & voiture\\_moyenne & integrale & automatique & $\\dots$ \\\\\n",
       "\t6 & 2022 & 1.5 & 4.5 & voiture\\_minicompacte & traction & automatique & $\\dots$ \\\\\n",
       "\t7 & 2024 & 1.5 & 4.5 & voiture\\_minicompacte & traction & manuelle & $\\dots$ \\\\\n",
       "\t8 & 2020 & 3.8 & 22.8 & VUS\\_standard & integrale & automatique & $\\dots$ \\\\\n",
       "\t9 & 2019 & 3.3 & 19.8 & voiture\\_compacte & propulsion & automatique & $\\dots$ \\\\\n",
       "\t10 & 2016 & 3.3 & 19.8 & monospace & traction & automatique & $\\dots$ \\\\\n",
       "\t11 & 2023 & 5.0 & 40.0 & VUS\\_standard & 4x4 & automatique & $\\dots$ \\\\\n",
       "\t12 & 2024 & 4.4 & 35.2 & voiture\\_moyenne & integrale & automatique & $\\dots$ \\\\\n",
       "\t13 & 2024 & 3.0 & 18.0 & voiture\\_sous\\_compacte & propulsion & automatique & $\\dots$ \\\\\n",
       "\t14 & 2021 & 3.0 & 18.0 & voiture\\_deux\\_places & propulsion & automatique & $\\dots$ \\\\\n",
       "\t15 & 2021 & 3.6 & 21.6 & camionnette\\_petit & propulsion & automatique & $\\dots$ \\\\\n",
       "\t16 & 2018 & 2.0 & 8.0 & voiture\\_compacte & propulsion & manuelle & $\\dots$ \\\\\n",
       "\t17 & 2020 & 5.0 & 40.0 & VUS\\_petit & integrale & automatique & $\\dots$ \\\\\n",
       "\t18 & 2020 & 3.0 & 18.0 & voiture\\_deux\\_places & integrale & automatique & $\\dots$ \\\\\n",
       "\t19 & 2019 & 2.5 & 10.0 & VUS\\_petit & traction & automatique & $\\dots$ \\\\\n",
       "\t20 & 2015 & 3.8 & 22.8 & voiture\\_sous\\_compacte & integrale & automatique & $\\dots$ \\\\\n",
       "\t21 & 2016 & 2.5 & 10.0 & voiture\\_moyenne & traction & automatique & $\\dots$ \\\\\n",
       "\t22 & 2014 & 5.9 & 70.8 & voiture\\_minicompacte & propulsion & automatique & $\\dots$ \\\\\n",
       "\t23 & 2020 & 2.0 & 8.0 & voiture\\_moyenne & integrale & automatique & $\\dots$ \\\\\n",
       "\t24 & 2015 & 6.2 & 49.6 & VUS\\_standard & 4x4 & automatique & $\\dots$ \\\\\n",
       "\t25 & 2016 & 3.0 & 18.0 & voiture\\_moyenne & integrale & automatique & $\\dots$ \\\\\n",
       "\t26 & 2020 & 1.6 & 6.4 & break\\_petit & traction & automatique & $\\dots$ \\\\\n",
       "\t27 & 2019 & 3.5 & 21.0 & voiture\\_compacte & traction & automatique & $\\dots$ \\\\\n",
       "\t28 & 2019 & 2.4 & 9.6 & VUS\\_petit & integrale & automatique & $\\dots$ \\\\\n",
       "\t29 & 2020 & 3.0 & 18.0 & voiture\\_deux\\_places & propulsion & automatique & $\\dots$ \\\\\n",
       "\t30 & 2022 & 2.4 & 9.6 & VUS\\_petit & integrale & automatique & $\\dots$ \\\\\n",
       "\t$\\dots$ & $\\dots$ & $\\dots$ & $\\dots$ & $\\dots$ & $\\dots$ & $\\dots$ &  \\\\\n",
       "\\end{tabular}\n"
      ],
      "text/plain": [
       "\u001b[1m278×8 DataFrame\u001b[0m\n",
       "\u001b[1m Row \u001b[0m│\u001b[1m annee \u001b[0m\u001b[1m cylindree \u001b[0m\u001b[1m volume_gaz \u001b[0m\u001b[1m type                  \u001b[0m\u001b[1m transmission \u001b[0m\u001b[1m boit\u001b[0m ⋯\n",
       "     │\u001b[90m Int64 \u001b[0m\u001b[90m Float64   \u001b[0m\u001b[90m Float64    \u001b[0m\u001b[90m String31              \u001b[0m\u001b[90m String15     \u001b[0m\u001b[90m Stri\u001b[0m ⋯\n",
       "─────┼──────────────────────────────────────────────────────────────────────────\n",
       "   1 │  2023        4.4        35.2  voiture_moyenne        integrale     auto ⋯\n",
       "   2 │  2020        2.0         8.0  VUS_petit              integrale     auto\n",
       "   3 │  2021        3.3        19.8  voiture_compacte       propulsion    auto\n",
       "   4 │  2023        5.0        40.0  voiture_deux_places    integrale     auto\n",
       "   5 │  2022        4.4        35.2  voiture_moyenne        integrale     auto ⋯\n",
       "   6 │  2022        1.5         4.5  voiture_minicompacte   traction      auto\n",
       "   7 │  2024        1.5         4.5  voiture_minicompacte   traction      manu\n",
       "   8 │  2020        3.8        22.8  VUS_standard           integrale     auto\n",
       "   9 │  2019        3.3        19.8  voiture_compacte       propulsion    auto ⋯\n",
       "  10 │  2016        3.3        19.8  monospace              traction      auto\n",
       "  11 │  2023        5.0        40.0  VUS_standard           4x4           auto\n",
       "  ⋮  │   ⋮        ⋮          ⋮                 ⋮                 ⋮             ⋱\n",
       " 269 │  2019        3.5        21.0  voiture_compacte       integrale     auto\n",
       " 270 │  2019        2.0         8.0  voiture_minicompacte   traction      manu ⋯\n",
       " 271 │  2021        3.3        19.8  voiture_compacte       integrale     auto\n",
       " 272 │  2018        2.0         8.0  voiture_sous_compacte  propulsion    auto\n",
       " 273 │  2014        3.8        22.8  voiture_sous_compacte  integrale     auto\n",
       " 274 │  2016        3.5        21.0  voiture_moyenne        integrale     auto ⋯\n",
       " 275 │  2024        2.0         8.0  voiture_compacte       integrale     auto\n",
       " 276 │  2023        3.3        19.8  voiture_compacte       propulsion    auto\n",
       " 277 │  2019        1.5         4.5  voiture_minicompacte   traction      auto\n",
       " 278 │  2022        3.3        19.8  voiture_compacte       propulsion    auto ⋯\n",
       "\u001b[36m                                                  3 columns and 257 rows omitted\u001b[0m"
      ]
     },
     "execution_count": 132,
     "metadata": {},
     "output_type": "execute_result"
    }
   ],
   "source": [
    "#= trainData[trainData.annee .== 2014 .&& trainData.type .== \"voiture_sous_compacte\", :]\n",
    " =#\n",
    "#fuse duplicates in trainData and conommation by mean\n",
    "#= trainData = by(trainData, [:consommation, :cylindree, :volume_gaz, :type, :transmission, :boite, :nombre_cylindres], df -> DataFrame(prix = mean(df.prix), annee = mean(df.annee)))\n",
    " =#\n",
    "trainData = combine(x -> mean(x.consommation), groupby(trainData, [ :annee, :cylindree, :volume_gaz, :type, :transmission, :boite, :nombre_cylindres]))\n",
    "rename!(trainData, :x1 => :consommation)\n"
   ]
  },
  {
   "cell_type": "code",
   "execution_count": 134,
   "metadata": {},
   "outputs": [
    {
     "data": {
      "text/html": [
       "<div><div style = \"float: left;\"><span>150×8 DataFrame</span></div><div style = \"float: right;\"><span style = \"font-style: italic;\">125 rows omitted</span></div><div style = \"clear: both;\"></div></div><div class = \"data-frame\" style = \"overflow-x: scroll;\"><table class = \"data-frame\" style = \"margin-bottom: 6px;\"><thead><tr class = \"header\"><th class = \"rowNumber\" style = \"font-weight: bold; text-align: right;\">Row</th><th style = \"text-align: left;\">annee</th><th style = \"text-align: left;\">type</th><th style = \"text-align: left;\">nombre_cylindres</th><th style = \"text-align: left;\">cylindree</th><th style = \"text-align: left;\">transmission</th><th style = \"text-align: left;\">boite</th><th style = \"text-align: left;\">volume_gaz</th><th style = \"text-align: left;\">consommation</th></tr><tr class = \"subheader headerLastRow\"><th class = \"rowNumber\" style = \"font-weight: bold; text-align: right;\"></th><th title = \"Int64\" style = \"text-align: left;\">Int64</th><th title = \"String31\" style = \"text-align: left;\">String31</th><th title = \"Int64\" style = \"text-align: left;\">Int64</th><th title = \"Float64\" style = \"text-align: left;\">Float64</th><th title = \"String15\" style = \"text-align: left;\">String15</th><th title = \"String15\" style = \"text-align: left;\">String15</th><th title = \"Float64\" style = \"text-align: left;\">Float64</th><th title = \"Union{Missing, Float64}\" style = \"text-align: left;\">Float64?</th></tr></thead><tbody><tr><td class = \"rowNumber\" style = \"font-weight: bold; text-align: right;\">1</td><td style = \"text-align: right;\">2020</td><td style = \"text-align: left;\">VUS_petit</td><td style = \"text-align: right;\">4</td><td style = \"text-align: right;\">2.0</td><td style = \"text-align: left;\">integrale</td><td style = \"text-align: left;\">automatique</td><td style = \"text-align: right;\">8.0</td><td style = \"text-align: right;\">10.0909</td></tr><tr><td class = \"rowNumber\" style = \"font-weight: bold; text-align: right;\">2</td><td style = \"text-align: right;\">2020</td><td style = \"text-align: left;\">VUS_petit</td><td style = \"text-align: right;\">4</td><td style = \"text-align: right;\">2.0</td><td style = \"text-align: left;\">integrale</td><td style = \"text-align: left;\">automatique</td><td style = \"text-align: right;\">8.0</td><td style = \"text-align: right;\">10.0909</td></tr><tr><td class = \"rowNumber\" style = \"font-weight: bold; text-align: right;\">3</td><td style = \"text-align: right;\">2023</td><td style = \"text-align: left;\">VUS_standard</td><td style = \"text-align: right;\">8</td><td style = \"text-align: right;\">5.0</td><td style = \"text-align: left;\">4x4</td><td style = \"text-align: left;\">automatique</td><td style = \"text-align: right;\">40.0</td><td style = \"text-align: right;\">14.7006</td></tr><tr><td class = \"rowNumber\" style = \"font-weight: bold; text-align: right;\">4</td><td style = \"text-align: right;\">2024</td><td style = \"text-align: left;\">voiture_sous_compacte</td><td style = \"text-align: right;\">6</td><td style = \"text-align: right;\">3.0</td><td style = \"text-align: left;\">propulsion</td><td style = \"text-align: left;\">automatique</td><td style = \"text-align: right;\">18.0</td><td style = \"text-align: right;\">11.0899</td></tr><tr><td class = \"rowNumber\" style = \"font-weight: bold; text-align: right;\">5</td><td style = \"text-align: right;\">2020</td><td style = \"text-align: left;\">voiture_moyenne</td><td style = \"text-align: right;\">4</td><td style = \"text-align: right;\">2.0</td><td style = \"text-align: left;\">integrale</td><td style = \"text-align: left;\">automatique</td><td style = \"text-align: right;\">8.0</td><td style = \"text-align: right;\">8.71148</td></tr><tr><td class = \"rowNumber\" style = \"font-weight: bold; text-align: right;\">6</td><td style = \"text-align: right;\">2015</td><td style = \"text-align: left;\">VUS_standard</td><td style = \"text-align: right;\">8</td><td style = \"text-align: right;\">6.2</td><td style = \"text-align: left;\">4x4</td><td style = \"text-align: left;\">automatique</td><td style = \"text-align: right;\">49.6</td><td style = \"text-align: right;\">14.7006</td></tr><tr><td class = \"rowNumber\" style = \"font-weight: bold; text-align: right;\">7</td><td style = \"text-align: right;\">2015</td><td style = \"text-align: left;\">VUS_standard</td><td style = \"text-align: right;\">8</td><td style = \"text-align: right;\">6.2</td><td style = \"text-align: left;\">4x4</td><td style = \"text-align: left;\">automatique</td><td style = \"text-align: right;\">49.6</td><td style = \"text-align: right;\">14.7006</td></tr><tr><td class = \"rowNumber\" style = \"font-weight: bold; text-align: right;\">8</td><td style = \"text-align: right;\">2019</td><td style = \"text-align: left;\">VUS_petit</td><td style = \"text-align: right;\">4</td><td style = \"text-align: right;\">2.4</td><td style = \"text-align: left;\">integrale</td><td style = \"text-align: left;\">automatique</td><td style = \"text-align: right;\">9.6</td><td style = \"text-align: right;\">9.80042</td></tr><tr><td class = \"rowNumber\" style = \"font-weight: bold; text-align: right;\">9</td><td style = \"text-align: right;\">2021</td><td style = \"text-align: left;\">VUS_petit</td><td style = \"text-align: right;\">4</td><td style = \"text-align: right;\">2.0</td><td style = \"text-align: left;\">traction</td><td style = \"text-align: left;\">automatique</td><td style = \"text-align: right;\">8.0</td><td style = \"text-align: right;\">7.58742</td></tr><tr><td class = \"rowNumber\" style = \"font-weight: bold; text-align: right;\">10</td><td style = \"text-align: right;\">2024</td><td style = \"text-align: left;\">voiture_sous_compacte</td><td style = \"text-align: right;\">4</td><td style = \"text-align: right;\">2.0</td><td style = \"text-align: left;\">integrale</td><td style = \"text-align: left;\">automatique</td><td style = \"text-align: right;\">8.0</td><td style = \"text-align: right;\">8.71148</td></tr><tr><td class = \"rowNumber\" style = \"font-weight: bold; text-align: right;\">11</td><td style = \"text-align: right;\">2018</td><td style = \"text-align: left;\">voiture_sous_compacte</td><td style = \"text-align: right;\">4</td><td style = \"text-align: right;\">2.0</td><td style = \"text-align: left;\">integrale</td><td style = \"text-align: left;\">automatique</td><td style = \"text-align: right;\">8.0</td><td style = \"text-align: right;\">8.87901</td></tr><tr><td class = \"rowNumber\" style = \"font-weight: bold; text-align: right;\">12</td><td style = \"text-align: right;\">2017</td><td style = \"text-align: left;\">VUS_petit</td><td style = \"text-align: right;\">4</td><td style = \"text-align: right;\">2.0</td><td style = \"text-align: left;\">integrale</td><td style = \"text-align: left;\">automatique</td><td style = \"text-align: right;\">8.0</td><td style = \"text-align: right;\">11.2005</td></tr><tr><td class = \"rowNumber\" style = \"font-weight: bold; text-align: right;\">13</td><td style = \"text-align: right;\">2022</td><td style = \"text-align: left;\">voiture_sous_compacte</td><td style = \"text-align: right;\">8</td><td style = \"text-align: right;\">4.4</td><td style = \"text-align: left;\">integrale</td><td style = \"text-align: left;\">automatique</td><td style = \"text-align: right;\">35.2</td><td style = \"text-align: right;\">12.6586</td></tr><tr><td style = \"text-align: right;\">&vellip;</td><td style = \"text-align: right;\">&vellip;</td><td style = \"text-align: right;\">&vellip;</td><td style = \"text-align: right;\">&vellip;</td><td style = \"text-align: right;\">&vellip;</td><td style = \"text-align: right;\">&vellip;</td><td style = \"text-align: right;\">&vellip;</td><td style = \"text-align: right;\">&vellip;</td><td style = \"text-align: right;\">&vellip;</td></tr><tr><td class = \"rowNumber\" style = \"font-weight: bold; text-align: right;\">139</td><td style = \"text-align: right;\">2022</td><td style = \"text-align: left;\">VUS_petit</td><td style = \"text-align: right;\">6</td><td style = \"text-align: right;\">3.5</td><td style = \"text-align: left;\">traction</td><td style = \"text-align: left;\">automatique</td><td style = \"text-align: right;\">21.0</td><td style = \"font-style: italic; text-align: right;\">missing</td></tr><tr><td class = \"rowNumber\" style = \"font-weight: bold; text-align: right;\">140</td><td style = \"text-align: right;\">2022</td><td style = \"text-align: left;\">VUS_petit</td><td style = \"text-align: right;\">4</td><td style = \"text-align: right;\">1.5</td><td style = \"text-align: left;\">4x4</td><td style = \"text-align: left;\">automatique</td><td style = \"text-align: right;\">6.0</td><td style = \"font-style: italic; text-align: right;\">missing</td></tr><tr><td class = \"rowNumber\" style = \"font-weight: bold; text-align: right;\">141</td><td style = \"text-align: right;\">2022</td><td style = \"text-align: left;\">VUS_petit</td><td style = \"text-align: right;\">4</td><td style = \"text-align: right;\">1.5</td><td style = \"text-align: left;\">4x4</td><td style = \"text-align: left;\">automatique</td><td style = \"text-align: right;\">6.0</td><td style = \"font-style: italic; text-align: right;\">missing</td></tr><tr><td class = \"rowNumber\" style = \"font-weight: bold; text-align: right;\">142</td><td style = \"text-align: right;\">2022</td><td style = \"text-align: left;\">voiture_moyenne</td><td style = \"text-align: right;\">3</td><td style = \"text-align: right;\">1.5</td><td style = \"text-align: left;\">traction</td><td style = \"text-align: left;\">automatique</td><td style = \"text-align: right;\">4.5</td><td style = \"font-style: italic; text-align: right;\">missing</td></tr><tr><td class = \"rowNumber\" style = \"font-weight: bold; text-align: right;\">143</td><td style = \"text-align: right;\">2022</td><td style = \"text-align: left;\">voiture_moyenne</td><td style = \"text-align: right;\">4</td><td style = \"text-align: right;\">2.0</td><td style = \"text-align: left;\">traction</td><td style = \"text-align: left;\">manuelle</td><td style = \"text-align: right;\">8.0</td><td style = \"font-style: italic; text-align: right;\">missing</td></tr><tr><td class = \"rowNumber\" style = \"font-weight: bold; text-align: right;\">144</td><td style = \"text-align: right;\">2023</td><td style = \"text-align: left;\">VUS_petit</td><td style = \"text-align: right;\">6</td><td style = \"text-align: right;\">3.5</td><td style = \"text-align: left;\">integrale</td><td style = \"text-align: left;\">automatique</td><td style = \"text-align: right;\">21.0</td><td style = \"font-style: italic; text-align: right;\">missing</td></tr><tr><td class = \"rowNumber\" style = \"font-weight: bold; text-align: right;\">145</td><td style = \"text-align: right;\">2023</td><td style = \"text-align: left;\">VUS_petit</td><td style = \"text-align: right;\">4</td><td style = \"text-align: right;\">1.6</td><td style = \"text-align: left;\">integrale</td><td style = \"text-align: left;\">automatique</td><td style = \"text-align: right;\">6.4</td><td style = \"font-style: italic; text-align: right;\">missing</td></tr><tr><td class = \"rowNumber\" style = \"font-weight: bold; text-align: right;\">146</td><td style = \"text-align: right;\">2023</td><td style = \"text-align: left;\">VUS_petit</td><td style = \"text-align: right;\">4</td><td style = \"text-align: right;\">1.6</td><td style = \"text-align: left;\">traction</td><td style = \"text-align: left;\">automatique</td><td style = \"text-align: right;\">6.4</td><td style = \"font-style: italic; text-align: right;\">missing</td></tr><tr><td class = \"rowNumber\" style = \"font-weight: bold; text-align: right;\">147</td><td style = \"text-align: right;\">2023</td><td style = \"text-align: left;\">voiture_moyenne</td><td style = \"text-align: right;\">6</td><td style = \"text-align: right;\">3.3</td><td style = \"text-align: left;\">propulsion</td><td style = \"text-align: left;\">automatique</td><td style = \"text-align: right;\">19.8</td><td style = \"font-style: italic; text-align: right;\">missing</td></tr><tr><td class = \"rowNumber\" style = \"font-weight: bold; text-align: right;\">148</td><td style = \"text-align: right;\">2024</td><td style = \"text-align: left;\">VUS_petit</td><td style = \"text-align: right;\">4</td><td style = \"text-align: right;\">2.0</td><td style = \"text-align: left;\">traction</td><td style = \"text-align: left;\">automatique</td><td style = \"text-align: right;\">8.0</td><td style = \"font-style: italic; text-align: right;\">missing</td></tr><tr><td class = \"rowNumber\" style = \"font-weight: bold; text-align: right;\">149</td><td style = \"text-align: right;\">2024</td><td style = \"text-align: left;\">VUS_petit</td><td style = \"text-align: right;\">4</td><td style = \"text-align: right;\">1.6</td><td style = \"text-align: left;\">integrale</td><td style = \"text-align: left;\">automatique</td><td style = \"text-align: right;\">6.4</td><td style = \"font-style: italic; text-align: right;\">missing</td></tr><tr><td class = \"rowNumber\" style = \"font-weight: bold; text-align: right;\">150</td><td style = \"text-align: right;\">2024</td><td style = \"text-align: left;\">voiture_sous_compacte</td><td style = \"text-align: right;\">6</td><td style = \"text-align: right;\">3.0</td><td style = \"text-align: left;\">propulsion</td><td style = \"text-align: left;\">manuelle</td><td style = \"text-align: right;\">18.0</td><td style = \"font-style: italic; text-align: right;\">missing</td></tr></tbody></table></div>"
      ],
      "text/latex": [
       "\\begin{tabular}{r|ccccccc}\n",
       "\t& annee & type & nombre\\_cylindres & cylindree & transmission & boite & \\\\\n",
       "\t\\hline\n",
       "\t& Int64 & String31 & Int64 & Float64 & String15 & String15 & \\\\\n",
       "\t\\hline\n",
       "\t1 & 2020 & VUS\\_petit & 4 & 2.0 & integrale & automatique & $\\dots$ \\\\\n",
       "\t2 & 2020 & VUS\\_petit & 4 & 2.0 & integrale & automatique & $\\dots$ \\\\\n",
       "\t3 & 2023 & VUS\\_standard & 8 & 5.0 & 4x4 & automatique & $\\dots$ \\\\\n",
       "\t4 & 2024 & voiture\\_sous\\_compacte & 6 & 3.0 & propulsion & automatique & $\\dots$ \\\\\n",
       "\t5 & 2020 & voiture\\_moyenne & 4 & 2.0 & integrale & automatique & $\\dots$ \\\\\n",
       "\t6 & 2015 & VUS\\_standard & 8 & 6.2 & 4x4 & automatique & $\\dots$ \\\\\n",
       "\t7 & 2015 & VUS\\_standard & 8 & 6.2 & 4x4 & automatique & $\\dots$ \\\\\n",
       "\t8 & 2019 & VUS\\_petit & 4 & 2.4 & integrale & automatique & $\\dots$ \\\\\n",
       "\t9 & 2021 & VUS\\_petit & 4 & 2.0 & traction & automatique & $\\dots$ \\\\\n",
       "\t10 & 2024 & voiture\\_sous\\_compacte & 4 & 2.0 & integrale & automatique & $\\dots$ \\\\\n",
       "\t11 & 2018 & voiture\\_sous\\_compacte & 4 & 2.0 & integrale & automatique & $\\dots$ \\\\\n",
       "\t12 & 2017 & VUS\\_petit & 4 & 2.0 & integrale & automatique & $\\dots$ \\\\\n",
       "\t13 & 2022 & voiture\\_sous\\_compacte & 8 & 4.4 & integrale & automatique & $\\dots$ \\\\\n",
       "\t14 & 2020 & voiture\\_deux\\_places & 4 & 2.0 & propulsion & automatique & $\\dots$ \\\\\n",
       "\t15 & 2024 & voiture\\_sous\\_compacte & 4 & 2.0 & traction & automatique & $\\dots$ \\\\\n",
       "\t16 & 2014 & voiture\\_sous\\_compacte & 8 & 5.0 & propulsion & manuelle & $\\dots$ \\\\\n",
       "\t17 & 2019 & VUS\\_petit & 4 & 2.0 & integrale & automatique & $\\dots$ \\\\\n",
       "\t18 & 2014 & VUS\\_petit & 4 & 2.0 & traction & automatique & $\\dots$ \\\\\n",
       "\t19 & 2017 & voiture\\_deux\\_places & 6 & 3.0 & propulsion & manuelle & $\\dots$ \\\\\n",
       "\t20 & 2022 & VUS\\_petit & 4 & 1.6 & integrale & automatique & $\\dots$ \\\\\n",
       "\t21 & 2022 & VUS\\_petit & 4 & 1.6 & integrale & automatique & $\\dots$ \\\\\n",
       "\t22 & 2024 & voiture\\_sous\\_compacte & 4 & 2.0 & propulsion & automatique & $\\dots$ \\\\\n",
       "\t23 & 2015 & VUS\\_standard & 8 & 5.3 & 4x4 & automatique & $\\dots$ \\\\\n",
       "\t24 & 2018 & voiture\\_compacte & 4 & 2.0 & integrale & automatique & $\\dots$ \\\\\n",
       "\t25 & 2019 & voiture\\_deux\\_places & 8 & 6.2 & propulsion & manuelle & $\\dots$ \\\\\n",
       "\t26 & 2018 & voiture\\_compacte & 6 & 3.0 & propulsion & automatique & $\\dots$ \\\\\n",
       "\t27 & 2015 & VUS\\_standard & 8 & 6.2 & propulsion & automatique & $\\dots$ \\\\\n",
       "\t28 & 2015 & VUS\\_standard & 8 & 6.2 & propulsion & automatique & $\\dots$ \\\\\n",
       "\t29 & 2022 & voiture\\_sous\\_compacte & 4 & 2.0 & traction & manuelle & $\\dots$ \\\\\n",
       "\t30 & 2020 & voiture\\_compacte & 4 & 1.8 & traction & automatique & $\\dots$ \\\\\n",
       "\t$\\dots$ & $\\dots$ & $\\dots$ & $\\dots$ & $\\dots$ & $\\dots$ & $\\dots$ &  \\\\\n",
       "\\end{tabular}\n"
      ],
      "text/plain": [
       "\u001b[1m150×8 DataFrame\u001b[0m\n",
       "\u001b[1m Row \u001b[0m│\u001b[1m annee \u001b[0m\u001b[1m type                  \u001b[0m\u001b[1m nombre_cylindres \u001b[0m\u001b[1m cylindree \u001b[0m\u001b[1m transmission\u001b[0m ⋯\n",
       "     │\u001b[90m Int64 \u001b[0m\u001b[90m String31              \u001b[0m\u001b[90m Int64            \u001b[0m\u001b[90m Float64   \u001b[0m\u001b[90m String15    \u001b[0m ⋯\n",
       "─────┼──────────────────────────────────────────────────────────────────────────\n",
       "   1 │  2020  VUS_petit                             4        2.0  integrale    ⋯\n",
       "   2 │  2020  VUS_petit                             4        2.0  integrale\n",
       "   3 │  2023  VUS_standard                          8        5.0  4x4\n",
       "   4 │  2024  voiture_sous_compacte                 6        3.0  propulsion\n",
       "   5 │  2020  voiture_moyenne                       4        2.0  integrale    ⋯\n",
       "   6 │  2015  VUS_standard                          8        6.2  4x4\n",
       "   7 │  2015  VUS_standard                          8        6.2  4x4\n",
       "   8 │  2019  VUS_petit                             4        2.4  integrale\n",
       "   9 │  2021  VUS_petit                             4        2.0  traction     ⋯\n",
       "  10 │  2024  voiture_sous_compacte                 4        2.0  integrale\n",
       "  11 │  2018  voiture_sous_compacte                 4        2.0  integrale\n",
       "  ⋮  │   ⋮              ⋮                   ⋮              ⋮           ⋮       ⋱\n",
       " 141 │  2022  VUS_petit                             4        1.5  4x4\n",
       " 142 │  2022  voiture_moyenne                       3        1.5  traction     ⋯\n",
       " 143 │  2022  voiture_moyenne                       4        2.0  traction\n",
       " 144 │  2023  VUS_petit                             6        3.5  integrale\n",
       " 145 │  2023  VUS_petit                             4        1.6  integrale\n",
       " 146 │  2023  VUS_petit                             4        1.6  traction     ⋯\n",
       " 147 │  2023  voiture_moyenne                       6        3.3  propulsion\n",
       " 148 │  2024  VUS_petit                             4        2.0  traction\n",
       " 149 │  2024  VUS_petit                             4        1.6  integrale\n",
       " 150 │  2024  voiture_sous_compacte                 6        3.0  propulsion   ⋯\n",
       "\u001b[36m                                                  3 columns and 129 rows omitted\u001b[0m"
      ]
     },
     "execution_count": 134,
     "metadata": {},
     "output_type": "execute_result"
    }
   ],
   "source": [
    "#mettre dans testData la moyenne des valeurs qui ont déjà apparues dans trainData\n",
    "testData = DataFrames.leftjoin(testData,unique(trainData), on = [:annee,\t:type,\t:nombre_cylindres,\t:cylindree,\t:transmission,\t:boite,\t:volume_gaz])"
   ]
  },
  {
   "cell_type": "code",
   "execution_count": null,
   "metadata": {},
   "outputs": [],
   "source": [
    "#SANS L'ANNEE\n",
    "#= testData = DataFrames.leftjoin(testData[:, Not(:annee)],unique(trainData), on = [\t:type,\t:nombre_cylindres,\t:cylindree,\t:transmission,\t:boite,\t:volume_gaz])[:, Not(:annee)] =#"
   ]
  },
  {
   "cell_type": "code",
   "execution_count": 94,
   "metadata": {},
   "outputs": [
    {
     "data": {
      "text/plain": [
       "((55, 7), (223, 7), (55,), (223,))"
      ]
     },
     "execution_count": 94,
     "metadata": {},
     "output_type": "execute_result"
    }
   ],
   "source": [
    "encoded_train = trainData\n",
    "#encoded_train = unique(encoded_train)\n",
    "#encoded_train = encode_data(encoded_train)\n",
    "#encoded_train = removeRows(encoded_train)\n",
    "#encoded_train.consommation = encode_class(trainData)\n",
    "\n",
    "#encoded_train.cylindree = encoded_train.cylindree .- minimum(encoded_train.cylindree)\n",
    "#encoded_train.volume_gaz = encoded_train.volume_gaz .- minimum(encoded_train.volume_gaz)\n",
    "#encoded_train.annee = encoded_train.annee .-minimum(encoded_train.annee)\n",
    "\n",
    "\n",
    "train, test= train_test_split(encoded_train)\n",
    "\n",
    "\n",
    "#= encoded_train =#\n",
    "\n",
    "X_train =  Matrix(train[:, Not(:consommation)])\n",
    "y_train = train.consommation\n",
    "X_test = Matrix(test[:, Not(:consommation)])\n",
    "y_test = test.consommation\n",
    "\n",
    "size(X_test),size(X_train),size(y_test),size(y_train)"
   ]
  },
  {
   "cell_type": "code",
   "execution_count": 136,
   "metadata": {},
   "outputs": [
    {
     "data": {
      "text/plain": [
       "74"
      ]
     },
     "execution_count": 136,
     "metadata": {},
     "output_type": "execute_result"
    }
   ],
   "source": [
    "#le nb de Missing dans le train et le test\n",
    "ismissing.(testData.consommation) |> sum"
   ]
  },
  {
   "cell_type": "code",
   "execution_count": 145,
   "metadata": {},
   "outputs": [
    {
     "name": "stdout",
     "output_type": "stream",
     "text": [
      "0.8386407174308851\n"
     ]
    }
   ],
   "source": [
    "    train, test= train_test_split(encoded_train)\n",
    "\n",
    "    X_train =  Matrix(train[:, Not(:consommation)])\n",
    "    y_train = train.consommation\n",
    "    X_test = Matrix(test[:, Not(:consommation)])\n",
    "    y_test = test.consommation\n",
    "\n",
    "\n",
    "    model = RandomForestClassifier()\n",
    "    DecisionTree.fit!(model, X_train, y_train)\n",
    "    y_pred = DecisionTree.predict(model, X_test)\n",
    "    #rmse\n",
    "    println(sqrt(mean((y_pred .- y_test).^2)))\n",
    "    #sqrt(mean((decode_class(y_pred) - decode_class(test.consommation)).^2))\n"
   ]
  },
  {
   "cell_type": "code",
   "execution_count": 154,
   "metadata": {},
   "outputs": [
    {
     "name": "stdout",
     "output_type": "stream",
     "text": [
      "[12.3794736842105, 7.12757575757576, 10.6913636363636, 10.2265217391304, 13.8358823529412, 8.71148148148148, 10.2265217391304, 9.04653846153846, 11.2004761904762, 7.58741935483871, 12.3794736842105, 10.6913636363636, 10.2265217391304, 10.2265217391304, 9.04653846153846, 11.7605, 9.80041666666667, 8.11068965517241, 10.2265217391304, 9.80041666666667, 13.0672222222222, 10.2265217391304, 13.8358823529412, 11.2004761904762, 13.0672222222222, 13.0672222222222, 10.6913636363636, 10.2265217391304, 9.04653846153846, 9.04653846153846, 9.04653846153846, 11.7605, 11.2004761904762, 11.2004761904762, 9.4084, 7.12757575757576, 11.2004761904762, 9.4084, 9.4084, 8.11068965517241, 10.6913636363636, 9.04653846153846, 8.71148148148148, 13.8358823529412, 10.2265217391304, 15.6806666666667, 9.04653846153846, 9.4084, 7.84033333333333, 7.58741935483871, 13.0672222222222, 9.80041666666667, 7.58741935483871, 13.8358823529412, 13.0672222222222, 11.2004761904762, 13.8358823529412, 8.71148148148148, 11.2004761904762, 10.2265217391304, 7.84033333333333, 9.4084, 11.7605, 8.11068965517241, 12.3794736842105, 9.04653846153846, 11.2004761904762, 9.4084, 10.6913636363636, 10.6913636363636, 11.2004761904762, 8.71148148148148, 9.04653846153846, 10.2265217391304, 11.7605, 13.0672222222222, 11.2004761904762, 9.80041666666667, 13.8358823529412]\n",
      "[13.8358823529412, 8.11068965517241, 10.6913636363636, 10.2265217391304, 12.3794736842105, 8.40035714285714, 10.2265217391304, 9.04653846153846, 9.4084, 7.58741935483871, 11.7605, 10.6913636363636, 10.6913636363636, 9.80041666666667, 9.04653846153846, 12.3794736842105, 9.80041666666667, 8.11068965517241, 10.6913636363636, 9.80041666666667, 12.3794736842105, 9.80041666666667, 13.8358823529412, 11.2004761904762, 13.0672222222222, 13.0672222222222, 10.6913636363636, 10.2265217391304, 8.71148148148148, 9.4084, 8.71148148148148, 11.2004761904762, 11.2004761904762, 11.2004761904762, 8.71148148148148, 8.40035714285714, 11.7605, 9.04653846153846, 9.4084, 7.84033333333333, 9.80041666666667, 9.04653846153846, 8.11068965517241, 16.8007142857143, 12.3794736842105, 15.6806666666667, 9.80041666666667, 8.11068965517241, 7.3503125, 7.58741935483871, 13.0672222222222, 12.3794736842105, 7.58741935483871, 13.8358823529412, 13.8358823529412, 11.7605, 16.8007142857143, 4.52326923076923, 10.6913636363636, 10.6913636363636, 6.91794117647059, 9.4084, 12.3794736842105, 8.11068965517241, 12.3794736842105, 8.71148148148148, 11.2004761904762, 11.7605, 11.7605, 10.2265217391304, 11.2004761904762, 8.71148148148148, 9.4084, 10.2265217391304, 11.7605, 13.0672222222222, 11.2004761904762, 10.6913636363636, 16.8007142857143]\n"
     ]
    }
   ],
   "source": [
    "println(decode_class(y_pred))\n",
    "println(decode_class(test.consommation))"
   ]
  },
  {
   "cell_type": "code",
   "execution_count": 146,
   "metadata": {},
   "outputs": [
    {
     "data": {
      "image/png": "[encoded data removed]",
      "image/svg+xml": [
       "<?xml version=\"1.0\" encoding=\"utf-8\"?>\n",
       "<svg xmlns=\"http://www.w3.org/2000/svg\" xmlns:xlink=\"http://www.w3.org/1999/xlink\" width=\"600\" height=\"400\" viewBox=\"0 0 2400 1600\">\n",
       "<defs>\n",
       "  <clipPath id=\"clip640\">\n",
       "    <rect x=\"0\" y=\"0\" width=\"2400\" height=\"1600\"/>\n",
       "  </clipPath>\n",
       "</defs>\n",
       "<path clip-path=\"url(#clip640)\" d=\"M0 1600 L2400 1600 L2400 0 L0 0  Z\" fill=\"#ffffff\" fill-rule=\"evenodd\" fill-opacity=\"1\"/>\n",
       "<defs>\n",
       "  <clipPath id=\"clip641\">\n",
       "    <rect x=\"480\" y=\"0\" width=\"1681\" height=\"1600\"/>\n",
       "  </clipPath>\n",
       "</defs>\n",
       "<path clip-path=\"url(#clip640)\" d=\"M169.121 1486.45 L2352.76 1486.45 L2352.76 47.2441 L169.121 47.2441  Z\" fill=\"#ffffff\" fill-rule=\"evenodd\" fill-opacity=\"1\"/>\n",
       "<defs>\n",
       "  <clipPath id=\"clip642\">\n",
       "    <rect x=\"169\" y=\"47\" width=\"2185\" height=\"1440\"/>\n",
       "  </clipPath>\n",
       "</defs>\n",
       "<polyline clip-path=\"url(#clip642)\" style=\"stroke:#000000; stroke-linecap:round; stroke-linejoin:round; stroke-width:2; stroke-opacity:0.1; fill:none\" points=\"391.511,1486.45 391.511,47.2441 \"/>\n",
       "<polyline clip-path=\"url(#clip642)\" style=\"stroke:#000000; stroke-linecap:round; stroke-linejoin:round; stroke-width:2; stroke-opacity:0.1; fill:none\" points=\"800.653,1486.45 800.653,47.2441 \"/>\n",
       "<polyline clip-path=\"url(#clip642)\" style=\"stroke:#000000; stroke-linecap:round; stroke-linejoin:round; stroke-width:2; stroke-opacity:0.1; fill:none\" points=\"1209.8,1486.45 1209.8,47.2441 \"/>\n",
       "<polyline clip-path=\"url(#clip642)\" style=\"stroke:#000000; stroke-linecap:round; stroke-linejoin:round; stroke-width:2; stroke-opacity:0.1; fill:none\" points=\"1618.94,1486.45 1618.94,47.2441 \"/>\n",
       "<polyline clip-path=\"url(#clip642)\" style=\"stroke:#000000; stroke-linecap:round; stroke-linejoin:round; stroke-width:2; stroke-opacity:0.1; fill:none\" points=\"2028.08,1486.45 2028.08,47.2441 \"/>\n",
       "<polyline clip-path=\"url(#clip642)\" style=\"stroke:#000000; stroke-linecap:round; stroke-linejoin:round; stroke-width:2; stroke-opacity:0.1; fill:none\" points=\"169.121,1486.45 2352.76,1486.45 \"/>\n",
       "<polyline clip-path=\"url(#clip642)\" style=\"stroke:#000000; stroke-linecap:round; stroke-linejoin:round; stroke-width:2; stroke-opacity:0.1; fill:none\" points=\"169.121,1274.8 2352.76,1274.8 \"/>\n",
       "<polyline clip-path=\"url(#clip642)\" style=\"stroke:#000000; stroke-linecap:round; stroke-linejoin:round; stroke-width:2; stroke-opacity:0.1; fill:none\" points=\"169.121,1063.15 2352.76,1063.15 \"/>\n",
       "<polyline clip-path=\"url(#clip642)\" style=\"stroke:#000000; stroke-linecap:round; stroke-linejoin:round; stroke-width:2; stroke-opacity:0.1; fill:none\" points=\"169.121,851.505 2352.76,851.505 \"/>\n",
       "<polyline clip-path=\"url(#clip642)\" style=\"stroke:#000000; stroke-linecap:round; stroke-linejoin:round; stroke-width:2; stroke-opacity:0.1; fill:none\" points=\"169.121,639.857 2352.76,639.857 \"/>\n",
       "<polyline clip-path=\"url(#clip642)\" style=\"stroke:#000000; stroke-linecap:round; stroke-linejoin:round; stroke-width:2; stroke-opacity:0.1; fill:none\" points=\"169.121,428.21 2352.76,428.21 \"/>\n",
       "<polyline clip-path=\"url(#clip642)\" style=\"stroke:#000000; stroke-linecap:round; stroke-linejoin:round; stroke-width:2; stroke-opacity:0.1; fill:none\" points=\"169.121,216.562 2352.76,216.562 \"/>\n",
       "<polyline clip-path=\"url(#clip640)\" style=\"stroke:#000000; stroke-linecap:round; stroke-linejoin:round; stroke-width:4; stroke-opacity:1; fill:none\" points=\"169.121,1486.45 2352.76,1486.45 \"/>\n",
       "<polyline clip-path=\"url(#clip640)\" style=\"stroke:#000000; stroke-linecap:round; stroke-linejoin:round; stroke-width:4; stroke-opacity:1; fill:none\" points=\"391.511,1486.45 391.511,1467.55 \"/>\n",
       "<polyline clip-path=\"url(#clip640)\" style=\"stroke:#000000; stroke-linecap:round; stroke-linejoin:round; stroke-width:4; stroke-opacity:1; fill:none\" points=\"800.653,1486.45 800.653,1467.55 \"/>\n",
       "<polyline clip-path=\"url(#clip640)\" style=\"stroke:#000000; stroke-linecap:round; stroke-linejoin:round; stroke-width:4; stroke-opacity:1; fill:none\" points=\"1209.8,1486.45 1209.8,1467.55 \"/>\n",
       "<polyline clip-path=\"url(#clip640)\" style=\"stroke:#000000; stroke-linecap:round; stroke-linejoin:round; stroke-width:4; stroke-opacity:1; fill:none\" points=\"1618.94,1486.45 1618.94,1467.55 \"/>\n",
       "<polyline clip-path=\"url(#clip640)\" style=\"stroke:#000000; stroke-linecap:round; stroke-linejoin:round; stroke-width:4; stroke-opacity:1; fill:none\" points=\"2028.08,1486.45 2028.08,1467.55 \"/>\n",
       "<path clip-path=\"url(#clip640)\" d=\"M368.652 1517.37 Q365.041 1517.37 363.212 1520.93 Q361.407 1524.47 361.407 1531.6 Q361.407 1538.71 363.212 1542.27 Q365.041 1545.82 368.652 1545.82 Q372.286 1545.82 374.092 1542.27 Q375.921 1538.71 375.921 1531.6 Q375.921 1524.47 374.092 1520.93 Q372.286 1517.37 368.652 1517.37 M368.652 1513.66 Q374.462 1513.66 377.518 1518.27 Q380.596 1522.85 380.596 1531.6 Q380.596 1540.33 377.518 1544.94 Q374.462 1549.52 368.652 1549.52 Q362.842 1549.52 359.763 1544.94 Q356.708 1540.33 356.708 1531.6 Q356.708 1522.85 359.763 1518.27 Q362.842 1513.66 368.652 1513.66 Z\" fill=\"#000000\" fill-rule=\"nonzero\" fill-opacity=\"1\" /><path clip-path=\"url(#clip640)\" d=\"M388.814 1542.97 L393.698 1542.97 L393.698 1548.85 L388.814 1548.85 L388.814 1542.97 Z\" fill=\"#000000\" fill-rule=\"nonzero\" fill-opacity=\"1\" /><path clip-path=\"url(#clip640)\" d=\"M416.731 1518.36 L404.925 1536.81 L416.731 1536.81 L416.731 1518.36 M415.504 1514.29 L421.383 1514.29 L421.383 1536.81 L426.314 1536.81 L426.314 1540.7 L421.383 1540.7 L421.383 1548.85 L416.731 1548.85 L416.731 1540.7 L401.129 1540.7 L401.129 1536.19 L415.504 1514.29 Z\" fill=\"#000000\" fill-rule=\"nonzero\" fill-opacity=\"1\" /><path clip-path=\"url(#clip640)\" d=\"M777.957 1517.37 Q774.346 1517.37 772.517 1520.93 Q770.711 1524.47 770.711 1531.6 Q770.711 1538.71 772.517 1542.27 Q774.346 1545.82 777.957 1545.82 Q781.591 1545.82 783.396 1542.27 Q785.225 1538.71 785.225 1531.6 Q785.225 1524.47 783.396 1520.93 Q781.591 1517.37 777.957 1517.37 M777.957 1513.66 Q783.767 1513.66 786.822 1518.27 Q789.901 1522.85 789.901 1531.6 Q789.901 1540.33 786.822 1544.94 Q783.767 1549.52 777.957 1549.52 Q772.146 1549.52 769.068 1544.94 Q766.012 1540.33 766.012 1531.6 Q766.012 1522.85 769.068 1518.27 Q772.146 1513.66 777.957 1513.66 Z\" fill=\"#000000\" fill-rule=\"nonzero\" fill-opacity=\"1\" /><path clip-path=\"url(#clip640)\" d=\"M798.119 1542.97 L803.003 1542.97 L803.003 1548.85 L798.119 1548.85 L798.119 1542.97 Z\" fill=\"#000000\" fill-rule=\"nonzero\" fill-opacity=\"1\" /><path clip-path=\"url(#clip640)\" d=\"M823.767 1529.7 Q820.618 1529.7 818.767 1531.86 Q816.938 1534.01 816.938 1537.76 Q816.938 1541.49 818.767 1543.66 Q820.618 1545.82 823.767 1545.82 Q826.915 1545.82 828.743 1543.66 Q830.595 1541.49 830.595 1537.76 Q830.595 1534.01 828.743 1531.86 Q826.915 1529.7 823.767 1529.7 M833.049 1515.05 L833.049 1519.31 Q831.29 1518.48 829.484 1518.04 Q827.702 1517.6 825.942 1517.6 Q821.313 1517.6 818.859 1520.72 Q816.429 1523.85 816.081 1530.17 Q817.447 1528.15 819.507 1527.09 Q821.568 1526 824.044 1526 Q829.253 1526 832.262 1529.17 Q835.294 1532.32 835.294 1537.76 Q835.294 1543.08 832.146 1546.3 Q828.998 1549.52 823.767 1549.52 Q817.771 1549.52 814.6 1544.94 Q811.429 1540.33 811.429 1531.6 Q811.429 1523.41 815.318 1518.55 Q819.206 1513.66 825.757 1513.66 Q827.517 1513.66 829.299 1514.01 Q831.104 1514.36 833.049 1515.05 Z\" fill=\"#000000\" fill-rule=\"nonzero\" fill-opacity=\"1\" /><path clip-path=\"url(#clip640)\" d=\"M1187.23 1517.37 Q1183.62 1517.37 1181.79 1520.93 Q1179.98 1524.47 1179.98 1531.6 Q1179.98 1538.71 1181.79 1542.27 Q1183.62 1545.82 1187.23 1545.82 Q1190.86 1545.82 1192.67 1542.27 Q1194.49 1538.71 1194.49 1531.6 Q1194.49 1524.47 1192.67 1520.93 Q1190.86 1517.37 1187.23 1517.37 M1187.23 1513.66 Q1193.04 1513.66 1196.09 1518.27 Q1199.17 1522.85 1199.17 1531.6 Q1199.17 1540.33 1196.09 1544.94 Q1193.04 1549.52 1187.23 1549.52 Q1181.42 1549.52 1178.34 1544.94 Q1175.28 1540.33 1175.28 1531.6 Q1175.28 1522.85 1178.34 1518.27 Q1181.42 1513.66 1187.23 1513.66 Z\" fill=\"#000000\" fill-rule=\"nonzero\" fill-opacity=\"1\" /><path clip-path=\"url(#clip640)\" d=\"M1207.39 1542.97 L1212.27 1542.97 L1212.27 1548.85 L1207.39 1548.85 L1207.39 1542.97 Z\" fill=\"#000000\" fill-rule=\"nonzero\" fill-opacity=\"1\" /><path clip-path=\"url(#clip640)\" d=\"M1232.46 1532.44 Q1229.12 1532.44 1227.2 1534.22 Q1225.3 1536 1225.3 1539.13 Q1225.3 1542.25 1227.2 1544.03 Q1229.12 1545.82 1232.46 1545.82 Q1235.79 1545.82 1237.71 1544.03 Q1239.63 1542.23 1239.63 1539.13 Q1239.63 1536 1237.71 1534.22 Q1235.81 1532.44 1232.46 1532.44 M1227.78 1530.45 Q1224.77 1529.7 1223.08 1527.64 Q1221.42 1525.58 1221.42 1522.62 Q1221.42 1518.48 1224.36 1516.07 Q1227.32 1513.66 1232.46 1513.66 Q1237.62 1513.66 1240.56 1516.07 Q1243.5 1518.48 1243.5 1522.62 Q1243.5 1525.58 1241.81 1527.64 Q1240.14 1529.7 1237.16 1530.45 Q1240.54 1531.23 1242.41 1533.52 Q1244.31 1535.82 1244.31 1539.13 Q1244.31 1544.15 1241.23 1546.83 Q1238.18 1549.52 1232.46 1549.52 Q1226.74 1549.52 1223.66 1546.83 Q1220.61 1544.15 1220.61 1539.13 Q1220.61 1535.82 1222.5 1533.52 Q1224.4 1531.23 1227.78 1530.45 M1226.07 1523.06 Q1226.07 1525.75 1227.74 1527.25 Q1229.43 1528.76 1232.46 1528.76 Q1235.47 1528.76 1237.16 1527.25 Q1238.87 1525.75 1238.87 1523.06 Q1238.87 1520.38 1237.16 1518.87 Q1235.47 1517.37 1232.46 1517.37 Q1229.43 1517.37 1227.74 1518.87 Q1226.07 1520.38 1226.07 1523.06 Z\" fill=\"#000000\" fill-rule=\"nonzero\" fill-opacity=\"1\" /><path clip-path=\"url(#clip640)\" d=\"M1586.09 1544.91 L1593.73 1544.91 L1593.73 1518.55 L1585.42 1520.21 L1585.42 1515.95 L1593.68 1514.29 L1598.36 1514.29 L1598.36 1544.91 L1606 1544.91 L1606 1548.85 L1586.09 1548.85 L1586.09 1544.91 Z\" fill=\"#000000\" fill-rule=\"nonzero\" fill-opacity=\"1\" /><path clip-path=\"url(#clip640)\" d=\"M1615.44 1542.97 L1620.33 1542.97 L1620.33 1548.85 L1615.44 1548.85 L1615.44 1542.97 Z\" fill=\"#000000\" fill-rule=\"nonzero\" fill-opacity=\"1\" /><path clip-path=\"url(#clip640)\" d=\"M1640.51 1517.37 Q1636.9 1517.37 1635.07 1520.93 Q1633.27 1524.47 1633.27 1531.6 Q1633.27 1538.71 1635.07 1542.27 Q1636.9 1545.82 1640.51 1545.82 Q1644.15 1545.82 1645.95 1542.27 Q1647.78 1538.71 1647.78 1531.6 Q1647.78 1524.47 1645.95 1520.93 Q1644.15 1517.37 1640.51 1517.37 M1640.51 1513.66 Q1646.32 1513.66 1649.38 1518.27 Q1652.46 1522.85 1652.46 1531.6 Q1652.46 1540.33 1649.38 1544.94 Q1646.32 1549.52 1640.51 1549.52 Q1634.7 1549.52 1631.62 1544.94 Q1628.57 1540.33 1628.57 1531.6 Q1628.57 1522.85 1631.62 1518.27 Q1634.7 1513.66 1640.51 1513.66 Z\" fill=\"#000000\" fill-rule=\"nonzero\" fill-opacity=\"1\" /><path clip-path=\"url(#clip640)\" d=\"M1996.03 1544.91 L2003.67 1544.91 L2003.67 1518.55 L1995.36 1520.21 L1995.36 1515.95 L2003.62 1514.29 L2008.3 1514.29 L2008.3 1544.91 L2015.94 1544.91 L2015.94 1548.85 L1996.03 1548.85 L1996.03 1544.91 Z\" fill=\"#000000\" fill-rule=\"nonzero\" fill-opacity=\"1\" /><path clip-path=\"url(#clip640)\" d=\"M2025.38 1542.97 L2030.27 1542.97 L2030.27 1548.85 L2025.38 1548.85 L2025.38 1542.97 Z\" fill=\"#000000\" fill-rule=\"nonzero\" fill-opacity=\"1\" /><path clip-path=\"url(#clip640)\" d=\"M2044.48 1544.91 L2060.8 1544.91 L2060.8 1548.85 L2038.86 1548.85 L2038.86 1544.91 Q2041.52 1542.16 2046.1 1537.53 Q2050.71 1532.88 2051.89 1531.53 Q2054.13 1529.01 2055.01 1527.27 Q2055.92 1525.51 2055.92 1523.82 Q2055.92 1521.07 2053.97 1519.33 Q2052.05 1517.6 2048.95 1517.6 Q2046.75 1517.6 2044.3 1518.36 Q2041.87 1519.13 2039.09 1520.68 L2039.09 1515.95 Q2041.91 1514.82 2044.37 1514.24 Q2046.82 1513.66 2048.86 1513.66 Q2054.23 1513.66 2057.42 1516.35 Q2060.62 1519.03 2060.62 1523.52 Q2060.62 1525.65 2059.81 1527.57 Q2059.02 1529.47 2056.91 1532.07 Q2056.33 1532.74 2053.23 1535.95 Q2050.13 1539.15 2044.48 1544.91 Z\" fill=\"#000000\" fill-rule=\"nonzero\" fill-opacity=\"1\" /><polyline clip-path=\"url(#clip640)\" style=\"stroke:#000000; stroke-linecap:round; stroke-linejoin:round; stroke-width:4; stroke-opacity:1; fill:none\" points=\"169.121,1486.45 169.121,47.2441 \"/>\n",
       "<polyline clip-path=\"url(#clip640)\" style=\"stroke:#000000; stroke-linecap:round; stroke-linejoin:round; stroke-width:4; stroke-opacity:1; fill:none\" points=\"169.121,1486.45 188.019,1486.45 \"/>\n",
       "<polyline clip-path=\"url(#clip640)\" style=\"stroke:#000000; stroke-linecap:round; stroke-linejoin:round; stroke-width:4; stroke-opacity:1; fill:none\" points=\"169.121,1274.8 188.019,1274.8 \"/>\n",
       "<polyline clip-path=\"url(#clip640)\" style=\"stroke:#000000; stroke-linecap:round; stroke-linejoin:round; stroke-width:4; stroke-opacity:1; fill:none\" points=\"169.121,1063.15 188.019,1063.15 \"/>\n",
       "<polyline clip-path=\"url(#clip640)\" style=\"stroke:#000000; stroke-linecap:round; stroke-linejoin:round; stroke-width:4; stroke-opacity:1; fill:none\" points=\"169.121,851.505 188.019,851.505 \"/>\n",
       "<polyline clip-path=\"url(#clip640)\" style=\"stroke:#000000; stroke-linecap:round; stroke-linejoin:round; stroke-width:4; stroke-opacity:1; fill:none\" points=\"169.121,639.857 188.019,639.857 \"/>\n",
       "<polyline clip-path=\"url(#clip640)\" style=\"stroke:#000000; stroke-linecap:round; stroke-linejoin:round; stroke-width:4; stroke-opacity:1; fill:none\" points=\"169.121,428.21 188.019,428.21 \"/>\n",
       "<polyline clip-path=\"url(#clip640)\" style=\"stroke:#000000; stroke-linecap:round; stroke-linejoin:round; stroke-width:4; stroke-opacity:1; fill:none\" points=\"169.121,216.562 188.019,216.562 \"/>\n",
       "<path clip-path=\"url(#clip640)\" d=\"M121.177 1472.25 Q117.566 1472.25 115.737 1475.81 Q113.932 1479.35 113.932 1486.48 Q113.932 1493.59 115.737 1497.15 Q117.566 1500.7 121.177 1500.7 Q124.811 1500.7 126.617 1497.15 Q128.445 1493.59 128.445 1486.48 Q128.445 1479.35 126.617 1475.81 Q124.811 1472.25 121.177 1472.25 M121.177 1468.54 Q126.987 1468.54 130.043 1473.15 Q133.121 1477.73 133.121 1486.48 Q133.121 1495.21 130.043 1499.82 Q126.987 1504.4 121.177 1504.4 Q115.367 1504.4 112.288 1499.82 Q109.233 1495.21 109.233 1486.48 Q109.233 1477.73 112.288 1473.15 Q115.367 1468.54 121.177 1468.54 Z\" fill=\"#000000\" fill-rule=\"nonzero\" fill-opacity=\"1\" /><path clip-path=\"url(#clip640)\" d=\"M85.0429 1288.15 L101.362 1288.15 L101.362 1292.08 L79.4179 1292.08 L79.4179 1288.15 Q82.0799 1285.39 86.6632 1280.76 Q91.2697 1276.11 92.4502 1274.77 Q94.6956 1272.24 95.5752 1270.51 Q96.478 1268.75 96.478 1267.06 Q96.478 1264.3 94.5336 1262.57 Q92.6123 1260.83 89.5104 1260.83 Q87.3114 1260.83 84.8577 1261.59 Q82.4271 1262.36 79.6494 1263.91 L79.6494 1259.19 Q82.4734 1258.05 84.9271 1257.47 Q87.3808 1256.9 89.4178 1256.9 Q94.7882 1256.9 97.9826 1259.58 Q101.177 1262.27 101.177 1266.76 Q101.177 1268.89 100.367 1270.81 Q99.5798 1272.71 97.4734 1275.3 Q96.8947 1275.97 93.7928 1279.19 Q90.691 1282.38 85.0429 1288.15 Z\" fill=\"#000000\" fill-rule=\"nonzero\" fill-opacity=\"1\" /><path clip-path=\"url(#clip640)\" d=\"M121.177 1260.6 Q117.566 1260.6 115.737 1264.16 Q113.932 1267.71 113.932 1274.83 Q113.932 1281.94 115.737 1285.51 Q117.566 1289.05 121.177 1289.05 Q124.811 1289.05 126.617 1285.51 Q128.445 1281.94 128.445 1274.83 Q128.445 1267.71 126.617 1264.16 Q124.811 1260.6 121.177 1260.6 M121.177 1256.9 Q126.987 1256.9 130.043 1261.5 Q133.121 1266.09 133.121 1274.83 Q133.121 1283.56 130.043 1288.17 Q126.987 1292.75 121.177 1292.75 Q115.367 1292.75 112.288 1288.17 Q109.233 1283.56 109.233 1274.83 Q109.233 1266.09 112.288 1261.5 Q115.367 1256.9 121.177 1256.9 Z\" fill=\"#000000\" fill-rule=\"nonzero\" fill-opacity=\"1\" /><path clip-path=\"url(#clip640)\" d=\"M93.8623 1049.95 L82.0568 1068.4 L93.8623 1068.4 L93.8623 1049.95 M92.6354 1045.87 L98.515 1045.87 L98.515 1068.4 L103.446 1068.4 L103.446 1072.28 L98.515 1072.28 L98.515 1080.43 L93.8623 1080.43 L93.8623 1072.28 L78.2605 1072.28 L78.2605 1067.77 L92.6354 1045.87 Z\" fill=\"#000000\" fill-rule=\"nonzero\" fill-opacity=\"1\" /><path clip-path=\"url(#clip640)\" d=\"M121.177 1048.95 Q117.566 1048.95 115.737 1052.52 Q113.932 1056.06 113.932 1063.19 Q113.932 1070.29 115.737 1073.86 Q117.566 1077.4 121.177 1077.4 Q124.811 1077.4 126.617 1073.86 Q128.445 1070.29 128.445 1063.19 Q128.445 1056.06 126.617 1052.52 Q124.811 1048.95 121.177 1048.95 M121.177 1045.25 Q126.987 1045.25 130.043 1049.85 Q133.121 1054.44 133.121 1063.19 Q133.121 1071.91 130.043 1076.52 Q126.987 1081.1 121.177 1081.1 Q115.367 1081.1 112.288 1076.52 Q109.233 1071.91 109.233 1063.19 Q109.233 1054.44 112.288 1049.85 Q115.367 1045.25 121.177 1045.25 Z\" fill=\"#000000\" fill-rule=\"nonzero\" fill-opacity=\"1\" /><path clip-path=\"url(#clip640)\" d=\"M91.5938 849.642 Q88.4456 849.642 86.5938 851.794 Q84.7651 853.947 84.7651 857.697 Q84.7651 861.424 86.5938 863.6 Q88.4456 865.753 91.5938 865.753 Q94.7419 865.753 96.5706 863.6 Q98.4224 861.424 98.4224 857.697 Q98.4224 853.947 96.5706 851.794 Q94.7419 849.642 91.5938 849.642 M100.876 834.989 L100.876 839.248 Q99.1169 838.415 97.3113 837.975 Q95.5289 837.535 93.7697 837.535 Q89.1401 837.535 86.6864 840.66 Q84.2558 843.785 83.9086 850.105 Q85.2743 848.091 87.3345 847.026 Q89.3947 845.938 91.8715 845.938 Q97.0798 845.938 100.089 849.109 Q103.121 852.257 103.121 857.697 Q103.121 863.021 99.9733 866.239 Q96.8252 869.456 91.5938 869.456 Q85.5984 869.456 82.4271 864.873 Q79.2559 860.267 79.2559 851.54 Q79.2559 843.345 83.1447 838.484 Q87.0336 833.6 93.5845 833.6 Q95.3437 833.6 97.1261 833.947 Q98.9317 834.294 100.876 834.989 Z\" fill=\"#000000\" fill-rule=\"nonzero\" fill-opacity=\"1\" /><path clip-path=\"url(#clip640)\" d=\"M121.177 837.304 Q117.566 837.304 115.737 840.869 Q113.932 844.41 113.932 851.54 Q113.932 858.646 115.737 862.211 Q117.566 865.753 121.177 865.753 Q124.811 865.753 126.617 862.211 Q128.445 858.646 128.445 851.54 Q128.445 844.41 126.617 840.869 Q124.811 837.304 121.177 837.304 M121.177 833.6 Q126.987 833.6 130.043 838.206 Q133.121 842.79 133.121 851.54 Q133.121 860.267 130.043 864.873 Q126.987 869.456 121.177 869.456 Q115.367 869.456 112.288 864.873 Q109.233 860.267 109.233 851.54 Q109.233 842.79 112.288 838.206 Q115.367 833.6 121.177 833.6 Z\" fill=\"#000000\" fill-rule=\"nonzero\" fill-opacity=\"1\" /><path clip-path=\"url(#clip640)\" d=\"M91.0151 640.725 Q87.6817 640.725 85.7605 642.508 Q83.8623 644.29 83.8623 647.415 Q83.8623 650.54 85.7605 652.323 Q87.6817 654.105 91.0151 654.105 Q94.3484 654.105 96.2697 652.323 Q98.1909 650.517 98.1909 647.415 Q98.1909 644.29 96.2697 642.508 Q94.3715 640.725 91.0151 640.725 M86.3392 638.735 Q83.3299 637.994 81.6401 635.934 Q79.9735 633.874 79.9735 630.911 Q79.9735 626.767 82.9133 624.36 Q85.8762 621.952 91.0151 621.952 Q96.1771 621.952 99.1169 624.36 Q102.057 626.767 102.057 630.911 Q102.057 633.874 100.367 635.934 Q98.7002 637.994 95.7141 638.735 Q99.0937 639.522 100.969 641.813 Q102.867 644.105 102.867 647.415 Q102.867 652.438 99.7882 655.124 Q96.7326 657.809 91.0151 657.809 Q85.2975 657.809 82.2188 655.124 Q79.1633 652.438 79.1633 647.415 Q79.1633 644.105 81.0614 641.813 Q82.9595 639.522 86.3392 638.735 M84.6262 631.351 Q84.6262 634.036 86.2929 635.54 Q87.9827 637.045 91.0151 637.045 Q94.0243 637.045 95.7141 635.54 Q97.4271 634.036 97.4271 631.351 Q97.4271 628.665 95.7141 627.161 Q94.0243 625.656 91.0151 625.656 Q87.9827 625.656 86.2929 627.161 Q84.6262 628.665 84.6262 631.351 Z\" fill=\"#000000\" fill-rule=\"nonzero\" fill-opacity=\"1\" /><path clip-path=\"url(#clip640)\" d=\"M121.177 625.656 Q117.566 625.656 115.737 629.221 Q113.932 632.763 113.932 639.892 Q113.932 646.999 115.737 650.563 Q117.566 654.105 121.177 654.105 Q124.811 654.105 126.617 650.563 Q128.445 646.999 128.445 639.892 Q128.445 632.763 126.617 629.221 Q124.811 625.656 121.177 625.656 M121.177 621.952 Q126.987 621.952 130.043 626.559 Q133.121 631.142 133.121 639.892 Q133.121 648.619 130.043 653.225 Q126.987 657.809 121.177 657.809 Q115.367 657.809 112.288 653.225 Q109.233 648.619 109.233 639.892 Q109.233 631.142 112.288 626.559 Q115.367 621.952 121.177 621.952 Z\" fill=\"#000000\" fill-rule=\"nonzero\" fill-opacity=\"1\" /><path clip-path=\"url(#clip640)\" d=\"M51.6634 441.555 L59.3023 441.555 L59.3023 415.189 L50.9921 416.856 L50.9921 412.596 L59.256 410.93 L63.9319 410.93 L63.9319 441.555 L71.5707 441.555 L71.5707 445.49 L51.6634 445.49 L51.6634 441.555 Z\" fill=\"#000000\" fill-rule=\"nonzero\" fill-opacity=\"1\" /><path clip-path=\"url(#clip640)\" d=\"M91.0151 414.008 Q87.404 414.008 85.5753 417.573 Q83.7697 421.115 83.7697 428.245 Q83.7697 435.351 85.5753 438.916 Q87.404 442.457 91.0151 442.457 Q94.6493 442.457 96.4548 438.916 Q98.2835 435.351 98.2835 428.245 Q98.2835 421.115 96.4548 417.573 Q94.6493 414.008 91.0151 414.008 M91.0151 410.305 Q96.8252 410.305 99.8808 414.911 Q102.959 419.495 102.959 428.245 Q102.959 436.971 99.8808 441.578 Q96.8252 446.161 91.0151 446.161 Q85.2049 446.161 82.1262 441.578 Q79.0707 436.971 79.0707 428.245 Q79.0707 419.495 82.1262 414.911 Q85.2049 410.305 91.0151 410.305 Z\" fill=\"#000000\" fill-rule=\"nonzero\" fill-opacity=\"1\" /><path clip-path=\"url(#clip640)\" d=\"M121.177 414.008 Q117.566 414.008 115.737 417.573 Q113.932 421.115 113.932 428.245 Q113.932 435.351 115.737 438.916 Q117.566 442.457 121.177 442.457 Q124.811 442.457 126.617 438.916 Q128.445 435.351 128.445 428.245 Q128.445 421.115 126.617 417.573 Q124.811 414.008 121.177 414.008 M121.177 410.305 Q126.987 410.305 130.043 414.911 Q133.121 419.495 133.121 428.245 Q133.121 436.971 130.043 441.578 Q126.987 446.161 121.177 446.161 Q115.367 446.161 112.288 441.578 Q109.233 436.971 109.233 428.245 Q109.233 419.495 112.288 414.911 Q115.367 410.305 121.177 410.305 Z\" fill=\"#000000\" fill-rule=\"nonzero\" fill-opacity=\"1\" /><path clip-path=\"url(#clip640)\" d=\"M51.6634 229.907 L59.3023 229.907 L59.3023 203.541 L50.9921 205.208 L50.9921 200.949 L59.256 199.282 L63.9319 199.282 L63.9319 229.907 L71.5707 229.907 L71.5707 233.842 L51.6634 233.842 L51.6634 229.907 Z\" fill=\"#000000\" fill-rule=\"nonzero\" fill-opacity=\"1\" /><path clip-path=\"url(#clip640)\" d=\"M85.0429 229.907 L101.362 229.907 L101.362 233.842 L79.4179 233.842 L79.4179 229.907 Q82.0799 227.152 86.6632 222.523 Q91.2697 217.87 92.4502 216.527 Q94.6956 214.004 95.5752 212.268 Q96.478 210.509 96.478 208.819 Q96.478 206.065 94.5336 204.328 Q92.6123 202.592 89.5104 202.592 Q87.3114 202.592 84.8577 203.356 Q82.4271 204.12 79.6494 205.671 L79.6494 200.949 Q82.4734 199.815 84.9271 199.236 Q87.3808 198.657 89.4178 198.657 Q94.7882 198.657 97.9826 201.342 Q101.177 204.028 101.177 208.518 Q101.177 210.648 100.367 212.569 Q99.5798 214.467 97.4734 217.06 Q96.8947 217.731 93.7928 220.949 Q90.691 224.143 85.0429 229.907 Z\" fill=\"#000000\" fill-rule=\"nonzero\" fill-opacity=\"1\" /><path clip-path=\"url(#clip640)\" d=\"M121.177 202.361 Q117.566 202.361 115.737 205.926 Q113.932 209.467 113.932 216.597 Q113.932 223.703 115.737 227.268 Q117.566 230.81 121.177 230.81 Q124.811 230.81 126.617 227.268 Q128.445 223.703 128.445 216.597 Q128.445 209.467 126.617 205.926 Q124.811 202.361 121.177 202.361 M121.177 198.657 Q126.987 198.657 130.043 203.264 Q133.121 207.847 133.121 216.597 Q133.121 225.324 130.043 229.93 Q126.987 234.513 121.177 234.513 Q115.367 234.513 112.288 229.93 Q109.233 225.324 109.233 216.597 Q109.233 207.847 112.288 203.264 Q115.367 198.657 121.177 198.657 Z\" fill=\"#000000\" fill-rule=\"nonzero\" fill-opacity=\"1\" /><path clip-path=\"url(#clip642)\" d=\"M289.225 1465.28 L289.225 1486.45 L391.511 1486.45 L391.511 1465.28 L289.225 1465.28 L289.225 1465.28  Z\" fill=\"#009af9\" fill-rule=\"evenodd\" fill-opacity=\"1\"/>\n",
       "<polyline clip-path=\"url(#clip642)\" style=\"stroke:#000000; stroke-linecap:round; stroke-linejoin:round; stroke-width:4; stroke-opacity:1; fill:none\" points=\"289.225,1465.28 289.225,1486.45 391.511,1486.45 391.511,1465.28 289.225,1465.28 \"/>\n",
       "<path clip-path=\"url(#clip642)\" d=\"M391.511 1486.45 L391.511 1486.45 L493.796 1486.45 L493.796 1486.45 L391.511 1486.45 L391.511 1486.45  Z\" fill=\"#009af9\" fill-rule=\"evenodd\" fill-opacity=\"1\"/>\n",
       "<polyline clip-path=\"url(#clip642)\" style=\"stroke:#000000; stroke-linecap:round; stroke-linejoin:round; stroke-width:4; stroke-opacity:1; fill:none\" points=\"391.511,1486.45 391.511,1486.45 493.796,1486.45 391.511,1486.45 \"/>\n",
       "<path clip-path=\"url(#clip642)\" d=\"M493.796 1422.95 L493.796 1486.45 L596.082 1486.45 L596.082 1422.95 L493.796 1422.95 L493.796 1422.95  Z\" fill=\"#009af9\" fill-rule=\"evenodd\" fill-opacity=\"1\"/>\n",
       "<polyline clip-path=\"url(#clip642)\" style=\"stroke:#000000; stroke-linecap:round; stroke-linejoin:round; stroke-width:4; stroke-opacity:1; fill:none\" points=\"493.796,1422.95 493.796,1486.45 596.082,1486.45 596.082,1422.95 493.796,1422.95 \"/>\n",
       "<path clip-path=\"url(#clip642)\" d=\"M596.082 1285.38 L596.082 1486.45 L698.368 1486.45 L698.368 1285.38 L596.082 1285.38 L596.082 1285.38  Z\" fill=\"#009af9\" fill-rule=\"evenodd\" fill-opacity=\"1\"/>\n",
       "<polyline clip-path=\"url(#clip642)\" style=\"stroke:#000000; stroke-linecap:round; stroke-linejoin:round; stroke-width:4; stroke-opacity:1; fill:none\" points=\"596.082,1285.38 596.082,1486.45 698.368,1486.45 698.368,1285.38 596.082,1285.38 \"/>\n",
       "<path clip-path=\"url(#clip642)\" d=\"M698.368 1116.06 L698.368 1486.45 L800.653 1486.45 L800.653 1116.06 L698.368 1116.06 L698.368 1116.06  Z\" fill=\"#009af9\" fill-rule=\"evenodd\" fill-opacity=\"1\"/>\n",
       "<polyline clip-path=\"url(#clip642)\" style=\"stroke:#000000; stroke-linecap:round; stroke-linejoin:round; stroke-width:4; stroke-opacity:1; fill:none\" points=\"698.368,1116.06 698.368,1486.45 800.653,1486.45 800.653,1116.06 698.368,1116.06 \"/>\n",
       "<path clip-path=\"url(#clip642)\" d=\"M800.653 925.582 L800.653 1486.45 L902.939 1486.45 L902.939 925.582 L800.653 925.582 L800.653 925.582  Z\" fill=\"#009af9\" fill-rule=\"evenodd\" fill-opacity=\"1\"/>\n",
       "<polyline clip-path=\"url(#clip642)\" style=\"stroke:#000000; stroke-linecap:round; stroke-linejoin:round; stroke-width:4; stroke-opacity:1; fill:none\" points=\"800.653,925.582 800.653,1486.45 902.939,1486.45 902.939,925.582 800.653,925.582 \"/>\n",
       "<path clip-path=\"url(#clip642)\" d=\"M902.939 534.034 L902.939 1486.45 L1005.22 1486.45 L1005.22 534.034 L902.939 534.034 L902.939 534.034  Z\" fill=\"#009af9\" fill-rule=\"evenodd\" fill-opacity=\"1\"/>\n",
       "<polyline clip-path=\"url(#clip642)\" style=\"stroke:#000000; stroke-linecap:round; stroke-linejoin:round; stroke-width:4; stroke-opacity:1; fill:none\" points=\"902.939,534.034 902.939,1486.45 1005.22,1486.45 1005.22,534.034 902.939,534.034 \"/>\n",
       "<path clip-path=\"url(#clip642)\" d=\"M1005.22 428.21 L1005.22 1486.45 L1107.51 1486.45 L1107.51 428.21 L1005.22 428.21 L1005.22 428.21  Z\" fill=\"#009af9\" fill-rule=\"evenodd\" fill-opacity=\"1\"/>\n",
       "<polyline clip-path=\"url(#clip642)\" style=\"stroke:#000000; stroke-linecap:round; stroke-linejoin:round; stroke-width:4; stroke-opacity:1; fill:none\" points=\"1005.22,428.21 1005.22,1486.45 1107.51,1486.45 1107.51,428.21 1005.22,428.21 \"/>\n",
       "<path clip-path=\"url(#clip642)\" d=\"M1107.51 47.2441 L1107.51 1486.45 L1209.8 1486.45 L1209.8 47.2441 L1107.51 47.2441 L1107.51 47.2441  Z\" fill=\"#009af9\" fill-rule=\"evenodd\" fill-opacity=\"1\"/>\n",
       "<polyline clip-path=\"url(#clip642)\" style=\"stroke:#000000; stroke-linecap:round; stroke-linejoin:round; stroke-width:4; stroke-opacity:1; fill:none\" points=\"1107.51,47.2441 1107.51,1486.45 1209.8,1486.45 1209.8,47.2441 1107.51,47.2441 \"/>\n",
       "<path clip-path=\"url(#clip642)\" d=\"M1209.8 153.068 L1209.8 1486.45 L1312.08 1486.45 L1312.08 153.068 L1209.8 153.068 L1209.8 153.068  Z\" fill=\"#009af9\" fill-rule=\"evenodd\" fill-opacity=\"1\"/>\n",
       "<polyline clip-path=\"url(#clip642)\" style=\"stroke:#000000; stroke-linecap:round; stroke-linejoin:round; stroke-width:4; stroke-opacity:1; fill:none\" points=\"1209.8,153.068 1209.8,1486.45 1312.08,1486.45 1312.08,153.068 1209.8,153.068 \"/>\n",
       "<path clip-path=\"url(#clip642)\" d=\"M1312.08 311.804 L1312.08 1486.45 L1414.37 1486.45 L1414.37 311.804 L1312.08 311.804 L1312.08 311.804  Z\" fill=\"#009af9\" fill-rule=\"evenodd\" fill-opacity=\"1\"/>\n",
       "<polyline clip-path=\"url(#clip642)\" style=\"stroke:#000000; stroke-linecap:round; stroke-linejoin:round; stroke-width:4; stroke-opacity:1; fill:none\" points=\"1312.08,311.804 1312.08,1486.45 1414.37,1486.45 1414.37,311.804 1312.08,311.804 \"/>\n",
       "<path clip-path=\"url(#clip642)\" d=\"M1414.37 428.21 L1414.37 1486.45 L1516.65 1486.45 L1516.65 428.21 L1414.37 428.21 L1414.37 428.21  Z\" fill=\"#009af9\" fill-rule=\"evenodd\" fill-opacity=\"1\"/>\n",
       "<polyline clip-path=\"url(#clip642)\" style=\"stroke:#000000; stroke-linecap:round; stroke-linejoin:round; stroke-width:4; stroke-opacity:1; fill:none\" points=\"1414.37,428.21 1414.37,1486.45 1516.65,1486.45 1516.65,428.21 1414.37,428.21 \"/>\n",
       "<path clip-path=\"url(#clip642)\" d=\"M1516.65 777.428 L1516.65 1486.45 L1618.94 1486.45 L1618.94 777.428 L1516.65 777.428 L1516.65 777.428  Z\" fill=\"#009af9\" fill-rule=\"evenodd\" fill-opacity=\"1\"/>\n",
       "<polyline clip-path=\"url(#clip642)\" style=\"stroke:#000000; stroke-linecap:round; stroke-linejoin:round; stroke-width:4; stroke-opacity:1; fill:none\" points=\"1516.65,777.428 1516.65,1486.45 1618.94,1486.45 1618.94,777.428 1516.65,777.428 \"/>\n",
       "<path clip-path=\"url(#clip642)\" d=\"M1618.94 830.34 L1618.94 1486.45 L1721.22 1486.45 L1721.22 830.34 L1618.94 830.34 L1618.94 830.34  Z\" fill=\"#009af9\" fill-rule=\"evenodd\" fill-opacity=\"1\"/>\n",
       "<polyline clip-path=\"url(#clip642)\" style=\"stroke:#000000; stroke-linecap:round; stroke-linejoin:round; stroke-width:4; stroke-opacity:1; fill:none\" points=\"1618.94,830.34 1618.94,1486.45 1721.22,1486.45 1721.22,830.34 1618.94,830.34 \"/>\n",
       "<path clip-path=\"url(#clip642)\" d=\"M1721.22 1084.32 L1721.22 1486.45 L1823.51 1486.45 L1823.51 1084.32 L1721.22 1084.32 L1721.22 1084.32  Z\" fill=\"#009af9\" fill-rule=\"evenodd\" fill-opacity=\"1\"/>\n",
       "<polyline clip-path=\"url(#clip642)\" style=\"stroke:#000000; stroke-linecap:round; stroke-linejoin:round; stroke-width:4; stroke-opacity:1; fill:none\" points=\"1721.22,1084.32 1721.22,1486.45 1823.51,1486.45 1823.51,1084.32 1721.22,1084.32 \"/>\n",
       "<path clip-path=\"url(#clip642)\" d=\"M1823.51 1264.22 L1823.51 1486.45 L1925.8 1486.45 L1925.8 1264.22 L1823.51 1264.22 L1823.51 1264.22  Z\" fill=\"#009af9\" fill-rule=\"evenodd\" fill-opacity=\"1\"/>\n",
       "<polyline clip-path=\"url(#clip642)\" style=\"stroke:#000000; stroke-linecap:round; stroke-linejoin:round; stroke-width:4; stroke-opacity:1; fill:none\" points=\"1823.51,1264.22 1823.51,1486.45 1925.8,1486.45 1925.8,1264.22 1823.51,1264.22 \"/>\n",
       "<path clip-path=\"url(#clip642)\" d=\"M1925.8 1274.8 L1925.8 1486.45 L2028.08 1486.45 L2028.08 1274.8 L1925.8 1274.8 L1925.8 1274.8  Z\" fill=\"#009af9\" fill-rule=\"evenodd\" fill-opacity=\"1\"/>\n",
       "<polyline clip-path=\"url(#clip642)\" style=\"stroke:#000000; stroke-linecap:round; stroke-linejoin:round; stroke-width:4; stroke-opacity:1; fill:none\" points=\"1925.8,1274.8 1925.8,1486.45 2028.08,1486.45 2028.08,1274.8 1925.8,1274.8 \"/>\n",
       "<path clip-path=\"url(#clip642)\" d=\"M2028.08 1412.37 L2028.08 1486.45 L2130.37 1486.45 L2130.37 1412.37 L2028.08 1412.37 L2028.08 1412.37  Z\" fill=\"#009af9\" fill-rule=\"evenodd\" fill-opacity=\"1\"/>\n",
       "<polyline clip-path=\"url(#clip642)\" style=\"stroke:#000000; stroke-linecap:round; stroke-linejoin:round; stroke-width:4; stroke-opacity:1; fill:none\" points=\"2028.08,1412.37 2028.08,1486.45 2130.37,1486.45 2130.37,1412.37 2028.08,1412.37 \"/>\n",
       "<path clip-path=\"url(#clip642)\" d=\"M2130.37 1412.37 L2130.37 1486.45 L2232.65 1486.45 L2232.65 1412.37 L2130.37 1412.37 L2130.37 1412.37  Z\" fill=\"#009af9\" fill-rule=\"evenodd\" fill-opacity=\"1\"/>\n",
       "<polyline clip-path=\"url(#clip642)\" style=\"stroke:#000000; stroke-linecap:round; stroke-linejoin:round; stroke-width:4; stroke-opacity:1; fill:none\" points=\"2130.37,1412.37 2130.37,1486.45 2232.65,1486.45 2232.65,1412.37 2130.37,1412.37 \"/>\n",
       "<circle clip-path=\"url(#clip642)\" style=\"fill:#009af9; stroke:none; fill-opacity:0\" cx=\"340.368\" cy=\"1465.28\" r=\"2\"/>\n",
       "<circle clip-path=\"url(#clip642)\" style=\"fill:#009af9; stroke:none; fill-opacity:0\" cx=\"442.654\" cy=\"1486.45\" r=\"2\"/>\n",
       "<circle clip-path=\"url(#clip642)\" style=\"fill:#009af9; stroke:none; fill-opacity:0\" cx=\"544.939\" cy=\"1422.95\" r=\"2\"/>\n",
       "<circle clip-path=\"url(#clip642)\" style=\"fill:#009af9; stroke:none; fill-opacity:0\" cx=\"647.225\" cy=\"1285.38\" r=\"2\"/>\n",
       "<circle clip-path=\"url(#clip642)\" style=\"fill:#009af9; stroke:none; fill-opacity:0\" cx=\"749.51\" cy=\"1116.06\" r=\"2\"/>\n",
       "<circle clip-path=\"url(#clip642)\" style=\"fill:#009af9; stroke:none; fill-opacity:0\" cx=\"851.796\" cy=\"925.582\" r=\"2\"/>\n",
       "<circle clip-path=\"url(#clip642)\" style=\"fill:#009af9; stroke:none; fill-opacity:0\" cx=\"954.082\" cy=\"534.034\" r=\"2\"/>\n",
       "<circle clip-path=\"url(#clip642)\" style=\"fill:#009af9; stroke:none; fill-opacity:0\" cx=\"1056.37\" cy=\"428.21\" r=\"2\"/>\n",
       "<circle clip-path=\"url(#clip642)\" style=\"fill:#009af9; stroke:none; fill-opacity:0\" cx=\"1158.65\" cy=\"47.2441\" r=\"2\"/>\n",
       "<circle clip-path=\"url(#clip642)\" style=\"fill:#009af9; stroke:none; fill-opacity:0\" cx=\"1260.94\" cy=\"153.068\" r=\"2\"/>\n",
       "<circle clip-path=\"url(#clip642)\" style=\"fill:#009af9; stroke:none; fill-opacity:0\" cx=\"1363.22\" cy=\"311.804\" r=\"2\"/>\n",
       "<circle clip-path=\"url(#clip642)\" style=\"fill:#009af9; stroke:none; fill-opacity:0\" cx=\"1465.51\" cy=\"428.21\" r=\"2\"/>\n",
       "<circle clip-path=\"url(#clip642)\" style=\"fill:#009af9; stroke:none; fill-opacity:0\" cx=\"1567.8\" cy=\"777.428\" r=\"2\"/>\n",
       "<circle clip-path=\"url(#clip642)\" style=\"fill:#009af9; stroke:none; fill-opacity:0\" cx=\"1670.08\" cy=\"830.34\" r=\"2\"/>\n",
       "<circle clip-path=\"url(#clip642)\" style=\"fill:#009af9; stroke:none; fill-opacity:0\" cx=\"1772.37\" cy=\"1084.32\" r=\"2\"/>\n",
       "<circle clip-path=\"url(#clip642)\" style=\"fill:#009af9; stroke:none; fill-opacity:0\" cx=\"1874.65\" cy=\"1264.22\" r=\"2\"/>\n",
       "<circle clip-path=\"url(#clip642)\" style=\"fill:#009af9; stroke:none; fill-opacity:0\" cx=\"1976.94\" cy=\"1274.8\" r=\"2\"/>\n",
       "<circle clip-path=\"url(#clip642)\" style=\"fill:#009af9; stroke:none; fill-opacity:0\" cx=\"2079.22\" cy=\"1412.37\" r=\"2\"/>\n",
       "<circle clip-path=\"url(#clip642)\" style=\"fill:#009af9; stroke:none; fill-opacity:0\" cx=\"2181.51\" cy=\"1412.37\" r=\"2\"/>\n",
       "<path clip-path=\"url(#clip640)\" d=\"M2009.17 198.898 L2279.97 198.898 L2279.97 95.2176 L2009.17 95.2176  Z\" fill=\"#ffffff\" fill-rule=\"evenodd\" fill-opacity=\"1\"/>\n",
       "<polyline clip-path=\"url(#clip640)\" style=\"stroke:#000000; stroke-linecap:round; stroke-linejoin:round; stroke-width:4; stroke-opacity:1; fill:none\" points=\"2009.17,198.898 2279.97,198.898 2279.97,95.2176 2009.17,95.2176 2009.17,198.898 \"/>\n",
       "<path clip-path=\"url(#clip640)\" d=\"M2033.44 167.794 L2179.01 167.794 L2179.01 126.322 L2033.44 126.322 L2033.44 167.794  Z\" fill=\"#009af9\" fill-rule=\"evenodd\" fill-opacity=\"1\"/>\n",
       "<polyline clip-path=\"url(#clip640)\" style=\"stroke:#000000; stroke-linecap:round; stroke-linejoin:round; stroke-width:4; stroke-opacity:1; fill:none\" points=\"2033.44,167.794 2179.01,167.794 2179.01,126.322 2033.44,126.322 2033.44,167.794 \"/>\n",
       "<path clip-path=\"url(#clip640)\" d=\"M2217.12 166.745 Q2215.31 171.375 2213.6 172.787 Q2211.89 174.199 2209.02 174.199 L2205.61 174.199 L2205.61 170.634 L2208.11 170.634 Q2209.87 170.634 2210.84 169.8 Q2211.82 168.967 2213 165.865 L2213.76 163.921 L2203.28 138.412 L2207.79 138.412 L2215.89 158.689 L2223.99 138.412 L2228.51 138.412 L2217.12 166.745 Z\" fill=\"#000000\" fill-rule=\"nonzero\" fill-opacity=\"1\" /><path clip-path=\"url(#clip640)\" d=\"M2235.8 160.402 L2243.44 160.402 L2243.44 134.037 L2235.13 135.703 L2235.13 131.444 L2243.39 129.778 L2248.07 129.778 L2248.07 160.402 L2255.71 160.402 L2255.71 164.338 L2235.8 164.338 L2235.8 160.402 Z\" fill=\"#000000\" fill-rule=\"nonzero\" fill-opacity=\"1\" /></svg>\n"
      ],
      "text/html": [
       "<?xml version=\"1.0\" encoding=\"utf-8\"?>\n",
       "<svg xmlns=\"http://www.w3.org/2000/svg\" xmlns:xlink=\"http://www.w3.org/1999/xlink\" width=\"600\" height=\"400\" viewBox=\"0 0 2400 1600\">\n",
       "<defs>\n",
       "  <clipPath id=\"clip690\">\n",
       "    <rect x=\"0\" y=\"0\" width=\"2400\" height=\"1600\"/>\n",
       "  </clipPath>\n",
       "</defs>\n",
       "<path clip-path=\"url(#clip690)\" d=\"M0 1600 L2400 1600 L2400 0 L0 0  Z\" fill=\"#ffffff\" fill-rule=\"evenodd\" fill-opacity=\"1\"/>\n",
       "<defs>\n",
       "  <clipPath id=\"clip691\">\n",
       "    <rect x=\"480\" y=\"0\" width=\"1681\" height=\"1600\"/>\n",
       "  </clipPath>\n",
       "</defs>\n",
       "<path clip-path=\"url(#clip690)\" d=\"M169.121 1486.45 L2352.76 1486.45 L2352.76 47.2441 L169.121 47.2441  Z\" fill=\"#ffffff\" fill-rule=\"evenodd\" fill-opacity=\"1\"/>\n",
       "<defs>\n",
       "  <clipPath id=\"clip692\">\n",
       "    <rect x=\"169\" y=\"47\" width=\"2185\" height=\"1440\"/>\n",
       "  </clipPath>\n",
       "</defs>\n",
       "<polyline clip-path=\"url(#clip692)\" style=\"stroke:#000000; stroke-linecap:round; stroke-linejoin:round; stroke-width:2; stroke-opacity:0.1; fill:none\" points=\"391.511,1486.45 391.511,47.2441 \"/>\n",
       "<polyline clip-path=\"url(#clip692)\" style=\"stroke:#000000; stroke-linecap:round; stroke-linejoin:round; stroke-width:2; stroke-opacity:0.1; fill:none\" points=\"800.653,1486.45 800.653,47.2441 \"/>\n",
       "<polyline clip-path=\"url(#clip692)\" style=\"stroke:#000000; stroke-linecap:round; stroke-linejoin:round; stroke-width:2; stroke-opacity:0.1; fill:none\" points=\"1209.8,1486.45 1209.8,47.2441 \"/>\n",
       "<polyline clip-path=\"url(#clip692)\" style=\"stroke:#000000; stroke-linecap:round; stroke-linejoin:round; stroke-width:2; stroke-opacity:0.1; fill:none\" points=\"1618.94,1486.45 1618.94,47.2441 \"/>\n",
       "<polyline clip-path=\"url(#clip692)\" style=\"stroke:#000000; stroke-linecap:round; stroke-linejoin:round; stroke-width:2; stroke-opacity:0.1; fill:none\" points=\"2028.08,1486.45 2028.08,47.2441 \"/>\n",
       "<polyline clip-path=\"url(#clip692)\" style=\"stroke:#000000; stroke-linecap:round; stroke-linejoin:round; stroke-width:2; stroke-opacity:0.1; fill:none\" points=\"169.121,1486.45 2352.76,1486.45 \"/>\n",
       "<polyline clip-path=\"url(#clip692)\" style=\"stroke:#000000; stroke-linecap:round; stroke-linejoin:round; stroke-width:2; stroke-opacity:0.1; fill:none\" points=\"169.121,1274.8 2352.76,1274.8 \"/>\n",
       "<polyline clip-path=\"url(#clip692)\" style=\"stroke:#000000; stroke-linecap:round; stroke-linejoin:round; stroke-width:2; stroke-opacity:0.1; fill:none\" points=\"169.121,1063.15 2352.76,1063.15 \"/>\n",
       "<polyline clip-path=\"url(#clip692)\" style=\"stroke:#000000; stroke-linecap:round; stroke-linejoin:round; stroke-width:2; stroke-opacity:0.1; fill:none\" points=\"169.121,851.505 2352.76,851.505 \"/>\n",
       "<polyline clip-path=\"url(#clip692)\" style=\"stroke:#000000; stroke-linecap:round; stroke-linejoin:round; stroke-width:2; stroke-opacity:0.1; fill:none\" points=\"169.121,639.857 2352.76,639.857 \"/>\n",
       "<polyline clip-path=\"url(#clip692)\" style=\"stroke:#000000; stroke-linecap:round; stroke-linejoin:round; stroke-width:2; stroke-opacity:0.1; fill:none\" points=\"169.121,428.21 2352.76,428.21 \"/>\n",
       "<polyline clip-path=\"url(#clip692)\" style=\"stroke:#000000; stroke-linecap:round; stroke-linejoin:round; stroke-width:2; stroke-opacity:0.1; fill:none\" points=\"169.121,216.562 2352.76,216.562 \"/>\n",
       "<polyline clip-path=\"url(#clip690)\" style=\"stroke:#000000; stroke-linecap:round; stroke-linejoin:round; stroke-width:4; stroke-opacity:1; fill:none\" points=\"169.121,1486.45 2352.76,1486.45 \"/>\n",
       "<polyline clip-path=\"url(#clip690)\" style=\"stroke:#000000; stroke-linecap:round; stroke-linejoin:round; stroke-width:4; stroke-opacity:1; fill:none\" points=\"391.511,1486.45 391.511,1467.55 \"/>\n",
       "<polyline clip-path=\"url(#clip690)\" style=\"stroke:#000000; stroke-linecap:round; stroke-linejoin:round; stroke-width:4; stroke-opacity:1; fill:none\" points=\"800.653,1486.45 800.653,1467.55 \"/>\n",
       "<polyline clip-path=\"url(#clip690)\" style=\"stroke:#000000; stroke-linecap:round; stroke-linejoin:round; stroke-width:4; stroke-opacity:1; fill:none\" points=\"1209.8,1486.45 1209.8,1467.55 \"/>\n",
       "<polyline clip-path=\"url(#clip690)\" style=\"stroke:#000000; stroke-linecap:round; stroke-linejoin:round; stroke-width:4; stroke-opacity:1; fill:none\" points=\"1618.94,1486.45 1618.94,1467.55 \"/>\n",
       "<polyline clip-path=\"url(#clip690)\" style=\"stroke:#000000; stroke-linecap:round; stroke-linejoin:round; stroke-width:4; stroke-opacity:1; fill:none\" points=\"2028.08,1486.45 2028.08,1467.55 \"/>\n",
       "<path clip-path=\"url(#clip690)\" d=\"M368.652 1517.37 Q365.041 1517.37 363.212 1520.93 Q361.407 1524.47 361.407 1531.6 Q361.407 1538.71 363.212 1542.27 Q365.041 1545.82 368.652 1545.82 Q372.286 1545.82 374.092 1542.27 Q375.921 1538.71 375.921 1531.6 Q375.921 1524.47 374.092 1520.93 Q372.286 1517.37 368.652 1517.37 M368.652 1513.66 Q374.462 1513.66 377.518 1518.27 Q380.596 1522.85 380.596 1531.6 Q380.596 1540.33 377.518 1544.94 Q374.462 1549.52 368.652 1549.52 Q362.842 1549.52 359.763 1544.94 Q356.708 1540.33 356.708 1531.6 Q356.708 1522.85 359.763 1518.27 Q362.842 1513.66 368.652 1513.66 Z\" fill=\"#000000\" fill-rule=\"nonzero\" fill-opacity=\"1\" /><path clip-path=\"url(#clip690)\" d=\"M388.814 1542.97 L393.698 1542.97 L393.698 1548.85 L388.814 1548.85 L388.814 1542.97 Z\" fill=\"#000000\" fill-rule=\"nonzero\" fill-opacity=\"1\" /><path clip-path=\"url(#clip690)\" d=\"M416.731 1518.36 L404.925 1536.81 L416.731 1536.81 L416.731 1518.36 M415.504 1514.29 L421.383 1514.29 L421.383 1536.81 L426.314 1536.81 L426.314 1540.7 L421.383 1540.7 L421.383 1548.85 L416.731 1548.85 L416.731 1540.7 L401.129 1540.7 L401.129 1536.19 L415.504 1514.29 Z\" fill=\"#000000\" fill-rule=\"nonzero\" fill-opacity=\"1\" /><path clip-path=\"url(#clip690)\" d=\"M777.957 1517.37 Q774.346 1517.37 772.517 1520.93 Q770.711 1524.47 770.711 1531.6 Q770.711 1538.71 772.517 1542.27 Q774.346 1545.82 777.957 1545.82 Q781.591 1545.82 783.396 1542.27 Q785.225 1538.71 785.225 1531.6 Q785.225 1524.47 783.396 1520.93 Q781.591 1517.37 777.957 1517.37 M777.957 1513.66 Q783.767 1513.66 786.822 1518.27 Q789.901 1522.85 789.901 1531.6 Q789.901 1540.33 786.822 1544.94 Q783.767 1549.52 777.957 1549.52 Q772.146 1549.52 769.068 1544.94 Q766.012 1540.33 766.012 1531.6 Q766.012 1522.85 769.068 1518.27 Q772.146 1513.66 777.957 1513.66 Z\" fill=\"#000000\" fill-rule=\"nonzero\" fill-opacity=\"1\" /><path clip-path=\"url(#clip690)\" d=\"M798.119 1542.97 L803.003 1542.97 L803.003 1548.85 L798.119 1548.85 L798.119 1542.97 Z\" fill=\"#000000\" fill-rule=\"nonzero\" fill-opacity=\"1\" /><path clip-path=\"url(#clip690)\" d=\"M823.767 1529.7 Q820.618 1529.7 818.767 1531.86 Q816.938 1534.01 816.938 1537.76 Q816.938 1541.49 818.767 1543.66 Q820.618 1545.82 823.767 1545.82 Q826.915 1545.82 828.743 1543.66 Q830.595 1541.49 830.595 1537.76 Q830.595 1534.01 828.743 1531.86 Q826.915 1529.7 823.767 1529.7 M833.049 1515.05 L833.049 1519.31 Q831.29 1518.48 829.484 1518.04 Q827.702 1517.6 825.942 1517.6 Q821.313 1517.6 818.859 1520.72 Q816.429 1523.85 816.081 1530.17 Q817.447 1528.15 819.507 1527.09 Q821.568 1526 824.044 1526 Q829.253 1526 832.262 1529.17 Q835.294 1532.32 835.294 1537.76 Q835.294 1543.08 832.146 1546.3 Q828.998 1549.52 823.767 1549.52 Q817.771 1549.52 814.6 1544.94 Q811.429 1540.33 811.429 1531.6 Q811.429 1523.41 815.318 1518.55 Q819.206 1513.66 825.757 1513.66 Q827.517 1513.66 829.299 1514.01 Q831.104 1514.36 833.049 1515.05 Z\" fill=\"#000000\" fill-rule=\"nonzero\" fill-opacity=\"1\" /><path clip-path=\"url(#clip690)\" d=\"M1187.23 1517.37 Q1183.62 1517.37 1181.79 1520.93 Q1179.98 1524.47 1179.98 1531.6 Q1179.98 1538.71 1181.79 1542.27 Q1183.62 1545.82 1187.23 1545.82 Q1190.86 1545.82 1192.67 1542.27 Q1194.49 1538.71 1194.49 1531.6 Q1194.49 1524.47 1192.67 1520.93 Q1190.86 1517.37 1187.23 1517.37 M1187.23 1513.66 Q1193.04 1513.66 1196.09 1518.27 Q1199.17 1522.85 1199.17 1531.6 Q1199.17 1540.33 1196.09 1544.94 Q1193.04 1549.52 1187.23 1549.52 Q1181.42 1549.52 1178.34 1544.94 Q1175.28 1540.33 1175.28 1531.6 Q1175.28 1522.85 1178.34 1518.27 Q1181.42 1513.66 1187.23 1513.66 Z\" fill=\"#000000\" fill-rule=\"nonzero\" fill-opacity=\"1\" /><path clip-path=\"url(#clip690)\" d=\"M1207.39 1542.97 L1212.27 1542.97 L1212.27 1548.85 L1207.39 1548.85 L1207.39 1542.97 Z\" fill=\"#000000\" fill-rule=\"nonzero\" fill-opacity=\"1\" /><path clip-path=\"url(#clip690)\" d=\"M1232.46 1532.44 Q1229.12 1532.44 1227.2 1534.22 Q1225.3 1536 1225.3 1539.13 Q1225.3 1542.25 1227.2 1544.03 Q1229.12 1545.82 1232.46 1545.82 Q1235.79 1545.82 1237.71 1544.03 Q1239.63 1542.23 1239.63 1539.13 Q1239.63 1536 1237.71 1534.22 Q1235.81 1532.44 1232.46 1532.44 M1227.78 1530.45 Q1224.77 1529.7 1223.08 1527.64 Q1221.42 1525.58 1221.42 1522.62 Q1221.42 1518.48 1224.36 1516.07 Q1227.32 1513.66 1232.46 1513.66 Q1237.62 1513.66 1240.56 1516.07 Q1243.5 1518.48 1243.5 1522.62 Q1243.5 1525.58 1241.81 1527.64 Q1240.14 1529.7 1237.16 1530.45 Q1240.54 1531.23 1242.41 1533.52 Q1244.31 1535.82 1244.31 1539.13 Q1244.31 1544.15 1241.23 1546.83 Q1238.18 1549.52 1232.46 1549.52 Q1226.74 1549.52 1223.66 1546.83 Q1220.61 1544.15 1220.61 1539.13 Q1220.61 1535.82 1222.5 1533.52 Q1224.4 1531.23 1227.78 1530.45 M1226.07 1523.06 Q1226.07 1525.75 1227.74 1527.25 Q1229.43 1528.76 1232.46 1528.76 Q1235.47 1528.76 1237.16 1527.25 Q1238.87 1525.75 1238.87 1523.06 Q1238.87 1520.38 1237.16 1518.87 Q1235.47 1517.37 1232.46 1517.37 Q1229.43 1517.37 1227.74 1518.87 Q1226.07 1520.38 1226.07 1523.06 Z\" fill=\"#000000\" fill-rule=\"nonzero\" fill-opacity=\"1\" /><path clip-path=\"url(#clip690)\" d=\"M1586.09 1544.91 L1593.73 1544.91 L1593.73 1518.55 L1585.42 1520.21 L1585.42 1515.95 L1593.68 1514.29 L1598.36 1514.29 L1598.36 1544.91 L1606 1544.91 L1606 1548.85 L1586.09 1548.85 L1586.09 1544.91 Z\" fill=\"#000000\" fill-rule=\"nonzero\" fill-opacity=\"1\" /><path clip-path=\"url(#clip690)\" d=\"M1615.44 1542.97 L1620.33 1542.97 L1620.33 1548.85 L1615.44 1548.85 L1615.44 1542.97 Z\" fill=\"#000000\" fill-rule=\"nonzero\" fill-opacity=\"1\" /><path clip-path=\"url(#clip690)\" d=\"M1640.51 1517.37 Q1636.9 1517.37 1635.07 1520.93 Q1633.27 1524.47 1633.27 1531.6 Q1633.27 1538.71 1635.07 1542.27 Q1636.9 1545.82 1640.51 1545.82 Q1644.15 1545.82 1645.95 1542.27 Q1647.78 1538.71 1647.78 1531.6 Q1647.78 1524.47 1645.95 1520.93 Q1644.15 1517.37 1640.51 1517.37 M1640.51 1513.66 Q1646.32 1513.66 1649.38 1518.27 Q1652.46 1522.85 1652.46 1531.6 Q1652.46 1540.33 1649.38 1544.94 Q1646.32 1549.52 1640.51 1549.52 Q1634.7 1549.52 1631.62 1544.94 Q1628.57 1540.33 1628.57 1531.6 Q1628.57 1522.85 1631.62 1518.27 Q1634.7 1513.66 1640.51 1513.66 Z\" fill=\"#000000\" fill-rule=\"nonzero\" fill-opacity=\"1\" /><path clip-path=\"url(#clip690)\" d=\"M1996.03 1544.91 L2003.67 1544.91 L2003.67 1518.55 L1995.36 1520.21 L1995.36 1515.95 L2003.62 1514.29 L2008.3 1514.29 L2008.3 1544.91 L2015.94 1544.91 L2015.94 1548.85 L1996.03 1548.85 L1996.03 1544.91 Z\" fill=\"#000000\" fill-rule=\"nonzero\" fill-opacity=\"1\" /><path clip-path=\"url(#clip690)\" d=\"M2025.38 1542.97 L2030.27 1542.97 L2030.27 1548.85 L2025.38 1548.85 L2025.38 1542.97 Z\" fill=\"#000000\" fill-rule=\"nonzero\" fill-opacity=\"1\" /><path clip-path=\"url(#clip690)\" d=\"M2044.48 1544.91 L2060.8 1544.91 L2060.8 1548.85 L2038.86 1548.85 L2038.86 1544.91 Q2041.52 1542.16 2046.1 1537.53 Q2050.71 1532.88 2051.89 1531.53 Q2054.13 1529.01 2055.01 1527.27 Q2055.92 1525.51 2055.92 1523.82 Q2055.92 1521.07 2053.97 1519.33 Q2052.05 1517.6 2048.95 1517.6 Q2046.75 1517.6 2044.3 1518.36 Q2041.87 1519.13 2039.09 1520.68 L2039.09 1515.95 Q2041.91 1514.82 2044.37 1514.24 Q2046.82 1513.66 2048.86 1513.66 Q2054.23 1513.66 2057.42 1516.35 Q2060.62 1519.03 2060.62 1523.52 Q2060.62 1525.65 2059.81 1527.57 Q2059.02 1529.47 2056.91 1532.07 Q2056.33 1532.74 2053.23 1535.95 Q2050.13 1539.15 2044.48 1544.91 Z\" fill=\"#000000\" fill-rule=\"nonzero\" fill-opacity=\"1\" /><polyline clip-path=\"url(#clip690)\" style=\"stroke:#000000; stroke-linecap:round; stroke-linejoin:round; stroke-width:4; stroke-opacity:1; fill:none\" points=\"169.121,1486.45 169.121,47.2441 \"/>\n",
       "<polyline clip-path=\"url(#clip690)\" style=\"stroke:#000000; stroke-linecap:round; stroke-linejoin:round; stroke-width:4; stroke-opacity:1; fill:none\" points=\"169.121,1486.45 188.019,1486.45 \"/>\n",
       "<polyline clip-path=\"url(#clip690)\" style=\"stroke:#000000; stroke-linecap:round; stroke-linejoin:round; stroke-width:4; stroke-opacity:1; fill:none\" points=\"169.121,1274.8 188.019,1274.8 \"/>\n",
       "<polyline clip-path=\"url(#clip690)\" style=\"stroke:#000000; stroke-linecap:round; stroke-linejoin:round; stroke-width:4; stroke-opacity:1; fill:none\" points=\"169.121,1063.15 188.019,1063.15 \"/>\n",
       "<polyline clip-path=\"url(#clip690)\" style=\"stroke:#000000; stroke-linecap:round; stroke-linejoin:round; stroke-width:4; stroke-opacity:1; fill:none\" points=\"169.121,851.505 188.019,851.505 \"/>\n",
       "<polyline clip-path=\"url(#clip690)\" style=\"stroke:#000000; stroke-linecap:round; stroke-linejoin:round; stroke-width:4; stroke-opacity:1; fill:none\" points=\"169.121,639.857 188.019,639.857 \"/>\n",
       "<polyline clip-path=\"url(#clip690)\" style=\"stroke:#000000; stroke-linecap:round; stroke-linejoin:round; stroke-width:4; stroke-opacity:1; fill:none\" points=\"169.121,428.21 188.019,428.21 \"/>\n",
       "<polyline clip-path=\"url(#clip690)\" style=\"stroke:#000000; stroke-linecap:round; stroke-linejoin:round; stroke-width:4; stroke-opacity:1; fill:none\" points=\"169.121,216.562 188.019,216.562 \"/>\n",
       "<path clip-path=\"url(#clip690)\" d=\"M121.177 1472.25 Q117.566 1472.25 115.737 1475.81 Q113.932 1479.35 113.932 1486.48 Q113.932 1493.59 115.737 1497.15 Q117.566 1500.7 121.177 1500.7 Q124.811 1500.7 126.617 1497.15 Q128.445 1493.59 128.445 1486.48 Q128.445 1479.35 126.617 1475.81 Q124.811 1472.25 121.177 1472.25 M121.177 1468.54 Q126.987 1468.54 130.043 1473.15 Q133.121 1477.73 133.121 1486.48 Q133.121 1495.21 130.043 1499.82 Q126.987 1504.4 121.177 1504.4 Q115.367 1504.4 112.288 1499.82 Q109.233 1495.21 109.233 1486.48 Q109.233 1477.73 112.288 1473.15 Q115.367 1468.54 121.177 1468.54 Z\" fill=\"#000000\" fill-rule=\"nonzero\" fill-opacity=\"1\" /><path clip-path=\"url(#clip690)\" d=\"M85.0429 1288.15 L101.362 1288.15 L101.362 1292.08 L79.4179 1292.08 L79.4179 1288.15 Q82.0799 1285.39 86.6632 1280.76 Q91.2697 1276.11 92.4502 1274.77 Q94.6956 1272.24 95.5752 1270.51 Q96.478 1268.75 96.478 1267.06 Q96.478 1264.3 94.5336 1262.57 Q92.6123 1260.83 89.5104 1260.83 Q87.3114 1260.83 84.8577 1261.59 Q82.4271 1262.36 79.6494 1263.91 L79.6494 1259.19 Q82.4734 1258.05 84.9271 1257.47 Q87.3808 1256.9 89.4178 1256.9 Q94.7882 1256.9 97.9826 1259.58 Q101.177 1262.27 101.177 1266.76 Q101.177 1268.89 100.367 1270.81 Q99.5798 1272.71 97.4734 1275.3 Q96.8947 1275.97 93.7928 1279.19 Q90.691 1282.38 85.0429 1288.15 Z\" fill=\"#000000\" fill-rule=\"nonzero\" fill-opacity=\"1\" /><path clip-path=\"url(#clip690)\" d=\"M121.177 1260.6 Q117.566 1260.6 115.737 1264.16 Q113.932 1267.71 113.932 1274.83 Q113.932 1281.94 115.737 1285.51 Q117.566 1289.05 121.177 1289.05 Q124.811 1289.05 126.617 1285.51 Q128.445 1281.94 128.445 1274.83 Q128.445 1267.71 126.617 1264.16 Q124.811 1260.6 121.177 1260.6 M121.177 1256.9 Q126.987 1256.9 130.043 1261.5 Q133.121 1266.09 133.121 1274.83 Q133.121 1283.56 130.043 1288.17 Q126.987 1292.75 121.177 1292.75 Q115.367 1292.75 112.288 1288.17 Q109.233 1283.56 109.233 1274.83 Q109.233 1266.09 112.288 1261.5 Q115.367 1256.9 121.177 1256.9 Z\" fill=\"#000000\" fill-rule=\"nonzero\" fill-opacity=\"1\" /><path clip-path=\"url(#clip690)\" d=\"M93.8623 1049.95 L82.0568 1068.4 L93.8623 1068.4 L93.8623 1049.95 M92.6354 1045.87 L98.515 1045.87 L98.515 1068.4 L103.446 1068.4 L103.446 1072.28 L98.515 1072.28 L98.515 1080.43 L93.8623 1080.43 L93.8623 1072.28 L78.2605 1072.28 L78.2605 1067.77 L92.6354 1045.87 Z\" fill=\"#000000\" fill-rule=\"nonzero\" fill-opacity=\"1\" /><path clip-path=\"url(#clip690)\" d=\"M121.177 1048.95 Q117.566 1048.95 115.737 1052.52 Q113.932 1056.06 113.932 1063.19 Q113.932 1070.29 115.737 1073.86 Q117.566 1077.4 121.177 1077.4 Q124.811 1077.4 126.617 1073.86 Q128.445 1070.29 128.445 1063.19 Q128.445 1056.06 126.617 1052.52 Q124.811 1048.95 121.177 1048.95 M121.177 1045.25 Q126.987 1045.25 130.043 1049.85 Q133.121 1054.44 133.121 1063.19 Q133.121 1071.91 130.043 1076.52 Q126.987 1081.1 121.177 1081.1 Q115.367 1081.1 112.288 1076.52 Q109.233 1071.91 109.233 1063.19 Q109.233 1054.44 112.288 1049.85 Q115.367 1045.25 121.177 1045.25 Z\" fill=\"#000000\" fill-rule=\"nonzero\" fill-opacity=\"1\" /><path clip-path=\"url(#clip690)\" d=\"M91.5938 849.642 Q88.4456 849.642 86.5938 851.794 Q84.7651 853.947 84.7651 857.697 Q84.7651 861.424 86.5938 863.6 Q88.4456 865.753 91.5938 865.753 Q94.7419 865.753 96.5706 863.6 Q98.4224 861.424 98.4224 857.697 Q98.4224 853.947 96.5706 851.794 Q94.7419 849.642 91.5938 849.642 M100.876 834.989 L100.876 839.248 Q99.1169 838.415 97.3113 837.975 Q95.5289 837.535 93.7697 837.535 Q89.1401 837.535 86.6864 840.66 Q84.2558 843.785 83.9086 850.105 Q85.2743 848.091 87.3345 847.026 Q89.3947 845.938 91.8715 845.938 Q97.0798 845.938 100.089 849.109 Q103.121 852.257 103.121 857.697 Q103.121 863.021 99.9733 866.239 Q96.8252 869.456 91.5938 869.456 Q85.5984 869.456 82.4271 864.873 Q79.2559 860.267 79.2559 851.54 Q79.2559 843.345 83.1447 838.484 Q87.0336 833.6 93.5845 833.6 Q95.3437 833.6 97.1261 833.947 Q98.9317 834.294 100.876 834.989 Z\" fill=\"#000000\" fill-rule=\"nonzero\" fill-opacity=\"1\" /><path clip-path=\"url(#clip690)\" d=\"M121.177 837.304 Q117.566 837.304 115.737 840.869 Q113.932 844.41 113.932 851.54 Q113.932 858.646 115.737 862.211 Q117.566 865.753 121.177 865.753 Q124.811 865.753 126.617 862.211 Q128.445 858.646 128.445 851.54 Q128.445 844.41 126.617 840.869 Q124.811 837.304 121.177 837.304 M121.177 833.6 Q126.987 833.6 130.043 838.206 Q133.121 842.79 133.121 851.54 Q133.121 860.267 130.043 864.873 Q126.987 869.456 121.177 869.456 Q115.367 869.456 112.288 864.873 Q109.233 860.267 109.233 851.54 Q109.233 842.79 112.288 838.206 Q115.367 833.6 121.177 833.6 Z\" fill=\"#000000\" fill-rule=\"nonzero\" fill-opacity=\"1\" /><path clip-path=\"url(#clip690)\" d=\"M91.0151 640.725 Q87.6817 640.725 85.7605 642.508 Q83.8623 644.29 83.8623 647.415 Q83.8623 650.54 85.7605 652.323 Q87.6817 654.105 91.0151 654.105 Q94.3484 654.105 96.2697 652.323 Q98.1909 650.517 98.1909 647.415 Q98.1909 644.29 96.2697 642.508 Q94.3715 640.725 91.0151 640.725 M86.3392 638.735 Q83.3299 637.994 81.6401 635.934 Q79.9735 633.874 79.9735 630.911 Q79.9735 626.767 82.9133 624.36 Q85.8762 621.952 91.0151 621.952 Q96.1771 621.952 99.1169 624.36 Q102.057 626.767 102.057 630.911 Q102.057 633.874 100.367 635.934 Q98.7002 637.994 95.7141 638.735 Q99.0937 639.522 100.969 641.813 Q102.867 644.105 102.867 647.415 Q102.867 652.438 99.7882 655.124 Q96.7326 657.809 91.0151 657.809 Q85.2975 657.809 82.2188 655.124 Q79.1633 652.438 79.1633 647.415 Q79.1633 644.105 81.0614 641.813 Q82.9595 639.522 86.3392 638.735 M84.6262 631.351 Q84.6262 634.036 86.2929 635.54 Q87.9827 637.045 91.0151 637.045 Q94.0243 637.045 95.7141 635.54 Q97.4271 634.036 97.4271 631.351 Q97.4271 628.665 95.7141 627.161 Q94.0243 625.656 91.0151 625.656 Q87.9827 625.656 86.2929 627.161 Q84.6262 628.665 84.6262 631.351 Z\" fill=\"#000000\" fill-rule=\"nonzero\" fill-opacity=\"1\" /><path clip-path=\"url(#clip690)\" d=\"M121.177 625.656 Q117.566 625.656 115.737 629.221 Q113.932 632.763 113.932 639.892 Q113.932 646.999 115.737 650.563 Q117.566 654.105 121.177 654.105 Q124.811 654.105 126.617 650.563 Q128.445 646.999 128.445 639.892 Q128.445 632.763 126.617 629.221 Q124.811 625.656 121.177 625.656 M121.177 621.952 Q126.987 621.952 130.043 626.559 Q133.121 631.142 133.121 639.892 Q133.121 648.619 130.043 653.225 Q126.987 657.809 121.177 657.809 Q115.367 657.809 112.288 653.225 Q109.233 648.619 109.233 639.892 Q109.233 631.142 112.288 626.559 Q115.367 621.952 121.177 621.952 Z\" fill=\"#000000\" fill-rule=\"nonzero\" fill-opacity=\"1\" /><path clip-path=\"url(#clip690)\" d=\"M51.6634 441.555 L59.3023 441.555 L59.3023 415.189 L50.9921 416.856 L50.9921 412.596 L59.256 410.93 L63.9319 410.93 L63.9319 441.555 L71.5707 441.555 L71.5707 445.49 L51.6634 445.49 L51.6634 441.555 Z\" fill=\"#000000\" fill-rule=\"nonzero\" fill-opacity=\"1\" /><path clip-path=\"url(#clip690)\" d=\"M91.0151 414.008 Q87.404 414.008 85.5753 417.573 Q83.7697 421.115 83.7697 428.245 Q83.7697 435.351 85.5753 438.916 Q87.404 442.457 91.0151 442.457 Q94.6493 442.457 96.4548 438.916 Q98.2835 435.351 98.2835 428.245 Q98.2835 421.115 96.4548 417.573 Q94.6493 414.008 91.0151 414.008 M91.0151 410.305 Q96.8252 410.305 99.8808 414.911 Q102.959 419.495 102.959 428.245 Q102.959 436.971 99.8808 441.578 Q96.8252 446.161 91.0151 446.161 Q85.2049 446.161 82.1262 441.578 Q79.0707 436.971 79.0707 428.245 Q79.0707 419.495 82.1262 414.911 Q85.2049 410.305 91.0151 410.305 Z\" fill=\"#000000\" fill-rule=\"nonzero\" fill-opacity=\"1\" /><path clip-path=\"url(#clip690)\" d=\"M121.177 414.008 Q117.566 414.008 115.737 417.573 Q113.932 421.115 113.932 428.245 Q113.932 435.351 115.737 438.916 Q117.566 442.457 121.177 442.457 Q124.811 442.457 126.617 438.916 Q128.445 435.351 128.445 428.245 Q128.445 421.115 126.617 417.573 Q124.811 414.008 121.177 414.008 M121.177 410.305 Q126.987 410.305 130.043 414.911 Q133.121 419.495 133.121 428.245 Q133.121 436.971 130.043 441.578 Q126.987 446.161 121.177 446.161 Q115.367 446.161 112.288 441.578 Q109.233 436.971 109.233 428.245 Q109.233 419.495 112.288 414.911 Q115.367 410.305 121.177 410.305 Z\" fill=\"#000000\" fill-rule=\"nonzero\" fill-opacity=\"1\" /><path clip-path=\"url(#clip690)\" d=\"M51.6634 229.907 L59.3023 229.907 L59.3023 203.541 L50.9921 205.208 L50.9921 200.949 L59.256 199.282 L63.9319 199.282 L63.9319 229.907 L71.5707 229.907 L71.5707 233.842 L51.6634 233.842 L51.6634 229.907 Z\" fill=\"#000000\" fill-rule=\"nonzero\" fill-opacity=\"1\" /><path clip-path=\"url(#clip690)\" d=\"M85.0429 229.907 L101.362 229.907 L101.362 233.842 L79.4179 233.842 L79.4179 229.907 Q82.0799 227.152 86.6632 222.523 Q91.2697 217.87 92.4502 216.527 Q94.6956 214.004 95.5752 212.268 Q96.478 210.509 96.478 208.819 Q96.478 206.065 94.5336 204.328 Q92.6123 202.592 89.5104 202.592 Q87.3114 202.592 84.8577 203.356 Q82.4271 204.12 79.6494 205.671 L79.6494 200.949 Q82.4734 199.815 84.9271 199.236 Q87.3808 198.657 89.4178 198.657 Q94.7882 198.657 97.9826 201.342 Q101.177 204.028 101.177 208.518 Q101.177 210.648 100.367 212.569 Q99.5798 214.467 97.4734 217.06 Q96.8947 217.731 93.7928 220.949 Q90.691 224.143 85.0429 229.907 Z\" fill=\"#000000\" fill-rule=\"nonzero\" fill-opacity=\"1\" /><path clip-path=\"url(#clip690)\" d=\"M121.177 202.361 Q117.566 202.361 115.737 205.926 Q113.932 209.467 113.932 216.597 Q113.932 223.703 115.737 227.268 Q117.566 230.81 121.177 230.81 Q124.811 230.81 126.617 227.268 Q128.445 223.703 128.445 216.597 Q128.445 209.467 126.617 205.926 Q124.811 202.361 121.177 202.361 M121.177 198.657 Q126.987 198.657 130.043 203.264 Q133.121 207.847 133.121 216.597 Q133.121 225.324 130.043 229.93 Q126.987 234.513 121.177 234.513 Q115.367 234.513 112.288 229.93 Q109.233 225.324 109.233 216.597 Q109.233 207.847 112.288 203.264 Q115.367 198.657 121.177 198.657 Z\" fill=\"#000000\" fill-rule=\"nonzero\" fill-opacity=\"1\" /><path clip-path=\"url(#clip692)\" d=\"M289.225 1465.28 L289.225 1486.45 L391.511 1486.45 L391.511 1465.28 L289.225 1465.28 L289.225 1465.28  Z\" fill=\"#009af9\" fill-rule=\"evenodd\" fill-opacity=\"1\"/>\n",
       "<polyline clip-path=\"url(#clip692)\" style=\"stroke:#000000; stroke-linecap:round; stroke-linejoin:round; stroke-width:4; stroke-opacity:1; fill:none\" points=\"289.225,1465.28 289.225,1486.45 391.511,1486.45 391.511,1465.28 289.225,1465.28 \"/>\n",
       "<path clip-path=\"url(#clip692)\" d=\"M391.511 1486.45 L391.511 1486.45 L493.796 1486.45 L493.796 1486.45 L391.511 1486.45 L391.511 1486.45  Z\" fill=\"#009af9\" fill-rule=\"evenodd\" fill-opacity=\"1\"/>\n",
       "<polyline clip-path=\"url(#clip692)\" style=\"stroke:#000000; stroke-linecap:round; stroke-linejoin:round; stroke-width:4; stroke-opacity:1; fill:none\" points=\"391.511,1486.45 391.511,1486.45 493.796,1486.45 391.511,1486.45 \"/>\n",
       "<path clip-path=\"url(#clip692)\" d=\"M493.796 1422.95 L493.796 1486.45 L596.082 1486.45 L596.082 1422.95 L493.796 1422.95 L493.796 1422.95  Z\" fill=\"#009af9\" fill-rule=\"evenodd\" fill-opacity=\"1\"/>\n",
       "<polyline clip-path=\"url(#clip692)\" style=\"stroke:#000000; stroke-linecap:round; stroke-linejoin:round; stroke-width:4; stroke-opacity:1; fill:none\" points=\"493.796,1422.95 493.796,1486.45 596.082,1486.45 596.082,1422.95 493.796,1422.95 \"/>\n",
       "<path clip-path=\"url(#clip692)\" d=\"M596.082 1285.38 L596.082 1486.45 L698.368 1486.45 L698.368 1285.38 L596.082 1285.38 L596.082 1285.38  Z\" fill=\"#009af9\" fill-rule=\"evenodd\" fill-opacity=\"1\"/>\n",
       "<polyline clip-path=\"url(#clip692)\" style=\"stroke:#000000; stroke-linecap:round; stroke-linejoin:round; stroke-width:4; stroke-opacity:1; fill:none\" points=\"596.082,1285.38 596.082,1486.45 698.368,1486.45 698.368,1285.38 596.082,1285.38 \"/>\n",
       "<path clip-path=\"url(#clip692)\" d=\"M698.368 1116.06 L698.368 1486.45 L800.653 1486.45 L800.653 1116.06 L698.368 1116.06 L698.368 1116.06  Z\" fill=\"#009af9\" fill-rule=\"evenodd\" fill-opacity=\"1\"/>\n",
       "<polyline clip-path=\"url(#clip692)\" style=\"stroke:#000000; stroke-linecap:round; stroke-linejoin:round; stroke-width:4; stroke-opacity:1; fill:none\" points=\"698.368,1116.06 698.368,1486.45 800.653,1486.45 800.653,1116.06 698.368,1116.06 \"/>\n",
       "<path clip-path=\"url(#clip692)\" d=\"M800.653 925.582 L800.653 1486.45 L902.939 1486.45 L902.939 925.582 L800.653 925.582 L800.653 925.582  Z\" fill=\"#009af9\" fill-rule=\"evenodd\" fill-opacity=\"1\"/>\n",
       "<polyline clip-path=\"url(#clip692)\" style=\"stroke:#000000; stroke-linecap:round; stroke-linejoin:round; stroke-width:4; stroke-opacity:1; fill:none\" points=\"800.653,925.582 800.653,1486.45 902.939,1486.45 902.939,925.582 800.653,925.582 \"/>\n",
       "<path clip-path=\"url(#clip692)\" d=\"M902.939 534.034 L902.939 1486.45 L1005.22 1486.45 L1005.22 534.034 L902.939 534.034 L902.939 534.034  Z\" fill=\"#009af9\" fill-rule=\"evenodd\" fill-opacity=\"1\"/>\n",
       "<polyline clip-path=\"url(#clip692)\" style=\"stroke:#000000; stroke-linecap:round; stroke-linejoin:round; stroke-width:4; stroke-opacity:1; fill:none\" points=\"902.939,534.034 902.939,1486.45 1005.22,1486.45 1005.22,534.034 902.939,534.034 \"/>\n",
       "<path clip-path=\"url(#clip692)\" d=\"M1005.22 428.21 L1005.22 1486.45 L1107.51 1486.45 L1107.51 428.21 L1005.22 428.21 L1005.22 428.21  Z\" fill=\"#009af9\" fill-rule=\"evenodd\" fill-opacity=\"1\"/>\n",
       "<polyline clip-path=\"url(#clip692)\" style=\"stroke:#000000; stroke-linecap:round; stroke-linejoin:round; stroke-width:4; stroke-opacity:1; fill:none\" points=\"1005.22,428.21 1005.22,1486.45 1107.51,1486.45 1107.51,428.21 1005.22,428.21 \"/>\n",
       "<path clip-path=\"url(#clip692)\" d=\"M1107.51 47.2441 L1107.51 1486.45 L1209.8 1486.45 L1209.8 47.2441 L1107.51 47.2441 L1107.51 47.2441  Z\" fill=\"#009af9\" fill-rule=\"evenodd\" fill-opacity=\"1\"/>\n",
       "<polyline clip-path=\"url(#clip692)\" style=\"stroke:#000000; stroke-linecap:round; stroke-linejoin:round; stroke-width:4; stroke-opacity:1; fill:none\" points=\"1107.51,47.2441 1107.51,1486.45 1209.8,1486.45 1209.8,47.2441 1107.51,47.2441 \"/>\n",
       "<path clip-path=\"url(#clip692)\" d=\"M1209.8 153.068 L1209.8 1486.45 L1312.08 1486.45 L1312.08 153.068 L1209.8 153.068 L1209.8 153.068  Z\" fill=\"#009af9\" fill-rule=\"evenodd\" fill-opacity=\"1\"/>\n",
       "<polyline clip-path=\"url(#clip692)\" style=\"stroke:#000000; stroke-linecap:round; stroke-linejoin:round; stroke-width:4; stroke-opacity:1; fill:none\" points=\"1209.8,153.068 1209.8,1486.45 1312.08,1486.45 1312.08,153.068 1209.8,153.068 \"/>\n",
       "<path clip-path=\"url(#clip692)\" d=\"M1312.08 311.804 L1312.08 1486.45 L1414.37 1486.45 L1414.37 311.804 L1312.08 311.804 L1312.08 311.804  Z\" fill=\"#009af9\" fill-rule=\"evenodd\" fill-opacity=\"1\"/>\n",
       "<polyline clip-path=\"url(#clip692)\" style=\"stroke:#000000; stroke-linecap:round; stroke-linejoin:round; stroke-width:4; stroke-opacity:1; fill:none\" points=\"1312.08,311.804 1312.08,1486.45 1414.37,1486.45 1414.37,311.804 1312.08,311.804 \"/>\n",
       "<path clip-path=\"url(#clip692)\" d=\"M1414.37 428.21 L1414.37 1486.45 L1516.65 1486.45 L1516.65 428.21 L1414.37 428.21 L1414.37 428.21  Z\" fill=\"#009af9\" fill-rule=\"evenodd\" fill-opacity=\"1\"/>\n",
       "<polyline clip-path=\"url(#clip692)\" style=\"stroke:#000000; stroke-linecap:round; stroke-linejoin:round; stroke-width:4; stroke-opacity:1; fill:none\" points=\"1414.37,428.21 1414.37,1486.45 1516.65,1486.45 1516.65,428.21 1414.37,428.21 \"/>\n",
       "<path clip-path=\"url(#clip692)\" d=\"M1516.65 777.428 L1516.65 1486.45 L1618.94 1486.45 L1618.94 777.428 L1516.65 777.428 L1516.65 777.428  Z\" fill=\"#009af9\" fill-rule=\"evenodd\" fill-opacity=\"1\"/>\n",
       "<polyline clip-path=\"url(#clip692)\" style=\"stroke:#000000; stroke-linecap:round; stroke-linejoin:round; stroke-width:4; stroke-opacity:1; fill:none\" points=\"1516.65,777.428 1516.65,1486.45 1618.94,1486.45 1618.94,777.428 1516.65,777.428 \"/>\n",
       "<path clip-path=\"url(#clip692)\" d=\"M1618.94 830.34 L1618.94 1486.45 L1721.22 1486.45 L1721.22 830.34 L1618.94 830.34 L1618.94 830.34  Z\" fill=\"#009af9\" fill-rule=\"evenodd\" fill-opacity=\"1\"/>\n",
       "<polyline clip-path=\"url(#clip692)\" style=\"stroke:#000000; stroke-linecap:round; stroke-linejoin:round; stroke-width:4; stroke-opacity:1; fill:none\" points=\"1618.94,830.34 1618.94,1486.45 1721.22,1486.45 1721.22,830.34 1618.94,830.34 \"/>\n",
       "<path clip-path=\"url(#clip692)\" d=\"M1721.22 1084.32 L1721.22 1486.45 L1823.51 1486.45 L1823.51 1084.32 L1721.22 1084.32 L1721.22 1084.32  Z\" fill=\"#009af9\" fill-rule=\"evenodd\" fill-opacity=\"1\"/>\n",
       "<polyline clip-path=\"url(#clip692)\" style=\"stroke:#000000; stroke-linecap:round; stroke-linejoin:round; stroke-width:4; stroke-opacity:1; fill:none\" points=\"1721.22,1084.32 1721.22,1486.45 1823.51,1486.45 1823.51,1084.32 1721.22,1084.32 \"/>\n",
       "<path clip-path=\"url(#clip692)\" d=\"M1823.51 1264.22 L1823.51 1486.45 L1925.8 1486.45 L1925.8 1264.22 L1823.51 1264.22 L1823.51 1264.22  Z\" fill=\"#009af9\" fill-rule=\"evenodd\" fill-opacity=\"1\"/>\n",
       "<polyline clip-path=\"url(#clip692)\" style=\"stroke:#000000; stroke-linecap:round; stroke-linejoin:round; stroke-width:4; stroke-opacity:1; fill:none\" points=\"1823.51,1264.22 1823.51,1486.45 1925.8,1486.45 1925.8,1264.22 1823.51,1264.22 \"/>\n",
       "<path clip-path=\"url(#clip692)\" d=\"M1925.8 1274.8 L1925.8 1486.45 L2028.08 1486.45 L2028.08 1274.8 L1925.8 1274.8 L1925.8 1274.8  Z\" fill=\"#009af9\" fill-rule=\"evenodd\" fill-opacity=\"1\"/>\n",
       "<polyline clip-path=\"url(#clip692)\" style=\"stroke:#000000; stroke-linecap:round; stroke-linejoin:round; stroke-width:4; stroke-opacity:1; fill:none\" points=\"1925.8,1274.8 1925.8,1486.45 2028.08,1486.45 2028.08,1274.8 1925.8,1274.8 \"/>\n",
       "<path clip-path=\"url(#clip692)\" d=\"M2028.08 1412.37 L2028.08 1486.45 L2130.37 1486.45 L2130.37 1412.37 L2028.08 1412.37 L2028.08 1412.37  Z\" fill=\"#009af9\" fill-rule=\"evenodd\" fill-opacity=\"1\"/>\n",
       "<polyline clip-path=\"url(#clip692)\" style=\"stroke:#000000; stroke-linecap:round; stroke-linejoin:round; stroke-width:4; stroke-opacity:1; fill:none\" points=\"2028.08,1412.37 2028.08,1486.45 2130.37,1486.45 2130.37,1412.37 2028.08,1412.37 \"/>\n",
       "<path clip-path=\"url(#clip692)\" d=\"M2130.37 1412.37 L2130.37 1486.45 L2232.65 1486.45 L2232.65 1412.37 L2130.37 1412.37 L2130.37 1412.37  Z\" fill=\"#009af9\" fill-rule=\"evenodd\" fill-opacity=\"1\"/>\n",
       "<polyline clip-path=\"url(#clip692)\" style=\"stroke:#000000; stroke-linecap:round; stroke-linejoin:round; stroke-width:4; stroke-opacity:1; fill:none\" points=\"2130.37,1412.37 2130.37,1486.45 2232.65,1486.45 2232.65,1412.37 2130.37,1412.37 \"/>\n",
       "<circle clip-path=\"url(#clip692)\" style=\"fill:#009af9; stroke:none; fill-opacity:0\" cx=\"340.368\" cy=\"1465.28\" r=\"2\"/>\n",
       "<circle clip-path=\"url(#clip692)\" style=\"fill:#009af9; stroke:none; fill-opacity:0\" cx=\"442.654\" cy=\"1486.45\" r=\"2\"/>\n",
       "<circle clip-path=\"url(#clip692)\" style=\"fill:#009af9; stroke:none; fill-opacity:0\" cx=\"544.939\" cy=\"1422.95\" r=\"2\"/>\n",
       "<circle clip-path=\"url(#clip692)\" style=\"fill:#009af9; stroke:none; fill-opacity:0\" cx=\"647.225\" cy=\"1285.38\" r=\"2\"/>\n",
       "<circle clip-path=\"url(#clip692)\" style=\"fill:#009af9; stroke:none; fill-opacity:0\" cx=\"749.51\" cy=\"1116.06\" r=\"2\"/>\n",
       "<circle clip-path=\"url(#clip692)\" style=\"fill:#009af9; stroke:none; fill-opacity:0\" cx=\"851.796\" cy=\"925.582\" r=\"2\"/>\n",
       "<circle clip-path=\"url(#clip692)\" style=\"fill:#009af9; stroke:none; fill-opacity:0\" cx=\"954.082\" cy=\"534.034\" r=\"2\"/>\n",
       "<circle clip-path=\"url(#clip692)\" style=\"fill:#009af9; stroke:none; fill-opacity:0\" cx=\"1056.37\" cy=\"428.21\" r=\"2\"/>\n",
       "<circle clip-path=\"url(#clip692)\" style=\"fill:#009af9; stroke:none; fill-opacity:0\" cx=\"1158.65\" cy=\"47.2441\" r=\"2\"/>\n",
       "<circle clip-path=\"url(#clip692)\" style=\"fill:#009af9; stroke:none; fill-opacity:0\" cx=\"1260.94\" cy=\"153.068\" r=\"2\"/>\n",
       "<circle clip-path=\"url(#clip692)\" style=\"fill:#009af9; stroke:none; fill-opacity:0\" cx=\"1363.22\" cy=\"311.804\" r=\"2\"/>\n",
       "<circle clip-path=\"url(#clip692)\" style=\"fill:#009af9; stroke:none; fill-opacity:0\" cx=\"1465.51\" cy=\"428.21\" r=\"2\"/>\n",
       "<circle clip-path=\"url(#clip692)\" style=\"fill:#009af9; stroke:none; fill-opacity:0\" cx=\"1567.8\" cy=\"777.428\" r=\"2\"/>\n",
       "<circle clip-path=\"url(#clip692)\" style=\"fill:#009af9; stroke:none; fill-opacity:0\" cx=\"1670.08\" cy=\"830.34\" r=\"2\"/>\n",
       "<circle clip-path=\"url(#clip692)\" style=\"fill:#009af9; stroke:none; fill-opacity:0\" cx=\"1772.37\" cy=\"1084.32\" r=\"2\"/>\n",
       "<circle clip-path=\"url(#clip692)\" style=\"fill:#009af9; stroke:none; fill-opacity:0\" cx=\"1874.65\" cy=\"1264.22\" r=\"2\"/>\n",
       "<circle clip-path=\"url(#clip692)\" style=\"fill:#009af9; stroke:none; fill-opacity:0\" cx=\"1976.94\" cy=\"1274.8\" r=\"2\"/>\n",
       "<circle clip-path=\"url(#clip692)\" style=\"fill:#009af9; stroke:none; fill-opacity:0\" cx=\"2079.22\" cy=\"1412.37\" r=\"2\"/>\n",
       "<circle clip-path=\"url(#clip692)\" style=\"fill:#009af9; stroke:none; fill-opacity:0\" cx=\"2181.51\" cy=\"1412.37\" r=\"2\"/>\n",
       "<path clip-path=\"url(#clip690)\" d=\"M2009.17 198.898 L2279.97 198.898 L2279.97 95.2176 L2009.17 95.2176  Z\" fill=\"#ffffff\" fill-rule=\"evenodd\" fill-opacity=\"1\"/>\n",
       "<polyline clip-path=\"url(#clip690)\" style=\"stroke:#000000; stroke-linecap:round; stroke-linejoin:round; stroke-width:4; stroke-opacity:1; fill:none\" points=\"2009.17,198.898 2279.97,198.898 2279.97,95.2176 2009.17,95.2176 2009.17,198.898 \"/>\n",
       "<path clip-path=\"url(#clip690)\" d=\"M2033.44 167.794 L2179.01 167.794 L2179.01 126.322 L2033.44 126.322 L2033.44 167.794  Z\" fill=\"#009af9\" fill-rule=\"evenodd\" fill-opacity=\"1\"/>\n",
       "<polyline clip-path=\"url(#clip690)\" style=\"stroke:#000000; stroke-linecap:round; stroke-linejoin:round; stroke-width:4; stroke-opacity:1; fill:none\" points=\"2033.44,167.794 2179.01,167.794 2179.01,126.322 2033.44,126.322 2033.44,167.794 \"/>\n",
       "<path clip-path=\"url(#clip690)\" d=\"M2217.12 166.745 Q2215.31 171.375 2213.6 172.787 Q2211.89 174.199 2209.02 174.199 L2205.61 174.199 L2205.61 170.634 L2208.11 170.634 Q2209.87 170.634 2210.84 169.8 Q2211.82 168.967 2213 165.865 L2213.76 163.921 L2203.28 138.412 L2207.79 138.412 L2215.89 158.689 L2223.99 138.412 L2228.51 138.412 L2217.12 166.745 Z\" fill=\"#000000\" fill-rule=\"nonzero\" fill-opacity=\"1\" /><path clip-path=\"url(#clip690)\" d=\"M2235.8 160.402 L2243.44 160.402 L2243.44 134.037 L2235.13 135.703 L2235.13 131.444 L2243.39 129.778 L2248.07 129.778 L2248.07 160.402 L2255.71 160.402 L2255.71 164.338 L2235.8 164.338 L2235.8 160.402 Z\" fill=\"#000000\" fill-rule=\"nonzero\" fill-opacity=\"1\" /></svg>\n"
      ]
     },
     "execution_count": 146,
     "metadata": {},
     "output_type": "execute_result"
    }
   ],
   "source": [
    "n = []\n",
    "for i in 1:1000\n",
    "    train, test= train_test_split(encoded_train,0.1)\n",
    "\n",
    "    X_train =  Matrix(train[:, Not(:consommation)])\n",
    "    y_train = train.consommation\n",
    "    X_test = Matrix(test[:, Not(:consommation)])\n",
    "    y_test = test.consommation\n",
    "\n",
    "\n",
    "    model = RandomForestClassifier(n_subfeatures=6, n_trees=10,min_samples_leaf=1,min_purity_increase=0.0, max_depth=10, min_samples_split=6)\n",
    "    DecisionTree.fit!(model, X_train, y_train)\n",
    "    y_pred = DecisionTree.predict(model, X_test)\n",
    "    #= push!(n,sqrt(mean((decode_class(y_pred) - decode_class(test.consommation)).^2)))\n",
    " =#\n",
    "    push!(n,sqrt(mean((y_pred .- y_test).^2)))\n",
    "end\n",
    "histogram(n)"
   ]
  },
  {
   "cell_type": "code",
   "execution_count": 148,
   "metadata": {},
   "outputs": [
    {
     "name": "stdout",
     "output_type": "stream",
     "text": [
      "0.8334548269164311\n"
     ]
    }
   ],
   "source": [
    "n = 0\n",
    "for i in 1:100\n",
    "    train, test= train_test_split(encoded_train)\n",
    "\n",
    "    X_train =  Matrix(train[:, Not(:consommation)])\n",
    "    y_train = train.consommation\n",
    "    X_test = Matrix(test[:, Not(:consommation)])\n",
    "    y_test = test.consommation\n",
    "\n",
    "\n",
    "    model = RandomForestRegressor(n_subfeatures=7, n_trees=600,min_samples_leaf=1,min_purity_increase=0.0, max_depth=10, min_samples_split=6)\n",
    "    DecisionTree.fit!(model, X_train, y_train)\n",
    "    y_pred = DecisionTree.predict(model, X_test)\n",
    "    #println(y_pred)\n",
    "    y_pred_adjusted = map(x -> findnearest(possibles,x),y_pred)\n",
    "    n += sqrt(mean((y_pred_adjusted - test.consommation).^2))\n",
    "end\n",
    "println(n/100)"
   ]
  },
  {
   "cell_type": "code",
   "execution_count": null,
   "metadata": {},
   "outputs": [],
   "source": [
    "\n",
    "res = []\n",
    "for i in 1:20\n",
    "    n = 0\n",
    "    for i in 1:10\n",
    "        model = RandomForestRegressor(n_trees=i)\n",
    "    DecisionTree.fit!(model, X_train, y_train)\n",
    "    y_pred = DecisionTree.predict(model, X_test)\n",
    "    n += sqrt(mean((y_pred - y_test).^2))\n",
    "    end\n",
    "    push!(res,n/10)\n",
    "end\n",
    "\n",
    "\n",
    "\n",
    "# display the grid\n",
    "plot(1:20, res, label=\"RandomForestRegressor\", xlabel=\"n_trees\", ylabel=\"RMSE\", title=\"RandomForestRegressor RMSE vs n_trees\")"
   ]
  },
  {
   "cell_type": "code",
   "execution_count": null,
   "metadata": {},
   "outputs": [],
   "source": [
    "\n",
    "res = []\n",
    "for i in 1:23\n",
    "    n = 0\n",
    "    for j in 1:10\n",
    "        model = RandomForestRegressor(n_subfeatures=i)\n",
    "    DecisionTree.fit!(model, X_train, y_train)\n",
    "    y_pred = DecisionTree.predict(model, X_test)\n",
    "    n += sqrt(mean((y_pred - test.consommation).^2))\n",
    "    end\n",
    "    push!(res,n/10)\n",
    "end\n",
    "\n",
    "\n",
    "\n",
    "# display the grid\n",
    "plot(1:23, res, label=\"RandomForestRegressor\", xlabel=\"n_subfeatures\", ylabel=\"RMSE\", title=\"RandomForestRegressor RMSE vs n_trees\")"
   ]
  },
  {
   "cell_type": "code",
   "execution_count": null,
   "metadata": {},
   "outputs": [],
   "source": [
    "res = []\n",
    "for i in 1:23\n",
    "    n = 0\n",
    "    for j in 1:10\n",
    "        model = RandomForestRegressor(min_samples_leaf=i)\n",
    "    DecisionTree.fit!(model, X_train, y_train)\n",
    "    y_pred = DecisionTree.predict(model, X_test)\n",
    "    n += sqrt(mean((y_pred - test.consommation).^2))\n",
    "    end\n",
    "    push!(res,n/10)\n",
    "end\n",
    "\n",
    "\n",
    "\n",
    "# display the grid\n",
    "plot(1:23, res, label=\"RandomForestRegressor\", xlabel=\"min_samples_leaf\", ylabel=\"RMSE\", title=\"RandomForestRegressor RMSE vs n_trees\")"
   ]
  },
  {
   "cell_type": "code",
   "execution_count": null,
   "metadata": {},
   "outputs": [],
   "source": [
    "res = []\n",
    "for i in 1:23\n",
    "    n = 0\n",
    "    for j in 1:10\n",
    "        model = RandomForestRegressor(min_purity_increase=i)\n",
    "    DecisionTree.fit!(model, X_train, y_train)\n",
    "    y_pred = DecisionTree.predict(model, X_test)\n",
    "    n += sqrt(mean((y_pred - test.consommation).^2))\n",
    "    end\n",
    "    push!(res,n/10)\n",
    "end\n",
    "\n",
    "\n",
    "\n",
    "# display the grid\n",
    "plot(1:23, res, label=\"RandomForestRegressor\", xlabel=\"min_samples_leaf\", ylabel=\"RMSE\", title=\"RandomForestRegressor RMSE vs n_trees\")"
   ]
  },
  {
   "cell_type": "code",
   "execution_count": null,
   "metadata": {},
   "outputs": [],
   "source": [
    "res = []\n",
    "for i in 2:23\n",
    "    n = 0\n",
    "    for j in 1:10\n",
    "        model = RandomForestRegressor(min_samples_split=i)\n",
    "    DecisionTree.fit!(model, X_train, y_train)\n",
    "    y_pred = DecisionTree.predict(model, X_test)\n",
    "    n += sqrt(mean((y_pred - test.consommation).^2))\n",
    "    end\n",
    "    push!(res,n/10)\n",
    "end\n",
    "\n",
    "\n",
    "\n",
    "# display the grid\n",
    "plot(2:23, res, label=\"RandomForestRegressor\", xlabel=\"min_samples_leaf\", ylabel=\"RMSE\", title=\"RandomForestRegressor RMSE vs n_trees\")"
   ]
  },
  {
   "cell_type": "code",
   "execution_count": 119,
   "metadata": {},
   "outputs": [
    {
     "data": {
      "text/latex": [
       "\\begin{verbatim}\n",
       "RandomForestRegressor(; n_subfeatures::Int=-1,\n",
       "                      n_trees::Int=10,\n",
       "                      partial_sampling::Float=0.7,\n",
       "                      max_depth::Int=-1,\n",
       "                      min_samples_leaf::Int=5,\n",
       "                      rng=Random.GLOBAL_RNG,\n",
       "                      impurity_importance::Bool=true)\n",
       "\\end{verbatim}\n",
       "Random forest regression. See \\href{https://github.com/bensadeghi/DecisionTree.jl}{DecisionTree.jl's documentation}\n",
       "\n",
       "Hyperparameters:\n",
       "\n",
       "\\begin{itemize}\n",
       "\\item \\texttt{n\\_subfeatures}: number of features to consider at random per split (default: -1, sqrt(\\# features))\n",
       "\n",
       "\n",
       "\\item \\texttt{n\\_trees}: number of trees to train (default: 10)\n",
       "\n",
       "\n",
       "\\item \\texttt{partial\\_sampling}: fraction of samples to train each tree on (default: 0.7)\n",
       "\n",
       "\n",
       "\\item \\texttt{max\\_depth}: maximum depth of the decision trees (default: no maximum)\n",
       "\n",
       "\n",
       "\\item \\texttt{min\\_samples\\_leaf}: the minimum number of samples each leaf needs to have (default: 5)\n",
       "\n",
       "\n",
       "\\item \\texttt{min\\_samples\\_split}: the minimum number of samples in needed for a split\n",
       "\n",
       "\n",
       "\\item \\texttt{min\\_purity\\_increase}: minimum purity needed for a split\n",
       "\n",
       "\n",
       "\\item \\texttt{rng}: the random number generator to use. Can be an \\texttt{Int}, which will be used to seed and create a new random number generator. Multi-threaded forests must be seeded with an \\texttt{Int}\n",
       "\n",
       "\n",
       "\\item \\texttt{impurity\\_importance}: whether to calculate feature importances using \\texttt{Mean Decrease in Impurity (MDI)}. See \\href{@ref}{\\texttt{DecisionTree.impurity\\_importance}}.\n",
       "\n",
       "\\end{itemize}\n",
       "Implements \\texttt{fit!}, \\texttt{predict}, \\texttt{get\\_classes}\n",
       "\n"
      ],
      "text/markdown": [
       "```\n",
       "RandomForestRegressor(; n_subfeatures::Int=-1,\n",
       "                      n_trees::Int=10,\n",
       "                      partial_sampling::Float=0.7,\n",
       "                      max_depth::Int=-1,\n",
       "                      min_samples_leaf::Int=5,\n",
       "                      rng=Random.GLOBAL_RNG,\n",
       "                      impurity_importance::Bool=true)\n",
       "```\n",
       "\n",
       "Random forest regression. See [DecisionTree.jl's documentation](https://github.com/bensadeghi/DecisionTree.jl)\n",
       "\n",
       "Hyperparameters:\n",
       "\n",
       "  * `n_subfeatures`: number of features to consider at random per split (default: -1, sqrt(# features))\n",
       "  * `n_trees`: number of trees to train (default: 10)\n",
       "  * `partial_sampling`: fraction of samples to train each tree on (default: 0.7)\n",
       "  * `max_depth`: maximum depth of the decision trees (default: no maximum)\n",
       "  * `min_samples_leaf`: the minimum number of samples each leaf needs to have (default: 5)\n",
       "  * `min_samples_split`: the minimum number of samples in needed for a split\n",
       "  * `min_purity_increase`: minimum purity needed for a split\n",
       "  * `rng`: the random number generator to use. Can be an `Int`, which will be used to seed and create a new random number generator. Multi-threaded forests must be seeded with an `Int`\n",
       "  * `impurity_importance`: whether to calculate feature importances using `Mean Decrease in Impurity (MDI)`. See [`DecisionTree.impurity_importance`](@ref).\n",
       "\n",
       "Implements `fit!`, `predict`, `get_classes`\n"
      ],
      "text/plain": [
       "\u001b[36m  RandomForestRegressor(; n_subfeatures::Int=-1,\u001b[39m\n",
       "\u001b[36m                        n_trees::Int=10,\u001b[39m\n",
       "\u001b[36m                        partial_sampling::Float=0.7,\u001b[39m\n",
       "\u001b[36m                        max_depth::Int=-1,\u001b[39m\n",
       "\u001b[36m                        min_samples_leaf::Int=5,\u001b[39m\n",
       "\u001b[36m                        rng=Random.GLOBAL_RNG,\u001b[39m\n",
       "\u001b[36m                        impurity_importance::Bool=true)\u001b[39m\n",
       "\n",
       "  Random forest regression. See DecisionTree.jl's documentation\n",
       "  (https://github.com/bensadeghi/DecisionTree.jl)\n",
       "\n",
       "  Hyperparameters:\n",
       "\n",
       "    •  \u001b[36mn_subfeatures\u001b[39m: number of features to consider at random per split\n",
       "       (default: -1, sqrt(# features))\n",
       "\n",
       "    •  \u001b[36mn_trees\u001b[39m: number of trees to train (default: 10)\n",
       "\n",
       "    •  \u001b[36mpartial_sampling\u001b[39m: fraction of samples to train each tree on\n",
       "       (default: 0.7)\n",
       "\n",
       "    •  \u001b[36mmax_depth\u001b[39m: maximum depth of the decision trees (default: no\n",
       "       maximum)\n",
       "\n",
       "    •  \u001b[36mmin_samples_leaf\u001b[39m: the minimum number of samples each leaf needs to\n",
       "       have (default: 5)\n",
       "\n",
       "    •  \u001b[36mmin_samples_split\u001b[39m: the minimum number of samples in needed for a\n",
       "       split\n",
       "\n",
       "    •  \u001b[36mmin_purity_increase\u001b[39m: minimum purity needed for a split\n",
       "\n",
       "    •  \u001b[36mrng\u001b[39m: the random number generator to use. Can be an \u001b[36mInt\u001b[39m, which will\n",
       "       be used to seed and create a new random number generator.\n",
       "       Multi-threaded forests must be seeded with an \u001b[36mInt\u001b[39m\n",
       "\n",
       "    •  \u001b[36mimpurity_importance\u001b[39m: whether to calculate feature importances\n",
       "       using \u001b[36mMean Decrease in Impurity (MDI)\u001b[39m. See\n",
       "       \u001b[36mDecisionTree.impurity_importance\u001b[39m.\n",
       "\n",
       "  Implements \u001b[36mfit!\u001b[39m, \u001b[36mpredict\u001b[39m, \u001b[36mget_classes\u001b[39m"
      ]
     },
     "execution_count": 119,
     "metadata": {},
     "output_type": "execute_result"
    }
   ],
   "source": [
    "@doc RandomForestRegressor"
   ]
  },
  {
   "cell_type": "code",
   "execution_count": 488,
   "metadata": {},
   "outputs": [
    {
     "data": {
      "text/latex": [
       "\\begin{verbatim}\n",
       "DecisionTreeRegressor(; pruning_purity_threshold=0.0,\n",
       "                      max_depth::Int-1,\n",
       "                      min_samples_leaf::Int=5,\n",
       "                      min_samples_split::Int=2,\n",
       "                      min_purity_increase::Float=0.0,\n",
       "                      n_subfeatures::Int=0,\n",
       "                      rng=Random.GLOBAL_RNG,\n",
       "                      impurity_importance::Bool=true)\n",
       "\\end{verbatim}\n",
       "Decision tree regression. See \\href{https://github.com/bensadeghi/DecisionTree.jl}{DecisionTree.jl's documentation}\n",
       "\n",
       "Hyperparameters:\n",
       "\n",
       "\\begin{itemize}\n",
       "\\item \\texttt{pruning\\_purity\\_threshold}: (post-pruning) merge leaves having \\texttt{>=thresh} combined purity (default: no pruning). This accuracy-based method may not be appropriate for regression tree.\n",
       "\n",
       "\n",
       "\\item \\texttt{max\\_depth}: maximum depth of the decision tree (default: no maximum)\n",
       "\n",
       "\n",
       "\\item \\texttt{min\\_samples\\_leaf}: the minimum number of samples each leaf needs to have (default: 5)\n",
       "\n",
       "\n",
       "\\item \\texttt{min\\_samples\\_split}: the minimum number of samples in needed for a split (default: 2)\n",
       "\n",
       "\n",
       "\\item \\texttt{min\\_purity\\_increase}: minimum purity needed for a split (default: 0.0)\n",
       "\n",
       "\n",
       "\\item \\texttt{n\\_subfeatures}: number of features to select at random (default: keep all)\n",
       "\n",
       "\n",
       "\\item \\texttt{rng}: the random number generator to use. Can be an \\texttt{Int}, which will be used to seed and create a new random number generator.\n",
       "\n",
       "\n",
       "\\item \\texttt{impurity\\_importance}: whether to calculate feature importances using \\texttt{Mean Decrease in Impurity (MDI)}. See \\href{@ref}{\\texttt{DecisionTree.impurity\\_importance}}\n",
       "\n",
       "\\end{itemize}\n",
       "Implements \\texttt{fit!}, \\texttt{predict}, \\texttt{get\\_classes}\n",
       "\n"
      ],
      "text/markdown": [
       "```\n",
       "DecisionTreeRegressor(; pruning_purity_threshold=0.0,\n",
       "                      max_depth::Int-1,\n",
       "                      min_samples_leaf::Int=5,\n",
       "                      min_samples_split::Int=2,\n",
       "                      min_purity_increase::Float=0.0,\n",
       "                      n_subfeatures::Int=0,\n",
       "                      rng=Random.GLOBAL_RNG,\n",
       "                      impurity_importance::Bool=true)\n",
       "```\n",
       "\n",
       "Decision tree regression. See [DecisionTree.jl's documentation](https://github.com/bensadeghi/DecisionTree.jl)\n",
       "\n",
       "Hyperparameters:\n",
       "\n",
       "  * `pruning_purity_threshold`: (post-pruning) merge leaves having `>=thresh` combined purity (default: no pruning). This accuracy-based method may not be appropriate for regression tree.\n",
       "  * `max_depth`: maximum depth of the decision tree (default: no maximum)\n",
       "  * `min_samples_leaf`: the minimum number of samples each leaf needs to have (default: 5)\n",
       "  * `min_samples_split`: the minimum number of samples in needed for a split (default: 2)\n",
       "  * `min_purity_increase`: minimum purity needed for a split (default: 0.0)\n",
       "  * `n_subfeatures`: number of features to select at random (default: keep all)\n",
       "  * `rng`: the random number generator to use. Can be an `Int`, which will be used to seed and create a new random number generator.\n",
       "  * `impurity_importance`: whether to calculate feature importances using `Mean Decrease in Impurity (MDI)`. See [`DecisionTree.impurity_importance`](@ref)\n",
       "\n",
       "Implements `fit!`, `predict`, `get_classes`\n"
      ],
      "text/plain": [
       "\u001b[36m  DecisionTreeRegressor(; pruning_purity_threshold=0.0,\u001b[39m\n",
       "\u001b[36m                        max_depth::Int-1,\u001b[39m\n",
       "\u001b[36m                        min_samples_leaf::Int=5,\u001b[39m\n",
       "\u001b[36m                        min_samples_split::Int=2,\u001b[39m\n",
       "\u001b[36m                        min_purity_increase::Float=0.0,\u001b[39m\n",
       "\u001b[36m                        n_subfeatures::Int=0,\u001b[39m\n",
       "\u001b[36m                        rng=Random.GLOBAL_RNG,\u001b[39m\n",
       "\u001b[36m                        impurity_importance::Bool=true)\u001b[39m\n",
       "\n",
       "  Decision tree regression. See DecisionTree.jl's documentation\n",
       "  (https://github.com/bensadeghi/DecisionTree.jl)\n",
       "\n",
       "  Hyperparameters:\n",
       "\n",
       "    •  \u001b[36mpruning_purity_threshold\u001b[39m: (post-pruning) merge leaves having\n",
       "       \u001b[36m>=thresh\u001b[39m combined purity (default: no pruning). This\n",
       "       accuracy-based method may not be appropriate for regression tree.\n",
       "\n",
       "    •  \u001b[36mmax_depth\u001b[39m: maximum depth of the decision tree (default: no\n",
       "       maximum)\n",
       "\n",
       "    •  \u001b[36mmin_samples_leaf\u001b[39m: the minimum number of samples each leaf needs to\n",
       "       have (default: 5)\n",
       "\n",
       "    •  \u001b[36mmin_samples_split\u001b[39m: the minimum number of samples in needed for a\n",
       "       split (default: 2)\n",
       "\n",
       "    •  \u001b[36mmin_purity_increase\u001b[39m: minimum purity needed for a split (default:\n",
       "       0.0)\n",
       "\n",
       "    •  \u001b[36mn_subfeatures\u001b[39m: number of features to select at random (default:\n",
       "       keep all)\n",
       "\n",
       "    •  \u001b[36mrng\u001b[39m: the random number generator to use. Can be an \u001b[36mInt\u001b[39m, which will\n",
       "       be used to seed and create a new random number generator.\n",
       "\n",
       "    •  \u001b[36mimpurity_importance\u001b[39m: whether to calculate feature importances\n",
       "       using \u001b[36mMean Decrease in Impurity (MDI)\u001b[39m. See\n",
       "       \u001b[36mDecisionTree.impurity_importance\u001b[39m\n",
       "\n",
       "  Implements \u001b[36mfit!\u001b[39m, \u001b[36mpredict\u001b[39m, \u001b[36mget_classes\u001b[39m"
      ]
     },
     "execution_count": 488,
     "metadata": {},
     "output_type": "execute_result"
    }
   ],
   "source": [
    "@doc DecisionTreeRegressor"
   ]
  },
  {
   "cell_type": "code",
   "execution_count": null,
   "metadata": {},
   "outputs": [
    {
     "data": {
      "text/plain": [
       "1.1704408817014724"
      ]
     },
     "execution_count": 515,
     "metadata": {},
     "output_type": "execute_result"
    }
   ],
   "source": [
    "model = DecisionTreeRegressor(n_subfeatures=12, min_samples_leaf=1,min_purity_increase=0.0, max_depth=10, min_samples_split=6,)\n",
    "DecisionTree.fit!(model, X_train, y_train)\n",
    "y_pred = DecisionTree.predict(model, X_test)\n",
    "sqrt(mean((y_pred - test.consommation).^2))"
   ]
  },
  {
   "cell_type": "code",
   "execution_count": 456,
   "metadata": {},
   "outputs": [
    {
     "data": {
      "text/plain": [
       "79-element Vector{Float64}:\n",
       "  1.2240951129805515\n",
       "  0.17625130984704987\n",
       "  1.479696235370256\n",
       " -0.2607463003952433\n",
       "  1.5211869207713695\n",
       " -1.3097410769834612\n",
       " -1.376475788529015\n",
       " -1.3608160998913268\n",
       "  0.6165740389681241\n",
       " -1.2787160338849795\n",
       "  1.4209770672951387\n",
       "  1.7941338351390625\n",
       "  0.3887079431074021\n",
       "  ⋮\n",
       "  0.37544214897858164\n",
       " -1.5136770521451326\n",
       " -1.079500521944099\n",
       "  1.174229577971678\n",
       " -1.0333093095750074\n",
       " -0.01294650848269291\n",
       " -1.2879443398905748\n",
       " -1.4793632637667964\n",
       "  1.2431097360103887\n",
       " -1.304503701086083\n",
       " -0.8312720241469432\n",
       " -1.2995868865253335"
      ]
     },
     "execution_count": 456,
     "metadata": {},
     "output_type": "execute_result"
    }
   ],
   "source": [
    "y_pred"
   ]
  },
  {
   "cell_type": "code",
   "execution_count": 21,
   "metadata": {},
   "outputs": [
    {
     "data": {
      "text/plain": [
       "\"benchmark1.csv\""
      ]
     },
     "execution_count": 21,
     "metadata": {},
     "output_type": "execute_result"
    }
   ],
   "source": [
    "id = 1:150\n",
    "\n",
    "df_pred = DataFrame(id=id, consommation=res)\n",
    "\n",
    "CSV.write(\"benchmark1.csv\", df_pred)"
   ]
  }
 ],
 "metadata": {
  "kernelspec": {
   "display_name": "Julia 1.10.5",
   "language": "julia",
   "name": "julia-1.10"
  },
  "language_info": {
   "file_extension": ".jl",
   "mimetype": "application/julia",
   "name": "julia",
   "version": "1.10.5"
  }
 },
 "nbformat": 4,
 "nbformat_minor": 2
}
