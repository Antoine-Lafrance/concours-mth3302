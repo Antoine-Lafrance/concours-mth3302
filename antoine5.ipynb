{
 "cells": [
  {
   "cell_type": "code",
   "execution_count": 24,
   "metadata": {},
   "outputs": [],
   "source": [
    "using CSV, DataFrames, Statistics, Dates, Plots, LinearAlgebra, DecisionTree, Random"
   ]
  },
  {
   "cell_type": "code",
   "execution_count": 25,
   "metadata": {},
   "outputs": [
    {
     "data": {
      "text/html": [
       "<div><div style = \"float: left;\"><span>5×7 DataFrame</span></div><div style = \"clear: both;\"></div></div><div class = \"data-frame\" style = \"overflow-x: scroll;\"><table class = \"data-frame\" style = \"margin-bottom: 6px;\"><thead><tr class = \"header\"><th class = \"rowNumber\" style = \"font-weight: bold; text-align: right;\">Row</th><th style = \"text-align: left;\">annee</th><th style = \"text-align: left;\">type</th><th style = \"text-align: left;\">nombre_cylindres</th><th style = \"text-align: left;\">cylindree</th><th style = \"text-align: left;\">transmission</th><th style = \"text-align: left;\">boite</th><th style = \"text-align: left;\">consommation</th></tr><tr class = \"subheader headerLastRow\"><th class = \"rowNumber\" style = \"font-weight: bold; text-align: right;\"></th><th title = \"Int64\" style = \"text-align: left;\">Int64</th><th title = \"String31\" style = \"text-align: left;\">String31</th><th title = \"Int64\" style = \"text-align: left;\">Int64</th><th title = \"String3\" style = \"text-align: left;\">String3</th><th title = \"String15\" style = \"text-align: left;\">String15</th><th title = \"String15\" style = \"text-align: left;\">String15</th><th title = \"String31\" style = \"text-align: left;\">String31</th></tr></thead><tbody><tr><td class = \"rowNumber\" style = \"font-weight: bold; text-align: right;\">1</td><td style = \"text-align: right;\">2023</td><td style = \"text-align: left;\">voiture_moyenne</td><td style = \"text-align: right;\">8</td><td style = \"text-align: left;\">4,4</td><td style = \"text-align: left;\">integrale</td><td style = \"text-align: left;\">automatique</td><td style = \"text-align: left;\">13,8358823529412</td></tr><tr><td class = \"rowNumber\" style = \"font-weight: bold; text-align: right;\">2</td><td style = \"text-align: right;\">2020</td><td style = \"text-align: left;\">VUS_petit</td><td style = \"text-align: right;\">4</td><td style = \"text-align: left;\">2</td><td style = \"text-align: left;\">integrale</td><td style = \"text-align: left;\">automatique</td><td style = \"text-align: left;\">9,80041666666667</td></tr><tr><td class = \"rowNumber\" style = \"font-weight: bold; text-align: right;\">3</td><td style = \"text-align: right;\">2021</td><td style = \"text-align: left;\">voiture_compacte</td><td style = \"text-align: right;\">6</td><td style = \"text-align: left;\">3,3</td><td style = \"text-align: left;\">propulsion</td><td style = \"text-align: left;\">automatique</td><td style = \"text-align: left;\">11,7605</td></tr><tr><td class = \"rowNumber\" style = \"font-weight: bold; text-align: right;\">4</td><td style = \"text-align: right;\">2023</td><td style = \"text-align: left;\">voiture_deux_places</td><td style = \"text-align: right;\">8</td><td style = \"text-align: left;\">5</td><td style = \"text-align: left;\">integrale</td><td style = \"text-align: left;\">automatique</td><td style = \"text-align: left;\">13,0672222222222</td></tr><tr><td class = \"rowNumber\" style = \"font-weight: bold; text-align: right;\">5</td><td style = \"text-align: right;\">2022</td><td style = \"text-align: left;\">voiture_moyenne</td><td style = \"text-align: right;\">8</td><td style = \"text-align: left;\">4,4</td><td style = \"text-align: left;\">integrale</td><td style = \"text-align: left;\">automatique</td><td style = \"text-align: left;\">13,8358823529412</td></tr></tbody></table></div>"
      ],
      "text/latex": [
       "\\begin{tabular}{r|ccccccc}\n",
       "\t& annee & type & nombre\\_cylindres & cylindree & transmission & boite & \\\\\n",
       "\t\\hline\n",
       "\t& Int64 & String31 & Int64 & String3 & String15 & String15 & \\\\\n",
       "\t\\hline\n",
       "\t1 & 2023 & voiture\\_moyenne & 8 & 4,4 & integrale & automatique & $\\dots$ \\\\\n",
       "\t2 & 2020 & VUS\\_petit & 4 & 2 & integrale & automatique & $\\dots$ \\\\\n",
       "\t3 & 2021 & voiture\\_compacte & 6 & 3,3 & propulsion & automatique & $\\dots$ \\\\\n",
       "\t4 & 2023 & voiture\\_deux\\_places & 8 & 5 & integrale & automatique & $\\dots$ \\\\\n",
       "\t5 & 2022 & voiture\\_moyenne & 8 & 4,4 & integrale & automatique & $\\dots$ \\\\\n",
       "\\end{tabular}\n"
      ],
      "text/plain": [
       "\u001b[1m5×7 DataFrame\u001b[0m\n",
       "\u001b[1m Row \u001b[0m│\u001b[1m annee \u001b[0m\u001b[1m type                \u001b[0m\u001b[1m nombre_cylindres \u001b[0m\u001b[1m cylindree \u001b[0m\u001b[1m transmission \u001b[0m\u001b[1m \u001b[0m ⋯\n",
       "     │\u001b[90m Int64 \u001b[0m\u001b[90m String31            \u001b[0m\u001b[90m Int64            \u001b[0m\u001b[90m String3   \u001b[0m\u001b[90m String15     \u001b[0m\u001b[90m \u001b[0m ⋯\n",
       "─────┼──────────────────────────────────────────────────────────────────────────\n",
       "   1 │  2023  voiture_moyenne                     8  4,4        integrale      ⋯\n",
       "   2 │  2020  VUS_petit                           4  2          integrale\n",
       "   3 │  2021  voiture_compacte                    6  3,3        propulsion\n",
       "   4 │  2023  voiture_deux_places                 8  5          integrale\n",
       "   5 │  2022  voiture_moyenne                     8  4,4        integrale      ⋯\n",
       "\u001b[36m                                                               2 columns omitted\u001b[0m"
      ]
     },
     "execution_count": 25,
     "metadata": {},
     "output_type": "execute_result"
    }
   ],
   "source": [
    "trainData = CSV.read(\"./data/train.csv\", DataFrame)\n",
    "testData = CSV.read(\"./data/test.csv\", DataFrame)\n",
    "first(trainData, 5)"
   ]
  },
  {
   "cell_type": "code",
   "execution_count": 48,
   "metadata": {},
   "outputs": [
    {
     "ename": "LoadError",
     "evalue": "MethodError: no method matching similar(::Float64, ::Type{Any})\n\n\u001b[0mClosest candidates are:\n\u001b[0m  similar(\u001b[91m::ZMQ.Message\u001b[39m, ::Type{T}, \u001b[91m::Tuple{Vararg{Int64, N}} where N\u001b[39m) where T\n\u001b[0m\u001b[90m   @\u001b[39m \u001b[36mZMQ\u001b[39m \u001b[90mC:\\Users\\Antoine\\.julia\\packages\\ZMQ\\7UMJa\\src\\\u001b[39m\u001b[90m\u001b[4mmessage.jl:162\u001b[24m\u001b[39m\n\u001b[0m  similar(\u001b[91m::SubArray\u001b[39m, ::Type, \u001b[91m::Tuple{Vararg{Int64, N}} where N\u001b[39m)\n\u001b[0m\u001b[90m   @\u001b[39m \u001b[90mBase\u001b[39m \u001b[90m\u001b[4msubarray.jl:65\u001b[24m\u001b[39m\n\u001b[0m  similar(\u001b[91m::Vector{T}\u001b[39m, ::Type) where T\n\u001b[0m\u001b[90m   @\u001b[39m \u001b[90mBase\u001b[39m \u001b[90m\u001b[4marray.jl:417\u001b[24m\u001b[39m\n\u001b[0m  ...\n",
     "output_type": "error",
     "traceback": [
      "MethodError: no method matching similar(::Float64, ::Type{Any})\n\n\u001b[0mClosest candidates are:\n\u001b[0m  similar(\u001b[91m::ZMQ.Message\u001b[39m, ::Type{T}, \u001b[91m::Tuple{Vararg{Int64, N}} where N\u001b[39m) where T\n\u001b[0m\u001b[90m   @\u001b[39m \u001b[36mZMQ\u001b[39m \u001b[90mC:\\Users\\Antoine\\.julia\\packages\\ZMQ\\7UMJa\\src\\\u001b[39m\u001b[90m\u001b[4mmessage.jl:162\u001b[24m\u001b[39m\n\u001b[0m  similar(\u001b[91m::SubArray\u001b[39m, ::Type, \u001b[91m::Tuple{Vararg{Int64, N}} where N\u001b[39m)\n\u001b[0m\u001b[90m   @\u001b[39m \u001b[90mBase\u001b[39m \u001b[90m\u001b[4msubarray.jl:65\u001b[24m\u001b[39m\n\u001b[0m  similar(\u001b[91m::Vector{T}\u001b[39m, ::Type) where T\n\u001b[0m\u001b[90m   @\u001b[39m \u001b[90mBase\u001b[39m \u001b[90m\u001b[4marray.jl:417\u001b[24m\u001b[39m\n\u001b[0m  ...\n",
      "",
      "Stacktrace:",
      "  [1] _similar_or_copy(x::Float64, ::Type{Any})",
      "    @ Base .\\set.jl:572",
      "  [2] replace(A::Float64, old_new::Pair{String, String}; count::Nothing)",
      "    @ Base .\\set.jl:690",
      "  [3] replace(A::Float64, old_new::Pair{String, String})",
      "    @ Base .\\set.jl:686",
      "  [4] _broadcast_getindex_evalf",
      "    @ .\\broadcast.jl:709 [inlined]",
      "  [5] _broadcast_getindex",
      "    @ .\\broadcast.jl:682 [inlined]",
      "  [6] _getindex",
      "    @ .\\broadcast.jl:706 [inlined]",
      "  [7] _broadcast_getindex",
      "    @ .\\broadcast.jl:691 [inlined]",
      "  [8] getindex",
      "    @ .\\broadcast.jl:636 [inlined]",
      "  [9] copy",
      "    @ .\\broadcast.jl:942 [inlined]",
      " [10] materialize(bc::Base.Broadcast.Broadcasted{Base.Broadcast.DefaultArrayStyle{1}, Nothing, typeof(parse), Tuple{Base.RefValue{Type{Float64}}, Base.Broadcast.Broadcasted{Base.Broadcast.DefaultArrayStyle{1}, Nothing, typeof(replace), Tuple{Vector{Float64}, Base.RefValue{Pair{String, String}}}}}})",
      "    @ Base.Broadcast .\\broadcast.jl:903",
      " [11] top-level scope",
      "    @ In[48]:2"
     ]
    }
   ],
   "source": [
    "#= trainData.consommation = parse.(Float64,replace.(trainData.consommation, \",\" => \".\")) =#\n",
    "trainData.cylindree = parse.(Float64,replace.(trainData.cylindree, \",\" => \".\")) \n",
    "\n",
    "testData.cylindree = parse.(Float64,replace.(testData.cylindree, \",\" => \".\"))"
   ]
  },
  {
   "cell_type": "code",
   "execution_count": 49,
   "metadata": {},
   "outputs": [
    {
     "data": {
      "text/plain": [
       "25-element Vector{Float64}:\n",
       " 13.8358823529412\n",
       "  9.80041666666667\n",
       " 11.7605\n",
       " 13.0672222222222\n",
       "  7.3503125\n",
       "  7.58741935483871\n",
       " 11.2004761904762\n",
       " 14.700625\n",
       " 12.3794736842105\n",
       " 10.6913636363636\n",
       "  9.4084\n",
       " 15.6806666666667\n",
       "  8.71148148148148\n",
       "  8.11068965517241\n",
       " 10.2265217391304\n",
       "  7.84033333333333\n",
       "  8.40035714285714\n",
       "  9.04653846153846\n",
       " 16.8007142857143\n",
       "  6.91794117647059\n",
       "  6.35702702702703\n",
       "  4.52326923076923\n",
       "  7.12757575757576\n",
       "  4.90020833333333\n",
       "  6.53361111111111"
      ]
     },
     "execution_count": 49,
     "metadata": {},
     "output_type": "execute_result"
    }
   ],
   "source": [
    "possibles = unique(trainData.consommation)"
   ]
  },
  {
   "cell_type": "code",
   "execution_count": 50,
   "metadata": {},
   "outputs": [
    {
     "data": {
      "text/plain": [
       "findnearest (generic function with 1 method)"
      ]
     },
     "execution_count": 50,
     "metadata": {},
     "output_type": "execute_result"
    }
   ],
   "source": [
    "findnearest(A::Vector{Float64},t::Float64) = A[findmin(broadcast(abs,A.-t))[2]]"
   ]
  },
  {
   "cell_type": "code",
   "execution_count": 93,
   "metadata": {},
   "outputs": [
    {
     "data": {
      "text/plain": [
       "150-element Vector{Float64}:\n",
       " 10.0\n",
       " 10.0\n",
       " 10.0\n",
       "  8.0\n",
       " 46.4\n",
       " 40.0\n",
       " 40.0\n",
       "  9.6\n",
       " 21.0\n",
       " 52.0\n",
       " 52.0\n",
       " 70.80000000000001\n",
       "  8.0\n",
       "  ⋮\n",
       "  6.4\n",
       " 19.799999999999997\n",
       " 40.0\n",
       "  8.0\n",
       "  8.0\n",
       "  6.4\n",
       "  8.0\n",
       "  8.0\n",
       " 18.0\n",
       " 18.0\n",
       "  4.5\n",
       "  8.0"
      ]
     },
     "execution_count": 93,
     "metadata": {},
     "output_type": "execute_result"
    }
   ],
   "source": [
    "trainData[!,:volume_gaz] = trainData[!,:nombre_cylindres] .* trainData[!,:cylindree]\n",
    "\n",
    "testData[!,:volume_gaz] = testData[!,:nombre_cylindres] .* testData[!,:cylindree]"
   ]
  },
  {
   "cell_type": "code",
   "execution_count": 52,
   "metadata": {},
   "outputs": [
    {
     "data": {
      "text/plain": [
       "train_test_split (generic function with 3 methods)"
      ]
     },
     "execution_count": 52,
     "metadata": {},
     "output_type": "execute_result"
    }
   ],
   "source": [
    "function train_test_split(data, test_size=0.2, shuffle=true)\n",
    "    n = size(data, 1)\n",
    "    test_size = floor(Int, n * test_size)\n",
    "    \n",
    "    if shuffle\n",
    "        indices = randperm(n)\n",
    "    else\n",
    "        indices = 1:n\n",
    "    end\n",
    "    \n",
    "    test_indices = indices[1:test_size]\n",
    "    train_indices = indices[test_size+1:end]\n",
    "    \n",
    "    train_data = data[train_indices, :]\n",
    "    test_data = data[test_indices, :]\n",
    "    \n",
    "    return train_data, test_data\n",
    "end"
   ]
  },
  {
   "cell_type": "code",
   "execution_count": 53,
   "metadata": {},
   "outputs": [
    {
     "data": {
      "text/plain": [
       "norm_cols (generic function with 1 method)"
      ]
     },
     "execution_count": 53,
     "metadata": {},
     "output_type": "execute_result"
    }
   ],
   "source": [
    "function encode(data, column)\n",
    "    for c in unique(data[!, column])\n",
    "        data[!, Symbol(c)] = ifelse.(data[!, column] .== c, 1, 0)\n",
    "    end\n",
    "    return data\n",
    "end\n",
    "\n",
    "\n",
    "function encode_data(data)\n",
    "    encoded_data = deepcopy(data)\n",
    "    encoded_data = encode(encoded_data, :type)\n",
    "    encoded_data = encode(encoded_data, :transmission)\n",
    "    encoded_data = encode(encoded_data, :boite)\n",
    "    encoded_data = encode(encoded_data, :nombre_cylindres)\n",
    "\n",
    "    return encoded_data\n",
    "end\n",
    "\n",
    "function removeRows(data)\n",
    "    return select!(data, Not([:type, :transmission, :boite, :nombre_cylindres]))\n",
    "end\n",
    "\n",
    "function normalize_column(data, column)\n",
    "    data[!, column] = (data[!, column] .- mean(data[!, column])) ./ std(data[!, column])\n",
    "    return data\n",
    "end\n",
    "\n",
    "function norm_cols(data)\n",
    "    normalized_data = deepcopy(data)\n",
    "    normalized_data = normalize_column(normalized_data, :cylindree)\n",
    "    normalized_data = normalize_column(normalized_data, :volume_gaz)\n",
    "    return normalized_data\n",
    "end"
   ]
  },
  {
   "cell_type": "code",
   "execution_count": 104,
   "metadata": {},
   "outputs": [
    {
     "data": {
      "text/plain": [
       "((79, 29), (317, 29), (79,), (317,))"
      ]
     },
     "execution_count": 104,
     "metadata": {},
     "output_type": "execute_result"
    }
   ],
   "source": [
    "#encoded_train = trainData\n",
    "encoded_train = encode_data(encoded_train)\n",
    "encoded_train = removeRows(encoded_train)\n",
    "\n",
    "#encoded_train.cylindree = encoded_train.cylindree .- minimum(encoded_train.cylindree)\n",
    "#encoded_train.volume_gaz = encoded_train.volume_gaz .- minimum(encoded_train.volume_gaz)\n",
    "#encoded_train.annee = encoded_train.annee .-minimum(encoded_train.annee)\n",
    "\n",
    "\n",
    "train, test= train_test_split(encoded_train)\n",
    "\n",
    "\n",
    "#= encoded_train =#\n",
    "\n",
    "X_train =  Matrix(train[:, Not(:consommation)])\n",
    "y_train = train.consommation\n",
    "X_test = Matrix(test[:, Not(:consommation)])\n",
    "y_test = test.consommation\n",
    "\n",
    "size(X_test),size(X_train),size(y_test),size(y_train)"
   ]
  },
  {
   "cell_type": "code",
   "execution_count": 105,
   "metadata": {},
   "outputs": [
    {
     "data": {
      "text/html": [
       "<div><div style = \"float: left;\"><span>396×30 DataFrame</span></div><div style = \"float: right;\"><span style = \"font-style: italic;\">371 rows omitted</span></div><div style = \"clear: both;\"></div></div><div class = \"data-frame\" style = \"overflow-x: scroll;\"><table class = \"data-frame\" style = \"margin-bottom: 6px;\"><thead><tr class = \"header\"><th class = \"rowNumber\" style = \"font-weight: bold; text-align: right;\">Row</th><th style = \"text-align: left;\">annee</th><th style = \"text-align: left;\">cylindree</th><th style = \"text-align: left;\">consommation</th><th style = \"text-align: left;\">volume_gaz</th><th style = \"text-align: left;\">voiture_moyenne</th><th style = \"text-align: left;\">VUS_petit</th><th style = \"text-align: left;\">voiture_compacte</th><th style = \"text-align: left;\">voiture_deux_places</th><th style = \"text-align: left;\">voiture_minicompacte</th><th style = \"text-align: left;\">VUS_standard</th><th style = \"text-align: left;\">monospace</th><th style = \"text-align: left;\">voiture_sous_compacte</th><th style = \"text-align: left;\">camionnette_petit</th><th style = \"text-align: left;\">break_petit</th><th style = \"text-align: left;\">voiture_grande</th><th style = \"text-align: left;\">camionnette_standard</th><th style = \"text-align: left;\">break_moyen</th><th style = \"text-align: left;\">integrale</th><th style = \"text-align: left;\">propulsion</th><th style = \"text-align: left;\">traction</th><th style = \"text-align: left;\">4x4</th><th style = \"text-align: left;\">automatique</th><th style = \"text-align: left;\">manuelle</th><th style = \"text-align: left;\">8</th><th style = \"text-align: left;\">4</th><th style = \"text-align: left;\">6</th><th style = \"text-align: left;\">3</th><th style = \"text-align: left;\">12</th><th style = \"text-align: left;\">10</th><th style = \"text-align: left;\">5</th></tr><tr class = \"subheader headerLastRow\"><th class = \"rowNumber\" style = \"font-weight: bold; text-align: right;\"></th><th title = \"Int64\" style = \"text-align: left;\">Int64</th><th title = \"Float64\" style = \"text-align: left;\">Float64</th><th title = \"Float64\" style = \"text-align: left;\">Float64</th><th title = \"Float64\" style = \"text-align: left;\">Float64</th><th title = \"Int64\" style = \"text-align: left;\">Int64</th><th title = \"Int64\" style = \"text-align: left;\">Int64</th><th title = \"Int64\" style = \"text-align: left;\">Int64</th><th title = \"Int64\" style = \"text-align: left;\">Int64</th><th title = \"Int64\" style = \"text-align: left;\">Int64</th><th title = \"Int64\" style = \"text-align: left;\">Int64</th><th title = \"Int64\" style = \"text-align: left;\">Int64</th><th title = \"Int64\" style = \"text-align: left;\">Int64</th><th title = \"Int64\" style = \"text-align: left;\">Int64</th><th title = \"Int64\" style = \"text-align: left;\">Int64</th><th title = \"Int64\" style = \"text-align: left;\">Int64</th><th title = \"Int64\" style = \"text-align: left;\">Int64</th><th title = \"Int64\" style = \"text-align: left;\">Int64</th><th title = \"Int64\" style = \"text-align: left;\">Int64</th><th title = \"Int64\" style = \"text-align: left;\">Int64</th><th title = \"Int64\" style = \"text-align: left;\">Int64</th><th title = \"Int64\" style = \"text-align: left;\">Int64</th><th title = \"Int64\" style = \"text-align: left;\">Int64</th><th title = \"Int64\" style = \"text-align: left;\">Int64</th><th title = \"Int64\" style = \"text-align: left;\">Int64</th><th title = \"Int64\" style = \"text-align: left;\">Int64</th><th title = \"Int64\" style = \"text-align: left;\">Int64</th><th title = \"Int64\" style = \"text-align: left;\">Int64</th><th title = \"Int64\" style = \"text-align: left;\">Int64</th><th title = \"Int64\" style = \"text-align: left;\">Int64</th><th title = \"Int64\" style = \"text-align: left;\">Int64</th></tr></thead><tbody><tr><td class = \"rowNumber\" style = \"font-weight: bold; text-align: right;\">1</td><td style = \"text-align: right;\">2023</td><td style = \"text-align: right;\">4.4</td><td style = \"text-align: right;\">13.8359</td><td style = \"text-align: right;\">35.2</td><td style = \"text-align: right;\">1</td><td style = \"text-align: right;\">0</td><td style = \"text-align: right;\">0</td><td style = \"text-align: right;\">0</td><td style = \"text-align: right;\">0</td><td style = \"text-align: right;\">0</td><td style = \"text-align: right;\">0</td><td style = \"text-align: right;\">0</td><td style = \"text-align: right;\">0</td><td style = \"text-align: right;\">0</td><td style = \"text-align: right;\">0</td><td style = \"text-align: right;\">0</td><td style = \"text-align: right;\">0</td><td style = \"text-align: right;\">1</td><td style = \"text-align: right;\">0</td><td style = \"text-align: right;\">0</td><td style = \"text-align: right;\">0</td><td style = \"text-align: right;\">1</td><td style = \"text-align: right;\">0</td><td style = \"text-align: right;\">1</td><td style = \"text-align: right;\">0</td><td style = \"text-align: right;\">0</td><td style = \"text-align: right;\">0</td><td style = \"text-align: right;\">0</td><td style = \"text-align: right;\">0</td><td style = \"text-align: right;\">0</td></tr><tr><td class = \"rowNumber\" style = \"font-weight: bold; text-align: right;\">2</td><td style = \"text-align: right;\">2020</td><td style = \"text-align: right;\">2.0</td><td style = \"text-align: right;\">9.80042</td><td style = \"text-align: right;\">8.0</td><td style = \"text-align: right;\">0</td><td style = \"text-align: right;\">1</td><td style = \"text-align: right;\">0</td><td style = \"text-align: right;\">0</td><td style = \"text-align: right;\">0</td><td style = \"text-align: right;\">0</td><td style = \"text-align: right;\">0</td><td style = \"text-align: right;\">0</td><td style = \"text-align: right;\">0</td><td style = \"text-align: right;\">0</td><td style = \"text-align: right;\">0</td><td style = \"text-align: right;\">0</td><td style = \"text-align: right;\">0</td><td style = \"text-align: right;\">1</td><td style = \"text-align: right;\">0</td><td style = \"text-align: right;\">0</td><td style = \"text-align: right;\">0</td><td style = \"text-align: right;\">1</td><td style = \"text-align: right;\">0</td><td style = \"text-align: right;\">0</td><td style = \"text-align: right;\">1</td><td style = \"text-align: right;\">0</td><td style = \"text-align: right;\">0</td><td style = \"text-align: right;\">0</td><td style = \"text-align: right;\">0</td><td style = \"text-align: right;\">0</td></tr><tr><td class = \"rowNumber\" style = \"font-weight: bold; text-align: right;\">3</td><td style = \"text-align: right;\">2021</td><td style = \"text-align: right;\">3.3</td><td style = \"text-align: right;\">11.7605</td><td style = \"text-align: right;\">19.8</td><td style = \"text-align: right;\">0</td><td style = \"text-align: right;\">0</td><td style = \"text-align: right;\">1</td><td style = \"text-align: right;\">0</td><td style = \"text-align: right;\">0</td><td style = \"text-align: right;\">0</td><td style = \"text-align: right;\">0</td><td style = \"text-align: right;\">0</td><td style = \"text-align: right;\">0</td><td style = \"text-align: right;\">0</td><td style = \"text-align: right;\">0</td><td style = \"text-align: right;\">0</td><td style = \"text-align: right;\">0</td><td style = \"text-align: right;\">0</td><td style = \"text-align: right;\">1</td><td style = \"text-align: right;\">0</td><td style = \"text-align: right;\">0</td><td style = \"text-align: right;\">1</td><td style = \"text-align: right;\">0</td><td style = \"text-align: right;\">0</td><td style = \"text-align: right;\">0</td><td style = \"text-align: right;\">1</td><td style = \"text-align: right;\">0</td><td style = \"text-align: right;\">0</td><td style = \"text-align: right;\">0</td><td style = \"text-align: right;\">0</td></tr><tr><td class = \"rowNumber\" style = \"font-weight: bold; text-align: right;\">4</td><td style = \"text-align: right;\">2023</td><td style = \"text-align: right;\">5.0</td><td style = \"text-align: right;\">13.0672</td><td style = \"text-align: right;\">40.0</td><td style = \"text-align: right;\">0</td><td style = \"text-align: right;\">0</td><td style = \"text-align: right;\">0</td><td style = \"text-align: right;\">1</td><td style = \"text-align: right;\">0</td><td style = \"text-align: right;\">0</td><td style = \"text-align: right;\">0</td><td style = \"text-align: right;\">0</td><td style = \"text-align: right;\">0</td><td style = \"text-align: right;\">0</td><td style = \"text-align: right;\">0</td><td style = \"text-align: right;\">0</td><td style = \"text-align: right;\">0</td><td style = \"text-align: right;\">1</td><td style = \"text-align: right;\">0</td><td style = \"text-align: right;\">0</td><td style = \"text-align: right;\">0</td><td style = \"text-align: right;\">1</td><td style = \"text-align: right;\">0</td><td style = \"text-align: right;\">1</td><td style = \"text-align: right;\">0</td><td style = \"text-align: right;\">0</td><td style = \"text-align: right;\">0</td><td style = \"text-align: right;\">0</td><td style = \"text-align: right;\">0</td><td style = \"text-align: right;\">0</td></tr><tr><td class = \"rowNumber\" style = \"font-weight: bold; text-align: right;\">5</td><td style = \"text-align: right;\">2022</td><td style = \"text-align: right;\">4.4</td><td style = \"text-align: right;\">13.8359</td><td style = \"text-align: right;\">35.2</td><td style = \"text-align: right;\">1</td><td style = \"text-align: right;\">0</td><td style = \"text-align: right;\">0</td><td style = \"text-align: right;\">0</td><td style = \"text-align: right;\">0</td><td style = \"text-align: right;\">0</td><td style = \"text-align: right;\">0</td><td style = \"text-align: right;\">0</td><td style = \"text-align: right;\">0</td><td style = \"text-align: right;\">0</td><td style = \"text-align: right;\">0</td><td style = \"text-align: right;\">0</td><td style = \"text-align: right;\">0</td><td style = \"text-align: right;\">1</td><td style = \"text-align: right;\">0</td><td style = \"text-align: right;\">0</td><td style = \"text-align: right;\">0</td><td style = \"text-align: right;\">1</td><td style = \"text-align: right;\">0</td><td style = \"text-align: right;\">1</td><td style = \"text-align: right;\">0</td><td style = \"text-align: right;\">0</td><td style = \"text-align: right;\">0</td><td style = \"text-align: right;\">0</td><td style = \"text-align: right;\">0</td><td style = \"text-align: right;\">0</td></tr><tr><td class = \"rowNumber\" style = \"font-weight: bold; text-align: right;\">6</td><td style = \"text-align: right;\">2022</td><td style = \"text-align: right;\">4.4</td><td style = \"text-align: right;\">13.8359</td><td style = \"text-align: right;\">35.2</td><td style = \"text-align: right;\">1</td><td style = \"text-align: right;\">0</td><td style = \"text-align: right;\">0</td><td style = \"text-align: right;\">0</td><td style = \"text-align: right;\">0</td><td style = \"text-align: right;\">0</td><td style = \"text-align: right;\">0</td><td style = \"text-align: right;\">0</td><td style = \"text-align: right;\">0</td><td style = \"text-align: right;\">0</td><td style = \"text-align: right;\">0</td><td style = \"text-align: right;\">0</td><td style = \"text-align: right;\">0</td><td style = \"text-align: right;\">1</td><td style = \"text-align: right;\">0</td><td style = \"text-align: right;\">0</td><td style = \"text-align: right;\">0</td><td style = \"text-align: right;\">1</td><td style = \"text-align: right;\">0</td><td style = \"text-align: right;\">1</td><td style = \"text-align: right;\">0</td><td style = \"text-align: right;\">0</td><td style = \"text-align: right;\">0</td><td style = \"text-align: right;\">0</td><td style = \"text-align: right;\">0</td><td style = \"text-align: right;\">0</td></tr><tr><td class = \"rowNumber\" style = \"font-weight: bold; text-align: right;\">7</td><td style = \"text-align: right;\">2022</td><td style = \"text-align: right;\">1.5</td><td style = \"text-align: right;\">7.35031</td><td style = \"text-align: right;\">4.5</td><td style = \"text-align: right;\">0</td><td style = \"text-align: right;\">0</td><td style = \"text-align: right;\">0</td><td style = \"text-align: right;\">0</td><td style = \"text-align: right;\">1</td><td style = \"text-align: right;\">0</td><td style = \"text-align: right;\">0</td><td style = \"text-align: right;\">0</td><td style = \"text-align: right;\">0</td><td style = \"text-align: right;\">0</td><td style = \"text-align: right;\">0</td><td style = \"text-align: right;\">0</td><td style = \"text-align: right;\">0</td><td style = \"text-align: right;\">0</td><td style = \"text-align: right;\">0</td><td style = \"text-align: right;\">1</td><td style = \"text-align: right;\">0</td><td style = \"text-align: right;\">1</td><td style = \"text-align: right;\">0</td><td style = \"text-align: right;\">0</td><td style = \"text-align: right;\">0</td><td style = \"text-align: right;\">0</td><td style = \"text-align: right;\">1</td><td style = \"text-align: right;\">0</td><td style = \"text-align: right;\">0</td><td style = \"text-align: right;\">0</td></tr><tr><td class = \"rowNumber\" style = \"font-weight: bold; text-align: right;\">8</td><td style = \"text-align: right;\">2024</td><td style = \"text-align: right;\">1.5</td><td style = \"text-align: right;\">7.58742</td><td style = \"text-align: right;\">4.5</td><td style = \"text-align: right;\">0</td><td style = \"text-align: right;\">0</td><td style = \"text-align: right;\">0</td><td style = \"text-align: right;\">0</td><td style = \"text-align: right;\">1</td><td style = \"text-align: right;\">0</td><td style = \"text-align: right;\">0</td><td style = \"text-align: right;\">0</td><td style = \"text-align: right;\">0</td><td style = \"text-align: right;\">0</td><td style = \"text-align: right;\">0</td><td style = \"text-align: right;\">0</td><td style = \"text-align: right;\">0</td><td style = \"text-align: right;\">0</td><td style = \"text-align: right;\">0</td><td style = \"text-align: right;\">1</td><td style = \"text-align: right;\">0</td><td style = \"text-align: right;\">0</td><td style = \"text-align: right;\">1</td><td style = \"text-align: right;\">0</td><td style = \"text-align: right;\">0</td><td style = \"text-align: right;\">0</td><td style = \"text-align: right;\">1</td><td style = \"text-align: right;\">0</td><td style = \"text-align: right;\">0</td><td style = \"text-align: right;\">0</td></tr><tr><td class = \"rowNumber\" style = \"font-weight: bold; text-align: right;\">9</td><td style = \"text-align: right;\">2020</td><td style = \"text-align: right;\">3.8</td><td style = \"text-align: right;\">11.2005</td><td style = \"text-align: right;\">22.8</td><td style = \"text-align: right;\">0</td><td style = \"text-align: right;\">0</td><td style = \"text-align: right;\">0</td><td style = \"text-align: right;\">0</td><td style = \"text-align: right;\">0</td><td style = \"text-align: right;\">1</td><td style = \"text-align: right;\">0</td><td style = \"text-align: right;\">0</td><td style = \"text-align: right;\">0</td><td style = \"text-align: right;\">0</td><td style = \"text-align: right;\">0</td><td style = \"text-align: right;\">0</td><td style = \"text-align: right;\">0</td><td style = \"text-align: right;\">1</td><td style = \"text-align: right;\">0</td><td style = \"text-align: right;\">0</td><td style = \"text-align: right;\">0</td><td style = \"text-align: right;\">1</td><td style = \"text-align: right;\">0</td><td style = \"text-align: right;\">0</td><td style = \"text-align: right;\">0</td><td style = \"text-align: right;\">1</td><td style = \"text-align: right;\">0</td><td style = \"text-align: right;\">0</td><td style = \"text-align: right;\">0</td><td style = \"text-align: right;\">0</td></tr><tr><td class = \"rowNumber\" style = \"font-weight: bold; text-align: right;\">10</td><td style = \"text-align: right;\">2019</td><td style = \"text-align: right;\">3.3</td><td style = \"text-align: right;\">11.7605</td><td style = \"text-align: right;\">19.8</td><td style = \"text-align: right;\">0</td><td style = \"text-align: right;\">0</td><td style = \"text-align: right;\">1</td><td style = \"text-align: right;\">0</td><td style = \"text-align: right;\">0</td><td style = \"text-align: right;\">0</td><td style = \"text-align: right;\">0</td><td style = \"text-align: right;\">0</td><td style = \"text-align: right;\">0</td><td style = \"text-align: right;\">0</td><td style = \"text-align: right;\">0</td><td style = \"text-align: right;\">0</td><td style = \"text-align: right;\">0</td><td style = \"text-align: right;\">0</td><td style = \"text-align: right;\">1</td><td style = \"text-align: right;\">0</td><td style = \"text-align: right;\">0</td><td style = \"text-align: right;\">1</td><td style = \"text-align: right;\">0</td><td style = \"text-align: right;\">0</td><td style = \"text-align: right;\">0</td><td style = \"text-align: right;\">1</td><td style = \"text-align: right;\">0</td><td style = \"text-align: right;\">0</td><td style = \"text-align: right;\">0</td><td style = \"text-align: right;\">0</td></tr><tr><td class = \"rowNumber\" style = \"font-weight: bold; text-align: right;\">11</td><td style = \"text-align: right;\">2016</td><td style = \"text-align: right;\">3.3</td><td style = \"text-align: right;\">11.7605</td><td style = \"text-align: right;\">19.8</td><td style = \"text-align: right;\">0</td><td style = \"text-align: right;\">0</td><td style = \"text-align: right;\">0</td><td style = \"text-align: right;\">0</td><td style = \"text-align: right;\">0</td><td style = \"text-align: right;\">0</td><td style = \"text-align: right;\">1</td><td style = \"text-align: right;\">0</td><td style = \"text-align: right;\">0</td><td style = \"text-align: right;\">0</td><td style = \"text-align: right;\">0</td><td style = \"text-align: right;\">0</td><td style = \"text-align: right;\">0</td><td style = \"text-align: right;\">0</td><td style = \"text-align: right;\">0</td><td style = \"text-align: right;\">1</td><td style = \"text-align: right;\">0</td><td style = \"text-align: right;\">1</td><td style = \"text-align: right;\">0</td><td style = \"text-align: right;\">0</td><td style = \"text-align: right;\">0</td><td style = \"text-align: right;\">1</td><td style = \"text-align: right;\">0</td><td style = \"text-align: right;\">0</td><td style = \"text-align: right;\">0</td><td style = \"text-align: right;\">0</td></tr><tr><td class = \"rowNumber\" style = \"font-weight: bold; text-align: right;\">12</td><td style = \"text-align: right;\">2023</td><td style = \"text-align: right;\">5.0</td><td style = \"text-align: right;\">14.7006</td><td style = \"text-align: right;\">40.0</td><td style = \"text-align: right;\">0</td><td style = \"text-align: right;\">0</td><td style = \"text-align: right;\">0</td><td style = \"text-align: right;\">0</td><td style = \"text-align: right;\">0</td><td style = \"text-align: right;\">1</td><td style = \"text-align: right;\">0</td><td style = \"text-align: right;\">0</td><td style = \"text-align: right;\">0</td><td style = \"text-align: right;\">0</td><td style = \"text-align: right;\">0</td><td style = \"text-align: right;\">0</td><td style = \"text-align: right;\">0</td><td style = \"text-align: right;\">0</td><td style = \"text-align: right;\">0</td><td style = \"text-align: right;\">0</td><td style = \"text-align: right;\">1</td><td style = \"text-align: right;\">1</td><td style = \"text-align: right;\">0</td><td style = \"text-align: right;\">1</td><td style = \"text-align: right;\">0</td><td style = \"text-align: right;\">0</td><td style = \"text-align: right;\">0</td><td style = \"text-align: right;\">0</td><td style = \"text-align: right;\">0</td><td style = \"text-align: right;\">0</td></tr><tr><td class = \"rowNumber\" style = \"font-weight: bold; text-align: right;\">13</td><td style = \"text-align: right;\">2024</td><td style = \"text-align: right;\">4.4</td><td style = \"text-align: right;\">12.3795</td><td style = \"text-align: right;\">35.2</td><td style = \"text-align: right;\">1</td><td style = \"text-align: right;\">0</td><td style = \"text-align: right;\">0</td><td style = \"text-align: right;\">0</td><td style = \"text-align: right;\">0</td><td style = \"text-align: right;\">0</td><td style = \"text-align: right;\">0</td><td style = \"text-align: right;\">0</td><td style = \"text-align: right;\">0</td><td style = \"text-align: right;\">0</td><td style = \"text-align: right;\">0</td><td style = \"text-align: right;\">0</td><td style = \"text-align: right;\">0</td><td style = \"text-align: right;\">1</td><td style = \"text-align: right;\">0</td><td style = \"text-align: right;\">0</td><td style = \"text-align: right;\">0</td><td style = \"text-align: right;\">1</td><td style = \"text-align: right;\">0</td><td style = \"text-align: right;\">1</td><td style = \"text-align: right;\">0</td><td style = \"text-align: right;\">0</td><td style = \"text-align: right;\">0</td><td style = \"text-align: right;\">0</td><td style = \"text-align: right;\">0</td><td style = \"text-align: right;\">0</td></tr><tr><td style = \"text-align: right;\">&vellip;</td><td style = \"text-align: right;\">&vellip;</td><td style = \"text-align: right;\">&vellip;</td><td style = \"text-align: right;\">&vellip;</td><td style = \"text-align: right;\">&vellip;</td><td style = \"text-align: right;\">&vellip;</td><td style = \"text-align: right;\">&vellip;</td><td style = \"text-align: right;\">&vellip;</td><td style = \"text-align: right;\">&vellip;</td><td style = \"text-align: right;\">&vellip;</td><td style = \"text-align: right;\">&vellip;</td><td style = \"text-align: right;\">&vellip;</td><td style = \"text-align: right;\">&vellip;</td><td style = \"text-align: right;\">&vellip;</td><td style = \"text-align: right;\">&vellip;</td><td style = \"text-align: right;\">&vellip;</td><td style = \"text-align: right;\">&vellip;</td><td style = \"text-align: right;\">&vellip;</td><td style = \"text-align: right;\">&vellip;</td><td style = \"text-align: right;\">&vellip;</td><td style = \"text-align: right;\">&vellip;</td><td style = \"text-align: right;\">&vellip;</td><td style = \"text-align: right;\">&vellip;</td><td style = \"text-align: right;\">&vellip;</td><td style = \"text-align: right;\">&vellip;</td><td style = \"text-align: right;\">&vellip;</td><td style = \"text-align: right;\">&vellip;</td><td style = \"text-align: right;\">&vellip;</td><td style = \"text-align: right;\">&vellip;</td><td style = \"text-align: right;\">&vellip;</td><td style = \"text-align: right;\">&vellip;</td></tr><tr><td class = \"rowNumber\" style = \"font-weight: bold; text-align: right;\">385</td><td style = \"text-align: right;\">2018</td><td style = \"text-align: right;\">2.0</td><td style = \"text-align: right;\">8.71148</td><td style = \"text-align: right;\">8.0</td><td style = \"text-align: right;\">0</td><td style = \"text-align: right;\">0</td><td style = \"text-align: right;\">0</td><td style = \"text-align: right;\">0</td><td style = \"text-align: right;\">0</td><td style = \"text-align: right;\">0</td><td style = \"text-align: right;\">0</td><td style = \"text-align: right;\">1</td><td style = \"text-align: right;\">0</td><td style = \"text-align: right;\">0</td><td style = \"text-align: right;\">0</td><td style = \"text-align: right;\">0</td><td style = \"text-align: right;\">0</td><td style = \"text-align: right;\">0</td><td style = \"text-align: right;\">1</td><td style = \"text-align: right;\">0</td><td style = \"text-align: right;\">0</td><td style = \"text-align: right;\">1</td><td style = \"text-align: right;\">0</td><td style = \"text-align: right;\">0</td><td style = \"text-align: right;\">1</td><td style = \"text-align: right;\">0</td><td style = \"text-align: right;\">0</td><td style = \"text-align: right;\">0</td><td style = \"text-align: right;\">0</td><td style = \"text-align: right;\">0</td></tr><tr><td class = \"rowNumber\" style = \"font-weight: bold; text-align: right;\">386</td><td style = \"text-align: right;\">2014</td><td style = \"text-align: right;\">3.7</td><td style = \"text-align: right;\">10.2265</td><td style = \"text-align: right;\">22.2</td><td style = \"text-align: right;\">0</td><td style = \"text-align: right;\">0</td><td style = \"text-align: right;\">0</td><td style = \"text-align: right;\">0</td><td style = \"text-align: right;\">0</td><td style = \"text-align: right;\">0</td><td style = \"text-align: right;\">0</td><td style = \"text-align: right;\">1</td><td style = \"text-align: right;\">0</td><td style = \"text-align: right;\">0</td><td style = \"text-align: right;\">0</td><td style = \"text-align: right;\">0</td><td style = \"text-align: right;\">0</td><td style = \"text-align: right;\">0</td><td style = \"text-align: right;\">1</td><td style = \"text-align: right;\">0</td><td style = \"text-align: right;\">0</td><td style = \"text-align: right;\">1</td><td style = \"text-align: right;\">0</td><td style = \"text-align: right;\">0</td><td style = \"text-align: right;\">0</td><td style = \"text-align: right;\">1</td><td style = \"text-align: right;\">0</td><td style = \"text-align: right;\">0</td><td style = \"text-align: right;\">0</td><td style = \"text-align: right;\">0</td></tr><tr><td class = \"rowNumber\" style = \"font-weight: bold; text-align: right;\">387</td><td style = \"text-align: right;\">2014</td><td style = \"text-align: right;\">3.8</td><td style = \"text-align: right;\">12.3795</td><td style = \"text-align: right;\">22.8</td><td style = \"text-align: right;\">0</td><td style = \"text-align: right;\">0</td><td style = \"text-align: right;\">0</td><td style = \"text-align: right;\">0</td><td style = \"text-align: right;\">0</td><td style = \"text-align: right;\">0</td><td style = \"text-align: right;\">0</td><td style = \"text-align: right;\">1</td><td style = \"text-align: right;\">0</td><td style = \"text-align: right;\">0</td><td style = \"text-align: right;\">0</td><td style = \"text-align: right;\">0</td><td style = \"text-align: right;\">0</td><td style = \"text-align: right;\">1</td><td style = \"text-align: right;\">0</td><td style = \"text-align: right;\">0</td><td style = \"text-align: right;\">0</td><td style = \"text-align: right;\">1</td><td style = \"text-align: right;\">0</td><td style = \"text-align: right;\">0</td><td style = \"text-align: right;\">0</td><td style = \"text-align: right;\">1</td><td style = \"text-align: right;\">0</td><td style = \"text-align: right;\">0</td><td style = \"text-align: right;\">0</td><td style = \"text-align: right;\">0</td></tr><tr><td class = \"rowNumber\" style = \"font-weight: bold; text-align: right;\">388</td><td style = \"text-align: right;\">2014</td><td style = \"text-align: right;\">2.4</td><td style = \"text-align: right;\">9.80042</td><td style = \"text-align: right;\">9.6</td><td style = \"text-align: right;\">0</td><td style = \"text-align: right;\">1</td><td style = \"text-align: right;\">0</td><td style = \"text-align: right;\">0</td><td style = \"text-align: right;\">0</td><td style = \"text-align: right;\">0</td><td style = \"text-align: right;\">0</td><td style = \"text-align: right;\">0</td><td style = \"text-align: right;\">0</td><td style = \"text-align: right;\">0</td><td style = \"text-align: right;\">0</td><td style = \"text-align: right;\">0</td><td style = \"text-align: right;\">0</td><td style = \"text-align: right;\">0</td><td style = \"text-align: right;\">0</td><td style = \"text-align: right;\">1</td><td style = \"text-align: right;\">0</td><td style = \"text-align: right;\">1</td><td style = \"text-align: right;\">0</td><td style = \"text-align: right;\">0</td><td style = \"text-align: right;\">1</td><td style = \"text-align: right;\">0</td><td style = \"text-align: right;\">0</td><td style = \"text-align: right;\">0</td><td style = \"text-align: right;\">0</td><td style = \"text-align: right;\">0</td></tr><tr><td class = \"rowNumber\" style = \"font-weight: bold; text-align: right;\">389</td><td style = \"text-align: right;\">2016</td><td style = \"text-align: right;\">3.5</td><td style = \"text-align: right;\">7.84033</td><td style = \"text-align: right;\">21.0</td><td style = \"text-align: right;\">1</td><td style = \"text-align: right;\">0</td><td style = \"text-align: right;\">0</td><td style = \"text-align: right;\">0</td><td style = \"text-align: right;\">0</td><td style = \"text-align: right;\">0</td><td style = \"text-align: right;\">0</td><td style = \"text-align: right;\">0</td><td style = \"text-align: right;\">0</td><td style = \"text-align: right;\">0</td><td style = \"text-align: right;\">0</td><td style = \"text-align: right;\">0</td><td style = \"text-align: right;\">0</td><td style = \"text-align: right;\">1</td><td style = \"text-align: right;\">0</td><td style = \"text-align: right;\">0</td><td style = \"text-align: right;\">0</td><td style = \"text-align: right;\">1</td><td style = \"text-align: right;\">0</td><td style = \"text-align: right;\">0</td><td style = \"text-align: right;\">0</td><td style = \"text-align: right;\">1</td><td style = \"text-align: right;\">0</td><td style = \"text-align: right;\">0</td><td style = \"text-align: right;\">0</td><td style = \"text-align: right;\">0</td></tr><tr><td class = \"rowNumber\" style = \"font-weight: bold; text-align: right;\">390</td><td style = \"text-align: right;\">2024</td><td style = \"text-align: right;\">2.0</td><td style = \"text-align: right;\">8.71148</td><td style = \"text-align: right;\">8.0</td><td style = \"text-align: right;\">0</td><td style = \"text-align: right;\">0</td><td style = \"text-align: right;\">1</td><td style = \"text-align: right;\">0</td><td style = \"text-align: right;\">0</td><td style = \"text-align: right;\">0</td><td style = \"text-align: right;\">0</td><td style = \"text-align: right;\">0</td><td style = \"text-align: right;\">0</td><td style = \"text-align: right;\">0</td><td style = \"text-align: right;\">0</td><td style = \"text-align: right;\">0</td><td style = \"text-align: right;\">0</td><td style = \"text-align: right;\">1</td><td style = \"text-align: right;\">0</td><td style = \"text-align: right;\">0</td><td style = \"text-align: right;\">0</td><td style = \"text-align: right;\">1</td><td style = \"text-align: right;\">0</td><td style = \"text-align: right;\">0</td><td style = \"text-align: right;\">1</td><td style = \"text-align: right;\">0</td><td style = \"text-align: right;\">0</td><td style = \"text-align: right;\">0</td><td style = \"text-align: right;\">0</td><td style = \"text-align: right;\">0</td></tr><tr><td class = \"rowNumber\" style = \"font-weight: bold; text-align: right;\">391</td><td style = \"text-align: right;\">2022</td><td style = \"text-align: right;\">2.0</td><td style = \"text-align: right;\">10.2265</td><td style = \"text-align: right;\">8.0</td><td style = \"text-align: right;\">0</td><td style = \"text-align: right;\">1</td><td style = \"text-align: right;\">0</td><td style = \"text-align: right;\">0</td><td style = \"text-align: right;\">0</td><td style = \"text-align: right;\">0</td><td style = \"text-align: right;\">0</td><td style = \"text-align: right;\">0</td><td style = \"text-align: right;\">0</td><td style = \"text-align: right;\">0</td><td style = \"text-align: right;\">0</td><td style = \"text-align: right;\">0</td><td style = \"text-align: right;\">0</td><td style = \"text-align: right;\">0</td><td style = \"text-align: right;\">0</td><td style = \"text-align: right;\">1</td><td style = \"text-align: right;\">0</td><td style = \"text-align: right;\">1</td><td style = \"text-align: right;\">0</td><td style = \"text-align: right;\">0</td><td style = \"text-align: right;\">1</td><td style = \"text-align: right;\">0</td><td style = \"text-align: right;\">0</td><td style = \"text-align: right;\">0</td><td style = \"text-align: right;\">0</td><td style = \"text-align: right;\">0</td></tr><tr><td class = \"rowNumber\" style = \"font-weight: bold; text-align: right;\">392</td><td style = \"text-align: right;\">2021</td><td style = \"text-align: right;\">4.4</td><td style = \"text-align: right;\">12.3795</td><td style = \"text-align: right;\">35.2</td><td style = \"text-align: right;\">0</td><td style = \"text-align: right;\">0</td><td style = \"text-align: right;\">0</td><td style = \"text-align: right;\">0</td><td style = \"text-align: right;\">0</td><td style = \"text-align: right;\">0</td><td style = \"text-align: right;\">0</td><td style = \"text-align: right;\">0</td><td style = \"text-align: right;\">0</td><td style = \"text-align: right;\">0</td><td style = \"text-align: right;\">1</td><td style = \"text-align: right;\">0</td><td style = \"text-align: right;\">0</td><td style = \"text-align: right;\">1</td><td style = \"text-align: right;\">0</td><td style = \"text-align: right;\">0</td><td style = \"text-align: right;\">0</td><td style = \"text-align: right;\">1</td><td style = \"text-align: right;\">0</td><td style = \"text-align: right;\">1</td><td style = \"text-align: right;\">0</td><td style = \"text-align: right;\">0</td><td style = \"text-align: right;\">0</td><td style = \"text-align: right;\">0</td><td style = \"text-align: right;\">0</td><td style = \"text-align: right;\">0</td></tr><tr><td class = \"rowNumber\" style = \"font-weight: bold; text-align: right;\">393</td><td style = \"text-align: right;\">2023</td><td style = \"text-align: right;\">3.3</td><td style = \"text-align: right;\">11.2005</td><td style = \"text-align: right;\">19.8</td><td style = \"text-align: right;\">0</td><td style = \"text-align: right;\">0</td><td style = \"text-align: right;\">1</td><td style = \"text-align: right;\">0</td><td style = \"text-align: right;\">0</td><td style = \"text-align: right;\">0</td><td style = \"text-align: right;\">0</td><td style = \"text-align: right;\">0</td><td style = \"text-align: right;\">0</td><td style = \"text-align: right;\">0</td><td style = \"text-align: right;\">0</td><td style = \"text-align: right;\">0</td><td style = \"text-align: right;\">0</td><td style = \"text-align: right;\">0</td><td style = \"text-align: right;\">1</td><td style = \"text-align: right;\">0</td><td style = \"text-align: right;\">0</td><td style = \"text-align: right;\">1</td><td style = \"text-align: right;\">0</td><td style = \"text-align: right;\">0</td><td style = \"text-align: right;\">0</td><td style = \"text-align: right;\">1</td><td style = \"text-align: right;\">0</td><td style = \"text-align: right;\">0</td><td style = \"text-align: right;\">0</td><td style = \"text-align: right;\">0</td></tr><tr><td class = \"rowNumber\" style = \"font-weight: bold; text-align: right;\">394</td><td style = \"text-align: right;\">2019</td><td style = \"text-align: right;\">1.5</td><td style = \"text-align: right;\">7.84033</td><td style = \"text-align: right;\">4.5</td><td style = \"text-align: right;\">0</td><td style = \"text-align: right;\">0</td><td style = \"text-align: right;\">0</td><td style = \"text-align: right;\">0</td><td style = \"text-align: right;\">1</td><td style = \"text-align: right;\">0</td><td style = \"text-align: right;\">0</td><td style = \"text-align: right;\">0</td><td style = \"text-align: right;\">0</td><td style = \"text-align: right;\">0</td><td style = \"text-align: right;\">0</td><td style = \"text-align: right;\">0</td><td style = \"text-align: right;\">0</td><td style = \"text-align: right;\">0</td><td style = \"text-align: right;\">0</td><td style = \"text-align: right;\">1</td><td style = \"text-align: right;\">0</td><td style = \"text-align: right;\">1</td><td style = \"text-align: right;\">0</td><td style = \"text-align: right;\">0</td><td style = \"text-align: right;\">0</td><td style = \"text-align: right;\">0</td><td style = \"text-align: right;\">1</td><td style = \"text-align: right;\">0</td><td style = \"text-align: right;\">0</td><td style = \"text-align: right;\">0</td></tr><tr><td class = \"rowNumber\" style = \"font-weight: bold; text-align: right;\">395</td><td style = \"text-align: right;\">2022</td><td style = \"text-align: right;\">3.3</td><td style = \"text-align: right;\">11.2005</td><td style = \"text-align: right;\">19.8</td><td style = \"text-align: right;\">0</td><td style = \"text-align: right;\">0</td><td style = \"text-align: right;\">1</td><td style = \"text-align: right;\">0</td><td style = \"text-align: right;\">0</td><td style = \"text-align: right;\">0</td><td style = \"text-align: right;\">0</td><td style = \"text-align: right;\">0</td><td style = \"text-align: right;\">0</td><td style = \"text-align: right;\">0</td><td style = \"text-align: right;\">0</td><td style = \"text-align: right;\">0</td><td style = \"text-align: right;\">0</td><td style = \"text-align: right;\">0</td><td style = \"text-align: right;\">1</td><td style = \"text-align: right;\">0</td><td style = \"text-align: right;\">0</td><td style = \"text-align: right;\">1</td><td style = \"text-align: right;\">0</td><td style = \"text-align: right;\">0</td><td style = \"text-align: right;\">0</td><td style = \"text-align: right;\">1</td><td style = \"text-align: right;\">0</td><td style = \"text-align: right;\">0</td><td style = \"text-align: right;\">0</td><td style = \"text-align: right;\">0</td></tr><tr><td class = \"rowNumber\" style = \"font-weight: bold; text-align: right;\">396</td><td style = \"text-align: right;\">2017</td><td style = \"text-align: right;\">2.4</td><td style = \"text-align: right;\">9.04654</td><td style = \"text-align: right;\">9.6</td><td style = \"text-align: right;\">0</td><td style = \"text-align: right;\">1</td><td style = \"text-align: right;\">0</td><td style = \"text-align: right;\">0</td><td style = \"text-align: right;\">0</td><td style = \"text-align: right;\">0</td><td style = \"text-align: right;\">0</td><td style = \"text-align: right;\">0</td><td style = \"text-align: right;\">0</td><td style = \"text-align: right;\">0</td><td style = \"text-align: right;\">0</td><td style = \"text-align: right;\">0</td><td style = \"text-align: right;\">0</td><td style = \"text-align: right;\">0</td><td style = \"text-align: right;\">0</td><td style = \"text-align: right;\">1</td><td style = \"text-align: right;\">0</td><td style = \"text-align: right;\">1</td><td style = \"text-align: right;\">0</td><td style = \"text-align: right;\">0</td><td style = \"text-align: right;\">1</td><td style = \"text-align: right;\">0</td><td style = \"text-align: right;\">0</td><td style = \"text-align: right;\">0</td><td style = \"text-align: right;\">0</td><td style = \"text-align: right;\">0</td></tr></tbody></table></div>"
      ],
      "text/latex": [
       "\\begin{tabular}{r|cccccccc}\n",
       "\t& annee & cylindree & consommation & volume\\_gaz & voiture\\_moyenne & VUS\\_petit & voiture\\_compacte & \\\\\n",
       "\t\\hline\n",
       "\t& Int64 & Float64 & Float64 & Float64 & Int64 & Int64 & Int64 & \\\\\n",
       "\t\\hline\n",
       "\t1 & 2023 & 4.4 & 13.8359 & 35.2 & 1 & 0 & 0 & $\\dots$ \\\\\n",
       "\t2 & 2020 & 2.0 & 9.80042 & 8.0 & 0 & 1 & 0 & $\\dots$ \\\\\n",
       "\t3 & 2021 & 3.3 & 11.7605 & 19.8 & 0 & 0 & 1 & $\\dots$ \\\\\n",
       "\t4 & 2023 & 5.0 & 13.0672 & 40.0 & 0 & 0 & 0 & $\\dots$ \\\\\n",
       "\t5 & 2022 & 4.4 & 13.8359 & 35.2 & 1 & 0 & 0 & $\\dots$ \\\\\n",
       "\t6 & 2022 & 4.4 & 13.8359 & 35.2 & 1 & 0 & 0 & $\\dots$ \\\\\n",
       "\t7 & 2022 & 1.5 & 7.35031 & 4.5 & 0 & 0 & 0 & $\\dots$ \\\\\n",
       "\t8 & 2024 & 1.5 & 7.58742 & 4.5 & 0 & 0 & 0 & $\\dots$ \\\\\n",
       "\t9 & 2020 & 3.8 & 11.2005 & 22.8 & 0 & 0 & 0 & $\\dots$ \\\\\n",
       "\t10 & 2019 & 3.3 & 11.7605 & 19.8 & 0 & 0 & 1 & $\\dots$ \\\\\n",
       "\t11 & 2016 & 3.3 & 11.7605 & 19.8 & 0 & 0 & 0 & $\\dots$ \\\\\n",
       "\t12 & 2023 & 5.0 & 14.7006 & 40.0 & 0 & 0 & 0 & $\\dots$ \\\\\n",
       "\t13 & 2024 & 4.4 & 12.3795 & 35.2 & 1 & 0 & 0 & $\\dots$ \\\\\n",
       "\t14 & 2024 & 3.0 & 9.80042 & 18.0 & 0 & 0 & 0 & $\\dots$ \\\\\n",
       "\t15 & 2021 & 3.0 & 10.6914 & 18.0 & 0 & 0 & 0 & $\\dots$ \\\\\n",
       "\t16 & 2021 & 3.6 & 11.2005 & 21.6 & 0 & 0 & 0 & $\\dots$ \\\\\n",
       "\t17 & 2018 & 2.0 & 9.4084 & 8.0 & 0 & 0 & 1 & $\\dots$ \\\\\n",
       "\t18 & 2020 & 5.0 & 13.0672 & 40.0 & 0 & 1 & 0 & $\\dots$ \\\\\n",
       "\t19 & 2020 & 3.0 & 11.2005 & 18.0 & 0 & 0 & 0 & $\\dots$ \\\\\n",
       "\t20 & 2019 & 2.5 & 9.4084 & 10.0 & 0 & 1 & 0 & $\\dots$ \\\\\n",
       "\t21 & 2015 & 3.8 & 12.3795 & 22.8 & 0 & 0 & 0 & $\\dots$ \\\\\n",
       "\t22 & 2016 & 2.5 & 7.35031 & 10.0 & 1 & 0 & 0 & $\\dots$ \\\\\n",
       "\t23 & 2014 & 5.9 & 15.6807 & 70.8 & 0 & 0 & 0 & $\\dots$ \\\\\n",
       "\t24 & 2020 & 2.0 & 8.71148 & 8.0 & 1 & 0 & 0 & $\\dots$ \\\\\n",
       "\t25 & 2015 & 6.2 & 14.7006 & 49.6 & 0 & 0 & 0 & $\\dots$ \\\\\n",
       "\t26 & 2016 & 3.0 & 9.80042 & 18.0 & 1 & 0 & 0 & $\\dots$ \\\\\n",
       "\t27 & 2020 & 1.6 & 8.11069 & 6.4 & 0 & 0 & 0 & $\\dots$ \\\\\n",
       "\t28 & 2019 & 3.5 & 10.2265 & 21.0 & 0 & 0 & 1 & $\\dots$ \\\\\n",
       "\t29 & 2019 & 2.4 & 9.80042 & 9.6 & 0 & 1 & 0 & $\\dots$ \\\\\n",
       "\t30 & 2020 & 3.0 & 10.6914 & 18.0 & 0 & 0 & 0 & $\\dots$ \\\\\n",
       "\t$\\dots$ & $\\dots$ & $\\dots$ & $\\dots$ & $\\dots$ & $\\dots$ & $\\dots$ & $\\dots$ &  \\\\\n",
       "\\end{tabular}\n"
      ],
      "text/plain": [
       "\u001b[1m396×30 DataFrame\u001b[0m\n",
       "\u001b[1m Row \u001b[0m│\u001b[1m annee \u001b[0m\u001b[1m cylindree \u001b[0m\u001b[1m consommation \u001b[0m\u001b[1m volume_gaz \u001b[0m\u001b[1m voiture_moyenne \u001b[0m\u001b[1m VUS_petit \u001b[0m\u001b[1m\u001b[0m ⋯\n",
       "     │\u001b[90m Int64 \u001b[0m\u001b[90m Float64   \u001b[0m\u001b[90m Float64      \u001b[0m\u001b[90m Float64    \u001b[0m\u001b[90m Int64           \u001b[0m\u001b[90m Int64     \u001b[0m\u001b[90m\u001b[0m ⋯\n",
       "─────┼──────────────────────────────────────────────────────────────────────────\n",
       "   1 │  2023        4.4      13.8359         35.2                1          0  ⋯\n",
       "   2 │  2020        2.0       9.80042         8.0                0          1\n",
       "   3 │  2021        3.3      11.7605         19.8                0          0\n",
       "   4 │  2023        5.0      13.0672         40.0                0          0\n",
       "   5 │  2022        4.4      13.8359         35.2                1          0  ⋯\n",
       "   6 │  2022        4.4      13.8359         35.2                1          0\n",
       "   7 │  2022        1.5       7.35031         4.5                0          0\n",
       "   8 │  2024        1.5       7.58742         4.5                0          0\n",
       "   9 │  2020        3.8      11.2005         22.8                0          0  ⋯\n",
       "  10 │  2019        3.3      11.7605         19.8                0          0\n",
       "  11 │  2016        3.3      11.7605         19.8                0          0\n",
       "  ⋮  │   ⋮        ⋮           ⋮            ⋮              ⋮             ⋮      ⋱\n",
       " 387 │  2014        3.8      12.3795         22.8                0          0\n",
       " 388 │  2014        2.4       9.80042         9.6                0          1  ⋯\n",
       " 389 │  2016        3.5       7.84033        21.0                1          0\n",
       " 390 │  2024        2.0       8.71148         8.0                0          0\n",
       " 391 │  2022        2.0      10.2265          8.0                0          1\n",
       " 392 │  2021        4.4      12.3795         35.2                0          0  ⋯\n",
       " 393 │  2023        3.3      11.2005         19.8                0          0\n",
       " 394 │  2019        1.5       7.84033         4.5                0          0\n",
       " 395 │  2022        3.3      11.2005         19.8                0          0\n",
       " 396 │  2017        2.4       9.04654         9.6                0          1  ⋯\n",
       "\u001b[36m                                                 24 columns and 375 rows omitted\u001b[0m"
      ]
     },
     "execution_count": 105,
     "metadata": {},
     "output_type": "execute_result"
    }
   ],
   "source": [
    "encoded_train"
   ]
  },
  {
   "cell_type": "code",
   "execution_count": 83,
   "metadata": {},
   "outputs": [
    {
     "data": {
      "text/plain": [
       "0.8969316496195567"
      ]
     },
     "execution_count": 83,
     "metadata": {},
     "output_type": "execute_result"
    }
   ],
   "source": [
    "    train, test= train_test_split(encoded_train)\n",
    "\n",
    "    X_train =  Matrix(train[:, Not(:consommation)])\n",
    "    y_train = train.consommation\n",
    "    X_test = Matrix(test[:, Not(:consommation)])\n",
    "    y_test = test.consommation\n",
    "\n",
    "\n",
    "    model = RandomForestClassifier(n_subfeatures=12, n_trees=10,min_samples_leaf=1,min_purity_increase=0.0, max_depth=10, min_samples_split=6)\n",
    "    DecisionTree.fit!(model, X_train, y_train)\n",
    "    y_pred = DecisionTree.predict(model, X_test)\n",
    "    sqrt(mean((y_pred - test.consommation).^2))\n"
   ]
  },
  {
   "cell_type": "code",
   "execution_count": null,
   "metadata": {},
   "outputs": [
    {
     "data": {
      "image/png": "[encoded data removed]",
      "image/svg+xml": [
       "<?xml version=\"1.0\" encoding=\"utf-8\"?>\n",
       "<svg xmlns=\"http://www.w3.org/2000/svg\" xmlns:xlink=\"http://www.w3.org/1999/xlink\" width=\"600\" height=\"400\" viewBox=\"0 0 2400 1600\">\n",
       "<defs>\n",
       "  <clipPath id=\"clip850\">\n",
       "    <rect x=\"0\" y=\"0\" width=\"2400\" height=\"1600\"/>\n",
       "  </clipPath>\n",
       "</defs>\n",
       "<path clip-path=\"url(#clip850)\" d=\"M0 1600 L2400 1600 L2400 0 L0 0  Z\" fill=\"#ffffff\" fill-rule=\"evenodd\" fill-opacity=\"1\"/>\n",
       "<defs>\n",
       "  <clipPath id=\"clip851\">\n",
       "    <rect x=\"480\" y=\"0\" width=\"1681\" height=\"1600\"/>\n",
       "  </clipPath>\n",
       "</defs>\n",
       "<path clip-path=\"url(#clip850)\" d=\"M169.121 1486.45 L2352.76 1486.45 L2352.76 47.2441 L169.121 47.2441  Z\" fill=\"#ffffff\" fill-rule=\"evenodd\" fill-opacity=\"1\"/>\n",
       "<defs>\n",
       "  <clipPath id=\"clip852\">\n",
       "    <rect x=\"169\" y=\"47\" width=\"2185\" height=\"1440\"/>\n",
       "  </clipPath>\n",
       "</defs>\n",
       "<polyline clip-path=\"url(#clip852)\" style=\"stroke:#000000; stroke-linecap:round; stroke-linejoin:round; stroke-width:2; stroke-opacity:0.1; fill:none\" points=\"493.796,1486.45 493.796,47.2441 \"/>\n",
       "<polyline clip-path=\"url(#clip852)\" style=\"stroke:#000000; stroke-linecap:round; stroke-linejoin:round; stroke-width:2; stroke-opacity:0.1; fill:none\" points=\"1005.22,1486.45 1005.22,47.2441 \"/>\n",
       "<polyline clip-path=\"url(#clip852)\" style=\"stroke:#000000; stroke-linecap:round; stroke-linejoin:round; stroke-width:2; stroke-opacity:0.1; fill:none\" points=\"1516.65,1486.45 1516.65,47.2441 \"/>\n",
       "<polyline clip-path=\"url(#clip852)\" style=\"stroke:#000000; stroke-linecap:round; stroke-linejoin:round; stroke-width:2; stroke-opacity:0.1; fill:none\" points=\"2028.08,1486.45 2028.08,47.2441 \"/>\n",
       "<polyline clip-path=\"url(#clip852)\" style=\"stroke:#000000; stroke-linecap:round; stroke-linejoin:round; stroke-width:2; stroke-opacity:0.1; fill:none\" points=\"169.121,1486.45 2352.76,1486.45 \"/>\n",
       "<polyline clip-path=\"url(#clip852)\" style=\"stroke:#000000; stroke-linecap:round; stroke-linejoin:round; stroke-width:2; stroke-opacity:0.1; fill:none\" points=\"169.121,1233.07 2352.76,1233.07 \"/>\n",
       "<polyline clip-path=\"url(#clip852)\" style=\"stroke:#000000; stroke-linecap:round; stroke-linejoin:round; stroke-width:2; stroke-opacity:0.1; fill:none\" points=\"169.121,979.686 2352.76,979.686 \"/>\n",
       "<polyline clip-path=\"url(#clip852)\" style=\"stroke:#000000; stroke-linecap:round; stroke-linejoin:round; stroke-width:2; stroke-opacity:0.1; fill:none\" points=\"169.121,726.305 2352.76,726.305 \"/>\n",
       "<polyline clip-path=\"url(#clip852)\" style=\"stroke:#000000; stroke-linecap:round; stroke-linejoin:round; stroke-width:2; stroke-opacity:0.1; fill:none\" points=\"169.121,472.924 2352.76,472.924 \"/>\n",
       "<polyline clip-path=\"url(#clip852)\" style=\"stroke:#000000; stroke-linecap:round; stroke-linejoin:round; stroke-width:2; stroke-opacity:0.1; fill:none\" points=\"169.121,219.543 2352.76,219.543 \"/>\n",
       "<polyline clip-path=\"url(#clip850)\" style=\"stroke:#000000; stroke-linecap:round; stroke-linejoin:round; stroke-width:4; stroke-opacity:1; fill:none\" points=\"169.121,1486.45 2352.76,1486.45 \"/>\n",
       "<polyline clip-path=\"url(#clip850)\" style=\"stroke:#000000; stroke-linecap:round; stroke-linejoin:round; stroke-width:4; stroke-opacity:1; fill:none\" points=\"493.796,1486.45 493.796,1467.55 \"/>\n",
       "<polyline clip-path=\"url(#clip850)\" style=\"stroke:#000000; stroke-linecap:round; stroke-linejoin:round; stroke-width:4; stroke-opacity:1; fill:none\" points=\"1005.22,1486.45 1005.22,1467.55 \"/>\n",
       "<polyline clip-path=\"url(#clip850)\" style=\"stroke:#000000; stroke-linecap:round; stroke-linejoin:round; stroke-width:4; stroke-opacity:1; fill:none\" points=\"1516.65,1486.45 1516.65,1467.55 \"/>\n",
       "<polyline clip-path=\"url(#clip850)\" style=\"stroke:#000000; stroke-linecap:round; stroke-linejoin:round; stroke-width:4; stroke-opacity:1; fill:none\" points=\"2028.08,1486.45 2028.08,1467.55 \"/>\n",
       "<path clip-path=\"url(#clip850)\" d=\"M456.1 1517.37 Q452.489 1517.37 450.66 1520.93 Q448.854 1524.47 448.854 1531.6 Q448.854 1538.71 450.66 1542.27 Q452.489 1545.82 456.1 1545.82 Q459.734 1545.82 461.54 1542.27 Q463.368 1538.71 463.368 1531.6 Q463.368 1524.47 461.54 1520.93 Q459.734 1517.37 456.1 1517.37 M456.1 1513.66 Q461.91 1513.66 464.966 1518.27 Q468.044 1522.85 468.044 1531.6 Q468.044 1540.33 464.966 1544.94 Q461.91 1549.52 456.1 1549.52 Q450.29 1549.52 447.211 1544.94 Q444.155 1540.33 444.155 1531.6 Q444.155 1522.85 447.211 1518.27 Q450.29 1513.66 456.1 1513.66 Z\" fill=\"#000000\" fill-rule=\"nonzero\" fill-opacity=\"1\" /><path clip-path=\"url(#clip850)\" d=\"M476.262 1542.97 L481.146 1542.97 L481.146 1548.85 L476.262 1548.85 L476.262 1542.97 Z\" fill=\"#000000\" fill-rule=\"nonzero\" fill-opacity=\"1\" /><path clip-path=\"url(#clip850)\" d=\"M491.377 1514.29 L509.734 1514.29 L509.734 1518.22 L495.66 1518.22 L495.66 1526.7 Q496.678 1526.35 497.697 1526.19 Q498.715 1526 499.734 1526 Q505.521 1526 508.9 1529.17 Q512.28 1532.34 512.28 1537.76 Q512.28 1543.34 508.808 1546.44 Q505.336 1549.52 499.016 1549.52 Q496.84 1549.52 494.572 1549.15 Q492.326 1548.78 489.919 1548.04 L489.919 1543.34 Q492.002 1544.47 494.225 1545.03 Q496.447 1545.58 498.924 1545.58 Q502.928 1545.58 505.266 1543.48 Q507.604 1541.37 507.604 1537.76 Q507.604 1534.15 505.266 1532.04 Q502.928 1529.94 498.924 1529.94 Q497.049 1529.94 495.174 1530.35 Q493.322 1530.77 491.377 1531.65 L491.377 1514.29 Z\" fill=\"#000000\" fill-rule=\"nonzero\" fill-opacity=\"1\" /><path clip-path=\"url(#clip850)\" d=\"M531.493 1517.37 Q527.882 1517.37 526.053 1520.93 Q524.248 1524.47 524.248 1531.6 Q524.248 1538.71 526.053 1542.27 Q527.882 1545.82 531.493 1545.82 Q535.127 1545.82 536.933 1542.27 Q538.761 1538.71 538.761 1531.6 Q538.761 1524.47 536.933 1520.93 Q535.127 1517.37 531.493 1517.37 M531.493 1513.66 Q537.303 1513.66 540.359 1518.27 Q543.437 1522.85 543.437 1531.6 Q543.437 1540.33 540.359 1544.94 Q537.303 1549.52 531.493 1549.52 Q525.683 1549.52 522.604 1544.94 Q519.549 1540.33 519.549 1531.6 Q519.549 1522.85 522.604 1518.27 Q525.683 1513.66 531.493 1513.66 Z\" fill=\"#000000\" fill-rule=\"nonzero\" fill-opacity=\"1\" /><path clip-path=\"url(#clip850)\" d=\"M968.026 1517.37 Q964.415 1517.37 962.586 1520.93 Q960.78 1524.47 960.78 1531.6 Q960.78 1538.71 962.586 1542.27 Q964.415 1545.82 968.026 1545.82 Q971.66 1545.82 973.465 1542.27 Q975.294 1538.71 975.294 1531.6 Q975.294 1524.47 973.465 1520.93 Q971.66 1517.37 968.026 1517.37 M968.026 1513.66 Q973.836 1513.66 976.891 1518.27 Q979.97 1522.85 979.97 1531.6 Q979.97 1540.33 976.891 1544.94 Q973.836 1549.52 968.026 1549.52 Q962.216 1549.52 959.137 1544.94 Q956.081 1540.33 956.081 1531.6 Q956.081 1522.85 959.137 1518.27 Q962.216 1513.66 968.026 1513.66 Z\" fill=\"#000000\" fill-rule=\"nonzero\" fill-opacity=\"1\" /><path clip-path=\"url(#clip850)\" d=\"M988.188 1542.97 L993.072 1542.97 L993.072 1548.85 L988.188 1548.85 L988.188 1542.97 Z\" fill=\"#000000\" fill-rule=\"nonzero\" fill-opacity=\"1\" /><path clip-path=\"url(#clip850)\" d=\"M1002.08 1514.29 L1024.3 1514.29 L1024.3 1516.28 L1011.75 1548.85 L1006.87 1548.85 L1018.67 1518.22 L1002.08 1518.22 L1002.08 1514.29 Z\" fill=\"#000000\" fill-rule=\"nonzero\" fill-opacity=\"1\" /><path clip-path=\"url(#clip850)\" d=\"M1033.47 1514.29 L1051.82 1514.29 L1051.82 1518.22 L1037.75 1518.22 L1037.75 1526.7 Q1038.77 1526.35 1039.78 1526.19 Q1040.8 1526 1041.82 1526 Q1047.61 1526 1050.99 1529.17 Q1054.37 1532.34 1054.37 1537.76 Q1054.37 1543.34 1050.9 1546.44 Q1047.42 1549.52 1041.1 1549.52 Q1038.93 1549.52 1036.66 1549.15 Q1034.41 1548.78 1032.01 1548.04 L1032.01 1543.34 Q1034.09 1544.47 1036.31 1545.03 Q1038.53 1545.58 1041.01 1545.58 Q1045.02 1545.58 1047.35 1543.48 Q1049.69 1541.37 1049.69 1537.76 Q1049.69 1534.15 1047.35 1532.04 Q1045.02 1529.94 1041.01 1529.94 Q1039.14 1529.94 1037.26 1530.35 Q1035.41 1530.77 1033.47 1531.65 L1033.47 1514.29 Z\" fill=\"#000000\" fill-rule=\"nonzero\" fill-opacity=\"1\" /><path clip-path=\"url(#clip850)\" d=\"M1468.72 1544.91 L1476.36 1544.91 L1476.36 1518.55 L1468.05 1520.21 L1468.05 1515.95 L1476.32 1514.29 L1480.99 1514.29 L1480.99 1544.91 L1488.63 1544.91 L1488.63 1548.85 L1468.72 1548.85 L1468.72 1544.91 Z\" fill=\"#000000\" fill-rule=\"nonzero\" fill-opacity=\"1\" /><path clip-path=\"url(#clip850)\" d=\"M1498.08 1542.97 L1502.96 1542.97 L1502.96 1548.85 L1498.08 1548.85 L1498.08 1542.97 Z\" fill=\"#000000\" fill-rule=\"nonzero\" fill-opacity=\"1\" /><path clip-path=\"url(#clip850)\" d=\"M1523.15 1517.37 Q1519.53 1517.37 1517.71 1520.93 Q1515.9 1524.47 1515.9 1531.6 Q1515.9 1538.71 1517.71 1542.27 Q1519.53 1545.82 1523.15 1545.82 Q1526.78 1545.82 1528.59 1542.27 Q1530.41 1538.71 1530.41 1531.6 Q1530.41 1524.47 1528.59 1520.93 Q1526.78 1517.37 1523.15 1517.37 M1523.15 1513.66 Q1528.96 1513.66 1532.01 1518.27 Q1535.09 1522.85 1535.09 1531.6 Q1535.09 1540.33 1532.01 1544.94 Q1528.96 1549.52 1523.15 1549.52 Q1517.34 1549.52 1514.26 1544.94 Q1511.2 1540.33 1511.2 1531.6 Q1511.2 1522.85 1514.26 1518.27 Q1517.34 1513.66 1523.15 1513.66 Z\" fill=\"#000000\" fill-rule=\"nonzero\" fill-opacity=\"1\" /><path clip-path=\"url(#clip850)\" d=\"M1553.31 1517.37 Q1549.7 1517.37 1547.87 1520.93 Q1546.06 1524.47 1546.06 1531.6 Q1546.06 1538.71 1547.87 1542.27 Q1549.7 1545.82 1553.31 1545.82 Q1556.94 1545.82 1558.75 1542.27 Q1560.58 1538.71 1560.58 1531.6 Q1560.58 1524.47 1558.75 1520.93 Q1556.94 1517.37 1553.31 1517.37 M1553.31 1513.66 Q1559.12 1513.66 1562.17 1518.27 Q1565.25 1522.85 1565.25 1531.6 Q1565.25 1540.33 1562.17 1544.94 Q1559.12 1549.52 1553.31 1549.52 Q1547.5 1549.52 1544.42 1544.94 Q1541.36 1540.33 1541.36 1531.6 Q1541.36 1522.85 1544.42 1518.27 Q1547.5 1513.66 1553.31 1513.66 Z\" fill=\"#000000\" fill-rule=\"nonzero\" fill-opacity=\"1\" /><path clip-path=\"url(#clip850)\" d=\"M1980.65 1544.91 L1988.29 1544.91 L1988.29 1518.55 L1979.98 1520.21 L1979.98 1515.95 L1988.24 1514.29 L1992.92 1514.29 L1992.92 1544.91 L2000.56 1544.91 L2000.56 1548.85 L1980.65 1548.85 L1980.65 1544.91 Z\" fill=\"#000000\" fill-rule=\"nonzero\" fill-opacity=\"1\" /><path clip-path=\"url(#clip850)\" d=\"M2010 1542.97 L2014.89 1542.97 L2014.89 1548.85 L2010 1548.85 L2010 1542.97 Z\" fill=\"#000000\" fill-rule=\"nonzero\" fill-opacity=\"1\" /><path clip-path=\"url(#clip850)\" d=\"M2029.1 1544.91 L2045.42 1544.91 L2045.42 1548.85 L2023.47 1548.85 L2023.47 1544.91 Q2026.14 1542.16 2030.72 1537.53 Q2035.33 1532.88 2036.51 1531.53 Q2038.75 1529.01 2039.63 1527.27 Q2040.53 1525.51 2040.53 1523.82 Q2040.53 1521.07 2038.59 1519.33 Q2036.67 1517.6 2033.57 1517.6 Q2031.37 1517.6 2028.91 1518.36 Q2026.48 1519.13 2023.71 1520.68 L2023.71 1515.95 Q2026.53 1514.82 2028.98 1514.24 Q2031.44 1513.66 2033.47 1513.66 Q2038.84 1513.66 2042.04 1516.35 Q2045.23 1519.03 2045.23 1523.52 Q2045.23 1525.65 2044.42 1527.57 Q2043.64 1529.47 2041.53 1532.07 Q2040.95 1532.74 2037.85 1535.95 Q2034.75 1539.15 2029.1 1544.91 Z\" fill=\"#000000\" fill-rule=\"nonzero\" fill-opacity=\"1\" /><path clip-path=\"url(#clip850)\" d=\"M2055.28 1514.29 L2073.64 1514.29 L2073.64 1518.22 L2059.56 1518.22 L2059.56 1526.7 Q2060.58 1526.35 2061.6 1526.19 Q2062.62 1526 2063.64 1526 Q2069.42 1526 2072.8 1529.17 Q2076.18 1532.34 2076.18 1537.76 Q2076.18 1543.34 2072.71 1546.44 Q2069.24 1549.52 2062.92 1549.52 Q2060.74 1549.52 2058.47 1549.15 Q2056.23 1548.78 2053.82 1548.04 L2053.82 1543.34 Q2055.9 1544.47 2058.13 1545.03 Q2060.35 1545.58 2062.83 1545.58 Q2066.83 1545.58 2069.17 1543.48 Q2071.51 1541.37 2071.51 1537.76 Q2071.51 1534.15 2069.17 1532.04 Q2066.83 1529.94 2062.83 1529.94 Q2060.95 1529.94 2059.08 1530.35 Q2057.22 1530.77 2055.28 1531.65 L2055.28 1514.29 Z\" fill=\"#000000\" fill-rule=\"nonzero\" fill-opacity=\"1\" /><polyline clip-path=\"url(#clip850)\" style=\"stroke:#000000; stroke-linecap:round; stroke-linejoin:round; stroke-width:4; stroke-opacity:1; fill:none\" points=\"169.121,1486.45 169.121,47.2441 \"/>\n",
       "<polyline clip-path=\"url(#clip850)\" style=\"stroke:#000000; stroke-linecap:round; stroke-linejoin:round; stroke-width:4; stroke-opacity:1; fill:none\" points=\"169.121,1486.45 188.019,1486.45 \"/>\n",
       "<polyline clip-path=\"url(#clip850)\" style=\"stroke:#000000; stroke-linecap:round; stroke-linejoin:round; stroke-width:4; stroke-opacity:1; fill:none\" points=\"169.121,1233.07 188.019,1233.07 \"/>\n",
       "<polyline clip-path=\"url(#clip850)\" style=\"stroke:#000000; stroke-linecap:round; stroke-linejoin:round; stroke-width:4; stroke-opacity:1; fill:none\" points=\"169.121,979.686 188.019,979.686 \"/>\n",
       "<polyline clip-path=\"url(#clip850)\" style=\"stroke:#000000; stroke-linecap:round; stroke-linejoin:round; stroke-width:4; stroke-opacity:1; fill:none\" points=\"169.121,726.305 188.019,726.305 \"/>\n",
       "<polyline clip-path=\"url(#clip850)\" style=\"stroke:#000000; stroke-linecap:round; stroke-linejoin:round; stroke-width:4; stroke-opacity:1; fill:none\" points=\"169.121,472.924 188.019,472.924 \"/>\n",
       "<polyline clip-path=\"url(#clip850)\" style=\"stroke:#000000; stroke-linecap:round; stroke-linejoin:round; stroke-width:4; stroke-opacity:1; fill:none\" points=\"169.121,219.543 188.019,219.543 \"/>\n",
       "<path clip-path=\"url(#clip850)\" d=\"M121.177 1472.25 Q117.566 1472.25 115.737 1475.81 Q113.932 1479.35 113.932 1486.48 Q113.932 1493.59 115.737 1497.15 Q117.566 1500.7 121.177 1500.7 Q124.811 1500.7 126.617 1497.15 Q128.445 1493.59 128.445 1486.48 Q128.445 1479.35 126.617 1475.81 Q124.811 1472.25 121.177 1472.25 M121.177 1468.54 Q126.987 1468.54 130.043 1473.15 Q133.121 1477.73 133.121 1486.48 Q133.121 1495.21 130.043 1499.82 Q126.987 1504.4 121.177 1504.4 Q115.367 1504.4 112.288 1499.82 Q109.233 1495.21 109.233 1486.48 Q109.233 1477.73 112.288 1473.15 Q115.367 1468.54 121.177 1468.54 Z\" fill=\"#000000\" fill-rule=\"nonzero\" fill-opacity=\"1\" /><path clip-path=\"url(#clip850)\" d=\"M86.0382 1246.41 L102.358 1246.41 L102.358 1250.35 L80.4133 1250.35 L80.4133 1246.41 Q83.0753 1243.66 87.6586 1239.03 Q92.2651 1234.37 93.4456 1233.03 Q95.691 1230.51 96.5706 1228.77 Q97.4734 1227.01 97.4734 1225.32 Q97.4734 1222.57 95.5289 1220.83 Q93.6076 1219.1 90.5058 1219.1 Q88.3067 1219.1 85.8531 1219.86 Q83.4225 1220.62 80.6447 1222.18 L80.6447 1217.45 Q83.4688 1216.32 85.9225 1215.74 Q88.3762 1215.16 90.4132 1215.16 Q95.7836 1215.16 98.978 1217.85 Q102.172 1220.53 102.172 1225.02 Q102.172 1227.15 101.362 1229.07 Q100.575 1230.97 98.4687 1233.56 Q97.89 1234.24 94.7882 1237.45 Q91.6864 1240.65 86.0382 1246.41 Z\" fill=\"#000000\" fill-rule=\"nonzero\" fill-opacity=\"1\" /><path clip-path=\"url(#clip850)\" d=\"M112.219 1215.79 L130.575 1215.79 L130.575 1219.72 L116.501 1219.72 L116.501 1228.19 Q117.52 1227.85 118.538 1227.69 Q119.557 1227.5 120.575 1227.5 Q126.362 1227.5 129.742 1230.67 Q133.121 1233.84 133.121 1239.26 Q133.121 1244.84 129.649 1247.94 Q126.177 1251.02 119.857 1251.02 Q117.682 1251.02 115.413 1250.65 Q113.168 1250.28 110.76 1249.54 L110.76 1244.84 Q112.844 1245.97 115.066 1246.53 Q117.288 1247.08 119.765 1247.08 Q123.77 1247.08 126.107 1244.98 Q128.445 1242.87 128.445 1239.26 Q128.445 1235.65 126.107 1233.54 Q123.77 1231.43 119.765 1231.43 Q117.89 1231.43 116.015 1231.85 Q114.163 1232.27 112.219 1233.15 L112.219 1215.79 Z\" fill=\"#000000\" fill-rule=\"nonzero\" fill-opacity=\"1\" /><path clip-path=\"url(#clip850)\" d=\"M81.0614 962.406 L99.4178 962.406 L99.4178 966.341 L85.3438 966.341 L85.3438 974.813 Q86.3623 974.466 87.3808 974.304 Q88.3993 974.119 89.4178 974.119 Q95.2049 974.119 98.5845 977.29 Q101.964 980.461 101.964 985.878 Q101.964 991.457 98.4919 994.559 Q95.0197 997.637 88.7003 997.637 Q86.5243 997.637 84.2558 997.267 Q82.0105 996.897 79.6031 996.156 L79.6031 991.457 Q81.6864 992.591 83.9086 993.147 Q86.1308 993.702 88.6077 993.702 Q92.6123 993.702 94.9502 991.596 Q97.2882 989.489 97.2882 985.878 Q97.2882 982.267 94.9502 980.161 Q92.6123 978.054 88.6077 978.054 Q86.7327 978.054 84.8577 978.471 Q83.0058 978.887 81.0614 979.767 L81.0614 962.406 Z\" fill=\"#000000\" fill-rule=\"nonzero\" fill-opacity=\"1\" /><path clip-path=\"url(#clip850)\" d=\"M121.177 965.485 Q117.566 965.485 115.737 969.049 Q113.932 972.591 113.932 979.721 Q113.932 986.827 115.737 990.392 Q117.566 993.934 121.177 993.934 Q124.811 993.934 126.617 990.392 Q128.445 986.827 128.445 979.721 Q128.445 972.591 126.617 969.049 Q124.811 965.485 121.177 965.485 M121.177 961.781 Q126.987 961.781 130.043 966.387 Q133.121 970.971 133.121 979.721 Q133.121 988.448 130.043 993.054 Q126.987 997.637 121.177 997.637 Q115.367 997.637 112.288 993.054 Q109.233 988.448 109.233 979.721 Q109.233 970.971 112.288 966.387 Q115.367 961.781 121.177 961.781 Z\" fill=\"#000000\" fill-rule=\"nonzero\" fill-opacity=\"1\" /><path clip-path=\"url(#clip850)\" d=\"M80.8299 709.025 L103.052 709.025 L103.052 711.016 L90.5058 743.585 L85.6216 743.585 L97.4271 712.96 L80.8299 712.96 L80.8299 709.025 Z\" fill=\"#000000\" fill-rule=\"nonzero\" fill-opacity=\"1\" /><path clip-path=\"url(#clip850)\" d=\"M112.219 709.025 L130.575 709.025 L130.575 712.96 L116.501 712.96 L116.501 721.432 Q117.52 721.085 118.538 720.923 Q119.557 720.738 120.575 720.738 Q126.362 720.738 129.742 723.909 Q133.121 727.08 133.121 732.497 Q133.121 738.076 129.649 741.178 Q126.177 744.256 119.857 744.256 Q117.682 744.256 115.413 743.886 Q113.168 743.516 110.76 742.775 L110.76 738.076 Q112.844 739.21 115.066 739.766 Q117.288 740.321 119.765 740.321 Q123.77 740.321 126.107 738.215 Q128.445 736.108 128.445 732.497 Q128.445 728.886 126.107 726.78 Q123.77 724.673 119.765 724.673 Q117.89 724.673 116.015 725.09 Q114.163 725.506 112.219 726.386 L112.219 709.025 Z\" fill=\"#000000\" fill-rule=\"nonzero\" fill-opacity=\"1\" /><path clip-path=\"url(#clip850)\" d=\"M51.6634 486.269 L59.3023 486.269 L59.3023 459.903 L50.9921 461.57 L50.9921 457.311 L59.256 455.644 L63.9319 455.644 L63.9319 486.269 L71.5707 486.269 L71.5707 490.204 L51.6634 490.204 L51.6634 486.269 Z\" fill=\"#000000\" fill-rule=\"nonzero\" fill-opacity=\"1\" /><path clip-path=\"url(#clip850)\" d=\"M91.0151 458.723 Q87.404 458.723 85.5753 462.288 Q83.7697 465.829 83.7697 472.959 Q83.7697 480.065 85.5753 483.63 Q87.404 487.172 91.0151 487.172 Q94.6493 487.172 96.4548 483.63 Q98.2835 480.065 98.2835 472.959 Q98.2835 465.829 96.4548 462.288 Q94.6493 458.723 91.0151 458.723 M91.0151 455.019 Q96.8252 455.019 99.8808 459.626 Q102.959 464.209 102.959 472.959 Q102.959 481.686 99.8808 486.292 Q96.8252 490.875 91.0151 490.875 Q85.2049 490.875 82.1262 486.292 Q79.0707 481.686 79.0707 472.959 Q79.0707 464.209 82.1262 459.626 Q85.2049 455.019 91.0151 455.019 Z\" fill=\"#000000\" fill-rule=\"nonzero\" fill-opacity=\"1\" /><path clip-path=\"url(#clip850)\" d=\"M121.177 458.723 Q117.566 458.723 115.737 462.288 Q113.932 465.829 113.932 472.959 Q113.932 480.065 115.737 483.63 Q117.566 487.172 121.177 487.172 Q124.811 487.172 126.617 483.63 Q128.445 480.065 128.445 472.959 Q128.445 465.829 126.617 462.288 Q124.811 458.723 121.177 458.723 M121.177 455.019 Q126.987 455.019 130.043 459.626 Q133.121 464.209 133.121 472.959 Q133.121 481.686 130.043 486.292 Q126.987 490.875 121.177 490.875 Q115.367 490.875 112.288 486.292 Q109.233 481.686 109.233 472.959 Q109.233 464.209 112.288 459.626 Q115.367 455.019 121.177 455.019 Z\" fill=\"#000000\" fill-rule=\"nonzero\" fill-opacity=\"1\" /><path clip-path=\"url(#clip850)\" d=\"M52.6588 232.888 L60.2976 232.888 L60.2976 206.522 L51.9875 208.189 L51.9875 203.93 L60.2513 202.263 L64.9272 202.263 L64.9272 232.888 L72.5661 232.888 L72.5661 236.823 L52.6588 236.823 L52.6588 232.888 Z\" fill=\"#000000\" fill-rule=\"nonzero\" fill-opacity=\"1\" /><path clip-path=\"url(#clip850)\" d=\"M86.0382 232.888 L102.358 232.888 L102.358 236.823 L80.4133 236.823 L80.4133 232.888 Q83.0753 230.133 87.6586 225.504 Q92.2651 220.851 93.4456 219.508 Q95.691 216.985 96.5706 215.249 Q97.4734 213.49 97.4734 211.8 Q97.4734 209.046 95.5289 207.309 Q93.6076 205.573 90.5058 205.573 Q88.3067 205.573 85.8531 206.337 Q83.4225 207.101 80.6447 208.652 L80.6447 203.93 Q83.4688 202.796 85.9225 202.217 Q88.3762 201.638 90.4132 201.638 Q95.7836 201.638 98.978 204.323 Q102.172 207.008 102.172 211.499 Q102.172 213.629 101.362 215.55 Q100.575 217.448 98.4687 220.041 Q97.89 220.712 94.7882 223.93 Q91.6864 227.124 86.0382 232.888 Z\" fill=\"#000000\" fill-rule=\"nonzero\" fill-opacity=\"1\" /><path clip-path=\"url(#clip850)\" d=\"M112.219 202.263 L130.575 202.263 L130.575 206.198 L116.501 206.198 L116.501 214.67 Q117.52 214.323 118.538 214.161 Q119.557 213.976 120.575 213.976 Q126.362 213.976 129.742 217.147 Q133.121 220.319 133.121 225.735 Q133.121 231.314 129.649 234.416 Q126.177 237.494 119.857 237.494 Q117.682 237.494 115.413 237.124 Q113.168 236.754 110.76 236.013 L110.76 231.314 Q112.844 232.448 115.066 233.004 Q117.288 233.559 119.765 233.559 Q123.77 233.559 126.107 231.453 Q128.445 229.346 128.445 225.735 Q128.445 222.124 126.107 220.018 Q123.77 217.911 119.765 217.911 Q117.89 217.911 116.015 218.328 Q114.163 218.745 112.219 219.624 L112.219 202.263 Z\" fill=\"#000000\" fill-rule=\"nonzero\" fill-opacity=\"1\" /><path clip-path=\"url(#clip852)\" d=\"M289.225 1466.18 L289.225 1486.45 L391.511 1486.45 L391.511 1466.18 L289.225 1466.18 L289.225 1466.18  Z\" fill=\"#009af9\" fill-rule=\"evenodd\" fill-opacity=\"1\"/>\n",
       "<polyline clip-path=\"url(#clip852)\" style=\"stroke:#000000; stroke-linecap:round; stroke-linejoin:round; stroke-width:4; stroke-opacity:1; fill:none\" points=\"289.225,1466.18 289.225,1486.45 391.511,1486.45 391.511,1466.18 289.225,1466.18 \"/>\n",
       "<path clip-path=\"url(#clip852)\" d=\"M391.511 1476.31 L391.511 1486.45 L493.796 1486.45 L493.796 1476.31 L391.511 1476.31 L391.511 1476.31  Z\" fill=\"#009af9\" fill-rule=\"evenodd\" fill-opacity=\"1\"/>\n",
       "<polyline clip-path=\"url(#clip852)\" style=\"stroke:#000000; stroke-linecap:round; stroke-linejoin:round; stroke-width:4; stroke-opacity:1; fill:none\" points=\"391.511,1476.31 391.511,1486.45 493.796,1486.45 493.796,1476.31 391.511,1476.31 \"/>\n",
       "<path clip-path=\"url(#clip852)\" d=\"M493.796 1435.77 L493.796 1486.45 L596.082 1486.45 L596.082 1435.77 L493.796 1435.77 L493.796 1435.77  Z\" fill=\"#009af9\" fill-rule=\"evenodd\" fill-opacity=\"1\"/>\n",
       "<polyline clip-path=\"url(#clip852)\" style=\"stroke:#000000; stroke-linecap:round; stroke-linejoin:round; stroke-width:4; stroke-opacity:1; fill:none\" points=\"493.796,1435.77 493.796,1486.45 596.082,1486.45 596.082,1435.77 493.796,1435.77 \"/>\n",
       "<path clip-path=\"url(#clip852)\" d=\"M596.082 1354.69 L596.082 1486.45 L698.368 1486.45 L698.368 1354.69 L596.082 1354.69 L596.082 1354.69  Z\" fill=\"#009af9\" fill-rule=\"evenodd\" fill-opacity=\"1\"/>\n",
       "<polyline clip-path=\"url(#clip852)\" style=\"stroke:#000000; stroke-linecap:round; stroke-linejoin:round; stroke-width:4; stroke-opacity:1; fill:none\" points=\"596.082,1354.69 596.082,1486.45 698.368,1486.45 698.368,1354.69 596.082,1354.69 \"/>\n",
       "<path clip-path=\"url(#clip852)\" d=\"M698.368 1162.12 L698.368 1486.45 L800.653 1486.45 L800.653 1162.12 L698.368 1162.12 L698.368 1162.12  Z\" fill=\"#009af9\" fill-rule=\"evenodd\" fill-opacity=\"1\"/>\n",
       "<polyline clip-path=\"url(#clip852)\" style=\"stroke:#000000; stroke-linecap:round; stroke-linejoin:round; stroke-width:4; stroke-opacity:1; fill:none\" points=\"698.368,1162.12 698.368,1486.45 800.653,1486.45 800.653,1162.12 698.368,1162.12 \"/>\n",
       "<path clip-path=\"url(#clip852)\" d=\"M800.653 979.686 L800.653 1486.45 L902.939 1486.45 L902.939 979.686 L800.653 979.686 L800.653 979.686  Z\" fill=\"#009af9\" fill-rule=\"evenodd\" fill-opacity=\"1\"/>\n",
       "<polyline clip-path=\"url(#clip852)\" style=\"stroke:#000000; stroke-linecap:round; stroke-linejoin:round; stroke-width:4; stroke-opacity:1; fill:none\" points=\"800.653,979.686 800.653,1486.45 902.939,1486.45 902.939,979.686 800.653,979.686 \"/>\n",
       "<path clip-path=\"url(#clip852)\" d=\"M902.939 858.063 L902.939 1486.45 L1005.22 1486.45 L1005.22 858.063 L902.939 858.063 L902.939 858.063  Z\" fill=\"#009af9\" fill-rule=\"evenodd\" fill-opacity=\"1\"/>\n",
       "<polyline clip-path=\"url(#clip852)\" style=\"stroke:#000000; stroke-linecap:round; stroke-linejoin:round; stroke-width:4; stroke-opacity:1; fill:none\" points=\"902.939,858.063 902.939,1486.45 1005.22,1486.45 1005.22,858.063 902.939,858.063 \"/>\n",
       "<path clip-path=\"url(#clip852)\" d=\"M1005.22 351.301 L1005.22 1486.45 L1107.51 1486.45 L1107.51 351.301 L1005.22 351.301 L1005.22 351.301  Z\" fill=\"#009af9\" fill-rule=\"evenodd\" fill-opacity=\"1\"/>\n",
       "<polyline clip-path=\"url(#clip852)\" style=\"stroke:#000000; stroke-linecap:round; stroke-linejoin:round; stroke-width:4; stroke-opacity:1; fill:none\" points=\"1005.22,351.301 1005.22,1486.45 1107.51,1486.45 1107.51,351.301 1005.22,351.301 \"/>\n",
       "<path clip-path=\"url(#clip852)\" d=\"M1107.51 47.2441 L1107.51 1486.45 L1209.8 1486.45 L1209.8 47.2441 L1107.51 47.2441 L1107.51 47.2441  Z\" fill=\"#009af9\" fill-rule=\"evenodd\" fill-opacity=\"1\"/>\n",
       "<polyline clip-path=\"url(#clip852)\" style=\"stroke:#000000; stroke-linecap:round; stroke-linejoin:round; stroke-width:4; stroke-opacity:1; fill:none\" points=\"1107.51,47.2441 1107.51,1486.45 1209.8,1486.45 1209.8,47.2441 1107.51,47.2441 \"/>\n",
       "<path clip-path=\"url(#clip852)\" d=\"M1209.8 148.596 L1209.8 1486.45 L1312.08 1486.45 L1312.08 148.596 L1209.8 148.596 L1209.8 148.596  Z\" fill=\"#009af9\" fill-rule=\"evenodd\" fill-opacity=\"1\"/>\n",
       "<polyline clip-path=\"url(#clip852)\" style=\"stroke:#000000; stroke-linecap:round; stroke-linejoin:round; stroke-width:4; stroke-opacity:1; fill:none\" points=\"1209.8,148.596 1209.8,1486.45 1312.08,1486.45 1312.08,148.596 1209.8,148.596 \"/>\n",
       "<path clip-path=\"url(#clip852)\" d=\"M1312.08 128.326 L1312.08 1486.45 L1414.37 1486.45 L1414.37 128.326 L1312.08 128.326 L1312.08 128.326  Z\" fill=\"#009af9\" fill-rule=\"evenodd\" fill-opacity=\"1\"/>\n",
       "<polyline clip-path=\"url(#clip852)\" style=\"stroke:#000000; stroke-linecap:round; stroke-linejoin:round; stroke-width:4; stroke-opacity:1; fill:none\" points=\"1312.08,128.326 1312.08,1486.45 1414.37,1486.45 1414.37,128.326 1312.08,128.326 \"/>\n",
       "<path clip-path=\"url(#clip852)\" d=\"M1414.37 290.49 L1414.37 1486.45 L1516.65 1486.45 L1516.65 290.49 L1414.37 290.49 L1414.37 290.49  Z\" fill=\"#009af9\" fill-rule=\"evenodd\" fill-opacity=\"1\"/>\n",
       "<polyline clip-path=\"url(#clip852)\" style=\"stroke:#000000; stroke-linecap:round; stroke-linejoin:round; stroke-width:4; stroke-opacity:1; fill:none\" points=\"1414.37,290.49 1414.37,1486.45 1516.65,1486.45 1516.65,290.49 1414.37,290.49 \"/>\n",
       "<path clip-path=\"url(#clip852)\" d=\"M1516.65 635.088 L1516.65 1486.45 L1618.94 1486.45 L1618.94 635.088 L1516.65 635.088 L1516.65 635.088  Z\" fill=\"#009af9\" fill-rule=\"evenodd\" fill-opacity=\"1\"/>\n",
       "<polyline clip-path=\"url(#clip852)\" style=\"stroke:#000000; stroke-linecap:round; stroke-linejoin:round; stroke-width:4; stroke-opacity:1; fill:none\" points=\"1516.65,635.088 1516.65,1486.45 1618.94,1486.45 1618.94,635.088 1516.65,635.088 \"/>\n",
       "<path clip-path=\"url(#clip852)\" d=\"M1618.94 969.551 L1618.94 1486.45 L1721.22 1486.45 L1721.22 969.551 L1618.94 969.551 L1618.94 969.551  Z\" fill=\"#009af9\" fill-rule=\"evenodd\" fill-opacity=\"1\"/>\n",
       "<polyline clip-path=\"url(#clip852)\" style=\"stroke:#000000; stroke-linecap:round; stroke-linejoin:round; stroke-width:4; stroke-opacity:1; fill:none\" points=\"1618.94,969.551 1618.94,1486.45 1721.22,1486.45 1721.22,969.551 1618.94,969.551 \"/>\n",
       "<path clip-path=\"url(#clip852)\" d=\"M1721.22 1233.07 L1721.22 1486.45 L1823.51 1486.45 L1823.51 1233.07 L1721.22 1233.07 L1721.22 1233.07  Z\" fill=\"#009af9\" fill-rule=\"evenodd\" fill-opacity=\"1\"/>\n",
       "<polyline clip-path=\"url(#clip852)\" style=\"stroke:#000000; stroke-linecap:round; stroke-linejoin:round; stroke-width:4; stroke-opacity:1; fill:none\" points=\"1721.22,1233.07 1721.22,1486.45 1823.51,1486.45 1823.51,1233.07 1721.22,1233.07 \"/>\n",
       "<path clip-path=\"url(#clip852)\" d=\"M1823.51 1243.2 L1823.51 1486.45 L1925.8 1486.45 L1925.8 1243.2 L1823.51 1243.2 L1823.51 1243.2  Z\" fill=\"#009af9\" fill-rule=\"evenodd\" fill-opacity=\"1\"/>\n",
       "<polyline clip-path=\"url(#clip852)\" style=\"stroke:#000000; stroke-linecap:round; stroke-linejoin:round; stroke-width:4; stroke-opacity:1; fill:none\" points=\"1823.51,1243.2 1823.51,1486.45 1925.8,1486.45 1925.8,1243.2 1823.51,1243.2 \"/>\n",
       "<path clip-path=\"url(#clip852)\" d=\"M1925.8 1425.64 L1925.8 1486.45 L2028.08 1486.45 L2028.08 1425.64 L1925.8 1425.64 L1925.8 1425.64  Z\" fill=\"#009af9\" fill-rule=\"evenodd\" fill-opacity=\"1\"/>\n",
       "<polyline clip-path=\"url(#clip852)\" style=\"stroke:#000000; stroke-linecap:round; stroke-linejoin:round; stroke-width:4; stroke-opacity:1; fill:none\" points=\"1925.8,1425.64 1925.8,1486.45 2028.08,1486.45 2028.08,1425.64 1925.8,1425.64 \"/>\n",
       "<path clip-path=\"url(#clip852)\" d=\"M2028.08 1456.04 L2028.08 1486.45 L2130.37 1486.45 L2130.37 1456.04 L2028.08 1456.04 L2028.08 1456.04  Z\" fill=\"#009af9\" fill-rule=\"evenodd\" fill-opacity=\"1\"/>\n",
       "<polyline clip-path=\"url(#clip852)\" style=\"stroke:#000000; stroke-linecap:round; stroke-linejoin:round; stroke-width:4; stroke-opacity:1; fill:none\" points=\"2028.08,1456.04 2028.08,1486.45 2130.37,1486.45 2130.37,1456.04 2028.08,1456.04 \"/>\n",
       "<path clip-path=\"url(#clip852)\" d=\"M2130.37 1445.91 L2130.37 1486.45 L2232.65 1486.45 L2232.65 1445.91 L2130.37 1445.91 L2130.37 1445.91  Z\" fill=\"#009af9\" fill-rule=\"evenodd\" fill-opacity=\"1\"/>\n",
       "<polyline clip-path=\"url(#clip852)\" style=\"stroke:#000000; stroke-linecap:round; stroke-linejoin:round; stroke-width:4; stroke-opacity:1; fill:none\" points=\"2130.37,1445.91 2130.37,1486.45 2232.65,1486.45 2232.65,1445.91 2130.37,1445.91 \"/>\n",
       "<circle clip-path=\"url(#clip852)\" style=\"fill:#009af9; stroke:none; fill-opacity:0\" cx=\"340.368\" cy=\"1466.18\" r=\"2\"/>\n",
       "<circle clip-path=\"url(#clip852)\" style=\"fill:#009af9; stroke:none; fill-opacity:0\" cx=\"442.654\" cy=\"1476.31\" r=\"2\"/>\n",
       "<circle clip-path=\"url(#clip852)\" style=\"fill:#009af9; stroke:none; fill-opacity:0\" cx=\"544.939\" cy=\"1435.77\" r=\"2\"/>\n",
       "<circle clip-path=\"url(#clip852)\" style=\"fill:#009af9; stroke:none; fill-opacity:0\" cx=\"647.225\" cy=\"1354.69\" r=\"2\"/>\n",
       "<circle clip-path=\"url(#clip852)\" style=\"fill:#009af9; stroke:none; fill-opacity:0\" cx=\"749.51\" cy=\"1162.12\" r=\"2\"/>\n",
       "<circle clip-path=\"url(#clip852)\" style=\"fill:#009af9; stroke:none; fill-opacity:0\" cx=\"851.796\" cy=\"979.686\" r=\"2\"/>\n",
       "<circle clip-path=\"url(#clip852)\" style=\"fill:#009af9; stroke:none; fill-opacity:0\" cx=\"954.082\" cy=\"858.063\" r=\"2\"/>\n",
       "<circle clip-path=\"url(#clip852)\" style=\"fill:#009af9; stroke:none; fill-opacity:0\" cx=\"1056.37\" cy=\"351.301\" r=\"2\"/>\n",
       "<circle clip-path=\"url(#clip852)\" style=\"fill:#009af9; stroke:none; fill-opacity:0\" cx=\"1158.65\" cy=\"47.2441\" r=\"2\"/>\n",
       "<circle clip-path=\"url(#clip852)\" style=\"fill:#009af9; stroke:none; fill-opacity:0\" cx=\"1260.94\" cy=\"148.596\" r=\"2\"/>\n",
       "<circle clip-path=\"url(#clip852)\" style=\"fill:#009af9; stroke:none; fill-opacity:0\" cx=\"1363.22\" cy=\"128.326\" r=\"2\"/>\n",
       "<circle clip-path=\"url(#clip852)\" style=\"fill:#009af9; stroke:none; fill-opacity:0\" cx=\"1465.51\" cy=\"290.49\" r=\"2\"/>\n",
       "<circle clip-path=\"url(#clip852)\" style=\"fill:#009af9; stroke:none; fill-opacity:0\" cx=\"1567.8\" cy=\"635.088\" r=\"2\"/>\n",
       "<circle clip-path=\"url(#clip852)\" style=\"fill:#009af9; stroke:none; fill-opacity:0\" cx=\"1670.08\" cy=\"969.551\" r=\"2\"/>\n",
       "<circle clip-path=\"url(#clip852)\" style=\"fill:#009af9; stroke:none; fill-opacity:0\" cx=\"1772.37\" cy=\"1233.07\" r=\"2\"/>\n",
       "<circle clip-path=\"url(#clip852)\" style=\"fill:#009af9; stroke:none; fill-opacity:0\" cx=\"1874.65\" cy=\"1243.2\" r=\"2\"/>\n",
       "<circle clip-path=\"url(#clip852)\" style=\"fill:#009af9; stroke:none; fill-opacity:0\" cx=\"1976.94\" cy=\"1425.64\" r=\"2\"/>\n",
       "<circle clip-path=\"url(#clip852)\" style=\"fill:#009af9; stroke:none; fill-opacity:0\" cx=\"2079.22\" cy=\"1456.04\" r=\"2\"/>\n",
       "<circle clip-path=\"url(#clip852)\" style=\"fill:#009af9; stroke:none; fill-opacity:0\" cx=\"2181.51\" cy=\"1445.91\" r=\"2\"/>\n",
       "<path clip-path=\"url(#clip850)\" d=\"M2009.17 198.898 L2279.97 198.898 L2279.97 95.2176 L2009.17 95.2176  Z\" fill=\"#ffffff\" fill-rule=\"evenodd\" fill-opacity=\"1\"/>\n",
       "<polyline clip-path=\"url(#clip850)\" style=\"stroke:#000000; stroke-linecap:round; stroke-linejoin:round; stroke-width:4; stroke-opacity:1; fill:none\" points=\"2009.17,198.898 2279.97,198.898 2279.97,95.2176 2009.17,95.2176 2009.17,198.898 \"/>\n",
       "<path clip-path=\"url(#clip850)\" d=\"M2033.44 167.794 L2179.01 167.794 L2179.01 126.322 L2033.44 126.322 L2033.44 167.794  Z\" fill=\"#009af9\" fill-rule=\"evenodd\" fill-opacity=\"1\"/>\n",
       "<polyline clip-path=\"url(#clip850)\" style=\"stroke:#000000; stroke-linecap:round; stroke-linejoin:round; stroke-width:4; stroke-opacity:1; fill:none\" points=\"2033.44,167.794 2179.01,167.794 2179.01,126.322 2033.44,126.322 2033.44,167.794 \"/>\n",
       "<path clip-path=\"url(#clip850)\" d=\"M2217.12 166.745 Q2215.31 171.375 2213.6 172.787 Q2211.89 174.199 2209.02 174.199 L2205.61 174.199 L2205.61 170.634 L2208.11 170.634 Q2209.87 170.634 2210.84 169.8 Q2211.82 168.967 2213 165.865 L2213.76 163.921 L2203.28 138.412 L2207.79 138.412 L2215.89 158.689 L2223.99 138.412 L2228.51 138.412 L2217.12 166.745 Z\" fill=\"#000000\" fill-rule=\"nonzero\" fill-opacity=\"1\" /><path clip-path=\"url(#clip850)\" d=\"M2235.8 160.402 L2243.44 160.402 L2243.44 134.037 L2235.13 135.703 L2235.13 131.444 L2243.39 129.778 L2248.07 129.778 L2248.07 160.402 L2255.71 160.402 L2255.71 164.338 L2235.8 164.338 L2235.8 160.402 Z\" fill=\"#000000\" fill-rule=\"nonzero\" fill-opacity=\"1\" /></svg>\n"
      ],
      "text/html": [
       "<?xml version=\"1.0\" encoding=\"utf-8\"?>\n",
       "<svg xmlns=\"http://www.w3.org/2000/svg\" xmlns:xlink=\"http://www.w3.org/1999/xlink\" width=\"600\" height=\"400\" viewBox=\"0 0 2400 1600\">\n",
       "<defs>\n",
       "  <clipPath id=\"clip900\">\n",
       "    <rect x=\"0\" y=\"0\" width=\"2400\" height=\"1600\"/>\n",
       "  </clipPath>\n",
       "</defs>\n",
       "<path clip-path=\"url(#clip900)\" d=\"M0 1600 L2400 1600 L2400 0 L0 0  Z\" fill=\"#ffffff\" fill-rule=\"evenodd\" fill-opacity=\"1\"/>\n",
       "<defs>\n",
       "  <clipPath id=\"clip901\">\n",
       "    <rect x=\"480\" y=\"0\" width=\"1681\" height=\"1600\"/>\n",
       "  </clipPath>\n",
       "</defs>\n",
       "<path clip-path=\"url(#clip900)\" d=\"M169.121 1486.45 L2352.76 1486.45 L2352.76 47.2441 L169.121 47.2441  Z\" fill=\"#ffffff\" fill-rule=\"evenodd\" fill-opacity=\"1\"/>\n",
       "<defs>\n",
       "  <clipPath id=\"clip902\">\n",
       "    <rect x=\"169\" y=\"47\" width=\"2185\" height=\"1440\"/>\n",
       "  </clipPath>\n",
       "</defs>\n",
       "<polyline clip-path=\"url(#clip902)\" style=\"stroke:#000000; stroke-linecap:round; stroke-linejoin:round; stroke-width:2; stroke-opacity:0.1; fill:none\" points=\"493.796,1486.45 493.796,47.2441 \"/>\n",
       "<polyline clip-path=\"url(#clip902)\" style=\"stroke:#000000; stroke-linecap:round; stroke-linejoin:round; stroke-width:2; stroke-opacity:0.1; fill:none\" points=\"1005.22,1486.45 1005.22,47.2441 \"/>\n",
       "<polyline clip-path=\"url(#clip902)\" style=\"stroke:#000000; stroke-linecap:round; stroke-linejoin:round; stroke-width:2; stroke-opacity:0.1; fill:none\" points=\"1516.65,1486.45 1516.65,47.2441 \"/>\n",
       "<polyline clip-path=\"url(#clip902)\" style=\"stroke:#000000; stroke-linecap:round; stroke-linejoin:round; stroke-width:2; stroke-opacity:0.1; fill:none\" points=\"2028.08,1486.45 2028.08,47.2441 \"/>\n",
       "<polyline clip-path=\"url(#clip902)\" style=\"stroke:#000000; stroke-linecap:round; stroke-linejoin:round; stroke-width:2; stroke-opacity:0.1; fill:none\" points=\"169.121,1486.45 2352.76,1486.45 \"/>\n",
       "<polyline clip-path=\"url(#clip902)\" style=\"stroke:#000000; stroke-linecap:round; stroke-linejoin:round; stroke-width:2; stroke-opacity:0.1; fill:none\" points=\"169.121,1233.07 2352.76,1233.07 \"/>\n",
       "<polyline clip-path=\"url(#clip902)\" style=\"stroke:#000000; stroke-linecap:round; stroke-linejoin:round; stroke-width:2; stroke-opacity:0.1; fill:none\" points=\"169.121,979.686 2352.76,979.686 \"/>\n",
       "<polyline clip-path=\"url(#clip902)\" style=\"stroke:#000000; stroke-linecap:round; stroke-linejoin:round; stroke-width:2; stroke-opacity:0.1; fill:none\" points=\"169.121,726.305 2352.76,726.305 \"/>\n",
       "<polyline clip-path=\"url(#clip902)\" style=\"stroke:#000000; stroke-linecap:round; stroke-linejoin:round; stroke-width:2; stroke-opacity:0.1; fill:none\" points=\"169.121,472.924 2352.76,472.924 \"/>\n",
       "<polyline clip-path=\"url(#clip902)\" style=\"stroke:#000000; stroke-linecap:round; stroke-linejoin:round; stroke-width:2; stroke-opacity:0.1; fill:none\" points=\"169.121,219.543 2352.76,219.543 \"/>\n",
       "<polyline clip-path=\"url(#clip900)\" style=\"stroke:#000000; stroke-linecap:round; stroke-linejoin:round; stroke-width:4; stroke-opacity:1; fill:none\" points=\"169.121,1486.45 2352.76,1486.45 \"/>\n",
       "<polyline clip-path=\"url(#clip900)\" style=\"stroke:#000000; stroke-linecap:round; stroke-linejoin:round; stroke-width:4; stroke-opacity:1; fill:none\" points=\"493.796,1486.45 493.796,1467.55 \"/>\n",
       "<polyline clip-path=\"url(#clip900)\" style=\"stroke:#000000; stroke-linecap:round; stroke-linejoin:round; stroke-width:4; stroke-opacity:1; fill:none\" points=\"1005.22,1486.45 1005.22,1467.55 \"/>\n",
       "<polyline clip-path=\"url(#clip900)\" style=\"stroke:#000000; stroke-linecap:round; stroke-linejoin:round; stroke-width:4; stroke-opacity:1; fill:none\" points=\"1516.65,1486.45 1516.65,1467.55 \"/>\n",
       "<polyline clip-path=\"url(#clip900)\" style=\"stroke:#000000; stroke-linecap:round; stroke-linejoin:round; stroke-width:4; stroke-opacity:1; fill:none\" points=\"2028.08,1486.45 2028.08,1467.55 \"/>\n",
       "<path clip-path=\"url(#clip900)\" d=\"M456.1 1517.37 Q452.489 1517.37 450.66 1520.93 Q448.854 1524.47 448.854 1531.6 Q448.854 1538.71 450.66 1542.27 Q452.489 1545.82 456.1 1545.82 Q459.734 1545.82 461.54 1542.27 Q463.368 1538.71 463.368 1531.6 Q463.368 1524.47 461.54 1520.93 Q459.734 1517.37 456.1 1517.37 M456.1 1513.66 Q461.91 1513.66 464.966 1518.27 Q468.044 1522.85 468.044 1531.6 Q468.044 1540.33 464.966 1544.94 Q461.91 1549.52 456.1 1549.52 Q450.29 1549.52 447.211 1544.94 Q444.155 1540.33 444.155 1531.6 Q444.155 1522.85 447.211 1518.27 Q450.29 1513.66 456.1 1513.66 Z\" fill=\"#000000\" fill-rule=\"nonzero\" fill-opacity=\"1\" /><path clip-path=\"url(#clip900)\" d=\"M476.262 1542.97 L481.146 1542.97 L481.146 1548.85 L476.262 1548.85 L476.262 1542.97 Z\" fill=\"#000000\" fill-rule=\"nonzero\" fill-opacity=\"1\" /><path clip-path=\"url(#clip900)\" d=\"M491.377 1514.29 L509.734 1514.29 L509.734 1518.22 L495.66 1518.22 L495.66 1526.7 Q496.678 1526.35 497.697 1526.19 Q498.715 1526 499.734 1526 Q505.521 1526 508.9 1529.17 Q512.28 1532.34 512.28 1537.76 Q512.28 1543.34 508.808 1546.44 Q505.336 1549.52 499.016 1549.52 Q496.84 1549.52 494.572 1549.15 Q492.326 1548.78 489.919 1548.04 L489.919 1543.34 Q492.002 1544.47 494.225 1545.03 Q496.447 1545.58 498.924 1545.58 Q502.928 1545.58 505.266 1543.48 Q507.604 1541.37 507.604 1537.76 Q507.604 1534.15 505.266 1532.04 Q502.928 1529.94 498.924 1529.94 Q497.049 1529.94 495.174 1530.35 Q493.322 1530.77 491.377 1531.65 L491.377 1514.29 Z\" fill=\"#000000\" fill-rule=\"nonzero\" fill-opacity=\"1\" /><path clip-path=\"url(#clip900)\" d=\"M531.493 1517.37 Q527.882 1517.37 526.053 1520.93 Q524.248 1524.47 524.248 1531.6 Q524.248 1538.71 526.053 1542.27 Q527.882 1545.82 531.493 1545.82 Q535.127 1545.82 536.933 1542.27 Q538.761 1538.71 538.761 1531.6 Q538.761 1524.47 536.933 1520.93 Q535.127 1517.37 531.493 1517.37 M531.493 1513.66 Q537.303 1513.66 540.359 1518.27 Q543.437 1522.85 543.437 1531.6 Q543.437 1540.33 540.359 1544.94 Q537.303 1549.52 531.493 1549.52 Q525.683 1549.52 522.604 1544.94 Q519.549 1540.33 519.549 1531.6 Q519.549 1522.85 522.604 1518.27 Q525.683 1513.66 531.493 1513.66 Z\" fill=\"#000000\" fill-rule=\"nonzero\" fill-opacity=\"1\" /><path clip-path=\"url(#clip900)\" d=\"M968.026 1517.37 Q964.415 1517.37 962.586 1520.93 Q960.78 1524.47 960.78 1531.6 Q960.78 1538.71 962.586 1542.27 Q964.415 1545.82 968.026 1545.82 Q971.66 1545.82 973.465 1542.27 Q975.294 1538.71 975.294 1531.6 Q975.294 1524.47 973.465 1520.93 Q971.66 1517.37 968.026 1517.37 M968.026 1513.66 Q973.836 1513.66 976.891 1518.27 Q979.97 1522.85 979.97 1531.6 Q979.97 1540.33 976.891 1544.94 Q973.836 1549.52 968.026 1549.52 Q962.216 1549.52 959.137 1544.94 Q956.081 1540.33 956.081 1531.6 Q956.081 1522.85 959.137 1518.27 Q962.216 1513.66 968.026 1513.66 Z\" fill=\"#000000\" fill-rule=\"nonzero\" fill-opacity=\"1\" /><path clip-path=\"url(#clip900)\" d=\"M988.188 1542.97 L993.072 1542.97 L993.072 1548.85 L988.188 1548.85 L988.188 1542.97 Z\" fill=\"#000000\" fill-rule=\"nonzero\" fill-opacity=\"1\" /><path clip-path=\"url(#clip900)\" d=\"M1002.08 1514.29 L1024.3 1514.29 L1024.3 1516.28 L1011.75 1548.85 L1006.87 1548.85 L1018.67 1518.22 L1002.08 1518.22 L1002.08 1514.29 Z\" fill=\"#000000\" fill-rule=\"nonzero\" fill-opacity=\"1\" /><path clip-path=\"url(#clip900)\" d=\"M1033.47 1514.29 L1051.82 1514.29 L1051.82 1518.22 L1037.75 1518.22 L1037.75 1526.7 Q1038.77 1526.35 1039.78 1526.19 Q1040.8 1526 1041.82 1526 Q1047.61 1526 1050.99 1529.17 Q1054.37 1532.34 1054.37 1537.76 Q1054.37 1543.34 1050.9 1546.44 Q1047.42 1549.52 1041.1 1549.52 Q1038.93 1549.52 1036.66 1549.15 Q1034.41 1548.78 1032.01 1548.04 L1032.01 1543.34 Q1034.09 1544.47 1036.31 1545.03 Q1038.53 1545.58 1041.01 1545.58 Q1045.02 1545.58 1047.35 1543.48 Q1049.69 1541.37 1049.69 1537.76 Q1049.69 1534.15 1047.35 1532.04 Q1045.02 1529.94 1041.01 1529.94 Q1039.14 1529.94 1037.26 1530.35 Q1035.41 1530.77 1033.47 1531.65 L1033.47 1514.29 Z\" fill=\"#000000\" fill-rule=\"nonzero\" fill-opacity=\"1\" /><path clip-path=\"url(#clip900)\" d=\"M1468.72 1544.91 L1476.36 1544.91 L1476.36 1518.55 L1468.05 1520.21 L1468.05 1515.95 L1476.32 1514.29 L1480.99 1514.29 L1480.99 1544.91 L1488.63 1544.91 L1488.63 1548.85 L1468.72 1548.85 L1468.72 1544.91 Z\" fill=\"#000000\" fill-rule=\"nonzero\" fill-opacity=\"1\" /><path clip-path=\"url(#clip900)\" d=\"M1498.08 1542.97 L1502.96 1542.97 L1502.96 1548.85 L1498.08 1548.85 L1498.08 1542.97 Z\" fill=\"#000000\" fill-rule=\"nonzero\" fill-opacity=\"1\" /><path clip-path=\"url(#clip900)\" d=\"M1523.15 1517.37 Q1519.53 1517.37 1517.71 1520.93 Q1515.9 1524.47 1515.9 1531.6 Q1515.9 1538.71 1517.71 1542.27 Q1519.53 1545.82 1523.15 1545.82 Q1526.78 1545.82 1528.59 1542.27 Q1530.41 1538.71 1530.41 1531.6 Q1530.41 1524.47 1528.59 1520.93 Q1526.78 1517.37 1523.15 1517.37 M1523.15 1513.66 Q1528.96 1513.66 1532.01 1518.27 Q1535.09 1522.85 1535.09 1531.6 Q1535.09 1540.33 1532.01 1544.94 Q1528.96 1549.52 1523.15 1549.52 Q1517.34 1549.52 1514.26 1544.94 Q1511.2 1540.33 1511.2 1531.6 Q1511.2 1522.85 1514.26 1518.27 Q1517.34 1513.66 1523.15 1513.66 Z\" fill=\"#000000\" fill-rule=\"nonzero\" fill-opacity=\"1\" /><path clip-path=\"url(#clip900)\" d=\"M1553.31 1517.37 Q1549.7 1517.37 1547.87 1520.93 Q1546.06 1524.47 1546.06 1531.6 Q1546.06 1538.71 1547.87 1542.27 Q1549.7 1545.82 1553.31 1545.82 Q1556.94 1545.82 1558.75 1542.27 Q1560.58 1538.71 1560.58 1531.6 Q1560.58 1524.47 1558.75 1520.93 Q1556.94 1517.37 1553.31 1517.37 M1553.31 1513.66 Q1559.12 1513.66 1562.17 1518.27 Q1565.25 1522.85 1565.25 1531.6 Q1565.25 1540.33 1562.17 1544.94 Q1559.12 1549.52 1553.31 1549.52 Q1547.5 1549.52 1544.42 1544.94 Q1541.36 1540.33 1541.36 1531.6 Q1541.36 1522.85 1544.42 1518.27 Q1547.5 1513.66 1553.31 1513.66 Z\" fill=\"#000000\" fill-rule=\"nonzero\" fill-opacity=\"1\" /><path clip-path=\"url(#clip900)\" d=\"M1980.65 1544.91 L1988.29 1544.91 L1988.29 1518.55 L1979.98 1520.21 L1979.98 1515.95 L1988.24 1514.29 L1992.92 1514.29 L1992.92 1544.91 L2000.56 1544.91 L2000.56 1548.85 L1980.65 1548.85 L1980.65 1544.91 Z\" fill=\"#000000\" fill-rule=\"nonzero\" fill-opacity=\"1\" /><path clip-path=\"url(#clip900)\" d=\"M2010 1542.97 L2014.89 1542.97 L2014.89 1548.85 L2010 1548.85 L2010 1542.97 Z\" fill=\"#000000\" fill-rule=\"nonzero\" fill-opacity=\"1\" /><path clip-path=\"url(#clip900)\" d=\"M2029.1 1544.91 L2045.42 1544.91 L2045.42 1548.85 L2023.47 1548.85 L2023.47 1544.91 Q2026.14 1542.16 2030.72 1537.53 Q2035.33 1532.88 2036.51 1531.53 Q2038.75 1529.01 2039.63 1527.27 Q2040.53 1525.51 2040.53 1523.82 Q2040.53 1521.07 2038.59 1519.33 Q2036.67 1517.6 2033.57 1517.6 Q2031.37 1517.6 2028.91 1518.36 Q2026.48 1519.13 2023.71 1520.68 L2023.71 1515.95 Q2026.53 1514.82 2028.98 1514.24 Q2031.44 1513.66 2033.47 1513.66 Q2038.84 1513.66 2042.04 1516.35 Q2045.23 1519.03 2045.23 1523.52 Q2045.23 1525.65 2044.42 1527.57 Q2043.64 1529.47 2041.53 1532.07 Q2040.95 1532.74 2037.85 1535.95 Q2034.75 1539.15 2029.1 1544.91 Z\" fill=\"#000000\" fill-rule=\"nonzero\" fill-opacity=\"1\" /><path clip-path=\"url(#clip900)\" d=\"M2055.28 1514.29 L2073.64 1514.29 L2073.64 1518.22 L2059.56 1518.22 L2059.56 1526.7 Q2060.58 1526.35 2061.6 1526.19 Q2062.62 1526 2063.64 1526 Q2069.42 1526 2072.8 1529.17 Q2076.18 1532.34 2076.18 1537.76 Q2076.18 1543.34 2072.71 1546.44 Q2069.24 1549.52 2062.92 1549.52 Q2060.74 1549.52 2058.47 1549.15 Q2056.23 1548.78 2053.82 1548.04 L2053.82 1543.34 Q2055.9 1544.47 2058.13 1545.03 Q2060.35 1545.58 2062.83 1545.58 Q2066.83 1545.58 2069.17 1543.48 Q2071.51 1541.37 2071.51 1537.76 Q2071.51 1534.15 2069.17 1532.04 Q2066.83 1529.94 2062.83 1529.94 Q2060.95 1529.94 2059.08 1530.35 Q2057.22 1530.77 2055.28 1531.65 L2055.28 1514.29 Z\" fill=\"#000000\" fill-rule=\"nonzero\" fill-opacity=\"1\" /><polyline clip-path=\"url(#clip900)\" style=\"stroke:#000000; stroke-linecap:round; stroke-linejoin:round; stroke-width:4; stroke-opacity:1; fill:none\" points=\"169.121,1486.45 169.121,47.2441 \"/>\n",
       "<polyline clip-path=\"url(#clip900)\" style=\"stroke:#000000; stroke-linecap:round; stroke-linejoin:round; stroke-width:4; stroke-opacity:1; fill:none\" points=\"169.121,1486.45 188.019,1486.45 \"/>\n",
       "<polyline clip-path=\"url(#clip900)\" style=\"stroke:#000000; stroke-linecap:round; stroke-linejoin:round; stroke-width:4; stroke-opacity:1; fill:none\" points=\"169.121,1233.07 188.019,1233.07 \"/>\n",
       "<polyline clip-path=\"url(#clip900)\" style=\"stroke:#000000; stroke-linecap:round; stroke-linejoin:round; stroke-width:4; stroke-opacity:1; fill:none\" points=\"169.121,979.686 188.019,979.686 \"/>\n",
       "<polyline clip-path=\"url(#clip900)\" style=\"stroke:#000000; stroke-linecap:round; stroke-linejoin:round; stroke-width:4; stroke-opacity:1; fill:none\" points=\"169.121,726.305 188.019,726.305 \"/>\n",
       "<polyline clip-path=\"url(#clip900)\" style=\"stroke:#000000; stroke-linecap:round; stroke-linejoin:round; stroke-width:4; stroke-opacity:1; fill:none\" points=\"169.121,472.924 188.019,472.924 \"/>\n",
       "<polyline clip-path=\"url(#clip900)\" style=\"stroke:#000000; stroke-linecap:round; stroke-linejoin:round; stroke-width:4; stroke-opacity:1; fill:none\" points=\"169.121,219.543 188.019,219.543 \"/>\n",
       "<path clip-path=\"url(#clip900)\" d=\"M121.177 1472.25 Q117.566 1472.25 115.737 1475.81 Q113.932 1479.35 113.932 1486.48 Q113.932 1493.59 115.737 1497.15 Q117.566 1500.7 121.177 1500.7 Q124.811 1500.7 126.617 1497.15 Q128.445 1493.59 128.445 1486.48 Q128.445 1479.35 126.617 1475.81 Q124.811 1472.25 121.177 1472.25 M121.177 1468.54 Q126.987 1468.54 130.043 1473.15 Q133.121 1477.73 133.121 1486.48 Q133.121 1495.21 130.043 1499.82 Q126.987 1504.4 121.177 1504.4 Q115.367 1504.4 112.288 1499.82 Q109.233 1495.21 109.233 1486.48 Q109.233 1477.73 112.288 1473.15 Q115.367 1468.54 121.177 1468.54 Z\" fill=\"#000000\" fill-rule=\"nonzero\" fill-opacity=\"1\" /><path clip-path=\"url(#clip900)\" d=\"M86.0382 1246.41 L102.358 1246.41 L102.358 1250.35 L80.4133 1250.35 L80.4133 1246.41 Q83.0753 1243.66 87.6586 1239.03 Q92.2651 1234.37 93.4456 1233.03 Q95.691 1230.51 96.5706 1228.77 Q97.4734 1227.01 97.4734 1225.32 Q97.4734 1222.57 95.5289 1220.83 Q93.6076 1219.1 90.5058 1219.1 Q88.3067 1219.1 85.8531 1219.86 Q83.4225 1220.62 80.6447 1222.18 L80.6447 1217.45 Q83.4688 1216.32 85.9225 1215.74 Q88.3762 1215.16 90.4132 1215.16 Q95.7836 1215.16 98.978 1217.85 Q102.172 1220.53 102.172 1225.02 Q102.172 1227.15 101.362 1229.07 Q100.575 1230.97 98.4687 1233.56 Q97.89 1234.24 94.7882 1237.45 Q91.6864 1240.65 86.0382 1246.41 Z\" fill=\"#000000\" fill-rule=\"nonzero\" fill-opacity=\"1\" /><path clip-path=\"url(#clip900)\" d=\"M112.219 1215.79 L130.575 1215.79 L130.575 1219.72 L116.501 1219.72 L116.501 1228.19 Q117.52 1227.85 118.538 1227.69 Q119.557 1227.5 120.575 1227.5 Q126.362 1227.5 129.742 1230.67 Q133.121 1233.84 133.121 1239.26 Q133.121 1244.84 129.649 1247.94 Q126.177 1251.02 119.857 1251.02 Q117.682 1251.02 115.413 1250.65 Q113.168 1250.28 110.76 1249.54 L110.76 1244.84 Q112.844 1245.97 115.066 1246.53 Q117.288 1247.08 119.765 1247.08 Q123.77 1247.08 126.107 1244.98 Q128.445 1242.87 128.445 1239.26 Q128.445 1235.65 126.107 1233.54 Q123.77 1231.43 119.765 1231.43 Q117.89 1231.43 116.015 1231.85 Q114.163 1232.27 112.219 1233.15 L112.219 1215.79 Z\" fill=\"#000000\" fill-rule=\"nonzero\" fill-opacity=\"1\" /><path clip-path=\"url(#clip900)\" d=\"M81.0614 962.406 L99.4178 962.406 L99.4178 966.341 L85.3438 966.341 L85.3438 974.813 Q86.3623 974.466 87.3808 974.304 Q88.3993 974.119 89.4178 974.119 Q95.2049 974.119 98.5845 977.29 Q101.964 980.461 101.964 985.878 Q101.964 991.457 98.4919 994.559 Q95.0197 997.637 88.7003 997.637 Q86.5243 997.637 84.2558 997.267 Q82.0105 996.897 79.6031 996.156 L79.6031 991.457 Q81.6864 992.591 83.9086 993.147 Q86.1308 993.702 88.6077 993.702 Q92.6123 993.702 94.9502 991.596 Q97.2882 989.489 97.2882 985.878 Q97.2882 982.267 94.9502 980.161 Q92.6123 978.054 88.6077 978.054 Q86.7327 978.054 84.8577 978.471 Q83.0058 978.887 81.0614 979.767 L81.0614 962.406 Z\" fill=\"#000000\" fill-rule=\"nonzero\" fill-opacity=\"1\" /><path clip-path=\"url(#clip900)\" d=\"M121.177 965.485 Q117.566 965.485 115.737 969.049 Q113.932 972.591 113.932 979.721 Q113.932 986.827 115.737 990.392 Q117.566 993.934 121.177 993.934 Q124.811 993.934 126.617 990.392 Q128.445 986.827 128.445 979.721 Q128.445 972.591 126.617 969.049 Q124.811 965.485 121.177 965.485 M121.177 961.781 Q126.987 961.781 130.043 966.387 Q133.121 970.971 133.121 979.721 Q133.121 988.448 130.043 993.054 Q126.987 997.637 121.177 997.637 Q115.367 997.637 112.288 993.054 Q109.233 988.448 109.233 979.721 Q109.233 970.971 112.288 966.387 Q115.367 961.781 121.177 961.781 Z\" fill=\"#000000\" fill-rule=\"nonzero\" fill-opacity=\"1\" /><path clip-path=\"url(#clip900)\" d=\"M80.8299 709.025 L103.052 709.025 L103.052 711.016 L90.5058 743.585 L85.6216 743.585 L97.4271 712.96 L80.8299 712.96 L80.8299 709.025 Z\" fill=\"#000000\" fill-rule=\"nonzero\" fill-opacity=\"1\" /><path clip-path=\"url(#clip900)\" d=\"M112.219 709.025 L130.575 709.025 L130.575 712.96 L116.501 712.96 L116.501 721.432 Q117.52 721.085 118.538 720.923 Q119.557 720.738 120.575 720.738 Q126.362 720.738 129.742 723.909 Q133.121 727.08 133.121 732.497 Q133.121 738.076 129.649 741.178 Q126.177 744.256 119.857 744.256 Q117.682 744.256 115.413 743.886 Q113.168 743.516 110.76 742.775 L110.76 738.076 Q112.844 739.21 115.066 739.766 Q117.288 740.321 119.765 740.321 Q123.77 740.321 126.107 738.215 Q128.445 736.108 128.445 732.497 Q128.445 728.886 126.107 726.78 Q123.77 724.673 119.765 724.673 Q117.89 724.673 116.015 725.09 Q114.163 725.506 112.219 726.386 L112.219 709.025 Z\" fill=\"#000000\" fill-rule=\"nonzero\" fill-opacity=\"1\" /><path clip-path=\"url(#clip900)\" d=\"M51.6634 486.269 L59.3023 486.269 L59.3023 459.903 L50.9921 461.57 L50.9921 457.311 L59.256 455.644 L63.9319 455.644 L63.9319 486.269 L71.5707 486.269 L71.5707 490.204 L51.6634 490.204 L51.6634 486.269 Z\" fill=\"#000000\" fill-rule=\"nonzero\" fill-opacity=\"1\" /><path clip-path=\"url(#clip900)\" d=\"M91.0151 458.723 Q87.404 458.723 85.5753 462.288 Q83.7697 465.829 83.7697 472.959 Q83.7697 480.065 85.5753 483.63 Q87.404 487.172 91.0151 487.172 Q94.6493 487.172 96.4548 483.63 Q98.2835 480.065 98.2835 472.959 Q98.2835 465.829 96.4548 462.288 Q94.6493 458.723 91.0151 458.723 M91.0151 455.019 Q96.8252 455.019 99.8808 459.626 Q102.959 464.209 102.959 472.959 Q102.959 481.686 99.8808 486.292 Q96.8252 490.875 91.0151 490.875 Q85.2049 490.875 82.1262 486.292 Q79.0707 481.686 79.0707 472.959 Q79.0707 464.209 82.1262 459.626 Q85.2049 455.019 91.0151 455.019 Z\" fill=\"#000000\" fill-rule=\"nonzero\" fill-opacity=\"1\" /><path clip-path=\"url(#clip900)\" d=\"M121.177 458.723 Q117.566 458.723 115.737 462.288 Q113.932 465.829 113.932 472.959 Q113.932 480.065 115.737 483.63 Q117.566 487.172 121.177 487.172 Q124.811 487.172 126.617 483.63 Q128.445 480.065 128.445 472.959 Q128.445 465.829 126.617 462.288 Q124.811 458.723 121.177 458.723 M121.177 455.019 Q126.987 455.019 130.043 459.626 Q133.121 464.209 133.121 472.959 Q133.121 481.686 130.043 486.292 Q126.987 490.875 121.177 490.875 Q115.367 490.875 112.288 486.292 Q109.233 481.686 109.233 472.959 Q109.233 464.209 112.288 459.626 Q115.367 455.019 121.177 455.019 Z\" fill=\"#000000\" fill-rule=\"nonzero\" fill-opacity=\"1\" /><path clip-path=\"url(#clip900)\" d=\"M52.6588 232.888 L60.2976 232.888 L60.2976 206.522 L51.9875 208.189 L51.9875 203.93 L60.2513 202.263 L64.9272 202.263 L64.9272 232.888 L72.5661 232.888 L72.5661 236.823 L52.6588 236.823 L52.6588 232.888 Z\" fill=\"#000000\" fill-rule=\"nonzero\" fill-opacity=\"1\" /><path clip-path=\"url(#clip900)\" d=\"M86.0382 232.888 L102.358 232.888 L102.358 236.823 L80.4133 236.823 L80.4133 232.888 Q83.0753 230.133 87.6586 225.504 Q92.2651 220.851 93.4456 219.508 Q95.691 216.985 96.5706 215.249 Q97.4734 213.49 97.4734 211.8 Q97.4734 209.046 95.5289 207.309 Q93.6076 205.573 90.5058 205.573 Q88.3067 205.573 85.8531 206.337 Q83.4225 207.101 80.6447 208.652 L80.6447 203.93 Q83.4688 202.796 85.9225 202.217 Q88.3762 201.638 90.4132 201.638 Q95.7836 201.638 98.978 204.323 Q102.172 207.008 102.172 211.499 Q102.172 213.629 101.362 215.55 Q100.575 217.448 98.4687 220.041 Q97.89 220.712 94.7882 223.93 Q91.6864 227.124 86.0382 232.888 Z\" fill=\"#000000\" fill-rule=\"nonzero\" fill-opacity=\"1\" /><path clip-path=\"url(#clip900)\" d=\"M112.219 202.263 L130.575 202.263 L130.575 206.198 L116.501 206.198 L116.501 214.67 Q117.52 214.323 118.538 214.161 Q119.557 213.976 120.575 213.976 Q126.362 213.976 129.742 217.147 Q133.121 220.319 133.121 225.735 Q133.121 231.314 129.649 234.416 Q126.177 237.494 119.857 237.494 Q117.682 237.494 115.413 237.124 Q113.168 236.754 110.76 236.013 L110.76 231.314 Q112.844 232.448 115.066 233.004 Q117.288 233.559 119.765 233.559 Q123.77 233.559 126.107 231.453 Q128.445 229.346 128.445 225.735 Q128.445 222.124 126.107 220.018 Q123.77 217.911 119.765 217.911 Q117.89 217.911 116.015 218.328 Q114.163 218.745 112.219 219.624 L112.219 202.263 Z\" fill=\"#000000\" fill-rule=\"nonzero\" fill-opacity=\"1\" /><path clip-path=\"url(#clip902)\" d=\"M289.225 1466.18 L289.225 1486.45 L391.511 1486.45 L391.511 1466.18 L289.225 1466.18 L289.225 1466.18  Z\" fill=\"#009af9\" fill-rule=\"evenodd\" fill-opacity=\"1\"/>\n",
       "<polyline clip-path=\"url(#clip902)\" style=\"stroke:#000000; stroke-linecap:round; stroke-linejoin:round; stroke-width:4; stroke-opacity:1; fill:none\" points=\"289.225,1466.18 289.225,1486.45 391.511,1486.45 391.511,1466.18 289.225,1466.18 \"/>\n",
       "<path clip-path=\"url(#clip902)\" d=\"M391.511 1476.31 L391.511 1486.45 L493.796 1486.45 L493.796 1476.31 L391.511 1476.31 L391.511 1476.31  Z\" fill=\"#009af9\" fill-rule=\"evenodd\" fill-opacity=\"1\"/>\n",
       "<polyline clip-path=\"url(#clip902)\" style=\"stroke:#000000; stroke-linecap:round; stroke-linejoin:round; stroke-width:4; stroke-opacity:1; fill:none\" points=\"391.511,1476.31 391.511,1486.45 493.796,1486.45 493.796,1476.31 391.511,1476.31 \"/>\n",
       "<path clip-path=\"url(#clip902)\" d=\"M493.796 1435.77 L493.796 1486.45 L596.082 1486.45 L596.082 1435.77 L493.796 1435.77 L493.796 1435.77  Z\" fill=\"#009af9\" fill-rule=\"evenodd\" fill-opacity=\"1\"/>\n",
       "<polyline clip-path=\"url(#clip902)\" style=\"stroke:#000000; stroke-linecap:round; stroke-linejoin:round; stroke-width:4; stroke-opacity:1; fill:none\" points=\"493.796,1435.77 493.796,1486.45 596.082,1486.45 596.082,1435.77 493.796,1435.77 \"/>\n",
       "<path clip-path=\"url(#clip902)\" d=\"M596.082 1354.69 L596.082 1486.45 L698.368 1486.45 L698.368 1354.69 L596.082 1354.69 L596.082 1354.69  Z\" fill=\"#009af9\" fill-rule=\"evenodd\" fill-opacity=\"1\"/>\n",
       "<polyline clip-path=\"url(#clip902)\" style=\"stroke:#000000; stroke-linecap:round; stroke-linejoin:round; stroke-width:4; stroke-opacity:1; fill:none\" points=\"596.082,1354.69 596.082,1486.45 698.368,1486.45 698.368,1354.69 596.082,1354.69 \"/>\n",
       "<path clip-path=\"url(#clip902)\" d=\"M698.368 1162.12 L698.368 1486.45 L800.653 1486.45 L800.653 1162.12 L698.368 1162.12 L698.368 1162.12  Z\" fill=\"#009af9\" fill-rule=\"evenodd\" fill-opacity=\"1\"/>\n",
       "<polyline clip-path=\"url(#clip902)\" style=\"stroke:#000000; stroke-linecap:round; stroke-linejoin:round; stroke-width:4; stroke-opacity:1; fill:none\" points=\"698.368,1162.12 698.368,1486.45 800.653,1486.45 800.653,1162.12 698.368,1162.12 \"/>\n",
       "<path clip-path=\"url(#clip902)\" d=\"M800.653 979.686 L800.653 1486.45 L902.939 1486.45 L902.939 979.686 L800.653 979.686 L800.653 979.686  Z\" fill=\"#009af9\" fill-rule=\"evenodd\" fill-opacity=\"1\"/>\n",
       "<polyline clip-path=\"url(#clip902)\" style=\"stroke:#000000; stroke-linecap:round; stroke-linejoin:round; stroke-width:4; stroke-opacity:1; fill:none\" points=\"800.653,979.686 800.653,1486.45 902.939,1486.45 902.939,979.686 800.653,979.686 \"/>\n",
       "<path clip-path=\"url(#clip902)\" d=\"M902.939 858.063 L902.939 1486.45 L1005.22 1486.45 L1005.22 858.063 L902.939 858.063 L902.939 858.063  Z\" fill=\"#009af9\" fill-rule=\"evenodd\" fill-opacity=\"1\"/>\n",
       "<polyline clip-path=\"url(#clip902)\" style=\"stroke:#000000; stroke-linecap:round; stroke-linejoin:round; stroke-width:4; stroke-opacity:1; fill:none\" points=\"902.939,858.063 902.939,1486.45 1005.22,1486.45 1005.22,858.063 902.939,858.063 \"/>\n",
       "<path clip-path=\"url(#clip902)\" d=\"M1005.22 351.301 L1005.22 1486.45 L1107.51 1486.45 L1107.51 351.301 L1005.22 351.301 L1005.22 351.301  Z\" fill=\"#009af9\" fill-rule=\"evenodd\" fill-opacity=\"1\"/>\n",
       "<polyline clip-path=\"url(#clip902)\" style=\"stroke:#000000; stroke-linecap:round; stroke-linejoin:round; stroke-width:4; stroke-opacity:1; fill:none\" points=\"1005.22,351.301 1005.22,1486.45 1107.51,1486.45 1107.51,351.301 1005.22,351.301 \"/>\n",
       "<path clip-path=\"url(#clip902)\" d=\"M1107.51 47.2441 L1107.51 1486.45 L1209.8 1486.45 L1209.8 47.2441 L1107.51 47.2441 L1107.51 47.2441  Z\" fill=\"#009af9\" fill-rule=\"evenodd\" fill-opacity=\"1\"/>\n",
       "<polyline clip-path=\"url(#clip902)\" style=\"stroke:#000000; stroke-linecap:round; stroke-linejoin:round; stroke-width:4; stroke-opacity:1; fill:none\" points=\"1107.51,47.2441 1107.51,1486.45 1209.8,1486.45 1209.8,47.2441 1107.51,47.2441 \"/>\n",
       "<path clip-path=\"url(#clip902)\" d=\"M1209.8 148.596 L1209.8 1486.45 L1312.08 1486.45 L1312.08 148.596 L1209.8 148.596 L1209.8 148.596  Z\" fill=\"#009af9\" fill-rule=\"evenodd\" fill-opacity=\"1\"/>\n",
       "<polyline clip-path=\"url(#clip902)\" style=\"stroke:#000000; stroke-linecap:round; stroke-linejoin:round; stroke-width:4; stroke-opacity:1; fill:none\" points=\"1209.8,148.596 1209.8,1486.45 1312.08,1486.45 1312.08,148.596 1209.8,148.596 \"/>\n",
       "<path clip-path=\"url(#clip902)\" d=\"M1312.08 128.326 L1312.08 1486.45 L1414.37 1486.45 L1414.37 128.326 L1312.08 128.326 L1312.08 128.326  Z\" fill=\"#009af9\" fill-rule=\"evenodd\" fill-opacity=\"1\"/>\n",
       "<polyline clip-path=\"url(#clip902)\" style=\"stroke:#000000; stroke-linecap:round; stroke-linejoin:round; stroke-width:4; stroke-opacity:1; fill:none\" points=\"1312.08,128.326 1312.08,1486.45 1414.37,1486.45 1414.37,128.326 1312.08,128.326 \"/>\n",
       "<path clip-path=\"url(#clip902)\" d=\"M1414.37 290.49 L1414.37 1486.45 L1516.65 1486.45 L1516.65 290.49 L1414.37 290.49 L1414.37 290.49  Z\" fill=\"#009af9\" fill-rule=\"evenodd\" fill-opacity=\"1\"/>\n",
       "<polyline clip-path=\"url(#clip902)\" style=\"stroke:#000000; stroke-linecap:round; stroke-linejoin:round; stroke-width:4; stroke-opacity:1; fill:none\" points=\"1414.37,290.49 1414.37,1486.45 1516.65,1486.45 1516.65,290.49 1414.37,290.49 \"/>\n",
       "<path clip-path=\"url(#clip902)\" d=\"M1516.65 635.088 L1516.65 1486.45 L1618.94 1486.45 L1618.94 635.088 L1516.65 635.088 L1516.65 635.088  Z\" fill=\"#009af9\" fill-rule=\"evenodd\" fill-opacity=\"1\"/>\n",
       "<polyline clip-path=\"url(#clip902)\" style=\"stroke:#000000; stroke-linecap:round; stroke-linejoin:round; stroke-width:4; stroke-opacity:1; fill:none\" points=\"1516.65,635.088 1516.65,1486.45 1618.94,1486.45 1618.94,635.088 1516.65,635.088 \"/>\n",
       "<path clip-path=\"url(#clip902)\" d=\"M1618.94 969.551 L1618.94 1486.45 L1721.22 1486.45 L1721.22 969.551 L1618.94 969.551 L1618.94 969.551  Z\" fill=\"#009af9\" fill-rule=\"evenodd\" fill-opacity=\"1\"/>\n",
       "<polyline clip-path=\"url(#clip902)\" style=\"stroke:#000000; stroke-linecap:round; stroke-linejoin:round; stroke-width:4; stroke-opacity:1; fill:none\" points=\"1618.94,969.551 1618.94,1486.45 1721.22,1486.45 1721.22,969.551 1618.94,969.551 \"/>\n",
       "<path clip-path=\"url(#clip902)\" d=\"M1721.22 1233.07 L1721.22 1486.45 L1823.51 1486.45 L1823.51 1233.07 L1721.22 1233.07 L1721.22 1233.07  Z\" fill=\"#009af9\" fill-rule=\"evenodd\" fill-opacity=\"1\"/>\n",
       "<polyline clip-path=\"url(#clip902)\" style=\"stroke:#000000; stroke-linecap:round; stroke-linejoin:round; stroke-width:4; stroke-opacity:1; fill:none\" points=\"1721.22,1233.07 1721.22,1486.45 1823.51,1486.45 1823.51,1233.07 1721.22,1233.07 \"/>\n",
       "<path clip-path=\"url(#clip902)\" d=\"M1823.51 1243.2 L1823.51 1486.45 L1925.8 1486.45 L1925.8 1243.2 L1823.51 1243.2 L1823.51 1243.2  Z\" fill=\"#009af9\" fill-rule=\"evenodd\" fill-opacity=\"1\"/>\n",
       "<polyline clip-path=\"url(#clip902)\" style=\"stroke:#000000; stroke-linecap:round; stroke-linejoin:round; stroke-width:4; stroke-opacity:1; fill:none\" points=\"1823.51,1243.2 1823.51,1486.45 1925.8,1486.45 1925.8,1243.2 1823.51,1243.2 \"/>\n",
       "<path clip-path=\"url(#clip902)\" d=\"M1925.8 1425.64 L1925.8 1486.45 L2028.08 1486.45 L2028.08 1425.64 L1925.8 1425.64 L1925.8 1425.64  Z\" fill=\"#009af9\" fill-rule=\"evenodd\" fill-opacity=\"1\"/>\n",
       "<polyline clip-path=\"url(#clip902)\" style=\"stroke:#000000; stroke-linecap:round; stroke-linejoin:round; stroke-width:4; stroke-opacity:1; fill:none\" points=\"1925.8,1425.64 1925.8,1486.45 2028.08,1486.45 2028.08,1425.64 1925.8,1425.64 \"/>\n",
       "<path clip-path=\"url(#clip902)\" d=\"M2028.08 1456.04 L2028.08 1486.45 L2130.37 1486.45 L2130.37 1456.04 L2028.08 1456.04 L2028.08 1456.04  Z\" fill=\"#009af9\" fill-rule=\"evenodd\" fill-opacity=\"1\"/>\n",
       "<polyline clip-path=\"url(#clip902)\" style=\"stroke:#000000; stroke-linecap:round; stroke-linejoin:round; stroke-width:4; stroke-opacity:1; fill:none\" points=\"2028.08,1456.04 2028.08,1486.45 2130.37,1486.45 2130.37,1456.04 2028.08,1456.04 \"/>\n",
       "<path clip-path=\"url(#clip902)\" d=\"M2130.37 1445.91 L2130.37 1486.45 L2232.65 1486.45 L2232.65 1445.91 L2130.37 1445.91 L2130.37 1445.91  Z\" fill=\"#009af9\" fill-rule=\"evenodd\" fill-opacity=\"1\"/>\n",
       "<polyline clip-path=\"url(#clip902)\" style=\"stroke:#000000; stroke-linecap:round; stroke-linejoin:round; stroke-width:4; stroke-opacity:1; fill:none\" points=\"2130.37,1445.91 2130.37,1486.45 2232.65,1486.45 2232.65,1445.91 2130.37,1445.91 \"/>\n",
       "<circle clip-path=\"url(#clip902)\" style=\"fill:#009af9; stroke:none; fill-opacity:0\" cx=\"340.368\" cy=\"1466.18\" r=\"2\"/>\n",
       "<circle clip-path=\"url(#clip902)\" style=\"fill:#009af9; stroke:none; fill-opacity:0\" cx=\"442.654\" cy=\"1476.31\" r=\"2\"/>\n",
       "<circle clip-path=\"url(#clip902)\" style=\"fill:#009af9; stroke:none; fill-opacity:0\" cx=\"544.939\" cy=\"1435.77\" r=\"2\"/>\n",
       "<circle clip-path=\"url(#clip902)\" style=\"fill:#009af9; stroke:none; fill-opacity:0\" cx=\"647.225\" cy=\"1354.69\" r=\"2\"/>\n",
       "<circle clip-path=\"url(#clip902)\" style=\"fill:#009af9; stroke:none; fill-opacity:0\" cx=\"749.51\" cy=\"1162.12\" r=\"2\"/>\n",
       "<circle clip-path=\"url(#clip902)\" style=\"fill:#009af9; stroke:none; fill-opacity:0\" cx=\"851.796\" cy=\"979.686\" r=\"2\"/>\n",
       "<circle clip-path=\"url(#clip902)\" style=\"fill:#009af9; stroke:none; fill-opacity:0\" cx=\"954.082\" cy=\"858.063\" r=\"2\"/>\n",
       "<circle clip-path=\"url(#clip902)\" style=\"fill:#009af9; stroke:none; fill-opacity:0\" cx=\"1056.37\" cy=\"351.301\" r=\"2\"/>\n",
       "<circle clip-path=\"url(#clip902)\" style=\"fill:#009af9; stroke:none; fill-opacity:0\" cx=\"1158.65\" cy=\"47.2441\" r=\"2\"/>\n",
       "<circle clip-path=\"url(#clip902)\" style=\"fill:#009af9; stroke:none; fill-opacity:0\" cx=\"1260.94\" cy=\"148.596\" r=\"2\"/>\n",
       "<circle clip-path=\"url(#clip902)\" style=\"fill:#009af9; stroke:none; fill-opacity:0\" cx=\"1363.22\" cy=\"128.326\" r=\"2\"/>\n",
       "<circle clip-path=\"url(#clip902)\" style=\"fill:#009af9; stroke:none; fill-opacity:0\" cx=\"1465.51\" cy=\"290.49\" r=\"2\"/>\n",
       "<circle clip-path=\"url(#clip902)\" style=\"fill:#009af9; stroke:none; fill-opacity:0\" cx=\"1567.8\" cy=\"635.088\" r=\"2\"/>\n",
       "<circle clip-path=\"url(#clip902)\" style=\"fill:#009af9; stroke:none; fill-opacity:0\" cx=\"1670.08\" cy=\"969.551\" r=\"2\"/>\n",
       "<circle clip-path=\"url(#clip902)\" style=\"fill:#009af9; stroke:none; fill-opacity:0\" cx=\"1772.37\" cy=\"1233.07\" r=\"2\"/>\n",
       "<circle clip-path=\"url(#clip902)\" style=\"fill:#009af9; stroke:none; fill-opacity:0\" cx=\"1874.65\" cy=\"1243.2\" r=\"2\"/>\n",
       "<circle clip-path=\"url(#clip902)\" style=\"fill:#009af9; stroke:none; fill-opacity:0\" cx=\"1976.94\" cy=\"1425.64\" r=\"2\"/>\n",
       "<circle clip-path=\"url(#clip902)\" style=\"fill:#009af9; stroke:none; fill-opacity:0\" cx=\"2079.22\" cy=\"1456.04\" r=\"2\"/>\n",
       "<circle clip-path=\"url(#clip902)\" style=\"fill:#009af9; stroke:none; fill-opacity:0\" cx=\"2181.51\" cy=\"1445.91\" r=\"2\"/>\n",
       "<path clip-path=\"url(#clip900)\" d=\"M2009.17 198.898 L2279.97 198.898 L2279.97 95.2176 L2009.17 95.2176  Z\" fill=\"#ffffff\" fill-rule=\"evenodd\" fill-opacity=\"1\"/>\n",
       "<polyline clip-path=\"url(#clip900)\" style=\"stroke:#000000; stroke-linecap:round; stroke-linejoin:round; stroke-width:4; stroke-opacity:1; fill:none\" points=\"2009.17,198.898 2279.97,198.898 2279.97,95.2176 2009.17,95.2176 2009.17,198.898 \"/>\n",
       "<path clip-path=\"url(#clip900)\" d=\"M2033.44 167.794 L2179.01 167.794 L2179.01 126.322 L2033.44 126.322 L2033.44 167.794  Z\" fill=\"#009af9\" fill-rule=\"evenodd\" fill-opacity=\"1\"/>\n",
       "<polyline clip-path=\"url(#clip900)\" style=\"stroke:#000000; stroke-linecap:round; stroke-linejoin:round; stroke-width:4; stroke-opacity:1; fill:none\" points=\"2033.44,167.794 2179.01,167.794 2179.01,126.322 2033.44,126.322 2033.44,167.794 \"/>\n",
       "<path clip-path=\"url(#clip900)\" d=\"M2217.12 166.745 Q2215.31 171.375 2213.6 172.787 Q2211.89 174.199 2209.02 174.199 L2205.61 174.199 L2205.61 170.634 L2208.11 170.634 Q2209.87 170.634 2210.84 169.8 Q2211.82 168.967 2213 165.865 L2213.76 163.921 L2203.28 138.412 L2207.79 138.412 L2215.89 158.689 L2223.99 138.412 L2228.51 138.412 L2217.12 166.745 Z\" fill=\"#000000\" fill-rule=\"nonzero\" fill-opacity=\"1\" /><path clip-path=\"url(#clip900)\" d=\"M2235.8 160.402 L2243.44 160.402 L2243.44 134.037 L2235.13 135.703 L2235.13 131.444 L2243.39 129.778 L2248.07 129.778 L2248.07 160.402 L2255.71 160.402 L2255.71 164.338 L2235.8 164.338 L2235.8 160.402 Z\" fill=\"#000000\" fill-rule=\"nonzero\" fill-opacity=\"1\" /></svg>\n"
      ]
     },
     "execution_count": 108,
     "metadata": {},
     "output_type": "execute_result"
    }
   ],
   "source": [
    "n = []\n",
    "for i in 1:1000\n",
    "    train, test= train_test_split(encoded_train,0.1)\n",
    "\n",
    "    X_train =  Matrix(train[:, Not(:consommation)])\n",
    "    y_train = train.consommation\n",
    "    X_test = Matrix(test[:, Not(:consommation)])\n",
    "    y_test = test.consommation\n",
    "\n",
    "\n",
    "    model = RandomForestClassifier(n_subfeatures=6, n_trees=10,min_samples_leaf=1,min_purity_increase=0.0, max_depth=10, min_samples_split=6)\n",
    "    DecisionTree.fit!(model, X_train, y_train)\n",
    "    y_pred = DecisionTree.predict(model, X_test)\n",
    "    push!(n,sqrt(mean((y_pred - test.consommation).^2)))\n",
    "\n",
    "end\n",
    "histogram(n)"
   ]
  },
  {
   "cell_type": "code",
   "execution_count": 105,
   "metadata": {},
   "outputs": [
    {
     "name": "stdout",
     "output_type": "stream",
     "text": [
      "[7.973639589310716, 7.953110297911062, 10.170543036241767, 12.872409612300913, 10.0277118627438, 10.137304061234333, 13.33143643165217, 11.740898612927271, 11.357740184236619, 10.931690733884684, 8.858893079026853, 11.135459199385968, 10.638507053693628, 11.050155137413082, 12.872409612300913, 7.631137800097925, 8.102868212161418, 9.554486548846537, 10.028006762385225, 11.58474599573623, 10.273184421481496, 9.886162494262877, 7.4919492513726915, 8.15093472469588, 9.31588692246878, 13.083156300307687, 13.054463682166752, 11.453208931635112, 9.061998191212165, 13.01996285674086, 7.479806404498584, 10.379267448402802, 10.684923330019002, 10.89133213309198, 14.18057444256545, 9.531364604555966, 10.3711002600789, 10.813633778895841, 9.620434593894275, 11.318770761611878, 9.944927906469976, 10.963805949960195, 10.684923330019002, 11.271634246566421, 11.041698405917426, 11.370574294863433, 11.453754239686413, 9.723783026550409, 8.956006614236996, 13.01996285674086, 10.297757461445542, 11.321463157186626, 11.370574294863433, 13.36355249034743, 11.039722568366308, 8.78394471491164, 7.565685188117896, 9.156811256513995, 12.725139368293531, 13.006881825020464, 10.653492683286355, 10.756873168559876, 12.048430277103524, 10.799354791740832, 13.36355249034743, 11.118640421431337, 10.030139968409069, 11.231576494221704, 10.65982903739801, 10.234908776346778, 7.093077722927052, 11.200977945036628, 7.938154767940276, 10.030139968409069, 10.684923330019002, 14.18057444256545, 10.978074784764202, 10.078205038063198, 10.819869324550558]\n",
      "[7.84033333333333, 7.84033333333333, 10.2265217391304, 13.0672222222222, 10.2265217391304, 10.2265217391304, 13.0672222222222, 11.7605, 11.2004761904762, 10.6913636363636, 8.71148148148148, 11.2004761904762, 10.6913636363636, 11.2004761904762, 13.0672222222222, 7.58741935483871, 8.11068965517241, 9.4084, 10.2265217391304, 11.7605, 10.2265217391304, 9.80041666666667, 7.58741935483871, 8.11068965517241, 9.4084, 13.0672222222222, 13.0672222222222, 11.2004761904762, 9.04653846153846, 13.0672222222222, 7.58741935483871, 10.2265217391304, 10.6913636363636, 10.6913636363636, 13.8358823529412, 9.4084, 10.2265217391304, 10.6913636363636, 9.80041666666667, 11.2004761904762, 9.80041666666667, 11.2004761904762, 10.6913636363636, 11.2004761904762, 11.2004761904762, 11.2004761904762, 11.2004761904762, 9.80041666666667, 9.04653846153846, 13.0672222222222, 10.2265217391304, 11.2004761904762, 11.2004761904762, 13.0672222222222, 11.2004761904762, 8.71148148148148, 7.58741935483871, 9.04653846153846, 13.0672222222222, 13.0672222222222, 10.6913636363636, 10.6913636363636, 11.7605, 10.6913636363636, 13.0672222222222, 11.2004761904762, 10.2265217391304, 11.2004761904762, 10.6913636363636, 10.2265217391304, 7.12757575757576, 11.2004761904762, 7.84033333333333, 10.2265217391304, 10.6913636363636, 13.8358823529412, 11.2004761904762, 10.2265217391304, 10.6913636363636]\n",
      "[7.58741935483871, 7.84033333333333, 9.80041666666667, 13.8358823529412, 10.2265217391304, 10.2265217391304, 13.0672222222222, 11.7605, 11.7605, 13.0672222222222, 8.40035714285714, 10.6913636363636, 10.2265217391304, 9.80041666666667, 12.3794736842105, 8.40035714285714, 7.58741935483871, 9.80041666666667, 10.2265217391304, 11.2004761904762, 8.11068965517241, 10.6913636363636, 8.11068965517241, 7.84033333333333, 8.40035714285714, 13.0672222222222, 14.700625, 11.7605, 8.40035714285714, 13.0672222222222, 4.52326923076923, 10.2265217391304, 10.2265217391304, 10.6913636363636, 14.700625, 9.4084, 10.2265217391304, 9.80041666666667, 9.80041666666667, 11.2004761904762, 9.80041666666667, 11.2004761904762, 10.6913636363636, 11.7605, 11.2004761904762, 11.7605, 11.7605, 8.40035714285714, 7.58741935483871, 13.0672222222222, 9.80041666666667, 11.2004761904762, 10.6913636363636, 13.0672222222222, 11.7605, 9.4084, 7.58741935483871, 8.71148148148148, 12.3794736842105, 13.0672222222222, 10.6913636363636, 9.4084, 13.0672222222222, 12.3794736842105, 13.0672222222222, 11.2004761904762, 9.80041666666667, 9.80041666666667, 10.6913636363636, 11.2004761904762, 7.84033333333333, 11.7605, 8.11068965517241, 10.2265217391304, 10.6913636363636, 14.700625, 10.2265217391304, 9.80041666666667, 10.2265217391304]\n"
     ]
    }
   ],
   "source": [
    "println(y_pred)\n",
    "println(y_pred_adjusted)\n",
    "println(test.consommation)"
   ]
  },
  {
   "cell_type": "code",
   "execution_count": 92,
   "metadata": {},
   "outputs": [
    {
     "data": {
      "text/plain": [
       "25-element Vector{Float64}:\n",
       " 13.8358823529412\n",
       "  9.80041666666667\n",
       " 11.7605\n",
       " 13.0672222222222\n",
       "  7.3503125\n",
       "  7.58741935483871\n",
       " 11.2004761904762\n",
       " 14.700625\n",
       " 12.3794736842105\n",
       " 10.6913636363636\n",
       "  9.4084\n",
       " 15.6806666666667\n",
       "  8.71148148148148\n",
       "  8.11068965517241\n",
       " 10.2265217391304\n",
       "  7.84033333333333\n",
       "  8.40035714285714\n",
       "  9.04653846153846\n",
       " 16.8007142857143\n",
       "  6.91794117647059\n",
       "  6.35702702702703\n",
       "  4.52326923076923\n",
       "  7.12757575757576\n",
       "  4.90020833333333\n",
       "  6.53361111111111"
      ]
     },
     "execution_count": 92,
     "metadata": {},
     "output_type": "execute_result"
    }
   ],
   "source": [
    "possibles"
   ]
  },
  {
   "cell_type": "code",
   "execution_count": 77,
   "metadata": {},
   "outputs": [
    {
     "name": "stdout",
     "output_type": "stream",
     "text": [
      "6.6312315702629485\n"
     ]
    }
   ],
   "source": [
    "n = 0\n",
    "for i in 1:100\n",
    "    train, test= train_test_split(encoded_train)\n",
    "\n",
    "    X_train =  Matrix(train[:, Not(:consommation)])\n",
    "    y_train = train.consommation\n",
    "    X_test = Matrix(test[:, Not(:consommation)])\n",
    "    y_test = test.consommation\n",
    "\n",
    "\n",
    "    model = RandomForestRegressor(n_subfeatures=12, n_trees=600,min_samples_leaf=1,min_purity_increase=0.0, max_depth=10, min_samples_split=6)\n",
    "    DecisionTree.fit!(model, X_train, y_train)\n",
    "    y_pred = DecisionTree.predict(model, X_test)\n",
    "    #println(y_pred)\n",
    "    y_pred_adjusted = map(x -> findnearest(possibles,x),y_pred)\n",
    "    n += sqrt(mean((y_pred_adjusted - test.consommation).^2))\n",
    "end\n",
    "println(n/100)"
   ]
  },
  {
   "cell_type": "code",
   "execution_count": 128,
   "metadata": {},
   "outputs": [
    {
     "data": {
      "text/plain": [
       "79×23 Matrix{Float64}:\n",
       "  6.0  8.0  3.8  36.4  0.0  1.0  0.0  …  0.0  1.0  0.0  0.0  0.0  1.0  0.0\n",
       "  7.0  4.0  1.3   6.4  0.0  0.0  0.0     0.0  0.0  1.0  0.0  0.0  1.0  0.0\n",
       "  3.0  4.0  0.8   4.4  0.0  1.0  0.0     0.0  0.0  0.0  1.0  0.0  1.0  0.0\n",
       "  2.0  4.0  1.3   6.4  1.0  0.0  0.0     0.0  0.0  0.0  1.0  0.0  0.0  1.0\n",
       "  9.0  4.0  1.3   6.4  0.0  0.0  0.0     0.0  1.0  0.0  0.0  0.0  1.0  0.0\n",
       "  6.0  4.0  0.8   4.4  0.0  1.0  0.0  …  0.0  1.0  0.0  0.0  0.0  1.0  0.0\n",
       "  7.0  4.0  0.4   2.8  0.0  0.0  1.0     0.0  0.0  0.0  1.0  0.0  0.0  1.0\n",
       "  0.0  4.0  1.2   6.0  0.0  1.0  0.0     0.0  0.0  0.0  0.0  1.0  1.0  0.0\n",
       "  0.0  6.0  2.1  16.2  0.0  1.0  0.0     0.0  0.0  0.0  1.0  0.0  1.0  0.0\n",
       "  9.0  4.0  1.3   6.4  0.0  1.0  0.0     0.0  1.0  0.0  0.0  0.0  1.0  0.0\n",
       "  9.0  8.0  3.8  36.4  0.0  0.0  0.0  …  0.0  0.0  1.0  0.0  0.0  1.0  0.0\n",
       "  9.0  3.0  0.3   0.9  0.0  0.0  0.0     0.0  0.0  0.0  1.0  0.0  0.0  1.0\n",
       "  8.0  4.0  0.8   4.4  0.0  0.0  0.0     0.0  0.0  0.0  1.0  0.0  0.0  1.0\n",
       "  ⋮                         ⋮         ⋱                      ⋮         \n",
       "  7.0  8.0  3.8  36.4  0.0  0.0  0.0     0.0  1.0  0.0  0.0  0.0  1.0  0.0\n",
       " 10.0  4.0  0.8   4.4  0.0  0.0  0.0     0.0  0.0  0.0  1.0  0.0  1.0  0.0\n",
       "  5.0  6.0  2.3  17.4  0.0  0.0  0.0     0.0  0.0  0.0  1.0  0.0  1.0  0.0\n",
       "  4.0  4.0  0.8   4.4  0.0  0.0  1.0  …  0.0  0.0  1.0  0.0  0.0  0.0  1.0\n",
       "  8.0  6.0  2.3  17.4  0.0  0.0  0.0     0.0  0.0  0.0  1.0  0.0  1.0  0.0\n",
       "  5.0  8.0  4.5  42.0  0.0  0.0  0.0     0.0  0.0  0.0  0.0  1.0  1.0  0.0\n",
       "  5.0  4.0  0.8   4.4  0.0  0.0  1.0     0.0  0.0  1.0  0.0  0.0  0.0  1.0\n",
       "  4.0  4.0  0.8   4.4  0.0  0.0  0.0     0.0  0.0  1.0  0.0  0.0  1.0  0.0\n",
       "  4.0  6.0  1.8  14.4  0.0  0.0  0.0  …  0.0  0.0  1.0  0.0  0.0  1.0  0.0\n",
       "  2.0  4.0  0.6   3.6  0.0  1.0  0.0     0.0  1.0  0.0  0.0  0.0  1.0  0.0\n",
       "  9.0  8.0  3.2  31.6  0.0  0.0  0.0     0.0  1.0  0.0  0.0  0.0  1.0  0.0\n",
       "  4.0  6.0  1.8  14.4  0.0  0.0  1.0     0.0  0.0  1.0  0.0  0.0  1.0  0.0"
      ]
     },
     "execution_count": 128,
     "metadata": {},
     "output_type": "execute_result"
    }
   ],
   "source": [
    "X_test"
   ]
  },
  {
   "cell_type": "code",
   "execution_count": 117,
   "metadata": {},
   "outputs": [
    {
     "data": {
      "text/plain": [
       "1.2"
      ]
     },
     "execution_count": 117,
     "metadata": {},
     "output_type": "execute_result"
    }
   ],
   "source": [
    "minimum(trainData.cylindree)"
   ]
  },
  {
   "cell_type": "code",
   "execution_count": null,
   "metadata": {},
   "outputs": [],
   "source": [
    "\n",
    "res = []\n",
    "for i in 1:20\n",
    "    n = 0\n",
    "    for i in 1:10\n",
    "        model = RandomForestRegressor(n_trees=i)\n",
    "    DecisionTree.fit!(model, X_train, y_train)\n",
    "    y_pred = DecisionTree.predict(model, X_test)\n",
    "    n += sqrt(mean((y_pred - y_test).^2))\n",
    "    end\n",
    "    push!(res,n/10)\n",
    "end\n",
    "\n",
    "\n",
    "\n",
    "# display the grid\n",
    "plot(1:20, res, label=\"RandomForestRegressor\", xlabel=\"n_trees\", ylabel=\"RMSE\", title=\"RandomForestRegressor RMSE vs n_trees\")"
   ]
  },
  {
   "cell_type": "code",
   "execution_count": null,
   "metadata": {},
   "outputs": [],
   "source": [
    "\n",
    "res = []\n",
    "for i in 1:23\n",
    "    n = 0\n",
    "    for j in 1:10\n",
    "        model = RandomForestRegressor(n_subfeatures=i)\n",
    "    DecisionTree.fit!(model, X_train, y_train)\n",
    "    y_pred = DecisionTree.predict(model, X_test)\n",
    "    n += sqrt(mean((y_pred - test.consommation).^2))\n",
    "    end\n",
    "    push!(res,n/10)\n",
    "end\n",
    "\n",
    "\n",
    "\n",
    "# display the grid\n",
    "plot(1:23, res, label=\"RandomForestRegressor\", xlabel=\"n_subfeatures\", ylabel=\"RMSE\", title=\"RandomForestRegressor RMSE vs n_trees\")"
   ]
  },
  {
   "cell_type": "code",
   "execution_count": null,
   "metadata": {},
   "outputs": [],
   "source": [
    "res = []\n",
    "for i in 1:23\n",
    "    n = 0\n",
    "    for j in 1:10\n",
    "        model = RandomForestRegressor(min_samples_leaf=i)\n",
    "    DecisionTree.fit!(model, X_train, y_train)\n",
    "    y_pred = DecisionTree.predict(model, X_test)\n",
    "    n += sqrt(mean((y_pred - test.consommation).^2))\n",
    "    end\n",
    "    push!(res,n/10)\n",
    "end\n",
    "\n",
    "\n",
    "\n",
    "# display the grid\n",
    "plot(1:23, res, label=\"RandomForestRegressor\", xlabel=\"min_samples_leaf\", ylabel=\"RMSE\", title=\"RandomForestRegressor RMSE vs n_trees\")"
   ]
  },
  {
   "cell_type": "code",
   "execution_count": null,
   "metadata": {},
   "outputs": [],
   "source": [
    "res = []\n",
    "for i in 1:23\n",
    "    n = 0\n",
    "    for j in 1:10\n",
    "        model = RandomForestRegressor(min_purity_increase=i)\n",
    "    DecisionTree.fit!(model, X_train, y_train)\n",
    "    y_pred = DecisionTree.predict(model, X_test)\n",
    "    n += sqrt(mean((y_pred - test.consommation).^2))\n",
    "    end\n",
    "    push!(res,n/10)\n",
    "end\n",
    "\n",
    "\n",
    "\n",
    "# display the grid\n",
    "plot(1:23, res, label=\"RandomForestRegressor\", xlabel=\"min_samples_leaf\", ylabel=\"RMSE\", title=\"RandomForestRegressor RMSE vs n_trees\")"
   ]
  },
  {
   "cell_type": "code",
   "execution_count": null,
   "metadata": {},
   "outputs": [],
   "source": [
    "res = []\n",
    "for i in 2:23\n",
    "    n = 0\n",
    "    for j in 1:10\n",
    "        model = RandomForestRegressor(min_samples_split=i)\n",
    "    DecisionTree.fit!(model, X_train, y_train)\n",
    "    y_pred = DecisionTree.predict(model, X_test)\n",
    "    n += sqrt(mean((y_pred - test.consommation).^2))\n",
    "    end\n",
    "    push!(res,n/10)\n",
    "end\n",
    "\n",
    "\n",
    "\n",
    "# display the grid\n",
    "plot(2:23, res, label=\"RandomForestRegressor\", xlabel=\"min_samples_leaf\", ylabel=\"RMSE\", title=\"RandomForestRegressor RMSE vs n_trees\")"
   ]
  },
  {
   "cell_type": "code",
   "execution_count": 119,
   "metadata": {},
   "outputs": [
    {
     "data": {
      "text/latex": [
       "\\begin{verbatim}\n",
       "RandomForestRegressor(; n_subfeatures::Int=-1,\n",
       "                      n_trees::Int=10,\n",
       "                      partial_sampling::Float=0.7,\n",
       "                      max_depth::Int=-1,\n",
       "                      min_samples_leaf::Int=5,\n",
       "                      rng=Random.GLOBAL_RNG,\n",
       "                      impurity_importance::Bool=true)\n",
       "\\end{verbatim}\n",
       "Random forest regression. See \\href{https://github.com/bensadeghi/DecisionTree.jl}{DecisionTree.jl's documentation}\n",
       "\n",
       "Hyperparameters:\n",
       "\n",
       "\\begin{itemize}\n",
       "\\item \\texttt{n\\_subfeatures}: number of features to consider at random per split (default: -1, sqrt(\\# features))\n",
       "\n",
       "\n",
       "\\item \\texttt{n\\_trees}: number of trees to train (default: 10)\n",
       "\n",
       "\n",
       "\\item \\texttt{partial\\_sampling}: fraction of samples to train each tree on (default: 0.7)\n",
       "\n",
       "\n",
       "\\item \\texttt{max\\_depth}: maximum depth of the decision trees (default: no maximum)\n",
       "\n",
       "\n",
       "\\item \\texttt{min\\_samples\\_leaf}: the minimum number of samples each leaf needs to have (default: 5)\n",
       "\n",
       "\n",
       "\\item \\texttt{min\\_samples\\_split}: the minimum number of samples in needed for a split\n",
       "\n",
       "\n",
       "\\item \\texttt{min\\_purity\\_increase}: minimum purity needed for a split\n",
       "\n",
       "\n",
       "\\item \\texttt{rng}: the random number generator to use. Can be an \\texttt{Int}, which will be used to seed and create a new random number generator. Multi-threaded forests must be seeded with an \\texttt{Int}\n",
       "\n",
       "\n",
       "\\item \\texttt{impurity\\_importance}: whether to calculate feature importances using \\texttt{Mean Decrease in Impurity (MDI)}. See \\href{@ref}{\\texttt{DecisionTree.impurity\\_importance}}.\n",
       "\n",
       "\\end{itemize}\n",
       "Implements \\texttt{fit!}, \\texttt{predict}, \\texttt{get\\_classes}\n",
       "\n"
      ],
      "text/markdown": [
       "```\n",
       "RandomForestRegressor(; n_subfeatures::Int=-1,\n",
       "                      n_trees::Int=10,\n",
       "                      partial_sampling::Float=0.7,\n",
       "                      max_depth::Int=-1,\n",
       "                      min_samples_leaf::Int=5,\n",
       "                      rng=Random.GLOBAL_RNG,\n",
       "                      impurity_importance::Bool=true)\n",
       "```\n",
       "\n",
       "Random forest regression. See [DecisionTree.jl's documentation](https://github.com/bensadeghi/DecisionTree.jl)\n",
       "\n",
       "Hyperparameters:\n",
       "\n",
       "  * `n_subfeatures`: number of features to consider at random per split (default: -1, sqrt(# features))\n",
       "  * `n_trees`: number of trees to train (default: 10)\n",
       "  * `partial_sampling`: fraction of samples to train each tree on (default: 0.7)\n",
       "  * `max_depth`: maximum depth of the decision trees (default: no maximum)\n",
       "  * `min_samples_leaf`: the minimum number of samples each leaf needs to have (default: 5)\n",
       "  * `min_samples_split`: the minimum number of samples in needed for a split\n",
       "  * `min_purity_increase`: minimum purity needed for a split\n",
       "  * `rng`: the random number generator to use. Can be an `Int`, which will be used to seed and create a new random number generator. Multi-threaded forests must be seeded with an `Int`\n",
       "  * `impurity_importance`: whether to calculate feature importances using `Mean Decrease in Impurity (MDI)`. See [`DecisionTree.impurity_importance`](@ref).\n",
       "\n",
       "Implements `fit!`, `predict`, `get_classes`\n"
      ],
      "text/plain": [
       "\u001b[36m  RandomForestRegressor(; n_subfeatures::Int=-1,\u001b[39m\n",
       "\u001b[36m                        n_trees::Int=10,\u001b[39m\n",
       "\u001b[36m                        partial_sampling::Float=0.7,\u001b[39m\n",
       "\u001b[36m                        max_depth::Int=-1,\u001b[39m\n",
       "\u001b[36m                        min_samples_leaf::Int=5,\u001b[39m\n",
       "\u001b[36m                        rng=Random.GLOBAL_RNG,\u001b[39m\n",
       "\u001b[36m                        impurity_importance::Bool=true)\u001b[39m\n",
       "\n",
       "  Random forest regression. See DecisionTree.jl's documentation\n",
       "  (https://github.com/bensadeghi/DecisionTree.jl)\n",
       "\n",
       "  Hyperparameters:\n",
       "\n",
       "    •  \u001b[36mn_subfeatures\u001b[39m: number of features to consider at random per split\n",
       "       (default: -1, sqrt(# features))\n",
       "\n",
       "    •  \u001b[36mn_trees\u001b[39m: number of trees to train (default: 10)\n",
       "\n",
       "    •  \u001b[36mpartial_sampling\u001b[39m: fraction of samples to train each tree on\n",
       "       (default: 0.7)\n",
       "\n",
       "    •  \u001b[36mmax_depth\u001b[39m: maximum depth of the decision trees (default: no\n",
       "       maximum)\n",
       "\n",
       "    •  \u001b[36mmin_samples_leaf\u001b[39m: the minimum number of samples each leaf needs to\n",
       "       have (default: 5)\n",
       "\n",
       "    •  \u001b[36mmin_samples_split\u001b[39m: the minimum number of samples in needed for a\n",
       "       split\n",
       "\n",
       "    •  \u001b[36mmin_purity_increase\u001b[39m: minimum purity needed for a split\n",
       "\n",
       "    •  \u001b[36mrng\u001b[39m: the random number generator to use. Can be an \u001b[36mInt\u001b[39m, which will\n",
       "       be used to seed and create a new random number generator.\n",
       "       Multi-threaded forests must be seeded with an \u001b[36mInt\u001b[39m\n",
       "\n",
       "    •  \u001b[36mimpurity_importance\u001b[39m: whether to calculate feature importances\n",
       "       using \u001b[36mMean Decrease in Impurity (MDI)\u001b[39m. See\n",
       "       \u001b[36mDecisionTree.impurity_importance\u001b[39m.\n",
       "\n",
       "  Implements \u001b[36mfit!\u001b[39m, \u001b[36mpredict\u001b[39m, \u001b[36mget_classes\u001b[39m"
      ]
     },
     "execution_count": 119,
     "metadata": {},
     "output_type": "execute_result"
    }
   ],
   "source": [
    "@doc RandomForestRegressor"
   ]
  },
  {
   "cell_type": "code",
   "execution_count": 488,
   "metadata": {},
   "outputs": [
    {
     "data": {
      "text/latex": [
       "\\begin{verbatim}\n",
       "DecisionTreeRegressor(; pruning_purity_threshold=0.0,\n",
       "                      max_depth::Int-1,\n",
       "                      min_samples_leaf::Int=5,\n",
       "                      min_samples_split::Int=2,\n",
       "                      min_purity_increase::Float=0.0,\n",
       "                      n_subfeatures::Int=0,\n",
       "                      rng=Random.GLOBAL_RNG,\n",
       "                      impurity_importance::Bool=true)\n",
       "\\end{verbatim}\n",
       "Decision tree regression. See \\href{https://github.com/bensadeghi/DecisionTree.jl}{DecisionTree.jl's documentation}\n",
       "\n",
       "Hyperparameters:\n",
       "\n",
       "\\begin{itemize}\n",
       "\\item \\texttt{pruning\\_purity\\_threshold}: (post-pruning) merge leaves having \\texttt{>=thresh} combined purity (default: no pruning). This accuracy-based method may not be appropriate for regression tree.\n",
       "\n",
       "\n",
       "\\item \\texttt{max\\_depth}: maximum depth of the decision tree (default: no maximum)\n",
       "\n",
       "\n",
       "\\item \\texttt{min\\_samples\\_leaf}: the minimum number of samples each leaf needs to have (default: 5)\n",
       "\n",
       "\n",
       "\\item \\texttt{min\\_samples\\_split}: the minimum number of samples in needed for a split (default: 2)\n",
       "\n",
       "\n",
       "\\item \\texttt{min\\_purity\\_increase}: minimum purity needed for a split (default: 0.0)\n",
       "\n",
       "\n",
       "\\item \\texttt{n\\_subfeatures}: number of features to select at random (default: keep all)\n",
       "\n",
       "\n",
       "\\item \\texttt{rng}: the random number generator to use. Can be an \\texttt{Int}, which will be used to seed and create a new random number generator.\n",
       "\n",
       "\n",
       "\\item \\texttt{impurity\\_importance}: whether to calculate feature importances using \\texttt{Mean Decrease in Impurity (MDI)}. See \\href{@ref}{\\texttt{DecisionTree.impurity\\_importance}}\n",
       "\n",
       "\\end{itemize}\n",
       "Implements \\texttt{fit!}, \\texttt{predict}, \\texttt{get\\_classes}\n",
       "\n"
      ],
      "text/markdown": [
       "```\n",
       "DecisionTreeRegressor(; pruning_purity_threshold=0.0,\n",
       "                      max_depth::Int-1,\n",
       "                      min_samples_leaf::Int=5,\n",
       "                      min_samples_split::Int=2,\n",
       "                      min_purity_increase::Float=0.0,\n",
       "                      n_subfeatures::Int=0,\n",
       "                      rng=Random.GLOBAL_RNG,\n",
       "                      impurity_importance::Bool=true)\n",
       "```\n",
       "\n",
       "Decision tree regression. See [DecisionTree.jl's documentation](https://github.com/bensadeghi/DecisionTree.jl)\n",
       "\n",
       "Hyperparameters:\n",
       "\n",
       "  * `pruning_purity_threshold`: (post-pruning) merge leaves having `>=thresh` combined purity (default: no pruning). This accuracy-based method may not be appropriate for regression tree.\n",
       "  * `max_depth`: maximum depth of the decision tree (default: no maximum)\n",
       "  * `min_samples_leaf`: the minimum number of samples each leaf needs to have (default: 5)\n",
       "  * `min_samples_split`: the minimum number of samples in needed for a split (default: 2)\n",
       "  * `min_purity_increase`: minimum purity needed for a split (default: 0.0)\n",
       "  * `n_subfeatures`: number of features to select at random (default: keep all)\n",
       "  * `rng`: the random number generator to use. Can be an `Int`, which will be used to seed and create a new random number generator.\n",
       "  * `impurity_importance`: whether to calculate feature importances using `Mean Decrease in Impurity (MDI)`. See [`DecisionTree.impurity_importance`](@ref)\n",
       "\n",
       "Implements `fit!`, `predict`, `get_classes`\n"
      ],
      "text/plain": [
       "\u001b[36m  DecisionTreeRegressor(; pruning_purity_threshold=0.0,\u001b[39m\n",
       "\u001b[36m                        max_depth::Int-1,\u001b[39m\n",
       "\u001b[36m                        min_samples_leaf::Int=5,\u001b[39m\n",
       "\u001b[36m                        min_samples_split::Int=2,\u001b[39m\n",
       "\u001b[36m                        min_purity_increase::Float=0.0,\u001b[39m\n",
       "\u001b[36m                        n_subfeatures::Int=0,\u001b[39m\n",
       "\u001b[36m                        rng=Random.GLOBAL_RNG,\u001b[39m\n",
       "\u001b[36m                        impurity_importance::Bool=true)\u001b[39m\n",
       "\n",
       "  Decision tree regression. See DecisionTree.jl's documentation\n",
       "  (https://github.com/bensadeghi/DecisionTree.jl)\n",
       "\n",
       "  Hyperparameters:\n",
       "\n",
       "    •  \u001b[36mpruning_purity_threshold\u001b[39m: (post-pruning) merge leaves having\n",
       "       \u001b[36m>=thresh\u001b[39m combined purity (default: no pruning). This\n",
       "       accuracy-based method may not be appropriate for regression tree.\n",
       "\n",
       "    •  \u001b[36mmax_depth\u001b[39m: maximum depth of the decision tree (default: no\n",
       "       maximum)\n",
       "\n",
       "    •  \u001b[36mmin_samples_leaf\u001b[39m: the minimum number of samples each leaf needs to\n",
       "       have (default: 5)\n",
       "\n",
       "    •  \u001b[36mmin_samples_split\u001b[39m: the minimum number of samples in needed for a\n",
       "       split (default: 2)\n",
       "\n",
       "    •  \u001b[36mmin_purity_increase\u001b[39m: minimum purity needed for a split (default:\n",
       "       0.0)\n",
       "\n",
       "    •  \u001b[36mn_subfeatures\u001b[39m: number of features to select at random (default:\n",
       "       keep all)\n",
       "\n",
       "    •  \u001b[36mrng\u001b[39m: the random number generator to use. Can be an \u001b[36mInt\u001b[39m, which will\n",
       "       be used to seed and create a new random number generator.\n",
       "\n",
       "    •  \u001b[36mimpurity_importance\u001b[39m: whether to calculate feature importances\n",
       "       using \u001b[36mMean Decrease in Impurity (MDI)\u001b[39m. See\n",
       "       \u001b[36mDecisionTree.impurity_importance\u001b[39m\n",
       "\n",
       "  Implements \u001b[36mfit!\u001b[39m, \u001b[36mpredict\u001b[39m, \u001b[36mget_classes\u001b[39m"
      ]
     },
     "execution_count": 488,
     "metadata": {},
     "output_type": "execute_result"
    }
   ],
   "source": [
    "@doc DecisionTreeRegressor"
   ]
  },
  {
   "cell_type": "code",
   "execution_count": null,
   "metadata": {},
   "outputs": [
    {
     "data": {
      "text/plain": [
       "1.1704408817014724"
      ]
     },
     "execution_count": 515,
     "metadata": {},
     "output_type": "execute_result"
    }
   ],
   "source": [
    "model = DecisionTreeRegressor(n_subfeatures=12, min_samples_leaf=1,min_purity_increase=0.0, max_depth=10, min_samples_split=6,)\n",
    "DecisionTree.fit!(model, X_train, y_train)\n",
    "y_pred = DecisionTree.predict(model, X_test)\n",
    "sqrt(mean((y_pred - test.consommation).^2))"
   ]
  },
  {
   "cell_type": "code",
   "execution_count": 456,
   "metadata": {},
   "outputs": [
    {
     "data": {
      "text/plain": [
       "79-element Vector{Float64}:\n",
       "  1.2240951129805515\n",
       "  0.17625130984704987\n",
       "  1.479696235370256\n",
       " -0.2607463003952433\n",
       "  1.5211869207713695\n",
       " -1.3097410769834612\n",
       " -1.376475788529015\n",
       " -1.3608160998913268\n",
       "  0.6165740389681241\n",
       " -1.2787160338849795\n",
       "  1.4209770672951387\n",
       "  1.7941338351390625\n",
       "  0.3887079431074021\n",
       "  ⋮\n",
       "  0.37544214897858164\n",
       " -1.5136770521451326\n",
       " -1.079500521944099\n",
       "  1.174229577971678\n",
       " -1.0333093095750074\n",
       " -0.01294650848269291\n",
       " -1.2879443398905748\n",
       " -1.4793632637667964\n",
       "  1.2431097360103887\n",
       " -1.304503701086083\n",
       " -0.8312720241469432\n",
       " -1.2995868865253335"
      ]
     },
     "execution_count": 456,
     "metadata": {},
     "output_type": "execute_result"
    }
   ],
   "source": [
    "y_pred"
   ]
  },
  {
   "cell_type": "code",
   "execution_count": 21,
   "metadata": {},
   "outputs": [
    {
     "data": {
      "text/plain": [
       "\"benchmark1.csv\""
      ]
     },
     "execution_count": 21,
     "metadata": {},
     "output_type": "execute_result"
    }
   ],
   "source": [
    "id = 1:150\n",
    "\n",
    "df_pred = DataFrame(id=id, consommation=res)\n",
    "\n",
    "CSV.write(\"benchmark1.csv\", df_pred)"
   ]
  }
 ],
 "metadata": {
  "kernelspec": {
   "display_name": "Julia 1.10.5",
   "language": "julia",
   "name": "julia-1.10"
  },
  "language_info": {
   "file_extension": ".jl",
   "mimetype": "application/julia",
   "name": "julia",
   "version": "1.10.5"
  }
 },
 "nbformat": 4,
 "nbformat_minor": 2
}
